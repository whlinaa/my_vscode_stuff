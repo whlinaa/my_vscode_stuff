{
 "cells": [
  {
   "cell_type": "markdown",
   "metadata": {},
   "source": [
    "# SEHH2239 questions\n",
    "- All your answers must be written in the provided answer sheet. No marks will be given if your answer is not written in the answer sheet. That is, You must NOT use your own A4 paper to write down your answer."
   ]
  },
  {
   "cell_type": "markdown",
   "metadata": {},
   "source": [
    "# Stack and queue"
   ]
  },
  {
   "cell_type": "markdown",
   "metadata": {},
   "source": [
    " Suppose that queue Q is initially empty. Write down the returned values (in order) of the following sequence of queue operations. enqueue(5), enqueue(3), dequeue(), enqueue(2), enqueue(8), dequeue(), enqueue(9), getFrontElement(), enqueue(1), dequeue(), enqueue(7), enqueue(6), getRearElement(), dequeue(), enqueue(4). Also, write down the values stored in the queue after all the above operations. \n",
    "\n",
    "6 marks"
   ]
  },
  {
   "cell_type": "code",
   "execution_count": null,
   "metadata": {},
   "outputs": [],
   "source": [
    "\n",
    "\"\"\"\n",
    "-   [5]\n",
    "-   [5,3]\n",
    "5   [3]\n",
    "-   [3,2]\n",
    "-   [3,2,8]\n",
    "3   [2,8]\n",
    "-   [2,8,9]\n",
    "2   [2,8,9]\n",
    "-   [2,8,9,1]\n",
    "2   [8,9,1]\n",
    "-   [8,9,1,7]\n",
    "-   [8,9,1,7,6]\n",
    "6   [8,9,1,7,6]\n",
    "8   [9,1,7,6]\n",
    "-   [9,1,7,6,4]\n",
    "\n",
    "\n",
    "So, returned values are 5,3,2,2,6,8.\n",
    "The values stored in the queue after all the above operations: [9,1,7,6,4]\n",
    "\"\"\"\n",
    "#-------------R6-7---------------------\n",
    "\"\"\"\n",
    "Return   Values in the Stack\n",
    "-        [5]\n",
    "-        [5,3]\n",
    "5        [3]\n",
    "-        [3,2]\n",
    "-        [3,2,8]\n",
    "3        [2,8]\n",
    "2        [8]\n",
    "-        [8,9]\n",
    "-        [8,9,1]\n",
    "8        [9,1]\n",
    "-        [9,1,7]\n",
    "-        [9,1,7,6]\n",
    "9        [1,7,6]\n",
    "1        [7,6]\n",
    "-        [7,6,4]\n",
    "7        [6,4]\n",
    "6        [4]\n",
    "\n",
    "\"\"\""
   ]
  },
  {
   "cell_type": "markdown",
   "metadata": {},
   "source": [
    " Suppose a stack S initially had 5 elements. Then, we executed operations on S: 25 push operations, R+5 peek operations, 3 empty operations, R+1 stack_size operations, and 10 pop operations, and 3 of the pop operations raised Empty error message that were caught and ignored. What is the size of S after all these operations? Explain.\n",
    " \n",
    "4 marks\n"
   ]
  },
  {
   "cell_type": "code",
   "execution_count": 2,
   "metadata": {},
   "outputs": [
    {
     "data": {
      "text/plain": [
       "'\\n5+25-(10-3) = 23\\n'"
      ]
     },
     "execution_count": 2,
     "metadata": {},
     "output_type": "execute_result"
    }
   ],
   "source": [
    "\"\"\"\n",
    "5+25-(10-3) = 23\n",
    "\"\"\""
   ]
  },
  {
   "cell_type": "markdown",
   "metadata": {},
   "source": [
    "# sorting"
   ]
  },
  {
   "cell_type": "markdown",
   "metadata": {},
   "source": [
    "Are there any sorting algorithms covered in our subject that can always run in O(n) time for a sorted sequence of n numbers? If there are, state all these sorting algorithm(s). If no, state no.\n",
    "\n",
    "3 marks\n"
   ]
  },
  {
   "cell_type": "code",
   "execution_count": null,
   "metadata": {},
   "outputs": [],
   "source": [
    "\"\"\"\n",
    "insertion sort\n",
    "selection sort with early termination\n",
    "bubble sort with early termination\n",
    "\"\"\""
   ]
  },
  {
   "cell_type": "markdown",
   "metadata": {},
   "source": [
    "# Heap"
   ]
  },
  {
   "cell_type": "markdown",
   "metadata": {},
   "source": [
    "6.1-6\n",
    "Is the array with values [1,3,7,9,10,21,13,44,99,10,10,20] a min-heap? If yes, explain why. If no, state clearly the index(s) of the array element(s) that make(s) the array not a min-heap. \n",
    "\n",
    "(4 marks)"
   ]
  },
  {
   "cell_type": "code",
   "execution_count": null,
   "metadata": {},
   "outputs": [],
   "source": [
    "\"\"\"\n",
    "no, since A[11]< A[parent(11)]\n",
    "\"\"\""
   ]
  },
  {
   "cell_type": "markdown",
   "metadata": {},
   "source": [
    "Draw the resulting tree and array after calling max_heapify(input=a, index=0) on the array a=[1,12,11,5,6,9,8,4,3,2,0]. Note that the function max_heapify assumes the index of the first element is 0.\n",
    "\n",
    "(4 marks)"
   ]
  },
  {
   "cell_type": "markdown",
   "metadata": {},
   "source": [
    "12.2-4. \"Given a binary search tree T. Suppose that we search for the key k in T and we end up in a leaf. Now we consider three sets. Set X contains the keys to the left of the search path of finding key k. Set Y contains the keys on the search path. Set Z contains the keys to the right of the search path. any three keys z in Z, y in Y and z in Z must satisfy x<=y<=z.\"\n",
    "\n",
    "Is the claim above true? If true, explain why. If false, draw a smallest possible counterexample and then explain.\n",
    "\n",
    "\n",
    "(5 marks)"
   ]
  },
  {
   "cell_type": "markdown",
   "metadata": {},
   "source": [
    "# tree"
   ]
  },
  {
   "cell_type": "markdown",
   "metadata": {},
   "source": [
    "Given the inorder and postorder traversal of the binary tree T, is it possible to uniquely determine the binary tree T? If yes, draw the tree. If not, explain why. \n",
    "\n",
    "inorder: 2,0,1,7,4,3,5,12\n",
    "postoder: 0,2,1,5,12,3,4,7\n",
    "\n",
    "(8 marks)"
   ]
  },
  {
   "cell_type": "code",
   "execution_count": null,
   "metadata": {},
   "outputs": [],
   "source": [
    "yes."
   ]
  },
  {
   "cell_type": "markdown",
   "metadata": {},
   "source": [
    "# BST"
   ]
  },
  {
   "cell_type": "markdown",
   "metadata": {},
   "source": [
    "2009 Fall: Insert the following numbers into an empty binary search tree: {44, 65, 35, 30, 49, 47, 42, 55, 48}\n",
    "on the tree obtained, \n",
    "\n",
    "From the tree obtained in (a), draw the resultant tree after performing deletion operation: delete 65. Use the successor for replacement.\n",
    "\n",
    "From the tree obtained in (b), draw the resultant tree after performing deletion operation: delete 44. Use the predecessor for replacement.\n",
    "\n",
    "delete 65\n",
    "delete 44"
   ]
  },
  {
   "cell_type": "markdown",
   "metadata": {},
   "source": [
    "# AVL tree"
   ]
  },
  {
   "cell_type": "markdown",
   "metadata": {},
   "source": [
    "given a AVL tree, show the result after insertion of 52\n",
    "\n",
    "given a AVL tree, show the result after deletion of 62"
   ]
  },
  {
   "cell_type": "code",
   "execution_count": null,
   "metadata": {},
   "outputs": [],
   "source": [
    "You must also give the balance factor of each node. Note that \n",
    "\n",
    "balance factor of a node i = height of left subtree of i – height of right subtree of i.\n"
   ]
  },
  {
   "cell_type": "markdown",
   "metadata": {},
   "source": [
    "# complexity"
   ]
  },
  {
   "cell_type": "markdown",
   "metadata": {},
   "source": [
    "Order the following functions by asymptotic growth rate. Note that n is a variable, and all log is in base 2. \n",
    "\n",
    "4nlogn + 2n\n",
    "2^(2239)+n^(0.001)\n",
    "2^(3log n + 10)\n",
    "4n - n^2\n",
    "0.001^(n-100)\n",
    "\\sum_{i=1}^n e^10*(i+2)\n",
    "n^sqrt(n)\n",
    "\n",
    "(7 marks)\n"
   ]
  },
  {
   "cell_type": "code",
   "execution_count": null,
   "metadata": {},
   "outputs": [],
   "source": [
    "\"\"\"2, 4, 1, 6, 3, 5, 7\"\"\""
   ]
  },
  {
   "cell_type": "markdown",
   "metadata": {},
   "source": [
    "find the running time of the following function in terms of n. At the end, give the running time in terms of big-O notation. Show your steps.\n",
    "\n",
    "(7 marks)\n"
   ]
  },
  {
   "cell_type": "code",
   "execution_count": null,
   "metadata": {},
   "outputs": [],
   "source": [
    "def foo(n):\n",
    "    k = 1\n",
    "    for i in range(n):\n",
    "        for j in range(k):\n",
    "            print(\"SEHH2239\")\n",
    "        k = 4*k\n",
    "    for i in range(3*n):\n",
    "        for j in range(10):\n",
    "            print(\"SEHH2239\")"
   ]
  },
  {
   "cell_type": "markdown",
   "metadata": {},
   "source": [
    "# coding part"
   ]
  },
  {
   "cell_type": "markdown",
   "metadata": {},
   "source": [
    "Suppose you are given k sorted lists. Give an O(nlog k) algorithm that merge them into one single sorted list (Question 6.5-9)"
   ]
  },
  {
   "cell_type": "markdown",
   "metadata": {},
   "source": [
    "merge_two_list? \n",
    "https://leetcode.com/problems/merge-two-sorted-lists/"
   ]
  },
  {
   "cell_type": "markdown",
   "metadata": {},
   "source": [
    "Write a function to delete a node in a singly-linked list. You will not be given access to the head of the list, instead you will be given access to the node to be deleted directly.\n",
    "\n",
    "It is guaranteed that the node to be deleted is not a tail node in the list."
   ]
  },
  {
   "cell_type": "code",
   "execution_count": null,
   "metadata": {},
   "outputs": [],
   "source": [
    "class Stack:\n",
    "    def __init__(self):\n",
    "        data = []\n",
    "    def push(self, val):\n",
    "        self.data.append(val)\n",
    "    def pop(self):\n",
    "        return self.data.pop()\n",
    "\n",
    "class Node:\n",
    "    def __init__(self, element, next=None):\n",
    "        self.element = element\n",
    "        self.next = next\n",
    "\n",
    "class TreeNode:\n",
    "    def __init__(self, element, next=None):\n",
    "        self.element = element\n",
    "        self.left = next\n",
    "\n",
    "class LinkedList:\n",
    "    def __init__(self):\n",
    "        self.head = None \n",
    "    \n",
    "    def delete_node(self, node):\n",
    "        # Your code for part (a) should be put here\n",
    "        node.element = node.next.element\n",
    "        node.next = node.next.next\n",
    "        pass\n",
    "\n",
    "    def reverse_list(self, head):\n",
    "        # Your code for part (b) should be put here\n",
    "        # idea: given head, reverse the whole list except the head, then head.next.next to head \n",
    "        if not head:\n",
    "            return head # or None \n",
    "\n",
    "        new_head = head # for dealing with the case when the list has 1 node only...\n",
    "\n",
    "        if head.next: # if the list has >=2 nodes...\n",
    "            new_head = reverse_list(head.next)\n",
    "            head.next.next = head # notice that we're doing head.next.next => our list must have >= 2 nodes!\n",
    "            head.next = None\n",
    "\n",
    "        return new_head\n",
    "        pass\n",
    "    \n",
    "    def insert(self, val):\n",
    "        new = Node(val)\n",
    "        self.head = new\n",
    "\n",
    "class Tree:\n",
    "    def __init__(self):\n",
    "        self.root = None \n",
    "    \n",
    "    def balance(self, root, k):\n",
    "        # Your code for part (a) should be put here\n",
    "        if root is None:\n",
    "            return [True, -1]\n",
    "        left = self.balance(root.left, k)\n",
    "        right = self.balance(root.right, k)\n",
    "        balanced = left and right and abs(left[1] - right[1])<=k\n",
    "        return [balanced, 1+max(left[1],right[1])]\n",
    "        pass\n",
    "\n",
    "def explode(cars):\n",
    "    stack = Stack()\n",
    "    for c in cars:\n",
    "        push_to_stack = True\n",
    "        while not stack.is_empty() and stack.peek()>0 and c<0:\n",
    "            if stack.peek() < -c: # need to destroy stack.peek()\n",
    "                stack.pop()\n",
    "            else: # no need to destroy stack.peek()\n",
    "                push_to_stack = False\n",
    "                break\n",
    "        if push_to_stack:\n",
    "            stack.push(c)\n",
    "    return stack.get_data()\n",
    "\n",
    "t = LinkedList()\n",
    "t.insert(12)\n",
    "t.head.element\n",
    "\n",
    "\n",
    "\n",
    "\n"
   ]
  },
  {
   "cell_type": "code",
   "execution_count": 1,
   "metadata": {},
   "outputs": [
    {
     "ename": "IndentationError",
     "evalue": "expected an indented block (3618010994.py, line 26)",
     "output_type": "error",
     "traceback": [
      "\u001b[0;36m  File \u001b[0;32m\"/var/folders/c2/yj8ksjmn34v5f9csr1s82d8r0000gn/T/ipykernel_10622/3618010994.py\"\u001b[0;36m, line \u001b[0;32m26\u001b[0m\n\u001b[0;31m    def reverse_list(self, head):\u001b[0m\n\u001b[0m    ^\u001b[0m\n\u001b[0;31mIndentationError\u001b[0m\u001b[0;31m:\u001b[0m expected an indented block\n"
     ]
    }
   ],
   "source": [
    "class Stack:\n",
    "    def __init__(self):\n",
    "        data = []\n",
    "    def push(self, val):\n",
    "        self.data.append(val)\n",
    "    def pop(self):\n",
    "        return self.data.pop()\n",
    "\n",
    "class Node:\n",
    "    def __init__(self, element, next=None):\n",
    "        self.element = element\n",
    "        self.next = next\n",
    "\n",
    "class TreeNode:\n",
    "    def __init__(self, element, next=None):\n",
    "        self.element = element\n",
    "        self.left = next\n",
    "\n",
    "class LinkedList:\n",
    "    def __init__(self):\n",
    "        self.head = None \n",
    "    \n",
    "    def delete_node(self, node):\n",
    "        # Your code for part (a) should be put here\n",
    "\n",
    "    def reverse_list(self, head):\n",
    "        # Your code for part (b) should be put here\n",
    "    \n",
    "class Tree:\n",
    "    def __init__(self):\n",
    "        self.root = None \n",
    "    \n",
    "    def balance(self, root, k):\n",
    "        # Your code for part (c) should be put here\n",
    "\n",
    "def explode(cars):\n",
    "    stack = Stack()\n",
    "    # Your code for part (d) should be put here\n",
    "    \n",
    "\n",
    "\n",
    "t = LinkedList()\n",
    "t.insert(12)\n",
    "t.head.element\n",
    "\n",
    "\n",
    "\n",
    "\n"
   ]
  },
  {
   "cell_type": "code",
   "execution_count": 5,
   "metadata": {},
   "outputs": [],
   "source": [
    "class Stack:\n",
    "    def __init__(self):\n",
    "        data = []\n",
    "    def push(self, val):\n",
    "        self.data.append(val)\n",
    "    def pop(self):\n",
    "        return self.data.pop()\n",
    "\n",
    "class Node:\n",
    "    def __init__(self, element, next=None):\n",
    "        self.element = element\n",
    "        self.next = next\n",
    "\n",
    "class TreeNode:\n",
    "    def __init__(self, element, next=None):\n",
    "        self.element = element\n",
    "        self.left = next\n",
    "\n",
    "class LinkedList:\n",
    "    def __init__(self):\n",
    "        self.head = None \n",
    "    \n",
    "    def delete_node(self, node):\n",
    "        # Your code for part (a) should be put here\n",
    "        pass\n",
    "\n",
    "    def reverse_list(self, head):\n",
    "        # Your code for part (b) should be put here\n",
    "        pass\n",
    "    \n",
    "class Tree:\n",
    "    def __init__(self):\n",
    "        self.root = None \n",
    "    \n",
    "    def balance(self, root, k):\n",
    "        # Your code for part (c) should be put here\n",
    "        pass\n",
    "\n",
    "def explode(cars):\n",
    "    stack = Stack()\n",
    "    # Your code for part (d) should be put here\n",
    "    pass\n",
    "\n",
    "\n",
    "# t = LinkedList()\n",
    "# t.insert(12)\n",
    "# t.head.element\n",
    "\n",
    "\n",
    "\n",
    "\n",
    "\n",
    "\n",
    "\n"
   ]
  },
  {
   "cell_type": "markdown",
   "metadata": {},
   "source": [
    "reverse a linked list"
   ]
  },
  {
   "cell_type": "markdown",
   "metadata": {},
   "source": [
    "backup Questions"
   ]
  },
  {
   "cell_type": "markdown",
   "metadata": {},
   "source": [
    "Suppose an queue Q initially had 5 elements. Then, It executed a total of 32 enqueue operations, 10 first operations, and 15 dequeue operations, 5 of which raised Empty errors that were caught and ignored. What is the current size of Q after all these operations?"
   ]
  },
  {
   "cell_type": "code",
   "execution_count": null,
   "metadata": {},
   "outputs": [],
   "source": [
    "#----------R6-8--------------\n",
    "\"\"\"\n",
    "Like before, a dequeue operation that fails doesn't remove anything from the queue, so there are essentially 10 dequeues\n",
    "\n",
    "First operations don't change the queue at all\n",
    "\n",
    "Therefore we have 32-10 = 22 (the size of the queue is 22 at that point)\n",
    "\n",
    "\"\"\""
   ]
  },
  {
   "cell_type": "markdown",
   "metadata": {},
   "source": [
    "6.5-2\n",
    "Illustrate the operation of MAX-HEAP-INSERT.A;10/ on the heap A = [15,13,9,5,12,8,7,4,0,6,2,1]"
   ]
  },
  {
   "cell_type": "markdown",
   "metadata": {},
   "source": [
    "- Given an array. Explain why this is not a heap.\n",
    "- you now use max_heapify(A, i) to make it a heap. Write down all the max_heapify(A, i) operations you need to call in order to make the array a max heap. Specifically, you "
   ]
  },
  {
   "cell_type": "markdown",
   "metadata": {},
   "source": [
    "6.5-1: Illustrate the operation of HEAP-EXTRACT-MAX on the heap A = [15,13,9,5,12,8,7,4,0,6,2,1]"
   ]
  },
  {
   "cell_type": "markdown",
   "metadata": {},
   "source": [
    "6.1-5\n",
    "Is an array that is in sorted order a min-heap?"
   ]
  },
  {
   "cell_type": "markdown",
   "metadata": {},
   "source": [
    "6.1-4\n",
    "Where in a max-heap might the smallest element reside, assuming that all elements are distinct?"
   ]
  },
  {
   "cell_type": "code",
   "execution_count": null,
   "metadata": {},
   "outputs": [],
   "source": [
    "def foo(n):\n",
    "    for i in range(n):\n",
    "        for j in range(3*n, n-1, -1):\n",
    "            print(\"SEHH2239\")\n",
    "        for j in range(i):\n",
    "            for k in range(j):\n",
    "                print(\"SEHH2239\")"
   ]
  },
  {
   "cell_type": "markdown",
   "metadata": {},
   "source": [
    "Sorting with stack"
   ]
  },
  {
   "cell_type": "markdown",
   "metadata": {},
   "source": [
    "In class, when we call partition, we choose the element with index 0 as pivot. Suppose now that we choose the element with index floor(n/2) as pivot, and we run the partition algorithm on the array A = [5,1,2,7,6,1,9]. Write down the resulting array A after calling the partition algorithm mentioned above.\n",
    "\n",
    "(5 marks)"
   ]
  },
  {
   "cell_type": "markdown",
   "metadata": {},
   "source": [
    "a) Represent the expressions (a + ab) + (a∕b) and\n",
    "a + ((ab + a)∕b) using binary trees.\n",
    "b) prefix notation.\n",
    "c) postfix notation.\n",
    "d) infix notation.\n",
    "\n"
   ]
  },
  {
   "cell_type": "markdown",
   "metadata": {},
   "source": [
    "what is the worst-case time to insert an element for a binary search tree with n elements. First write down the worst-case time, then draw a picture to show how to get this worst-time time. "
   ]
  },
  {
   "cell_type": "markdown",
   "metadata": {},
   "source": [
    "given a binary tree T, we say that T is k-balanced if the left and right subtrees of every node differs in height by at most k.\n",
    "\n",
    "Complete the method below. This method takes the root of a tree and k as input, and returns a list of two elements. The first element of the list indicates whether the tree is k-balanced. The second element of the list indicates the height of the tree.\n",
    "You must use recursion to complete this method. \n",
    "\n"
   ]
  },
  {
   "cell_type": "markdown",
   "metadata": {},
   "source": [
    "suppose we want to find the kth largest element in a list. What is the best data structure to support it? What is the running time?"
   ]
  },
  {
   "cell_type": "markdown",
   "metadata": {},
   "source": [
    "Given n pairs of curly braces, write a function that returns a list, containing all the permissible combinations of curly braces. The ordering of the elements in the list does not matter. \n",
    "\n",
    "n = 1:\n",
    "['{}']\n",
    "\n",
    "n = 2:\n",
    "['{}{}','{{}}']\n",
    "\n",
    "n = 3: \n",
    "['{}{}{}','{{{}}}', '{{}{}}', '{{}}{}','{}{{}}']\n",
    "\n",
    "you must use a stack data structure in your answer"
   ]
  },
  {
   "cell_type": "markdown",
   "metadata": {},
   "source": [
    "We have a list variable called cars. It stores integers representing cars weights. The cars are arranged in order according to the order of the list.\n",
    "\n",
    "For each car, the absolute value indicates its weight, and the sign of the number indicates its direction. A positive number means the car will move to the right, and a negative number means the car will move to the left. Note that we assume each car moves at the same speed.\n",
    "\n",
    "For example, if cars = [5,10,-6], that means car with weight 5 is behind car with weight 10, and car with weight 10 is behind car with weight 6. Also, cars with weight 5 and weight 10 moves in the right direction, and car with weight 6 moves in the left direction.\n",
    "\n",
    "We observe the following:\n",
    "\n",
    "If two cars meet, the one with smaller weight will explode. The larger one will remain intact. If both are of the same weight, both will explode. \n",
    "\n",
    "Two cars moving in the same direction will never meet each other, since they have the same speed.\n",
    "\n",
    "Example:\n",
    "Input: cars = [10,2,-3]\n",
    "Output: [10]\n",
    "Explanation: The 10 and -3 collide, and the 10 remains. The 3 and 10 will not meet each other.\n",
    "\n",
    "Example:\n",
    "Input: cars = [100,-100]\n",
    "Output: []\n",
    "Explanation: The 100 and -100 collide. Both will explode.\n",
    "\n",
    "Example:\n",
    "Input: cars = [3,10,-3]\n",
    "Output: [3,10]\n",
    "Explanation: The 2 and -3 collide, and the -3 remains. The 10 and -3 collide, and the 10 remains.\n",
    "\n",
    "\n",
    "Complete the function explode according the the instructions above. You must use the given stack to complete this question. You cannot create any extra variables. That is, the only variable you can use is stack and cars. "
   ]
  }
 ],
 "metadata": {
  "interpreter": {
   "hash": "ae74f9feb07f97b665e59d852dca9947bf3c6be9bdf551f43d711a8fd00af3ab"
  },
  "kernelspec": {
   "display_name": "Python 3.9.7 ('data_science')",
   "language": "python",
   "name": "python3"
  },
  "language_info": {
   "codemirror_mode": {
    "name": "ipython",
    "version": 3
   },
   "file_extension": ".py",
   "mimetype": "text/x-python",
   "name": "python",
   "nbconvert_exporter": "python",
   "pygments_lexer": "ipython3",
   "version": "3.9.7"
  },
  "orig_nbformat": 4
 },
 "nbformat": 4,
 "nbformat_minor": 2
}
