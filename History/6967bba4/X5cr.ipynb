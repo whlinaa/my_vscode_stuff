{
 "cells": [
  {
   "cell_type": "code",
   "execution_count": 1,
   "metadata": {},
   "outputs": [],
   "source": [
    "import time\n",
    "def my_decorator(func):\n",
    "    def wrapper(*args, **kwargs):\n",
    "        print(\"Something is happening before the function is called.\")\n",
    "        print(f\"calling {func.__name__}\")\n",
    "        res = func(*args, **kwargs)\n",
    "        print(\"Something is happening after the function is called.\")\n",
    "        return res\n",
    "    return wrapper\n",
    "\n",
    "def time_func(f):\n",
    "    def wrapper(*args, **kwargs):\n",
    "        begin =time.time()\n",
    "        result=f(*args, **kwargs)\n",
    "        end=time.time()\n",
    "        print(f'function {f.__name__} with arguments {args} and {kwargs} takes {end-begin} seconds to execute. ')\n",
    "        return result\n",
    "    return wrapper\n",
    "\n",
    "def divide_decorator(f):\n",
    "    def wrapper(a,b):\n",
    "        if b==0: \n",
    "            print(f\"divisor can't be zero! Program terminating...\")\n",
    "            return None\n",
    "        print(f\"dividing {a} by {b}:\")\n",
    "        return f(a,b)\n",
    "    return wrapper"
   ]
  },
  {
   "cell_type": "code",
   "execution_count": 3,
   "metadata": {},
   "outputs": [
    {
     "name": "stdout",
     "output_type": "stream",
     "text": [
      "dividing 1 by 3:\n",
      "0.3333333333333333\n",
      "divisor can't be zero! Program terminating...\n",
      "None\n"
     ]
    }
   ],
   "source": [
    "@divide_decorator\n",
    "def divide(a,b):\n",
    "    return a/b\n",
    "# divide = divide_decorator(divide) # same as above\n",
    "\n",
    "print(divide(1,3)) \n",
    "print(divide(1,0))\n",
    "\n",
    "# @my_decorator\n",
    "# def hello(name, age):\n",
    "#     print(f\"Hello {name}! Your age is {age}\")\n",
    "\n",
    "# hello(\"joe\", 22)"
   ]
  },
  {
   "cell_type": "code",
   "execution_count": 16,
   "metadata": {},
   "outputs": [
    {
     "name": "stdout",
     "output_type": "stream",
     "text": [
      "function play with arguments () and {} takes 0.014717340469360352 seconds to execute. \n"
     ]
    }
   ],
   "source": [
    "# @my_decorator\n",
    "# def test():\n",
    "#     # print(\"calling test\")\n",
    "#     print(\"fff\")\n",
    "# test()\n",
    "\n",
    "\n",
    "@time_func\n",
    "def play():\n",
    "    for i in range(10**6):\n",
    "        pass\n",
    "\n",
    "play()"
   ]
  }
 ],
 "metadata": {
  "interpreter": {
   "hash": "ae74f9feb07f97b665e59d852dca9947bf3c6be9bdf551f43d711a8fd00af3ab"
  },
  "kernelspec": {
   "display_name": "Python 3.9.7 64-bit ('data_science': conda)",
   "language": "python",
   "name": "python3"
  },
  "language_info": {
   "codemirror_mode": {
    "name": "ipython",
    "version": 3
   },
   "file_extension": ".py",
   "mimetype": "text/x-python",
   "name": "python",
   "nbconvert_exporter": "python",
   "pygments_lexer": "ipython3",
   "version": "3.9.7"
  },
  "orig_nbformat": 4
 },
 "nbformat": 4,
 "nbformat_minor": 2
}
