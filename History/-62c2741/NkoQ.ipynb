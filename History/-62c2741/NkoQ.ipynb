{
 "cells": [
  {
   "cell_type": "code",
   "execution_count": 1,
   "metadata": {},
   "outputs": [],
   "source": [
    "import numpy as np\n",
    "import pandas as pd\n",
    "import matplotlib.pyplot as plt\n",
    "import seaborn as sns\n",
    "import scipy.stats as stats \n",
    "\n",
    "# allows us to pretty print multiple variables in a single cell\n",
    "from IPython.core.interactiveshell import InteractiveShell; InteractiveShell.ast_node_interactivity = \"all\" "
   ]
  },
  {
   "cell_type": "markdown",
   "metadata": {},
   "source": [
    "# purposes of this notebook\n",
    "- show how to do plotting in python\n",
    "- demonstrate how to use programming to estimate the solution to problems in statistics and probability. \n",
    "- experimentally verify some properties and theorems in statistics, such as central limit theorem, law of large number, sampling distribution of the sample mean, etc\n",
    "- how to do statistical inference in python"
   ]
  },
  {
   "cell_type": "markdown",
   "metadata": {},
   "source": [
    " # preliminary: plotting in python\n",
    " let's talk about the matplotlib package (mat = matlab, another programming language). Basically, matplotlib provides functionailties similar to the built-in plotting utilities of Matlab, which is a favorite language among engineers and scientists."
   ]
  },
  {
   "cell_type": "markdown",
   "metadata": {},
   "source": [
    "## lineplot"
   ]
  },
  {
   "cell_type": "code",
   "execution_count": 2,
   "metadata": {},
   "outputs": [
    {
     "name": "stdout",
     "output_type": "stream",
     "text": [
      "[-2.00000000e+00 -1.90000000e+00 -1.80000000e+00 -1.70000000e+00\n",
      " -1.60000000e+00 -1.50000000e+00 -1.40000000e+00 -1.30000000e+00\n",
      " -1.20000000e+00 -1.10000000e+00 -1.00000000e+00 -9.00000000e-01\n",
      " -8.00000000e-01 -7.00000000e-01 -6.00000000e-01 -5.00000000e-01\n",
      " -4.00000000e-01 -3.00000000e-01 -2.00000000e-01 -1.00000000e-01\n",
      "  1.77635684e-15  1.00000000e-01  2.00000000e-01  3.00000000e-01\n",
      "  4.00000000e-01  5.00000000e-01  6.00000000e-01  7.00000000e-01\n",
      "  8.00000000e-01  9.00000000e-01  1.00000000e+00  1.10000000e+00\n",
      "  1.20000000e+00  1.30000000e+00  1.40000000e+00  1.50000000e+00\n",
      "  1.60000000e+00  1.70000000e+00  1.80000000e+00  1.90000000e+00]\n"
     ]
    },
    {
     "data": {
      "text/plain": [
       "array([4.00000000e+00, 3.61000000e+00, 3.24000000e+00, 2.89000000e+00,\n",
       "       2.56000000e+00, 2.25000000e+00, 1.96000000e+00, 1.69000000e+00,\n",
       "       1.44000000e+00, 1.21000000e+00, 1.00000000e+00, 8.10000000e-01,\n",
       "       6.40000000e-01, 4.90000000e-01, 3.60000000e-01, 2.50000000e-01,\n",
       "       1.60000000e-01, 9.00000000e-02, 4.00000000e-02, 1.00000000e-02,\n",
       "       3.15544362e-30, 1.00000000e-02, 4.00000000e-02, 9.00000000e-02,\n",
       "       1.60000000e-01, 2.50000000e-01, 3.60000000e-01, 4.90000000e-01,\n",
       "       6.40000000e-01, 8.10000000e-01, 1.00000000e+00, 1.21000000e+00,\n",
       "       1.44000000e+00, 1.69000000e+00, 1.96000000e+00, 2.25000000e+00,\n",
       "       2.56000000e+00, 2.89000000e+00, 3.24000000e+00, 3.61000000e+00])"
      ]
     },
     "execution_count": 2,
     "metadata": {},
     "output_type": "execute_result"
    },
    {
     "data": {
      "text/plain": [
       "[<matplotlib.lines.Line2D at 0x16a4c4370>]"
      ]
     },
     "execution_count": 2,
     "metadata": {},
     "output_type": "execute_result"
    },
    {
     "data": {
      "text/plain": [
       "[<matplotlib.lines.Line2D at 0x16a4c46a0>]"
      ]
     },
     "execution_count": 2,
     "metadata": {},
     "output_type": "execute_result"
    },
    {
     "data": {
      "text/plain": [
       "<Figure size 432x288 with 0 Axes>"
      ]
     },
     "execution_count": 2,
     "metadata": {},
     "output_type": "execute_result"
    },
    {
     "data": {
      "text/plain": [
       "[<matplotlib.lines.Line2D at 0x16a4f6a40>]"
      ]
     },
     "execution_count": 2,
     "metadata": {},
     "output_type": "execute_result"
    },
    {
     "data": {
      "text/plain": [
       "(-6.0, 6.0)"
      ]
     },
     "execution_count": 2,
     "metadata": {},
     "output_type": "execute_result"
    },
    {
     "data": {
      "text/plain": [
       "(-4.0, 9.0)"
      ]
     },
     "execution_count": 2,
     "metadata": {},
     "output_type": "execute_result"
    },
    {
     "data": {
      "image/png": "[encoded data removed]",
      "text/plain": [
       "<Figure size 432x288 with 1 Axes>"
      ]
     },
     "metadata": {
      "needs_background": "light"
     },
     "output_type": "display_data"
    },
    {
     "data": {
      "image/png": "[encoded data removed]",
      "text/plain": [
       "<Figure size 432x288 with 1 Axes>"
      ]
     },
     "metadata": {
      "needs_background": "light"
     },
     "output_type": "display_data"
    }
   ],
   "source": [
    "import matplotlib.pyplot as plt # in fact, we'll be using the submodule \"matplotlib.pyplot\" only. So, we import only this submodule. We abbreviate it as plt\n",
    "\n",
    "# we're going to plot some graphs with matplotlib...\n",
    "# data generation\n",
    "x=np.arange(-2,2,0.1) # generate the values for independent variable x. Here, values are drawn from [-3,3), and the spacing between any two values is 0.1 \n",
    "\n",
    "print(x)\n",
    "\n",
    "y=x**2 # plot y=x^2\n",
    "y\n",
    "\n",
    "plt.plot(x,y) # plot the relationship as an x-y plot \n",
    "\n",
    "# now we plot another graph on the same figure\n",
    "y=x+3\n",
    "plt.plot(x,y)\n",
    "\n",
    "# if you want the graph to appear in a separate figure (rather than in an existing one), use plt.figure()\n",
    "plt.figure() # create a new figure\n",
    "plt.plot(x,y) # this will appear in another \n",
    "\n",
    "plt.xlim(-6,6) # use xlim() to specify the lower and upper limits of the x axis shown in the figure\n",
    "plt.ylim(-4,9) # use ylim() to specify the lower and upper limits of the x axis shown in the figure\n"
   ]
  },
  {
   "cell_type": "code",
   "execution_count": 3,
   "metadata": {},
   "outputs": [
    {
     "data": {
      "text/plain": [
       "[<matplotlib.lines.Line2D at 0x16a618ee0>]"
      ]
     },
     "execution_count": 3,
     "metadata": {},
     "output_type": "execute_result"
    },
    {
     "data": {
      "text/plain": [
       "[<matplotlib.lines.Line2D at 0x16a619240>]"
      ]
     },
     "execution_count": 3,
     "metadata": {},
     "output_type": "execute_result"
    },
    {
     "data": {
      "text/plain": [
       "[<matplotlib.lines.Line2D at 0x16a619510>]"
      ]
     },
     "execution_count": 3,
     "metadata": {},
     "output_type": "execute_result"
    },
    {
     "data": {
      "text/plain": [
       "<matplotlib.legend.Legend at 0x16a619270>"
      ]
     },
     "execution_count": 3,
     "metadata": {},
     "output_type": "execute_result"
    },
    {
     "data": {
      "text/plain": [
       "Text(0.5, 0, 'x')"
      ]
     },
     "execution_count": 3,
     "metadata": {},
     "output_type": "execute_result"
    },
    {
     "data": {
      "text/plain": [
       "Text(0, 0.5, 'y')"
      ]
     },
     "execution_count": 3,
     "metadata": {},
     "output_type": "execute_result"
    },
    {
     "data": {
      "text/plain": [
       "Text(0.5, 1.0, 'comparison of several functions')"
      ]
     },
     "execution_count": 3,
     "metadata": {},
     "output_type": "execute_result"
    },
    {
     "data": {
      "image/png": "[encoded data removed]",
      "text/plain": [
       "<Figure size 432x288 with 1 Axes>"
      ]
     },
     "metadata": {
      "needs_background": "light"
     },
     "output_type": "display_data"
    }
   ],
   "source": [
    "# we'll now talk about how to make the graphs of a figure more aesthetically appealing. \n",
    "# line graph\n",
    "\n",
    "x=np.arange(-3,3,0.1) # generate values for independent variable x \n",
    "plt.plot(x,x+1, linewidth=3, label='x+1', color='k') # linewidth controls the thickness of the line; it defaults to 1. label specifies the name of the plot in the legend (will be made clearer soon). color controls the line color \n",
    "plt.plot(x,x**2-3, color='r', label='x^2-3') # plot another graph. You can specify the color of the graph. Check https://matplotlib.org/2.1.1/api/_as_gen/matplotlib.pyplot.plot.html for the possible color choices\n",
    "plt.plot(x,np.exp(x)-10, label='e^x-10', marker='*') # You can specify a marker for each recorded (x,y) pair by using the marker parameter. See https://matplotlib.org/3.3.1/api/markers_api.html for all possible values.\n",
    "plt.legend() # show the legend\n",
    "plt.xlabel(\"x\", fontsize=12) # specify x label of the figure\n",
    "plt.ylabel(\"y\", fontsize=12) # specify y label of the figure\n",
    "plt.title(\"comparison of several functions\", fontsize=12) # specify the title of the figure\n"
   ]
  },
  {
   "cell_type": "markdown",
   "metadata": {},
   "source": [
    "## histogram\n",
    "- important parameters for `plt.hist`:\n",
    "- `bins`: specifies the number of bars.\n",
    "- `alpha`: controls the graph transparency (the lower, the more transparent), between 0 and 1"
   ]
  },
  {
   "cell_type": "code",
   "execution_count": 4,
   "metadata": {},
   "outputs": [
    {
     "data": {
      "text/plain": [
       "(array([6.00000e+00, 2.60000e+01, 8.40000e+01, 2.36000e+02, 6.83000e+02,\n",
       "        1.73700e+03, 3.99800e+03, 8.71200e+03, 1.66590e+04, 2.94620e+04,\n",
       "        4.75620e+04, 6.93130e+04, 9.21320e+04, 1.10720e+05, 1.21581e+05,\n",
       "        1.20902e+05, 1.10193e+05, 9.08590e+04, 6.84710e+04, 4.63940e+04,\n",
       "        2.90600e+04, 1.63730e+04, 8.43000e+03, 3.85200e+03, 1.61100e+03,\n",
       "        6.16000e+02, 2.29000e+02, 7.00000e+01, 2.20000e+01, 7.00000e+00]),\n",
       " array([-4.63110893, -4.3218676 , -4.01262626, -3.70338493, -3.3941436 ,\n",
       "        -3.08490226, -2.77566093, -2.46641959, -2.15717826, -1.84793693,\n",
       "        -1.53869559, -1.22945426, -0.92021292, -0.61097159, -0.30173026,\n",
       "         0.00751108,  0.31675241,  0.62599375,  0.93523508,  1.24447641,\n",
       "         1.55371775,  1.86295908,  2.17220042,  2.48144175,  2.79068308,\n",
       "         3.09992442,  3.40916575,  3.71840709,  4.02764842,  4.33688975,\n",
       "         4.64613109]),\n",
       " <BarContainer object of 30 artists>)"
      ]
     },
     "execution_count": 4,
     "metadata": {},
     "output_type": "execute_result"
    },
    {
     "data": {
      "text/plain": [
       "(array([2.00000e+00, 8.00000e+00, 3.30000e+01, 7.70000e+01, 2.32000e+02,\n",
       "        7.84000e+02, 1.94000e+03, 4.55100e+03, 9.87000e+03, 1.91230e+04,\n",
       "        3.39780e+04, 5.34760e+04, 7.70330e+04, 1.00065e+05, 1.18289e+05,\n",
       "        1.25995e+05, 1.21612e+05, 1.06246e+05, 8.37060e+04, 5.96130e+04,\n",
       "        3.87590e+04, 2.30090e+04, 1.19780e+04, 5.71700e+03, 2.46300e+03,\n",
       "        9.48000e+02, 3.56000e+02, 9.80000e+01, 2.80000e+01, 1.10000e+01]),\n",
       " array([-19.85379407, -18.58456955, -17.31534503, -16.0461205 ,\n",
       "        -14.77689598, -13.50767145, -12.23844693, -10.9692224 ,\n",
       "         -9.69999788,  -8.43077335,  -7.16154883,  -5.8923243 ,\n",
       "         -4.62309978,  -3.35387526,  -2.08465073,  -0.81542621,\n",
       "          0.45379832,   1.72302284,   2.99224737,   4.26147189,\n",
       "          5.53069642,   6.79992094,   8.06914547,   9.33836999,\n",
       "         10.60759451,  11.87681904,  13.14604356,  14.41526809,\n",
       "         15.68449261,  16.95371714,  18.22294166]),\n",
       " <BarContainer object of 30 artists>)"
      ]
     },
     "execution_count": 4,
     "metadata": {},
     "output_type": "execute_result"
    },
    {
     "data": {
      "text/plain": [
       "(array([2.00000e+00, 5.00000e+00, 2.40000e+01, 9.80000e+01, 3.04000e+02,\n",
       "        8.91000e+02, 2.34700e+03, 5.56800e+03, 1.19900e+04, 2.30030e+04,\n",
       "        3.94800e+04, 6.14520e+04, 8.64120e+04, 1.09337e+05, 1.23977e+05,\n",
       "        1.27612e+05, 1.19001e+05, 9.92840e+04, 7.49560e+04, 5.11240e+04,\n",
       "        3.13510e+04, 1.69770e+04, 8.64200e+03, 3.77400e+03, 1.53400e+03,\n",
       "        5.97000e+02, 1.76000e+02, 6.30000e+01, 1.20000e+01, 7.00000e+00]),\n",
       " array([-44.45392082, -41.54319994, -38.63247906, -35.72175818,\n",
       "        -32.8110373 , -29.90031642, -26.98959554, -24.07887466,\n",
       "        -21.16815378, -18.2574329 , -15.34671202, -12.43599114,\n",
       "         -9.52527026,  -6.61454938,  -3.7038285 ,  -0.79310762,\n",
       "          2.11761326,   5.02833414,   7.93905502,  10.8497759 ,\n",
       "         13.76049678,  16.67121767,  19.58193855,  22.49265943,\n",
       "         25.40338031,  28.31410119,  31.22482207,  34.13554295,\n",
       "         37.04626383,  39.95698471,  42.86770559]),\n",
       " <BarContainer object of 30 artists>)"
      ]
     },
     "execution_count": 4,
     "metadata": {},
     "output_type": "execute_result"
    },
    {
     "data": {
      "text/plain": [
       "<matplotlib.legend.Legend at 0x1081cd8d0>"
      ]
     },
     "execution_count": 4,
     "metadata": {},
     "output_type": "execute_result"
    },
    {
     "data": {
      "text/plain": [
       "Text(0.5, 0, 'x')"
      ]
     },
     "execution_count": 4,
     "metadata": {},
     "output_type": "execute_result"
    },
    {
     "data": {
      "text/plain": [
       "Text(0, 0.5, 'Number of samples')"
      ]
     },
     "execution_count": 4,
     "metadata": {},
     "output_type": "execute_result"
    },
    {
     "data": {
      "image/png": "[encoded data removed]",
      "text/plain": [
       "<Figure size 432x288 with 1 Axes>"
      ]
     },
     "metadata": {
      "needs_background": "light"
     },
     "output_type": "display_data"
    }
   ],
   "source": [
    "np.random.seed(1)\n",
    "# histogram\n",
    "\n",
    "plt.hist(np.random.normal(0,1,size=10**6), bins=30, alpha=0.3, color='r', label='N(0,1)') # hist() is to draw a histogram. \"bins\" specifies the number of bars. \"alpha\" controls the graph transparency (the lower, the more transparent). Note: 'bins' and 'alpha' are optional parameters.\n",
    "plt.hist(np.random.normal(0,4,size=10**6), bins=30, alpha=0.3, color='g', label='N(0,4^2)')\n",
    "plt.hist(np.random.normal(0,9,size=10**6), bins=30, alpha=0.3, color='b', label='N(0,9^2)')\n",
    "plt.legend()\n",
    "plt.xlabel(\"x\")\n",
    "plt.ylabel(\"Number of samples\")"
   ]
  },
  {
   "cell_type": "markdown",
   "metadata": {},
   "source": [
    "## scatter plot"
   ]
  },
  {
   "cell_type": "code",
   "execution_count": 5,
   "metadata": {},
   "outputs": [
    {
     "data": {
      "text/plain": [
       "<matplotlib.collections.PathCollection at 0x16a7de110>"
      ]
     },
     "execution_count": 5,
     "metadata": {},
     "output_type": "execute_result"
    },
    {
     "data": {
      "text/plain": [
       "Text(0.5, 0, 'midterm score')"
      ]
     },
     "execution_count": 5,
     "metadata": {},
     "output_type": "execute_result"
    },
    {
     "data": {
      "text/plain": [
       "Text(0, 0.5, 'final score')"
      ]
     },
     "execution_count": 5,
     "metadata": {},
     "output_type": "execute_result"
    },
    {
     "data": {
      "text/plain": [
       "Text(0.5, 1.0, 'Midterm and final scores of 200 students')"
      ]
     },
     "execution_count": 5,
     "metadata": {},
     "output_type": "execute_result"
    },
    {
     "data": {
      "image/png": "[encoded data removed]",
      "text/plain": [
       "<Figure size 432x288 with 1 Axes>"
      ]
     },
     "metadata": {
      "needs_background": "light"
     },
     "output_type": "display_data"
    }
   ],
   "source": [
    "np.random.seed(1)\n",
    "# scatter plot\n",
    "# suppose we have n students, and want to plot their midterm scores and exam scores as a scatter plot. \n",
    "n=200 # number of students \n",
    "midterm=np.random.normal(60,20,size=n) # each midterm score is generated from N(60,20^2)\n",
    "p=0.3 # suppose that a student's exam score can be modelled by a weighted sum of his midterm score and a value from another normal distribution N(50,20^2). p here is the weight of the midterm score. \n",
    "exam=p*midterm+(1-p)*np.random.normal(50,20,n)  # exam score is modelled as the weighted sum of the midterm score and a normal distribution\n",
    "plt.scatter(midterm,exam, s=8) # 's' stands for size, controlling the size of the dots shown on the figure\n",
    "plt.xlabel(\"midterm score\")\n",
    "plt.ylabel(\"final score\")\n",
    "plt.title(f'Midterm and final scores of {n} students' )\n"
   ]
  },
  {
   "cell_type": "markdown",
   "metadata": {},
   "source": [
    "## bar plot"
   ]
  },
  {
   "cell_type": "code",
   "execution_count": 6,
   "metadata": {},
   "outputs": [
    {
     "name": "stdout",
     "output_type": "stream",
     "text": [
      "['student 1', 'student 2', 'student 3', 'student 4', 'student 5', 'student 6', 'student 7', 'student 8']\n",
      "[43.59949021  2.59262318 54.96624779 43.53223926 42.03678021 33.0334821\n",
      " 20.4648634  61.92709664]\n"
     ]
    },
    {
     "data": {
      "text/plain": [
       "<BarContainer object of 8 artists>"
      ]
     },
     "execution_count": 6,
     "metadata": {},
     "output_type": "execute_result"
    },
    {
     "data": {
      "text/plain": [
       "Text(0.5, 1.0, 'score of different students')"
      ]
     },
     "execution_count": 6,
     "metadata": {},
     "output_type": "execute_result"
    },
    {
     "data": {
      "text/plain": [
       "Text(0, 0.5, 'score received (in %)')"
      ]
     },
     "execution_count": 6,
     "metadata": {},
     "output_type": "execute_result"
    },
    {
     "data": {
      "text/plain": [
       "([0, 1, 2, 3, 4, 5, 6, 7],\n",
       " [Text(0, 0, ''),\n",
       "  Text(0, 0, ''),\n",
       "  Text(0, 0, ''),\n",
       "  Text(0, 0, ''),\n",
       "  Text(0, 0, ''),\n",
       "  Text(0, 0, ''),\n",
       "  Text(0, 0, ''),\n",
       "  Text(0, 0, '')])"
      ]
     },
     "execution_count": 6,
     "metadata": {},
     "output_type": "execute_result"
    },
    {
     "data": {
      "image/png": "[encoded data removed]",
      "text/plain": [
       "<Figure size 432x288 with 1 Axes>"
      ]
     },
     "metadata": {
      "needs_background": "light"
     },
     "output_type": "display_data"
    }
   ],
   "source": [
    "np.random.seed(2)\n",
    "# the final type of graph we need to know is bar graph\n",
    "# suppose we have 8 students. Want to show his performance in a course (as a percentage of score received, 0-100)\n",
    "n=8 # number of students\n",
    "\n",
    "names = [ f'student {i}' for i in range(1,n+1) ] # store the names of the students\n",
    "\n",
    "# alternatively, we can use C++-like code to create the names variable\n",
    "# names=[] # store the names of the students\n",
    "# for i in range(1,n+1):\n",
    "# \tnames.append(f'student  {i}') # each student is called \"student i\", for i=1,2,...,8\n",
    "\n",
    "print(names)\n",
    "\n",
    "scores=np.random.uniform(0,100,n) # randomly generate the scores of each student from U(0,100) \n",
    "print(scores)\n",
    "plt.bar(names,scores, width=0.5) # \"width\" is an optional parameter, which controls the width of each bar \n",
    "plt.title('score of different students')\n",
    "plt.ylabel('score received (in %)')\n",
    "plt.xticks(rotation=30)\n"
   ]
  },
  {
   "cell_type": "markdown",
   "metadata": {},
   "source": [
    "# preliminary: use scipy.stats submodule to draw values from various distributions"
   ]
  },
  {
   "cell_type": "code",
   "execution_count": 7,
   "metadata": {},
   "outputs": [
    {
     "name": "stdout",
     "output_type": "stream",
     "text": [
      "# ------------------------- exponential distribution ------------------------- #\n"
     ]
    },
    {
     "data": {
      "text/plain": [
       "array([0.11872725, 0.10345799, 0.32352409, 0.25106631, 0.04818009,\n",
       "       0.24022632, 0.06796004, 0.51289243, 0.64132648, 0.22722893])"
      ]
     },
     "execution_count": 7,
     "metadata": {},
     "output_type": "execute_result"
    },
    {
     "data": {
      "text/plain": [
       "0.14936120510359185"
      ]
     },
     "execution_count": 7,
     "metadata": {},
     "output_type": "execute_result"
    },
    {
     "data": {
      "text/plain": [
       "0.9975212478233336"
      ]
     },
     "execution_count": 7,
     "metadata": {},
     "output_type": "execute_result"
    },
    {
     "data": {
      "text/plain": [
       "0.0024787521766663585"
      ]
     },
     "execution_count": 7,
     "metadata": {},
     "output_type": "execute_result"
    },
    {
     "data": {
      "text/plain": [
       "0.9975212478233336"
      ]
     },
     "execution_count": 7,
     "metadata": {},
     "output_type": "execute_result"
    },
    {
     "data": {
      "text/plain": [
       "0.11889164797957748"
      ]
     },
     "execution_count": 7,
     "metadata": {},
     "output_type": "execute_result"
    },
    {
     "name": "stdout",
     "output_type": "stream",
     "text": [
      "# ---------------------------------------------------------------------------- #\n",
      "# ---------------------------- normal distribution ---------------------------- #\n"
     ]
    },
    {
     "data": {
      "text/plain": [
       "array([0.62481845, 0.02766544, 0.23456493, 0.02250507, 0.18627672,\n",
       "       0.0338378 , 0.04533433, 0.30272898, 0.08539964, 0.03770263])"
      ]
     },
     "execution_count": 7,
     "metadata": {},
     "output_type": "execute_result"
    },
    {
     "data": {
      "text/plain": [
       "0.14936120510359185"
      ]
     },
     "execution_count": 7,
     "metadata": {},
     "output_type": "execute_result"
    },
    {
     "data": {
      "text/plain": [
       "0.9975212478233336"
      ]
     },
     "execution_count": 7,
     "metadata": {},
     "output_type": "execute_result"
    },
    {
     "data": {
      "text/plain": [
       "0.0024787521766663585"
      ]
     },
     "execution_count": 7,
     "metadata": {},
     "output_type": "execute_result"
    },
    {
     "data": {
      "text/plain": [
       "0.9975212478233336"
      ]
     },
     "execution_count": 7,
     "metadata": {},
     "output_type": "execute_result"
    },
    {
     "data": {
      "text/plain": [
       "0.11889164797957748"
      ]
     },
     "execution_count": 7,
     "metadata": {},
     "output_type": "execute_result"
    },
    {
     "name": "stdout",
     "output_type": "stream",
     "text": [
      "# ---------------------------------------------------------------------------- #\n",
      "# --------------------------- binomial distribution -------------------------- #\n"
     ]
    },
    {
     "data": {
      "text/plain": [
       "array([2, 2, 3, 2, 3, 3, 3, 3, 4, 3])"
      ]
     },
     "execution_count": 7,
     "metadata": {},
     "output_type": "execute_result"
    },
    {
     "data": {
      "text/plain": [
       "0.12106082099999993"
      ]
     },
     "execution_count": 7,
     "metadata": {},
     "output_type": "execute_result"
    },
    {
     "data": {
      "text/plain": [
       "0.38278278639999974"
      ]
     },
     "execution_count": 7,
     "metadata": {},
     "output_type": "execute_result"
    },
    {
     "data": {
      "text/plain": [
       "0.6172172136000003"
      ]
     },
     "execution_count": 7,
     "metadata": {},
     "output_type": "execute_result"
    },
    {
     "data": {
      "text/plain": [
       "0.38278278639999974"
      ]
     },
     "execution_count": 7,
     "metadata": {},
     "output_type": "execute_result"
    },
    {
     "data": {
      "text/plain": [
       "2.0"
      ]
     },
     "execution_count": 7,
     "metadata": {},
     "output_type": "execute_result"
    },
    {
     "name": "stdout",
     "output_type": "stream",
     "text": [
      "# ---------------------------------------------------------------------------- #\n"
     ]
    }
   ],
   "source": [
    "# draw values from exponential distribution with lambda = 1/scale\n",
    "# e.g., if want lambda = 3, set scale = 1/3\n",
    "n = 10 \n",
    "\n",
    "expon = stats.expon(scale=1/3)\n",
    "norm = stats.norm(scale=10, loc=20) # scale = sd, loc = mean \n",
    "binom = stats.binom(n=10, p=0.3)\n",
    "\n",
    "print(\"# ------------------------- exponential distribution ------------------------- #\")\n",
    "expon.rvs(n) # draw n values from exponential(3)\n",
    "expon.pdf(1) # 3*e^(-3*1)\n",
    "expon.cdf(2) # P(X<=2)\n",
    "expon.sf(2) # P(X>2)\n",
    "1 - expon.sf(2) # 1 - P(X>2). Same as P(X<=2)\n",
    "expon.ppf(0.3) # find the 30th percentile, i.e., find c such that P(X<c) = 0.3\n",
    "print(\"# ---------------------------------------------------------------------------- #\")\n",
    "\n",
    "print(\"# ---------------------------- normal distribution ---------------------------- #\")\n",
    "expon.rvs(n) # draw n values from exponential(3)\n",
    "expon.pdf(1) \n",
    "expon.cdf(2) # P(X<=2)\n",
    "expon.sf(2) # P(X>2)\n",
    "1 - expon.sf(2) # 1 - P(X>2). Same as P(X<=2)\n",
    "expon.ppf(0.3) # find the 30th percentile, i.e., find c such that P(X<c) = 0.3\n",
    "print(\"# ---------------------------------------------------------------------------- #\")\n",
    "\n",
    "print(\"# --------------------------- binomial distribution -------------------------- #\")\n",
    "binom.rvs(n) # draw n values from exponential(3)\n",
    "binom.pmf(1) # P(X=1)\n",
    "binom.cdf(2) # P(X<=1)\n",
    "binom.sf(2) # P(X>2)\n",
    "1 - binom.sf(2) # 1 - P(X>2). Same as P(X<=2)\n",
    "binom.ppf(0.3) # find the 30th percentile, i.e., find c such that P(X<c) = 0.3\n",
    "print(\"# ---------------------------------------------------------------------------- #\")"
   ]
  },
  {
   "cell_type": "markdown",
   "metadata": {},
   "source": [
    "# preliminary: use np.random to generate random digits"
   ]
  },
  {
   "cell_type": "code",
   "execution_count": 8,
   "metadata": {},
   "outputs": [
    {
     "data": {
      "text/plain": [
       "array([9, 9, 3, 0, 0])"
      ]
     },
     "execution_count": 8,
     "metadata": {},
     "output_type": "execute_result"
    },
    {
     "data": {
      "text/plain": [
       "array([3.41613653, 5.67144128, 4.27545963, 4.36747263, 7.76559185])"
      ]
     },
     "execution_count": 8,
     "metadata": {},
     "output_type": "execute_result"
    },
    {
     "data": {
      "text/plain": [
       "array([1, 1, 1, 0, 1])"
      ]
     },
     "execution_count": 8,
     "metadata": {},
     "output_type": "execute_result"
    },
    {
     "data": {
      "text/plain": [
       "array([4.1243235 , 8.27801207, 9.21419602, 6.61940494, 3.41515296])"
      ]
     },
     "execution_count": 8,
     "metadata": {},
     "output_type": "execute_result"
    }
   ],
   "source": [
    "np.random.randint(low=0, high=10, size=5) # generate 5 numbers in {0,1,2,...,9}\n",
    "np.random.uniform(low=0, high=10, size=5) # generate 5 numbers in [0,10)\n",
    "np.random.choice(a=[0,1], size=5, p=[0.3, 0.7]) # generate 5 numbers in {0,1}, with P(X=0) = 0.3 and P(X=1) = 0.7\n",
    "np.random.normal(loc=5, scale=3, size=5) # generate 5 numbers from N(5,3^2)"
   ]
  },
  {
   "cell_type": "markdown",
   "metadata": {},
   "source": [
    "## exercise: plot the pdf curves and the cdf curves of the following distributions:\n",
    "- N(10, 5^2)\n",
    "- exponential(2)"
   ]
  },
  {
   "cell_type": "code",
   "execution_count": 9,
   "metadata": {},
   "outputs": [],
   "source": [
    "def plot_curves():\n",
    "\n",
    "    pass\n",
    "plot_curves()\n"
   ]
  },
  {
   "cell_type": "markdown",
   "metadata": {},
   "source": [
    "# statistical simulation \n",
    "- very often, probability and statistics problems are difficult to solve. However, We can often find approximate solutions to these problems by simulation."
   ]
  },
  {
   "cell_type": "markdown",
   "metadata": {},
   "source": [
    "## probability of forming a triangle\n",
    "A stick of unit length is broken at the two places X and Y , each chosen uniformly at random along the stick. What is the probability that the three pieces can be used to make a triangle? You may not be able to calculate the exact probability, but we can write a program to estimate the probability as follows:\n",
    "- use a for loop to simulate the stick-breaking process `n_trials` times, and in each iteration we record whether the three pieces can be used to form a triangle or not (how to check?)\n",
    "- the exact probability can be estimated by the following fraction:\n",
    "\t- `(# of times the three pieces can form a triangle)` / `n_trials`\n"
   ]
  },
  {
   "cell_type": "code",
   "execution_count": 10,
   "metadata": {},
   "outputs": [
    {
     "name": "stdout",
     "output_type": "stream",
     "text": [
      "None\n"
     ]
    }
   ],
   "source": [
    "def prob_triangle(n_trials=10**5):\n",
    "    np.random.seed(1)\n",
    "\n",
    "    pass\n",
    "\n",
    "print(prob_triangle()) # 0.24951"
   ]
  },
  {
   "cell_type": "markdown",
   "metadata": {},
   "source": [
    "## probability of exchanging a gift with `n_purchases` purchases\n",
    "- Suppose every time you go to 7-11 (the convenience store) to buy things, you'll be given a kind of stamp randomly, and that there are in total `n_stamps` kinds of stamps. Now, suppose that a collection of one stamp for each kind of stamp can be used to exchange for a gift. What is the probability that you can exchange a gift by making `n_purchases` purchases at 7-11?\n",
    "- Your task is to estimate the probability by repeating the whole process many times, and records how many times you are able to exchange for a gift. Finally, return the fraction of times you can exchange a gift."
   ]
  },
  {
   "cell_type": "code",
   "execution_count": 11,
   "metadata": {},
   "outputs": [
    {
     "name": "stdout",
     "output_type": "stream",
     "text": [
      "None\n"
     ]
    }
   ],
   "source": [
    "def prob_gift(n_trials=10**5, n_stamps=5, n_purchases=10):\n",
    "    np.random.seed(1)\n",
    "\n",
    "    pass\n",
    "\n",
    "print(prob_gift()) # 0.52444"
   ]
  },
  {
   "cell_type": "markdown",
   "metadata": {},
   "source": [
    "## probability of having roots of a random quadratic equation\n",
    "What is the probability that a quadratic equation of the form $ax^2+bx+c = 0$, whose coefficients are randomly chosen from `[low, high]`, would have at least one real root?"
   ]
  },
  {
   "cell_type": "code",
   "execution_count": 12,
   "metadata": {},
   "outputs": [
    {
     "name": "stdout",
     "output_type": "stream",
     "text": [
      "None\n"
     ]
    }
   ],
   "source": [
    "def prob_real_root(n_trials=10**5, low=-1, high=1):\n",
    "    np.random.seed(1)\n",
    "\n",
    "    pass\n",
    "\n",
    "print(prob_real_root())"
   ]
  },
  {
   "cell_type": "markdown",
   "metadata": {},
   "source": [
    "## bin and ball experiment: probability of at least one collision\n",
    "- Suppose that you throw `n_balls` balls into 500 bins randomly. That is, for each ball, you randomly throw it into one of the 500 bins, so that the ball has equal chance of falling into any one of the bins. What is the probability of having at least 1 bin with more than 1 ball? \n",
    "- Write a function to estimate the probability for various values of `n_balls`, where `n_balls_low`<=`n_balls`<=`n_balls_high`. Plot a graph to illustrate the probabilities. "
   ]
  },
  {
   "cell_type": "code",
   "execution_count": 13,
   "metadata": {},
   "outputs": [
    {
     "name": "stdout",
     "output_type": "stream",
     "text": [
      "None\n"
     ]
    }
   ],
   "source": [
    "def prob_bin_ball(n_trials=10**4, n_balls_low=10, n_balls_high=50):\n",
    "    np.random.seed(1)\n",
    "\n",
    "    pass\n",
    "\n",
    "print(prob_bin_ball())"
   ]
  },
  {
   "cell_type": "markdown",
   "metadata": {},
   "source": [
    "## bin and ball experiment: expected number of balls until collision\n",
    "- Suppose we throw balls into 500 bins randomly, until there is one bin with more than one ball (i.e., there is collison). What is the expected number of balls we need to throw?"
   ]
  },
  {
   "cell_type": "code",
   "execution_count": 14,
   "metadata": {},
   "outputs": [
    {
     "name": "stdout",
     "output_type": "stream",
     "text": [
      "None\n"
     ]
    }
   ],
   "source": [
    "def n_balls(n_trials=10**4):\n",
    "\n",
    "    pass\n",
    "\n",
    "print(n_balls())"
   ]
  },
  {
   "cell_type": "markdown",
   "metadata": {},
   "source": [
    "## expected number of coin flips until getting `n_heads` in a row\n",
    "- expected number of coin flips of an coin until getting `n_heads` heads in a row. Note that in this question, we do not assume that the coin is fair. Instead, we assume that the probability of landing a head for the coin is `p`, which is a parameter of the function to be implemented"
   ]
  },
  {
   "cell_type": "code",
   "execution_count": 15,
   "metadata": {},
   "outputs": [
    {
     "name": "stdout",
     "output_type": "stream",
     "text": [
      "None\n"
     ]
    }
   ],
   "source": [
    "def n_coin_flips(n_trials=10**4, n_heads=2, p=0.5):\n",
    "    # define head = 1, tail = 0 \n",
    "            \n",
    "    pass\n",
    "\n",
    "print(n_coin_flips(n_trials=10**4, n_heads=2, p=0.5))"
   ]
  },
  {
   "cell_type": "markdown",
   "metadata": {},
   "source": [
    "# experimentally verification of important statistical theorem"
   ]
  },
  {
   "cell_type": "markdown",
   "metadata": {},
   "source": [
    "## central limit theorem (CLT)\n",
    "- CLT states that: if $X_1, X_2,..., X_n$ are iid random variables with $E(X_i) = \\mu$ and $Var(X_i) = \\sigma^2$, then the sum of these random variables approximately follows a normal distribution, if $n$ is sufficiently large (e.g., $n>30$). That is, \n",
    "\\begin{equation}\n",
    "\\sum_i^n X_i \\sim N(n\\mu, n\\sigma^2)\n",
    "\\end{equation}\n",
    "\n",
    "\n",
    "### experimentally verify CLT\n",
    "- draw `n_rvs` iid random variables from a distribution of your choice (e.g., exponential)\n",
    "- calculate the sum of the `n_rvs` random variables\n",
    "- repeat the previous steps `n_samples` times to get a distribution of the sum of random variables\n",
    "- plot a histogram based on the result from previous step"
   ]
  },
  {
   "cell_type": "code",
   "execution_count": 16,
   "metadata": {},
   "outputs": [],
   "source": [
    "def verify_clt(n_rvs=30, n_samples=1000):\n",
    "\n",
    "        \n",
    "    pass\n",
    "verify_clt()"
   ]
  },
  {
   "cell_type": "markdown",
   "metadata": {},
   "source": [
    "## sampling distribution of sample mean is normal \n",
    "- in our basic statistics course, we learn that $\\overline{X} = \\frac{1}{n}\\sum_{i=1}^n X_i$ follows a normal distribution, if $X_i$ are iid and $n$ is sufficiently large (e.g., $n>30$). Note that $X_i$ need not follow a normal distribution. \n",
    "- in fact, this is just a direct application of the central limit theorem\n",
    "\n",
    "### experimentally verify sampling distribution of sample mean is normal \n",
    "- draw `n_rvs` iid random variables from a distribution of your choice (e.g., exponential)\n",
    "- calculate the mean of the `n_rvs` random variables\n",
    "- repeat the previous steps `n_samples` times to get a distribution of the sum of random variables\n",
    "- plot a histogram based on the result from previous step"
   ]
  },
  {
   "cell_type": "code",
   "execution_count": 17,
   "metadata": {},
   "outputs": [],
   "source": [
    "def verify_sampling(n_rvs=30, n_samples=1000):\n",
    "\n",
    "        \n",
    "    pass\n",
    "\n",
    "verify_sampling()"
   ]
  },
  {
   "cell_type": "markdown",
   "metadata": {},
   "source": [
    "## law of large number\n",
    "- In probability theory, the law of large numbers (LLN) is a theorem that describes the result of performing the same experiment a large number of times. According to the law, the average of the results obtained from a large number of trials should be close to the expected value and tends to become closer to the expected value as more trials are performed.\n",
    "- More formally, if $X_1, X_2,..., X_n$ are iid random variables with $E(X_i) = \\mu$, then \n",
    "\\begin{equation}\n",
    "\\lim_{n\\rightarrow \\infty}\\frac{\\sum_i^n X_i}{n} = \\mu\n",
    "\\end{equation}\n",
    "- in fact, we often use law of large number without us realizing it. For example, suppose you have a coin which you suggest might be biased (i.e., the probability of landing a head may not be 0.5). How do you go about checking the probability of landing a head in this case? \n",
    "\t- you might flip the coin multiple times, and record how many times head appear, and then divide this number by the number of times you flip it, and use this final number as an estimate of the probability of landing a head.\n",
    "\t- If you do it this way, you are exactly using law of large number to estimate the probability\n",
    "\n",
    "### experimentally verify law of large number\n",
    "- draw `n_rvs` iid random variables from a distribution of your choice (e.g., exponential)\n",
    "- calculate the mean of the `n_rvs` random variables\n",
    "- calculate the percentage difference from the true mean of the random variable\n",
    "- you can also make a line plot to show the percentage difference between the true mean and the sample mean as the sample size increases from 1 to `n_rvs`"
   ]
  },
  {
   "cell_type": "code",
   "execution_count": 18,
   "metadata": {},
   "outputs": [],
   "source": [
    "def verify_lln(n_rvs=500):\n",
    "    pass\n",
    "\n",
    "verify_lln()"
   ]
  },
  {
   "cell_type": "markdown",
   "metadata": {},
   "source": [
    "# calculate confidence interval in python\n",
    "in this exercise, we calculate the CI for population mean. Specifically,\n",
    "- draw `n_samples` samples from a population of your choice (e.g., exponential distribution)\n",
    "- calculate the CI for population mean\n",
    "- you can also simulate the CI multiple times, to see the percentage of times the CI contains the true population mean"
   ]
  },
  {
   "cell_type": "code",
   "execution_count": 19,
   "metadata": {},
   "outputs": [
    {
     "name": "stdout",
     "output_type": "stream",
     "text": [
      "None\n"
     ]
    }
   ],
   "source": [
    "def cal_ci(n_samples=30, alpha=0.05):\n",
    "    pass\n",
    "\n",
    "print(cal_ci())\n",
    "\n",
    "\n",
    "# stats.t(df=len(data)-1, loc=data.mean(), scale=stats.sem(data)).interval(alpha=0.95)"
   ]
  },
  {
   "cell_type": "code",
   "execution_count": 20,
   "metadata": {},
   "outputs": [],
   "source": [
    "# n = 100\n",
    "# alpha = 0.05\n",
    "# dist = stats.norm(scale=5, loc=20)\n",
    "# data = dist.rvs(n)\n",
    "# sd = data.std(ddof=1)\n",
    "# low, high = stats.chi2(df=n-1).interval(0.95)\n",
    "\n",
    "# ((n-1)*sd**2)/high\n",
    "# ((n-1)*sd**2)/low"
   ]
  },
  {
   "cell_type": "code",
   "execution_count": null,
   "metadata": {},
   "outputs": [],
   "source": []
  }
 ],
 "metadata": {
  "kernelspec": {
   "display_name": "Python 3.10.4 ('data_science')",
   "language": "python",
   "name": "python3"
  },
  "language_info": {
   "codemirror_mode": {
    "name": "ipython",
    "version": 3
   },
   "file_extension": ".py",
   "mimetype": "text/x-python",
   "name": "python",
   "nbconvert_exporter": "python",
   "pygments_lexer": "ipython3",
   "version": "3.10.4"
  },
  "orig_nbformat": 4,
  "vscode": {
   "interpreter": {
    "hash": "ae74f9feb07f97b665e59d852dca9947bf3c6be9bdf551f43d711a8fd00af3ab"
   }
  }
 },
 "nbformat": 4,
 "nbformat_minor": 2
}
