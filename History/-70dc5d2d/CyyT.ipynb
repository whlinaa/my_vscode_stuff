{
 "cells": [
  {
   "cell_type": "code",
   "execution_count": 105,
   "metadata": {},
   "outputs": [],
   "source": [
    "from ds_preamble import *"
   ]
  },
  {
   "cell_type": "code",
   "execution_count": 106,
   "metadata": {},
   "outputs": [
    {
     "name": "stdout",
     "output_type": "stream",
     "text": [
      "<class 'pandas.core.frame.DataFrame'>\n",
      "RangeIndex: 41188 entries, 0 to 41187\n",
      "Data columns (total 26 columns):\n",
      " #   Column          Non-Null Count  Dtype  \n",
      "---  ------          --------------  -----  \n",
      " 0   age             41188 non-null  int64  \n",
      " 1   job             40858 non-null  object \n",
      " 2   marital         41188 non-null  object \n",
      " 3   education       39457 non-null  object \n",
      " 4   default         32591 non-null  object \n",
      " 5   housing         40198 non-null  object \n",
      " 6   loan            41188 non-null  object \n",
      " 7   contact         41188 non-null  object \n",
      " 8   month           41188 non-null  object \n",
      " 9   day_of_week     41188 non-null  object \n",
      " 10  campaign        41188 non-null  int64  \n",
      " 11  pdays           41188 non-null  int64  \n",
      " 12  previous        41188 non-null  int64  \n",
      " 13  poutcome        41188 non-null  object \n",
      " 14  emp.var.rate    41188 non-null  float64\n",
      " 15  cons.price.idx  41188 non-null  float64\n",
      " 16  cons.conf.idx   41188 non-null  float64\n",
      " 17  euribor3m       41188 non-null  float64\n",
      " 18  nr.employed     41188 non-null  float64\n",
      " 19  y               41188 non-null  object \n",
      " 20  gender          41188 non-null  object \n",
      " 21  balance_unit    41188 non-null  object \n",
      " 22  balance         40037 non-null  object \n",
      " 23  income_yr1      41188 non-null  float64\n",
      " 24  income_yr2      39911 non-null  float64\n",
      " 25  income_yr3      38684 non-null  float64\n",
      "dtypes: float64(8), int64(4), object(14)\n",
      "memory usage: 8.2+ MB\n"
     ]
    }
   ],
   "source": [
    "df = pd.read_csv('bank_data.csv')\n",
    "df.info()"
   ]
  },
  {
   "cell_type": "code",
   "execution_count": 107,
   "metadata": {},
   "outputs": [
    {
     "data": {
      "text/plain": [
       "<AxesSubplot:xlabel='y'>"
      ]
     },
     "execution_count": 107,
     "metadata": {},
     "output_type": "execute_result"
    },
    {
     "data": {
      "text/plain": [
       "<Figure size 576x360 with 0 Axes>"
      ]
     },
     "execution_count": 107,
     "metadata": {},
     "output_type": "execute_result"
    },
    {
     "data": {
      "text/plain": [
       "<AxesSubplot:xlabel='y', ylabel='income_yr1'>"
      ]
     },
     "execution_count": 107,
     "metadata": {},
     "output_type": "execute_result"
    },
    {
     "data": {
      "image/png": "[encoded data removed]",
      "text/plain": [
       "<Figure size 576x360 with 1 Axes>"
      ]
     },
     "metadata": {},
     "output_type": "display_data"
    },
    {
     "data": {
      "image/png": "[encoded data removed]",
      "text/plain": [
       "<Figure size 576x360 with 1 Axes>"
      ]
     },
     "metadata": {},
     "output_type": "display_data"
    }
   ],
   "source": [
    "# df.income_yr1\n",
    "\n",
    "# plt.scatter(df.income_yr1, df.y)\n",
    "\n",
    "df.groupby('y')['income_yr1'].mean().plot.bar()\n",
    "plt.figure()\n",
    "sns.barplot(data=df, x='y', y='income_yr1')\n"
   ]
  },
  {
   "cell_type": "code",
   "execution_count": 108,
   "metadata": {},
   "outputs": [],
   "source": [
    "df['age_group']=pd.cut(df.age, bins=[0,18,31,41,51,61,np.inf], right=False)"
   ]
  },
  {
   "cell_type": "code",
   "execution_count": 109,
   "metadata": {},
   "outputs": [],
   "source": [
    "# .startswith('income_yr')\n",
    "\n",
    "df['income'] = df.loc[:, df.columns.str.startswith('income_yr')].mean(axis=1)"
   ]
  },
  {
   "cell_type": "code",
   "execution_count": 110,
   "metadata": {},
   "outputs": [
    {
     "data": {
      "text/plain": [
       "float"
      ]
     },
     "execution_count": 110,
     "metadata": {},
     "output_type": "execute_result"
    },
    {
     "data": {
      "text/plain": [
       "False"
      ]
     },
     "execution_count": 110,
     "metadata": {},
     "output_type": "execute_result"
    },
    {
     "data": {
      "text/plain": [
       "False"
      ]
     },
     "execution_count": 110,
     "metadata": {},
     "output_type": "execute_result"
    },
    {
     "data": {
      "text/plain": [
       "True"
      ]
     },
     "execution_count": 110,
     "metadata": {},
     "output_type": "execute_result"
    },
    {
     "data": {
      "text/plain": [
       "nan"
      ]
     },
     "execution_count": 110,
     "metadata": {},
     "output_type": "execute_result"
    }
   ],
   "source": [
    "# df.balance.values[:30]\n",
    "\n",
    "\n",
    "# df.balance[lambda x: x.isna()]\n",
    "\n",
    "# df.balance[df.balance.isna()]\n",
    "\n",
    "type(df.balance[3])\n",
    "\n",
    "\n",
    "df.balance[3] =='nan'\n",
    "df.balance[3] == float('nan')\n",
    "\n",
    "# pd.na()\n",
    "pd.isna(df.balance[3])\n",
    "\n",
    "df.balance[3]\n",
    "\n",
    "\n"
   ]
  },
  {
   "cell_type": "code",
   "execution_count": 111,
   "metadata": {},
   "outputs": [
    {
     "data": {
      "text/plain": [
       "array([' 2143 USD', '29US ', '2 HKD', ..., ' USD9962 ', '2239 Usd ',\n",
       "       'HKD1978 '], dtype=object)"
      ]
     },
     "execution_count": 111,
     "metadata": {},
     "output_type": "execute_result"
    }
   ],
   "source": [
    "vals = df.balance.values\n",
    "vals"
   ]
  },
  {
   "cell_type": "code",
   "execution_count": 112,
   "metadata": {},
   "outputs": [],
   "source": [
    "for i, val in enumerate(vals):\n",
    "    # dollar = int(''.join(c for c in val if c.isdigit()))\n",
    "    # if val != float('nan'):\n",
    "    # if val != float('nan'):\n",
    "    if not pd.isna(val):\n",
    "        # print([c for c in val if c.isdigit() or c=='-'])\n",
    "        dollar = int(''.join(c for c in val if c.isdigit() or c=='-'))\n",
    "        if 'us' in val.lower():\n",
    "            dollar*=7.8\n",
    "        vals[i] = dollar\n",
    "\n",
    "# int('-371')\n"
   ]
  },
  {
   "cell_type": "code",
   "execution_count": 101,
   "metadata": {},
   "outputs": [
    {
     "data": {
      "text/plain": [
       "0.027945032533747693"
      ]
     },
     "execution_count": 101,
     "metadata": {},
     "output_type": "execute_result"
    },
    {
     "data": {
      "text/plain": [
       "0.0"
      ]
     },
     "execution_count": 101,
     "metadata": {},
     "output_type": "execute_result"
    }
   ],
   "source": [
    "df.balance.isna().mean() # percent of missing\n",
    "df.income.isna().mean()"
   ]
  },
  {
   "cell_type": "code",
   "execution_count": 121,
   "metadata": {},
   "outputs": [
    {
     "data": {
      "text/plain": [
       "0        16715.4\n",
       "1          226.2\n",
       "2            2.0\n",
       "3         1301.0\n",
       "4            7.8\n",
       "          ...   \n",
       "41183    10253.0\n",
       "41184     2706.6\n",
       "41185    77703.6\n",
       "41186    17464.2\n",
       "41187     1978.0\n",
       "Name: balance, Length: 41188, dtype: float64"
      ]
     },
     "execution_count": 121,
     "metadata": {},
     "output_type": "execute_result"
    }
   ],
   "source": [
    "df.balance.fillna(df.balance.median())"
   ]
  },
  {
   "cell_type": "code",
   "execution_count": 122,
   "metadata": {},
   "outputs": [
    {
     "data": {
      "text/plain": [
       "0        16715.4\n",
       "1          226.2\n",
       "2            2.0\n",
       "3         1349.4\n",
       "4            7.8\n",
       "          ...   \n",
       "41183    10253.0\n",
       "41184     2706.6\n",
       "41185    77703.6\n",
       "41186    17464.2\n",
       "41187     1978.0\n",
       "Name: balance, Length: 41188, dtype: float64"
      ]
     },
     "execution_count": 122,
     "metadata": {},
     "output_type": "execute_result"
    }
   ],
   "source": [
    "df.groupby(['age_group', 'gender']).balance.transform(lambda x: x.fillna(x.median()))\n",
    "\n",
    "# temp = df.groupby(['age_group', 'gender']).balance.transform('median')\n",
    "# df.balance\n",
    "# df.balance.fillna(temp)\n",
    "\n",
    "\n",
    "\n",
    "\n",
    "# temp[temp.isna()] # check if there are missing after imputation\n",
    "# df.balance = temp"
   ]
  },
  {
   "cell_type": "code",
   "execution_count": 104,
   "metadata": {},
   "outputs": [
    {
     "data": {
      "text/plain": [
       "0        2.576975e+05\n",
       "1        2.917292e+05\n",
       "2        2.917292e+05\n",
       "3        2.685856e+05\n",
       "4        2.917292e+05\n",
       "             ...     \n",
       "41183    2.072555e+06\n",
       "41184    2.072555e+06\n",
       "41185    8.955915e+05\n",
       "41186    2.072555e+06\n",
       "41187    2.072555e+06\n",
       "Name: income, Length: 41188, dtype: float64"
      ]
     },
     "execution_count": 104,
     "metadata": {},
     "output_type": "execute_result"
    }
   ],
   "source": [
    "temp = df.groupby('education').income.transform('median')\n",
    "temp\n",
    "\n",
    "\n",
    "# temp[temp.isna()] # check if there are missing after imputation\n",
    "\n",
    "# df.balance = temp"
   ]
  },
  {
   "cell_type": "code",
   "execution_count": null,
   "metadata": {},
   "outputs": [],
   "source": []
  }
 ],
 "metadata": {
  "interpreter": {
   "hash": "ae74f9feb07f97b665e59d852dca9947bf3c6be9bdf551f43d711a8fd00af3ab"
  },
  "kernelspec": {
   "display_name": "Python 3.9.7 ('data_science')",
   "language": "python",
   "name": "python3"
  },
  "language_info": {
   "codemirror_mode": {
    "name": "ipython",
    "version": 3
   },
   "file_extension": ".py",
   "mimetype": "text/x-python",
   "name": "python",
   "nbconvert_exporter": "python",
   "pygments_lexer": "ipython3",
   "version": "3.9.7"
  },
  "orig_nbformat": 4
 },
 "nbformat": 4,
 "nbformat_minor": 2
}
