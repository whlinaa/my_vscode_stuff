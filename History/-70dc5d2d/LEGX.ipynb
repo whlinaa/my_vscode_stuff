{
 "cells": [
  {
   "cell_type": "code",
   "execution_count": 1,
   "metadata": {},
   "outputs": [],
   "source": [
    "from ds_preamble import *"
   ]
  },
  {
   "cell_type": "code",
   "execution_count": 2,
   "metadata": {},
   "outputs": [
    {
     "name": "stdout",
     "output_type": "stream",
     "text": [
      "<class 'pandas.core.frame.DataFrame'>\n",
      "RangeIndex: 41188 entries, 0 to 41187\n",
      "Data columns (total 26 columns):\n",
      " #   Column          Non-Null Count  Dtype  \n",
      "---  ------          --------------  -----  \n",
      " 0   age             41188 non-null  int64  \n",
      " 1   job             40858 non-null  object \n",
      " 2   marital         41188 non-null  object \n",
      " 3   education       39457 non-null  object \n",
      " 4   default         32591 non-null  object \n",
      " 5   housing         40198 non-null  object \n",
      " 6   loan            41188 non-null  object \n",
      " 7   contact         41188 non-null  object \n",
      " 8   month           41188 non-null  object \n",
      " 9   day_of_week     41188 non-null  object \n",
      " 10  campaign        41188 non-null  int64  \n",
      " 11  pdays           41188 non-null  int64  \n",
      " 12  previous        41188 non-null  int64  \n",
      " 13  poutcome        41188 non-null  object \n",
      " 14  emp.var.rate    41188 non-null  float64\n",
      " 15  cons.price.idx  41188 non-null  float64\n",
      " 16  cons.conf.idx   41188 non-null  float64\n",
      " 17  euribor3m       41188 non-null  float64\n",
      " 18  nr.employed     41188 non-null  float64\n",
      " 19  y               41188 non-null  object \n",
      " 20  gender          41188 non-null  object \n",
      " 21  balance_unit    41188 non-null  object \n",
      " 22  balance         40037 non-null  object \n",
      " 23  income_yr1      41188 non-null  float64\n",
      " 24  income_yr2      39911 non-null  float64\n",
      " 25  income_yr3      38684 non-null  float64\n",
      "dtypes: float64(8), int64(4), object(14)\n",
      "memory usage: 8.2+ MB\n"
     ]
    }
   ],
   "source": [
    "df = pd.read_csv('bank_data.csv')\n",
    "df.info()"
   ]
  },
  {
   "cell_type": "code",
   "execution_count": 3,
   "metadata": {},
   "outputs": [
    {
     "data": {
      "text/plain": [
       "<AxesSubplot:xlabel='y'>"
      ]
     },
     "execution_count": 3,
     "metadata": {},
     "output_type": "execute_result"
    },
    {
     "data": {
      "text/plain": [
       "<Figure size 576x360 with 0 Axes>"
      ]
     },
     "execution_count": 3,
     "metadata": {},
     "output_type": "execute_result"
    },
    {
     "data": {
      "text/plain": [
       "<AxesSubplot:xlabel='y', ylabel='income_yr1'>"
      ]
     },
     "execution_count": 3,
     "metadata": {},
     "output_type": "execute_result"
    },
    {
     "data": {
      "image/png": "[encoded data removed]",
      "text/plain": [
       "<Figure size 576x360 with 1 Axes>"
      ]
     },
     "metadata": {},
     "output_type": "display_data"
    },
    {
     "data": {
      "image/png": "[encoded data removed]",
      "text/plain": [
       "<Figure size 576x360 with 1 Axes>"
      ]
     },
     "metadata": {},
     "output_type": "display_data"
    }
   ],
   "source": [
    "# df.income_yr1\n",
    "\n",
    "# plt.scatter(df.income_yr1, df.y)\n",
    "\n",
    "df.groupby('y')['income_yr1'].mean().plot.bar()\n",
    "plt.figure()\n",
    "sns.barplot(data=df, x='y', y='income_yr1')\n"
   ]
  },
  {
   "cell_type": "code",
   "execution_count": 4,
   "metadata": {},
   "outputs": [
    {
     "data": {
      "text/html": [
       "<div>\n",
       "<style scoped>\n",
       "    .dataframe tbody tr th:only-of-type {\n",
       "        vertical-align: middle;\n",
       "    }\n",
       "\n",
       "    .dataframe tbody tr th {\n",
       "        vertical-align: top;\n",
       "    }\n",
       "\n",
       "    .dataframe thead th {\n",
       "        text-align: right;\n",
       "    }\n",
       "</style>\n",
       "<table border=\"1\" class=\"dataframe\">\n",
       "  <thead>\n",
       "    <tr style=\"text-align: right;\">\n",
       "      <th></th>\n",
       "      <th>age</th>\n",
       "      <th>job</th>\n",
       "      <th>marital</th>\n",
       "      <th>education</th>\n",
       "      <th>default</th>\n",
       "      <th>housing</th>\n",
       "      <th>loan</th>\n",
       "      <th>contact</th>\n",
       "      <th>month</th>\n",
       "      <th>day_of_week</th>\n",
       "      <th>...</th>\n",
       "      <th>euribor3m</th>\n",
       "      <th>nr.employed</th>\n",
       "      <th>y</th>\n",
       "      <th>gender</th>\n",
       "      <th>balance_unit</th>\n",
       "      <th>balance</th>\n",
       "      <th>income_yr1</th>\n",
       "      <th>income_yr2</th>\n",
       "      <th>income_yr3</th>\n",
       "      <th>age_group</th>\n",
       "    </tr>\n",
       "  </thead>\n",
       "  <tbody>\n",
       "    <tr>\n",
       "      <th>0</th>\n",
       "      <td>56</td>\n",
       "      <td>housemaid</td>\n",
       "      <td>married</td>\n",
       "      <td>basic.4y</td>\n",
       "      <td>no</td>\n",
       "      <td>no</td>\n",
       "      <td>no</td>\n",
       "      <td>telephone</td>\n",
       "      <td>may</td>\n",
       "      <td>mon</td>\n",
       "      <td>...</td>\n",
       "      <td>4.857</td>\n",
       "      <td>5191.0</td>\n",
       "      <td>no</td>\n",
       "      <td>F</td>\n",
       "      <td>USD</td>\n",
       "      <td>2143 USD</td>\n",
       "      <td>2.786048e+05</td>\n",
       "      <td>2.664948e+05</td>\n",
       "      <td>2.588092e+05</td>\n",
       "      <td>[51.0, 61.0)</td>\n",
       "    </tr>\n",
       "    <tr>\n",
       "      <th>1</th>\n",
       "      <td>57</td>\n",
       "      <td>services</td>\n",
       "      <td>married</td>\n",
       "      <td>high.school</td>\n",
       "      <td>NaN</td>\n",
       "      <td>no</td>\n",
       "      <td>no</td>\n",
       "      <td>telephone</td>\n",
       "      <td>may</td>\n",
       "      <td>mon</td>\n",
       "      <td>...</td>\n",
       "      <td>4.857</td>\n",
       "      <td>5191.0</td>\n",
       "      <td>no</td>\n",
       "      <td>F</td>\n",
       "      <td>US</td>\n",
       "      <td>29US</td>\n",
       "      <td>3.013433e+05</td>\n",
       "      <td>2.721156e+05</td>\n",
       "      <td>2.583570e+05</td>\n",
       "      <td>[51.0, 61.0)</td>\n",
       "    </tr>\n",
       "    <tr>\n",
       "      <th>2</th>\n",
       "      <td>37</td>\n",
       "      <td>services</td>\n",
       "      <td>married</td>\n",
       "      <td>high.school</td>\n",
       "      <td>no</td>\n",
       "      <td>yes</td>\n",
       "      <td>no</td>\n",
       "      <td>telephone</td>\n",
       "      <td>may</td>\n",
       "      <td>mon</td>\n",
       "      <td>...</td>\n",
       "      <td>4.857</td>\n",
       "      <td>5191.0</td>\n",
       "      <td>no</td>\n",
       "      <td>F</td>\n",
       "      <td>HKD</td>\n",
       "      <td>2 HKD</td>\n",
       "      <td>3.221064e+05</td>\n",
       "      <td>3.167844e+05</td>\n",
       "      <td>2.603720e+05</td>\n",
       "      <td>[31.0, 41.0)</td>\n",
       "    </tr>\n",
       "    <tr>\n",
       "      <th>3</th>\n",
       "      <td>40</td>\n",
       "      <td>admin.</td>\n",
       "      <td>married</td>\n",
       "      <td>basic.6y</td>\n",
       "      <td>no</td>\n",
       "      <td>no</td>\n",
       "      <td>no</td>\n",
       "      <td>telephone</td>\n",
       "      <td>may</td>\n",
       "      <td>mon</td>\n",
       "      <td>...</td>\n",
       "      <td>4.857</td>\n",
       "      <td>5191.0</td>\n",
       "      <td>no</td>\n",
       "      <td>M</td>\n",
       "      <td>Usd</td>\n",
       "      <td>NaN</td>\n",
       "      <td>2.568696e+05</td>\n",
       "      <td>2.273920e+05</td>\n",
       "      <td>1.995468e+05</td>\n",
       "      <td>[31.0, 41.0)</td>\n",
       "    </tr>\n",
       "    <tr>\n",
       "      <th>4</th>\n",
       "      <td>56</td>\n",
       "      <td>services</td>\n",
       "      <td>married</td>\n",
       "      <td>high.school</td>\n",
       "      <td>no</td>\n",
       "      <td>no</td>\n",
       "      <td>yes</td>\n",
       "      <td>telephone</td>\n",
       "      <td>may</td>\n",
       "      <td>mon</td>\n",
       "      <td>...</td>\n",
       "      <td>4.857</td>\n",
       "      <td>5191.0</td>\n",
       "      <td>no</td>\n",
       "      <td>F</td>\n",
       "      <td>US</td>\n",
       "      <td>1 US</td>\n",
       "      <td>2.404423e+05</td>\n",
       "      <td>2.155838e+05</td>\n",
       "      <td>2.032015e+05</td>\n",
       "      <td>[51.0, 61.0)</td>\n",
       "    </tr>\n",
       "    <tr>\n",
       "      <th>...</th>\n",
       "      <td>...</td>\n",
       "      <td>...</td>\n",
       "      <td>...</td>\n",
       "      <td>...</td>\n",
       "      <td>...</td>\n",
       "      <td>...</td>\n",
       "      <td>...</td>\n",
       "      <td>...</td>\n",
       "      <td>...</td>\n",
       "      <td>...</td>\n",
       "      <td>...</td>\n",
       "      <td>...</td>\n",
       "      <td>...</td>\n",
       "      <td>...</td>\n",
       "      <td>...</td>\n",
       "      <td>...</td>\n",
       "      <td>...</td>\n",
       "      <td>...</td>\n",
       "      <td>...</td>\n",
       "      <td>...</td>\n",
       "      <td>...</td>\n",
       "    </tr>\n",
       "    <tr>\n",
       "      <th>41183</th>\n",
       "      <td>73</td>\n",
       "      <td>retired</td>\n",
       "      <td>married</td>\n",
       "      <td>professional.course</td>\n",
       "      <td>no</td>\n",
       "      <td>yes</td>\n",
       "      <td>no</td>\n",
       "      <td>cellular</td>\n",
       "      <td>nov</td>\n",
       "      <td>fri</td>\n",
       "      <td>...</td>\n",
       "      <td>1.028</td>\n",
       "      <td>4963.6</td>\n",
       "      <td>yes</td>\n",
       "      <td>F</td>\n",
       "      <td>HK</td>\n",
       "      <td>10253HK</td>\n",
       "      <td>2.337070e+06</td>\n",
       "      <td>2.213367e+06</td>\n",
       "      <td>1.960756e+06</td>\n",
       "      <td>[61.0, inf)</td>\n",
       "    </tr>\n",
       "    <tr>\n",
       "      <th>41184</th>\n",
       "      <td>46</td>\n",
       "      <td>blue-collar</td>\n",
       "      <td>married</td>\n",
       "      <td>professional.course</td>\n",
       "      <td>no</td>\n",
       "      <td>no</td>\n",
       "      <td>no</td>\n",
       "      <td>cellular</td>\n",
       "      <td>nov</td>\n",
       "      <td>fri</td>\n",
       "      <td>...</td>\n",
       "      <td>1.028</td>\n",
       "      <td>4963.6</td>\n",
       "      <td>no</td>\n",
       "      <td>F</td>\n",
       "      <td>USD</td>\n",
       "      <td>USD347</td>\n",
       "      <td>1.638964e+06</td>\n",
       "      <td>1.536481e+06</td>\n",
       "      <td>1.354816e+06</td>\n",
       "      <td>[41.0, 51.0)</td>\n",
       "    </tr>\n",
       "    <tr>\n",
       "      <th>41185</th>\n",
       "      <td>56</td>\n",
       "      <td>retired</td>\n",
       "      <td>married</td>\n",
       "      <td>university.degree</td>\n",
       "      <td>no</td>\n",
       "      <td>yes</td>\n",
       "      <td>no</td>\n",
       "      <td>cellular</td>\n",
       "      <td>nov</td>\n",
       "      <td>fri</td>\n",
       "      <td>...</td>\n",
       "      <td>1.028</td>\n",
       "      <td>4963.6</td>\n",
       "      <td>no</td>\n",
       "      <td>F</td>\n",
       "      <td>USD</td>\n",
       "      <td>USD9962</td>\n",
       "      <td>9.549360e+05</td>\n",
       "      <td>9.581220e+05</td>\n",
       "      <td>8.436968e+05</td>\n",
       "      <td>[51.0, 61.0)</td>\n",
       "    </tr>\n",
       "    <tr>\n",
       "      <th>41186</th>\n",
       "      <td>44</td>\n",
       "      <td>technician</td>\n",
       "      <td>married</td>\n",
       "      <td>professional.course</td>\n",
       "      <td>no</td>\n",
       "      <td>no</td>\n",
       "      <td>no</td>\n",
       "      <td>cellular</td>\n",
       "      <td>nov</td>\n",
       "      <td>fri</td>\n",
       "      <td>...</td>\n",
       "      <td>1.028</td>\n",
       "      <td>4963.6</td>\n",
       "      <td>yes</td>\n",
       "      <td>M</td>\n",
       "      <td>Usd</td>\n",
       "      <td>2239 Usd</td>\n",
       "      <td>2.248269e+06</td>\n",
       "      <td>2.010492e+06</td>\n",
       "      <td>2.002747e+06</td>\n",
       "      <td>[41.0, 51.0)</td>\n",
       "    </tr>\n",
       "    <tr>\n",
       "      <th>41187</th>\n",
       "      <td>74</td>\n",
       "      <td>retired</td>\n",
       "      <td>married</td>\n",
       "      <td>professional.course</td>\n",
       "      <td>no</td>\n",
       "      <td>yes</td>\n",
       "      <td>no</td>\n",
       "      <td>cellular</td>\n",
       "      <td>nov</td>\n",
       "      <td>fri</td>\n",
       "      <td>...</td>\n",
       "      <td>1.028</td>\n",
       "      <td>4963.6</td>\n",
       "      <td>no</td>\n",
       "      <td>F</td>\n",
       "      <td>HKD</td>\n",
       "      <td>HKD1978</td>\n",
       "      <td>2.272148e+06</td>\n",
       "      <td>2.119993e+06</td>\n",
       "      <td>NaN</td>\n",
       "      <td>[61.0, inf)</td>\n",
       "    </tr>\n",
       "  </tbody>\n",
       "</table>\n",
       "<p>41188 rows × 27 columns</p>\n",
       "</div>"
      ],
      "text/plain": [
       "       age          job  marital            education default housing loan  \\\n",
       "0       56    housemaid  married             basic.4y      no      no   no   \n",
       "1       57     services  married          high.school     NaN      no   no   \n",
       "2       37     services  married          high.school      no     yes   no   \n",
       "3       40       admin.  married             basic.6y      no      no   no   \n",
       "4       56     services  married          high.school      no      no  yes   \n",
       "...    ...          ...      ...                  ...     ...     ...  ...   \n",
       "41183   73      retired  married  professional.course      no     yes   no   \n",
       "41184   46  blue-collar  married  professional.course      no      no   no   \n",
       "41185   56      retired  married    university.degree      no     yes   no   \n",
       "41186   44   technician  married  professional.course      no      no   no   \n",
       "41187   74      retired  married  professional.course      no     yes   no   \n",
       "\n",
       "         contact month day_of_week  ...  euribor3m  nr.employed    y gender  \\\n",
       "0      telephone   may         mon  ...      4.857       5191.0   no      F   \n",
       "1      telephone   may         mon  ...      4.857       5191.0   no      F   \n",
       "2      telephone   may         mon  ...      4.857       5191.0   no      F   \n",
       "3      telephone   may         mon  ...      4.857       5191.0   no      M   \n",
       "4      telephone   may         mon  ...      4.857       5191.0   no      F   \n",
       "...          ...   ...         ...  ...        ...          ...  ...    ...   \n",
       "41183   cellular   nov         fri  ...      1.028       4963.6  yes      F   \n",
       "41184   cellular   nov         fri  ...      1.028       4963.6   no      F   \n",
       "41185   cellular   nov         fri  ...      1.028       4963.6   no      F   \n",
       "41186   cellular   nov         fri  ...      1.028       4963.6  yes      M   \n",
       "41187   cellular   nov         fri  ...      1.028       4963.6   no      F   \n",
       "\n",
       "       balance_unit    balance    income_yr1    income_yr2    income_yr3  \\\n",
       "0               USD   2143 USD  2.786048e+05  2.664948e+05  2.588092e+05   \n",
       "1                US      29US   3.013433e+05  2.721156e+05  2.583570e+05   \n",
       "2               HKD      2 HKD  3.221064e+05  3.167844e+05  2.603720e+05   \n",
       "3               Usd        NaN  2.568696e+05  2.273920e+05  1.995468e+05   \n",
       "4                US       1 US  2.404423e+05  2.155838e+05  2.032015e+05   \n",
       "...             ...        ...           ...           ...           ...   \n",
       "41183            HK    10253HK  2.337070e+06  2.213367e+06  1.960756e+06   \n",
       "41184           USD    USD347   1.638964e+06  1.536481e+06  1.354816e+06   \n",
       "41185           USD   USD9962   9.549360e+05  9.581220e+05  8.436968e+05   \n",
       "41186           Usd  2239 Usd   2.248269e+06  2.010492e+06  2.002747e+06   \n",
       "41187           HKD   HKD1978   2.272148e+06  2.119993e+06           NaN   \n",
       "\n",
       "          age_group  \n",
       "0      [51.0, 61.0)  \n",
       "1      [51.0, 61.0)  \n",
       "2      [31.0, 41.0)  \n",
       "3      [31.0, 41.0)  \n",
       "4      [51.0, 61.0)  \n",
       "...             ...  \n",
       "41183   [61.0, inf)  \n",
       "41184  [41.0, 51.0)  \n",
       "41185  [51.0, 61.0)  \n",
       "41186  [41.0, 51.0)  \n",
       "41187   [61.0, inf)  \n",
       "\n",
       "[41188 rows x 27 columns]"
      ]
     },
     "execution_count": 4,
     "metadata": {},
     "output_type": "execute_result"
    }
   ],
   "source": [
    "df['age_group']=pd.cut(df.age, bins=[18,31,41,51,61,np.inf], right=False)\n",
    "df"
   ]
  },
  {
   "cell_type": "code",
   "execution_count": 5,
   "metadata": {},
   "outputs": [],
   "source": [
    "# .startswith('income_yr')\n",
    "\n",
    "df['income'] = df.loc[:, df.columns.str.startswith('income_yr')].mean(axis=1)"
   ]
  },
  {
   "cell_type": "code",
   "execution_count": 6,
   "metadata": {},
   "outputs": [
    {
     "data": {
      "text/plain": [
       "float"
      ]
     },
     "execution_count": 6,
     "metadata": {},
     "output_type": "execute_result"
    },
    {
     "data": {
      "text/plain": [
       "False"
      ]
     },
     "execution_count": 6,
     "metadata": {},
     "output_type": "execute_result"
    },
    {
     "data": {
      "text/plain": [
       "False"
      ]
     },
     "execution_count": 6,
     "metadata": {},
     "output_type": "execute_result"
    },
    {
     "data": {
      "text/plain": [
       "True"
      ]
     },
     "execution_count": 6,
     "metadata": {},
     "output_type": "execute_result"
    },
    {
     "data": {
      "text/plain": [
       "nan"
      ]
     },
     "execution_count": 6,
     "metadata": {},
     "output_type": "execute_result"
    }
   ],
   "source": [
    "# df.balance.values[:30]\n",
    "\n",
    "\n",
    "# df.balance[lambda x: x.isna()]\n",
    "\n",
    "# df.balance[df.balance.isna()]\n",
    "\n",
    "type(df.balance[3])\n",
    "\n",
    "\n",
    "df.balance[3] =='nan'\n",
    "df.balance[3] == float('nan')\n",
    "\n",
    "# pd.na()\n",
    "pd.isna(df.balance[3])\n",
    "\n",
    "df.balance[3]\n",
    "\n",
    "\n"
   ]
  },
  {
   "cell_type": "code",
   "execution_count": 7,
   "metadata": {},
   "outputs": [
    {
     "data": {
      "text/plain": [
       "array([' 2143 USD', '29US ', '2 HKD', ..., ' USD9962 ', '2239 Usd ',\n",
       "       'HKD1978 '], dtype=object)"
      ]
     },
     "execution_count": 7,
     "metadata": {},
     "output_type": "execute_result"
    }
   ],
   "source": [
    "vals = df.balance.values\n",
    "vals"
   ]
  },
  {
   "cell_type": "code",
   "execution_count": 8,
   "metadata": {},
   "outputs": [],
   "source": [
    "for i, val in enumerate(vals):\n",
    "    # dollar = int(''.join(c for c in val if c.isdigit()))\n",
    "    # if val != float('nan'):\n",
    "    # if val != float('nan'):\n",
    "    if not pd.isna(val):\n",
    "        # print([c for c in val if c.isdigit() or c=='-'])\n",
    "        dollar = int(''.join(c for c in val if c.isdigit() or c=='-'))\n",
    "        if 'us' in val.lower():\n",
    "            dollar*=7.8\n",
    "        vals[i] = dollar\n",
    "\n",
    "# int('-371')\n"
   ]
  },
  {
   "cell_type": "code",
   "execution_count": 9,
   "metadata": {},
   "outputs": [
    {
     "data": {
      "text/plain": [
       "0        16715.4\n",
       "1          226.2\n",
       "2              2\n",
       "3            NaN\n",
       "4            7.8\n",
       "          ...   \n",
       "41183      10253\n",
       "41184     2706.6\n",
       "41185    77703.6\n",
       "41186    17464.2\n",
       "41187       1978\n",
       "Name: balance, Length: 41188, dtype: object"
      ]
     },
     "execution_count": 9,
     "metadata": {},
     "output_type": "execute_result"
    }
   ],
   "source": [
    "df.balance"
   ]
  },
  {
   "cell_type": "code",
   "execution_count": 21,
   "metadata": {},
   "outputs": [
    {
     "data": {
      "text/plain": [
       "0.027945032533747693"
      ]
     },
     "execution_count": 21,
     "metadata": {},
     "output_type": "execute_result"
    },
    {
     "data": {
      "text/plain": [
       "age_group     gender\n",
       "[18.0, 31.0)  F         1123.2\n",
       "              M         1270.0\n",
       "[31.0, 41.0)  F         1332.0\n",
       "              M         1349.4\n",
       "[41.0, 51.0)  F         1365.0\n",
       "              M         1257.0\n",
       "[51.0, 61.0)  F         1290.0\n",
       "              M         1229.3\n",
       "[61.0, inf)   F         1271.4\n",
       "              M         1498.5\n",
       "Name: balance, dtype: float64"
      ]
     },
     "execution_count": 21,
     "metadata": {},
     "output_type": "execute_result"
    }
   ],
   "source": [
    "df.balance.isna().mean()\n",
    "\n",
    "med = df.groupby(['age_group', 'gender'])['balance'].median()\n",
    "\n",
    "med\n",
    "\n",
    "# df.fillna(med)"
   ]
  },
  {
   "cell_type": "code",
   "execution_count": 44,
   "metadata": {},
   "outputs": [
    {
     "data": {
      "text/plain": [
       "1234"
      ]
     },
     "execution_count": 44,
     "metadata": {},
     "output_type": "execute_result"
    }
   ],
   "source": []
  },
  {
   "cell_type": "code",
   "execution_count": null,
   "metadata": {},
   "outputs": [],
   "source": []
  }
 ],
 "metadata": {
  "interpreter": {
   "hash": "ae74f9feb07f97b665e59d852dca9947bf3c6be9bdf551f43d711a8fd00af3ab"
  },
  "kernelspec": {
   "display_name": "Python 3.9.7 ('data_science')",
   "language": "python",
   "name": "python3"
  },
  "language_info": {
   "codemirror_mode": {
    "name": "ipython",
    "version": 3
   },
   "file_extension": ".py",
   "mimetype": "text/x-python",
   "name": "python",
   "nbconvert_exporter": "python",
   "pygments_lexer": "ipython3",
   "version": "3.9.7"
  },
  "orig_nbformat": 4
 },
 "nbformat": 4,
 "nbformat_minor": 2
}
