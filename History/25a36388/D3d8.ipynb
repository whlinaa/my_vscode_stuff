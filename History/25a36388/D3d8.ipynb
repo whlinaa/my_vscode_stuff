{
 "cells": [
  {
   "cell_type": "markdown",
   "metadata": {},
   "source": [
    "- rotate sorted array: https://www.youtube.com/watch?v=nIVW4P8b1VA&list=PL4BNnTqnsOLdwk_5UUOv3FN57fMtfBo6c&index=13&t=542s\n",
    "- schedule CPU tasks: https://www.youtube.com/watch?v=RR1n-d4oYqE&list=PL4BNnTqnsOLdwk_5UUOv3FN57fMtfBo6c&index=5\n",
    "- Decode String: https://www.youtube.com/watch?v=qB0zZpBJlh8&list=PL4BNnTqnsOLdwk_5UUOv3FN57fMtfBo6c&index=18&t=542s\n"
   ]
  },
  {
   "cell_type": "code",
   "execution_count": 1,
   "metadata": {},
   "outputs": [],
   "source": [
    "from ds_preamble import *\n",
    "\n"
   ]
  },
  {
   "cell_type": "markdown",
   "metadata": {},
   "source": [
    "# stack problems"
   ]
  },
  {
   "cell_type": "code",
   "execution_count": 1,
   "metadata": {},
   "outputs": [
    {
     "data": {
      "text/plain": [
       "[-6, -3, -1]"
      ]
     },
     "execution_count": 1,
     "metadata": {},
     "output_type": "execute_result"
    }
   ],
   "source": [
    "class Stack:\n",
    "    def __init__(self):\n",
    "        self.data = []\n",
    "    def push(self, val):\n",
    "        self.data.append(val)\n",
    "    def pop(self):\n",
    "        return self.data.pop()\n",
    "    def is_empty(self):\n",
    "        return len(self.data) == 0 \n",
    "    def peek(self):\n",
    "        return self.data[-1]\n",
    "    def get_data(self):\n",
    "        return self.data\n",
    "\n",
    "\n",
    "def collision(cars):\n",
    "    # https://www.youtube.com/watch?v=LN7KjRszjk4&list=PLot-Xpze53lfxD6l5pAGvCD4nPvWKU8Qo&index=7\n",
    "    # stack = []\n",
    "    # for c in cars:\n",
    "    #     push_to_stack = True\n",
    "    #     while stack and stack[-1]>0 and c<0:\n",
    "    #         # diff = c + stack[-1]\n",
    "    #         if stack[-1] < abs(c): # need to destroy stack[-1], and push c\n",
    "    #             stack.pop()\n",
    "    #         elif stack[-1] == abs(c): # need to destroy stack[-1], but no need to push c\n",
    "    #             stack.pop()\n",
    "    #             push_to_stack = False\n",
    "    #             break\n",
    "    #         else: # no need to destroy stack[-1]\n",
    "    #             push_to_stack = False\n",
    "    #     if push_to_stack:\n",
    "    #         stack.append(c)\n",
    "    #     print(stack)\n",
    "    # return stack\n",
    "\n",
    "    # stack = Stack()\n",
    "    # for c in cars:\n",
    "    #     push_to_stack = True\n",
    "    #     while not stack.is_empty() and stack.peek()>0 and c<0:\n",
    "    #         # diff = c + stack.peek()\n",
    "    #         if stack.peek() < abs(c): # need to destroy stack.peek(), and push c\n",
    "    #             stack.pop()\n",
    "    #         elif stack.peek() == abs(c): # need to destroy stack.peek(), but no need to push c\n",
    "    #             stack.pop()\n",
    "    #             push_to_stack = False\n",
    "    #             break\n",
    "    #         else: # no need to destroy stack.peek()\n",
    "    #             push_to_stack = False\n",
    "    #     if push_to_stack:\n",
    "    #         stack.push(c)\n",
    "    # return stack.data\n",
    "\n",
    "    # simplified version: all weights are distinct\n",
    "    stack = Stack()\n",
    "    for c in cars:\n",
    "        push_to_stack = True\n",
    "        while not stack.is_empty() and stack.peek()>0 and c<0:\n",
    "            if stack.peek() < -c: # need to destroy stack.peek()\n",
    "                stack.pop()\n",
    "            else: # no need to destroy stack.peek()\n",
    "                push_to_stack = False\n",
    "                break\n",
    "        if push_to_stack:\n",
    "            stack.push(c)\n",
    "    return stack.get_data()\n",
    "    \n",
    "\n",
    "\n",
    "# cars = [3,4,-1]\n",
    "# cars = [5,5,-5]\n",
    "# cars = [3,4,-6]\n",
    "cars=[1,3,4,-6, -3, -1]\n",
    "collision(cars)"
   ]
  },
  {
   "cell_type": "code",
   "execution_count": 18,
   "metadata": {},
   "outputs": [
    {
     "data": {
      "text/plain": [
       "True"
      ]
     },
     "execution_count": 18,
     "metadata": {},
     "output_type": "execute_result"
    },
    {
     "data": {
      "text/plain": [
       "False"
      ]
     },
     "execution_count": 18,
     "metadata": {},
     "output_type": "execute_result"
    },
    {
     "data": {
      "text/plain": [
       "True"
      ]
     },
     "execution_count": 18,
     "metadata": {},
     "output_type": "execute_result"
    },
    {
     "data": {
      "text/plain": [
       "False"
      ]
     },
     "execution_count": 18,
     "metadata": {},
     "output_type": "execute_result"
    },
    {
     "data": {
      "text/plain": [
       "False"
      ]
     },
     "execution_count": 18,
     "metadata": {},
     "output_type": "execute_result"
    },
    {
     "data": {
      "text/plain": [
       "True"
      ]
     },
     "execution_count": 18,
     "metadata": {},
     "output_type": "execute_result"
    },
    {
     "data": {
      "text/plain": [
       "True"
      ]
     },
     "execution_count": 18,
     "metadata": {},
     "output_type": "execute_result"
    }
   ],
   "source": [
    "def is_matched(s):\n",
    "    stack = []\n",
    "    left= '([{'\n",
    "    right= ')]}'\n",
    "    for c in s:\n",
    "        if c in left:\n",
    "            stack.append(c)\n",
    "        elif c in right:\n",
    "            if len(stack)==0 or left.index(stack.pop()) != right.index(c):\n",
    "                return False\n",
    "    return len(stack)==0\n",
    "\n",
    "# is_well_formed('({*5*(4+3))}]')\n",
    "is_matched('[(5+x)-(y+z)]') # True\n",
    "is_matched('[') # False\n",
    "is_matched('') # True\n",
    "is_matched('[[') # False\n",
    "is_matched(']') # False\n",
    "is_matched('([{}])') # True\n",
    "is_matched('([{[\"]}])') # True"
   ]
  },
  {
   "cell_type": "code",
   "execution_count": 36,
   "metadata": {},
   "outputs": [
    {
     "data": {
      "text/plain": [
       "[-13]"
      ]
     },
     "execution_count": 36,
     "metadata": {},
     "output_type": "execute_result"
    }
   ],
   "source": [
    "def postfix_eval(s):\n",
    "    stack = []\n",
    "    for c in s:\n",
    "        if c.isdigit():\n",
    "            stack.append(int(c))\n",
    "        elif c in ['+','-','*','/']:\n",
    "            right = stack.pop()\n",
    "            left = stack.pop()\n",
    "            # print(f'{left}{c}{right}')\n",
    "            stack.append(eval(f'{left}{c}{right}'))\n",
    "            # print(stack)\n",
    "    return stack\n",
    "\n",
    "s='1234*+-'\n",
    "postfix_eval(s)"
   ]
  },
  {
   "cell_type": "code",
   "execution_count": 39,
   "metadata": {},
   "outputs": [],
   "source": [
    "def prefix_eval(s):\n",
    "    pass\n",
    "\n",
    "s='1234*+-'\n",
    "prefix_eval(s)"
   ]
  },
  {
   "cell_type": "code",
   "execution_count": 57,
   "metadata": {},
   "outputs": [
    {
     "name": "stdout",
     "output_type": "stream",
     "text": [
      "True\n",
      "True\n",
      "True\n",
      "True\n",
      "True\n",
      "False\n"
     ]
    }
   ],
   "source": [
    "def is_palindrome(s):\n",
    "    n = len(s)\n",
    "    mid = n//2\n",
    "    stack = list(s[:mid])\n",
    "    for c in s[mid if n%2==0 else mid+1:]:\n",
    "        if stack.pop() != c:\n",
    "            return False\n",
    "    return True\n",
    "\n",
    "t = ['refer', 'eye','racecar','ff','fxf','fxa']\n",
    "for s in t:\n",
    "    print(is_palindrome(s))"
   ]
  },
  {
   "cell_type": "markdown",
   "metadata": {},
   "source": [
    "# backtracking problems"
   ]
  },
  {
   "cell_type": "code",
   "execution_count": 65,
   "metadata": {},
   "outputs": [
    {
     "name": "stdout",
     "output_type": "stream",
     "text": [
      "[1, 2, 3]\n",
      "[1, 2]\n",
      "[1, 3]\n",
      "[1]\n",
      "[2, 3]\n",
      "[2]\n",
      "[3]\n"
     ]
    },
    {
     "data": {
      "text/plain": [
       "[[1, 2, 3], [1, 2], [1, 3], [1], [2, 3], [2], [3], []]"
      ]
     },
     "execution_count": 65,
     "metadata": {},
     "output_type": "execute_result"
    }
   ],
   "source": [
    "# backtracking: https://www.youtube.com/watch?v=REOH22Xwdkk\n",
    "def powerset(a):\n",
    "    res = []\n",
    "    subset = []\n",
    "    def dfs(i): # consider \n",
    "        if i>=len(a): # out of bound \n",
    "            res.append(subset.copy())\n",
    "            return\n",
    "\n",
    "        subset.append(a[i]) \n",
    "        dfs(i+1) # all solutions with a[i]\n",
    "\n",
    "        print(subset)\n",
    "\n",
    "        subset.pop()\n",
    "        dfs(i+1)\n",
    "    dfs(0)\n",
    "    return res\n",
    "\n",
    "a=[1,2,3]\n",
    "powerset(a)"
   ]
  },
  {
   "cell_type": "code",
   "execution_count": null,
   "metadata": {},
   "outputs": [],
   "source": [
    "# e.g., a[i] = 1\n",
    "subset.append(a[i])\n",
    "dfs[i+1]\n",
    "\n",
    "subset.pop(a[i])\n",
    "dfs[i+1]"
   ]
  },
  {
   "cell_type": "code",
   "execution_count": null,
   "metadata": {},
   "outputs": [],
   "source": [
    "def gen_str(n, s):\n",
    "    \n",
    "    "
   ]
  },
  {
   "cell_type": "code",
   "execution_count": 67,
   "metadata": {},
   "outputs": [],
   "source": [
    "def gen_gp():\n",
    "    choices=['b1','b2','g']\n",
    "    res = []\n",
    "    cur = []\n",
    "    def dfs(i):\n",
    "        cur.append(choices[i])\n",
    "        "
   ]
  },
  {
   "cell_type": "code",
   "execution_count": 66,
   "metadata": {},
   "outputs": [
    {
     "name": "stdout",
     "output_type": "stream",
     "text": [
      "['(', '(']\n",
      "['(', '(', ')']\n",
      "['(', '(', ')', ')']\n",
      "['(']\n",
      "['(', ')', '(']\n",
      "['(', ')', '(', ')']\n",
      "['(', ')']\n",
      "[]\n"
     ]
    },
    {
     "data": {
      "text/plain": [
       "['((()))', '(()())', '(())()', '()(())', '()()()']"
      ]
     },
     "execution_count": 66,
     "metadata": {},
     "output_type": "execute_result"
    }
   ],
   "source": [
    "def generate_parenthesis(n: int) -> list:\n",
    "    # To understand\n",
    "    stack = []\n",
    "    res = []\n",
    "\n",
    "    def backtrack(openN, closedN):\n",
    "        if openN == closedN == n:\n",
    "            res.append( \"\".join(stack) )\n",
    "            # print(res)\n",
    "            return\n",
    "        \n",
    "        if openN < n:\n",
    "            stack.append(\"(\")\n",
    "            backtrack(openN+1, closedN)\n",
    "            stack.pop()\n",
    "\n",
    "            print(stack)\n",
    "        \n",
    "        if closedN < openN:\n",
    "            stack.append(\")\")\n",
    "            backtrack(openN, closedN+1)\n",
    "            stack.pop()\n",
    "\n",
    "\n",
    "    backtrack(0,0)\n",
    "    return res\n",
    "        \n",
    "generate_parenthesis(3)\n",
    "# print(\"hello\")"
   ]
  },
  {
   "cell_type": "code",
   "execution_count": null,
   "metadata": {},
   "outputs": [],
   "source": [
    "def preorder(node):\n",
    "    if node:\n",
    "        preorder(node)\n",
    "        print(node)\n",
    "        preorder(node)\n"
   ]
  },
  {
   "cell_type": "code",
   "execution_count": null,
   "metadata": {},
   "outputs": [],
   "source": []
  },
  {
   "cell_type": "markdown",
   "metadata": {},
   "source": [
    "# hashing"
   ]
  },
  {
   "cell_type": "code",
   "execution_count": 8,
   "metadata": {},
   "outputs": [
    {
     "name": "stdout",
     "output_type": "stream",
     "text": [
      "4 hashes to 4\n",
      "6 hashes to 1\n",
      "20 hashes to 0\n",
      "14 hashes to 4\n",
      "31 hashes to 1\n",
      "29 hashes to 4\n"
     ]
    }
   ],
   "source": [
    "# data = [2341, 4234, 2839, 22, 397, 3920]\n",
    "# data = [5, 28, 19, 15, 20, 33, 12, 17, 10]\n",
    "data = [4,6,20,14,31,29]\n",
    "n = 5\n",
    "for x in data:\n",
    "    print(f'{x} hashes to {x%n}')"
   ]
  },
  {
   "cell_type": "code",
   "execution_count": null,
   "metadata": {},
   "outputs": [],
   "source": [
    "def find_hash(data, n=7):\n",
    "    "
   ]
  },
  {
   "cell_type": "code",
   "execution_count": 8,
   "metadata": {},
   "outputs": [
    {
     "data": {
      "text/plain": [
       "{0: 3920, 1: 22, 2: 'unfilled', 3: 2341, 4: 2839, 5: 397, 6: 4234}"
      ]
     },
     "execution_count": 8,
     "metadata": {},
     "output_type": "execute_result"
    }
   ],
   "source": [
    "data = [2341, 4234, 2839, 22, 397, 3920]\n",
    "# data = [5, 28, 19, 15, 20, 33, 12, 17, 10]\n",
    "# data = [10,22,31,4,17]\n",
    "n = 7   \n",
    "# table = ['unfilled']*n\n",
    "table = dict(zip(range(7), ['unfilled']*7  ))\n",
    "# table\n",
    "for x in data:\n",
    "    counter = 0 \n",
    "    while counter <n and table[(x+counter)%n]!='unfilled':\n",
    "        counter+=1\n",
    "    if counter == n:\n",
    "        print(f\"can't insert {x}\")\n",
    "    else:\n",
    "        table[(x+counter)%n] = x\n",
    "    # print(table)\n",
    "\n",
    "\n",
    "    # while pos < n and table[pos] != 'unfilled':\n",
    "    #     pos+=1\n",
    "    # if pos < n: \n",
    "    #     table[pos] = x\n",
    "    # else:\n",
    "    #     print(f\"can't insert {x}\")  \n",
    "table"
   ]
  },
  {
   "cell_type": "code",
   "execution_count": null,
   "metadata": {},
   "outputs": [],
   "source": []
  }
 ],
 "metadata": {
  "interpreter": {
   "hash": "ae74f9feb07f97b665e59d852dca9947bf3c6be9bdf551f43d711a8fd00af3ab"
  },
  "kernelspec": {
   "display_name": "Python 3.9.7 ('data_science')",
   "language": "python",
   "name": "python3"
  },
  "language_info": {
   "codemirror_mode": {
    "name": "ipython",
    "version": 3
   },
   "file_extension": ".py",
   "mimetype": "text/x-python",
   "name": "python",
   "nbconvert_exporter": "python",
   "pygments_lexer": "ipython3",
   "version": "3.9.7"
  },
  "orig_nbformat": 4
 },
 "nbformat": 4,
 "nbformat_minor": 2
}
