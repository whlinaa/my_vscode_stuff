{
 "cells": [
  {
   "cell_type": "code",
   "execution_count": 683,
   "metadata": {},
   "outputs": [],
   "source": [
    "from ds_utils.ds_preamble import *\n",
    "from ds_utils.ds_plotting import *\n",
    "from ds_utils.ds_helper import *\n",
    "import datetime\n",
    "import duckdb\n",
    "from glob import glob\n",
    "from pathlib import Path\n",
    "from collections import Counter\n",
    "import sys, subprocess\n",
    "import time\n",
    "import re"
   ]
  },
  {
   "cell_type": "markdown",
   "metadata": {},
   "source": [
    "# class methods\n"
   ]
  },
  {
   "cell_type": "code",
   "execution_count": 292,
   "metadata": {},
   "outputs": [
    {
     "data": {
      "text/plain": [
       "PosixPath('/')"
      ]
     },
     "execution_count": 292,
     "metadata": {},
     "output_type": "execute_result"
    },
    {
     "name": "stdout",
     "output_type": "stream",
     "text": [
      "/\n"
     ]
    },
    {
     "data": {
      "text/plain": [
       "PosixPath('/Users/whlin')"
      ]
     },
     "execution_count": 292,
     "metadata": {},
     "output_type": "execute_result"
    }
   ],
   "source": [
    "os.chdir('/') # if we want to change to other directories, we still need to use `os.chdir`!\n",
    "Path.cwd() # os.get_cwd\n",
    "!pwd\n",
    "Path.home()\n",
    "\n",
    "os.chdir(Path.home()) # can directly give Path object"
   ]
  },
  {
   "cell_type": "markdown",
   "metadata": {},
   "source": [
    "# create a path object directly from string"
   ]
  },
  {
   "cell_type": "code",
   "execution_count": 368,
   "metadata": {},
   "outputs": [
    {
     "data": {
      "text/plain": [
       "PosixPath('~/Downloads/Hello/World')"
      ]
     },
     "execution_count": 368,
     "metadata": {},
     "output_type": "execute_result"
    },
    {
     "data": {
      "text/plain": [
       "PosixPath('/Users/whlin/Downloads/Hello/World')"
      ]
     },
     "execution_count": 368,
     "metadata": {},
     "output_type": "execute_result"
    },
    {
     "data": {
      "text/plain": [
       "PosixPath('/Users/whlin/Downloads/Hello/World')"
      ]
     },
     "execution_count": 368,
     "metadata": {},
     "output_type": "execute_result"
    },
    {
     "data": {
      "text/plain": [
       "PosixPath('~/Downloads/hello/test.txt')"
      ]
     },
     "execution_count": 368,
     "metadata": {},
     "output_type": "execute_result"
    }
   ],
   "source": [
    "# NOTE: even in Windows, we can still use `/` as path separator. The forward slash operator is used independently of the actual path separator on the platform\n",
    "\n",
    "# Note that in the preceding examples, the pathlib.Path is represented by either a WindowsPath or a PosixPath. The actual object representing the path depends on the underlying operating system. (That is, the WindowsPath example was run on Windows, while the PosixPath examples have been run on Mac or Linux.)\n",
    "\n",
    "# M1\n",
    "Path(\"~/Downloads/Hello/World\")\n",
    "# M2\n",
    "Path.home() / 'Downloads' / 'Hello' / 'World' # `/` has been overloaded \n",
    "# M3\n",
    "Path.home().joinpath('Downloads','Hello', 'World')\n",
    "# M4: join two path as well\n",
    "Path(\"~/Downloads\", \"hello\", 'test.txt')"
   ]
  },
  {
   "cell_type": "markdown",
   "metadata": {},
   "source": [
    "# open files using `open` method instead of `open` function"
   ]
  },
  {
   "cell_type": "code",
   "execution_count": 792,
   "metadata": {},
   "outputs": [
    {
     "name": "stdout",
     "output_type": "stream",
     "text": [
      "hello\n",
      "\n",
      "world\n"
     ]
    }
   ],
   "source": [
    "# Path class has an open method, which is the same as the built-in open function!\n",
    "\n",
    "path = Path(\"testing.txt\")\n",
    "if not path.exists():\n",
    "    path.write_text('hello\\nworld')\n",
    "\n",
    "with Path(\"testing.txt\").open('r') as f: # same as with open(\"testing.txt\", r) as f:\n",
    "    for line in f:\n",
    "        print(line)"
   ]
  },
  {
   "cell_type": "markdown",
   "metadata": {},
   "source": [
    "# access file content without `open`"
   ]
  },
  {
   "cell_type": "code",
   "execution_count": 218,
   "metadata": {},
   "outputs": [
    {
     "data": {
      "text/plain": [
       "'overwritting...'"
      ]
     },
     "execution_count": 218,
     "metadata": {},
     "output_type": "execute_result"
    },
    {
     "data": {
      "text/plain": [
       "15"
      ]
     },
     "execution_count": 218,
     "metadata": {},
     "output_type": "execute_result"
    }
   ],
   "source": [
    "# return as a string\n",
    "Path(\"testing.txt\").read_text()\n",
    "Path(\"testing.txt\").write_text(\"overwritting...\") # this will erase the stuff in the original file..."
   ]
  },
  {
   "cell_type": "markdown",
   "metadata": {},
   "source": [
    "# Path object attributes"
   ]
  },
  {
   "cell_type": "code",
   "execution_count": 288,
   "metadata": {},
   "outputs": [
    {
     "name": "stdout",
     "output_type": "stream",
     "text": [
      "====start====\n",
      "path = PosixPath('~/Downloads/Hello/world/my_test.txt')\n",
      "path.name = 'my_test.txt'\n",
      "path.parent = PosixPath('~/Downloads/Hello/world')\n",
      "path.parent.parent = PosixPath('~/Downloads/Hello')\n",
      "path.stem = 'my_test'\n",
      "path.suffix = '.txt'\n",
      "path.anchor = ''\n",
      "path.root = ''\n",
      "path.parent / ('world' + path.suffix)  = PosixPath('~/Downloads/Hello/world/world.txt')\n",
      "====end====\n",
      "====start====\n",
      "path = PosixPath('~/my/dir')\n",
      "path.name = 'dir'\n",
      "path.parent = PosixPath('~/my')\n",
      "path.parent.parent = PosixPath('~')\n",
      "path.stem = 'dir'\n",
      "path.suffix = ''\n",
      "path.anchor = ''\n",
      "path.root = ''\n",
      "path.parent / ('world' + path.suffix)  = PosixPath('~/my/world')\n",
      "====end====\n"
     ]
    }
   ],
   "source": [
    "# Note that .parent returns a new Path object, whereas the other properties return strings. This means for instance that .parent can be chained as in the last example or even combined with / to create completely new paths:\n",
    "# path = Path(\"~/Downloads/Hello/world/my_test.txt\")\n",
    "\n",
    "for path in [Path(\"~/Downloads/Hello/world/my_test.txt\"), Path('~/my/dir')]:\n",
    "    print('====start====')\n",
    "    print(f\"{path = }\")\n",
    "    print(f\"{path.name = }\")\n",
    "    print(f\"{path.parent = }\")\n",
    "    print(f\"{path.parent.parent = }\")\n",
    "    print(f\"{path.stem = }\")\n",
    "    print(f\"{path.suffix = }\")\n",
    "    print(f\"{path.anchor = }\")\n",
    "    print(f\"{path.root = }\")\n",
    "    print(f\"{path.parent / ('world' + path.suffix)  = }\")\n",
    "    # change to another file \n",
    "    print('====end====')"
   ]
  },
  {
   "cell_type": "markdown",
   "metadata": {},
   "source": [
    "# Path object methods"
   ]
  },
  {
   "cell_type": "code",
   "execution_count": 302,
   "metadata": {},
   "outputs": [
    {
     "name": "stdout",
     "output_type": "stream",
     "text": [
      "====start====\n",
      "for path ~/Downloads/Hello/World/good.txt:\n",
      "p.cwd() / 'textfiles' = PosixPath('/Users/whlin/textfiles')\n",
      "p.home() = PosixPath('/Users/whlin')\n",
      "p.cwd().exists() = True\n",
      "p.exists() = False\n",
      "p.is_dir() = False\n",
      "p.is_file() = False\n",
      "p.is_absolute() = False\n",
      "path = PosixPath('~/Downloads/Hello/World/good.txt')\n",
      "path.with_name('abc.png')  = PosixPath('~/Downloads/Hello/World/abc.png')\n",
      "path.with_stem('abc') = PosixPath('~/Downloads/Hello/World/abc.txt')\n",
      "path.with_suffix('.png') = PosixPath('~/Downloads/Hello/World/good.png')\n",
      "====end====\n",
      "====start====\n",
      "for path /Users/whlin:\n",
      "p.cwd() / 'textfiles' = PosixPath('/Users/whlin/textfiles')\n",
      "p.home() = PosixPath('/Users/whlin')\n",
      "p.cwd().exists() = True\n",
      "p.exists() = True\n",
      "p.is_dir() = True\n",
      "p.is_file() = False\n",
      "p.is_absolute() = True\n",
      "path = PosixPath('~/Downloads/Hello/World/good.txt')\n",
      "path.with_name('abc.png')  = PosixPath('~/Downloads/Hello/World/abc.png')\n",
      "path.with_stem('abc') = PosixPath('~/Downloads/Hello/World/abc.txt')\n",
      "path.with_suffix('.png') = PosixPath('~/Downloads/Hello/World/good.png')\n",
      "====end====\n"
     ]
    }
   ],
   "source": [
    "# methods of Path object \n",
    "path = Path(\"~/Downloads/Hello/World/good.txt\")\n",
    "for p in [path, path.cwd()]:\n",
    "    print('====start====')\n",
    "    print(f'for path {p}:')\n",
    "    print(f\"{p.cwd() / 'textfiles' = }\") # '/' has been overloaded\n",
    "    print(f\"{p.home() = }\")\n",
    "    print(f\"{p.cwd().exists() = }\")\n",
    "    print(f\"{p.exists() = }\")\n",
    "    print(f\"{p.is_dir() = }\")\n",
    "    print(f\"{p.is_file() = }\")\n",
    "    print(f\"{p.is_absolute() = }\")\n",
    "    print(f\"{path = }\")\n",
    "    print(f\"{path.with_name('abc.png')  = }\")\n",
    "    print(f\"{path.with_stem('abc') = }\")\n",
    "    print(f\"{path.with_suffix('.png') = }\")\n",
    "    # p.chmod()\n",
    "    print('====end====')"
   ]
  },
  {
   "cell_type": "markdown",
   "metadata": {},
   "source": [
    "## rename file, rename directory, create file, create directory"
   ]
  },
  {
   "cell_type": "code",
   "execution_count": 276,
   "metadata": {},
   "outputs": [
    {
     "data": {
      "text/plain": [
       "12"
      ]
     },
     "execution_count": 276,
     "metadata": {},
     "output_type": "execute_result"
    },
    {
     "data": {
      "text/plain": [
       "PosixPath('test.txt')"
      ]
     },
     "execution_count": 276,
     "metadata": {},
     "output_type": "execute_result"
    },
    {
     "data": {
      "text/plain": [
       "PosixPath('test.txt')"
      ]
     },
     "execution_count": 276,
     "metadata": {},
     "output_type": "execute_result"
    },
    {
     "data": {
      "text/plain": [
       "PosixPath('my/path/to/NEW_dir')"
      ]
     },
     "execution_count": 276,
     "metadata": {},
     "output_type": "execute_result"
    }
   ],
   "source": [
    "# rename files\n",
    "Path(\"testing.txt\").write_text(\"hello world!\") # make a new file first\n",
    "Path(\"testing.txt\").with_stem(\"test\") # get a Path object withe a name name. Will not do rename\n",
    "Path(\"testing.txt\").replace(\"test.txt\") # get a Path object withe a name name. Will do rename. NOTE: if there exists a file with the same replaced name, then the old file will be removed as well! Be extra careful about it!\n",
    "\n",
    "# create directory\n",
    "Path('my/path/to/dir').mkdir(mode=511, parents=True, exist_ok=True) # create a new directory \n",
    "\n",
    "# rename directory\n",
    "Path('./my/path/to/dir').rename(\"./my/path/to/NEW_dir\") # create a new directory \n",
    "\n",
    "# this is wrong..\n",
    "# Path('./my/path/to/dir').rename(\"NEW_dir\") # create a new directory "
   ]
  },
  {
   "cell_type": "markdown",
   "metadata": {},
   "source": [
    "# glob and rglob (recursive glob)"
   ]
  },
  {
   "cell_type": "code",
   "execution_count": 278,
   "metadata": {},
   "outputs": [
    {
     "data": {
      "text/plain": [
       "[PosixPath('Corey_rename_song_list/rename.py'),\n",
       " PosixPath('SEHH2042_AS_Cleaning/SEHH2042_AS_cleaning.py'),\n",
       " PosixPath('SEHH2042_GP_add group id to cpp/SEHH2042_GP_add group id to cpp.py'),\n",
       " PosixPath('SEHH2042_GP_insert students info to worksheet/SEHH2042_GP_addInfo.py'),\n",
       " PosixPath('SEHH2042_addGPID/SEHH2042_addGPID.py'),\n",
       " PosixPath('changeName.py'),\n",
       " PosixPath('change_file_names.py'),\n",
       " PosixPath('change_name_to_ID_only.py'),\n",
       " PosixPath('open a doc/open_doc.py'),\n",
       " PosixPath('reverse_lines/reverse_line.py')]"
      ]
     },
     "execution_count": 278,
     "metadata": {},
     "output_type": "execute_result"
    },
    {
     "data": {
      "text/plain": [
       "[PosixPath('changeName.py'),\n",
       " PosixPath('change_file_names.py'),\n",
       " PosixPath('change_name_to_ID_only.py')]"
      ]
     },
     "execution_count": 278,
     "metadata": {},
     "output_type": "execute_result"
    },
    {
     "name": "stdout",
     "output_type": "stream",
     "text": [
      "/Users/whlin/Downloads/ibank_interviews.pdf\n",
      "/Users/whlin/Downloads/Professional Scrum Master I.pdf\n",
      "/Users/whlin/Downloads/Pathlib-Cheatsheet.pdf\n",
      "/Users/whlin/Downloads/Job_Application_Form.pdf\n",
      "/Users/whlin/Downloads/IMM5812_2-VRV0LE2.pdf\n",
      "/Users/whlin/Downloads/Leon Wei - Cracking the SQL Interview for Data Scientists_ Nervous about your SQL Interview_ Anxiety ends here. Learn, refresh and master SQL Skills in a Week. (2021).pdf\n",
      "/Users/whlin/Downloads/Jeroen Janssens - Data Science at the Command Line_ Obtain, Scrub, Explore, and Model Data with Unix Power Tools-O'Reilly Media (2021).pdf\n",
      "/Users/whlin/Downloads/IMM5825_2-VRV0LC9.pdf\n",
      "/Users/whlin/Downloads/IMM5812_2-VRV0LE2 (1).pdf\n",
      "/Users/whlin/Downloads/IMM5825_2-VRV0LC9 (1).pdf\n",
      "/Users/whlin/Downloads/Malik_C++ Programming_ From Problem Analysis to Program Design[2437]2.pdf\n",
      "/Users/whlin/Downloads/1.7 SARP Meeting Schedule 2122S2 - By Division.pdf\n",
      "/Users/whlin/Downloads/e-service2.pdf\n",
      "/Users/whlin/Downloads/Syllabus.pdf\n"
     ]
    }
   ],
   "source": [
    "sorted(Path().rglob('*.py')) # search current directory recursively for *.py files\n",
    "sorted(Path().glob('*.py')) # search current directory for *.py files\n",
    "for x in Path('~/Downloads').expanduser().glob('*.pdf'): # very often, we can't use `~` when we iterate a directory...\n",
    "    print(x)"
   ]
  },
  {
   "cell_type": "markdown",
   "metadata": {},
   "source": [
    "# file iteration\n",
    "- we use `Path.iterdir` instead of `os.listdir` !"
   ]
  },
  {
   "cell_type": "code",
   "execution_count": 313,
   "metadata": {},
   "outputs": [
    {
     "name": "stdout",
     "output_type": "stream",
     "text": [
      ".Rhistory .eclipse .config Music .julia .condarc out.txt play_.txt .DS_Store .CFUserTextEncoding my_out.txt bin less .bashrc .local .psql_history Pictures playing.txt .zprofile DM_notes.pdf .zsh_history .ipython Desktop Library .matplotlib .lesshst Parallels miniforge3 seaborn-data .emacs.d scikit_learn_data .cups .bash_sessions Public play.txt .vscode-R .RData OneDrive - HKUST Connect Applications (Parallels) Movies d~ .emacs Applications .emacs~ .Rapp.history .Trash test.txt .ipynb_checkpoints .tldrc .jupyter .keras .vscode-insiders Documents sys_info_page.html error.txt .vscode .bash_profile Downloads .python_history .gitconfig d .bash_history .viminfo .zsh_sessions My Drive .conda ls-output.txt "
     ]
    }
   ],
   "source": [
    "for f in Path.cwd().iterdir():\n",
    "    print(f.name, end=' ')"
   ]
  },
  {
   "cell_type": "code",
   "execution_count": 327,
   "metadata": {},
   "outputs": [
    {
     "data": {
      "text/plain": [
       "Counter({'': 13,\n",
       "         '.pdf': 14,\n",
       "         '.torrent': 4,\n",
       "         '.docx': 1,\n",
       "         '.sql': 3,\n",
       "         '.xls': 1,\n",
       "         '.rar': 2,\n",
       "         '.xlsx': 6,\n",
       "         '.md': 1,\n",
       "         '.zip': 4,\n",
       "         '.ini': 1,\n",
       "         '.epub': 1})"
      ]
     },
     "execution_count": 327,
     "metadata": {},
     "output_type": "execute_result"
    }
   ],
   "source": [
    "def count_suffix(path):\n",
    "    # count the extension of the files in a directory\n",
    "    return Counter(p.suffix for p in Path(path).expanduser().iterdir())    \n",
    "\n",
    "# path = '~/Downloads'\n",
    "# path = Path.cwd()\n",
    "path = Path.home() / 'Downloads'\n",
    "count_suffix(path)"
   ]
  },
  {
   "cell_type": "code",
   "execution_count": 542,
   "metadata": {},
   "outputs": [
    {
     "name": "stdout",
     "output_type": "stream",
     "text": [
      "/Users/whlin/Desktop/hello/world/dir_1\n",
      "/Users/whlin/Desktop/hello/world/dir_2\n",
      "/Users/whlin/Desktop/hello/world/dir_3\n",
      "- /Users/whlin/Desktop/hello\n",
      "    - world\n",
      "        - dir_1\n",
      "            - doc_1.txt\n",
      "            - doc_2.txt\n",
      "            - doc_3.txt\n",
      "            - doc_4.txt\n",
      "        - dir_2\n",
      "            - doc_1.txt\n",
      "            - doc_2.txt\n",
      "            - doc_3.txt\n",
      "            - doc_4.txt\n",
      "        - dir_3\n",
      "            - doc_1.txt\n",
      "            - doc_2.txt\n",
      "            - doc_3.txt\n",
      "            - doc_4.txt\n"
     ]
    },
    {
     "data": {
      "text/plain": [
       "PosixPath('~/Desktop/hello/test001.txt')"
      ]
     },
     "execution_count": 542,
     "metadata": {},
     "output_type": "execute_result"
    }
   ],
   "source": [
    "def create_dir(path, n_dir=3, n_doc=4):\n",
    "    # in the given directory `path`, create dir_{1,2,..n_dir}, and inside each dir_*, create doc_{1,2,..,n_doc}.txt\n",
    "    for i in range(1, n_dir+1):\n",
    "        # cur_path = Path(path).expanduser().joinpath(f'dir_{i}')\n",
    "        cur_path = Path(path, f'dir_{i}').expanduser()\n",
    "        print(cur_path)\n",
    "\n",
    "        cur_path.mkdir(parents=True, exist_ok=True)\n",
    "        \n",
    "        for j in range(1, n_doc+1):\n",
    "            Path(cur_path, f'doc_{j}.txt').write_text(f\"doc_{j}\")\n",
    "\n",
    "def tree(path):\n",
    "    path = Path(path).expanduser()\n",
    "    print(f'- {path}')\n",
    "    for p in sorted(path.rglob('*')):\n",
    "        depth = len(p.relative_to(path).parts) \n",
    "        spacer = '    '*depth\n",
    "        print(f'{spacer}- {p.name}')\n",
    "        # print(p)\n",
    "\n",
    "def unique_path(directory, name_pattern):\n",
    "    counter = 0\n",
    "    while True:\n",
    "        counter += 1\n",
    "        path = Path(directory, name_pattern.format(counter))\n",
    "        if not path.exists():\n",
    "            return path\n",
    "\n",
    "\n",
    "# path = Path.home()/'playing'\n",
    "# path = '~/hello/world'\n",
    "path = '~/Desktop/hello/world'\n",
    "create_dir(path)\n",
    "\n",
    "path = \"~/Desktop/hello\"\n",
    "tree(path)\n",
    "\n",
    "path = unique_path('~/Desktop/hello', 'test{:03d}.txt')\n",
    "path\n"
   ]
  },
  {
   "cell_type": "code",
   "execution_count": 548,
   "metadata": {},
   "outputs": [
    {
     "name": "stdout",
     "output_type": "stream",
     "text": [
      "/Users/whlin/Desktop/hello/world/.DS_Store\n",
      "/Users/whlin/Desktop/hello/world/dir_1/doc_1.txt\n",
      "/Users/whlin/Desktop/hello/world/dir_1/doc_2.txt\n",
      "/Users/whlin/Desktop/hello/world/dir_1/doc_3.txt\n",
      "/Users/whlin/Desktop/hello/world/dir_1/doc_4.txt\n",
      "/Users/whlin/Desktop/hello/world/dir_2/doc_1.txt\n",
      "/Users/whlin/Desktop/hello/world/dir_2/doc_2.txt\n",
      "/Users/whlin/Desktop/hello/world/dir_2/doc_3.txt\n",
      "/Users/whlin/Desktop/hello/world/dir_2/doc_4.txt\n",
      "/Users/whlin/Desktop/hello/world/dir_3/doc_1.txt\n",
      "/Users/whlin/Desktop/hello/world/dir_3/doc_2.txt\n",
      "/Users/whlin/Desktop/hello/world/dir_3/doc_3.txt\n",
      "/Users/whlin/Desktop/hello/world/dir_3/doc_4.txt\n"
     ]
    }
   ],
   "source": [
    "def walk(path):\n",
    "    # print all files in a directory (including subdirectories inside)\n",
    "    # M1: recursion\n",
    "    for file in sorted(Path(path).expanduser().iterdir()):\n",
    "        if file.is_file():\n",
    "            print(file)\n",
    "        else:\n",
    "            walk(file)\n",
    "    # M2: rglob\n",
    "    # for file in sorted(Path(path).expanduser().rglob('*')):\n",
    "    # for file in Path(path).expanduser().rglob('*'):\n",
    "    #     if file.is_file():\n",
    "    #         print(file)\n",
    "\n",
    "    \n",
    "walk('~/Desktop/hello/world')"
   ]
  },
  {
   "cell_type": "markdown",
   "metadata": {},
   "source": [
    "# Path object attributes"
   ]
  },
  {
   "cell_type": "markdown",
   "metadata": {},
   "source": [
    "# function to add prefix/suffix to the files of a directory"
   ]
  },
  {
   "cell_type": "code",
   "execution_count": 472,
   "metadata": {},
   "outputs": [],
   "source": [
    "def add_prefix_suffix(path, ext='', prefix='', suffix=''):\n",
    "    # ext: filter by extension \n",
    "    # use case: add timestamp to each file\n",
    "    pattern = f'*.{ext}' if ext else '*'\n",
    "\n",
    "    for file in sorted(Path(path).expanduser().glob(pattern)):\n",
    "        # print(file)\n",
    "        new_name = '_'.join(x for x in [prefix,file.stem,suffix] if x)\n",
    "        file.rename(file.with_stem(new_name))\n",
    "\n",
    "# old code \n",
    "# def change_file_names(path, ext='png', prefix=None, suffix=None):\n",
    "#     for file in os.listdir(path):\n",
    "#         # print(type(file))\n",
    "#         if file.endswith(ext):\n",
    "#             new_name = file\n",
    "#             if prefix:\n",
    "#                 # new_name = prefix + '_' + new_name\n",
    "#                 new_name = f'{prefix}_{new_name}'\n",
    "#             if suffix:\n",
    "#                 # new_name = new_name + '_' + suffix\n",
    "#                 new_name = f'{new_name}_{suffix}'\n",
    "#             print(new_name)\n",
    "#             os.rename(os.path.join(path, file), os.path.join(path, new_name))\n",
    "\n",
    "\n",
    "path = '~/Desktop/hello/world/dir_1'\n",
    "add_prefix_suffix(path, prefix='pref', suffix='3')\n"
   ]
  },
  {
   "cell_type": "code",
   "execution_count": 533,
   "metadata": {},
   "outputs": [
    {
     "name": "stdout",
     "output_type": "stream",
     "text": [
      "/Users/whlin/Desktop/hello/world/dir_1/doc_1.txt /Users/whlin/Desktop/hello/world/dir_1/doc_2.txt /Users/whlin/Desktop/hello/world/dir_1/doc_3.txt /Users/whlin/Desktop/hello/world/dir_1/doc_4.txt /Users/whlin/Desktop/hello/world/dir_1/my_out.txt /Users/whlin/Desktop/hello/world/dir_1/pref_pref_pref_pref_pref_pref_doc_1_3_3_3.txt /Users/whlin/Desktop/hello/world/dir_1/pref_pref_pref_pref_pref_pref_doc_2_3_3_3.txt /Users/whlin/Desktop/hello/world/dir_1/pref_pref_pref_pref_pref_pref_doc_3_3_3_3.txt /Users/whlin/Desktop/hello/world/dir_1/pref_pref_pref_pref_pref_pref_doc_4_3_3_3.txt\n"
     ]
    }
   ],
   "source": [
    "def print_file(path, pattern='*' ,start=None, end=None, strip=False, output_path=None):\n",
    "    res = []\n",
    "    for file in sorted(Path(path).expanduser().glob(pattern)):\n",
    "        if strip: \n",
    "            res.append(str(file)[start:end].strip()) \n",
    "        else: \n",
    "            res.append(str(file)[start:end]) \n",
    "    if output_path:\n",
    "        Path(output_path).expanduser().write_text('\\n'.join(res))\n",
    "    print(*res)\n",
    "    return res\n",
    "\n",
    "path = '~/Desktop/hello/world/dir_1'\n",
    "# res = print_file(path, start=-15, end=None)\n",
    "res = print_file(path, strip=True)"
   ]
  },
  {
   "cell_type": "code",
   "execution_count": 603,
   "metadata": {},
   "outputs": [
    {
     "name": "stdout",
     "output_type": "stream",
     "text": [
      "number of documents in the directory = 100\n"
     ]
    }
   ],
   "source": [
    "def open_file(filename):\n",
    "    if sys.platform == \"win32\":\n",
    "        os.startfile(filename)\n",
    "    else:\n",
    "        opener = \"open\" if sys.platform == \"darwin\" else \"xdg-open\"\n",
    "        subprocess.call([opener, filename])\n",
    "\n",
    "def open_doc(path, pattern='*', start=None, end=None, recursive=True):\n",
    "    res = []\n",
    "    for file in eval(f\"sorted(Path(path).expanduser().{'r' if recursive else ''}glob(pattern))\"):\n",
    "        if file.is_file():\n",
    "            res.append(file)\n",
    "    print(f\"number of documents in the directory = {len(res)}\")\n",
    "\n",
    "    for i in range(start-1, end):\n",
    "        open_file(str(res[i]))\n",
    "        time.sleep(0.8)\n",
    "\n",
    "# path = '~/Desktop/hello/world/dir_1'\n",
    "path = '/Users/whlin/Library/CloudStorage/OneDrive-HKUSTConnect/Academic/Notes of HKCC/HKCC Teaching/SEHH2239/exam things/201'\n",
    "\n",
    "start=int(input(\"enter start index(start from 1): \"))\n",
    "end=int(input(\"enter end index: \"))\n",
    "\n",
    "open_doc(path, pattern='*.pdf', start=start, end=end, recursive=True)\n",
    "\n"
   ]
  },
  {
   "cell_type": "code",
   "execution_count": 625,
   "metadata": {},
   "outputs": [
    {
     "name": "stdout",
     "output_type": "stream",
     "text": [
      "摩星嶺白屋(芝加哥大學)\n",
      "摩星嶺徑\n",
      "碧珊徑\n",
      "龍虎山健身徑\n",
      "夏力道 \n",
      "山頂廣場\n",
      "白加道\n",
      "馬己仙峽\n",
      "灣仔峽\n",
      "布力徑\n",
      "黃泥涌峽\n",
      "大潭水塘道\n",
      "大潭上水塘\n",
      "港島林道美景路段\n",
      "石澳道\n",
      "港島林道哥連臣山段\n",
      "馬塘坳\n",
      "砵甸乍山郊遊徑\n",
      "龍躍徑\n",
      "小西灣海濱公園\n",
      "小西灣海濱公園\n",
      "龍躍徑\n",
      "砵甸乍山郊遊徑\n",
      "馬塘坳\n",
      "港島林道哥連臣山段\n",
      "石澳道\n",
      "港島林道美景路段\n",
      "大潭上水塘\n",
      "大潭水塘道\n",
      "黃泥涌峽\n",
      "布力徑\n",
      "灣仔峽\n",
      "馬己仙峽\n",
      "白加道\n",
      "山頂廣場\n",
      "夏力道 \n",
      "龍虎山健身徑\n",
      "碧珊徑\n",
      "摩星嶺徑\n",
      "摩星嶺白屋(芝加哥大學)\n"
     ]
    }
   ],
   "source": [
    "def reverse_lines(file, output_name):\n",
    "    file = Path(file).expanduser()\n",
    "    text = file.read_text()\n",
    "    # print(text)\n",
    "    res = '\\n'.join(text.strip().split('\\n')[::-1])\n",
    "    # print(res)\n",
    "    file.with_name(output_name).write_text(res)\n",
    "\n",
    "path = '/Users/whlin/Library/CloudStorage/OneDrive-HKUSTConnect/Documents/python/my_notes_py/ad-hoc code/file_management/reverse_lines/chinese_text.txt'\n",
    "reverse_lines(path, output_name='testttt.txt')"
   ]
  },
  {
   "cell_type": "code",
   "execution_count": 711,
   "metadata": {},
   "outputs": [
    {
     "name": "stdout",
     "output_type": "stream",
     "text": [
      "/Users/whlin/Library/CloudStorage/OneDrive-HKUSTConnect/Documents/python/my_notes_py/ad-hoc code/file_management/SEHH2042_work/1_19011630A.txt\n",
      "/Users/whlin/Library/CloudStorage/OneDrive-HKUSTConnect/Documents/python/my_notes_py/ad-hoc code/file_management/SEHH2042_work/1_19186232A.txt\n"
     ]
    }
   ],
   "source": [
    "def add_id(path, works, pattern):\n",
    "    \"\"\" Append each document with an given gid.\n",
    "        EX: 1234556A_ASM => 1_1234556A_ASM if the document has gid 1 \n",
    "        When grading group project, we want to append the group id of each student to their submitted p2p files\n",
    "        - files: id: gip mapping\n",
    "            19186232A\t1\n",
    "            19011630A\t1\n",
    "            20190501A\t1\n",
    "            20018393A\t1\n",
    "            20208582A\t1\n",
    "            20010776A\t2\n",
    "            20093215A\t2\n",
    "            20009962A\t2\n",
    "            20165160A\t2\n",
    "            20205402A\t2\n",
    "            20013324A\t2\n",
    "            20077332A\t3\n",
    "            20080999A\t3\n",
    "        - directory containing students' work:\n",
    "            19186232A_my_work.txt\n",
    "            19011630A_abc.txt\n",
    "    \"\"\"\n",
    "    path = Path(path).expanduser()\n",
    "\n",
    "    r = re.compile('([1-2][0-9]{7}A)')\n",
    "\n",
    "    # M1: use dict to get sid:gp pairs\n",
    "    # d = {}\n",
    "    #     for line in f:\n",
    "    #         sid, gp = line.strip().split('\\t')\n",
    "    #         d[sid] = gp\n",
    "\n",
    "    # M2: use Series with sid as index \n",
    "    d = pd.read_csv(path, sep='\\t', header=None, names=['sid','gp_id'], index_col='sid').iloc[:,0]\n",
    "\n",
    "    for f in sorted(Path(works).expanduser().glob(pattern)):\n",
    "        # extracted_id = f.stem[:9].upper()\n",
    "        extracted_id = r.findall(f.stem)[0].upper() if r.findall(f.stem) else ''\n",
    "        # print(extracted_id)\n",
    "        if extracted_id in d.index:\n",
    "            # M1: just add extracted d[sid] (the gp id) as prefix\n",
    "            # print(f.with_stem(f\"{d[extracted_id]}_{f.stem}\"))\n",
    "            # f.rename(f.with_stem(f\"{d[extracted_id]}_{f.stem}\"))\n",
    "\n",
    "            # M2: just add extracted d[sid] (the gp id) as prefix, and rename the original file to have the sid only\n",
    "            print(f.with_stem(f\"{d[extracted_id]}_{extracted_id}\"))\n",
    "            # f.rename(f.with_stem(f\"{d[extracted_id]}_{f.stem}\"))\n",
    "\n",
    "path = '/Users/whlin/Library/CloudStorage/OneDrive-HKUSTConnect/Documents/python/my_notes_py/ad-hoc code/file_management/SEHH2042_addGPID/SEHH2042_stuID+gp.txt'\n",
    "\n",
    "works = '/Users/whlin/Library/CloudStorage/OneDrive-HKUSTConnect/Documents/python/my_notes_py/ad-hoc code/file_management/SEHH2042_work'\n",
    "add_id(path, works=works, pattern='*.txt')"
   ]
  },
  {
   "cell_type": "code",
   "execution_count": 779,
   "metadata": {},
   "outputs": [],
   "source": [
    "def rm_tree(path):\n",
    "    # recursively remove the directory `path`\n",
    "    # IMPORTANT: very dangerous!!!\n",
    "    path = Path(path).expanduser()\n",
    "    for f in path.rglob('*'):\n",
    "        if f.is_file():\n",
    "            f.unlink()\n",
    "        elif f.is_dir():\n",
    "            rm_tree(f)\n",
    "    path.rmdir()\n",
    "\n",
    "def rm_files(path):\n",
    "    path = Path(path).expanduser()\n",
    "    for f in path.rglob('*'):\n",
    "        if f.is_file():\n",
    "            f.unlink()\n",
    "import shutil\n",
    "path = '~/Desktop/song_list_exercise'\n",
    "# rm_tree(path)\n",
    "# rm_files(path)\n",
    "shutil.rmtree(Path(path).expanduser())"
   ]
  },
  {
   "cell_type": "code",
   "execution_count": 782,
   "metadata": {},
   "outputs": [],
   "source": [
    "def create_song_list(path):\n",
    "    # create song list in format\n",
    "    # gp1_1 - gp2_1 - #1.txt\n",
    "    path = Path(path).expanduser()\n",
    "    path.mkdir(parents=True, exist_ok=True)\n",
    "    for i in range(1, 11):\n",
    "        path.joinpath(f\"gp1_{i} - gp2_{i} - #{i}.txt\").write_text('')\n",
    "\n",
    "def rename_song_list(path, pattern='*'):\n",
    "    # rename song file to this format\n",
    "    # 001-gp1_1-gp2_1.txt\n",
    "    path = Path(path).expanduser()\n",
    "    for f in path.glob(pattern):\n",
    "        gp1, gp2, num = [x.strip() for x in f.stem.split('-')]\n",
    "        num = num[1:].zfill(3)\n",
    "        new_stem = f\"{num}-{gp1}-{gp2}\"\n",
    "        # print(new_stem)\n",
    "        # print(f.with_stem(new_stem))\n",
    "        f.rename(f.with_stem(new_stem))\n",
    "\n",
    "path = '~/Desktop/song_list_exercise'\n",
    "create_song_list(path)\n",
    "# rename_song_list(path, pattern='[!.]*')\n"
   ]
  },
  {
   "cell_type": "markdown",
   "metadata": {},
   "source": []
  }
 ],
 "metadata": {
  "interpreter": {
   "hash": "ae74f9feb07f97b665e59d852dca9947bf3c6be9bdf551f43d711a8fd00af3ab"
  },
  "kernelspec": {
   "display_name": "Python 3.9.7 ('data_science')",
   "language": "python",
   "name": "python3"
  },
  "language_info": {
   "codemirror_mode": {
    "name": "ipython",
    "version": 3
   },
   "file_extension": ".py",
   "mimetype": "text/x-python",
   "name": "python",
   "nbconvert_exporter": "python",
   "pygments_lexer": "ipython3",
   "version": "3.9.7"
  },
  "orig_nbformat": 4
 },
 "nbformat": 4,
 "nbformat_minor": 2
}
