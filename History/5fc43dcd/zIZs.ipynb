{
 "cells": [
  {
   "cell_type": "code",
   "execution_count": 1,
   "metadata": {},
   "outputs": [],
   "source": [
    "from ds_preamble import *"
   ]
  },
  {
   "cell_type": "code",
   "execution_count": 100,
   "metadata": {},
   "outputs": [
    {
     "data": {
      "text/plain": [
       "0      1\n",
       "1      4\n",
       "2      5\n",
       "3      6\n",
       "4      7\n",
       "      ..\n",
       "81    95\n",
       "82    96\n",
       "83    97\n",
       "84    98\n",
       "85    99\n",
       "Name: id, Length: 86, dtype: int64"
      ]
     },
     "execution_count": 100,
     "metadata": {},
     "output_type": "execute_result"
    },
    {
     "name": "stdout",
     "output_type": "stream",
     "text": [
      "{1, 4, 5, 6, 7, 8, 9, 10, 11, 12, 13, 14, 15, 17, 18, 20, 21, 22, 23, 24, 25, 26, 27, 28, 30, 31, 32, 33, 34, 35, 37, 38, 40, 41, 42, 43, 44, 46, 47, 48, 49, 51, 52, 53, 54, 55, 56, 57, 58, 59, 60, 61, 62, 63, 64, 65, 66, 67, 69, 70, 71, 72, 75, 76, 77, 78, 79, 80, 81, 82, 83, 84, 85, 86, 87, 89, 90, 91, 92, 93, 94, 95, 96, 97, 98, 99}\n"
     ]
    }
   ],
   "source": [
    "df1 = pd.DataFrame(np.random.randint(1,100, size=(100,10)))\n",
    "df1.rename({0:'id'}, axis=1, inplace=True)\n",
    "\n",
    "df2 = pd.DataFrame(np.random.randint(1,100, size=(100,10)))\n",
    "df2.rename({0:'id'}, axis=1, inplace=True)\n",
    "\n",
    "pd.concat([df1.id,df2.id]).drop_duplicates().sort_values().reset_index(drop=True)\n",
    "\n",
    "print(set(df1.id).union(set(df2.id)))"
   ]
  },
  {
   "cell_type": "code",
   "execution_count": 99,
   "metadata": {},
   "outputs": [
    {
     "name": "stdout",
     "output_type": "stream",
     "text": [
      "   sid  purchase\n",
      "0    1        10\n",
      "1    1        20\n",
      "2    2         2\n",
      "3    2         3\n",
      "4    3         1\n",
      "5    4         2\n",
      "6    5         4\n",
      "7    9        44\n",
      "   sid  age\n",
      "0    1   10\n",
      "1    2   22\n",
      "2    3   11\n",
      "3    4   21\n",
      "4    5   55\n",
      "5    6   19\n",
      "6    7   23\n",
      "   sid  purchase  age\n",
      "0    1        10   10\n",
      "1    1        20   10\n",
      "2    2         2   22\n",
      "3    2         3   22\n",
      "4    3         1   11\n",
      "5    4         2   21\n",
      "6    5         4   55\n",
      "   sid  purchase   age\n",
      "0    1      10.0  10.0\n",
      "1    1      20.0  10.0\n",
      "2    2       2.0  22.0\n",
      "3    2       3.0  22.0\n",
      "4    3       1.0  11.0\n",
      "5    4       2.0  21.0\n",
      "6    5       4.0  55.0\n",
      "7    9      44.0   NaN\n",
      "8    6       NaN  19.0\n",
      "9    7       NaN  23.0\n",
      "   sid  purchase   age\n",
      "0    1        10  10.0\n",
      "1    1        20  10.0\n",
      "2    2         2  22.0\n",
      "3    2         3  22.0\n",
      "4    3         1  11.0\n",
      "5    4         2  21.0\n",
      "6    5         4  55.0\n",
      "7    9        44   NaN\n",
      "   sid  purchase  age\n",
      "0    1      10.0   10\n",
      "1    1      20.0   10\n",
      "2    2       2.0   22\n",
      "3    2       3.0   22\n",
      "4    3       1.0   11\n",
      "5    4       2.0   21\n",
      "6    5       4.0   55\n",
      "7    6       NaN   19\n",
      "8    7       NaN   23\n"
     ]
    }
   ],
   "source": [
    "purchase=pd.DataFrame(dict(sid=[1,1,2,2,3,4,5,9], purchase=[10,20,2,3,1,2,4,44]))\n",
    "students = pd.DataFrame(dict(sid=[1,2,3,4,5,6,7], age=[10,22,11,21,55,19,23]))\n",
    "print(purchase)\n",
    "print(students)\n",
    "print(purchase.merge(students, on='sid', how='inner'))\n",
    "print(purchase.merge(students, on='sid', how='outer'))\n",
    "print(purchase.merge(students, on='sid', how='left'))\n",
    "print(purchase.merge(students, on='sid', how='right'))"
   ]
  }
 ],
 "metadata": {
  "interpreter": {
   "hash": "ae74f9feb07f97b665e59d852dca9947bf3c6be9bdf551f43d711a8fd00af3ab"
  },
  "kernelspec": {
   "display_name": "Python 3.9.7 ('data_science')",
   "language": "python",
   "name": "python3"
  },
  "language_info": {
   "codemirror_mode": {
    "name": "ipython",
    "version": 3
   },
   "file_extension": ".py",
   "mimetype": "text/x-python",
   "name": "python",
   "nbconvert_exporter": "python",
   "pygments_lexer": "ipython3",
   "version": "3.9.7"
  },
  "orig_nbformat": 4
 },
 "nbformat": 4,
 "nbformat_minor": 2
}
