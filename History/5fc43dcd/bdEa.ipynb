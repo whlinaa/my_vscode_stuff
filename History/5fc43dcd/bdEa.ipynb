{
 "cells": [
  {
   "cell_type": "code",
   "execution_count": 1,
   "metadata": {},
   "outputs": [],
   "source": [
    "from ds_preamble import *"
   ]
  },
  {
   "cell_type": "code",
   "execution_count": 103,
   "metadata": {},
   "outputs": [
    {
     "data": {
      "text/plain": [
       "85"
      ]
     },
     "execution_count": 103,
     "metadata": {},
     "output_type": "execute_result"
    }
   ],
   "source": [
    "df1 = pd.DataFrame(np.random.randint(1,100, size=(100,10)))\n",
    "df1.rename({0:'id'}, axis=1, inplace=True)\n",
    "\n",
    "df2 = pd.DataFrame(np.random.randint(1,100, size=(100,10)))\n",
    "df2.rename({0:'id'}, axis=1, inplace=True)\n",
    "\n",
    "\n",
    "\n",
    "\n",
    "# pd.concat([df1.id,df2.id]).drop_duplicates().sort_values().reset_index(drop=True)\n",
    "\n",
    "len(set(df1.id).union(set(df2.id)))"
   ]
  },
  {
   "cell_type": "code",
   "execution_count": 99,
   "metadata": {},
   "outputs": [
    {
     "name": "stdout",
     "output_type": "stream",
     "text": [
      "   sid  purchase\n",
      "0    1        10\n",
      "1    1        20\n",
      "2    2         2\n",
      "3    2         3\n",
      "4    3         1\n",
      "5    4         2\n",
      "6    5         4\n",
      "7    9        44\n",
      "   sid  age\n",
      "0    1   10\n",
      "1    2   22\n",
      "2    3   11\n",
      "3    4   21\n",
      "4    5   55\n",
      "5    6   19\n",
      "6    7   23\n",
      "   sid  purchase  age\n",
      "0    1        10   10\n",
      "1    1        20   10\n",
      "2    2         2   22\n",
      "3    2         3   22\n",
      "4    3         1   11\n",
      "5    4         2   21\n",
      "6    5         4   55\n",
      "   sid  purchase   age\n",
      "0    1      10.0  10.0\n",
      "1    1      20.0  10.0\n",
      "2    2       2.0  22.0\n",
      "3    2       3.0  22.0\n",
      "4    3       1.0  11.0\n",
      "5    4       2.0  21.0\n",
      "6    5       4.0  55.0\n",
      "7    9      44.0   NaN\n",
      "8    6       NaN  19.0\n",
      "9    7       NaN  23.0\n",
      "   sid  purchase   age\n",
      "0    1        10  10.0\n",
      "1    1        20  10.0\n",
      "2    2         2  22.0\n",
      "3    2         3  22.0\n",
      "4    3         1  11.0\n",
      "5    4         2  21.0\n",
      "6    5         4  55.0\n",
      "7    9        44   NaN\n",
      "   sid  purchase  age\n",
      "0    1      10.0   10\n",
      "1    1      20.0   10\n",
      "2    2       2.0   22\n",
      "3    2       3.0   22\n",
      "4    3       1.0   11\n",
      "5    4       2.0   21\n",
      "6    5       4.0   55\n",
      "7    6       NaN   19\n",
      "8    7       NaN   23\n"
     ]
    }
   ],
   "source": [
    "purchase=pd.DataFrame(dict(sid=[1,1,2,2,3,4,5,9], purchase=[10,20,2,3,1,2,4,44]))\n",
    "students = pd.DataFrame(dict(sid=[1,2,3,4,5,6,7], age=[10,22,11,21,55,19,23]))\n",
    "print(purchase)\n",
    "print(students)\n",
    "print(purchase.merge(students, on='sid', how='inner'))\n",
    "print(purchase.merge(students, on='sid', how='outer'))\n",
    "print(purchase.merge(students, on='sid', how='left'))\n",
    "print(purchase.merge(students, on='sid', how='right'))"
   ]
  }
 ],
 "metadata": {
  "interpreter": {
   "hash": "ae74f9feb07f97b665e59d852dca9947bf3c6be9bdf551f43d711a8fd00af3ab"
  },
  "kernelspec": {
   "display_name": "Python 3.9.7 ('data_science')",
   "language": "python",
   "name": "python3"
  },
  "language_info": {
   "codemirror_mode": {
    "name": "ipython",
    "version": 3
   },
   "file_extension": ".py",
   "mimetype": "text/x-python",
   "name": "python",
   "nbconvert_exporter": "python",
   "pygments_lexer": "ipython3",
   "version": "3.9.7"
  },
  "orig_nbformat": 4
 },
 "nbformat": 4,
 "nbformat_minor": 2
}
