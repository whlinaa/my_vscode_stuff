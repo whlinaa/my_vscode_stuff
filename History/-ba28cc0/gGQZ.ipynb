{
 "cells": [
  {
   "cell_type": "markdown",
   "metadata": {},
   "source": [
    "# function annotation example"
   ]
  },
  {
   "cell_type": "code",
   "execution_count": 12,
   "metadata": {},
   "outputs": [],
   "source": [
    "from ds_preamble import *"
   ]
  },
  {
   "cell_type": "code",
   "execution_count": 2,
   "metadata": {},
   "outputs": [
    {
     "name": "stdout",
     "output_type": "stream",
     "text": [
      "1 2 3\n",
      "hello\n"
     ]
    }
   ],
   "source": [
    "def func(a: 'spam', b: (1, 10), c: float) -> int:\n",
    "    print(a, b, c)\n",
    "    print(\"hello\")\n",
    "\n",
    "func(1,2,3)\n"
   ]
  },
  {
   "cell_type": "code",
   "execution_count": 4,
   "metadata": {},
   "outputs": [
    {
     "data": {
      "text/plain": [
       "'hello'"
      ]
     },
     "execution_count": 4,
     "metadata": {},
     "output_type": "execute_result"
    }
   ],
   "source": [
    "x: str = \"hello\"\n",
    "x\n"
   ]
  },
  {
   "cell_type": "code",
   "execution_count": 32,
   "metadata": {},
   "outputs": [
    {
     "ename": "SyntaxError",
     "evalue": "invalid syntax (3287480664.py, line 8)",
     "output_type": "error",
     "traceback": [
      "\u001b[0;36m  File \u001b[0;32m\"/var/folders/c2/yj8ksjmn34v5f9csr1s82d8r0000gn/T/ipykernel_56572/3287480664.py\"\u001b[0;36m, line \u001b[0;32m8\u001b[0m\n\u001b[0;31m    y: Dict{str,str} = {'a':'b'}\u001b[0m\n\u001b[0m           ^\u001b[0m\n\u001b[0;31mSyntaxError\u001b[0m\u001b[0;31m:\u001b[0m invalid syntax\n"
     ]
    }
   ],
   "source": [
    "from typing import List, Dict # note the capital letter!!\n",
    "# y: list[list[int]] = []\n",
    "\n",
    "# [[1,2,3],[4,5,6]]\n",
    "y: List[List[int]] = [] # version <3.9\n",
    "y: list[list[int]] = [] # version >=3.9\n",
    "y: dict[str,str] = {'a':'b'}\n",
    "y: Dict[str,str] = {'a':'b'}\n",
    "\n",
    "\n",
    "print(y)\n",
    "\n",
    "\n",
    "y: pd.DataFrame = [1,2,3]\n",
    "y: pd.Series = [1,2,3]\n",
    "y: list =[1,2,3]\n",
    "\n",
    "\n",
    "\n"
   ]
  },
  {
   "cell_type": "markdown",
   "metadata": {},
   "source": []
  }
 ],
 "metadata": {
  "interpreter": {
   "hash": "ae74f9feb07f97b665e59d852dca9947bf3c6be9bdf551f43d711a8fd00af3ab"
  },
  "kernelspec": {
   "display_name": "Python 3.9.7 ('data_science')",
   "language": "python",
   "name": "python3"
  },
  "language_info": {
   "codemirror_mode": {
    "name": "ipython",
    "version": 3
   },
   "file_extension": ".py",
   "mimetype": "text/x-python",
   "name": "python",
   "nbconvert_exporter": "python",
   "pygments_lexer": "ipython3",
   "version": "3.9.7"
  },
  "orig_nbformat": 4
 },
 "nbformat": 4,
 "nbformat_minor": 2
}
