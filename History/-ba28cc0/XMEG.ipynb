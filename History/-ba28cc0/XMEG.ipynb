{
 "cells": [
  {
   "cell_type": "markdown",
   "metadata": {},
   "source": [
    "# function annotation example"
   ]
  },
  {
   "cell_type": "code",
   "execution_count": 12,
   "metadata": {},
   "outputs": [],
   "source": [
    "from ds_preamble import *"
   ]
  },
  {
   "cell_type": "code",
   "execution_count": 2,
   "metadata": {},
   "outputs": [
    {
     "name": "stdout",
     "output_type": "stream",
     "text": [
      "1 2 3\n",
      "hello\n"
     ]
    }
   ],
   "source": [
    "def func(a: 'spam', b: (1, 10), c: float) -> int:\n",
    "    print(a, b, c)\n",
    "    print(\"hello\")\n",
    "\n",
    "func(1,2,3)\n"
   ]
  },
  {
   "cell_type": "code",
   "execution_count": 4,
   "metadata": {},
   "outputs": [
    {
     "data": {
      "text/plain": [
       "'hello'"
      ]
     },
     "execution_count": 4,
     "metadata": {},
     "output_type": "execute_result"
    }
   ],
   "source": [
    "x: str = \"hello\"\n",
    "x\n"
   ]
  },
  {
   "cell_type": "code",
   "execution_count": 47,
   "metadata": {},
   "outputs": [
    {
     "name": "stdout",
     "output_type": "stream",
     "text": [
      "{'a': 'b'}\n"
     ]
    }
   ],
   "source": [
    "from typing import List, Dict, Any # note the capital letter!!\n",
    "# y: list[list[int]] = []\n",
    "\n",
    "dataframe = pd.DataFrame\n",
    "array = np.ndarray\n",
    "\n",
    "\n",
    "# y: np.ndarray[int] =[1,2,3]\n",
    "\n",
    "# [[1,2,3],[4,5,6]]\n",
    "y: List[List[int]] = [] # version <3.9\n",
    "y: list[list[int]] = [] # version >=3.9\n",
    "y: dict[str,str] = {'a':'b'}\n",
    "y: Dict[str,str] = {'a':'b'}\n",
    "\n",
    "\n",
    "\n",
    "\n",
    "\n",
    "print(y)\n",
    "\n",
    "\n",
    "y: pd.DataFrame = [1,2,3]\n",
    "y: pd.Series = [1,2,3]\n",
    "y: list =[1,2,3]\n",
    "y:list[dataframe]=[5.6]\n",
    "\n",
    "\n",
    "\n",
    "\n",
    "def f1(y: dataframe = None) -> int:\n",
    "\n",
    "\n",
    "    pass\n",
    "\n",
    "f1()\n",
    "\n",
    "\n",
    "\n"
   ]
  },
  {
   "cell_type": "markdown",
   "metadata": {},
   "source": []
  }
 ],
 "metadata": {
  "interpreter": {
   "hash": "ae74f9feb07f97b665e59d852dca9947bf3c6be9bdf551f43d711a8fd00af3ab"
  },
  "kernelspec": {
   "display_name": "Python 3.9.7 ('data_science')",
   "language": "python",
   "name": "python3"
  },
  "language_info": {
   "codemirror_mode": {
    "name": "ipython",
    "version": 3
   },
   "file_extension": ".py",
   "mimetype": "text/x-python",
   "name": "python",
   "nbconvert_exporter": "python",
   "pygments_lexer": "ipython3",
   "version": "3.9.7"
  },
  "orig_nbformat": 4
 },
 "nbformat": 4,
 "nbformat_minor": 2
}
