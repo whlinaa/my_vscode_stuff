{
 "cells": [
  {
   "cell_type": "code",
   "execution_count": 1,
   "metadata": {},
   "outputs": [],
   "source": [
    "from ds_preamble import *\n",
    "from pathlib import Path"
   ]
  },
  {
   "cell_type": "code",
   "execution_count": 49,
   "metadata": {},
   "outputs": [
    {
     "name": "stdout",
     "output_type": "stream",
     "text": [
      "~/Library/CloudStorage/OneDrive-HKUSTConnect/Documents/python/my_modules/file_management\n",
      "/Users/MMA2455/Library/CloudStorage/OneDrive-HKUSTConnect/Documents/python/my_modules/file_management\n"
     ]
    }
   ],
   "source": [
    "path = Path('~/Library/CloudStorage/OneDrive-HKUSTConnect/Documents/python/my_modules/file_management')\n",
    "path_file = Path('~/Desktop/mytext.txt')\n",
    "\n",
    "print(path)\n",
    "print(path.expanduser())\n",
    "\n"
   ]
  },
  {
   "cell_type": "code",
   "execution_count": 50,
   "metadata": {},
   "outputs": [
    {
     "data": {
      "text/plain": [
       "PosixPath('/Users/MMA2455/Library/CloudStorage/OneDrive-HKUSTConnect/Documents/python/my_modules/file_management')"
      ]
     },
     "execution_count": 50,
     "metadata": {},
     "output_type": "execute_result"
    },
    {
     "data": {
      "text/plain": [
       "PosixPath('/Users/MMA2455')"
      ]
     },
     "execution_count": 50,
     "metadata": {},
     "output_type": "execute_result"
    }
   ],
   "source": [
    "# class methods\n",
    "Path.cwd()\n",
    "Path.home()"
   ]
  },
  {
   "cell_type": "code",
   "execution_count": 20,
   "metadata": {},
   "outputs": [
    {
     "name": "stdout",
     "output_type": "stream",
     "text": [
      "for path ~/Library/CloudStorage/OneDrive-HKUSTConnect/Documents/python/my_modules/file_management:\n",
      "p.cwd() / 'textfiles' = PosixPath('/Users/MMA2455/Library/CloudStorage/OneDrive-HKUSTConnect/Documents/python/my_modules/file_management/textfiles')\n",
      "p.home() = PosixPath('/Users/MMA2455')\n",
      "p.cwd().exists() = True\n",
      "p.exists() = False\n",
      "p.is_dir() = False\n",
      "p.is_file() = False\n",
      "p.is_absolute() = False\n",
      "===========\n",
      "for path /Users/MMA2455/Library/CloudStorage/OneDrive-HKUSTConnect/Documents/python/my_modules/file_management:\n",
      "p.cwd() / 'textfiles' = PosixPath('/Users/MMA2455/Library/CloudStorage/OneDrive-HKUSTConnect/Documents/python/my_modules/file_management/textfiles')\n",
      "p.home() = PosixPath('/Users/MMA2455')\n",
      "p.cwd().exists() = True\n",
      "p.exists() = True\n",
      "p.is_dir() = True\n",
      "p.is_file() = False\n",
      "p.is_absolute() = True\n",
      "===========\n"
     ]
    }
   ],
   "source": [
    "# methods of Path object \n",
    "for p in [path, path.cwd()]:\n",
    "    print(f'for path {p}:')\n",
    "    print(f\"{p.cwd() / 'textfiles' = }\") # '/' has been overloaded\n",
    "    print(f\"{p.home() = }\")\n",
    "    print(f\"{p.cwd().exists() = }\")\n",
    "    print(f\"{p.exists() = }\")\n",
    "    print(f\"{p.is_dir() = }\")\n",
    "    print(f\"{p.is_file() = }\")\n",
    "    print(f\"{p.is_absolute() = }\")\n",
    "    # p.chmod()\n",
    "    print(\"===========\")"
   ]
  },
  {
   "cell_type": "code",
   "execution_count": 17,
   "metadata": {},
   "outputs": [
    {
     "data": {
      "text/plain": [
       "'change_name_to_ID_only.py'"
      ]
     },
     "execution_count": 17,
     "metadata": {},
     "output_type": "execute_result"
    },
    {
     "data": {
      "text/plain": [
       "'changeName.py'"
      ]
     },
     "execution_count": 17,
     "metadata": {},
     "output_type": "execute_result"
    },
    {
     "data": {
      "text/plain": [
       "'change_file_names.py'"
      ]
     },
     "execution_count": 17,
     "metadata": {},
     "output_type": "execute_result"
    },
    {
     "data": {
      "text/plain": [
       "'reverse_line.py'"
      ]
     },
     "execution_count": 17,
     "metadata": {},
     "output_type": "execute_result"
    },
    {
     "data": {
      "text/plain": [
       "'SEHH2042_AS_cleaning.py'"
      ]
     },
     "execution_count": 17,
     "metadata": {},
     "output_type": "execute_result"
    },
    {
     "data": {
      "text/plain": [
       "'SEHH2042_GP_add group id to cpp.py'"
      ]
     },
     "execution_count": 17,
     "metadata": {},
     "output_type": "execute_result"
    },
    {
     "data": {
      "text/plain": [
       "'open_doc.py'"
      ]
     },
     "execution_count": 17,
     "metadata": {},
     "output_type": "execute_result"
    },
    {
     "data": {
      "text/plain": [
       "'SEHH2042_addGPID.py'"
      ]
     },
     "execution_count": 17,
     "metadata": {},
     "output_type": "execute_result"
    },
    {
     "data": {
      "text/plain": [
       "'rename.py'"
      ]
     },
     "execution_count": 17,
     "metadata": {},
     "output_type": "execute_result"
    },
    {
     "data": {
      "text/plain": [
       "'SEHH2042_GP_addInfo.py'"
      ]
     },
     "execution_count": 17,
     "metadata": {},
     "output_type": "execute_result"
    },
    {
     "name": "stdout",
     "output_type": "stream",
     "text": [
      "========\n"
     ]
    },
    {
     "data": {
      "text/plain": [
       "'change_name_to_ID_only.py'"
      ]
     },
     "execution_count": 17,
     "metadata": {},
     "output_type": "execute_result"
    },
    {
     "data": {
      "text/plain": [
       "'changeName.py'"
      ]
     },
     "execution_count": 17,
     "metadata": {},
     "output_type": "execute_result"
    },
    {
     "data": {
      "text/plain": [
       "'change_file_names.py'"
      ]
     },
     "execution_count": 17,
     "metadata": {},
     "output_type": "execute_result"
    }
   ],
   "source": [
    "for x in path.cwd().rglob('*.py'): # recursive glob\n",
    "    x.name\n",
    "print(\"========\")\n",
    "for x in path.cwd().glob('*.py'):\n",
    "    x.name"
   ]
  },
  {
   "cell_type": "markdown",
   "metadata": {},
   "source": [
    "# Path object attributes"
   ]
  },
  {
   "cell_type": "code",
   "execution_count": 26,
   "metadata": {},
   "outputs": [
    {
     "name": "stdout",
     "output_type": "stream",
     "text": [
      "attributes.....\n",
      "path = PosixPath('~/Desktop/mytext.txt')\n",
      "path.stem = 'mytext'\n",
      "path.suffix = '.txt'\n",
      "path.parent = PosixPath('~/Desktop')\n",
      "path.name = 'mytext.txt'\n",
      "path.root = ''\n",
      "===========\n"
     ]
    }
   ],
   "source": [
    "\n",
    "# for path in [path, path_file, path.cwd()]:\n",
    "for path in [path_file]:\n",
    "    print('attributes.....')\n",
    "    print(f'{path = }')\n",
    "    print(f'{path.stem = }')\n",
    "    print(f'{path.suffix = }')\n",
    "    print(f'{path.parent = }')\n",
    "    print(f'{path.name = }')\n",
    "    print(f'{path.root = }')\n",
    "    # path.parent.parent\n",
    "    # list(path.parents)\n",
    "    print(\"===========\")"
   ]
  },
  {
   "cell_type": "code",
   "execution_count": 30,
   "metadata": {},
   "outputs": [
    {
     "name": "stdout",
     "output_type": "stream",
     "text": [
      "path = PosixPath('~/Desktop/mytext.txt')\n",
      "path.with_name('abc.png')  = PosixPath('~/Desktop/abc.png')\n",
      "path.with_stem('abc') = PosixPath('~/Desktop/abc.txt')\n",
      "path.with_suffix('.png') = PosixPath('~/Desktop/mytext.png')\n"
     ]
    }
   ],
   "source": [
    "# to rename file, with `with_*` methods\n",
    "print(f\"{path = }\")\n",
    "print(f\"{path.with_name('abc.png')  = }\")\n",
    "print(f\"{path.with_stem('abc') = }\")\n",
    "print(f\"{path.with_suffix('.png') = }\")\n"
   ]
  },
  {
   "cell_type": "markdown",
   "metadata": {},
   "source": [
    "# function to add prefix/suffix to the files of a directory"
   ]
  },
  {
   "cell_type": "code",
   "execution_count": 65,
   "metadata": {},
   "outputs": [
    {
     "name": "stdout",
     "output_type": "stream",
     "text": [
      "/Users/MMA2455/Desktop/testing\n",
      "/Users/MMA2455/Desktop/testing/12343434fr34.png\n"
     ]
    }
   ],
   "source": [
    "def change_file_names(path, ext='png', prefix=None, suffix=None):\n",
    "    path = Path(path).expanduser()\n",
    "    print(path)\n",
    "    for file in path.glob('*.png'):\n",
    "        print(file)\n",
    "        # file.with_stem('1234_'+file.stem)\n",
    "        file.rename(file.with_stem('123vcvc'))\n",
    "\n",
    "path = '~/Desktop/testing'\n",
    "change_file_names(path)\n",
    "# print(Path(path))\n",
    "# print(Path(path).cwd())\n",
    "\n",
    "\n"
   ]
  },
  {
   "cell_type": "code",
   "execution_count": 111,
   "metadata": {},
   "outputs": [
    {
     "name": "stderr",
     "output_type": "stream",
     "text": [
      "/var/folders/c2/yj8ksjmn34v5f9csr1s82d8r0000gn/T/ipykernel_70109/2996901143.py:3: UserWarning: Pandas doesn't allow columns to be created via a new attribute name - see https://pandas.pydata.org/pandas-docs/stable/indexing.html#attribute-access\n",
      "  df.d = [6,7]\n"
     ]
    },
    {
     "data": {
      "text/html": [
       "<div>\n",
       "<style scoped>\n",
       "    .dataframe tbody tr th:only-of-type {\n",
       "        vertical-align: middle;\n",
       "    }\n",
       "\n",
       "    .dataframe tbody tr th {\n",
       "        vertical-align: top;\n",
       "    }\n",
       "\n",
       "    .dataframe thead th {\n",
       "        text-align: right;\n",
       "    }\n",
       "</style>\n",
       "<table border=\"1\" class=\"dataframe\">\n",
       "  <thead>\n",
       "    <tr style=\"text-align: right;\">\n",
       "      <th></th>\n",
       "      <th>a</th>\n",
       "      <th>b</th>\n",
       "      <th>c</th>\n",
       "    </tr>\n",
       "  </thead>\n",
       "  <tbody>\n",
       "    <tr>\n",
       "      <th>0</th>\n",
       "      <td>5</td>\n",
       "      <td>2</td>\n",
       "      <td>3</td>\n",
       "    </tr>\n",
       "    <tr>\n",
       "      <th>1</th>\n",
       "      <td>6</td>\n",
       "      <td>5</td>\n",
       "      <td>6</td>\n",
       "    </tr>\n",
       "  </tbody>\n",
       "</table>\n",
       "</div>"
      ],
      "text/plain": [
       "   a  b  c\n",
       "0  5  2  3\n",
       "1  6  5  6"
      ]
     },
     "execution_count": 111,
     "metadata": {},
     "output_type": "execute_result"
    }
   ],
   "source": [
    "df = pd.DataFrame([[1,2,3],[4,5,6]], columns=['a','b','c'])\n",
    "df.a = [5,6]\n",
    "df.d = [6,7]"
   ]
  },
  {
   "cell_type": "markdown",
   "metadata": {},
   "source": []
  }
 ],
 "metadata": {
  "interpreter": {
   "hash": "ae74f9feb07f97b665e59d852dca9947bf3c6be9bdf551f43d711a8fd00af3ab"
  },
  "kernelspec": {
   "display_name": "Python 3.9.7 ('data_science')",
   "language": "python",
   "name": "python3"
  },
  "language_info": {
   "codemirror_mode": {
    "name": "ipython",
    "version": 3
   },
   "file_extension": ".py",
   "mimetype": "text/x-python",
   "name": "python",
   "nbconvert_exporter": "python",
   "pygments_lexer": "ipython3",
   "version": "3.9.11"
  },
  "orig_nbformat": 4
 },
 "nbformat": 4,
 "nbformat_minor": 2
}
