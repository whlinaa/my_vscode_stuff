{
 "cells": [
  {
   "cell_type": "code",
   "execution_count": 1,
   "metadata": {},
   "outputs": [],
   "source": [
    "from ds_preamble import *\n",
    "from pathlib import Path"
   ]
  },
  {
   "cell_type": "code",
   "execution_count": 50,
   "metadata": {},
   "outputs": [
    {
     "data": {
      "text/plain": [
       "PosixPath('~/Library/CloudStorage/OneDrive-HKUSTConnect/Documents/python/my_modules/file_management')"
      ]
     },
     "execution_count": 50,
     "metadata": {},
     "output_type": "execute_result"
    },
    {
     "data": {
      "text/plain": [
       "PosixPath('/Users/whlin/Library/CloudStorage/OneDrive-HKUSTConnect/Documents/python/my_modules/file_management/textfiles')"
      ]
     },
     "execution_count": 50,
     "metadata": {},
     "output_type": "execute_result"
    },
    {
     "data": {
      "text/plain": [
       "PosixPath('/Users/whlin')"
      ]
     },
     "execution_count": 50,
     "metadata": {},
     "output_type": "execute_result"
    },
    {
     "data": {
      "text/plain": [
       "True"
      ]
     },
     "execution_count": 50,
     "metadata": {},
     "output_type": "execute_result"
    },
    {
     "data": {
      "text/plain": [
       "False"
      ]
     },
     "execution_count": 50,
     "metadata": {},
     "output_type": "execute_result"
    },
    {
     "data": {
      "text/plain": [
       "False"
      ]
     },
     "execution_count": 50,
     "metadata": {},
     "output_type": "execute_result"
    },
    {
     "data": {
      "text/plain": [
       "False"
      ]
     },
     "execution_count": 50,
     "metadata": {},
     "output_type": "execute_result"
    },
    {
     "data": {
      "text/plain": [
       "False"
      ]
     },
     "execution_count": 50,
     "metadata": {},
     "output_type": "execute_result"
    },
    {
     "data": {
      "text/plain": [
       "PosixPath('~/Library/CloudStorage/OneDrive-HKUSTConnect/Documents/python/my_modules')"
      ]
     },
     "execution_count": 50,
     "metadata": {},
     "output_type": "execute_result"
    },
    {
     "data": {
      "text/plain": [
       "PosixPath('~/Library/CloudStorage/OneDrive-HKUSTConnect/Documents/python')"
      ]
     },
     "execution_count": 50,
     "metadata": {},
     "output_type": "execute_result"
    },
    {
     "data": {
      "text/plain": [
       "[PosixPath('~/Library/CloudStorage/OneDrive-HKUSTConnect/Documents/python/my_modules'),\n",
       " PosixPath('~/Library/CloudStorage/OneDrive-HKUSTConnect/Documents/python'),\n",
       " PosixPath('~/Library/CloudStorage/OneDrive-HKUSTConnect/Documents'),\n",
       " PosixPath('~/Library/CloudStorage/OneDrive-HKUSTConnect'),\n",
       " PosixPath('~/Library/CloudStorage'),\n",
       " PosixPath('~/Library'),\n",
       " PosixPath('~'),\n",
       " PosixPath('.')]"
      ]
     },
     "execution_count": 50,
     "metadata": {},
     "output_type": "execute_result"
    },
    {
     "data": {
      "text/plain": [
       "PosixPath('~/Library/CloudStorage/OneDrive-HKUSTConnect/Documents/python/my_modules/file_management')"
      ]
     },
     "execution_count": 50,
     "metadata": {},
     "output_type": "execute_result"
    },
    {
     "data": {
      "text/plain": [
       "[PosixPath('/Users/whlin/Library/CloudStorage/OneDrive-HKUSTConnect/Documents/python/my_modules/file_management/change_name_to_ID_only.py'),\n",
       " PosixPath('/Users/whlin/Library/CloudStorage/OneDrive-HKUSTConnect/Documents/python/my_modules/file_management/changeName.py'),\n",
       " PosixPath('/Users/whlin/Library/CloudStorage/OneDrive-HKUSTConnect/Documents/python/my_modules/file_management/change_file_names.py'),\n",
       " PosixPath('/Users/whlin/Library/CloudStorage/OneDrive-HKUSTConnect/Documents/python/my_modules/file_management/reverse_lines/reverse_line.py'),\n",
       " PosixPath('/Users/whlin/Library/CloudStorage/OneDrive-HKUSTConnect/Documents/python/my_modules/file_management/SEHH2042_AS_Cleaning/SEHH2042_AS_cleaning.py'),\n",
       " PosixPath('/Users/whlin/Library/CloudStorage/OneDrive-HKUSTConnect/Documents/python/my_modules/file_management/SEHH2042_GP_add group id to cpp/SEHH2042_GP_add group id to cpp.py'),\n",
       " PosixPath('/Users/whlin/Library/CloudStorage/OneDrive-HKUSTConnect/Documents/python/my_modules/file_management/open a doc/open_doc.py'),\n",
       " PosixPath('/Users/whlin/Library/CloudStorage/OneDrive-HKUSTConnect/Documents/python/my_modules/file_management/SEHH2042_addGPID/SEHH2042_addGPID.py'),\n",
       " PosixPath('/Users/whlin/Library/CloudStorage/OneDrive-HKUSTConnect/Documents/python/my_modules/file_management/Corey_rename_song_list/rename.py'),\n",
       " PosixPath('/Users/whlin/Library/CloudStorage/OneDrive-HKUSTConnect/Documents/python/my_modules/file_management/SEHH2042_GP_insert students info to worksheet/SEHH2042_GP_addInfo.py')]"
      ]
     },
     "execution_count": 50,
     "metadata": {},
     "output_type": "execute_result"
    }
   ],
   "source": [
    "from pathlib import Path\n",
    "path = Path('~/Library/CloudStorage/OneDrive-HKUSTConnect/Documents/python/my_modules/file_management')\n",
    "path\n",
    "path.cwd() / 'textfiles' # '/' has been overloaded\n",
    "path.home()\n",
    "path.cwd().exists()\n",
    "path.exists()\n",
    "path.is_dir()\n",
    "path.is_file()\n",
    "path.is_absolute()\n",
    "# path.chmod()\n",
    "\n",
    "path.parent\n",
    "path.parent.parent\n",
    "list(path.parents)\n",
    "\n",
    "path\n",
    "list(path.cwd().rglob('*.py'))"
   ]
  }
 ],
 "metadata": {
  "interpreter": {
   "hash": "ae74f9feb07f97b665e59d852dca9947bf3c6be9bdf551f43d711a8fd00af3ab"
  },
  "kernelspec": {
   "display_name": "Python 3.9.7 ('data_science')",
   "language": "python",
   "name": "python3"
  },
  "language_info": {
   "codemirror_mode": {
    "name": "ipython",
    "version": 3
   },
   "file_extension": ".py",
   "mimetype": "text/x-python",
   "name": "python",
   "nbconvert_exporter": "python",
   "pygments_lexer": "ipython3",
   "version": "3.9.7"
  },
  "orig_nbformat": 4
 },
 "nbformat": 4,
 "nbformat_minor": 2
}
