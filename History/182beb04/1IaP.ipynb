{
 "cells": [
  {
   "cell_type": "code",
   "execution_count": 1,
   "metadata": {},
   "outputs": [],
   "source": [
    "from ds_preamble import *\n",
    "from pathlib import Path"
   ]
  },
  {
   "cell_type": "code",
   "execution_count": 83,
   "metadata": {},
   "outputs": [
    {
     "data": {
      "text/plain": [
       "PosixPath('~/Library/CloudStorage/OneDrive-HKUSTConnect/Documents/python/my_modules/file_management')"
      ]
     },
     "execution_count": 83,
     "metadata": {},
     "output_type": "execute_result"
    },
    {
     "data": {
      "text/plain": [
       "PosixPath('/Users/whlin/Library/CloudStorage/OneDrive-HKUSTConnect/Documents/python/my_modules/file_management')"
      ]
     },
     "execution_count": 83,
     "metadata": {},
     "output_type": "execute_result"
    },
    {
     "data": {
      "text/plain": [
       "PosixPath('/Users/whlin/Library/CloudStorage/OneDrive-HKUSTConnect/Documents/python/my_modules/file_management')"
      ]
     },
     "execution_count": 83,
     "metadata": {},
     "output_type": "execute_result"
    },
    {
     "name": "stdout",
     "output_type": "stream",
     "text": [
      "methods.....\n"
     ]
    },
    {
     "data": {
      "text/plain": [
       "PosixPath('~/Library/CloudStorage/OneDrive-HKUSTConnect/Documents/python/my_modules/file_management')"
      ]
     },
     "execution_count": 83,
     "metadata": {},
     "output_type": "execute_result"
    },
    {
     "data": {
      "text/plain": [
       "PosixPath('/Users/whlin/Library/CloudStorage/OneDrive-HKUSTConnect/Documents/python/my_modules/file_management/textfiles')"
      ]
     },
     "execution_count": 83,
     "metadata": {},
     "output_type": "execute_result"
    },
    {
     "data": {
      "text/plain": [
       "PosixPath('/Users/whlin')"
      ]
     },
     "execution_count": 83,
     "metadata": {},
     "output_type": "execute_result"
    },
    {
     "data": {
      "text/plain": [
       "True"
      ]
     },
     "execution_count": 83,
     "metadata": {},
     "output_type": "execute_result"
    },
    {
     "data": {
      "text/plain": [
       "False"
      ]
     },
     "execution_count": 83,
     "metadata": {},
     "output_type": "execute_result"
    },
    {
     "data": {
      "text/plain": [
       "False"
      ]
     },
     "execution_count": 83,
     "metadata": {},
     "output_type": "execute_result"
    },
    {
     "data": {
      "text/plain": [
       "False"
      ]
     },
     "execution_count": 83,
     "metadata": {},
     "output_type": "execute_result"
    },
    {
     "data": {
      "text/plain": [
       "False"
      ]
     },
     "execution_count": 83,
     "metadata": {},
     "output_type": "execute_result"
    },
    {
     "name": "stdout",
     "output_type": "stream",
     "text": [
      "===========\n",
      "methods.....\n"
     ]
    },
    {
     "data": {
      "text/plain": [
       "PosixPath('/Users/whlin/Library/CloudStorage/OneDrive-HKUSTConnect/Documents/python/my_modules/file_management')"
      ]
     },
     "execution_count": 83,
     "metadata": {},
     "output_type": "execute_result"
    },
    {
     "data": {
      "text/plain": [
       "PosixPath('/Users/whlin/Library/CloudStorage/OneDrive-HKUSTConnect/Documents/python/my_modules/file_management/textfiles')"
      ]
     },
     "execution_count": 83,
     "metadata": {},
     "output_type": "execute_result"
    },
    {
     "data": {
      "text/plain": [
       "PosixPath('/Users/whlin')"
      ]
     },
     "execution_count": 83,
     "metadata": {},
     "output_type": "execute_result"
    },
    {
     "data": {
      "text/plain": [
       "True"
      ]
     },
     "execution_count": 83,
     "metadata": {},
     "output_type": "execute_result"
    },
    {
     "data": {
      "text/plain": [
       "True"
      ]
     },
     "execution_count": 83,
     "metadata": {},
     "output_type": "execute_result"
    },
    {
     "data": {
      "text/plain": [
       "True"
      ]
     },
     "execution_count": 83,
     "metadata": {},
     "output_type": "execute_result"
    },
    {
     "data": {
      "text/plain": [
       "False"
      ]
     },
     "execution_count": 83,
     "metadata": {},
     "output_type": "execute_result"
    },
    {
     "data": {
      "text/plain": [
       "True"
      ]
     },
     "execution_count": 83,
     "metadata": {},
     "output_type": "execute_result"
    },
    {
     "name": "stdout",
     "output_type": "stream",
     "text": [
      "===========\n"
     ]
    }
   ],
   "source": [
    "# methods of Path object \n",
    "path = Path('~/Library/CloudStorage/OneDrive-HKUSTConnect/Documents/python/my_modules/file_management')\n",
    "path\n",
    "path.expanduser()\n",
    "path.cwd()\n",
    "for path in [path, path.cwd()]:\n",
    "    print('methods.....')\n",
    "    path\n",
    "    path.cwd() / 'textfiles' # '/' has been overloaded\n",
    "    path.home()\n",
    "    path.cwd().exists()\n",
    "    path.exists()\n",
    "    path.is_dir()\n",
    "    path.is_file()\n",
    "    path.is_absolute()\n",
    "    # path.chmod()\n",
    "    print(\"===========\")"
   ]
  },
  {
   "cell_type": "code",
   "execution_count": 94,
   "metadata": {},
   "outputs": [
    {
     "data": {
      "text/plain": [
       "'change_name_to_ID_only.py'"
      ]
     },
     "execution_count": 94,
     "metadata": {},
     "output_type": "execute_result"
    },
    {
     "data": {
      "text/plain": [
       "'changeName.py'"
      ]
     },
     "execution_count": 94,
     "metadata": {},
     "output_type": "execute_result"
    },
    {
     "data": {
      "text/plain": [
       "'change_file_names.py'"
      ]
     },
     "execution_count": 94,
     "metadata": {},
     "output_type": "execute_result"
    },
    {
     "data": {
      "text/plain": [
       "'reverse_line.py'"
      ]
     },
     "execution_count": 94,
     "metadata": {},
     "output_type": "execute_result"
    },
    {
     "data": {
      "text/plain": [
       "'SEHH2042_AS_cleaning.py'"
      ]
     },
     "execution_count": 94,
     "metadata": {},
     "output_type": "execute_result"
    },
    {
     "data": {
      "text/plain": [
       "'SEHH2042_GP_add group id to cpp.py'"
      ]
     },
     "execution_count": 94,
     "metadata": {},
     "output_type": "execute_result"
    },
    {
     "data": {
      "text/plain": [
       "'open_doc.py'"
      ]
     },
     "execution_count": 94,
     "metadata": {},
     "output_type": "execute_result"
    },
    {
     "data": {
      "text/plain": [
       "'SEHH2042_addGPID.py'"
      ]
     },
     "execution_count": 94,
     "metadata": {},
     "output_type": "execute_result"
    },
    {
     "data": {
      "text/plain": [
       "'rename.py'"
      ]
     },
     "execution_count": 94,
     "metadata": {},
     "output_type": "execute_result"
    },
    {
     "data": {
      "text/plain": [
       "'SEHH2042_GP_addInfo.py'"
      ]
     },
     "execution_count": 94,
     "metadata": {},
     "output_type": "execute_result"
    }
   ],
   "source": [
    "for x in path.cwd().rglob('*.py'):\n",
    "    x.name\n",
    "# list(path.cwd().rglob('*.py'))\n",
    "# list(path.cwd().glob('*.py'))"
   ]
  },
  {
   "cell_type": "code",
   "execution_count": 74,
   "metadata": {},
   "outputs": [
    {
     "name": "stdout",
     "output_type": "stream",
     "text": [
      "attributes.....\n"
     ]
    },
    {
     "data": {
      "text/plain": [
       "PosixPath('~/Desktop/mytext.txt')"
      ]
     },
     "execution_count": 74,
     "metadata": {},
     "output_type": "execute_result"
    },
    {
     "data": {
      "text/plain": [
       "'mytext'"
      ]
     },
     "execution_count": 74,
     "metadata": {},
     "output_type": "execute_result"
    },
    {
     "data": {
      "text/plain": [
       "'.txt'"
      ]
     },
     "execution_count": 74,
     "metadata": {},
     "output_type": "execute_result"
    },
    {
     "data": {
      "text/plain": [
       "PosixPath('~/Desktop')"
      ]
     },
     "execution_count": 74,
     "metadata": {},
     "output_type": "execute_result"
    },
    {
     "data": {
      "text/plain": [
       "'mytext.txt'"
      ]
     },
     "execution_count": 74,
     "metadata": {},
     "output_type": "execute_result"
    },
    {
     "data": {
      "text/plain": [
       "''"
      ]
     },
     "execution_count": 74,
     "metadata": {},
     "output_type": "execute_result"
    },
    {
     "name": "stdout",
     "output_type": "stream",
     "text": [
      "===========\n"
     ]
    },
    {
     "data": {
      "text/plain": [
       "[PosixPath('/Users/whlin/Library/CloudStorage/OneDrive-HKUSTConnect/Documents/python/my_modules/file_management/change_name_to_ID_only.py'),\n",
       " PosixPath('/Users/whlin/Library/CloudStorage/OneDrive-HKUSTConnect/Documents/python/my_modules/file_management/changeName.py'),\n",
       " PosixPath('/Users/whlin/Library/CloudStorage/OneDrive-HKUSTConnect/Documents/python/my_modules/file_management/change_file_names.py'),\n",
       " PosixPath('/Users/whlin/Library/CloudStorage/OneDrive-HKUSTConnect/Documents/python/my_modules/file_management/reverse_lines/reverse_line.py'),\n",
       " PosixPath('/Users/whlin/Library/CloudStorage/OneDrive-HKUSTConnect/Documents/python/my_modules/file_management/SEHH2042_AS_Cleaning/SEHH2042_AS_cleaning.py'),\n",
       " PosixPath('/Users/whlin/Library/CloudStorage/OneDrive-HKUSTConnect/Documents/python/my_modules/file_management/SEHH2042_GP_add group id to cpp/SEHH2042_GP_add group id to cpp.py'),\n",
       " PosixPath('/Users/whlin/Library/CloudStorage/OneDrive-HKUSTConnect/Documents/python/my_modules/file_management/open a doc/open_doc.py'),\n",
       " PosixPath('/Users/whlin/Library/CloudStorage/OneDrive-HKUSTConnect/Documents/python/my_modules/file_management/SEHH2042_addGPID/SEHH2042_addGPID.py'),\n",
       " PosixPath('/Users/whlin/Library/CloudStorage/OneDrive-HKUSTConnect/Documents/python/my_modules/file_management/Corey_rename_song_list/rename.py'),\n",
       " PosixPath('/Users/whlin/Library/CloudStorage/OneDrive-HKUSTConnect/Documents/python/my_modules/file_management/SEHH2042_GP_insert students info to worksheet/SEHH2042_GP_addInfo.py')]"
      ]
     },
     "execution_count": 74,
     "metadata": {},
     "output_type": "execute_result"
    }
   ],
   "source": [
    "path = Path('~/Library/CloudStorage/OneDrive-HKUSTConnect/Documents/python/my_modules/file_management')\n",
    "path_file = Path('~/Desktop/mytext.txt')\n",
    "# for path in [path, path_file, path.cwd()]:\n",
    "for path in [path_file]:\n",
    "    print('attributes.....')\n",
    "    path\n",
    "    path.stem\n",
    "    path.suffix\n",
    "    path.parent\n",
    "    path.name\n",
    "    path.root\n",
    "    # path.parent.parent\n",
    "    # list(path.parents)\n",
    "    print(\"===========\")"
   ]
  },
  {
   "cell_type": "code",
   "execution_count": 80,
   "metadata": {},
   "outputs": [
    {
     "data": {
      "text/plain": [
       "PosixPath('~/Desktop/mytext.txt')"
      ]
     },
     "execution_count": 80,
     "metadata": {},
     "output_type": "execute_result"
    },
    {
     "data": {
      "text/plain": [
       "PosixPath('~/Desktop/abc.png')"
      ]
     },
     "execution_count": 80,
     "metadata": {},
     "output_type": "execute_result"
    },
    {
     "data": {
      "text/plain": [
       "PosixPath('~/Desktop/abc.txt')"
      ]
     },
     "execution_count": 80,
     "metadata": {},
     "output_type": "execute_result"
    },
    {
     "data": {
      "text/plain": [
       "PosixPath('~/Desktop/mytext.png')"
      ]
     },
     "execution_count": 80,
     "metadata": {},
     "output_type": "execute_result"
    }
   ],
   "source": [
    "path\n",
    "path.with_name('abc.png') # change file name \n",
    "path.with_stem('abc')\n",
    "path.with_suffix('.png')\n"
   ]
  },
  {
   "cell_type": "code",
   "execution_count": 63,
   "metadata": {},
   "outputs": [
    {
     "data": {
      "text/plain": [
       "PosixPath('/Users/whlin/Library/CloudStorage/OneDrive-HKUSTConnect/Documents/python/my_modules')"
      ]
     },
     "execution_count": 63,
     "metadata": {},
     "output_type": "execute_result"
    },
    {
     "data": {
      "text/plain": [
       "PosixPath('/Users/whlin/Library/CloudStorage/OneDrive-HKUSTConnect/Documents/python')"
      ]
     },
     "execution_count": 63,
     "metadata": {},
     "output_type": "execute_result"
    },
    {
     "data": {
      "text/plain": [
       "[PosixPath('/Users/whlin/Library/CloudStorage/OneDrive-HKUSTConnect/Documents/python/my_modules'),\n",
       " PosixPath('/Users/whlin/Library/CloudStorage/OneDrive-HKUSTConnect/Documents/python'),\n",
       " PosixPath('/Users/whlin/Library/CloudStorage/OneDrive-HKUSTConnect/Documents'),\n",
       " PosixPath('/Users/whlin/Library/CloudStorage/OneDrive-HKUSTConnect'),\n",
       " PosixPath('/Users/whlin/Library/CloudStorage'),\n",
       " PosixPath('/Users/whlin/Library'),\n",
       " PosixPath('/Users/whlin'),\n",
       " PosixPath('/Users'),\n",
       " PosixPath('/')]"
      ]
     },
     "execution_count": 63,
     "metadata": {},
     "output_type": "execute_result"
    },
    {
     "data": {
      "text/plain": [
       "PosixPath('/Users/whlin/Library/CloudStorage/OneDrive-HKUSTConnect/Documents/python/my_modules/file_management')"
      ]
     },
     "execution_count": 63,
     "metadata": {},
     "output_type": "execute_result"
    },
    {
     "data": {
      "text/plain": [
       "[PosixPath('/Users/whlin/Library/CloudStorage/OneDrive-HKUSTConnect/Documents/python/my_modules/file_management/change_name_to_ID_only.py'),\n",
       " PosixPath('/Users/whlin/Library/CloudStorage/OneDrive-HKUSTConnect/Documents/python/my_modules/file_management/changeName.py'),\n",
       " PosixPath('/Users/whlin/Library/CloudStorage/OneDrive-HKUSTConnect/Documents/python/my_modules/file_management/change_file_names.py'),\n",
       " PosixPath('/Users/whlin/Library/CloudStorage/OneDrive-HKUSTConnect/Documents/python/my_modules/file_management/reverse_lines/reverse_line.py'),\n",
       " PosixPath('/Users/whlin/Library/CloudStorage/OneDrive-HKUSTConnect/Documents/python/my_modules/file_management/SEHH2042_AS_Cleaning/SEHH2042_AS_cleaning.py'),\n",
       " PosixPath('/Users/whlin/Library/CloudStorage/OneDrive-HKUSTConnect/Documents/python/my_modules/file_management/SEHH2042_GP_add group id to cpp/SEHH2042_GP_add group id to cpp.py'),\n",
       " PosixPath('/Users/whlin/Library/CloudStorage/OneDrive-HKUSTConnect/Documents/python/my_modules/file_management/open a doc/open_doc.py'),\n",
       " PosixPath('/Users/whlin/Library/CloudStorage/OneDrive-HKUSTConnect/Documents/python/my_modules/file_management/SEHH2042_addGPID/SEHH2042_addGPID.py'),\n",
       " PosixPath('/Users/whlin/Library/CloudStorage/OneDrive-HKUSTConnect/Documents/python/my_modules/file_management/Corey_rename_song_list/rename.py'),\n",
       " PosixPath('/Users/whlin/Library/CloudStorage/OneDrive-HKUSTConnect/Documents/python/my_modules/file_management/SEHH2042_GP_insert students info to worksheet/SEHH2042_GP_addInfo.py')]"
      ]
     },
     "execution_count": 63,
     "metadata": {},
     "output_type": "execute_result"
    }
   ],
   "source": [
    "\n",
    "path.parent\n",
    "path.parent.parent\n",
    "list(path.parents)\n",
    "\n",
    "path\n",
    "list(path.cwd().rglob('*.py'))"
   ]
  }
 ],
 "metadata": {
  "interpreter": {
   "hash": "ae74f9feb07f97b665e59d852dca9947bf3c6be9bdf551f43d711a8fd00af3ab"
  },
  "kernelspec": {
   "display_name": "Python 3.9.7 ('data_science')",
   "language": "python",
   "name": "python3"
  },
  "language_info": {
   "codemirror_mode": {
    "name": "ipython",
    "version": 3
   },
   "file_extension": ".py",
   "mimetype": "text/x-python",
   "name": "python",
   "nbconvert_exporter": "python",
   "pygments_lexer": "ipython3",
   "version": "3.9.7"
  },
  "orig_nbformat": 4
 },
 "nbformat": 4,
 "nbformat_minor": 2
}
