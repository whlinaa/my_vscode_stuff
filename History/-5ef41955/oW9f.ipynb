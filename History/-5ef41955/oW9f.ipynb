{
 "cells": [
  {
   "cell_type": "code",
   "execution_count": 5,
   "metadata": {},
   "outputs": [],
   "source": [
    "from ds_utils.ds_preamble import *\n",
    "from ds_utils.ds_plotting import *\n",
    "from ds_utils.ds_helper import *\n",
    "import datetime\n",
    "pd.options.display.max_rows = 30\n",
    "from datetime import datetime "
   ]
  },
  {
   "attachments": {},
   "cell_type": "markdown",
   "metadata": {},
   "source": [
    "# notes on time series\n",
    "- fixed frequency: recording occurs at regular intervals\n",
    "- timedelta + datetime = datetime\n",
    "- For longer time series, a year or only a year and month can be passed to easily select slices of data"
   ]
  },
  {
   "cell_type": "code",
   "execution_count": 6,
   "metadata": {},
   "outputs": [
    {
     "data": {
      "text/plain": [
       "'2011-01-03 00:00:00'"
      ]
     },
     "execution_count": 6,
     "metadata": {},
     "output_type": "execute_result"
    },
    {
     "data": {
      "text/plain": [
       "'2011-01-03'"
      ]
     },
     "execution_count": 6,
     "metadata": {},
     "output_type": "execute_result"
    }
   ],
   "source": [
    "stamp = datetime(2011, 1, 3)\n",
    "str(stamp)\n",
    "stamp.strftime(\"%Y-%m-%d\")"
   ]
  },
  {
   "attachments": {},
   "cell_type": "markdown",
   "metadata": {},
   "source": [
    "# analyze crypto data"
   ]
  },
  {
   "attachments": {},
   "cell_type": "markdown",
   "metadata": {},
   "source": [
    "# why change to datetime64 format in pandas, instead of using the string representation of datetime?\n",
    "- exposes many useful attributes (e.g., `dt.weekday_name`, `dayofyear`, `dt.hour`)\n",
    "- allows comparison with timestamp from `pd.datetime('2021-01-11)`, for example\n",
    "- can do comparison with string: `df.date > '2012'`\n",
    "- aggregation on datetime (e.g., `mean`, `max`)\n",
    "\n",
    "\n",
    "# why set datetime as index?\n",
    "- slicing\n",
    "- can use datetime functions directly, without `dt` accessor\n",
    "- allows `resample`. To use this, index must have a datetime-like index"
   ]
  }
 ],
 "metadata": {
  "interpreter": {
   "hash": "ae74f9feb07f97b665e59d852dca9947bf3c6be9bdf551f43d711a8fd00af3ab"
  },
  "kernelspec": {
   "display_name": "Python 3.9.7 ('data_science')",
   "language": "python",
   "name": "python3"
  },
  "language_info": {
   "codemirror_mode": {
    "name": "ipython",
    "version": 3
   },
   "file_extension": ".py",
   "mimetype": "text/x-python",
   "name": "python",
   "nbconvert_exporter": "python",
   "pygments_lexer": "ipython3",
   "version": "3.10.4"
  },
  "orig_nbformat": 4
 },
 "nbformat": 4,
 "nbformat_minor": 2
}
