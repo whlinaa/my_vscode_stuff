{
 "cells": [
  {
   "cell_type": "code",
   "execution_count": 1,
   "metadata": {},
   "outputs": [
    {
     "name": "stdout",
     "output_type": "stream",
     "text": [
      "calling self ds_preamble..\n",
      "calling ds_helper...\n"
     ]
    }
   ],
   "source": [
    "from ds_utils.ds_preamble import *\n",
    "from ds_utils.ds_plotting import *\n",
    "from ds_utils.ds_helper import *\n",
    "import datetime\n",
    "pd.options.display.max_rows = 4"
   ]
  },
  {
   "cell_type": "markdown",
   "metadata": {},
   "source": [
    "# analyze crypto data"
   ]
  },
  {
   "cell_type": "markdown",
   "metadata": {},
   "source": [
    "# why change to datetime64 format in pandas, instead of using the string representation of datetime?\n",
    "- exposes many useful attributes (e.g., `dt.weekday_name`, `dayofyear`, `dt.hour`)\n",
    "- allows comparison with timestamp from `pd.datetime('2021-01-11)`, for example\n",
    "- can do comparison with string: `df.date > '2012'`\n",
    "- aggregation on datetime (e.g., `mean`, `max`)\n",
    "\n",
    "# why set datetime as index?\n",
    "- slicing\n",
    "- can use datetime functions directly, without `dt` accessor\n",
    "- allows `resample`. To use this, index must have a datetime-like index"
   ]
  },
  {
   "cell_type": "code",
   "execution_count": 4,
   "metadata": {},
   "outputs": [
    {
     "data": {
      "text/plain": [
       "Timestamp('2017-07-01 11:00:00')"
      ]
     },
     "execution_count": 4,
     "metadata": {},
     "output_type": "execute_result"
    },
    {
     "data": {
      "text/plain": [
       "Timestamp('2020-03-13 20:00:00')"
      ]
     },
     "execution_count": 4,
     "metadata": {},
     "output_type": "execute_result"
    }
   ],
   "source": [
    "path = '/Users/whlin/Library/CloudStorage/OneDrive-HKUSTConnect/Documents/python/code_from_others/Corey_code/Python/Pandas/10-Datetime-Timeseries/ETH_1h.csv'\n",
    "df = pd.read_csv(path)\n",
    "# df\n",
    "df.Date = pd.to_datetime(df.Date, format='%Y-%m-%d %I-%p')\n",
    "df.Date.min()\n",
    "df.Date.max()"
   ]
  },
  {
   "cell_type": "code",
   "execution_count": 18,
   "metadata": {},
   "outputs": [
    {
     "data": {
      "text/html": [
       "<div>\n",
       "<style scoped>\n",
       "    .dataframe tbody tr th:only-of-type {\n",
       "        vertical-align: middle;\n",
       "    }\n",
       "\n",
       "    .dataframe tbody tr th {\n",
       "        vertical-align: top;\n",
       "    }\n",
       "\n",
       "    .dataframe thead th {\n",
       "        text-align: right;\n",
       "    }\n",
       "</style>\n",
       "<table border=\"1\" class=\"dataframe\">\n",
       "  <thead>\n",
       "    <tr style=\"text-align: right;\">\n",
       "      <th></th>\n",
       "      <th>Date</th>\n",
       "      <th>Symbol</th>\n",
       "      <th>Open</th>\n",
       "      <th>High</th>\n",
       "      <th>Low</th>\n",
       "      <th>Close</th>\n",
       "      <th>Volume</th>\n",
       "    </tr>\n",
       "  </thead>\n",
       "  <tbody>\n",
       "    <tr>\n",
       "      <th>0</th>\n",
       "      <td>2020-03-13 20:00:00</td>\n",
       "      <td>ETHUSD</td>\n",
       "      <td>129.94</td>\n",
       "      <td>131.82</td>\n",
       "      <td>126.87</td>\n",
       "      <td>128.71</td>\n",
       "      <td>1940673.93</td>\n",
       "    </tr>\n",
       "    <tr>\n",
       "      <th>1</th>\n",
       "      <td>2020-03-13 19:00:00</td>\n",
       "      <td>ETHUSD</td>\n",
       "      <td>119.51</td>\n",
       "      <td>132.02</td>\n",
       "      <td>117.10</td>\n",
       "      <td>129.94</td>\n",
       "      <td>7579741.09</td>\n",
       "    </tr>\n",
       "    <tr>\n",
       "      <th>...</th>\n",
       "      <td>...</td>\n",
       "      <td>...</td>\n",
       "      <td>...</td>\n",
       "      <td>...</td>\n",
       "      <td>...</td>\n",
       "      <td>...</td>\n",
       "      <td>...</td>\n",
       "    </tr>\n",
       "    <tr>\n",
       "      <th>23672</th>\n",
       "      <td>2017-07-01 12:00:00</td>\n",
       "      <td>ETHUSD</td>\n",
       "      <td>275.01</td>\n",
       "      <td>275.01</td>\n",
       "      <td>271.00</td>\n",
       "      <td>274.83</td>\n",
       "      <td>824362.87</td>\n",
       "    </tr>\n",
       "    <tr>\n",
       "      <th>23673</th>\n",
       "      <td>2017-07-01 11:00:00</td>\n",
       "      <td>ETHUSD</td>\n",
       "      <td>279.98</td>\n",
       "      <td>279.99</td>\n",
       "      <td>272.10</td>\n",
       "      <td>275.01</td>\n",
       "      <td>679358.87</td>\n",
       "    </tr>\n",
       "  </tbody>\n",
       "</table>\n",
       "<p>23674 rows × 7 columns</p>\n",
       "</div>"
      ],
      "text/plain": [
       "                     Date  Symbol    Open    High     Low   Close      Volume\n",
       "0     2020-03-13 20:00:00  ETHUSD  129.94  131.82  126.87  128.71  1940673.93\n",
       "1     2020-03-13 19:00:00  ETHUSD  119.51  132.02  117.10  129.94  7579741.09\n",
       "...                   ...     ...     ...     ...     ...     ...         ...\n",
       "23672 2017-07-01 12:00:00  ETHUSD  275.01  275.01  271.00  274.83   824362.87\n",
       "23673 2017-07-01 11:00:00  ETHUSD  279.98  279.99  272.10  275.01   679358.87\n",
       "\n",
       "[23674 rows x 7 columns]"
      ]
     },
     "execution_count": 18,
     "metadata": {},
     "output_type": "execute_result"
    }
   ],
   "source": [
    "df.assign(Date=pd.to_datetime(df.Date, format='%Y-%m-%d %I'))\n"
   ]
  },
  {
   "cell_type": "code",
   "execution_count": 3,
   "metadata": {},
   "outputs": [
    {
     "data": {
      "text/html": [
       "<div>\n",
       "<style scoped>\n",
       "    .dataframe tbody tr th:only-of-type {\n",
       "        vertical-align: middle;\n",
       "    }\n",
       "\n",
       "    .dataframe tbody tr th {\n",
       "        vertical-align: top;\n",
       "    }\n",
       "\n",
       "    .dataframe thead th {\n",
       "        text-align: right;\n",
       "    }\n",
       "</style>\n",
       "<table border=\"1\" class=\"dataframe\">\n",
       "  <thead>\n",
       "    <tr style=\"text-align: right;\">\n",
       "      <th></th>\n",
       "      <th>Date</th>\n",
       "      <th>Symbol</th>\n",
       "      <th>Open</th>\n",
       "      <th>High</th>\n",
       "      <th>Low</th>\n",
       "      <th>Close</th>\n",
       "      <th>Volume</th>\n",
       "    </tr>\n",
       "  </thead>\n",
       "  <tbody>\n",
       "    <tr>\n",
       "      <th>0</th>\n",
       "      <td>2020-03-13 08-PM</td>\n",
       "      <td>ETHUSD</td>\n",
       "      <td>129.94</td>\n",
       "      <td>131.82</td>\n",
       "      <td>126.87</td>\n",
       "      <td>128.71</td>\n",
       "      <td>1940673.93</td>\n",
       "    </tr>\n",
       "    <tr>\n",
       "      <th>1</th>\n",
       "      <td>2020-03-13 07-PM</td>\n",
       "      <td>ETHUSD</td>\n",
       "      <td>119.51</td>\n",
       "      <td>132.02</td>\n",
       "      <td>117.10</td>\n",
       "      <td>129.94</td>\n",
       "      <td>7579741.09</td>\n",
       "    </tr>\n",
       "    <tr>\n",
       "      <th>...</th>\n",
       "      <td>...</td>\n",
       "      <td>...</td>\n",
       "      <td>...</td>\n",
       "      <td>...</td>\n",
       "      <td>...</td>\n",
       "      <td>...</td>\n",
       "      <td>...</td>\n",
       "    </tr>\n",
       "    <tr>\n",
       "      <th>23672</th>\n",
       "      <td>2017-07-01 12-PM</td>\n",
       "      <td>ETHUSD</td>\n",
       "      <td>275.01</td>\n",
       "      <td>275.01</td>\n",
       "      <td>271.00</td>\n",
       "      <td>274.83</td>\n",
       "      <td>824362.87</td>\n",
       "    </tr>\n",
       "    <tr>\n",
       "      <th>23673</th>\n",
       "      <td>2017-07-01 11-AM</td>\n",
       "      <td>ETHUSD</td>\n",
       "      <td>279.98</td>\n",
       "      <td>279.99</td>\n",
       "      <td>272.10</td>\n",
       "      <td>275.01</td>\n",
       "      <td>679358.87</td>\n",
       "    </tr>\n",
       "  </tbody>\n",
       "</table>\n",
       "<p>23674 rows × 7 columns</p>\n",
       "</div>"
      ],
      "text/plain": [
       "                   Date  Symbol    Open    High     Low   Close      Volume\n",
       "0      2020-03-13 08-PM  ETHUSD  129.94  131.82  126.87  128.71  1940673.93\n",
       "1      2020-03-13 07-PM  ETHUSD  119.51  132.02  117.10  129.94  7579741.09\n",
       "...                 ...     ...     ...     ...     ...     ...         ...\n",
       "23672  2017-07-01 12-PM  ETHUSD  275.01  275.01  271.00  274.83   824362.87\n",
       "23673  2017-07-01 11-AM  ETHUSD  279.98  279.99  272.10  275.01   679358.87\n",
       "\n",
       "[23674 rows x 7 columns]"
      ]
     },
     "execution_count": 3,
     "metadata": {},
     "output_type": "execute_result"
    },
    {
     "name": "stdout",
     "output_type": "stream",
     "text": [
      "<class 'pandas.core.frame.DataFrame'>\n",
      "RangeIndex: 23674 entries, 0 to 23673\n",
      "Data columns (total 7 columns):\n",
      " #   Column  Non-Null Count  Dtype  \n",
      "---  ------  --------------  -----  \n",
      " 0   Date    23674 non-null  object \n",
      " 1   Symbol  23674 non-null  object \n",
      " 2   Open    23674 non-null  float64\n",
      " 3   High    23674 non-null  float64\n",
      " 4   Low     23674 non-null  float64\n",
      " 5   Close   23674 non-null  float64\n",
      " 6   Volume  23674 non-null  float64\n",
      "dtypes: float64(5), object(2)\n",
      "memory usage: 1.3+ MB\n"
     ]
    },
    {
     "data": {
      "text/plain": [
       "dtype('O')"
      ]
     },
     "execution_count": 3,
     "metadata": {},
     "output_type": "execute_result"
    },
    {
     "data": {
      "text/html": [
       "<div>\n",
       "<style scoped>\n",
       "    .dataframe tbody tr th:only-of-type {\n",
       "        vertical-align: middle;\n",
       "    }\n",
       "\n",
       "    .dataframe tbody tr th {\n",
       "        vertical-align: top;\n",
       "    }\n",
       "\n",
       "    .dataframe thead th {\n",
       "        text-align: right;\n",
       "    }\n",
       "</style>\n",
       "<table border=\"1\" class=\"dataframe\">\n",
       "  <thead>\n",
       "    <tr style=\"text-align: right;\">\n",
       "      <th></th>\n",
       "      <th>Date</th>\n",
       "      <th>Symbol</th>\n",
       "      <th>Open</th>\n",
       "      <th>High</th>\n",
       "      <th>Low</th>\n",
       "      <th>Close</th>\n",
       "      <th>Volume</th>\n",
       "      <th>DayOfWeek</th>\n",
       "      <th>Year</th>\n",
       "      <th>Month</th>\n",
       "    </tr>\n",
       "    <tr>\n",
       "      <th>Date</th>\n",
       "      <th></th>\n",
       "      <th></th>\n",
       "      <th></th>\n",
       "      <th></th>\n",
       "      <th></th>\n",
       "      <th></th>\n",
       "      <th></th>\n",
       "      <th></th>\n",
       "      <th></th>\n",
       "      <th></th>\n",
       "    </tr>\n",
       "  </thead>\n",
       "  <tbody>\n",
       "    <tr>\n",
       "      <th>2020-03-13 20:00:00</th>\n",
       "      <td>2020-03-13 20:00:00</td>\n",
       "      <td>ETHUSD</td>\n",
       "      <td>129.94</td>\n",
       "      <td>131.82</td>\n",
       "      <td>126.87</td>\n",
       "      <td>128.71</td>\n",
       "      <td>1940673.93</td>\n",
       "      <td>Friday</td>\n",
       "      <td>2020</td>\n",
       "      <td>3</td>\n",
       "    </tr>\n",
       "    <tr>\n",
       "      <th>2020-03-13 19:00:00</th>\n",
       "      <td>2020-03-13 19:00:00</td>\n",
       "      <td>ETHUSD</td>\n",
       "      <td>119.51</td>\n",
       "      <td>132.02</td>\n",
       "      <td>117.10</td>\n",
       "      <td>129.94</td>\n",
       "      <td>7579741.09</td>\n",
       "      <td>Friday</td>\n",
       "      <td>2020</td>\n",
       "      <td>3</td>\n",
       "    </tr>\n",
       "    <tr>\n",
       "      <th>...</th>\n",
       "      <td>...</td>\n",
       "      <td>...</td>\n",
       "      <td>...</td>\n",
       "      <td>...</td>\n",
       "      <td>...</td>\n",
       "      <td>...</td>\n",
       "      <td>...</td>\n",
       "      <td>...</td>\n",
       "      <td>...</td>\n",
       "      <td>...</td>\n",
       "    </tr>\n",
       "    <tr>\n",
       "      <th>2017-07-01 12:00:00</th>\n",
       "      <td>2017-07-01 12:00:00</td>\n",
       "      <td>ETHUSD</td>\n",
       "      <td>275.01</td>\n",
       "      <td>275.01</td>\n",
       "      <td>271.00</td>\n",
       "      <td>274.83</td>\n",
       "      <td>824362.87</td>\n",
       "      <td>Saturday</td>\n",
       "      <td>2017</td>\n",
       "      <td>7</td>\n",
       "    </tr>\n",
       "    <tr>\n",
       "      <th>2017-07-01 11:00:00</th>\n",
       "      <td>2017-07-01 11:00:00</td>\n",
       "      <td>ETHUSD</td>\n",
       "      <td>279.98</td>\n",
       "      <td>279.99</td>\n",
       "      <td>272.10</td>\n",
       "      <td>275.01</td>\n",
       "      <td>679358.87</td>\n",
       "      <td>Saturday</td>\n",
       "      <td>2017</td>\n",
       "      <td>7</td>\n",
       "    </tr>\n",
       "  </tbody>\n",
       "</table>\n",
       "<p>23674 rows × 10 columns</p>\n",
       "</div>"
      ],
      "text/plain": [
       "                                   Date  Symbol    Open    High     Low  \\\n",
       "Date                                                                      \n",
       "2020-03-13 20:00:00 2020-03-13 20:00:00  ETHUSD  129.94  131.82  126.87   \n",
       "2020-03-13 19:00:00 2020-03-13 19:00:00  ETHUSD  119.51  132.02  117.10   \n",
       "...                                 ...     ...     ...     ...     ...   \n",
       "2017-07-01 12:00:00 2017-07-01 12:00:00  ETHUSD  275.01  275.01  271.00   \n",
       "2017-07-01 11:00:00 2017-07-01 11:00:00  ETHUSD  279.98  279.99  272.10   \n",
       "\n",
       "                      Close      Volume DayOfWeek  Year  Month  \n",
       "Date                                                            \n",
       "2020-03-13 20:00:00  128.71  1940673.93    Friday  2020      3  \n",
       "2020-03-13 19:00:00  129.94  7579741.09    Friday  2020      3  \n",
       "...                     ...         ...       ...   ...    ...  \n",
       "2017-07-01 12:00:00  274.83   824362.87  Saturday  2017      7  \n",
       "2017-07-01 11:00:00  275.01   679358.87  Saturday  2017      7  \n",
       "\n",
       "[23674 rows x 10 columns]"
      ]
     },
     "execution_count": 3,
     "metadata": {},
     "output_type": "execute_result"
    }
   ],
   "source": [
    "def date_parse(d):\n",
    "    return datetime.datetime.strptime(d, '%Y-%m-%d %I-%p') \n",
    "\n",
    "path = '/Users/whlin/Library/CloudStorage/OneDrive-HKUSTConnect/Documents/python/code_from_others/Corey_code/Python/Pandas/10-Datetime-Timeseries/ETH_1h.csv'\n",
    "df = pd.read_csv(path)\n",
    "# df = pd.read_csv(path, parse_dates=['Date'], date_parser=date_parse)\n",
    "df\n",
    "df.info()\n",
    "df['Date'].dtype\n",
    "\n",
    "df = df.assign(\n",
    "    Date=pd.to_datetime(df.Date, format='%Y-%m-%d %I-%p'), # convert to timestamp type\n",
    "    DayOfWeek=lambda df: df.Date.dt.day_name(), # get the day name from the Date column\n",
    "    Year=lambda df: df.Date.dt.year, # get year name\n",
    "    Month=lambda df: df.Date.dt.month, # get month name\n",
    "    ).set_index('Date', drop=False)\n",
    "df"
   ]
  },
  {
   "cell_type": "code",
   "execution_count": 15,
   "metadata": {},
   "outputs": [
    {
     "data": {
      "text/plain": [
       "Timedelta('0 days 01:00:00')"
      ]
     },
     "execution_count": 15,
     "metadata": {},
     "output_type": "execute_result"
    },
    {
     "data": {
      "text/plain": [
       "Timedelta('1 days 00:00:00')"
      ]
     },
     "execution_count": 15,
     "metadata": {},
     "output_type": "execute_result"
    }
   ],
   "source": [
    "(df.Date[0] - df.Date[1])\n",
    "pd.Timedelta(\"1d\")"
   ]
  },
  {
   "cell_type": "code",
   "execution_count": 43,
   "metadata": {},
   "outputs": [
    {
     "data": {
      "text/plain": [
       "Timestamp('2017-07-01 11:00:00')"
      ]
     },
     "execution_count": 43,
     "metadata": {},
     "output_type": "execute_result"
    },
    {
     "data": {
      "text/plain": [
       "Timestamp('2020-03-13 20:00:00')"
      ]
     },
     "execution_count": 43,
     "metadata": {},
     "output_type": "execute_result"
    },
    {
     "data": {
      "text/plain": [
       "Timedelta('986 days 09:00:00')"
      ]
     },
     "execution_count": 43,
     "metadata": {},
     "output_type": "execute_result"
    },
    {
     "data": {
      "text/plain": [
       "Timedelta('-1 days +23:00:00')"
      ]
     },
     "execution_count": 43,
     "metadata": {},
     "output_type": "execute_result"
    },
    {
     "data": {
      "text/plain": [
       "Timedelta('-1 days +23:00:00')"
      ]
     },
     "execution_count": 43,
     "metadata": {},
     "output_type": "execute_result"
    },
    {
     "data": {
      "text/plain": [
       "count                  23674\n",
       "mean     2018-11-06 15:30:00\n",
       "min      2017-07-01 11:00:00\n",
       "25%      2018-03-05 01:15:00\n",
       "50%      2018-11-06 15:30:00\n",
       "75%      2019-07-11 05:45:00\n",
       "max      2020-03-13 20:00:00\n",
       "Name: Date, dtype: object"
      ]
     },
     "execution_count": 43,
     "metadata": {},
     "output_type": "execute_result"
    }
   ],
   "source": [
    "df.index.min()\n",
    "# df.Date.min() # same\n",
    "\n",
    "df.index.max()\n",
    "# df.Date.max()\n",
    "\n",
    "df.index.max() - df.index.min()\n",
    "\n",
    "df.index[1] - df.index[0]\n",
    "df.Date[1] - df.Date[0]\n",
    "\n",
    "# pd.Series(df.index).describe(datetime_is_numeric=False)\n",
    "pd.Series(df.index).describe(datetime_is_numeric=True)"
   ]
  },
  {
   "cell_type": "code",
   "execution_count": 81,
   "metadata": {},
   "outputs": [
    {
     "data": {
      "text/html": [
       "<div>\n",
       "<style scoped>\n",
       "    .dataframe tbody tr th:only-of-type {\n",
       "        vertical-align: middle;\n",
       "    }\n",
       "\n",
       "    .dataframe tbody tr th {\n",
       "        vertical-align: top;\n",
       "    }\n",
       "\n",
       "    .dataframe thead th {\n",
       "        text-align: right;\n",
       "    }\n",
       "</style>\n",
       "<table border=\"1\" class=\"dataframe\">\n",
       "  <thead>\n",
       "    <tr style=\"text-align: right;\">\n",
       "      <th></th>\n",
       "      <th>Date</th>\n",
       "      <th>Symbol</th>\n",
       "      <th>Open</th>\n",
       "      <th>High</th>\n",
       "      <th>Low</th>\n",
       "      <th>Close</th>\n",
       "      <th>Volume</th>\n",
       "      <th>DayOfWeek</th>\n",
       "      <th>Year</th>\n",
       "      <th>Month</th>\n",
       "    </tr>\n",
       "    <tr>\n",
       "      <th>Date</th>\n",
       "      <th></th>\n",
       "      <th></th>\n",
       "      <th></th>\n",
       "      <th></th>\n",
       "      <th></th>\n",
       "      <th></th>\n",
       "      <th></th>\n",
       "      <th></th>\n",
       "      <th></th>\n",
       "      <th></th>\n",
       "    </tr>\n",
       "  </thead>\n",
       "  <tbody>\n",
       "    <tr>\n",
       "      <th>2020-03-13 20:00:00</th>\n",
       "      <td>2020-03-13 20:00:00</td>\n",
       "      <td>ETHUSD</td>\n",
       "      <td>129.94</td>\n",
       "      <td>131.82</td>\n",
       "      <td>126.87</td>\n",
       "      <td>128.71</td>\n",
       "      <td>1940673.93</td>\n",
       "      <td>Friday</td>\n",
       "      <td>2020</td>\n",
       "      <td>3</td>\n",
       "    </tr>\n",
       "    <tr>\n",
       "      <th>2020-03-13 19:00:00</th>\n",
       "      <td>2020-03-13 19:00:00</td>\n",
       "      <td>ETHUSD</td>\n",
       "      <td>119.51</td>\n",
       "      <td>132.02</td>\n",
       "      <td>117.10</td>\n",
       "      <td>129.94</td>\n",
       "      <td>7579741.09</td>\n",
       "      <td>Friday</td>\n",
       "      <td>2020</td>\n",
       "      <td>3</td>\n",
       "    </tr>\n",
       "    <tr>\n",
       "      <th>...</th>\n",
       "      <td>...</td>\n",
       "      <td>...</td>\n",
       "      <td>...</td>\n",
       "      <td>...</td>\n",
       "      <td>...</td>\n",
       "      <td>...</td>\n",
       "      <td>...</td>\n",
       "      <td>...</td>\n",
       "      <td>...</td>\n",
       "      <td>...</td>\n",
       "    </tr>\n",
       "    <tr>\n",
       "      <th>2020-01-01 02:00:00</th>\n",
       "      <td>2020-01-01 02:00:00</td>\n",
       "      <td>ETHUSD</td>\n",
       "      <td>130.14</td>\n",
       "      <td>130.50</td>\n",
       "      <td>129.91</td>\n",
       "      <td>130.37</td>\n",
       "      <td>396315.72</td>\n",
       "      <td>Wednesday</td>\n",
       "      <td>2020</td>\n",
       "      <td>1</td>\n",
       "    </tr>\n",
       "    <tr>\n",
       "      <th>2020-01-01 01:00:00</th>\n",
       "      <td>2020-01-01 01:00:00</td>\n",
       "      <td>ETHUSD</td>\n",
       "      <td>128.34</td>\n",
       "      <td>130.14</td>\n",
       "      <td>128.32</td>\n",
       "      <td>130.14</td>\n",
       "      <td>635419.40</td>\n",
       "      <td>Wednesday</td>\n",
       "      <td>2020</td>\n",
       "      <td>1</td>\n",
       "    </tr>\n",
       "  </tbody>\n",
       "</table>\n",
       "<p>1748 rows × 10 columns</p>\n",
       "</div>"
      ],
      "text/plain": [
       "                                   Date  Symbol    Open    High     Low  \\\n",
       "Date                                                                      \n",
       "2020-03-13 20:00:00 2020-03-13 20:00:00  ETHUSD  129.94  131.82  126.87   \n",
       "2020-03-13 19:00:00 2020-03-13 19:00:00  ETHUSD  119.51  132.02  117.10   \n",
       "...                                 ...     ...     ...     ...     ...   \n",
       "2020-01-01 02:00:00 2020-01-01 02:00:00  ETHUSD  130.14  130.50  129.91   \n",
       "2020-01-01 01:00:00 2020-01-01 01:00:00  ETHUSD  128.34  130.14  128.32   \n",
       "\n",
       "                      Close      Volume  DayOfWeek  Year  Month  \n",
       "Date                                                             \n",
       "2020-03-13 20:00:00  128.71  1940673.93     Friday  2020      3  \n",
       "2020-03-13 19:00:00  129.94  7579741.09     Friday  2020      3  \n",
       "...                     ...         ...        ...   ...    ...  \n",
       "2020-01-01 02:00:00  130.37   396315.72  Wednesday  2020      1  \n",
       "2020-01-01 01:00:00  130.14   635419.40  Wednesday  2020      1  \n",
       "\n",
       "[1748 rows x 10 columns]"
      ]
     },
     "execution_count": 81,
     "metadata": {},
     "output_type": "execute_result"
    },
    {
     "data": {
      "text/html": [
       "<div>\n",
       "<style scoped>\n",
       "    .dataframe tbody tr th:only-of-type {\n",
       "        vertical-align: middle;\n",
       "    }\n",
       "\n",
       "    .dataframe tbody tr th {\n",
       "        vertical-align: top;\n",
       "    }\n",
       "\n",
       "    .dataframe thead th {\n",
       "        text-align: right;\n",
       "    }\n",
       "</style>\n",
       "<table border=\"1\" class=\"dataframe\">\n",
       "  <thead>\n",
       "    <tr style=\"text-align: right;\">\n",
       "      <th></th>\n",
       "      <th>Date</th>\n",
       "      <th>Symbol</th>\n",
       "      <th>Open</th>\n",
       "      <th>High</th>\n",
       "      <th>Low</th>\n",
       "      <th>Close</th>\n",
       "      <th>Volume</th>\n",
       "      <th>DayOfWeek</th>\n",
       "      <th>Year</th>\n",
       "      <th>Month</th>\n",
       "    </tr>\n",
       "    <tr>\n",
       "      <th>Date</th>\n",
       "      <th></th>\n",
       "      <th></th>\n",
       "      <th></th>\n",
       "      <th></th>\n",
       "      <th></th>\n",
       "      <th></th>\n",
       "      <th></th>\n",
       "      <th></th>\n",
       "      <th></th>\n",
       "      <th></th>\n",
       "    </tr>\n",
       "  </thead>\n",
       "  <tbody>\n",
       "    <tr>\n",
       "      <th>2020-03-13 20:00:00</th>\n",
       "      <td>2020-03-13 20:00:00</td>\n",
       "      <td>ETHUSD</td>\n",
       "      <td>129.94</td>\n",
       "      <td>131.82</td>\n",
       "      <td>126.87</td>\n",
       "      <td>128.71</td>\n",
       "      <td>1940673.93</td>\n",
       "      <td>Friday</td>\n",
       "      <td>2020</td>\n",
       "      <td>3</td>\n",
       "    </tr>\n",
       "    <tr>\n",
       "      <th>2020-03-13 19:00:00</th>\n",
       "      <td>2020-03-13 19:00:00</td>\n",
       "      <td>ETHUSD</td>\n",
       "      <td>119.51</td>\n",
       "      <td>132.02</td>\n",
       "      <td>117.10</td>\n",
       "      <td>129.94</td>\n",
       "      <td>7579741.09</td>\n",
       "      <td>Friday</td>\n",
       "      <td>2020</td>\n",
       "      <td>3</td>\n",
       "    </tr>\n",
       "    <tr>\n",
       "      <th>...</th>\n",
       "      <td>...</td>\n",
       "      <td>...</td>\n",
       "      <td>...</td>\n",
       "      <td>...</td>\n",
       "      <td>...</td>\n",
       "      <td>...</td>\n",
       "      <td>...</td>\n",
       "      <td>...</td>\n",
       "      <td>...</td>\n",
       "      <td>...</td>\n",
       "    </tr>\n",
       "    <tr>\n",
       "      <th>2020-01-01 02:00:00</th>\n",
       "      <td>2020-01-01 02:00:00</td>\n",
       "      <td>ETHUSD</td>\n",
       "      <td>130.14</td>\n",
       "      <td>130.50</td>\n",
       "      <td>129.91</td>\n",
       "      <td>130.37</td>\n",
       "      <td>396315.72</td>\n",
       "      <td>Wednesday</td>\n",
       "      <td>2020</td>\n",
       "      <td>1</td>\n",
       "    </tr>\n",
       "    <tr>\n",
       "      <th>2020-01-01 01:00:00</th>\n",
       "      <td>2020-01-01 01:00:00</td>\n",
       "      <td>ETHUSD</td>\n",
       "      <td>128.34</td>\n",
       "      <td>130.14</td>\n",
       "      <td>128.32</td>\n",
       "      <td>130.14</td>\n",
       "      <td>635419.40</td>\n",
       "      <td>Wednesday</td>\n",
       "      <td>2020</td>\n",
       "      <td>1</td>\n",
       "    </tr>\n",
       "  </tbody>\n",
       "</table>\n",
       "<p>1748 rows × 10 columns</p>\n",
       "</div>"
      ],
      "text/plain": [
       "                                   Date  Symbol    Open    High     Low  \\\n",
       "Date                                                                      \n",
       "2020-03-13 20:00:00 2020-03-13 20:00:00  ETHUSD  129.94  131.82  126.87   \n",
       "2020-03-13 19:00:00 2020-03-13 19:00:00  ETHUSD  119.51  132.02  117.10   \n",
       "...                                 ...     ...     ...     ...     ...   \n",
       "2020-01-01 02:00:00 2020-01-01 02:00:00  ETHUSD  130.14  130.50  129.91   \n",
       "2020-01-01 01:00:00 2020-01-01 01:00:00  ETHUSD  128.34  130.14  128.32   \n",
       "\n",
       "                      Close      Volume  DayOfWeek  Year  Month  \n",
       "Date                                                             \n",
       "2020-03-13 20:00:00  128.71  1940673.93     Friday  2020      3  \n",
       "2020-03-13 19:00:00  129.94  7579741.09     Friday  2020      3  \n",
       "...                     ...         ...        ...   ...    ...  \n",
       "2020-01-01 02:00:00  130.37   396315.72  Wednesday  2020      1  \n",
       "2020-01-01 01:00:00  130.14   635419.40  Wednesday  2020      1  \n",
       "\n",
       "[1748 rows x 10 columns]"
      ]
     },
     "execution_count": 81,
     "metadata": {},
     "output_type": "execute_result"
    },
    {
     "data": {
      "text/html": [
       "<div>\n",
       "<style scoped>\n",
       "    .dataframe tbody tr th:only-of-type {\n",
       "        vertical-align: middle;\n",
       "    }\n",
       "\n",
       "    .dataframe tbody tr th {\n",
       "        vertical-align: top;\n",
       "    }\n",
       "\n",
       "    .dataframe thead th {\n",
       "        text-align: right;\n",
       "    }\n",
       "</style>\n",
       "<table border=\"1\" class=\"dataframe\">\n",
       "  <thead>\n",
       "    <tr style=\"text-align: right;\">\n",
       "      <th></th>\n",
       "      <th>Date</th>\n",
       "      <th>Symbol</th>\n",
       "      <th>Open</th>\n",
       "      <th>High</th>\n",
       "      <th>Low</th>\n",
       "      <th>Close</th>\n",
       "      <th>Volume</th>\n",
       "      <th>DayOfWeek</th>\n",
       "      <th>Year</th>\n",
       "      <th>Month</th>\n",
       "    </tr>\n",
       "    <tr>\n",
       "      <th>Date</th>\n",
       "      <th></th>\n",
       "      <th></th>\n",
       "      <th></th>\n",
       "      <th></th>\n",
       "      <th></th>\n",
       "      <th></th>\n",
       "      <th></th>\n",
       "      <th></th>\n",
       "      <th></th>\n",
       "      <th></th>\n",
       "    </tr>\n",
       "  </thead>\n",
       "  <tbody>\n",
       "    <tr>\n",
       "      <th>2019-12-31 23:00:00</th>\n",
       "      <td>2019-12-31 23:00:00</td>\n",
       "      <td>ETHUSD</td>\n",
       "      <td>128.33</td>\n",
       "      <td>128.69</td>\n",
       "      <td>128.14</td>\n",
       "      <td>128.54</td>\n",
       "      <td>440678.91</td>\n",
       "      <td>Tuesday</td>\n",
       "      <td>2019</td>\n",
       "      <td>12</td>\n",
       "    </tr>\n",
       "    <tr>\n",
       "      <th>2019-12-31 22:00:00</th>\n",
       "      <td>2019-12-31 22:00:00</td>\n",
       "      <td>ETHUSD</td>\n",
       "      <td>128.38</td>\n",
       "      <td>128.69</td>\n",
       "      <td>127.95</td>\n",
       "      <td>128.33</td>\n",
       "      <td>554646.02</td>\n",
       "      <td>Tuesday</td>\n",
       "      <td>2019</td>\n",
       "      <td>12</td>\n",
       "    </tr>\n",
       "    <tr>\n",
       "      <th>...</th>\n",
       "      <td>...</td>\n",
       "      <td>...</td>\n",
       "      <td>...</td>\n",
       "      <td>...</td>\n",
       "      <td>...</td>\n",
       "      <td>...</td>\n",
       "      <td>...</td>\n",
       "      <td>...</td>\n",
       "      <td>...</td>\n",
       "      <td>...</td>\n",
       "    </tr>\n",
       "    <tr>\n",
       "      <th>2019-01-01 01:00:00</th>\n",
       "      <td>2019-01-01 01:00:00</td>\n",
       "      <td>ETHUSD</td>\n",
       "      <td>131.62</td>\n",
       "      <td>131.62</td>\n",
       "      <td>130.77</td>\n",
       "      <td>130.79</td>\n",
       "      <td>434917.99</td>\n",
       "      <td>Tuesday</td>\n",
       "      <td>2019</td>\n",
       "      <td>1</td>\n",
       "    </tr>\n",
       "    <tr>\n",
       "      <th>2019-01-01 00:00:00</th>\n",
       "      <td>2019-01-01 00:00:00</td>\n",
       "      <td>ETHUSD</td>\n",
       "      <td>130.53</td>\n",
       "      <td>131.91</td>\n",
       "      <td>130.48</td>\n",
       "      <td>131.62</td>\n",
       "      <td>1067136.21</td>\n",
       "      <td>Tuesday</td>\n",
       "      <td>2019</td>\n",
       "      <td>1</td>\n",
       "    </tr>\n",
       "  </tbody>\n",
       "</table>\n",
       "<p>8760 rows × 10 columns</p>\n",
       "</div>"
      ],
      "text/plain": [
       "                                   Date  Symbol    Open    High     Low  \\\n",
       "Date                                                                      \n",
       "2019-12-31 23:00:00 2019-12-31 23:00:00  ETHUSD  128.33  128.69  128.14   \n",
       "2019-12-31 22:00:00 2019-12-31 22:00:00  ETHUSD  128.38  128.69  127.95   \n",
       "...                                 ...     ...     ...     ...     ...   \n",
       "2019-01-01 01:00:00 2019-01-01 01:00:00  ETHUSD  131.62  131.62  130.77   \n",
       "2019-01-01 00:00:00 2019-01-01 00:00:00  ETHUSD  130.53  131.91  130.48   \n",
       "\n",
       "                      Close      Volume DayOfWeek  Year  Month  \n",
       "Date                                                            \n",
       "2019-12-31 23:00:00  128.54   440678.91   Tuesday  2019     12  \n",
       "2019-12-31 22:00:00  128.33   554646.02   Tuesday  2019     12  \n",
       "...                     ...         ...       ...   ...    ...  \n",
       "2019-01-01 01:00:00  130.79   434917.99   Tuesday  2019      1  \n",
       "2019-01-01 00:00:00  131.62  1067136.21   Tuesday  2019      1  \n",
       "\n",
       "[8760 rows x 10 columns]"
      ]
     },
     "execution_count": 81,
     "metadata": {},
     "output_type": "execute_result"
    },
    {
     "data": {
      "text/html": [
       "<div>\n",
       "<style scoped>\n",
       "    .dataframe tbody tr th:only-of-type {\n",
       "        vertical-align: middle;\n",
       "    }\n",
       "\n",
       "    .dataframe tbody tr th {\n",
       "        vertical-align: top;\n",
       "    }\n",
       "\n",
       "    .dataframe thead th {\n",
       "        text-align: right;\n",
       "    }\n",
       "</style>\n",
       "<table border=\"1\" class=\"dataframe\">\n",
       "  <thead>\n",
       "    <tr style=\"text-align: right;\">\n",
       "      <th></th>\n",
       "      <th>Date</th>\n",
       "      <th>Symbol</th>\n",
       "      <th>Open</th>\n",
       "      <th>High</th>\n",
       "      <th>Low</th>\n",
       "      <th>Close</th>\n",
       "      <th>Volume</th>\n",
       "      <th>DayOfWeek</th>\n",
       "      <th>Year</th>\n",
       "      <th>Month</th>\n",
       "    </tr>\n",
       "    <tr>\n",
       "      <th>Date</th>\n",
       "      <th></th>\n",
       "      <th></th>\n",
       "      <th></th>\n",
       "      <th></th>\n",
       "      <th></th>\n",
       "      <th></th>\n",
       "      <th></th>\n",
       "      <th></th>\n",
       "      <th></th>\n",
       "      <th></th>\n",
       "    </tr>\n",
       "  </thead>\n",
       "  <tbody>\n",
       "    <tr>\n",
       "      <th>2019-12-31 23:00:00</th>\n",
       "      <td>2019-12-31 23:00:00</td>\n",
       "      <td>ETHUSD</td>\n",
       "      <td>128.33</td>\n",
       "      <td>128.69</td>\n",
       "      <td>128.14</td>\n",
       "      <td>128.54</td>\n",
       "      <td>440678.91</td>\n",
       "      <td>Tuesday</td>\n",
       "      <td>2019</td>\n",
       "      <td>12</td>\n",
       "    </tr>\n",
       "    <tr>\n",
       "      <th>2019-12-31 22:00:00</th>\n",
       "      <td>2019-12-31 22:00:00</td>\n",
       "      <td>ETHUSD</td>\n",
       "      <td>128.38</td>\n",
       "      <td>128.69</td>\n",
       "      <td>127.95</td>\n",
       "      <td>128.33</td>\n",
       "      <td>554646.02</td>\n",
       "      <td>Tuesday</td>\n",
       "      <td>2019</td>\n",
       "      <td>12</td>\n",
       "    </tr>\n",
       "    <tr>\n",
       "      <th>...</th>\n",
       "      <td>...</td>\n",
       "      <td>...</td>\n",
       "      <td>...</td>\n",
       "      <td>...</td>\n",
       "      <td>...</td>\n",
       "      <td>...</td>\n",
       "      <td>...</td>\n",
       "      <td>...</td>\n",
       "      <td>...</td>\n",
       "      <td>...</td>\n",
       "    </tr>\n",
       "    <tr>\n",
       "      <th>2019-12-29 01:00:00</th>\n",
       "      <td>2019-12-29 01:00:00</td>\n",
       "      <td>ETHUSD</td>\n",
       "      <td>127.69</td>\n",
       "      <td>127.77</td>\n",
       "      <td>127.22</td>\n",
       "      <td>127.48</td>\n",
       "      <td>281641.20</td>\n",
       "      <td>Sunday</td>\n",
       "      <td>2019</td>\n",
       "      <td>12</td>\n",
       "    </tr>\n",
       "    <tr>\n",
       "      <th>2019-12-29 00:00:00</th>\n",
       "      <td>2019-12-29 00:00:00</td>\n",
       "      <td>ETHUSD</td>\n",
       "      <td>127.91</td>\n",
       "      <td>127.95</td>\n",
       "      <td>127.54</td>\n",
       "      <td>127.69</td>\n",
       "      <td>164546.25</td>\n",
       "      <td>Sunday</td>\n",
       "      <td>2019</td>\n",
       "      <td>12</td>\n",
       "    </tr>\n",
       "  </tbody>\n",
       "</table>\n",
       "<p>72 rows × 10 columns</p>\n",
       "</div>"
      ],
      "text/plain": [
       "                                   Date  Symbol    Open    High     Low  \\\n",
       "Date                                                                      \n",
       "2019-12-31 23:00:00 2019-12-31 23:00:00  ETHUSD  128.33  128.69  128.14   \n",
       "2019-12-31 22:00:00 2019-12-31 22:00:00  ETHUSD  128.38  128.69  127.95   \n",
       "...                                 ...     ...     ...     ...     ...   \n",
       "2019-12-29 01:00:00 2019-12-29 01:00:00  ETHUSD  127.69  127.77  127.22   \n",
       "2019-12-29 00:00:00 2019-12-29 00:00:00  ETHUSD  127.91  127.95  127.54   \n",
       "\n",
       "                      Close     Volume DayOfWeek  Year  Month  \n",
       "Date                                                           \n",
       "2019-12-31 23:00:00  128.54  440678.91   Tuesday  2019     12  \n",
       "2019-12-31 22:00:00  128.33  554646.02   Tuesday  2019     12  \n",
       "...                     ...        ...       ...   ...    ...  \n",
       "2019-12-29 01:00:00  127.48  281641.20    Sunday  2019     12  \n",
       "2019-12-29 00:00:00  127.69  164546.25    Sunday  2019     12  \n",
       "\n",
       "[72 rows x 10 columns]"
      ]
     },
     "execution_count": 81,
     "metadata": {},
     "output_type": "execute_result"
    }
   ],
   "source": [
    "# filter by year\n",
    "df[df.index>'2020']\n",
    "# df[df.Date>'2020'] # same\n",
    "# df.query(\"index >'2020'\") # same as above\n",
    "\n",
    "# filter by date\n",
    "df[df.index>'2020-01-01']\n",
    "# df[df.Date>'2020-01-01']\n",
    "# df.query(\"index >'2020-01-01'\") # same as above\n",
    "\n",
    "# filter by chain by year\n",
    "df[(df.index >= '2019') & (df.index < '2020')]\n",
    "# df['2019' <= df.index < '2020'] # not work \n",
    "# df.query(\" '2019' <= index <'2020' \") # inside query, we can do chain inequality\n",
    "# df.query(\" 2019 <= index <2020 \") # same as above. QUESTION: Why no need quotes for the year??\n",
    "\n",
    "# filter by chain by date \n",
    "df[(df.index>='2019-12-29') & (df.index<'2020-01-01')] # same as above\n",
    "# df[(df.index>=pd.to_datetime('2019-12-29')) & (df.index<pd.to_datetime('2020-01-01'))]\n",
    "# df.query(\" '2019-12-29' <= index <'2020-01-01' \")\n",
    "\n",
    "# df.Index[0] >= '2019' # not work. TypeError: '>=' not supported between instances of 'Timestamp' and 'str'. The reason is that df.Index[0] is just a python datetime object, which doesn't support this!"
   ]
  },
  {
   "cell_type": "code",
   "execution_count": 84,
   "metadata": {},
   "outputs": [
    {
     "data": {
      "text/html": [
       "<div>\n",
       "<style scoped>\n",
       "    .dataframe tbody tr th:only-of-type {\n",
       "        vertical-align: middle;\n",
       "    }\n",
       "\n",
       "    .dataframe tbody tr th {\n",
       "        vertical-align: top;\n",
       "    }\n",
       "\n",
       "    .dataframe thead th {\n",
       "        text-align: right;\n",
       "    }\n",
       "</style>\n",
       "<table border=\"1\" class=\"dataframe\">\n",
       "  <thead>\n",
       "    <tr style=\"text-align: right;\">\n",
       "      <th></th>\n",
       "      <th>Date</th>\n",
       "      <th>Symbol</th>\n",
       "      <th>Open</th>\n",
       "      <th>High</th>\n",
       "      <th>Low</th>\n",
       "      <th>Close</th>\n",
       "      <th>Volume</th>\n",
       "      <th>DayOfWeek</th>\n",
       "      <th>Year</th>\n",
       "      <th>Month</th>\n",
       "    </tr>\n",
       "    <tr>\n",
       "      <th>Date</th>\n",
       "      <th></th>\n",
       "      <th></th>\n",
       "      <th></th>\n",
       "      <th></th>\n",
       "      <th></th>\n",
       "      <th></th>\n",
       "      <th></th>\n",
       "      <th></th>\n",
       "      <th></th>\n",
       "      <th></th>\n",
       "    </tr>\n",
       "  </thead>\n",
       "  <tbody>\n",
       "    <tr>\n",
       "      <th>2019-12-31 23:00:00</th>\n",
       "      <td>2019-12-31 23:00:00</td>\n",
       "      <td>ETHUSD</td>\n",
       "      <td>128.33</td>\n",
       "      <td>128.69</td>\n",
       "      <td>128.14</td>\n",
       "      <td>128.54</td>\n",
       "      <td>440678.91</td>\n",
       "      <td>Tuesday</td>\n",
       "      <td>2019</td>\n",
       "      <td>12</td>\n",
       "    </tr>\n",
       "    <tr>\n",
       "      <th>2019-12-31 22:00:00</th>\n",
       "      <td>2019-12-31 22:00:00</td>\n",
       "      <td>ETHUSD</td>\n",
       "      <td>128.38</td>\n",
       "      <td>128.69</td>\n",
       "      <td>127.95</td>\n",
       "      <td>128.33</td>\n",
       "      <td>554646.02</td>\n",
       "      <td>Tuesday</td>\n",
       "      <td>2019</td>\n",
       "      <td>12</td>\n",
       "    </tr>\n",
       "    <tr>\n",
       "      <th>...</th>\n",
       "      <td>...</td>\n",
       "      <td>...</td>\n",
       "      <td>...</td>\n",
       "      <td>...</td>\n",
       "      <td>...</td>\n",
       "      <td>...</td>\n",
       "      <td>...</td>\n",
       "      <td>...</td>\n",
       "      <td>...</td>\n",
       "      <td>...</td>\n",
       "    </tr>\n",
       "    <tr>\n",
       "      <th>2019-01-01 01:00:00</th>\n",
       "      <td>2019-01-01 01:00:00</td>\n",
       "      <td>ETHUSD</td>\n",
       "      <td>131.62</td>\n",
       "      <td>131.62</td>\n",
       "      <td>130.77</td>\n",
       "      <td>130.79</td>\n",
       "      <td>434917.99</td>\n",
       "      <td>Tuesday</td>\n",
       "      <td>2019</td>\n",
       "      <td>1</td>\n",
       "    </tr>\n",
       "    <tr>\n",
       "      <th>2019-01-01 00:00:00</th>\n",
       "      <td>2019-01-01 00:00:00</td>\n",
       "      <td>ETHUSD</td>\n",
       "      <td>130.53</td>\n",
       "      <td>131.91</td>\n",
       "      <td>130.48</td>\n",
       "      <td>131.62</td>\n",
       "      <td>1067136.21</td>\n",
       "      <td>Tuesday</td>\n",
       "      <td>2019</td>\n",
       "      <td>1</td>\n",
       "    </tr>\n",
       "  </tbody>\n",
       "</table>\n",
       "<p>8760 rows × 10 columns</p>\n",
       "</div>"
      ],
      "text/plain": [
       "                                   Date  Symbol    Open    High     Low  \\\n",
       "Date                                                                      \n",
       "2019-12-31 23:00:00 2019-12-31 23:00:00  ETHUSD  128.33  128.69  128.14   \n",
       "2019-12-31 22:00:00 2019-12-31 22:00:00  ETHUSD  128.38  128.69  127.95   \n",
       "...                                 ...     ...     ...     ...     ...   \n",
       "2019-01-01 01:00:00 2019-01-01 01:00:00  ETHUSD  131.62  131.62  130.77   \n",
       "2019-01-01 00:00:00 2019-01-01 00:00:00  ETHUSD  130.53  131.91  130.48   \n",
       "\n",
       "                      Close      Volume DayOfWeek  Year  Month  \n",
       "Date                                                            \n",
       "2019-12-31 23:00:00  128.54   440678.91   Tuesday  2019     12  \n",
       "2019-12-31 22:00:00  128.33   554646.02   Tuesday  2019     12  \n",
       "...                     ...         ...       ...   ...    ...  \n",
       "2019-01-01 01:00:00  130.79   434917.99   Tuesday  2019      1  \n",
       "2019-01-01 00:00:00  131.62  1067136.21   Tuesday  2019      1  \n",
       "\n",
       "[8760 rows x 10 columns]"
      ]
     },
     "execution_count": 84,
     "metadata": {},
     "output_type": "execute_result"
    },
    {
     "data": {
      "text/html": [
       "<div>\n",
       "<style scoped>\n",
       "    .dataframe tbody tr th:only-of-type {\n",
       "        vertical-align: middle;\n",
       "    }\n",
       "\n",
       "    .dataframe tbody tr th {\n",
       "        vertical-align: top;\n",
       "    }\n",
       "\n",
       "    .dataframe thead th {\n",
       "        text-align: right;\n",
       "    }\n",
       "</style>\n",
       "<table border=\"1\" class=\"dataframe\">\n",
       "  <thead>\n",
       "    <tr style=\"text-align: right;\">\n",
       "      <th></th>\n",
       "      <th>Date</th>\n",
       "      <th>Symbol</th>\n",
       "      <th>Open</th>\n",
       "      <th>High</th>\n",
       "      <th>Low</th>\n",
       "      <th>Close</th>\n",
       "      <th>Volume</th>\n",
       "      <th>DayOfWeek</th>\n",
       "      <th>Year</th>\n",
       "      <th>Month</th>\n",
       "    </tr>\n",
       "    <tr>\n",
       "      <th>Date</th>\n",
       "      <th></th>\n",
       "      <th></th>\n",
       "      <th></th>\n",
       "      <th></th>\n",
       "      <th></th>\n",
       "      <th></th>\n",
       "      <th></th>\n",
       "      <th></th>\n",
       "      <th></th>\n",
       "      <th></th>\n",
       "    </tr>\n",
       "  </thead>\n",
       "  <tbody>\n",
       "    <tr>\n",
       "      <th>2020-03-13 20:00:00</th>\n",
       "      <td>2020-03-13 20:00:00</td>\n",
       "      <td>ETHUSD</td>\n",
       "      <td>129.94</td>\n",
       "      <td>131.82</td>\n",
       "      <td>126.87</td>\n",
       "      <td>128.71</td>\n",
       "      <td>1940673.93</td>\n",
       "      <td>Friday</td>\n",
       "      <td>2020</td>\n",
       "      <td>3</td>\n",
       "    </tr>\n",
       "    <tr>\n",
       "      <th>2020-03-13 19:00:00</th>\n",
       "      <td>2020-03-13 19:00:00</td>\n",
       "      <td>ETHUSD</td>\n",
       "      <td>119.51</td>\n",
       "      <td>132.02</td>\n",
       "      <td>117.10</td>\n",
       "      <td>129.94</td>\n",
       "      <td>7579741.09</td>\n",
       "      <td>Friday</td>\n",
       "      <td>2020</td>\n",
       "      <td>3</td>\n",
       "    </tr>\n",
       "    <tr>\n",
       "      <th>...</th>\n",
       "      <td>...</td>\n",
       "      <td>...</td>\n",
       "      <td>...</td>\n",
       "      <td>...</td>\n",
       "      <td>...</td>\n",
       "      <td>...</td>\n",
       "      <td>...</td>\n",
       "      <td>...</td>\n",
       "      <td>...</td>\n",
       "      <td>...</td>\n",
       "    </tr>\n",
       "    <tr>\n",
       "      <th>2019-01-05 01:00:00</th>\n",
       "      <td>2019-01-05 01:00:00</td>\n",
       "      <td>ETHUSD</td>\n",
       "      <td>159.43</td>\n",
       "      <td>160.61</td>\n",
       "      <td>156.77</td>\n",
       "      <td>159.42</td>\n",
       "      <td>3541976.47</td>\n",
       "      <td>Saturday</td>\n",
       "      <td>2019</td>\n",
       "      <td>1</td>\n",
       "    </tr>\n",
       "    <tr>\n",
       "      <th>2019-01-05 00:00:00</th>\n",
       "      <td>2019-01-05 00:00:00</td>\n",
       "      <td>ETHUSD</td>\n",
       "      <td>153.24</td>\n",
       "      <td>160.50</td>\n",
       "      <td>153.23</td>\n",
       "      <td>159.43</td>\n",
       "      <td>4907530.32</td>\n",
       "      <td>Saturday</td>\n",
       "      <td>2019</td>\n",
       "      <td>1</td>\n",
       "    </tr>\n",
       "  </tbody>\n",
       "</table>\n",
       "<p>10413 rows × 10 columns</p>\n",
       "</div>"
      ],
      "text/plain": [
       "                                   Date  Symbol    Open    High     Low  \\\n",
       "Date                                                                      \n",
       "2020-03-13 20:00:00 2020-03-13 20:00:00  ETHUSD  129.94  131.82  126.87   \n",
       "2020-03-13 19:00:00 2020-03-13 19:00:00  ETHUSD  119.51  132.02  117.10   \n",
       "...                                 ...     ...     ...     ...     ...   \n",
       "2019-01-05 01:00:00 2019-01-05 01:00:00  ETHUSD  159.43  160.61  156.77   \n",
       "2019-01-05 00:00:00 2019-01-05 00:00:00  ETHUSD  153.24  160.50  153.23   \n",
       "\n",
       "                      Close      Volume DayOfWeek  Year  Month  \n",
       "Date                                                            \n",
       "2020-03-13 20:00:00  128.71  1940673.93    Friday  2020      3  \n",
       "2020-03-13 19:00:00  129.94  7579741.09    Friday  2020      3  \n",
       "...                     ...         ...       ...   ...    ...  \n",
       "2019-01-05 01:00:00  159.42  3541976.47  Saturday  2019      1  \n",
       "2019-01-05 00:00:00  159.43  4907530.32  Saturday  2019      1  \n",
       "\n",
       "[10413 rows x 10 columns]"
      ]
     },
     "execution_count": 84,
     "metadata": {},
     "output_type": "execute_result"
    },
    {
     "data": {
      "text/html": [
       "<div>\n",
       "<style scoped>\n",
       "    .dataframe tbody tr th:only-of-type {\n",
       "        vertical-align: middle;\n",
       "    }\n",
       "\n",
       "    .dataframe tbody tr th {\n",
       "        vertical-align: top;\n",
       "    }\n",
       "\n",
       "    .dataframe thead th {\n",
       "        text-align: right;\n",
       "    }\n",
       "</style>\n",
       "<table border=\"1\" class=\"dataframe\">\n",
       "  <thead>\n",
       "    <tr style=\"text-align: right;\">\n",
       "      <th></th>\n",
       "      <th>Date</th>\n",
       "      <th>Symbol</th>\n",
       "      <th>Open</th>\n",
       "      <th>High</th>\n",
       "      <th>Low</th>\n",
       "      <th>Close</th>\n",
       "      <th>Volume</th>\n",
       "      <th>DayOfWeek</th>\n",
       "      <th>Year</th>\n",
       "      <th>Month</th>\n",
       "    </tr>\n",
       "    <tr>\n",
       "      <th>Date</th>\n",
       "      <th></th>\n",
       "      <th></th>\n",
       "      <th></th>\n",
       "      <th></th>\n",
       "      <th></th>\n",
       "      <th></th>\n",
       "      <th></th>\n",
       "      <th></th>\n",
       "      <th></th>\n",
       "      <th></th>\n",
       "    </tr>\n",
       "  </thead>\n",
       "  <tbody>\n",
       "    <tr>\n",
       "      <th>2020-03-13 20:00:00</th>\n",
       "      <td>2020-03-13 20:00:00</td>\n",
       "      <td>ETHUSD</td>\n",
       "      <td>129.94</td>\n",
       "      <td>131.82</td>\n",
       "      <td>126.87</td>\n",
       "      <td>128.71</td>\n",
       "      <td>1940673.93</td>\n",
       "      <td>Friday</td>\n",
       "      <td>2020</td>\n",
       "      <td>3</td>\n",
       "    </tr>\n",
       "    <tr>\n",
       "      <th>2020-03-13 19:00:00</th>\n",
       "      <td>2020-03-13 19:00:00</td>\n",
       "      <td>ETHUSD</td>\n",
       "      <td>119.51</td>\n",
       "      <td>132.02</td>\n",
       "      <td>117.10</td>\n",
       "      <td>129.94</td>\n",
       "      <td>7579741.09</td>\n",
       "      <td>Friday</td>\n",
       "      <td>2020</td>\n",
       "      <td>3</td>\n",
       "    </tr>\n",
       "    <tr>\n",
       "      <th>...</th>\n",
       "      <td>...</td>\n",
       "      <td>...</td>\n",
       "      <td>...</td>\n",
       "      <td>...</td>\n",
       "      <td>...</td>\n",
       "      <td>...</td>\n",
       "      <td>...</td>\n",
       "      <td>...</td>\n",
       "      <td>...</td>\n",
       "      <td>...</td>\n",
       "    </tr>\n",
       "    <tr>\n",
       "      <th>2019-01-05 01:00:00</th>\n",
       "      <td>2019-01-05 01:00:00</td>\n",
       "      <td>ETHUSD</td>\n",
       "      <td>159.43</td>\n",
       "      <td>160.61</td>\n",
       "      <td>156.77</td>\n",
       "      <td>159.42</td>\n",
       "      <td>3541976.47</td>\n",
       "      <td>Saturday</td>\n",
       "      <td>2019</td>\n",
       "      <td>1</td>\n",
       "    </tr>\n",
       "    <tr>\n",
       "      <th>2019-01-05 00:00:00</th>\n",
       "      <td>2019-01-05 00:00:00</td>\n",
       "      <td>ETHUSD</td>\n",
       "      <td>153.24</td>\n",
       "      <td>160.50</td>\n",
       "      <td>153.23</td>\n",
       "      <td>159.43</td>\n",
       "      <td>4907530.32</td>\n",
       "      <td>Saturday</td>\n",
       "      <td>2019</td>\n",
       "      <td>1</td>\n",
       "    </tr>\n",
       "  </tbody>\n",
       "</table>\n",
       "<p>10413 rows × 10 columns</p>\n",
       "</div>"
      ],
      "text/plain": [
       "                                   Date  Symbol    Open    High     Low  \\\n",
       "Date                                                                      \n",
       "2020-03-13 20:00:00 2020-03-13 20:00:00  ETHUSD  129.94  131.82  126.87   \n",
       "2020-03-13 19:00:00 2020-03-13 19:00:00  ETHUSD  119.51  132.02  117.10   \n",
       "...                                 ...     ...     ...     ...     ...   \n",
       "2019-01-05 01:00:00 2019-01-05 01:00:00  ETHUSD  159.43  160.61  156.77   \n",
       "2019-01-05 00:00:00 2019-01-05 00:00:00  ETHUSD  153.24  160.50  153.23   \n",
       "\n",
       "                      Close      Volume DayOfWeek  Year  Month  \n",
       "Date                                                            \n",
       "2020-03-13 20:00:00  128.71  1940673.93    Friday  2020      3  \n",
       "2020-03-13 19:00:00  129.94  7579741.09    Friday  2020      3  \n",
       "...                     ...         ...       ...   ...    ...  \n",
       "2019-01-05 01:00:00  159.42  3541976.47  Saturday  2019      1  \n",
       "2019-01-05 00:00:00  159.43  4907530.32  Saturday  2019      1  \n",
       "\n",
       "[10413 rows x 10 columns]"
      ]
     },
     "execution_count": 84,
     "metadata": {},
     "output_type": "execute_result"
    },
    {
     "data": {
      "text/plain": [
       "Date      2020-01-01 23:00:00\n",
       "Symbol                 ETHUSD\n",
       "                 ...         \n",
       "Year                     2020\n",
       "Month                       1\n",
       "Length: 10, dtype: object"
      ]
     },
     "execution_count": 84,
     "metadata": {},
     "output_type": "execute_result"
    },
    {
     "data": {
      "text/html": [
       "<div>\n",
       "<style scoped>\n",
       "    .dataframe tbody tr th:only-of-type {\n",
       "        vertical-align: middle;\n",
       "    }\n",
       "\n",
       "    .dataframe tbody tr th {\n",
       "        vertical-align: top;\n",
       "    }\n",
       "\n",
       "    .dataframe thead th {\n",
       "        text-align: right;\n",
       "    }\n",
       "</style>\n",
       "<table border=\"1\" class=\"dataframe\">\n",
       "  <thead>\n",
       "    <tr style=\"text-align: right;\">\n",
       "      <th></th>\n",
       "      <th>Date</th>\n",
       "      <th>Symbol</th>\n",
       "      <th>Open</th>\n",
       "      <th>High</th>\n",
       "      <th>Low</th>\n",
       "      <th>Close</th>\n",
       "      <th>Volume</th>\n",
       "      <th>DayOfWeek</th>\n",
       "      <th>Year</th>\n",
       "      <th>Month</th>\n",
       "    </tr>\n",
       "    <tr>\n",
       "      <th>Date</th>\n",
       "      <th></th>\n",
       "      <th></th>\n",
       "      <th></th>\n",
       "      <th></th>\n",
       "      <th></th>\n",
       "      <th></th>\n",
       "      <th></th>\n",
       "      <th></th>\n",
       "      <th></th>\n",
       "      <th></th>\n",
       "    </tr>\n",
       "  </thead>\n",
       "  <tbody>\n",
       "    <tr>\n",
       "      <th>2020-03-13 20:00:00</th>\n",
       "      <td>2020-03-13 20:00:00</td>\n",
       "      <td>ETHUSD</td>\n",
       "      <td>129.94</td>\n",
       "      <td>131.82</td>\n",
       "      <td>126.87</td>\n",
       "      <td>128.71</td>\n",
       "      <td>1940673.93</td>\n",
       "      <td>Friday</td>\n",
       "      <td>2020</td>\n",
       "      <td>3</td>\n",
       "    </tr>\n",
       "    <tr>\n",
       "      <th>2020-03-13 19:00:00</th>\n",
       "      <td>2020-03-13 19:00:00</td>\n",
       "      <td>ETHUSD</td>\n",
       "      <td>119.51</td>\n",
       "      <td>132.02</td>\n",
       "      <td>117.10</td>\n",
       "      <td>129.94</td>\n",
       "      <td>7579741.09</td>\n",
       "      <td>Friday</td>\n",
       "      <td>2020</td>\n",
       "      <td>3</td>\n",
       "    </tr>\n",
       "    <tr>\n",
       "      <th>...</th>\n",
       "      <td>...</td>\n",
       "      <td>...</td>\n",
       "      <td>...</td>\n",
       "      <td>...</td>\n",
       "      <td>...</td>\n",
       "      <td>...</td>\n",
       "      <td>...</td>\n",
       "      <td>...</td>\n",
       "      <td>...</td>\n",
       "      <td>...</td>\n",
       "    </tr>\n",
       "    <tr>\n",
       "      <th>2019-03-18 01:00:00</th>\n",
       "      <td>2019-03-18 01:00:00</td>\n",
       "      <td>ETHUSD</td>\n",
       "      <td>139.53</td>\n",
       "      <td>141.30</td>\n",
       "      <td>139.41</td>\n",
       "      <td>139.99</td>\n",
       "      <td>1155351.33</td>\n",
       "      <td>Monday</td>\n",
       "      <td>2019</td>\n",
       "      <td>3</td>\n",
       "    </tr>\n",
       "    <tr>\n",
       "      <th>2019-03-18 00:00:00</th>\n",
       "      <td>2019-03-18 00:00:00</td>\n",
       "      <td>ETHUSD</td>\n",
       "      <td>138.07</td>\n",
       "      <td>139.60</td>\n",
       "      <td>137.93</td>\n",
       "      <td>139.53</td>\n",
       "      <td>1057143.39</td>\n",
       "      <td>Monday</td>\n",
       "      <td>2019</td>\n",
       "      <td>3</td>\n",
       "    </tr>\n",
       "  </tbody>\n",
       "</table>\n",
       "<p>8685 rows × 10 columns</p>\n",
       "</div>"
      ],
      "text/plain": [
       "                                   Date  Symbol    Open    High     Low  \\\n",
       "Date                                                                      \n",
       "2020-03-13 20:00:00 2020-03-13 20:00:00  ETHUSD  129.94  131.82  126.87   \n",
       "2020-03-13 19:00:00 2020-03-13 19:00:00  ETHUSD  119.51  132.02  117.10   \n",
       "...                                 ...     ...     ...     ...     ...   \n",
       "2019-03-18 01:00:00 2019-03-18 01:00:00  ETHUSD  139.53  141.30  139.41   \n",
       "2019-03-18 00:00:00 2019-03-18 00:00:00  ETHUSD  138.07  139.60  137.93   \n",
       "\n",
       "                      Close      Volume DayOfWeek  Year  Month  \n",
       "Date                                                            \n",
       "2020-03-13 20:00:00  128.71  1940673.93    Friday  2020      3  \n",
       "2020-03-13 19:00:00  129.94  7579741.09    Friday  2020      3  \n",
       "...                     ...         ...       ...   ...    ...  \n",
       "2019-03-18 01:00:00  139.99  1155351.33    Monday  2019      3  \n",
       "2019-03-18 00:00:00  139.53  1057143.39    Monday  2019      3  \n",
       "\n",
       "[8685 rows x 10 columns]"
      ]
     },
     "execution_count": 84,
     "metadata": {},
     "output_type": "execute_result"
    }
   ],
   "source": [
    "# slicing, if timestamp is set as index \n",
    "\n",
    "# df['2019'] # warning. avoid!\n",
    "df.loc['2019'] # get all year 2019 records\n",
    "\n",
    "df['2019-01-05':'2022-09-03']\n",
    "df.loc['2019-01-05':'2022-09-03']\n",
    "# df['2019-01-05':'2022-09-03'].Close.mean()\n",
    "\n",
    "# access a single record\n",
    "df.loc['2020-01-01'].max() \n",
    "\n",
    "df.query(\"'2019-03-18'<=Date<='2020-03-18'\")"
   ]
  },
  {
   "cell_type": "markdown",
   "metadata": {},
   "source": [
    "# resampling\n",
    "- why resampling? \n",
    "    - for plotting"
   ]
  },
  {
   "cell_type": "code",
   "execution_count": 99,
   "metadata": {},
   "outputs": [
    {
     "data": {
      "text/plain": [
       "(2,)"
      ]
     },
     "execution_count": 99,
     "metadata": {},
     "output_type": "execute_result"
    },
    {
     "data": {
      "text/plain": [
       "<AxesSubplot:xlabel='Date'>"
      ]
     },
     "execution_count": 99,
     "metadata": {},
     "output_type": "execute_result"
    },
    {
     "data": {
      "text/plain": [
       "<AxesSubplot:xlabel='Date'>"
      ]
     },
     "execution_count": 99,
     "metadata": {},
     "output_type": "execute_result"
    },
    {
     "data": {
      "text/plain": [
       "Date\n",
       "2020-03-13 20:00:00    131.82\n",
       "2020-03-13 19:00:00    132.02\n",
       "                        ...  \n",
       "2017-07-01 12:00:00    275.01\n",
       "2017-07-01 11:00:00    279.99\n",
       "Name: High, Length: 23674, dtype: float64"
      ]
     },
     "execution_count": 99,
     "metadata": {},
     "output_type": "execute_result"
    },
    {
     "data": {
      "image/png": "[encoded data removed]",
      "text/plain": [
       "<Figure size 1008x216 with 2 Axes>"
      ]
     },
     "metadata": {},
     "output_type": "display_data"
    }
   ],
   "source": [
    "highs = df['High'].resample('1D').max() # originally, the high is calculated per hr. Now switch to per day. The per day high is the maximum of the 24 hr period\n",
    "\n",
    "assert highs['2020-01-01'] == df.loc['2020-01-01'].High.max() # sanity check \n",
    "\n",
    "fig, axes = plt.subplots(1,2, figsize=(14,3))\n",
    "\n",
    "axes.shape\n",
    "\n",
    "highs.plot(ax=axes[0], marker='o', markersize=2) # resampled version\n",
    "df.High.plot(ax=axes[1], marker='o', markersize=2)"
   ]
  },
  {
   "cell_type": "code",
   "execution_count": 86,
   "metadata": {},
   "outputs": [
    {
     "data": {
      "text/plain": [
       "<Figure size 576x360 with 0 Axes>"
      ]
     },
     "execution_count": 86,
     "metadata": {},
     "output_type": "execute_result"
    },
    {
     "data": {
      "text/plain": [
       "<AxesSubplot:>"
      ]
     },
     "execution_count": 86,
     "metadata": {},
     "output_type": "execute_result"
    },
    {
     "data": {
      "text/plain": [
       "<Figure size 576x360 with 0 Axes>"
      ]
     },
     "execution_count": 86,
     "metadata": {},
     "output_type": "execute_result"
    },
    {
     "data": {
      "text/plain": [
       "<AxesSubplot:>"
      ]
     },
     "execution_count": 86,
     "metadata": {},
     "output_type": "execute_result"
    },
    {
     "data": {
      "text/plain": [
       "<Figure size 576x360 with 0 Axes>"
      ]
     },
     "execution_count": 86,
     "metadata": {},
     "output_type": "execute_result"
    },
    {
     "data": {
      "text/plain": [
       "<AxesSubplot:>"
      ]
     },
     "execution_count": 86,
     "metadata": {},
     "output_type": "execute_result"
    },
    {
     "data": {
      "image/png": "[encoded data removed]",
      "text/plain": [
       "<Figure size 576x360 with 1 Axes>"
      ]
     },
     "metadata": {},
     "output_type": "display_data"
    },
    {
     "data": {
      "image/png": "[encoded data removed]",
      "text/plain": [
       "<Figure size 576x360 with 1 Axes>"
      ]
     },
     "metadata": {},
     "output_type": "display_data"
    },
    {
     "data": {
      "image/png": "[encoded data removed]",
      "text/plain": [
       "<Figure size 576x360 with 1 Axes>"
      ]
     },
     "metadata": {},
     "output_type": "display_data"
    }
   ],
   "source": [
    "plt.figure()\n",
    "df.Year.value_counts().sort_index().plot.barh()\n",
    "plt.figure()\n",
    "df.Month.value_counts().sort_index().plot()\n",
    "plt.figure()\n",
    "df.DayOfWeek.value_counts().sort_index().plot.barh()"
   ]
  },
  {
   "cell_type": "code",
   "execution_count": null,
   "metadata": {},
   "outputs": [
    {
     "data": {
      "text/html": [
       "<div>\n",
       "<style scoped>\n",
       "    .dataframe tbody tr th:only-of-type {\n",
       "        vertical-align: middle;\n",
       "    }\n",
       "\n",
       "    .dataframe tbody tr th {\n",
       "        vertical-align: top;\n",
       "    }\n",
       "\n",
       "    .dataframe thead tr th {\n",
       "        text-align: left;\n",
       "    }\n",
       "\n",
       "    .dataframe thead tr:last-of-type th {\n",
       "        text-align: right;\n",
       "    }\n",
       "</style>\n",
       "<table border=\"1\" class=\"dataframe\">\n",
       "  <thead>\n",
       "    <tr>\n",
       "      <th></th>\n",
       "      <th>Close</th>\n",
       "      <th>High</th>\n",
       "      <th>Low</th>\n",
       "      <th>Volume</th>\n",
       "    </tr>\n",
       "    <tr>\n",
       "      <th></th>\n",
       "      <th>my_mean</th>\n",
       "      <th>max</th>\n",
       "      <th>min</th>\n",
       "      <th>sum</th>\n",
       "    </tr>\n",
       "    <tr>\n",
       "      <th>Date</th>\n",
       "      <th></th>\n",
       "      <th></th>\n",
       "      <th></th>\n",
       "      <th></th>\n",
       "    </tr>\n",
       "  </thead>\n",
       "  <tbody>\n",
       "    <tr>\n",
       "      <th>2017-07-02</th>\n",
       "      <td>268.202162</td>\n",
       "      <td>293.73</td>\n",
       "      <td>253.23</td>\n",
       "      <td>8.084631e+07</td>\n",
       "    </tr>\n",
       "    <tr>\n",
       "      <th>2017-07-09</th>\n",
       "      <td>261.062083</td>\n",
       "      <td>285.00</td>\n",
       "      <td>231.25</td>\n",
       "      <td>2.246746e+08</td>\n",
       "    </tr>\n",
       "    <tr>\n",
       "      <th>2017-07-16</th>\n",
       "      <td>195.698393</td>\n",
       "      <td>240.33</td>\n",
       "      <td>130.26</td>\n",
       "      <td>5.017750e+08</td>\n",
       "    </tr>\n",
       "    <tr>\n",
       "      <th>2017-07-23</th>\n",
       "      <td>212.783750</td>\n",
       "      <td>249.40</td>\n",
       "      <td>153.25</td>\n",
       "      <td>7.221637e+08</td>\n",
       "    </tr>\n",
       "    <tr>\n",
       "      <th>2017-07-30</th>\n",
       "      <td>203.309524</td>\n",
       "      <td>229.99</td>\n",
       "      <td>178.03</td>\n",
       "      <td>2.657305e+08</td>\n",
       "    </tr>\n",
       "    <tr>\n",
       "      <th>...</th>\n",
       "      <td>...</td>\n",
       "      <td>...</td>\n",
       "      <td>...</td>\n",
       "      <td>...</td>\n",
       "    </tr>\n",
       "    <tr>\n",
       "      <th>2020-02-16</th>\n",
       "      <td>255.198452</td>\n",
       "      <td>290.00</td>\n",
       "      <td>216.31</td>\n",
       "      <td>3.912867e+08</td>\n",
       "    </tr>\n",
       "    <tr>\n",
       "      <th>2020-02-23</th>\n",
       "      <td>265.321905</td>\n",
       "      <td>287.13</td>\n",
       "      <td>242.36</td>\n",
       "      <td>3.067838e+08</td>\n",
       "    </tr>\n",
       "    <tr>\n",
       "      <th>2020-03-01</th>\n",
       "      <td>236.373988</td>\n",
       "      <td>278.13</td>\n",
       "      <td>209.26</td>\n",
       "      <td>3.693920e+08</td>\n",
       "    </tr>\n",
       "    <tr>\n",
       "      <th>2020-03-08</th>\n",
       "      <td>229.817619</td>\n",
       "      <td>253.01</td>\n",
       "      <td>196.00</td>\n",
       "      <td>2.736569e+08</td>\n",
       "    </tr>\n",
       "    <tr>\n",
       "      <th>2020-03-15</th>\n",
       "      <td>176.332821</td>\n",
       "      <td>208.65</td>\n",
       "      <td>90.00</td>\n",
       "      <td>4.983998e+08</td>\n",
       "    </tr>\n",
       "  </tbody>\n",
       "</table>\n",
       "<p>142 rows × 4 columns</p>\n",
       "</div>"
      ],
      "text/plain": [
       "                 Close    High     Low        Volume\n",
       "               my_mean     max     min           sum\n",
       "Date                                                \n",
       "2017-07-02  268.202162  293.73  253.23  8.084631e+07\n",
       "2017-07-09  261.062083  285.00  231.25  2.246746e+08\n",
       "2017-07-16  195.698393  240.33  130.26  5.017750e+08\n",
       "2017-07-23  212.783750  249.40  153.25  7.221637e+08\n",
       "2017-07-30  203.309524  229.99  178.03  2.657305e+08\n",
       "...                ...     ...     ...           ...\n",
       "2020-02-16  255.198452  290.00  216.31  3.912867e+08\n",
       "2020-02-23  265.321905  287.13  242.36  3.067838e+08\n",
       "2020-03-01  236.373988  278.13  209.26  3.693920e+08\n",
       "2020-03-08  229.817619  253.01  196.00  2.736569e+08\n",
       "2020-03-15  176.332821  208.65   90.00  4.983998e+08\n",
       "\n",
       "[142 rows x 4 columns]"
      ]
     },
     "metadata": {},
     "output_type": "display_data"
    }
   ],
   "source": [
    "# df.resample('W').mean() # not useful. Want to have different aggregation for each column\n",
    "df.resample('W').agg({'Close':[('my_mean', 'mean')], 'High':'max', 'Low':'min', 'Volume':'sum'}) # not useful. Want to have different aggregation for each column"
   ]
  },
  {
   "cell_type": "code",
   "execution_count": null,
   "metadata": {},
   "outputs": [
    {
     "data": {
      "text/plain": [
       "195.1655902777778"
      ]
     },
     "metadata": {},
     "output_type": "display_data"
    }
   ],
   "source": [
    "df['2020-01':'2020-02'].Close.mean()"
   ]
  },
  {
   "cell_type": "code",
   "execution_count": null,
   "metadata": {},
   "outputs": [
    {
     "data": {
      "text/plain": [
       "132.68"
      ]
     },
     "metadata": {},
     "output_type": "display_data"
    }
   ],
   "source": [
    "df.loc['2020-01-01'].High.max()"
   ]
  },
  {
   "cell_type": "code",
   "execution_count": null,
   "metadata": {},
   "outputs": [],
   "source": [
    "# if we want to change the time period to something else, we need to do `resampling`\n",
    "highs = df.High.resample('D').max()"
   ]
  },
  {
   "cell_type": "code",
   "execution_count": null,
   "metadata": {},
   "outputs": [
    {
     "data": {
      "text/plain": [
       "132.68"
      ]
     },
     "metadata": {},
     "output_type": "display_data"
    }
   ],
   "source": [
    "highs['2020-01-01'] "
   ]
  },
  {
   "cell_type": "code",
   "execution_count": null,
   "metadata": {},
   "outputs": [
    {
     "data": {
      "text/plain": [
       "<AxesSubplot:xlabel='Date'>"
      ]
     },
     "metadata": {},
     "output_type": "display_data"
    },
    {
     "data": {
      "text/plain": [
       "<Figure size 576x360 with 0 Axes>"
      ]
     },
     "metadata": {},
     "output_type": "display_data"
    },
    {
     "data": {
      "text/plain": [
       "<AxesSubplot:xlabel='Date'>"
      ]
     },
     "metadata": {},
     "output_type": "display_data"
    },
    {
     "data": {
      "image/png": "[encoded data removed]",
      "text/plain": [
       "<Figure size 576x360 with 1 Axes>"
      ]
     },
     "metadata": {},
     "output_type": "display_data"
    },
    {
     "data": {
      "image/png": "[encoded data removed]",
      "text/plain": [
       "<Figure size 576x360 with 1 Axes>"
      ]
     },
     "metadata": {},
     "output_type": "display_data"
    }
   ],
   "source": [
    "df.High.plot()\n",
    "plt.figure()\n",
    "highs.plot()"
   ]
  },
  {
   "cell_type": "code",
   "execution_count": null,
   "metadata": {},
   "outputs": [
    {
     "data": {
      "text/plain": [
       "Date      datetime64[ns]\n",
       "Symbol            object\n",
       "Open             float64\n",
       "High             float64\n",
       "Low              float64\n",
       "Close            float64\n",
       "Volume           float64\n",
       "dtype: object"
      ]
     },
     "metadata": {},
     "output_type": "display_data"
    }
   ],
   "source": [
    "df.dtypes\n",
    "# df.loc[0, 'Date']\n",
    "# df.loc[0, 'Date'].day_name()"
   ]
  },
  {
   "cell_type": "code",
   "execution_count": null,
   "metadata": {},
   "outputs": [],
   "source": [
    "df = pd.read_csv('http://bit.ly/uforeports')"
   ]
  },
  {
   "cell_type": "code",
   "execution_count": null,
   "metadata": {},
   "outputs": [],
   "source": [
    "# df.nunique()\n",
    "df['Time'] = pd.to_datetime(df.Time)"
   ]
  },
  {
   "cell_type": "code",
   "execution_count": null,
   "metadata": {},
   "outputs": [],
   "source": [
    "# df.Time.dt.weekday\n",
    "df['day'] = df.Time.dt.day_name()\n",
    "df['year'] = df.Time.dt.year"
   ]
  },
  {
   "cell_type": "code",
   "execution_count": null,
   "metadata": {},
   "outputs": [
    {
     "data": {
      "text/plain": [
       "<AxesSubplot:>"
      ]
     },
     "metadata": {},
     "output_type": "display_data"
    },
    {
     "data": {
      "image/png": "[encoded data removed]",
      "text/plain": [
       "<Figure size 576x360 with 1 Axes>"
      ]
     },
     "metadata": {},
     "output_type": "display_data"
    }
   ],
   "source": [
    "# sns.countplot(x=df.day)\n",
    "\n",
    "# df.year.value_counts()\n",
    "\n",
    "# sns.lineplot(x=[4,5,6,6,6], y=[1,2,50,33,10000], ci=True)\n",
    "\n",
    "\n",
    "\n",
    "# plt.figure()\n",
    "# sns.lineplot(x=df.year)\n",
    "# df.year.value_counts().sort_index().plot()\n",
    "\n",
    "\n",
    "temp = df.year.value_counts()\n",
    "sns.lineplot(x=temp.index, y=temp.values)"
   ]
  },
  {
   "cell_type": "code",
   "execution_count": 101,
   "metadata": {},
   "outputs": [
    {
     "ename": "AttributeError",
     "evalue": "'DataFrame' object has no attribute 'Time'",
     "output_type": "error",
     "traceback": [
      "\u001b[0;31m---------------------------------------------------------------------------\u001b[0m",
      "\u001b[0;31mAttributeError\u001b[0m                            Traceback (most recent call last)",
      "\u001b[1;32m/Users/whlin/Library/CloudStorage/OneDrive-HKUSTConnect/Documents/python/my_notes_py/pandas_notes/pd_ts.ipynb Cell 23'\u001b[0m in \u001b[0;36m<cell line: 1>\u001b[0;34m()\u001b[0m\n\u001b[0;32m----> <a href='vscode-notebook-cell:/Users/whlin/Library/CloudStorage/OneDrive-HKUSTConnect/Documents/python/my_notes_py/pandas_notes/pd_ts.ipynb#ch0000025?line=0'>1</a>\u001b[0m t \u001b[39m=\u001b[39m df\u001b[39m.\u001b[39;49mTime[:\u001b[39m1\u001b[39m]\n\u001b[1;32m      <a href='vscode-notebook-cell:/Users/whlin/Library/CloudStorage/OneDrive-HKUSTConnect/Documents/python/my_notes_py/pandas_notes/pd_ts.ipynb#ch0000025?line=1'>2</a>\u001b[0m t\n\u001b[1;32m      <a href='vscode-notebook-cell:/Users/whlin/Library/CloudStorage/OneDrive-HKUSTConnect/Documents/python/my_notes_py/pandas_notes/pd_ts.ipynb#ch0000025?line=2'>3</a>\u001b[0m t\u001b[39m.\u001b[39mdt\u001b[39m.\u001b[39mdate\n",
      "File \u001b[0;32m~/miniforge3/envs/data_science/lib/python3.10/site-packages/pandas/core/generic.py:5604\u001b[0m, in \u001b[0;36mNDFrame.__getattr__\u001b[0;34m(self, name)\u001b[0m\n\u001b[1;32m   5597\u001b[0m \u001b[39mif\u001b[39;00m (\n\u001b[1;32m   5598\u001b[0m     name \u001b[39mnot\u001b[39;00m \u001b[39min\u001b[39;00m \u001b[39mself\u001b[39m\u001b[39m.\u001b[39m_internal_names_set\n\u001b[1;32m   5599\u001b[0m     \u001b[39mand\u001b[39;00m name \u001b[39mnot\u001b[39;00m \u001b[39min\u001b[39;00m \u001b[39mself\u001b[39m\u001b[39m.\u001b[39m_metadata\n\u001b[1;32m   5600\u001b[0m     \u001b[39mand\u001b[39;00m name \u001b[39mnot\u001b[39;00m \u001b[39min\u001b[39;00m \u001b[39mself\u001b[39m\u001b[39m.\u001b[39m_accessors\n\u001b[1;32m   5601\u001b[0m     \u001b[39mand\u001b[39;00m \u001b[39mself\u001b[39m\u001b[39m.\u001b[39m_info_axis\u001b[39m.\u001b[39m_can_hold_identifiers_and_holds_name(name)\n\u001b[1;32m   5602\u001b[0m ):\n\u001b[1;32m   5603\u001b[0m     \u001b[39mreturn\u001b[39;00m \u001b[39mself\u001b[39m[name]\n\u001b[0;32m-> 5604\u001b[0m \u001b[39mreturn\u001b[39;00m \u001b[39mobject\u001b[39;49m\u001b[39m.\u001b[39;49m\u001b[39m__getattribute__\u001b[39;49m(\u001b[39mself\u001b[39;49m, name)\n",
      "\u001b[0;31mAttributeError\u001b[0m: 'DataFrame' object has no attribute 'Time'"
     ]
    }
   ],
   "source": [
    "t = df.Time[:1]\n",
    "t\n",
    "t.dt.date\n",
    "t.dt.time\n",
    "t.dt.year\n",
    "t.dt.month\n",
    "t.dt.day\n",
    "t.dt.hour\n",
    "t.dt.minute\n",
    "t.dt.second\n",
    "t.dt.week\n",
    "t.dt.weekofyear\n",
    "t.dt.dayofweek\n",
    "\n",
    "t.dt.month_name()\n",
    "t.dt.day_name()\n",
    "\n",
    "t.dt.days"
   ]
  },
  {
   "cell_type": "code",
   "execution_count": null,
   "metadata": {},
   "outputs": [
    {
     "ename": "NameError",
     "evalue": "name 'df' is not defined",
     "output_type": "error",
     "traceback": [
      "\u001b[0;31m---------------------------------------------------------------------------\u001b[0m\n",
      "\u001b[0;31mNameError\u001b[0m                                 Traceback (most recent call last)\n",
      "\u001b[0;32m/var/folders/c2/yj8ksjmn34v5f9csr1s82d8r0000gn/T/ipykernel_1230/1396537375.py\u001b[0m in \u001b[0;36m<module>\u001b[0;34m\u001b[0m\n",
      "\u001b[0;32m----> 1\u001b[0;31m \u001b[0mdf\u001b[0m\u001b[0;34m\u001b[0m\u001b[0;34m\u001b[0m\u001b[0m\n",
      "\u001b[0m\n",
      "\u001b[0;31mNameError\u001b[0m: name 'df' is not defined"
     ]
    }
   ],
   "source": []
  },
  {
   "cell_type": "code",
   "execution_count": null,
   "metadata": {},
   "outputs": [
    {
     "data": {
      "text/plain": [
       "2018-01-01 00:00:00    0\n",
       "2018-01-01 01:00:00    1\n",
       "2018-01-01 02:00:00    2\n",
       "2018-01-01 03:00:00    3\n",
       "2018-01-01 04:00:00    4\n",
       "Freq: H, dtype: int64"
      ]
     },
     "metadata": {},
     "output_type": "display_data"
    },
    {
     "data": {
      "text/plain": [
       "2018-01-01 00:00:00    0.5\n",
       "2018-01-01 02:00:00    2.5\n",
       "2018-01-01 04:00:00    4.0\n",
       "Freq: 2H, dtype: float64"
      ]
     },
     "metadata": {},
     "output_type": "display_data"
    }
   ],
   "source": [
    "idx = pd.date_range(\"2018-01-01\", periods=5, freq='H')\n",
    "ts = pd.Series(range(len(idx)), index=idx)\n",
    "ts\n",
    "ts.resample('2h').mean()\n"
   ]
  },
  {
   "cell_type": "code",
   "execution_count": null,
   "metadata": {},
   "outputs": [
    {
     "data": {
      "text/plain": [
       "'Friday'"
      ]
     },
     "metadata": {},
     "output_type": "display_data"
    },
    {
     "data": {
      "text/plain": [
       "Timestamp('2018-01-06 00:00:00')"
      ]
     },
     "metadata": {},
     "output_type": "display_data"
    },
    {
     "data": {
      "text/plain": [
       "Timestamp('2018-01-08 00:00:00')"
      ]
     },
     "metadata": {},
     "output_type": "display_data"
    }
   ],
   "source": [
    "d = pd.Timestamp('2018-01-05')\n",
    "d.day_name()\n",
    "\n",
    "d + pd.Timedelta('1 day')\n",
    "\n",
    "d + pd.offsets.BDay()"
   ]
  },
  {
   "cell_type": "code",
   "execution_count": null,
   "metadata": {},
   "outputs": [
    {
     "data": {
      "text/plain": [
       "DatetimeIndex(['2018-01-01 00:00:00', '2018-01-01 01:00:00',\n",
       "               '2018-01-01 02:00:00', '2018-01-01 03:00:00',\n",
       "               '2018-01-01 04:00:00'],\n",
       "              dtype='datetime64[ns]', freq='H')"
      ]
     },
     "metadata": {},
     "output_type": "display_data"
    }
   ],
   "source": [
    "# pd.date_range('2018-01-01', periods=1000)\n",
    "\n",
    "idx\n",
    "\n"
   ]
  },
  {
   "cell_type": "code",
   "execution_count": null,
   "metadata": {},
   "outputs": [
    {
     "data": {
      "text/plain": [
       "CategoricalIndex(['Female', 'Male', 'Male', 'Male', 'Female', 'Male', 'Male',\n",
       "                  'Male', 'Male', 'Male',\n",
       "                  ...\n",
       "                  'Male', 'Male', 'Male', 'Male', 'Female', 'Male', 'Female',\n",
       "                  'Male', 'Male', 'Female'],\n",
       "                 categories=['Male', 'Female'], ordered=False, dtype='category', name='sex', length=244)"
      ]
     },
     "metadata": {},
     "output_type": "display_data"
    }
   ],
   "source": [
    "tips = sns.load_dataset('tips')\n",
    "tips = tips.set_index('sex')\n",
    "\n",
    "tips.index\n"
   ]
  },
  {
   "cell_type": "code",
   "execution_count": null,
   "metadata": {},
   "outputs": [
    {
     "data": {
      "text/plain": [
       "'2011_03_15_08_12_33'"
      ]
     },
     "metadata": {},
     "output_type": "display_data"
    }
   ],
   "source": [
    "dt = datetime.datetime(2011,3,15, 8, 12, 33)\n",
    "dt.strftime('%Y_%m_%d_%H_%M_%S')"
   ]
  },
  {
   "cell_type": "code",
   "execution_count": null,
   "metadata": {},
   "outputs": [],
   "source": [
    "tsdf = pd.DataFrame(\n",
    "    np.random.randn(1000, 3),\n",
    "    columns=[\"A\", \"B\", \"C\"],\n",
    "    index=pd.date_range(\"1/1/2000\", periods=1000),\n",
    ")\n",
    "\n",
    "tsdf\n",
    "\n",
    "# extract the date where the maximum value for each column occurred:\n",
    "tsdf.apply(lambda x: x.idxmax())\n",
    "tsdf.apply(pd.Series.interpolate)  # can pass series operations\n"
   ]
  },
  {
   "cell_type": "code",
   "execution_count": null,
   "metadata": {},
   "outputs": [],
   "source": [
    "index = pd.date_range(\"10/1/1999\", periods=1100)\n",
    "ts = pd.Series(np.random.normal(0.5, 2, 1100), index)\n",
    "ts = ts.rolling(window=100, min_periods=100).mean().dropna()\n",
    "transformed = ts.groupby(lambda x: x.year).transform(\n",
    "    lambda x: (x - x.mean()) / x.std()\n",
    ")\n",
    "\n",
    "transformed\n"
   ]
  }
 ],
 "metadata": {
  "interpreter": {
   "hash": "ae74f9feb07f97b665e59d852dca9947bf3c6be9bdf551f43d711a8fd00af3ab"
  },
  "kernelspec": {
   "display_name": "Python 3.9.7 ('data_science')",
   "language": "python",
   "name": "python3"
  },
  "language_info": {
   "codemirror_mode": {
    "name": "ipython",
    "version": 3
   },
   "file_extension": ".py",
   "mimetype": "text/x-python",
   "name": "python",
   "nbconvert_exporter": "python",
   "pygments_lexer": "ipython3",
   "version": "3.10.4"
  },
  "orig_nbformat": 4
 },
 "nbformat": 4,
 "nbformat_minor": 2
}
