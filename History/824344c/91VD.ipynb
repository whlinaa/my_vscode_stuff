{
 "cells": [
  {
   "cell_type": "code",
   "execution_count": 1,
   "metadata": {},
   "outputs": [
    {
     "name": "stdout",
     "output_type": "stream",
     "text": [
      "calling ds_preamble..\n",
      "calling ds_helper...\n"
     ]
    }
   ],
   "source": [
    "from ds_utils.ds_preamble import *\n",
    "from ds_utils.ds_plotting import *\n",
    "from ds_utils.ds_helper import *\n",
    "import datetime\n",
    "import duckdb\n",
    "from glob import glob\n",
    "from pathlib import Path\n",
    "from collections import Counter\n",
    "import sys, subprocess\n",
    "import time\n",
    "import re"
   ]
  },
  {
   "cell_type": "markdown",
   "metadata": {},
   "source": [
    "# pathlib module"
   ]
  },
  {
   "cell_type": "code",
   "execution_count": 2,
   "metadata": {},
   "outputs": [
    {
     "data": {
      "text/plain": [
       "PosixPath('/Users/whlin/Library/CloudStorage/OneDrive-HKUSTConnect/Documents/python/my_notes_py/python_notes')"
      ]
     },
     "execution_count": 2,
     "metadata": {},
     "output_type": "execute_result"
    },
    {
     "data": {
      "text/plain": [
       "PosixPath('/Users/whlin/Library/CloudStorage/OneDrive-HKUSTConnect/Documents/python/my_notes_py/python_notes/testing_code_pathlib')"
      ]
     },
     "execution_count": 2,
     "metadata": {},
     "output_type": "execute_result"
    }
   ],
   "source": [
    "# open a directory for testing purposes\n",
    "Path.cwd()\n",
    "test_path = Path(Path.cwd(), 'testing_code_pathlib') # NOTE: we need to explicitly pass Path.cwd()! Otherwise, the current directory might change later!\n",
    "test_path\n",
    "test_path.mkdir(parents=True, exist_ok=True)"
   ]
  },
  {
   "cell_type": "markdown",
   "metadata": {},
   "source": [
    "## class methods (top-level functions)\n",
    "- not object method!"
   ]
  },
  {
   "cell_type": "code",
   "execution_count": 3,
   "metadata": {},
   "outputs": [
    {
     "data": {
      "text/plain": [
       "PosixPath('/Users/whlin/Library/CloudStorage/OneDrive-HKUSTConnect/Documents/python/my_notes_py/python_notes')"
      ]
     },
     "execution_count": 3,
     "metadata": {},
     "output_type": "execute_result"
    },
    {
     "name": "stdout",
     "output_type": "stream",
     "text": [
      "/Users/whlin/Library/CloudStorage/OneDrive-HKUSTConnect/Documents/python/my_notes_py/python_notes\n"
     ]
    },
    {
     "data": {
      "text/plain": [
       "PosixPath('/Users/whlin')"
      ]
     },
     "execution_count": 3,
     "metadata": {},
     "output_type": "execute_result"
    }
   ],
   "source": [
    "Path.cwd() # os.get_cwd\n",
    "!pwd\n",
    "Path.home()\n",
    "\n",
    "# os.chdir(str(Path.home() / 'Downloads')) # if want to change to other directories, we still need to use `os.chdir`!\n",
    "# os.chdir(str(Path('~/Downloads').expanduser())) # NOTE: we have to expand `~`! Also, `str` isn't necessary!\n",
    "# os.chdir(Path.home()) # can directly give Path object\n",
    "# os.chdir(Path('~/Downloads').expanduser()) # can directly give Path object\n",
    "\n"
   ]
  },
  {
   "cell_type": "markdown",
   "metadata": {},
   "source": [
    "## create a path object directly from string"
   ]
  },
  {
   "cell_type": "code",
   "execution_count": 4,
   "metadata": {},
   "outputs": [
    {
     "data": {
      "text/plain": [
       "PosixPath('~/Downloads/Hello/World')"
      ]
     },
     "execution_count": 4,
     "metadata": {},
     "output_type": "execute_result"
    },
    {
     "data": {
      "text/plain": [
       "PosixPath('/Users/whlin/Downloads/Hello/World')"
      ]
     },
     "execution_count": 4,
     "metadata": {},
     "output_type": "execute_result"
    },
    {
     "data": {
      "text/plain": [
       "PosixPath('/Users/whlin/Downloads/Hello/World')"
      ]
     },
     "execution_count": 4,
     "metadata": {},
     "output_type": "execute_result"
    },
    {
     "data": {
      "text/plain": [
       "PosixPath('~/Downloads/hello/test.txt')"
      ]
     },
     "execution_count": 4,
     "metadata": {},
     "output_type": "execute_result"
    }
   ],
   "source": [
    "# NOTE: even in Windows, we can still use `/` as path separator. The forward slash operator is used independently of the actual path separator on the platform\n",
    "\n",
    "# M1\n",
    "Path(\"~/Downloads/Hello/World\")\n",
    "# M2\n",
    "Path.home() / 'Downloads' / 'Hello' / 'World' # `/` has been overloaded \n",
    "# M3\n",
    "Path.home().joinpath('Downloads','Hello', 'World')\n",
    "# M4: join two path as well. BEST method, since M1 sometimes can't be used, because the components may be variables \n",
    "Path(\"~/Downloads\", \"hello\", 'test.txt')"
   ]
  },
  {
   "cell_type": "markdown",
   "metadata": {},
   "source": [
    "## open files with `open` method instead of `open` function"
   ]
  },
  {
   "cell_type": "code",
   "execution_count": 5,
   "metadata": {},
   "outputs": [
    {
     "data": {
      "text/plain": [
       "PosixPath('/Users/whlin/Library/CloudStorage/OneDrive-HKUSTConnect/Documents/python/my_notes_py/python_notes/testing_code_pathlib/testing.txt')"
      ]
     },
     "execution_count": 5,
     "metadata": {},
     "output_type": "execute_result"
    },
    {
     "name": "stdout",
     "output_type": "stream",
     "text": [
      "overwritting...\n"
     ]
    }
   ],
   "source": [
    "# Path class has an `open`` method, which is the same as the built-in open function!\n",
    "\n",
    "# path = Path(\"~/testing.txt\").expanduser()\n",
    "path = Path(test_path, 'testing.txt')\n",
    "path\n",
    "if not path.exists(): # if file not already exists\n",
    "    path.write_text('hello\\nworld')\n",
    "\n",
    "with path.open('r') as f: # same as with open(\"testing.txt\", r) as f:\n",
    "    for line in f:\n",
    "        print(line)"
   ]
  },
  {
   "cell_type": "markdown",
   "metadata": {},
   "source": [
    "## access file content without `open`, by `{read, write}_text`"
   ]
  },
  {
   "cell_type": "code",
   "execution_count": 6,
   "metadata": {},
   "outputs": [
    {
     "data": {
      "text/plain": [
       "'overwritting...'"
      ]
     },
     "execution_count": 6,
     "metadata": {},
     "output_type": "execute_result"
    },
    {
     "data": {
      "text/plain": [
       "15"
      ]
     },
     "execution_count": 6,
     "metadata": {},
     "output_type": "execute_result"
    }
   ],
   "source": [
    "# return as a string\n",
    "Path(path).read_text() # get all the text inside. Same as `f.read()`\n",
    "Path(path).write_text(\"overwritting...\") # this will erase the stuff in the original file... Same as `f.write`"
   ]
  },
  {
   "cell_type": "markdown",
   "metadata": {},
   "source": [
    "## Path object attributes and methods"
   ]
  },
  {
   "cell_type": "code",
   "execution_count": 7,
   "metadata": {},
   "outputs": [
    {
     "name": "stdout",
     "output_type": "stream",
     "text": [
      "Path object attributes...\n",
      "====for path ~/Downloads/Hello/world/my_test.txt====\n",
      "path = PosixPath('~/Downloads/Hello/world/my_test.txt')\n",
      "path.name = 'my_test.txt'\n",
      "path.parent = PosixPath('~/Downloads/Hello/world')\n",
      "path.parent.parent = PosixPath('~/Downloads/Hello')\n",
      "path.stem = 'my_test'\n",
      "path.suffix = '.txt'\n",
      "path.anchor = ''\n",
      "path.root = ''\n",
      "path.parent / ('world' + path.suffix)  = PosixPath('~/Downloads/Hello/world/world.txt')\n",
      "====end====\n",
      "====for path ~/my/dir====\n",
      "path = PosixPath('~/my/dir')\n",
      "path.name = 'dir'\n",
      "path.parent = PosixPath('~/my')\n",
      "path.parent.parent = PosixPath('~')\n",
      "path.stem = 'dir'\n",
      "path.suffix = ''\n",
      "path.anchor = ''\n",
      "path.root = ''\n",
      "path.parent / ('world' + path.suffix)  = PosixPath('~/my/world')\n",
      "====end====\n",
      "\n",
      "\n",
      "Path object methods...\n",
      "====for path ~/Downloads/Hello/World/good.txt====\n",
      "for path ~/Downloads/Hello/World/good.txt:\n",
      "p.cwd() / 'textfiles' = PosixPath('/Users/whlin/Library/CloudStorage/OneDrive-HKUSTConnect/Documents/python/my_notes_py/python_notes/textfiles')\n",
      "p.home() = PosixPath('/Users/whlin')\n",
      "p.cwd().exists() = True\n",
      "p.exists() = False\n",
      "p.is_dir() = False\n",
      "p.is_file() = False\n",
      "p.is_absolute() = False\n",
      "p.with_name('abc.png')  = PosixPath('~/Downloads/Hello/World/abc.png')\n",
      "p.with_stem('abc') = PosixPath('~/Downloads/Hello/World/abc.txt')\n",
      "p.with_suffix('.png') = PosixPath('~/Downloads/Hello/World/good.png')\n",
      "====end====\n",
      "====for path ~/Downloads/Hello/World/good.txt====\n",
      "for path /Users/whlin/Library/CloudStorage/OneDrive-HKUSTConnect/Documents/python/my_notes_py/python_notes:\n",
      "p.cwd() / 'textfiles' = PosixPath('/Users/whlin/Library/CloudStorage/OneDrive-HKUSTConnect/Documents/python/my_notes_py/python_notes/textfiles')\n",
      "p.home() = PosixPath('/Users/whlin')\n",
      "p.cwd().exists() = True\n",
      "p.exists() = True\n",
      "p.is_dir() = True\n",
      "p.is_file() = False\n",
      "p.is_absolute() = True\n",
      "p.with_name('abc.png')  = PosixPath('/Users/whlin/Library/CloudStorage/OneDrive-HKUSTConnect/Documents/python/my_notes_py/abc.png')\n",
      "p.with_stem('abc') = PosixPath('/Users/whlin/Library/CloudStorage/OneDrive-HKUSTConnect/Documents/python/my_notes_py/abc')\n",
      "p.with_suffix('.png') = PosixPath('/Users/whlin/Library/CloudStorage/OneDrive-HKUSTConnect/Documents/python/my_notes_py/python_notes.png')\n",
      "====end====\n"
     ]
    }
   ],
   "source": [
    "# Note that .parent returns a new Path object, whereas the other properties return strings. This means for instance that .parent can be chained as in the last example or even combined with / to create completely new paths:\n",
    "# path = Path(\"~/Downloads/Hello/world/my_test.txt\")\n",
    "\n",
    "print(\"Path object attributes...\")\n",
    "for path in [Path(\"~/Downloads/Hello/world/my_test.txt\"), Path('~/my/dir')]:\n",
    "    print(f'====for path {path}====')\n",
    "    print(f\"{path = }\")\n",
    "    print(f\"{path.name = }\")\n",
    "    print(f\"{path.parent = }\")\n",
    "    print(f\"{path.parent.parent = }\")\n",
    "    print(f\"{path.stem = }\")\n",
    "    print(f\"{path.suffix = }\")\n",
    "    print(f\"{path.anchor = }\")\n",
    "    print(f\"{path.root = }\")\n",
    "    print(f\"{path.parent / ('world' + path.suffix)  = }\")\n",
    "    # change to another file \n",
    "    print('====end====')\n",
    "\n",
    "print(\"\\n\\nPath object methods...\")\n",
    "# methods of Path object \n",
    "path = Path(\"~/Downloads/Hello/World/good.txt\")\n",
    "for p in [path, path.cwd()]:\n",
    "    print(f'====for path {path}====')\n",
    "    print(f'for path {p}:')\n",
    "    print(f\"{p.cwd() / 'textfiles' = }\") # '/' has been overloaded\n",
    "    print(f\"{p.home() = }\") # fall back to `Path.home()`\n",
    "    print(f\"{p.cwd().exists() = }\")\n",
    "    print(f\"{p.exists() = }\")\n",
    "    print(f\"{p.is_dir() = }\")\n",
    "    print(f\"{p.is_file() = }\")\n",
    "    print(f\"{p.is_absolute() = }\")\n",
    "    print(f\"{p.with_name('abc.png')  = }\")\n",
    "    print(f\"{p.with_stem('abc') = }\")\n",
    "    print(f\"{p.with_suffix('.png') = }\")\n",
    "    # p.chmod()\n",
    "    print('====end====')"
   ]
  },
  {
   "cell_type": "markdown",
   "metadata": {},
   "source": [
    "## rename file/directory and create file/directory"
   ]
  },
  {
   "cell_type": "code",
   "execution_count": 12,
   "metadata": {},
   "outputs": [
    {
     "data": {
      "text/plain": [
       "PosixPath('/Users/whlin/Library/CloudStorage/OneDrive-HKUSTConnect/Documents/python/my_notes_py/python_notes')"
      ]
     },
     "execution_count": 12,
     "metadata": {},
     "output_type": "execute_result"
    },
    {
     "data": {
      "text/plain": [
       "12"
      ]
     },
     "execution_count": 12,
     "metadata": {},
     "output_type": "execute_result"
    },
    {
     "data": {
      "text/plain": [
       "PosixPath('testxx.txt')"
      ]
     },
     "execution_count": 12,
     "metadata": {},
     "output_type": "execute_result"
    }
   ],
   "source": [
    "Path.cwd()\n",
    "# ------------------------------- create/rename files ------------------------------- #\n",
    "Path(\"testing.txt\").write_text(\"hello world!\") # make a new file first so that we can rename it\n",
    "# Path(\"testing.txt\").with_stem(\"test\") # get a Path object withe a name name. Will not do rename\n",
    "\n",
    "if not Path(\"test.txt\").exists: # to avoid replacing an existing file \n",
    "    Path(\"testing.txt\").replace(\"test.txt\") # get a Path object withe a name. Will do rename. NOTE: if there exists a file with the same replaced name, then the old file will be removed as well! Be extra careful about it!\n",
    "\n",
    "# usually, we just want to change the name of a file. In this case, use with_stem, which will return a Path with the same directory as the original\n",
    "path = Path(\"testing.txt\")\n",
    "path.replace(path.with_stem(\"testxx\"))\n",
    "# ---------------------------------------------------------------------------- #\n",
    "\n",
    "\n",
    "# -------------------------- create/rename directory ------------------------- #\n",
    "# create directory\n",
    "path = Path('my/path/to/dir')\n",
    "Path(path).mkdir(mode=511, parents=True, exist_ok=True) # create a new directory \n",
    "\n",
    "# rename directory\n",
    "# change the name of the directory\n",
    "# M1: bad\n",
    "# path.rename(\"./my/path/to/NEW_dir\") \n",
    "# M2: good\n",
    "path = path.rename(path.with_stem('NEW_dir'))\n",
    "\n",
    "# this is wrong.. This will remove the given dir, and then create a dir in the home directory \n",
    "# path.rename(\"NEW_dir\") "
   ]
  },
  {
   "cell_type": "markdown",
   "metadata": {},
   "source": [
    "## glob and rglob (recursive glob), iterdir for file iteration\n",
    "- optionally, can use `path.iterdir()`. \n",
    "    - we use `Path.iterdir` instead of `os.listdir` in `Pathlib`!\n",
    "    - Even better, use `Path.glob('*')`"
   ]
  },
  {
   "cell_type": "code",
   "execution_count": 31,
   "metadata": {},
   "outputs": [
    {
     "data": {
      "text/plain": [
       "[PosixPath('file_manage.ipynb'), PosixPath('py_topics.ipynb')]"
      ]
     },
     "execution_count": 31,
     "metadata": {},
     "output_type": "execute_result"
    },
    {
     "data": {
      "text/plain": [
       "[]"
      ]
     },
     "execution_count": 31,
     "metadata": {},
     "output_type": "execute_result"
    },
    {
     "name": "stdout",
     "output_type": "stream",
     "text": [
      "file_manage.ipynb\n",
      "py_topics.ipynb\n",
      ".Rhistory .eclipse .config Music .julia .condarc out.txt play_.txt .DS_Store .CFUserTextEncoding my_out.txt bin less .bashrc .local .psql_history Pictures playing.txt testing.txt test_rglob .zprofile DM_notes.pdf .zsh_history .ipython Desktop Library .matplotlib .lesshst Parallels miniforge3 seaborn-data .emacs.d scikit_learn_data .cups .bash_sessions Public NEW_dir testttt.txt play.txt .vscode-R .RData OneDrive - HKUST Connect my Applications (Parallels) Movies d~ .emacs Applications .emacs~ .Rapp.history .Trash test.txt .ipynb_checkpoints .tldrc .jupyter .keras hello .vscode-insiders .pydataset Documents sys_info_page.html error.txt .vscode .bash_profile testxx.txt Downloads .python_history .gitconfig d .bash_history .viminfo .zsh_sessions My Drive .conda ls-output.txt "
     ]
    }
   ],
   "source": [
    "sorted(Path().rglob('*.ipynb')) # search current directory recursively for *.py files\n",
    "sorted(Path().glob('*.py')) # search current directory for *.py files\n",
    "for x in Path().expanduser().glob('*.ipynb'): # very often, we can't use `~` when we iterate a directory...\n",
    "    print(x)\n",
    "\n",
    "path = Path.home()\n",
    "for f in path.iterdir(): # same as path.glob(*)\n",
    "    print(f.name, end=' ')"
   ]
  },
  {
   "cell_type": "markdown",
   "metadata": {},
   "source": [
    "## self-defined functions"
   ]
  },
  {
   "cell_type": "code",
   "execution_count": 39,
   "metadata": {},
   "outputs": [
    {
     "data": {
      "text/plain": [
       "            60\n",
       ".txt        11\n",
       ".pdf         1\n",
       ".d           1\n",
       ".history     1\n",
       ".html        1\n",
       "dtype: int64"
      ]
     },
     "execution_count": 39,
     "metadata": {},
     "output_type": "execute_result"
    }
   ],
   "source": [
    "def count_suffix(path):\n",
    "    # count the extension of the files in a directory\n",
    "    return pd.Series(\n",
    "        Counter(p.suffix for p in Path(path).expanduser().glob('*'))\n",
    "        ).sort_values(ascending=False)\n",
    "    \n",
    "# path = '~/Downloads'\n",
    "# path = Path.cwd()\n",
    "path = Path.home() / 'Downloads'\n",
    "# count_suffix(path)\n",
    "count_suffix(Path.home())"
   ]
  },
  {
   "cell_type": "markdown",
   "metadata": {},
   "source": [
    "### create dir, directory tree functions"
   ]
  },
  {
   "cell_type": "code",
   "execution_count": 51,
   "metadata": {},
   "outputs": [
    {
     "name": "stdout",
     "output_type": "stream",
     "text": [
      "- /Users/whlin/Library/CloudStorage/OneDrive-HKUSTConnect/Documents/python/my_notes_py/python_notes/testing_code_pathlib/new_dir\n",
      "    - dir_1\n",
      "        - doc_1.txt\n",
      "        - doc_2.txt\n",
      "        - doc_3.txt\n",
      "        - doc_4.txt\n",
      "    - dir_2\n",
      "        - doc_1.txt\n",
      "        - doc_2.txt\n",
      "        - doc_3.txt\n",
      "        - doc_4.txt\n",
      "    - dir_3\n",
      "        - doc_1.txt\n",
      "        - doc_2.txt\n",
      "        - doc_3.txt\n",
      "        - doc_4.txt\n",
      "/Users/whlin/Library/CloudStorage/OneDrive-HKUSTConnect/Documents/python/my_notes_py/python_notes/testing_code_pathlib/new_dir/dir_1/doc_1.txt\n",
      "/Users/whlin/Library/CloudStorage/OneDrive-HKUSTConnect/Documents/python/my_notes_py/python_notes/testing_code_pathlib/new_dir/dir_1/doc_2.txt\n",
      "/Users/whlin/Library/CloudStorage/OneDrive-HKUSTConnect/Documents/python/my_notes_py/python_notes/testing_code_pathlib/new_dir/dir_1/doc_3.txt\n",
      "/Users/whlin/Library/CloudStorage/OneDrive-HKUSTConnect/Documents/python/my_notes_py/python_notes/testing_code_pathlib/new_dir/dir_1/doc_4.txt\n",
      "/Users/whlin/Library/CloudStorage/OneDrive-HKUSTConnect/Documents/python/my_notes_py/python_notes/testing_code_pathlib/new_dir/dir_2/doc_1.txt\n",
      "/Users/whlin/Library/CloudStorage/OneDrive-HKUSTConnect/Documents/python/my_notes_py/python_notes/testing_code_pathlib/new_dir/dir_2/doc_2.txt\n",
      "/Users/whlin/Library/CloudStorage/OneDrive-HKUSTConnect/Documents/python/my_notes_py/python_notes/testing_code_pathlib/new_dir/dir_2/doc_3.txt\n",
      "/Users/whlin/Library/CloudStorage/OneDrive-HKUSTConnect/Documents/python/my_notes_py/python_notes/testing_code_pathlib/new_dir/dir_2/doc_4.txt\n",
      "/Users/whlin/Library/CloudStorage/OneDrive-HKUSTConnect/Documents/python/my_notes_py/python_notes/testing_code_pathlib/new_dir/dir_3/doc_1.txt\n",
      "/Users/whlin/Library/CloudStorage/OneDrive-HKUSTConnect/Documents/python/my_notes_py/python_notes/testing_code_pathlib/new_dir/dir_3/doc_2.txt\n",
      "/Users/whlin/Library/CloudStorage/OneDrive-HKUSTConnect/Documents/python/my_notes_py/python_notes/testing_code_pathlib/new_dir/dir_3/doc_3.txt\n",
      "/Users/whlin/Library/CloudStorage/OneDrive-HKUSTConnect/Documents/python/my_notes_py/python_notes/testing_code_pathlib/new_dir/dir_3/doc_4.txt\n"
     ]
    }
   ],
   "source": [
    "def create_dir(path, n_dir=3, n_doc=4):\n",
    "    # in the given directory `path`, create dir_{1,2,..n_dir}, and inside each dir_*, create doc_{1,2,..,n_doc}.txt\n",
    "    path = path.expanduser()\n",
    "    for i in range(1, n_dir+1):\n",
    "        # cur_path = Path(path).expanduser().joinpath(f'dir_{i}')\n",
    "        cur_path = Path(path, f'dir_{i}')\n",
    "        # print(cur_path)\n",
    "\n",
    "        cur_path.mkdir(parents=True, exist_ok=True)\n",
    "        \n",
    "        for j in range(1, n_doc+1):\n",
    "            Path(cur_path, f'doc_{j}.txt').write_text(f\"doc_{j}\")\n",
    "\n",
    "def dir_tree(path):\n",
    "    path = Path(path).expanduser()\n",
    "    print(f'- {path}')\n",
    "    for p in sorted(path.rglob('*')):\n",
    "        depth = len(p.relative_to(path).parts) \n",
    "        spacer = '    '*depth\n",
    "        print(f'{spacer}- {p.name}')\n",
    "        # print(p)\n",
    "\n",
    "def dir_walk(path):\n",
    "    # print all files in a directory (including subdirectories inside)\n",
    "    # M1: recursion\n",
    "    path = Path(path).expanduser()\n",
    "    for file in sorted(path.iterdir()):\n",
    "        if file.is_file():\n",
    "            print(file)\n",
    "        else:\n",
    "            dir_walk(file)\n",
    "    # M2: rglob\n",
    "    # for file in sorted(path.rglob('*')):\n",
    "    #     if file.is_file():\n",
    "    #         print(file)\n",
    "\n",
    "def unique_path(directory, name_pattern):\n",
    "    counter = 0\n",
    "    while True:\n",
    "        counter += 1\n",
    "        path = Path(directory, name_pattern.format(counter))\n",
    "        if not path.exists():\n",
    "            return path\n",
    "\n",
    "path = test_path / \"new_dir\"\n",
    "create_dir(path)\n",
    "dir_tree(path)\n",
    "dir_walk(path)\n",
    "# path = unique_path(path, 'test{:03d}.txt')\n",
    "# path\n",
    "# unique_path(path)\n",
    "\n",
    "# # path = Path.home()/'playing'\n",
    "# # path = '~/hello/world'\n",
    "# path = '~/Desktop/hello/world'\n",
    "# create_dir(path)\n",
    "\n",
    "# path = \"~/Desktop/hello\"\n",
    "# dir_tree(path)\n",
    "# path = unique_path('~/Desktop/hello', 'test{:03d}.txt')\n",
    "\n",
    "# path\n"
   ]
  },
  {
   "cell_type": "markdown",
   "metadata": {},
   "source": [
    "### function to add prefix/suffix to the files of a directory"
   ]
  },
  {
   "cell_type": "code",
   "execution_count": 68,
   "metadata": {},
   "outputs": [],
   "source": [
    "def add_prefix_suffix(path, ext='', prefix='', suffix=''):\n",
    "    # ext: filter by extension \n",
    "    # use case: add timestamp to each file\n",
    "    pattern = f'*.{ext}' if ext else '*'\n",
    "\n",
    "    for file in sorted(Path(path).expanduser().glob(pattern)):\n",
    "        # print(file)\n",
    "        new_name = '_'.join(x for x in [prefix,file.stem,suffix] if x)\n",
    "        # print(file.with_stem(new_name))\n",
    "        file.rename(file.with_stem(new_name))\n",
    "\n",
    "# old code \n",
    "# def change_file_names(path, ext='png', prefix=None, suffix=None):\n",
    "#     for file in os.listdir(path):\n",
    "#         # print(type(file))\n",
    "#         if file.endswith(ext):\n",
    "#             new_name = file\n",
    "#             if prefix:\n",
    "#                 # new_name = prefix + '_' + new_name\n",
    "#                 new_name = f'{prefix}_{new_name}'\n",
    "#             if suffix:\n",
    "#                 # new_name = new_name + '_' + suffix\n",
    "#                 new_name = f'{new_name}_{suffix}'\n",
    "#             print(new_name)\n",
    "#             os.rename(os.path.join(path, file), os.path.join(path, new_name))\n",
    "\n",
    "\n",
    "# path = '~/Desktop/hello/world/dir_1'\n",
    "# path = test_path / \"new_dir\"\n",
    "create_dir(path)\n",
    "add_prefix_suffix(path/'dir_1', prefix='pref', suffix='suff')\n"
   ]
  },
  {
   "cell_type": "code",
   "execution_count": 70,
   "metadata": {},
   "outputs": [
    {
     "name": "stdout",
     "output_type": "stream",
     "text": [
      "/Users/whlin/Desktop/hello/world/dir_1/pref_doc_1_3.txt /Users/whlin/Desktop/hello/world/dir_1/pref_doc_2_3.txt /Users/whlin/Desktop/hello/world/dir_1/pref_doc_3_3.txt /Users/whlin/Desktop/hello/world/dir_1/pref_doc_4_3.txt\n"
     ]
    }
   ],
   "source": [
    "def print_file(path, pattern='*' ,start=None, end=None, strip=False, output_path=None):\n",
    "    res = []\n",
    "    for file in sorted(Path(path).expanduser().glob(pattern)):\n",
    "        if strip: \n",
    "            res.append(str(file)[start:end].strip()) \n",
    "        else: \n",
    "            res.append(str(file)[start:end]) \n",
    "    if output_path:\n",
    "        Path(output_path).expanduser().write_text('\\n'.join(res))\n",
    "    print(*res)\n",
    "    return res\n",
    "\n",
    "path = '~/Desktop/hello/world/dir_1'\n",
    "# res = print_file(path, start=-15, end=None)\n",
    "res = print_file(path, strip=True)"
   ]
  },
  {
   "cell_type": "markdown",
   "metadata": {},
   "source": [
    "### open files programmatically. This is useful for online grading pdf files"
   ]
  },
  {
   "cell_type": "code",
   "execution_count": 71,
   "metadata": {},
   "outputs": [
    {
     "name": "stdout",
     "output_type": "stream",
     "text": [
      "number of documents in the directory = 100\n"
     ]
    }
   ],
   "source": [
    "def open_file(filename):\n",
    "    # open a file using different methods, depending on the os type\n",
    "    if sys.platform == \"win32\":\n",
    "        os.startfile(filename)\n",
    "    else:\n",
    "        opener = \"open\" if sys.platform == \"darwin\" else \"xdg-open\"\n",
    "        subprocess.call([opener, filename])\n",
    "\n",
    "def open_doc(path, pattern='*', start=None, end=None, recursive=True):\n",
    "    res = []\n",
    "    for file in eval(f\"sorted(Path(path).expanduser().{'r' if recursive else ''}glob(pattern))\"):\n",
    "        if file.is_file():\n",
    "            res.append(file)\n",
    "    print(f\"number of documents in the directory = {len(res)}\")\n",
    "\n",
    "    for i in range(start-1, end):\n",
    "        open_file(str(res[i]))\n",
    "        time.sleep(0.8)\n",
    "\n",
    "# path = '~/Desktop/hello/world/dir_1'\n",
    "path = '/Users/whlin/Library/CloudStorage/OneDrive-HKUSTConnect/Academic/Notes of HKCC/HKCC Teaching/SEHH2239/exam things/201'\n",
    "\n",
    "start=int(input(\"enter start index(start from 1): \"))\n",
    "end=int(input(\"enter end index: \"))\n",
    "\n",
    "open_doc(path, pattern='*.pdf', start=start, end=end, recursive=True)\n",
    "\n"
   ]
  },
  {
   "cell_type": "code",
   "execution_count": 75,
   "metadata": {},
   "outputs": [],
   "source": [
    "def reverse_lines(file, output_name):\n",
    "    # reverse the lines of the given file, so that the last line becomes the first line\n",
    "    file = Path(file).expanduser()\n",
    "    text = file.read_text() # str type\n",
    "    # print(text)\n",
    "    res = '\\n'.join(text.strip().split('\\n')[::-1])\n",
    "    # print(res)\n",
    "    file.with_name(output_name).write_text(res)\n",
    "\n",
    "# path = '/Users/whlin/Library/CloudStorage/OneDrive-HKUSTConnect/Documents/python/my_notes_py/ad-hoc code/file_management/reverse_lines/chinese_text.txt'\n",
    "path = '../../data/chinese_text.txt'\n",
    "reverse_lines(path, output_name='chinese_text_reversed.txt')"
   ]
  },
  {
   "cell_type": "code",
   "execution_count": 78,
   "metadata": {},
   "outputs": [
    {
     "name": "stdout",
     "output_type": "stream",
     "text": [
      "../../data/HKCC/SEHH2042/SEHH2042_work/1_19011630A.txt\n",
      "../../data/HKCC/SEHH2042/SEHH2042_work/1_19186232A.txt\n"
     ]
    }
   ],
   "source": [
    "def add_id(path, works, pattern):\n",
    "    \"\"\" Append each document with an given gid.\n",
    "        EX: 1234556A_ASM => 1_1234556A_ASM if the document has gid 1 \n",
    "        When grading group project, we want to append the group id of each student to their submitted p2p files\n",
    "        - files: id: gip mapping\n",
    "            19186232A\t1\n",
    "            19011630A\t1\n",
    "            20190501A\t1\n",
    "            20018393A\t1\n",
    "            20208582A\t1\n",
    "            20010776A\t2\n",
    "            20093215A\t2\n",
    "            20009962A\t2\n",
    "            20165160A\t2\n",
    "            20205402A\t2\n",
    "            20013324A\t2\n",
    "            20077332A\t3\n",
    "            20080999A\t3\n",
    "        - directory containing students' work:\n",
    "            19186232A_my_work.txt\n",
    "            19011630A_abc.txt\n",
    "    \"\"\"\n",
    "    path = Path(path).expanduser()\n",
    "\n",
    "    r = re.compile('([1-2][0-9]{7}A)')\n",
    "\n",
    "    # M1: use dict to get sid:gp pairs\n",
    "    # d = {}\n",
    "    #     for line in f:\n",
    "    #         sid, gp = line.strip().split('\\t')\n",
    "    #         d[sid] = gp\n",
    "\n",
    "    # M2: use Series with sid as index \n",
    "    d = pd.read_csv(\n",
    "                    path,\n",
    "                    sep='\\t',\n",
    "                    header=None,\n",
    "                    names=['sid',\n",
    "                    'gp_id'],\n",
    "                    index_col='sid'\n",
    "                ).squeeze() # .iloc[:,0]\n",
    "    for f in sorted(Path(works).expanduser().glob(pattern)):\n",
    "        # extracted_id = f.stem[:9].upper()\n",
    "        extracted_id = r.findall(f.stem)[0].upper() if r.findall(f.stem) else ''\n",
    "        # print(extracted_id)\n",
    "        if extracted_id in d.index:\n",
    "            # M1: just add extracted d[sid] (the gp id) as prefix\n",
    "            # print(f.with_stem(f\"{d[extracted_id]}_{f.stem}\"))\n",
    "            # f.rename(f.with_stem(f\"{d[extracted_id]}_{f.stem}\"))\n",
    "\n",
    "            # M2: just add extracted d[sid] (the gp id) as prefix, and rename the original file to have the sid only\n",
    "            print(f.with_stem(f\"{d[extracted_id]}_{extracted_id}\"))\n",
    "            # f.rename(f.with_stem(f\"{d[extracted_id]}_{f.stem}\"))\n",
    "\n",
    "# path = '/Users/whlin/Library/CloudStorage/OneDrive-HKUSTConnect/Documents/python/my_notes_py/ad-hoc code/file_management/SEHH2042_addGPID/SEHH2042_stuID+gp.txt'\n",
    "# works = '/Users/whlin/Library/CloudStorage/OneDrive-HKUSTConnect/Documents/python/my_notes_py/ad-hoc code/file_management/SEHH2042_work'\n",
    "\n",
    "path ='../../data/HKCC/SEHH2042/SEHH2042_stuID+gp.txt'\n",
    "works ='../../data/HKCC/SEHH2042/SEHH2042_work' # directory\n",
    "\n",
    "add_id(path, works=works, pattern='*.txt')"
   ]
  },
  {
   "cell_type": "code",
   "execution_count": 88,
   "metadata": {},
   "outputs": [
    {
     "data": {
      "text/plain": [
       "[<matplotlib.lines.Line2D at 0x152f66020>,\n",
       " <matplotlib.lines.Line2D at 0x152f662f0>]"
      ]
     },
     "execution_count": 88,
     "metadata": {},
     "output_type": "execute_result"
    },
    {
     "data": {
      "text/plain": [
       "['Male', 'Female']"
      ]
     },
     "execution_count": 88,
     "metadata": {},
     "output_type": "execute_result"
    },
    {
     "data": {
      "image/png": "[encoded data removed]",
      "text/plain": [
       "<Figure size 432x288 with 1 Axes>"
      ]
     },
     "metadata": {},
     "output_type": "display_data"
    }
   ],
   "source": [
    "import seaborn as sns\n",
    "tips = sns.load_dataset('tips')\n",
    "\n",
    "ax = sns.lineplot(\n",
    "                data=tips,\n",
    "                x='size',\n",
    "                y='tip',\n",
    "                hue='sex',\n",
    "                ci=None,\n",
    "                style='sex',\n",
    "                markers=True,\n",
    "                fillstyle='none',\n",
    "                markeredgecolor=None,\n",
    "                markersize=10,\n",
    "            )\n",
    "\n",
    "handler, label = ax.get_legend_handles_labels();\n",
    "handler\n",
    "label\n",
    "# handler[0].set_fillstyle('none');\n",
    "# handler[1].set_fillstyle('none');\n",
    "# ax.legend(handler, label)"
   ]
  },
  {
   "cell_type": "code",
   "execution_count": 779,
   "metadata": {},
   "outputs": [],
   "source": [
    "def rm_tree(path):\n",
    "    # recursively remove the directory `path`\n",
    "    # IMPORTANT: very dangerous!!!\n",
    "    path = Path(path).expanduser()\n",
    "    for f in path.rglob('*'):\n",
    "        if f.is_file():\n",
    "            f.unlink()\n",
    "        elif f.is_dir():\n",
    "            rm_tree(f)\n",
    "    path.rmdir()\n",
    "\n",
    "def rm_files(path):\n",
    "    path = Path(path).expanduser()\n",
    "    for f in path.rglob('*'):\n",
    "        if f.is_file():\n",
    "            f.unlink()\n",
    "import shutil\n",
    "path = '~/Desktop/song_list_exercise'\n",
    "# rm_tree(path)\n",
    "# rm_files(path)\n",
    "shutil.rmtree(Path(path).expanduser())"
   ]
  },
  {
   "cell_type": "code",
   "execution_count": 782,
   "metadata": {},
   "outputs": [],
   "source": [
    "def create_song_list(path):\n",
    "    # create song list in format\n",
    "    # gp1_1 - gp2_1 - #1.txt\n",
    "    path = Path(path).expanduser()\n",
    "    path.mkdir(parents=True, exist_ok=True)\n",
    "    for i in range(1, 11):\n",
    "        path.joinpath(f\"gp1_{i} - gp2_{i} - #{i}.txt\").write_text('')\n",
    "\n",
    "def rename_song_list(path, pattern='*'):\n",
    "    # rename song file to this format\n",
    "    # 001-gp1_1-gp2_1.txt\n",
    "    path = Path(path).expanduser()\n",
    "    for f in path.glob(pattern):\n",
    "        gp1, gp2, num = [x.strip() for x in f.stem.split('-')]\n",
    "        num = num[1:].zfill(3)\n",
    "        new_stem = f\"{num}-{gp1}-{gp2}\"\n",
    "        # print(new_stem)\n",
    "        # print(f.with_stem(new_stem))\n",
    "        f.rename(f.with_stem(new_stem))\n",
    "\n",
    "path = '~/Desktop/song_list_exercise'\n",
    "create_song_list(path)\n",
    "# rename_song_list(path, pattern='[!.]*')\n"
   ]
  },
  {
   "cell_type": "code",
   "execution_count": null,
   "metadata": {},
   "outputs": [],
   "source": [
    "def write_file_plus(path):\n",
    "    "
   ]
  },
  {
   "cell_type": "code",
   "execution_count": 15,
   "metadata": {},
   "outputs": [
    {
     "ename": "FileNotFoundError",
     "evalue": "[Errno 2] No such file or directory: 'new/myout.txt'",
     "output_type": "error",
     "traceback": [
      "\u001b[0;31m---------------------------------------------------------------------------\u001b[0m",
      "\u001b[0;31mFileNotFoundError\u001b[0m                         Traceback (most recent call last)",
      "\u001b[0;32m/var/folders/c2/yj8ksjmn34v5f9csr1s82d8r0000gn/T/ipykernel_48404/2164722371.py\u001b[0m in \u001b[0;36m<module>\u001b[0;34m\u001b[0m\n\u001b[1;32m      6\u001b[0m \u001b[0;31m#     print(d, file=f)\u001b[0m\u001b[0;34m\u001b[0m\u001b[0;34m\u001b[0m\u001b[0m\n\u001b[1;32m      7\u001b[0m \u001b[0;34m\u001b[0m\u001b[0m\n\u001b[0;32m----> 8\u001b[0;31m \u001b[0mpath\u001b[0m\u001b[0;34m.\u001b[0m\u001b[0mwrite_text\u001b[0m\u001b[0;34m(\u001b[0m\u001b[0mstr\u001b[0m\u001b[0;34m(\u001b[0m\u001b[0md\u001b[0m\u001b[0;34m)\u001b[0m\u001b[0;34m)\u001b[0m\u001b[0;34m\u001b[0m\u001b[0;34m\u001b[0m\u001b[0m\n\u001b[0m\u001b[1;32m      9\u001b[0m \u001b[0;34m\u001b[0m\u001b[0m\n",
      "\u001b[0;32m~/miniforge3/envs/data_science/lib/python3.9/pathlib.py\u001b[0m in \u001b[0;36mwrite_text\u001b[0;34m(self, data, encoding, errors)\u001b[0m\n\u001b[1;32m   1283\u001b[0m             raise TypeError('data must be str, not %s' %\n\u001b[1;32m   1284\u001b[0m                             data.__class__.__name__)\n\u001b[0;32m-> 1285\u001b[0;31m         \u001b[0;32mwith\u001b[0m \u001b[0mself\u001b[0m\u001b[0;34m.\u001b[0m\u001b[0mopen\u001b[0m\u001b[0;34m(\u001b[0m\u001b[0mmode\u001b[0m\u001b[0;34m=\u001b[0m\u001b[0;34m'w'\u001b[0m\u001b[0;34m,\u001b[0m \u001b[0mencoding\u001b[0m\u001b[0;34m=\u001b[0m\u001b[0mencoding\u001b[0m\u001b[0;34m,\u001b[0m \u001b[0merrors\u001b[0m\u001b[0;34m=\u001b[0m\u001b[0merrors\u001b[0m\u001b[0;34m)\u001b[0m \u001b[0;32mas\u001b[0m \u001b[0mf\u001b[0m\u001b[0;34m:\u001b[0m\u001b[0;34m\u001b[0m\u001b[0;34m\u001b[0m\u001b[0m\n\u001b[0m\u001b[1;32m   1286\u001b[0m             \u001b[0;32mreturn\u001b[0m \u001b[0mf\u001b[0m\u001b[0;34m.\u001b[0m\u001b[0mwrite\u001b[0m\u001b[0;34m(\u001b[0m\u001b[0mdata\u001b[0m\u001b[0;34m)\u001b[0m\u001b[0;34m\u001b[0m\u001b[0;34m\u001b[0m\u001b[0m\n\u001b[1;32m   1287\u001b[0m \u001b[0;34m\u001b[0m\u001b[0m\n",
      "\u001b[0;32m~/miniforge3/envs/data_science/lib/python3.9/pathlib.py\u001b[0m in \u001b[0;36mopen\u001b[0;34m(self, mode, buffering, encoding, errors, newline)\u001b[0m\n\u001b[1;32m   1250\u001b[0m         \u001b[0mthe\u001b[0m \u001b[0mbuilt\u001b[0m\u001b[0;34m-\u001b[0m\u001b[0;32min\u001b[0m \u001b[0mopen\u001b[0m\u001b[0;34m(\u001b[0m\u001b[0;34m)\u001b[0m \u001b[0mfunction\u001b[0m \u001b[0mdoes\u001b[0m\u001b[0;34m.\u001b[0m\u001b[0;34m\u001b[0m\u001b[0;34m\u001b[0m\u001b[0m\n\u001b[1;32m   1251\u001b[0m         \"\"\"\n\u001b[0;32m-> 1252\u001b[0;31m         return io.open(self, mode, buffering, encoding, errors, newline,\n\u001b[0m\u001b[1;32m   1253\u001b[0m                        opener=self._opener)\n\u001b[1;32m   1254\u001b[0m \u001b[0;34m\u001b[0m\u001b[0m\n",
      "\u001b[0;32m~/miniforge3/envs/data_science/lib/python3.9/pathlib.py\u001b[0m in \u001b[0;36m_opener\u001b[0;34m(self, name, flags, mode)\u001b[0m\n\u001b[1;32m   1118\u001b[0m     \u001b[0;32mdef\u001b[0m \u001b[0m_opener\u001b[0m\u001b[0;34m(\u001b[0m\u001b[0mself\u001b[0m\u001b[0;34m,\u001b[0m \u001b[0mname\u001b[0m\u001b[0;34m,\u001b[0m \u001b[0mflags\u001b[0m\u001b[0;34m,\u001b[0m \u001b[0mmode\u001b[0m\u001b[0;34m=\u001b[0m\u001b[0;36m0o666\u001b[0m\u001b[0;34m)\u001b[0m\u001b[0;34m:\u001b[0m\u001b[0;34m\u001b[0m\u001b[0;34m\u001b[0m\u001b[0m\n\u001b[1;32m   1119\u001b[0m         \u001b[0;31m# A stub for the opener argument to built-in open()\u001b[0m\u001b[0;34m\u001b[0m\u001b[0;34m\u001b[0m\u001b[0m\n\u001b[0;32m-> 1120\u001b[0;31m         \u001b[0;32mreturn\u001b[0m \u001b[0mself\u001b[0m\u001b[0;34m.\u001b[0m\u001b[0m_accessor\u001b[0m\u001b[0;34m.\u001b[0m\u001b[0mopen\u001b[0m\u001b[0;34m(\u001b[0m\u001b[0mself\u001b[0m\u001b[0;34m,\u001b[0m \u001b[0mflags\u001b[0m\u001b[0;34m,\u001b[0m \u001b[0mmode\u001b[0m\u001b[0;34m)\u001b[0m\u001b[0;34m\u001b[0m\u001b[0;34m\u001b[0m\u001b[0m\n\u001b[0m\u001b[1;32m   1121\u001b[0m \u001b[0;34m\u001b[0m\u001b[0m\n\u001b[1;32m   1122\u001b[0m     \u001b[0;32mdef\u001b[0m \u001b[0m_raw_open\u001b[0m\u001b[0;34m(\u001b[0m\u001b[0mself\u001b[0m\u001b[0;34m,\u001b[0m \u001b[0mflags\u001b[0m\u001b[0;34m,\u001b[0m \u001b[0mmode\u001b[0m\u001b[0;34m=\u001b[0m\u001b[0;36m0o777\u001b[0m\u001b[0;34m)\u001b[0m\u001b[0;34m:\u001b[0m\u001b[0;34m\u001b[0m\u001b[0;34m\u001b[0m\u001b[0m\n",
      "\u001b[0;31mFileNotFoundError\u001b[0m: [Errno 2] No such file or directory: 'new/myout.txt'"
     ]
    }
   ],
   "source": [
    "d = [1,2,3]\n",
    "path = Path('new/myout.txt')\n",
    "# path.parent.mkdir(parents=True, exist_ok=True)\n",
    "# with Path(path).open('w') as f:\n",
    "#     # print(\"hello\")\n",
    "#     print(d, file=f)\n",
    "\n",
    "path.write_text(str(d))\n",
    "\n"
   ]
  }
 ],
 "metadata": {
  "interpreter": {
   "hash": "ae74f9feb07f97b665e59d852dca9947bf3c6be9bdf551f43d711a8fd00af3ab"
  },
  "kernelspec": {
   "display_name": "Python 3.9.7 ('data_science')",
   "language": "python",
   "name": "python3"
  },
  "language_info": {
   "codemirror_mode": {
    "name": "ipython",
    "version": 3
   },
   "file_extension": ".py",
   "mimetype": "text/x-python",
   "name": "python",
   "nbconvert_exporter": "python",
   "pygments_lexer": "ipython3",
   "version": "3.10.4"
  },
  "orig_nbformat": 4
 },
 "nbformat": 4,
 "nbformat_minor": 2
}
