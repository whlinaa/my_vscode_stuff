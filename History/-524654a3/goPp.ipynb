{
 "cells": [
  {
   "cell_type": "code",
   "execution_count": 14,
   "metadata": {},
   "outputs": [],
   "source": [
    "from ds_utils.ds_preamble import *\n",
    "from ds_utils.ds_plotting import *\n",
    "from ds_utils.ds_helper import *\n",
    "import datetime"
   ]
  },
  {
   "cell_type": "markdown",
   "metadata": {},
   "source": [
    "- for isoweekday: mon = 1, Sun = 7\n",
    "- for weekday: mon = 0, Sun = 6\n",
    "\n",
    "- timedelta: difference between two dates or times\n",
    "- date + timedelta => date\n",
    "- datetime + timedelta => datetime\n",
    "- date - date => timedelta\n",
    "- date + date => error\n",
    "- "
   ]
  },
  {
   "cell_type": "code",
   "execution_count": 15,
   "metadata": {},
   "outputs": [
    {
     "name": "stdout",
     "output_type": "stream",
     "text": [
      "d.isoformat() = '2022-02-03'\n",
      "d.year = 2022\n",
      "d.month = 2\n",
      "d.day = 3\n",
      "3\n",
      "4\n",
      "datetime.IsoCalendarDate(year=2022, week=5, weekday=4)\n",
      "Thursday\n"
     ]
    },
    {
     "data": {
      "text/plain": [
       "datetime.date(2022, 5, 3)"
      ]
     },
     "execution_count": 15,
     "metadata": {},
     "output_type": "execute_result"
    },
    {
     "data": {
      "text/plain": [
       "datetime.date(2022, 11, 11)"
      ]
     },
     "execution_count": 15,
     "metadata": {},
     "output_type": "execute_result"
    }
   ],
   "source": [
    "# -------------------------------- date object ------------------------------- #\n",
    "d = datetime.date(2022,2,3)\n",
    "print(f\"{d.isoformat() = }\")\n",
    "print(f\"{d.year = }\")\n",
    "print(f\"{d.month = }\")\n",
    "print(f\"{d.day = }\")\n",
    "\n",
    "print(d.weekday())\n",
    "print(d.isoweekday())\n",
    "print(d.isocalendar())\n",
    "\n",
    "print(d.strftime(\"%A\")) # get day name \n",
    "\n",
    "datetime.date.today()\n",
    "datetime.date.fromisoformat(\"2022-11-11\")"
   ]
  },
  {
   "cell_type": "code",
   "execution_count": 16,
   "metadata": {},
   "outputs": [
    {
     "name": "stdout",
     "output_type": "stream",
     "text": [
      "dt.isoformat() = '2012-02-03T04:05:06.000007'\n",
      "dt.year = 2012\n",
      "dt.month = 2\n",
      "dt.day = 3\n",
      "dt.hour = 4\n",
      "dt.minute = 5\n",
      "dt.second = 6\n",
      "dt.microsecond = 7\n",
      "4\n",
      "5\n",
      "datetime.IsoCalendarDate(year=2012, week=5, weekday=5)\n",
      "Friday\n"
     ]
    },
    {
     "data": {
      "text/plain": [
       "datetime.datetime(2022, 5, 3, 8, 6, 46, 798857)"
      ]
     },
     "execution_count": 16,
     "metadata": {},
     "output_type": "execute_result"
    },
    {
     "data": {
      "text/plain": [
       "datetime.datetime(2022, 11, 11, 0, 0)"
      ]
     },
     "execution_count": 16,
     "metadata": {},
     "output_type": "execute_result"
    }
   ],
   "source": [
    "# -------------------------------- datetime object ------------------------------- #\n",
    "dt = datetime.datetime(2012,2,3,4,5,6,7)\n",
    "print(f\"{dt.isoformat() = }\")\n",
    "print(f\"{dt.year = }\")\n",
    "print(f\"{dt.month = }\")\n",
    "print(f\"{dt.day = }\")\n",
    "print(f\"{dt.hour = }\")\n",
    "print(f\"{dt.minute = }\")\n",
    "print(f\"{dt.second = }\")\n",
    "print(f\"{dt.microsecond = }\")\n",
    "\n",
    "print(dt.weekday())\n",
    "print(dt.isoweekday())\n",
    "print(dt.isocalendar())\n",
    "\n",
    "print(dt.strftime(\"%A\"))\n",
    "\n",
    "datetime.datetime.today()\n",
    "datetime.datetime.fromisoformat(\"2022-11-11\")"
   ]
  },
  {
   "cell_type": "code",
   "execution_count": 17,
   "metadata": {},
   "outputs": [
    {
     "data": {
      "text/plain": [
       "datetime.timedelta(days=64, seconds=29156, microseconds=10)"
      ]
     },
     "execution_count": 17,
     "metadata": {},
     "output_type": "execute_result"
    },
    {
     "data": {
      "text/plain": [
       "64"
      ]
     },
     "execution_count": 17,
     "metadata": {},
     "output_type": "execute_result"
    },
    {
     "data": {
      "text/plain": [
       "29156"
      ]
     },
     "execution_count": 17,
     "metadata": {},
     "output_type": "execute_result"
    },
    {
     "data": {
      "text/plain": [
       "10"
      ]
     },
     "execution_count": 17,
     "metadata": {},
     "output_type": "execute_result"
    },
    {
     "data": {
      "text/plain": [
       "5558756.00001"
      ]
     },
     "execution_count": 17,
     "metadata": {},
     "output_type": "execute_result"
    }
   ],
   "source": [
    "# --------------------------------- timedelta -------------------------------- #\n",
    "delta = datetime.timedelta(\n",
    "    days=50,\n",
    "    seconds=27,\n",
    "    microseconds=10,\n",
    "    milliseconds=29000,\n",
    "    minutes=5,\n",
    "    hours=8,\n",
    "    weeks=2\n",
    ")\n",
    "\n",
    "# the milliseconds etc will be converted to microseconds, etc\n",
    "delta # datetime.timedelta(days=64, seconds=29156, microseconds=10)\n",
    "delta.days\n",
    "delta.seconds\n",
    "delta.microseconds\n",
    "delta.total_seconds()"
   ]
  },
  {
   "cell_type": "code",
   "execution_count": 18,
   "metadata": {},
   "outputs": [
    {
     "data": {
      "text/plain": [
       "datetime.timedelta(days=64, seconds=29156, microseconds=10)"
      ]
     },
     "execution_count": 18,
     "metadata": {},
     "output_type": "execute_result"
    },
    {
     "data": {
      "text/plain": [
       "datetime.date(2022, 2, 3)"
      ]
     },
     "execution_count": 18,
     "metadata": {},
     "output_type": "execute_result"
    },
    {
     "data": {
      "text/plain": [
       "datetime.datetime(2012, 2, 3, 4, 5, 6, 7)"
      ]
     },
     "execution_count": 18,
     "metadata": {},
     "output_type": "execute_result"
    },
    {
     "data": {
      "text/plain": [
       "datetime.date"
      ]
     },
     "execution_count": 18,
     "metadata": {},
     "output_type": "execute_result"
    },
    {
     "data": {
      "text/plain": [
       "datetime.datetime"
      ]
     },
     "execution_count": 18,
     "metadata": {},
     "output_type": "execute_result"
    },
    {
     "data": {
      "text/plain": [
       "datetime.timedelta"
      ]
     },
     "execution_count": 18,
     "metadata": {},
     "output_type": "execute_result"
    },
    {
     "data": {
      "text/plain": [
       "datetime.timedelta"
      ]
     },
     "execution_count": 18,
     "metadata": {},
     "output_type": "execute_result"
    },
    {
     "data": {
      "text/plain": [
       "datetime.timedelta"
      ]
     },
     "execution_count": 18,
     "metadata": {},
     "output_type": "execute_result"
    },
    {
     "data": {
      "text/plain": [
       "datetime.timedelta(days=316)"
      ]
     },
     "execution_count": 18,
     "metadata": {},
     "output_type": "execute_result"
    }
   ],
   "source": [
    "# ----------------------------- timedelta object ----------------------------- #\n",
    "delta # datetime.timedelta(days=64, seconds=29156, microseconds=10)\n",
    "d # datetime.date(2022, 2, 3)\n",
    "dt # datetime.datetime(2012, 2, 3, 4, 5, 6, 7)\n",
    "type(delta + d) # datetime.date\n",
    "type(delta + dt) # datetime.datetime\n",
    "type(delta+delta) # datetime.timedelta\n",
    "type(d-d) # datetime.timedelta\n",
    "type(dt-dt) # datetime.timedelta\n",
    "\n",
    "bday = datetime.date(2023, 3, 15)\n",
    "bday - datetime.date.today() # datetime.timedelta(days=317)"
   ]
  },
  {
   "cell_type": "code",
   "execution_count": 19,
   "metadata": {},
   "outputs": [
    {
     "data": {
      "text/plain": [
       "'May 03, 2022'"
      ]
     },
     "execution_count": 19,
     "metadata": {},
     "output_type": "execute_result"
    },
    {
     "data": {
      "text/plain": [
       "datetime.datetime(2022, 5, 3, 0, 0)"
      ]
     },
     "execution_count": 19,
     "metadata": {},
     "output_type": "execute_result"
    }
   ],
   "source": [
    "# --------------------------- strftime and strptime -------------------------- #\n",
    "# strftime => f means format. Datetime to String\n",
    "# strptime => p means parse. String to Datetime\n",
    "t = datetime.datetime.now()\n",
    "ftime = t.strftime('%B %d, %Y') # format a time\n",
    "ftime\n",
    "datetime.datetime.strptime(ftime, '%B %d, %Y') # parse a time"
   ]
  }
 ],
 "metadata": {
  "interpreter": {
   "hash": "ae74f9feb07f97b665e59d852dca9947bf3c6be9bdf551f43d711a8fd00af3ab"
  },
  "kernelspec": {
   "display_name": "Python 3.9.7 ('data_science')",
   "language": "python",
   "name": "python3"
  },
  "language_info": {
   "codemirror_mode": {
    "name": "ipython",
    "version": 3
   },
   "file_extension": ".py",
   "mimetype": "text/x-python",
   "name": "python",
   "nbconvert_exporter": "python",
   "pygments_lexer": "ipython3",
   "version": "3.9.7"
  },
  "orig_nbformat": 4
 },
 "nbformat": 4,
 "nbformat_minor": 2
}
