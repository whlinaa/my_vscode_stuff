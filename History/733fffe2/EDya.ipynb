{
 "cells": [
  {
   "cell_type": "code",
   "execution_count": 1,
   "metadata": {},
   "outputs": [],
   "source": [
    "from ds_preamble import *"
   ]
  },
  {
   "cell_type": "code",
   "execution_count": 2,
   "metadata": {},
   "outputs": [
    {
     "name": "stdout",
     "output_type": "stream",
     "text": [
      "<class 'pandas.core.frame.DataFrame'>\n",
      "RangeIndex: 66836 entries, 0 to 66835\n",
      "Data columns (total 31 columns):\n",
      " #   Column          Non-Null Count  Dtype  \n",
      "---  ------          --------------  -----  \n",
      " 0   contract_no     66836 non-null  int64  \n",
      " 1   ins_idn         66836 non-null  int64  \n",
      " 2   age_5           66836 non-null  int64  \n",
      " 3   gender          66836 non-null  object \n",
      " 4   is_smoker       66836 non-null  int64  \n",
      " 5   weight          64237 non-null  object \n",
      " 6   height          64813 non-null  object \n",
      " 7   occ_life_cover  65910 non-null  object \n",
      " 8   g_self_v1       66135 non-null  float64\n",
      " 9   g_self_v2       66130 non-null  float64\n",
      " 10  g_self_v3       66068 non-null  float64\n",
      " 11  g_self_v4       66085 non-null  float64\n",
      " 12  g_self_v5       66135 non-null  float64\n",
      " 13  g_self_v6       66102 non-null  float64\n",
      " 14  g_self_v7       66130 non-null  float64\n",
      " 15  g_self_v8       66150 non-null  float64\n",
      " 16  m_exam_v1_i     9249 non-null   float64\n",
      " 17  m_exam_v2_i     9238 non-null   float64\n",
      " 18  m_exam_v3_i     9243 non-null   float64\n",
      " 19  m_exam_v4_i     9266 non-null   float64\n",
      " 20  m_exam_v5_i     9239 non-null   float64\n",
      " 21  m_exam_v6_i     9254 non-null   float64\n",
      " 22  m_exam_v9_cm    9248 non-null   float64\n",
      " 23  m_exam_v10_cm   9237 non-null   float64\n",
      " 24  m_exam_v7_1     9236 non-null   float64\n",
      " 25  m_exam_v7_2     4627 non-null   float64\n",
      " 26  m_exam_v7_3     2357 non-null   float64\n",
      " 27  m_exam_v8_1     9249 non-null   float64\n",
      " 28  m_exam_v8_2     4628 non-null   float64\n",
      " 29  m_exam_v8_3     2362 non-null   float64\n",
      " 30  decision        66836 non-null  object \n",
      "dtypes: float64(22), int64(4), object(5)\n",
      "memory usage: 15.8+ MB\n"
     ]
    }
   ],
   "source": [
    "df = pd.read_csv('mdata.csv')\n",
    "df.info()"
   ]
  },
  {
   "cell_type": "code",
   "execution_count": 3,
   "metadata": {},
   "outputs": [
    {
     "data": {
      "text/plain": [
       "std        57479\n",
       "substd      6015\n",
       "decline     3342\n",
       "Name: decision, dtype: int64"
      ]
     },
     "execution_count": 3,
     "metadata": {},
     "output_type": "execute_result"
    }
   ],
   "source": [
    "df.decision.value_counts()"
   ]
  },
  {
   "cell_type": "code",
   "execution_count": 4,
   "metadata": {},
   "outputs": [
    {
     "data": {
      "text/plain": [
       "m_exam_v7_3       0.964735\n",
       "m_exam_v8_3       0.964660\n",
       "m_exam_v7_2       0.930771\n",
       "m_exam_v8_2       0.930756\n",
       "m_exam_v7_1       0.861811\n",
       "m_exam_v10_cm     0.861796\n",
       "m_exam_v2_i       0.861781\n",
       "m_exam_v5_i       0.861766\n",
       "m_exam_v3_i       0.861706\n",
       "m_exam_v9_cm      0.861631\n",
       "m_exam_v8_1       0.861616\n",
       "m_exam_v1_i       0.861616\n",
       "m_exam_v6_i       0.861542\n",
       "m_exam_v4_i       0.861362\n",
       "weight            0.038886\n",
       "height            0.030268\n",
       "occ_life_cover    0.013855\n",
       "g_self_v3         0.011491\n",
       "g_self_v4         0.011236\n",
       "g_self_v6         0.010982\n",
       "g_self_v7         0.010563\n",
       "g_self_v2         0.010563\n",
       "g_self_v5         0.010488\n",
       "g_self_v1         0.010488\n",
       "g_self_v8         0.010264\n",
       "dtype: float64"
      ]
     },
     "execution_count": 4,
     "metadata": {},
     "output_type": "execute_result"
    }
   ],
   "source": [
    "df.isna().mean().sort_values(ascending=False)[lambda x: x>0]\n"
   ]
  },
  {
   "cell_type": "code",
   "execution_count": 41,
   "metadata": {},
   "outputs": [
    {
     "ename": "AttributeError",
     "evalue": "Can only use .str accessor with string values!",
     "output_type": "error",
     "traceback": [
      "\u001b[0;31m---------------------------------------------------------------------------\u001b[0m",
      "\u001b[0;31mAttributeError\u001b[0m                            Traceback (most recent call last)",
      "\u001b[0;32m/var/folders/c2/yj8ksjmn34v5f9csr1s82d8r0000gn/T/ipykernel_53864/1766287054.py\u001b[0m in \u001b[0;36m<module>\u001b[0;34m\u001b[0m\n\u001b[1;32m      5\u001b[0m \u001b[0;34m\u001b[0m\u001b[0m\n\u001b[1;32m      6\u001b[0m \u001b[0;31m# d1 = df.weight.str.extract('(\\d+)').astype('float').iloc[:,0]\u001b[0m\u001b[0;34m\u001b[0m\u001b[0;34m\u001b[0m\u001b[0m\n\u001b[0;32m----> 7\u001b[0;31m \u001b[0md1\u001b[0m \u001b[0;34m=\u001b[0m \u001b[0mdf\u001b[0m\u001b[0;34m.\u001b[0m\u001b[0mweight\u001b[0m\u001b[0;34m.\u001b[0m\u001b[0mstr\u001b[0m\u001b[0;34m.\u001b[0m\u001b[0mextract\u001b[0m\u001b[0;34m(\u001b[0m\u001b[0;34m'(^\\d*)'\u001b[0m\u001b[0;34m)\u001b[0m\u001b[0;34m.\u001b[0m\u001b[0mastype\u001b[0m\u001b[0;34m(\u001b[0m\u001b[0;34m'float'\u001b[0m\u001b[0;34m)\u001b[0m\u001b[0;34m.\u001b[0m\u001b[0miloc\u001b[0m\u001b[0;34m[\u001b[0m\u001b[0;34m:\u001b[0m\u001b[0;34m,\u001b[0m\u001b[0;36m0\u001b[0m\u001b[0;34m]\u001b[0m\u001b[0;34m\u001b[0m\u001b[0;34m\u001b[0m\u001b[0m\n\u001b[0m\u001b[1;32m      8\u001b[0m \u001b[0md2\u001b[0m \u001b[0;34m=\u001b[0m \u001b[0mdf\u001b[0m\u001b[0;34m.\u001b[0m\u001b[0mweight\u001b[0m\u001b[0;34m.\u001b[0m\u001b[0mstr\u001b[0m\u001b[0;34m.\u001b[0m\u001b[0mcontains\u001b[0m\u001b[0;34m(\u001b[0m\u001b[0;34m'lb|lbs'\u001b[0m\u001b[0;34m,\u001b[0m \u001b[0mcase\u001b[0m\u001b[0;34m=\u001b[0m\u001b[0;32mFalse\u001b[0m\u001b[0;34m)\u001b[0m\u001b[0;34m\u001b[0m\u001b[0;34m\u001b[0m\u001b[0m\n\u001b[1;32m      9\u001b[0m \u001b[0mnp\u001b[0m\u001b[0;34m.\u001b[0m\u001b[0mwhere\u001b[0m\u001b[0;34m(\u001b[0m\u001b[0md2\u001b[0m\u001b[0;34m,\u001b[0m \u001b[0md1\u001b[0m\u001b[0;34m*\u001b[0m\u001b[0;36m0.453592\u001b[0m\u001b[0;34m,\u001b[0m \u001b[0md1\u001b[0m\u001b[0;34m)\u001b[0m\u001b[0;34m\u001b[0m\u001b[0;34m\u001b[0m\u001b[0m\n",
      "\u001b[0;32m~/miniforge3/envs/data_science/lib/python3.9/site-packages/pandas/core/generic.py\u001b[0m in \u001b[0;36m__getattr__\u001b[0;34m(self, name)\u001b[0m\n\u001b[1;32m   5581\u001b[0m         ):\n\u001b[1;32m   5582\u001b[0m             \u001b[0;32mreturn\u001b[0m \u001b[0mself\u001b[0m\u001b[0;34m[\u001b[0m\u001b[0mname\u001b[0m\u001b[0;34m]\u001b[0m\u001b[0;34m\u001b[0m\u001b[0;34m\u001b[0m\u001b[0m\n\u001b[0;32m-> 5583\u001b[0;31m         \u001b[0;32mreturn\u001b[0m \u001b[0mobject\u001b[0m\u001b[0;34m.\u001b[0m\u001b[0m__getattribute__\u001b[0m\u001b[0;34m(\u001b[0m\u001b[0mself\u001b[0m\u001b[0;34m,\u001b[0m \u001b[0mname\u001b[0m\u001b[0;34m)\u001b[0m\u001b[0;34m\u001b[0m\u001b[0;34m\u001b[0m\u001b[0m\n\u001b[0m\u001b[1;32m   5584\u001b[0m \u001b[0;34m\u001b[0m\u001b[0m\n\u001b[1;32m   5585\u001b[0m     \u001b[0;32mdef\u001b[0m \u001b[0m__setattr__\u001b[0m\u001b[0;34m(\u001b[0m\u001b[0mself\u001b[0m\u001b[0;34m,\u001b[0m \u001b[0mname\u001b[0m\u001b[0;34m:\u001b[0m \u001b[0mstr\u001b[0m\u001b[0;34m,\u001b[0m \u001b[0mvalue\u001b[0m\u001b[0;34m)\u001b[0m \u001b[0;34m->\u001b[0m \u001b[0;32mNone\u001b[0m\u001b[0;34m:\u001b[0m\u001b[0;34m\u001b[0m\u001b[0;34m\u001b[0m\u001b[0m\n",
      "\u001b[0;32m~/miniforge3/envs/data_science/lib/python3.9/site-packages/pandas/core/accessor.py\u001b[0m in \u001b[0;36m__get__\u001b[0;34m(self, obj, cls)\u001b[0m\n\u001b[1;32m    180\u001b[0m             \u001b[0;31m# we're accessing the attribute of the class, i.e., Dataset.geo\u001b[0m\u001b[0;34m\u001b[0m\u001b[0;34m\u001b[0m\u001b[0m\n\u001b[1;32m    181\u001b[0m             \u001b[0;32mreturn\u001b[0m \u001b[0mself\u001b[0m\u001b[0;34m.\u001b[0m\u001b[0m_accessor\u001b[0m\u001b[0;34m\u001b[0m\u001b[0;34m\u001b[0m\u001b[0m\n\u001b[0;32m--> 182\u001b[0;31m         \u001b[0maccessor_obj\u001b[0m \u001b[0;34m=\u001b[0m \u001b[0mself\u001b[0m\u001b[0;34m.\u001b[0m\u001b[0m_accessor\u001b[0m\u001b[0;34m(\u001b[0m\u001b[0mobj\u001b[0m\u001b[0;34m)\u001b[0m\u001b[0;34m\u001b[0m\u001b[0;34m\u001b[0m\u001b[0m\n\u001b[0m\u001b[1;32m    183\u001b[0m         \u001b[0;31m# Replace the property with the accessor object. Inspired by:\u001b[0m\u001b[0;34m\u001b[0m\u001b[0;34m\u001b[0m\u001b[0m\n\u001b[1;32m    184\u001b[0m         \u001b[0;31m# https://www.pydanny.com/cached-property.html\u001b[0m\u001b[0;34m\u001b[0m\u001b[0;34m\u001b[0m\u001b[0m\n",
      "\u001b[0;32m~/miniforge3/envs/data_science/lib/python3.9/site-packages/pandas/core/strings/accessor.py\u001b[0m in \u001b[0;36m__init__\u001b[0;34m(self, data)\u001b[0m\n\u001b[1;32m    175\u001b[0m         \u001b[0;32mfrom\u001b[0m \u001b[0mpandas\u001b[0m\u001b[0;34m.\u001b[0m\u001b[0mcore\u001b[0m\u001b[0;34m.\u001b[0m\u001b[0marrays\u001b[0m\u001b[0;34m.\u001b[0m\u001b[0mstring_\u001b[0m \u001b[0;32mimport\u001b[0m \u001b[0mStringDtype\u001b[0m\u001b[0;34m\u001b[0m\u001b[0;34m\u001b[0m\u001b[0m\n\u001b[1;32m    176\u001b[0m \u001b[0;34m\u001b[0m\u001b[0m\n\u001b[0;32m--> 177\u001b[0;31m         \u001b[0mself\u001b[0m\u001b[0;34m.\u001b[0m\u001b[0m_inferred_dtype\u001b[0m \u001b[0;34m=\u001b[0m \u001b[0mself\u001b[0m\u001b[0;34m.\u001b[0m\u001b[0m_validate\u001b[0m\u001b[0;34m(\u001b[0m\u001b[0mdata\u001b[0m\u001b[0;34m)\u001b[0m\u001b[0;34m\u001b[0m\u001b[0;34m\u001b[0m\u001b[0m\n\u001b[0m\u001b[1;32m    178\u001b[0m         \u001b[0mself\u001b[0m\u001b[0;34m.\u001b[0m\u001b[0m_is_categorical\u001b[0m \u001b[0;34m=\u001b[0m \u001b[0mis_categorical_dtype\u001b[0m\u001b[0;34m(\u001b[0m\u001b[0mdata\u001b[0m\u001b[0;34m.\u001b[0m\u001b[0mdtype\u001b[0m\u001b[0;34m)\u001b[0m\u001b[0;34m\u001b[0m\u001b[0;34m\u001b[0m\u001b[0m\n\u001b[1;32m    179\u001b[0m         \u001b[0mself\u001b[0m\u001b[0;34m.\u001b[0m\u001b[0m_is_string\u001b[0m \u001b[0;34m=\u001b[0m \u001b[0misinstance\u001b[0m\u001b[0;34m(\u001b[0m\u001b[0mdata\u001b[0m\u001b[0;34m.\u001b[0m\u001b[0mdtype\u001b[0m\u001b[0;34m,\u001b[0m \u001b[0mStringDtype\u001b[0m\u001b[0;34m)\u001b[0m\u001b[0;34m\u001b[0m\u001b[0;34m\u001b[0m\u001b[0m\n",
      "\u001b[0;32m~/miniforge3/envs/data_science/lib/python3.9/site-packages/pandas/core/strings/accessor.py\u001b[0m in \u001b[0;36m_validate\u001b[0;34m(data)\u001b[0m\n\u001b[1;32m    229\u001b[0m \u001b[0;34m\u001b[0m\u001b[0m\n\u001b[1;32m    230\u001b[0m         \u001b[0;32mif\u001b[0m \u001b[0minferred_dtype\u001b[0m \u001b[0;32mnot\u001b[0m \u001b[0;32min\u001b[0m \u001b[0mallowed_types\u001b[0m\u001b[0;34m:\u001b[0m\u001b[0;34m\u001b[0m\u001b[0;34m\u001b[0m\u001b[0m\n\u001b[0;32m--> 231\u001b[0;31m             \u001b[0;32mraise\u001b[0m \u001b[0mAttributeError\u001b[0m\u001b[0;34m(\u001b[0m\u001b[0;34m\"Can only use .str accessor with string values!\"\u001b[0m\u001b[0;34m)\u001b[0m\u001b[0;34m\u001b[0m\u001b[0;34m\u001b[0m\u001b[0m\n\u001b[0m\u001b[1;32m    232\u001b[0m         \u001b[0;32mreturn\u001b[0m \u001b[0minferred_dtype\u001b[0m\u001b[0;34m\u001b[0m\u001b[0;34m\u001b[0m\u001b[0m\n\u001b[1;32m    233\u001b[0m \u001b[0;34m\u001b[0m\u001b[0m\n",
      "\u001b[0;31mAttributeError\u001b[0m: Can only use .str accessor with string values!"
     ]
    }
   ],
   "source": [
    "# df.weight.str.extract('(\\d+)')\n",
    "\n",
    "# res = []\n",
    "# for s in df.weight:\n",
    "\n",
    "# d1 = df.weight.str.extract('(\\d+)').astype('float').iloc[:,0]\n",
    "d1 = df.weight.str.extract('(^\\d*)').astype('float').iloc[:,0]\n",
    "d2 = df.weight.str.contains('lb|lbs', case=False)\n",
    "np.where(d2, d1*0.453592, d1)\n",
    "df.weight=np.where(d2, d1*0.453592, d1)"
   ]
  },
  {
   "cell_type": "code",
   "execution_count": 47,
   "metadata": {},
   "outputs": [
    {
     "data": {
      "text/plain": [
       "44426    64.57 In \n",
       "39859     148.1CM \n",
       "43389        1.7 M\n",
       "48875     68.54In \n",
       "14184    172.9 cm \n",
       "60919     66.65 IN\n",
       "45258      168.1cm\n",
       "32756       1.74m \n",
       "53209     168.1cm \n",
       "51522     149.5Cm \n",
       "23960     159.3Cm \n",
       "10011       1.57M \n",
       "8768          1.7m\n",
       "52424       1.57 m\n",
       "63399        1.63m\n",
       "64054     71.26in \n",
       "38062     164.7 CM\n",
       "32739      56.85IN\n",
       "22896     152.8CM \n",
       "3186      165.7cm \n",
       "30648      156.6cm\n",
       "49047       1.52 m\n",
       "37847       171 cm\n",
       "56512     166.6Cm \n",
       "48307        1.53m\n",
       "466        72.44IN\n",
       "17653       1.7 m \n",
       "34592        1.52m\n",
       "42621      62.68in\n",
       "31463    162.2 Cm \n",
       "19338    68.58 In \n",
       "27695      1.57 m \n",
       "54604      62.2IN \n",
       "19221      68.5 in\n",
       "911      167.9 Cm \n",
       "3754      65.12IN \n",
       "27165     163.4 CM\n",
       "38668       1.41 M\n",
       "40870     168.4 cm\n",
       "12268    68.46 in \n",
       "41416      166.1CM\n",
       "29052     61.54IN \n",
       "49800     62.44in \n",
       "16337      69.72IN\n",
       "48242          NaN\n",
       "44627          NaN\n",
       "34708        168cm\n",
       "32607     175.4 cm\n",
       "21811    165.3 cm \n",
       "18116      1.66 m \n",
       "Name: height, dtype: object"
      ]
     },
     "execution_count": 47,
     "metadata": {},
     "output_type": "execute_result"
    }
   ],
   "source": [
    "# d1 = df.weight.str.extract('(^\\d*)').astype('float').iloc[:,0]\n",
    "# d2 = df.weight.str.contains('lb|lbs', case=False)\n",
    "# np.where(d2, d1*0.453592, d1)\n",
    "# df.weight=np.where(d2, d1*0.453592, d1)\n",
    "# in, cm, m, \n",
    "\n",
    "df.height.sample(50)\n",
    "# df.weight.isna().sum()"
   ]
  },
  {
   "cell_type": "code",
   "execution_count": 72,
   "metadata": {},
   "outputs": [],
   "source": [
    "cols = [col for col in df if col.startswith('g_self_')]\n",
    "df[cols] = df[cols].fillna(0)\n",
    "# df.filter(regex='^g_self_', axis = 1).fillna(0)\n",
    "# df.iloc[:, df.columns.str.startswith('g_self_')]\n"
   ]
  },
  {
   "cell_type": "code",
   "execution_count": 94,
   "metadata": {},
   "outputs": [
    {
     "data": {
      "text/plain": [
       "m_exam_v1_i    0\n",
       "m_exam_v2_i    0\n",
       "m_exam_v3_i    0\n",
       "m_exam_v4_i    0\n",
       "m_exam_v5_i    0\n",
       "m_exam_v6_i    0\n",
       "dtype: int64"
      ]
     },
     "execution_count": 94,
     "metadata": {},
     "output_type": "execute_result"
    }
   ],
   "source": [
    "cols = [col for col in df if col.startswith('m_exam_') and col.endswith('_i')]\n",
    "df[cols] = df[cols].fillna('unk')\n",
    "# df.filter(regex='^m_exam_.*_i', axis = 1)\n",
    "\n",
    "\n",
    "\n",
    "\n"
   ]
  },
  {
   "cell_type": "code",
   "execution_count": null,
   "metadata": {},
   "outputs": [],
   "source": [
    "df['occ_life_cover'] = fillna('STD')"
   ]
  },
  {
   "cell_type": "code",
   "execution_count": 28,
   "metadata": {},
   "outputs": [
    {
     "name": "stdout",
     "output_type": "stream",
     "text": [
      "[3.1 2.2 1.3 5.4 2.5]\n",
      "[3.1 2.2 2.3 5.4 2.5]\n",
      "[2.1 1.2 1.3 2.4 1.5]\n"
     ]
    },
    {
     "data": {
      "text/plain": [
       "(2,)"
      ]
     },
     "execution_count": 28,
     "metadata": {},
     "output_type": "execute_result"
    },
    {
     "data": {
      "text/plain": [
       "(2, 1)"
      ]
     },
     "execution_count": 28,
     "metadata": {},
     "output_type": "execute_result"
    }
   ],
   "source": [
    "x,y,c = np.array([3.1, 1.2, 1.3, 5.4, 1.5]), np.array([2.1, 2.2, 2.3, 2.4, 2.5]), np.array([True, False, True, True, False])\n",
    "print(np.where(c,x,y)) # [3.1 2.2 1.3 5.4 2.5]\n",
    "print(np.where(x>y,x,y)) # [3.1 2.2 2.3 5.4 2.5]. same as np.maximum(x,y)\n",
    "print(np.where(x<y,x,y)) # [2.1 1.2 1.3 2.4 1.5]. same as np.minimum(x,y) \n",
    "\n",
    "\n",
    "c = d2.values[:2]\n",
    "x = d1.values[:2]*0.453592\n",
    "y = d1.values[:2]\n",
    "\n",
    "c.shape\n",
    "x.shape\n",
    "\n",
    "\n",
    "# c\n",
    "# x\n",
    "# y\n",
    "\n",
    "# c=d2.to_list()[:2]\n",
    "# x=d1.to_list()[:2]\n",
    "# y=d1.to_list()[:2]\n",
    "\n",
    "# print(np.where(c,x,y))\n",
    "\n"
   ]
  },
  {
   "cell_type": "code",
   "execution_count": null,
   "metadata": {},
   "outputs": [],
   "source": [
    "df.bmi = "
   ]
  }
 ],
 "metadata": {
  "interpreter": {
   "hash": "ae74f9feb07f97b665e59d852dca9947bf3c6be9bdf551f43d711a8fd00af3ab"
  },
  "kernelspec": {
   "display_name": "Python 3.9.7 ('data_science')",
   "language": "python",
   "name": "python3"
  },
  "language_info": {
   "codemirror_mode": {
    "name": "ipython",
    "version": 3
   },
   "file_extension": ".py",
   "mimetype": "text/x-python",
   "name": "python",
   "nbconvert_exporter": "python",
   "pygments_lexer": "ipython3",
   "version": "3.9.7"
  },
  "orig_nbformat": 4
 },
 "nbformat": 4,
 "nbformat_minor": 2
}
