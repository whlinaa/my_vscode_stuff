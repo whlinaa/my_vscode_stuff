{
 "cells": [
  {
   "cell_type": "code",
   "execution_count": 1,
   "metadata": {},
   "outputs": [],
   "source": [
    "from ds_preamble import *"
   ]
  },
  {
   "cell_type": "code",
   "execution_count": 2,
   "metadata": {},
   "outputs": [
    {
     "name": "stdout",
     "output_type": "stream",
     "text": [
      "<class 'pandas.core.frame.DataFrame'>\n",
      "RangeIndex: 66836 entries, 0 to 66835\n",
      "Data columns (total 31 columns):\n",
      " #   Column          Non-Null Count  Dtype  \n",
      "---  ------          --------------  -----  \n",
      " 0   contract_no     66836 non-null  int64  \n",
      " 1   ins_idn         66836 non-null  int64  \n",
      " 2   age_5           66836 non-null  int64  \n",
      " 3   gender          66836 non-null  object \n",
      " 4   is_smoker       66836 non-null  int64  \n",
      " 5   weight          64237 non-null  object \n",
      " 6   height          64813 non-null  object \n",
      " 7   occ_life_cover  65910 non-null  object \n",
      " 8   g_self_v1       66135 non-null  float64\n",
      " 9   g_self_v2       66130 non-null  float64\n",
      " 10  g_self_v3       66068 non-null  float64\n",
      " 11  g_self_v4       66085 non-null  float64\n",
      " 12  g_self_v5       66135 non-null  float64\n",
      " 13  g_self_v6       66102 non-null  float64\n",
      " 14  g_self_v7       66130 non-null  float64\n",
      " 15  g_self_v8       66150 non-null  float64\n",
      " 16  m_exam_v1_i     9249 non-null   float64\n",
      " 17  m_exam_v2_i     9238 non-null   float64\n",
      " 18  m_exam_v3_i     9243 non-null   float64\n",
      " 19  m_exam_v4_i     9266 non-null   float64\n",
      " 20  m_exam_v5_i     9239 non-null   float64\n",
      " 21  m_exam_v6_i     9254 non-null   float64\n",
      " 22  m_exam_v9_cm    9248 non-null   float64\n",
      " 23  m_exam_v10_cm   9237 non-null   float64\n",
      " 24  m_exam_v7_1     9236 non-null   float64\n",
      " 25  m_exam_v7_2     4627 non-null   float64\n",
      " 26  m_exam_v7_3     2357 non-null   float64\n",
      " 27  m_exam_v8_1     9249 non-null   float64\n",
      " 28  m_exam_v8_2     4628 non-null   float64\n",
      " 29  m_exam_v8_3     2362 non-null   float64\n",
      " 30  decision        66836 non-null  object \n",
      "dtypes: float64(22), int64(4), object(5)\n",
      "memory usage: 15.8+ MB\n"
     ]
    }
   ],
   "source": [
    "df = pd.read_csv('mdata.csv')\n",
    "df.info()"
   ]
  },
  {
   "cell_type": "code",
   "execution_count": 3,
   "metadata": {},
   "outputs": [
    {
     "data": {
      "text/plain": [
       "std        57479\n",
       "substd      6015\n",
       "decline     3342\n",
       "Name: decision, dtype: int64"
      ]
     },
     "execution_count": 3,
     "metadata": {},
     "output_type": "execute_result"
    }
   ],
   "source": [
    "df.decision.value_counts()"
   ]
  },
  {
   "cell_type": "code",
   "execution_count": 4,
   "metadata": {},
   "outputs": [
    {
     "data": {
      "text/plain": [
       "m_exam_v7_3       0.964735\n",
       "m_exam_v8_3       0.964660\n",
       "m_exam_v7_2       0.930771\n",
       "m_exam_v8_2       0.930756\n",
       "m_exam_v7_1       0.861811\n",
       "m_exam_v10_cm     0.861796\n",
       "m_exam_v2_i       0.861781\n",
       "m_exam_v5_i       0.861766\n",
       "m_exam_v3_i       0.861706\n",
       "m_exam_v9_cm      0.861631\n",
       "m_exam_v8_1       0.861616\n",
       "m_exam_v1_i       0.861616\n",
       "m_exam_v6_i       0.861542\n",
       "m_exam_v4_i       0.861362\n",
       "weight            0.038886\n",
       "height            0.030268\n",
       "occ_life_cover    0.013855\n",
       "g_self_v3         0.011491\n",
       "g_self_v4         0.011236\n",
       "g_self_v6         0.010982\n",
       "g_self_v7         0.010563\n",
       "g_self_v2         0.010563\n",
       "g_self_v5         0.010488\n",
       "g_self_v1         0.010488\n",
       "g_self_v8         0.010264\n",
       "dtype: float64"
      ]
     },
     "execution_count": 4,
     "metadata": {},
     "output_type": "execute_result"
    }
   ],
   "source": [
    "df.isna().mean().sort_values(ascending=False)[lambda x: x>0]\n"
   ]
  },
  {
   "cell_type": "code",
   "execution_count": 31,
   "metadata": {},
   "outputs": [
    {
     "ename": "ValueError",
     "evalue": "The truth value of a DataFrame is ambiguous. Use a.empty, a.bool(), a.item(), a.any() or a.all().",
     "output_type": "error",
     "traceback": [
      "\u001b[0;31m---------------------------------------------------------------------------\u001b[0m",
      "\u001b[0;31mValueError\u001b[0m                                Traceback (most recent call last)",
      "\u001b[0;32m/var/folders/c2/yj8ksjmn34v5f9csr1s82d8r0000gn/T/ipykernel_53864/2960389233.py\u001b[0m in \u001b[0;36m<module>\u001b[0;34m\u001b[0m\n\u001b[1;32m      7\u001b[0m \u001b[0md2\u001b[0m \u001b[0;34m=\u001b[0m \u001b[0mdf\u001b[0m\u001b[0;34m.\u001b[0m\u001b[0mweight\u001b[0m\u001b[0;34m.\u001b[0m\u001b[0mstr\u001b[0m\u001b[0;34m.\u001b[0m\u001b[0mcontains\u001b[0m\u001b[0;34m(\u001b[0m\u001b[0;34m'lb|lbs'\u001b[0m\u001b[0;34m,\u001b[0m \u001b[0mcase\u001b[0m\u001b[0;34m=\u001b[0m\u001b[0;32mFalse\u001b[0m\u001b[0;34m)\u001b[0m\u001b[0;34m\u001b[0m\u001b[0;34m\u001b[0m\u001b[0m\n\u001b[1;32m      8\u001b[0m \u001b[0;34m\u001b[0m\u001b[0m\n\u001b[0;32m----> 9\u001b[0;31m \u001b[0mpd\u001b[0m\u001b[0;34m.\u001b[0m\u001b[0mSeries\u001b[0m\u001b[0;34m(\u001b[0m\u001b[0md1\u001b[0m\u001b[0;34m)\u001b[0m\u001b[0;34m\u001b[0m\u001b[0;34m\u001b[0m\u001b[0m\n\u001b[0m\u001b[1;32m     10\u001b[0m \u001b[0;31m# d2\u001b[0m\u001b[0;34m\u001b[0m\u001b[0;34m\u001b[0m\u001b[0m\n\u001b[1;32m     11\u001b[0m \u001b[0;34m\u001b[0m\u001b[0m\n",
      "\u001b[0;32m~/miniforge3/envs/data_science/lib/python3.9/site-packages/pandas/core/series.py\u001b[0m in \u001b[0;36m__init__\u001b[0;34m(self, data, index, dtype, name, copy, fastpath)\u001b[0m\n\u001b[1;32m    366\u001b[0m             \u001b[0mname\u001b[0m \u001b[0;34m=\u001b[0m \u001b[0mibase\u001b[0m\u001b[0;34m.\u001b[0m\u001b[0mmaybe_extract_name\u001b[0m\u001b[0;34m(\u001b[0m\u001b[0mname\u001b[0m\u001b[0;34m,\u001b[0m \u001b[0mdata\u001b[0m\u001b[0;34m,\u001b[0m \u001b[0mtype\u001b[0m\u001b[0;34m(\u001b[0m\u001b[0mself\u001b[0m\u001b[0;34m)\u001b[0m\u001b[0;34m)\u001b[0m\u001b[0;34m\u001b[0m\u001b[0;34m\u001b[0m\u001b[0m\n\u001b[1;32m    367\u001b[0m \u001b[0;34m\u001b[0m\u001b[0m\n\u001b[0;32m--> 368\u001b[0;31m             \u001b[0;32mif\u001b[0m \u001b[0mis_empty_data\u001b[0m\u001b[0;34m(\u001b[0m\u001b[0mdata\u001b[0m\u001b[0;34m)\u001b[0m \u001b[0;32mand\u001b[0m \u001b[0mdtype\u001b[0m \u001b[0;32mis\u001b[0m \u001b[0;32mNone\u001b[0m\u001b[0;34m:\u001b[0m\u001b[0;34m\u001b[0m\u001b[0;34m\u001b[0m\u001b[0m\n\u001b[0m\u001b[1;32m    369\u001b[0m                 \u001b[0;31m# gh-17261\u001b[0m\u001b[0;34m\u001b[0m\u001b[0;34m\u001b[0m\u001b[0m\n\u001b[1;32m    370\u001b[0m                 warnings.warn(\n",
      "\u001b[0;32m~/miniforge3/envs/data_science/lib/python3.9/site-packages/pandas/core/construction.py\u001b[0m in \u001b[0;36mis_empty_data\u001b[0;34m(data)\u001b[0m\n\u001b[1;32m    816\u001b[0m     \u001b[0mis_none\u001b[0m \u001b[0;34m=\u001b[0m \u001b[0mdata\u001b[0m \u001b[0;32mis\u001b[0m \u001b[0;32mNone\u001b[0m\u001b[0;34m\u001b[0m\u001b[0;34m\u001b[0m\u001b[0m\n\u001b[1;32m    817\u001b[0m     \u001b[0mis_list_like_without_dtype\u001b[0m \u001b[0;34m=\u001b[0m \u001b[0mis_list_like\u001b[0m\u001b[0;34m(\u001b[0m\u001b[0mdata\u001b[0m\u001b[0;34m)\u001b[0m \u001b[0;32mand\u001b[0m \u001b[0;32mnot\u001b[0m \u001b[0mhasattr\u001b[0m\u001b[0;34m(\u001b[0m\u001b[0mdata\u001b[0m\u001b[0;34m,\u001b[0m \u001b[0;34m\"dtype\"\u001b[0m\u001b[0;34m)\u001b[0m\u001b[0;34m\u001b[0m\u001b[0;34m\u001b[0m\u001b[0m\n\u001b[0;32m--> 818\u001b[0;31m     \u001b[0mis_simple_empty\u001b[0m \u001b[0;34m=\u001b[0m \u001b[0mis_list_like_without_dtype\u001b[0m \u001b[0;32mand\u001b[0m \u001b[0;32mnot\u001b[0m \u001b[0mdata\u001b[0m\u001b[0;34m\u001b[0m\u001b[0;34m\u001b[0m\u001b[0m\n\u001b[0m\u001b[1;32m    819\u001b[0m     \u001b[0;32mreturn\u001b[0m \u001b[0mis_none\u001b[0m \u001b[0;32mor\u001b[0m \u001b[0mis_simple_empty\u001b[0m\u001b[0;34m\u001b[0m\u001b[0;34m\u001b[0m\u001b[0m\n\u001b[1;32m    820\u001b[0m \u001b[0;34m\u001b[0m\u001b[0m\n",
      "\u001b[0;32m~/miniforge3/envs/data_science/lib/python3.9/site-packages/pandas/core/generic.py\u001b[0m in \u001b[0;36m__nonzero__\u001b[0;34m(self)\u001b[0m\n\u001b[1;32m   1533\u001b[0m     \u001b[0;34m@\u001b[0m\u001b[0mfinal\u001b[0m\u001b[0;34m\u001b[0m\u001b[0;34m\u001b[0m\u001b[0m\n\u001b[1;32m   1534\u001b[0m     \u001b[0;32mdef\u001b[0m \u001b[0m__nonzero__\u001b[0m\u001b[0;34m(\u001b[0m\u001b[0mself\u001b[0m\u001b[0;34m)\u001b[0m\u001b[0;34m:\u001b[0m\u001b[0;34m\u001b[0m\u001b[0;34m\u001b[0m\u001b[0m\n\u001b[0;32m-> 1535\u001b[0;31m         raise ValueError(\n\u001b[0m\u001b[1;32m   1536\u001b[0m             \u001b[0;34mf\"The truth value of a {type(self).__name__} is ambiguous. \"\u001b[0m\u001b[0;34m\u001b[0m\u001b[0;34m\u001b[0m\u001b[0m\n\u001b[1;32m   1537\u001b[0m             \u001b[0;34m\"Use a.empty, a.bool(), a.item(), a.any() or a.all().\"\u001b[0m\u001b[0;34m\u001b[0m\u001b[0;34m\u001b[0m\u001b[0m\n",
      "\u001b[0;31mValueError\u001b[0m: The truth value of a DataFrame is ambiguous. Use a.empty, a.bool(), a.item(), a.any() or a.all()."
     ]
    }
   ],
   "source": [
    "# df.weight.str.extract('(\\d+)')\n",
    "\n",
    "# res = []\n",
    "# for s in df.weight:\n",
    "\n",
    "d1 = df.weight.str.extract('(\\d+)').astype('float')[0]\n",
    "d2 = df.weight.str.contains('lb|lbs', case=False)\n",
    "\n",
    "pd.Series(d1)\n",
    "# d2\n",
    "\n",
    "\n",
    "\n",
    "\n",
    "\n",
    "\n",
    "# d1.apply(lambda x: x+3)\n",
    "\n",
    "\n",
    "\n",
    "\n",
    "# d1\n",
    "# d2\n",
    "\n",
    "# d1.values\n",
    "# np.where(d2.values[:2], d1.values[:2]*0.453592, d1.values[:2])\n",
    "\n",
    "\n",
    "\n",
    "\n",
    "\n",
    "\n",
    "# df.weight.sample(30)\n",
    "# df.height.sample(30)\n",
    "# df.weight.str.contains?"
   ]
  },
  {
   "cell_type": "code",
   "execution_count": 28,
   "metadata": {},
   "outputs": [
    {
     "name": "stdout",
     "output_type": "stream",
     "text": [
      "[3.1 2.2 1.3 5.4 2.5]\n",
      "[3.1 2.2 2.3 5.4 2.5]\n",
      "[2.1 1.2 1.3 2.4 1.5]\n"
     ]
    },
    {
     "data": {
      "text/plain": [
       "(2,)"
      ]
     },
     "execution_count": 28,
     "metadata": {},
     "output_type": "execute_result"
    },
    {
     "data": {
      "text/plain": [
       "(2, 1)"
      ]
     },
     "execution_count": 28,
     "metadata": {},
     "output_type": "execute_result"
    }
   ],
   "source": [
    "x,y,c = np.array([3.1, 1.2, 1.3, 5.4, 1.5]), np.array([2.1, 2.2, 2.3, 2.4, 2.5]), np.array([True, False, True, True, False])\n",
    "print(np.where(c,x,y)) # [3.1 2.2 1.3 5.4 2.5]\n",
    "print(np.where(x>y,x,y)) # [3.1 2.2 2.3 5.4 2.5]. same as np.maximum(x,y)\n",
    "print(np.where(x<y,x,y)) # [2.1 1.2 1.3 2.4 1.5]. same as np.minimum(x,y) \n",
    "\n",
    "\n",
    "c = d2.values[:2]\n",
    "x = d1.values[:2]*0.453592\n",
    "y = d1.values[:2]\n",
    "\n",
    "c.shape\n",
    "x.shape\n",
    "\n",
    "\n",
    "# c\n",
    "# x\n",
    "# y\n",
    "\n",
    "# c=d2.to_list()[:2]\n",
    "# x=d1.to_list()[:2]\n",
    "# y=d1.to_list()[:2]\n",
    "\n",
    "# print(np.where(c,x,y))\n",
    "\n"
   ]
  },
  {
   "cell_type": "code",
   "execution_count": null,
   "metadata": {},
   "outputs": [],
   "source": [
    "df.bmi = "
   ]
  }
 ],
 "metadata": {
  "interpreter": {
   "hash": "ae74f9feb07f97b665e59d852dca9947bf3c6be9bdf551f43d711a8fd00af3ab"
  },
  "kernelspec": {
   "display_name": "Python 3.9.7 ('data_science')",
   "language": "python",
   "name": "python3"
  },
  "language_info": {
   "codemirror_mode": {
    "name": "ipython",
    "version": 3
   },
   "file_extension": ".py",
   "mimetype": "text/x-python",
   "name": "python",
   "nbconvert_exporter": "python",
   "pygments_lexer": "ipython3",
   "version": "3.9.7"
  },
  "orig_nbformat": 4
 },
 "nbformat": 4,
 "nbformat_minor": 2
}
