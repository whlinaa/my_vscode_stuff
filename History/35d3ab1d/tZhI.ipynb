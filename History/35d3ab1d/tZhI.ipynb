{
 "cells": [
  {
   "cell_type": "code",
   "execution_count": 1,
   "metadata": {},
   "outputs": [
    {
     "name": "stdout",
     "output_type": "stream",
     "text": [
      "calling ds_preamble..\n",
      "calling ds_helper...\n"
     ]
    }
   ],
   "source": [
    "%load_ext autoreload\n",
    "%autoreload 2\n",
    "from ds_utils.ds_preamble import *\n",
    "from ds_utils.ds_helper import *\n",
    "from ds_utils.ds_plotting import *\n",
    "# from glob import glob\n",
    "# import re\n",
    "# import datetime\n",
    "# import duckdb\n",
    "# import pathlib\n",
    "# from ds_utils.ds_preamble import *  # # self-defined module\n",
    "# from ds_utils.ds_helper import *  # self-defined module\n",
    "# from ds_utils.ds_plotting import *  # # self-defined module\n",
    "import math\n",
    "\n",
    "\n",
    "tips = sns.load_dataset('tips')\n",
    "tips_tiny = tips.sample(20)\n",
    "\n",
    "df = tips \n",
    "\n",
    "titanic = sns.load_dataset('titanic')\n",
    "\n",
    "np.random.seed(123)\n",
    "tips['decile'] = np.random.randint(1,4, size=len(tips))\n",
    "\n",
    "train = tips.sample(frac=0.7, random_state=30).reset_index(drop=True)\n",
    "test = tips.drop(train.index).reset_index(drop=True)\n",
    "survey = pd.read_csv(\"/Users/whlin/Library/CloudStorage/OneDrive-HKUSTConnect/Documents/python/data/stack-overflow-developer-survey-2019/survey_results_public.csv\").sample(10_000)\n",
    "# import importlib\n",
    "# importlib.reload(ds_preamble)\n"
   ]
  },
  {
   "cell_type": "code",
   "execution_count": 52,
   "metadata": {},
   "outputs": [
    {
     "data": {
      "text/plain": [
       "0.18442622950819673"
      ]
     },
     "execution_count": 52,
     "metadata": {},
     "output_type": "execute_result"
    },
    {
     "data": {
      "text/plain": [
       "25.40983606557377"
      ]
     },
     "execution_count": 52,
     "metadata": {},
     "output_type": "execute_result"
    }
   ],
   "source": [
    "# (tips.tip <=2).mean()\n",
    "(tips.tip < 2).mean()\n",
    "\n",
    "# pd.qcut(tips.tip, q=100)\n",
    "\n",
    "stats.percentileofscore(tips.tip, 2)\n",
    "# stats.percentileofscore(tips.tip, 2, 'weak')\n",
    "\n",
    "# tips.tip.sort_values()<2"
   ]
  },
  {
   "cell_type": "code",
   "execution_count": 24,
   "metadata": {},
   "outputs": [
    {
     "data": {
      "text/plain": [
       "0      False\n",
       "1      False\n",
       "2      False\n",
       "3      False\n",
       "4      False\n",
       "       ...  \n",
       "239    False\n",
       "240    False\n",
       "241    False\n",
       "242    False\n",
       "243    False\n",
       "Name: total_bill, Length: 244, dtype: bool"
      ]
     },
     "execution_count": 24,
     "metadata": {},
     "output_type": "execute_result"
    }
   ],
   "source": []
  },
  {
   "cell_type": "markdown",
   "metadata": {},
   "source": [
    "## find frequency of each word in a string"
   ]
  },
  {
   "cell_type": "code",
   "execution_count": null,
   "metadata": {},
   "outputs": [],
   "source": [
    "from collections import Counter\n",
    "s = \"exclusive amazon products innerwear amazon com 9608\"\n",
    "d = {}\n",
    "\n",
    "# M1: use Counter\n",
    "Counter(s.split(' '))\n",
    "\n",
    "# M2: dict\n",
    "for word in s.split(' '):\n",
    "    d[word] = d.get(word, 0) + 1"
   ]
  },
  {
   "cell_type": "markdown",
   "metadata": {},
   "source": [
    "# file naming for output"
   ]
  },
  {
   "cell_type": "code",
   "execution_count": null,
   "metadata": {},
   "outputs": [],
   "source": [
    "def get_first_letter(bool_var):\n",
    "    return str(bool_var)[0]\n",
    "def remove_quotes(seq, to_camel_case=True):\n",
    "    # seq = list(str)\n",
    "    # remove the quotes of the strings in the given sequence \n",
    "    # return f\"[{','.join(seq)}]\"\n",
    "    if to_camel_case:\n",
    "        seq = [camel_case(s) for s in seq]\n",
    "    return f\"{'&'.join(seq)}\"\n",
    "def camel_case(s):\n",
    "    # https://www.w3resource.com/python-exercises/string/python-data-type-string-exercise-96.php\n",
    "    s = sub(r\"(_|-)+\", \" \", s).title().replace(\" \", \"\")\n",
    "    return ''.join([s[0].lower(), s[1:]])\n",
    "    # return ''.join([s[0], s[1:]])\n",
    "def get_acronym(s, to_upper=True):\n",
    "    # e.g., comb_first_k_years => CFKY\n",
    "    if '_' in s:\n",
    "        return ''.join( [ component[0].upper() \n",
    "                        if to_upper else component[0] \n",
    "                        for component in s.split('_') if component]\n",
    "                        )\n",
    "    else:\n",
    "        return s\n",
    "def get_time():\n",
    "    return datetime.datetime.now().strftime(\"%y%m%d-%H%M%S\")\n",
    "\n",
    "def process_bool(bool_to_name, loc, sort=True):\n",
    "    if sort:\n",
    "         bool_to_name = {k:v for k,v in sorted(bool_to_name.items(), key=lambda item: eval(item[0], loc), reverse=True)}\n",
    "    return [('!' if not eval(bool_var, loc) else '') + camel_case(name) for bool_var, name in bool_to_name.items()]\n",
    "\n",
    "\n",
    "# model_names = ['xgb', 'freq_severity', 'cla_reg'] # models used \n",
    "# remove_quotes(model_names)"
   ]
  },
  {
   "cell_type": "code",
   "execution_count": null,
   "metadata": {},
   "outputs": [
    {
     "data": {
      "text/plain": [
       "'220611-085418|lr|comb|upto|mono|hk|ap|vhis|!std|!inf|CFKY=5|yr=allyr'"
      ]
     },
     "metadata": {},
     "output_type": "display_data"
    }
   ],
   "source": [
    "from re import sub\n",
    "# %%write_and_run testing_.py\n",
    "# --------- the following defines the different variations we can try -------- #\n",
    "# ------------------- settings affecting the dataset size ------------------ #\n",
    "std_only = False # use standard class data only or not\n",
    "vhis_only = True # use VHIS-compatible records only\n",
    "filter_low = False # filter records with very low claim amount/loss ratio/premium etc or not\n",
    "filter_high = False # filter records with very high claim amount/loss ratio/premium etc or not\n",
    "years = 'allyr' # Use the latest 5 yrs of records only or all data. If use all years, give `allyr`; else, give an integer (e.g., years = 5)\n",
    "hk_only = True # use Hong kong records only or not (i.e., plan_region == 'HK')\n",
    "age_lim = False # get records of app_age between a specific range or not. If not, give False; else, give a 2-tuple (low_lim, upper_lim) (e.g., (18,65))\n",
    "# ---------------------------------------------------------------------------- #\n",
    "\n",
    "# --------------------- settings for combined formulation -------------------- #\n",
    "comb_first_k_years = 5 # if formulation=='comb', then evaluate on the first k years only or not (give None to indicate no). Note that train set still uses records of any duration (i.e., records shorter than k years are still used for training).\n",
    "train_first_k_years = True # if formulation=='comb' and comb_first_k_years!=None, then for the train set, whether to use the first k years only or not.\n",
    "first_k_years_strategy = 'upto' # if formulation=='comb' and comb_first_k_years!=None, then how to select the first k years. possibles values: ['exact', 'exact_strict', 'upto']\n",
    "# ---------------------------------------------------------------------------- #\n",
    "\n",
    "# ------------------------------- misc settings ------------------------------ #\n",
    "inflate = False # use inflate_* features (e.g., inflate_tot_clm_amt, inflate_tot_pay_amt, and inflate_tot_cnt ) or not\n",
    "adj_prem = True # use adjusted annual premium (i.e., standard premium) or not\n",
    "common_split_no = 1 # common train-test split with other models. Use an integer to indicate which split number to use. Use `None` to indicate \"NOT USE\" common split.\n",
    "formulation = 'comb' # formulation => ['comb', 'indi']. Combine all contract years of a policy into one single record or not\n",
    "census = False # use census data or not\n",
    "predict_decline = True # predict the declined cases as well or not. If True and if inflate == True, then treat decline records as normal records (i.e., used in both train and test phases). If inflate == False, treat decline records as testing records only.\n",
    "model_names = ['xgb', 'freq_severity', 'cla_reg'] # models used\n",
    "y_name = 'loss_ratio' # what to predict\n",
    "monotone = True # impose monotone constraints on some features (e.g., disease, occupation risk) or not\n",
    "\n",
    "# variation = f'{formulation}_{years}_{y_name}_{first_k_years_strategy}' # this is used as part of figure names, etc\n",
    "# variation = f'{formulation}_{years}_{first_k_years_strategy}' # this is used as part of figure names, etc\n",
    "\n",
    "\n",
    "# name_to_var = dict( for var in [])\n",
    "\n",
    "# bool_vars = 'monotone', 'hk_only', 'adj_prem', 'std_only', 'vhis_only', 'inflate',\n",
    "\n",
    "bool_vars = {\n",
    "    'monotone': 'mono',\n",
    "    'hk_only': 'hk',\n",
    "    'adj_prem': 'AP',\n",
    "    'std_only': 'std',\n",
    "    'vhis_only': 'vhis',\n",
    "    'inflate': 'inf',\n",
    "}\n",
    "# for bool_var, name in bool_vars.items():\n",
    "#     if eval(bool_var):\n",
    "#         camel_case(bool_var)\n",
    "\n",
    "# '+'.join([*[camel_case(bool_var) for bool_var in bool_vars if eval(bool_var)]])\n",
    "\n",
    "\n",
    "# bool_vars = {k:v for k,v \n",
    "#              in sorted(bool_vars.items(), key=lambda item: eval(item[0]), reverse=True)\n",
    "#              }\n",
    "# bool_vars\n",
    "\n",
    "\n",
    "# '|'.join(*process_bool(bool_vars, loc=locals()))\n",
    "\n",
    "# '|'.join([get_time(), *process_bool(bool_vars, loc=locals())])\n",
    "\n",
    "\n",
    "'|'.join([\n",
    "            get_time(),\n",
    "            # ----------------------- variable without showing name ---------------------- #\n",
    "            get_acronym(str(y_name), to_upper=False),\n",
    "            str(formulation),\n",
    "            # f\"{remove_quotes(model_names)}\",\n",
    "            str(first_k_years_strategy),\n",
    "\n",
    "            # ----------------------------- boolean variables ---------------------------- #\n",
    "            # *[('!' if not eval(bool_var) else '') + camel_case(name) for bool_var, name in bool_vars.items()],\n",
    "             *process_bool(bool_vars, loc=locals()),\n",
    "\n",
    "            # --------------------------------- sequence --------------------------------- #\n",
    "            # f\"{camel_case('model_names')}={remove_quotes(model_names)}\",\n",
    "\n",
    "            # ------------------------------ string variable ----------------------------- #\n",
    "            # f\"{camel_case('perf')}={perf}\",\n",
    "            # f\"{camel_case('strategy')}={strategy}\",\n",
    "            # f\"var={var}\",\n",
    "            # f\"{get_acronym('first_k_years_strategy')}={first_k_years_strategy}\",\n",
    "            f\"{get_acronym('comb_first_k_years')}={comb_first_k_years}\",\n",
    "            f\"yr={str(years)}\",\n",
    "\n",
    "            # f\"{camel_case('monotone')}={get_first_letter(monotone)}\",\n",
    "            # f\"{camel_case('hk_only')}={get_first_letter(hk_only)}\",\n",
    "            # f\"inflate={get_first_letter(inflate)}\",\n",
    "            # f\"{camel_case('adj_prem')}={get_first_letter(adj_prem)}\",\n",
    "            # f\"{camel_case('std_only')}={get_first_letter(std_only)}\",\n",
    "            # f\"{camel_case('vhis_only')}={get_first_letter(vhis_only)}\"\n",
    "\n",
    "            # f\"{camel_case('y_name')}={get_acronym(y_name, to_upper=False)}\",\n",
    "\n",
    "        ])\n",
    "\n",
    "# \"\" if eval(bool_var) else \"~\" + camel_case(bool_var)\n",
    "\n",
    "\n",
    "\n",
    "# camel_case(bool_var) if eval(bool_var) else f\"~{camel_case(bool_var)}\" for bool_var in bool_vars]\n"
   ]
  },
  {
   "cell_type": "code",
   "execution_count": null,
   "metadata": {},
   "outputs": [
    {
     "data": {
      "text/plain": [
       "'220611-085429|lr|algos=algo1&algo2|perf=Bad|strategy=None|var=123|monotone=T|hkOnly=F|inflate=T|UAAP=T'"
      ]
     },
     "metadata": {},
     "output_type": "display_data"
    }
   ],
   "source": [
    "monotone = True\n",
    "hk_only = False\n",
    "perf = 'Bad'\n",
    "algos = ['algo_1','algo_2']\n",
    "var = 123\n",
    "use_adj_annual_prem = True\n",
    "y_name = 'loss_ratio'\n",
    "strategy = None\n",
    "inflate=True\n",
    "formulation='comb'\n",
    "\n",
    "'|'.join([\n",
    "            get_time(),\n",
    "            # ----------------------- variable without showing name ---------------------- #\n",
    "            f\"{get_acronym(y_name, to_upper=False)}\",\n",
    "            \n",
    "            # --------------------------------- sequence --------------------------------- #\n",
    "            f\"{camel_case('algos')}={remove_quotes(algos)}\",\n",
    "            \n",
    "            # ------------------------------ string variable ----------------------------- #\n",
    "            f\"{camel_case('perf')}={perf}\",\n",
    "            f\"{camel_case('strategy')}={strategy}\",\n",
    "            f\"var={var}\",\n",
    "            \n",
    "            # ----------------------------- boolean variables ---------------------------- #\n",
    "            f\"{camel_case('monotone')}={get_first_letter(monotone)}\",\n",
    "            f\"{camel_case('hk_only')}={get_first_letter(hk_only)}\",            \n",
    "            f\"inflate={get_first_letter(inflate)}\",            \n",
    "            f\"{get_acronym('use_adj_annual_prem')}={get_first_letter(use_adj_annual_prem)}\",\n",
    "            \n",
    "            # f\"{camel_case('y_name')}={get_acronym(y_name, to_upper=False)}\",\n",
    "            \n",
    "        ])\n",
    "# 'useA=T|useB=F|isGood=Bad|algos=[algo_1,algo_2]|UAAP=True|yName=lr|strategy=None'\n",
    "\n"
   ]
  },
  {
   "cell_type": "markdown",
   "metadata": {},
   "source": [
    "# Chinese New Year wish generator"
   ]
  },
  {
   "cell_type": "code",
   "execution_count": null,
   "metadata": {},
   "outputs": [
    {
     "name": "stdout",
     "output_type": "stream",
     "text": [
      "祝你五虎臨門, 吉祥如意, 必定如意, 萬象更新, 財源滾滾, 鴻圖大展!!\n",
      "祝你春回大地, 必定如意, 財源滾滾, 福虎賀歲, 開市大發!!\n",
      "祝你萬事如意, 大發利市, 事事如意, 招財進寶, 一路發財!!\n",
      "祝你開市大發, 萬事如意, 國泰民安, 扭轉乾坤!!\n",
      "祝你萬象更新, 五虎臨門, 年年有餘, 步步高升!!\n",
      "祝你步步高升, 歲歲平安, 竹報平安, 五虎臨門, 開市大發, 財源廣進!!\n",
      "祝你年年高升, 鴻圖大展, 恭賀新禧, 恭喜發財, 風調雨順, 步步高升!!\n",
      "祝你瑞虎豐年, 風調雨順, 虎年發大財, 事事如意, 竹歲平安, 虎年興，虎年忘，虎年頂呱呱!!\n",
      "祝你虎轉乾坤行大運, 心想事成, 富貴有餘, 新年快樂, 時來運轉!!\n",
      "祝你虎年報福音, 虎年送福, 春回大地, 團圓有餘, 虎年發大財!!\n",
      "祝你虎年氣運好，成功業績高, 花開富貴, 大吉大利, 歲歲平安, 五虎臨門, 富貴有餘!!\n",
      "祝你大吉大利, 金虎祈福，闔家幸福, 花開富貴, 虎轉乾坤行大運!!\n",
      "祝你新春如意, 虎年送福, 恭賀新禧, 福虎賀新春, 虎年興，虎年忘，虎年頂呱呱!!\n",
      "祝你福虎賀新春, 福壽雙全, 開春大吉, 喜氣洋洋!!\n",
      "祝你富貴有餘, 迎春納福, 風調雨順, 福虎賀新春, 年年高升, 五虎臨門!!\n",
      "祝你吉慶有餘, 招財進寶, 虎年旺旺來, 竹報平安!!\n",
      "祝你風調雨順, 開春大吉, 新春快樂, 虎年報福音, 必定如意, 年年高升!!\n",
      "祝你金虎祈福，闔家幸福, 花開富貴, 心想事成, 恭賀新禧, 竹歲平安, 虎轉乾坤行大運!!\n",
      "祝你新春如意, 虎年氣運好，成功業績高, 恭喜發財, 萬事如意!!\n",
      "祝你鴻圖大展, 新春愉快, 春回大地, 虎年興，虎年忘，虎年頂呱呱!!\n",
      "祝你五虎臨門, 開市大發, 虎年報福音, 招財進寶!!\n",
      "祝你鴻圖大展, 年年高升, 一路發財, 開市大發, 虎年發大財!!\n",
      "祝你大吉大利, 開市大吉, 年年有餘, 金虎祈福，闔家幸福!!\n",
      "祝你福到眼前, 吉祥如意, 虎年旺旺來, 大吉大利!!\n",
      "祝你歲歲平安, 喜氣洋洋, 風調雨順, 竹報平安!!\n",
      "祝你開春大吉, 萬象更新, 虎年大豐收, 虎年旺旺來, 風調雨順, 新春愉快!!\n",
      "祝你虎年旺旺來, 花開富貴, 財源廣進, 團圓有餘, 歲歲平安, 春回大地!!\n",
      "祝你步步高升, 新年快樂, 新春愉快, 心想事成!!\n",
      "祝你富貴有餘, 虎年報福音, 年年有餘, 風調雨順, 心想事成!!\n",
      "祝你一路發財, 花開富貴, 歲歲平安, 虎轉乾坤行大運, 虎年到好運到!!\n",
      "祝你福壽雙全, 花開富貴, 瑞虎豐年, 萬事如意, 五虎臨門!!\n",
      "祝你歲歲平安, 花開富貴, 年年有餘, 風調雨順, 吉祥如意!!\n",
      "祝你福到眼前, 鴻圖大展, 瑞虎豐年, 扭轉乾坤!!\n",
      "祝你恭喜發財, 開市大吉, 一路發財, 瑞虎豐年!!\n",
      "祝你瑞虎豐年, 竹歲平安, 新春如意, 虎年大豐收, 福壽雙全!!\n",
      "祝你財源廣進, 新春愉快, 花開富貴, 虎年發大財, 事事如意, 福虎賀新春!!\n",
      "祝你五虎臨門, 國泰民安, 虎年興，虎年忘，虎年頂呱呱, 步步高升!!\n",
      "祝你竹報平安, 國泰民安, 虎年發大財, 福虎賀新春!!\n",
      "祝你事事如意, 瑞虎豐年, 春回大地, 福到眼前!!\n",
      "祝你必定如意, 五虎臨門, 竹歲平安, 富貴有餘, 開春大吉!!\n",
      "祝你瑞虎豐年, 喜氣洋洋, 步步高升, 心想事成, 開春大吉, 虎年大豐收!!\n",
      "祝你迎春納福, 金虎祈福，闔家幸福, 新春快樂, 虎年送福!!\n",
      "祝你年年有餘, 財源廣進, 步步高升, 春回大地, 風調雨順, 福虎賀新春!!\n",
      "祝你團圓有餘, 開市大吉, 富貴有餘, 財源廣進, 恭喜發財!!\n",
      "祝你吉慶有餘, 財源廣進, 扭轉乾坤, 步步高升, 五虎臨門!!\n",
      "祝你團圓有餘, 年年有餘, 財源廣進, 福虎賀歲!!\n",
      "祝你恭賀新禧, 歲歲平安, 竹報平安, 事事如意, 迎春納福, 福虎賀新春!!\n",
      "祝你瑞虎豐年, 虎年發大財, 福壽雙全, 迎春納福!!\n",
      "祝你必定如意, 一路發財, 五虎臨門, 歲歲平安, 萬事如意!!\n",
      "祝你竹報平安, 新春愉快, 喜氣洋洋, 迎春納福, 金虎祈福，闔家幸福!!\n",
      "祝你招財進寶, 心想事成, 開市大發, 新春如意, 大發利市!!\n",
      "祝你年年高升, 時來運轉, 萬事如意, 新春如意!!\n",
      "祝你年年高升, 開市大發, 大吉大利, 時來運轉, 招財進寶, 虎年旺旺來!!\n",
      "祝你虎年到好運到, 事事如意, 虎年報福音, 年年有餘, 迎春納福!!\n",
      "祝你喜氣洋洋, 開市大吉, 財源滾滾, 春回大地!!\n",
      "祝你恭喜發財, 喜氣洋洋, 虎年報福音, 時來運轉!!\n",
      "祝你一路發財, 扭轉乾坤, 步步高升, 吉慶有餘, 閤家平安!!\n",
      "祝你年年有餘, 福到眼前, 事事如意, 年年高升, 福虎賀新春!!\n",
      "祝你喜氣洋洋, 心想事成, 虎年旺旺來, 歲歲平安, 富貴有餘, 扭轉乾坤!!\n",
      "祝你虎年發大財, 福壽雙全, 虎年氣運好，成功業績高, 大發利市, 新年快樂!!\n",
      "祝你新春愉快, 萬事如意, 虎年旺旺來, 萬象更新!!\n",
      "祝你新春愉快, 虎年到好運到, 一路發財, 大發利市!!\n",
      "祝你大發利市, 福到眼前, 竹報平安, 吉慶有餘, 春回大地, 金虎祈福，闔家幸福!!\n",
      "祝你花開富貴, 虎年到好運到, 竹報平安, 竹歲平安, 招財進寶, 金虎祈福，闔家幸福!!\n",
      "祝你吉慶有餘, 團圓有餘, 大發利市, 開市大吉!!\n",
      "祝你招財進寶, 喜氣洋洋, 新春快樂, 迎春納福!!\n",
      "祝你虎年氣運好，成功業績高, 竹報平安, 福壽雙全, 開市大吉, 風調雨順, 虎年到好運到!!\n",
      "祝你步步高升, 財源廣進, 招財進寶, 開市大發!!\n",
      "祝你恭賀新禧, 新年快樂, 恭喜發財, 一路發財!!\n",
      "祝你大發利市, 年年有餘, 大吉大利, 富貴有餘, 虎年送福, 必定如意!!\n",
      "祝你恭喜發財, 喜氣洋洋, 福虎賀新春, 開市大吉, 竹歲平安!!\n",
      "祝你虎年大豐收, 福到眼前, 大發利市, 五虎臨門, 年年有餘!!\n",
      "祝你新年快樂, 虎年到好運到, 竹歲平安, 一路發財!!\n",
      "祝你竹歲平安, 歲歲平安, 一路發財, 閤家平安!!\n",
      "祝你國泰民安, 虎年大豐收, 福虎賀歲, 竹報平安!!\n",
      "祝你吉祥如意, 富貴有餘, 虎年送福, 開市大吉, 吉慶有餘!!\n",
      "祝你吉祥如意, 歲歲平安, 開春大吉, 新春快樂!!\n",
      "祝你開春大吉, 竹報平安, 福壽雙全, 虎年報福音, 扭轉乾坤!!\n",
      "祝你事事如意, 年年高升, 開市大發, 虎年旺旺來, 竹歲平安!!\n",
      "祝你吉祥如意, 虎年送福, 新年快樂, 虎年報福音!!\n",
      "祝你五虎臨門, 福壽雙全, 大吉大利, 時來運轉, 吉慶有餘!!\n",
      "祝你春回大地, 閤家平安, 花開富貴, 虎年到好運到, 國泰民安, 時來運轉!!\n",
      "祝你吉慶有餘, 虎轉乾坤行大運, 喜氣洋洋, 風調雨順!!\n",
      "祝你富貴有餘, 瑞虎豐年, 虎年氣運好，成功業績高, 事事如意!!\n",
      "祝你金虎祈福，闔家幸福, 福到眼前, 吉慶有餘, 必定如意, 福壽雙全, 團圓有餘!!\n",
      "祝你春回大地, 福虎賀新春, 新春如意, 喜氣洋洋, 吉祥如意, 恭賀新禧!!\n",
      "祝你事事如意, 竹歲平安, 新春如意, 歲歲平安, 新年快樂!!\n",
      "祝你吉祥如意, 萬象更新, 迎春納福, 心想事成!!\n",
      "祝你虎年送福, 閤家平安, 事事如意, 虎年發大財, 福虎賀新春!!\n",
      "祝你新年快樂, 虎年到好運到, 吉慶有餘, 新春快樂, 一路發財!!\n",
      "祝你虎年到好運到, 一路發財, 開市大發, 國泰民安!!\n",
      "祝你迎春納福, 虎年到好運到, 年年有餘, 心想事成, 一路發財, 必定如意!!\n",
      "祝你虎年送福, 扭轉乾坤, 必定如意, 團圓有餘!!\n",
      "祝你虎年送福, 恭喜發財, 吉慶有餘, 事事如意!!\n",
      "祝你恭喜發財, 一路發財, 萬象更新, 虎年大豐收, 花開富貴!!\n",
      "祝你國泰民安, 虎年發大財, 風調雨順, 虎年到好運到, 金虎祈福，闔家幸福!!\n",
      "祝你迎春納福, 竹歲平安, 萬事如意, 扭轉乾坤, 吉祥如意, 金虎祈福，闔家幸福!!\n",
      "祝你年年有餘, 虎年興，虎年忘，虎年頂呱呱, 虎轉乾坤行大運, 大吉大利, 大發利市!!\n",
      "祝你新春快樂, 吉祥如意, 竹報平安, 花開富貴!!\n",
      "祝你必定如意, 喜氣洋洋, 虎年氣運好，成功業績高, 歲歲平安, 虎年報福音!!\n"
     ]
    }
   ],
   "source": [
    "names = (\"tim, ricky, boss, peter, joe, sally\").split(', ')\n",
    "# print(names)\n",
    "\n",
    "with Path('../../data/CNY_wish.txt').open() as f:\n",
    "    wishes = [wish.strip() for wish in f]\n",
    "\n",
    "for i in range(100):\n",
    "    wish_combined = ', '.join(np.random.choice(wishes, size=np.random.randint(low=4,high=7,size=1), replace=False))\n",
    "    # print(f'hello {name}, 祝你{wish_combined}!!')\n",
    "    print(f'祝你{wish_combined}!!')"
   ]
  }
 ],
 "metadata": {
  "kernelspec": {
   "display_name": "Python 3.10.4 ('data_science')",
   "language": "python",
   "name": "python3"
  },
  "language_info": {
   "codemirror_mode": {
    "name": "ipython",
    "version": 3
   },
   "file_extension": ".py",
   "mimetype": "text/x-python",
   "name": "python",
   "nbconvert_exporter": "python",
   "pygments_lexer": "ipython3",
   "version": "3.10.4"
  },
  "orig_nbformat": 4,
  "vscode": {
   "interpreter": {
    "hash": "ae74f9feb07f97b665e59d852dca9947bf3c6be9bdf551f43d711a8fd00af3ab"
   }
  }
 },
 "nbformat": 4,
 "nbformat_minor": 2
}
