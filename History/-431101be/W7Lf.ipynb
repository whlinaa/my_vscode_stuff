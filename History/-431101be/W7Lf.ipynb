{
 "cells": [
  {
   "cell_type": "code",
   "execution_count": null,
   "metadata": {},
   "outputs": [
    {
     "name": "stdout",
     "output_type": "stream",
     "text": [
      "calling self ds_preamble..\n",
      "calling ds_helper...\n"
     ]
    }
   ],
   "source": [
    "%load_ext autoreload\n",
    "%autoreload 2\n",
    "from ds_utils.ds_preamble import *\n",
    "from ds_utils.ds_helper import *\n",
    "from ds_utils.ds_plotting import *\n",
    "# from glob import glob\n",
    "# import re\n",
    "# import datetime\n",
    "# import duckdb\n",
    "# import pathlib\n",
    "# from ds_utils.ds_preamble import *  # # self-defined module\n",
    "# from ds_utils.ds_helper import *  # self-defined module\n",
    "# from ds_utils.ds_plotting import *  # # self-defined module\n",
    "# import seaborn as sns\n",
    "tips = sns.load_dataset('tips')\n",
    "tips_tiny = tips.sample(20)\n",
    "\n",
    "df = tips\n",
    "    \n",
    "titanic = sns.load_dataset('titanic')\n",
    "\n",
    "np.random.seed(123)\n",
    "tips['decile'] = np.random.randint(1,4, size=len(tips))\n",
    "\n",
    "train = tips.sample(frac=0.7, random_state=30).reset_index(drop=True)\n",
    "test = tips.drop(train.index).reset_index(drop=True)\n",
    "# survey = pd.read_csv(\"/Users/whlin/Library/CloudStorage/OneDrive-HKUSTConnect/Documents/python/data/stack-overflow-developer-survey-2019/survey_results_public.csv\").sample(10_000)\n",
    "\n",
    "# import importlib\n",
    "# importlib.reload(ds_preamble)\n",
    "import math\n",
    "\n",
    "import scipy as sp\n",
    "from math import comb\n",
    "from functools import cache\n",
    "\n",
    "import heapq\n",
    "from typing import List\n",
    "import copy\n",
    "import functools\n",
    "import itertools\n"
   ]
  },
  {
   "attachments": {},
   "cell_type": "markdown",
   "metadata": {},
   "source": [
    "## to be classified"
   ]
  },
  {
   "attachments": {},
   "cell_type": "markdown",
   "metadata": {},
   "source": [
    "## is_valid_subsequence"
   ]
  },
  {
   "cell_type": "code",
   "execution_count": null,
   "metadata": {},
   "outputs": [],
   "source": [
    "def is_valid_subsequence(array, sequence):\n",
    "    # Write your code here.\n",
    "    # i = 0\n",
    "    # for x in array:\n",
    "    # \tif x == sequence[i]:\n",
    "    # \t\ti+=1\n",
    "    # \t\tif i == len(sequence): return True\n",
    "    # return False\n",
    "\n",
    "    # M2\n",
    "    arr_idx = seq_idx = 0\n",
    "    while arr_idx < len(array) and seq_idx < len(sequence):\n",
    "        if array[arr_idx] == sequence[seq_idx]:\n",
    "            seq_idx+=1\n",
    "        arr_idx+=1\n",
    "    return seq_idx == len(sequence)\n",
    "\n",
    "array=[5,1,22,25,6,-1,8,10]\n",
    "sequence=[1,6,-1,10]\n",
    "is_valid_subsequence(array, sequence)"
   ]
  },
  {
   "attachments": {},
   "cell_type": "markdown",
   "metadata": {},
   "source": [
    "## 122. Best Time to Buy and Sell Stock II: \n",
    "- https://leetcode.com/problems/best-time-to-buy-and-sell-stock-ii/"
   ]
  },
  {
   "cell_type": "code",
   "execution_count": null,
   "metadata": {},
   "outputs": [],
   "source": [
    "def max_profit(prices: List[int]) -> int:\n",
    "    # at any time, we can hold one stock only!\n",
    "    profit = 0\n",
    "    for i in range(1, len(prices)):\n",
    "        if prices[i] > prices[i-1]:\n",
    "            profit += prices[i] - prices[i-1]\n",
    "    return profit\n",
    "\n",
    "prices = [7,1,5,3,6,4]\n",
    "prices = [1,2,3,4,5]\n",
    "prices = [7,6,4,3,1]\n",
    "max_profit(prices)"
   ]
  },
  {
   "attachments": {},
   "cell_type": "markdown",
   "metadata": {},
   "source": [
    "## 5. Longest Palindromic Substring\n",
    "- https://leetcode.com/problems/longest-palindromic-substring/"
   ]
  },
  {
   "cell_type": "code",
   "execution_count": null,
   "metadata": {},
   "outputs": [],
   "source": [
    "def longest_palindrome(s) -> str:\n",
    "    \n",
    "    # brute force: TC => O(n^3)\n",
    "    # n = len(s)\n",
    "    # res = ''\n",
    "    # n_res = 0 \n",
    "    # for i in range(n):\n",
    "    #     for j in range(i,n):\n",
    "    #         candidate = s[i:j+1]\n",
    "    #         if j-i+1>n_res and all(x==y for x,y in zip(candidate, reversed(candidate))):\n",
    "    #             res=candidate\n",
    "    #             n_res = j-i+1\n",
    "    # return res\n",
    "\n",
    "    # M2: for each char, start at it and then expand to the two directions\n",
    "    n = len(s)\n",
    "    res = ''\n",
    "    n_res = 0 \n",
    "\n",
    "    # len is odd case\n",
    "    for i in range(n):\n",
    "        l = r = i\n",
    "        while l>=0 and r<=n-1 and s[l]==s[r]:\n",
    "            if r-l+1 >n_res:\n",
    "                res=s[l:r+1]\n",
    "                n_res = r-l+1\n",
    "            l-=1\n",
    "            r+=1\n",
    "    # return res\n",
    "\n",
    "    # len is even case\n",
    "    for i in range(n):\n",
    "        l = i\n",
    "        r = i + 1\n",
    "        while l>=0 and r<=n-1 and s[l]==s[r]:\n",
    "            if r-l+1 >n_res:\n",
    "                res=s[l:r+1]\n",
    "                n_res = r-l+1\n",
    "            l-=1\n",
    "            r+=1\n",
    "    return res\n",
    "    \n",
    "\n",
    "s = \"aaa\"\n",
    "longest_palindrome(s)"
   ]
  },
  {
   "attachments": {},
   "cell_type": "markdown",
   "metadata": {},
   "source": [
    "## 283. Move Zeroes: \n",
    "- https://leetcode.com/problems/move-zeroes/"
   ]
  },
  {
   "cell_type": "code",
   "execution_count": null,
   "metadata": {},
   "outputs": [],
   "source": [
    "def move_zeros_end(a):\n",
    "    # move all zeros to end, but keep the relative ordering\n",
    "    l = r = 0\n",
    "    # for i in range(len(a)):\n",
    "    for n in a:\n",
    "        if n !=0:\n",
    "            a[l], a[r] = a[r], a[l]\n",
    "            l+=1\n",
    "        r+=1\n",
    "    return a\n",
    "\n",
    "a=[0,1,0,3,9]\n",
    "move_zeros_end(a)"
   ]
  },
  {
   "attachments": {},
   "cell_type": "markdown",
   "metadata": {},
   "source": [
    "## 36. Valid Sudoku\n",
    "- https://leetcode.com/problems/valid-sudoku/"
   ]
  },
  {
   "cell_type": "code",
   "execution_count": null,
   "metadata": {},
   "outputs": [],
   "source": [
    "def is_valid_sudoku(board: List[List[str]]) -> bool:\n",
    "    from collections import defaultdict\n",
    "    rows = defaultdict(set)\n",
    "    cols = defaultdict(set)\n",
    "    squares = defaultdict(set)\n",
    "\n",
    "    for i in range(9):\n",
    "        for j in range(9):\n",
    "            val = board[i][j]\n",
    "            if val != '.' and (val in rows[i] or \n",
    "                                val in cols[j] or \n",
    "                                val in squares[(i//3, j//3)]):\n",
    "                return False\n",
    "            rows[i].add(val)\n",
    "            cols[j].add(val)\n",
    "            squares[(i//3, j//3)].add(val)\n",
    "    return True\n",
    "\n",
    "board = [[\"5\",\"3\",\".\",\".\",\"7\",\".\",\".\",\".\",\".\"]\n",
    ",[\"6\",\".\",\".\",\"1\",\"9\",\"5\",\".\",\".\",\".\"]\n",
    ",[\".\",\"9\",\"8\",\".\",\".\",\".\",\".\",\"6\",\".\"]\n",
    ",[\"8\",\".\",\".\",\".\",\"6\",\".\",\".\",\".\",\"3\"]\n",
    ",[\"4\",\".\",\".\",\"8\",\".\",\"3\",\".\",\".\",\"1\"]\n",
    ",[\"7\",\".\",\".\",\".\",\"2\",\".\",\".\",\".\",\"6\"]\n",
    ",[\".\",\"6\",\".\",\".\",\".\",\".\",\"2\",\"8\",\".\"]\n",
    ",[\".\",\".\",\".\",\"4\",\"1\",\"9\",\".\",\".\",\"5\"]\n",
    ",[\".\",\".\",\".\",\".\",\"8\",\".\",\".\",\"7\",\"9\"]]\n",
    "\n",
    "# [[\"8\",\"3\",\".\",\".\",\"7\",\".\",\".\",\".\",\".\"]\n",
    "# ,[\"6\",\".\",\".\",\"1\",\"9\",\"5\",\".\",\".\",\".\"]\n",
    "# ,[\".\",\"9\",\"8\",\".\",\".\",\".\",\".\",\"6\",\".\"]\n",
    "# ,[\"8\",\".\",\".\",\".\",\"6\",\".\",\".\",\".\",\"3\"]\n",
    "# ,[\"4\",\".\",\".\",\"8\",\".\",\"3\",\".\",\".\",\"1\"]\n",
    "# ,[\"7\",\".\",\".\",\".\",\"2\",\".\",\".\",\".\",\"6\"]\n",
    "# ,[\".\",\"6\",\".\",\".\",\".\",\".\",\"2\",\"8\",\".\"]\n",
    "# ,[\".\",\".\",\".\",\"4\",\"1\",\"9\",\".\",\".\",\"5\"]\n",
    "# ,[\".\",\".\",\".\",\".\",\"8\",\".\",\".\",\"7\",\"9\"]]\n",
    "\n",
    "is_valid_sudoku(board)"
   ]
  },
  {
   "attachments": {},
   "cell_type": "markdown",
   "metadata": {},
   "source": [
    "# array"
   ]
  },
  {
   "attachments": {},
   "cell_type": "markdown",
   "metadata": {},
   "source": [
    "## 287. Find the Duplicate Number: \n",
    "- https://leetcode.com/problems/find-the-duplicate-number/"
   ]
  },
  {
   "cell_type": "code",
   "execution_count": null,
   "metadata": {},
   "outputs": [],
   "source": [
    "def find_duplicate(nums) -> int:\n",
    "    n = len(nums) - 1\n",
    "    total = (1+n)*(n/2)\n",
    "    return sum(nums) - total\n",
    "\n",
    "# nums = [1,3,4,2,2]\n",
    "nums = [3,1,3,4,2]\n",
    "find_duplicate(nums)"
   ]
  },
  {
   "attachments": {},
   "cell_type": "markdown",
   "metadata": {},
   "source": [
    "## 560. Subarray Sum Equals K\n"
   ]
  },
  {
   "cell_type": "code",
   "execution_count": 956,
   "metadata": {},
   "outputs": [
    {
     "name": "stdout",
     "output_type": "stream",
     "text": [
      "{1: 2, 0: 1, 2: 1, 3: 1, 4: 1} 4\n"
     ]
    }
   ],
   "source": [
    "def subarraySum(nums: List[int], k: int ) -> int:\n",
    "    # M1: naive\n",
    "    # n = len(nums)\n",
    "    # cnt = sum(sum(nums[i:j+1]) == k for i in range(n) for j in range(i, n))\n",
    "    # # print(cnt)\n",
    "    # return cnt\n",
    "\n",
    "    # M2: use a dict to store prefix sum to count mapping\n",
    "    d = {}\n",
    "    cnt = 0\n",
    "    cur_sum = 0 \n",
    "    for i in range(len(nums)):\n",
    "        cur_sum += nums[i]\n",
    "        d[cur_sum] = d.get(cur_sum, 0) + 1\n",
    "        cnt += d.get(cur_sum - k, 0) + (1 if cur_sum == k else 0 )\n",
    "    print(d, cnt)\n",
    "\n",
    "# nums = [1,1,1]\n",
    "# k = 3\n",
    "# nums = [1,-1,1,1, 1, 1]\n",
    "# k = 3\n",
    "nums = [1,-1,1,1]\n",
    "k = 2\n",
    "# subarraySum(nums, k)\n",
    "subarraySum(nums, k)\n"
   ]
  },
  {
   "attachments": {},
   "cell_type": "markdown",
   "metadata": {},
   "source": [
    "## 706. Design HashMap"
   ]
  },
  {
   "cell_type": "code",
   "execution_count": null,
   "metadata": {},
   "outputs": [],
   "source": [
    "class MyHashMap:\n",
    "\n",
    "    def __init__(self):\n",
    "        \n",
    "\n",
    "    def put(self, key: int, value: int) -> None:\n",
    "        \n",
    "\n",
    "    def get(self, key: int) -> int:\n",
    "        \n",
    "\n",
    "    def remove(self, key: int) -> None:\n",
    "        \n",
    "\n",
    "\n",
    "# Your MyHashMap object will be instantiated and called as such:\n",
    "# obj = MyHashMap()\n",
    "# obj.put(key,value)\n",
    "# param_2 = obj.get(key)\n",
    "# obj.remove(key)"
   ]
  },
  {
   "attachments": {},
   "cell_type": "markdown",
   "metadata": {},
   "source": [
    "# 28. Find the Index of the First Occurrence in a String\n"
   ]
  },
  {
   "cell_type": "code",
   "execution_count": 547,
   "metadata": {},
   "outputs": [
    {
     "data": {
      "text/plain": [
       "-1"
      ]
     },
     "execution_count": 547,
     "metadata": {},
     "output_type": "execute_result"
    }
   ],
   "source": [
    "def strStr(haystack: str, needle: str) -> int:\n",
    "    # same as s.find\n",
    "    # M1: naive\n",
    "    # for i in range(len(haystack)-len(needle)+1):\n",
    "    #     if haystack[i:i+len(needle)] == needle:\n",
    "    #         return i\n",
    "    # return -1\n",
    "    \n",
    "    # M2\n",
    "    i=j=0\n",
    "    while i < len(haystack) and j <len(needle):\n",
    "        if haystack[i] == needle[j]:\n",
    "            j+=1\n",
    "            # if j == len(needle):\n",
    "            #     return i-len(needle)+1\n",
    "        else:\n",
    "            j = 1 if haystack[i] == needle[0] else 0 \n",
    "        i+=1\n",
    "        \n",
    "    if j == len(needle):\n",
    "        return i-len(needle)\n",
    "    else:\n",
    "        return -1\n",
    "        \n",
    "            \n",
    "haystack = 'fdsfsdsvvfdsfsdfds'\n",
    "needle = 'sad'\n",
    "# haystack = 'ssad'\n",
    "# needle = 'sad'\n",
    "# haystack = \"sadbut\"\n",
    "# needle = \"but\"\n",
    "strStr(haystack, needle)\n"
   ]
  },
  {
   "attachments": {},
   "cell_type": "markdown",
   "metadata": {},
   "source": [
    "# 392. Is Subsequence\n"
   ]
  },
  {
   "cell_type": "code",
   "execution_count": 507,
   "metadata": {},
   "outputs": [
    {
     "data": {
      "text/plain": [
       "True"
      ]
     },
     "execution_count": 507,
     "metadata": {},
     "output_type": "execute_result"
    }
   ],
   "source": [
    "def isSubsequence(s: str, t: str) -> bool:\n",
    "    # s is subsequence of t or not\n",
    "    \n",
    "    # M1: for loop\n",
    "    # cur = 0\n",
    "    # # while cur < len(s):\n",
    "    # for x in t:\n",
    "    #     if x == s[cur]:\n",
    "    #         cur += 1\n",
    "    #         if cur == len(s):\n",
    "    #             return True\n",
    "    # return False \n",
    "\n",
    "    # M2: while loop\n",
    "    i = 0 # ptr for s\n",
    "    j = 0 # ptr for t\n",
    "    while i < len(s) and j < len(t):\n",
    "        if t[j] == s[i]:\n",
    "            i += 1\n",
    "        j += 1\n",
    "    return i == len(s)\n",
    "\n",
    "\n",
    "s = \"abc\"\n",
    "t = \"ahbgdc\"\n",
    "isSubsequence(s,t)\n",
    "\n"
   ]
  },
  {
   "attachments": {},
   "cell_type": "markdown",
   "metadata": {},
   "source": [
    "# 118. Pascal's Triangle\n"
   ]
  },
  {
   "cell_type": "code",
   "execution_count": 399,
   "metadata": {},
   "outputs": [
    {
     "name": "stdout",
     "output_type": "stream",
     "text": [
      "[[1], [1, 1], [1, 2, 1], [1, 3, 3, 1], [1, 4, 6, 4, 1]]\n"
     ]
    }
   ],
   "source": [
    "def generate(numRows: int) -> List[List[int]]:\n",
    "    res = [[0]*(i+1) for i in range(numRows)]\n",
    "    res[0] = [1]\n",
    "    res[1] = [1,1]\n",
    "    for i in range(2, numRows):\n",
    "        for j in range(i+1):\n",
    "            res[i][j] = 1 if j in [0, i] else res[i-1][j-1] + res[i-1][j]\n",
    "    print(res)\n",
    "    \n",
    "generate(5)\n"
   ]
  },
  {
   "attachments": {},
   "cell_type": "markdown",
   "metadata": {},
   "source": [
    "# 605. Can Place Flowers\n"
   ]
  },
  {
   "cell_type": "code",
   "execution_count": 418,
   "metadata": {},
   "outputs": [
    {
     "data": {
      "text/plain": [
       "True"
      ]
     },
     "execution_count": 418,
     "metadata": {},
     "output_type": "execute_result"
    }
   ],
   "source": [
    "def canPlaceFlowers(flowerbed: List[int], n: int) -> bool:\n",
    "    # if flowerbed[0] == flowerbed[1] == 0:\n",
    "    #     flowerbed[0] = 1\n",
    "    #     n-=1\n",
    "    #     if n == 0: \n",
    "    #         print(flowerbed)\n",
    "    #         return True\n",
    "    \n",
    "    # if flowerbed[-1] == flowerbed[-2] == 0:\n",
    "    #     flowerbed[-1] = 1\n",
    "    #     n-=1\n",
    "    #     if n == 0: \n",
    "    #         print(flowerbed)\n",
    "    #         return True\n",
    "    \n",
    "    # for i in range(1, len(flowerbed)-1):\n",
    "    #     if flowerbed[i] == 0 and flowerbed[i-1] == 0 and flowerbed[i+1] == 0:\n",
    "    #         flowerbed[i] = 1\n",
    "    #         n -= 1\n",
    "    #         if n == 0: \n",
    "    #             print(flowerbed)\n",
    "    #             return True\n",
    "    # return False \n",
    "    \n",
    "    # l=0\n",
    "    # for i, x in enumerate(flowerbed[:-1]):\n",
    "    #     if l==0 and x==0 and flowerbed[i+1]==0:\n",
    "    #         flowerbed[i] = 1\n",
    "    #         l = 1\n",
    "    #         n-=1\n",
    "    #         if n == 0:\n",
    "    #             print(flowerbed)\n",
    "    #             return True\n",
    "    #     l = x\n",
    "            \n",
    "    # if flowerbed[-1] == flowerbed[-2] == 0:\n",
    "    #     flowerbed[-1] = 1\n",
    "    #     n-=1\n",
    "    #     if n == 0: \n",
    "    #         print(flowerbed)\n",
    "    #         return True\n",
    "        \n",
    "    # return False \n",
    "\n",
    "    # M3: use sentinel \n",
    "    flowerbed = [0] + flowerbed + [0]\n",
    "    for i in range(1, len(flowerbed)-1):\n",
    "        if flowerbed[i-1] == flowerbed[i] == flowerbed[i+1] == 0:\n",
    "            n-=1\n",
    "            flowerbed[i] = 1\n",
    "            if n == 0:\n",
    "                return True\n",
    "    return False \n",
    "        \n",
    "\n",
    "flowerbed = [1,0,0,0,1, 0, 0]\n",
    "# flowerbed = [1,0,0,0,1]\n",
    "n = 1\n",
    "canPlaceFlowers(flowerbed, 2)"
   ]
  },
  {
   "attachments": {},
   "cell_type": "markdown",
   "metadata": {},
   "source": [
    "# 448. Find All Numbers Disappeared in an Array"
   ]
  },
  {
   "cell_type": "code",
   "execution_count": 441,
   "metadata": {},
   "outputs": [
    {
     "data": {
      "text/plain": [
       "[5, 6]"
      ]
     },
     "execution_count": 441,
     "metadata": {},
     "output_type": "execute_result"
    }
   ],
   "source": [
    "def findDisappearedNumbers(nums: List[int]) -> List[int]:\n",
    "    # M1 \n",
    "    # n = len(nums)\n",
    "    # exists = [0]*n\n",
    "    # for x in nums:\n",
    "    #     exists[x-1] = 1\n",
    "    # return [i+1 for i, x in enumerate(exists) if x == 0]\n",
    "    \n",
    "    # M2  \n",
    "    # n = len(nums)\n",
    "    # print(set(range(1,n+1)).difference(nums))\n",
    "    \n",
    "    # M3: basically M2, but DIY\n",
    "    # n = len(nums)\n",
    "    # res = set(range(1,n+1))\n",
    "    # for x in nums:\n",
    "    #     if x in res:\n",
    "    #         res.remove(x)\n",
    "    # print(res)\n",
    "    \n",
    "    # M4: constant space\n",
    "    for i in range(len(nums)):\n",
    "        idx = abs(nums[i])-1\n",
    "        if nums[idx]>0:\n",
    "            nums[idx] *= -1\n",
    "    # print(nums)\n",
    "    \n",
    "    return [i+1 for i, x in enumerate(nums) if x>0]\n",
    "\n",
    "nums = [4,3,2,7,8,2,3,1]\n",
    "findDisappearedNumbers(nums)\n",
    "\n"
   ]
  },
  {
   "cell_type": "code",
   "execution_count": null,
   "metadata": {},
   "outputs": [],
   "source": []
  },
  {
   "cell_type": "code",
   "execution_count": null,
   "metadata": {},
   "outputs": [],
   "source": [
    "# 560. Subarray Sum Equals K\n"
   ]
  },
  {
   "cell_type": "code",
   "execution_count": null,
   "metadata": {},
   "outputs": [],
   "source": [
    "def subarraySum(nums: List[int], k: int) -> int:\n",
    "    # M1: naive\n",
    "    \n"
   ]
  },
  {
   "attachments": {},
   "cell_type": "markdown",
   "metadata": {},
   "source": [
    "# 75. Sort Colors\n"
   ]
  },
  {
   "cell_type": "code",
   "execution_count": 395,
   "metadata": {},
   "outputs": [
    {
     "data": {
      "text/plain": [
       "[0, 0, 1, 1, 1, 1, 2, 2, 2, 2]"
      ]
     },
     "execution_count": 395,
     "metadata": {},
     "output_type": "execute_result"
    }
   ],
   "source": [
    "def sortColors(nums: List[int]) -> None:\n",
    "    # ------------------------- M1: bucket sort, inplace ------------------------- #\n",
    "    # need two passes\n",
    "    cnts = [0]*3\n",
    "    for num in nums:\n",
    "        cnts[num] += 1\n",
    "        \n",
    "    j = 0\n",
    "    for val, cnt in enumerate(cnts):\n",
    "        for i in range(cnt):\n",
    "            nums[j] = val \n",
    "            j+=1 \n",
    "    return nums\n",
    "\n",
    "\n",
    "nums = [2,0,2,1,1,0]\n",
    "nums = [2,0,2,1,1,0,1,1,2,2]\n",
    "sortColors(nums)"
   ]
  },
  {
   "attachments": {},
   "cell_type": "markdown",
   "metadata": {},
   "source": [
    "## 217. Contains Duplicate"
   ]
  },
  {
   "cell_type": "code",
   "execution_count": 10,
   "metadata": {},
   "outputs": [
    {
     "data": {
      "text/plain": [
       "False"
      ]
     },
     "execution_count": 10,
     "metadata": {},
     "output_type": "execute_result"
    }
   ],
   "source": [
    "def contains_duplicate(nums: list[int]) -> bool:\n",
    "    # M1: use set, then compare length\n",
    "    # return len(set(nums)) != len(nums)\n",
    "    \n",
    "    # M2: build a set. Note: search for set is constant\n",
    "    # res = set()\n",
    "    # for num in nums:\n",
    "    #     if num not in res:\n",
    "    #         res.add(num)\n",
    "    #     else:\n",
    "    #         return False \n",
    "    # return True \n",
    "\n",
    "    # M3: sorting. bad\n",
    "    nums = sorted(nums)\n",
    "    for i in range(len(nums)-1):\n",
    "        if nums[i] == nums[i+1]:\n",
    "            return False\n",
    "    return True \n",
    "        \n",
    "\n",
    "\n",
    "    \n",
    "\n",
    "    # print(\"helllo\")\n",
    "    \n",
    "nums = [1,2,3,1]\n",
    "nums = [1,2,3,4]\n",
    "nums = [1,1]\n",
    "contains_duplicate(nums)"
   ]
  },
  {
   "attachments": {},
   "cell_type": "markdown",
   "metadata": {},
   "source": [
    "## 242. Valid Anagram\n",
    "- anagram is just a permutation of a sequence\n",
    "- idea: check whether the character distributions of the two given strings are the same"
   ]
  },
  {
   "cell_type": "code",
   "execution_count": 72,
   "metadata": {},
   "outputs": [
    {
     "data": {
      "text/plain": [
       "True"
      ]
     },
     "execution_count": 72,
     "metadata": {},
     "output_type": "execute_result"
    }
   ],
   "source": [
    "def valid_anagram(s, t):\n",
    "    # return true if t is an anagram of s\n",
    "    \n",
    "    # --------------------------------- M1: naive -------------------------------- #\n",
    "    # counts = {}\n",
    "        # # increment the count\n",
    "    # for c in s:\n",
    "    #     counts[c] = counts.get(c, 0) + 1\n",
    "        \n",
    "    # # print(counts)\n",
    "    \n",
    "    # # decrement the count \n",
    "    # for c in t:\n",
    "    #     try: \n",
    "    #         counts[c] -= 1 \n",
    "    #     except:\n",
    "    #         return False\n",
    "        \n",
    "    # print(counts)\n",
    "    \n",
    "    # return all(cnt == 0 for cnt in counts.values()) \n",
    "    # ---------------------------------------------------------------------------- #\n",
    "\n",
    "    # ------- M2: make sure the lengths are the same; iterate two sequence ------- #\n",
    "    # if len(s) != len(t): return False\n",
    "    \n",
    "    # counts = {}\n",
    "    # # now, len(s) == len(t)\n",
    "    # for i in range(len(s)):\n",
    "    #     counts[s[i]] = counts.get(s[i], 0) + 1\n",
    "    #     counts[t[i]] = counts.get(t[i], 0) - 1\n",
    "    \n",
    "    # return all(cnt == 0 for cnt in counts.values()) \n",
    "    \n",
    "    # ------------------------------ M3: use counter ----------------------------- #\n",
    "    # return Counter(s) == Counter(t)\n",
    "\n",
    "    # --------------------- M4: O(1) space, but O(nlogn) time -------------------- #\n",
    "    if len(s) != len(t): return False\n",
    "    \n",
    "    return sorted(s) == sorted(t)\n",
    "    # ---------------------------------------------------------------------------- #\n",
    "\n",
    "s = \"anagram\"\n",
    "t = \"nagaram\"\n",
    "# t = ''.join(np.random.permutation(list(s)))\n",
    "# t='dsf'\n",
    "\n",
    "valid_anagram(s,t)\n",
    "        "
   ]
  },
  {
   "attachments": {},
   "cell_type": "markdown",
   "metadata": {},
   "source": [
    "# 347. Top K Frequent Elements\n",
    "- important: this problem gives rise to a new data structures: freq_to_val structure!\n",
    "- this is a list of lists\n",
    "- index = freq\n",
    "- val = a list sotring which values have the frequency\n",
    "- it's similar to bucket sort"
   ]
  },
  {
   "cell_type": "code",
   "execution_count": 135,
   "metadata": {},
   "outputs": [
    {
     "name": "stdout",
     "output_type": "stream",
     "text": [
      "[(3, 1), (2, 2), (1, 3)]\n"
     ]
    },
    {
     "data": {
      "text/plain": [
       "[1, 2]"
      ]
     },
     "execution_count": 135,
     "metadata": {},
     "output_type": "execute_result"
    }
   ],
   "source": [
    "def top_k_frequent(t, k, keep='all'):\n",
    "    # M1: find frequency dist, then sort, and return first k \n",
    "    # - TC: O(nlogn)\n",
    "    # - SC: O(n), since the frequency list can potentially have n items\n",
    "    \n",
    "    # counts = Counter(t)\n",
    "    # # return [num for num, freq in counts.most_common(k)]\n",
    "    # return sorted(counts, key = lambda t: counts[t], reverse=True)[:k]\n",
    "\n",
    "    # ----------------------- M2: use bucket-sort-like algo ---------------------- #\n",
    "    # index: freq\n",
    "    # val: a list storing which values have the frequency\n",
    "    # ex: [1,1,1,2,2,3] => [[], [3], [2], [1], [], [], []]\n",
    "    # TC: O(n)\n",
    "    # SC: O(n)\n",
    "    # can deal with `keep` parameter\n",
    "    \n",
    "    # counts = Counter(t) # O(n)\n",
    "    # freq_to_val = [[] for i in range(len(t)+1)]\n",
    "    # res = []\n",
    "    # for key, val in counts.items():\n",
    "    #     freq_to_val[val].append(key)\n",
    "    \n",
    "    # for i in range(len(freq_to_val)-1, -1, -1):\n",
    "    #     cur_list = freq_to_val[i]\n",
    "    #     if keep=='first' and k < len(cur_list):\n",
    "    #         cur_list = cur_list[:k] \n",
    "    #     res.extend(cur_list)\n",
    "    #     k-=len(cur_list)\n",
    "    #     if k<=0:\n",
    "    #         return res\n",
    "    \n",
    "    # ------------------------------- M3: use heap ------------------------------- #\n",
    "    # TC: klogn\n",
    "    # SC: n\n",
    "    # each element is a tuple (freq, val)\n",
    "    counts = Counter(t) # O(n)\n",
    "    freq_to_val = list(zip(counts.values(), counts.keys())) \n",
    "    # freq_to_val = [(val, key) for key, val in counts.items()]\n",
    "    print(freq_to_val)\n",
    "    \n",
    "    \n",
    "    # pop n-k times to remove the lowest frequency stuff\n",
    "    heapq.heapify(freq_to_val)\n",
    "    n = len(freq_to_val)\n",
    "    for _ in range(n-k):\n",
    "        heapq.heappop(freq_to_val)\n",
    "    \n",
    "    # return [val for freq, val in freq_to_val]\n",
    "    # return [freq_to_val[i][1] for i in range(len(freq_to_val)-1, -1, -1)]\n",
    "    return [val for freq, val in reversed(freq_to_val)]\n",
    "    \n",
    "nums = [1,1,1,2,2,3,]\n",
    "k = 2\n",
    "top_k_frequent(nums, k, keep='all')"
   ]
  },
  {
   "attachments": {},
   "cell_type": "markdown",
   "metadata": {},
   "source": [
    "# 128. Longest Consecutive Sequence"
   ]
  },
  {
   "cell_type": "code",
   "execution_count": 152,
   "metadata": {},
   "outputs": [
    {
     "data": {
      "text/plain": [
       "1"
      ]
     },
     "execution_count": 152,
     "metadata": {},
     "output_type": "execute_result"
    },
    {
     "data": {
      "text/plain": [
       "[1, 3, 5]"
      ]
     },
     "execution_count": 152,
     "metadata": {},
     "output_type": "execute_result"
    }
   ],
   "source": [
    "def longest_consecutive(nums):\n",
    "    # M1: sorting. O(nlogn)\n",
    "    # nums = sorted(nums)\n",
    "    # max_streak = 1\n",
    "    # cur_streak = 1\n",
    "    # cur = nums[0]\n",
    "    # for num in nums[1:]:\n",
    "    #     if num == cur + 1:\n",
    "    #         cur_streak += 1\n",
    "    #         max_streak = max(max_streak, cur_streak)\n",
    "    #     else:\n",
    "    #         cur_streak = 1\n",
    "    #     cur = num\n",
    "    \n",
    "    # return max_streak\n",
    "    \n",
    "    # M2: understand what do we mean by a consecutive sequence\n",
    "    nums = set(nums)\n",
    "    max_streak = 1\n",
    "    for x in nums:\n",
    "        if x-1 not in nums: # the start of a sequence\n",
    "            cur_streak=1\n",
    "            while x+cur_streak in nums:\n",
    "                cur_streak+=1\n",
    "                max_streak = max(max_streak, cur_streak)\n",
    "    return max_streak\n",
    "    \n",
    "# nums = [100,4,200,1,3,2]\n",
    "# nums = [3,7,9,1,2]\n",
    "nums=[1,3,5]\n",
    "longest_consecutive(nums)\n",
    "nums"
   ]
  },
  {
   "attachments": {},
   "cell_type": "markdown",
   "metadata": {},
   "source": [
    "# 238. Product of Array Except Self\n"
   ]
  },
  {
   "cell_type": "code",
   "execution_count": 164,
   "metadata": {},
   "outputs": [
    {
     "data": {
      "text/plain": [
       "[24, 12, 8, 6]"
      ]
     },
     "execution_count": 164,
     "metadata": {},
     "output_type": "execute_result"
    }
   ],
   "source": [
    "def product_except_self(nums) -> list:\n",
    "    # ----------------------------- M1: use division. ---------------------------- #\n",
    "    n = len(nums)\n",
    "    res = [0] * n\n",
    "    product = 1\n",
    "    \n",
    "    # for x in nums:\n",
    "    #     product *= x\n",
    "    # for i, x in enumerate(nums):\n",
    "    #     res[i] = product//x # Answer become float, if not use int!\n",
    "    # return res \n",
    "\n",
    "    # ------------ M2: use two arrays: left_product and right_prodcut. ----------- #\n",
    "    # left_product[i] = product of nums[:i-1]\n",
    "    # right_product[i] = product of nums[i+1:]\n",
    "    # n = len(nums)\n",
    "    # res = [0] * n\n",
    "    # left_product, right_product = [1] * n, [1] * n\n",
    "    \n",
    "    # cur_product = 1\n",
    "    # for i, x in enumerate(nums[:-1]):\n",
    "    #     cur_product*=x\n",
    "    #     left_product[i+1] = cur_product\n",
    "    \n",
    "    # cur_product = 1\n",
    "    # for i in range(n-2, -1, -1):\n",
    "    #     cur_product *= nums[i+1]\n",
    "    #     right_product[i] = cur_product\n",
    "    \n",
    "    \n",
    "    # print(left_product)\n",
    "    # print(right_product)\n",
    "    \n",
    "    # for i, (left, right) in enumerate(zip(left_product, right_product)):\n",
    "    #     res[i] = left*right\n",
    "        \n",
    "    # return res\n",
    "\n",
    "    # ---------------- M3: improve on M2, without two extra arrays --------------- #\n",
    "    # idea: store the left_product to res, and then add the values of right_product to res\n",
    "    # so, only need res array!\n",
    "    n = len(nums)\n",
    "    res = [1] * n\n",
    "    \n",
    "    cur_product = 1\n",
    "    for i, x in enumerate(nums[:-1]):\n",
    "        cur_product*=x\n",
    "        res[i+1] = cur_product\n",
    "    \n",
    "    cur_product = 1\n",
    "    for i in range(n-2, -1, -1):\n",
    "        cur_product *= nums[i+1]\n",
    "        res[i] *= cur_product\n",
    "    \n",
    "    return res\n",
    "    \n",
    "\n",
    "nums = [1,2,3,4]\n",
    "product_except_self(nums)"
   ]
  },
  {
   "attachments": {},
   "cell_type": "markdown",
   "metadata": {},
   "source": [
    "# 1299. Replace Elements with Greatest Element on Right Side\n"
   ]
  },
  {
   "cell_type": "code",
   "execution_count": 190,
   "metadata": {},
   "outputs": [
    {
     "data": {
      "text/plain": [
       "[]"
      ]
     },
     "execution_count": 190,
     "metadata": {},
     "output_type": "execute_result"
    }
   ],
   "source": [
    "def replace_elements(t):\n",
    "    # cur_max = -float('inf')\n",
    "    if not t:\n",
    "        return t\n",
    "    cur_max, t[-1] = t[-1], -1\n",
    "    \n",
    "    for i in range(len(t)-2, -1, -1):\n",
    "        # --------------------------------- wrong way -------------------------------- #\n",
    "        # print(cur_max)\n",
    "        # t[i] = cur_max\n",
    "        # ---------------------------------------------------------------------------- #\n",
    "        t[i], cur_max = cur_max, max(cur_max, t[i])\n",
    "    return t\n",
    "\n",
    "arr = [17,18,5,4,6,1]\n",
    "arr = [400]\n",
    "arr = []\n",
    "replace_elements(arr)\n",
    "\n",
    "# [18,6,6,6,1,-1]"
   ]
  },
  {
   "attachments": {},
   "cell_type": "markdown",
   "metadata": {},
   "source": [
    "# 58. Length of Last Word\n",
    "- idea: find the locations of first non_space and first space, then use list slice"
   ]
  },
  {
   "cell_type": "code",
   "execution_count": 222,
   "metadata": {},
   "outputs": [
    {
     "data": {
      "text/plain": [
       "'a'"
      ]
     },
     "execution_count": 222,
     "metadata": {},
     "output_type": "execute_result"
    }
   ],
   "source": [
    "def lengthOfLastWord(s: str) -> int:\n",
    "    # print(s.strip())\n",
    "    # for i in range(len(s)-1, -1, -1):\n",
    "    #     if s[i]\n",
    "    first_non_space = len(s)-1\n",
    "    while first_non_space>=0 and s[first_non_space] == ' ':\n",
    "        first_non_space -= 1\n",
    "    \n",
    "    first_space = first_non_space\n",
    "    # print(first_space)\n",
    "    while first_space>=0 and s[first_space] != ' ':\n",
    "        # print(\"yes\")\n",
    "        first_space -= 1\n",
    "    \n",
    "    # print(first_non_space)\n",
    "    # print(first_space)\n",
    "    return s[first_space+1: first_non_space+1]\n",
    "        \n",
    "# s = \"luffy is still joyboy\"\n",
    "# s = \"   fly me   to   the moon  \"\n",
    "# s = \"a\"\n",
    "lengthOfLastWord(s)"
   ]
  },
  {
   "attachments": {},
   "cell_type": "markdown",
   "metadata": {},
   "source": [
    "# 14. Longest Common Prefix\n"
   ]
  },
  {
   "cell_type": "code",
   "execution_count": 253,
   "metadata": {},
   "outputs": [
    {
     "data": {
      "text/plain": [
       "''"
      ]
     },
     "execution_count": 253,
     "metadata": {},
     "output_type": "execute_result"
    }
   ],
   "source": [
    "def longestCommonPrefix(strs):\n",
    "    n = min(len(s) for s in strs)\n",
    "    # ------------------------------------ M1 ------------------------------------ #\n",
    "    end_pos = -1\n",
    "    # for i in range(n):\n",
    "    #     if all(s[i]==strs[0][i] for s in strs):\n",
    "    #         end_pos = i \n",
    "    #     else:\n",
    "    #         break\n",
    "    # return strs[0][:end_pos+1]\n",
    "    \n",
    "    # ------------------------------------ M2 ------------------------------------ #\n",
    "    i = 0\n",
    "    while i < n and all(s[i]==strs[0][i] for s in strs):\n",
    "        i+=1\n",
    "    return strs[0][:i]\n",
    "    \n",
    "    \n",
    "    \n",
    "strs = [\"flower\",\"flow\",\"flight\"]\n",
    "# strs = [\"flower\",\"sflowers\"]\n",
    "# strs = [\"dog\",\"racecar\",\"car\"]\n",
    "strs = ['abc','abcc']\n",
    "strs = ['abc','abc  ']\n",
    "strs = ['', 'anc','an']\n",
    "\n",
    "longestCommonPrefix(strs)"
   ]
  },
  {
   "attachments": {},
   "cell_type": "markdown",
   "metadata": {},
   "source": [
    "# 27. Remove Element\n"
   ]
  },
  {
   "cell_type": "code",
   "execution_count": 264,
   "metadata": {},
   "outputs": [
    {
     "name": "stdout",
     "output_type": "stream",
     "text": [
      "3 [0, 1, 3, 0, 4, 2, 2, 2]\n"
     ]
    }
   ],
   "source": [
    "def removeElement(nums: List[int], val: int) -> int:\n",
    "    # M1 \n",
    "    l = r = 0\n",
    "    while r < len(nums):\n",
    "        if nums[r] != val:\n",
    "            nums[l], nums[r] = nums[r], nums[l]\n",
    "            l+=1\n",
    "        r+=1\n",
    "    print(len(nums)-l, nums)\n",
    "        \n",
    "    pass\n",
    "\n",
    "nums, val = [3,2,2,3], 3\n",
    "nums, val = [0,1,2,2,3,0,4,2], 2\n",
    "removeElement(nums, val)"
   ]
  },
  {
   "attachments": {},
   "cell_type": "markdown",
   "metadata": {},
   "source": [
    "# 929. Unique Email Addresses"
   ]
  },
  {
   "cell_type": "code",
   "execution_count": 281,
   "metadata": {},
   "outputs": [
    {
     "data": {
      "text/plain": [
       "({'a@leetcode.com', 'b@leetcode.com', 'c@leetcode.com'}, 3)"
      ]
     },
     "execution_count": 281,
     "metadata": {},
     "output_type": "execute_result"
    }
   ],
   "source": [
    "def numUniqueEmails(emails: List[str]) -> int:\n",
    "    # locs = []\n",
    "    # domains = []\n",
    "    res = set()\n",
    "    for email in emails:\n",
    "        local, domain = email.split('@')\n",
    "        local = local.replace('.','').split('+',1)[0]\n",
    "        res.add('@'.join([local,domain]))\n",
    "    return res, len(res)\n",
    "\n",
    "emails = [\n",
    "    \"test.email+alex@leetcode.com\",\n",
    "    \"test.e.mail+bob.cathy@leetcode.com\",\n",
    "    \"testemail+david@lee.tcode.com\"\n",
    "    ]\n",
    "\n",
    "emails = [\"a@leetcode.com\",\"b@leetcode.com\",\"c@leetcode.com\"]\n",
    "numUniqueEmails(emails)"
   ]
  },
  {
   "attachments": {},
   "cell_type": "markdown",
   "metadata": {},
   "source": [
    "# 205. Isomorphic Strings\n"
   ]
  },
  {
   "cell_type": "code",
   "execution_count": 290,
   "metadata": {},
   "outputs": [
    {
     "data": {
      "text/plain": [
       "{'p': 't', 'a': 'i', 'e': 'l', 'r': 'e'}"
      ]
     },
     "execution_count": 290,
     "metadata": {},
     "output_type": "execute_result"
    }
   ],
   "source": [
    "def isIsomorphic(s: str, t: str) -> bool:\n",
    "    if len(s) != len(t):\n",
    "        return False \n",
    "    d = {}\n",
    "    for x,y in zip(s, t):\n",
    "        if x in d and d[x] != y:\n",
    "            return False\n",
    "        d[x] = y\n",
    "    return d\n",
    "    \n",
    "s = \"egg\"\n",
    "t = \"add\"\n",
    "\n",
    "s = \"foo\"\n",
    "t = \"bar\"\n",
    "\n",
    "s = \"paper\"\n",
    "t = \"title\"\n",
    "isIsomorphic(s, t)"
   ]
  },
  {
   "attachments": {},
   "cell_type": "markdown",
   "metadata": {},
   "source": [
    "# 169. Majority Element\n",
    "- idea: there can be at most 1 majority element, by contradition\n",
    "- so, just return max frequent element\n"
   ]
  },
  {
   "cell_type": "code",
   "execution_count": 302,
   "metadata": {},
   "outputs": [
    {
     "name": "stdout",
     "output_type": "stream",
     "text": [
      "Counter({2: 4, 1: 3})\n"
     ]
    },
    {
     "data": {
      "text/plain": [
       "2"
      ]
     },
     "execution_count": 302,
     "metadata": {},
     "output_type": "execute_result"
    }
   ],
   "source": [
    "def majorityElement(nums: List[int]) -> int:\n",
    "    majority = len(nums)//2\n",
    "    \n",
    "    # M1: return most frequent item\n",
    "    count = Counter(nums)\n",
    "    print(count)\n",
    "    val, freq = count.most_common(1)[0]\n",
    "    if freq > majority:\n",
    "        return val\n",
    "        \n",
    "    \n",
    "    # return max(count, key=lambda key: count[key])\n",
    "    \n",
    "    \n",
    "    \n",
    "\n",
    "nums = [2,2,1,1,1,2,2]\n",
    "majorityElement(nums)\n",
    "    \n",
    "    "
   ]
  },
  {
   "attachments": {},
   "cell_type": "markdown",
   "metadata": {},
   "source": [
    "# 724. Find Pivot Index"
   ]
  },
  {
   "cell_type": "code",
   "execution_count": 452,
   "metadata": {},
   "outputs": [
    {
     "data": {
      "text/plain": [
       "0"
      ]
     },
     "execution_count": 452,
     "metadata": {},
     "output_type": "execute_result"
    }
   ],
   "source": [
    "def pivotIndex(nums: List[int]) -> int:\n",
    "    left_sum = []\n",
    "    cur_sum = 0\n",
    "    for i, x in enumerate(nums):\n",
    "        left_sum.append(cur_sum)\n",
    "        cur_sum += x\n",
    "    # print(left_sum)\n",
    "    \n",
    "    cur_sum = 0 \n",
    "    for i in range(len(nums)-1, -1, -1):\n",
    "        left_sum[i] -= cur_sum\n",
    "        cur_sum += nums[i]\n",
    "    \n",
    "    # print(left_sum)\n",
    "    try:\n",
    "        return left_sum.index(0)\n",
    "    except ValueError:\n",
    "        return -1\n",
    "\n",
    "nums = [1,7,3,6,5,6]\n",
    "nums = [1,2,3]\n",
    "nums = [2,1,-1]\n",
    "pivotIndex(nums)\n"
   ]
  },
  {
   "attachments": {},
   "cell_type": "markdown",
   "metadata": {},
   "source": [
    "# 1189. Maximum Number of Balloons\n",
    "- very nice question!"
   ]
  },
  {
   "cell_type": "code",
   "execution_count": 501,
   "metadata": {},
   "outputs": [
    {
     "name": "stdout",
     "output_type": "stream",
     "text": [
      "Counter({'l': 2, 'o': 2, 'b': 1, 'a': 1, 'n': 1})\n",
      "Counter({'a': 1, 'b': 1, 'c': 1})\n"
     ]
    },
    {
     "data": {
      "text/plain": [
       "0"
      ]
     },
     "execution_count": 501,
     "metadata": {},
     "output_type": "execute_result"
    }
   ],
   "source": [
    "def remove_balloon(cnts):\n",
    "    for i in range(5):\n",
    "        if i in [2,4]:\n",
    "            cnts[i] -= 2\n",
    "        else:\n",
    "            cnts[i] -= 1\n",
    "        if cnts[i] <0: return False\n",
    "    return True \n",
    "    \n",
    "    \n",
    "    \n",
    "def maxNumberOfBalloons(text: str) -> int:\n",
    "    # ---------------------------------- M1: bad --------------------------------- #\n",
    "    # l, o => 2\n",
    "    # char_to_int = {'a':0, 'b':1, 'l':2, 'n':3, 'o':4}\n",
    "    # cnts = [0]*5\n",
    "    # print(cnts)\n",
    "    \n",
    "    # for c in text:\n",
    "    #     if c in 'balon':\n",
    "    #         cnts[char_to_int[c]] += 1\n",
    "    # print(cnts)\n",
    "    \n",
    "    # i = 0 \n",
    "    # while remove_balloon(cnts):\n",
    "    #     i+=1\n",
    "    \n",
    "    # return i\n",
    "\n",
    "    # M2: convert the count to number of times it can form the word! So, if 'b' = 4 => 4//2 = 2\n",
    "    # cnts = {}\n",
    "    # for c in text:\n",
    "    #     if c in 'balon':\n",
    "    #         cnts[c] = cnts.get(c, 0) + 1\n",
    "    # print(cnts)\n",
    "    # for c in 'lo':\n",
    "    #     cnts[c] = cnts.get(c,0) // 2\n",
    "    \n",
    "    # return min(cnts.values())\n",
    "    \n",
    "    # M3: use Counter directly\n",
    "    cnts = Counter(text)\n",
    "    word = Counter('balloon')\n",
    "    print(word)\n",
    "    print(cnts)\n",
    "    \n",
    "    return min(cnts[c] // word[c] for c in word ) # if cnts[c] doesn't exists, return 0\n",
    "    \n",
    "    # res = float('inf')\n",
    "    # for c in word:\n",
    "    #     res = min(res, cnts[c] // word[c])\n",
    "    \n",
    "    # return res \n",
    "    \n",
    "text='abc'\n",
    "# text = \"nlaebolko\"\n",
    "# text = \"loonbalxballpoon\"\n",
    "# text = 'balloonballoonballoon'\n",
    "maxNumberOfBalloons(text)\n",
    "        \n"
   ]
  },
  {
   "cell_type": "code",
   "execution_count": null,
   "metadata": {},
   "outputs": [],
   "source": []
  },
  {
   "cell_type": "code",
   "execution_count": 500,
   "metadata": {},
   "outputs": [
    {
     "data": {
      "text/plain": [
       "10"
      ]
     },
     "execution_count": 500,
     "metadata": {},
     "output_type": "execute_result"
    }
   ],
   "source": [
    "# d = {'a':3}\n",
    "# d['b']\n",
    "\n",
    "d = Counter({'a':3})"
   ]
  },
  {
   "attachments": {},
   "cell_type": "markdown",
   "metadata": {},
   "source": [
    "# 125. Valid Palindrome"
   ]
  },
  {
   "cell_type": "code",
   "execution_count": 180,
   "metadata": {},
   "outputs": [
    {
     "data": {
      "text/plain": [
       "False"
      ]
     },
     "execution_count": 180,
     "metadata": {},
     "output_type": "execute_result"
    }
   ],
   "source": [
    "def clean_str(s):\n",
    "    return ''.join(c for c in s if c.isalnum()).lower()\n",
    "        \n",
    "def is_palindrome(s):\n",
    "    # M1: naive. need O(n) space \n",
    "    # s = clean_str(s)\n",
    "    # print(s)\n",
    "    # return s == s[::-1]\n",
    "    \n",
    "    # M2: use reversed. Still O(n) space, since needing to create a new string...\n",
    "    # s = clean_str(s)\n",
    "    # print(s)\n",
    "    # return all(x==y for x,y in zip(s, reversed(s)))\n",
    "    \n",
    "    # M3: two pointer\n",
    "    l, r = 0, len(s) - 1\n",
    "    while l<r:\n",
    "        while l<r and not s[l].isalnum():\n",
    "            l+=1\n",
    "        while l<r and not s[r].isalnum():\n",
    "            r-=1\n",
    "        if s[l].lower() != s[r].lower():\n",
    "            return False\n",
    "        l,r = l+1, r-1\n",
    "    return True \n",
    "    \n",
    "s = \"A man, a plan, a canal: Panama\"\n",
    "s = \"race a car\"\n",
    "is_palindrome(s)"
   ]
  },
  {
   "attachments": {},
   "cell_type": "markdown",
   "metadata": {},
   "source": [
    "# hashing"
   ]
  },
  {
   "attachments": {},
   "cell_type": "markdown",
   "metadata": {},
   "source": [
    "## 49. Group Anagrams"
   ]
  },
  {
   "cell_type": "code",
   "execution_count": 384,
   "metadata": {},
   "outputs": [
    {
     "name": "stdout",
     "output_type": "stream",
     "text": [
      "dict_values([['eat', 'tea', 'ate'], ['tan', 'nat'], ['bat']])\n"
     ]
    }
   ],
   "source": [
    "def group_anagrams(strs: list[str]) -> list[list[str]]:\n",
    "    # counts = []\n",
    "    # for s in strs:\n",
    "    #     counts.append(Counter(s))\n",
    "    # # print(counts)\n",
    "    \n",
    "    # # for i in range(len(n)-1, -1, -1):\n",
    "    # for i in range(len(strs)):\n",
    "    #     for j in range(j, len(strs)):\n",
    "    \n",
    "    # -------------------------------- M2: hashmap ------------------------------- #\n",
    "    # 1. record the char distribution of each string\n",
    "    # 2. use a dict with key = char distribution, val = list storing those with such distribution\n",
    "    # 3. return d.values()\n",
    "\n",
    "    counts = [[0]*26 for s in strs]\n",
    "    d = {}\n",
    "    \n",
    "    for i, s in enumerate(strs):\n",
    "        for c in s:\n",
    "            counts[i][ord(c) - ord('a')]+=1\n",
    "            \n",
    "        d[tuple(counts[i])] = d.get(tuple(counts[i]), []) + [s]\n",
    "    print(d.values())\n",
    "        \n",
    "            \n",
    "    \n",
    "    # --------------------------- M3: use hash entirely -------------------------- #\n",
    "    # not work, \n",
    "    # counts = []\n",
    "    # for i, s in enumerate(strs):\n",
    "    #     counts.append(Counter(s))\n",
    "    # print(counts)\n",
    "    \n",
    "    # d = {}\n",
    "    # for i, cnt in enumerate(counts):\n",
    "    #     d[cnt] = d.get(d[cnt], []) + [strs[i]]\n",
    "    \n",
    "    # # counts[0]\n",
    "    \n",
    "    \n",
    "    # pass \n",
    "            \n",
    "\n",
    "strs = [\"eat\",\"tea\",\"tan\",\"ate\",\"nat\",\"bat\"]\n",
    "group_anagrams(strs)"
   ]
  },
  {
   "attachments": {},
   "cell_type": "markdown",
   "metadata": {},
   "source": [
    "# 1. Two Sum: https://leetcode.com/problems/two-sum/\n",
    "- Given an array of integers nums and an integer target, return indices of the two numbers such that they add up to target.You may assume that each input would have exactly one solution, and you may not use the same element twice."
   ]
  },
  {
   "cell_type": "code",
   "execution_count": 16,
   "metadata": {},
   "outputs": [
    {
     "data": {
      "text/plain": [
       "(0, 4)"
      ]
     },
     "execution_count": 16,
     "metadata": {},
     "output_type": "execute_result"
    }
   ],
   "source": [
    "def two_sum(nums, target):\n",
    "    # M1: pre-build dict with (key, index) pairs first. Not optimal \n",
    "    # d = {num:i for i,num in enumerate(nums)} # or, d = dict( zip(nums, range(len(nums)))  )\n",
    "    # for i, num in enumerate(nums):\n",
    "    #     diff = target - num\n",
    "    #     idx = d.get(diff, -1)\n",
    "    #     if idx not in [-1, i]: # exclude i because we can't use the same number again \n",
    "    #         return i, idx\n",
    "    # return None\n",
    "\n",
    "    # M2. build dict incrementally. Works even when there are duplicates. Best\n",
    "    d={}\n",
    "    for i, num in enumerate(nums):\n",
    "        diff = target - num\n",
    "        idx = d.get(diff, None)\n",
    "        if idx is not None: \n",
    "            return i, idx\n",
    "        d[num] = i \n",
    "    return None\n",
    "\n",
    "    # Naive\n",
    "    # n = len(nums)\n",
    "    # for i in range(n-1):\n",
    "    #     for j in range(i+1, n):\n",
    "    #         if nums[i]+nums[j] == target:\n",
    "    #             return i,j\n",
    "\n",
    "nums = [3,2,4]\n",
    "target = 6\n",
    "# nums = [2,7,11,15,7,7,7,1]\n",
    "# target = 9\n",
    "two_sum(nums, target)"
   ]
  },
  {
   "attachments": {},
   "cell_type": "markdown",
   "metadata": {},
   "source": [
    "# 9. Palindrome Number"
   ]
  },
  {
   "cell_type": "code",
   "execution_count": 42,
   "metadata": {},
   "outputs": [
    {
     "data": {
      "text/plain": [
       "False"
      ]
     },
     "execution_count": 42,
     "metadata": {},
     "output_type": "execute_result"
    },
    {
     "data": {
      "text/plain": [
       "True"
      ]
     },
     "execution_count": 42,
     "metadata": {},
     "output_type": "execute_result"
    }
   ],
   "source": [
    "def reverse_num(x):\n",
    "    res = 0\n",
    "    while x:\n",
    "        res = res*10 + x%10\n",
    "        x//=10\n",
    "    return res\n",
    "\n",
    "class Solution:\n",
    "    def isPalindrome(self, x: int) -> bool:\n",
    "        # M1: convert to string\n",
    "        # return (s:=str(x)) == reversed(s) # not work, since the types are differnet, it's always False\n",
    "        # return (s:=str(x)) == s[::-1]\n",
    "    \n",
    "        # M2: \n",
    "        return x == reverse_num(x) if x>=0 else False\n",
    "\n",
    "# e = Solution()\n",
    "Solution().isPalindrome(-121)\n",
    "Solution().isPalindrome(121)\n",
    "# e.isPalindrome()\n",
    "\n",
    "# reverse_num(123)"
   ]
  },
  {
   "attachments": {},
   "cell_type": "markdown",
   "metadata": {},
   "source": [
    "# 168.   Excel Sheet Column Title"
   ]
  },
  {
   "cell_type": "code",
   "execution_count": 358,
   "metadata": {},
   "outputs": [
    {
     "data": {
      "text/plain": [
       "'AB'"
      ]
     },
     "execution_count": 358,
     "metadata": {},
     "output_type": "execute_result"
    },
    {
     "data": {
      "text/plain": [
       "'Z'"
      ]
     },
     "execution_count": 358,
     "metadata": {},
     "output_type": "execute_result"
    },
    {
     "data": {
      "text/plain": [
       "'AZ'"
      ]
     },
     "execution_count": 358,
     "metadata": {},
     "output_type": "execute_result"
    },
    {
     "data": {
      "text/plain": [
       "'BA'"
      ]
     },
     "execution_count": 358,
     "metadata": {},
     "output_type": "execute_result"
    }
   ],
   "source": [
    "def convertToTitle(columnNumber: int) -> str:\n",
    "    mapping = '_' + ''.join(chr(ord('A') + i) for i in range(26))\n",
    "    if columnNumber <= 26: return mapping[columnNumber]\n",
    "    return convertToTitle((columnNumber-1)//26) + mapping[(columnNumber-1)%26+1]\n",
    "    \n",
    "    \n",
    "    # if columnNumber <= 26: return chr(ord('A') + columnNumber -1)\n",
    "    # return convertToTitle(columnNumber//26) + chr(ord('A') + columnNumber%26 -1)\n",
    "\n",
    "def titleToNumber(title):\n",
    "    pass\n",
    "\n",
    "# class Solution:\n",
    "#     def convertToTitle(self, columnNumber: int) -> str:\n",
    "#         while columnNumber:\n",
    "#             if columnNumber > 26:\n",
    "                \n",
    "#             return chr(ord('A') + columnNumber)\n",
    "\n",
    "# Solution().convertToTitle(3)\n",
    "\n",
    "# convertToTitle(701)\n",
    "convertToTitle(28)\n",
    "# convertToTitle(1)\n",
    "# convertToTitle(0)\n",
    "# convertToTitle(26)\n",
    "# convertToTitle(27)\n",
    "# convertToTitle(52)\n",
    "# convertToTitle(51)\n",
    "\n",
    "# convertToTitle(1)\n",
    "convertToTitle(26)\n",
    "convertToTitle(52)\n",
    "convertToTitle(53)\n",
    "# convertToTitle(53)\n",
    "# convertToTitle()"
   ]
  },
  {
   "cell_type": "code",
   "execution_count": 340,
   "metadata": {},
   "outputs": [
    {
     "data": {
      "text/plain": [
       "'AZ'"
      ]
     },
     "execution_count": 340,
     "metadata": {},
     "output_type": "execute_result"
    }
   ],
   "source": [
    "def convertToTitle(columnNumber: int) -> str:\n",
    "    title = ''\n",
    "    while columnNumber > 0:\n",
    "        columnNumber -= 1\n",
    "        title = chr(columnNumber % 26 + 65) + title\n",
    "        columnNumber //= 26\n",
    "    return title\n",
    "\n",
    "\n",
    "convertToTitle(52)\n",
    "# convertToTitle(26)\n",
    "# convertToTitle(27)\n",
    "# convertToTitle(1)\n",
    "# convertToTitle(2)"
   ]
  },
  {
   "cell_type": "code",
   "execution_count": 309,
   "metadata": {},
   "outputs": [
    {
     "data": {
      "text/plain": [
       "'B'"
      ]
     },
     "execution_count": 309,
     "metadata": {},
     "output_type": "execute_result"
    }
   ],
   "source": [
    "columnNumber = 2\n",
    "chr(ord('A') + columnNumber -1)"
   ]
  },
  {
   "cell_type": "code",
   "execution_count": 17,
   "metadata": {},
   "outputs": [
    {
     "data": {
      "text/plain": [
       "'Twelve Thousand Three Hundred Forty Five'"
      ]
     },
     "execution_count": 17,
     "metadata": {},
     "output_type": "execute_result"
    }
   ],
   "source": [
    "class Solution:\n",
    "    def numberToWords(self, num: int) -> str:\n",
    "        if num == 0:\n",
    "            return \"Zero\"\n",
    "        groups = []\n",
    "        while num > 0:\n",
    "            groups.append(num % 1000)\n",
    "            num //= 1000\n",
    "        group_names = [\"\", \"Thousand\", \"Million\", \"Billion\"]\n",
    "        result = \"\"\n",
    "        for i in range(len(groups)):\n",
    "            if groups[i] > 0:\n",
    "                if i > 0:\n",
    "                    result = self.convert_group(\n",
    "                        groups[i]) + \" \" + group_names[i] + \" \" + result\n",
    "                else:\n",
    "                    result = self.convert_group(groups[i])\n",
    "        return result.strip()\n",
    "    def convert_group(self, num: int) -> str:\n",
    "        ones = [\n",
    "            \"\", \"One\", \"Two\", \"Three\", \"Four\", \"Five\", \"Six\", \"Seven\", \"Eight\",\n",
    "            \"Nine\"\n",
    "        ]\n",
    "        tens = [\n",
    "            \"\", \"Ten\", \"Twenty\", \"Thirty\", \"Forty\", \"Fifty\", \"Sixty\",\n",
    "            \"Seventy\", \"Eighty\", \"Ninety\"\n",
    "        ]\n",
    "        teens = [\n",
    "            \"Ten\", \"Eleven\", \"Twelve\", \"Thirteen\", \"Fourteen\", \"Fifteen\",\n",
    "            \"Sixteen\", \"Seventeen\", \"Eighteen\", \"Nineteen\"\n",
    "        ]\n",
    "        result = \"\"\n",
    "        if num >= 100:\n",
    "            result += ones[num // 100] + \" Hundred \"\n",
    "            num %= 100\n",
    "        if num >= 20:\n",
    "            result += tens[num // 10] + \" \"\n",
    "            num %= 10\n",
    "        elif num >= 10:\n",
    "            result += teens[num - 10] + \" \"\n",
    "            num = 0\n",
    "        if num > 0:\n",
    "            result += ones[num] + \" \"\n",
    "        return result.strip()\n",
    "Solution().numberToWords()"
   ]
  },
  {
   "cell_type": "code",
   "execution_count": null,
   "metadata": {},
   "outputs": [],
   "source": [
    "# convert to base 2\n",
    "def to_base_2(n):\n",
    "    \n",
    "    pass\n",
    "\n",
    "\n"
   ]
  },
  {
   "cell_type": "code",
   "execution_count": 20,
   "metadata": {},
   "outputs": [
    {
     "data": {
      "text/plain": [
       "[1, 1, 3, 2, 2]"
      ]
     },
     "execution_count": 20,
     "metadata": {},
     "output_type": "execute_result"
    }
   ],
   "source": [
    "def compress_array(arr):\n",
    "\n",
    "    if not arr:\n",
    "        return []\n",
    "\n",
    "    result = [arr[0], 1]\n",
    "\n",
    "    current = arr[0]\n",
    "\n",
    "    count = 1\n",
    "\n",
    "    for i in range(1, len(arr)):\n",
    "\n",
    "        if arr[i] == current:\n",
    "\n",
    "            count += 1\n",
    "\n",
    "        else:\n",
    "\n",
    "            result.append(count)\n",
    "\n",
    "            current = arr[i]\n",
    "\n",
    "            result.append(current)\n",
    "\n",
    "            count = 1\n",
    "\n",
    "    result.append(count)\n",
    "\n",
    "    return result\n",
    "\n",
    "# arr = [1, 1, 1, 5, 3, 3, 9, 3, 3, 3, 3, 3]\n",
    "arr = [1,1,1,2,2]\n",
    "compress_array(arr)"
   ]
  },
  {
   "attachments": {},
   "cell_type": "markdown",
   "metadata": {},
   "source": [
    "# two pointers"
   ]
  },
  {
   "attachments": {},
   "cell_type": "markdown",
   "metadata": {},
   "source": [
    "## 977. Squares of a Sorted Array\n"
   ]
  },
  {
   "cell_type": "code",
   "execution_count": null,
   "metadata": {},
   "outputs": [
    {
     "data": {
      "text/plain": [
       "[0, 1, 9, 16, 100]"
      ]
     },
     "metadata": {},
     "output_type": "display_data"
    }
   ],
   "source": [
    "def sortedSquares(nums: List[int]) -> List[int]:\n",
    "    l, r = 0, len(nums) - 1\n",
    "    res = []\n",
    "    while l <= r:\n",
    "        left, right = nums[l] ** 2, nums[r] ** 2 \n",
    "        if left > right:\n",
    "            res.append(left)\n",
    "            l += 1\n",
    "        else:\n",
    "            res.append(right)\n",
    "            r -= 1\n",
    "    return res[::-1]\n",
    "\n",
    "nums = [-4,-1,0,3,10]\n",
    "# nums = [1,2,3,4]\n",
    "sortedSquares(nums)\n"
   ]
  },
  {
   "attachments": {},
   "cell_type": "markdown",
   "metadata": {},
   "source": [
    "## 167. Two Sum II - Input Array Is Sorted"
   ]
  },
  {
   "cell_type": "code",
   "execution_count": 35,
   "metadata": {},
   "outputs": [
    {
     "data": {
      "text/plain": [
       "(1, 2)"
      ]
     },
     "execution_count": 35,
     "metadata": {},
     "output_type": "execute_result"
    }
   ],
   "source": [
    "def twoSum(nums: List[int], target: int) -> List[int]:\n",
    "    # M1: naive \n",
    "    # high = len(nums)-1\n",
    "    # for i in range(len(nums)):\n",
    "    #     for j in range(i+1, high+1):\n",
    "    #         if nums[i] + nums[j] > target:\n",
    "    #             high = j-1\n",
    "    #             break\n",
    "    #         elif nums[i] + nums[j] == target:\n",
    "    #             return i+1, j+1\n",
    "    # return False\n",
    "    \n",
    "    # M2: two pointers. In fact, like binary search\n",
    "    # - If nums[l] + nums[r] > target => move r\n",
    "    # - If nums[l] + nums[r] < target => move l\n",
    "    l, r  = 0, len(nums) - 1\n",
    "    while l < r:\n",
    "        if nums[l] + nums[r] > target:\n",
    "            r -= 1\n",
    "        elif nums[l] + nums[r] < target:\n",
    "            l += 1\n",
    "        else:\n",
    "            return l+1, r+1\n",
    "    \n",
    "    pass\n",
    "\n",
    "# numbers = [2,7,11,15]\n",
    "# target = 9\n",
    "numbers = [-1,0]\n",
    "target = -1\n",
    "# numbers = [2,3,4]\n",
    "# target = 6\n",
    "twoSum(numbers, target)"
   ]
  },
  {
   "attachments": {},
   "cell_type": "markdown",
   "metadata": {},
   "source": [
    "## 3sum"
   ]
  },
  {
   "cell_type": "code",
   "execution_count": 62,
   "metadata": {},
   "outputs": [
    {
     "name": "stdout",
     "output_type": "stream",
     "text": [
      "three_sum = 0\n",
      "three_sum = 0\n",
      "three_sum = 0\n",
      "three_sum = 0\n",
      "three_sum = 0\n"
     ]
    },
    {
     "data": {
      "text/plain": [
       "[(-3, 0, 3), (-3, 1, 2), (-2, 0, 2), (-2, 1, 1), (0, 0, 0)]"
      ]
     },
     "execution_count": 62,
     "metadata": {},
     "output_type": "execute_result"
    }
   ],
   "source": [
    "def threeSum(nums: List[int]) -> List[List[int]]:\n",
    "    # M1: naive \n",
    "    # problem with this sol: may return duplicates!\n",
    "    # res = []\n",
    "    # n = len(nums)\n",
    "    # for i in range(n):\n",
    "    #     for j in range(i+1, n):\n",
    "    #         for k in range(j+1, n):\n",
    "    #             triplet = nums[i] + nums[j] + nums[k]\n",
    "    #             if triplet == 0:\n",
    "    #                 # print(i,j,k)\n",
    "    #                 # res.append((i,j,k))\n",
    "    #                 res.append((nums[i], nums[j], nums[k]))\n",
    "    # return res\n",
    "\n",
    "    # M2: use hashing\n",
    "    # res = []\n",
    "    # n = len(nums)\n",
    "    # d = set()\n",
    "    # for i in range(n):\n",
    "    #     for j in range(i+1, n):\n",
    "    #         diff = 0 - nums[i] - nums[j]\n",
    "    #         if diff in d:\n",
    "    #             return (nums[i], nums[j], diff)\n",
    "    # pass\n",
    "    \n",
    "    # M3: use sorting, then two pointers\n",
    "    res = []\n",
    "    n = len(nums)\n",
    "    nums.sort()\n",
    "    for i in range(n):\n",
    "        if i > 0 and nums[i] == nums[i-1]:\n",
    "            continue\n",
    "        l, r = i+1, n - 1\n",
    "        while l < r:\n",
    "            three_sum = nums[i] + nums[l] + nums[r]\n",
    "            if three_sum > 0: # shift right pointer\n",
    "                r -= 1\n",
    "            elif three_sum < 0:\n",
    "                l += 1\n",
    "            else:\n",
    "                print(f\"{three_sum = }\")\n",
    "                # res.append((i,l,r))\n",
    "                res.append((nums[i], nums[l], nums[r]))\n",
    "                l += 1\n",
    "                while nums[l] == nums[l-1] and l < r:\n",
    "                    l += 1\n",
    "                # r -= 1\n",
    "                # break\n",
    "    return res\n",
    "    \n",
    "            \n",
    "            \n",
    "            \n",
    "\n",
    "# nums = [-1,0,1,2,-1,-4]\n",
    "# nums = [-3,3,4,-3,1,2]\n",
    "nums = [0,-2,-2,0,0,0,2,2, 3, 3, 1, 1, -3]\n",
    "# nums = [0,-2,-2,0,0,2,4] # be careful about [-2, 0, 2]! \n",
    "# nums = [-2,-2,0,0,0,2,4] # be careful about [-2, 0, 2]! \n",
    "threeSum(nums)"
   ]
  },
  {
   "attachments": {},
   "cell_type": "markdown",
   "metadata": {},
   "source": [
    "## 1984. Minimum Difference Between Highest and Lowest of K Scores\n"
   ]
  },
  {
   "cell_type": "code",
   "execution_count": 581,
   "metadata": {},
   "outputs": [
    {
     "name": "stdout",
     "output_type": "stream",
     "text": [
      "5\n"
     ]
    }
   ],
   "source": [
    "from itertools import combinations\n",
    "\n",
    "def minimumDifference(nums: List[int], k: int) -> int:\n",
    "    # M1: naive\n",
    "    # cur_min = float('inf')\n",
    "    # for combo in combinations(nums, k):\n",
    "    #     cur_min = min(cur_min, max(combo) - min(combo))\n",
    "    # print(cur_min)\n",
    "        \n",
    "    # M2: sorting. Then we don't need to check all the combinations!\n",
    "    # cur_min = float('inf')\n",
    "    # nums.sort()\n",
    "    # print(nums)\n",
    "    # for start in range(len(nums)-k+1):\n",
    "    #     end = start + k - 1 \n",
    "    #     # print(start, end)\n",
    "    #     cur_min = min(cur_min, nums[end] - nums[start])\n",
    "        \n",
    "    # print(cur_min)\n",
    "    \n",
    "    # M3: use two pointers\n",
    "    cur_min = float('inf')\n",
    "    nums.sort()\n",
    "    l, r = 0, k-1\n",
    "    while r < len(nums):\n",
    "        cur_min = min(cur_min, nums[r]-nums[l])\n",
    "        l, r = l+1, r+1\n",
    "    print(cur_min)\n",
    "        \n",
    "        \n",
    "    \n",
    "    pass\n",
    "\n",
    "\n",
    "nums = [9,4,1,7]\n",
    "k = 3\n",
    "minimumDifference(nums, k)"
   ]
  },
  {
   "attachments": {},
   "cell_type": "markdown",
   "metadata": {},
   "source": [
    "## 344. Reverse String"
   ]
  },
  {
   "cell_type": "code",
   "execution_count": 600,
   "metadata": {},
   "outputs": [
    {
     "data": {
      "text/plain": [
       "['g', 'f', 'e', 'd', 'c', 'b', 'a']"
      ]
     },
     "execution_count": 600,
     "metadata": {},
     "output_type": "execute_result"
    }
   ],
   "source": [
    "def reverseString(s: List[str]) -> None:\n",
    "    # M1: 2 pointer\n",
    "    # l, r = 0, len(s)-1\n",
    "    # while l<r:\n",
    "    #     s[l], s[r] = s[r], s[l]\n",
    "    #     l, r = l+1, r-1\n",
    "        \n",
    "    # M2: stack. space: O(n)\n",
    "    # res = s.copy()\n",
    "    # for i in range(len(s)):\n",
    "    #     s[i] = res.pop()\n",
    "    \n",
    "    # M3: recursion\n",
    "    # ---------------------------------------------------------------------------- #\n",
    "    # the following doesn't work, since s[1:-1] will create an independent array\n",
    "    # if len(s)<=1:\n",
    "    #     return\n",
    "    # s[0], s[-1] = s[-1], s[0]\n",
    "    # # print(s)\n",
    "    # reverseString(s[1:-1])\n",
    "    # ---------------------------------------------------------------------------- #\n",
    "    \n",
    "    # this works \n",
    "    def reverse(l, r):\n",
    "        if l < r:\n",
    "            s[l], s[r] = s[r], s[l]\n",
    "            reverse(l+1, r-1)\n",
    "    \n",
    "    reverse(0, len(s)-1)\n",
    "    \n",
    "    pass\n",
    "\n",
    "# s = [\"h\",\"e\",\"l\",\"l\",\"o\"]\n",
    "s = list('abcdefg')\n",
    "reverseString(s)\n",
    "s\n"
   ]
  },
  {
   "attachments": {},
   "cell_type": "markdown",
   "metadata": {},
   "source": [
    "## 88. Merge Sorted Array\n",
    "- You are given two integer arrays nums1 and nums2, sorted in non-decreasing order, and two integers m and n, representing the number of elements in nums1 and nums2 respectively.\n",
    "- Merge nums1 and nums2 into a single array sorted in non-decreasing order.\n",
    "- The final sorted array should not be returned by the function, but instead be stored inside the array nums1. To accommodate this, nums1 has a length of m + n, where the first m elements denote the elements that should be merged, and the last n elements are set to 0 and should be ignored. nums2 has a length of n."
   ]
  },
  {
   "cell_type": "code",
   "execution_count": 632,
   "metadata": {},
   "outputs": [
    {
     "name": "stdout",
     "output_type": "stream",
     "text": [
      "[1, 4, 7, 8, 20, 43]\n",
      "[1, 4, 7, 8, 20, 43]\n"
     ]
    }
   ],
   "source": [
    "def merge(nums1: List[int], m: int, nums2: List[int], n: int) -> None:\n",
    "    # M1: non-constant space algo. Bad!\n",
    "    # l = r = 0\n",
    "    # res = [0]*(m+n)\n",
    "\n",
    "    # for _ in range(m+n):\n",
    "    #     # if (l >= m and r < n) or nums1[l] > nums2[r]:\n",
    "    #     if (l >= m) or (r<n and nums1[l] > nums2[r]):\n",
    "    #         res[l+r] = nums2[r]\n",
    "    #         r+=1\n",
    "    #     else:\n",
    "    #         res[l+r] = nums1[l]\n",
    "    #         l+=1\n",
    "    # return res\n",
    "    \n",
    "    # M2: constant space.\n",
    "    # idea: fill from the end of nums1\n",
    "    # find the maximum instead of minimum\n",
    "    \n",
    "    # print(len(nums1))\n",
    "    # nums1[5]=10\n",
    "    l, r = m-1, n-1\n",
    "    while l>=0 and r>=0:\n",
    "        if nums1[l] > nums2[r]:\n",
    "            # print(l+r+1)\n",
    "            nums1[l+r+1] = nums1[l]\n",
    "            l-=1\n",
    "        else:\n",
    "            # print(l+r+1)\n",
    "            nums1[l+r+1] = nums2[r]\n",
    "            r-=1\n",
    "    \n",
    "    print(nums1)\n",
    "    # print(nums2)\n",
    "    while r >= 0:\n",
    "        nums1[r] = nums2[r]\n",
    "        r-=1\n",
    "    print(nums1)\n",
    "    # print(nums2)\n",
    "        \n",
    "# nums1=[2,3,4,5,0,0,0,0]\n",
    "# nums2=[0,1,7,8]\n",
    "nums1=[1,8,43, 0, 0, 0]\n",
    "nums2=[4,7,20]\n",
    "            \n",
    "merge(nums1, len(nums1)-len(nums2), nums2, len(nums2))\n",
    "        \n",
    "        \n"
   ]
  },
  {
   "attachments": {},
   "cell_type": "markdown",
   "metadata": {},
   "source": [
    "## 26. Remove Duplicates from Sorted Array\n",
    "- very good question! Should remember it!"
   ]
  },
  {
   "cell_type": "code",
   "execution_count": 636,
   "metadata": {},
   "outputs": [
    {
     "data": {
      "text/plain": [
       "(5, [1, 2, 3, 4, 5, 5, 5, 5])"
      ]
     },
     "execution_count": 636,
     "metadata": {},
     "output_type": "execute_result"
    }
   ],
   "source": [
    "def removeDuplicates(nums: List[int]) -> int:\n",
    "    # left pointer: indicate the location a new unique value should be but\n",
    "    # right pointer: traverse the array\n",
    "    l = 1 \n",
    "    for r in range(1, len(nums)):\n",
    "        if nums[r] != nums[r-1]: # unique\n",
    "            nums[l] = nums[r]\n",
    "            l+=1\n",
    "    # print(nums)    \n",
    "    return l, nums\n",
    "    \n",
    "    pass\n",
    "\n",
    "\n",
    "# nums = [0,0,1,1,1,2,2,3,3,4]\n",
    "# nums = [1,2,3,4,4]\n",
    "nums = [1,2,3,4,4,5,5,5]\n",
    "removeDuplicates(nums)\n"
   ]
  },
  {
   "attachments": {},
   "cell_type": "markdown",
   "metadata": {},
   "source": [
    "## 680. Valid Palindrome II"
   ]
  },
  {
   "cell_type": "code",
   "execution_count": 652,
   "metadata": {},
   "outputs": [
    {
     "name": "stdout",
     "output_type": "stream",
     "text": [
      "called\n",
      "called\n"
     ]
    },
    {
     "data": {
      "text/plain": [
       "False"
      ]
     },
     "execution_count": 652,
     "metadata": {},
     "output_type": "execute_result"
    }
   ],
   "source": [
    "def is_palindrome(s, l, r):\n",
    "    # l, r = 0, len(s)-1\n",
    "    print(\"called\")\n",
    "    while l<r:\n",
    "        if s[l] == s[r]:\n",
    "            l, r =l+1, r-1\n",
    "        else:\n",
    "            return False\n",
    "    return True\n",
    "    \n",
    "    \n",
    "def validPalindrome(s: str) -> bool:\n",
    "    l, r = 0, len(s)-1\n",
    "    while l<r:\n",
    "        if s[l] == s[r]:\n",
    "            l, r =l+1, r-1\n",
    "        else:\n",
    "            return is_palindrome(s, l+1, r) or is_palindrome(s, l, r-1)\n",
    "            # print(\"entered\")\n",
    "            # return s[l+1:r+1] == reversed(s[l+1:r+1]) or s[l:r] == reversed(s[l:r])\n",
    "            # candidates = [s[:l] + s[l+1:], s[:r] + s[r+1:]]\n",
    "            # return any(candidate == candidate[::-1] for candidate in candidates)\n",
    "            # return any(is_palindrome(candidate) for candidate in candidates)\n",
    "    return True\n",
    "    pass\n",
    "\n",
    "s = \"abbcca\"\n",
    "# s = \"aba\"\n",
    "# s = 'abbca'\n",
    "validPalindrome(s)"
   ]
  },
  {
   "attachments": {},
   "cell_type": "markdown",
   "metadata": {},
   "source": [
    "# sliding window"
   ]
  },
  {
   "attachments": {},
   "cell_type": "markdown",
   "metadata": {},
   "source": [
    "## 121. Best Time to Buy and Sell Stock"
   ]
  },
  {
   "cell_type": "code",
   "execution_count": 659,
   "metadata": {},
   "outputs": [
    {
     "data": {
      "text/plain": [
       "39"
      ]
     },
     "execution_count": 659,
     "metadata": {},
     "output_type": "execute_result"
    }
   ],
   "source": [
    "def maxProfit(prices: List[int]) -> int:\n",
    "    # M1: naive. O(n^2)\n",
    "    # cur_max = 0 \n",
    "    # n = len(prices)\n",
    "    \n",
    "    # for i in range(n):\n",
    "    #     for j in range(i+1, n):\n",
    "    #         cur_max = max(cur_max, prices[j] - prices[i])\n",
    "    # return cur_max\n",
    "\n",
    "    # M2: two pointers\n",
    "    l, r = 0, 1\n",
    "    cur_max = 0\n",
    "    for r in range(1, len(prices)):\n",
    "        profit = prices[r] - prices[l]\n",
    "        if profit > 0: # profit\n",
    "            cur_max = max(cur_max, profit)\n",
    "        else:\n",
    "            l = r # non-profit, better to buy at time r \n",
    "    return cur_max\n",
    "    pass\n",
    "\n",
    "prices = [7,2,5,3,6,4,1,20,40]\n",
    "maxProfit(prices)\n"
   ]
  },
  {
   "attachments": {},
   "cell_type": "markdown",
   "metadata": {},
   "source": [
    " ## 219. Contains Duplicate II"
   ]
  },
  {
   "cell_type": "code",
   "execution_count": 693,
   "metadata": {},
   "outputs": [
    {
     "data": {
      "text/plain": [
       "True"
      ]
     },
     "execution_count": 693,
     "metadata": {},
     "output_type": "execute_result"
    }
   ],
   "source": [
    "def containsNearbyDuplicate(nums: List[int], k: int) -> bool:\n",
    "    # # M1: bad.naive\n",
    "    # # for i in range(len(nums)):\n",
    "    # #     j = max(i-k, 0)\n",
    "    # #     while j < len(nums) and j < i+k+1:\n",
    "    # #         print(i, j)\n",
    "    # #         if i!=j and nums[i] == nums[j]:\n",
    "    # #             return True\n",
    "    # #         j+=1\n",
    "    # # return False\n",
    "\n",
    "    # # M2: bad. use set to store the neighbors\n",
    "    # n = len(nums)\n",
    "    # nums = [-1]*k + nums + [-1]*k\n",
    "    # left = set(nums[:k])\n",
    "    # right = set(nums[k+1:2*k+1])\n",
    "    \n",
    "    # for i in range(k, n):\n",
    "    #     if nums[i] in left or nums[i] in right:\n",
    "    #         return True\n",
    "    #     if i != n-1:\n",
    "    #         if nums[i-k] in left:\n",
    "    #             left.remove(nums[i-k])\n",
    "    #         left.add(nums[i])\n",
    "    #         if nums[i+1] in right:\n",
    "    #             right.remove(nums[i+1])\n",
    "    #         right.add(nums[i+k])\n",
    "    # return False\n",
    "    \n",
    "    \n",
    "    # M3: true sliding window\n",
    "    l = 0\n",
    "    window = set()\n",
    "    for r in range(len(nums)):\n",
    "        if r-l > k: # window too large\n",
    "            window.remove(nums[l])\n",
    "            l+=1\n",
    "        if nums[r] in window:\n",
    "            return True\n",
    "        window.add(nums[r])\n",
    "    return False \n",
    "    \n",
    "nums = [1,2,3,1]\n",
    "k = 3\n",
    "\n",
    "# nums = [1,0,1,1]\n",
    "# k = 1\n",
    "\n",
    "# nums = [1,2,3,1,2,3]\n",
    "# k = 2\n",
    "containsNearbyDuplicate(nums, k)\n"
   ]
  },
  {
   "attachments": {},
   "cell_type": "markdown",
   "metadata": {},
   "source": [
    "# Math and Geometry"
   ]
  },
  {
   "attachments": {},
   "cell_type": "markdown",
   "metadata": {},
   "source": [
    "## 2013. Detect Squares\n"
   ]
  },
  {
   "cell_type": "code",
   "execution_count": 135,
   "metadata": {},
   "outputs": [
    {
     "name": "stdout",
     "output_type": "stream",
     "text": [
      "3 2\n",
      "s.count([11,10]) = 12\n"
     ]
    }
   ],
   "source": [
    "class DetectSquares:\n",
    "    def __init__(self):\n",
    "        self.ptrs = defaultdict(int)\n",
    "\n",
    "    def add(self, point: List[int]) -> None:\n",
    "        self.ptrs[tuple(point)] += 1\n",
    "\n",
    "    def count(self, point: List[int]) -> int:\n",
    "        res = 0\n",
    "        qx, qy = point\n",
    "        for (x, y), cnt in self.ptrs.items():\n",
    "            if abs(x - qx) == abs(y-qy) and x != qx and y != qy:\n",
    "                print(x,y)\n",
    "                res += self.ptrs[(x, qy)] * self.ptrs[(qx, y)] * cnt\n",
    "        return res\n",
    "    \n",
    "\n",
    "s = DetectSquares()\n",
    "s.add([3,10])\n",
    "s.add([11,2])\n",
    "s.add([3,2])\n",
    "s.add([3,2])\n",
    "# s.add([3,2])\n",
    "# print(f\"{s.count([11,10]) = }\")\n",
    "# print(f\"{s.count([14, 8]) = }\")\n",
    "s.add([11, 2])\n",
    "s.add([11, 2])\n",
    "s.add([3, 10])\n",
    "print(f\"{s.count([11,10]) = }\")\n",
    "\n",
    "\n",
    "# s.add([1,2])\n",
    "# s.add([3,4])\n",
    "# s.add([1,2])\n",
    "# s.add([3,4])\n",
    "# s.count([3,4])"
   ]
  },
  {
   "attachments": {},
   "cell_type": "markdown",
   "metadata": {},
   "source": [
    "## 66. Plus One\n"
   ]
  },
  {
   "cell_type": "code",
   "execution_count": 100,
   "metadata": {},
   "outputs": [
    {
     "data": {
      "text/plain": [
       "[4, 3, 2, 2]"
      ]
     },
     "execution_count": 100,
     "metadata": {},
     "output_type": "execute_result"
    }
   ],
   "source": [
    "def plusOne(digits: List[int]) -> List[int]:\n",
    "    # M1\n",
    "    # for i in range(len(digits)-1, -1, -1):\n",
    "    #     if digits[i] == 9:\n",
    "    #         digits[i] = 0\n",
    "    #     else:\n",
    "    #         digits[i] += 1\n",
    "    #         break \n",
    "    # else: # if break is activated, this else clause won't be executed.\n",
    "    #     digits.insert(0, 1)\n",
    "    # return digits \n",
    "    \n",
    "    # M2\n",
    "    carry, i = 1, len(digits) - 1\n",
    "    n = len(digits) \n",
    "    while carry:\n",
    "        if i >= 0:\n",
    "            if digits[i] == 9:\n",
    "                digits[i] = 0\n",
    "            else:\n",
    "                digits[i] += 1\n",
    "                carry = 0\n",
    "            i-=1\n",
    "        else:\n",
    "            digits.insert(0, 1)\n",
    "            carry = 0\n",
    "    return digits\n",
    "                \n",
    "\n",
    "digits = [8,9,9,9]\n",
    "digits = [9,9,9,9]\n",
    "digits = [0]\n",
    "digits = [4,3,2,9]\n",
    "digits = [4,3,2,1]\n",
    "plusOne(digits)"
   ]
  },
  {
   "cell_type": "code",
   "execution_count": 115,
   "metadata": {},
   "outputs": [
    {
     "data": {
      "text/plain": [
       "'0b1100010101000100'"
      ]
     },
     "execution_count": 115,
     "metadata": {},
     "output_type": "execute_result"
    }
   ],
   "source": [
    "# 1011 >> 1\n",
    "# 1011 // 2\n",
    "\n",
    "\n",
    "# bin(1011 >> 1)\n",
    "\n",
    "# bin(8)\n",
    "\n",
    "# 8>>1\n",
    "\n",
    "bin(101000 >> 1)\n",
    "\n"
   ]
  },
  {
   "attachments": {},
   "cell_type": "markdown",
   "metadata": {},
   "source": [
    "## 202. Happy Number"
   ]
  },
  {
   "cell_type": "code",
   "execution_count": 715,
   "metadata": {},
   "outputs": [
    {
     "name": "stdout",
     "output_type": "stream",
     "text": [
      "4^2 + 3^2 + 2^2 + 1^2 = 30\n",
      "0^2 + 3^2 = 9\n",
      "9^2 = 81\n",
      "1^2 + 8^2 = 65\n",
      "5^2 + 6^2 = 61\n",
      "1^2 + 6^2 = 37\n",
      "7^2 + 3^2 = 58\n",
      "8^2 + 5^2 = 89\n",
      "9^2 + 8^2 = 145\n",
      "5^2 + 4^2 + 1^2 = 42\n",
      "2^2 + 4^2 = 20\n",
      "0^2 + 2^2 = 4\n",
      "4^2 = 16\n",
      "6^2 + 1^2 = 37\n"
     ]
    },
    {
     "data": {
      "text/plain": [
       "False"
      ]
     },
     "execution_count": 715,
     "metadata": {},
     "output_type": "execute_result"
    }
   ],
   "source": [
    "def find_square_of_digit(n, debug=True):\n",
    "    res = 0\n",
    "    digits = []\n",
    "    while n:\n",
    "        res += (n%10)**2\n",
    "        digits.append(str(n%10)+\"^2\")\n",
    "        n//=10\n",
    "    print(' + '.join(digits) + f\" = {res}\")\n",
    "    return res\n",
    "def isHappy(n: int) -> bool:\n",
    "    res = n\n",
    "    nums = set([n])\n",
    "    while True:\n",
    "        res = find_square_of_digit(res)\n",
    "        # print(res)\n",
    "        if res == 1:\n",
    "            return True\n",
    "        elif res in nums:\n",
    "            return False\n",
    "        nums.add(res)\n",
    "\n",
    "n = 234567\n",
    "n = 1234\n",
    "isHappy(n)\n",
    "        \n",
    "    \n"
   ]
  },
  {
   "attachments": {},
   "cell_type": "markdown",
   "metadata": {},
   "source": [
    "## 263. Ugly Number"
   ]
  },
  {
   "cell_type": "code",
   "execution_count": null,
   "metadata": {},
   "outputs": [],
   "source": [
    "def isUgly(n: int) -> bool:\n",
    "    \n",
    "    \n",
    "    \n"
   ]
  },
  {
   "attachments": {},
   "cell_type": "markdown",
   "metadata": {},
   "source": [
    "## 50. Pow(x, n)\n"
   ]
  },
  {
   "cell_type": "code",
   "execution_count": 765,
   "metadata": {},
   "outputs": [
    {
     "data": {
      "text/plain": [
       "True"
      ]
     },
     "execution_count": 765,
     "metadata": {},
     "output_type": "execute_result"
    },
    {
     "data": {
      "text/plain": [
       "True"
      ]
     },
     "execution_count": 765,
     "metadata": {},
     "output_type": "execute_result"
    },
    {
     "data": {
      "text/plain": [
       "True"
      ]
     },
     "execution_count": 765,
     "metadata": {},
     "output_type": "execute_result"
    },
    {
     "data": {
      "text/plain": [
       "True"
      ]
     },
     "execution_count": 765,
     "metadata": {},
     "output_type": "execute_result"
    },
    {
     "data": {
      "text/plain": [
       "True"
      ]
     },
     "execution_count": 765,
     "metadata": {},
     "output_type": "execute_result"
    }
   ],
   "source": [
    "def myPow(x: float, n: int) -> float:\n",
    "    # Naive. O(n)\n",
    "    # res = 1\n",
    "    # for i in range(abs(n)):\n",
    "    #     res *= x\n",
    "    # return res if n > 0 else 1/res\n",
    "\n",
    "    # M2: deal with negative expoenent immediately \n",
    "    # res = 1\n",
    "    # if x == 0: return 0\n",
    "    # if n < 0:\n",
    "    #     n *= -1\n",
    "    #     x = 1/x\n",
    "    # for i in range(n):\n",
    "    #     res *= x\n",
    "    # return res\n",
    "\n",
    "\n",
    "\n",
    "    # M2: recursion. O(log n)\n",
    "    \n",
    "    def helper(x, n):\n",
    "        if x == 0:\n",
    "            return 0\n",
    "        if n == 0:\n",
    "            return 1\n",
    "        res = myPow(x, n//2)\n",
    "        res *= res\n",
    "        return res if n % 2 == 0 else res*x\n",
    "    \n",
    "    res = helper(x, abs(n))\n",
    "    return 0 if res==0 else 1/res if n < 0 else res\n",
    "\n",
    "x = 2\n",
    "n = 3\n",
    "# myPow(x,n)\n",
    "\n",
    "# myPow(2,0)\n",
    "\n",
    "myPow(2,-1) == 0.5\n",
    "myPow(0, -1) == 0\n",
    "myPow(0, 2) == 0\n",
    "myPow(0, 0) == 0\n",
    "myPow(2,3) == 8\n",
    "# myPow(0,1)\n",
    "# myPow(3,1)\n",
    "\n",
    "\n"
   ]
  },
  {
   "attachments": {},
   "cell_type": "markdown",
   "metadata": {},
   "source": [
    "## 13. Roman to Integer"
   ]
  },
  {
   "cell_type": "code",
   "execution_count": 925,
   "metadata": {},
   "outputs": [
    {
     "name": "stdout",
     "output_type": "stream",
     "text": [
      "58\n"
     ]
    }
   ],
   "source": [
    "def romanToInt(s: str) -> int:\n",
    "    roman_to_val = {\n",
    "    'I': 1, \n",
    "    'V': 5, \n",
    "    'X': 10, \n",
    "    'L': 50, \n",
    "    'C': 100, \n",
    "    'D': 500, \n",
    "    'M': 1000, \n",
    "    'IV': 4,\n",
    "    'IX': 9,\n",
    "    'XL': 40,\n",
    "    'XC': 90,\n",
    "    'CD': 400,\n",
    "    'CM': 900,\n",
    "    }\n",
    "    res = 0\n",
    "    # i = 0\n",
    "    # while i< len(s):\n",
    "    #     c = s[i]\n",
    "    #     if c not in ['IXC']:\n",
    "    #         res += roman_to_val[c]\n",
    "    #         i+=1\n",
    "    #     else: \n",
    "    #         res = res - roman_to_val[c] + roman_to_val[s[i+1]]\n",
    "    #         i+=2\n",
    "    \n",
    "    # for c in range(0,len(s), 2):\n",
    "    \n",
    "    \n",
    "    for i, c in enumerate(s):\n",
    "        # print(c)\n",
    "        if i != len(s)-1 and (\n",
    "            (c == 'I' and s[i+1] in 'VX') or \n",
    "            (c == 'X' and s[i+1] in 'LC') or \n",
    "            (c =='C' and s[i+1] in 'DM')\n",
    "            ):\n",
    "            res -= roman_to_val[c]\n",
    "        else:\n",
    "            res += roman_to_val[c]\n",
    "    print(res)\n",
    "    \n",
    "    # for i, c in enumerate(s):\n",
    "    #     # print(c)\n",
    "    #     if c not in 'IXC':\n",
    "    #         # print(c)\n",
    "    #         res += roman_to_val[c]\n",
    "    #         # print(res)\n",
    "    #     elif i != len(s)-1 and ((c == 'I' and s[i+1] in 'VX') or (c == 'X' and s[i+1] in 'LC') or (c =='C' and s[i+1] in 'DM')):\n",
    "    #         # print(\"2\")\n",
    "    #         res -= roman_to_val[c]\n",
    "    #         # print(res)\n",
    "    #     else:\n",
    "    #         res += roman_to_val[c]\n",
    "    # print(res)\n",
    "    \n",
    "    \n",
    "    # for i in range(len(s)):\n",
    "    #     if i != len(s)-1 and roman_to_val[s[i]] < roman_to_val[s[i+1]]:\n",
    "    #         res -= roman_to_val[s[i]]\n",
    "    #     else:\n",
    "    #         res += roman_to_val[s[i]]\n",
    "    # print(res)\n",
    "        \n",
    "    \n",
    "# s = \"III\"\n",
    "s = \"LVIII\"\n",
    "# s = \"MCMXCIV\"\n",
    "# s = \"IIIII\"\n",
    "# s = \"\"\n",
    "romanToInt(s)"
   ]
  },
  {
   "attachments": {},
   "cell_type": "markdown",
   "metadata": {},
   "source": [
    "## 12. Integer to Roman\n",
    "https://leetcode.com/problems/integer-to-roman/"
   ]
  },
  {
   "cell_type": "code",
   "execution_count": 823,
   "metadata": {},
   "outputs": [
    {
     "data": {
      "text/plain": [
       "'IV'"
      ]
     },
     "execution_count": 823,
     "metadata": {},
     "output_type": "execute_result"
    }
   ],
   "source": [
    "def intToRoman(num: int) -> str:\n",
    "    roman_to_val = {\n",
    "    'I': 1, \n",
    "    'V': 5, \n",
    "    'X': 10, \n",
    "    'L': 50, \n",
    "    'C': 100, \n",
    "    'D': 500, \n",
    "    'M': 1000, \n",
    "    'IV': 4,\n",
    "    'IX': 9,\n",
    "    'XL': 40,\n",
    "    'XC': 90,\n",
    "    'CD': 400,\n",
    "    'CM': 900,\n",
    "    }\n",
    "    # print(roman_to_val)\n",
    "    sorted(roman_to_val.items(), key = lambda t: t[1], reverse=True)\n",
    "    \n",
    "    \n",
    "    res = []\n",
    "    # for key, val in reversed(roman_to_val.items()):\n",
    "    # for key, val in reversed(roman_to_val.items()):\n",
    "    for key, val in sorted(roman_to_val.items(), key = lambda t: t[1], reverse=True):\n",
    "        if num >= val:\n",
    "            times = num//val\n",
    "            res.extend([key]*times)\n",
    "            num = num%val\n",
    "    \n",
    "    return ''.join(res)\n",
    "        # print(key, val)\n",
    "\n",
    "\n",
    "\n",
    "\n",
    "num = 3\n",
    "num = 2020\n",
    "num = 4\n",
    "intToRoman(num)"
   ]
  },
  {
   "cell_type": "code",
   "execution_count": null,
   "metadata": {},
   "outputs": [
    {
     "data": {
      "text/plain": [
       "'MCIV'"
      ]
     },
     "metadata": {},
     "output_type": "display_data"
    }
   ],
   "source": [
    "class Solution:\n",
    "    def intToRoman(self, num: int) -> str:\n",
    "        val_to_symbol = {\n",
    "            1: 'I',\n",
    "            4: 'IV',\n",
    "            9: 'IX',\n",
    "            5: 'V',\n",
    "            10: 'X',\n",
    "            40: 'XL',\n",
    "            50: 'L',\n",
    "            90:'XC',\n",
    "            100: 'C',\n",
    "            400:'CD',\n",
    "            500: 'D',\n",
    "            900:'DM',\n",
    "            1000: 'M',\n",
    "        }\n",
    "        res = []\n",
    "        for val, symbol in reversed(val_to_symbol.items()):\n",
    "            # print(val, symbol)\n",
    "            while num >= val:\n",
    "                res.append(symbol)\n",
    "                num -= val\n",
    "        return ''.join(res)\n",
    "\n",
    "\n",
    "# Solution().intToRoman(1004)\n",
    "Solution().intToRoman(1104)"
   ]
  },
  {
   "attachments": {},
   "cell_type": "markdown",
   "metadata": {},
   "source": [
    "## 73. Set Matrix Zeroes\n"
   ]
  },
  {
   "cell_type": "code",
   "execution_count": 787,
   "metadata": {},
   "outputs": [
    {
     "name": "stdout",
     "output_type": "stream",
     "text": [
      "[[0, 0, 1], [0, 0, 1], [0, 1, 1]] 0\n"
     ]
    }
   ],
   "source": [
    "def change_to_zero(res, m, n, i, j):\n",
    "    for k in range(m):\n",
    "        res[k][j] = 0\n",
    "    for k in range(n):\n",
    "        res[i][k] = 0\n",
    "        \n",
    "def setZeroes(matrix: List[List[int]]) -> None:\n",
    "    # M1: naive. use deepcopy\n",
    "    # m = len(matrix)\n",
    "    # n = len(matrix[0])\n",
    "    # res = copy.deepcopy(matrix)\n",
    "    # for i in range(m):\n",
    "    #     for j in range(n):\n",
    "    #         if matrix[i][j] == 0:\n",
    "    #             change_to_zero(res,m,n, i, j)\n",
    "    # return res \n",
    "                \n",
    "    # ---- M2: use two arrays to represent row and column numbers of the array --- #\n",
    "    # m = len(matrix)\n",
    "    # n = len(matrix[0])\n",
    "    # row = set()\n",
    "    # col = set()\n",
    "    # # row = [None] * m\n",
    "    # # col = [None] * n\n",
    "    # for i in range(m):\n",
    "    #     for j in range(n):\n",
    "    #         if matrix[i][j] == 0:\n",
    "    #             row.add(i)\n",
    "    #             col.add(j)\n",
    "                \n",
    "    # # for i in range(m):\n",
    "    # #     for j in range(n):\n",
    "    # #         if i in row or j in col:\n",
    "    # #             matrix[i][j] = 0\n",
    "    \n",
    "    # for i in row:\n",
    "    #     for k in range(n):\n",
    "    #         matrix[i][k] = 0 \n",
    "            \n",
    "    # for j in col:\n",
    "    #     for k in range(m):\n",
    "    #         matrix[k][j] = 0 \n",
    "    # return matrix             \n",
    "\n",
    "    # ------------------------------ M3: O(1) space. ----------------------------- #\n",
    "    # use first row and first col to store results\n",
    "    # first_row_zero = 1\n",
    "    # m = len(matrix)\n",
    "    # n = len(matrix[0])\n",
    "    # for i in range(m):\n",
    "    #     for j in range(n):\n",
    "    #         if matrix[i][j] == 0:\n",
    "    #             matrix[0][j] = 0\n",
    "    #             if i == 0:\n",
    "    #                 first_row_zero = 0\n",
    "    #             else:\n",
    "    #                 matrix[i][0] = 0\n",
    "    # print(matrix, first_row_zero)\n",
    "    \n",
    "    \n",
    "    \n",
    "    \n",
    "\n",
    "\n",
    "# matrix = [[0,1,2,0],[3,4,5,2],[1,3,1,5]]\n",
    "# matrix = [[1,1,1],[1,0,1],[1,1,1]]\n",
    "matrix = [[1,0,1],[1,0,1],[0,1,1]]\n",
    "setZeroes(matrix)\n"
   ]
  },
  {
   "attachments": {},
   "cell_type": "markdown",
   "metadata": {},
   "source": [
    "## 2028. Find Missing Observations\n"
   ]
  },
  {
   "cell_type": "code",
   "execution_count": 800,
   "metadata": {},
   "outputs": [
    {
     "name": "stdout",
     "output_type": "stream",
     "text": [
      "total_n = 9\n"
     ]
    },
    {
     "data": {
      "text/plain": [
       "[6, 1, 1, 1]"
      ]
     },
     "execution_count": 800,
     "metadata": {},
     "output_type": "execute_result"
    }
   ],
   "source": [
    "def missingRolls(rolls: List[int], mean: int, n: int) -> List[int]:\n",
    "    m = len(rolls)\n",
    "    total_n = mean*(m+n) - sum(rolls)\n",
    "    \n",
    "    if total_n > 6*n or total_n < 1*n:\n",
    "        return []\n",
    "    \n",
    "    print(f\"{total_n = }\")\n",
    "    res = []\n",
    "    \n",
    "    while n != 0:\n",
    "        die = min(total_n - (n-1), 6)\n",
    "        n-=1\n",
    "        total_n -= die\n",
    "        res.append(die)\n",
    "    \n",
    "    assert total_n == 0\n",
    "    return res\n",
    "    pass \n",
    "\n",
    "# rolls = [3,2,4,3]\n",
    "# mean = 4 \n",
    "# n = 2\n",
    "\n",
    "rolls = [1,5,6]\n",
    "mean = 3\n",
    "n = 4\n",
    "missingRolls(rolls, mean, n)\n",
    "\n"
   ]
  },
  {
   "attachments": {},
   "cell_type": "markdown",
   "metadata": {},
   "source": [
    "## 43. Multiply Strings"
   ]
  },
  {
   "cell_type": "code",
   "execution_count": 801,
   "metadata": {},
   "outputs": [
    {
     "data": {
      "text/plain": [
       "56088"
      ]
     },
     "execution_count": 801,
     "metadata": {},
     "output_type": "execute_result"
    }
   ],
   "source": [
    "def multiply(num1: str, num2: str) -> str:\n",
    "    pass\n",
    "\n",
    "123 * 456\n"
   ]
  },
  {
   "cell_type": "code",
   "execution_count": 163,
   "metadata": {},
   "outputs": [
    {
     "name": "stdout",
     "output_type": "stream",
     "text": [
      "1 8\n",
      "9 8\n",
      "1 8\n",
      "9 8\n"
     ]
    }
   ],
   "source": [
    "# ---------------------- multiply a with each digit of b --------------------- #\n",
    "# for i, c in enumerate(reversed(b)):\n",
    "#     res += int(a) * int(c) * (10**i)\n",
    "# for i in range(len(b)):\n",
    "#     res += int(a) * int(b[-1-i])*(10**(i))\n",
    "# ---------------------------------------------------------------------------- #\n",
    "\n",
    "def multiply(a,b):\n",
    "    res = 0\n",
    "    for i, c in enumerate(reversed(b)):\n",
    "        # print(i, c)\n",
    "        carry = 0 \n",
    "        for j, d in enumerate(reversed(a)):\n",
    "            res = int(d) * int(c) + carry\n",
    "            carry, final = res//10, res%10\n",
    "            print(final, carry)\n",
    "        \n",
    "a = '123'\n",
    "b = '456'\n",
    "a = '99'\n",
    "b = '99'\n",
    "multiply(a,b)\n",
    "\n",
    "# print(res)"
   ]
  },
  {
   "attachments": {},
   "cell_type": "markdown",
   "metadata": {},
   "source": [
    "# binary search"
   ]
  },
  {
   "attachments": {},
   "cell_type": "markdown",
   "metadata": {},
   "source": [
    "## 153. Find Minimum in Rotated Sorted Array\n"
   ]
  },
  {
   "cell_type": "code",
   "execution_count": null,
   "metadata": {},
   "outputs": [],
   "source": [
    "def findMin(nums: List[int]) -> int:\n",
    "    start , end = 0 ,len(nums) - 1 \n",
    "    curr_min = float(\"inf\")\n",
    "    while start  <  end :\n",
    "        mid = (start + end ) // 2\n",
    "        curr_min = min(curr_min,nums[mid])\n",
    "        \n",
    "        # right has the min \n",
    "        if nums[mid] > nums[end]:\n",
    "            start = mid + 1\n",
    "            \n",
    "        # left has the min \n",
    "        else:\n",
    "            end = mid - 1 \n",
    "    return min(curr_min,nums[start])"
   ]
  },
  {
   "attachments": {},
   "cell_type": "markdown",
   "metadata": {},
   "source": [
    "## 35. Search Insert Position"
   ]
  },
  {
   "cell_type": "code",
   "execution_count": 75,
   "metadata": {},
   "outputs": [
    {
     "data": {
      "text/plain": [
       "4"
      ]
     },
     "execution_count": 75,
     "metadata": {},
     "output_type": "execute_result"
    }
   ],
   "source": [
    "def searchInsert(nums: List[int], target: int) -> int:\n",
    "    l, r = 0, len(nums)-1\n",
    "    while l <= r:\n",
    "        mid = (l+r)//2\n",
    "        if nums[mid] < target:\n",
    "            l = mid + 1\n",
    "        elif nums[mid] > target:\n",
    "            r = mid - 1\n",
    "        else:\n",
    "            return mid \n",
    "    return l\n",
    "\n",
    "    pass \n",
    "\n",
    "\n",
    "nums = [1,3,5,6]\n",
    "target = 10\n",
    "searchInsert(nums, target)\n",
    "\n"
   ]
  },
  {
   "attachments": {},
   "cell_type": "markdown",
   "metadata": {},
   "source": [
    "## 367. Valid Perfect Square\n"
   ]
  },
  {
   "cell_type": "code",
   "execution_count": 29,
   "metadata": {},
   "outputs": [
    {
     "data": {
      "text/plain": [
       "True"
      ]
     },
     "execution_count": 29,
     "metadata": {},
     "output_type": "execute_result"
    },
    {
     "data": {
      "text/plain": [
       "False"
      ]
     },
     "execution_count": 29,
     "metadata": {},
     "output_type": "execute_result"
    },
    {
     "data": {
      "text/plain": [
       "True"
      ]
     },
     "execution_count": 29,
     "metadata": {},
     "output_type": "execute_result"
    },
    {
     "data": {
      "text/plain": [
       "True"
      ]
     },
     "execution_count": 29,
     "metadata": {},
     "output_type": "execute_result"
    },
    {
     "data": {
      "text/plain": [
       "False"
      ]
     },
     "execution_count": 29,
     "metadata": {},
     "output_type": "execute_result"
    },
    {
     "data": {
      "text/plain": [
       "True"
      ]
     },
     "execution_count": 29,
     "metadata": {},
     "output_type": "execute_result"
    }
   ],
   "source": [
    "def isPerfectSquare(num: int) -> bool:\n",
    "    # M1: use sqrt\n",
    "    # return (num**0.5).is_integer()\n",
    "\n",
    "    # M2: naive, without sqrt. O(sqrt(n))\n",
    "    # for i in range(int(num)+1):\n",
    "    # # for i in range(int(num)):\n",
    "    #     # print(i)\n",
    "    #     if i ** i == num:\n",
    "    #         return True\n",
    "    #     if i ** i > num:\n",
    "    #         return False\n",
    "        \n",
    "    # M3: binary search. O(log n)\n",
    "    l, r = 1, num\n",
    "    while l <= r:\n",
    "        mid = (l+r)//2\n",
    "        candidate = mid * mid\n",
    "        if candidate < num:\n",
    "            l = mid +1\n",
    "        elif candidate > num:\n",
    "            r = mid - 1\n",
    "        else:\n",
    "            return True\n",
    "    return False \n",
    "\n",
    "isPerfectSquare(4.0)\n",
    "isPerfectSquare(5)\n",
    "isPerfectSquare(9)\n",
    "isPerfectSquare(1)\n",
    "isPerfectSquare(2)\n",
    "isPerfectSquare(4)\n"
   ]
  },
  {
   "cell_type": "code",
   "execution_count": 4,
   "metadata": {},
   "outputs": [
    {
     "data": {
      "text/plain": [
       "True"
      ]
     },
     "execution_count": 4,
     "metadata": {},
     "output_type": "execute_result"
    }
   ],
   "source": [
    "# isinstance(4.0, float)\n",
    "\n",
    "(4.0).is_integer()\n"
   ]
  },
  {
   "cell_type": "code",
   "execution_count": null,
   "metadata": {},
   "outputs": [],
   "source": []
  },
  {
   "attachments": {},
   "cell_type": "markdown",
   "metadata": {},
   "source": [
    "# heap"
   ]
  },
  {
   "attachments": {},
   "cell_type": "markdown",
   "metadata": {},
   "source": [
    "## 215. Kth Largest Element in an Array"
   ]
  },
  {
   "cell_type": "code",
   "execution_count": 142,
   "metadata": {},
   "outputs": [
    {
     "data": {
      "text/plain": [
       "5"
      ]
     },
     "execution_count": 142,
     "metadata": {},
     "output_type": "execute_result"
    }
   ],
   "source": [
    "def findKthLargest(nums: List[int], k: int) -> int:\n",
    "    # M1: heap. O(k log n)\n",
    "    # h = [-n for n in nums]\n",
    "    # heapq.heapify(h)\n",
    "    \n",
    "    # # pop k-1 times\n",
    "    # for i in range(k-1):\n",
    "    #     heapq.heappop(h)\n",
    "    \n",
    "    # return -h[0]\n",
    "\n",
    "    # M2: sorting. O(nlogn)\n",
    "    # return sorted(nums, reverse=True)[k-1]\n",
    "    \n",
    "    # M3: quickselect\n",
    "    \n",
    "    pass\n",
    "\n",
    "\n",
    "nums = [3,2,1,5,6,4]\n",
    "k = 2\n",
    "# nums = [3,2,3,1,2,4,5,5,6]\n",
    "# k = 4\n",
    "findKthLargest(nums, k)"
   ]
  },
  {
   "attachments": {},
   "cell_type": "markdown",
   "metadata": {},
   "source": [
    "## 703. Kth Largest Element in a Stream\n"
   ]
  },
  {
   "cell_type": "code",
   "execution_count": 64,
   "metadata": {},
   "outputs": [
    {
     "data": {
      "text/plain": [
       "4"
      ]
     },
     "execution_count": 64,
     "metadata": {},
     "output_type": "execute_result"
    },
    {
     "data": {
      "text/plain": [
       "4"
      ]
     },
     "execution_count": 64,
     "metadata": {},
     "output_type": "execute_result"
    },
    {
     "data": {
      "text/plain": [
       "5"
      ]
     },
     "execution_count": 64,
     "metadata": {},
     "output_type": "execute_result"
    }
   ],
   "source": [
    "class KthLargest:\n",
    "    # idea: just maintain k that many values in the heap\n",
    "    def __init__(self, k: int, nums: List[int]):\n",
    "        heapq.heapify(nums)\n",
    "        self.nums = nums\n",
    "        self.k = k\n",
    "        while len(self.nums) > k:\n",
    "            heapq.heappop(self.nums)\n",
    "        pass\n",
    "\n",
    "    def add(self, val: int) -> int:\n",
    "        heapq.heappush(self.nums, val)\n",
    "        if len(self.nums) > self.k:\n",
    "            heapq.heappop(self.nums)\n",
    "        return self.nums[0]\n",
    "    \n",
    "# class KthLargest:\n",
    "#     def __init__(self, k: int, nums: List[int]):\n",
    "#         heapq.heapify(nums)\n",
    "#         self.nums = nums\n",
    "#         self.k = k\n",
    "#         pass\n",
    "\n",
    "#     def add(self, val: int) -> int:\n",
    "#         heapq.heappush(self.nums, val)\n",
    "#         return \n",
    "#         pass\n",
    "    \n",
    "    \n",
    "x = KthLargest(3, [4,2,1,4])\n",
    "# x.nums\n",
    "# x.k\n",
    "x.add(5)\n",
    "x.add(6)\n",
    "x.add(7)\n",
    "# x.nums\n",
    "# x.k"
   ]
  },
  {
   "attachments": {},
   "cell_type": "markdown",
   "metadata": {},
   "source": [
    "## 973. K Closest Points to Origin\n",
    "- https://leetcode.com/problems/k-closest-points-to-origin/"
   ]
  },
  {
   "cell_type": "code",
   "execution_count": 75,
   "metadata": {},
   "outputs": [
    {
     "name": "stdout",
     "output_type": "stream",
     "text": [
      "[(5.0990195135927845, 5, -1), (4.47213595499958, -2, 4), (4.242640687119285, 3, 3)]\n",
      "[(4.242640687119285, 3, 3), (4.47213595499958, -2, 4), (5.0990195135927845, 5, -1)]\n"
     ]
    },
    {
     "data": {
      "text/plain": [
       "[(3, 3), (-2, 4)]"
      ]
     },
     "execution_count": 75,
     "metadata": {},
     "output_type": "execute_result"
    }
   ],
   "source": [
    "def kClosest(points: List[List[int]], k: int) -> List[List[int]]:\n",
    "    # M1: use heappush\n",
    "    # h = []\n",
    "    # for x,y in points:\n",
    "    #     # print(point)\n",
    "    #     dist = x**2 + y**2\n",
    "    #     heapq.heappush(h, (dist,[x,y])) \n",
    "    # return [heapq.heappop(h)[1] for i in range(k) ]\n",
    "    \n",
    "    # M1.5: slight optimization\n",
    "    # h = []\n",
    "    # for i, x,y in enumerate(points):\n",
    "    #     # print(point)\n",
    "    #     dist = x**2 + y**2\n",
    "    #     heapq.heappush(h, (dist,i)) \n",
    "    # return [points[heapq.heappop(h)[1]] for i in range(k) ]\n",
    "    \n",
    "    h = [0] * len(points)\n",
    "    for i, (x,y) in enumerate(points):\n",
    "        h[i] = (x**2 + y**2) ** 0.5, x, y\n",
    "    print(h)\n",
    "    heapq.heapify(h)\n",
    "    print(h)\n",
    "    return [heapq.heappop(h)[1:] for i in range(k)]\n",
    "\n",
    "# points = [[1,3],[-2,2]]\n",
    "# k = 1\n",
    "points = [[5,-1],[-2,4], [3,3]]\n",
    "k = 2\n",
    "kClosest(points, k)"
   ]
  },
  {
   "attachments": {},
   "cell_type": "markdown",
   "metadata": {},
   "source": [
    "## 215. Kth Largest Element in an Array\n",
    "- https://leetcode.com/problems/kth-largest-element-in-an-array/\n"
   ]
  },
  {
   "cell_type": "code",
   "execution_count": 79,
   "metadata": {},
   "outputs": [
    {
     "data": {
      "text/plain": [
       "6"
      ]
     },
     "execution_count": 79,
     "metadata": {},
     "output_type": "execute_result"
    }
   ],
   "source": [
    "def findKthLargest(nums: List[int], k: int) -> int:\n",
    "    # M1: heap. O(klogn). Better method is to use quickselect\n",
    "    n = len(nums)\n",
    "    heapq.heapify(nums)\n",
    "    for i in range(n - k):\n",
    "        heapq.heappop(nums)\n",
    "    return nums[0]\n",
    "    pass\n",
    "\n",
    "\n",
    "# nums = [3,2,3,1,2,4,5,5,6]\n",
    "nums = [1,2,3,4,5,6,7,8]\n",
    "k = 3\n",
    "findKthLargest(nums, k)"
   ]
  },
  {
   "attachments": {},
   "cell_type": "markdown",
   "metadata": {},
   "source": [
    "## 1046. Last Stone Weight\n"
   ]
  },
  {
   "cell_type": "code",
   "execution_count": 81,
   "metadata": {},
   "outputs": [
    {
     "data": {
      "text/plain": [
       "1"
      ]
     },
     "execution_count": 81,
     "metadata": {},
     "output_type": "execute_result"
    }
   ],
   "source": [
    "def lastStoneWeight(stones: List[int]) -> int:\n",
    "    stones = [-stone for stone in stones]\n",
    "    heapq.heapify(stones)\n",
    "    \n",
    "    while len(stones) > 1:\n",
    "        first = heapq.heappop(stones) # smallest\n",
    "        second = heapq.heappop(stones) \n",
    "        if first < second:\n",
    "            heapq.heappush(stones, first-second)\n",
    "    \n",
    "    return -stones[0] if stones else 0 \n",
    "    pass \n",
    "\n",
    "stones = [2,7,4,1,8,1]\n",
    "lastStoneWeight(stones)"
   ]
  },
  {
   "attachments": {},
   "cell_type": "markdown",
   "metadata": {},
   "source": [
    "## 1834. Single-Threaded CPU\n"
   ]
  },
  {
   "cell_type": "code",
   "execution_count": 91,
   "metadata": {},
   "outputs": [
    {
     "name": "stdout",
     "output_type": "stream",
     "text": [
      "[0, 2, 3, 1]\n"
     ]
    }
   ],
   "source": [
    "def getOrder(tasks: List[List[int]]) -> List[int]:\n",
    "    for i, task in enumerate(tasks):\n",
    "        task.append(i)\n",
    "    tasks.sort()\n",
    "    # print(tasks)\n",
    "    \n",
    "    res, h = [], []\n",
    "    cur_time, i = tasks[0][0], 0\n",
    "    \n",
    "    while i < len(tasks) or h:\n",
    "        # add tasks to heap\n",
    "        while i < len(tasks) and cur_time >= tasks[i][0]:\n",
    "            # print(tasks[1:])\n",
    "            heapq.heappush(h, tasks[i][1:])\n",
    "            i+=1 \n",
    "        # print(h)\n",
    "        # process tasks on heap\n",
    "        if h:\n",
    "            duration, idx = heapq.heappop(h)\n",
    "            res.append(idx)\n",
    "            cur_time += duration\n",
    "        else:\n",
    "            cur_time = tasks[i][0]\n",
    "    print(res)\n",
    "    pass\n",
    "\n",
    "tasks = [[1,2],[2,4],[3,2],[4,1]]\n",
    "getOrder(tasks)\n",
    "\n"
   ]
  },
  {
   "attachments": {},
   "cell_type": "markdown",
   "metadata": {},
   "source": [
    "# stack"
   ]
  },
  {
   "attachments": {},
   "cell_type": "markdown",
   "metadata": {},
   "source": [
    "## 682. Baseball Game\n"
   ]
  },
  {
   "cell_type": "code",
   "execution_count": 67,
   "metadata": {},
   "outputs": [
    {
     "data": {
      "text/plain": [
       "0"
      ]
     },
     "execution_count": 67,
     "metadata": {},
     "output_type": "execute_result"
    }
   ],
   "source": [
    "def calPoints(operations: List[str]) -> int:\n",
    "    stack = []\n",
    "    for op in ops:\n",
    "        if op == 'C' and stack:\n",
    "            stack.pop()\n",
    "        elif op == 'D':\n",
    "            # stack.append(int(stack[-1])*2)\n",
    "            stack.append(stack[-1]*2)\n",
    "        elif op == '+':\n",
    "            stack.append(stack[-1] + stack[-2])\n",
    "            # stack.append(int(stack[-1]) + int(stack[-2]))\n",
    "        else:\n",
    "            stack.append(int(op))\n",
    "    return sum(stack)\n",
    "    pass\n",
    "\n",
    "\n",
    "ops = [\"5\",\"2\",\"C\",\"D\",\"+\"]\n",
    "ops = [\"5\",\"-2\",\"4\",\"C\",\"D\",\"9\",\"+\",\"+\"]\n",
    "ops = [\"1\",\"C\"]\n",
    "calPoints(ops)"
   ]
  },
  {
   "attachments": {},
   "cell_type": "markdown",
   "metadata": {},
   "source": [
    "## 155. Min Stack\n"
   ]
  },
  {
   "cell_type": "code",
   "execution_count": 109,
   "metadata": {},
   "outputs": [
    {
     "data": {
      "text/plain": [
       "-3"
      ]
     },
     "execution_count": 109,
     "metadata": {},
     "output_type": "execute_result"
    },
    {
     "data": {
      "text/plain": [
       "0"
      ]
     },
     "execution_count": 109,
     "metadata": {},
     "output_type": "execute_result"
    },
    {
     "data": {
      "text/plain": [
       "-2"
      ]
     },
     "execution_count": 109,
     "metadata": {},
     "output_type": "execute_result"
    }
   ],
   "source": [
    "class MinStack:\n",
    "    # remember that we can't just make an attribute maintaining the minimum, since we can pop!\n",
    "    def __init__(self):\n",
    "        self.stack = []\n",
    "        self.min_stack = []\n",
    "\n",
    "    def push(self, val: int) -> None:\n",
    "        self.stack.append(val)\n",
    "        val = min(\n",
    "            self.min_stack[-1] if self.min_stack else val,\n",
    "            val \n",
    "            )\n",
    "        self.min_stack.append(val)\n",
    "\n",
    "    def pop(self) -> None:\n",
    "        self.stack.pop()\n",
    "        self.min_stack.pop()\n",
    "\n",
    "    def top(self) -> int:\n",
    "        return self.stack[-1]\n",
    "\n",
    "    def getMin(self) -> int:\n",
    "        return self.min_stack[-1]\n",
    "\n",
    "# MinStack minStack = new MinStack()\n",
    "minStack = MinStack()\n",
    "minStack.push(-2)\n",
    "minStack.push(0)\n",
    "minStack.push(-3)\n",
    "minStack.getMin() # return -3\n",
    "minStack.pop()\n",
    "minStack.top()    # return 0\n",
    "minStack.getMin() # return -2"
   ]
  },
  {
   "attachments": {},
   "cell_type": "markdown",
   "metadata": {},
   "source": [
    "## 402. Remove K Digits\n"
   ]
  },
  {
   "cell_type": "code",
   "execution_count": 110,
   "metadata": {},
   "outputs": [],
   "source": [
    "def removeKdigits(num: str, k: int) -> str:\n",
    "    \n",
    "    pass\n",
    "\n",
    "num = \"1432219\"\n",
    "k = 3\n",
    "removeKdigits(num, k)\n"
   ]
  },
  {
   "attachments": {},
   "cell_type": "markdown",
   "metadata": {},
   "source": [
    "## 150. Evaluate Reverse Polish Notation"
   ]
  },
  {
   "cell_type": "code",
   "execution_count": 9,
   "metadata": {},
   "outputs": [
    {
     "data": {
      "text/plain": [
       "[13]"
      ]
     },
     "execution_count": 9,
     "metadata": {},
     "output_type": "execute_result"
    }
   ],
   "source": [
    "def postfix_eval(s):\n",
    "    stack = []\n",
    "    for c in s:\n",
    "        if c in '+-*/':\n",
    "            stack.append(\n",
    "                eval(\n",
    "                    f'{stack.pop()}{c}{stack.pop()}'\n",
    "                    )\n",
    "                )\n",
    "        else:\n",
    "            stack.append(c)\n",
    "    return stack \n",
    "s = '1234*+-'\n",
    "# s = '32*'\n",
    "postfix_eval(s)\n"
   ]
  },
  {
   "cell_type": "code",
   "execution_count": null,
   "metadata": {},
   "outputs": [],
   "source": [
    "def evalRPN(tokens: List[str]) -> int:\n",
    "    \n",
    "    pass\n",
    "\n",
    "\n",
    "tokens = [\"2\",\"1\",\"+\",\"3\",\"*\"]\n",
    "\n"
   ]
  },
  {
   "attachments": {},
   "cell_type": "markdown",
   "metadata": {},
   "source": [
    "## 22. Generate Parentheses"
   ]
  },
  {
   "cell_type": "code",
   "execution_count": 24,
   "metadata": {},
   "outputs": [
    {
     "data": {
      "text/plain": [
       "['(())', '()()']"
      ]
     },
     "execution_count": 24,
     "metadata": {},
     "output_type": "execute_result"
    }
   ],
   "source": [
    "def generateParenthesis(n: int) -> List[str]:\n",
    "    # can add open paranthesis if n_open < n\n",
    "    # can add close paranthesis if n_close < n_open\n",
    "    # valid IFF n_open == n_close == n\n",
    "    \n",
    "    \n",
    "    stack = []\n",
    "    res = []\n",
    "    def backtrack(n_open, n_close):\n",
    "        if n_open == n_close == n:\n",
    "            res.append(''.join(stack))\n",
    "            # stack.pop() # IMPORTANT: pop() only at the base case doesn't work, since we not just want to pop once when generating a result!\n",
    "            return \n",
    "        \n",
    "        if n_open < n:\n",
    "            stack.append('(')\n",
    "            backtrack(n_open + 1, n_close)\n",
    "            stack.pop()\n",
    "            \n",
    "        if n_close < n_open:\n",
    "            stack.append(')')\n",
    "            backtrack(n_open, n_close + 1)\n",
    "            stack.pop()\n",
    "        \n",
    "    backtrack(0,0)\n",
    "    return res \n",
    "n = 2\n",
    "generateParenthesis(n)"
   ]
  },
  {
   "cell_type": "code",
   "execution_count": 13,
   "metadata": {},
   "outputs": [
    {
     "data": {
      "text/plain": [
       "['((()))', '(()())', '(())()', '()(())', '()()()']"
      ]
     },
     "execution_count": 13,
     "metadata": {},
     "output_type": "execute_result"
    }
   ],
   "source": [
    "def generateParenthesis(n: int) -> List[str]:\n",
    "        stack = []\n",
    "        res = []\n",
    "\n",
    "        def backtrack(openN, closedN):\n",
    "            if openN == closedN == n:\n",
    "                res.append(\"\".join(stack))\n",
    "                return\n",
    "\n",
    "            if openN < n:\n",
    "                stack.append(\"(\")\n",
    "                backtrack(openN + 1, closedN)\n",
    "                stack.pop()\n",
    "            if closedN < openN:\n",
    "                stack.append(\")\")\n",
    "                backtrack(openN, closedN + 1)\n",
    "                stack.pop()\n",
    "\n",
    "        backtrack(0, 0)\n",
    "        return res\n",
    "\n",
    "n = 3\n",
    "generateParenthesis(n)\n"
   ]
  },
  {
   "attachments": {},
   "cell_type": "markdown",
   "metadata": {},
   "source": [
    "## 71. Simplify Path\n"
   ]
  },
  {
   "cell_type": "code",
   "execution_count": 886,
   "metadata": {},
   "outputs": [
    {
     "data": {
      "text/plain": [
       "'/my./fe/rrew/asff/et'"
      ]
     },
     "execution_count": 886,
     "metadata": {},
     "output_type": "execute_result"
    }
   ],
   "source": [
    "def simplifyPath(path: str) -> str:\n",
    "    stack = []\n",
    "    s = \"\"\n",
    "    for c in path+'/':\n",
    "        if c == '/':\n",
    "            if s == '..' and stack:\n",
    "                stack.pop(s)\n",
    "            elif s not in ['..', '', '.']:\n",
    "                stack.append(s)\n",
    "            s = \"\"\n",
    "        else:\n",
    "            # print(\"hello\")\n",
    "            s += c\n",
    "    # print(stack)\n",
    "    return '/' + '/'.join(stack)\n",
    "    pass\n",
    "\n",
    "# path = \"/home///my\"\n",
    "# path = \"/../home///my\"\n",
    "# path = \"/home///./my\"\n",
    "path = \"/./my./fe///rrew/asff/et\"\n",
    "# path = \"/../\"\n",
    "# path = \"/home//foo././//.\"\n",
    "simplifyPath(path)\n",
    "\n"
   ]
  },
  {
   "attachments": {},
   "cell_type": "markdown",
   "metadata": {},
   "source": [
    "# backtracking"
   ]
  },
  {
   "attachments": {},
   "cell_type": "markdown",
   "metadata": {},
   "source": [
    "## 78. Subsets\n"
   ]
  },
  {
   "cell_type": "code",
   "execution_count": 27,
   "metadata": {},
   "outputs": [
    {
     "data": {
      "text/plain": [
       "[[1, 2], [1], [2], []]"
      ]
     },
     "execution_count": 27,
     "metadata": {},
     "output_type": "execute_result"
    }
   ],
   "source": [
    "# for each number, either choose or not choose => 2 choices \n",
    "def subsets(nums: List[int]) -> List[List[int]]:\n",
    "    res = []\n",
    "    subset = []\n",
    "    n = len(nums)\n",
    "    \n",
    "    def dfs(i):\n",
    "        if i >= n:\n",
    "            res.append(subset.copy())\n",
    "            return \n",
    "        \n",
    "        # add nums[i]\n",
    "        subset.append(nums[i])\n",
    "        dfs(i+1)\n",
    "        \n",
    "        # not add nums[i]\n",
    "        subset.pop()\n",
    "        dfs(i+1)\n",
    "    \n",
    "    dfs(0)\n",
    "    return res\n",
    "    \n",
    "    \n",
    "subsets([1,2])\n"
   ]
  },
  {
   "cell_type": "code",
   "execution_count": 44,
   "metadata": {},
   "outputs": [
    {
     "data": {
      "text/plain": [
       "[[1, 2, 3], [1, 2], [1, 3], [1], [2, 3], [2], [3], []]"
      ]
     },
     "execution_count": 44,
     "metadata": {},
     "output_type": "execute_result"
    }
   ],
   "source": [
    "def subsets(nums: List[int]) -> List[List[int]]:\n",
    "    res = []\n",
    "    subset = []\n",
    "    n = len(nums)\n",
    "    def dfs(i):\n",
    "        if i >= n:\n",
    "            res.append(subset.copy())\n",
    "            return \n",
    "        \n",
    "        # add nums[i]\n",
    "        subset.append(nums[i])\n",
    "        dfs(i+1)\n",
    "        subset.pop()\n",
    "        \n",
    "        # not add nums[i]\n",
    "        dfs(i+1)\n",
    "        \n",
    "        pass\n",
    "    \n",
    "    dfs(0)\n",
    "    return res\n",
    "\n",
    "\n",
    "subsets([1,2,3])\n",
    "# res"
   ]
  },
  {
   "attachments": {},
   "cell_type": "markdown",
   "metadata": {},
   "source": [
    "## 77. Combinations"
   ]
  },
  {
   "cell_type": "code",
   "execution_count": 39,
   "metadata": {},
   "outputs": [
    {
     "data": {
      "text/plain": [
       "[[1, 2, 3], [1, 2, 4], [1, 3, 4], [2, 3, 4]]"
      ]
     },
     "execution_count": 39,
     "metadata": {},
     "output_type": "execute_result"
    }
   ],
   "source": [
    "def combine(n: int, k: int) -> List[List[int]]:\n",
    "    res = []\n",
    "    comb = []\n",
    "    def dfs(start):\n",
    "        if len(comb) == k: # base case\n",
    "            res.append(comb.copy())\n",
    "            return \n",
    "        for i in range(start, n+1):\n",
    "            comb.append(i)\n",
    "            dfs(i+1)\n",
    "            comb.pop()\n",
    "        \n",
    "    dfs(1)\n",
    "    return res\n",
    "\n",
    "combine(4, 3)\n",
    "\n",
    "\n"
   ]
  },
  {
   "attachments": {},
   "cell_type": "markdown",
   "metadata": {},
   "source": [
    "# probability and statistics"
   ]
  },
  {
   "attachments": {},
   "cell_type": "markdown",
   "metadata": {},
   "source": [
    "## 837. New 21 Game"
   ]
  },
  {
   "cell_type": "code",
   "execution_count": 968,
   "metadata": {},
   "outputs": [
    {
     "data": {
      "text/plain": [
       "0.591155425261863"
      ]
     },
     "execution_count": 968,
     "metadata": {},
     "output_type": "execute_result"
    }
   ],
   "source": [
    "import functools\n",
    "\n",
    "@functools.cache\n",
    "def new21Game(n: int, k: int, maxPts: int) -> float:\n",
    "    res = {}\n",
    "    def helper(n, k):\n",
    "        if k <= 0:\n",
    "            return 1 if n >= 0 else 0 \n",
    "        if (n,k) not in res:\n",
    "            # this is just conditional on the value of the first draw\n",
    "            res[(n,k)] = 1/maxPts * sum(helper(n-i, k-i) for i in range(1, maxPts+1))\n",
    "        return res[(n,k)]\n",
    "    return helper(n,k)\n",
    "\n",
    "\n",
    "\n",
    "# new21Game(n = 10, k = 1, maxPts = 10)\n",
    "new21Game(n = 100, k = 90, maxPts = 30)\n",
    "# new21Game(n = 6, k = 1, maxPts = 10)\n",
    "# new21Game(n = 21, k = 17, maxPts = 10)"
   ]
  },
  {
   "cell_type": "code",
   "execution_count": null,
   "metadata": {},
   "outputs": [],
   "source": [
    "@functools.cache\n",
    "def new21Game(n: int, k: int, maxPts: int) -> float:\n",
    "    # if >=k, but <=n => success \n",
    "    # M1: bottom up \n",
    "    res = {}\n",
    "    \n",
    "    def helper(score):\n",
    "        if score >= k:\n",
    "            return 1 if score <= n else 0 \n",
    "        if score in cache:\n",
    "            return res[score]\n",
    "        \n",
    "        cache[score] = 1/maxPts * sum(helper(score+i) for i in range(1, maxPts+1))\n",
    "        \n",
    "        return cache[score]\n",
    "    \n",
    "    return helper(0)\n",
    "\n",
    "# new21Game(n = 10, k = 1, maxPts = 10)\n",
    "new21Game(n = 100, k = 90, maxPts = 30)\n",
    "# new21Game(n = 6, k = 1, maxPts = 10)\n",
    "# new21Game(n = 21, k = 17, maxPts = 10)"
   ]
  },
  {
   "attachments": {},
   "cell_type": "markdown",
   "metadata": {},
   "source": [
    "## 688. Knight Probability in Chessboard\n",
    "- it's like a tree diagram. We're exploring all the possibilities"
   ]
  },
  {
   "cell_type": "code",
   "execution_count": 976,
   "metadata": {},
   "outputs": [
    {
     "data": {
      "text/plain": [
       "0.022654876508337453"
      ]
     },
     "execution_count": 976,
     "metadata": {},
     "output_type": "execute_result"
    },
    {
     "data": {
      "text/plain": [
       "CacheInfo(hits=31354, misses=6335, maxsize=None, currsize=6335)"
      ]
     },
     "execution_count": 976,
     "metadata": {},
     "output_type": "execute_result"
    }
   ],
   "source": [
    "@cache\n",
    "def knightProbability(n: int, k: int, row: int, column: int) -> float:\n",
    "    combs = list(itertools.product([2,-2],[1,-1])) + list(itertools.product([1,-1],[2,-2]))\n",
    "    \n",
    "    def helper(k, row, column):\n",
    "        if k==0 and 0<=row<=n-1 and 0<=column<=n-1:\n",
    "            return 1 \n",
    "        elif row not in range(n) or column not in range(n):\n",
    "            return 0 \n",
    "        \n",
    "        return 1/8 * sum(\n",
    "            knightProbability(n, k-1, row+i, column+j) for i, j in combs\n",
    "            )\n",
    "        \n",
    "    return helper(k,row,column)\n",
    "    \n",
    "    \n",
    "knightProbability(n = 100, k = 20, row = 0, column = 0)\n",
    "knightProbability.cache_info()\n"
   ]
  },
  {
   "cell_type": "code",
   "execution_count": null,
   "metadata": {},
   "outputs": [
    {
     "data": {
      "text/plain": [
       "0.022654876508337453"
      ]
     },
     "metadata": {},
     "output_type": "display_data"
    }
   ],
   "source": [
    "# class Solution:\n",
    "#     def knightProbability(self, n: int, k: int, row: int, column: int) -> float:\n",
    "#         pass\n",
    "\n",
    "from itertools import product\n",
    "\n",
    "def knightProbability(n: int, k: int, row: int, column: int) -> float:\n",
    "    \n",
    "    # if row>=n or row < 0 or column >=n or column <0:\n",
    "    #     return 0 \n",
    "    # if k==0:\n",
    "    #     return 1\n",
    "    \n",
    "    # combs = list(product([2,-2],[1,-1])) + list(product([1,-1],[2,-2]))\n",
    "    # # M1\n",
    "    # res = []\n",
    "    # for row_val, col_val in combs:\n",
    "    #     res.append(knightProbability(n, k-1, row+row_val, column+col_val))\n",
    "    # return sum(res)/len(res)\n",
    "    \n",
    "    # M2:\n",
    "    # return sum(knightProbability(n, k-1, row+row_val, column+col_val) for row_val, col_val in combs)/len(combs)\n",
    "\n",
    "    # M3: dynamic. memoization\n",
    "    res = {}\n",
    "    combs = list(product([2,-2],[1,-1])) + list(product([1,-1],[2,-2]))\n",
    "    def helper(k, row, column):\n",
    "        if row>=n or row < 0 or column >=n or column <0:\n",
    "            return 0 \n",
    "        if k==0:\n",
    "            return 1        \n",
    "        if (k,row,column) not in res:\n",
    "            res[(k,row,column)] = 1/8*sum(helper(k-1, row-i, column-j) for i, j in combs)\n",
    "        return res[(k,row,column)]\n",
    "    return helper(k, row, column)\n",
    "    \n",
    "\n",
    "knightProbability(n = 100, k = 20, row = 0, column = 0)\n",
    "# knightProbability(n = 1, k = 0, row = 0, column = 0)\n",
    "    "
   ]
  },
  {
   "attachments": {},
   "cell_type": "markdown",
   "metadata": {},
   "source": [
    "# Dynamic programming"
   ]
  },
  {
   "attachments": {},
   "cell_type": "markdown",
   "metadata": {},
   "source": [
    "## 70. Climbing Stairs\n"
   ]
  },
  {
   "cell_type": "code",
   "execution_count": 98,
   "metadata": {},
   "outputs": [
    {
     "data": {
      "text/plain": [
       "89"
      ]
     },
     "execution_count": 98,
     "metadata": {},
     "output_type": "execute_result"
    },
    {
     "data": {
      "text/plain": [
       "CacheInfo(hits=7, misses=10, maxsize=None, currsize=10)"
      ]
     },
     "execution_count": 98,
     "metadata": {},
     "output_type": "execute_result"
    }
   ],
   "source": [
    "@cache\n",
    "def climbStairs(n: int) -> int:\n",
    "    return n if n<=2 else climbStairs(n-1) + climbStairs(n-2)\n",
    "\n",
    "    # M2\n",
    "    # res = {1:1, 2:2}\n",
    "    # for i in range(3, n+1):\n",
    "    #     res[i] = res[i-1] + res[i-2]\n",
    "    # return res[n]\n",
    "n = 10\n",
    "climbStairs(n)\n",
    "climbStairs.cache_info()"
   ]
  },
  {
   "attachments": {},
   "cell_type": "markdown",
   "metadata": {},
   "source": [
    "## 746. Min Cost Climbing Stairs\n"
   ]
  },
  {
   "cell_type": "code",
   "execution_count": 102,
   "metadata": {},
   "outputs": [
    {
     "name": "stdout",
     "output_type": "stream",
     "text": [
      "6 105\n"
     ]
    },
    {
     "data": {
      "text/plain": [
       "6"
      ]
     },
     "execution_count": 102,
     "metadata": {},
     "output_type": "execute_result"
    }
   ],
   "source": [
    "def minCostClimbingStairs(cost: List[int]) -> int:\n",
    "    # observation: can use the original array to calculate the minimum cost\n",
    "    # f[i] = min(cost[i] + f[i+1], cost[i] + f[i+2])\n",
    "    cost.append(0)\n",
    "    for i in range(len(cost)-3, -1, -1):\n",
    "        cost[i] = cost[i] + min(cost[i+1], cost[i+2])\n",
    "    print(cost[0], cost[1])\n",
    "    return min(cost[0], cost[1])\n",
    "\n",
    "cost = [1,100,1,1,1,100,1,1,100,1]\n",
    "minCostClimbingStairs(cost)\n",
    "\n"
   ]
  },
  {
   "attachments": {},
   "cell_type": "markdown",
   "metadata": {},
   "source": [
    "# linked list"
   ]
  },
  {
   "cell_type": "code",
   "execution_count": null,
   "metadata": {},
   "outputs": [],
   "source": [
    "class ListNode:\n",
    "    def __init__(self, e, next=None):\n",
    "        self.val=e\n",
    "        self.next=next\n",
    "    def __repr__(self):     \n",
    "        if self:        \n",
    "            return f\"{self.val} -> {self.next}\"\n",
    "#------------ helper functions ----------------\n",
    "def insert_all(nums):\n",
    "    # return the head \n",
    "    cur = None\n",
    "    for x in reversed(nums): # need to reverse nums first, since when inserting, the first val will become the last node\n",
    "        new = ListNode(x, cur)\n",
    "        cur = new\n",
    "    return cur \n",
    "\n",
    "def print_nodes(head):\n",
    "    while head:\n",
    "        print(head.val, end=' ')\n",
    "        head=head.next\n",
    "    print()\n",
    "\n",
    "#------------ helper functions ----------------\n",
    "\n",
    "\n",
    "t=insert_all([1,2,3])\n",
    "print(t)\n",
    "# t=insert_all([1,2,3,4])\n",
    "# middle_node(t).val"
   ]
  },
  {
   "attachments": {},
   "cell_type": "markdown",
   "metadata": {},
   "source": [
    "## 206. Reverse Linked List: \n",
    "- https://leetcode.com/problems/reverse-linked-list/"
   ]
  },
  {
   "cell_type": "code",
   "execution_count": null,
   "metadata": {},
   "outputs": [],
   "source": [
    "def reverse_list(head):\n",
    "    # 206. Reverse Linked List: https://leetcode.com/problems/reverse-linked-list/\n",
    "\n",
    "    # M1. iterative\n",
    "    prev, cur = None, head\n",
    "    # if we put next = cur.next here, we're screwed, since when cur reaches the last node, and if we do `next=next.next`, we have error\n",
    "    while cur:\n",
    "        next = cur.next # save the next node, so that we can still go to the next node after doing cur.next = prev\n",
    "        cur.next = prev\n",
    "        prev = cur\n",
    "        cur = next\n",
    "    return prev # since cur is already None\n",
    "\n",
    "    # M2. recursion\n",
    "    # idea: given head, reverse the whole list except the head, then head.next.next to head \n",
    "    if not head:\n",
    "        return head # or None \n",
    "\n",
    "    new_head = head # for dealing with the case when the list has 1 node only...\n",
    "\n",
    "    if head.next: # if the list has >=2 nodes...\n",
    "        new_head = reverse_list(head.next)\n",
    "        head.next.next = head # notice that we're doing head.next.next => our list must have >= 2 nodes!\n",
    "        head.next = None\n",
    "\n",
    "    return new_head\n",
    "\n",
    "    # M3: another recursion. Just like M1 \n",
    "\n",
    "    def helper(prev, cur):\n",
    "        if cur is None:\n",
    "            return prev \n",
    "\n",
    "        next = cur.next \n",
    "        cur.next = prev\n",
    "        prev = cur\n",
    "        cur = next \n",
    "\n",
    "        return helper(prev, cur)\n",
    "\n",
    "    return helper(None, head)\n",
    "\n",
    "t=insert_all([1,2,3])\n",
    "reverse_list(t)\n",
    "# print_nodes(reverse_list(t1))"
   ]
  },
  {
   "attachments": {},
   "cell_type": "markdown",
   "metadata": {},
   "source": [
    "## 876. Middle of the Linked List: \n",
    "- https://leetcode.com/problems/middle-of-the-linked-list/\n",
    "- the difficulty stems from the fact we don't know the linked list size\n",
    "- If there are two middle nodes, return the second middle node"
   ]
  },
  {
   "cell_type": "code",
   "execution_count": null,
   "metadata": {},
   "outputs": [],
   "source": [
    "def middle_node(head):\n",
    "    # M0: use slow and fast pointer. Best\n",
    "    # slow = fast = head\n",
    "    # while fast and fast.next: # need two conditions. Consider list = [1,2]\n",
    "    #     slow=slow.next\n",
    "    #     fast=fast.next.next\n",
    "    # return slow\n",
    "\n",
    "    # M 0.5: deal with even case. Let slow point to a dummy node \n",
    "    # slow = ListNode(0, next = head)\n",
    "    # fast = head\n",
    "    # n = 0\n",
    "    # while fast and fast.next: # need two conditions. Consider list = [1,2]\n",
    "    #     slow=slow.next\n",
    "    #     fast=fast.next.next\n",
    "    #     n=+1\n",
    "    # if n%2 != 0 \n",
    "    #     return slow, slow.next\n",
    "    # else:\n",
    "    #     return slow.next\n",
    "\n",
    "    # M1: put all nodes in a list first. Then return len()//2\n",
    "    n, t, cur = 0, [], head\n",
    "    while cur:\n",
    "        t.append(cur)\n",
    "        n+=1\n",
    "        cur=cur.next\n",
    "    return t[n//2]\n",
    "    # return t[n//2-1],t[n//2] # handle n is even case\n",
    "\n",
    "    # M2: traverse the whole linked list to get the size first. Then traverse again until reaching the middle node\n",
    "    n, cur = 0, head\n",
    "    while cur:\n",
    "        n+=1\n",
    "        cur=cur.next\n",
    "    cur = head\n",
    "    for i in range(n//2):\n",
    "        cur = cur.next\n",
    "    return cur\n",
    "\n",
    "t=insert_all([1,2,3])\n",
    "t=insert_all([1,2,3,4])\n",
    "middle_node(t).val"
   ]
  },
  {
   "attachments": {},
   "cell_type": "markdown",
   "metadata": {},
   "source": [
    "## 234. Palindrome Linked List: \n",
    "- ttps://leetcode.com/problems/palindrome-linked-list/\n",
    "- "
   ]
  },
  {
   "cell_type": "code",
   "execution_count": null,
   "metadata": {},
   "outputs": [],
   "source": [
    "def is_palindrom(head):\n",
    "    # M1: create a list to store the val. Need extra space\n",
    "    # t=[]\n",
    "    # cur=head\n",
    "    # while cur:\n",
    "    #     t.append(cur.val)\n",
    "    #     cur=cur.next\n",
    "    # return t == t[::-1]\n",
    "\n",
    "    # M2. create fast and slow pointers. Cons: need to modify our data structure\n",
    "    slow=fast=head\n",
    "    while fast and fast.next:\n",
    "        slow = slow.next\n",
    "        fast = fast.next.next\n",
    "    # slow is now in the middle, whereas fast is at the end \n",
    "\n",
    "    # reverse the second half\n",
    "    prev = None\n",
    "    while slow:\n",
    "        next = slow.next\n",
    "        slow.next = prev\n",
    "        prev = slow\n",
    "        slow = next\n",
    "    \n",
    "    # check if it is palindrome\n",
    "    left, right = head, prev\n",
    "    while right:\n",
    "        if left.val != right.val:\n",
    "            return False\n",
    "        left = left.next\n",
    "        right = right.next\n",
    "    return True\n",
    "\n",
    "    # another more advanced way\n",
    "    # left, right = head, prev\n",
    "    # while right and left.val == right.val:\n",
    "    #     left = left.next\n",
    "    #     right = left.next\n",
    "        \n",
    "    # return not right\n",
    "\n",
    "t1 = insert_all([1,1,1,1])\n",
    "# t1 = insert_all([1,1,1,1,1])\n",
    "is_palindrom(t1)"
   ]
  },
  {
   "attachments": {},
   "cell_type": "markdown",
   "metadata": {},
   "source": [
    "## 141. Linked List Cycle: \n",
    "- https://leetcode.com/problems/linked-list-cycle/\n",
    "- "
   ]
  },
  {
   "cell_type": "code",
   "execution_count": null,
   "metadata": {},
   "outputs": [],
   "source": [
    "def has_cycle(head):\n",
    "    # M1: slow\n",
    "    # cur, res = head, []\n",
    "    # while cur:\n",
    "    #     if cur in res:\n",
    "    #         return True\n",
    "    #     else: \n",
    "    #         res.append(cur)\n",
    "    #         cur = cur.next\n",
    "    # return False \n",
    "\n",
    "    # M2: based on M1, with faster lookup \n",
    "    cur, res = head, {}\n",
    "    while cur:\n",
    "        if cur in res:\n",
    "            return True\n",
    "        else: \n",
    "            res[cur] = 1\n",
    "            cur = cur.next\n",
    "    return False \n",
    "\n",
    "    # M3: Tortoise and Hare algo\n",
    "    slow = fast = head\n",
    "    while fast and fast.next:\n",
    "        slow = slow.next\n",
    "        fast = fast.next.next\n",
    "        if slow is fast: return True\n",
    "    return False\n",
    "\n",
    "\n",
    "t1 = insert_all([1,2])\n",
    "# t1.next.next = t1 \n",
    "has_cycle(t1)"
   ]
  },
  {
   "attachments": {},
   "cell_type": "markdown",
   "metadata": {},
   "source": [
    "## 141. Linked List Cycle: \n",
    "- https://leetcode.com/problems/linked-list-cycle/\n"
   ]
  },
  {
   "cell_type": "code",
   "execution_count": null,
   "metadata": {},
   "outputs": [],
   "source": [
    "def has_cycle(head):\n",
    "    # M1: slow\n",
    "    # cur, res = head, []\n",
    "    # while cur:\n",
    "    #     if cur in res:\n",
    "    #         return True\n",
    "    #     else: \n",
    "    #         res.append(cur)\n",
    "    #         cur = cur.next\n",
    "    # return False \n",
    "\n",
    "    # M2: based on M1, with faster lookup \n",
    "    cur, res = head, {}\n",
    "    while cur:\n",
    "        if cur in res:\n",
    "            return True\n",
    "        else: \n",
    "            res[cur] = 1\n",
    "            cur = cur.next\n",
    "    return False \n",
    "\n",
    "    # M3: Tortoise and Hare algo\n",
    "    slow = fast = head\n",
    "    while fast and fast.next:\n",
    "        slow = slow.next\n",
    "        fast = fast.next.next\n",
    "        if slow is fast: return True\n",
    "    return False\n",
    "\n",
    "\n",
    "t1 = insert_all([1,2])\n",
    "# t1.next.next = t1 \n",
    "has_cycle(t1)"
   ]
  },
  {
   "attachments": {},
   "cell_type": "markdown",
   "metadata": {},
   "source": [
    "## 160. Intersection of Two Linked Lists: \n",
    "- https://leetcode.com/problems/intersection-of-two-linked-lists/\n"
   ]
  },
  {
   "cell_type": "code",
   "execution_count": null,
   "metadata": {},
   "outputs": [],
   "source": [
    "def get_intersection_node(head_A, head_B):\n",
    "    \n",
    "    # M1: put all nodes in list A in a set, then for list B, for each node, check whether it is in the set \n",
    "    # t = set()\n",
    "    # cur = head_A\n",
    "    # while cur:\n",
    "    #     t.add(cur)\n",
    "    #     cur = cur.next\n",
    "    \n",
    "    # cur = head_B\n",
    "    # while cur:\n",
    "    #     if cur in t:\n",
    "    #         return cur\n",
    "    #     cur = cur.next\n",
    "    # return None\n",
    "\n",
    "    # M2: make two pointers and let them start at the head of the two lists. When one reaches None, let it point to the head of another list and traverse again. The intersection point will be the result, or another possibility is each one is at the end of a list\n",
    "    cur_A, cur_B = head_A, head_B\n",
    "    while cur_A or cur_B:\n",
    "        if not cur_A:\n",
    "            cur_A = head_B\n",
    "        if not cur_B:\n",
    "            cur_B = head_A\n",
    "        if cur_A is cur_B:\n",
    "            return cur_A\n",
    "        cur_A = cur_A.next\n",
    "        cur_B = cur_B.next\n",
    "    return None \n",
    "        \n",
    "    # M2 # TODO\n",
    "    # find the length first, and align their starting point. Complicated! \n",
    "\n",
    "# test 1\n",
    "t1=insert_all([1,2])\n",
    "t2=insert_all([3,4,5])\n",
    "t3=insert_all([6,7])\n",
    "t1.next.next = t3\n",
    "t2.next.next.next = t3\n",
    "print(get_intersection_node(t1, t2).val)\n",
    "\n",
    "# test 2\n",
    "t1=insert_all([1,2])\n",
    "t2=insert_all([3,4,5])\n",
    "print(get_intersection_node(t1, t2))\n",
    "\n",
    "# test 3: it will detect the intersection without very soon, w/o each pointer going to another list\n",
    "t1=insert_all([1,2])\n",
    "t2=insert_all([3,4])\n",
    "t3=insert_all([6,7])\n",
    "t1.next.next = t3\n",
    "t2.next.next = t3\n",
    "print(get_intersection_node(t1, t2))"
   ]
  },
  {
   "attachments": {},
   "cell_type": "markdown",
   "metadata": {},
   "source": [
    "## 203. Remove Linked List Elements \n",
    "- https://leetcode.com/problems/remove-linked-list-elements/"
   ]
  },
  {
   "cell_type": "code",
   "execution_count": null,
   "metadata": {},
   "outputs": [],
   "source": [
    "def remove_vals(head, val):\n",
    "    \n",
    "\n",
    "    # M1: with dummy node\n",
    "    dummy = ListNode(-1, head)\n",
    "    prev, cur = dummy, head\n",
    "    while cur:\n",
    "        if cur.val == val:\n",
    "            prev.next = cur.next\n",
    "        else:\n",
    "            prev = cur # or prev = prev.next\n",
    "        cur = cur.next \n",
    "    return dummy.next\n",
    "\n",
    "    # M2: bad. w/o dummy node\n",
    "    # cur = cur_head = self.head\n",
    "    # prev = None\n",
    "    # # cur_head = self.head\n",
    "    \n",
    "    # while cur:\n",
    "    #     if cur.val == val:\n",
    "    #         if prev: # cur is not pointing to the first element \n",
    "    #             prev.next = cur.next\n",
    "    #         else: # cur is still pointing to the first element \n",
    "    #             cur_head = cur.next # change head\n",
    "    #     else:\n",
    "    #         prev=cur\n",
    "    #     cur=cur.next\n",
    "    # self.head = cur_head\n",
    "\n",
    "\n",
    "t=insert_all([1,2,3])\n",
    "print(t)\n",
    "print_nodes(remove_vals(t,1))"
   ]
  },
  {
   "attachments": {},
   "cell_type": "markdown",
   "metadata": {},
   "source": [
    "## 83. Remove Duplicates from Sorted List: \n",
    "- https://leetcode.com/problems/remove-duplicates-from-sorted-list/submissions/\n",
    "- very similar to removing vals, but in this problem, we can choose to remove the next value. But in the other problem, we must remove the cur val.\n",
    "\n"
   ]
  },
  {
   "cell_type": "code",
   "execution_count": null,
   "metadata": {},
   "outputs": [],
   "source": [
    "def delete_duplicates(head):\n",
    "\n",
    "    # M1: two pointers. when cur is the same as previous, remove cur\n",
    "    # dummy = ListNode(float('inf'), head)\n",
    "    # prev, cur = dummy, head\n",
    "    # while cur:\n",
    "    #     if cur.val == prev.val:\n",
    "    #         prev.next = cur.next\n",
    "    #     else:\n",
    "    #         prev = cur\n",
    "    #     cur = cur.next\n",
    "    # return dummy.next # or head \n",
    "\n",
    "    # M2: one pointer. look at the next node instead of previous, and so no need to have prev! If next is the same as cur, remove next\n",
    "    cur = head\n",
    "    while cur.next:\n",
    "        next = cur.next\n",
    "        if next.val == cur.val:\n",
    "            cur.next = next.next\n",
    "        else:\n",
    "            cur = next\n",
    "    return head\n",
    "\n",
    "    # M2: bad. Need two pointers\n",
    "    # if head:\n",
    "    #     cur = head\n",
    "    #     next = head.next \n",
    "    #     while next:\n",
    "    #         if cur.val == next.val:\n",
    "    #             cur.next = next.next \n",
    "    #         else:\n",
    "    #             cur = next\n",
    "    #         next = next.next\n",
    "    # return head \n",
    "\n",
    "# t = insert_all([1,1,2,2,3,3,3])\n",
    "t = insert_all([1,1,1])\n",
    "print_nodes(delete_duplicates(t))"
   ]
  },
  {
   "attachments": {},
   "cell_type": "markdown",
   "metadata": {},
   "source": [
    "## 237. Delete Node in a Linked List: \n",
    "- https://leetcode.com/problems/delete-node-in-a-linked-list/\n",
    "- Write a function to delete a node in a singly-linked list. You will not be given access to the head of the list, instead you will be given access to the node to be deleted directly.\n",
    "- It is guaranteed that the node to be deleted is not a tail node in the list."
   ]
  },
  {
   "cell_type": "code",
   "execution_count": null,
   "metadata": {},
   "outputs": [],
   "source": [
    "def delete_node(node):\n",
    "    # M1: change its value to the next's node value. Then let its next point to the next next node. Therefore, this method doesn't work if the given node is the tail\n",
    "    node.val = node.next.val\n",
    "    node.next = node.next.next\n",
    "\n",
    "    # M2: stupid method: copy next value to the current node, then loop.\n",
    "    # next = node.next\n",
    "    # while next:\n",
    "    #     node.val = next.val\n",
    "    #     if next.next:\n",
    "    #         node = next \n",
    "    #     else:\n",
    "    #         node.next = None\n",
    "    #     next=next.next\n",
    "\n",
    "t = insert_all([1,2,3])\n",
    "delete_node(t.next)\n",
    "print_nodes(t)"
   ]
  },
  {
   "attachments": {},
   "cell_type": "markdown",
   "metadata": {},
   "source": [
    "## 21. Merge Two Sorted Lists: \n",
    "- https://leetcode.com/problems/merge-two-sorted-lists/\n",
    "- the two lists are sorted"
   ]
  },
  {
   "cell_type": "code",
   "execution_count": null,
   "metadata": {},
   "outputs": [],
   "source": [
    "def merge_two_lists(l1,l2) -> ListNode:\n",
    "\n",
    "\n",
    "    # M1: create a dummy node to avoid compicated edge cases. w/o dummy, we don't know which node to let cur point to at the beginning\n",
    "    # dummy = ListNode(0, None)\n",
    "    # cur = dummy\n",
    "    # while l1 and l2:\n",
    "    #     if l1.val < l2.val:\n",
    "    #         cur.next = l1\n",
    "    #         l1=l1.next\n",
    "    #     else:\n",
    "    #         cur.next = l2\n",
    "    #         l2=l2.next\n",
    "    #     cur = cur.next\n",
    "    # cur.next = (l1 or l2) # let cur point to the list that is not yet exhausted\n",
    "    # return dummy.next\n",
    "        \n",
    "    # M2: like M1, but use more complicated conditional to avoid the last step\n",
    "    dummy = ListNode(0, None)\n",
    "    cur = dummy\n",
    "    while l1 or l2:\n",
    "        if not l2 or (l1 and l1.val < l2.val):\n",
    "            cur.next = l1\n",
    "            l1=l1.next\n",
    "        else:\n",
    "            cur.next = l2\n",
    "            l2=l2.next\n",
    "        cur = cur.next\n",
    "    return dummy.next\n",
    "\n",
    "\n",
    "    # M3: complicated. does not create any new node\n",
    "    # prev=None\n",
    "    # head=None\n",
    "    # while l1 or l2:\n",
    "    #     if l2==None or (l1 and l2.val > l1.val):\n",
    "    #         if prev:\n",
    "    #             prev.next = l1\n",
    "    #         else:\n",
    "    #             head = l1\n",
    "    #         prev = l1\n",
    "    #         l1 = l1.next\n",
    "    #     else:\n",
    "    #         if prev:\n",
    "    #             prev.next = l2\n",
    "    #         else:\n",
    "    #             head = l2\n",
    "    #         prev = l2\n",
    "    #         l2=l2.next\n",
    "    # return head\n",
    "    \n",
    "    \n",
    "    # M4: a solution that creates new list. Bad. Also, it's in reverse order\n",
    "    # cur_l1 = l1\n",
    "    # cur_l2 = l2\n",
    "    # new_head = None\n",
    "    # while cur_l1 or cur_l2:\n",
    "    #     if cur_l2==None or (cur_l1 and cur_l2.val > cur_l1.val):\n",
    "    #         new_node = ListNode(cur_l1.val, new_head)\n",
    "    #         cur_l1=cur_l1.next\n",
    "    #     else:\n",
    "    #         new_node = ListNode(cur_l2.val, new_head)\n",
    "    #         cur_l2=cur_l2.next\n",
    "    #     new_head = new_node\n",
    "    # return new_head\n",
    "    \n",
    "    # M5: recursion\n",
    "    # this solution create a new linked list, without splicing the given nodes!!!\n",
    "    # if l1 == None:\n",
    "    #     return l2\n",
    "    # elif l2 == None:\n",
    "    #     return l1\n",
    "    # if l1.val < l2.val:\n",
    "    #     return ListNode(l1.val,merge_two_lists(l1.next,l2))\n",
    "        \n",
    "    # else:\n",
    "    #     return ListNode(l2.val,merge_two_lists(l1,l2.next))\n",
    "    \n",
    "l1 = insert_all([1,2,4,5,6,7])\n",
    "l2 = insert_all([1,3,4,10])\n",
    "print_nodes(merge_two_lists(l1, l2))"
   ]
  },
  {
   "attachments": {},
   "cell_type": "markdown",
   "metadata": {},
   "source": [
    "## 1290. Convert Binary Number in a Linked List to Integer: \n",
    "- https://leetcode.com/problems/convert-binary-number-in-a-linked-list-to-integer/\n",
    "- Given head which is a reference node to a singly-linked list. The value of each node in the linked list is either 0 or 1. The linked list holds the binary representation of a number. Return the decimal value of the number in the linked list."
   ]
  },
  {
   "cell_type": "code",
   "execution_count": null,
   "metadata": {},
   "outputs": [],
   "source": [
    "def get_decimal_value(head):\n",
    "\n",
    "    cur = head\n",
    "    ans = 0\n",
    "    while cur:\n",
    "        ans = ans *2 + cur.val\n",
    "        cur = cur.next \n",
    "    return ans \n",
    "    \n",
    "# t = insert_all([0,1,1,0,1,0,1])\n",
    "t = insert_all([1,1,1,1])\n",
    "get_decimal_value(t)"
   ]
  },
  {
   "attachments": {},
   "cell_type": "markdown",
   "metadata": {},
   "source": [
    "## 2. Add Two Numbers: \n",
    "- https://leetcode.com/problems/add-two-numbers/\n",
    "- idea: compute the digit and carry for each corresponding pair of nodes "
   ]
  },
  {
   "cell_type": "code",
   "execution_count": null,
   "metadata": {},
   "outputs": [],
   "source": [
    "def add_two_numbers(l1: ListNode, l2: ListNode) -> ListNode:\n",
    "\n",
    "    # M1\n",
    "    # dummy = ListNode(-1, None)\n",
    "    # cur = dummy\n",
    "    # carry = 0\n",
    "    # while l1 or l2:\n",
    "    #     # print('hi')\n",
    "    #     first = l1.val if l1 else 0\n",
    "    #     second = l2.val if l2 else 0\n",
    "\n",
    "    #     # val = first+second + carry # can be two digits\n",
    "    #     # carry = val // 10 \n",
    "    #     # val = val % 10\n",
    "\n",
    "    #     cur.next = ListNode((first+second)%10 + carry)\n",
    "    #     cur = cur.next\n",
    "    #     carry = (first+second)//10\n",
    "    #     if l1:\n",
    "    #         l1=l1.next\n",
    "    #     if l2:\n",
    "    #         l2=l2.next\n",
    "    # if carry: cur.next = ListNode(carry)\n",
    "    # return dummy.next\n",
    "\n",
    "    # M1.5: add a condition for while loop so that it can deal with the final carry case too. Also, change the calculation of val and carry to avoid calculating first+second twice\n",
    "    dummy = ListNode(-1, None)\n",
    "    cur = dummy\n",
    "    carry = 0\n",
    "    while l1 or l2 or carry:\n",
    "        first = l1.val if l1 else 0\n",
    "        second = l2.val if l2 else 0\n",
    "    \n",
    "        val = first+second + carry # can be two digits\n",
    "        carry = val // 10 \n",
    "        val = val % 10\n",
    "    \n",
    "        cur.next = ListNode(val)\n",
    "        cur = cur.next\n",
    "        if l1:\n",
    "            l1=l1.next\n",
    "        if l2:\n",
    "            l2=l2.next\n",
    "    return dummy.next\n",
    "\n",
    "t1 = insert_all([2,4,3])\n",
    "t2 = insert_all([5,6,4])\n",
    "\n",
    "t1 = insert_all([5,6,4])\n",
    "t2 = insert_all([7,0,8])\n",
    "\n",
    "t1 = insert_all([5,6,4,1])\n",
    "t2 = insert_all([7,0,8])\n",
    "\n",
    "t1 = insert_all([1])\n",
    "t2 = insert_all([2])\n",
    "print_nodes(add_two_numbers(t1,t2))"
   ]
  },
  {
   "attachments": {},
   "cell_type": "markdown",
   "metadata": {},
   "source": [
    "## 23. Merge k Sorted Lists: \n",
    "- https://leetcode.com/problems/merge-k-sorted-lists/\n",
    "- https://github.com/ChenglongChen/LeetCode-3/blob/master/Python/merge-k-sorted-lists.py"
   ]
  },
  {
   "cell_type": "code",
   "execution_count": null,
   "metadata": {},
   "outputs": [],
   "source": [
    "def merge_k_lists(lists):\n",
    "    h = []\n",
    "    dummy = ListNode(0)\n",
    "    cur = dummy\n",
    "\n",
    "    for i, lis in enumerate(lists):\n",
    "        if lis:\n",
    "            print(lis.val)\n",
    "            heapq.heappush(h, (lis.val, i, lis) )\n",
    "    \n",
    "    while h:\n",
    "        val, i, node = heapq.heappop(h)\n",
    "        cur.next = node\n",
    "        cur = cur.next \n",
    "        if node.next:\n",
    "            heapq.heappush(h, (node.next.val, i, node.next))\n",
    "    return dummy.next\n",
    "\n",
    "list1 = insert_all([1,4,5])\n",
    "list2 = insert_all([1,3,4])\n",
    "list3 = insert_all([2,6])\n",
    "merge_k_lists([list1,list2,list3])"
   ]
  },
  {
   "attachments": {},
   "cell_type": "markdown",
   "metadata": {},
   "source": [
    "# tree"
   ]
  },
  {
   "cell_type": "code",
   "execution_count": null,
   "metadata": {},
   "outputs": [],
   "source": [
    "# Definition for a binary tree node.\n",
    "class TreeNode:\n",
    "    def __init__(self, val=0, left=None, right=None):\n",
    "        self.val = val\n",
    "        self.left = left\n",
    "        self.right = right\n",
    "\n",
    "def print_by_level(root):\n",
    "    q = deque([root])\n",
    "    while q:\n",
    "        for _ in range(len(q)):\n",
    "            node = q.popleft()\n",
    "            print(node.data, end=' ')\n",
    "            if node.left:\n",
    "                q.append(node.left)\n",
    "            if node.right:\n",
    "                q.append(node.right)\n",
    "        print(' ')"
   ]
  },
  {
   "attachments": {},
   "cell_type": "markdown",
   "metadata": {},
   "source": [
    "## 98. Validate Binary Search Tree\n",
    "- https://leetcode.com/problems/validate-binary-search-tree/"
   ]
  },
  {
   "cell_type": "code",
   "execution_count": null,
   "metadata": {},
   "outputs": [],
   "source": [
    "\n",
    "def is_valid_BST(node):\n",
    "    # TODO: Wrong sol\n",
    "    if root is None: return True\n",
    "\n",
    "    if root.left:\n",
    "        if root.left.val > root.val:\n",
    "            return False\n",
    "\n",
    "    if root.right:\n",
    "        if root.right.val > root.val:\n",
    "            return False\n",
    "    \n",
    "    return is_valid_BST(node.left) and is_valid_BST(node.right)\n",
    "\n",
    "\n",
    "    # cur = node\n",
    "    # while cur:\n",
    "    #     val = cur.val\n",
    "    #     left = cur.left\n",
    "    #     right = cur.right\n",
    "    #     while left:\n",
    "    #         if left.val >= val:\n",
    "    #             return False\n",
    "    #     while right:\n",
    "    #         if right.val >= val:\n",
    "    #             return False\n",
    "    # return True"
   ]
  },
  {
   "attachments": {},
   "cell_type": "markdown",
   "metadata": {},
   "source": [
    "## 108. Convert Sorted Array to Binary Search Tree\n",
    "- https://leetcode.com/problems/convert-sorted-array-to-binary-search-tree/"
   ]
  },
  {
   "cell_type": "code",
   "execution_count": null,
   "metadata": {},
   "outputs": [],
   "source": [
    "def sorted_array_to_bst(nums: List[int]) -> TreeNode:\n",
    "    def helper(l, r):\n",
    "        if l>r: return None\n",
    "        mid = (l+r)//2\n",
    "        root = Node(nums[mid])\n",
    "        root.left = helper(l, mid-1)\n",
    "        root.right = helper(mid+1, r)\n",
    "        return root \n",
    "    return helper(0, len(nums)-1)\n",
    "\n",
    "nums = [-10,-3,0,5,9]\n",
    "print_by_level(sorted_array_to_bst(nums))"
   ]
  },
  {
   "attachments": {},
   "cell_type": "markdown",
   "metadata": {},
   "source": [
    "## 230. Kth Smallest Element in a BST\n",
    "- https://leetcode.com/problems/kth-smallest-element-in-a-bst/"
   ]
  },
  {
   "cell_type": "code",
   "execution_count": null,
   "metadata": {},
   "outputs": [],
   "source": [
    "\n",
    "def kth_smallest(root: TreeNode, k: int) -> int:\n",
    "    # naive. Use dfs\n",
    "    res = []\n",
    "    def helper(node):\n",
    "        if node is None: return None\n",
    "        helper(node.left)\n",
    "        res.append(node)\n",
    "        helper(node.right)\n",
    "    helper(root)\n",
    "    return res[k-1]\n",
    "\n",
    "    # NOT WORK:\n",
    "    # def helper(node, count):\n",
    "    #     if node is None: return None\n",
    "    #     helper(node.left, count)\n",
    "    #     count +=1\n",
    "    #     if count == k:\n",
    "    #         return node.val\n",
    "    #     helper(node.right, count)\n",
    "    # return helper(root, 0)\n",
    "\n",
    "    # M2: iterative solution\n",
    "    n = 0 # numbe\n",
    "    stack = []\n",
    "    cur = root \n",
    "    while cur or stack:\n",
    "        while cur:\n",
    "            stack.append(cur)\n",
    "            cur = cur.left\n",
    "        \n",
    "        cur = stack.pop()\n",
    "        n+=1\n",
    "        if n==k:\n",
    "            return cur.val\n",
    "        cur = cur.right\n",
    "\n",
    "root = TreeNode(12)\n",
    "root.left = TreeNode(13)\n",
    "\n",
    "print(kth_smallest(root, 1))"
   ]
  }
 ],
 "metadata": {
  "kernelspec": {
   "display_name": "data_science",
   "language": "python",
   "name": "python3"
  },
  "language_info": {
   "codemirror_mode": {
    "name": "ipython",
    "version": 3
   },
   "file_extension": ".py",
   "mimetype": "text/x-python",
   "name": "python",
   "nbconvert_exporter": "python",
   "pygments_lexer": "ipython3",
   "version": "3.10.4"
  },
  "orig_nbformat": 4
 },
 "nbformat": 4,
 "nbformat_minor": 2
}
