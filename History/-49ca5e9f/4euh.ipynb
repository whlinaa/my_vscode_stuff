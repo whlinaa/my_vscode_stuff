{
 "cells": [
  {
   "cell_type": "code",
   "execution_count": 2,
   "metadata": {},
   "outputs": [
    {
     "name": "stdout",
     "output_type": "stream",
     "text": [
      "calling ds_preamble..\n",
      "calling ds_helper...\n"
     ]
    }
   ],
   "source": [
    "from ds_utils.ds_preamble import *\n",
    "from ds_utils.ds_plotting import *\n",
    "from ds_utils.ds_helper import *\n",
    "import datetime\n",
    "import duckdb"
   ]
  },
  {
   "cell_type": "code",
   "execution_count": 27,
   "metadata": {},
   "outputs": [
    {
     "data": {
      "text/html": [
       "<div>\n",
       "<style scoped>\n",
       "    .dataframe tbody tr th:only-of-type {\n",
       "        vertical-align: middle;\n",
       "    }\n",
       "\n",
       "    .dataframe tbody tr th {\n",
       "        vertical-align: top;\n",
       "    }\n",
       "\n",
       "    .dataframe thead th {\n",
       "        text-align: right;\n",
       "    }\n",
       "</style>\n",
       "<table border=\"1\" class=\"dataframe\">\n",
       "  <thead>\n",
       "    <tr style=\"text-align: right;\">\n",
       "      <th></th>\n",
       "      <th>Group</th>\n",
       "      <th>ID number</th>\n",
       "      <th>Department</th>\n",
       "      <th>mid</th>\n",
       "      <th>a1</th>\n",
       "      <th>a2</th>\n",
       "    </tr>\n",
       "  </thead>\n",
       "  <tbody>\n",
       "    <tr>\n",
       "      <th>0</th>\n",
       "      <td>201</td>\n",
       "      <td>20186978A</td>\n",
       "      <td>8C112-IT</td>\n",
       "      <td>42.0</td>\n",
       "      <td>31</td>\n",
       "      <td>10.0</td>\n",
       "    </tr>\n",
       "    <tr>\n",
       "      <th>1</th>\n",
       "      <td>201</td>\n",
       "      <td>20062656A</td>\n",
       "      <td>8C112-IT</td>\n",
       "      <td>84.0</td>\n",
       "      <td>84</td>\n",
       "      <td>82.0</td>\n",
       "    </tr>\n",
       "    <tr>\n",
       "      <th>2</th>\n",
       "      <td>201</td>\n",
       "      <td>20070054A</td>\n",
       "      <td>8C112-IT</td>\n",
       "      <td>48.0</td>\n",
       "      <td>84</td>\n",
       "      <td>52.0</td>\n",
       "    </tr>\n",
       "    <tr>\n",
       "      <th>3</th>\n",
       "      <td>201</td>\n",
       "      <td>20158549A</td>\n",
       "      <td>8C112-IT</td>\n",
       "      <td>68.0</td>\n",
       "      <td>93</td>\n",
       "      <td>61.0</td>\n",
       "    </tr>\n",
       "    <tr>\n",
       "      <th>4</th>\n",
       "      <td>201</td>\n",
       "      <td>20195428A</td>\n",
       "      <td>8C112-IT</td>\n",
       "      <td>90.0</td>\n",
       "      <td>88</td>\n",
       "      <td>80.0</td>\n",
       "    </tr>\n",
       "    <tr>\n",
       "      <th>...</th>\n",
       "      <td>...</td>\n",
       "      <td>...</td>\n",
       "      <td>...</td>\n",
       "      <td>...</td>\n",
       "      <td>...</td>\n",
       "      <td>...</td>\n",
       "    </tr>\n",
       "    <tr>\n",
       "      <th>260</th>\n",
       "      <td>203</td>\n",
       "      <td>20164396A</td>\n",
       "      <td>8C112-IT</td>\n",
       "      <td>86.0</td>\n",
       "      <td>95</td>\n",
       "      <td>90.0</td>\n",
       "    </tr>\n",
       "    <tr>\n",
       "      <th>261</th>\n",
       "      <td>203</td>\n",
       "      <td>20021940A</td>\n",
       "      <td>8C112-IT</td>\n",
       "      <td>74.0</td>\n",
       "      <td>82</td>\n",
       "      <td>83.0</td>\n",
       "    </tr>\n",
       "    <tr>\n",
       "      <th>262</th>\n",
       "      <td>203</td>\n",
       "      <td>19060186A</td>\n",
       "      <td>8C112-IT</td>\n",
       "      <td>82.0</td>\n",
       "      <td>95</td>\n",
       "      <td>99.0</td>\n",
       "    </tr>\n",
       "    <tr>\n",
       "      <th>263</th>\n",
       "      <td>203</td>\n",
       "      <td>20191141A</td>\n",
       "      <td>8C112-IT</td>\n",
       "      <td>48.0</td>\n",
       "      <td>70</td>\n",
       "      <td>47.0</td>\n",
       "    </tr>\n",
       "    <tr>\n",
       "      <th>264</th>\n",
       "      <td>203</td>\n",
       "      <td>20208428A</td>\n",
       "      <td>8C112-IT</td>\n",
       "      <td>86.0</td>\n",
       "      <td>95</td>\n",
       "      <td>97.0</td>\n",
       "    </tr>\n",
       "  </tbody>\n",
       "</table>\n",
       "<p>265 rows × 6 columns</p>\n",
       "</div>"
      ],
      "text/plain": [
       "     Group  ID number Department   mid  a1    a2\n",
       "0      201  20186978A   8C112-IT  42.0  31  10.0\n",
       "1      201  20062656A   8C112-IT  84.0  84  82.0\n",
       "2      201  20070054A   8C112-IT  48.0  84  52.0\n",
       "3      201  20158549A   8C112-IT  68.0  93  61.0\n",
       "4      201  20195428A   8C112-IT  90.0  88  80.0\n",
       "..     ...        ...        ...   ...  ..   ...\n",
       "260    203  20164396A   8C112-IT  86.0  95  90.0\n",
       "261    203  20021940A   8C112-IT  74.0  82  83.0\n",
       "262    203  19060186A   8C112-IT  82.0  95  99.0\n",
       "263    203  20191141A   8C112-IT  48.0  70  47.0\n",
       "264    203  20208428A   8C112-IT  86.0  95  97.0\n",
       "\n",
       "[265 rows x 6 columns]"
      ]
     },
     "execution_count": 27,
     "metadata": {},
     "output_type": "execute_result"
    },
    {
     "data": {
      "text/plain": [
       "<seaborn.axisgrid.FacetGrid at 0x13033c040>"
      ]
     },
     "execution_count": 27,
     "metadata": {},
     "output_type": "execute_result"
    },
    {
     "data": {
      "text/plain": [
       "<seaborn.axisgrid.FacetGrid at 0x14d9ffee0>"
      ]
     },
     "execution_count": 27,
     "metadata": {},
     "output_type": "execute_result"
    },
    {
     "data": {
      "image/png": "[encoded data removed]",
      "text/plain": [
       "<Figure size 415.125x360 with 1 Axes>"
      ]
     },
     "metadata": {},
     "output_type": "display_data"
    },
    {
     "data": {
      "image/png": "[encoded data removed]",
      "text/plain": [
       "<Figure size 452.25x360 with 1 Axes>"
      ]
     },
     "metadata": {},
     "output_type": "display_data"
    }
   ],
   "source": [
    "path = r'/Users/whlin/Library/CloudStorage/OneDrive-HKUSTConnect/Academic/Notes of HKCC/HKCC Teaching/SEHH2239/AR/SEHH2239 AR Template with Exam 201.xlsx'\n",
    "df = pd.read_excel(path, sheet_name='score_all', usecols='A:F')\n",
    "df\n",
    "# df.groupby('Group').agg(['mean','median','max'])\n",
    "\n",
    "# sns.barplot(data=df, x='')\n",
    "\n",
    "df_melt = df.melt(id_vars=['Group', 'Department'], value_vars=['mid','a1','a2'], value_name='assessments')\n",
    "\n",
    "sns.catplot(data=df_melt), x='variable',y='value', hue='Group', estimator=np.median, kind='bar', ci=None).set(title='SEHH2239-22S2', xlabel='assessment', ylabel='median')\n",
    "\n",
    "sns.catplot(data=df.melt(id_vars=['Group', 'Department'], value_vars=['mid','a1','a2']), x='variable',y='value', hue='Department', estimator=np.median, kind='bar', ci=None).set(title='SEHH2239-22S2', xlabel='assessment', ylabel='median')\n",
    "\n"
   ]
  }
 ],
 "metadata": {
  "interpreter": {
   "hash": "ae74f9feb07f97b665e59d852dca9947bf3c6be9bdf551f43d711a8fd00af3ab"
  },
  "kernelspec": {
   "display_name": "Python 3.9.7 ('data_science')",
   "language": "python",
   "name": "python3"
  },
  "language_info": {
   "codemirror_mode": {
    "name": "ipython",
    "version": 3
   },
   "file_extension": ".py",
   "mimetype": "text/x-python",
   "name": "python",
   "nbconvert_exporter": "python",
   "pygments_lexer": "ipython3",
   "version": "3.9.7"
  },
  "orig_nbformat": 4
 },
 "nbformat": 4,
 "nbformat_minor": 2
}
