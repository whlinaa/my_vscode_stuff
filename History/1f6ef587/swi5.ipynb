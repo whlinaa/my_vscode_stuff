{
 "cells": [
  {
   "cell_type": "code",
   "execution_count": 2,
   "metadata": {},
   "outputs": [
    {
     "name": "stdout",
     "output_type": "stream",
     "text": [
      "calling ds_preamble..\n",
      "calling ds_helper...\n"
     ]
    }
   ],
   "source": [
    "from ds_utils.ds_preamble import *\n",
    "from ds_utils.ds_plotting import *\n",
    "from ds_utils.ds_helper import *"
   ]
  },
  {
   "cell_type": "markdown",
   "metadata": {},
   "source": [
    "# SEHH2239: find students' hash table values based on student ID"
   ]
  },
  {
   "cell_type": "code",
   "execution_count": null,
   "metadata": {},
   "outputs": [],
   "source": [
    "# SEHH2239 exam (2022-05-14 15:04:44)\n",
    "def find_hash(data, n=7):\n",
    "    table = []\n",
    "    for x in data:\n",
    "        table.append(x%n)\n",
    "    return table\n",
    "\n",
    "def find_location(data, n=7, return_num=True):\n",
    "    # this implements linear probing\n",
    "    # optionally, it can output a,b,c,d.., such that data[0] <=> a\n",
    "    table = ['na']*n\n",
    "    for x,c in zip(data, [chr(ord('a')+i) for i in range(n)]):\n",
    "        counter = 0 \n",
    "        while counter < n and table[(x+counter)%n] != 'na':\n",
    "            counter+=1\n",
    "        if counter == n:\n",
    "            print(f\"can't insert {x}\")\n",
    "        else:\n",
    "            table[(x+counter)%n] = x if return_num else c\n",
    "    return table\n",
    "\n",
    "def get_numbers(sid):\n",
    "    # sid = '11717030A'\n",
    "    sid = '25555555A'\n",
    "\n",
    "    # if sid = 20555755, then \n",
    "    # a = 5,5 (4th, 5th digits)\n",
    "    # b = 5,7 (5th, 6th)\n",
    "    # c = 7,5 \n",
    "    # d = 5,5 (7th, 8th digits)\n",
    "    # e = 5,5 (4th, 8th digits)\n",
    "\n",
    "    # get the numbers from the given id\n",
    "    res=[]\n",
    "    for i in range(3, 8):\n",
    "        temp = int(sid[i:i+2]) if i != 7 else int(sid[3]+sid[i])\n",
    "        while temp in res:\n",
    "            temp+=1\n",
    "        res.append(temp)\n",
    "    return res\n",
    "\n",
    "# data = [2341, 4234, 2839, 22, 397, 3920]\n",
    "# find_hash(data)\n",
    "# find_hash([10,22,31,4,17])\n",
    "find_location([10,22,31,4,17], return_num=False)\n",
    "find_location([10,22,31,4,17])\n",
    "# find_location_char([10,22,31,4,17])\n",
    "\n",
    "path = r'/Users/whlin/Library/CloudStorage/OneDrive-HKUSTConnect/Academic/Notes of HKCC/HKCC Teaching/SEHH2239/AR/SEHH2239_all_stu.xlsx'\n",
    "\n",
    "df = pd.read_excel(path)\n",
    "\n",
    "df['vals'] = df['ID number'].apply(get_numbers)\n",
    "df['remainder'] = df['vals'].apply(find_hash)\n",
    "# df['location'] = df['vals'].apply(find_location)\n",
    "\n",
    "# df['vals'].apply(find_location)\n",
    "\n",
    "locations_num = pd.DataFrame(df['vals'].apply(find_location).to_list(), columns=[f'loc_{i}' for i in range(7)])\n",
    "locations_num.head()\n",
    "\n",
    "locations_char = pd.DataFrame(df['vals'].apply(find_location, return_num=False).to_list(), columns=[f'loc_c_{i}' for i in range(7)])\n",
    "locations_char.head()\n",
    "\n",
    "\n",
    "df = pd.concat([df, locations_num, locations_char], axis=1) # get the numeric value for each location\n",
    "df\n",
    "\n",
    "df.to_excel('myout.xlsx')\n"
   ]
  },
  {
   "cell_type": "code",
   "execution_count": null,
   "metadata": {},
   "outputs": [],
   "source": []
  }
 ],
 "metadata": {
  "interpreter": {
   "hash": "ae74f9feb07f97b665e59d852dca9947bf3c6be9bdf551f43d711a8fd00af3ab"
  },
  "kernelspec": {
   "display_name": "Python 3.9.7 ('data_science')",
   "language": "python",
   "name": "python3"
  },
  "language_info": {
   "codemirror_mode": {
    "name": "ipython",
    "version": 3
   },
   "file_extension": ".py",
   "mimetype": "text/x-python",
   "name": "python",
   "nbconvert_exporter": "python",
   "pygments_lexer": "ipython3",
   "version": "3.9.7"
  },
  "orig_nbformat": 4
 },
 "nbformat": 4,
 "nbformat_minor": 2
}
