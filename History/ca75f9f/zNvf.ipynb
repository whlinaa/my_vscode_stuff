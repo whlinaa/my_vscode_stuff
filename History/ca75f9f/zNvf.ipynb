{
 "cells": [
  {
   "cell_type": "code",
   "execution_count": 1,
   "metadata": {},
   "outputs": [
    {
     "name": "stdout",
     "output_type": "stream",
     "text": [
      "calling self ds_preamble..\n",
      "calling ds_helper...\n"
     ]
    }
   ],
   "source": [
    "%load_ext autoreload\n",
    "%autoreload 2\n",
    "from ds_utils.ds_preamble import *\n",
    "from ds_utils.ds_helper import *\n",
    "from ds_utils.ds_plotting import *\n",
    "# from glob import glob\n",
    "# import re\n",
    "# import datetime\n",
    "# import duckdb\n",
    "# import pathlib\n",
    "# from ds_utils.ds_preamble import *  # # self-defined module\n",
    "# from ds_utils.ds_helper import *  # self-defined module\n",
    "# from ds_utils.ds_plotting import *  # # self-defined module\n",
    "# import seaborn as sns\n",
    "tips = sns.load_dataset('tips')\n",
    "tips_tiny = tips.sample(20)\n",
    "\n",
    "df = tips\n",
    "    \n",
    "titanic = sns.load_dataset('titanic')\n",
    "\n",
    "np.random.seed(123)\n",
    "tips['decile'] = np.random.randint(1,4, size=len(tips))\n",
    "\n",
    "train = tips.sample(frac=0.7, random_state=30).reset_index(drop=True)\n",
    "test = tips.drop(train.index).reset_index(drop=True)\n",
    "# survey = pd.read_csv(\"/Users/whlin/Library/CloudStorage/OneDrive-HKUSTConnect/Documents/python/data/stack-overflow-developer-survey-2019/survey_results_public.csv\").sample(10_000)\n",
    "\n",
    "# import importlib\n",
    "# importlib.reload(ds_preamble)\n",
    "import math\n",
    "\n",
    "import scipy as sp\n",
    "from math import comb\n",
    "from functools import cache\n",
    "\n",
    "np.set_printoptions(suppress=True)\n",
    "\n",
    "import numpy as np\n",
    "\n",
    "import statsmodels.api as sm\n",
    "\n",
    "import statsmodels.formula.api as smf"
   ]
  },
  {
   "attachments": {},
   "cell_type": "markdown",
   "metadata": {},
   "source": [
    "# truth-table-generator"
   ]
  },
  {
   "cell_type": "code",
   "execution_count": 48,
   "metadata": {},
   "outputs": [
    {
     "name": "stdout",
     "output_type": "stream",
     "text": [
      "+-----+-----+-----+\n",
      "|  p  |  q  |  r  |\n",
      "|-----+-----+-----|\n",
      "|  0  |  0  |  0  |\n",
      "|  0  |  0  |  1  |\n",
      "|  0  |  1  |  0  |\n",
      "|  0  |  1  |  1  |\n",
      "|  1  |  0  |  0  |\n",
      "|  1  |  0  |  1  |\n",
      "|  1  |  1  |  0  |\n",
      "|  1  |  1  |  1  |\n",
      "+-----+-----+-----+\n"
     ]
    }
   ],
   "source": [
    "import ttg\n",
    "ttg.Truths(['p', 'q', 'r'], ints=False, ascending=True)"
   ]
  },
  {
   "cell_type": "code",
   "execution_count": 47,
   "metadata": {},
   "outputs": [
    {
     "data": {
      "text/html": [
       "<div>\n",
       "<style scoped>\n",
       "    .dataframe tbody tr th:only-of-type {\n",
       "        vertical-align: middle;\n",
       "    }\n",
       "\n",
       "    .dataframe tbody tr th {\n",
       "        vertical-align: top;\n",
       "    }\n",
       "\n",
       "    .dataframe thead th {\n",
       "        text-align: right;\n",
       "    }\n",
       "</style>\n",
       "<table border=\"1\" class=\"dataframe\">\n",
       "  <thead>\n",
       "    <tr style=\"text-align: right;\">\n",
       "      <th></th>\n",
       "      <th>p</th>\n",
       "      <th>q</th>\n",
       "      <th>r</th>\n",
       "      <th>((~r) and q) = (~p)</th>\n",
       "      <th>~(r =&gt; (p or (~q)))</th>\n",
       "      <th>(((~r) and q) = (~p)) != (~(r =&gt; (p or (~q))))</th>\n",
       "      <th>(((~r) and q) = (~p)) != ~(r =&gt; (p or (~q)))</th>\n",
       "    </tr>\n",
       "  </thead>\n",
       "  <tbody>\n",
       "    <tr>\n",
       "      <th>1</th>\n",
       "      <td>1</td>\n",
       "      <td>1</td>\n",
       "      <td>1</td>\n",
       "      <td>1</td>\n",
       "      <td>0</td>\n",
       "      <td>1</td>\n",
       "      <td>1</td>\n",
       "    </tr>\n",
       "    <tr>\n",
       "      <th>2</th>\n",
       "      <td>1</td>\n",
       "      <td>1</td>\n",
       "      <td>0</td>\n",
       "      <td>0</td>\n",
       "      <td>0</td>\n",
       "      <td>0</td>\n",
       "      <td>0</td>\n",
       "    </tr>\n",
       "    <tr>\n",
       "      <th>3</th>\n",
       "      <td>1</td>\n",
       "      <td>0</td>\n",
       "      <td>1</td>\n",
       "      <td>1</td>\n",
       "      <td>0</td>\n",
       "      <td>1</td>\n",
       "      <td>1</td>\n",
       "    </tr>\n",
       "    <tr>\n",
       "      <th>4</th>\n",
       "      <td>1</td>\n",
       "      <td>0</td>\n",
       "      <td>0</td>\n",
       "      <td>1</td>\n",
       "      <td>0</td>\n",
       "      <td>1</td>\n",
       "      <td>1</td>\n",
       "    </tr>\n",
       "    <tr>\n",
       "      <th>5</th>\n",
       "      <td>0</td>\n",
       "      <td>1</td>\n",
       "      <td>1</td>\n",
       "      <td>0</td>\n",
       "      <td>1</td>\n",
       "      <td>1</td>\n",
       "      <td>1</td>\n",
       "    </tr>\n",
       "    <tr>\n",
       "      <th>6</th>\n",
       "      <td>0</td>\n",
       "      <td>1</td>\n",
       "      <td>0</td>\n",
       "      <td>1</td>\n",
       "      <td>0</td>\n",
       "      <td>1</td>\n",
       "      <td>1</td>\n",
       "    </tr>\n",
       "    <tr>\n",
       "      <th>7</th>\n",
       "      <td>0</td>\n",
       "      <td>0</td>\n",
       "      <td>1</td>\n",
       "      <td>0</td>\n",
       "      <td>0</td>\n",
       "      <td>0</td>\n",
       "      <td>0</td>\n",
       "    </tr>\n",
       "    <tr>\n",
       "      <th>8</th>\n",
       "      <td>0</td>\n",
       "      <td>0</td>\n",
       "      <td>0</td>\n",
       "      <td>0</td>\n",
       "      <td>0</td>\n",
       "      <td>0</td>\n",
       "      <td>0</td>\n",
       "    </tr>\n",
       "  </tbody>\n",
       "</table>\n",
       "</div>"
      ],
      "text/plain": [
       "   p  q  r  ((~r) and q) = (~p)  ~(r => (p or (~q)))   \n",
       "1  1  1  1                    1                    0  \\\n",
       "2  1  1  0                    0                    0   \n",
       "3  1  0  1                    1                    0   \n",
       "4  1  0  0                    1                    0   \n",
       "5  0  1  1                    0                    1   \n",
       "6  0  1  0                    1                    0   \n",
       "7  0  0  1                    0                    0   \n",
       "8  0  0  0                    0                    0   \n",
       "\n",
       "   (((~r) and q) = (~p)) != (~(r => (p or (~q))))   \n",
       "1                                               1  \\\n",
       "2                                               0   \n",
       "3                                               1   \n",
       "4                                               1   \n",
       "5                                               1   \n",
       "6                                               1   \n",
       "7                                               0   \n",
       "8                                               0   \n",
       "\n",
       "   (((~r) and q) = (~p)) != ~(r => (p or (~q)))  \n",
       "1                                             1  \n",
       "2                                             0  \n",
       "3                                             1  \n",
       "4                                             1  \n",
       "5                                             1  \n",
       "6                                             1  \n",
       "7                                             0  \n",
       "8                                             0  "
      ]
     },
     "execution_count": 47,
     "metadata": {},
     "output_type": "execute_result"
    }
   ],
   "source": [
    "ttg.Truths(\n",
    "    ['p', 'q', 'r'], \n",
    "    [\n",
    "        '((~r) and q) = (~p)', '~(r => (p or (~q)))', \n",
    "        '(((~r) and q) = (~p)) != (~(r => (p or (~q))))',\n",
    "        '(((~r) and q) = (~p)) != ~(r => (p or (~q)))',\n",
    "    ], \n",
    "    ints=True, \n",
    "    ascending=False\n",
    "    ).as_pandas()\n"
   ]
  },
  {
   "cell_type": "code",
   "execution_count": 22,
   "metadata": {},
   "outputs": [
    {
     "data": {
      "text/html": [
       "<div>\n",
       "<style scoped>\n",
       "    .dataframe tbody tr th:only-of-type {\n",
       "        vertical-align: middle;\n",
       "    }\n",
       "\n",
       "    .dataframe tbody tr th {\n",
       "        vertical-align: top;\n",
       "    }\n",
       "\n",
       "    .dataframe thead th {\n",
       "        text-align: right;\n",
       "    }\n",
       "</style>\n",
       "<table border=\"1\" class=\"dataframe\">\n",
       "  <thead>\n",
       "    <tr style=\"text-align: right;\">\n",
       "      <th></th>\n",
       "      <th>p</th>\n",
       "      <th>q</th>\n",
       "      <th>p and q</th>\n",
       "      <th>p or q</th>\n",
       "      <th>(p or (~q)) =&gt; (~p)</th>\n",
       "    </tr>\n",
       "  </thead>\n",
       "  <tbody>\n",
       "    <tr>\n",
       "      <th>1</th>\n",
       "      <td>True</td>\n",
       "      <td>True</td>\n",
       "      <td>True</td>\n",
       "      <td>True</td>\n",
       "      <td>False</td>\n",
       "    </tr>\n",
       "    <tr>\n",
       "      <th>2</th>\n",
       "      <td>True</td>\n",
       "      <td>False</td>\n",
       "      <td>False</td>\n",
       "      <td>True</td>\n",
       "      <td>False</td>\n",
       "    </tr>\n",
       "    <tr>\n",
       "      <th>3</th>\n",
       "      <td>False</td>\n",
       "      <td>True</td>\n",
       "      <td>False</td>\n",
       "      <td>True</td>\n",
       "      <td>True</td>\n",
       "    </tr>\n",
       "    <tr>\n",
       "      <th>4</th>\n",
       "      <td>False</td>\n",
       "      <td>False</td>\n",
       "      <td>False</td>\n",
       "      <td>False</td>\n",
       "      <td>True</td>\n",
       "    </tr>\n",
       "  </tbody>\n",
       "</table>\n",
       "</div>"
      ],
      "text/plain": [
       "       p      q  p and q  p or q  (p or (~q)) => (~p)\n",
       "1   True   True     True    True                False\n",
       "2   True  False    False    True                False\n",
       "3  False   True    False    True                 True\n",
       "4  False  False    False   False                 True"
      ]
     },
     "execution_count": 22,
     "metadata": {},
     "output_type": "execute_result"
    }
   ],
   "source": [
    "# print(ttg.Truths(['p', 'q'], ['p and q', 'p or q', '(p or (~q)) => (~p)'], ints=False))\n",
    "\n",
    "table = ttg.Truths(['p', 'q'], ['p and q', 'p or q', '(p or (~q)) => (~p)'], ints=False)\n",
    "\n",
    "# as_prettytable\n",
    "# as_tabulate\n",
    "# print(table.as_prettytable())\n",
    "# print(table)\n",
    "# print(table.as_tabulate())\n",
    "table.as_pandas()"
   ]
  },
  {
   "cell_type": "code",
   "execution_count": 5,
   "metadata": {},
   "outputs": [
    {
     "name": "stdout",
     "output_type": "stream",
     "text": [
      "\u001b[0;31mInit signature:\u001b[0m \u001b[0mttg\u001b[0m\u001b[0;34m.\u001b[0m\u001b[0mTruths\u001b[0m\u001b[0;34m(\u001b[0m\u001b[0mbases\u001b[0m\u001b[0;34m=\u001b[0m\u001b[0;32mNone\u001b[0m\u001b[0;34m,\u001b[0m \u001b[0mphrases\u001b[0m\u001b[0;34m=\u001b[0m\u001b[0;32mNone\u001b[0m\u001b[0;34m,\u001b[0m \u001b[0mints\u001b[0m\u001b[0;34m=\u001b[0m\u001b[0;32mTrue\u001b[0m\u001b[0;34m,\u001b[0m \u001b[0mascending\u001b[0m\u001b[0;34m=\u001b[0m\u001b[0;32mFalse\u001b[0m\u001b[0;34m)\u001b[0m\u001b[0;34m\u001b[0m\u001b[0;34m\u001b[0m\u001b[0m\n",
      "\u001b[0;31mDocstring:\u001b[0m      Class Truhts with modules for table formatting, valuation and CLI\n",
      "\u001b[0;31mFile:\u001b[0m           ~/miniforge3/envs/data_science/lib/python3.10/site-packages/ttg/ttg.py\n",
      "\u001b[0;31mType:\u001b[0m           type\n",
      "\u001b[0;31mSubclasses:\u001b[0m     "
     ]
    }
   ],
   "source": [
    "ttg.Truths?"
   ]
  },
  {
   "cell_type": "code",
   "execution_count": 4,
   "metadata": {},
   "outputs": [
    {
     "name": "stdout",
     "output_type": "stream",
     "text": [
      "+-----+-----+-----+-----------------+---------------+--------------------+\n",
      "|  p  |  q  |  r  |  p and q and r  |  p or q or r  |  (p or (~q)) => r  |\n",
      "|-----+-----+-----+-----------------+---------------+--------------------|\n",
      "|  1  |  1  |  1  |        1        |       1       |         1          |\n",
      "|  1  |  1  |  0  |        0        |       1       |         0          |\n",
      "|  1  |  0  |  1  |        0        |       1       |         1          |\n",
      "|  1  |  0  |  0  |        0        |       1       |         0          |\n",
      "|  0  |  1  |  1  |        0        |       1       |         1          |\n",
      "|  0  |  1  |  0  |        0        |       1       |         1          |\n",
      "|  0  |  0  |  1  |        0        |       1       |         1          |\n",
      "|  0  |  0  |  0  |        0        |       0       |         0          |\n",
      "+-----+-----+-----+-----------------+---------------+--------------------+\n",
      "+-----+-----+-----------+----------+-----------------------+\n",
      "|  p  |  q  |  p and q  |  p or q  |  (p or (~q)) => (~p)  |\n",
      "|-----+-----+-----------+----------+-----------------------|\n",
      "|  1  |  1  |     1     |    1     |           0           |\n",
      "|  1  |  0  |     0     |    1     |           0           |\n",
      "|  0  |  1  |     0     |    1     |           1           |\n",
      "|  0  |  0  |     0     |    0     |           1           |\n",
      "+-----+-----+-----------+----------+-----------------------+\n"
     ]
    }
   ],
   "source": [
    "import ttg\n",
    "# print(ttg.Truths(['p', 'q', 'r']))\n",
    "print(ttg.Truths(\n",
    "    ['p', 'q', 'r'], \n",
    "    ['p and q and r', 'p or q or r', '(p or (~q)) => r'],\n",
    "    ints=False,\n",
    "    )\n",
    ")\n",
    "\n",
    "# ttg.Truths?\n",
    "print(ttg.Truths(['p', 'q'], ['p and q', 'p or q', '(p or (~q)) => (~p)'], ints=False))\n",
    "\n",
    "\n"
   ]
  },
  {
   "attachments": {},
   "cell_type": "markdown",
   "metadata": {},
   "source": [
    "## scipy\n",
    "- important: \n",
    "\t- `stats.moment(a, moment=1)` is central moment, and it is for a sample, not a theoretical distribution!\n",
    "\t- in contrast, `rv.moment(1)` will give moment about origin\n",
    "- to get non-fisher kurtosis, we need `stats.kurtosis(data, fisher=False)`\n",
    "- `rv.stats(moments='mvsk')`: find the four important statistics at the same time\n",
    "- for `rv.stats()` without arguments, it will find mean and variance only\n",
    "\n",
    "- tricky parameter settings for common distributions\n",
    "\t- `expon`: scale = mean = 1/lambda\n",
    "\t\t- `expon(scale = 1/a) = expon(lambda = 1)`\n",
    "\t- `unifrom(loc=a, scale=b-a) = U(a,b)` "
   ]
  },
  {
   "attachments": {},
   "cell_type": "markdown",
   "metadata": {},
   "source": [
    "### moments, skew, kurtosis"
   ]
  },
  {
   "cell_type": "code",
   "execution_count": null,
   "metadata": {},
   "outputs": [
    {
     "name": "stdout",
     "output_type": "stream",
     "text": [
      "# ----------------------- sample skewness and kurtosis ----------------------- #\n"
     ]
    },
    {
     "data": {
      "text/plain": [
       "True"
      ]
     },
     "metadata": {},
     "output_type": "display_data"
    },
    {
     "data": {
      "text/plain": [
       "False"
      ]
     },
     "metadata": {},
     "output_type": "display_data"
    },
    {
     "data": {
      "text/plain": [
       "False"
      ]
     },
     "metadata": {},
     "output_type": "display_data"
    },
    {
     "data": {
      "text/plain": [
       "1.9845082269266912"
      ]
     },
     "metadata": {},
     "output_type": "display_data"
    },
    {
     "name": "stdout",
     "output_type": "stream",
     "text": [
      "# --------------------- population skewness and kurtosis --------------------- #\n"
     ]
    },
    {
     "data": {
      "text/plain": [
       "(2.0, 1.0, 2.0, 6.0)"
      ]
     },
     "metadata": {},
     "output_type": "display_data"
    },
    {
     "data": {
      "text/plain": [
       "1.0"
      ]
     },
     "metadata": {},
     "output_type": "display_data"
    },
    {
     "data": {
      "text/plain": [
       "2.0"
      ]
     },
     "metadata": {},
     "output_type": "display_data"
    },
    {
     "data": {
      "text/plain": [
       "5.0"
      ]
     },
     "metadata": {},
     "output_type": "display_data"
    },
    {
     "data": {
      "text/plain": [
       "16.0"
      ]
     },
     "metadata": {},
     "output_type": "display_data"
    },
    {
     "data": {
      "text/plain": [
       "(0.0, 1.0, 0.0, 0.0)"
      ]
     },
     "metadata": {},
     "output_type": "display_data"
    },
    {
     "data": {
      "text/plain": [
       "(0.0, 100.0, 0.0, 0.0)"
      ]
     },
     "metadata": {},
     "output_type": "display_data"
    },
    {
     "data": {
      "text/plain": [
       "(0.0, 1.0204081632653061, 0.0, 0.0625)"
      ]
     },
     "metadata": {},
     "output_type": "display_data"
    },
    {
     "data": {
      "text/plain": [
       "(0.0, 1.0, 0.0, 0.0)"
      ]
     },
     "metadata": {},
     "output_type": "display_data"
    },
    {
     "data": {
      "text/plain": [
       "3.0108567393512122"
      ]
     },
     "metadata": {},
     "output_type": "display_data"
    }
   ],
   "source": [
    "print(\"# ----------------------- sample skewness and kurtosis ----------------------- #\")\n",
    "n = 10**5\n",
    "data = stats.expon(1).rvs(n)\n",
    "stats.moment(data, 2) == data.var() # central moment\n",
    "stats.moment(data, 3)/data.std()**3 == stats.skew(data) \n",
    "stats.moment(data, 4)/data.std()**4 == stats.kurtosis(data, fisher=False) \n",
    "stats.skew(data)\n",
    "\n",
    "print(\"# --------------------- population skewness and kurtosis --------------------- #\")\n",
    "rv = stats.expon(1)\n",
    "rv.stats(moments='mvsk') \n",
    "rv.moment(0) # moment about origin\n",
    "rv.moment(1) # moment about origin: E(X)\n",
    "rv.moment(2) # moment about origin: E(X^2)\n",
    "rv.moment(3) # moment about origin: E(X^3)\n",
    "\n",
    "\n",
    "stats.norm().stats(moments='mvsk')\n",
    "stats.norm(scale=10).stats(moments='mvsk')\n",
    "stats.t(df=100).stats(moments='mvsk')\n",
    "stats.norm().stats(moments='mvsk')\n",
    "stats.kurtosis(stats.norm().rvs(10000), fisher=False)"
   ]
  },
  {
   "attachments": {},
   "cell_type": "markdown",
   "metadata": {},
   "source": [
    "## skewness and curtosis"
   ]
  },
  {
   "cell_type": "code",
   "execution_count": null,
   "metadata": {},
   "outputs": [
    {
     "data": {
      "text/plain": [
       "2.028483582744561"
      ]
     },
     "metadata": {},
     "output_type": "display_data"
    },
    {
     "data": {
      "text/plain": [
       "1.9621206007169063"
      ]
     },
     "metadata": {},
     "output_type": "display_data"
    },
    {
     "data": {
      "text/plain": [
       "-0.008729279710916325"
      ]
     },
     "metadata": {},
     "output_type": "display_data"
    }
   ],
   "source": [
    "n = 10**5\n",
    "stats.skew(stats.expon(loc=100).rvs(n))\n",
    "stats.skew(stats.expon(loc=0.1).rvs(n))\n",
    "stats.skew(stats.norm().rvs(n)) # norm is symmetric, so skewness is 0"
   ]
  },
  {
   "attachments": {},
   "cell_type": "markdown",
   "metadata": {},
   "source": [
    "### useful statistical functions\n",
    "- pdf, cdf, sf, ppf, isf\n",
    "- for `norm`, `scale` is standard deviation, not variance\n",
    "- important methods:\n",
    "\t- rvs, pdf, cdf, sf, ppf, isf\n",
    "\t\t- cdf, sf gives probability\n",
    "\t\t- ppf, isf gives value\n",
    "\t- moment(order)\n",
    "\t- stats\n",
    "\t- entropy\n",
    "\t- mean/median/var\n",
    "\t- interval\n",
    "- `sem` is standard error for mean. Very important\n",
    "\t- `stats.sem(x) = np.std(x, ddof=1) / np.sqrt(len(x))`"
   ]
  },
  {
   "cell_type": "code",
   "execution_count": null,
   "metadata": {},
   "outputs": [
    {
     "data": {
      "text/plain": [
       "0.0"
      ]
     },
     "metadata": {},
     "output_type": "display_data"
    },
    {
     "data": {
      "text/plain": [
       "0.0"
      ]
     },
     "metadata": {},
     "output_type": "display_data"
    },
    {
     "data": {
      "text/plain": [
       "2.0"
      ]
     },
     "metadata": {},
     "output_type": "display_data"
    },
    {
     "data": {
      "text/plain": [
       "4.0"
      ]
     },
     "metadata": {},
     "output_type": "display_data"
    },
    {
     "data": {
      "text/plain": [
       "(0.0, 4.0, 0.0, 0.0)"
      ]
     },
     "metadata": {},
     "output_type": "display_data"
    },
    {
     "data": {
      "text/plain": [
       "0.0"
      ]
     },
     "metadata": {},
     "output_type": "display_data"
    },
    {
     "data": {
      "text/plain": [
       "array([ 1.57831284, -4.03861183, -2.23928998,  1.36519926,  2.9900606 ,\n",
       "        0.91219492, -6.67585183,  0.13186035,  4.69552121,  0.64893408])"
      ]
     },
     "metadata": {},
     "output_type": "display_data"
    },
    {
     "name": "stdout",
     "output_type": "stream",
     "text": [
      "---- distribution ----\n"
     ]
    },
    {
     "data": {
      "text/plain": [
       "0.8364569406723077"
      ]
     },
     "metadata": {},
     "output_type": "display_data"
    },
    {
     "data": {
      "text/plain": [
       "0.16354305932769236"
      ]
     },
     "metadata": {},
     "output_type": "display_data"
    },
    {
     "data": {
      "text/plain": [
       "3.919927969080108"
      ]
     },
     "metadata": {},
     "output_type": "display_data"
    },
    {
     "data": {
      "text/plain": [
       "3.919927969080109"
      ]
     },
     "metadata": {},
     "output_type": "display_data"
    },
    {
     "data": {
      "text/plain": [
       "array([0.17603266, 0.19947114, 0.17603266])"
      ]
     },
     "metadata": {},
     "output_type": "display_data"
    },
    {
     "data": {
      "text/plain": [
       "(-3.919927969080108, 3.919927969080108)"
      ]
     },
     "metadata": {},
     "output_type": "display_data"
    }
   ],
   "source": [
    "# N(loc, scale^2)\n",
    "# dist = stats.norm(loc=5, scale=3)\n",
    "dist = stats.norm(loc=0, scale=2) # sd is 1\n",
    "dist.mean()\n",
    "dist.median()\n",
    "dist.std()\n",
    "dist.var()\n",
    "dist.stats(moments='mvsk')\n",
    "dist.moment(n=3) # about original\n",
    "\n",
    "dist.rvs(10) # generate samples from the distribution\n",
    "\n",
    "print(\"---- distribution ----\")\n",
    "# give probability\n",
    "dist.cdf(1.96)\n",
    "dist.sf(1.96) # same as 1-cdf\n",
    "\n",
    "# give value\n",
    "dist.ppf(0.975) # 97.5 percentile\n",
    "dist.isf(0.025) # same as dist.ppf(0.975)\n",
    "\n",
    "dist.pdf([-1,0,1])\n",
    "dist.interval(0.95) # same as (dist.ppf(0.025), dist.ppf(0.975))\n",
    "\n",
    "print(\"--- sem ---\")\n",
    "x = stats.norm().rvs(100)\n",
    "stats.sem(x)\n",
    "np.std(x, ddof=1) / np.sqrt(len(x))"
   ]
  },
  {
   "cell_type": "code",
   "execution_count": null,
   "metadata": {},
   "outputs": [
    {
     "data": {
      "text/plain": [
       "array([0.39894228, 0.24197072])"
      ]
     },
     "metadata": {},
     "output_type": "display_data"
    },
    {
     "data": {
      "text/plain": [
       "array([0.04998491, 0.5       ])"
      ]
     },
     "metadata": {},
     "output_type": "display_data"
    },
    {
     "data": {
      "text/plain": [
       "array([-1.64485363,  0.        ])"
      ]
     },
     "metadata": {},
     "output_type": "display_data"
    },
    {
     "data": {
      "text/plain": [
       "array([0.95001509, 0.5       ])"
      ]
     },
     "metadata": {},
     "output_type": "display_data"
    },
    {
     "data": {
      "text/plain": [
       "array([1.64485363, 0.        ])"
      ]
     },
     "metadata": {},
     "output_type": "display_data"
    },
    {
     "data": {
      "text/plain": [
       "(0.0, 1.0)"
      ]
     },
     "metadata": {},
     "output_type": "display_data"
    },
    {
     "data": {
      "text/plain": [
       "1.0"
      ]
     },
     "metadata": {},
     "output_type": "display_data"
    },
    {
     "data": {
      "text/plain": [
       "0.25"
      ]
     },
     "metadata": {},
     "output_type": "display_data"
    },
    {
     "data": {
      "text/plain": [
       "0.5"
      ]
     },
     "metadata": {},
     "output_type": "display_data"
    },
    {
     "data": {
      "text/plain": [
       "1.0"
      ]
     },
     "metadata": {},
     "output_type": "display_data"
    },
    {
     "data": {
      "text/plain": [
       "[1.0, 1.0, 1.25, 1.75, 2.6875]"
      ]
     },
     "metadata": {},
     "output_type": "display_data"
    },
    {
     "data": {
      "text/plain": [
       "(-1.959963984540054, 1.959963984540054)"
      ]
     },
     "metadata": {},
     "output_type": "display_data"
    },
    {
     "data": {
      "text/plain": [
       "array([-1.95996398,  1.95996398])"
      ]
     },
     "metadata": {},
     "output_type": "display_data"
    }
   ],
   "source": [
    "# further example\n",
    "stats.norm.pdf([0,1])\n",
    "\n",
    "stats.norm.cdf([-1.645, 0])\n",
    "stats.norm.ppf([0.05,0.5]) # 0.05 quantile\n",
    "\n",
    "stats.norm.sf([-1.645, 0])\n",
    "stats.norm.isf([0.05, 0.5]) # 0.05 quantile\n",
    "\n",
    "stats.norm.stats()\n",
    "X = stats.norm(1, 0.5)\n",
    "X.mean()\n",
    "X.var()\n",
    "X.std()\n",
    "X.median()\n",
    "\n",
    "[X.moment(n) for n in range(5)]\n",
    "\n",
    "\n",
    "stats.norm.interval(0.95)\n",
    "stats.norm.ppf([0.025,0.975]) # same as above"
   ]
  },
  {
   "cell_type": "code",
   "execution_count": null,
   "metadata": {},
   "outputs": [
    {
     "data": {
      "text/plain": [
       "DescribeResult(nobs=10000, minmax=(-6.31393755425723, 17.005827923579584), mean=5.008624997262224, variance=8.978780876251541, skewness=-0.0016151888159902155, kurtosis=0.01734187959222311)"
      ]
     },
     "metadata": {},
     "output_type": "display_data"
    },
    {
     "data": {
      "text/plain": [
       "15.002752720570905"
      ]
     },
     "metadata": {},
     "output_type": "display_data"
    },
    {
     "data": {
      "text/plain": [
       "4.088496836233563"
      ]
     },
     "metadata": {},
     "output_type": "display_data"
    },
    {
     "data": {
      "text/plain": [
       "0.02996461392417987"
      ]
     },
     "metadata": {},
     "output_type": "display_data"
    },
    {
     "data": {
      "text/plain": [
       "True"
      ]
     },
     "metadata": {},
     "output_type": "display_data"
    },
    {
     "data": {
      "text/plain": [
       "1.0"
      ]
     },
     "metadata": {},
     "output_type": "display_data"
    },
    {
     "data": {
      "text/plain": [
       "1.0"
      ]
     },
     "metadata": {},
     "output_type": "display_data"
    }
   ],
   "source": [
    "# normal \n",
    "data = stats.norm(loc=5, scale=3).rvs(10000)\n",
    "stats.describe(data)\n",
    "stats.moment(data, moment=5)\n",
    "stats.iqr(data) # interquartile range\n",
    "stats.sem(data) # standard error of the mean. ddof = 1 by default\n",
    "stats.sem(data) == np.std(data, ddof=1) / np.sqrt(len(data))"
   ]
  },
  {
   "attachments": {},
   "cell_type": "markdown",
   "metadata": {},
   "source": [
    "# statsmodel package\n",
    "- if we use `smf.ols`, then a column of 1 is added automatically\n",
    "- if we use `sm.ols`, we need to add a column of 1 ourselves\n",
    "\t- use `sm.add_constant(data)` for this purpose. The column of 1 will be the first column\n",
    "- for `.fit`, it returns an object with many methods:\n",
    "\t- https://www.statsmodels.org/stable/generated/statsmodels.regression.linear_model.RegressionResults.html#statsmodels.regression.linear_model.RegressionResults\n",
    "- for `.summary` method, it has many parameters:\n",
    "\t- https://www.statsmodels.org/stable/generated/statsmodels.regression.linear_model.RegressionResults.summary.html#statsmodels.regression.linear_model.RegressionResults.summary\n",
    "\t- `yname=None, xname=None, title=None, alpha=0.05, slim=False`\n",
    "- for `.summary`, it will return an object with many methods\n",
    "\t- https://www.statsmodels.org/stable/generated/statsmodels.iolib.summary.Summary.html#statsmodels.iolib.summary.Summary\n",
    "\t- can use `as_text`, `as_latex`, `as_html`, `as_csv`, `add_extra_text`\n",
    "- for linear_model.PredictionResults:\n",
    "\t- https://www.statsmodels.org/devel/generated/statsmodels.regression.linear_model.PredictionResults.html\n",
    "- we want the following:\n",
    "- value, p-value, CI of each parameter\n",
    "- CI and PI of y\n",
    "- MSE, SSE, R^2\n",
    "\n",
    "- in `res.get_prediction().summary_frame()`:\n",
    "\t- mean: prediction, i.e, y^hat\n",
    "\t- mean_se: sd(y^hat)\n",
    "\t- mean_ci_low: lower limit of CI for E(y)\n",
    "\t- obs_ci_low: lower limit of PI for y\n",
    "\n",
    "- important knowledge:\n",
    "\t- 95% CI for E(Y): 95% of the time E(Y) should be bounded by the CI\n",
    "\t- 95% PI for Y: 95% of the time Y should be bounded by the PI\n",
    "\t- OLS line is estimating the line of E(Y)\n",
    "\t- for `bse`, the standard error are based on mse\n",
    "\n",
    "\n",
    "## properties of fitted model\n",
    "- ess: ss - explained\n",
    "- ssr: ss - residual"
   ]
  },
  {
   "attachments": {},
   "cell_type": "markdown",
   "metadata": {},
   "source": [
    "## example from HKCC regression course\n",
    "- Ex 1: simple linear \n",
    "\t- b0 = `1.446408652`\n",
    "\t- b1 = `0.010010839`\n",
    "\t- SSE = `1.75605609`\n",
    "\t- sqrt(MSE) = `0.419053229`\n",
    "\t- 95% CI for b0 = `(0.2025, 2.6903)`\n",
    "\t- 95% CI for b1 = `(0.0083, 0.0117)`\n",
    "\t- 99% HT for b1, right-tailed = `13.1464`\n",
    "\t- 99% CI for E(Y) at x = `600: (6.9786,7.9272)`\n",
    "\t- 99% PI for Y at x = `600: (6.0428,8.8631)`\n",
    "\t- SS regression = `30.34931058`\n",
    "\t- SS error = `1.75605609`\n",
    "\t- SS total = `32.10536667`\n",
    "\t- F-statistic for whole model = `172.8265`\n",
    "\t- R^2 = `0.9453`\n",
    "\t- r = `0.9723`\n",
    "- Ex 2: multiple linear\n"
   ]
  },
  {
   "cell_type": "code",
   "execution_count": 2,
   "metadata": {},
   "outputs": [
    {
     "data": {
      "text/html": [
       "<div>\n",
       "<style scoped>\n",
       "    .dataframe tbody tr th:only-of-type {\n",
       "        vertical-align: middle;\n",
       "    }\n",
       "\n",
       "    .dataframe tbody tr th {\n",
       "        vertical-align: top;\n",
       "    }\n",
       "\n",
       "    .dataframe thead th {\n",
       "        text-align: right;\n",
       "    }\n",
       "</style>\n",
       "<table border=\"1\" class=\"dataframe\">\n",
       "  <thead>\n",
       "    <tr style=\"text-align: right;\">\n",
       "      <th></th>\n",
       "      <th>Store</th>\n",
       "      <th>Number of Customers</th>\n",
       "      <th>Sales ('000)</th>\n",
       "    </tr>\n",
       "  </thead>\n",
       "  <tbody>\n",
       "    <tr>\n",
       "      <th>0</th>\n",
       "      <td>1</td>\n",
       "      <td>907</td>\n",
       "      <td>11.20</td>\n",
       "    </tr>\n",
       "    <tr>\n",
       "      <th>1</th>\n",
       "      <td>2</td>\n",
       "      <td>926</td>\n",
       "      <td>11.05</td>\n",
       "    </tr>\n",
       "  </tbody>\n",
       "</table>\n",
       "</div>"
      ],
      "text/plain": [
       "   Store  Number of Customers  Sales ('000)\n",
       "0      1                  907         11.20\n",
       "1      2                  926         11.05"
      ]
     },
     "execution_count": 2,
     "metadata": {},
     "output_type": "execute_result"
    },
    {
     "data": {
      "text/html": [
       "<div>\n",
       "<style scoped>\n",
       "    .dataframe tbody tr th:only-of-type {\n",
       "        vertical-align: middle;\n",
       "    }\n",
       "\n",
       "    .dataframe tbody tr th {\n",
       "        vertical-align: top;\n",
       "    }\n",
       "\n",
       "    .dataframe thead th {\n",
       "        text-align: right;\n",
       "    }\n",
       "</style>\n",
       "<table border=\"1\" class=\"dataframe\">\n",
       "  <thead>\n",
       "    <tr style=\"text-align: right;\">\n",
       "      <th></th>\n",
       "      <th>x</th>\n",
       "      <th>y</th>\n",
       "    </tr>\n",
       "  </thead>\n",
       "  <tbody>\n",
       "    <tr>\n",
       "      <th>0</th>\n",
       "      <td>907</td>\n",
       "      <td>11.20</td>\n",
       "    </tr>\n",
       "    <tr>\n",
       "      <th>1</th>\n",
       "      <td>926</td>\n",
       "      <td>11.05</td>\n",
       "    </tr>\n",
       "  </tbody>\n",
       "</table>\n",
       "</div>"
      ],
      "text/plain": [
       "     x      y\n",
       "0  907  11.20\n",
       "1  926  11.05"
      ]
     },
     "execution_count": 2,
     "metadata": {},
     "output_type": "execute_result"
    },
    {
     "name": "stdout",
     "output_type": "stream",
     "text": [
      "                             my regression result                             \n",
      "==============================================================================\n",
      "Dep. Variable:                   my_y   R-squared:                       0.945\n",
      "Model:                            OLS   Adj. R-squared:                  0.940\n",
      "No. Observations:                  12   F-statistic:                     172.8\n",
      "Covariance Type:            nonrobust   Prob (F-statistic):           1.23e-07\n",
      "==============================================================================\n",
      "                 coef    std err          t      P>|t|      [0.005      0.995]\n",
      "------------------------------------------------------------------------------\n",
      "beta_0         1.4464      0.558      2.591      0.027      -0.323       3.216\n",
      "beta_1         0.0100      0.001     13.146      0.000       0.008       0.012\n",
      "==============================================================================\n",
      "\n",
      "Notes:\n",
      "[1] Standard Errors assume that the covariance matrix of the errors is correctly specified.\n",
      "[2] The condition number is large, 3.38e+03. This might indicate that there are\n",
      "strong multicollinearity or other numerical problems.\n"
     ]
    },
    {
     "name": "stderr",
     "output_type": "stream",
     "text": [
      "/Users/whlin/miniforge3/envs/data_science/lib/python3.10/site-packages/scipy/stats/_stats_py.py:1736: UserWarning: kurtosistest only valid for n>=20 ... continuing anyway, n=12\n",
      "  warnings.warn(\"kurtosistest only valid for n>=20 ... continuing \"\n"
     ]
    }
   ],
   "source": [
    "# simple linear example\n",
    "path = '/Users/whlin/Library/CloudStorage/OneDrive-HKUSTConnect/Documents/python/SEHH3164_Python/lecture notes/data/regression_1.csv'\n",
    "pd.read_csv(path)[:2] # need to remove useless columns\n",
    "data = pd.read_csv(path).iloc[:, 1:].set_axis(['x','y'], axis=1)\n",
    "\n",
    "# data.x = (data.x - data.x.mean())/data.x.std()\n",
    "\n",
    "data[:2]\n",
    "\n",
    "# data = pd.read_csv(path)\n",
    "# data\n",
    "res = smf.ols(\"y ~ x\", data=data).fit()\n",
    "\n",
    "# ------------------------- get parameter information ------------------------ #\n",
    "print(\n",
    "    res.summary(\n",
    "        alpha=0.01, slim=True, yname='my_y', xname=['beta_0','beta_1'], title='my regression result'\n",
    "        ).as_text()\n",
    ")\n",
    "\n",
    "# print(res.summary(alpha=0.01).as_text())"
   ]
  },
  {
   "cell_type": "code",
   "execution_count": 74,
   "metadata": {},
   "outputs": [
    {
     "data": {
      "text/html": [
       "<div>\n",
       "<style scoped>\n",
       "    .dataframe tbody tr th:only-of-type {\n",
       "        vertical-align: middle;\n",
       "    }\n",
       "\n",
       "    .dataframe tbody tr th {\n",
       "        vertical-align: top;\n",
       "    }\n",
       "\n",
       "    .dataframe thead th {\n",
       "        text-align: right;\n",
       "    }\n",
       "</style>\n",
       "<table border=\"1\" class=\"dataframe\">\n",
       "  <thead>\n",
       "    <tr style=\"text-align: right;\">\n",
       "      <th></th>\n",
       "      <th>df_resid</th>\n",
       "      <th>ssr</th>\n",
       "      <th>df_diff</th>\n",
       "      <th>ss_diff</th>\n",
       "      <th>F</th>\n",
       "      <th>Pr(&gt;F)</th>\n",
       "    </tr>\n",
       "  </thead>\n",
       "  <tbody>\n",
       "    <tr>\n",
       "      <th>0</th>\n",
       "      <td>11.0</td>\n",
       "      <td>32.105367</td>\n",
       "      <td>0.0</td>\n",
       "      <td>NaN</td>\n",
       "      <td>NaN</td>\n",
       "      <td>NaN</td>\n",
       "    </tr>\n",
       "    <tr>\n",
       "      <th>1</th>\n",
       "      <td>10.0</td>\n",
       "      <td>1.756056</td>\n",
       "      <td>1.0</td>\n",
       "      <td>30.349311</td>\n",
       "      <td>172.826545</td>\n",
       "      <td>1.233233e-07</td>\n",
       "    </tr>\n",
       "  </tbody>\n",
       "</table>\n",
       "</div>"
      ],
      "text/plain": [
       "   df_resid        ssr  df_diff    ss_diff           F        Pr(>F)\n",
       "0      11.0  32.105367      0.0        NaN         NaN           NaN\n",
       "1      10.0   1.756056      1.0  30.349311  172.826545  1.233233e-07"
      ]
     },
     "execution_count": 74,
     "metadata": {},
     "output_type": "execute_result"
    },
    {
     "name": "stderr",
     "output_type": "stream",
     "text": [
      "/Users/whlin/miniforge3/envs/data_science/lib/python3.10/site-packages/scipy/stats/_stats_py.py:1736: UserWarning: kurtosistest only valid for n>=20 ... continuing anyway, n=12\n",
      "  warnings.warn(\"kurtosistest only valid for n>=20 ... continuing \"\n"
     ]
    },
    {
     "data": {
      "text/html": [
       "<table class=\"simpletable\">\n",
       "<caption>OLS Regression Results</caption>\n",
       "<tr>\n",
       "  <th>Dep. Variable:</th>            <td>y</td>        <th>  R-squared:         </th> <td>   0.945</td>\n",
       "</tr>\n",
       "<tr>\n",
       "  <th>Model:</th>                   <td>OLS</td>       <th>  Adj. R-squared:    </th> <td>   0.940</td>\n",
       "</tr>\n",
       "<tr>\n",
       "  <th>Method:</th>             <td>Least Squares</td>  <th>  F-statistic:       </th> <td>   172.8</td>\n",
       "</tr>\n",
       "<tr>\n",
       "  <th>Date:</th>             <td>Sun, 11 Jun 2023</td> <th>  Prob (F-statistic):</th> <td>1.23e-07</td>\n",
       "</tr>\n",
       "<tr>\n",
       "  <th>Time:</th>                 <td>15:50:30</td>     <th>  Log-Likelihood:    </th> <td> -5.4962</td>\n",
       "</tr>\n",
       "<tr>\n",
       "  <th>No. Observations:</th>      <td>    12</td>      <th>  AIC:               </th> <td>   14.99</td>\n",
       "</tr>\n",
       "<tr>\n",
       "  <th>Df Residuals:</th>          <td>    10</td>      <th>  BIC:               </th> <td>   15.96</td>\n",
       "</tr>\n",
       "<tr>\n",
       "  <th>Df Model:</th>              <td>     1</td>      <th>                     </th>     <td> </td>   \n",
       "</tr>\n",
       "<tr>\n",
       "  <th>Covariance Type:</th>      <td>nonrobust</td>    <th>                     </th>     <td> </td>   \n",
       "</tr>\n",
       "</table>\n",
       "<table class=\"simpletable\">\n",
       "<tr>\n",
       "      <td></td>         <th>coef</th>     <th>std err</th>      <th>t</th>      <th>P>|t|</th>  <th>[0.025</th>    <th>0.975]</th>  \n",
       "</tr>\n",
       "<tr>\n",
       "  <th>Intercept</th> <td>    1.4464</td> <td>    0.558</td> <td>    2.591</td> <td> 0.027</td> <td>    0.202</td> <td>    2.690</td>\n",
       "</tr>\n",
       "<tr>\n",
       "  <th>x</th>         <td>    0.0100</td> <td>    0.001</td> <td>   13.146</td> <td> 0.000</td> <td>    0.008</td> <td>    0.012</td>\n",
       "</tr>\n",
       "</table>\n",
       "<table class=\"simpletable\">\n",
       "<tr>\n",
       "  <th>Omnibus:</th>       <td> 0.687</td> <th>  Durbin-Watson:     </th> <td>   1.363</td>\n",
       "</tr>\n",
       "<tr>\n",
       "  <th>Prob(Omnibus):</th> <td> 0.709</td> <th>  Jarque-Bera (JB):  </th> <td>   0.583</td>\n",
       "</tr>\n",
       "<tr>\n",
       "  <th>Skew:</th>          <td>-0.078</td> <th>  Prob(JB):          </th> <td>   0.747</td>\n",
       "</tr>\n",
       "<tr>\n",
       "  <th>Kurtosis:</th>      <td> 1.931</td> <th>  Cond. No.          </th> <td>3.38e+03</td>\n",
       "</tr>\n",
       "</table><br/><br/>Notes:<br/>[1] Standard Errors assume that the covariance matrix of the errors is correctly specified.<br/>[2] The condition number is large, 3.38e+03. This might indicate that there are<br/>strong multicollinearity or other numerical problems."
      ],
      "text/plain": [
       "<class 'statsmodels.iolib.summary.Summary'>\n",
       "\"\"\"\n",
       "                            OLS Regression Results                            \n",
       "==============================================================================\n",
       "Dep. Variable:                      y   R-squared:                       0.945\n",
       "Model:                            OLS   Adj. R-squared:                  0.940\n",
       "Method:                 Least Squares   F-statistic:                     172.8\n",
       "Date:                Sun, 11 Jun 2023   Prob (F-statistic):           1.23e-07\n",
       "Time:                        15:50:30   Log-Likelihood:                -5.4962\n",
       "No. Observations:                  12   AIC:                             14.99\n",
       "Df Residuals:                      10   BIC:                             15.96\n",
       "Df Model:                           1                                         \n",
       "Covariance Type:            nonrobust                                         \n",
       "==============================================================================\n",
       "                 coef    std err          t      P>|t|      [0.025      0.975]\n",
       "------------------------------------------------------------------------------\n",
       "Intercept      1.4464      0.558      2.591      0.027       0.202       2.690\n",
       "x              0.0100      0.001     13.146      0.000       0.008       0.012\n",
       "==============================================================================\n",
       "Omnibus:                        0.687   Durbin-Watson:                   1.363\n",
       "Prob(Omnibus):                  0.709   Jarque-Bera (JB):                0.583\n",
       "Skew:                          -0.078   Prob(JB):                        0.747\n",
       "Kurtosis:                       1.931   Cond. No.                     3.38e+03\n",
       "==============================================================================\n",
       "\n",
       "Notes:\n",
       "[1] Standard Errors assume that the covariance matrix of the errors is correctly specified.\n",
       "[2] The condition number is large, 3.38e+03. This might indicate that there are\n",
       "strong multicollinearity or other numerical problems.\n",
       "\"\"\""
      ]
     },
     "execution_count": 74,
     "metadata": {},
     "output_type": "execute_result"
    },
    {
     "data": {
      "text/html": [
       "<table class=\"simpletable\">\n",
       "<caption>OLS Regression Results</caption>\n",
       "<tr>\n",
       "  <th>Dep. Variable:</th>            <td>y</td>        <th>  R-squared:         </th> <td>  -0.000</td>\n",
       "</tr>\n",
       "<tr>\n",
       "  <th>Model:</th>                   <td>OLS</td>       <th>  Adj. R-squared:    </th> <td>  -0.000</td>\n",
       "</tr>\n",
       "<tr>\n",
       "  <th>Method:</th>             <td>Least Squares</td>  <th>  F-statistic:       </th> <td>     nan</td>\n",
       "</tr>\n",
       "<tr>\n",
       "  <th>Date:</th>             <td>Sun, 11 Jun 2023</td> <th>  Prob (F-statistic):</th>  <td>   nan</td> \n",
       "</tr>\n",
       "<tr>\n",
       "  <th>Time:</th>                 <td>15:50:30</td>     <th>  Log-Likelihood:    </th> <td> -22.932</td>\n",
       "</tr>\n",
       "<tr>\n",
       "  <th>No. Observations:</th>      <td>    12</td>      <th>  AIC:               </th> <td>   47.86</td>\n",
       "</tr>\n",
       "<tr>\n",
       "  <th>Df Residuals:</th>          <td>    11</td>      <th>  BIC:               </th> <td>   48.35</td>\n",
       "</tr>\n",
       "<tr>\n",
       "  <th>Df Model:</th>              <td>     0</td>      <th>                     </th>     <td> </td>   \n",
       "</tr>\n",
       "<tr>\n",
       "  <th>Covariance Type:</th>      <td>nonrobust</td>    <th>                     </th>     <td> </td>   \n",
       "</tr>\n",
       "</table>\n",
       "<table class=\"simpletable\">\n",
       "<tr>\n",
       "      <td></td>         <th>coef</th>     <th>std err</th>      <th>t</th>      <th>P>|t|</th>  <th>[0.025</th>    <th>0.975]</th>  \n",
       "</tr>\n",
       "<tr>\n",
       "  <th>Intercept</th> <td>    8.6117</td> <td>    0.493</td> <td>   17.462</td> <td> 0.000</td> <td>    7.526</td> <td>    9.697</td>\n",
       "</tr>\n",
       "</table>\n",
       "<table class=\"simpletable\">\n",
       "<tr>\n",
       "  <th>Omnibus:</th>       <td> 1.688</td> <th>  Durbin-Watson:     </th> <td>   1.161</td>\n",
       "</tr>\n",
       "<tr>\n",
       "  <th>Prob(Omnibus):</th> <td> 0.430</td> <th>  Jarque-Bera (JB):  </th> <td>   0.839</td>\n",
       "</tr>\n",
       "<tr>\n",
       "  <th>Skew:</th>          <td> 0.123</td> <th>  Prob(JB):          </th> <td>   0.657</td>\n",
       "</tr>\n",
       "<tr>\n",
       "  <th>Kurtosis:</th>      <td> 1.728</td> <th>  Cond. No.          </th> <td>    1.00</td>\n",
       "</tr>\n",
       "</table><br/><br/>Notes:<br/>[1] Standard Errors assume that the covariance matrix of the errors is correctly specified."
      ],
      "text/plain": [
       "<class 'statsmodels.iolib.summary.Summary'>\n",
       "\"\"\"\n",
       "                            OLS Regression Results                            \n",
       "==============================================================================\n",
       "Dep. Variable:                      y   R-squared:                      -0.000\n",
       "Model:                            OLS   Adj. R-squared:                 -0.000\n",
       "Method:                 Least Squares   F-statistic:                       nan\n",
       "Date:                Sun, 11 Jun 2023   Prob (F-statistic):                nan\n",
       "Time:                        15:50:30   Log-Likelihood:                -22.932\n",
       "No. Observations:                  12   AIC:                             47.86\n",
       "Df Residuals:                      11   BIC:                             48.35\n",
       "Df Model:                           0                                         \n",
       "Covariance Type:            nonrobust                                         \n",
       "==============================================================================\n",
       "                 coef    std err          t      P>|t|      [0.025      0.975]\n",
       "------------------------------------------------------------------------------\n",
       "Intercept      8.6117      0.493     17.462      0.000       7.526       9.697\n",
       "==============================================================================\n",
       "Omnibus:                        1.688   Durbin-Watson:                   1.161\n",
       "Prob(Omnibus):                  0.430   Jarque-Bera (JB):                0.839\n",
       "Skew:                           0.123   Prob(JB):                        0.657\n",
       "Kurtosis:                       1.728   Cond. No.                         1.00\n",
       "==============================================================================\n",
       "\n",
       "Notes:\n",
       "[1] Standard Errors assume that the covariance matrix of the errors is correctly specified.\n",
       "\"\"\""
      ]
     },
     "execution_count": 74,
     "metadata": {},
     "output_type": "execute_result"
    },
    {
     "data": {
      "text/html": [
       "<div>\n",
       "<style scoped>\n",
       "    .dataframe tbody tr th:only-of-type {\n",
       "        vertical-align: middle;\n",
       "    }\n",
       "\n",
       "    .dataframe tbody tr th {\n",
       "        vertical-align: top;\n",
       "    }\n",
       "\n",
       "    .dataframe thead th {\n",
       "        text-align: right;\n",
       "    }\n",
       "</style>\n",
       "<table border=\"1\" class=\"dataframe\">\n",
       "  <thead>\n",
       "    <tr style=\"text-align: right;\">\n",
       "      <th></th>\n",
       "      <th>df</th>\n",
       "      <th>sum_sq</th>\n",
       "      <th>mean_sq</th>\n",
       "      <th>F</th>\n",
       "      <th>PR(&gt;F)</th>\n",
       "    </tr>\n",
       "  </thead>\n",
       "  <tbody>\n",
       "    <tr>\n",
       "      <th>x</th>\n",
       "      <td>1.0</td>\n",
       "      <td>30.349311</td>\n",
       "      <td>30.349311</td>\n",
       "      <td>172.826545</td>\n",
       "      <td>1.233233e-07</td>\n",
       "    </tr>\n",
       "    <tr>\n",
       "      <th>Residual</th>\n",
       "      <td>10.0</td>\n",
       "      <td>1.756056</td>\n",
       "      <td>0.175606</td>\n",
       "      <td>NaN</td>\n",
       "      <td>NaN</td>\n",
       "    </tr>\n",
       "  </tbody>\n",
       "</table>\n",
       "</div>"
      ],
      "text/plain": [
       "            df     sum_sq    mean_sq           F        PR(>F)\n",
       "x          1.0  30.349311  30.349311  172.826545  1.233233e-07\n",
       "Residual  10.0   1.756056   0.175606         NaN           NaN"
      ]
     },
     "execution_count": 74,
     "metadata": {},
     "output_type": "execute_result"
    }
   ],
   "source": [
    "compare = smf.ols(\"y ~ 1\", data=data).fit()\n",
    "sm.stats.anova_lm(compare, res , typ=1)\n",
    "\n",
    "res.summary()\n",
    "\n",
    "compare.summary()\n",
    "\n",
    "sm.stats.anova_lm(res)"
   ]
  },
  {
   "cell_type": "code",
   "execution_count": 45,
   "metadata": {},
   "outputs": [
    {
     "name": "stdout",
     "output_type": "stream",
     "text": [
      "# ---------------------------------- errors ---------------------------------- #\n",
      "res.centered_tss = 32.10536666666666\n",
      "res.ess = 30.349310579644936\n",
      "res.ssr = 1.7560560870217268\n",
      "res.mse_model = 30.349310579644936\n",
      "res.mse_resid = 0.17560560870217268\n",
      "res.mse_total = 2.9186696969696966\n",
      "res.rsquared = 0.945303347404378\n",
      "res.rsquared_adj = 0.9398336821448159\n",
      "# ---------------------------------- F-test ---------------------------------- #\n"
     ]
    },
    {
     "data": {
      "text/plain": [
       "172.82654468694906"
      ]
     },
     "execution_count": 45,
     "metadata": {},
     "output_type": "execute_result"
    },
    {
     "data": {
      "text/plain": [
       "1.2332332207754597e-07"
      ]
     },
     "execution_count": 45,
     "metadata": {},
     "output_type": "execute_result"
    },
    {
     "name": "stdout",
     "output_type": "stream",
     "text": [
      "# ------------------------------ parameter info ------------------------------ #\n"
     ]
    },
    {
     "data": {
      "text/plain": [
       "Intercept    1.446409\n",
       "x            0.010011\n",
       "Name: parameter values, dtype: float64"
      ]
     },
     "execution_count": 45,
     "metadata": {},
     "output_type": "execute_result"
    },
    {
     "data": {
      "text/plain": [
       "Intercept    0.558301\n",
       "x            0.000761\n",
       "Name: standard error of parameters, dtype: float64"
      ]
     },
     "execution_count": 45,
     "metadata": {},
     "output_type": "execute_result"
    },
    {
     "data": {
      "text/plain": [
       "Intercept    2.691611e-02\n",
       "x            1.233233e-07\n",
       "Name: p values of parameters (two-tailed), dtype: float64"
      ]
     },
     "execution_count": 45,
     "metadata": {},
     "output_type": "execute_result"
    },
    {
     "data": {
      "text/plain": [
       "Intercept     2.590732\n",
       "x            13.146351\n",
       "Name: t-stats of parameters, dtype: float64"
      ]
     },
     "execution_count": 45,
     "metadata": {},
     "output_type": "execute_result"
    },
    {
     "name": "stdout",
     "output_type": "stream",
     "text": [
      "# ---------------------------- info of each sample ---------------------------- #\n"
     ]
    },
    {
     "data": {
      "text/plain": [
       "0    10.526240\n",
       "1    10.716446\n",
       "dtype: float64"
      ]
     },
     "execution_count": 45,
     "metadata": {},
     "output_type": "execute_result"
    },
    {
     "data": {
      "text/plain": [
       "array([10.52623966, 10.71644561])"
      ]
     },
     "execution_count": 45,
     "metadata": {},
     "output_type": "execute_result"
    },
    {
     "data": {
      "text/plain": [
       "0    0.673760\n",
       "1    0.333554\n",
       "dtype: float64"
      ]
     },
     "execution_count": 45,
     "metadata": {},
     "output_type": "execute_result"
    },
    {
     "data": {
      "text/plain": [
       "12.0"
      ]
     },
     "execution_count": 45,
     "metadata": {},
     "output_type": "execute_result"
    },
    {
     "name": "stdout",
     "output_type": "stream",
     "text": [
      "# ------------------------------- some identify ------------------------------ #\n",
      "32.10536666666666 == 32.10536666666666\n",
      "0.945303347404378 == 0.945303347404378\n"
     ]
    },
    {
     "data": {
      "text/plain": [
       "0.9398336821448159"
      ]
     },
     "execution_count": 45,
     "metadata": {},
     "output_type": "execute_result"
    }
   ],
   "source": [
    "# attributes and methods of res object\n",
    "print(\"# ---------------------------------- errors ---------------------------------- #\")\n",
    "print(f\"{res.centered_tss = }\")\n",
    "print(f\"{res.ess = }\")  # SSR\n",
    "print(f\"{res.ssr = }\") # SSE\n",
    "print(f\"{res.mse_model = }\") # MSR. Same as res.ess / res.df_model\n",
    "print(f\"{res.mse_resid = }\") # MSE. Same as res.ssr / res.df_resid\n",
    "print(f\"{res.mse_total = }\") # MST\n",
    "print(f\"{res.rsquared = }\") # R^2. Same as res.ess / res.centered_tss\n",
    "print(f\"{res.rsquared_adj = }\") # adjusted R^2. Same as 1 - res.mse_resid / res.mse_total\n",
    "\n",
    "print(\"# ---------------------------------- F-test ---------------------------------- #\")\n",
    "res.fvalue # f stat for whole model\n",
    "res.f_pvalue # p value of f-test for whole model \n",
    "\n",
    "print(\"# ------------------------------ parameter info ------------------------------ #\")\n",
    "res.params.rename(\"parameter values\") # parameter values as a Series\n",
    "res.bse.rename(\"standard error of parameters\") # b = beta => standard error of coefficients. NOTE: standard deviation of error is estimated by MSE\n",
    "res.pvalues.rename(\"p values of parameters (two-tailed)\") # The two-tailed p values for the t-stats of the params.\n",
    "res.tvalues.rename(\"t-stats of parameters\")\n",
    "\n",
    "print(\"# ---------------------------- info of each sample ---------------------------- #\")\n",
    "res.fittedvalues[:2] # similar to res.predict(), but this gives a series, not ndarray\n",
    "res.predict()[:2] # without arguments, predict on the train set\n",
    "res.resid[:2] # residual of the train data\n",
    "\n",
    "res.nobs # number of observations\n",
    "# pred = res.get_prediction()\n",
    "\n",
    "\n",
    "print(\"# ------------------------------- some identify ------------------------------ #\")\n",
    "# SST = SSR + SSE\n",
    "print(f\"{res.ssr + res.ess} == {res.centered_tss}\")\n",
    "\n",
    "# R^2 = SSR/SST = 1 - SSE/SST\n",
    "print(f\"{res.ess / res.centered_tss} == {1 - res.ssr / res.centered_tss}\")\n",
    "\n",
    "# adjusted R^2\n",
    "1 - res.mse_resid / res.mse_total"
   ]
  },
  {
   "cell_type": "code",
   "execution_count": 46,
   "metadata": {},
   "outputs": [
    {
     "name": "stdout",
     "output_type": "stream",
     "text": [
      "# ---------------------------- get CI and PI for y --------------------------- #\n"
     ]
    },
    {
     "data": {
      "text/html": [
       "<div>\n",
       "<style scoped>\n",
       "    .dataframe tbody tr th:only-of-type {\n",
       "        vertical-align: middle;\n",
       "    }\n",
       "\n",
       "    .dataframe tbody tr th {\n",
       "        vertical-align: top;\n",
       "    }\n",
       "\n",
       "    .dataframe thead th {\n",
       "        text-align: right;\n",
       "    }\n",
       "</style>\n",
       "<table border=\"1\" class=\"dataframe\">\n",
       "  <thead>\n",
       "    <tr style=\"text-align: right;\">\n",
       "      <th></th>\n",
       "      <th>x</th>\n",
       "    </tr>\n",
       "  </thead>\n",
       "  <tbody>\n",
       "    <tr>\n",
       "      <th>0</th>\n",
       "      <td>600</td>\n",
       "    </tr>\n",
       "    <tr>\n",
       "      <th>1</th>\n",
       "      <td>1000</td>\n",
       "    </tr>\n",
       "  </tbody>\n",
       "</table>\n",
       "</div>"
      ],
      "text/plain": [
       "      x\n",
       "0   600\n",
       "1  1000"
      ]
     },
     "execution_count": 46,
     "metadata": {},
     "output_type": "execute_result"
    },
    {
     "data": {
      "text/html": [
       "<div>\n",
       "<style scoped>\n",
       "    .dataframe tbody tr th:only-of-type {\n",
       "        vertical-align: middle;\n",
       "    }\n",
       "\n",
       "    .dataframe tbody tr th {\n",
       "        vertical-align: top;\n",
       "    }\n",
       "\n",
       "    .dataframe thead th {\n",
       "        text-align: right;\n",
       "    }\n",
       "</style>\n",
       "<table border=\"1\" class=\"dataframe\">\n",
       "  <thead>\n",
       "    <tr style=\"text-align: right;\">\n",
       "      <th></th>\n",
       "      <th>mean</th>\n",
       "      <th>mean_se</th>\n",
       "      <th>mean_ci_lower</th>\n",
       "      <th>mean_ci_upper</th>\n",
       "      <th>obs_ci_lower</th>\n",
       "      <th>obs_ci_upper</th>\n",
       "    </tr>\n",
       "  </thead>\n",
       "  <tbody>\n",
       "    <tr>\n",
       "      <th>0</th>\n",
       "      <td>7.452912</td>\n",
       "      <td>0.149676</td>\n",
       "      <td>6.978548</td>\n",
       "      <td>7.927276</td>\n",
       "      <td>6.042644</td>\n",
       "      <td>8.863180</td>\n",
       "    </tr>\n",
       "    <tr>\n",
       "      <th>1</th>\n",
       "      <td>11.457248</td>\n",
       "      <td>0.247964</td>\n",
       "      <td>10.671382</td>\n",
       "      <td>12.243113</td>\n",
       "      <td>9.914063</td>\n",
       "      <td>13.000432</td>\n",
       "    </tr>\n",
       "  </tbody>\n",
       "</table>\n",
       "</div>"
      ],
      "text/plain": [
       "        mean   mean_se  mean_ci_lower  mean_ci_upper  obs_ci_lower   \n",
       "0   7.452912  0.149676       6.978548       7.927276      6.042644  \\\n",
       "1  11.457248  0.247964      10.671382      12.243113      9.914063   \n",
       "\n",
       "   obs_ci_upper  \n",
       "0      8.863180  \n",
       "1     13.000432  "
      ]
     },
     "execution_count": 46,
     "metadata": {},
     "output_type": "execute_result"
    },
    {
     "data": {
      "text/plain": [
       "array([[ 6.97854768,  7.92727638],\n",
       "       [10.67138208, 12.24311333]])"
      ]
     },
     "execution_count": 46,
     "metadata": {},
     "output_type": "execute_result"
    },
    {
     "data": {
      "text/plain": [
       "0     7.452912\n",
       "1    11.457248\n",
       "dtype: float64"
      ]
     },
     "execution_count": 46,
     "metadata": {},
     "output_type": "execute_result"
    },
    {
     "name": "stdout",
     "output_type": "stream",
     "text": [
      "# --------------------- attributres of res.get_prediction -------------------- #\n",
      "pred.predicted_mean = array([ 7.45291203, 11.45724771])\n",
      "pred.var_pred_mean = array([0.02240293, 0.06148616])\n",
      "pred.var_resid = 0.17560560870217268\n",
      "pred.df = 10.0\n",
      "pred.se_mean = array([0.14967609, 0.24796403])\n",
      "pred.se_obs = array([0.44498151, 0.4869207 ])\n"
     ]
    }
   ],
   "source": [
    "print(\"# ---------------------------- get CI and PI for y --------------------------- #\")\n",
    "# create data to be predicted\n",
    "X_test = pd.DataFrame([[600],[1000]], columns=['x'])\n",
    "X_test\n",
    "pred = res.get_prediction(pd.DataFrame([[600],[1000]], columns=['x']))\n",
    "\n",
    "pred.summary_frame(alpha=0.01)\n",
    "pred.conf_int(alpha=0.01)\n",
    "\n",
    "# just show y^hat\n",
    "res.predict(pd.DataFrame([[600],[1000]], columns=['x']))\n",
    "\n",
    "\n",
    "print(\"# --------------------- attributres of res.get_prediction -------------------- #\")\n",
    "print(f\"{pred.predicted_mean = }\")\n",
    "print(f\"{pred.var_pred_mean = }\")\n",
    "print(f\"{pred.var_resid = }\")\n",
    "print(f\"{pred.df = }\")\n",
    "print(f\"{pred.se_mean = }\")\n",
    "print(f\"{pred.se_obs = }\")\n",
    "\n",
    "# 0.419053229 * np.sqrt(1/12 + (600-8589/12)**2/302836.25)"
   ]
  },
  {
   "attachments": {},
   "cell_type": "markdown",
   "metadata": {},
   "source": [
    "## multiple regression example from HKCC course"
   ]
  },
  {
   "cell_type": "code",
   "execution_count": 102,
   "metadata": {},
   "outputs": [
    {
     "data": {
      "text/html": [
       "<div>\n",
       "<style scoped>\n",
       "    .dataframe tbody tr th:only-of-type {\n",
       "        vertical-align: middle;\n",
       "    }\n",
       "\n",
       "    .dataframe tbody tr th {\n",
       "        vertical-align: top;\n",
       "    }\n",
       "\n",
       "    .dataframe thead th {\n",
       "        text-align: right;\n",
       "    }\n",
       "</style>\n",
       "<table border=\"1\" class=\"dataframe\">\n",
       "  <thead>\n",
       "    <tr style=\"text-align: right;\">\n",
       "      <th></th>\n",
       "      <th>x_1</th>\n",
       "      <th>x_2</th>\n",
       "      <th>y</th>\n",
       "    </tr>\n",
       "  </thead>\n",
       "  <tbody>\n",
       "    <tr>\n",
       "      <th>0</th>\n",
       "      <td>42</td>\n",
       "      <td>272</td>\n",
       "      <td>95</td>\n",
       "    </tr>\n",
       "    <tr>\n",
       "      <th>1</th>\n",
       "      <td>33</td>\n",
       "      <td>226</td>\n",
       "      <td>77</td>\n",
       "    </tr>\n",
       "    <tr>\n",
       "      <th>2</th>\n",
       "      <td>33</td>\n",
       "      <td>259</td>\n",
       "      <td>80</td>\n",
       "    </tr>\n",
       "    <tr>\n",
       "      <th>3</th>\n",
       "      <td>45</td>\n",
       "      <td>292</td>\n",
       "      <td>100</td>\n",
       "    </tr>\n",
       "    <tr>\n",
       "      <th>4</th>\n",
       "      <td>39</td>\n",
       "      <td>311</td>\n",
       "      <td>97</td>\n",
       "    </tr>\n",
       "    <tr>\n",
       "      <th>5</th>\n",
       "      <td>36</td>\n",
       "      <td>183</td>\n",
       "      <td>70</td>\n",
       "    </tr>\n",
       "    <tr>\n",
       "      <th>6</th>\n",
       "      <td>32</td>\n",
       "      <td>173</td>\n",
       "      <td>50</td>\n",
       "    </tr>\n",
       "    <tr>\n",
       "      <th>7</th>\n",
       "      <td>41</td>\n",
       "      <td>236</td>\n",
       "      <td>80</td>\n",
       "    </tr>\n",
       "    <tr>\n",
       "      <th>8</th>\n",
       "      <td>40</td>\n",
       "      <td>230</td>\n",
       "      <td>92</td>\n",
       "    </tr>\n",
       "    <tr>\n",
       "      <th>9</th>\n",
       "      <td>38</td>\n",
       "      <td>235</td>\n",
       "      <td>84</td>\n",
       "    </tr>\n",
       "  </tbody>\n",
       "</table>\n",
       "</div>"
      ],
      "text/plain": [
       "   x_1  x_2    y\n",
       "0   42  272   95\n",
       "1   33  226   77\n",
       "2   33  259   80\n",
       "3   45  292  100\n",
       "4   39  311   97\n",
       "5   36  183   70\n",
       "6   32  173   50\n",
       "7   41  236   80\n",
       "8   40  230   92\n",
       "9   38  235   84"
      ]
     },
     "execution_count": 102,
     "metadata": {},
     "output_type": "execute_result"
    },
    {
     "name": "stderr",
     "output_type": "stream",
     "text": [
      "/Users/whlin/miniforge3/envs/data_science/lib/python3.10/site-packages/scipy/stats/_stats_py.py:1736: UserWarning: kurtosistest only valid for n>=20 ... continuing anyway, n=10\n",
      "  warnings.warn(\"kurtosistest only valid for n>=20 ... continuing \"\n"
     ]
    },
    {
     "data": {
      "text/html": [
       "<table class=\"simpletable\">\n",
       "<caption>OLS Regression Results</caption>\n",
       "<tr>\n",
       "  <th>Dep. Variable:</th>        <td>y</td>     <th>  R-squared:         </th> <td>   0.873</td>\n",
       "</tr>\n",
       "<tr>\n",
       "  <th>Model:</th>               <td>OLS</td>    <th>  Adj. R-squared:    </th> <td>   0.837</td>\n",
       "</tr>\n",
       "<tr>\n",
       "  <th>No. Observations:</th>  <td>    10</td>   <th>  F-statistic:       </th> <td>   24.09</td>\n",
       "</tr>\n",
       "<tr>\n",
       "  <th>Covariance Type:</th>  <td>nonrobust</td> <th>  Prob (F-statistic):</th> <td>0.000727</td>\n",
       "</tr>\n",
       "</table>\n",
       "<table class=\"simpletable\">\n",
       "<tr>\n",
       "      <td></td>         <th>coef</th>     <th>std err</th>      <th>t</th>      <th>P>|t|</th>  <th>[0.025</th>    <th>0.975]</th>  \n",
       "</tr>\n",
       "<tr>\n",
       "  <th>Intercept</th> <td>  -22.9932</td> <td>   17.763</td> <td>   -1.294</td> <td> 0.237</td> <td>  -64.995</td> <td>   19.009</td>\n",
       "</tr>\n",
       "<tr>\n",
       "  <th>x_1</th>       <td>    1.3957</td> <td>    0.583</td> <td>    2.396</td> <td> 0.048</td> <td>    0.018</td> <td>    2.773</td>\n",
       "</tr>\n",
       "<tr>\n",
       "  <th>x_2</th>       <td>    0.2176</td> <td>    0.058</td> <td>    3.767</td> <td> 0.007</td> <td>    0.081</td> <td>    0.354</td>\n",
       "</tr>\n",
       "</table><br/><br/>Notes:<br/>[1] Standard Errors assume that the covariance matrix of the errors is correctly specified.<br/>[2] The condition number is large, 2.3e+03. This might indicate that there are<br/>strong multicollinearity or other numerical problems."
      ],
      "text/plain": [
       "<class 'statsmodels.iolib.summary.Summary'>\n",
       "\"\"\"\n",
       "                            OLS Regression Results                            \n",
       "==============================================================================\n",
       "Dep. Variable:                      y   R-squared:                       0.873\n",
       "Model:                            OLS   Adj. R-squared:                  0.837\n",
       "No. Observations:                  10   F-statistic:                     24.09\n",
       "Covariance Type:            nonrobust   Prob (F-statistic):           0.000727\n",
       "==============================================================================\n",
       "                 coef    std err          t      P>|t|      [0.025      0.975]\n",
       "------------------------------------------------------------------------------\n",
       "Intercept    -22.9932     17.763     -1.294      0.237     -64.995      19.009\n",
       "x_1            1.3957      0.583      2.396      0.048       0.018       2.773\n",
       "x_2            0.2176      0.058      3.767      0.007       0.081       0.354\n",
       "==============================================================================\n",
       "\n",
       "Notes:\n",
       "[1] Standard Errors assume that the covariance matrix of the errors is correctly specified.\n",
       "[2] The condition number is large, 2.3e+03. This might indicate that there are\n",
       "strong multicollinearity or other numerical problems.\n",
       "\"\"\""
      ]
     },
     "execution_count": 102,
     "metadata": {},
     "output_type": "execute_result"
    },
    {
     "data": {
      "text/plain": [
       "(array([12.83406161, 26.65411443]), array([0.00716253, 0.00086074]))"
      ]
     },
     "execution_count": 102,
     "metadata": {},
     "output_type": "execute_result"
    },
    {
     "data": {
      "text/html": [
       "<div>\n",
       "<style scoped>\n",
       "    .dataframe tbody tr th:only-of-type {\n",
       "        vertical-align: middle;\n",
       "    }\n",
       "\n",
       "    .dataframe tbody tr th {\n",
       "        vertical-align: top;\n",
       "    }\n",
       "\n",
       "    .dataframe thead th {\n",
       "        text-align: right;\n",
       "    }\n",
       "</style>\n",
       "<table border=\"1\" class=\"dataframe\">\n",
       "  <thead>\n",
       "    <tr style=\"text-align: right;\">\n",
       "      <th></th>\n",
       "      <th>df</th>\n",
       "      <th>sum_sq</th>\n",
       "      <th>mean_sq</th>\n",
       "      <th>F</th>\n",
       "      <th>PR(&gt;F)</th>\n",
       "    </tr>\n",
       "  </thead>\n",
       "  <tbody>\n",
       "    <tr>\n",
       "      <th>x_1</th>\n",
       "      <td>1.0</td>\n",
       "      <td>1244.655121</td>\n",
       "      <td>1244.655121</td>\n",
       "      <td>33.995784</td>\n",
       "      <td>0.000643</td>\n",
       "    </tr>\n",
       "    <tr>\n",
       "      <th>x_2</th>\n",
       "      <td>1.0</td>\n",
       "      <td>519.560577</td>\n",
       "      <td>519.560577</td>\n",
       "      <td>14.190975</td>\n",
       "      <td>0.007010</td>\n",
       "    </tr>\n",
       "    <tr>\n",
       "      <th>Residual</th>\n",
       "      <td>7.0</td>\n",
       "      <td>256.284302</td>\n",
       "      <td>36.612043</td>\n",
       "      <td>NaN</td>\n",
       "      <td>NaN</td>\n",
       "    </tr>\n",
       "  </tbody>\n",
       "</table>\n",
       "</div>"
      ],
      "text/plain": [
       "           df       sum_sq      mean_sq          F    PR(>F)\n",
       "x_1       1.0  1244.655121  1244.655121  33.995784  0.000643\n",
       "x_2       1.0   519.560577   519.560577  14.190975  0.007010\n",
       "Residual  7.0   256.284302    36.612043        NaN       NaN"
      ]
     },
     "execution_count": 102,
     "metadata": {},
     "output_type": "execute_result"
    },
    {
     "data": {
      "text/html": [
       "<div>\n",
       "<style scoped>\n",
       "    .dataframe tbody tr th:only-of-type {\n",
       "        vertical-align: middle;\n",
       "    }\n",
       "\n",
       "    .dataframe tbody tr th {\n",
       "        vertical-align: top;\n",
       "    }\n",
       "\n",
       "    .dataframe thead th {\n",
       "        text-align: right;\n",
       "    }\n",
       "</style>\n",
       "<table border=\"1\" class=\"dataframe\">\n",
       "  <thead>\n",
       "    <tr style=\"text-align: right;\">\n",
       "      <th></th>\n",
       "      <th>sum_sq</th>\n",
       "      <th>df</th>\n",
       "      <th>F</th>\n",
       "      <th>PR(&gt;F)</th>\n",
       "    </tr>\n",
       "  </thead>\n",
       "  <tbody>\n",
       "    <tr>\n",
       "      <th>x_1</th>\n",
       "      <td>210.153818</td>\n",
       "      <td>1.0</td>\n",
       "      <td>5.740019</td>\n",
       "      <td>0.047758</td>\n",
       "    </tr>\n",
       "    <tr>\n",
       "      <th>x_2</th>\n",
       "      <td>519.560577</td>\n",
       "      <td>1.0</td>\n",
       "      <td>14.190975</td>\n",
       "      <td>0.007010</td>\n",
       "    </tr>\n",
       "    <tr>\n",
       "      <th>Residual</th>\n",
       "      <td>256.284302</td>\n",
       "      <td>7.0</td>\n",
       "      <td>NaN</td>\n",
       "      <td>NaN</td>\n",
       "    </tr>\n",
       "  </tbody>\n",
       "</table>\n",
       "</div>"
      ],
      "text/plain": [
       "              sum_sq   df          F    PR(>F)\n",
       "x_1       210.153818  1.0   5.740019  0.047758\n",
       "x_2       519.560577  1.0  14.190975  0.007010\n",
       "Residual  256.284302  7.0        NaN       NaN"
      ]
     },
     "execution_count": 102,
     "metadata": {},
     "output_type": "execute_result"
    },
    {
     "data": {
      "text/html": [
       "<div>\n",
       "<style scoped>\n",
       "    .dataframe tbody tr th:only-of-type {\n",
       "        vertical-align: middle;\n",
       "    }\n",
       "\n",
       "    .dataframe tbody tr th {\n",
       "        vertical-align: top;\n",
       "    }\n",
       "\n",
       "    .dataframe thead th {\n",
       "        text-align: right;\n",
       "    }\n",
       "</style>\n",
       "<table border=\"1\" class=\"dataframe\">\n",
       "  <thead>\n",
       "    <tr style=\"text-align: right;\">\n",
       "      <th></th>\n",
       "      <th>sum_sq</th>\n",
       "      <th>df</th>\n",
       "      <th>F</th>\n",
       "      <th>PR(&gt;F)</th>\n",
       "    </tr>\n",
       "  </thead>\n",
       "  <tbody>\n",
       "    <tr>\n",
       "      <th>Intercept</th>\n",
       "      <td>61.349515</td>\n",
       "      <td>1.0</td>\n",
       "      <td>1.675665</td>\n",
       "      <td>0.236565</td>\n",
       "    </tr>\n",
       "    <tr>\n",
       "      <th>x_1</th>\n",
       "      <td>210.153818</td>\n",
       "      <td>1.0</td>\n",
       "      <td>5.740019</td>\n",
       "      <td>0.047758</td>\n",
       "    </tr>\n",
       "    <tr>\n",
       "      <th>x_2</th>\n",
       "      <td>519.560577</td>\n",
       "      <td>1.0</td>\n",
       "      <td>14.190975</td>\n",
       "      <td>0.007010</td>\n",
       "    </tr>\n",
       "    <tr>\n",
       "      <th>Residual</th>\n",
       "      <td>256.284302</td>\n",
       "      <td>7.0</td>\n",
       "      <td>NaN</td>\n",
       "      <td>NaN</td>\n",
       "    </tr>\n",
       "  </tbody>\n",
       "</table>\n",
       "</div>"
      ],
      "text/plain": [
       "               sum_sq   df          F    PR(>F)\n",
       "Intercept   61.349515  1.0   1.675665  0.236565\n",
       "x_1        210.153818  1.0   5.740019  0.047758\n",
       "x_2        519.560577  1.0  14.190975  0.007010\n",
       "Residual   256.284302  7.0        NaN       NaN"
      ]
     },
     "execution_count": 102,
     "metadata": {},
     "output_type": "execute_result"
    }
   ],
   "source": [
    "path = '/Users/whlin/Library/CloudStorage/OneDrive-HKUSTConnect/Documents/python/SEHH3164_Python/lecture notes/data/regression_2.csv'\n",
    "data = pd.read_csv(path).set_axis(['x_1','x_2','y'], axis=1)\n",
    "\n",
    "# standardization\n",
    "# data.iloc[:, :2] = (data.iloc[:, :2] - data.iloc[:, :2].mean()) / data.iloc[:, :2].std()\n",
    "data\n",
    "res = smf.ols('y ~ x_1 + x_2', data).fit()\n",
    "\n",
    "res.summary(slim=True, alpha=0.05)\n",
    "\n",
    "\n",
    "# data.insert(0, 'const', 1)\n",
    "f_regression(data.drop('y', axis=1), data.y)\n",
    "sm.stats.anova_lm(res, typ=1)\n",
    "sm.stats.anova_lm(res, typ=2)\n",
    "sm.stats.anova_lm(res, typ=3)\n",
    "\n",
    "\n",
    "# temp = res.get_prediction(pd.DataFrame(np.array([[35,250]]), columns=['x_1','x_2']))\n",
    "# temp.summary_frame(alpha=0.02)\n",
    "\n",
    "# res.mse_resid\n",
    "# res.mse_total\n",
    "# res.mse_model\n",
    "# res.mse_resid # mse \n",
    "# res.mse_total\n",
    "# res.ssr # sse\n",
    "# res.df_model\n",
    "# res.df_resid\n",
    "# 6.0508**2\n",
    "\n",
    "# anova for each variable \n",
    "# sm.stats.anova_lm(res, typ=1)\n",
    "# sm.stats.anova_lm(res, typ=2)\n",
    "# sm.stats.anova_lm(res, typ=3) # partial F-test for each parameter. We should use typ=3\n",
    "# sm.stats.anova_lm(smf.ols('y ~ x_2 ', data).fit(), res, typ=1)\n",
    "# sm.stats.anova_lm(smf.ols('y ~ 1 ', data).fit(), res, typ=1)\n",
    "# sm.stats.anova_lm(res, smf.ols('y ~ 1', data).fit(), typ=1)\n",
    "\n",
    "\n",
    "# n = 13\n",
    "# (73.814551 - 47.863639)/(47.863639/(n-5))\n",
    "# (2715.763077 - 906.336344) / (906.336344/(n-2))\n",
    "# (883.866917 - 74.762112 ) / (74.762112 / (n-3))"
   ]
  },
  {
   "cell_type": "code",
   "execution_count": 100,
   "metadata": {},
   "outputs": [
    {
     "data": {
      "text/plain": [
       "(array([12.83406161, 26.65411443]), array([0.00716253, 0.00086074]))"
      ]
     },
     "execution_count": 100,
     "metadata": {},
     "output_type": "execute_result"
    },
    {
     "data": {
      "text/html": [
       "<div>\n",
       "<style scoped>\n",
       "    .dataframe tbody tr th:only-of-type {\n",
       "        vertical-align: middle;\n",
       "    }\n",
       "\n",
       "    .dataframe tbody tr th {\n",
       "        vertical-align: top;\n",
       "    }\n",
       "\n",
       "    .dataframe thead th {\n",
       "        text-align: right;\n",
       "    }\n",
       "</style>\n",
       "<table border=\"1\" class=\"dataframe\">\n",
       "  <thead>\n",
       "    <tr style=\"text-align: right;\">\n",
       "      <th></th>\n",
       "      <th>df</th>\n",
       "      <th>sum_sq</th>\n",
       "      <th>mean_sq</th>\n",
       "      <th>F</th>\n",
       "      <th>PR(&gt;F)</th>\n",
       "    </tr>\n",
       "  </thead>\n",
       "  <tbody>\n",
       "    <tr>\n",
       "      <th>x_1</th>\n",
       "      <td>1.0</td>\n",
       "      <td>1244.655121</td>\n",
       "      <td>1244.655121</td>\n",
       "      <td>33.995784</td>\n",
       "      <td>0.000643</td>\n",
       "    </tr>\n",
       "    <tr>\n",
       "      <th>x_2</th>\n",
       "      <td>1.0</td>\n",
       "      <td>519.560577</td>\n",
       "      <td>519.560577</td>\n",
       "      <td>14.190975</td>\n",
       "      <td>0.007010</td>\n",
       "    </tr>\n",
       "    <tr>\n",
       "      <th>Residual</th>\n",
       "      <td>7.0</td>\n",
       "      <td>256.284302</td>\n",
       "      <td>36.612043</td>\n",
       "      <td>NaN</td>\n",
       "      <td>NaN</td>\n",
       "    </tr>\n",
       "  </tbody>\n",
       "</table>\n",
       "</div>"
      ],
      "text/plain": [
       "           df       sum_sq      mean_sq          F    PR(>F)\n",
       "x_1       1.0  1244.655121  1244.655121  33.995784  0.000643\n",
       "x_2       1.0   519.560577   519.560577  14.190975  0.007010\n",
       "Residual  7.0   256.284302    36.612043        NaN       NaN"
      ]
     },
     "execution_count": 100,
     "metadata": {},
     "output_type": "execute_result"
    },
    {
     "data": {
      "text/html": [
       "<div>\n",
       "<style scoped>\n",
       "    .dataframe tbody tr th:only-of-type {\n",
       "        vertical-align: middle;\n",
       "    }\n",
       "\n",
       "    .dataframe tbody tr th {\n",
       "        vertical-align: top;\n",
       "    }\n",
       "\n",
       "    .dataframe thead th {\n",
       "        text-align: right;\n",
       "    }\n",
       "</style>\n",
       "<table border=\"1\" class=\"dataframe\">\n",
       "  <thead>\n",
       "    <tr style=\"text-align: right;\">\n",
       "      <th></th>\n",
       "      <th>sum_sq</th>\n",
       "      <th>df</th>\n",
       "      <th>F</th>\n",
       "      <th>PR(&gt;F)</th>\n",
       "    </tr>\n",
       "  </thead>\n",
       "  <tbody>\n",
       "    <tr>\n",
       "      <th>x_1</th>\n",
       "      <td>210.153818</td>\n",
       "      <td>1.0</td>\n",
       "      <td>5.740019</td>\n",
       "      <td>0.047758</td>\n",
       "    </tr>\n",
       "    <tr>\n",
       "      <th>x_2</th>\n",
       "      <td>519.560577</td>\n",
       "      <td>1.0</td>\n",
       "      <td>14.190975</td>\n",
       "      <td>0.007010</td>\n",
       "    </tr>\n",
       "    <tr>\n",
       "      <th>Residual</th>\n",
       "      <td>256.284302</td>\n",
       "      <td>7.0</td>\n",
       "      <td>NaN</td>\n",
       "      <td>NaN</td>\n",
       "    </tr>\n",
       "  </tbody>\n",
       "</table>\n",
       "</div>"
      ],
      "text/plain": [
       "              sum_sq   df          F    PR(>F)\n",
       "x_1       210.153818  1.0   5.740019  0.047758\n",
       "x_2       519.560577  1.0  14.190975  0.007010\n",
       "Residual  256.284302  7.0        NaN       NaN"
      ]
     },
     "execution_count": 100,
     "metadata": {},
     "output_type": "execute_result"
    },
    {
     "data": {
      "text/html": [
       "<div>\n",
       "<style scoped>\n",
       "    .dataframe tbody tr th:only-of-type {\n",
       "        vertical-align: middle;\n",
       "    }\n",
       "\n",
       "    .dataframe tbody tr th {\n",
       "        vertical-align: top;\n",
       "    }\n",
       "\n",
       "    .dataframe thead th {\n",
       "        text-align: right;\n",
       "    }\n",
       "</style>\n",
       "<table border=\"1\" class=\"dataframe\">\n",
       "  <thead>\n",
       "    <tr style=\"text-align: right;\">\n",
       "      <th></th>\n",
       "      <th>sum_sq</th>\n",
       "      <th>df</th>\n",
       "      <th>F</th>\n",
       "      <th>PR(&gt;F)</th>\n",
       "    </tr>\n",
       "  </thead>\n",
       "  <tbody>\n",
       "    <tr>\n",
       "      <th>Intercept</th>\n",
       "      <td>61.349515</td>\n",
       "      <td>1.0</td>\n",
       "      <td>1.675665</td>\n",
       "      <td>0.236565</td>\n",
       "    </tr>\n",
       "    <tr>\n",
       "      <th>x_1</th>\n",
       "      <td>210.153818</td>\n",
       "      <td>1.0</td>\n",
       "      <td>5.740019</td>\n",
       "      <td>0.047758</td>\n",
       "    </tr>\n",
       "    <tr>\n",
       "      <th>x_2</th>\n",
       "      <td>519.560577</td>\n",
       "      <td>1.0</td>\n",
       "      <td>14.190975</td>\n",
       "      <td>0.007010</td>\n",
       "    </tr>\n",
       "    <tr>\n",
       "      <th>Residual</th>\n",
       "      <td>256.284302</td>\n",
       "      <td>7.0</td>\n",
       "      <td>NaN</td>\n",
       "      <td>NaN</td>\n",
       "    </tr>\n",
       "  </tbody>\n",
       "</table>\n",
       "</div>"
      ],
      "text/plain": [
       "               sum_sq   df          F    PR(>F)\n",
       "Intercept   61.349515  1.0   1.675665  0.236565\n",
       "x_1        210.153818  1.0   5.740019  0.047758\n",
       "x_2        519.560577  1.0  14.190975  0.007010\n",
       "Residual   256.284302  7.0        NaN       NaN"
      ]
     },
     "execution_count": 100,
     "metadata": {},
     "output_type": "execute_result"
    }
   ],
   "source": [
    "\n",
    "f_regression(data.drop('y', axis=1), data.y)\n",
    "sm.stats.anova_lm(res, typ=1)\n",
    "sm.stats.anova_lm(res, typ=2)\n",
    "sm.stats.anova_lm(res, typ=3)\n"
   ]
  },
  {
   "attachments": {},
   "cell_type": "markdown",
   "metadata": {},
   "source": [
    "## simulated example"
   ]
  },
  {
   "cell_type": "code",
   "execution_count": 83,
   "metadata": {},
   "outputs": [
    {
     "data": {
      "text/html": [
       "<div>\n",
       "<style scoped>\n",
       "    .dataframe tbody tr th:only-of-type {\n",
       "        vertical-align: middle;\n",
       "    }\n",
       "\n",
       "    .dataframe tbody tr th {\n",
       "        vertical-align: top;\n",
       "    }\n",
       "\n",
       "    .dataframe thead th {\n",
       "        text-align: right;\n",
       "    }\n",
       "</style>\n",
       "<table border=\"1\" class=\"dataframe\">\n",
       "  <thead>\n",
       "    <tr style=\"text-align: right;\">\n",
       "      <th></th>\n",
       "      <th>x_1</th>\n",
       "      <th>x_2</th>\n",
       "      <th>x_3</th>\n",
       "      <th>y</th>\n",
       "    </tr>\n",
       "  </thead>\n",
       "  <tbody>\n",
       "    <tr>\n",
       "      <th>0</th>\n",
       "      <td>-0.416758</td>\n",
       "      <td>-0.056267</td>\n",
       "      <td>-2.136196</td>\n",
       "      <td>2.874142</td>\n",
       "    </tr>\n",
       "    <tr>\n",
       "      <th>1</th>\n",
       "      <td>1.640271</td>\n",
       "      <td>-1.793436</td>\n",
       "      <td>-0.841747</td>\n",
       "      <td>3.376315</td>\n",
       "    </tr>\n",
       "    <tr>\n",
       "      <th>2</th>\n",
       "      <td>0.502881</td>\n",
       "      <td>-1.245288</td>\n",
       "      <td>-1.057952</td>\n",
       "      <td>-4.197548</td>\n",
       "    </tr>\n",
       "    <tr>\n",
       "      <th>3</th>\n",
       "      <td>-0.909008</td>\n",
       "      <td>0.551454</td>\n",
       "      <td>2.292208</td>\n",
       "      <td>1.208532</td>\n",
       "    </tr>\n",
       "    <tr>\n",
       "      <th>4</th>\n",
       "      <td>0.041539</td>\n",
       "      <td>-1.117925</td>\n",
       "      <td>0.539058</td>\n",
       "      <td>2.182939</td>\n",
       "    </tr>\n",
       "    <tr>\n",
       "      <th>...</th>\n",
       "      <td>...</td>\n",
       "      <td>...</td>\n",
       "      <td>...</td>\n",
       "      <td>...</td>\n",
       "    </tr>\n",
       "    <tr>\n",
       "      <th>95</th>\n",
       "      <td>-0.139292</td>\n",
       "      <td>0.032565</td>\n",
       "      <td>-1.640560</td>\n",
       "      <td>3.103446</td>\n",
       "    </tr>\n",
       "    <tr>\n",
       "      <th>96</th>\n",
       "      <td>-1.156699</td>\n",
       "      <td>1.234035</td>\n",
       "      <td>1.028185</td>\n",
       "      <td>2.270706</td>\n",
       "    </tr>\n",
       "    <tr>\n",
       "      <th>97</th>\n",
       "      <td>-0.721880</td>\n",
       "      <td>1.933157</td>\n",
       "      <td>-1.070796</td>\n",
       "      <td>2.690953</td>\n",
       "    </tr>\n",
       "    <tr>\n",
       "      <th>98</th>\n",
       "      <td>-0.571382</td>\n",
       "      <td>0.292432</td>\n",
       "      <td>-1.195000</td>\n",
       "      <td>0.112642</td>\n",
       "    </tr>\n",
       "    <tr>\n",
       "      <th>99</th>\n",
       "      <td>-0.487931</td>\n",
       "      <td>-0.173071</td>\n",
       "      <td>-0.395346</td>\n",
       "      <td>4.337054</td>\n",
       "    </tr>\n",
       "  </tbody>\n",
       "</table>\n",
       "<p>100 rows × 4 columns</p>\n",
       "</div>"
      ],
      "text/plain": [
       "         x_1       x_2       x_3         y\n",
       "0  -0.416758 -0.056267 -2.136196  2.874142\n",
       "1   1.640271 -1.793436 -0.841747  3.376315\n",
       "2   0.502881 -1.245288 -1.057952 -4.197548\n",
       "3  -0.909008  0.551454  2.292208  1.208532\n",
       "4   0.041539 -1.117925  0.539058  2.182939\n",
       "..       ...       ...       ...       ...\n",
       "95 -0.139292  0.032565 -1.640560  3.103446\n",
       "96 -1.156699  1.234035  1.028185  2.270706\n",
       "97 -0.721880  1.933157 -1.070796  2.690953\n",
       "98 -0.571382  0.292432 -1.195000  0.112642\n",
       "99 -0.487931 -0.173071 -0.395346  4.337054\n",
       "\n",
       "[100 rows x 4 columns]"
      ]
     },
     "execution_count": 83,
     "metadata": {},
     "output_type": "execute_result"
    },
    {
     "data": {
      "text/html": [
       "<table class=\"simpletable\">\n",
       "<caption>OLS Regression Results</caption>\n",
       "<tr>\n",
       "  <th>Dep. Variable:</th>        <td>y</td>     <th>  R-squared:         </th> <td>   0.061</td>\n",
       "</tr>\n",
       "<tr>\n",
       "  <th>Model:</th>               <td>OLS</td>    <th>  Adj. R-squared:    </th> <td>   0.032</td>\n",
       "</tr>\n",
       "<tr>\n",
       "  <th>No. Observations:</th>  <td>   100</td>   <th>  F-statistic:       </th> <td>   2.094</td>\n",
       "</tr>\n",
       "<tr>\n",
       "  <th>Covariance Type:</th>  <td>nonrobust</td> <th>  Prob (F-statistic):</th>  <td> 0.106</td> \n",
       "</tr>\n",
       "</table>\n",
       "<table class=\"simpletable\">\n",
       "<tr>\n",
       "      <td></td>         <th>coef</th>     <th>std err</th>      <th>t</th>      <th>P>|t|</th>  <th>[0.025</th>    <th>0.975]</th>  \n",
       "</tr>\n",
       "<tr>\n",
       "  <th>Intercept</th> <td>    2.8984</td> <td>    0.402</td> <td>    7.209</td> <td> 0.000</td> <td>    2.100</td> <td>    3.696</td>\n",
       "</tr>\n",
       "<tr>\n",
       "  <th>x_1</th>       <td>    0.6629</td> <td>    0.367</td> <td>    1.806</td> <td> 0.074</td> <td>   -0.066</td> <td>    1.392</td>\n",
       "</tr>\n",
       "<tr>\n",
       "  <th>x_2</th>       <td>    0.5498</td> <td>    0.398</td> <td>    1.382</td> <td> 0.170</td> <td>   -0.240</td> <td>    1.340</td>\n",
       "</tr>\n",
       "<tr>\n",
       "  <th>x_3</th>       <td>    0.3764</td> <td>    0.395</td> <td>    0.954</td> <td> 0.343</td> <td>   -0.407</td> <td>    1.160</td>\n",
       "</tr>\n",
       "</table><br/><br/>Notes:<br/>[1] Standard Errors assume that the covariance matrix of the errors is correctly specified."
      ],
      "text/plain": [
       "<class 'statsmodels.iolib.summary.Summary'>\n",
       "\"\"\"\n",
       "                            OLS Regression Results                            \n",
       "==============================================================================\n",
       "Dep. Variable:                      y   R-squared:                       0.061\n",
       "Model:                            OLS   Adj. R-squared:                  0.032\n",
       "No. Observations:                 100   F-statistic:                     2.094\n",
       "Covariance Type:            nonrobust   Prob (F-statistic):              0.106\n",
       "==============================================================================\n",
       "                 coef    std err          t      P>|t|      [0.025      0.975]\n",
       "------------------------------------------------------------------------------\n",
       "Intercept      2.8984      0.402      7.209      0.000       2.100       3.696\n",
       "x_1            0.6629      0.367      1.806      0.074      -0.066       1.392\n",
       "x_2            0.5498      0.398      1.382      0.170      -0.240       1.340\n",
       "x_3            0.3764      0.395      0.954      0.343      -0.407       1.160\n",
       "==============================================================================\n",
       "\n",
       "Notes:\n",
       "[1] Standard Errors assume that the covariance matrix of the errors is correctly specified.\n",
       "\"\"\""
      ]
     },
     "execution_count": 83,
     "metadata": {},
     "output_type": "execute_result"
    },
    {
     "data": {
      "text/html": [
       "<table class=\"simpletable\">\n",
       "<caption>OLS Regression Results</caption>\n",
       "<tr>\n",
       "  <th>Dep. Variable:</th>            <td>y</td>        <th>  R-squared:         </th> <td>   0.030</td>\n",
       "</tr>\n",
       "<tr>\n",
       "  <th>Model:</th>                   <td>OLS</td>       <th>  Adj. R-squared:    </th> <td>   0.010</td>\n",
       "</tr>\n",
       "<tr>\n",
       "  <th>Method:</th>             <td>Least Squares</td>  <th>  F-statistic:       </th> <td>   1.476</td>\n",
       "</tr>\n",
       "<tr>\n",
       "  <th>Date:</th>             <td>Sun, 11 Jun 2023</td> <th>  Prob (F-statistic):</th>  <td> 0.234</td> \n",
       "</tr>\n",
       "<tr>\n",
       "  <th>Time:</th>                 <td>16:08:16</td>     <th>  Log-Likelihood:    </th> <td> -279.83</td>\n",
       "</tr>\n",
       "<tr>\n",
       "  <th>No. Observations:</th>      <td>   100</td>      <th>  AIC:               </th> <td>   565.7</td>\n",
       "</tr>\n",
       "<tr>\n",
       "  <th>Df Residuals:</th>          <td>    97</td>      <th>  BIC:               </th> <td>   573.5</td>\n",
       "</tr>\n",
       "<tr>\n",
       "  <th>Df Model:</th>              <td>     2</td>      <th>                     </th>     <td> </td>   \n",
       "</tr>\n",
       "<tr>\n",
       "  <th>Covariance Type:</th>      <td>nonrobust</td>    <th>                     </th>     <td> </td>   \n",
       "</tr>\n",
       "</table>\n",
       "<table class=\"simpletable\">\n",
       "<tr>\n",
       "      <td></td>         <th>coef</th>     <th>std err</th>      <th>t</th>      <th>P>|t|</th>  <th>[0.025</th>    <th>0.975]</th>  \n",
       "</tr>\n",
       "<tr>\n",
       "  <th>Intercept</th> <td>    2.8333</td> <td>    0.405</td> <td>    6.994</td> <td> 0.000</td> <td>    2.029</td> <td>    3.637</td>\n",
       "</tr>\n",
       "<tr>\n",
       "  <th>x_2</th>       <td>    0.4797</td> <td>    0.401</td> <td>    1.197</td> <td> 0.234</td> <td>   -0.316</td> <td>    1.275</td>\n",
       "</tr>\n",
       "<tr>\n",
       "  <th>x_3</th>       <td>    0.4882</td> <td>    0.394</td> <td>    1.238</td> <td> 0.219</td> <td>   -0.294</td> <td>    1.271</td>\n",
       "</tr>\n",
       "</table>\n",
       "<table class=\"simpletable\">\n",
       "<tr>\n",
       "  <th>Omnibus:</th>       <td> 2.151</td> <th>  Durbin-Watson:     </th> <td>   1.936</td>\n",
       "</tr>\n",
       "<tr>\n",
       "  <th>Prob(Omnibus):</th> <td> 0.341</td> <th>  Jarque-Bera (JB):  </th> <td>   1.757</td>\n",
       "</tr>\n",
       "<tr>\n",
       "  <th>Skew:</th>          <td> 0.321</td> <th>  Prob(JB):          </th> <td>   0.415</td>\n",
       "</tr>\n",
       "<tr>\n",
       "  <th>Kurtosis:</th>      <td> 3.100</td> <th>  Cond. No.          </th> <td>    1.10</td>\n",
       "</tr>\n",
       "</table><br/><br/>Notes:<br/>[1] Standard Errors assume that the covariance matrix of the errors is correctly specified."
      ],
      "text/plain": [
       "<class 'statsmodels.iolib.summary.Summary'>\n",
       "\"\"\"\n",
       "                            OLS Regression Results                            \n",
       "==============================================================================\n",
       "Dep. Variable:                      y   R-squared:                       0.030\n",
       "Model:                            OLS   Adj. R-squared:                  0.010\n",
       "Method:                 Least Squares   F-statistic:                     1.476\n",
       "Date:                Sun, 11 Jun 2023   Prob (F-statistic):              0.234\n",
       "Time:                        16:08:16   Log-Likelihood:                -279.83\n",
       "No. Observations:                 100   AIC:                             565.7\n",
       "Df Residuals:                      97   BIC:                             573.5\n",
       "Df Model:                           2                                         \n",
       "Covariance Type:            nonrobust                                         \n",
       "==============================================================================\n",
       "                 coef    std err          t      P>|t|      [0.025      0.975]\n",
       "------------------------------------------------------------------------------\n",
       "Intercept      2.8333      0.405      6.994      0.000       2.029       3.637\n",
       "x_2            0.4797      0.401      1.197      0.234      -0.316       1.275\n",
       "x_3            0.4882      0.394      1.238      0.219      -0.294       1.271\n",
       "==============================================================================\n",
       "Omnibus:                        2.151   Durbin-Watson:                   1.936\n",
       "Prob(Omnibus):                  0.341   Jarque-Bera (JB):                1.757\n",
       "Skew:                           0.321   Prob(JB):                        0.415\n",
       "Kurtosis:                       3.100   Cond. No.                         1.10\n",
       "==============================================================================\n",
       "\n",
       "Notes:\n",
       "[1] Standard Errors assume that the covariance matrix of the errors is correctly specified.\n",
       "\"\"\""
      ]
     },
     "execution_count": 83,
     "metadata": {},
     "output_type": "execute_result"
    },
    {
     "data": {
      "text/html": [
       "<div>\n",
       "<style scoped>\n",
       "    .dataframe tbody tr th:only-of-type {\n",
       "        vertical-align: middle;\n",
       "    }\n",
       "\n",
       "    .dataframe tbody tr th {\n",
       "        vertical-align: top;\n",
       "    }\n",
       "\n",
       "    .dataframe thead th {\n",
       "        text-align: right;\n",
       "    }\n",
       "</style>\n",
       "<table border=\"1\" class=\"dataframe\">\n",
       "  <thead>\n",
       "    <tr style=\"text-align: right;\">\n",
       "      <th></th>\n",
       "      <th>df_resid</th>\n",
       "      <th>ssr</th>\n",
       "      <th>df_diff</th>\n",
       "      <th>ss_diff</th>\n",
       "      <th>F</th>\n",
       "      <th>Pr(&gt;F)</th>\n",
       "    </tr>\n",
       "  </thead>\n",
       "  <tbody>\n",
       "    <tr>\n",
       "      <th>0</th>\n",
       "      <td>96.0</td>\n",
       "      <td>1526.256875</td>\n",
       "      <td>0.0</td>\n",
       "      <td>NaN</td>\n",
       "      <td>NaN</td>\n",
       "      <td>NaN</td>\n",
       "    </tr>\n",
       "    <tr>\n",
       "      <th>1</th>\n",
       "      <td>97.0</td>\n",
       "      <td>1578.117419</td>\n",
       "      <td>-1.0</td>\n",
       "      <td>-51.860544</td>\n",
       "      <td>3.187642</td>\n",
       "      <td>NaN</td>\n",
       "    </tr>\n",
       "  </tbody>\n",
       "</table>\n",
       "</div>"
      ],
      "text/plain": [
       "   df_resid          ssr  df_diff    ss_diff         F  Pr(>F)\n",
       "0      96.0  1526.256875      0.0        NaN       NaN     NaN\n",
       "1      97.0  1578.117419     -1.0 -51.860544  3.187642     NaN"
      ]
     },
     "execution_count": 83,
     "metadata": {},
     "output_type": "execute_result"
    },
    {
     "data": {
      "text/html": [
       "<div>\n",
       "<style scoped>\n",
       "    .dataframe tbody tr th:only-of-type {\n",
       "        vertical-align: middle;\n",
       "    }\n",
       "\n",
       "    .dataframe tbody tr th {\n",
       "        vertical-align: top;\n",
       "    }\n",
       "\n",
       "    .dataframe thead th {\n",
       "        text-align: right;\n",
       "    }\n",
       "</style>\n",
       "<table border=\"1\" class=\"dataframe\">\n",
       "  <thead>\n",
       "    <tr style=\"text-align: right;\">\n",
       "      <th></th>\n",
       "      <th>sum_sq</th>\n",
       "      <th>df</th>\n",
       "      <th>F</th>\n",
       "      <th>PR(&gt;F)</th>\n",
       "    </tr>\n",
       "  </thead>\n",
       "  <tbody>\n",
       "    <tr>\n",
       "      <th>Intercept</th>\n",
       "      <td>826.235605</td>\n",
       "      <td>1.0</td>\n",
       "      <td>51.969376</td>\n",
       "      <td>1.287706e-10</td>\n",
       "    </tr>\n",
       "    <tr>\n",
       "      <th>x_1</th>\n",
       "      <td>51.860544</td>\n",
       "      <td>1.0</td>\n",
       "      <td>3.261975</td>\n",
       "      <td>7.403730e-02</td>\n",
       "    </tr>\n",
       "    <tr>\n",
       "      <th>x_2</th>\n",
       "      <td>30.347473</td>\n",
       "      <td>1.0</td>\n",
       "      <td>1.908825</td>\n",
       "      <td>1.703008e-01</td>\n",
       "    </tr>\n",
       "    <tr>\n",
       "      <th>x_3</th>\n",
       "      <td>14.461867</td>\n",
       "      <td>1.0</td>\n",
       "      <td>0.909637</td>\n",
       "      <td>3.426062e-01</td>\n",
       "    </tr>\n",
       "    <tr>\n",
       "      <th>Residual</th>\n",
       "      <td>1526.256875</td>\n",
       "      <td>96.0</td>\n",
       "      <td>NaN</td>\n",
       "      <td>NaN</td>\n",
       "    </tr>\n",
       "  </tbody>\n",
       "</table>\n",
       "</div>"
      ],
      "text/plain": [
       "                sum_sq    df          F        PR(>F)\n",
       "Intercept   826.235605   1.0  51.969376  1.287706e-10\n",
       "x_1          51.860544   1.0   3.261975  7.403730e-02\n",
       "x_2          30.347473   1.0   1.908825  1.703008e-01\n",
       "x_3          14.461867   1.0   0.909637  3.426062e-01\n",
       "Residual   1526.256875  96.0        NaN           NaN"
      ]
     },
     "execution_count": 83,
     "metadata": {},
     "output_type": "execute_result"
    }
   ],
   "source": [
    "np.random.seed(2)\n",
    "n_samples = 100\n",
    "n_coef = 3\n",
    "X = pd.DataFrame(np.random.normal(size=(n_samples,n_coef)), columns=[f\"x_{i+1}\" for i in range(n_coef)])\n",
    "X = X.assign(y=lambda X: X.sum(axis=1) + np.random.normal(loc=2, scale=4, size=n_samples))\n",
    "X\n",
    "full = smf.ols(\"y ~ x_1 + x_2 + x_3\", data=X).fit()\n",
    "full.summary(slim=True)\n",
    "L1 = smf.ols(\"y ~ x_2 + x_3\", data=X).fit()\n",
    "\n",
    "L1.summary()\n",
    "\n",
    "sm.stats.anova_lm(full, L1)\n",
    "sm.stats.anova_lm(full, typ=3)\n",
    "\n",
    "# full"
   ]
  },
  {
   "cell_type": "code",
   "execution_count": 90,
   "metadata": {},
   "outputs": [
    {
     "data": {
      "text/plain": [
       "(array([3.40677556, 1.41077671, 1.51142805]),\n",
       " array([0.06794816, 0.23779827, 0.22186487]))"
      ]
     },
     "execution_count": 90,
     "metadata": {},
     "output_type": "execute_result"
    }
   ],
   "source": [
    "# X.drop('y', axis=1)\n",
    "# X\n",
    "# X.y\n",
    "f_regression(X.drop('y', axis=1), X.y)"
   ]
  },
  {
   "attachments": {},
   "cell_type": "markdown",
   "metadata": {},
   "source": [
    "## regression on tips dataset"
   ]
  },
  {
   "cell_type": "code",
   "execution_count": 131,
   "metadata": {},
   "outputs": [
    {
     "data": {
      "text/html": [
       "<table class=\"simpletable\">\n",
       "<caption>OLS Regression Results</caption>\n",
       "<tr>\n",
       "  <th>Dep. Variable:</th>           <td>tip</td>       <th>  R-squared:         </th> <td>   0.468</td>\n",
       "</tr>\n",
       "<tr>\n",
       "  <th>Model:</th>                   <td>OLS</td>       <th>  Adj. R-squared:    </th> <td>   0.463</td>\n",
       "</tr>\n",
       "<tr>\n",
       "  <th>Method:</th>             <td>Least Squares</td>  <th>  F-statistic:       </th> <td>   105.9</td>\n",
       "</tr>\n",
       "<tr>\n",
       "  <th>Date:</th>             <td>Tue, 06 Jun 2023</td> <th>  Prob (F-statistic):</th> <td>9.67e-34</td>\n",
       "</tr>\n",
       "<tr>\n",
       "  <th>Time:</th>                 <td>18:01:26</td>     <th>  Log-Likelihood:    </th> <td> -347.99</td>\n",
       "</tr>\n",
       "<tr>\n",
       "  <th>No. Observations:</th>      <td>   244</td>      <th>  AIC:               </th> <td>   702.0</td>\n",
       "</tr>\n",
       "<tr>\n",
       "  <th>Df Residuals:</th>          <td>   241</td>      <th>  BIC:               </th> <td>   712.5</td>\n",
       "</tr>\n",
       "<tr>\n",
       "  <th>Df Model:</th>              <td>     2</td>      <th>                     </th>     <td> </td>   \n",
       "</tr>\n",
       "<tr>\n",
       "  <th>Covariance Type:</th>      <td>nonrobust</td>    <th>                     </th>     <td> </td>   \n",
       "</tr>\n",
       "</table>\n",
       "<table class=\"simpletable\">\n",
       "<tr>\n",
       "       <td></td>         <th>coef</th>     <th>std err</th>      <th>t</th>      <th>P>|t|</th>  <th>[0.025</th>    <th>0.975]</th>  \n",
       "</tr>\n",
       "<tr>\n",
       "  <th>Intercept</th>  <td>    0.6689</td> <td>    0.194</td> <td>    3.455</td> <td> 0.001</td> <td>    0.288</td> <td>    1.050</td>\n",
       "</tr>\n",
       "<tr>\n",
       "  <th>total_bill</th> <td>    0.0927</td> <td>    0.009</td> <td>   10.172</td> <td> 0.000</td> <td>    0.075</td> <td>    0.111</td>\n",
       "</tr>\n",
       "<tr>\n",
       "  <th>size</th>       <td>    0.1926</td> <td>    0.085</td> <td>    2.258</td> <td> 0.025</td> <td>    0.025</td> <td>    0.361</td>\n",
       "</tr>\n",
       "</table>\n",
       "<table class=\"simpletable\">\n",
       "<tr>\n",
       "  <th>Omnibus:</th>       <td>24.753</td> <th>  Durbin-Watson:     </th> <td>   2.100</td>\n",
       "</tr>\n",
       "<tr>\n",
       "  <th>Prob(Omnibus):</th> <td> 0.000</td> <th>  Jarque-Bera (JB):  </th> <td>  46.169</td>\n",
       "</tr>\n",
       "<tr>\n",
       "  <th>Skew:</th>          <td> 0.545</td> <th>  Prob(JB):          </th> <td>9.43e-11</td>\n",
       "</tr>\n",
       "<tr>\n",
       "  <th>Kurtosis:</th>      <td> 4.831</td> <th>  Cond. No.          </th> <td>    67.6</td>\n",
       "</tr>\n",
       "</table><br/><br/>Notes:<br/>[1] Standard Errors assume that the covariance matrix of the errors is correctly specified."
      ],
      "text/plain": [
       "<class 'statsmodels.iolib.summary.Summary'>\n",
       "\"\"\"\n",
       "                            OLS Regression Results                            \n",
       "==============================================================================\n",
       "Dep. Variable:                    tip   R-squared:                       0.468\n",
       "Model:                            OLS   Adj. R-squared:                  0.463\n",
       "Method:                 Least Squares   F-statistic:                     105.9\n",
       "Date:                Tue, 06 Jun 2023   Prob (F-statistic):           9.67e-34\n",
       "Time:                        18:01:26   Log-Likelihood:                -347.99\n",
       "No. Observations:                 244   AIC:                             702.0\n",
       "Df Residuals:                     241   BIC:                             712.5\n",
       "Df Model:                           2                                         \n",
       "Covariance Type:            nonrobust                                         \n",
       "==============================================================================\n",
       "                 coef    std err          t      P>|t|      [0.025      0.975]\n",
       "------------------------------------------------------------------------------\n",
       "Intercept      0.6689      0.194      3.455      0.001       0.288       1.050\n",
       "total_bill     0.0927      0.009     10.172      0.000       0.075       0.111\n",
       "size           0.1926      0.085      2.258      0.025       0.025       0.361\n",
       "==============================================================================\n",
       "Omnibus:                       24.753   Durbin-Watson:                   2.100\n",
       "Prob(Omnibus):                  0.000   Jarque-Bera (JB):               46.169\n",
       "Skew:                           0.545   Prob(JB):                     9.43e-11\n",
       "Kurtosis:                       4.831   Cond. No.                         67.6\n",
       "==============================================================================\n",
       "\n",
       "Notes:\n",
       "[1] Standard Errors assume that the covariance matrix of the errors is correctly specified.\n",
       "\"\"\""
      ]
     },
     "execution_count": 131,
     "metadata": {},
     "output_type": "execute_result"
    },
    {
     "data": {
      "text/plain": [
       "3.447938144329897"
      ]
     },
     "execution_count": 131,
     "metadata": {},
     "output_type": "execute_result"
    },
    {
     "data": {
      "text/plain": [
       "0.001"
      ]
     },
     "execution_count": 131,
     "metadata": {},
     "output_type": "execute_result"
    },
    {
     "data": {
      "text/plain": [
       "0.28675586397789704"
      ]
     },
     "execution_count": 131,
     "metadata": {},
     "output_type": "execute_result"
    },
    {
     "data": {
      "text/plain": [
       "1.051044136022103"
      ]
     },
     "execution_count": 131,
     "metadata": {},
     "output_type": "execute_result"
    },
    {
     "data": {
      "text/plain": [
       "array([2.62933992, 2.20539403])"
      ]
     },
     "execution_count": 131,
     "metadata": {},
     "output_type": "execute_result"
    },
    {
     "data": {
      "text/html": [
       "<div>\n",
       "<style scoped>\n",
       "    .dataframe tbody tr th:only-of-type {\n",
       "        vertical-align: middle;\n",
       "    }\n",
       "\n",
       "    .dataframe tbody tr th {\n",
       "        vertical-align: top;\n",
       "    }\n",
       "\n",
       "    .dataframe thead th {\n",
       "        text-align: right;\n",
       "    }\n",
       "</style>\n",
       "<table border=\"1\" class=\"dataframe\">\n",
       "  <thead>\n",
       "    <tr style=\"text-align: right;\">\n",
       "      <th></th>\n",
       "      <th>mean</th>\n",
       "      <th>mean_se</th>\n",
       "      <th>mean_ci_lower</th>\n",
       "      <th>mean_ci_upper</th>\n",
       "      <th>obs_ci_lower</th>\n",
       "      <th>obs_ci_upper</th>\n",
       "    </tr>\n",
       "  </thead>\n",
       "  <tbody>\n",
       "    <tr>\n",
       "      <th>0</th>\n",
       "      <td>2.629340</td>\n",
       "      <td>0.075758</td>\n",
       "      <td>2.480108</td>\n",
       "      <td>2.778572</td>\n",
       "      <td>0.627309</td>\n",
       "      <td>4.631371</td>\n",
       "    </tr>\n",
       "    <tr>\n",
       "      <th>1</th>\n",
       "      <td>2.205394</td>\n",
       "      <td>0.129432</td>\n",
       "      <td>1.950431</td>\n",
       "      <td>2.460357</td>\n",
       "      <td>0.192718</td>\n",
       "      <td>4.218070</td>\n",
       "    </tr>\n",
       "  </tbody>\n",
       "</table>\n",
       "</div>"
      ],
      "text/plain": [
       "       mean   mean_se  mean_ci_lower  mean_ci_upper  obs_ci_lower   \n",
       "0  2.629340  0.075758       2.480108       2.778572      0.627309  \\\n",
       "1  2.205394  0.129432       1.950431       2.460357      0.192718   \n",
       "\n",
       "   obs_ci_upper  \n",
       "0      4.631371  \n",
       "1      4.218070  "
      ]
     },
     "execution_count": 131,
     "metadata": {},
     "output_type": "execute_result"
    }
   ],
   "source": [
    "res = smf.ols('tip ~ total_bill + size', data=tips).fit()\n",
    "res.summary()\n",
    "\n",
    "# \"\"\"\n",
    "# t = (coef - 0) / std err\n",
    "# P>|t| = stats.t(242).sf(3.455)*2\n",
    "# 0.025 = coef - stats.t(242).isf(0.025)*(std err)\n",
    "# 0.975 = coef + stats.t(242).isf(0.025)*(std err)\n",
    "# \"\"\"\n",
    "\n",
    "coef = .6689\n",
    "std_err = .194\n",
    "df = 242\n",
    "alpha = 0.05\n",
    "\n",
    "coef/std_err # t\n",
    "round(stats.t(df).sf(3.455)*2, 3) # P>|t|\n",
    "ME = stats.t(df).isf(alpha/2) * std_err\n",
    "coef - ME\n",
    "coef + ME\n",
    "\n",
    "# res.predict(tips[['total_bill', 'size']])\n",
    "res.predict()[:2]\n",
    "res.get_prediction(tips[['total_bill', 'size']]).summary_frame()[:2]"
   ]
  },
  {
   "attachments": {},
   "cell_type": "markdown",
   "metadata": {},
   "source": [
    "### example from official doc: underlying process = quadratic \n",
    "- underlying generating process: `y = 1 + 0.1x + 10x^2 + error`\n",
    "- regression model: `y = b0 + b1*x + b2*x^2`\n"
   ]
  },
  {
   "cell_type": "code",
   "execution_count": 245,
   "metadata": {},
   "outputs": [
    {
     "data": {
      "text/plain": [
       "<matplotlib.collections.PathCollection at 0x2a9aafe80>"
      ]
     },
     "execution_count": 245,
     "metadata": {},
     "output_type": "execute_result"
    },
    {
     "data": {
      "image/png": "[encoded data removed]",
      "text/plain": [
       "<Figure size 432x288 with 1 Axes>"
      ]
     },
     "metadata": {
      "needs_background": "light"
     },
     "output_type": "display_data"
    }
   ],
   "source": [
    "# -------------------- underlying data generating process -------------------- #\n",
    "np.random.seed(9876789)\n",
    "n_samples = 100\n",
    "x = np.linspace(0, 10, n_samples)\n",
    "e = np.random.normal(scale=80, size=n_samples)\n",
    "beta = [1,0.1,10]\n",
    "X = np.vstack([\n",
    "    np.ones(n_samples), \n",
    "    x,\n",
    "    x**2,\n",
    "    ]).T\n",
    "\n",
    "y = X@beta + e\n",
    "\n",
    "plt.scatter(x,y, s=10)\n",
    "\n",
    "# ------------------------------- model fitting ------------------------------ #\n",
    "model = sm.OLS(y, X)\n",
    "results = model.fit()\n",
    "print(results.summary(slim=True))\n",
    "print(\"Parameters: \", results.params)\n",
    "print(\"R2: \", results.rsquared)\n",
    "\n",
    "# ## generate data\n",
    "# np.random.seed(9876789)\n",
    "# nsample = 100\n",
    "# x = np.linspace(0, 10, 100)\n",
    "# X = np.column_stack((x, x ** 2))\n",
    "# beta = np.array([1, 0.1, 10])\n",
    "# e = np.random.normal(scale=80, size=nsample)\n",
    "# X = sm.add_constant(X)\n",
    "# y = np.dot(X, beta) + e\n",
    "# # plt.plot(x, y, 'o', s=3)\n",
    "# plt.scatter(x, y, s=10)"
   ]
  },
  {
   "cell_type": "code",
   "execution_count": 276,
   "metadata": {},
   "outputs": [
    {
     "data": {
      "image/png": "[encoded data removed]",
      "text/plain": [
       "<Figure size 432x432 with 1 Axes>"
      ]
     },
     "metadata": {
      "needs_background": "light"
     },
     "output_type": "display_data"
    }
   ],
   "source": [
    "pred_ols = results.get_prediction()\n",
    "pi_l = pred_ols.summary_frame(alpha=0.05)[\"obs_ci_lower\"]\n",
    "pi_u = pred_ols.summary_frame(alpha=0.05)[\"obs_ci_upper\"]\n",
    "ci_l = pred_ols.summary_frame(alpha=0.05)[\"mean_ci_lower\"]\n",
    "ci_u = pred_ols.summary_frame(alpha=0.05)[\"mean_ci_upper\"]\n",
    "\n",
    "_ = plt.figure(figsize=(6,6))\n",
    "_ = plt.scatter(x, y, s=12)\n",
    "_ = plt.plot(x, results.fittedvalues, lw=2, label='prediction')\n",
    "_ = plt.plot(x, pi_l, '--', label='pi_l')\n",
    "_ = plt.plot(x, pi_u, '--', label='pi_u')\n",
    "_ = plt.plot(x, ci_l, '--', label='ci_l')\n",
    "_ = plt.plot(x, ci_u, '--', label='ci_u')\n",
    "_ = plt.legend()\n",
    "_ = plt.xlabel('x')\n",
    "_ = plt.ylabel('y')\n",
    "_ = plt.title(\"regression model\")"
   ]
  },
  {
   "attachments": {},
   "cell_type": "markdown",
   "metadata": {},
   "source": [
    "### example from official doc: underlying process = sine curve\n"
   ]
  },
  {
   "cell_type": "code",
   "execution_count": 309,
   "metadata": {},
   "outputs": [
    {
     "name": "stdout",
     "output_type": "stream",
     "text": [
      "                            OLS Regression Results                            \n",
      "==============================================================================\n",
      "Dep. Variable:                      y   R-squared:                       0.939\n",
      "Model:                            OLS   Adj. R-squared:                  0.935\n",
      "Method:                 Least Squares   F-statistic:                     234.3\n",
      "Date:                Wed, 07 Jun 2023   Prob (F-statistic):           7.24e-28\n",
      "Time:                        11:16:58   Log-Likelihood:                -32.397\n",
      "No. Observations:                  50   AIC:                             72.79\n",
      "Df Residuals:                      46   BIC:                             80.44\n",
      "Df Model:                           3                                         \n",
      "Covariance Type:            nonrobust                                         \n",
      "==============================================================================\n",
      "                 coef    std err          t      P>|t|      [0.025      0.975]\n",
      "------------------------------------------------------------------------------\n",
      "x1             0.4870      0.025     19.211      0.000       0.436       0.538\n",
      "x2             0.5840      0.100      5.861      0.000       0.383       0.785\n",
      "x3            -0.0193      0.002     -8.652      0.000      -0.024      -0.015\n",
      "const          5.0174      0.164     30.525      0.000       4.687       5.348\n",
      "==============================================================================\n",
      "Omnibus:                        5.601   Durbin-Watson:                   2.060\n",
      "Prob(Omnibus):                  0.061   Jarque-Bera (JB):                4.515\n",
      "Skew:                          -0.688   Prob(JB):                        0.105\n",
      "Kurtosis:                       3.523   Cond. No.                         221.\n",
      "==============================================================================\n",
      "\n",
      "Notes:\n",
      "[1] Standard Errors assume that the covariance matrix of the errors is correctly specified.\n",
      "Parameters:  [ 0.48698313  0.58403502 -0.01925626  5.01740138]\n",
      "Standard errors:  [0.02534975 0.09965283 0.00222573 0.16436871]\n",
      "Predicted values:  [ 4.53599477  5.04196996  5.50344209  5.88858176  6.17704665  6.36332368\n",
      "  6.45763479  6.48425753  6.47753631  6.47623971  6.51719093  6.62921781\n",
      "  6.82841653  7.11550703  7.47571475  7.88119801  8.29562237  8.68013022\n",
      "  8.99972503  9.22902114  9.35641458  9.38598953  9.33684735  9.23996826\n",
      "  9.13312136  9.05465929  9.03721702  9.10234996  9.25699254  9.49231884\n",
      "  9.7851927  10.10196891 10.40402102 10.6540876  10.82239409 10.8915448\n",
      " 10.85938087 10.73933502 10.55822457 10.35184545 10.15909099 10.01556192\n",
      "  9.9477172   9.96852694 10.07534143 10.25032647 10.46339348 10.67714301\n",
      " 10.85300929 10.95759654]\n"
     ]
    }
   ],
   "source": [
    "nsample = 50\n",
    "sig = 0.5\n",
    "x = np.linspace(0, 20, nsample)\n",
    "X = np.column_stack((x, np.sin(x), (x - 5) ** 2, np.ones(nsample)))\n",
    "beta = [0.5, 0.5, -0.02, 5.0]\n",
    "\n",
    "y_true = np.dot(X, beta)\n",
    "y = y_true + sig * np.random.normal(size=nsample)\n",
    "\n",
    "res = sm.OLS(y, X).fit()\n",
    "print(res.summary())\n",
    "\n",
    "print(\"Parameters: \", res.params)\n",
    "print(\"Standard errors: \", res.bse)\n",
    "print(\"Predicted values: \", res.predict())"
   ]
  },
  {
   "cell_type": "code",
   "execution_count": 311,
   "metadata": {},
   "outputs": [
    {
     "data": {
      "image/png": "[encoded data removed]",
      "text/plain": [
       "<Figure size 576x432 with 1 Axes>"
      ]
     },
     "metadata": {
      "needs_background": "light"
     },
     "output_type": "display_data"
    }
   ],
   "source": [
    "pred_ols = res.get_prediction()\n",
    "pi_l = pred_ols.summary_frame(alpha=0.05)[\"obs_ci_lower\"]\n",
    "pi_u = pred_ols.summary_frame(alpha=0.05)[\"obs_ci_upper\"]\n",
    "ci_l = pred_ols.summary_frame(alpha=0.05)[\"mean_ci_lower\"]\n",
    "ci_u = pred_ols.summary_frame(alpha=0.05)[\"mean_ci_upper\"]\n",
    "# pi_u\n",
    "\n",
    "fig, ax = plt.subplots(figsize=(8, 6))\n",
    "\n",
    "_ = ax.plot(x, y, \"o\", label=\"Y\")\n",
    "# _ = ax.plot(x, y_true, \"b-\", label=\"E(Y)\")\n",
    "# _ = ax.plot(x, res.fittedvalues, \"r--.\", label=\"OLS\")\n",
    "# _ = ax.plot(x, res.fittedvalues, \"r--\", label=\"OLS\", lw=2)\n",
    "_ = ax.plot(x, res.fittedvalues, label=\"OLS\", lw=3)\n",
    "_ = ax.plot(x,y_true, label='E(Y)', lw=3)\n",
    "_ = ax.plot(x, pi_u, \"k--\", label='pi_upper', lw=3)\n",
    "_ = ax.plot(x, pi_l, \"g--\", label='pi_lower', lw=3)\n",
    "_ = ax.plot(x, ci_u, \"--\", label='ci_upper', lw=3)\n",
    "_ = ax.plot(x, ci_l, \"--\", label='ci_lower', lw=3)\n",
    "_ = ax.legend(loc=\"best\", fontsize=15)"
   ]
  },
  {
   "attachments": {},
   "cell_type": "markdown",
   "metadata": {},
   "source": [
    "## temp"
   ]
  },
  {
   "cell_type": "code",
   "execution_count": null,
   "metadata": {},
   "outputs": [
    {
     "data": {
      "text/html": [
       "<table class=\"simpletable\">\n",
       "<caption>OLS Regression Results</caption>\n",
       "<tr>\n",
       "  <th>Dep. Variable:</th>       <td>conformity</td>    <th>  R-squared:         </th> <td>   0.324</td>\n",
       "</tr>\n",
       "<tr>\n",
       "  <th>Model:</th>                   <td>OLS</td>       <th>  Adj. R-squared:    </th> <td>   0.237</td>\n",
       "</tr>\n",
       "<tr>\n",
       "  <th>Method:</th>             <td>Least Squares</td>  <th>  F-statistic:       </th> <td>   3.734</td>\n",
       "</tr>\n",
       "<tr>\n",
       "  <th>Date:</th>             <td>Sun, 07 May 2023</td> <th>  Prob (F-statistic):</th>  <td>0.00740</td>\n",
       "</tr>\n",
       "<tr>\n",
       "  <th>Time:</th>                 <td>14:58:18</td>     <th>  Log-Likelihood:    </th> <td> -129.10</td>\n",
       "</tr>\n",
       "<tr>\n",
       "  <th>No. Observations:</th>      <td>    45</td>      <th>  AIC:               </th> <td>   270.2</td>\n",
       "</tr>\n",
       "<tr>\n",
       "  <th>Df Residuals:</th>          <td>    39</td>      <th>  BIC:               </th> <td>   281.0</td>\n",
       "</tr>\n",
       "<tr>\n",
       "  <th>Df Model:</th>              <td>     5</td>      <th>                     </th>     <td> </td>   \n",
       "</tr>\n",
       "<tr>\n",
       "  <th>Covariance Type:</th>      <td>nonrobust</td>    <th>                     </th>     <td> </td>   \n",
       "</tr>\n",
       "</table>\n",
       "<table class=\"simpletable\">\n",
       "<tr>\n",
       "                              <td></td>                                <th>coef</th>     <th>std err</th>      <th>t</th>      <th>P>|t|</th>  <th>[0.025</th>    <th>0.975]</th>  \n",
       "</tr>\n",
       "<tr>\n",
       "  <th>Intercept</th>                                                <td>   12.0508</td> <td>    0.728</td> <td>   16.564</td> <td> 0.000</td> <td>   10.579</td> <td>   13.522</td>\n",
       "</tr>\n",
       "<tr>\n",
       "  <th>C(fcategory, Sum)[S.high]</th>                                <td>    0.1903</td> <td>    0.999</td> <td>    0.191</td> <td> 0.850</td> <td>   -1.830</td> <td>    2.210</td>\n",
       "</tr>\n",
       "<tr>\n",
       "  <th>C(fcategory, Sum)[S.low]</th>                                 <td>    1.0992</td> <td>    1.026</td> <td>    1.071</td> <td> 0.291</td> <td>   -0.977</td> <td>    3.175</td>\n",
       "</tr>\n",
       "<tr>\n",
       "  <th>C(partner_status, Sum)[S.high]</th>                           <td>    2.4591</td> <td>    0.728</td> <td>    3.380</td> <td> 0.002</td> <td>    0.988</td> <td>    3.931</td>\n",
       "</tr>\n",
       "<tr>\n",
       "  <th>C(fcategory, Sum)[S.high]:C(partner_status, Sum)[S.high]</th> <td>   -2.8431</td> <td>    0.999</td> <td>   -2.847</td> <td> 0.007</td> <td>   -4.863</td> <td>   -0.823</td>\n",
       "</tr>\n",
       "<tr>\n",
       "  <th>C(fcategory, Sum)[S.low]:C(partner_status, Sum)[S.high]</th>  <td>    1.7909</td> <td>    1.026</td> <td>    1.745</td> <td> 0.089</td> <td>   -0.285</td> <td>    3.867</td>\n",
       "</tr>\n",
       "</table>\n",
       "<table class=\"simpletable\">\n",
       "<tr>\n",
       "  <th>Omnibus:</th>       <td> 2.500</td> <th>  Durbin-Watson:     </th> <td>   2.626</td>\n",
       "</tr>\n",
       "<tr>\n",
       "  <th>Prob(Omnibus):</th> <td> 0.287</td> <th>  Jarque-Bera (JB):  </th> <td>   1.712</td>\n",
       "</tr>\n",
       "<tr>\n",
       "  <th>Skew:</th>          <td> 0.465</td> <th>  Prob(JB):          </th> <td>   0.425</td>\n",
       "</tr>\n",
       "<tr>\n",
       "  <th>Kurtosis:</th>      <td> 3.216</td> <th>  Cond. No.          </th> <td>    2.39</td>\n",
       "</tr>\n",
       "</table><br/><br/>Notes:<br/>[1] Standard Errors assume that the covariance matrix of the errors is correctly specified."
      ],
      "text/plain": [
       "<class 'statsmodels.iolib.summary.Summary'>\n",
       "\"\"\"\n",
       "                            OLS Regression Results                            \n",
       "==============================================================================\n",
       "Dep. Variable:             conformity   R-squared:                       0.324\n",
       "Model:                            OLS   Adj. R-squared:                  0.237\n",
       "Method:                 Least Squares   F-statistic:                     3.734\n",
       "Date:                Sun, 07 May 2023   Prob (F-statistic):            0.00740\n",
       "Time:                        14:58:18   Log-Likelihood:                -129.10\n",
       "No. Observations:                  45   AIC:                             270.2\n",
       "Df Residuals:                      39   BIC:                             281.0\n",
       "Df Model:                           5                                         \n",
       "Covariance Type:            nonrobust                                         \n",
       "============================================================================================================================\n",
       "                                                               coef    std err          t      P>|t|      [0.025      0.975]\n",
       "----------------------------------------------------------------------------------------------------------------------------\n",
       "Intercept                                                   12.0508      0.728     16.564      0.000      10.579      13.522\n",
       "C(fcategory, Sum)[S.high]                                    0.1903      0.999      0.191      0.850      -1.830       2.210\n",
       "C(fcategory, Sum)[S.low]                                     1.0992      1.026      1.071      0.291      -0.977       3.175\n",
       "C(partner_status, Sum)[S.high]                               2.4591      0.728      3.380      0.002       0.988       3.931\n",
       "C(fcategory, Sum)[S.high]:C(partner_status, Sum)[S.high]    -2.8431      0.999     -2.847      0.007      -4.863      -0.823\n",
       "C(fcategory, Sum)[S.low]:C(partner_status, Sum)[S.high]      1.7909      1.026      1.745      0.089      -0.285       3.867\n",
       "==============================================================================\n",
       "Omnibus:                        2.500   Durbin-Watson:                   2.626\n",
       "Prob(Omnibus):                  0.287   Jarque-Bera (JB):                1.712\n",
       "Skew:                           0.465   Prob(JB):                        0.425\n",
       "Kurtosis:                       3.216   Cond. No.                         2.39\n",
       "==============================================================================\n",
       "\n",
       "Notes:\n",
       "[1] Standard Errors assume that the covariance matrix of the errors is correctly specified.\n",
       "\"\"\""
      ]
     },
     "metadata": {},
     "output_type": "display_data"
    },
    {
     "data": {
      "text/html": [
       "<div>\n",
       "<style scoped>\n",
       "    .dataframe tbody tr th:only-of-type {\n",
       "        vertical-align: middle;\n",
       "    }\n",
       "\n",
       "    .dataframe tbody tr th {\n",
       "        vertical-align: top;\n",
       "    }\n",
       "\n",
       "    .dataframe thead th {\n",
       "        text-align: right;\n",
       "    }\n",
       "</style>\n",
       "<table border=\"1\" class=\"dataframe\">\n",
       "  <thead>\n",
       "    <tr style=\"text-align: right;\">\n",
       "      <th></th>\n",
       "      <th>sum_sq</th>\n",
       "      <th>df</th>\n",
       "      <th>F</th>\n",
       "      <th>PR(&gt;F)</th>\n",
       "    </tr>\n",
       "  </thead>\n",
       "  <tbody>\n",
       "    <tr>\n",
       "      <th>C(fcategory, Sum)</th>\n",
       "      <td>11.614700</td>\n",
       "      <td>2.0</td>\n",
       "      <td>0.276958</td>\n",
       "      <td>0.759564</td>\n",
       "    </tr>\n",
       "    <tr>\n",
       "      <th>C(partner_status, Sum)</th>\n",
       "      <td>212.213778</td>\n",
       "      <td>1.0</td>\n",
       "      <td>10.120692</td>\n",
       "      <td>0.002874</td>\n",
       "    </tr>\n",
       "    <tr>\n",
       "      <th>C(fcategory, Sum):C(partner_status, Sum)</th>\n",
       "      <td>175.488928</td>\n",
       "      <td>2.0</td>\n",
       "      <td>4.184623</td>\n",
       "      <td>0.022572</td>\n",
       "    </tr>\n",
       "    <tr>\n",
       "      <th>Residual</th>\n",
       "      <td>817.763961</td>\n",
       "      <td>39.0</td>\n",
       "      <td>NaN</td>\n",
       "      <td>NaN</td>\n",
       "    </tr>\n",
       "  </tbody>\n",
       "</table>\n",
       "</div>"
      ],
      "text/plain": [
       "                                              sum_sq    df          F   \n",
       "C(fcategory, Sum)                          11.614700   2.0   0.276958  \\\n",
       "C(partner_status, Sum)                    212.213778   1.0  10.120692   \n",
       "C(fcategory, Sum):C(partner_status, Sum)  175.488928   2.0   4.184623   \n",
       "Residual                                  817.763961  39.0        NaN   \n",
       "\n",
       "                                            PR(>F)  \n",
       "C(fcategory, Sum)                         0.759564  \n",
       "C(partner_status, Sum)                    0.002874  \n",
       "C(fcategory, Sum):C(partner_status, Sum)  0.022572  \n",
       "Residual                                       NaN  "
      ]
     },
     "metadata": {},
     "output_type": "display_data"
    }
   ],
   "source": [
    "import statsmodels.api as sm\n",
    "from statsmodels.formula.api import ols\n",
    "moore = sm.datasets.get_rdataset(\"Moore\", \"carData\", cache=True) # load\n",
    "data = moore.data\n",
    "data = data.rename(columns={\"partner.status\" :\n",
    "                            \"partner_status\"}) # make name pythonic\n",
    "# data\n",
    "moore_lm = ols('conformity ~ C(fcategory, Sum)*C(partner_status, Sum)',\n",
    "                data=data).fit()\n",
    "moore_lm.summary()\n",
    "table = sm.stats.anova_lm(moore_lm, typ=2) # Type 2 Anova DataFrame\n",
    "# print(table)\n",
    "table\n"
   ]
  },
  {
   "attachments": {},
   "cell_type": "markdown",
   "metadata": {},
   "source": [
    "## logistic regression "
   ]
  },
  {
   "cell_type": "code",
   "execution_count": 26,
   "metadata": {},
   "outputs": [
    {
     "name": "stdout",
     "output_type": "stream",
     "text": [
      "Optimization terminated successfully.\n",
      "         Current function value: 0.402801\n",
      "         Iterations 7\n"
     ]
    },
    {
     "data": {
      "text/html": [
       "<table class=\"simpletable\">\n",
       "<caption>Logit Regression Results</caption>\n",
       "<tr>\n",
       "  <th>Dep. Variable:</th>         <td>GRADE</td>      <th>  No. Observations:  </th>  <td>    32</td> \n",
       "</tr>\n",
       "<tr>\n",
       "  <th>Model:</th>                 <td>Logit</td>      <th>  Df Residuals:      </th>  <td>    28</td> \n",
       "</tr>\n",
       "<tr>\n",
       "  <th>Method:</th>                 <td>MLE</td>       <th>  Df Model:          </th>  <td>     3</td> \n",
       "</tr>\n",
       "<tr>\n",
       "  <th>Date:</th>            <td>Sat, 10 Jun 2023</td> <th>  Pseudo R-squ.:     </th>  <td>0.3740</td> \n",
       "</tr>\n",
       "<tr>\n",
       "  <th>Time:</th>                <td>16:44:44</td>     <th>  Log-Likelihood:    </th> <td> -12.890</td>\n",
       "</tr>\n",
       "<tr>\n",
       "  <th>converged:</th>             <td>True</td>       <th>  LL-Null:           </th> <td> -20.592</td>\n",
       "</tr>\n",
       "<tr>\n",
       "  <th>Covariance Type:</th>     <td>nonrobust</td>    <th>  LLR p-value:       </th> <td>0.001502</td>\n",
       "</tr>\n",
       "</table>\n",
       "<table class=\"simpletable\">\n",
       "<tr>\n",
       "    <td></td>       <th>coef</th>     <th>std err</th>      <th>z</th>      <th>P>|z|</th>  <th>[0.025</th>    <th>0.975]</th>  \n",
       "</tr>\n",
       "<tr>\n",
       "  <th>const</th> <td>  -13.0213</td> <td>    4.931</td> <td>   -2.641</td> <td> 0.008</td> <td>  -22.687</td> <td>   -3.356</td>\n",
       "</tr>\n",
       "<tr>\n",
       "  <th>GPA</th>   <td>    2.8261</td> <td>    1.263</td> <td>    2.238</td> <td> 0.025</td> <td>    0.351</td> <td>    5.301</td>\n",
       "</tr>\n",
       "<tr>\n",
       "  <th>TUCE</th>  <td>    0.0952</td> <td>    0.142</td> <td>    0.672</td> <td> 0.501</td> <td>   -0.182</td> <td>    0.373</td>\n",
       "</tr>\n",
       "<tr>\n",
       "  <th>PSI</th>   <td>    2.3787</td> <td>    1.065</td> <td>    2.234</td> <td> 0.025</td> <td>    0.292</td> <td>    4.465</td>\n",
       "</tr>\n",
       "</table>"
      ],
      "text/plain": [
       "<class 'statsmodels.iolib.summary.Summary'>\n",
       "\"\"\"\n",
       "                           Logit Regression Results                           \n",
       "==============================================================================\n",
       "Dep. Variable:                  GRADE   No. Observations:                   32\n",
       "Model:                          Logit   Df Residuals:                       28\n",
       "Method:                           MLE   Df Model:                            3\n",
       "Date:                Sat, 10 Jun 2023   Pseudo R-squ.:                  0.3740\n",
       "Time:                        16:44:44   Log-Likelihood:                -12.890\n",
       "converged:                       True   LL-Null:                       -20.592\n",
       "Covariance Type:            nonrobust   LLR p-value:                  0.001502\n",
       "==============================================================================\n",
       "                 coef    std err          z      P>|z|      [0.025      0.975]\n",
       "------------------------------------------------------------------------------\n",
       "const        -13.0213      4.931     -2.641      0.008     -22.687      -3.356\n",
       "GPA            2.8261      1.263      2.238      0.025       0.351       5.301\n",
       "TUCE           0.0952      0.142      0.672      0.501      -0.182       0.373\n",
       "PSI            2.3787      1.065      2.234      0.025       0.292       4.465\n",
       "==============================================================================\n",
       "\"\"\""
      ]
     },
     "execution_count": 26,
     "metadata": {},
     "output_type": "execute_result"
    },
    {
     "data": {
      "text/plain": [
       "array([[18.,  3.],\n",
       "       [ 3.,  8.]])"
      ]
     },
     "execution_count": 26,
     "metadata": {},
     "output_type": "execute_result"
    },
    {
     "data": {
      "text/html": [
       "<table class=\"simpletable\">\n",
       "<caption>Logit Marginal Effects</caption>\n",
       "<tr>\n",
       "  <th>Dep. Variable:</th>  <td>GRADE</td> \n",
       "</tr>\n",
       "<tr>\n",
       "  <th>Method:</th>         <td>dydx</td>  \n",
       "</tr>\n",
       "<tr>\n",
       "  <th>At:</th>            <td>overall</td>\n",
       "</tr>\n",
       "</table>\n",
       "<table class=\"simpletable\">\n",
       "<tr>\n",
       "    <th></th>      <th>dy/dx</th>    <th>std err</th>      <th>z</th>      <th>P>|z|</th>  <th>[0.025</th>    <th>0.975]</th>  \n",
       "</tr>\n",
       "<tr>\n",
       "  <th>GPA</th>  <td>    0.3626</td> <td>    0.109</td> <td>    3.313</td> <td> 0.001</td> <td>    0.148</td> <td>    0.577</td>\n",
       "</tr>\n",
       "<tr>\n",
       "  <th>TUCE</th> <td>    0.0122</td> <td>    0.018</td> <td>    0.686</td> <td> 0.493</td> <td>   -0.023</td> <td>    0.047</td>\n",
       "</tr>\n",
       "<tr>\n",
       "  <th>PSI</th>  <td>    0.3052</td> <td>    0.092</td> <td>    3.304</td> <td> 0.001</td> <td>    0.124</td> <td>    0.486</td>\n",
       "</tr>\n",
       "</table>"
      ],
      "text/plain": [
       "<class 'statsmodels.iolib.summary.Summary'>\n",
       "\"\"\"\n",
       "        Logit Marginal Effects       \n",
       "=====================================\n",
       "Dep. Variable:                  GRADE\n",
       "Method:                          dydx\n",
       "At:                           overall\n",
       "==============================================================================\n",
       "                dy/dx    std err          z      P>|z|      [0.025      0.975]\n",
       "------------------------------------------------------------------------------\n",
       "GPA            0.3626      0.109      3.313      0.001       0.148       0.577\n",
       "TUCE           0.0122      0.018      0.686      0.493      -0.023       0.047\n",
       "PSI            0.3052      0.092      3.304      0.001       0.124       0.486\n",
       "==============================================================================\n",
       "\"\"\""
      ]
     },
     "execution_count": 26,
     "metadata": {},
     "output_type": "execute_result"
    },
    {
     "data": {
      "text/plain": [
       "array([0.02657799, 0.05950125])"
      ]
     },
     "execution_count": 26,
     "metadata": {},
     "output_type": "execute_result"
    },
    {
     "data": {
      "text/plain": [
       "11"
      ]
     },
     "execution_count": 26,
     "metadata": {},
     "output_type": "execute_result"
    }
   ],
   "source": [
    "threshold = 0.5\n",
    "spector_data = sm.datasets.spector.load_pandas()\n",
    "spector_data.exog = sm.add_constant(spector_data.exog)\n",
    "res = sm.Logit(spector_data.endog, spector_data.exog).fit()\n",
    "\n",
    "res.summary()\n",
    "# res.summary2()\n",
    "\n",
    "res.pred_table(threshold=threshold) # confusion matrix\n",
    "res.get_margeff().summary()\n",
    "\n",
    "res.predict()[:2] # predicted probability\n",
    "(res.predict()>threshold).sum() # find how many are predicted to be positive\n",
    "# res.fittedvalues()"
   ]
  },
  {
   "attachments": {},
   "cell_type": "markdown",
   "metadata": {},
   "source": [
    "# pyspark"
   ]
  },
  {
   "cell_type": "code",
   "execution_count": 1,
   "metadata": {},
   "outputs": [],
   "source": [
    "import pyspark as sc"
   ]
  },
  {
   "cell_type": "code",
   "execution_count": 3,
   "metadata": {},
   "outputs": [],
   "source": [
    "# sc.textFile(\"hdfs://...\")"
   ]
  }
 ],
 "metadata": {
  "kernelspec": {
   "display_name": "data_science",
   "language": "python",
   "name": "python3"
  },
  "language_info": {
   "codemirror_mode": {
    "name": "ipython",
    "version": 3
   },
   "file_extension": ".py",
   "mimetype": "text/x-python",
   "name": "python",
   "nbconvert_exporter": "python",
   "pygments_lexer": "ipython3",
   "version": "3.10.4"
  },
  "orig_nbformat": 4
 },
 "nbformat": 4,
 "nbformat_minor": 2
}
