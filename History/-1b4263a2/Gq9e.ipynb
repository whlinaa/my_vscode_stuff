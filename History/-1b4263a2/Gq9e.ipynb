{
 "cells": [
  {
   "cell_type": "code",
   "execution_count": 3,
   "metadata": {},
   "outputs": [],
   "source": [
    "from ds_utils.ds_preamble import *\n",
    "from ds_utils.ds_plotting import *\n",
    "from ds_utils.ds_helper import *\n",
    "import datetime\n",
    "from re import sub\n",
    "tips = sns.load_dataset('tips')\n",
    "from pathlib import Path\n",
    "import duckdb\n",
    "from glob import glob\n",
    "from pathlib import Path\n",
    "from collections import Counter\n",
    "import sys, subprocess\n",
    "import time\n",
    "import re\n",
    "import pyautogui\n",
    "import heapq"
   ]
  },
  {
   "attachments": {},
   "cell_type": "markdown",
   "metadata": {},
   "source": [
    "# Ellipsis constant"
   ]
  },
  {
   "cell_type": "code",
   "execution_count": 9,
   "metadata": {},
   "outputs": [
    {
     "data": {
      "text/plain": [
       "Ellipsis"
      ]
     },
     "execution_count": 9,
     "metadata": {},
     "output_type": "execute_result"
    },
    {
     "data": {
      "text/plain": [
       "True"
      ]
     },
     "execution_count": 9,
     "metadata": {},
     "output_type": "execute_result"
    }
   ],
   "source": [
    "Ellipsis\n",
    "# ...\n",
    "... is Ellipsis"
   ]
  },
  {
   "attachments": {},
   "cell_type": "markdown",
   "metadata": {},
   "source": [
    "# redlines package"
   ]
  },
  {
   "cell_type": "code",
   "execution_count": null,
   "metadata": {},
   "outputs": [],
   "source": [
    "from redlines import Redlines\n",
    "from IPython.display import display, Markdown, Latex, HTML, JSON\n",
    "text = \"i am a biy\"\n",
    "response = \"i am a boy\"\n",
    "diff = Redlines(text,response)\n",
    "# diff.output_markdown\n",
    "# display(Markdown(diff.output_markdown))\n",
    "Markdown(diff.output_markdown)"
   ]
  },
  {
   "attachments": {},
   "cell_type": "markdown",
   "metadata": {},
   "source": [
    "# heap"
   ]
  },
  {
   "cell_type": "code",
   "execution_count": 11,
   "metadata": {},
   "outputs": [
    {
     "data": {
      "text/plain": [
       "[(1, 1), (3, 4), (1, 2)]"
      ]
     },
     "execution_count": 11,
     "metadata": {},
     "output_type": "execute_result"
    },
    {
     "data": {
      "text/plain": [
       "(1, 1)"
      ]
     },
     "execution_count": 11,
     "metadata": {},
     "output_type": "execute_result"
    },
    {
     "data": {
      "text/plain": [
       "[(1, 2), (3, 4)]"
      ]
     },
     "execution_count": 11,
     "metadata": {},
     "output_type": "execute_result"
    }
   ],
   "source": [
    "# a = [1,2,1,3,4,5,1,2,3]\n",
    "a = [(1,2),(3,4),(1,1)]\n",
    "heapq.heapify(a)\n",
    "a\n",
    "heapq.heappop(a)\n",
    "a\n"
   ]
  },
  {
   "cell_type": "code",
   "execution_count": 2,
   "metadata": {},
   "outputs": [],
   "source": [
    "class Student():\n",
    "    def __init__(self, name, age, gpa):\n",
    "        self.name = name\n",
    "        self.age = age\n",
    "        self.gpa = gpa\n",
    "    def print_name(self):\n",
    "        print(f\"student name is {self.name}\")\n",
    "\n",
    "s = Student('tom', 22, 3.5)\n",
    "# s.print_name()\n",
    "# Student.print_name(s)\n",
    "# Student.print_name()"
   ]
  },
  {
   "attachments": {},
   "cell_type": "markdown",
   "metadata": {},
   "source": [
    "## latexify package\n",
    "- https://colab.research.google.com/drive/1MuiawKpVIZ12MWwyYuzZHmbKThdM5wNJ?usp=sharing#scrollTo=NvbEYSwXFaeE\n",
    "- https://github.com/google/latexify_py"
   ]
  },
  {
   "attachments": {},
   "cell_type": "markdown",
   "metadata": {},
   "source": []
  },
  {
   "attachments": {},
   "cell_type": "markdown",
   "metadata": {},
   "source": [
    "# f-string and __repr__\n",
    "- remember that for {x = }, `__repr__` will be used, instead of `__str__` !\n",
    "    - to use `__str__`, do `{x = !s}`"
   ]
  },
  {
   "cell_type": "code",
   "execution_count": 4,
   "metadata": {},
   "outputs": [
    {
     "name": "stdout",
     "output_type": "stream",
     "text": [
      "hello world\n",
      "'hello world'\n",
      "'hello world'\n",
      "'hello world'\n",
      "t = datetime.datetime(2023, 4, 18, 14, 27, 59, 951126)\n",
      "t = 2023-04-18 14:27:59.951126\n",
      "s = 'hello world'\n",
      "s = hello world\n"
     ]
    }
   ],
   "source": [
    "s = \"hello world\"\n",
    "t = datetime.datetime.now()\n",
    "\n",
    "print(f\"{s}\") # hello world\n",
    "print(f\"{s!r}\") # 'hello world'\n",
    "print(f\"{s!a}\") # 'hello world'\n",
    "print(f\"{repr(s)}\") # 'hello world'\n",
    "\n",
    "print(f\"{t = }\") # t = datetime.datetime(2022, 5, 30, 6, 56, 35, 660737)\n",
    "print(f\"{t = !s}\") # t = 2022-05-30 06:56:35.660737\n",
    "\n",
    "print(f\"{s = }\") # s = 'hello world'\n",
    "print(f\"{s = !s}\") # s = hello world\n"
   ]
  },
  {
   "cell_type": "code",
   "execution_count": 5,
   "metadata": {},
   "outputs": [
    {
     "name": "stdout",
     "output_type": "stream",
     "text": [
      "Calling __repr__.\n"
     ]
    },
    {
     "data": {
      "text/plain": [
       "Calling __repr__."
      ]
     },
     "execution_count": 5,
     "metadata": {},
     "output_type": "execute_result"
    },
    {
     "data": {
      "text/plain": [
       "'Calling __repr__.'"
      ]
     },
     "execution_count": 5,
     "metadata": {},
     "output_type": "execute_result"
    },
    {
     "data": {
      "text/plain": [
       "'Calling __repr__.'"
      ]
     },
     "execution_count": 5,
     "metadata": {},
     "output_type": "execute_result"
    },
    {
     "name": "stdout",
     "output_type": "stream",
     "text": [
      "Calling __repr__.\n",
      "Calling __str__.\n"
     ]
    },
    {
     "data": {
      "text/plain": [
       "'Calling __str__.'"
      ]
     },
     "execution_count": 5,
     "metadata": {},
     "output_type": "execute_result"
    },
    {
     "name": "stdout",
     "output_type": "stream",
     "text": [
      "Calling __str__.\n"
     ]
    },
    {
     "data": {
      "text/plain": [
       "'Calling __str__.'"
      ]
     },
     "execution_count": 5,
     "metadata": {},
     "output_type": "execute_result"
    },
    {
     "name": "stdout",
     "output_type": "stream",
     "text": [
      "me = Calling __repr__.\n"
     ]
    },
    {
     "data": {
      "text/plain": [
       "'me = Calling __str__.'"
      ]
     },
     "execution_count": 5,
     "metadata": {},
     "output_type": "execute_result"
    },
    {
     "name": "stdout",
     "output_type": "stream",
     "text": [
      "me = Calling __str__.\n"
     ]
    }
   ],
   "source": [
    "class dummy:\n",
    "    def __str__(self):\n",
    "        return f\"Calling __str__.\"\n",
    "    def __repr__(self):\n",
    "        return f\"Calling __repr__.\"\n",
    "me = dummy()\n",
    "print(repr(me)) # Calling __repr__.\n",
    "me # Calling __repr__.\n",
    "f\"{me!r}\" # 'Calling __repr__.'\n",
    "repr(me) # 'Calling __repr__.'\n",
    "print(f\"{me!r}\") # Calling __repr__.\n",
    "\n",
    "print(me) # Calling __str__.\n",
    "f\"{me}\" # 'Calling __str__.'\n",
    "print(f\"{me}\") # Calling __str__.\n",
    "str(me)# 'Calling __str__.'\n",
    "\n",
    "print(f\"{me = }\") # me = Calling __repr__.\n",
    "f\"{me = !s}\" # 'me = Calling __str__.'\n",
    "print(f\"{me = !s}\") # me = Calling __str__.\n",
    "\n",
    "\n",
    "# a = ['a','b','c']\n",
    "\n",
    "# f\"{a}\"\n",
    "# f\"{a = }\"\n",
    "# f\"{a = !s}\""
   ]
  },
  {
   "attachments": {},
   "cell_type": "markdown",
   "metadata": {},
   "source": [
    "# Walrus Operator (assignment expression operator, for py>3.8)\n",
    "- https://realpython.com/python-walrus-operator/\n",
    "- `=`: assignment operator: will not return a value\n",
    "- `:=`: assignment expression: will return a value\n",
    "- `:=` is like `=` in C++! In C++, `=` will return a value => assignment expression\n",
    "- One design principle underpinning the walrus operator is that there are no identical code contexts where both an assignment statement using the = operator and an assignment expression using the := operator would be valid. For example, you can’t do a plain assignment with the walrus operator:\n",
    "- remember to operator precedence problem of `:=` ! \n",
    "    - if x:=3 > 10 => if (x:=3>10) => x becomes False!\n",
    "    - if x:=y => ok\n",
    "- can use assignment expression inside f-string!\n",
    "```python\n",
    "# a := 3 # error\n",
    "(a := 3) # ok\n",
    "# (a=3) # error\n",
    "```\n",
    "\n",
    "```python\n",
    "# pitfall\n",
    "if x:= 3:\n",
    "    print(\"enter if\")\n",
    "print(x) # 3, since x = 3\n",
    "\n",
    "if x:= 3 != 0:\n",
    "    print(\"enter if\")\n",
    "print(x) # True, since x = (3!=0)\n",
    "```"
   ]
  },
  {
   "cell_type": "code",
   "execution_count": 6,
   "metadata": {},
   "outputs": [
    {
     "data": {
      "text/plain": [
       "'Diameter 7.6 gives circumference 23.88'"
      ]
     },
     "execution_count": 6,
     "metadata": {},
     "output_type": "execute_result"
    }
   ],
   "source": [
    "# can use assignment expression inside f-string\n",
    "r = 3.8\n",
    "f\"Diameter {(diam := 2 * r)} gives circumference {np.pi * diam:.2f}\""
   ]
  },
  {
   "cell_type": "code",
   "execution_count": 7,
   "metadata": {},
   "outputs": [],
   "source": [
    "# use assignment expression to avoid reading an input before while loop\n",
    "inputs = []\n",
    "while (current := input(\"write something; write 'quit' to exit: \")) != 'quit':\n",
    "    inputs.append(current)\n",
    "print(inputs)\n",
    "\n",
    "\n",
    "question = \"Will you use the walrus operator?\"\n",
    "valid_answers = {'yes', 'y','n','no'}    \n",
    "while (user_answer := input(f\"\\n{question} \")).lower() not in valid_answers:\n",
    "    print(f\"your answer is {user_answer}\")\n",
    "    print(f\"Please answer one of {', '.join(valid_answers)}\")"
   ]
  },
  {
   "cell_type": "code",
   "execution_count": 93,
   "metadata": {},
   "outputs": [
    {
     "name": "stdout",
     "output_type": "stream",
     "text": [
      "list too long, with 99 elements, expected <= 10!\n"
     ]
    }
   ],
   "source": [
    "# avoid defining len(a) explicitly \n",
    "a = range(1,100)\n",
    "if (n := len(a)) > 10:\n",
    "    print(f\"list too long, with {n} elements, expected <= 10!\")"
   ]
  },
  {
   "cell_type": "code",
   "execution_count": 257,
   "metadata": {},
   "outputs": [
    {
     "data": {
      "text/plain": [
       "8"
      ]
     },
     "execution_count": 257,
     "metadata": {},
     "output_type": "execute_result"
    },
    {
     "data": {
      "text/plain": [
       "4"
      ]
     },
     "execution_count": 257,
     "metadata": {},
     "output_type": "execute_result"
    },
    {
     "data": {
      "text/plain": [
       "4"
      ]
     },
     "execution_count": 257,
     "metadata": {},
     "output_type": "execute_result"
    },
    {
     "data": {
      "text/plain": [
       "8"
      ]
     },
     "execution_count": 257,
     "metadata": {},
     "output_type": "execute_result"
    }
   ],
   "source": [
    "# debugging long expression by storing each components\n",
    "p1, p2 = [1,2], [3,4]\n",
    "(c0 := (p1[0]-p2[0])**2) + (c1 := (p1[1]-p2[1])**2)\n",
    "c0\n",
    "c1\n",
    "\n",
    "# same as \n",
    "# c0 = (p1[0]-p2[0])**2\n",
    "# c1 = (p1[1]-p2[1])**2\n",
    "# c0+c1"
   ]
  },
  {
   "cell_type": "code",
   "execution_count": 259,
   "metadata": {},
   "outputs": [
    {
     "name": "stdout",
     "output_type": "stream",
     "text": [
      "description = {'length': 8, 'sum': 35, 'mean': 4.375}\n",
      "n = 8\n",
      "tot = 35\n"
     ]
    }
   ],
   "source": [
    "# avoid recalculation when making a sequence, whose later element depends on previous elements\n",
    "numbers = [2, 8, 0, 1, 1, 9, 7, 7]\n",
    "\n",
    "description = {\n",
    "    \"length\": (n := len(numbers)),\n",
    "    \"sum\": (tot := sum(numbers)),\n",
    "    \"mean\": tot / n, # avoid calculating tot and n again \n",
    "}\n",
    "print(f\"{description = }\")\n",
    "print(f\"{n = }\")\n",
    "print(f\"{tot = }\")\n",
    "\n"
   ]
  },
  {
   "cell_type": "code",
   "execution_count": 291,
   "metadata": {},
   "outputs": [
    {
     "data": {
      "text/plain": [
       "['abc', 'def']"
      ]
     },
     "execution_count": 291,
     "metadata": {},
     "output_type": "execute_result"
    }
   ],
   "source": [
    "# list comprehension: want to return elements after transformation\n",
    "t = [' abc ', '  def ', '     g']\n",
    "[res for s in t if len(res := s.strip())>2 ]"
   ]
  },
  {
   "cell_type": "code",
   "execution_count": 66,
   "metadata": {},
   "outputs": [
    {
     "name": "stdout",
     "output_type": "stream",
     "text": [
      "True Houston\n",
      "True ['Houston', 'Holguín']\n",
      "True Houston\n"
     ]
    }
   ],
   "source": [
    "# list comprehension: find witness \n",
    "\n",
    "cities = [\"Vancouver\", \"Oslo\", \"Houston\", \"Warsaw\", \"Graz\", \"Holguín\"]\n",
    "# QUESTION: Does ANY city name start with \"H\"?\n",
    "\n",
    "# can't show witness\n",
    "# any(city.startswith(\"H\") for city in cities)\n",
    "\n",
    "# M0: for loop. Verbose \n",
    "for city in cities:\n",
    "    witness = city\n",
    "    if witness.startswith('H'):\n",
    "        print(True, witness)\n",
    "        break\n",
    "else:\n",
    "    print(False)\n",
    "\n",
    "# M1: find all witness. Slow\n",
    "if (res := [city for city in cities if city.startswith('H')]):\n",
    "    print(True, res)\n",
    "else:\n",
    "    print(False)\n",
    "\n",
    "# M2: find one witness only\n",
    "if any((witness := city).startswith('H') for city in cities):\n",
    "    print(True, witness)\n",
    "else:\n",
    "    print(False)\n",
    "\n",
    "# # Does ANY city name have at least 10 characters?\n",
    "# any(len(city) >= 10 for city in cities)\n",
    "\n",
    "# # Do ALL city names contain \"a\" or \"o\"?\n",
    "# # all(set(city) & set(\"ao\") for city in cities)\n",
    "# all('a' in city or 'o' in city for city in cities)\n",
    "\n",
    "# # Do ALL city names start with \"H\"?\n",
    "# all(city.startswith(\"H\") for city in cities)\n"
   ]
  },
  {
   "attachments": {},
   "cell_type": "markdown",
   "metadata": {},
   "source": [
    "# case keyword in python 3.10"
   ]
  },
  {
   "cell_type": "code",
   "execution_count": 97,
   "metadata": {},
   "outputs": [
    {
     "name": "stdout",
     "output_type": "stream",
     "text": [
      "deleting files: ['abc.txt', 'aa.pdf']\n",
      "didn't match\n",
      "else\n"
     ]
    }
   ],
   "source": [
    "def command_split(command):\n",
    "    match command.split():\n",
    "        case ['make']:\n",
    "            print(\"default make\")\n",
    "        case ['make',cmd]:\n",
    "            print(f\"make command found: {cmd}\")\n",
    "        case ['restart']:\n",
    "            print('restarting...')\n",
    "        case ['rm', *files]:\n",
    "            print(f'deleting files: {files}')\n",
    "        case x:\n",
    "        # case _:\n",
    "            print(\"didn't match\")\n",
    "\n",
    "command_split(\"rm abc.txt aa.pdf\")\n",
    "command_split(\"xxxx\")\n",
    "\n",
    "x = 6\n",
    "match x:\n",
    "    case 5:\n",
    "        print('ok')\n",
    "    case 10:\n",
    "        print('gd')\n",
    "    case _:\n",
    "        print('else')\n",
    "\n"
   ]
  },
  {
   "attachments": {},
   "cell_type": "markdown",
   "metadata": {},
   "source": [
    "# Ipython magic commands"
   ]
  },
  {
   "attachments": {},
   "cell_type": "markdown",
   "metadata": {},
   "source": [
    "## how to export the content of a cell, without the output\n",
    "- case 1: only export, do not run => use `%%writefile <file_name>`\n",
    "- case 2: export + run => need to define a function to do it"
   ]
  },
  {
   "cell_type": "code",
   "execution_count": 2,
   "metadata": {},
   "outputs": [
    {
     "name": "stdout",
     "output_type": "stream",
     "text": [
      "Overwriting code_in_cell.py\n"
     ]
    }
   ],
   "source": [
    "%%writefile code_in_cell.py\n",
    "# this will output the code in this cell to a file\n",
    "d={chr(i):i for i in range(60, 65)} # hello\n",
    "print(d)"
   ]
  },
  {
   "cell_type": "code",
   "execution_count": 3,
   "metadata": {},
   "outputs": [
    {
     "name": "stdout",
     "output_type": "stream",
     "text": [
      "{'<': 60, '=': 61, '>': 62, '?': 63, '@': 64}\n"
     ]
    }
   ],
   "source": [
    "%%write_and_run cell_code_.py\n",
    "# this will do two things: (1) execute this cell, (2) output the code to a file \n",
    "d={chr(i):i for i in range(60, 65)} # hello\n",
    "print(d)"
   ]
  },
  {
   "cell_type": "code",
   "execution_count": 4,
   "metadata": {},
   "outputs": [],
   "source": [
    "# output = !python cell_code.py\n",
    "# print(output)"
   ]
  },
  {
   "attachments": {},
   "cell_type": "markdown",
   "metadata": {},
   "source": [
    "## how to redirect output of a cell to a file"
   ]
  },
  {
   "cell_type": "code",
   "execution_count": 3,
   "metadata": {},
   "outputs": [],
   "source": [
    "%%capture cap\n",
    "d={chr(i):i for i in range(60, 65)}\n",
    "print(\"hello world\")\n",
    "# print(\"again\")\n",
    "print(tips[:1])\n",
    "\"should be ignored\"\n",
    "d"
   ]
  },
  {
   "cell_type": "code",
   "execution_count": 5,
   "metadata": {},
   "outputs": [
    {
     "name": "stdout",
     "output_type": "stream",
     "text": [
      "hello world\n",
      "   total_bill   tip     sex smoker  day    time  size\n",
      "0       16.99  1.01  Female     No  Sun  Dinner     2\n"
     ]
    },
    {
     "data": {
      "text/plain": [
       "'should be ignored'"
      ]
     },
     "metadata": {},
     "output_type": "display_data"
    },
    {
     "data": {
      "text/plain": [
       "{'<': 60, '=': 61, '>': 62, '?': 63, '@': 64}"
      ]
     },
     "metadata": {},
     "output_type": "display_data"
    }
   ],
   "source": [
    "cap.show() # show back the captured result"
   ]
  },
  {
   "cell_type": "code",
   "execution_count": 7,
   "metadata": {},
   "outputs": [
    {
     "data": {
      "text/plain": [
       "120"
      ]
     },
     "execution_count": 7,
     "metadata": {},
     "output_type": "execute_result"
    }
   ],
   "source": [
    "Path('output_text.txt').write_text(cap.stdout) # put the cell output to the file"
   ]
  },
  {
   "cell_type": "code",
   "execution_count": 6,
   "metadata": {},
   "outputs": [
    {
     "name": "stdout",
     "output_type": "stream",
     "text": [
      "hello world\n",
      "   total_bill   tip     sex smoker  day    time  size\n",
      "0       16.99  1.01  Female     No  Sun  Dinner     2\n"
     ]
    },
    {
     "data": {
      "text/plain": [
       "'should be ignored'"
      ]
     },
     "metadata": {},
     "output_type": "display_data"
    },
    {
     "data": {
      "text/plain": [
       "{'<': 60, '=': 61, '>': 62, '?': 63, '@': 64}"
      ]
     },
     "metadata": {},
     "output_type": "display_data"
    },
    {
     "name": "stdout",
     "output_type": "stream",
     "text": [
      "hello world\n",
      "   total_bill   tip     sex smoker  day    time  size\n",
      "0       16.99  1.01  Female     No  Sun  Dinner     2\n",
      "\n"
     ]
    }
   ],
   "source": [
    "cap.show() # show everything, including those without `print`\n",
    "print(cap.stdout) # show only `print`. this is a string\n",
    "\n",
    "# %store cap.stdout >out.txt # this will save what is in `cap.stdout` to the file\n",
    "\n",
    "# this is same as above\n",
    "# with open('temp.txt', 'w') as f:\n",
    "# with Path('temp.txt').open('w') as f:\n",
    "    # print(cap.stdout, file=f)"
   ]
  },
  {
   "attachments": {},
   "cell_type": "markdown",
   "metadata": {},
   "source": [
    "# zip"
   ]
  },
  {
   "cell_type": "code",
   "execution_count": 108,
   "metadata": {},
   "outputs": [],
   "source": [
    "import zipfile\n",
    "import os"
   ]
  },
  {
   "cell_type": "code",
   "execution_count": 110,
   "metadata": {},
   "outputs": [
    {
     "data": {
      "text/plain": [
       "PosixPath('/Users/whlin/Library/CloudStorage/OneDrive-HKUSTConnect/Documents/python/my_notes_py/python_notes')"
      ]
     },
     "execution_count": 110,
     "metadata": {},
     "output_type": "execute_result"
    }
   ],
   "source": [
    "Path.cwd()"
   ]
  },
  {
   "cell_type": "code",
   "execution_count": null,
   "metadata": {},
   "outputs": [],
   "source": [
    "p = Path(\"~/Desktop/to_archive\")\n",
    "os.chdir(p.expanduser())\n",
    "# print(p)\n",
    "with zipfile.ZipFile(\"to_archive.zip\", mode='a') as archive:\n",
    "    for file in Path.cwd().glob('*.txt'):\n",
    "        archive.write(file)\n",
    "    # pass\n",
    "    # archive\n",
    "    # archive.write(\"myfile.txt\")"
   ]
  },
  {
   "cell_type": "code",
   "execution_count": 114,
   "metadata": {},
   "outputs": [
    {
     "name": "stdout",
     "output_type": "stream",
     "text": [
      "File Name                                             Modified             Size\n",
      "Users/whlin/Desktop/to_archive/file_09.txt     2022-09-25 21:58:16            0\n",
      "Users/whlin/Desktop/to_archive/file_08.txt     2022-09-25 21:58:16            0\n",
      "Users/whlin/Desktop/to_archive/file_06.txt     2022-09-25 21:58:16            0\n",
      "Users/whlin/Desktop/to_archive/file_07.txt     2022-09-25 21:58:16            0\n",
      "Users/whlin/Desktop/to_archive/file_05.txt     2022-09-25 21:58:16            0\n",
      "Users/whlin/Desktop/to_archive/file_10.txt     2022-09-25 21:58:16            0\n",
      "Users/whlin/Desktop/to_archive/file_04.txt     2022-09-25 21:58:16            0\n",
      "Users/whlin/Desktop/to_archive/file_01.txt     2022-09-25 21:58:16            0\n",
      "Users/whlin/Desktop/to_archive/file_03.txt     2022-09-25 21:58:16            0\n",
      "Users/whlin/Desktop/to_archive/file_02.txt     2022-09-25 21:58:16            0\n"
     ]
    }
   ],
   "source": [
    "with zipfile.ZipFile(\"to_archive.zip\", mode='a') as archive:\n",
    "    archive.printdir()"
   ]
  },
  {
   "attachments": {},
   "cell_type": "markdown",
   "metadata": {},
   "source": [
    "# pathlib module\n",
    "- Important methods for Path object:\n",
    "\t- `write_text()`\n",
    "\t- `read_text()`\n",
    "\t- `replace()` # for changing file name\n",
    "\t- `mkdir(parents=True, exist_ok=True)`\n",
    "\t- ``\n",
    "\t- ``\n",
    "\t- ``\n",
    "- important: `Path.is_file()` checks if that file exists or not, but not whether the path is a file path!\n",
    "\t- e.g., `Path('hello/my_text.txt').is_file()` is `False`, if that file doesn't exist!\n",
    "- important: when we do `mkdir`, `to_csv` etc, the path we give is already a relative path, and so we don't need `./`! \n",
    "\t- That is, if we give `pd.to_csv(Path(\"hello/out.txt\"))`, it will be saved in a path relative to the current directory!\n",
    "\t- `Path(\".\").joinpath(\"hello\", 'world') == Path(\"hello\").joinpath('world')` is True"
   ]
  },
  {
   "attachments": {},
   "cell_type": "markdown",
   "metadata": {},
   "source": [
    "## meaning of `exists`, `is_file`, `is_dir`"
   ]
  },
  {
   "cell_type": "code",
   "execution_count": 57,
   "metadata": {},
   "outputs": [
    {
     "data": {
      "text/plain": [
       "0"
      ]
     },
     "execution_count": 57,
     "metadata": {},
     "output_type": "execute_result"
    },
    {
     "name": "stdout",
     "output_type": "stream",
     "text": [
      "============================\n"
     ]
    },
    {
     "data": {
      "text/plain": [
       "PosixPath('output/testing_pathlib.py')"
      ]
     },
     "execution_count": 57,
     "metadata": {},
     "output_type": "execute_result"
    },
    {
     "data": {
      "text/plain": [
       "True"
      ]
     },
     "execution_count": 57,
     "metadata": {},
     "output_type": "execute_result"
    },
    {
     "data": {
      "text/plain": [
       "True"
      ]
     },
     "execution_count": 57,
     "metadata": {},
     "output_type": "execute_result"
    },
    {
     "data": {
      "text/plain": [
       "False"
      ]
     },
     "execution_count": 57,
     "metadata": {},
     "output_type": "execute_result"
    },
    {
     "name": "stdout",
     "output_type": "stream",
     "text": [
      "============================\n"
     ]
    },
    {
     "data": {
      "text/plain": [
       "PosixPath('output/just_a_play.py')"
      ]
     },
     "execution_count": 57,
     "metadata": {},
     "output_type": "execute_result"
    },
    {
     "data": {
      "text/plain": [
       "False"
      ]
     },
     "execution_count": 57,
     "metadata": {},
     "output_type": "execute_result"
    },
    {
     "data": {
      "text/plain": [
       "False"
      ]
     },
     "execution_count": 57,
     "metadata": {},
     "output_type": "execute_result"
    },
    {
     "data": {
      "text/plain": [
       "False"
      ]
     },
     "execution_count": 57,
     "metadata": {},
     "output_type": "execute_result"
    }
   ],
   "source": [
    "path_exists = Path(\"output\", \"testing_pathlib.py\") # True for `exists` and `is_file`\n",
    "path_not_exists = Path(\"output\", \"just_a_play.py\") # will return False for all three methods\n",
    "path_exists.write_text(\"\")\n",
    "\n",
    "for path in zip[[\"path_exists\", \"path_not_exists\"], [path_exists, path_not_exists]]:\n",
    "    print(\"============================\")\n",
    "    path\n",
    "    path.exists()\n",
    "    path.is_file()\n",
    "    path.is_dir()"
   ]
  },
  {
   "attachments": {},
   "cell_type": "markdown",
   "metadata": {},
   "source": [
    "## bash and Path equivalence"
   ]
  },
  {
   "cell_type": "code",
   "execution_count": 7,
   "metadata": {},
   "outputs": [
    {
     "data": {
      "text/plain": [
       "PosixPath('/Users/whlin')"
      ]
     },
     "execution_count": 7,
     "metadata": {},
     "output_type": "execute_result"
    },
    {
     "data": {
      "text/plain": [
       "PosixPath('/Users/whlin/Library/CloudStorage/OneDrive-HKUSTConnect/Documents/python/my_notes_py/python_notes')"
      ]
     },
     "execution_count": 7,
     "metadata": {},
     "output_type": "execute_result"
    },
    {
     "data": {
      "text/plain": [
       "20"
      ]
     },
     "execution_count": 7,
     "metadata": {},
     "output_type": "execute_result"
    },
    {
     "name": "stdout",
     "output_type": "stream",
     "text": [
      "hello world\n",
      "I'm good\n"
     ]
    },
    {
     "data": {
      "text/plain": [
       "2"
      ]
     },
     "execution_count": 7,
     "metadata": {},
     "output_type": "execute_result"
    },
    {
     "data": {
      "text/plain": [
       "PosixPath('new_foo.txt')"
      ]
     },
     "execution_count": 7,
     "metadata": {},
     "output_type": "execute_result"
    }
   ],
   "source": [
    "# ---------------------------- get home directory ---------------------------- #\n",
    "Path.home()\n",
    "# bash\n",
    "# echo $HOME\n",
    "\n",
    "# ---------------------------------- get cwd --------------------------------- #\n",
    "Path.cwd()\n",
    "# bash\n",
    "# pwd\n",
    "\n",
    "# ------------------------- create an empty txt file ------------------------- #\n",
    "Path(\"empty.txt\").write_text('')\n",
    "# bash\n",
    "# touch empty.txt\n",
    "\n",
    "# ----------------------------- create a txt file ---------------------------- #\n",
    "Path(\"foo.txt\").write_text(\"hello world\\nI'm good\") \n",
    "# bash. This allows us to input txt to the newly-created file\n",
    "# cat > foo.txt\n",
    "\n",
    "# -------------------------------- read text -------------------------------- #\n",
    "print(Path(\"foo.txt\").read_text())\n",
    "# bash\n",
    "# cat foo.txt\n",
    "\n",
    "# -------------------------------- rename file ------------------------------- #\n",
    "p = Path(\"foo.txt\")\n",
    "p.write_text(\"hi\") # will overwrite...\n",
    "\n",
    "# p.with_stem(\"new_foo\") => change the name of the file to new_foo, returning a Path object\n",
    "# p.replace will replace `p` with the name specified in the argument \n",
    "p.replace(p.with_stem(\"new_foo\"))  \n",
    "# bash\n",
    "# mv foo.txt new_foo.txt\n",
    "\n",
    "# ----------------------------------- mkdir ---------------------------------- #\n",
    "Path(\"my/new/dir\").mkdir(parents=True, exist_ok=True) # if there is such dir, nothing and so no errors!\n",
    "# bash\n",
    "# mkdir -p my/new/dir # -p will create parent folders if needed"
   ]
  },
  {
   "cell_type": "code",
   "execution_count": 19,
   "metadata": {},
   "outputs": [
    {
     "data": {
      "text/plain": [
       "PosixPath('/Users/whlin/Library/CloudStorage/OneDrive-HKUSTConnect/Documents/python/my_notes_py/python_notes')"
      ]
     },
     "execution_count": 19,
     "metadata": {},
     "output_type": "execute_result"
    },
    {
     "data": {
      "text/plain": [
       "PosixPath('/Users/whlin/Library/CloudStorage/OneDrive-HKUSTConnect/Documents/python/my_notes_py/python_notes/testing_code_pathlib')"
      ]
     },
     "execution_count": 19,
     "metadata": {},
     "output_type": "execute_result"
    }
   ],
   "source": [
    "# open a directory for testing purposes\n",
    "Path.cwd()\n",
    "\n",
    "# NOTE: we need to explicitly pass Path.cwd()! Otherwise, the current directory might change later!\n",
    "test_path = Path(Path.cwd(), 'testing_code_pathlib') \n",
    "test_path\n",
    "test_path.mkdir(parents=True, exist_ok=True)"
   ]
  },
  {
   "attachments": {},
   "cell_type": "markdown",
   "metadata": {},
   "source": [
    "## class methods (top-level functions)\n",
    "- not object method!\n",
    "- `Path.cwd`\n",
    "- `Path.home`"
   ]
  },
  {
   "cell_type": "code",
   "execution_count": 3,
   "metadata": {},
   "outputs": [
    {
     "data": {
      "text/plain": [
       "PosixPath('/Users/whlin/Library/CloudStorage/OneDrive-HKUSTConnect/Documents/python/my_notes_py/python_notes')"
      ]
     },
     "execution_count": 3,
     "metadata": {},
     "output_type": "execute_result"
    },
    {
     "name": "stdout",
     "output_type": "stream",
     "text": [
      "/Users/whlin/Library/CloudStorage/OneDrive-HKUSTConnect/Documents/python/my_notes_py/python_notes\n"
     ]
    },
    {
     "data": {
      "text/plain": [
       "PosixPath('/Users/whlin')"
      ]
     },
     "execution_count": 3,
     "metadata": {},
     "output_type": "execute_result"
    }
   ],
   "source": [
    "Path.cwd() # os.get_cwd\n",
    "!pwd\n",
    "Path.home()\n",
    "\n",
    "# os.chdir(str(Path.home() / 'Downloads')) # if want to change to other directories, we still need to use `os.chdir`!\n",
    "# os.chdir(str(Path('~/Downloads').expanduser())) # NOTE: we have to expand `~`! Also, `str` isn't necessary!\n",
    "# os.chdir(Path.home()) # can directly give Path object\n",
    "# os.chdir(Path('~/Downloads').expanduser()) # can directly give Path object\n",
    "\n"
   ]
  },
  {
   "attachments": {},
   "cell_type": "markdown",
   "metadata": {},
   "source": [
    "## create a path object directly from string"
   ]
  },
  {
   "cell_type": "code",
   "execution_count": 5,
   "metadata": {},
   "outputs": [
    {
     "data": {
      "text/plain": [
       "PosixPath('hello/world')"
      ]
     },
     "execution_count": 5,
     "metadata": {},
     "output_type": "execute_result"
    },
    {
     "data": {
      "text/plain": [
       "PosixPath('~/Downloads/Hello/World')"
      ]
     },
     "execution_count": 5,
     "metadata": {},
     "output_type": "execute_result"
    },
    {
     "data": {
      "text/plain": [
       "PosixPath('/Users/whlin/Downloads/Hello/World')"
      ]
     },
     "execution_count": 5,
     "metadata": {},
     "output_type": "execute_result"
    },
    {
     "data": {
      "text/plain": [
       "PosixPath('/Users/whlin/Downloads/Hello/World')"
      ]
     },
     "execution_count": 5,
     "metadata": {},
     "output_type": "execute_result"
    },
    {
     "data": {
      "text/plain": [
       "PosixPath('~/Downloads/hello/test.txt')"
      ]
     },
     "execution_count": 5,
     "metadata": {},
     "output_type": "execute_result"
    }
   ],
   "source": [
    "# NOTE: even in Windows, we can still use `/` as path separator. The forward slash operator is used independently of the actual path separator on the platform\n",
    "\n",
    "Path('hello','world') # hello/world\n",
    "\n",
    "# M1: specify the whole path as a single string\n",
    "Path(\"~/Downloads/Hello/World\")\n",
    "# M2: use `/`. The left-most object must be a Path object!\n",
    "Path.home() / 'Downloads' / 'Hello' / 'World' # `/` has been overloaded \n",
    "# M3: good, allows for method chian\n",
    "Path.home().joinpath('Downloads','Hello', 'World')\n",
    "# M4: join two path as well. BEST method, since M1 sometimes can't be used, because the components may be variables \n",
    "Path(\"~/Downloads\", \"hello\", 'test.txt')"
   ]
  },
  {
   "attachments": {},
   "cell_type": "markdown",
   "metadata": {},
   "source": [
    "## open files with `open` method instead of `open` function"
   ]
  },
  {
   "cell_type": "code",
   "execution_count": 20,
   "metadata": {},
   "outputs": [
    {
     "data": {
      "text/plain": [
       "PosixPath('/Users/whlin/Library/CloudStorage/OneDrive-HKUSTConnect/Documents/python/my_notes_py/python_notes/testing_code_pathlib/testing.txt')"
      ]
     },
     "execution_count": 20,
     "metadata": {},
     "output_type": "execute_result"
    },
    {
     "name": "stdout",
     "output_type": "stream",
     "text": [
      "overwritting...\n"
     ]
    }
   ],
   "source": [
    "# Path class has an `open` method, which is the same as the built-in open function!\n",
    "\n",
    "# path = Path(\"~/testing.txt\").expanduser()\n",
    "path = Path(test_path, 'testing.txt')\n",
    "path\n",
    "if not path.exists(): # if file not already exists\n",
    "    path.write_text('hello\\nworld')\n",
    "\n",
    "with path.open('r') as f: # same as with open(\"testing.txt\", r) as f:\n",
    "    for line in f:\n",
    "        print(line)"
   ]
  },
  {
   "attachments": {},
   "cell_type": "markdown",
   "metadata": {},
   "source": [
    "## access file content without `open`, by `{read, write}_text`"
   ]
  },
  {
   "cell_type": "code",
   "execution_count": null,
   "metadata": {},
   "outputs": [
    {
     "data": {
      "text/plain": [
       "'overwritting...'"
      ]
     },
     "metadata": {},
     "output_type": "display_data"
    },
    {
     "data": {
      "text/plain": [
       "15"
      ]
     },
     "metadata": {},
     "output_type": "display_data"
    }
   ],
   "source": [
    "# return as a string\n",
    "Path(path).read_text() # get all the text inside. Same as `f.read()`. if want to read line by line, use path.open('r') as f, then iterate f\n",
    "Path(path).write_text(\"overwritting...\") # this will erase the stuff in the original file... Same as `f.write`"
   ]
  },
  {
   "attachments": {},
   "cell_type": "markdown",
   "metadata": {},
   "source": [
    "## Path object attributes and methods"
   ]
  },
  {
   "cell_type": "code",
   "execution_count": 35,
   "metadata": {},
   "outputs": [
    {
     "data": {
      "text/plain": [
       "PosixPath('~/Downloads')"
      ]
     },
     "execution_count": 35,
     "metadata": {},
     "output_type": "execute_result"
    },
    {
     "data": {
      "text/plain": [
       "'my_text'"
      ]
     },
     "execution_count": 35,
     "metadata": {},
     "output_type": "execute_result"
    },
    {
     "data": {
      "text/plain": [
       "'.txt'"
      ]
     },
     "execution_count": 35,
     "metadata": {},
     "output_type": "execute_result"
    },
    {
     "data": {
      "text/plain": [
       "'my_text.txt'"
      ]
     },
     "execution_count": 35,
     "metadata": {},
     "output_type": "execute_result"
    }
   ],
   "source": [
    "path = Path(\"~/Downloads/my_text.txt\")\n",
    "path.parent\n",
    "path.stem\n",
    "path.suffix\n",
    "path.name"
   ]
  },
  {
   "cell_type": "code",
   "execution_count": 21,
   "metadata": {},
   "outputs": [
    {
     "name": "stdout",
     "output_type": "stream",
     "text": [
      "Path object attributes...\n",
      "====for p ~/Downloads/Hello/world/my_test.txt====\n",
      "p = PosixPath('~/Downloads/Hello/world/my_test.txt')\n",
      "p.name = 'my_test.txt'\n",
      "p.parent = PosixPath('~/Downloads/Hello/world')\n",
      "p.parent.parent = PosixPath('~/Downloads/Hello')\n",
      "p.stem = 'my_test'\n",
      "p.suffix = '.txt'\n",
      "p.anchor = ''\n",
      "p.root = ''\n",
      "p.parent / ('world' + p.suffix)  = PosixPath('~/Downloads/Hello/world/world.txt')\n",
      "====end====\n",
      "====for p ~/my/dir====\n",
      "p = PosixPath('~/my/dir')\n",
      "p.name = 'dir'\n",
      "p.parent = PosixPath('~/my')\n",
      "p.parent.parent = PosixPath('~')\n",
      "p.stem = 'dir'\n",
      "p.suffix = ''\n",
      "p.anchor = ''\n",
      "p.root = ''\n",
      "p.parent / ('world' + p.suffix)  = PosixPath('~/my/world')\n",
      "====end====\n",
      "\n",
      "\n",
      "Path object methods...\n",
      "====for path ~/Downloads/Hello/World/good.txt====\n",
      "for path ~/Downloads/Hello/World/good.txt:\n",
      "p.cwd() / 'textfiles' = PosixPath('/Users/whlin/Library/CloudStorage/OneDrive-HKUSTConnect/Documents/python/my_notes_py/python_notes/textfiles')\n",
      "p.home() = PosixPath('/Users/whlin')\n",
      "p.cwd().exists() = True\n",
      "p.exists() = False\n",
      "p.is_dir() = False\n",
      "p.is_file() = False\n",
      "p.is_absolute() = False\n",
      "p.with_name('abc.png')  = PosixPath('~/Downloads/Hello/World/abc.png')\n",
      "p.with_stem('abc') = PosixPath('~/Downloads/Hello/World/abc.txt')\n",
      "p.with_suffix('.png') = PosixPath('~/Downloads/Hello/World/good.png')\n",
      "====end====\n",
      "====for path ~/Downloads/Hello/World/good.txt====\n",
      "for path /Users/whlin/Library/CloudStorage/OneDrive-HKUSTConnect/Documents/python/my_notes_py/python_notes:\n",
      "p.cwd() / 'textfiles' = PosixPath('/Users/whlin/Library/CloudStorage/OneDrive-HKUSTConnect/Documents/python/my_notes_py/python_notes/textfiles')\n",
      "p.home() = PosixPath('/Users/whlin')\n",
      "p.cwd().exists() = True\n",
      "p.exists() = True\n",
      "p.is_dir() = True\n",
      "p.is_file() = False\n",
      "p.is_absolute() = True\n",
      "p.with_name('abc.png')  = PosixPath('/Users/whlin/Library/CloudStorage/OneDrive-HKUSTConnect/Documents/python/my_notes_py/abc.png')\n",
      "p.with_stem('abc') = PosixPath('/Users/whlin/Library/CloudStorage/OneDrive-HKUSTConnect/Documents/python/my_notes_py/abc')\n",
      "p.with_suffix('.png') = PosixPath('/Users/whlin/Library/CloudStorage/OneDrive-HKUSTConnect/Documents/python/my_notes_py/python_notes.png')\n",
      "====end====\n"
     ]
    }
   ],
   "source": [
    "# Note that .parent returns a new Path object, whereas the other properties return strings. \n",
    "# so, .parent can be chained as in the last example or even combined with / to create completely new paths:\n",
    "# path = Path(\"~/Downloads/Hello/world/my_test.txt\")\n",
    "\n",
    "print(\"Path object attributes...\")\n",
    "for p in [Path(\"~/Downloads/Hello/world/my_test.txt\"), Path('~/my/dir')]:\n",
    "    print(f'====for p {p}====')\n",
    "    print(f\"{p = }\")\n",
    "    print(f\"{p.name = }\") # file name\n",
    "    print(f\"{p.parent = }\")\n",
    "    print(f\"{p.parent.parent = }\")\n",
    "    print(f\"{p.stem = }\") # file name, without extension\n",
    "    print(f\"{p.suffix = }\") # extension only\n",
    "    print(f\"{p.anchor = }\")\n",
    "    print(f\"{p.root = }\")\n",
    "    print(f\"{p.parent / ('world' + p.suffix)  = }\")\n",
    "    # change to another file \n",
    "    print('====end====')\n",
    "\n",
    "print(\"\\n\\nPath object methods...\")\n",
    "# methods of Path object \n",
    "path = Path(\"~/Downloads/Hello/World/good.txt\")\n",
    "for p in [path, path.cwd()]:\n",
    "    print(f'====for path {path}====')\n",
    "    print(f'for path {p}:')\n",
    "    print(f\"{p.cwd() / 'textfiles' = }\") # '/' has been overloaded\n",
    "    print(f\"{p.home() = }\") # fall back to `Path.home()`\n",
    "    print(f\"{p.cwd().exists() = }\")\n",
    "    print(f\"{p.exists() = }\")\n",
    "    print(f\"{p.is_dir() = }\")\n",
    "    print(f\"{p.is_file() = }\")\n",
    "    print(f\"{p.is_absolute() = }\")\n",
    "    print(f\"{p.with_name('abc.png')  = }\") # change the name to something else\n",
    "    print(f\"{p.with_stem('abc') = }\") # change the stem to something else\n",
    "    print(f\"{p.with_suffix('.png') = }\") # change the suffix to something else\n",
    "    # p.chmod()\n",
    "    print('====end====')"
   ]
  },
  {
   "attachments": {},
   "cell_type": "markdown",
   "metadata": {},
   "source": [
    "## rename file/directory and create file/directory"
   ]
  },
  {
   "cell_type": "code",
   "execution_count": 24,
   "metadata": {},
   "outputs": [
    {
     "data": {
      "text/plain": [
       "PosixPath('/Users/whlin/Library/CloudStorage/OneDrive-HKUSTConnect/Documents/python/my_notes_py/python_notes')"
      ]
     },
     "execution_count": 24,
     "metadata": {},
     "output_type": "execute_result"
    },
    {
     "data": {
      "text/plain": [
       "12"
      ]
     },
     "execution_count": 24,
     "metadata": {},
     "output_type": "execute_result"
    }
   ],
   "source": [
    "Path.cwd()\n",
    "# ------------------------------- create/rename files ------------------------------- #\n",
    "Path(\"testing.txt\").write_text(\"hello world!\") # make a new file first so that we can rename it\n",
    "# Path(\"testing.txt\").with_stem(\"test\") # get a Path object withe a name name. Will not do rename\n",
    "\n",
    "if not Path(\"test.txt\").exists: # to avoid replacing an existing file \n",
    "    Path(\"testing.txt\").replace(\"test.txt\") # get a Path object withe a name. Will do rename. NOTE: if there exists a file with the same replaced name, then the old file will be removed as well! Be extra careful about it!\n",
    "\n",
    "# usually, we just want to change the name of a file. In this case, use with_stem, which will return a Path with the same directory as the original\n",
    "path = Path(\"testing.txt\")\n",
    "path.replace(path.with_stem(\"testxx\"))\n",
    "# ---------------------------------------------------------------------------- #\n",
    "\n",
    "\n",
    "# -------------------------- create/rename directory ------------------------- #\n",
    "# create directory\n",
    "path = Path('my/path/to/dir')\n",
    "Path(path).mkdir(mode=511, parents=True, exist_ok=True) # create a new directory \n",
    "\n",
    "# rename directory\n",
    "# change the name of the directory\n",
    "# M1: bad\n",
    "# path.rename(\"./my/path/to/NEW_dir\") \n",
    "# M2: good\n",
    "path = path.rename(path.with_stem('NEW_dir'))\n",
    "\n",
    "# this is wrong.. This will remove the given dir, and then create a dir in the home directory \n",
    "# path.rename(\"NEW_dir\") "
   ]
  },
  {
   "attachments": {},
   "cell_type": "markdown",
   "metadata": {},
   "source": [
    "## glob and rglob (recursive glob), iterdir for file iteration\n",
    "- optionally, can use `path.iterdir()`. \n",
    "    - we use `Path.iterdir` instead of `os.listdir` in `Pathlib`!\n",
    "    - Even better, use `Path.glob('*')`"
   ]
  },
  {
   "cell_type": "code",
   "execution_count": null,
   "metadata": {},
   "outputs": [
    {
     "data": {
      "text/plain": [
       "[PosixPath('file_manage.ipynb'), PosixPath('py_topics.ipynb')]"
      ]
     },
     "metadata": {},
     "output_type": "display_data"
    },
    {
     "data": {
      "text/plain": [
       "[]"
      ]
     },
     "metadata": {},
     "output_type": "display_data"
    },
    {
     "name": "stdout",
     "output_type": "stream",
     "text": [
      "file_manage.ipynb\n",
      "py_topics.ipynb\n",
      ".Rhistory .eclipse .config Music .julia .condarc out.txt play_.txt .DS_Store .CFUserTextEncoding my_out.txt bin less .bashrc .local .psql_history Pictures playing.txt testing.txt test_rglob .zprofile DM_notes.pdf .zsh_history .ipython Desktop Library .matplotlib .lesshst Parallels miniforge3 seaborn-data .emacs.d scikit_learn_data .cups .bash_sessions Public NEW_dir testttt.txt play.txt .vscode-R .RData OneDrive - HKUST Connect my Applications (Parallels) Movies d~ .emacs Applications .emacs~ .Rapp.history .Trash test.txt .ipynb_checkpoints .tldrc .jupyter .keras hello .vscode-insiders .pydataset Documents sys_info_page.html error.txt .vscode .bash_profile testxx.txt Downloads .python_history .gitconfig d .bash_history .viminfo .zsh_sessions My Drive .conda ls-output.txt "
     ]
    }
   ],
   "source": [
    "sorted(Path().rglob('*.ipynb')) # search current directory recursively for *.py files\n",
    "sorted(Path().glob('*.py')) # search current directory for *.py files\n",
    "for x in Path().expanduser().glob('*.ipynb'): # very often, we can't use `~` when we iterate a directory...\n",
    "    print(x)\n",
    "\n",
    "path = Path.home()\n",
    "for f in path.iterdir(): # same as path.glob(*)\n",
    "    print(f.name, end=' ')"
   ]
  },
  {
   "attachments": {},
   "cell_type": "markdown",
   "metadata": {},
   "source": [
    "## write content of the array line by line to file"
   ]
  },
  {
   "cell_type": "code",
   "execution_count": 66,
   "metadata": {},
   "outputs": [
    {
     "name": "stdout",
     "output_type": "stream",
     "text": [
      "line 0\n",
      "line 1\n",
      "line 2\n",
      "line 3\n",
      "line 4\n",
      "line 5\n",
      "line 6\n",
      "line 7\n",
      "line 8\n",
      "line 9"
     ]
    }
   ],
   "source": [
    "a = [f'line {i}' for i in range(10)]\n",
    "path = '~/Downloads/output_try.txt'\n",
    "path = Path(path).expanduser()\n",
    "# path.mkdir()\n",
    "\n",
    "# with path.open('w') as f:\n",
    "with path.open('w') as f:\n",
    "    # print()\n",
    "    print(*a, sep='\\n', end='', file=f)\n",
    "    # f.writelines?\n",
    "        # f.write(line)\n",
    "        # f.write('\\n')\n",
    "\n",
    "print(*a, sep='\\n', end='')"
   ]
  },
  {
   "attachments": {},
   "cell_type": "markdown",
   "metadata": {},
   "source": [
    "## self-defined functions based on Pathlib"
   ]
  },
  {
   "attachments": {},
   "cell_type": "markdown",
   "metadata": {},
   "source": [
    "### add a prefix/suffix to the file name of a given path"
   ]
  },
  {
   "cell_type": "code",
   "execution_count": 23,
   "metadata": {},
   "outputs": [
    {
     "data": {
      "text/plain": [
       "'my_text'"
      ]
     },
     "execution_count": 23,
     "metadata": {},
     "output_type": "execute_result"
    },
    {
     "data": {
      "text/plain": [
       "PosixPath('hello/world/my_text_20230705_092858.txt')"
      ]
     },
     "execution_count": 23,
     "metadata": {},
     "output_type": "execute_result"
    },
    {
     "data": {
      "text/plain": [
       "PosixPath('hello/world/20230705_092858_my_text.txt')"
      ]
     },
     "execution_count": 23,
     "metadata": {},
     "output_type": "execute_result"
    }
   ],
   "source": [
    "path = Path(\"hello/world/my_text.txt\")\n",
    "ts = get_timestamp()\n",
    "path.stem # file name without extension; string type \n",
    "\n",
    "# -------------------------- add suffix to file name ------------------------- #\n",
    "path.with_stem('_'.join([path.stem, ts])) # Path type\n",
    "\n",
    "# -------------------------- add prefix to file name ------------------------- #\n",
    "path.with_stem('_'.join([ts, path.stem])) # Path type"
   ]
  },
  {
   "attachments": {},
   "cell_type": "markdown",
   "metadata": {},
   "source": [
    "### change Path object to string\n",
    "- use `path.as_posix()`, but this will use `/` for separator\n",
    "- usually, \n",
    "\t- properties give us string\n",
    "\t- method gives us Path object"
   ]
  },
  {
   "cell_type": "code",
   "execution_count": 26,
   "metadata": {},
   "outputs": [
    {
     "data": {
      "text/plain": [
       "'my_text'"
      ]
     },
     "execution_count": 26,
     "metadata": {},
     "output_type": "execute_result"
    },
    {
     "data": {
      "text/plain": [
       "PosixPath('hello/world/xyz.txt')"
      ]
     },
     "execution_count": 26,
     "metadata": {},
     "output_type": "execute_result"
    },
    {
     "data": {
      "text/plain": [
       "'hello/world/my_text.txt'"
      ]
     },
     "execution_count": 26,
     "metadata": {},
     "output_type": "execute_result"
    }
   ],
   "source": [
    "path = Path(\"hello/world/my_text.txt\")\n",
    "path.stem # string\n",
    "path.with_name(\"xyz.txt\") # Path object \n",
    "path.as_posix() # change to string type. Note that directory separator is forward slash (`/`)"
   ]
  },
  {
   "attachments": {},
   "cell_type": "markdown",
   "metadata": {},
   "source": [
    "### get the given path without file extension\n",
    "- use `path.with_suffix('')`\n",
    "\t- this just remove the suffix!"
   ]
  },
  {
   "cell_type": "code",
   "execution_count": 31,
   "metadata": {},
   "outputs": [
    {
     "data": {
      "text/plain": [
       "PosixPath('hello/world/my_text')"
      ]
     },
     "execution_count": 31,
     "metadata": {},
     "output_type": "execute_result"
    }
   ],
   "source": [
    "path = Path(\"hello/world/my_text.txt\")\n",
    "path.with_suffix(\"\") # return a Path object"
   ]
  },
  {
   "attachments": {},
   "cell_type": "markdown",
   "metadata": {},
   "source": [
    "### get total file size of multiple files"
   ]
  },
  {
   "cell_type": "code",
   "execution_count": 125,
   "metadata": {},
   "outputs": [
    {
     "data": {
      "text/plain": [
       "PosixPath('/Users/whlin/Library/CloudStorage/OneDrive-HKUSTConnect/Academic/Notes of HKCC/HKCC Teaching/SEHH2311/student_work/SEHH2311_A1')"
      ]
     },
     "execution_count": 125,
     "metadata": {},
     "output_type": "execute_result"
    }
   ],
   "source": [
    "path = \"/Users/whlin/Library/CloudStorage/OneDrive-HKUSTConnect/Academic/Notes of HKCC/HKCC Teaching/SEHH2311/student_work/SEHH2311_A1\"\n",
    "path = Path(path)\n"
   ]
  },
  {
   "cell_type": "code",
   "execution_count": null,
   "metadata": {},
   "outputs": [
    {
     "data": {
      "text/plain": [
       "            60\n",
       ".txt        11\n",
       ".pdf         1\n",
       ".d           1\n",
       ".history     1\n",
       ".html        1\n",
       "dtype: int64"
      ]
     },
     "metadata": {},
     "output_type": "display_data"
    }
   ],
   "source": [
    "def count_suffix(path):\n",
    "    # count the extension of the files in a directory\n",
    "    return pd.Series(\n",
    "        Counter(p.suffix for p in Path(path).expanduser().glob('*'))\n",
    "        ).sort_values(ascending=False)\n",
    "    \n",
    "# path = '~/Downloads'\n",
    "# path = Path.cwd()\n",
    "path = Path.home() / 'Downloads'\n",
    "# count_suffix(path)\n",
    "count_suffix(Path.home())"
   ]
  },
  {
   "attachments": {},
   "cell_type": "markdown",
   "metadata": {},
   "source": [
    "### create dir, directory tree functions"
   ]
  },
  {
   "cell_type": "code",
   "execution_count": null,
   "metadata": {},
   "outputs": [
    {
     "name": "stdout",
     "output_type": "stream",
     "text": [
      "- /Users/whlin/Library/CloudStorage/OneDrive-HKUSTConnect/Documents/python/my_notes_py/python_notes/testing_code_pathlib/new_dir\n",
      "    - dir_1\n",
      "        - doc_1.txt\n",
      "        - doc_2.txt\n",
      "        - doc_3.txt\n",
      "        - doc_4.txt\n",
      "    - dir_2\n",
      "        - doc_1.txt\n",
      "        - doc_2.txt\n",
      "        - doc_3.txt\n",
      "        - doc_4.txt\n",
      "    - dir_3\n",
      "        - doc_1.txt\n",
      "        - doc_2.txt\n",
      "        - doc_3.txt\n",
      "        - doc_4.txt\n",
      "/Users/whlin/Library/CloudStorage/OneDrive-HKUSTConnect/Documents/python/my_notes_py/python_notes/testing_code_pathlib/new_dir/dir_1/doc_1.txt\n",
      "/Users/whlin/Library/CloudStorage/OneDrive-HKUSTConnect/Documents/python/my_notes_py/python_notes/testing_code_pathlib/new_dir/dir_1/doc_2.txt\n",
      "/Users/whlin/Library/CloudStorage/OneDrive-HKUSTConnect/Documents/python/my_notes_py/python_notes/testing_code_pathlib/new_dir/dir_1/doc_3.txt\n",
      "/Users/whlin/Library/CloudStorage/OneDrive-HKUSTConnect/Documents/python/my_notes_py/python_notes/testing_code_pathlib/new_dir/dir_1/doc_4.txt\n",
      "/Users/whlin/Library/CloudStorage/OneDrive-HKUSTConnect/Documents/python/my_notes_py/python_notes/testing_code_pathlib/new_dir/dir_2/doc_1.txt\n",
      "/Users/whlin/Library/CloudStorage/OneDrive-HKUSTConnect/Documents/python/my_notes_py/python_notes/testing_code_pathlib/new_dir/dir_2/doc_2.txt\n",
      "/Users/whlin/Library/CloudStorage/OneDrive-HKUSTConnect/Documents/python/my_notes_py/python_notes/testing_code_pathlib/new_dir/dir_2/doc_3.txt\n",
      "/Users/whlin/Library/CloudStorage/OneDrive-HKUSTConnect/Documents/python/my_notes_py/python_notes/testing_code_pathlib/new_dir/dir_2/doc_4.txt\n",
      "/Users/whlin/Library/CloudStorage/OneDrive-HKUSTConnect/Documents/python/my_notes_py/python_notes/testing_code_pathlib/new_dir/dir_3/doc_1.txt\n",
      "/Users/whlin/Library/CloudStorage/OneDrive-HKUSTConnect/Documents/python/my_notes_py/python_notes/testing_code_pathlib/new_dir/dir_3/doc_2.txt\n",
      "/Users/whlin/Library/CloudStorage/OneDrive-HKUSTConnect/Documents/python/my_notes_py/python_notes/testing_code_pathlib/new_dir/dir_3/doc_3.txt\n",
      "/Users/whlin/Library/CloudStorage/OneDrive-HKUSTConnect/Documents/python/my_notes_py/python_notes/testing_code_pathlib/new_dir/dir_3/doc_4.txt\n"
     ]
    }
   ],
   "source": [
    "def create_dir(path, n_dir=3, n_doc=4):\n",
    "    # in the given directory `path`, create dir_{1,2,..n_dir}, and inside each dir_*, create doc_{1,2,..,n_doc}.txt\n",
    "    path = path.expanduser()\n",
    "    for i in range(1, n_dir+1):\n",
    "        # cur_path = Path(path).expanduser().joinpath(f'dir_{i}')\n",
    "        cur_path = Path(path, f'dir_{i}')\n",
    "        # print(cur_path)\n",
    "\n",
    "        cur_path.mkdir(parents=True, exist_ok=True)\n",
    "        \n",
    "        for j in range(1, n_doc+1):\n",
    "            Path(cur_path, f'doc_{j}.txt').write_text(f\"doc_{j}\")\n",
    "\n",
    "def dir_tree(path):\n",
    "    path = Path(path).expanduser()\n",
    "    print(f'- {path}')\n",
    "    for p in sorted(path.rglob('*')):\n",
    "        depth = len(p.relative_to(path).parts) \n",
    "        spacer = '    '*depth\n",
    "        print(f'{spacer}- {p.name}')\n",
    "        # print(p)\n",
    "\n",
    "def dir_walk(path):\n",
    "    # print all files in a directory (including subdirectories inside)\n",
    "    # M1: recursion\n",
    "    path = Path(path).expanduser()\n",
    "    for file in sorted(path.iterdir()):\n",
    "        if file.is_file():\n",
    "            print(file)\n",
    "        else:\n",
    "            dir_walk(file)\n",
    "    # M2: rglob\n",
    "    # for file in sorted(path.rglob('*')):\n",
    "    #     if file.is_file():\n",
    "    #         print(file)\n",
    "\n",
    "def unique_path(directory, name_pattern):\n",
    "    counter = 0\n",
    "    while True:\n",
    "        counter += 1\n",
    "        path = Path(directory, name_pattern.format(counter))\n",
    "        if not path.exists():\n",
    "            return path\n",
    "\n",
    "path = test_path / \"new_dir\"\n",
    "create_dir(path)\n",
    "dir_tree(path)\n",
    "dir_walk(path)\n",
    "# path = unique_path(path, 'test{:03d}.txt')\n",
    "# path\n",
    "# unique_path(path)\n",
    "\n",
    "# # path = Path.home()/'playing'\n",
    "# # path = '~/hello/world'\n",
    "# path = '~/Desktop/hello/world'\n",
    "# create_dir(path)\n",
    "\n",
    "# path = \"~/Desktop/hello\"\n",
    "# dir_tree(path)\n",
    "# path = unique_path('~/Desktop/hello', 'test{:03d}.txt')\n",
    "\n",
    "# path\n"
   ]
  },
  {
   "attachments": {},
   "cell_type": "markdown",
   "metadata": {},
   "source": [
    "### function to add prefix/suffix to the files of a directory"
   ]
  },
  {
   "cell_type": "code",
   "execution_count": 80,
   "metadata": {},
   "outputs": [
    {
     "data": {
      "text/plain": [
       "'hello'"
      ]
     },
     "execution_count": 80,
     "metadata": {},
     "output_type": "execute_result"
    }
   ],
   "source": [
    "Path(\"~/Desktop/hello.txt\").stem"
   ]
  },
  {
   "cell_type": "code",
   "execution_count": 88,
   "metadata": {},
   "outputs": [
    {
     "data": {
      "text/plain": [
       "[PosixPath('/Users/whlin/Desktop/2 new laptop'),\n",
       " PosixPath('/Users/whlin/Desktop/MM'),\n",
       " PosixPath('/Users/whlin/Desktop/The Linux Command Line.pdf'),\n",
       " PosixPath('/Users/whlin/Desktop/a.out'),\n",
       " PosixPath('/Users/whlin/Desktop/backup'),\n",
       " PosixPath('/Users/whlin/Desktop/backup_vscode'),\n",
       " PosixPath('/Users/whlin/Desktop/bash_practice'),\n",
       " PosixPath('/Users/whlin/Desktop/distros.txt'),\n",
       " PosixPath('/Users/whlin/Desktop/ds_utils'),\n",
       " PosixPath('/Users/whlin/Desktop/final'),\n",
       " PosixPath('/Users/whlin/Desktop/foo.txt'),\n",
       " PosixPath('/Users/whlin/Desktop/foo.txt.gz'),\n",
       " PosixPath('/Users/whlin/Desktop/git_practice'),\n",
       " PosixPath('/Users/whlin/Desktop/hello.html'),\n",
       " PosixPath('/Users/whlin/Desktop/hello.ipynb'),\n",
       " PosixPath('/Users/whlin/Desktop/leetcode_play.py'),\n",
       " PosixPath('/Users/whlin/Desktop/misc_languages_play.md'),\n",
       " PosixPath('/Users/whlin/Desktop/myC.cpp'),\n",
       " PosixPath('/Users/whlin/Desktop/myC.exe'),\n",
       " PosixPath('/Users/whlin/Desktop/my_dir'),\n",
       " PosixPath('/Users/whlin/Desktop/my_first_script.py'),\n",
       " PosixPath('/Users/whlin/Desktop/my_out.html'),\n",
       " PosixPath('/Users/whlin/Desktop/my_out.o'),\n",
       " PosixPath('/Users/whlin/Desktop/myfile.txt'),\n",
       " PosixPath('/Users/whlin/Desktop/mylink'),\n",
       " PosixPath('/Users/whlin/Desktop/myout.gz'),\n",
       " PosixPath('/Users/whlin/Desktop/myzip.gz'),\n",
       " PosixPath('/Users/whlin/Desktop/new_dir'),\n",
       " PosixPath('/Users/whlin/Desktop/out.txt'),\n",
       " PosixPath('/Users/whlin/Desktop/play_only'),\n",
       " PosixPath('/Users/whlin/Desktop/problematic_graphs'),\n",
       " PosixPath('/Users/whlin/Desktop/song_list_exercise'),\n",
       " PosixPath('/Users/whlin/Desktop/src'),\n",
       " PosixPath('/Users/whlin/Desktop/temp.txt'),\n",
       " PosixPath('/Users/whlin/Desktop/temp_dir'),\n",
       " PosixPath('/Users/whlin/Desktop/test'),\n",
       " PosixPath('/Users/whlin/Desktop/testing.txt'),\n",
       " PosixPath('/Users/whlin/Desktop/try_flush.py')]"
      ]
     },
     "execution_count": 88,
     "metadata": {},
     "output_type": "execute_result"
    },
    {
     "data": {
      "text/plain": [
       "['py_topics.ipynb', 'py_techniques.ipynb', 'testing_code_pathlib']"
      ]
     },
     "execution_count": 88,
     "metadata": {},
     "output_type": "execute_result"
    }
   ],
   "source": [
    "path = '~/Desktop'\n",
    "sorted(Path(path).expanduser().glob('[!.]*'))\n",
    "\n",
    "glob('*')"
   ]
  },
  {
   "cell_type": "code",
   "execution_count": 96,
   "metadata": {},
   "outputs": [],
   "source": [
    "def add_prefix_suffix(path, ext='', prefix='', suffix='', ignore_hidden=True, recursive=False):\n",
    "    # ext: filter by extension \n",
    "    # use case: add timestamp to each file\n",
    "    \n",
    "    if ignore_hidden:\n",
    "        pattern = f'[!.]*.{ext}' if ext else '[!.]*.*'\n",
    "    else:\n",
    "        pattern = f'*.{ext}' if ext else '*.*'\n",
    "    \n",
    "        \n",
    "    files = sorted(Path(path).expanduser().rglob(pattern)) if recursive else sorted(Path(path).expanduser().glob(pattern))\n",
    "    \n",
    "    for file in files:\n",
    "        # print(file)\n",
    "        new_name = '_'.join(x for x in [prefix, file.stem, suffix] if x) # we need list comprehension to exclude those empty string input!\n",
    "        # print(file.with_stem(new_name))\n",
    "        file.rename(file.with_stem(new_name))\n",
    "\n",
    "# old code \n",
    "# def change_file_names(path, ext='png', prefix=None, suffix=None):\n",
    "#     for file in os.listdir(path):\n",
    "#         # print(type(file))\n",
    "#         if file.endswith(ext):\n",
    "#             new_name = file\n",
    "#             if prefix:\n",
    "#                 # new_name = prefix + '_' + new_name\n",
    "#                 new_name = f'{prefix}_{new_name}'\n",
    "#             if suffix:\n",
    "#                 # new_name = new_name + '_' + suffix\n",
    "#                 new_name = f'{new_name}_{suffix}'\n",
    "#             print(new_name)\n",
    "#             os.rename(os.path.join(path, file), os.path.join(path, new_name))\n",
    "\n",
    "\n",
    "# path = '~/Desktop/hello/world/dir_1'\n",
    "# path = test_path / \"new_dir\"\n",
    "path = '~/Desktop/foo'\n",
    "# create_dir(path)\n",
    "add_prefix_suffix(path, prefix='pref', suffix='suff', ignore_hidden=True, recursive=True)\n"
   ]
  },
  {
   "cell_type": "code",
   "execution_count": null,
   "metadata": {},
   "outputs": [
    {
     "name": "stdout",
     "output_type": "stream",
     "text": [
      "/Users/whlin/Desktop/hello/world/dir_1/pref_doc_1_3.txt /Users/whlin/Desktop/hello/world/dir_1/pref_doc_2_3.txt /Users/whlin/Desktop/hello/world/dir_1/pref_doc_3_3.txt /Users/whlin/Desktop/hello/world/dir_1/pref_doc_4_3.txt\n"
     ]
    }
   ],
   "source": [
    "def print_file(path, pattern='*' ,start=None, end=None, strip=False, output_path=None):\n",
    "    res = []\n",
    "    for file in sorted(Path(path).expanduser().glob(pattern)):\n",
    "        if strip: \n",
    "            res.append(str(file)[start:end].strip()) \n",
    "        else: \n",
    "            res.append(str(file)[start:end]) \n",
    "    if output_path:\n",
    "        Path(output_path).expanduser().write_text('\\n'.join(res))\n",
    "    print(*res)\n",
    "    return res\n",
    "\n",
    "path = '~/Desktop/hello/world/dir_1'\n",
    "# res = print_file(path, start=-15, end=None)\n",
    "res = print_file(path, strip=True)"
   ]
  },
  {
   "attachments": {},
   "cell_type": "markdown",
   "metadata": {},
   "source": [
    "### find those students who did not submit assignments\n",
    "- this is for online grading at HKCC"
   ]
  },
  {
   "cell_type": "code",
   "execution_count": 11,
   "metadata": {},
   "outputs": [],
   "source": [
    "def find_no_submit(paths_to_sub, path_to_all, export_path=None, suffix=None):\n",
    "    submitted = []\n",
    "    for path_to_sub in paths_to_sub:\n",
    "        # print(path_to_sub)\n",
    "        for file in Path(path_to_sub).expanduser().glob('[!.]*'):\n",
    "            # print(file)\n",
    "            m = re.search('\\d{8}a', file.name)\n",
    "            if m:\n",
    "                submitted.append(m.group().upper())\n",
    "            else:\n",
    "                print(f\"can't find id in the file name: {file.name}\")\n",
    "            # try:\n",
    "            #     submitted.append(re.findall('\\d{8}a', file.name)[0].upper())\n",
    "            # except \n",
    "            # submitted.append(re.search('(\\d{8}a)', file.name)[1].upper())\n",
    "    # print(path_to_all)\n",
    "    id_all_students = np.array(pd.read_csv(Path(path_to_all).expanduser(), header=None))\n",
    "    # print(submitted)\n",
    "    no_submit = id_all_students[~np.isin(id_all_students, submitted)]\n",
    "    \n",
    "    if suffix:\n",
    "        no_submit = np.array([x+suffix for x in no_submit])\n",
    "    \n",
    "    if export_path:\n",
    "        # print(export_path)\n",
    "        with Path(export_path).expanduser().open('w') as f:\n",
    "            print(*no_submit, sep='\\n', end='', file=f)\n",
    "    return no_submit\n",
    "\n",
    "# path_to_sub = ['/Users/whlin/Library/CloudStorage/OneDrive-HKUSTConnect/Academic/Notes of HKCC/HKCC Teaching/SEHH2311/student_work/SEHH2311_A1']\n",
    "# # classes = range(201, 212)\n",
    "# # paths_to_sub = [Path(path_to_sub + str(class_)).expanduser() for class_ in classes]\n",
    "# path_to_all = '/Users/whlin/Downloads/SEHH1069_id_all.csv'\n",
    "# export_path='~/Downloads/out_try.txt'\n",
    "# # suffix = '@common.cpce-polyu.edu.hk'\n",
    "# # path_to_all\n",
    "# # paths_to_sub\n",
    "# id_no_sub = find_no_submit(path_to_sub, path_to_all, export_path=export_path, suffix=None)\n",
    "\n",
    "\n",
    "# ------------------------------ 1069_many class ----------------------------- #\n",
    "path_to_sub = '/Users/whlin/Library/CloudStorage/OneDrive-CPCE/assignments/HW 2/SEHH1069 Individual Assignment Two '\n",
    "classes = range(201, 212)\n",
    "paths_to_sub = [Path(path_to_sub + str(class_)).expanduser() for class_ in classes]\n",
    "path_to_all = '/Users/whlin/Downloads/SEHH1069_id_all.csv'\n",
    "export_path='~/Downloads/out_try.csv'\n",
    "# suffix = '@common.cpce-polyu.edu.hk'\n",
    "# # path_to_all\n",
    "# # paths_to_sub\n",
    "# paths_to_sub\n",
    "_ = find_no_submit(paths_to_sub, path_to_all, export_path=export_path, suffix=None)\n",
    "# ---------------------------------------------------------------------------- #\n",
    "\n",
    "# print(path_to_all)\n",
    "# Path(path_to_all).expanduser()\n",
    "# pd.read_csv(Path(path_to_all).expanduser(), header=None)\n",
    "\n",
    "# path_to_sub = '/Users/whlin/Library/CloudStorage/OneDrive-CPCE/HW 1/SEHH1069 Assignment One '\n",
    "# classes = range(201, 212)\n",
    "# paths_to_sub = [Path(path_to_sub + str(class_)).expanduser() for class_ in classes]\n",
    "# path_to_all = '/Users/whlin/Desktop/SEHH1069_id_all.csv'\n",
    "# export_path='~/Downloads/out_try.txt'\n",
    "# suffix = '@common.cpce-polyu.edu.hk'\n",
    "# # path_to_all\n",
    "# # paths_to_sub\n",
    "# _ = find_no_submit(paths_to_sub, path_to_all, export_path=export_path, suffix=suffix)\n"
   ]
  },
  {
   "attachments": {},
   "cell_type": "markdown",
   "metadata": {},
   "source": [
    "### create grading table\n",
    "- for HKCC"
   ]
  },
  {
   "cell_type": "code",
   "execution_count": 12,
   "metadata": {},
   "outputs": [
    {
     "data": {
      "text/plain": [
       "array(['22143753A', '22082177A', '22173641A', '22166698A', '22166477A',\n",
       "       '22165978A', '22134744A', '22138884A', '22154651A', '22109606A',\n",
       "       '22173813A', '22075900A', '22108566A', '22092828A', '22176446A',\n",
       "       '22062302A', '22132959A', '22150420A', '22160368A', '22090675A',\n",
       "       '21129994A', '22145537A', '22071372A', '22103417A', '22069929A',\n",
       "       '22148693A', '22160878A', '22155659A', '22104832A', '22115940A',\n",
       "       '22083567A', '22139101A', '22167529A', '22056786A', '22112070A',\n",
       "       '22094060A', '22082823A', '22145678A', '22102795A', '22019152A',\n",
       "       '22009748A', '22118707A', '22174521A', '22094810A', '22131232A',\n",
       "       '22163647A', '22019987A', '22088108A', '22070756A', '22150260A',\n",
       "       '22126953A', '22055753A', '22111940A', '22134418A', '22072497A',\n",
       "       '22078791A', '22063777A', '22166207A', '22151808A', '22149106A',\n",
       "       '22164275A', '22168864A', '22171790A', '22142615A', '22158650A',\n",
       "       '22157432A', '22058558A', '22152737A', '22080842A', '22023534A',\n",
       "       '22147820A', '22019232A', '22083371A', '22143520A', '22071138A',\n",
       "       '22146269A', '22047600A', '22171727A', '21002786A', '22064006A',\n",
       "       '22130223A', '22099694A', '20168592A', '22139487A', '22029030A',\n",
       "       '22115477A', '22146571A', '22127704A', '22162294A', '22113299A',\n",
       "       '22143138A', '22028228A', '22134406A', '22147948A', '22098206A',\n",
       "       '22068693A', '22138189A', '22058640A', '22067310A', '22002483A',\n",
       "       '22130825A', '21159532A', '22115742A', '22107883A', '22168225A',\n",
       "       '22141563A', '22111177A', '22122548A'], dtype=object)"
      ]
     },
     "execution_count": 12,
     "metadata": {},
     "output_type": "execute_result"
    },
    {
     "name": "stdout",
     "output_type": "stream",
     "text": [
      "['22143753A' '22082177A' '22173641A' '22166698A' '22166477A' '22165978A'\n",
      " '22134744A' '22138884A' '22154651A' '22109606A' '22173813A' '22075900A'\n",
      " '22108566A' '22092828A' '22176446A' '22062302A' '22132959A' '22150420A'\n",
      " '22160368A' '22090675A' '21129994A' '22145537A' '22071372A' '22103417A'\n",
      " '22069929A' '22148693A' '22160878A' '22155659A' '22104832A' '22115940A'\n",
      " '22083567A' '22139101A' '22167529A' '22056786A' '22112070A' '22094060A'\n",
      " '22082823A' '22145678A' '22102795A' '22019152A' '22009748A' '22118707A'\n",
      " '22174521A' '22094810A' '22131232A' '22163647A' '22019987A' '22088108A'\n",
      " '22070756A' '22150260A' '22126953A' '22055753A' '22111940A' '22134418A'\n",
      " '22072497A' '22078791A' '22063777A' '22166207A' '22151808A' '22149106A'\n",
      " '22164275A' '22168864A' '22171790A' '22142615A' '22158650A' '22157432A'\n",
      " '22058558A' '22152737A' '22080842A' '22023534A' '22147820A' '22019232A'\n",
      " '22083371A' '22143520A' '22071138A' '22146269A' '22047600A' '22171727A'\n",
      " '21002786A' '22064006A' '22130223A' '22099694A' '20168592A' '22139487A'\n",
      " '22029030A' '22115477A' '22146571A' '22127704A' '22162294A' '22113299A'\n",
      " '22143138A' '22028228A' '22134406A' '22147948A' '22098206A' '22068693A'\n",
      " '22138189A' '22058640A' '22067310A' '22002483A' '22130825A' '21159532A'\n",
      " '22115742A' '22107883A' '22168225A' '22141563A' '22111177A' '22122548A']\n"
     ]
    }
   ],
   "source": [
    "def highlight_no_sub(row):\n",
    "    return [None]*len(row) if row.submit else ['background-color: yellow']*len(row)  \n",
    "\n",
    "def create_grade_table(path_excel, questions=None, scores=None, deduct=False, id_no_sub=None, remove_chinese=False, mc=False, out_path=None):\n",
    "    print(id_no_sub)\n",
    "    df = (\n",
    "        pd.read_excel(path_excel)\n",
    "        .drop(['Title', ' ', 'Suspended', 'Last downloaded from this course','Institution'], axis=1)\n",
    "        .assign(\n",
    "            submit = True if id_no_sub is None else lambda df: ~df['ID number'].isin(id_no_sub),\n",
    "            remark = np.nan\n",
    "            )\n",
    "    )\n",
    "    if remove_chinese:\n",
    "        df.Fullname = df.Fullname.str.replace(r'[^a-zA-Z\\s]+', '').str.strip()\n",
    "    if mc:\n",
    "        df['mc'] = np.nan\n",
    "    for i in range(1, len(questions)+1):\n",
    "        for sub_q, sub_score in zip(questions[i-1], scores[i-1]):\n",
    "            df[ f'Q{i}_{sub_q}_{sub_score}' + ('_de' if deduct else '') ] = np.nan\n",
    "                \n",
    "                \n",
    "    # df['remark'] = np.nan\n",
    "    # print(df[cols].add_suffix(\"_deduct\"))\n",
    "    # df[cols] = df[cols].add_suffix(\"_deduct\")\n",
    "    # print(df[cols].add_suffix(\"_deduct\"))\n",
    "    # print(df[cols])\n",
    "    \n",
    "    # return df.style.highlight_min('submit')\n",
    "    df.index += 1\n",
    "    df['sum'] = np.nan\n",
    "    df\n",
    "    df.style.apply(highlight_no_sub, axis=1).to_excel(out_path if out_path else '~/Downloads/HKCC_grade_table.xlsx')\n",
    "    return df \n",
    "\n",
    "# --------------------------------- 1069: A2 --------------------------------- #\n",
    "path_excel = '/Users/whlin/Downloads/SEHH1069 (Centralized) [2022 2] Grades.xlsx'\n",
    "questions = [[], list('ab')]\n",
    "id_no_sub_path = \"/Users/whlin/Downloads/out_try.csv\"\n",
    "id_no_sub = np.array(pd.read_csv(Path(id_no_sub_path).expanduser(), header=None).squeeze())\n",
    "id_no_sub\n",
    "# id_no_sub = ['22044947A', '22004046A']\n",
    "scores = [[],[6,4]]\n",
    "df = create_grade_table(path_excel, questions, scores, deduct=False, id_no_sub=id_no_sub, mc=False)\n",
    "# ---------------------------------------------------------------------------- #\n",
    "\n",
    "# --------------------------------- 2311: A1 --------------------------------- #\n",
    "# path_excel = '/Users/whlin/Downloads/SEHH2311_all_students.xlsx'\n",
    "# questions = [list('abcdef'), list('ab'), ['a','bi','bii', 'c', 'd']]\n",
    "# # no_sub = ['22044947A', '22004046A']\n",
    "# scores = [[6,6,7,7,7,7], [10,10], [8,8,8,8,8]]\n",
    "# df = create_grade_table(path_excel, questions, scores, deduct=True, id_no_sub=id_no_sub, mc=False)\n",
    "# ---------------------------------------------------------------------------- #\n",
    "\n",
    "# --------------------------------- 2311: midterm --------------------------------- #\n",
    "# path_excel = '/Users/whlin/Downloads/SEHH2311_all_students.xlsx'\n",
    "# questions = [list('abc'), list('abcd'), ['a']]\n",
    "# # no_sub = ['22044947A', '22004046A']\n",
    "# scores = [[10,10,10,10], [10,10,15,10], [15]]\n",
    "# df = create_grade_table(path_excel, questions, scores, deduct=False, id_no_sub=None, mc=False)\n",
    "# df\n",
    "# ---------------------------------------------------------------------------- #"
   ]
  },
  {
   "attachments": {},
   "cell_type": "markdown",
   "metadata": {},
   "source": [
    "### open files programmatically. This is useful for online grading pdf files"
   ]
  },
  {
   "cell_type": "code",
   "execution_count": 13,
   "metadata": {},
   "outputs": [
    {
     "name": "stdout",
     "output_type": "stream",
     "text": [
      "51 60\n",
      "number of documents in the directory = 61\n"
     ]
    }
   ],
   "source": [
    "def open_file(filename):\n",
    "    # open a file using different methods, depending on the os type\n",
    "    if sys.platform == \"win32\":\n",
    "        os.startfile(filename)\n",
    "    else:\n",
    "        opener = \"open\" if sys.platform == \"darwin\" else \"xdg-open\"\n",
    "        subprocess.call([opener, filename])\n",
    "\n",
    "def open_doc(path, pattern='*', start=None, end=None, recursive=True):\n",
    "    print(start, end)\n",
    "    res = []\n",
    "    for file in eval(f\"sorted(Path(path).expanduser().{'r' if recursive else ''}glob(pattern))\"):\n",
    "        if file.is_file():\n",
    "            res.append(file)\n",
    "    print(f\"number of documents in the directory = {len(res)}\")\n",
    "\n",
    "    for i in range(start-1, end):\n",
    "        open_file(str(res[i]))\n",
    "        time.sleep(0.3)\n",
    "        # pyautogui.press(['pagedown']*2)\n",
    "        # pyautogui.press(['pagedown']*4)\n",
    "        pyautogui.press(['pagedown']*2)\n",
    "        # pyautogui.click(2153, 51)\n",
    "        pyautogui.click(2152, 50)\n",
    "        time.sleep(0.1)\n",
    "        # pyautogui.click(536,92)\n",
    "        pyautogui.click(1598,90)\n",
    "        # time.sleep(0.1)\n",
    "        pyautogui.moveTo(2119,714)\n",
    "        \n",
    "        \n",
    "        # pyautogui.press('pagedown')\n",
    "\n",
    "# path = '~/Desktop/hello/world/dir_1'\n",
    "# path = '/Users/whlin/Library/CloudStorage/OneDrive-HKUSTConnect/Academic/Notes of HKCC/HKCC Teaching/SEHH2239/exam things/201'\n",
    "# path = '/Users/whlin/Library/CloudStorage/OneDrive-HKUSTConnect/Academic/Notes of HKCC/HKCC Teaching/SEHH2241/SEHH2241_22_Fall/SEHH2241-Assignment 2 Submission-1872491'\n",
    "# path = '/Users/whlin/Library/CloudStorage/OneDrive-HKUSTConnect/Academic/Notes of HKCC/HKCC Teaching/SEHH2311/student_work/SEHH2311_A1'\n",
    "# path = '/Users/whlin/Library/CloudStorage/OneDrive-CPCE/HW 1/SEHH1069 Assignment One 208'\n",
    "\n",
    "\n",
    "# -------------------------------- SEHH1069 A2 ------------------------------- #\n",
    "class_ = 208\n",
    "path = \"/Users/whlin/Library/CloudStorage/OneDrive-CPCE/assignments/HW 2/SEHH1069 Individual Assignment Two \" + str(class_)\n",
    "\n",
    "\n",
    "start=int(input(\"enter start index(start from 1): \"))\n",
    "end=int(input(\"enter end index: \"))\n",
    "\n",
    "open_doc(path, pattern='*.pdf', start=start, end=end, recursive=True)"
   ]
  },
  {
   "cell_type": "code",
   "execution_count": null,
   "metadata": {},
   "outputs": [],
   "source": [
    "def reverse_lines(file, output_name):\n",
    "    # reverse the lines of the given file, so that the last line becomes the first line\n",
    "    file = Path(file).expanduser()\n",
    "    text = file.read_text() # str type\n",
    "    # print(text)\n",
    "    res = '\\n'.join(text.strip().split('\\n')[::-1])\n",
    "    # print(res)\n",
    "    file.with_name(output_name).write_text(res)\n",
    "\n",
    "# path = '/Users/whlin/Library/CloudStorage/OneDrive-HKUSTConnect/Documents/python/my_notes_py/ad-hoc code/file_management/reverse_lines/chinese_text.txt'\n",
    "path = '../../data/chinese_text.txt'\n",
    "reverse_lines(path, output_name='chinese_text_reversed.txt')"
   ]
  },
  {
   "cell_type": "code",
   "execution_count": null,
   "metadata": {},
   "outputs": [
    {
     "name": "stdout",
     "output_type": "stream",
     "text": [
      "../../data/HKCC/SEHH2042/SEHH2042_work/1_19011630A.txt\n",
      "../../data/HKCC/SEHH2042/SEHH2042_work/1_19186232A.txt\n"
     ]
    }
   ],
   "source": [
    "def add_id(path, works, pattern):\n",
    "    \"\"\" Append each document with an given gid.\n",
    "        EX: 1234556A_ASM => 1_1234556A_ASM if the document has gid 1 \n",
    "        When grading group project, we want to append the group id of each student to their submitted p2p files\n",
    "        - files: id: gip mapping\n",
    "            19186232A\t1\n",
    "            19011630A\t1\n",
    "            20190501A\t1\n",
    "            20018393A\t1\n",
    "            20208582A\t1\n",
    "            20010776A\t2\n",
    "            20093215A\t2\n",
    "            20009962A\t2\n",
    "            20165160A\t2\n",
    "            20205402A\t2\n",
    "            20013324A\t2\n",
    "            20077332A\t3\n",
    "            20080999A\t3\n",
    "        - directory containing students' work:\n",
    "            19186232A_my_work.txt\n",
    "            19011630A_abc.txt\n",
    "    \"\"\"\n",
    "    path = Path(path).expanduser()\n",
    "\n",
    "    r = re.compile('([1-2][0-9]{7}A)')\n",
    "\n",
    "    # M1: use dict to get sid:gp pairs\n",
    "    # d = {}\n",
    "    #     for line in f:\n",
    "    #         sid, gp = line.strip().split('\\t')\n",
    "    #         d[sid] = gp\n",
    "\n",
    "    # M2: use Series with sid as index \n",
    "    d = pd.read_csv(\n",
    "                    path,\n",
    "                    sep='\\t',\n",
    "                    header=None,\n",
    "                    names=['sid',\n",
    "                    'gp_id'],\n",
    "                    index_col='sid'\n",
    "                ).squeeze() # .iloc[:,0]\n",
    "    \n",
    "    for f in sorted(Path(works).expanduser().glob(pattern)):\n",
    "        # extracted_id = f.stem[:9].upper()\n",
    "        extracted_id = r.findall(f.stem)[0].upper() if r.findall(f.stem) else ''\n",
    "        # print(extracted_id)\n",
    "        if extracted_id in d.index:\n",
    "            # M1: just add extracted d[sid] (the gp id) as prefix\n",
    "            # print(f.with_stem(f\"{d[extracted_id]}_{f.stem}\"))\n",
    "            # f.rename(f.with_stem(f\"{d[extracted_id]}_{f.stem}\"))\n",
    "\n",
    "            # M2: just add extracted d[sid] (the gp id) as prefix, and rename the original file to have the sid only\n",
    "            print(f.with_stem(f\"{d[extracted_id]}_{extracted_id}\"))\n",
    "            # f.rename(f.with_stem(f\"{d[extracted_id]}_{f.stem}\"))\n",
    "\n",
    "# path = '/Users/whlin/Library/CloudStorage/OneDrive-HKUSTConnect/Documents/python/my_notes_py/ad-hoc code/file_management/SEHH2042_addGPID/SEHH2042_stuID+gp.txt'\n",
    "# works = '/Users/whlin/Library/CloudStorage/OneDrive-HKUSTConnect/Documents/python/my_notes_py/ad-hoc code/file_management/SEHH2042_work'\n",
    "\n",
    "path ='../../data/HKCC/SEHH2042/SEHH2042_stuID+gp.txt'\n",
    "works ='../../data/HKCC/SEHH2042/SEHH2042_work' # directory\n",
    "\n",
    "add_id(path, works=works, pattern='*.txt')"
   ]
  },
  {
   "cell_type": "code",
   "execution_count": null,
   "metadata": {},
   "outputs": [],
   "source": [
    "def rm_tree(path):\n",
    "    # same as shutil.rmtree\n",
    "    # recursively remove the directory `path`\n",
    "    # IMPORTANT: very dangerous!!!\n",
    "    path = Path(path).expanduser()\n",
    "    for f in path.rglob('*'):\n",
    "        if f.is_file():\n",
    "            f.unlink()\n",
    "        elif f.is_dir():\n",
    "            rm_tree(f)\n",
    "    path.rmdir()\n",
    "\n",
    "def rm_files(path):\n",
    "    # remove all files in the given directory \n",
    "    path = Path(path).expanduser()\n",
    "    for f in path.rglob('*'):\n",
    "        if f.is_file():\n",
    "            f.unlink()\n",
    "            \n",
    "# path = '~/Desktop/song_list_exercise'\n",
    "path = test_path / 'to_be_remove'\n",
    "create_dir(path)\n",
    "rm_files(path /'dir_1')\n",
    "# rm_tree(path)\n",
    "# shutil.rmtree(Path(path).expanduser())"
   ]
  },
  {
   "attachments": {},
   "cell_type": "markdown",
   "metadata": {},
   "source": [
    "### create a messy song list, then clean it up"
   ]
  },
  {
   "cell_type": "code",
   "execution_count": null,
   "metadata": {},
   "outputs": [],
   "source": [
    "def create_song_list(path):\n",
    "    # create song list in format\n",
    "    # gp1_1 - gp2_1 - #1.txt\n",
    "    path = Path(path).expanduser()\n",
    "    path.mkdir(parents=True, exist_ok=True)\n",
    "    for i in range(1, 11):\n",
    "        path.joinpath(f\"gp1_{i} - gp2_{i} - #{i}.txt\").write_text('')\n",
    "\n",
    "def rename_song_list(path, pattern='*'):\n",
    "    # given song list in format \n",
    "    # gp1_1 - gp2_1 - #1.txt\n",
    "    # rename song file to this format\n",
    "    # 001-gp1_1-gp2_1.txt\n",
    "    path = Path(path).expanduser()\n",
    "    for f in path.glob(pattern):\n",
    "        gp1, gp2, num = [x.strip() for x in f.stem.split('-')]\n",
    "        num = num[1:].zfill(3)\n",
    "        new_stem = f\"{num}-{gp1}-{gp2}\"\n",
    "        # print(new_stem)\n",
    "        # print(f.with_stem(new_stem))\n",
    "        f.rename(f.with_stem(new_stem))\n",
    "\n",
    "path = test_path / \"song_list\"\n",
    "rm_files(path)\n",
    "# path = '~/Desktop/song_list_exercise'\n",
    "create_song_list(path)\n",
    "# rename_song_list(path, pattern='[!.]*')\n"
   ]
  },
  {
   "cell_type": "code",
   "execution_count": 10,
   "metadata": {},
   "outputs": [
    {
     "data": {
      "text/plain": [
       "PosixPath('/Users/whlin/Library/CloudStorage/OneDrive-HKUSTConnect/Documents/python/data/stratascratch/Acceptance Rate By Date 10285.csv')"
      ]
     },
     "execution_count": 10,
     "metadata": {},
     "output_type": "execute_result"
    },
    {
     "data": {
      "text/plain": [
       "PosixPath('/Users/whlin/Library/CloudStorage/OneDrive-HKUSTConnect/Documents/python/data/stratascratch/Bikes Last Used 10176.csv')"
      ]
     },
     "execution_count": 10,
     "metadata": {},
     "output_type": "execute_result"
    },
    {
     "data": {
      "text/plain": [
       "PosixPath('/Users/whlin/Library/CloudStorage/OneDrive-HKUSTConnect/Documents/python/data/stratascratch/Churro Activity Date 9688.csv')"
      ]
     },
     "execution_count": 10,
     "metadata": {},
     "output_type": "execute_result"
    },
    {
     "data": {
      "text/plain": [
       "PosixPath('/Users/whlin/Library/CloudStorage/OneDrive-HKUSTConnect/Documents/python/data/stratascratch/Counting Instances in Text 9814.csv')"
      ]
     },
     "execution_count": 10,
     "metadata": {},
     "output_type": "execute_result"
    },
    {
     "data": {
      "text/plain": [
       "PosixPath('/Users/whlin/Library/CloudStorage/OneDrive-HKUSTConnect/Documents/python/data/stratascratch/Customer Revenue In March 9782.csv')"
      ]
     },
     "execution_count": 10,
     "metadata": {},
     "output_type": "execute_result"
    },
    {
     "data": {
      "text/plain": [
       "PosixPath('/Users/whlin/Library/CloudStorage/OneDrive-HKUSTConnect/Documents/python/data/stratascratch/Employee and Manager Salaries 9894.csv')"
      ]
     },
     "execution_count": 10,
     "metadata": {},
     "output_type": "execute_result"
    },
    {
     "data": {
      "text/plain": [
       "PosixPath('/Users/whlin/Library/CloudStorage/OneDrive-HKUSTConnect/Documents/python/data/stratascratch/Find all wineries which produce wines by possessing aromas of plum, cherry, rose, or hazelnut 10026.csv')"
      ]
     },
     "execution_count": 10,
     "metadata": {},
     "output_type": "execute_result"
    },
    {
     "data": {
      "text/plain": [
       "PosixPath('/Users/whlin/Library/CloudStorage/OneDrive-HKUSTConnect/Documents/python/data/stratascratch/Find matching hosts and guests in a way that they are both of the same gender and nationality airbnb guests 10078.csv')"
      ]
     },
     "execution_count": 10,
     "metadata": {},
     "output_type": "execute_result"
    },
    {
     "data": {
      "text/plain": [
       "PosixPath('/Users/whlin/Library/CloudStorage/OneDrive-HKUSTConnect/Documents/python/data/stratascratch/Find matching hosts and guests in a way that they are both of the same gender and nationality airbnb hosts 10078.csv')"
      ]
     },
     "execution_count": 10,
     "metadata": {},
     "output_type": "execute_result"
    },
    {
     "data": {
      "text/plain": [
       "PosixPath('/Users/whlin/Library/CloudStorage/OneDrive-HKUSTConnect/Documents/python/data/stratascratch/Finding User Purchases 10322.csv')"
      ]
     },
     "execution_count": 10,
     "metadata": {},
     "output_type": "execute_result"
    },
    {
     "data": {
      "text/plain": [
       "PosixPath('/Users/whlin/Library/CloudStorage/OneDrive-HKUSTConnect/Documents/python/data/stratascratch/Highest Cost Orders customers 9915.csv')"
      ]
     },
     "execution_count": 10,
     "metadata": {},
     "output_type": "execute_result"
    },
    {
     "data": {
      "text/plain": [
       "PosixPath('/Users/whlin/Library/CloudStorage/OneDrive-HKUSTConnect/Documents/python/data/stratascratch/Highest Cost Orders orders 9915.csv')"
      ]
     },
     "execution_count": 10,
     "metadata": {},
     "output_type": "execute_result"
    },
    {
     "data": {
      "text/plain": [
       "PosixPath('/Users/whlin/Library/CloudStorage/OneDrive-HKUSTConnect/Documents/python/data/stratascratch/Highest Target Under Manager 9905.csv')"
      ]
     },
     "execution_count": 10,
     "metadata": {},
     "output_type": "execute_result"
    },
    {
     "data": {
      "text/plain": [
       "PosixPath('/Users/whlin/Library/CloudStorage/OneDrive-HKUSTConnect/Documents/python/data/stratascratch/Host Popularity Rental Prices 9632.csv')"
      ]
     },
     "execution_count": 10,
     "metadata": {},
     "output_type": "execute_result"
    },
    {
     "data": {
      "text/plain": [
       "PosixPath('/Users/whlin/Library/CloudStorage/OneDrive-HKUSTConnect/Documents/python/data/stratascratch/Income By Title and Gender sf bonus 10077.csv')"
      ]
     },
     "execution_count": 10,
     "metadata": {},
     "output_type": "execute_result"
    },
    {
     "data": {
      "text/plain": [
       "PosixPath('/Users/whlin/Library/CloudStorage/OneDrive-HKUSTConnect/Documents/python/data/stratascratch/Income By Title and Gender sf employee 10077.csv')"
      ]
     },
     "execution_count": 10,
     "metadata": {},
     "output_type": "execute_result"
    },
    {
     "data": {
      "text/plain": [
       "PosixPath('/Users/whlin/Library/CloudStorage/OneDrive-HKUSTConnect/Documents/python/data/stratascratch/Marketing Campaign Success [Advanced] 514.csv')"
      ]
     },
     "execution_count": 10,
     "metadata": {},
     "output_type": "execute_result"
    },
    {
     "data": {
      "text/plain": [
       "PosixPath('/Users/whlin/Library/CloudStorage/OneDrive-HKUSTConnect/Documents/python/data/stratascratch/Monthly Percentage Difference 10319.csv')"
      ]
     },
     "execution_count": 10,
     "metadata": {},
     "output_type": "execute_result"
    },
    {
     "data": {
      "text/plain": [
       "PosixPath('/Users/whlin/Library/CloudStorage/OneDrive-HKUSTConnect/Documents/python/data/stratascratch/Most Profitable Companies 9680.csv')"
      ]
     },
     "execution_count": 10,
     "metadata": {},
     "output_type": "execute_result"
    },
    {
     "data": {
      "text/plain": [
       "PosixPath('/Users/whlin/Library/CloudStorage/OneDrive-HKUSTConnect/Documents/python/data/stratascratch/Number of violations 9728.csv')"
      ]
     },
     "execution_count": 10,
     "metadata": {},
     "output_type": "execute_result"
    },
    {
     "data": {
      "text/plain": [
       "PosixPath('/Users/whlin/Library/CloudStorage/OneDrive-HKUSTConnect/Documents/python/data/stratascratch/Reviews of Categories 10049.csv')"
      ]
     },
     "execution_count": 10,
     "metadata": {},
     "output_type": "execute_result"
    },
    {
     "data": {
      "text/plain": [
       "PosixPath('/Users/whlin/Library/CloudStorage/OneDrive-HKUSTConnect/Documents/python/data/stratascratch/Top Businesses With Most Reviews 10048.csv')"
      ]
     },
     "execution_count": 10,
     "metadata": {},
     "output_type": "execute_result"
    },
    {
     "data": {
      "text/plain": [
       "PosixPath('/Users/whlin/Library/CloudStorage/OneDrive-HKUSTConnect/Documents/python/data/stratascratch/Users By Average Session Time.csv')"
      ]
     },
     "execution_count": 10,
     "metadata": {},
     "output_type": "execute_result"
    },
    {
     "data": {
      "text/plain": [
       "PosixPath('/Users/whlin/Library/CloudStorage/OneDrive-HKUSTConnect/Documents/python/data/stratascratch/exclusive amazon products innerwear amazon com 9608.csv')"
      ]
     },
     "execution_count": 10,
     "metadata": {},
     "output_type": "execute_result"
    },
    {
     "data": {
      "text/plain": [
       "PosixPath('/Users/whlin/Library/CloudStorage/OneDrive-HKUSTConnect/Documents/python/data/stratascratch/exclusive amazon products innerwear macys com 9608.csv')"
      ]
     },
     "execution_count": 10,
     "metadata": {},
     "output_type": "execute_result"
    },
    {
     "data": {
      "text/plain": [
       "PosixPath('/Users/whlin/Library/CloudStorage/OneDrive-HKUSTConnect/Documents/python/data/stratascratch/exclusive amazon products innerwear topshop com 9608.csv')"
      ]
     },
     "execution_count": 10,
     "metadata": {},
     "output_type": "execute_result"
    },
    {
     "data": {
      "text/plain": [
       "PosixPath('/Users/whlin/Library/CloudStorage/OneDrive-HKUSTConnect/Documents/python/data/stratascratch/fb.csv')"
      ]
     },
     "execution_count": 10,
     "metadata": {},
     "output_type": "execute_result"
    },
    {
     "data": {
      "text/plain": [
       "PosixPath('/Users/whlin/Library/CloudStorage/OneDrive-HKUSTConnect/Documents/python/data/stratascratch/find products 2068.csv')"
      ]
     },
     "execution_count": 10,
     "metadata": {},
     "output_type": "execute_result"
    },
    {
     "data": {
      "text/plain": [
       "PosixPath('/Users/whlin/Library/CloudStorage/OneDrive-HKUSTConnect/Documents/python/data/stratascratch/premium vs freemium 10300.csv')"
      ]
     },
     "execution_count": 10,
     "metadata": {},
     "output_type": "execute_result"
    },
    {
     "data": {
      "text/plain": [
       "PosixPath('/Users/whlin/Library/CloudStorage/OneDrive-HKUSTConnect/Documents/python/data/stratascratch/ranking most active guests 10159.csv')"
      ]
     },
     "execution_count": 10,
     "metadata": {},
     "output_type": "execute_result"
    }
   ],
   "source": [
    "path = Path(\"/Users/whlin/Library/CloudStorage/OneDrive-HKUSTConnect/Documents/python/data/stratascratch\")\n",
    "for f in sorted(path.glob(\"*.csv\")):\n",
    "    new_stem = f.stem.replace('_',' ')\n",
    "    f.rename(f.with_stem(new_stem))"
   ]
  },
  {
   "attachments": {},
   "cell_type": "markdown",
   "metadata": {},
   "source": [
    "# I/O\n",
    "- https://pynative.com/python-file-objects/#h-file-object-methods\n",
    "- IMPORTANT: \n",
    "    - Path.read_text() == as f.read()\n",
    "    - Path.write_text() == as f.write()\n",
    "- read a file:\n",
    "    - `with open('file_name', 'r') as f:`\n",
    "    - `with Path('file_name').open('r') as f:`\n",
    "    - `Path('file_name').read_text()` # if only want to read the whole file\n",
    "    - then, use for loop to read each line\n",
    "- write file:\n",
    "    - `with open('file_name', 'w') as f:`\n",
    "    - `with Path('file_name').open('w') as f:`\n",
    "    - `Path('file_name').write_text()` # if only want to write a string to the file\n",
    "    - then, use for loop to write everything we want"
   ]
  },
  {
   "attachments": {},
   "cell_type": "markdown",
   "metadata": {},
   "source": [
    "## input (read file; file instream)"
   ]
  },
  {
   "cell_type": "code",
   "execution_count": 7,
   "metadata": {},
   "outputs": [
    {
     "data": {
      "text/plain": [
       "16"
      ]
     },
     "execution_count": 7,
     "metadata": {},
     "output_type": "execute_result"
    },
    {
     "name": "stdout",
     "output_type": "stream",
     "text": [
      "=============\n"
     ]
    },
    {
     "data": {
      "text/plain": [
       "'for_read.txt'"
      ]
     },
     "execution_count": 7,
     "metadata": {},
     "output_type": "execute_result"
    },
    {
     "data": {
      "text/plain": [
       "'r'"
      ]
     },
     "execution_count": 7,
     "metadata": {},
     "output_type": "execute_result"
    },
    {
     "data": {
      "text/plain": [
       "'a 1\\nb 2\\nc 3\\nd 4\\n'"
      ]
     },
     "execution_count": 7,
     "metadata": {},
     "output_type": "execute_result"
    },
    {
     "data": {
      "text/plain": [
       "True"
      ]
     },
     "execution_count": 7,
     "metadata": {},
     "output_type": "execute_result"
    },
    {
     "data": {
      "text/plain": [
       "''"
      ]
     },
     "execution_count": 7,
     "metadata": {},
     "output_type": "execute_result"
    },
    {
     "data": {
      "text/plain": [
       "[]"
      ]
     },
     "execution_count": 7,
     "metadata": {},
     "output_type": "execute_result"
    },
    {
     "name": "stdout",
     "output_type": "stream",
     "text": [
      "=============\n",
      "a 1\n",
      "\n",
      "b 2\n",
      "\n",
      "c 3\n",
      "\n",
      "d 4\n",
      "\n",
      "=============\n",
      "a\n",
      " \n",
      "1\n",
      "\n",
      "\n",
      "b\n",
      " \n",
      "2\n",
      "\n",
      "\n",
      "c\n",
      " \n",
      "3\n",
      "\n",
      "\n",
      "d\n",
      " \n",
      "4\n",
      "\n",
      "\n"
     ]
    },
    {
     "data": {
      "text/plain": [
       "'a 1\\nb 2\\nc 3\\nd 4\\n'"
      ]
     },
     "execution_count": 7,
     "metadata": {},
     "output_type": "execute_result"
    }
   ],
   "source": [
    "# first, create a text file\n",
    "s = \"\"\"a 1\n",
    "b 2\n",
    "c 3\n",
    "d 4\n",
    "\"\"\"\n",
    "path = Path('for_read.txt')\n",
    "path.write_text(s)\n",
    "\n",
    "print('=============')\n",
    "# M1: use readline\n",
    "with open(path, 'r') as f:\n",
    "    f.name\n",
    "    f.mode\n",
    "    f.read() # read everything\n",
    "    f.readable()\n",
    "    f.readline() # it's an iterator => no more things to read after `f.read` !\n",
    "    f.readlines(3)\n",
    "    \n",
    "print('=============')\n",
    "with open(path, 'r') as f:\n",
    "    for line in f: # each iteration is a line.\n",
    "        print(line)\n",
    "        \n",
    "print('=============')\n",
    "with open(path, 'r') as f:\n",
    "    for line in f.read(): # each iteration is a character in the \n",
    "        print(line)\n",
    "\n",
    "# # M2: use Path.read_text. This can read the whole file as string only\n",
    "path.read_text() # same as f.read()"
   ]
  },
  {
   "attachments": {},
   "cell_type": "markdown",
   "metadata": {},
   "source": [
    "## output (write file; file outstream)"
   ]
  },
  {
   "cell_type": "code",
   "execution_count": 8,
   "metadata": {},
   "outputs": [
    {
     "data": {
      "text/plain": [
       "45"
      ]
     },
     "execution_count": 8,
     "metadata": {},
     "output_type": "execute_result"
    },
    {
     "data": {
      "text/plain": [
       "45"
      ]
     },
     "execution_count": 8,
     "metadata": {},
     "output_type": "execute_result"
    }
   ],
   "source": [
    "path = Path('my_output.txt')\n",
    "\n",
    "a = ['a', 'b', 'c']\n",
    "d = {chr(i): i for i in range(65, 70)}\n",
    "s = \\\n",
    "\"\"\"hello world!\n",
    "another line\n",
    "third line\"\"\"\n",
    "vars = [a,d,s]\n",
    "\n",
    "# M1 and M2: use Path.open('w') or open(Path, 'w')\n",
    "with path.open('w') as f:\n",
    "# with open(path, 'w') as f:\n",
    "    # M1: use print function, with file parameter. Bad. Need to use for loop\n",
    "    for var in vars:\n",
    "        print(var, file=f)\n",
    "\n",
    "# M3: use tuple unpacking\n",
    "# pros: \n",
    "#   - (1) no need for loop\n",
    "#   - (1) can disable the final final line easily \n",
    "with path.open('w') as f:\n",
    "    print(*vars, sep='\\n', file=f, end='') \n",
    "    \n",
    "\n",
    "# M4: use f.write\n",
    "with path.open('w') as f:\n",
    "    f.write(str(d)) # can write a single string only\n",
    "    \n",
    "# M5: use f.writelines to writes a list of strings to the file.\n",
    "# need to deal with the newline issue..\n",
    "with path.open('w') as f:\n",
    "    f.writelines([str(var) for var in vars]) # can write a single string only\n",
    "    \n",
    "    \n",
    "# # M6: use Path.write_text(), if we only have a string to write to \n",
    "# this is the same as `with path.write('w') as f: f.write(std(d))``\n",
    "path.write_text(str(d)) # convert to string first. \n",
    "\n",
    "# we can use `.write_text` to write a very long dictionary to a file!\n",
    "# d=dict(zip(np.arange(10000), np.arange(10000)))\n",
    "# Path(\"testing_out.txt\").write_text(str(d))\n",
    "\n",
    "\n",
    "\n",
    "# # M7: use %store magic command. this doesn't allow using python variable as file name\n",
    "# %store d >my_output.txt "
   ]
  },
  {
   "attachments": {},
   "cell_type": "markdown",
   "metadata": {},
   "source": [
    "# regular expression\n",
    "useful functions:\n",
    "- `search`\n",
    "- `findall`\n",
    "- `split`\n",
    "- `sub`"
   ]
  },
  {
   "cell_type": "code",
   "execution_count": 101,
   "metadata": {},
   "outputs": [
    {
     "name": "stdout",
     "output_type": "stream",
     "text": [
      "# --------------------------------- re.match --------------------------------- #\n",
      "<re.Match object; span=(0, 5), match='Hello'>\n",
      "None\n"
     ]
    },
    {
     "data": {
      "text/plain": [
       "<re.Match object; span=(0, 12), match='Isaac Newton'>"
      ]
     },
     "execution_count": 101,
     "metadata": {},
     "output_type": "execute_result"
    },
    {
     "data": {
      "text/plain": [
       "'Isaac Newton'"
      ]
     },
     "execution_count": 101,
     "metadata": {},
     "output_type": "execute_result"
    },
    {
     "data": {
      "text/plain": [
       "'Isaac'"
      ]
     },
     "execution_count": 101,
     "metadata": {},
     "output_type": "execute_result"
    },
    {
     "data": {
      "text/plain": [
       "'Newton'"
      ]
     },
     "execution_count": 101,
     "metadata": {},
     "output_type": "execute_result"
    },
    {
     "data": {
      "text/plain": [
       "('Isaac', 'Newton')"
      ]
     },
     "execution_count": 101,
     "metadata": {},
     "output_type": "execute_result"
    },
    {
     "data": {
      "text/plain": [
       "('Isaac', 'Newton')"
      ]
     },
     "execution_count": 101,
     "metadata": {},
     "output_type": "execute_result"
    },
    {
     "data": {
      "text/plain": [
       "('24', '1632')"
      ]
     },
     "execution_count": 101,
     "metadata": {},
     "output_type": "execute_result"
    },
    {
     "name": "stdout",
     "output_type": "stream",
     "text": [
      "# --------------------------------- re.search -------------------------------- #\n",
      "<re.Match object; span=(25, 30), match='color'>\n",
      "<re.Match object; span=(0, 5), match='Hello'>\n",
      "['hello', 'hello_32423', 'hello_']\n"
     ]
    },
    {
     "data": {
      "text/plain": [
       "'Isaac Newton'"
      ]
     },
     "execution_count": 101,
     "metadata": {},
     "output_type": "execute_result"
    },
    {
     "data": {
      "text/plain": [
       "'Isaac'"
      ]
     },
     "execution_count": 101,
     "metadata": {},
     "output_type": "execute_result"
    },
    {
     "data": {
      "text/plain": [
       "'Newton'"
      ]
     },
     "execution_count": 101,
     "metadata": {},
     "output_type": "execute_result"
    },
    {
     "data": {
      "text/plain": [
       "('Isaac', 'Newton')"
      ]
     },
     "execution_count": 101,
     "metadata": {},
     "output_type": "execute_result"
    },
    {
     "data": {
      "text/plain": [
       "('Isaac', 'Newton')"
      ]
     },
     "execution_count": 101,
     "metadata": {},
     "output_type": "execute_result"
    },
    {
     "name": "stdout",
     "output_type": "stream",
     "text": [
      "# -------------------------------- re.findall -------------------------------- #\n",
      "['color', 'colour']\n"
     ]
    },
    {
     "data": {
      "text/plain": [
       "'color'"
      ]
     },
     "execution_count": 101,
     "metadata": {},
     "output_type": "execute_result"
    },
    {
     "data": {
      "text/plain": [
       "[\"I'm very happy\", 'good']"
      ]
     },
     "execution_count": 101,
     "metadata": {},
     "output_type": "execute_result"
    },
    {
     "name": "stdout",
     "output_type": "stream",
     "text": [
      "# -------------------------------- re.finditer ------------------------------- #\n",
      "<re.Match object; span=(25, 30), match='color'>\n",
      "<re.Match object; span=(59, 65), match='colour'>\n",
      "# ---------------------------------- re.sub ---------------------------------- #\n",
      "re.findall(pat_color, s, flags=re.I) = ['color', 'colour']\n",
      "re.search(pat_color, s, flags=re.I) = <re.Match object; span=(25, 30), match='color'>\n",
      "re.sub(pat_color, '_REPLACE_', s, flags=re.I ) = 'Hello, hello, my name is _REPLACE_. I am very good at math. my _REPLACE_ is red'\n",
      "Hello, hello, my name is \n",
      ". I am very good at math. my \n",
      " is red\n"
     ]
    }
   ],
   "source": [
    "import re\n",
    "s = \"Hello, hello, my name is color. I am very good at math. my colour is red\"\n",
    "t = ['hello', 'hello_32423', 'hello_', 'eef_']\n",
    "pat_color = \"colo[u]?r\"\n",
    "\n",
    "# difference between `match` and `search`: `match` object first start at the beginning, whereas `search` doesn't\n",
    "\n",
    "print(\"# --------------------------------- re.match --------------------------------- #\")\n",
    "print(re.match(\"hell[oa]\", s, re.IGNORECASE)) # find the first match, and the match must start at the beginning!!\n",
    "# <re.Match object; span=(0, 5), match='Hello'>\n",
    "print(re.match(pat_color, s, re.IGNORECASE))  # no match, since `color` doesn't start at the beginning\n",
    "# None\n",
    "\n",
    "m = re.match(r\"(\\w+) (\\w+)\", \"Isaac Newton, physicist\")\n",
    "m\n",
    "# <re.Match object; span=(0, 12), match='Isaac Newton'>\n",
    "\n",
    "m[0] # The entire match. # same as m.group(0)\n",
    "# 'Isaac Newton'\n",
    "m[1] # The first parenthesized subgroup. # same as m.group(1)\n",
    "# 'Isaac'\n",
    "m[2] # The second parenthesized subgroup. # same as m.group(2)\n",
    "# 'Newton'\n",
    "m.group(1, 2) # Multiple arguments give us a tuple.  # same as m.group(1, 2)\n",
    "# ('Isaac', 'Newton')\n",
    "\n",
    "m.groups() # return all groups \n",
    "# ('Isaac', 'Newton')\n",
    "\n",
    "m = re.match(r\"(\\d+)\\.(\\d+)\", \"24.1632\")\n",
    "m.groups() \n",
    "# ('24', '1632')\n",
    "\n",
    "print(\"# --------------------------------- re.search -------------------------------- #\")\n",
    "print(re.search(pat_color, s, re.IGNORECASE)) # find the first match only\n",
    "# <re.Match object; span=(25, 30), match='color'>\n",
    "print(re.search(\"^Hell[oa]\", s, re.IGNORECASE)) # find the first match only\n",
    "# <re.Match object; span=(0, 5), match='Hello'>\n",
    "print([x for x in t if re.search('he', x)]) # if search can find a match, the returned truth value is True!\n",
    "# ['hello', 'hello_32423', 'hello_']\n",
    "\n",
    "m = re.search(r\"(\\w+) (\\w+)\", \"Isaac Newton, physicist\")\n",
    "m.group(0) # 'Isaac Newton'\n",
    "m.group(1) # 'Isaac'\n",
    "m.group(2) # 'Newton'\n",
    "m.group(1,2) # ('Isaac', 'Newton')\n",
    "m.groups() # ('Isaac', 'Newton')\n",
    "\n",
    "print(\"# -------------------------------- re.findall -------------------------------- #\")\n",
    "print(re.findall(pat_color, s, re.IGNORECASE))\n",
    "# ['color', 'colour']\n",
    "m = re.search(pat_color, s, re.IGNORECASE) # <re.Match object; span=(25, 30), match='color'>\n",
    "m[0] # 'color'\n",
    "# m[1] # error\n",
    "\n",
    "temp = \"I'm very happy! good boy\"\n",
    "re.findall(r'.*py|good', temp) # [\"I'm very happy\", 'good']\n",
    "\n",
    "print(\"# -------------------------------- re.finditer ------------------------------- #\")\n",
    "for x in re.finditer(pat_color, s, re.IGNORECASE):\n",
    "    print(x) # x is a match object \n",
    "# <re.Match object; span=(25, 30), match='color'>\n",
    "# <re.Match object; span=(59, 65), match='colour'>\n",
    "\n",
    "print(\"# ---------------------------------- re.sub ---------------------------------- #\")\n",
    "print(f\"{re.findall(pat_color, s, flags=re.I) = }\")\n",
    "print(f\"{re.search(pat_color, s, flags=re.I) = }\")\n",
    "print(f\"{re.sub(pat_color, '_REPLACE_', s, flags=re.I ) = }\")\n",
    "# 'Hello, hello, my name is _REPLACE_. I am very good at math. my _REPLACE_ is red'\n",
    "\n",
    "for x in re.split(pat_color, s, re.IGNORECASE):\n",
    "    print(x)\n",
    "# Hello, hello, my name is \n",
    "# . I am very good at math. my \n",
    "#  is red"
   ]
  },
  {
   "attachments": {},
   "cell_type": "markdown",
   "metadata": {},
   "source": [
    "## search vs findall, and effect of capture groups\n",
    "- search always return first match only\n",
    "- with capture group, the output is split into several groups\n",
    "- for `finall`, if given capture groups, only return the capture groups"
   ]
  },
  {
   "cell_type": "code",
   "execution_count": 245,
   "metadata": {},
   "outputs": [
    {
     "data": {
      "text/plain": [
       "'000abc111'"
      ]
     },
     "execution_count": 245,
     "metadata": {},
     "output_type": "execute_result"
    },
    {
     "data": {
      "text/plain": [
       "'000'"
      ]
     },
     "execution_count": 245,
     "metadata": {},
     "output_type": "execute_result"
    },
    {
     "data": {
      "text/plain": [
       "'111'"
      ]
     },
     "execution_count": 245,
     "metadata": {},
     "output_type": "execute_result"
    },
    {
     "data": {
      "text/plain": [
       "'000abc111'"
      ]
     },
     "execution_count": 245,
     "metadata": {},
     "output_type": "execute_result"
    }
   ],
   "source": [
    "s = '000abc111def222ghi'\n",
    "m = re.search(r'(\\d+)abc(\\d+)', s)\n",
    "m[0]\n",
    "m[1]\n",
    "m[2]\n",
    "# m[3] # error\n",
    "m.group()"
   ]
  },
  {
   "cell_type": "code",
   "execution_count": 19,
   "metadata": {},
   "outputs": [
    {
     "data": {
      "text/plain": [
       "'June 24'"
      ]
     },
     "execution_count": 19,
     "metadata": {},
     "output_type": "execute_result"
    },
    {
     "data": {
      "text/plain": [
       "'June'"
      ]
     },
     "execution_count": 19,
     "metadata": {},
     "output_type": "execute_result"
    },
    {
     "data": {
      "text/plain": [
       "'24'"
      ]
     },
     "execution_count": 19,
     "metadata": {},
     "output_type": "execute_result"
    },
    {
     "data": {
      "text/plain": [
       "'June 24'"
      ]
     },
     "execution_count": 19,
     "metadata": {},
     "output_type": "execute_result"
    },
    {
     "data": {
      "text/plain": [
       "[('June', '24'), ('Sep', '11')]"
      ]
     },
     "execution_count": 19,
     "metadata": {},
     "output_type": "execute_result"
    },
    {
     "data": {
      "text/plain": [
       "['June 24', 'Sep 11']"
      ]
     },
     "execution_count": 19,
     "metadata": {},
     "output_type": "execute_result"
    },
    {
     "name": "stdout",
     "output_type": "stream",
     "text": [
      "# ------------------------- repeated capturing group ------------------------- #\n"
     ]
    },
    {
     "data": {
      "text/plain": [
       "'192.168.0.185'"
      ]
     },
     "execution_count": 19,
     "metadata": {},
     "output_type": "execute_result"
    },
    {
     "data": {
      "text/plain": [
       "'0.'"
      ]
     },
     "execution_count": 19,
     "metadata": {},
     "output_type": "execute_result"
    },
    {
     "data": {
      "text/plain": [
       "['0.']"
      ]
     },
     "execution_count": 19,
     "metadata": {},
     "output_type": "execute_result"
    },
    {
     "data": {
      "text/plain": [
       "'192.168.0.185'"
      ]
     },
     "execution_count": 19,
     "metadata": {},
     "output_type": "execute_result"
    },
    {
     "data": {
      "text/plain": [
       "['192.168.0.185']"
      ]
     },
     "execution_count": 19,
     "metadata": {},
     "output_type": "execute_result"
    },
    {
     "data": {
      "text/plain": [
       "['192.168.0.']"
      ]
     },
     "execution_count": 19,
     "metadata": {},
     "output_type": "execute_result"
    },
    {
     "name": "stdout",
     "output_type": "stream",
     "text": [
      "# ---------------------------------------------------------------------------- #\n"
     ]
    },
    {
     "data": {
      "text/plain": [
       "'hello wor'"
      ]
     },
     "execution_count": 19,
     "metadata": {},
     "output_type": "execute_result"
    },
    {
     "data": {
      "text/plain": [
       "'hell'"
      ]
     },
     "execution_count": 19,
     "metadata": {},
     "output_type": "execute_result"
    },
    {
     "data": {
      "text/plain": [
       "('hell', 'wor')"
      ]
     },
     "execution_count": 19,
     "metadata": {},
     "output_type": "execute_result"
    },
    {
     "data": {
      "text/plain": [
       "[('hell', 'wor'), ('hell', 'wor')]"
      ]
     },
     "execution_count": 19,
     "metadata": {},
     "output_type": "execute_result"
    }
   ],
   "source": [
    "regex_gp = r\"([a-zA-Z]+) (\\d+)\"\n",
    "regex_no_gp = r\"[a-zA-Z]+ \\d+\"\n",
    "s = \"I was born on June 24, but I like Sep 11 more.\"\n",
    "\n",
    "match = re.search(regex_gp, s) \n",
    "match[0] # 'June 24'\n",
    "match[1] # 'June'\n",
    "match[2] # '24'\n",
    "match.group() # same as match[0]\n",
    "\n",
    "match = re.search(regex_no_gp, s) \n",
    "match[0] # 'June 24'\n",
    "# match[1] # error\n",
    "# match[2] # error\n",
    "\n",
    "re.findall(regex_gp, s)\n",
    "# [('June', '24'), ('Sep', '11')]\n",
    "re.findall(regex_no_gp, s)\n",
    "# ['June 24', 'Sep 11']\n",
    "\n",
    "\n",
    "print(\"# ------------------------- repeated capturing group ------------------------- #\")\n",
    "pat_cap = \"(\\d{1,3}\\.){3}\\d{1,3}\"\n",
    "pat_no_cap = \"(?:\\d{1,3}\\.){3}\\d{1,3}\"\n",
    "ip = \"blah blah 192.168.0.185 blah blah\"\n",
    "\n",
    "match = re.search(pat_cap, ip) \n",
    "# match\n",
    "match[0] # '192.168.0.185'\n",
    "match[1] # '0.'\n",
    "# match[2]\n",
    "\n",
    "re.findall(pat_cap, ip) # ['0.']\n",
    "\n",
    "match = re.search(pat_no_cap, ip) \n",
    "match[0] # '192.168.0.185'\n",
    "# match[1]\n",
    "\n",
    "re.findall(pat_no_cap, ip) # ['192.168.0.185']\n",
    "\n",
    "re.findall(\"((?:\\d{1,3}\\.){3})\\d{1,3}\", ip) # ['192.168.0.']\n",
    "\n",
    "print(\"# ---------------------------------------------------------------------------- #\")\n",
    "m = re.search('(hell)o (wor)', \"hello world. hello world.\")\n",
    "\n",
    "# give everything\n",
    "m[0] # 'hello wor' \n",
    "m[1] # 'hell'\n",
    "m.groups() # ('hell', 'wor')\n",
    "re.findall('(hell)o (wor)', \"hello world. hello world.\") # [('hell', 'wor'), ('hell', 'wor')]. Show only capture groups"
   ]
  },
  {
   "attachments": {},
   "cell_type": "markdown",
   "metadata": {},
   "source": [
    "## further examples on regular expression"
   ]
  },
  {
   "cell_type": "code",
   "execution_count": 102,
   "metadata": {},
   "outputs": [
    {
     "data": {
      "text/plain": [
       "Index(['total_bill', 'tip', 'sex', 'smoker', 'day', 'time', 'size'], dtype='object')"
      ]
     },
     "execution_count": 102,
     "metadata": {},
     "output_type": "execute_result"
    },
    {
     "data": {
      "text/plain": [
       "['smoker']"
      ]
     },
     "execution_count": 102,
     "metadata": {},
     "output_type": "execute_result"
    },
    {
     "data": {
      "text/plain": [
       "['total_bill', 'tip', 'sex', 'smoker', 'day', 'time', 'size']"
      ]
     },
     "execution_count": 102,
     "metadata": {},
     "output_type": "execute_result"
    },
    {
     "data": {
      "text/plain": [
       "['prefer_substd_n', '1_bin']"
      ]
     },
     "execution_count": 102,
     "metadata": {},
     "output_type": "execute_result"
    },
    {
     "data": {
      "text/plain": [
       "{'happy': 3, 'bullish|bull': 2}"
      ]
     },
     "execution_count": 102,
     "metadata": {},
     "output_type": "execute_result"
    },
    {
     "data": {
      "text/plain": [
       "['hello', 'world', 'excellent', 'good', 'gentle', 'marginal']"
      ]
     },
     "execution_count": 102,
     "metadata": {},
     "output_type": "execute_result"
    },
    {
     "data": {
      "text/plain": [
       "'hello_REPLACE_world_REPLACE_excellent_REPLACE_good_REPLACE_gentle_REPLACE_marginal'"
      ]
     },
     "execution_count": 102,
     "metadata": {},
     "output_type": "execute_result"
    },
    {
     "data": {
      "text/plain": [
       "['n', 'prefer', 'ok', 'bin', 'ok', 'bin']"
      ]
     },
     "execution_count": 102,
     "metadata": {},
     "output_type": "execute_result"
    },
    {
     "data": {
      "text/plain": [
       "['n', 'prefer', 'ok', 'bin', 'ok', 'bin']"
      ]
     },
     "execution_count": 102,
     "metadata": {},
     "output_type": "execute_result"
    }
   ],
   "source": [
    "tips.columns\n",
    "[col for col in tips.columns if re.search(r'^[ts].*[ry]$', col)] # find all columns that start with [ts] and end with [ry]\n",
    "\n",
    "[col for col in tips.columns if re.search(r'^[ts]|[ry]$', col)] # find all columns that start with [ts] or end with [ry]\n",
    "\n",
    "idx = ['prefer_substd_n', '_n_prefer', 'n_ok','1_bin', 'hello_bin_ok']\n",
    "\n",
    "[col for col in idx if re.search(r'_n$|_bin$', col)] # those with suffix `_n` or `_bin`\n",
    "\n",
    "s = \"happy guy. bullish. bull. I'm a good guy. good. happy ending. Happy\"\n",
    "\n",
    "# count how many times `happy` and `bull` appears\n",
    "{pat: len(re.findall(pat, s, flags=re.I)) for pat in ['happy', r'bullish|bull'] }\n",
    "\n",
    "\n",
    "s = \"hello|world_excellent|good,gentle,marginal\"\n",
    "\n",
    "# split by | or _ or ,\n",
    "re.split(r'\\||_|,', s)\n",
    "\n",
    "# sub all | or _ or by `_REPLACE_`\n",
    "re.sub(r'\\||_|,', '_REPLACE_', s) \n",
    "\n",
    "idx = ['prefer_substd_n', '_n_prefer', 'n_ok','1_bin', 'hello_bin_ok', 'ok_xx_bin_bin', '1231']\n",
    "# get the last suffix\n",
    "[res[1] for col in idx if (res:=re.search(r'_([^_]*)$', col))]\n",
    "[res[0] for col in idx if (res:=re.findall(r'_([^_]*)$', col))]"
   ]
  },
  {
   "attachments": {},
   "cell_type": "markdown",
   "metadata": {},
   "source": [
    "# decorator "
   ]
  },
  {
   "cell_type": "code",
   "execution_count": 54,
   "metadata": {},
   "outputs": [
    {
     "name": "stdout",
     "output_type": "stream",
     "text": [
      "(1, 2, 3, 4, 5, 'str')\n",
      "{'s': 'fdsdf', 'gg': 'gds'}\n"
     ]
    }
   ],
   "source": [
    "def f(*args, **kwargs):\n",
    "    print(args)\n",
    "    print(kwargs)\n",
    "\n",
    "\n",
    "f(1,2,3,4,5,'str', s='fdsdf', gg='gds')"
   ]
  },
  {
   "cell_type": "code",
   "execution_count": 53,
   "metadata": {},
   "outputs": [
    {
     "name": "stdout",
     "output_type": "stream",
     "text": [
      "------parameters received------\n",
      "args = (3, 4)\n",
      "kwargs = {'s': 'hello'}\n",
      "------before call------\n",
      "calling divide\n",
      "------after call------\n"
     ]
    },
    {
     "data": {
      "text/plain": [
       "0.75"
      ]
     },
     "execution_count": 53,
     "metadata": {},
     "output_type": "execute_result"
    }
   ],
   "source": [
    "# a simple decorator to illustrate the syntax\n",
    "def my_dec(f):\n",
    "    def wrapper(*args, **kwargs):\n",
    "        print(\"------parameters received------\")\n",
    "        print(f\"{args = }\")\n",
    "        print(f\"{kwargs = }\")\n",
    "        print(\"------before call------\")\n",
    "        print(f\"calling {f.__name__}\")\n",
    "        res = f(*args, **kwargs)\n",
    "        print(\"------after call------\")\n",
    "        return res \n",
    "    return wrapper\n",
    "\n",
    "@my_dec\n",
    "# above line is same as `divide = my_dec(divide)`\n",
    "def divide(a,b,s):\n",
    "    return a/b\n",
    "\n",
    "divide(3,4, s=\"hello\")\n",
    "# my_dec(divide)(1,2,3)"
   ]
  },
  {
   "cell_type": "code",
   "execution_count": 57,
   "metadata": {},
   "outputs": [
    {
     "name": "stdout",
     "output_type": "stream",
     "text": [
      "[0.00000017s] f(0) -> 0\n",
      "[0.00000029s] f(1) -> 1\n",
      "[0.00008800s] f(2) -> 1\n",
      "[0.00000033s] f(3) -> 2\n",
      "[0.00009421s] f(4) -> 3\n",
      "[0.00000025s] f(5) -> 5\n",
      "[0.00009983s] f(6) -> 8\n",
      "[0.00000029s] f(7) -> 13\n",
      "[0.00010521s] f(8) -> 21\n",
      "[0.00000025s] f(9) -> 34\n",
      "[0.00011292s] f(10) -> 55\n"
     ]
    },
    {
     "data": {
      "text/plain": [
       "55"
      ]
     },
     "execution_count": 57,
     "metadata": {},
     "output_type": "execute_result"
    }
   ],
   "source": [
    "import functools\n",
    "def clock(func): \n",
    "    @functools.wraps(func)\n",
    "    def clocked(*args, **kwargs):\n",
    "        t0 = time.perf_counter()\n",
    "        result = func(*args, **kwargs)\n",
    "        elapsed = time.perf_counter() - t0\n",
    "        name = func.__name__\n",
    "        arg_lst = [repr(arg) for arg in args] \n",
    "        arg_lst.extend(f'{k}={v!r}' for k, v in kwargs.items()) \n",
    "        arg_str = ', '.join(arg_lst)\n",
    "        print(f'[{elapsed:0.8f}s] {name}({arg_str}) -> {result!r}') \n",
    "        return result\n",
    "    return clocked\n",
    "\n",
    "@functools.cache\n",
    "@clock\n",
    "def f(n):\n",
    "    if n <= 1: return n\n",
    "    return f(n-2) + f(n-1)\n",
    "f(10)"
   ]
  },
  {
   "cell_type": "code",
   "execution_count": 9,
   "metadata": {},
   "outputs": [],
   "source": [
    "import time\n",
    "def my_decorator(func):\n",
    "    def wrapper(*args, **kwargs):\n",
    "        print(\"Something is happening before the function is called.\")\n",
    "        print(f\"calling {func.__name__}\")\n",
    "        res = func(*args, **kwargs)\n",
    "        print(\"Something is happening after the function is called.\")\n",
    "        return res\n",
    "    return wrapper\n",
    "\n",
    "# ---------------------------------------------------------------------------- #\n",
    "#                               def time_func(f):                              #\n",
    "# ---------------------------------------------------------------------------- #\n",
    "    def wrapper(*args, **kwargs):\n",
    "        begin =time.time()\n",
    "        result=f(*args, **kwargs)\n",
    "        end=time.time()\n",
    "        print(f'function {f.__name__} with arguments {args} and {kwargs} takes {end-begin} seconds to execute. ')\n",
    "        return result\n",
    "    return wrapper\n",
    "\n",
    "def divide_decorator(f):\n",
    "    def wrapper(a,b):\n",
    "        if b==0: \n",
    "            print(f\"divisor can't be zero! Program terminating...\")\n",
    "            return None\n",
    "        print(f\"dividing {a} by {b}:\")\n",
    "        return f(a,b)\n",
    "    return wrapper"
   ]
  },
  {
   "cell_type": "code",
   "execution_count": 10,
   "metadata": {},
   "outputs": [
    {
     "name": "stdout",
     "output_type": "stream",
     "text": [
      "dividing 1 by 3:\n",
      "0.3333333333333333\n",
      "divisor can't be zero! Program terminating...\n",
      "None\n"
     ]
    }
   ],
   "source": [
    "@divide_decorator\n",
    "def divide(a,b):\n",
    "    return a/b\n",
    "# divide = divide_decorator(divide) # same as above\n",
    "\n",
    "print(divide(1,3)) \n",
    "print(divide(1,0))\n",
    "\n",
    "# @my_decorator\n",
    "# def hello(name, age):\n",
    "#     print(f\"Hello {name}! Your age is {age}\")\n",
    "\n",
    "# hello(\"joe\", 22)"
   ]
  },
  {
   "attachments": {},
   "cell_type": "markdown",
   "metadata": {},
   "source": [
    "## class decorator"
   ]
  },
  {
   "cell_type": "code",
   "execution_count": 78,
   "metadata": {},
   "outputs": [
    {
     "name": "stdout",
     "output_type": "stream",
     "text": [
      "<class 'method'>\n",
      "<class 'function'>\n",
      "-----call the class method without argument by classname and by object-----\n",
      "<class 'method'>\n",
      "<class 'method'>\n",
      "-----call the class method by classname and by object-----\n",
      "<class '__main__.Dog'>\n",
      "Hello, I am <class '__main__.Dog'>!\n",
      "cls.my_int = 100\n",
      "None\n",
      "<class '__main__.Dog'>\n",
      "Hello, I am <class '__main__.Dog'>!\n",
      "cls.my_int = 100\n",
      "None\n"
     ]
    }
   ],
   "source": [
    "class Dog:\n",
    "    \n",
    "    my_int = 100\n",
    "    \n",
    "    def play(self, name):\n",
    "        print(f'{self}! {name}')\n",
    "\n",
    "    @classmethod\n",
    "    # since this has classmethod decorator, it can be called either by the class name or by an object\n",
    "    def my_test(cls):\n",
    "        print(cls)\n",
    "        print(f\"Hello, I am {cls}!\")\n",
    "        print(f\"{cls.my_int = }\")\n",
    "\n",
    "\n",
    "x = Dog()\n",
    "print(type(x.play))\n",
    "print(type(Dog.play))\n",
    "\n",
    "print(\"-----call the class method without argument by classname and by object-----\")\n",
    "print(type(x.my_test))\n",
    "print(type(Dog.my_test))\n",
    "\n",
    "print(\"-----call the class method by classname and by object-----\")\n",
    "print(x.my_test())\n",
    "print(Dog.my_test())"
   ]
  },
  {
   "attachments": {},
   "cell_type": "markdown",
   "metadata": {},
   "source": [
    "# callback function"
   ]
  },
  {
   "cell_type": "code",
   "execution_count": null,
   "metadata": {},
   "outputs": [],
   "source": [
    "def find_length(s):\n",
    "    print(f\"length is: {len(s)}\")\n",
    "    \n",
    "def gen_name(print_name=None):\n",
    "    # print_name is a callback\n",
    "    # we can directly call `find_length` in the function definition, but it's better to use callback instead, because it's more flexible!\n",
    "    s = ''.join(np.random.choice(list('abcde'), size=np.random.randint(5,40)))\n",
    "    print(s)\n",
    "    print_name(s)\n",
    "\n",
    "gen_name(print_name=find_length)\n"
   ]
  },
  {
   "attachments": {},
   "cell_type": "markdown",
   "metadata": {},
   "source": [
    "# datetime \n",
    "- for isoweekday: mon = 1, Sun = 7\n",
    "- for weekday: mon = 0, Sun = 6\n",
    "\n",
    "- timedelta: difference between two dates or times\n",
    "- date + timedelta => date\n",
    "- datetime + timedelta => datetime\n",
    "- date - date => timedelta\n",
    "- date + date => error\n",
    "- datetime + date => error\n",
    "- Remember, we have 4 main classes:\n",
    "    - datetime.date\n",
    "        - remember not to pass month as `04`. Just pass as `4`!\n",
    "    - datetime.time\n",
    "    - datetime.datetime\n",
    "    - datetime.timedelta\n",
    "- day of the week != day (in the month)\n",
    "- `datetime.datetime.now() == datetime.datetime.today()`\n",
    "\n",
    "```\n",
    "%Y\tFour-digit year\n",
    "%y\tTwo-digit year\n",
    "%m\tTwo-digit month [01, 12]\n",
    "%d\tTwo-digit day [01, 31]\n",
    "%H\tHour (24-hour clock) [00, 23]\n",
    "%I\tHour (12-hour clock) [01, 12]\n",
    "%M\tTwo-digit minute [00, 59]\n",
    "%S\tSecond [00, 61] (seconds 60, 61 account for leap seconds)\n",
    "%f\tMicrosecond as integer, zero-padded (from 000000 to 999999)\n",
    "%j\tDay of the year as a zero-padded integer (from 001 to 336)\n",
    "%w\tWeekday as integer [0 (Sunday), 6]\n",
    "%u\tWeekday as an integer starting from 1, where 1 is Monday.Week number of\n",
    "%U\tWeek number of the year [00, 53]; Sunday is considered the first day of the week, and days before the first Sunday of the year are “week 0”\n",
    "%W\tWeek number of the year [00, 53]; Monday is considered the first day of the week, and days before the first Monday of the year are “week 0”\n",
    "%z\tUTC time zone offset as +HHMM or -HHMM; empty if time zone naive\n",
    "%Z\tTime zone name as a string, or empty string if no time zone\n",
    "%F\tShortcut for %Y-%m-%d (e.g., 2012-4-18)\n",
    "%D\tShortcut for %m/%d/%y (e.g., 04/18/12)\n",
    "```"
   ]
  },
  {
   "cell_type": "code",
   "execution_count": 17,
   "metadata": {},
   "outputs": [
    {
     "data": {
      "text/plain": [
       "datetime.datetime(2022, 5, 29, 11, 17, 18, 7493)"
      ]
     },
     "execution_count": 17,
     "metadata": {},
     "output_type": "execute_result"
    },
    {
     "data": {
      "text/plain": [
       "datetime.date(2022, 5, 29)"
      ]
     },
     "execution_count": 17,
     "metadata": {},
     "output_type": "execute_result"
    },
    {
     "data": {
      "text/plain": [
       "datetime.datetime(2022, 5, 29, 11, 17, 18)"
      ]
     },
     "execution_count": 17,
     "metadata": {},
     "output_type": "execute_result"
    },
    {
     "data": {
      "text/plain": [
       "datetime.date(2020, 1, 31)"
      ]
     },
     "execution_count": 17,
     "metadata": {},
     "output_type": "execute_result"
    },
    {
     "data": {
      "text/plain": [
       "datetime.datetime(2020, 1, 31, 0, 0)"
      ]
     },
     "execution_count": 17,
     "metadata": {},
     "output_type": "execute_result"
    },
    {
     "data": {
      "text/plain": [
       "datetime.datetime(2020, 1, 31, 14, 45, 37)"
      ]
     },
     "execution_count": 17,
     "metadata": {},
     "output_type": "execute_result"
    }
   ],
   "source": [
    "# Also if you want to append to file you must use -a parameter\n",
    "# alternative initializers\n",
    "now = datetime.datetime.now()\n",
    "today = datetime.date.today()\n",
    "now\n",
    "today\n",
    "cur_time = datetime.time(now.hour, now.minute, now.second)\n",
    "datetime.datetime.combine(today, cur_time)\n",
    "\n",
    "\n",
    "# alternatively, use `fromisoformat`\n",
    "datetime.date.fromisoformat(\"2020-01-31\")\n",
    "datetime.datetime.fromisoformat(\"2020-01-31\")\n",
    "\n",
    "date_string = \"01-31-2020 14:45:37\"\n",
    "format_string = \"%m-%d-%Y %H:%M:%S\"\n",
    "datetime.datetime.strptime(date_string, format_string)"
   ]
  },
  {
   "attachments": {},
   "cell_type": "markdown",
   "metadata": {},
   "source": [
    "## date object"
   ]
  },
  {
   "cell_type": "code",
   "execution_count": 41,
   "metadata": {},
   "outputs": [
    {
     "data": {
      "text/plain": [
       "datetime.date(2022, 6, 24)"
      ]
     },
     "execution_count": 41,
     "metadata": {},
     "output_type": "execute_result"
    },
    {
     "data": {
      "text/plain": [
       "datetime.date(2022, 11, 11)"
      ]
     },
     "execution_count": 41,
     "metadata": {},
     "output_type": "execute_result"
    },
    {
     "name": "stdout",
     "output_type": "stream",
     "text": [
      "d = datetime.date(2022, 2, 3)\n",
      "d.year = 2022\n",
      "d.month = 2\n",
      "d.day = 3\n",
      "d.isoformat() = '2022-02-03'\n",
      "d.weekday() = 3\n",
      "d.isoweekday() = 4\n",
      "d.isocalendar() = datetime.IsoCalendarDate(year=2022, week=5, weekday=4)\n",
      "d.strftime(\"%A\") = 'Thursday'\n"
     ]
    },
    {
     "data": {
      "text/plain": [
       "datetime.date(2022, 3, 25)"
      ]
     },
     "execution_count": 41,
     "metadata": {},
     "output_type": "execute_result"
    },
    {
     "data": {
      "text/plain": [
       "datetime.date(2021, 12, 15)"
      ]
     },
     "execution_count": 41,
     "metadata": {},
     "output_type": "execute_result"
    },
    {
     "name": "stdout",
     "output_type": "stream",
     "text": [
      "264 days, 0:00:00\n"
     ]
    },
    {
     "data": {
      "text/plain": [
       "264"
      ]
     },
     "execution_count": 41,
     "metadata": {},
     "output_type": "execute_result"
    },
    {
     "data": {
      "text/plain": [
       "datetime.timedelta(days=69)"
      ]
     },
     "execution_count": 41,
     "metadata": {},
     "output_type": "execute_result"
    },
    {
     "data": {
      "text/plain": [
       "datetime.date(2022, 6, 22)"
      ]
     },
     "execution_count": 41,
     "metadata": {},
     "output_type": "execute_result"
    },
    {
     "data": {
      "text/plain": [
       "datetime.date(2022, 6, 22)"
      ]
     },
     "execution_count": 41,
     "metadata": {},
     "output_type": "execute_result"
    }
   ],
   "source": [
    "# top-level functions \n",
    "datetime.date.today()\n",
    "datetime.date.fromisoformat(\"2022-11-11\")\n",
    "\n",
    "# constructor to create `date` object\n",
    "d = datetime.date(2022,2,3)\n",
    "print(f\"{d = }\")\n",
    "\n",
    "# date attributes\n",
    "print(f\"{d.year = }\")\n",
    "print(f\"{d.month = }\")\n",
    "print(f\"{d.day = }\")\n",
    "\n",
    "# date method\n",
    "print(f\"{d.isoformat() = }\")\n",
    "print(f\"{d.weekday() = }\")\n",
    "print(f\"{d.isoweekday() = }\")\n",
    "print(f\"{d.isocalendar() = }\")\n",
    "print(f'{d.strftime(\"%A\") = }') # get day name \n",
    "\n",
    "# d + 7 # error\n",
    "# d\n",
    "d + datetime.timedelta(days=1, seconds=2, microseconds=3, milliseconds=4, minutes=5, hours=6, weeks=7) # result is still a date object\n",
    "d - datetime.timedelta(days=1, seconds=2, microseconds=3, milliseconds=4, minutes=5, hours=6, weeks=7) # result is still a date object\n",
    "\n",
    "# how many dates from my birthday:\n",
    "til_bday = datetime.date(2023, 3, 15) - datetime.date.today()\n",
    "print(til_bday)\n",
    "til_bday.days # get the day component only of the timedelta object\n",
    "# how many days from 2022-09-01\n",
    "datetime.date(2022, 9, 1) - datetime.date.today()\n",
    "\n",
    "# get two days before now\n",
    "datetime.date.today() - datetime.timedelta(days=2) # date object\n",
    "datetime.date.today() - datetime.timedelta(days=2, seconds=12) # still a date object. `seconds` ignored\n"
   ]
  },
  {
   "cell_type": "code",
   "execution_count": 23,
   "metadata": {},
   "outputs": [
    {
     "data": {
      "text/plain": [
       "datetime.timedelta(days=264)"
      ]
     },
     "execution_count": 23,
     "metadata": {},
     "output_type": "execute_result"
    },
    {
     "data": {
      "text/plain": [
       "datetime.timedelta(days=263, seconds=59563, microseconds=394761)"
      ]
     },
     "execution_count": 23,
     "metadata": {},
     "output_type": "execute_result"
    },
    {
     "data": {
      "text/plain": [
       "32.298630136986304"
      ]
     },
     "execution_count": 23,
     "metadata": {},
     "output_type": "execute_result"
    }
   ],
   "source": [
    "# -------------------------- number of days til bday ------------------------- #\n",
    "# datetime.date(2023, 3, 15) - datetime.datetime.today() # error, LHS = date, RHS = datetime\n",
    "(bday:=datetime.date(2023, 3, 15)) - datetime.date.today() # error, LHS = date, RHS = datetime\n",
    "\n",
    "# --------------------- number of days, seconds till bday -------------------- #\n",
    "datetime.datetime(2023, 3, 15) - datetime.datetime.now() \n",
    "\n",
    "# number of days since birth\n",
    "days_since_birth = datetime.datetime.now() - datetime.datetime(1990, 3, 15)\n",
    "days_since_birth.days/365\n"
   ]
  },
  {
   "attachments": {},
   "cell_type": "markdown",
   "metadata": {},
   "source": [
    "## datetime object"
   ]
  },
  {
   "cell_type": "code",
   "execution_count": 51,
   "metadata": {},
   "outputs": [
    {
     "name": "stdout",
     "output_type": "stream",
     "text": [
      "dt.isoformat() = '2012-02-03T04:05:06.000007'\n",
      "dt.year = 2012\n",
      "dt.month = 2\n",
      "dt.day = 3\n",
      "dt.hour = 4\n",
      "dt.minute = 5\n",
      "dt.second = 6\n",
      "dt.microsecond = 7\n",
      "4\n",
      "5\n",
      "datetime.IsoCalendarDate(year=2012, week=5, weekday=5)\n",
      "Friday\n"
     ]
    },
    {
     "data": {
      "text/plain": [
       "datetime.datetime(2022, 6, 24, 7, 51, 18, 101922)"
      ]
     },
     "execution_count": 51,
     "metadata": {},
     "output_type": "execute_result"
    },
    {
     "data": {
      "text/plain": [
       "datetime.datetime(2022, 11, 11, 0, 0)"
      ]
     },
     "execution_count": 51,
     "metadata": {},
     "output_type": "execute_result"
    },
    {
     "data": {
      "text/plain": [
       "datetime.datetime(2022, 6, 21, 7, 51, 18, 107177)"
      ]
     },
     "execution_count": 51,
     "metadata": {},
     "output_type": "execute_result"
    }
   ],
   "source": [
    "dt = datetime.datetime(2012,2,3,4,5,6,7)\n",
    "print(f\"{dt.isoformat() = }\")\n",
    "print(f\"{dt.year = }\")\n",
    "print(f\"{dt.month = }\")\n",
    "print(f\"{dt.day = }\")\n",
    "print(f\"{dt.hour = }\")\n",
    "print(f\"{dt.minute = }\")\n",
    "print(f\"{dt.second = }\")\n",
    "print(f\"{dt.microsecond = }\")\n",
    "\n",
    "print(dt.weekday())\n",
    "print(dt.isoweekday())\n",
    "print(dt.isocalendar())\n",
    "\n",
    "print(dt.strftime(\"%A\"))\n",
    "\n",
    "datetime.datetime.today()\n",
    "datetime.datetime.fromisoformat(\"2022-11-11\")\n",
    "\n",
    "# 3 days before now\n",
    "datetime.datetime.now() - datetime.timedelta(days=3)"
   ]
  },
  {
   "attachments": {},
   "cell_type": "markdown",
   "metadata": {},
   "source": [
    "## timedelta"
   ]
  },
  {
   "cell_type": "code",
   "execution_count": 24,
   "metadata": {},
   "outputs": [
    {
     "data": {
      "text/plain": [
       "datetime.timedelta(days=64, seconds=29156, microseconds=10)"
      ]
     },
     "execution_count": 24,
     "metadata": {},
     "output_type": "execute_result"
    },
    {
     "data": {
      "text/plain": [
       "64"
      ]
     },
     "execution_count": 24,
     "metadata": {},
     "output_type": "execute_result"
    },
    {
     "data": {
      "text/plain": [
       "29156"
      ]
     },
     "execution_count": 24,
     "metadata": {},
     "output_type": "execute_result"
    },
    {
     "data": {
      "text/plain": [
       "10"
      ]
     },
     "execution_count": 24,
     "metadata": {},
     "output_type": "execute_result"
    },
    {
     "data": {
      "text/plain": [
       "5558756.00001"
      ]
     },
     "execution_count": 24,
     "metadata": {},
     "output_type": "execute_result"
    }
   ],
   "source": [
    "delta = datetime.timedelta(\n",
    "    days=50,\n",
    "    seconds=27,\n",
    "    microseconds=10,\n",
    "    milliseconds=29000,\n",
    "    minutes=5,\n",
    "    hours=8,\n",
    "    weeks=2\n",
    ")\n",
    "\n",
    "# the milliseconds etc will be converted to microseconds\n",
    "delta # datetime.timedelta(days=64, seconds=29156, microseconds=10)\n",
    "delta.days\n",
    "delta.seconds\n",
    "delta.microseconds\n",
    "delta.total_seconds()\n",
    "# delta.minutes # AttributeError, no such attribute\n"
   ]
  },
  {
   "attachments": {},
   "cell_type": "markdown",
   "metadata": {},
   "source": [
    "## arithmetic between timedelta and datetime object"
   ]
  },
  {
   "cell_type": "code",
   "execution_count": 52,
   "metadata": {},
   "outputs": [
    {
     "data": {
      "text/plain": [
       "datetime.timedelta(days=64, seconds=29156, microseconds=10)"
      ]
     },
     "execution_count": 52,
     "metadata": {},
     "output_type": "execute_result"
    },
    {
     "data": {
      "text/plain": [
       "datetime.date(2022, 2, 3)"
      ]
     },
     "execution_count": 52,
     "metadata": {},
     "output_type": "execute_result"
    },
    {
     "data": {
      "text/plain": [
       "datetime.datetime(2012, 2, 3, 4, 5, 6, 7)"
      ]
     },
     "execution_count": 52,
     "metadata": {},
     "output_type": "execute_result"
    },
    {
     "data": {
      "text/plain": [
       "datetime.date"
      ]
     },
     "execution_count": 52,
     "metadata": {},
     "output_type": "execute_result"
    },
    {
     "data": {
      "text/plain": [
       "datetime.datetime"
      ]
     },
     "execution_count": 52,
     "metadata": {},
     "output_type": "execute_result"
    },
    {
     "data": {
      "text/plain": [
       "datetime.timedelta"
      ]
     },
     "execution_count": 52,
     "metadata": {},
     "output_type": "execute_result"
    },
    {
     "data": {
      "text/plain": [
       "datetime.timedelta"
      ]
     },
     "execution_count": 52,
     "metadata": {},
     "output_type": "execute_result"
    },
    {
     "data": {
      "text/plain": [
       "datetime.timedelta"
      ]
     },
     "execution_count": 52,
     "metadata": {},
     "output_type": "execute_result"
    },
    {
     "data": {
      "text/plain": [
       "datetime.timedelta(days=264)"
      ]
     },
     "execution_count": 52,
     "metadata": {},
     "output_type": "execute_result"
    }
   ],
   "source": [
    "delta # datetime.timedelta(days=64, seconds=29156, microseconds=10)\n",
    "d # datetime.date(2022, 2, 3)\n",
    "dt # datetime.datetime(2012, 2, 3, 4, 5, 6, 7)\n",
    "type(delta + d) # datetime.date\n",
    "type(delta + dt) # datetime.datetime\n",
    "type(delta+delta) # datetime.timedelta\n",
    "type(d-d) # datetime.timedelta\n",
    "type(dt-dt) # datetime.timedelta\n",
    "# type(d-dt) # TypeError\n",
    "\n",
    "bday = datetime.date(2023, 3, 15)\n",
    "bday - datetime.date.today() # datetime.timedelta(days=317)"
   ]
  },
  {
   "attachments": {},
   "cell_type": "markdown",
   "metadata": {},
   "source": [
    "## strftime and strptime"
   ]
  },
  {
   "cell_type": "code",
   "execution_count": 22,
   "metadata": {},
   "outputs": [
    {
     "data": {
      "text/plain": [
       "'May 29, 2022'"
      ]
     },
     "execution_count": 22,
     "metadata": {},
     "output_type": "execute_result"
    },
    {
     "data": {
      "text/plain": [
       "datetime.datetime(2022, 5, 29, 0, 0)"
      ]
     },
     "execution_count": 22,
     "metadata": {},
     "output_type": "execute_result"
    }
   ],
   "source": [
    "# strftime => f means format. Datetime to String\n",
    "# strptime => p means parse. String to Datetime\n",
    "t = datetime.datetime.now()\n",
    "ftime = t.strftime('%B %d, %Y') # format a time\n",
    "ftime\n",
    "datetime.datetime.strptime(ftime, '%B %d, %Y') # parse a time"
   ]
  },
  {
   "attachments": {},
   "cell_type": "markdown",
   "metadata": {},
   "source": [
    "# function annotation\n",
    "- typing module in python: https://docs.python.org/3/library/typing.html\n",
    "- can improve auto-completion\n",
    "\n",
    "## important import from typing module\n",
    "- Optional\n",
    "- Any"
   ]
  },
  {
   "cell_type": "code",
   "execution_count": 5,
   "metadata": {},
   "outputs": [
    {
     "data": {
      "text/plain": [
       "1"
      ]
     },
     "execution_count": 5,
     "metadata": {},
     "output_type": "execute_result"
    }
   ],
   "source": [
    "# ---------------------------- variable annotation --------------------------- #\n",
    "# we can define the type of variable\n",
    "x: str = 1 # will have warning\n",
    "x: int = 1 # no problem, since the given value type matches the the variable type"
   ]
  },
  {
   "cell_type": "code",
   "execution_count": 23,
   "metadata": {},
   "outputs": [],
   "source": [
    "from typing import List # only needed for python version <=3.8\n",
    "\n",
    "# ----------------------------------- list ----------------------------------- #\n",
    "# x: list[list] =  [[1,2,3],[1,2],['abc']]\n",
    "# y: list[list[int]] =  [[1,2,3],[1,2],['abc']] # not ok\n",
    "# z: list[list[int]] =  [[1,2,3],[1,2],[123]]\n",
    "# w: List[List[int]] =  [[1,2,3],[1,2],[123]]\n",
    "\n",
    "\n",
    "# ----------------------------------- dict ----------------------------------- #\n",
    "x: dict = {'a': 123, } # not compulsory to specify the type of the key and val\n",
    "y: dict[str, int] = {'a': 123, }\n",
    "z: dict[str, int] = {'a': 123, }\n",
    "\n",
    "# ------------------------------------ set ----------------------------------- #\n",
    "x: set = {1,2,3}\n",
    "y: set[int] = {1,2,3}\n",
    "z: set[str] = {1,2,3}\n",
    "z: set[bool] = {1,2,3}\n",
    "\n"
   ]
  },
  {
   "cell_type": "code",
   "execution_count": 30,
   "metadata": {},
   "outputs": [
    {
     "data": {
      "text/plain": [
       "[1, 2]"
      ]
     },
     "execution_count": 30,
     "metadata": {},
     "output_type": "execute_result"
    }
   ],
   "source": [
    "## create your own type\n",
    "Vector = list[float]\n",
    "\n",
    "x: Vector = [1.0,2.0]\n",
    "y: Vector = ['sa']\n",
    "\n",
    "def f(x: Vector) -> Vector:\n",
    "    return [1,2,]\n",
    "\n",
    "f([1,2,3])\n"
   ]
  },
  {
   "cell_type": "code",
   "execution_count": 41,
   "metadata": {},
   "outputs": [
    {
     "data": {
      "text/plain": [
       "'hello'"
      ]
     },
     "execution_count": 41,
     "metadata": {},
     "output_type": "execute_result"
    },
    {
     "data": {
      "text/plain": [
       "'hello'"
      ]
     },
     "execution_count": 41,
     "metadata": {},
     "output_type": "execute_result"
    },
    {
     "name": "stdout",
     "output_type": "stream",
     "text": [
      "3\n"
     ]
    },
    {
     "data": {
      "text/plain": [
       "array([1, 2, 3])"
      ]
     },
     "execution_count": 41,
     "metadata": {},
     "output_type": "execute_result"
    }
   ],
   "source": [
    "from typing import Optional, Any, Sequence\n",
    "\n",
    "def f(output: bool=False):\n",
    "    return \"hello\"\n",
    "\n",
    "def g(output: Optional[bool]=False):\n",
    "    return \"hello\"\n",
    "\n",
    "f()\n",
    "g()\n",
    "\n",
    "\n",
    "\n",
    "x: Any = 3\n",
    "\n",
    "print(x)\n",
    "\n",
    "# def f(x: optional[bool]=False):\n",
    "#     pass\n",
    "\n",
    "\n",
    "\n",
    "\n",
    "y: tuple = [1,2,3] # not ok, must exactly be tuple; can't be list!\n",
    "\n",
    "# z: Sequence = np.array([1,2,3])\n",
    "z: np.ndarray = np.array([1,2,3])\n",
    "\n",
    "z\n",
    "\n"
   ]
  },
  {
   "cell_type": "code",
   "execution_count": null,
   "metadata": {},
   "outputs": [],
   "source": [
    "def f(x):\n",
    "    pass\n",
    "\n"
   ]
  },
  {
   "cell_type": "code",
   "execution_count": 51,
   "metadata": {},
   "outputs": [],
   "source": [
    "x: tuple[int] = (1,2,3) # error, since for tuple, 3 input => need to specify int three times\n",
    "# x: tuple[int, int, int] = (1,2,3) \n",
    "# x: list[int] = [1,2,3]"
   ]
  },
  {
   "cell_type": "code",
   "execution_count": null,
   "metadata": {},
   "outputs": [],
   "source": [
    "from typing import Callable\n",
    "\n",
    "def f(foo: Callable[[int,int], int]):\n",
    "    pass\n",
    "\n",
    "\n",
    "\n",
    "\n",
    "\n"
   ]
  },
  {
   "cell_type": "code",
   "execution_count": 57,
   "metadata": {},
   "outputs": [
    {
     "name": "stdout",
     "output_type": "stream",
     "text": [
      "hello\n"
     ]
    }
   ],
   "source": [
    "def f(x: Optional[int]):\n",
    "    print('hello')\n",
    "    # print(x)\n",
    "    \n",
    "f(None)\n",
    "\n",
    "\n",
    "def f(x: Sequence[Any]):\n",
    "    pass\n",
    "f"
   ]
  },
  {
   "cell_type": "code",
   "execution_count": 5,
   "metadata": {},
   "outputs": [
    {
     "name": "stdout",
     "output_type": "stream",
     "text": [
      "1\n"
     ]
    }
   ],
   "source": [
    "from typing import Callable\n",
    "def f(g: Callable[[int], int]):\n",
    "    return g(1)\n",
    "    pass\n",
    "\n",
    "f(print)\n"
   ]
  },
  {
   "cell_type": "code",
   "execution_count": 1,
   "metadata": {},
   "outputs": [],
   "source": [
    "x: int | float = 12\n"
   ]
  },
  {
   "cell_type": "code",
   "execution_count": 9,
   "metadata": {},
   "outputs": [
    {
     "data": {
      "text/plain": [
       "4.2"
      ]
     },
     "execution_count": 9,
     "metadata": {},
     "output_type": "execute_result"
    }
   ],
   "source": [
    "# ---------------------------- function annoation ---------------------------- #\n",
    "\n",
    "def add_num(a: int, b: int, c: int) -> int:\n",
    "    return a+b+c\n",
    "\n",
    "add_num(1.2, 1, 2)\n",
    "\n",
    "\n"
   ]
  },
  {
   "cell_type": "code",
   "execution_count": 23,
   "metadata": {},
   "outputs": [
    {
     "name": "stdout",
     "output_type": "stream",
     "text": [
      "{'a': 'b'}\n"
     ]
    }
   ],
   "source": [
    "from typing import List, Dict, Optional, Any, Sequence # note the capital letter!!\n",
    "# y: list[list[int]] = []\n",
    "\n",
    "dataframe = pd.DataFrame\n",
    "array = np.ndarray\n",
    "\n",
    "\n",
    "# y: np.ndarray[int] =[1,2,3]\n",
    "\n",
    "# [[1,2,3],[4,5,6]]\n",
    "y: List[List[int]] = [] # version <3.9\n",
    "y: list[list[int]] = [] # version >=3.9\n",
    "y: dict[str,str] = {'a':'b'}\n",
    "y: Dict[str,str] = {'a':'b'}\n",
    "\n",
    "\n",
    "\n",
    "\n",
    "\n",
    "print(y)\n",
    "\n",
    "\n",
    "y: pd.DataFrame = [1,2,3]\n",
    "y: pd.Series = [1,2,3]\n",
    "y: list =[1,2,3]\n",
    "y:list[dataframe]=[5.6]\n",
    " \n",
    "\n",
    "\n",
    "\n",
    "def f1(y: Optional[dataframe] = None) -> int:\n",
    "    \"\"\"_summary_\n",
    "\n",
    "    Args:\n",
    "        y (Optional[dataframe], optional): _description_. Defaults to None.\n",
    "\n",
    "    Returns:\n",
    "        int: _description_\n",
    "    \"\"\"\n",
    "    pass\n",
    "\n",
    "def f2(y: dataframe = None) -> int:\n",
    "    \"\"\"_summary_\n",
    "\n",
    "    Args:\n",
    "        y (dataframe, optional): _description_. Defaults to None.\n",
    "\n",
    "    Returns:\n",
    "        int: _description_\n",
    "    \"\"\"\n",
    "    pass\n",
    "\n",
    "\n",
    "def f3(y: tuple[int]=(1,2,3,4,5)):\n",
    "    pass\n"
   ]
  },
  {
   "attachments": {},
   "cell_type": "markdown",
   "metadata": {},
   "source": [
    "# threading module"
   ]
  },
  {
   "cell_type": "code",
   "execution_count": 1,
   "metadata": {},
   "outputs": [
    {
     "name": "stdout",
     "output_type": "stream",
     "text": [
      "from f1: 4999999950000000\n",
      "from f2: 4999999950000000\n"
     ]
    }
   ],
   "source": [
    "import threading\n",
    "def f1(n=10**8):\n",
    "    x = 0\n",
    "    for i in range(n):\n",
    "        x+=i\n",
    "    print(f\"from f1: {x}\")\n",
    "    \n",
    "def f2(n=10**8):\n",
    "    x = 0\n",
    "    for i in range(n):\n",
    "        x+=i\n",
    "    print(f\"from f2: {x}\")\n",
    "    \n",
    "t1 = threading.Thread(target=f1)\n",
    "t2 = threading.Thread(target=f2)\n",
    "\n",
    "t1.start()\n",
    "t2.start()\n"
   ]
  },
  {
   "cell_type": "code",
   "execution_count": 8,
   "metadata": {},
   "outputs": [
    {
     "name": "stdout",
     "output_type": "stream",
     "text": [
      "f1\n",
      "f2f1\n",
      "f1\n",
      "f1\n",
      "f1\n",
      "f1\n",
      "f1\n",
      "f1\n",
      "f1\n",
      "f1\n",
      "\n",
      "f2\n",
      "f2\n",
      "f2\n",
      "f2\n",
      "f2\n",
      "f2\n",
      "f2\n",
      "f2\n",
      "f2\n",
      "f2\n",
      "f2\n",
      "f2\n",
      "f2\n",
      "f2\n",
      "f2\n",
      "f2\n",
      "f2\n",
      "f2\n",
      "f2\n",
      "f2\n",
      "f2\n",
      "f2\n",
      "f2\n",
      "f2\n",
      "f2\n",
      "f2\n",
      "f2\n",
      "f2\n",
      "f2\n",
      "f2\n",
      "f2\n",
      "f2\n",
      "f2\n",
      "f2\n",
      "f2\n",
      "f2\n",
      "f2\n",
      "f2\n",
      "f2\n",
      "f2\n",
      "f2\n",
      "f2\n",
      "f2\n",
      "f2\n",
      "f2\n",
      "f2\n",
      "f2\n",
      "f2\n",
      "f2\n",
      "f2\n",
      "f2\n",
      "f2\n",
      "f2\n",
      "f2\n",
      "f2\n",
      "f2\n",
      "f2\n",
      "f2\n",
      "f2\n",
      "f2\n",
      "f2\n",
      "f2\n",
      "f2\n",
      "f2\n",
      "f2\n",
      "f2\n",
      "f2\n",
      "f2\n",
      "f2\n",
      "f2\n",
      "f2\n",
      "f2\n",
      "f2\n",
      "f2\n",
      "f2\n",
      "f2\n",
      "f2\n",
      "f2\n",
      "f2\n",
      "f2\n",
      "f2\n",
      "f2\n",
      "f2\n",
      "f2\n",
      "f2\n",
      "f2\n",
      "f2\n",
      "f2\n",
      "f2\n",
      "f2\n",
      "f2\n",
      "f2\n",
      "f2\n",
      "f2\n",
      "f2\n",
      "f2\n",
      "f2\n",
      "f2\n",
      "f2\n"
     ]
    }
   ],
   "source": [
    "import threading\n",
    "def f1(n=10**8):\n",
    "    for i in range(10):\n",
    "        print(\"f1\")\n",
    "    \n",
    "def f2(n=10**8):\n",
    "    for i in range(100):\n",
    "        print(\"f2\")\n",
    "t1 = threading.Thread(target=f1)\n",
    "t2 = threading.Thread(target=f2)\n",
    "\n",
    "t1.start()\n",
    "t2.start()\n"
   ]
  },
  {
   "attachments": {},
   "cell_type": "markdown",
   "metadata": {},
   "source": [
    "# multiprocessing module"
   ]
  },
  {
   "cell_type": "code",
   "execution_count": 12,
   "metadata": {},
   "outputs": [
    {
     "data": {
      "text/plain": [
       "2262"
      ]
     },
     "execution_count": 12,
     "metadata": {},
     "output_type": "execute_result"
    }
   ],
   "source": [
    "def is_prime(n):\n",
    "    return all(n%i!=0 for i in range(2, n))\n",
    "    \n",
    "def count_prime(n=10**6):\n",
    "    cnt = 0 \n",
    "    for i in range(2, n+1):\n",
    "        if is_prime(i):\n",
    "            cnt +=1 \n",
    "    return cnt\n",
    "# count_prime(20000)"
   ]
  },
  {
   "cell_type": "code",
   "execution_count": null,
   "metadata": {},
   "outputs": [],
   "source": [
    "# M1: sync running "
   ]
  },
  {
   "cell_type": "code",
   "execution_count": 1,
   "metadata": {},
   "outputs": [
    {
     "name": "stdout",
     "output_type": "stream",
     "text": [
      "hello\n"
     ]
    },
    {
     "name": "stderr",
     "output_type": "stream",
     "text": [
      "Traceback (most recent call last):\n",
      "  File \"<string>\", line 1, in <module>\n",
      "  File \"/Users/mma2455/opt/anaconda3/envs/ds_310/lib/python3.10/multiprocessing/spawn.py\", line 116, in spawn_main\n",
      "    exitcode = _main(fd, parent_sentinel)\n",
      "  File \"/Users/mma2455/opt/anaconda3/envs/ds_310/lib/python3.10/multiprocessing/spawn.py\", line 126, in _main\n",
      "    self = reduction.pickle.load(from_parent)\n",
      "AttributeError: Can't get attribute 'test_run' on <module '__main__' (built-in)>\n"
     ]
    }
   ],
   "source": [
    "from concurrent.futures import process\n",
    "import multiprocessing\n",
    "import time\n",
    "\n",
    "start = time.perf_counter()\n",
    "processes = []\n",
    "\n",
    "def test_run(seconds=3):\n",
    "    print(f'Sleeping {seconds} second(s)...')\n",
    "    time.sleep(seconds)\n",
    "    return f'Done Sleeping...{seconds}'\n",
    "\n",
    "p = multiprocessing.Process(target=test_run)\n",
    "p.start()\n",
    "\n",
    "# for _ in range(10):\n",
    "#     p = multiprocessing.Process(target=test_run, args=[1.5])\n",
    "#     p.start()\n",
    "#     processes.append(p)\n",
    "\n",
    "# for process in processes:\n",
    "#     process.join()\n",
    "    \n",
    "print(\"hello\")\n",
    "    \n"
   ]
  },
  {
   "attachments": {},
   "cell_type": "markdown",
   "metadata": {},
   "source": [
    "# data structures"
   ]
  },
  {
   "attachments": {},
   "cell_type": "markdown",
   "metadata": {},
   "source": [
    "## dict"
   ]
  },
  {
   "cell_type": "code",
   "execution_count": 115,
   "metadata": {},
   "outputs": [
    {
     "data": {
      "text/plain": [
       "dict_keys(['a', 'b'])"
      ]
     },
     "execution_count": 115,
     "metadata": {},
     "output_type": "execute_result"
    },
    {
     "data": {
      "text/plain": [
       "dict_values([85, 75])"
      ]
     },
     "execution_count": 115,
     "metadata": {},
     "output_type": "execute_result"
    },
    {
     "data": {
      "text/plain": [
       "{'a': 85, 'b': 75, 'c': 65, 'd': 55}"
      ]
     },
     "execution_count": 115,
     "metadata": {},
     "output_type": "execute_result"
    },
    {
     "data": {
      "text/plain": [
       "{'a', 'b', 'c', 'd'}"
      ]
     },
     "execution_count": 115,
     "metadata": {},
     "output_type": "execute_result"
    },
    {
     "data": {
      "text/plain": [
       "a    [1, 2, 3]\n",
       "b    [5, 6, 7]\n",
       "dtype: object"
      ]
     },
     "execution_count": 115,
     "metadata": {},
     "output_type": "execute_result"
    },
    {
     "data": {
      "text/html": [
       "<div>\n",
       "<style scoped>\n",
       "    .dataframe tbody tr th:only-of-type {\n",
       "        vertical-align: middle;\n",
       "    }\n",
       "\n",
       "    .dataframe tbody tr th {\n",
       "        vertical-align: top;\n",
       "    }\n",
       "\n",
       "    .dataframe thead th {\n",
       "        text-align: right;\n",
       "    }\n",
       "</style>\n",
       "<table border=\"1\" class=\"dataframe\">\n",
       "  <thead>\n",
       "    <tr style=\"text-align: right;\">\n",
       "      <th></th>\n",
       "      <th>a</th>\n",
       "      <th>b</th>\n",
       "    </tr>\n",
       "  </thead>\n",
       "  <tbody>\n",
       "    <tr>\n",
       "      <th>0</th>\n",
       "      <td>1</td>\n",
       "      <td>5</td>\n",
       "    </tr>\n",
       "    <tr>\n",
       "      <th>1</th>\n",
       "      <td>2</td>\n",
       "      <td>6</td>\n",
       "    </tr>\n",
       "    <tr>\n",
       "      <th>2</th>\n",
       "      <td>3</td>\n",
       "      <td>7</td>\n",
       "    </tr>\n",
       "  </tbody>\n",
       "</table>\n",
       "</div>"
      ],
      "text/plain": [
       "   a  b\n",
       "0  1  5\n",
       "1  2  6\n",
       "2  3  7"
      ]
     },
     "execution_count": 115,
     "metadata": {},
     "output_type": "execute_result"
    },
    {
     "data": {
      "text/plain": [
       "['a', 'b']"
      ]
     },
     "execution_count": 115,
     "metadata": {},
     "output_type": "execute_result"
    },
    {
     "data": {
      "text/plain": [
       "{0: 'a', 1: 'b', 2: 'c', 3: 'd', 'e': 5, 'f': 10}"
      ]
     },
     "execution_count": 115,
     "metadata": {},
     "output_type": "execute_result"
    },
    {
     "data": {
      "text/plain": [
       "{'a': 'q', 'b': 'w', 'c': 'e', 'd': 'r', 'e': 't'}"
      ]
     },
     "execution_count": 115,
     "metadata": {},
     "output_type": "execute_result"
    }
   ],
   "source": [
    "# combine two dicts\n",
    "d1 = {'a':85, 'b':75}\n",
    "d2 = {'c':65, 'd':55}\n",
    "d = {'a':[1,2,3], 'b':[5,6,7]}\n",
    "\n",
    "d1.keys()\n",
    "d1.values()\n",
    "\n",
    "{**d1, **d2} # combine two dict\n",
    "{*d1, *d2} # combine the keys only\n",
    "\n",
    "pd.Series(d) # each pair becomes a (index, val) pair\n",
    "pd.DataFrame(d) # each pair becomes columns\n",
    "\n",
    "sorted(d) # sort keys\n",
    "\n",
    "# dict(iterable, **kwargs) format\n",
    "dict(\n",
    "    enumerate(list('abcd')), \n",
    "    e=5,\n",
    "    f=10,\n",
    ")\n",
    "\n",
    "dict(\n",
    "    zip(\n",
    "        list('abcde'), list('qwert')\n",
    "        )\n",
    ")"
   ]
  },
  {
   "cell_type": "code",
   "execution_count": 149,
   "metadata": {},
   "outputs": [
    {
     "data": {
      "text/plain": [
       "{'b': 219, 'a': 202, 'e': 186, 'd': 192, 'c': 201}"
      ]
     },
     "execution_count": 149,
     "metadata": {},
     "output_type": "execute_result"
    }
   ],
   "source": [
    "# build frequency distribution\n",
    "s = np.random.choice([chr(i) for i in range(ord('a'), ord('e')+1)], size=1000, replace=True)\n",
    "\n",
    "# res = {}\n",
    "# for c in s:\n",
    "#     if c in res:\n",
    "#         res[c] += 1\n",
    "#     else:\n",
    "#         res[c] = 1\n",
    "# res\n",
    "\n",
    "res = {}\n",
    "for c in s:\n",
    "    res[c] = res.get(c, 0) + 1\n",
    "res\n",
    "\n",
    "# plt.bar(res.keys(), res.values())\n",
    "\n",
    "# pd.Series(res).sort_index().plot.bar()\n"
   ]
  },
  {
   "cell_type": "code",
   "execution_count": 169,
   "metadata": {},
   "outputs": [
    {
     "data": {
      "text/plain": [
       "{'a': 202, 'b': 219, 'c': 201, 'd': 192, 'e': 186}"
      ]
     },
     "execution_count": 169,
     "metadata": {},
     "output_type": "execute_result"
    },
    {
     "data": {
      "text/plain": [
       "{'e': 186, 'd': 192, 'c': 201, 'b': 219, 'a': 202}"
      ]
     },
     "execution_count": 169,
     "metadata": {},
     "output_type": "execute_result"
    },
    {
     "data": {
      "text/plain": [
       "{'e': 186, 'd': 192, 'c': 201, 'b': 219, 'a': 202}"
      ]
     },
     "execution_count": 169,
     "metadata": {},
     "output_type": "execute_result"
    },
    {
     "data": {
      "text/plain": [
       "{'e': 186, 'd': 192, 'c': 201, 'a': 202, 'b': 219}"
      ]
     },
     "execution_count": 169,
     "metadata": {},
     "output_type": "execute_result"
    },
    {
     "data": {
      "text/plain": [
       "{'b': 219, 'a': 202, 'c': 201, 'd': 192, 'e': 186}"
      ]
     },
     "execution_count": 169,
     "metadata": {},
     "output_type": "execute_result"
    }
   ],
   "source": [
    "# sorted a dict by key / value\n",
    "dict(sorted(res.items()))\n",
    "dict(sorted(res.items())[::-1])\n",
    "dict(reversed(sorted(res.items())))\n",
    "\n",
    "dict(sorted(res.items(), key=lambda x: x[-1])) # sort by values \n",
    "dict(sorted(res.items(), key=lambda x: x[-1])[::-1]) # sort by values \n",
    "\n",
    "# bad method \n",
    "# {key: res[key] for key in sorted(res)} # in sorted key order\n",
    "# {key: res[key] for key in sorted(res)[::-1]} # in reverse order\n",
    "# {key: res[key] for key in reversed(sorted(res))} # use reversed instead"
   ]
  },
  {
   "attachments": {},
   "cell_type": "markdown",
   "metadata": {},
   "source": [
    "## defaultdict\n",
    "for handling missing values\n",
    "https://realpython.com/python-defaultdict/"
   ]
  },
  {
   "cell_type": "code",
   "execution_count": 9,
   "metadata": {},
   "outputs": [
    {
     "data": {
      "text/plain": [
       "dict_items([('a', [123])])"
      ]
     },
     "execution_count": 9,
     "metadata": {},
     "output_type": "execute_result"
    }
   ],
   "source": [
    "d = defaultdict(list)\n",
    "d['a'].append(123)\n",
    "d.items()\n"
   ]
  },
  {
   "cell_type": "code",
   "execution_count": 13,
   "metadata": {},
   "outputs": [
    {
     "data": {
      "text/plain": [
       "dict_items([('a', [1, 2, 3])])"
      ]
     },
     "execution_count": 13,
     "metadata": {},
     "output_type": "execute_result"
    }
   ],
   "source": [
    "d = defaultdict(list, a=[1,2,3])\n",
    "d.items()"
   ]
  },
  {
   "cell_type": "code",
   "execution_count": 7,
   "metadata": {},
   "outputs": [
    {
     "ename": "TypeError",
     "evalue": "'int' object is not iterable",
     "output_type": "error",
     "traceback": [
      "\u001b[0;31m---------------------------------------------------------------------------\u001b[0m",
      "\u001b[0;31mTypeError\u001b[0m                                 Traceback (most recent call last)",
      "Cell \u001b[0;32mIn[7], line 1\u001b[0m\n\u001b[0;32m----> 1\u001b[0m d \u001b[39m=\u001b[39m defaultdict(\u001b[39mint\u001b[39;49m, \u001b[39m20\u001b[39;49m)\n\u001b[1;32m      2\u001b[0m d[\u001b[39m'\u001b[39m\u001b[39ma\u001b[39m\u001b[39m'\u001b[39m]\n",
      "\u001b[0;31mTypeError\u001b[0m: 'int' object is not iterable"
     ]
    }
   ],
   "source": [
    "d = defaultdict(int)\n",
    "# d['a']"
   ]
  },
  {
   "attachments": {},
   "cell_type": "markdown",
   "metadata": {},
   "source": [
    "## string"
   ]
  },
  {
   "cell_type": "code",
   "execution_count": 214,
   "metadata": {},
   "outputs": [
    {
     "data": {
      "text/plain": [
       "\"I'M AN AGGRESSIVE BOY!\""
      ]
     },
     "execution_count": 214,
     "metadata": {},
     "output_type": "execute_result"
    },
    {
     "data": {
      "text/plain": [
       "\"i'm an aggressive boy!\""
      ]
     },
     "execution_count": 214,
     "metadata": {},
     "output_type": "execute_result"
    },
    {
     "data": {
      "text/plain": [
       "\"I'm an aggressive boy!\""
      ]
     },
     "execution_count": 214,
     "metadata": {},
     "output_type": "execute_result"
    },
    {
     "data": {
      "text/plain": [
       "False"
      ]
     },
     "execution_count": 214,
     "metadata": {},
     "output_type": "execute_result"
    },
    {
     "data": {
      "text/plain": [
       "False"
      ]
     },
     "execution_count": 214,
     "metadata": {},
     "output_type": "execute_result"
    },
    {
     "data": {
      "text/plain": [
       "False"
      ]
     },
     "execution_count": 214,
     "metadata": {},
     "output_type": "execute_result"
    },
    {
     "data": {
      "text/plain": [
       "False"
      ]
     },
     "execution_count": 214,
     "metadata": {},
     "output_type": "execute_result"
    },
    {
     "data": {
      "text/plain": [
       "\"I'm aggressive boy!\""
      ]
     },
     "execution_count": 214,
     "metadata": {},
     "output_type": "execute_result"
    },
    {
     "data": {
      "text/plain": [
       "\"I'm an aggressive boy!\""
      ]
     },
     "execution_count": 214,
     "metadata": {},
     "output_type": "execute_result"
    },
    {
     "data": {
      "text/plain": [
       "\"00000000I'm an aggressive boy!\""
      ]
     },
     "execution_count": 214,
     "metadata": {},
     "output_type": "execute_result"
    },
    {
     "data": {
      "text/plain": [
       "7"
      ]
     },
     "execution_count": 214,
     "metadata": {},
     "output_type": "execute_result"
    },
    {
     "data": {
      "text/plain": [
       "[\"I'm\", 'an', 'aggressive', 'boy!']"
      ]
     },
     "execution_count": 214,
     "metadata": {},
     "output_type": "execute_result"
    }
   ],
   "source": [
    "s = 'I\\'m an aggressive boy!'\n",
    "s.upper()\n",
    "s.lower()\n",
    "s.capitalize()\n",
    "s.isalnum()\n",
    "s.isdigit()\n",
    "s.isalpha()\n",
    "s.isnumeric()\n",
    "s.replace('an ' , '')\n",
    "s.strip()\n",
    "s.zfill(30)\n",
    "s.find('aggressive') # IMPORTANT: find whether the given string exists.\n",
    "s.split()"
   ]
  },
  {
   "attachments": {},
   "cell_type": "markdown",
   "metadata": {},
   "source": [
    "## collections.Counter\n",
    "- `Counter.elements()` will repeat each element by its count! Also, return an iterator"
   ]
  },
  {
   "cell_type": "code",
   "execution_count": 270,
   "metadata": {},
   "outputs": [
    {
     "data": {
      "text/plain": [
       "Counter({'eggs': 1, 'ham': 1})"
      ]
     },
     "execution_count": 270,
     "metadata": {},
     "output_type": "execute_result"
    },
    {
     "data": {
      "text/plain": [
       "0"
      ]
     },
     "execution_count": 270,
     "metadata": {},
     "output_type": "execute_result"
    },
    {
     "data": {
      "text/plain": [
       "Counter({1: 3, 2: 2, 3: 1, 5: 1, 4: 1})"
      ]
     },
     "execution_count": 270,
     "metadata": {},
     "output_type": "execute_result"
    },
    {
     "data": {
      "text/plain": [
       "[(2, 1), (4, 1), (5, 1), (1, 2)]"
      ]
     },
     "execution_count": 270,
     "metadata": {},
     "output_type": "execute_result"
    }
   ],
   "source": [
    "c = Counter(['eggs', 'ham'])\n",
    "c\n",
    "c['gg'] # 0\n",
    "c1=Counter([1,2,3])\n",
    "c2=Counter([1,1,5,4,2])\n",
    "c1 + c2\n",
    "\n",
    "# list(c.elements())\n",
    "\n",
    "c2.most_common()[::-1] # reverse the ordering. least common comes first"
   ]
  },
  {
   "cell_type": "code",
   "execution_count": 274,
   "metadata": {},
   "outputs": [
    {
     "data": {
      "text/plain": [
       "['\\n', 'h', 'e', ' ', 'n', 'o', 't', 'b', 'i', 'r', 's', 'a', 'u', 'l', 'p']"
      ]
     },
     "execution_count": 274,
     "metadata": {},
     "output_type": "execute_result"
    }
   ],
   "source": [
    "text = \"\"\"\n",
    "The Zen of Python, by Tim Peters\n",
    "\n",
    "Beautiful is better than ugly.\n",
    "Explicit is better than implicit.\n",
    "Simple is better than complex.\n",
    "Complex is better than complicated.\n",
    "Flat is better than nested.\n",
    "Sparse is better than dense.\n",
    "Readability counts.\n",
    "Special cases aren't special enough to break the rules.\n",
    "Although practicality beats purity.\n",
    "Errors should never pass silently.\n",
    "Unless explicitly silenced.\n",
    "In the face of ambiguity, refuse the temptation to guess.\n",
    "There should be one-- and preferably only one --obvious way to do it.\n",
    "Although that way may not be obvious at first unless you're Dutch.\n",
    "Now is better than never.\n",
    "Although never is often better than *right* now.\n",
    "If the implementation is hard to explain, it's a bad idea.\n",
    "If the implementation is easy to explain, it may be a good idea.\n",
    "Namespaces are one honking great idea -- let's do more of those!\n",
    "\"\"\"\n",
    "\n",
    "k = 20\n",
    "cnt = Counter(text)\n",
    "# dict(Counter(text).most_common())\n",
    "\n",
    "[key for key, cnt in cnt.items() if cnt >= k] # find all those key with freq >= k\n",
    "\n",
    "\n"
   ]
  },
  {
   "attachments": {},
   "cell_type": "markdown",
   "metadata": {},
   "source": [
    "# natural sorting / human sorting"
   ]
  },
  {
   "cell_type": "code",
   "execution_count": 212,
   "metadata": {},
   "outputs": [
    {
     "data": {
      "text/plain": [
       "['video_1',\n",
       " 'video_2',\n",
       " 'video_3',\n",
       " 'video_4',\n",
       " 'video_5',\n",
       " 'video_6',\n",
       " 'video_7',\n",
       " 'video_8',\n",
       " 'video_9',\n",
       " 'video_10',\n",
       " 'video_11',\n",
       " 'video_12',\n",
       " 'video_13',\n",
       " 'video_14',\n",
       " 'video_15',\n",
       " 'video_16',\n",
       " 'video_17',\n",
       " 'video_18',\n",
       " 'video_19']"
      ]
     },
     "execution_count": 212,
     "metadata": {},
     "output_type": "execute_result"
    }
   ],
   "source": [
    "import re\n",
    "t = [f'video_{i}' for i in range(1, 20)]\n",
    "\n",
    "def try_int(s):\n",
    "    try:\n",
    "        return int(s)\n",
    "    except ValueError:\n",
    "        return s\n",
    "\n",
    "def split_with_num(s):\n",
    "    return [try_int(substring) for substring in re.split(r'(\\d+)', s)]\n",
    "    \n",
    "    \n",
    "def human_sort(t):\n",
    "    return sorted(t, key=split_with_num)\n",
    "\n",
    "human_sort(t)\n"
   ]
  },
  {
   "attachments": {},
   "cell_type": "markdown",
   "metadata": {},
   "source": [
    "# OOP: classmethod, property, staticmethod"
   ]
  },
  {
   "cell_type": "code",
   "execution_count": 22,
   "metadata": {},
   "outputs": [
    {
     "name": "stdout",
     "output_type": "stream",
     "text": [
      "calling getter...\n"
     ]
    },
    {
     "data": {
      "text/plain": [
       "12345"
      ]
     },
     "execution_count": 22,
     "metadata": {},
     "output_type": "execute_result"
    },
    {
     "data": {
      "text/plain": [
       "12345"
      ]
     },
     "execution_count": 22,
     "metadata": {},
     "output_type": "execute_result"
    },
    {
     "name": "stdout",
     "output_type": "stream",
     "text": [
      "calling setter with value = 30...\n",
      "calling static method with x = 1, y = 2\n"
     ]
    },
    {
     "data": {
      "text/plain": [
       "3"
      ]
     },
     "execution_count": 22,
     "metadata": {},
     "output_type": "execute_result"
    },
    {
     "name": "stdout",
     "output_type": "stream",
     "text": [
      "calling classmethod with x = 10, y = 20\n"
     ]
    },
    {
     "data": {
      "text/plain": [
       "12345"
      ]
     },
     "execution_count": 22,
     "metadata": {},
     "output_type": "execute_result"
    }
   ],
   "source": [
    "class A(object):\n",
    "    my_var = 12345 # class attribute\n",
    "    '''A.my_var is an attribute'''\n",
    "\n",
    "    @property\n",
    "    def x(self):\n",
    "        # now, my_var and x are the same \n",
    "        '''\n",
    "        A.x is a property\n",
    "        This is the getter method\n",
    "        '''\n",
    "        print(\"calling getter...\")\n",
    "        return self.my_var\n",
    "\n",
    "    @x.setter\n",
    "    def x(self, value):\n",
    "        '''\n",
    "        This is the setter method\n",
    "        where I can check it's not assigned a value < 0\n",
    "        '''\n",
    "        print(f\"calling setter with value = {value}...\")\n",
    "        if value < 0:\n",
    "            raise ValueError(\"Must be >= 0\")\n",
    "        self.my_var = value\n",
    "        \n",
    "    @staticmethod\n",
    "    def my_method(x,y):\n",
    "        print(f\"calling static method with x = {x}, y = {y}\")\n",
    "        return x+y\n",
    "\n",
    "    @classmethod\n",
    "    # for accessing class variable\n",
    "    def my_class_method(cls, x,y):\n",
    "        print(f\"calling classmethod with x = {x}, y = {y}\")\n",
    "        return cls.my_var\n",
    "    \n",
    "a=A()\n",
    "a.x\n",
    "a.my_var\n",
    "a.x = 30\n",
    "a.my_var = 1000 # will not call setter\n",
    "\n",
    "a.my_method(1,2)\n",
    "a.my_class_method(10,20)"
   ]
  }
 ],
 "metadata": {
  "kernelspec": {
   "display_name": "data_science",
   "language": "python",
   "name": "python3"
  },
  "language_info": {
   "codemirror_mode": {
    "name": "ipython",
    "version": 3
   },
   "file_extension": ".py",
   "mimetype": "text/x-python",
   "name": "python",
   "nbconvert_exporter": "python",
   "pygments_lexer": "ipython3",
   "version": "3.10.4"
  },
  "orig_nbformat": 4,
  "vscode": {
   "interpreter": {
    "hash": "ae74f9feb07f97b665e59d852dca9947bf3c6be9bdf551f43d711a8fd00af3ab"
   }
  }
 },
 "nbformat": 4,
 "nbformat_minor": 2
}
