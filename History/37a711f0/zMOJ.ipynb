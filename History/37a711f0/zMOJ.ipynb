{
 "cells": [
  {
   "cell_type": "code",
   "execution_count": 6,
   "metadata": {},
   "outputs": [
    {
     "name": "stdout",
     "output_type": "stream",
     "text": [
      "calling ds_preamble..\n",
      "calling ds_helper...\n"
     ]
    }
   ],
   "source": [
    "from ds_utils.ds_preamble import *\n",
    "from ds_utils.ds_plotting import *\n",
    "from ds_utils.ds_helper import *"
   ]
  },
  {
   "cell_type": "code",
   "execution_count": 38,
   "metadata": {},
   "outputs": [],
   "source": [
    "# %ls ../data/stack-overflow-developer-survey-2019\n",
    "year = '2021'\n",
    "df_schema = pd.read_csv(f'../data/stack-overflow-developer-survey-{year}/survey_results_schema.csv')\n",
    "df_raw = pd.read_csv(f'../data/stack-overflow-developer-survey-{year}/survey_results_public.csv')"
   ]
  },
  {
   "cell_type": "code",
   "execution_count": 39,
   "metadata": {},
   "outputs": [],
   "source": [
    "df = df_raw.copy()"
   ]
  },
  {
   "cell_type": "code",
   "execution_count": 212,
   "metadata": {},
   "outputs": [
    {
     "data": {
      "text/plain": [
       "['Hong Kong (S.A.R.)']"
      ]
     },
     "execution_count": 212,
     "metadata": {},
     "output_type": "execute_result"
    },
    {
     "data": {
      "text/plain": [
       "52    Hong Kong (S.A.R.)\n",
       "dtype: object"
      ]
     },
     "execution_count": 212,
     "metadata": {},
     "output_type": "execute_result"
    }
   ],
   "source": [
    "# check whether a string exists in a dataframe column\n",
    "# want to find if Hong Kong is included as a country\n",
    "unique_names = df.Country.unique()\n",
    "[name for name in unique_names if isinstance(name, str) and \"Hong\" in name]\n",
    "\n",
    "country_names = pd.Series(unique_names)\n",
    "country_names[country_names.str.contains('Hong').replace(np.nan, False)]"
   ]
  },
  {
   "cell_type": "code",
   "execution_count": 218,
   "metadata": {},
   "outputs": [
    {
     "data": {
      "text/plain": [
       "Index(['LanguageDesireNextYear', 'LanguageWorkedWith'], dtype='object')"
      ]
     },
     "execution_count": 218,
     "metadata": {},
     "output_type": "execute_result"
    }
   ],
   "source": [
    "df.columns.sort_values()[df.columns.sort_values().str.contains(\"language\", case=False)]"
   ]
  },
  {
   "cell_type": "code",
   "execution_count": 229,
   "metadata": {},
   "outputs": [
    {
     "data": {
      "text/plain": [
       "5                                               Java;R;SQL\n",
       "8        Bash/Shell/PowerShell;C#;HTML/CSS;JavaScript;P...\n",
       "9                            C#;Go;JavaScript;Python;R;SQL\n",
       "11        Bash/Shell/PowerShell;HTML/CSS;Java;Python;R;SQL\n",
       "17                                                Python;R\n",
       "                               ...                        \n",
       "88836                                      C#;Python;R;SQL\n",
       "88841    Bash/Shell/PowerShell;C++;C#;HTML/CSS;Python;Ruby\n",
       "88848    Bash/Shell/PowerShell;HTML/CSS;JavaScript;Pyth...\n",
       "88857             Bash/Shell/PowerShell;HTML/CSS;PHP;R;SQL\n",
       "88860      Bash/Shell/PowerShell;C++;Python;Ruby;Other(s):\n",
       "Name: LanguageWorkedWith, Length: 13947, dtype: object"
      ]
     },
     "execution_count": 229,
     "metadata": {},
     "output_type": "execute_result"
    }
   ],
   "source": [
    "df.LanguageWorkedWith[df.LanguageWorkedWith.str.contains(r';?R;?').replace(np.nan, False)]"
   ]
  },
  {
   "cell_type": "code",
   "execution_count": 49,
   "metadata": {},
   "outputs": [],
   "source": [
    "# make `YearsCode` to be float\n",
    "df['YearsCode'] = df.YearsCode.replace(['Less than 1 year', 'More than 50 years'],[0,51]).astype(float)"
   ]
  },
  {
   "cell_type": "code",
   "execution_count": 214,
   "metadata": {},
   "outputs": [
    {
     "data": {
      "text/plain": [
       "Gender\n",
       "Man                                                             9.0\n",
       "Man;Non-binary, genderqueer, or gender non-conforming          10.0\n",
       "Non-binary, genderqueer, or gender non-conforming               9.0\n",
       "Woman                                                           6.0\n",
       "Woman;Man                                                       5.0\n",
       "Woman;Man;Non-binary, genderqueer, or gender non-conforming     7.0\n",
       "Woman;Non-binary, genderqueer, or gender non-conforming         9.0\n",
       "Name: YearsCode, dtype: float64"
      ]
     },
     "execution_count": 214,
     "metadata": {},
     "output_type": "execute_result"
    },
    {
     "data": {
      "text/plain": [
       "EdLevel\n",
       "Associate degree                                                                       8.0\n",
       "Bachelor’s degree (BA, BS, B.Eng., etc.)                                               9.0\n",
       "I never completed any formal education                                                 5.0\n",
       "Master’s degree (MA, MS, M.Eng., MBA, etc.)                                           12.0\n",
       "Other doctoral degree (Ph.D, Ed.D., etc.)                                             18.0\n",
       "Primary/elementary school                                                              4.0\n",
       "Professional degree (JD, MD, etc.)                                                    10.0\n",
       "Secondary school (e.g. American high school, German Realschule or Gymnasium, etc.)     5.0\n",
       "Some college/university study without earning a degree                                 9.0\n",
       "Name: YearsCode, dtype: float64"
      ]
     },
     "execution_count": 214,
     "metadata": {},
     "output_type": "execute_result"
    }
   ],
   "source": [
    "df.groupby('Gender').YearsCode.median()\n",
    "df.groupby('EdLevel').YearsCode.median()"
   ]
  },
  {
   "cell_type": "code",
   "execution_count": 63,
   "metadata": {},
   "outputs": [
    {
     "data": {
      "text/plain": [
       "Gender                                                       Sexuality                                      \n",
       "Man                                                          Straight / Heterosexual                            65496\n",
       "                                                             Bisexual                                            2262\n",
       "                                                             Gay or Lesbian                                      1298\n",
       "                                                             Bisexual;Straight / Heterosexual                     396\n",
       "                                                             Bisexual;Gay or Lesbian                               56\n",
       "                                                             Bisexual;Gay or Lesbian;Straight / Heterosexual       54\n",
       "                                                             Gay or Lesbian;Straight / Heterosexual                26\n",
       "Man;Non-binary, genderqueer, or gender non-conforming        Straight / Heterosexual                               56\n",
       "                                                             Bisexual                                              47\n",
       "                                                             Gay or Lesbian                                        23\n",
       "                                                             Bisexual;Straight / Heterosexual                      15\n",
       "                                                             Bisexual;Gay or Lesbian                                2\n",
       "Non-binary, genderqueer, or gender non-conforming            Bisexual                                             202\n",
       "                                                             Straight / Heterosexual                               74\n",
       "                                                             Gay or Lesbian                                        63\n",
       "                                                             Bisexual;Gay or Lesbian                               13\n",
       "                                                             Bisexual;Straight / Heterosexual                       5\n",
       "                                                             Bisexual;Gay or Lesbian;Straight / Heterosexual        3\n",
       "                                                             Gay or Lesbian;Straight / Heterosexual                 3\n",
       "Woman                                                        Straight / Heterosexual                             4017\n",
       "                                                             Bisexual                                             802\n",
       "                                                             Gay or Lesbian                                       340\n",
       "                                                             Bisexual;Straight / Heterosexual                      61\n",
       "                                                             Bisexual;Gay or Lesbian                               33\n",
       "                                                             Bisexual;Gay or Lesbian;Straight / Heterosexual        9\n",
       "                                                             Gay or Lesbian;Straight / Heterosexual                 5\n",
       "Woman;Man                                                    Straight / Heterosexual                               43\n",
       "                                                             Bisexual                                              19\n",
       "                                                             Bisexual;Gay or Lesbian;Straight / Heterosexual        6\n",
       "                                                             Bisexual;Straight / Heterosexual                       3\n",
       "                                                             Gay or Lesbian                                         3\n",
       "                                                             Gay or Lesbian;Straight / Heterosexual                 3\n",
       "                                                             Bisexual;Gay or Lesbian                                1\n",
       "Woman;Man;Non-binary, genderqueer, or gender non-conforming  Bisexual;Gay or Lesbian;Straight / Heterosexual       24\n",
       "                                                             Straight / Heterosexual                               10\n",
       "                                                             Bisexual                                               5\n",
       "                                                             Bisexual;Straight / Heterosexual                       3\n",
       "                                                             Bisexual;Gay or Lesbian                                1\n",
       "Woman;Non-binary, genderqueer, or gender non-conforming      Bisexual                                              57\n",
       "                                                             Gay or Lesbian                                        47\n",
       "                                                             Bisexual;Straight / Heterosexual                       7\n",
       "                                                             Straight / Heterosexual                                7\n",
       "                                                             Bisexual;Gay or Lesbian                                5\n",
       "                                                             Bisexual;Gay or Lesbian;Straight / Heterosexual        1\n",
       "                                                             Gay or Lesbian;Straight / Heterosexual                 1\n",
       "Name: Sexuality, dtype: int64"
      ]
     },
     "execution_count": 63,
     "metadata": {},
     "output_type": "execute_result"
    }
   ],
   "source": [
    "df.groupby('Gender').Sexuality.value_counts()\n"
   ]
  },
  {
   "cell_type": "code",
   "execution_count": 94,
   "metadata": {},
   "outputs": [
    {
     "data": {
      "text/plain": [
       "Country      SocialMedia             \n",
       "Afghanistan  Facebook                    0.405405\n",
       "             YouTube                     0.243243\n",
       "             I don't use social media    0.162162\n",
       "             WhatsApp                    0.108108\n",
       "             Instagram                   0.027027\n",
       "             LinkedIn                    0.027027\n",
       "             Twitter                     0.027027\n",
       "Albania      WhatsApp                    0.214286\n",
       "             Facebook                    0.190476\n",
       "             Instagram                   0.154762\n",
       "             YouTube                     0.119048\n",
       "             Twitter                     0.095238\n",
       "             LinkedIn                    0.083333\n",
       "             Reddit                      0.071429\n",
       "             I don't use social media    0.047619\n",
       "             Snapchat                    0.011905\n",
       "             WeChat 微信                   0.011905\n",
       "Algeria      YouTube                     0.338710\n",
       "             Facebook                    0.330645\n",
       "             Twitter                     0.112903\n",
       "             LinkedIn                    0.072581\n",
       "             I don't use social media    0.056452\n",
       "             Instagram                   0.056452\n",
       "             Reddit                      0.016129\n",
       "             WhatsApp                    0.016129\n",
       "Andorra      Facebook                    0.285714\n",
       "             I don't use social media    0.285714\n",
       "             Reddit                      0.142857\n",
       "             Snapchat                    0.142857\n",
       "             YouTube                     0.142857\n",
       "Name: SocialMedia, dtype: float64"
      ]
     },
     "execution_count": 94,
     "metadata": {},
     "output_type": "execute_result"
    },
    {
     "name": "stdout",
     "output_type": "stream",
     "text": [
      "-----------\n"
     ]
    },
    {
     "data": {
      "text/plain": [
       "SocialMedia\n",
       "WeChat 微信                   0.670549\n",
       "YouTube                     0.088186\n",
       "Weibo 新浪微博                  0.069884\n",
       "I don't use social media    0.044925\n",
       "Twitter                     0.044925\n",
       "Reddit                      0.019967\n",
       "LinkedIn                    0.018303\n",
       "Facebook                    0.013311\n",
       "Instagram                   0.011647\n",
       "Youku Tudou 优酷              0.011647\n",
       "WhatsApp                    0.004992\n",
       "VK ВКонта́кте               0.001664\n",
       "Name: SocialMedia, dtype: float64"
      ]
     },
     "execution_count": 94,
     "metadata": {},
     "output_type": "execute_result"
    }
   ],
   "source": [
    "df_gp_contry = df.groupby('Country')\n",
    "df_gp_contry['SocialMedia'].value_counts(normalize=True)[:30]\n",
    "print(\"-----------\")\n",
    "df_gp_contry.SocialMedia.value_counts(normalize=True).China\n"
   ]
  },
  {
   "cell_type": "code",
   "execution_count": 93,
   "metadata": {},
   "outputs": [
    {
     "data": {
      "text/plain": [
       "Sexuality\n",
       "Straight / Heterosexual                            65496\n",
       "Bisexual                                            2262\n",
       "Gay or Lesbian                                      1298\n",
       "Bisexual;Straight / Heterosexual                     396\n",
       "Bisexual;Gay or Lesbian                               56\n",
       "Bisexual;Gay or Lesbian;Straight / Heterosexual       54\n",
       "Gay or Lesbian;Straight / Heterosexual                26\n",
       "Name: Sexuality, dtype: int64"
      ]
     },
     "execution_count": 93,
     "metadata": {},
     "output_type": "execute_result"
    },
    {
     "data": {
      "text/plain": [
       "Gender                                                 Sexuality                                      \n",
       "Man                                                    Straight / Heterosexual                            65496\n",
       "                                                       Bisexual                                            2262\n",
       "                                                       Gay or Lesbian                                      1298\n",
       "                                                       Bisexual;Straight / Heterosexual                     396\n",
       "                                                       Bisexual;Gay or Lesbian                               56\n",
       "                                                       Bisexual;Gay or Lesbian;Straight / Heterosexual       54\n",
       "                                                       Gay or Lesbian;Straight / Heterosexual                26\n",
       "Man;Non-binary, genderqueer, or gender non-conforming  Straight / Heterosexual                               56\n",
       "                                                       Bisexual                                              47\n",
       "                                                       Gay or Lesbian                                        23\n",
       "                                                       Bisexual;Straight / Heterosexual                      15\n",
       "                                                       Bisexual;Gay or Lesbian                                2\n",
       "Non-binary, genderqueer, or gender non-conforming      Bisexual                                             202\n",
       "                                                       Straight / Heterosexual                               74\n",
       "                                                       Gay or Lesbian                                        63\n",
       "                                                       Bisexual;Gay or Lesbian                               13\n",
       "                                                       Bisexual;Straight / Heterosexual                       5\n",
       "                                                       Bisexual;Gay or Lesbian;Straight / Heterosexual        3\n",
       "                                                       Gay or Lesbian;Straight / Heterosexual                 3\n",
       "Woman                                                  Straight / Heterosexual                             4017\n",
       "                                                       Bisexual                                             802\n",
       "                                                       Gay or Lesbian                                       340\n",
       "                                                       Bisexual;Straight / Heterosexual                      61\n",
       "                                                       Bisexual;Gay or Lesbian                               33\n",
       "                                                       Bisexual;Gay or Lesbian;Straight / Heterosexual        9\n",
       "                                                       Gay or Lesbian;Straight / Heterosexual                 5\n",
       "Woman;Man                                              Straight / Heterosexual                               43\n",
       "                                                       Bisexual                                              19\n",
       "                                                       Bisexual;Gay or Lesbian;Straight / Heterosexual        6\n",
       "                                                       Bisexual;Straight / Heterosexual                       3\n",
       "Name: Sexuality, dtype: int64"
      ]
     },
     "execution_count": 93,
     "metadata": {},
     "output_type": "execute_result"
    }
   ],
   "source": [
    "df_gp_gender = df.groupby('Gender')\n",
    "df_gp_gender.Sexuality.value_counts().Man\n",
    "df_gp_gender.Sexuality.value_counts()[:30]"
   ]
  },
  {
   "cell_type": "code",
   "execution_count": 45,
   "metadata": {},
   "outputs": [
    {
     "data": {
      "text/plain": [
       "9.0"
      ]
     },
     "execution_count": 45,
     "metadata": {},
     "output_type": "execute_result"
    },
    {
     "data": {
      "text/plain": [
       "11.662114216834588"
      ]
     },
     "execution_count": 45,
     "metadata": {},
     "output_type": "execute_result"
    }
   ],
   "source": [
    "df.YearsCode.astype(float).median()\n",
    "df.YearsCode.astype(float).mean()"
   ]
  },
  {
   "cell_type": "code",
   "execution_count": 232,
   "metadata": {},
   "outputs": [
    {
     "name": "stdout",
     "output_type": "stream",
     "text": [
      "percentage of different education level: \n"
     ]
    },
    {
     "data": {
      "text/html": [
       "<div>\n",
       "<style scoped>\n",
       "    .dataframe tbody tr th:only-of-type {\n",
       "        vertical-align: middle;\n",
       "    }\n",
       "\n",
       "    .dataframe tbody tr th {\n",
       "        vertical-align: top;\n",
       "    }\n",
       "\n",
       "    .dataframe thead th {\n",
       "        text-align: right;\n",
       "    }\n",
       "</style>\n",
       "<table border=\"1\" class=\"dataframe\">\n",
       "  <thead>\n",
       "    <tr style=\"text-align: right;\">\n",
       "      <th>stats</th>\n",
       "      <th>count</th>\n",
       "      <th>rate</th>\n",
       "    </tr>\n",
       "    <tr>\n",
       "      <th>values</th>\n",
       "      <th></th>\n",
       "      <th></th>\n",
       "    </tr>\n",
       "  </thead>\n",
       "  <tbody>\n",
       "    <tr>\n",
       "      <th>Bachelor’s degree (BA, BS, B.Eng., etc.)</th>\n",
       "      <td>39134</td>\n",
       "      <td>0.452992</td>\n",
       "    </tr>\n",
       "    <tr>\n",
       "      <th>Master’s degree (MA, MS, M.Eng., MBA, etc.)</th>\n",
       "      <td>19569</td>\n",
       "      <td>0.226519</td>\n",
       "    </tr>\n",
       "    <tr>\n",
       "      <th>Some college/university study without earning a degree</th>\n",
       "      <td>10502</td>\n",
       "      <td>0.121565</td>\n",
       "    </tr>\n",
       "    <tr>\n",
       "      <th>Secondary school (e.g. American high school, German Realschule or Gymnasium, etc.)</th>\n",
       "      <td>8642</td>\n",
       "      <td>0.100035</td>\n",
       "    </tr>\n",
       "    <tr>\n",
       "      <th>Associate degree</th>\n",
       "      <td>2938</td>\n",
       "      <td>0.034009</td>\n",
       "    </tr>\n",
       "    <tr>\n",
       "      <th>Other doctoral degree (Ph.D, Ed.D., etc.)</th>\n",
       "      <td>2432</td>\n",
       "      <td>0.028151</td>\n",
       "    </tr>\n",
       "    <tr>\n",
       "      <th>Primary/elementary school</th>\n",
       "      <td>1422</td>\n",
       "      <td>0.016460</td>\n",
       "    </tr>\n",
       "    <tr>\n",
       "      <th>Professional degree (JD, MD, etc.)</th>\n",
       "      <td>1198</td>\n",
       "      <td>0.013867</td>\n",
       "    </tr>\n",
       "    <tr>\n",
       "      <th>I never completed any formal education</th>\n",
       "      <td>553</td>\n",
       "      <td>0.006401</td>\n",
       "    </tr>\n",
       "  </tbody>\n",
       "</table>\n",
       "</div>"
      ],
      "text/plain": [
       "stats                                               count      rate\n",
       "values                                                             \n",
       "Bachelor’s degree (BA, BS, B.Eng., etc.)            39134  0.452992\n",
       "Master’s degree (MA, MS, M.Eng., MBA, etc.)         19569  0.226519\n",
       "Some college/university study without earning a...  10502  0.121565\n",
       "Secondary school (e.g. American high school, Ge...   8642  0.100035\n",
       "Associate degree                                     2938  0.034009\n",
       "Other doctoral degree (Ph.D, Ed.D., etc.)            2432  0.028151\n",
       "Primary/elementary school                            1422  0.016460\n",
       "Professional degree (JD, MD, etc.)                   1198  0.013867\n",
       "I never completed any formal education                553  0.006401"
      ]
     },
     "execution_count": 232,
     "metadata": {},
     "output_type": "execute_result"
    },
    {
     "name": "stdout",
     "output_type": "stream",
     "text": [
      "median salary for each education level (USD): \n"
     ]
    },
    {
     "data": {
      "text/plain": [
       "EdLevel\n",
       "Other doctoral degree (Ph.D, Ed.D., etc.)                                             81960.0\n",
       "Bachelor’s degree (BA, BS, B.Eng., etc.)                                              60000.0\n",
       "Master’s degree (MA, MS, M.Eng., MBA, etc.)                                           57744.0\n",
       "Associate degree                                                                      56092.5\n",
       "I never completed any formal education                                                53562.0\n",
       "Some college/university study without earning a degree                                52476.0\n",
       "Secondary school (e.g. American high school, German Realschule or Gymnasium, etc.)    37128.0\n",
       "Primary/elementary school                                                             34368.0\n",
       "Professional degree (JD, MD, etc.)                                                    32998.0\n",
       "Name: ConvertedComp, dtype: float64"
      ]
     },
     "execution_count": 232,
     "metadata": {},
     "output_type": "execute_result"
    },
    {
     "name": "stdout",
     "output_type": "stream",
     "text": [
      "count of education level by country: \n"
     ]
    },
    {
     "data": {
      "text/html": [
       "<div>\n",
       "<style scoped>\n",
       "    .dataframe tbody tr th:only-of-type {\n",
       "        vertical-align: middle;\n",
       "    }\n",
       "\n",
       "    .dataframe tbody tr th {\n",
       "        vertical-align: top;\n",
       "    }\n",
       "\n",
       "    .dataframe thead th {\n",
       "        text-align: right;\n",
       "    }\n",
       "</style>\n",
       "<table border=\"1\" class=\"dataframe\">\n",
       "  <thead>\n",
       "    <tr style=\"text-align: right;\">\n",
       "      <th>Country</th>\n",
       "      <th>China</th>\n",
       "      <th>United States</th>\n",
       "      <th>Hong Kong (S.A.R.)</th>\n",
       "      <th>Canada</th>\n",
       "    </tr>\n",
       "    <tr>\n",
       "      <th>EdLevel</th>\n",
       "      <th></th>\n",
       "      <th></th>\n",
       "      <th></th>\n",
       "      <th></th>\n",
       "    </tr>\n",
       "  </thead>\n",
       "  <tbody>\n",
       "    <tr>\n",
       "      <th>Associate degree</th>\n",
       "      <td>29.0</td>\n",
       "      <td>977.0</td>\n",
       "      <td>7.0</td>\n",
       "      <td>301.0</td>\n",
       "    </tr>\n",
       "    <tr>\n",
       "      <th>Bachelor’s degree (BA, BS, B.Eng., etc.)</th>\n",
       "      <td>341.0</td>\n",
       "      <td>10953.0</td>\n",
       "      <td>101.0</td>\n",
       "      <td>1588.0</td>\n",
       "    </tr>\n",
       "    <tr>\n",
       "      <th>I never completed any formal education</th>\n",
       "      <td>12.0</td>\n",
       "      <td>96.0</td>\n",
       "      <td>NaN</td>\n",
       "      <td>19.0</td>\n",
       "    </tr>\n",
       "    <tr>\n",
       "      <th>Master’s degree (MA, MS, M.Eng., MBA, etc.)</th>\n",
       "      <td>129.0</td>\n",
       "      <td>3585.0</td>\n",
       "      <td>40.0</td>\n",
       "      <td>475.0</td>\n",
       "    </tr>\n",
       "    <tr>\n",
       "      <th>Other doctoral degree (Ph.D, Ed.D., etc.)</th>\n",
       "      <td>11.0</td>\n",
       "      <td>673.0</td>\n",
       "      <td>6.0</td>\n",
       "      <td>78.0</td>\n",
       "    </tr>\n",
       "    <tr>\n",
       "      <th>Primary/elementary school</th>\n",
       "      <td>11.0</td>\n",
       "      <td>310.0</td>\n",
       "      <td>4.0</td>\n",
       "      <td>74.0</td>\n",
       "    </tr>\n",
       "    <tr>\n",
       "      <th>Professional degree (JD, MD, etc.)</th>\n",
       "      <td>7.0</td>\n",
       "      <td>119.0</td>\n",
       "      <td>2.0</td>\n",
       "      <td>21.0</td>\n",
       "    </tr>\n",
       "    <tr>\n",
       "      <th>Secondary school (e.g. American high school, German Realschule or Gymnasium, etc.)</th>\n",
       "      <td>50.0</td>\n",
       "      <td>1113.0</td>\n",
       "      <td>14.0</td>\n",
       "      <td>275.0</td>\n",
       "    </tr>\n",
       "    <tr>\n",
       "      <th>Some college/university study without earning a degree</th>\n",
       "      <td>55.0</td>\n",
       "      <td>2779.0</td>\n",
       "      <td>10.0</td>\n",
       "      <td>438.0</td>\n",
       "    </tr>\n",
       "  </tbody>\n",
       "</table>\n",
       "</div>"
      ],
      "text/plain": [
       "Country                                             China  United States  \\\n",
       "EdLevel                                                                    \n",
       "Associate degree                                     29.0          977.0   \n",
       "Bachelor’s degree (BA, BS, B.Eng., etc.)            341.0        10953.0   \n",
       "I never completed any formal education               12.0           96.0   \n",
       "Master’s degree (MA, MS, M.Eng., MBA, etc.)         129.0         3585.0   \n",
       "Other doctoral degree (Ph.D, Ed.D., etc.)            11.0          673.0   \n",
       "Primary/elementary school                            11.0          310.0   \n",
       "Professional degree (JD, MD, etc.)                    7.0          119.0   \n",
       "Secondary school (e.g. American high school, Ge...   50.0         1113.0   \n",
       "Some college/university study without earning a...   55.0         2779.0   \n",
       "\n",
       "Country                                             Hong Kong (S.A.R.)  Canada  \n",
       "EdLevel                                                                         \n",
       "Associate degree                                                   7.0   301.0  \n",
       "Bachelor’s degree (BA, BS, B.Eng., etc.)                         101.0  1588.0  \n",
       "I never completed any formal education                             NaN    19.0  \n",
       "Master’s degree (MA, MS, M.Eng., MBA, etc.)                       40.0   475.0  \n",
       "Other doctoral degree (Ph.D, Ed.D., etc.)                          6.0    78.0  \n",
       "Primary/elementary school                                          4.0    74.0  \n",
       "Professional degree (JD, MD, etc.)                                 2.0    21.0  \n",
       "Secondary school (e.g. American high school, Ge...                14.0   275.0  \n",
       "Some college/university study without earning a...                10.0   438.0  "
      ]
     },
     "execution_count": 232,
     "metadata": {},
     "output_type": "execute_result"
    },
    {
     "name": "stdout",
     "output_type": "stream",
     "text": [
      "median salary (USD) for each education level by country: \n"
     ]
    },
    {
     "data": {
      "text/html": [
       "<div>\n",
       "<style scoped>\n",
       "    .dataframe tbody tr th:only-of-type {\n",
       "        vertical-align: middle;\n",
       "    }\n",
       "\n",
       "    .dataframe tbody tr th {\n",
       "        vertical-align: top;\n",
       "    }\n",
       "\n",
       "    .dataframe thead th {\n",
       "        text-align: right;\n",
       "    }\n",
       "</style>\n",
       "<table border=\"1\" class=\"dataframe\">\n",
       "  <thead>\n",
       "    <tr style=\"text-align: right;\">\n",
       "      <th>Country</th>\n",
       "      <th>China</th>\n",
       "      <th>United States</th>\n",
       "      <th>Hong Kong (S.A.R.)</th>\n",
       "      <th>Canada</th>\n",
       "    </tr>\n",
       "    <tr>\n",
       "      <th>EdLevel</th>\n",
       "      <th></th>\n",
       "      <th></th>\n",
       "      <th></th>\n",
       "      <th></th>\n",
       "    </tr>\n",
       "  </thead>\n",
       "  <tbody>\n",
       "    <tr>\n",
       "      <th>Associate degree</th>\n",
       "      <td>23130.0</td>\n",
       "      <td>90000.0</td>\n",
       "      <td>53520.0</td>\n",
       "      <td>57254.0</td>\n",
       "    </tr>\n",
       "    <tr>\n",
       "      <th>Bachelor’s degree (BA, BS, B.Eng., etc.)</th>\n",
       "      <td>26688.0</td>\n",
       "      <td>110000.0</td>\n",
       "      <td>47608.5</td>\n",
       "      <td>68705.0</td>\n",
       "    </tr>\n",
       "    <tr>\n",
       "      <th>I never completed any formal education</th>\n",
       "      <td>57822.0</td>\n",
       "      <td>123500.0</td>\n",
       "      <td>NaN</td>\n",
       "      <td>65651.0</td>\n",
       "    </tr>\n",
       "    <tr>\n",
       "      <th>Master’s degree (MA, MS, M.Eng., MBA, etc.)</th>\n",
       "      <td>40920.0</td>\n",
       "      <td>125000.0</td>\n",
       "      <td>53520.0</td>\n",
       "      <td>76339.0</td>\n",
       "    </tr>\n",
       "    <tr>\n",
       "      <th>Other doctoral degree (Ph.D, Ed.D., etc.)</th>\n",
       "      <td>44484.0</td>\n",
       "      <td>140000.0</td>\n",
       "      <td>91752.0</td>\n",
       "      <td>83972.0</td>\n",
       "    </tr>\n",
       "    <tr>\n",
       "      <th>Primary/elementary school</th>\n",
       "      <td>17256.0</td>\n",
       "      <td>120000.0</td>\n",
       "      <td>NaN</td>\n",
       "      <td>76339.0</td>\n",
       "    </tr>\n",
       "    <tr>\n",
       "      <th>Professional degree (JD, MD, etc.)</th>\n",
       "      <td>37065.0</td>\n",
       "      <td>106500.0</td>\n",
       "      <td>67284.0</td>\n",
       "      <td>47711.5</td>\n",
       "    </tr>\n",
       "    <tr>\n",
       "      <th>Secondary school (e.g. American high school, German Realschule or Gymnasium, etc.)</th>\n",
       "      <td>9336.0</td>\n",
       "      <td>95000.0</td>\n",
       "      <td>285470.5</td>\n",
       "      <td>61071.0</td>\n",
       "    </tr>\n",
       "    <tr>\n",
       "      <th>Some college/university study without earning a degree</th>\n",
       "      <td>16008.0</td>\n",
       "      <td>107000.0</td>\n",
       "      <td>84114.0</td>\n",
       "      <td>68705.0</td>\n",
       "    </tr>\n",
       "  </tbody>\n",
       "</table>\n",
       "</div>"
      ],
      "text/plain": [
       "Country                                               China  United States  \\\n",
       "EdLevel                                                                      \n",
       "Associate degree                                    23130.0        90000.0   \n",
       "Bachelor’s degree (BA, BS, B.Eng., etc.)            26688.0       110000.0   \n",
       "I never completed any formal education              57822.0       123500.0   \n",
       "Master’s degree (MA, MS, M.Eng., MBA, etc.)         40920.0       125000.0   \n",
       "Other doctoral degree (Ph.D, Ed.D., etc.)           44484.0       140000.0   \n",
       "Primary/elementary school                           17256.0       120000.0   \n",
       "Professional degree (JD, MD, etc.)                  37065.0       106500.0   \n",
       "Secondary school (e.g. American high school, Ge...   9336.0        95000.0   \n",
       "Some college/university study without earning a...  16008.0       107000.0   \n",
       "\n",
       "Country                                             Hong Kong (S.A.R.)  \\\n",
       "EdLevel                                                                  \n",
       "Associate degree                                               53520.0   \n",
       "Bachelor’s degree (BA, BS, B.Eng., etc.)                       47608.5   \n",
       "I never completed any formal education                             NaN   \n",
       "Master’s degree (MA, MS, M.Eng., MBA, etc.)                    53520.0   \n",
       "Other doctoral degree (Ph.D, Ed.D., etc.)                      91752.0   \n",
       "Primary/elementary school                                          NaN   \n",
       "Professional degree (JD, MD, etc.)                             67284.0   \n",
       "Secondary school (e.g. American high school, Ge...            285470.5   \n",
       "Some college/university study without earning a...             84114.0   \n",
       "\n",
       "Country                                              Canada  \n",
       "EdLevel                                                      \n",
       "Associate degree                                    57254.0  \n",
       "Bachelor’s degree (BA, BS, B.Eng., etc.)            68705.0  \n",
       "I never completed any formal education              65651.0  \n",
       "Master’s degree (MA, MS, M.Eng., MBA, etc.)         76339.0  \n",
       "Other doctoral degree (Ph.D, Ed.D., etc.)           83972.0  \n",
       "Primary/elementary school                           76339.0  \n",
       "Professional degree (JD, MD, etc.)                  47711.5  \n",
       "Secondary school (e.g. American high school, Ge...  61071.0  \n",
       "Some college/university study without earning a...  68705.0  "
      ]
     },
     "execution_count": 232,
     "metadata": {},
     "output_type": "execute_result"
    }
   ],
   "source": [
    "countries = ['China', 'United States', 'Hong Kong (S.A.R.)', 'Canada']\n",
    "\n",
    "print(\"percentage of different education level: \")\n",
    "df.EdLevel.value_counts_plus()\n",
    "\n",
    "print(\"median salary for each education level (USD): \")\n",
    "df.groupby('EdLevel').ConvertedComp.median().sort_values(ascending=False)\n",
    "\n",
    "print(\"count of education level by country: \")\n",
    "df.groupby('Country').EdLevel.value_counts().unstack(level=0).loc[:, countries]\n",
    "\n",
    "print(\"median salary (USD) for each education level by country: \")\n",
    "pd.pivot_table(data=df, values='ConvertedComp', index='EdLevel', columns='Country', aggfunc='median').loc[:, countries]"
   ]
  },
  {
   "cell_type": "code",
   "execution_count": null,
   "metadata": {},
   "outputs": [],
   "source": []
  }
 ],
 "metadata": {
  "interpreter": {
   "hash": "ae74f9feb07f97b665e59d852dca9947bf3c6be9bdf551f43d711a8fd00af3ab"
  },
  "kernelspec": {
   "display_name": "Python 3.9.7 ('data_science')",
   "language": "python",
   "name": "python3"
  },
  "language_info": {
   "codemirror_mode": {
    "name": "ipython",
    "version": 3
   },
   "file_extension": ".py",
   "mimetype": "text/x-python",
   "name": "python",
   "nbconvert_exporter": "python",
   "pygments_lexer": "ipython3",
   "version": "3.9.7"
  },
  "orig_nbformat": 4
 },
 "nbformat": 4,
 "nbformat_minor": 2
}
