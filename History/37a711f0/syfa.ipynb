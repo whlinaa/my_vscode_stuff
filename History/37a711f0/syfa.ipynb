{
 "cells": [
  {
   "cell_type": "code",
   "execution_count": 6,
   "metadata": {},
   "outputs": [
    {
     "name": "stdout",
     "output_type": "stream",
     "text": [
      "calling ds_preamble..\n",
      "calling ds_helper...\n"
     ]
    }
   ],
   "source": [
    "from ds_utils.ds_preamble import *\n",
    "from ds_utils.ds_plotting import *\n",
    "from ds_utils.ds_helper import *"
   ]
  },
  {
   "cell_type": "code",
   "execution_count": 233,
   "metadata": {},
   "outputs": [],
   "source": [
    "# %ls ../data/stack-overflow-developer-survey-2019\n",
    "# year = '2021'\n",
    "year = '2019'\n",
    "df_schema = pd.read_csv(f'../data/stack-overflow-developer-survey-{year}/survey_results_schema.csv')\n",
    "df_raw = pd.read_csv(f'../data/stack-overflow-developer-survey-{year}/survey_results_public.csv')"
   ]
  },
  {
   "cell_type": "code",
   "execution_count": 234,
   "metadata": {},
   "outputs": [],
   "source": [
    "df = df_raw.copy()\n"
   ]
  },
  {
   "cell_type": "code",
   "execution_count": 244,
   "metadata": {},
   "outputs": [
    {
     "data": {
      "text/plain": [
       "Index(['ResponseId', 'MainBranch', 'Employment', 'Country', 'US_State',\n",
       "       'UK_Country', 'EdLevel', 'Age1stCode', 'LearnCode', 'YearsCode',\n",
       "       'YearsCodePro', 'DevType', 'OrgSize', 'Currency', 'CompTotal',\n",
       "       'CompFreq', 'LanguageHaveWorkedWith', 'LanguageWantToWorkWith',\n",
       "       'DatabaseHaveWorkedWith', 'DatabaseWantToWorkWith',\n",
       "       'PlatformHaveWorkedWith', 'PlatformWantToWorkWith',\n",
       "       'WebframeHaveWorkedWith', 'WebframeWantToWorkWith',\n",
       "       'MiscTechHaveWorkedWith', 'MiscTechWantToWorkWith',\n",
       "       'ToolsTechHaveWorkedWith', 'ToolsTechWantToWorkWith',\n",
       "       'NEWCollabToolsHaveWorkedWith', 'NEWCollabToolsWantToWorkWith', 'OpSys',\n",
       "       'NEWStuck', 'NEWSOSites', 'SOVisitFreq', 'SOAccount', 'SOPartFreq',\n",
       "       'SOComm', 'NEWOtherComms', 'Age', 'Gender', 'Trans', 'Sexuality',\n",
       "       'Ethnicity', 'Accessibility', 'MentalHealth', 'SurveyLength',\n",
       "       'SurveyEase', 'ConvertedCompYearly'],\n",
       "      dtype='object')"
      ]
     },
     "execution_count": 244,
     "metadata": {},
     "output_type": "execute_result"
    }
   ],
   "source": [
    "df.columns"
   ]
  },
  {
   "cell_type": "code",
   "execution_count": 246,
   "metadata": {},
   "outputs": [
    {
     "data": {
      "text/plain": [
       "0                                                 Slovakia\n",
       "1                                              Netherlands\n",
       "2                                       Russian Federation\n",
       "3                                                  Austria\n",
       "4        United Kingdom of Great Britain and Northern I...\n",
       "                               ...                        \n",
       "83434                             United States of America\n",
       "83435                                                Benin\n",
       "83436                             United States of America\n",
       "83437                                               Canada\n",
       "83438                                               Brazil\n",
       "Name: Country, Length: 83439, dtype: object"
      ]
     },
     "execution_count": 246,
     "metadata": {},
     "output_type": "execute_result"
    }
   ],
   "source": [
    "df.Country"
   ]
  },
  {
   "cell_type": "code",
   "execution_count": 235,
   "metadata": {},
   "outputs": [
    {
     "data": {
      "text/plain": [
       "['Hong Kong (S.A.R.)']"
      ]
     },
     "execution_count": 235,
     "metadata": {},
     "output_type": "execute_result"
    },
    {
     "data": {
      "text/plain": [
       "60    Hong Kong (S.A.R.)\n",
       "dtype: object"
      ]
     },
     "execution_count": 235,
     "metadata": {},
     "output_type": "execute_result"
    }
   ],
   "source": [
    "# check whether a string exists in a dataframe column\n",
    "# want to find if Hong Kong is included as a country\n",
    "unique_names = df.Country.unique()\n",
    "[name for name in unique_names if isinstance(name, str) and \"Hong\" in name]\n",
    "\n",
    "country_names = pd.Series(unique_names)\n",
    "country_names[country_names.str.contains('Hong').replace(np.nan, False)]"
   ]
  },
  {
   "cell_type": "code",
   "execution_count": 236,
   "metadata": {},
   "outputs": [
    {
     "data": {
      "text/plain": [
       "Index(['LanguageHaveWorkedWith', 'LanguageWantToWorkWith'], dtype='object')"
      ]
     },
     "execution_count": 236,
     "metadata": {},
     "output_type": "execute_result"
    }
   ],
   "source": [
    "df.columns.sort_values()[df.columns.sort_values().str.contains(\"language\", case=False)]"
   ]
  },
  {
   "cell_type": "code",
   "execution_count": 237,
   "metadata": {},
   "outputs": [
    {
     "ename": "AttributeError",
     "evalue": "'DataFrame' object has no attribute 'LanguageWorkedWith'",
     "output_type": "error",
     "traceback": [
      "\u001b[0;31m---------------------------------------------------------------------------\u001b[0m",
      "\u001b[0;31mAttributeError\u001b[0m                            Traceback (most recent call last)",
      "\u001b[0;32m/var/folders/c2/yj8ksjmn34v5f9csr1s82d8r0000gn/T/ipykernel_86026/243659797.py\u001b[0m in \u001b[0;36m<module>\u001b[0;34m\u001b[0m\n\u001b[0;32m----> 1\u001b[0;31m \u001b[0mdf\u001b[0m\u001b[0;34m.\u001b[0m\u001b[0mLanguageWorkedWith\u001b[0m\u001b[0;34m[\u001b[0m\u001b[0mdf\u001b[0m\u001b[0;34m.\u001b[0m\u001b[0mLanguageWorkedWith\u001b[0m\u001b[0;34m.\u001b[0m\u001b[0mstr\u001b[0m\u001b[0;34m.\u001b[0m\u001b[0mcontains\u001b[0m\u001b[0;34m(\u001b[0m\u001b[0;34mr';?R;?'\u001b[0m\u001b[0;34m)\u001b[0m\u001b[0;34m.\u001b[0m\u001b[0mreplace\u001b[0m\u001b[0;34m(\u001b[0m\u001b[0mnp\u001b[0m\u001b[0;34m.\u001b[0m\u001b[0mnan\u001b[0m\u001b[0;34m,\u001b[0m \u001b[0;32mFalse\u001b[0m\u001b[0;34m)\u001b[0m\u001b[0;34m]\u001b[0m\u001b[0;34m\u001b[0m\u001b[0;34m\u001b[0m\u001b[0m\n\u001b[0m",
      "\u001b[0;32m~/miniforge3/envs/data_science/lib/python3.9/site-packages/pandas/core/generic.py\u001b[0m in \u001b[0;36m__getattr__\u001b[0;34m(self, name)\u001b[0m\n\u001b[1;32m   5581\u001b[0m         ):\n\u001b[1;32m   5582\u001b[0m             \u001b[0;32mreturn\u001b[0m \u001b[0mself\u001b[0m\u001b[0;34m[\u001b[0m\u001b[0mname\u001b[0m\u001b[0;34m]\u001b[0m\u001b[0;34m\u001b[0m\u001b[0;34m\u001b[0m\u001b[0m\n\u001b[0;32m-> 5583\u001b[0;31m         \u001b[0;32mreturn\u001b[0m \u001b[0mobject\u001b[0m\u001b[0;34m.\u001b[0m\u001b[0m__getattribute__\u001b[0m\u001b[0;34m(\u001b[0m\u001b[0mself\u001b[0m\u001b[0;34m,\u001b[0m \u001b[0mname\u001b[0m\u001b[0;34m)\u001b[0m\u001b[0;34m\u001b[0m\u001b[0;34m\u001b[0m\u001b[0m\n\u001b[0m\u001b[1;32m   5584\u001b[0m \u001b[0;34m\u001b[0m\u001b[0m\n\u001b[1;32m   5585\u001b[0m     \u001b[0;32mdef\u001b[0m \u001b[0m__setattr__\u001b[0m\u001b[0;34m(\u001b[0m\u001b[0mself\u001b[0m\u001b[0;34m,\u001b[0m \u001b[0mname\u001b[0m\u001b[0;34m:\u001b[0m \u001b[0mstr\u001b[0m\u001b[0;34m,\u001b[0m \u001b[0mvalue\u001b[0m\u001b[0;34m)\u001b[0m \u001b[0;34m->\u001b[0m \u001b[0;32mNone\u001b[0m\u001b[0;34m:\u001b[0m\u001b[0;34m\u001b[0m\u001b[0;34m\u001b[0m\u001b[0m\n",
      "\u001b[0;31mAttributeError\u001b[0m: 'DataFrame' object has no attribute 'LanguageWorkedWith'"
     ]
    }
   ],
   "source": [
    "df.LanguageWorkedWith[df.LanguageWorkedWith.str.contains(r';?R;?').replace(np.nan, False)]"
   ]
  },
  {
   "cell_type": "code",
   "execution_count": 238,
   "metadata": {},
   "outputs": [],
   "source": [
    "# make `YearsCode` to be float\n",
    "df['YearsCode'] = df.YearsCode.replace(['Less than 1 year', 'More than 50 years'],[0,51]).astype(float)"
   ]
  },
  {
   "cell_type": "code",
   "execution_count": 239,
   "metadata": {},
   "outputs": [
    {
     "data": {
      "text/plain": [
       "Gender\n",
       "Man                                                                                   10.0\n",
       "Man;Non-binary, genderqueer, or gender non-conforming                                 10.0\n",
       "Man;Non-binary, genderqueer, or gender non-conforming;Or, in your own words:           9.0\n",
       "Man;Or, in your own words:                                                             8.0\n",
       "Man;Woman                                                                              5.0\n",
       "Man;Woman;Non-binary, genderqueer, or gender non-conforming                            8.0\n",
       "Man;Woman;Non-binary, genderqueer, or gender non-conforming;Or, in your own words:     8.0\n",
       "Man;Woman;Or, in your own words:                                                       8.0\n",
       "Non-binary, genderqueer, or gender non-conforming                                      9.0\n",
       "Non-binary, genderqueer, or gender non-conforming;Or, in your own words:               8.5\n",
       "Or, in your own words:                                                                 9.0\n",
       "Prefer not to say                                                                      9.0\n",
       "Woman                                                                                  7.0\n",
       "Woman;Non-binary, genderqueer, or gender non-conforming                                9.0\n",
       "Woman;Non-binary, genderqueer, or gender non-conforming;Or, in your own words:         8.0\n",
       "Woman;Or, in your own words:                                                          10.0\n",
       "Name: YearsCode, dtype: float64"
      ]
     },
     "execution_count": 239,
     "metadata": {},
     "output_type": "execute_result"
    },
    {
     "data": {
      "text/plain": [
       "EdLevel\n",
       "Associate degree (A.A., A.S., etc.)                                                   10.0\n",
       "Bachelor’s degree (B.A., B.S., B.Eng., etc.)                                          10.0\n",
       "Master’s degree (M.A., M.S., M.Eng., MBA, etc.)                                       13.0\n",
       "Other doctoral degree (Ph.D., Ed.D., etc.)                                            20.0\n",
       "Primary/elementary school                                                              4.0\n",
       "Professional degree (JD, MD, etc.)                                                    12.0\n",
       "Secondary school (e.g. American high school, German Realschule or Gymnasium, etc.)     5.0\n",
       "Some college/university study without earning a degree                                 9.0\n",
       "Something else                                                                         5.0\n",
       "Name: YearsCode, dtype: float64"
      ]
     },
     "execution_count": 239,
     "metadata": {},
     "output_type": "execute_result"
    }
   ],
   "source": [
    "df.groupby('Gender').YearsCode.median()\n",
    "df.groupby('EdLevel').YearsCode.median()"
   ]
  },
  {
   "cell_type": "code",
   "execution_count": 240,
   "metadata": {},
   "outputs": [
    {
     "data": {
      "text/plain": [
       "Gender                        Sexuality                                       \n",
       "Man                           Straight / Heterosexual                             58242\n",
       "                              Prefer not to say                                    3271\n",
       "                              Bisexual                                             2136\n",
       "                              Gay or Lesbian                                       1079\n",
       "                              Prefer to self-describe:                              762\n",
       "                                                                                  ...  \n",
       "Woman;Or, in your own words:  Straight / Heterosexual;Prefer to self-describe:        2\n",
       "                              Bisexual                                                1\n",
       "                              Bisexual;Prefer to self-describe:                       1\n",
       "                              Prefer not to say                                       1\n",
       "                              Queer                                                   1\n",
       "Name: Sexuality, Length: 217, dtype: int64"
      ]
     },
     "execution_count": 240,
     "metadata": {},
     "output_type": "execute_result"
    }
   ],
   "source": [
    "df.groupby('Gender').Sexuality.value_counts()\n"
   ]
  },
  {
   "cell_type": "code",
   "execution_count": 241,
   "metadata": {},
   "outputs": [
    {
     "ename": "KeyError",
     "evalue": "'Column not found: SocialMedia'",
     "output_type": "error",
     "traceback": [
      "\u001b[0;31m---------------------------------------------------------------------------\u001b[0m",
      "\u001b[0;31mKeyError\u001b[0m                                  Traceback (most recent call last)",
      "\u001b[0;32m/var/folders/c2/yj8ksjmn34v5f9csr1s82d8r0000gn/T/ipykernel_86026/390256840.py\u001b[0m in \u001b[0;36m<module>\u001b[0;34m\u001b[0m\n\u001b[1;32m      1\u001b[0m \u001b[0mdf_gp_contry\u001b[0m \u001b[0;34m=\u001b[0m \u001b[0mdf\u001b[0m\u001b[0;34m.\u001b[0m\u001b[0mgroupby\u001b[0m\u001b[0;34m(\u001b[0m\u001b[0;34m'Country'\u001b[0m\u001b[0;34m)\u001b[0m\u001b[0;34m\u001b[0m\u001b[0;34m\u001b[0m\u001b[0m\n\u001b[0;32m----> 2\u001b[0;31m \u001b[0mdf_gp_contry\u001b[0m\u001b[0;34m[\u001b[0m\u001b[0;34m'SocialMedia'\u001b[0m\u001b[0;34m]\u001b[0m\u001b[0;34m.\u001b[0m\u001b[0mvalue_counts\u001b[0m\u001b[0;34m(\u001b[0m\u001b[0mnormalize\u001b[0m\u001b[0;34m=\u001b[0m\u001b[0;32mTrue\u001b[0m\u001b[0;34m)\u001b[0m\u001b[0;34m[\u001b[0m\u001b[0;34m:\u001b[0m\u001b[0;36m30\u001b[0m\u001b[0;34m]\u001b[0m\u001b[0;34m\u001b[0m\u001b[0;34m\u001b[0m\u001b[0m\n\u001b[0m\u001b[1;32m      3\u001b[0m \u001b[0mprint\u001b[0m\u001b[0;34m(\u001b[0m\u001b[0;34m\"-----------\"\u001b[0m\u001b[0;34m)\u001b[0m\u001b[0;34m\u001b[0m\u001b[0;34m\u001b[0m\u001b[0m\n\u001b[1;32m      4\u001b[0m \u001b[0mdf_gp_contry\u001b[0m\u001b[0;34m.\u001b[0m\u001b[0mSocialMedia\u001b[0m\u001b[0;34m.\u001b[0m\u001b[0mvalue_counts\u001b[0m\u001b[0;34m(\u001b[0m\u001b[0mnormalize\u001b[0m\u001b[0;34m=\u001b[0m\u001b[0;32mTrue\u001b[0m\u001b[0;34m)\u001b[0m\u001b[0;34m.\u001b[0m\u001b[0mChina\u001b[0m\u001b[0;34m\u001b[0m\u001b[0;34m\u001b[0m\u001b[0m\n",
      "\u001b[0;32m~/miniforge3/envs/data_science/lib/python3.9/site-packages/pandas/core/groupby/generic.py\u001b[0m in \u001b[0;36m__getitem__\u001b[0;34m(self, key)\u001b[0m\n\u001b[1;32m   1336\u001b[0m                 \u001b[0mstacklevel\u001b[0m\u001b[0;34m=\u001b[0m\u001b[0mfind_stack_level\u001b[0m\u001b[0;34m(\u001b[0m\u001b[0;34m)\u001b[0m\u001b[0;34m,\u001b[0m\u001b[0;34m\u001b[0m\u001b[0;34m\u001b[0m\u001b[0m\n\u001b[1;32m   1337\u001b[0m             )\n\u001b[0;32m-> 1338\u001b[0;31m         \u001b[0;32mreturn\u001b[0m \u001b[0msuper\u001b[0m\u001b[0;34m(\u001b[0m\u001b[0;34m)\u001b[0m\u001b[0;34m.\u001b[0m\u001b[0m__getitem__\u001b[0m\u001b[0;34m(\u001b[0m\u001b[0mkey\u001b[0m\u001b[0;34m)\u001b[0m\u001b[0;34m\u001b[0m\u001b[0;34m\u001b[0m\u001b[0m\n\u001b[0m\u001b[1;32m   1339\u001b[0m \u001b[0;34m\u001b[0m\u001b[0m\n\u001b[1;32m   1340\u001b[0m     \u001b[0;32mdef\u001b[0m \u001b[0m_gotitem\u001b[0m\u001b[0;34m(\u001b[0m\u001b[0mself\u001b[0m\u001b[0;34m,\u001b[0m \u001b[0mkey\u001b[0m\u001b[0;34m,\u001b[0m \u001b[0mndim\u001b[0m\u001b[0;34m:\u001b[0m \u001b[0mint\u001b[0m\u001b[0;34m,\u001b[0m \u001b[0msubset\u001b[0m\u001b[0;34m=\u001b[0m\u001b[0;32mNone\u001b[0m\u001b[0;34m)\u001b[0m\u001b[0;34m:\u001b[0m\u001b[0;34m\u001b[0m\u001b[0;34m\u001b[0m\u001b[0m\n",
      "\u001b[0;32m~/miniforge3/envs/data_science/lib/python3.9/site-packages/pandas/core/base.py\u001b[0m in \u001b[0;36m__getitem__\u001b[0;34m(self, key)\u001b[0m\n\u001b[1;32m    248\u001b[0m         \u001b[0;32melse\u001b[0m\u001b[0;34m:\u001b[0m\u001b[0;34m\u001b[0m\u001b[0;34m\u001b[0m\u001b[0m\n\u001b[1;32m    249\u001b[0m             \u001b[0;32mif\u001b[0m \u001b[0mkey\u001b[0m \u001b[0;32mnot\u001b[0m \u001b[0;32min\u001b[0m \u001b[0mself\u001b[0m\u001b[0;34m.\u001b[0m\u001b[0mobj\u001b[0m\u001b[0;34m:\u001b[0m\u001b[0;34m\u001b[0m\u001b[0;34m\u001b[0m\u001b[0m\n\u001b[0;32m--> 250\u001b[0;31m                 \u001b[0;32mraise\u001b[0m \u001b[0mKeyError\u001b[0m\u001b[0;34m(\u001b[0m\u001b[0;34mf\"Column not found: {key}\"\u001b[0m\u001b[0;34m)\u001b[0m\u001b[0;34m\u001b[0m\u001b[0;34m\u001b[0m\u001b[0m\n\u001b[0m\u001b[1;32m    251\u001b[0m             \u001b[0msubset\u001b[0m \u001b[0;34m=\u001b[0m \u001b[0mself\u001b[0m\u001b[0;34m.\u001b[0m\u001b[0mobj\u001b[0m\u001b[0;34m[\u001b[0m\u001b[0mkey\u001b[0m\u001b[0;34m]\u001b[0m\u001b[0;34m\u001b[0m\u001b[0;34m\u001b[0m\u001b[0m\n\u001b[1;32m    252\u001b[0m             \u001b[0mndim\u001b[0m \u001b[0;34m=\u001b[0m \u001b[0msubset\u001b[0m\u001b[0;34m.\u001b[0m\u001b[0mndim\u001b[0m\u001b[0;34m\u001b[0m\u001b[0;34m\u001b[0m\u001b[0m\n",
      "\u001b[0;31mKeyError\u001b[0m: 'Column not found: SocialMedia'"
     ]
    }
   ],
   "source": [
    "df_gp_contry = df.groupby('Country')\n",
    "df_gp_contry['SocialMedia'].value_counts(normalize=True)[:30]\n",
    "print(\"-----------\")\n",
    "df_gp_contry.SocialMedia.value_counts(normalize=True).China\n"
   ]
  },
  {
   "cell_type": "code",
   "execution_count": 242,
   "metadata": {},
   "outputs": [
    {
     "data": {
      "text/plain": [
       "Sexuality\n",
       "Straight / Heterosexual                                                           58242\n",
       "Prefer not to say                                                                  3271\n",
       "Bisexual                                                                           2136\n",
       "Gay or Lesbian                                                                     1079\n",
       "Prefer to self-describe:                                                            762\n",
       "Straight / Heterosexual;Bisexual                                                    433\n",
       "Straight / Heterosexual;Prefer to self-describe:                                    162\n",
       "Queer                                                                               121\n",
       "Bisexual;Queer                                                                       73\n",
       "Straight / Heterosexual;Queer                                                        53\n",
       "Gay or Lesbian;Queer                                                                 52\n",
       "Bisexual;Gay or Lesbian                                                              50\n",
       "Bisexual;Prefer to self-describe:                                                    18\n",
       "Bisexual;Gay or Lesbian;Queer                                                        16\n",
       "Straight / Heterosexual;Gay or Lesbian                                               14\n",
       "Straight / Heterosexual;Bisexual;Gay or Lesbian                                      13\n",
       "Prefer to self-describe:;Queer                                                       11\n",
       "Straight / Heterosexual;Bisexual;Prefer to self-describe:                             9\n",
       "Straight / Heterosexual;Bisexual;Queer                                                6\n",
       "Bisexual;Prefer to self-describe:;Queer                                               4\n",
       "Straight / Heterosexual;Bisexual;Gay or Lesbian;Queer                                 4\n",
       "Straight / Heterosexual;Prefer to self-describe:;Queer                                3\n",
       "Bisexual;Prefer to self-describe:;Gay or Lesbian                                      2\n",
       "Prefer to self-describe:;Gay or Lesbian;Queer                                         2\n",
       "Straight / Heterosexual;Bisexual;Prefer to self-describe:;Gay or Lesbian;Queer        2\n",
       "Bisexual;Prefer to self-describe:;Gay or Lesbian;Queer                                1\n",
       "Straight / Heterosexual;Bisexual;Prefer to self-describe:;Gay or Lesbian              1\n",
       "Straight / Heterosexual;Bisexual;Prefer to self-describe:;Queer                       1\n",
       "Name: Sexuality, dtype: int64"
      ]
     },
     "execution_count": 242,
     "metadata": {},
     "output_type": "execute_result"
    },
    {
     "data": {
      "text/plain": [
       "Gender                                                 Sexuality                                                                     \n",
       "Man                                                    Straight / Heterosexual                                                           58242\n",
       "                                                       Prefer not to say                                                                  3271\n",
       "                                                       Bisexual                                                                           2136\n",
       "                                                       Gay or Lesbian                                                                     1079\n",
       "                                                       Prefer to self-describe:                                                            762\n",
       "                                                       Straight / Heterosexual;Bisexual                                                    433\n",
       "                                                       Straight / Heterosexual;Prefer to self-describe:                                    162\n",
       "                                                       Queer                                                                               121\n",
       "                                                       Bisexual;Queer                                                                       73\n",
       "                                                       Straight / Heterosexual;Queer                                                        53\n",
       "                                                       Gay or Lesbian;Queer                                                                 52\n",
       "                                                       Bisexual;Gay or Lesbian                                                              50\n",
       "                                                       Bisexual;Prefer to self-describe:                                                    18\n",
       "                                                       Bisexual;Gay or Lesbian;Queer                                                        16\n",
       "                                                       Straight / Heterosexual;Gay or Lesbian                                               14\n",
       "                                                       Straight / Heterosexual;Bisexual;Gay or Lesbian                                      13\n",
       "                                                       Prefer to self-describe:;Queer                                                       11\n",
       "                                                       Straight / Heterosexual;Bisexual;Prefer to self-describe:                             9\n",
       "                                                       Straight / Heterosexual;Bisexual;Queer                                                6\n",
       "                                                       Bisexual;Prefer to self-describe:;Queer                                               4\n",
       "                                                       Straight / Heterosexual;Bisexual;Gay or Lesbian;Queer                                 4\n",
       "                                                       Straight / Heterosexual;Prefer to self-describe:;Queer                                3\n",
       "                                                       Bisexual;Prefer to self-describe:;Gay or Lesbian                                      2\n",
       "                                                       Prefer to self-describe:;Gay or Lesbian;Queer                                         2\n",
       "                                                       Straight / Heterosexual;Bisexual;Prefer to self-describe:;Gay or Lesbian;Queer        2\n",
       "                                                       Bisexual;Prefer to self-describe:;Gay or Lesbian;Queer                                1\n",
       "                                                       Straight / Heterosexual;Bisexual;Prefer to self-describe:;Gay or Lesbian              1\n",
       "                                                       Straight / Heterosexual;Bisexual;Prefer to self-describe:;Queer                       1\n",
       "Man;Non-binary, genderqueer, or gender non-conforming  Straight / Heterosexual                                                              54\n",
       "                                                       Bisexual                                                                             39\n",
       "Name: Sexuality, dtype: int64"
      ]
     },
     "execution_count": 242,
     "metadata": {},
     "output_type": "execute_result"
    }
   ],
   "source": [
    "df_gp_gender = df.groupby('Gender')\n",
    "df_gp_gender.Sexuality.value_counts().Man\n",
    "df_gp_gender.Sexuality.value_counts()[:30]"
   ]
  },
  {
   "cell_type": "code",
   "execution_count": 45,
   "metadata": {},
   "outputs": [
    {
     "data": {
      "text/plain": [
       "9.0"
      ]
     },
     "execution_count": 45,
     "metadata": {},
     "output_type": "execute_result"
    },
    {
     "data": {
      "text/plain": [
       "11.662114216834588"
      ]
     },
     "execution_count": 45,
     "metadata": {},
     "output_type": "execute_result"
    }
   ],
   "source": [
    "df.YearsCode.astype(float).median()\n",
    "df.YearsCode.astype(float).mean()"
   ]
  },
  {
   "cell_type": "code",
   "execution_count": 247,
   "metadata": {},
   "outputs": [
    {
     "name": "stdout",
     "output_type": "stream",
     "text": [
      "percentage of different education level: \n"
     ]
    },
    {
     "data": {
      "text/html": [
       "<div>\n",
       "<style scoped>\n",
       "    .dataframe tbody tr th:only-of-type {\n",
       "        vertical-align: middle;\n",
       "    }\n",
       "\n",
       "    .dataframe tbody tr th {\n",
       "        vertical-align: top;\n",
       "    }\n",
       "\n",
       "    .dataframe thead th {\n",
       "        text-align: right;\n",
       "    }\n",
       "</style>\n",
       "<table border=\"1\" class=\"dataframe\">\n",
       "  <thead>\n",
       "    <tr style=\"text-align: right;\">\n",
       "      <th>stats</th>\n",
       "      <th>count</th>\n",
       "      <th>rate</th>\n",
       "    </tr>\n",
       "    <tr>\n",
       "      <th>values</th>\n",
       "      <th></th>\n",
       "      <th></th>\n",
       "    </tr>\n",
       "  </thead>\n",
       "  <tbody>\n",
       "    <tr>\n",
       "      <th>Bachelor’s degree (B.A., B.S., B.Eng., etc.)</th>\n",
       "      <td>35357</td>\n",
       "      <td>0.425342</td>\n",
       "    </tr>\n",
       "    <tr>\n",
       "      <th>Master’s degree (M.A., M.S., M.Eng., MBA, etc.)</th>\n",
       "      <td>17512</td>\n",
       "      <td>0.210668</td>\n",
       "    </tr>\n",
       "    <tr>\n",
       "      <th>Some college/university study without earning a degree</th>\n",
       "      <td>10589</td>\n",
       "      <td>0.127385</td>\n",
       "    </tr>\n",
       "    <tr>\n",
       "      <th>Secondary school (e.g. American high school, German Realschule or Gymnasium, etc.)</th>\n",
       "      <td>9534</td>\n",
       "      <td>0.114693</td>\n",
       "    </tr>\n",
       "    <tr>\n",
       "      <th>Other doctoral degree (Ph.D., Ed.D., etc.)</th>\n",
       "      <td>2567</td>\n",
       "      <td>0.030881</td>\n",
       "    </tr>\n",
       "    <tr>\n",
       "      <th>Primary/elementary school</th>\n",
       "      <td>2479</td>\n",
       "      <td>0.029822</td>\n",
       "    </tr>\n",
       "    <tr>\n",
       "      <th>Associate degree (A.A., A.S., etc.)</th>\n",
       "      <td>2231</td>\n",
       "      <td>0.026839</td>\n",
       "    </tr>\n",
       "    <tr>\n",
       "      <th>Something else</th>\n",
       "      <td>1601</td>\n",
       "      <td>0.019260</td>\n",
       "    </tr>\n",
       "    <tr>\n",
       "      <th>Professional degree (JD, MD, etc.)</th>\n",
       "      <td>1256</td>\n",
       "      <td>0.015110</td>\n",
       "    </tr>\n",
       "  </tbody>\n",
       "</table>\n",
       "</div>"
      ],
      "text/plain": [
       "stats                                               count      rate\n",
       "values                                                             \n",
       "Bachelor’s degree (B.A., B.S., B.Eng., etc.)        35357  0.425342\n",
       "Master’s degree (M.A., M.S., M.Eng., MBA, etc.)     17512  0.210668\n",
       "Some college/university study without earning a...  10589  0.127385\n",
       "Secondary school (e.g. American high school, Ge...   9534  0.114693\n",
       "Other doctoral degree (Ph.D., Ed.D., etc.)           2567  0.030881\n",
       "Primary/elementary school                            2479  0.029822\n",
       "Associate degree (A.A., A.S., etc.)                  2231  0.026839\n",
       "Something else                                       1601  0.019260\n",
       "Professional degree (JD, MD, etc.)                   1256  0.015110"
      ]
     },
     "execution_count": 247,
     "metadata": {},
     "output_type": "execute_result"
    },
    {
     "name": "stdout",
     "output_type": "stream",
     "text": [
      "median salary for each education level (USD): \n"
     ]
    },
    {
     "data": {
      "text/plain": [
       "EdLevel\n",
       "Other doctoral degree (Ph.D., Ed.D., etc.)                                            77556.0\n",
       "Master’s degree (M.A., M.S., M.Eng., MBA, etc.)                                       60744.0\n",
       "Associate degree (A.A., A.S., etc.)                                                   56720.0\n",
       "Bachelor’s degree (B.A., B.S., B.Eng., etc.)                                          54972.0\n",
       "Some college/university study without earning a degree                                51887.0\n",
       "Primary/elementary school                                                             49050.0\n",
       "Something else                                                                        47563.0\n",
       "Secondary school (e.g. American high school, German Realschule or Gymnasium, etc.)    41568.0\n",
       "Professional degree (JD, MD, etc.)                                                    37752.0\n",
       "Name: ConvertedCompYearly, dtype: float64"
      ]
     },
     "execution_count": 247,
     "metadata": {},
     "output_type": "execute_result"
    },
    {
     "name": "stdout",
     "output_type": "stream",
     "text": [
      "count of education level by country: \n"
     ]
    },
    {
     "data": {
      "text/html": [
       "<div>\n",
       "<style scoped>\n",
       "    .dataframe tbody tr th:only-of-type {\n",
       "        vertical-align: middle;\n",
       "    }\n",
       "\n",
       "    .dataframe tbody tr th {\n",
       "        vertical-align: top;\n",
       "    }\n",
       "\n",
       "    .dataframe thead th {\n",
       "        text-align: right;\n",
       "    }\n",
       "</style>\n",
       "<table border=\"1\" class=\"dataframe\">\n",
       "  <thead>\n",
       "    <tr style=\"text-align: right;\">\n",
       "      <th>Country</th>\n",
       "      <th>China</th>\n",
       "      <th>United States of America</th>\n",
       "      <th>Hong Kong (S.A.R.)</th>\n",
       "      <th>Canada</th>\n",
       "    </tr>\n",
       "    <tr>\n",
       "      <th>EdLevel</th>\n",
       "      <th></th>\n",
       "      <th></th>\n",
       "      <th></th>\n",
       "      <th></th>\n",
       "    </tr>\n",
       "  </thead>\n",
       "  <tbody>\n",
       "    <tr>\n",
       "      <th>Associate degree (A.A., A.S., etc.)</th>\n",
       "      <td>53.0</td>\n",
       "      <td>638.0</td>\n",
       "      <td>3.0</td>\n",
       "      <td>182.0</td>\n",
       "    </tr>\n",
       "    <tr>\n",
       "      <th>Bachelor’s degree (B.A., B.S., B.Eng., etc.)</th>\n",
       "      <td>468.0</td>\n",
       "      <td>7315.0</td>\n",
       "      <td>108.0</td>\n",
       "      <td>1284.0</td>\n",
       "    </tr>\n",
       "    <tr>\n",
       "      <th>Master’s degree (M.A., M.S., M.Eng., MBA, etc.)</th>\n",
       "      <td>175.0</td>\n",
       "      <td>2578.0</td>\n",
       "      <td>40.0</td>\n",
       "      <td>449.0</td>\n",
       "    </tr>\n",
       "    <tr>\n",
       "      <th>Other doctoral degree (Ph.D., Ed.D., etc.)</th>\n",
       "      <td>21.0</td>\n",
       "      <td>607.0</td>\n",
       "      <td>4.0</td>\n",
       "      <td>89.0</td>\n",
       "    </tr>\n",
       "    <tr>\n",
       "      <th>Primary/elementary school</th>\n",
       "      <td>65.0</td>\n",
       "      <td>551.0</td>\n",
       "      <td>4.0</td>\n",
       "      <td>155.0</td>\n",
       "    </tr>\n",
       "    <tr>\n",
       "      <th>Professional degree (JD, MD, etc.)</th>\n",
       "      <td>14.0</td>\n",
       "      <td>95.0</td>\n",
       "      <td>1.0</td>\n",
       "      <td>25.0</td>\n",
       "    </tr>\n",
       "    <tr>\n",
       "      <th>Secondary school (e.g. American high school, German Realschule or Gymnasium, etc.)</th>\n",
       "      <td>69.0</td>\n",
       "      <td>1107.0</td>\n",
       "      <td>23.0</td>\n",
       "      <td>298.0</td>\n",
       "    </tr>\n",
       "    <tr>\n",
       "      <th>Some college/university study without earning a degree</th>\n",
       "      <td>126.0</td>\n",
       "      <td>2108.0</td>\n",
       "      <td>11.0</td>\n",
       "      <td>415.0</td>\n",
       "    </tr>\n",
       "    <tr>\n",
       "      <th>Something else</th>\n",
       "      <td>36.0</td>\n",
       "      <td>216.0</td>\n",
       "      <td>2.0</td>\n",
       "      <td>104.0</td>\n",
       "    </tr>\n",
       "  </tbody>\n",
       "</table>\n",
       "</div>"
      ],
      "text/plain": [
       "Country                                             China  \\\n",
       "EdLevel                                                     \n",
       "Associate degree (A.A., A.S., etc.)                  53.0   \n",
       "Bachelor’s degree (B.A., B.S., B.Eng., etc.)        468.0   \n",
       "Master’s degree (M.A., M.S., M.Eng., MBA, etc.)     175.0   \n",
       "Other doctoral degree (Ph.D., Ed.D., etc.)           21.0   \n",
       "Primary/elementary school                            65.0   \n",
       "Professional degree (JD, MD, etc.)                   14.0   \n",
       "Secondary school (e.g. American high school, Ge...   69.0   \n",
       "Some college/university study without earning a...  126.0   \n",
       "Something else                                       36.0   \n",
       "\n",
       "Country                                             United States of America  \\\n",
       "EdLevel                                                                        \n",
       "Associate degree (A.A., A.S., etc.)                                    638.0   \n",
       "Bachelor’s degree (B.A., B.S., B.Eng., etc.)                          7315.0   \n",
       "Master’s degree (M.A., M.S., M.Eng., MBA, etc.)                       2578.0   \n",
       "Other doctoral degree (Ph.D., Ed.D., etc.)                             607.0   \n",
       "Primary/elementary school                                              551.0   \n",
       "Professional degree (JD, MD, etc.)                                      95.0   \n",
       "Secondary school (e.g. American high school, Ge...                    1107.0   \n",
       "Some college/university study without earning a...                    2108.0   \n",
       "Something else                                                         216.0   \n",
       "\n",
       "Country                                             Hong Kong (S.A.R.)  Canada  \n",
       "EdLevel                                                                         \n",
       "Associate degree (A.A., A.S., etc.)                                3.0   182.0  \n",
       "Bachelor’s degree (B.A., B.S., B.Eng., etc.)                     108.0  1284.0  \n",
       "Master’s degree (M.A., M.S., M.Eng., MBA, etc.)                   40.0   449.0  \n",
       "Other doctoral degree (Ph.D., Ed.D., etc.)                         4.0    89.0  \n",
       "Primary/elementary school                                          4.0   155.0  \n",
       "Professional degree (JD, MD, etc.)                                 1.0    25.0  \n",
       "Secondary school (e.g. American high school, Ge...                23.0   298.0  \n",
       "Some college/university study without earning a...                11.0   415.0  \n",
       "Something else                                                     2.0   104.0  "
      ]
     },
     "execution_count": 247,
     "metadata": {},
     "output_type": "execute_result"
    },
    {
     "name": "stdout",
     "output_type": "stream",
     "text": [
      "median salary (USD) for each education level by country: \n"
     ]
    },
    {
     "data": {
      "text/html": [
       "<div>\n",
       "<style scoped>\n",
       "    .dataframe tbody tr th:only-of-type {\n",
       "        vertical-align: middle;\n",
       "    }\n",
       "\n",
       "    .dataframe tbody tr th {\n",
       "        vertical-align: top;\n",
       "    }\n",
       "\n",
       "    .dataframe thead th {\n",
       "        text-align: right;\n",
       "    }\n",
       "</style>\n",
       "<table border=\"1\" class=\"dataframe\">\n",
       "  <thead>\n",
       "    <tr style=\"text-align: right;\">\n",
       "      <th>Country</th>\n",
       "      <th>China</th>\n",
       "      <th>United States of America</th>\n",
       "      <th>Hong Kong (S.A.R.)</th>\n",
       "      <th>Canada</th>\n",
       "    </tr>\n",
       "    <tr>\n",
       "      <th>EdLevel</th>\n",
       "      <th></th>\n",
       "      <th></th>\n",
       "      <th></th>\n",
       "      <th></th>\n",
       "    </tr>\n",
       "  </thead>\n",
       "  <tbody>\n",
       "    <tr>\n",
       "      <th>Associate degree (A.A., A.S., etc.)</th>\n",
       "      <td>20580.0</td>\n",
       "      <td>109250.0</td>\n",
       "      <td>20064.0</td>\n",
       "      <td>68068.0</td>\n",
       "    </tr>\n",
       "    <tr>\n",
       "      <th>Bachelor’s degree (B.A., B.S., B.Eng., etc.)</th>\n",
       "      <td>34793.0</td>\n",
       "      <td>123000.0</td>\n",
       "      <td>50940.0</td>\n",
       "      <td>75631.0</td>\n",
       "    </tr>\n",
       "    <tr>\n",
       "      <th>Master’s degree (M.A., M.S., M.Eng., MBA, etc.)</th>\n",
       "      <td>42868.0</td>\n",
       "      <td>140000.0</td>\n",
       "      <td>66896.0</td>\n",
       "      <td>81681.5</td>\n",
       "    </tr>\n",
       "    <tr>\n",
       "      <th>Other doctoral degree (Ph.D., Ed.D., etc.)</th>\n",
       "      <td>60012.0</td>\n",
       "      <td>150000.0</td>\n",
       "      <td>105489.0</td>\n",
       "      <td>88867.0</td>\n",
       "    </tr>\n",
       "    <tr>\n",
       "      <th>Primary/elementary school</th>\n",
       "      <td>25716.0</td>\n",
       "      <td>125000.0</td>\n",
       "      <td>612.0</td>\n",
       "      <td>79706.5</td>\n",
       "    </tr>\n",
       "    <tr>\n",
       "      <th>Professional degree (JD, MD, etc.)</th>\n",
       "      <td>22296.0</td>\n",
       "      <td>122500.0</td>\n",
       "      <td>92628.0</td>\n",
       "      <td>68068.0</td>\n",
       "    </tr>\n",
       "    <tr>\n",
       "      <th>Secondary school (e.g. American high school, German Realschule or Gymnasium, etc.)</th>\n",
       "      <td>19716.0</td>\n",
       "      <td>110000.0</td>\n",
       "      <td>13428.0</td>\n",
       "      <td>68068.0</td>\n",
       "    </tr>\n",
       "    <tr>\n",
       "      <th>Some college/university study without earning a degree</th>\n",
       "      <td>34296.0</td>\n",
       "      <td>120000.0</td>\n",
       "      <td>71014.0</td>\n",
       "      <td>68068.0</td>\n",
       "    </tr>\n",
       "    <tr>\n",
       "      <th>Something else</th>\n",
       "      <td>19716.0</td>\n",
       "      <td>102000.0</td>\n",
       "      <td>NaN</td>\n",
       "      <td>59749.0</td>\n",
       "    </tr>\n",
       "  </tbody>\n",
       "</table>\n",
       "</div>"
      ],
      "text/plain": [
       "Country                                               China  \\\n",
       "EdLevel                                                       \n",
       "Associate degree (A.A., A.S., etc.)                 20580.0   \n",
       "Bachelor’s degree (B.A., B.S., B.Eng., etc.)        34793.0   \n",
       "Master’s degree (M.A., M.S., M.Eng., MBA, etc.)     42868.0   \n",
       "Other doctoral degree (Ph.D., Ed.D., etc.)          60012.0   \n",
       "Primary/elementary school                           25716.0   \n",
       "Professional degree (JD, MD, etc.)                  22296.0   \n",
       "Secondary school (e.g. American high school, Ge...  19716.0   \n",
       "Some college/university study without earning a...  34296.0   \n",
       "Something else                                      19716.0   \n",
       "\n",
       "Country                                             United States of America  \\\n",
       "EdLevel                                                                        \n",
       "Associate degree (A.A., A.S., etc.)                                 109250.0   \n",
       "Bachelor’s degree (B.A., B.S., B.Eng., etc.)                        123000.0   \n",
       "Master’s degree (M.A., M.S., M.Eng., MBA, etc.)                     140000.0   \n",
       "Other doctoral degree (Ph.D., Ed.D., etc.)                          150000.0   \n",
       "Primary/elementary school                                           125000.0   \n",
       "Professional degree (JD, MD, etc.)                                  122500.0   \n",
       "Secondary school (e.g. American high school, Ge...                  110000.0   \n",
       "Some college/university study without earning a...                  120000.0   \n",
       "Something else                                                      102000.0   \n",
       "\n",
       "Country                                             Hong Kong (S.A.R.)  \\\n",
       "EdLevel                                                                  \n",
       "Associate degree (A.A., A.S., etc.)                            20064.0   \n",
       "Bachelor’s degree (B.A., B.S., B.Eng., etc.)                   50940.0   \n",
       "Master’s degree (M.A., M.S., M.Eng., MBA, etc.)                66896.0   \n",
       "Other doctoral degree (Ph.D., Ed.D., etc.)                    105489.0   \n",
       "Primary/elementary school                                        612.0   \n",
       "Professional degree (JD, MD, etc.)                             92628.0   \n",
       "Secondary school (e.g. American high school, Ge...             13428.0   \n",
       "Some college/university study without earning a...             71014.0   \n",
       "Something else                                                     NaN   \n",
       "\n",
       "Country                                              Canada  \n",
       "EdLevel                                                      \n",
       "Associate degree (A.A., A.S., etc.)                 68068.0  \n",
       "Bachelor’s degree (B.A., B.S., B.Eng., etc.)        75631.0  \n",
       "Master’s degree (M.A., M.S., M.Eng., MBA, etc.)     81681.5  \n",
       "Other doctoral degree (Ph.D., Ed.D., etc.)          88867.0  \n",
       "Primary/elementary school                           79706.5  \n",
       "Professional degree (JD, MD, etc.)                  68068.0  \n",
       "Secondary school (e.g. American high school, Ge...  68068.0  \n",
       "Some college/university study without earning a...  68068.0  \n",
       "Something else                                      59749.0  "
      ]
     },
     "execution_count": 247,
     "metadata": {},
     "output_type": "execute_result"
    }
   ],
   "source": [
    "countries = ['China', 'United States', 'Hong Kong (S.A.R.)', 'Canada']\n",
    "# countries = ['China', 'United States of America', 'Hong Kong (S.A.R.)', 'Canada']\n",
    "\n",
    "print(\"percentage of different education level: \")\n",
    "df.EdLevel.value_counts_plus()\n",
    "\n",
    "print(\"median salary for each education level (USD): \")\n",
    "df.groupby('EdLevel').ConvertedComp.median().sort_values(ascending=False)\n",
    "\n",
    "print(\"count of education level by country: \")\n",
    "df.groupby('Country').EdLevel.value_counts().unstack(level=0).loc[:, countries]\n",
    "\n",
    "print(\"median salary (USD) for each education level by country: \")\n",
    "pd.pivot_table(data=df, values='ConvertedComp', index='EdLevel', columns='Country', aggfunc='median').loc[:, countries]"
   ]
  },
  {
   "cell_type": "code",
   "execution_count": null,
   "metadata": {},
   "outputs": [],
   "source": []
  }
 ],
 "metadata": {
  "interpreter": {
   "hash": "ae74f9feb07f97b665e59d852dca9947bf3c6be9bdf551f43d711a8fd00af3ab"
  },
  "kernelspec": {
   "display_name": "Python 3.9.7 ('data_science')",
   "language": "python",
   "name": "python3"
  },
  "language_info": {
   "codemirror_mode": {
    "name": "ipython",
    "version": 3
   },
   "file_extension": ".py",
   "mimetype": "text/x-python",
   "name": "python",
   "nbconvert_exporter": "python",
   "pygments_lexer": "ipython3",
   "version": "3.9.7"
  },
  "orig_nbformat": 4
 },
 "nbformat": 4,
 "nbformat_minor": 2
}
