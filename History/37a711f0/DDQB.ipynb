{
 "cells": [
  {
   "cell_type": "code",
   "execution_count": 6,
   "metadata": {},
   "outputs": [
    {
     "name": "stdout",
     "output_type": "stream",
     "text": [
      "calling ds_preamble..\n",
      "calling ds_helper...\n"
     ]
    }
   ],
   "source": [
    "from ds_utils.ds_preamble import *\n",
    "from ds_utils.ds_plotting import *\n",
    "from ds_utils.ds_helper import *"
   ]
  },
  {
   "cell_type": "code",
   "execution_count": 38,
   "metadata": {},
   "outputs": [],
   "source": [
    "# %ls ../data/stack-overflow-developer-survey-2019\n",
    "df_schema = pd.read_csv('../data/stack-overflow-developer-survey-2019/survey_results_schema.csv')\n",
    "df_raw = pd.read_csv('../data/stack-overflow-developer-survey-2019/survey_results_public.csv')"
   ]
  },
  {
   "cell_type": "code",
   "execution_count": 39,
   "metadata": {},
   "outputs": [],
   "source": [
    "df = df_raw.copy()"
   ]
  },
  {
   "cell_type": "code",
   "execution_count": 212,
   "metadata": {},
   "outputs": [
    {
     "data": {
      "text/plain": [
       "['Hong Kong (S.A.R.)']"
      ]
     },
     "execution_count": 212,
     "metadata": {},
     "output_type": "execute_result"
    },
    {
     "data": {
      "text/plain": [
       "52    Hong Kong (S.A.R.)\n",
       "dtype: object"
      ]
     },
     "execution_count": 212,
     "metadata": {},
     "output_type": "execute_result"
    }
   ],
   "source": [
    "# check whether a string exists in a dataframe column\n",
    "# want to find if Hong Kong is included as a country\n",
    "unique_names = df.Country.unique()\n",
    "[name for name in unique_names if isinstance(name, str) and \"Hong\" in name]\n",
    "\n",
    "country_names = pd.Series(unique_names)\n",
    "country_names[country_names.str.contains('Hong').replace(np.nan, False)]"
   ]
  },
  {
   "cell_type": "code",
   "execution_count": 218,
   "metadata": {},
   "outputs": [
    {
     "data": {
      "text/plain": [
       "Index(['LanguageDesireNextYear', 'LanguageWorkedWith'], dtype='object')"
      ]
     },
     "execution_count": 218,
     "metadata": {},
     "output_type": "execute_result"
    }
   ],
   "source": [
    "df.columns.sort_values()[df.columns.sort_values().str.contains(\"language\", case=False)]"
   ]
  },
  {
   "cell_type": "code",
   "execution_count": 229,
   "metadata": {},
   "outputs": [
    {
     "data": {
      "text/plain": [
       "5                                               Java;R;SQL\n",
       "8        Bash/Shell/PowerShell;C#;HTML/CSS;JavaScript;P...\n",
       "9                            C#;Go;JavaScript;Python;R;SQL\n",
       "11        Bash/Shell/PowerShell;HTML/CSS;Java;Python;R;SQL\n",
       "17                                                Python;R\n",
       "                               ...                        \n",
       "88836                                      C#;Python;R;SQL\n",
       "88841    Bash/Shell/PowerShell;C++;C#;HTML/CSS;Python;Ruby\n",
       "88848    Bash/Shell/PowerShell;HTML/CSS;JavaScript;Pyth...\n",
       "88857             Bash/Shell/PowerShell;HTML/CSS;PHP;R;SQL\n",
       "88860      Bash/Shell/PowerShell;C++;Python;Ruby;Other(s):\n",
       "Name: LanguageWorkedWith, Length: 13947, dtype: object"
      ]
     },
     "execution_count": 229,
     "metadata": {},
     "output_type": "execute_result"
    }
   ],
   "source": [
    "df.LanguageWorkedWith[df.LanguageWorkedWith.str.contains(r';?R;?').replace(np.nan, False)]"
   ]
  },
  {
   "cell_type": "code",
   "execution_count": 49,
   "metadata": {},
   "outputs": [],
   "source": [
    "# make `YearsCode` to be float\n",
    "df['YearsCode'] = df.YearsCode.replace(['Less than 1 year', 'More than 50 years'],[0,51]).astype(float)"
   ]
  },
  {
   "cell_type": "code",
   "execution_count": 214,
   "metadata": {},
   "outputs": [
    {
     "data": {
      "text/plain": [
       "Gender\n",
       "Man                                                             9.0\n",
       "Man;Non-binary, genderqueer, or gender non-conforming          10.0\n",
       "Non-binary, genderqueer, or gender non-conforming               9.0\n",
       "Woman                                                           6.0\n",
       "Woman;Man                                                       5.0\n",
       "Woman;Man;Non-binary, genderqueer, or gender non-conforming     7.0\n",
       "Woman;Non-binary, genderqueer, or gender non-conforming         9.0\n",
       "Name: YearsCode, dtype: float64"
      ]
     },
     "execution_count": 214,
     "metadata": {},
     "output_type": "execute_result"
    },
    {
     "data": {
      "text/plain": [
       "EdLevel\n",
       "Associate degree                                                                       8.0\n",
       "Bachelor’s degree (BA, BS, B.Eng., etc.)                                               9.0\n",
       "I never completed any formal education                                                 5.0\n",
       "Master’s degree (MA, MS, M.Eng., MBA, etc.)                                           12.0\n",
       "Other doctoral degree (Ph.D, Ed.D., etc.)                                             18.0\n",
       "Primary/elementary school                                                              4.0\n",
       "Professional degree (JD, MD, etc.)                                                    10.0\n",
       "Secondary school (e.g. American high school, German Realschule or Gymnasium, etc.)     5.0\n",
       "Some college/university study without earning a degree                                 9.0\n",
       "Name: YearsCode, dtype: float64"
      ]
     },
     "execution_count": 214,
     "metadata": {},
     "output_type": "execute_result"
    }
   ],
   "source": [
    "df.groupby('Gender').YearsCode.median()\n",
    "df.groupby('EdLevel').YearsCode.median()"
   ]
  },
  {
   "cell_type": "code",
   "execution_count": 63,
   "metadata": {},
   "outputs": [
    {
     "data": {
      "text/plain": [
       "Gender                                                       Sexuality                                      \n",
       "Man                                                          Straight / Heterosexual                            65496\n",
       "                                                             Bisexual                                            2262\n",
       "                                                             Gay or Lesbian                                      1298\n",
       "                                                             Bisexual;Straight / Heterosexual                     396\n",
       "                                                             Bisexual;Gay or Lesbian                               56\n",
       "                                                             Bisexual;Gay or Lesbian;Straight / Heterosexual       54\n",
       "                                                             Gay or Lesbian;Straight / Heterosexual                26\n",
       "Man;Non-binary, genderqueer, or gender non-conforming        Straight / Heterosexual                               56\n",
       "                                                             Bisexual                                              47\n",
       "                                                             Gay or Lesbian                                        23\n",
       "                                                             Bisexual;Straight / Heterosexual                      15\n",
       "                                                             Bisexual;Gay or Lesbian                                2\n",
       "Non-binary, genderqueer, or gender non-conforming            Bisexual                                             202\n",
       "                                                             Straight / Heterosexual                               74\n",
       "                                                             Gay or Lesbian                                        63\n",
       "                                                             Bisexual;Gay or Lesbian                               13\n",
       "                                                             Bisexual;Straight / Heterosexual                       5\n",
       "                                                             Bisexual;Gay or Lesbian;Straight / Heterosexual        3\n",
       "                                                             Gay or Lesbian;Straight / Heterosexual                 3\n",
       "Woman                                                        Straight / Heterosexual                             4017\n",
       "                                                             Bisexual                                             802\n",
       "                                                             Gay or Lesbian                                       340\n",
       "                                                             Bisexual;Straight / Heterosexual                      61\n",
       "                                                             Bisexual;Gay or Lesbian                               33\n",
       "                                                             Bisexual;Gay or Lesbian;Straight / Heterosexual        9\n",
       "                                                             Gay or Lesbian;Straight / Heterosexual                 5\n",
       "Woman;Man                                                    Straight / Heterosexual                               43\n",
       "                                                             Bisexual                                              19\n",
       "                                                             Bisexual;Gay or Lesbian;Straight / Heterosexual        6\n",
       "                                                             Bisexual;Straight / Heterosexual                       3\n",
       "                                                             Gay or Lesbian                                         3\n",
       "                                                             Gay or Lesbian;Straight / Heterosexual                 3\n",
       "                                                             Bisexual;Gay or Lesbian                                1\n",
       "Woman;Man;Non-binary, genderqueer, or gender non-conforming  Bisexual;Gay or Lesbian;Straight / Heterosexual       24\n",
       "                                                             Straight / Heterosexual                               10\n",
       "                                                             Bisexual                                               5\n",
       "                                                             Bisexual;Straight / Heterosexual                       3\n",
       "                                                             Bisexual;Gay or Lesbian                                1\n",
       "Woman;Non-binary, genderqueer, or gender non-conforming      Bisexual                                              57\n",
       "                                                             Gay or Lesbian                                        47\n",
       "                                                             Bisexual;Straight / Heterosexual                       7\n",
       "                                                             Straight / Heterosexual                                7\n",
       "                                                             Bisexual;Gay or Lesbian                                5\n",
       "                                                             Bisexual;Gay or Lesbian;Straight / Heterosexual        1\n",
       "                                                             Gay or Lesbian;Straight / Heterosexual                 1\n",
       "Name: Sexuality, dtype: int64"
      ]
     },
     "execution_count": 63,
     "metadata": {},
     "output_type": "execute_result"
    }
   ],
   "source": [
    "df.groupby('Gender').Sexuality.value_counts()\n"
   ]
  },
  {
   "cell_type": "code",
   "execution_count": 94,
   "metadata": {},
   "outputs": [
    {
     "data": {
      "text/plain": [
       "Country      SocialMedia             \n",
       "Afghanistan  Facebook                    0.405405\n",
       "             YouTube                     0.243243\n",
       "             I don't use social media    0.162162\n",
       "             WhatsApp                    0.108108\n",
       "             Instagram                   0.027027\n",
       "             LinkedIn                    0.027027\n",
       "             Twitter                     0.027027\n",
       "Albania      WhatsApp                    0.214286\n",
       "             Facebook                    0.190476\n",
       "             Instagram                   0.154762\n",
       "             YouTube                     0.119048\n",
       "             Twitter                     0.095238\n",
       "             LinkedIn                    0.083333\n",
       "             Reddit                      0.071429\n",
       "             I don't use social media    0.047619\n",
       "             Snapchat                    0.011905\n",
       "             WeChat 微信                   0.011905\n",
       "Algeria      YouTube                     0.338710\n",
       "             Facebook                    0.330645\n",
       "             Twitter                     0.112903\n",
       "             LinkedIn                    0.072581\n",
       "             I don't use social media    0.056452\n",
       "             Instagram                   0.056452\n",
       "             Reddit                      0.016129\n",
       "             WhatsApp                    0.016129\n",
       "Andorra      Facebook                    0.285714\n",
       "             I don't use social media    0.285714\n",
       "             Reddit                      0.142857\n",
       "             Snapchat                    0.142857\n",
       "             YouTube                     0.142857\n",
       "Name: SocialMedia, dtype: float64"
      ]
     },
     "execution_count": 94,
     "metadata": {},
     "output_type": "execute_result"
    },
    {
     "name": "stdout",
     "output_type": "stream",
     "text": [
      "-----------\n"
     ]
    },
    {
     "data": {
      "text/plain": [
       "SocialMedia\n",
       "WeChat 微信                   0.670549\n",
       "YouTube                     0.088186\n",
       "Weibo 新浪微博                  0.069884\n",
       "I don't use social media    0.044925\n",
       "Twitter                     0.044925\n",
       "Reddit                      0.019967\n",
       "LinkedIn                    0.018303\n",
       "Facebook                    0.013311\n",
       "Instagram                   0.011647\n",
       "Youku Tudou 优酷              0.011647\n",
       "WhatsApp                    0.004992\n",
       "VK ВКонта́кте               0.001664\n",
       "Name: SocialMedia, dtype: float64"
      ]
     },
     "execution_count": 94,
     "metadata": {},
     "output_type": "execute_result"
    }
   ],
   "source": [
    "df_gp_contry = df.groupby('Country')\n",
    "df_gp_contry['SocialMedia'].value_counts(normalize=True)[:30]\n",
    "print(\"-----------\")\n",
    "df_gp_contry.SocialMedia.value_counts(normalize=True).China\n"
   ]
  },
  {
   "cell_type": "code",
   "execution_count": 93,
   "metadata": {},
   "outputs": [
    {
     "data": {
      "text/plain": [
       "Sexuality\n",
       "Straight / Heterosexual                            65496\n",
       "Bisexual                                            2262\n",
       "Gay or Lesbian                                      1298\n",
       "Bisexual;Straight / Heterosexual                     396\n",
       "Bisexual;Gay or Lesbian                               56\n",
       "Bisexual;Gay or Lesbian;Straight / Heterosexual       54\n",
       "Gay or Lesbian;Straight / Heterosexual                26\n",
       "Name: Sexuality, dtype: int64"
      ]
     },
     "execution_count": 93,
     "metadata": {},
     "output_type": "execute_result"
    },
    {
     "data": {
      "text/plain": [
       "Gender                                                 Sexuality                                      \n",
       "Man                                                    Straight / Heterosexual                            65496\n",
       "                                                       Bisexual                                            2262\n",
       "                                                       Gay or Lesbian                                      1298\n",
       "                                                       Bisexual;Straight / Heterosexual                     396\n",
       "                                                       Bisexual;Gay or Lesbian                               56\n",
       "                                                       Bisexual;Gay or Lesbian;Straight / Heterosexual       54\n",
       "                                                       Gay or Lesbian;Straight / Heterosexual                26\n",
       "Man;Non-binary, genderqueer, or gender non-conforming  Straight / Heterosexual                               56\n",
       "                                                       Bisexual                                              47\n",
       "                                                       Gay or Lesbian                                        23\n",
       "                                                       Bisexual;Straight / Heterosexual                      15\n",
       "                                                       Bisexual;Gay or Lesbian                                2\n",
       "Non-binary, genderqueer, or gender non-conforming      Bisexual                                             202\n",
       "                                                       Straight / Heterosexual                               74\n",
       "                                                       Gay or Lesbian                                        63\n",
       "                                                       Bisexual;Gay or Lesbian                               13\n",
       "                                                       Bisexual;Straight / Heterosexual                       5\n",
       "                                                       Bisexual;Gay or Lesbian;Straight / Heterosexual        3\n",
       "                                                       Gay or Lesbian;Straight / Heterosexual                 3\n",
       "Woman                                                  Straight / Heterosexual                             4017\n",
       "                                                       Bisexual                                             802\n",
       "                                                       Gay or Lesbian                                       340\n",
       "                                                       Bisexual;Straight / Heterosexual                      61\n",
       "                                                       Bisexual;Gay or Lesbian                               33\n",
       "                                                       Bisexual;Gay or Lesbian;Straight / Heterosexual        9\n",
       "                                                       Gay or Lesbian;Straight / Heterosexual                 5\n",
       "Woman;Man                                              Straight / Heterosexual                               43\n",
       "                                                       Bisexual                                              19\n",
       "                                                       Bisexual;Gay or Lesbian;Straight / Heterosexual        6\n",
       "                                                       Bisexual;Straight / Heterosexual                       3\n",
       "Name: Sexuality, dtype: int64"
      ]
     },
     "execution_count": 93,
     "metadata": {},
     "output_type": "execute_result"
    }
   ],
   "source": [
    "df_gp_gender = df.groupby('Gender')\n",
    "df_gp_gender.Sexuality.value_counts().Man\n",
    "df_gp_gender.Sexuality.value_counts()[:30]"
   ]
  },
  {
   "cell_type": "code",
   "execution_count": 45,
   "metadata": {},
   "outputs": [
    {
     "data": {
      "text/plain": [
       "9.0"
      ]
     },
     "execution_count": 45,
     "metadata": {},
     "output_type": "execute_result"
    },
    {
     "data": {
      "text/plain": [
       "11.662114216834588"
      ]
     },
     "execution_count": 45,
     "metadata": {},
     "output_type": "execute_result"
    }
   ],
   "source": [
    "df.YearsCode.astype(float).median()\n",
    "df.YearsCode.astype(float).mean()"
   ]
  },
  {
   "cell_type": "code",
   "execution_count": 230,
   "metadata": {},
   "outputs": [
    {
     "name": "stdout",
     "output_type": "stream",
     "text": [
      "percentage of different education level: \n"
     ]
    },
    {
     "data": {
      "text/html": [
       "<div>\n",
       "<style scoped>\n",
       "    .dataframe tbody tr th:only-of-type {\n",
       "        vertical-align: middle;\n",
       "    }\n",
       "\n",
       "    .dataframe tbody tr th {\n",
       "        vertical-align: top;\n",
       "    }\n",
       "\n",
       "    .dataframe thead th {\n",
       "        text-align: right;\n",
       "    }\n",
       "</style>\n",
       "<table border=\"1\" class=\"dataframe\">\n",
       "  <thead>\n",
       "    <tr style=\"text-align: right;\">\n",
       "      <th>stats</th>\n",
       "      <th>count</th>\n",
       "      <th>rate</th>\n",
       "    </tr>\n",
       "    <tr>\n",
       "      <th>values</th>\n",
       "      <th></th>\n",
       "      <th></th>\n",
       "    </tr>\n",
       "  </thead>\n",
       "  <tbody>\n",
       "    <tr>\n",
       "      <th>Bachelor’s degree (BA, BS, B.Eng., etc.)</th>\n",
       "      <td>39134</td>\n",
       "      <td>0.452992</td>\n",
       "    </tr>\n",
       "    <tr>\n",
       "      <th>Master’s degree (MA, MS, M.Eng., MBA, etc.)</th>\n",
       "      <td>19569</td>\n",
       "      <td>0.226519</td>\n",
       "    </tr>\n",
       "    <tr>\n",
       "      <th>Some college/university study without earning a degree</th>\n",
       "      <td>10502</td>\n",
       "      <td>0.121565</td>\n",
       "    </tr>\n",
       "    <tr>\n",
       "      <th>Secondary school (e.g. American high school, German Realschule or Gymnasium, etc.)</th>\n",
       "      <td>8642</td>\n",
       "      <td>0.100035</td>\n",
       "    </tr>\n",
       "    <tr>\n",
       "      <th>Associate degree</th>\n",
       "      <td>2938</td>\n",
       "      <td>0.034009</td>\n",
       "    </tr>\n",
       "    <tr>\n",
       "      <th>Other doctoral degree (Ph.D, Ed.D., etc.)</th>\n",
       "      <td>2432</td>\n",
       "      <td>0.028151</td>\n",
       "    </tr>\n",
       "    <tr>\n",
       "      <th>Primary/elementary school</th>\n",
       "      <td>1422</td>\n",
       "      <td>0.016460</td>\n",
       "    </tr>\n",
       "    <tr>\n",
       "      <th>Professional degree (JD, MD, etc.)</th>\n",
       "      <td>1198</td>\n",
       "      <td>0.013867</td>\n",
       "    </tr>\n",
       "    <tr>\n",
       "      <th>I never completed any formal education</th>\n",
       "      <td>553</td>\n",
       "      <td>0.006401</td>\n",
       "    </tr>\n",
       "  </tbody>\n",
       "</table>\n",
       "</div>"
      ],
      "text/plain": [
       "stats                                               count      rate\n",
       "values                                                             \n",
       "Bachelor’s degree (BA, BS, B.Eng., etc.)            39134  0.452992\n",
       "Master’s degree (MA, MS, M.Eng., MBA, etc.)         19569  0.226519\n",
       "Some college/university study without earning a...  10502  0.121565\n",
       "Secondary school (e.g. American high school, Ge...   8642  0.100035\n",
       "Associate degree                                     2938  0.034009\n",
       "Other doctoral degree (Ph.D, Ed.D., etc.)            2432  0.028151\n",
       "Primary/elementary school                            1422  0.016460\n",
       "Professional degree (JD, MD, etc.)                   1198  0.013867\n",
       "I never completed any formal education                553  0.006401"
      ]
     },
     "execution_count": 230,
     "metadata": {},
     "output_type": "execute_result"
    },
    {
     "name": "stdout",
     "output_type": "stream",
     "text": [
      "median salary for each education level (USD): \n"
     ]
    },
    {
     "data": {
      "text/plain": [
       "EdLevel\n",
       "Other doctoral degree (Ph.D, Ed.D., etc.)                                             81960.0\n",
       "Bachelor’s degree (BA, BS, B.Eng., etc.)                                              60000.0\n",
       "Master’s degree (MA, MS, M.Eng., MBA, etc.)                                           57744.0\n",
       "Associate degree                                                                      56092.5\n",
       "I never completed any formal education                                                53562.0\n",
       "Some college/university study without earning a degree                                52476.0\n",
       "Secondary school (e.g. American high school, German Realschule or Gymnasium, etc.)    37128.0\n",
       "Primary/elementary school                                                             34368.0\n",
       "Professional degree (JD, MD, etc.)                                                    32998.0\n",
       "Name: ConvertedComp, dtype: float64"
      ]
     },
     "execution_count": 230,
     "metadata": {},
     "output_type": "execute_result"
    },
    {
     "name": "stdout",
     "output_type": "stream",
     "text": [
      "count of education level by country: \n"
     ]
    },
    {
     "ename": "NameError",
     "evalue": "name 'countires' is not defined",
     "output_type": "error",
     "traceback": [
      "\u001b[0;31m---------------------------------------------------------------------------\u001b[0m",
      "\u001b[0;31mNameError\u001b[0m                                 Traceback (most recent call last)",
      "\u001b[0;32m/var/folders/c2/yj8ksjmn34v5f9csr1s82d8r0000gn/T/ipykernel_86026/2354310093.py\u001b[0m in \u001b[0;36m<module>\u001b[0;34m\u001b[0m\n\u001b[1;32m      8\u001b[0m \u001b[0;34m\u001b[0m\u001b[0m\n\u001b[1;32m      9\u001b[0m \u001b[0mprint\u001b[0m\u001b[0;34m(\u001b[0m\u001b[0;34m\"count of education level by country: \"\u001b[0m\u001b[0;34m)\u001b[0m\u001b[0;34m\u001b[0m\u001b[0;34m\u001b[0m\u001b[0m\n\u001b[0;32m---> 10\u001b[0;31m \u001b[0mdf\u001b[0m\u001b[0;34m.\u001b[0m\u001b[0mgroupby\u001b[0m\u001b[0;34m(\u001b[0m\u001b[0;34m'Country'\u001b[0m\u001b[0;34m)\u001b[0m\u001b[0;34m.\u001b[0m\u001b[0mEdLevel\u001b[0m\u001b[0;34m.\u001b[0m\u001b[0mvalue_counts\u001b[0m\u001b[0;34m(\u001b[0m\u001b[0;34m)\u001b[0m\u001b[0;34m.\u001b[0m\u001b[0munstack\u001b[0m\u001b[0;34m(\u001b[0m\u001b[0mlevel\u001b[0m\u001b[0;34m=\u001b[0m\u001b[0;36m0\u001b[0m\u001b[0;34m)\u001b[0m\u001b[0;34m.\u001b[0m\u001b[0mloc\u001b[0m\u001b[0;34m[\u001b[0m\u001b[0;34m:\u001b[0m\u001b[0;34m,\u001b[0m \u001b[0mcountires\u001b[0m\u001b[0;34m]\u001b[0m\u001b[0;34m\u001b[0m\u001b[0;34m\u001b[0m\u001b[0m\n\u001b[0m\u001b[1;32m     11\u001b[0m \u001b[0;34m\u001b[0m\u001b[0m\n\u001b[1;32m     12\u001b[0m \u001b[0mprint\u001b[0m\u001b[0;34m(\u001b[0m\u001b[0;34m\"median salary (USD) for each education level by country: \"\u001b[0m\u001b[0;34m)\u001b[0m\u001b[0;34m\u001b[0m\u001b[0;34m\u001b[0m\u001b[0m\n",
      "\u001b[0;31mNameError\u001b[0m: name 'countires' is not defined"
     ]
    }
   ],
   "source": [
    "countries = ['China', 'United States', 'Hong Kong (S.A.R.)', 'Canada']\n",
    "\n",
    "print(\"percentage of different education level: \")\n",
    "df.EdLevel.value_counts_plus()\n",
    "\n",
    "print(\"median salary for each education level (USD): \")\n",
    "df.groupby('EdLevel').ConvertedComp.median().sort_values(ascending=False)\n",
    "\n",
    "print(\"count of education level by country: \")\n",
    "df.groupby('Country').EdLevel.value_counts().unstack(level=0).loc[:, countries]\n",
    "\n",
    "print(\"median salary (USD) for each education level by country: \")\n",
    "pd.pivot_table(data=df, values='ConvertedComp', index='EdLevel', columns='Country', aggfunc='median').loc[:, ['China', 'United States', 'Hong Kong (S.A.R.)']]"
   ]
  },
  {
   "cell_type": "code",
   "execution_count": null,
   "metadata": {},
   "outputs": [],
   "source": []
  }
 ],
 "metadata": {
  "interpreter": {
   "hash": "ae74f9feb07f97b665e59d852dca9947bf3c6be9bdf551f43d711a8fd00af3ab"
  },
  "kernelspec": {
   "display_name": "Python 3.9.7 ('data_science')",
   "language": "python",
   "name": "python3"
  },
  "language_info": {
   "codemirror_mode": {
    "name": "ipython",
    "version": 3
   },
   "file_extension": ".py",
   "mimetype": "text/x-python",
   "name": "python",
   "nbconvert_exporter": "python",
   "pygments_lexer": "ipython3",
   "version": "3.9.7"
  },
  "orig_nbformat": 4
 },
 "nbformat": 4,
 "nbformat_minor": 2
}
