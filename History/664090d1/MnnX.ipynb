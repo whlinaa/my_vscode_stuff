{
 "cells": [
  {
   "cell_type": "code",
   "execution_count": 1,
   "metadata": {},
   "outputs": [
    {
     "name": "stdout",
     "output_type": "stream",
     "text": [
      "calling ds_preamble..\n",
      "calling ds_helper...\n"
     ]
    }
   ],
   "source": [
    "%load_ext autoreload\n",
    "%autoreload 2\n",
    "from ds_utils.ds_preamble import *\n",
    "from ds_utils.ds_helper import *\n",
    "from ds_utils.ds_plotting import *\n",
    "# from glob import glob\n",
    "# import re\n",
    "# import datetime\n",
    "# import duckdb\n",
    "# import pathlib\n",
    "# from ds_utils.ds_preamble import *  # # self-defined module\n",
    "# from ds_utils.ds_helper import *  # self-defined module\n",
    "# from ds_utils.ds_plotting import *  # # self-defined module\n",
    "\n",
    "tips = sns.load_dataset('tips')\n",
    "tips_tiny = tips.sample(20)\n",
    "\n",
    "df = tips \n",
    "\n",
    "titanic = sns.load_dataset('titanic')\n",
    "\n",
    "np.random.seed(123)\n",
    "tips['decile'] = np.random.randint(1,4, size=len(tips))\n",
    "\n",
    "train = tips.sample(frac=0.7, random_state=30).reset_index(drop=True)\n",
    "test = tips.drop(train.index).reset_index(drop=True)\n",
    "survey = pd.read_csv(\"/Users/whlin/Library/CloudStorage/OneDrive-HKUSTConnect/Documents/python/data/stack-overflow-developer-survey-2019/survey_results_public.csv\").sample(10_000)\n",
    "\n",
    "# import importlib\n",
    "# importlib.reload(ds_preamble)\n"
   ]
  },
  {
   "cell_type": "code",
   "execution_count": 42,
   "metadata": {},
   "outputs": [
    {
     "data": {
      "text/plain": [
       "array([0.39894228, 0.24197072])"
      ]
     },
     "execution_count": 42,
     "metadata": {},
     "output_type": "execute_result"
    },
    {
     "data": {
      "text/plain": [
       "array([0.04998491, 0.5       ])"
      ]
     },
     "execution_count": 42,
     "metadata": {},
     "output_type": "execute_result"
    },
    {
     "data": {
      "text/plain": [
       "array([-1.64485363,  0.        ])"
      ]
     },
     "execution_count": 42,
     "metadata": {},
     "output_type": "execute_result"
    },
    {
     "data": {
      "text/plain": [
       "array([0.95001509, 0.5       ])"
      ]
     },
     "execution_count": 42,
     "metadata": {},
     "output_type": "execute_result"
    },
    {
     "data": {
      "text/plain": [
       "array([1.64485363, 0.        ])"
      ]
     },
     "execution_count": 42,
     "metadata": {},
     "output_type": "execute_result"
    },
    {
     "data": {
      "text/plain": [
       "(array(0.), array(1.))"
      ]
     },
     "execution_count": 42,
     "metadata": {},
     "output_type": "execute_result"
    },
    {
     "data": {
      "text/plain": [
       "1.0"
      ]
     },
     "execution_count": 42,
     "metadata": {},
     "output_type": "execute_result"
    },
    {
     "data": {
      "text/plain": [
       "0.25"
      ]
     },
     "execution_count": 42,
     "metadata": {},
     "output_type": "execute_result"
    },
    {
     "data": {
      "text/plain": [
       "0.5"
      ]
     },
     "execution_count": 42,
     "metadata": {},
     "output_type": "execute_result"
    },
    {
     "data": {
      "text/plain": [
       "1.0"
      ]
     },
     "execution_count": 42,
     "metadata": {},
     "output_type": "execute_result"
    },
    {
     "data": {
      "text/plain": [
       "[1.0, 1.0, 1.25, 1.75, 2.6875]"
      ]
     },
     "execution_count": 42,
     "metadata": {},
     "output_type": "execute_result"
    },
    {
     "data": {
      "text/plain": [
       "(-1.959963984540054, 1.959963984540054)"
      ]
     },
     "execution_count": 42,
     "metadata": {},
     "output_type": "execute_result"
    },
    {
     "data": {
      "text/plain": [
       "array([-1.95996398,  1.95996398])"
      ]
     },
     "execution_count": 42,
     "metadata": {},
     "output_type": "execute_result"
    }
   ],
   "source": [
    "# dir(stats.norm)\n",
    "\n",
    "stats.norm.pdf([0,1])\n",
    "\n",
    "stats.norm.cdf([-1.645, 0])\n",
    "stats.norm.ppf([0.05,0.5]) # 0.05 quantile\n",
    "\n",
    "stats.norm.sf([-1.645, 0])\n",
    "stats.norm.isf([0.05, 0.5]) # 0.05 quantile\n",
    "\n",
    "stats.norm.stats()\n",
    "X = stats.norm(1, 0.5)\n",
    "X.mean()\n",
    "X.var()\n",
    "X.std()\n",
    "X.median()\n",
    "\n",
    "[X.moment(n) for n in range(5)]\n",
    "\n",
    "\n",
    "stats.norm.interval(0.95)\n",
    "stats.norm.ppf([0.025,0.975]) # same as above"
   ]
  },
  {
   "cell_type": "code",
   "execution_count": 84,
   "metadata": {},
   "outputs": [
    {
     "data": {
      "text/plain": [
       "3.0"
      ]
     },
     "execution_count": 84,
     "metadata": {},
     "output_type": "execute_result"
    },
    {
     "data": {
      "text/plain": [
       "array([ 3.,  4.,  5.,  6.,  7.,  8.,  9., 10., 11., 12., 13., 14., 15.,\n",
       "       16., 17., 18.])"
      ]
     },
     "execution_count": 84,
     "metadata": {},
     "output_type": "execute_result"
    },
    {
     "data": {
      "text/plain": [
       "[<matplotlib.lines.Line2D at 0x283163100>]"
      ]
     },
     "execution_count": 84,
     "metadata": {},
     "output_type": "execute_result"
    },
    {
     "data": {
      "text/plain": [
       "<matplotlib.collections.LineCollection at 0x28314e680>"
      ]
     },
     "execution_count": 84,
     "metadata": {},
     "output_type": "execute_result"
    },
    {
     "data": {
      "image/png": "[encoded data removed]",
      "text/plain": [
       "<Figure size 432x288 with 1 Axes>"
      ]
     },
     "metadata": {},
     "output_type": "display_data"
    }
   ],
   "source": [
    "from scipy.stats import poisson\n",
    "poi = stats.poisson(mu=10)\n",
    "\n",
    "mu=10\n",
    "fig, ax = plt.subplots(1, 1)\n",
    "poisson.ppf(0.01, mu)\n",
    "# x = np.arange(poisson.ppf(0.01, mu), poisson.ppf(0.99, mu))\n",
    "x = np.arange(*poisson.interval(0.99, mu))\n",
    "x\n",
    "ax.plot(x, poisson.pmf(x, mu), 'bo', ms=8, label='poisson pmf')\n",
    "ax.vlines(x, 0, poisson.pmf(x, mu), colors='b', lw=5, alpha=0.5)"
   ]
  },
  {
   "cell_type": "code",
   "execution_count": 129,
   "metadata": {},
   "outputs": [
    {
     "data": {
      "text/plain": [
       "array([0.005     , 0.01025817, 0.01548855, 0.02069129, 0.02586653,\n",
       "       0.03101443, 0.03613512, 0.04122875, 0.04629547, 0.0513354 ,\n",
       "       0.05634871, 0.06133552, 0.06629598, 0.07123022, 0.07613839,\n",
       "       0.08102062, 0.08587705, 0.09070781, 0.09551305, 0.10029289,\n",
       "       0.10504748, 0.10977694, 0.1144814 , 0.119161  , 0.12381588,\n",
       "       0.12844615, 0.13305196, 0.13763342, 0.14219068, 0.14672385,\n",
       "       0.15123306, 0.15571845, 0.16018013, 0.16461823, 0.16903289,\n",
       "       0.17342421, 0.17779232, 0.18213735, 0.18645942, 0.19075865,\n",
       "       0.19503516, 0.19928907, 0.2035205 , 0.20772957, 0.21191639,\n",
       "       0.21608109, 0.22022378, 0.22434458, 0.2284436 , 0.23252096,\n",
       "       0.23657677, 0.24061115, 0.24462421, 0.24861606, 0.25258682,\n",
       "       0.25653659, 0.26046549, 0.26437363, 0.26826111, 0.27212805,\n",
       "       0.27597456, 0.27980074, 0.2836067 , 0.28739254, 0.29115838,\n",
       "       0.29490432, 0.29863046, 0.30233691, 0.30602377, 0.30969115,\n",
       "       0.31333915, 0.31696787, 0.32057742, 0.32416789, 0.32773939,\n",
       "       0.33129201, 0.33482586, 0.33834103, 0.34183763, 0.34531574,\n",
       "       0.34877548, 0.35221694, 0.35564021, 0.35904538, 0.36243257,\n",
       "       0.36580185, 0.36915333, 0.37248709, 0.37580324, 0.37910187,\n",
       "       0.38238306, 0.38564691, 0.38889352, 0.39212296, 0.39533535,\n",
       "       0.39853075, 0.40170927, 0.40487099, 0.408016  , 0.4111444 ,\n",
       "       0.41425626, 0.41735167, 0.42043073, 0.42349352, 0.42654012,\n",
       "       0.42957062, 0.4325851 , 0.43558366, 0.43856637, 0.44153332,\n",
       "       0.44448458, 0.44742026, 0.45034041, 0.45324514, 0.45613451,\n",
       "       0.45900862, 0.46186754, 0.46471135, 0.46754013, 0.47035396,\n",
       "       0.47315293, 0.4759371 , 0.47870655, 0.48146138, 0.48420164,\n",
       "       0.48692742, 0.4896388 , 0.49233585, 0.49501865, 0.49768727,\n",
       "       0.50034179, 0.50298228, 0.50560881, 0.50822147, 0.51082031,\n",
       "       0.51340543, 0.51597688, 0.51853475, 0.52107909, 0.52360999,\n",
       "       0.52612752, 0.52863174, 0.53112273, 0.53360055, 0.53606528,\n",
       "       0.53851699, 0.54095574, 0.5433816 , 0.54579464, 0.54819493,\n",
       "       0.55058253, 0.55295752, 0.55531996, 0.55766991, 0.56000744,\n",
       "       0.56233262, 0.56464552, 0.56694619, 0.5692347 , 0.57151112,\n",
       "       0.57377551, 0.57602793, 0.57826845, 0.58049713, 0.58271403,\n",
       "       0.58491921, 0.58711274, 0.58929468, 0.59146509, 0.59362403,\n",
       "       0.59577156, 0.59790775, 0.60003264, 0.6021463 , 0.6042488 ,\n",
       "       0.60634018, 0.60842051, 0.61048985, 0.61254825, 0.61459577,\n",
       "       0.61663248, 0.61865842, 0.62067365, 0.62267824, 0.62467223,\n",
       "       0.62665568, 0.62862865, 0.6305912 , 0.63254337, 0.63448523,\n",
       "       0.63641683, 0.63833821, 0.64024945, 0.64215058, 0.64404167,\n",
       "       0.64592276, 0.64779392, 0.64965518, 0.65150661, 0.65334826,\n",
       "       0.65518017, 0.6570024 , 0.658815  , 0.66061803, 0.66241152,\n",
       "       0.66419554, 0.66597013, 0.66773534, 0.66949122, 0.67123782,\n",
       "       0.6729752 , 0.67470339, 0.67642245, 0.67813242, 0.67983336,\n",
       "       0.68152531, 0.68320832, 0.68488243, 0.6865477 , 0.68820417,\n",
       "       0.68985188, 0.69149089, 0.69312123, 0.69474296, 0.69635612,\n",
       "       0.69796075, 0.69955691, 0.70114463, 0.70272395, 0.70429494,\n",
       "       0.70585762, 0.70741204, 0.70895825, 0.71049628, 0.71202619,\n",
       "       0.71354801, 0.7150618 , 0.71656758, 0.7180654 , 0.71955531,\n",
       "       0.72103735, 0.72251155, 0.72397796, 0.72543663, 0.72688758,\n",
       "       0.72833087, 0.72976653, 0.7311946 , 0.73261513, 0.73402815,\n",
       "       0.7354337 , 0.73683182, 0.73822256, 0.73960595, 0.74098202,\n",
       "       0.74235083, 0.7437124 , 0.74506677, 0.74641399, 0.74775409,\n",
       "       0.74908711, 0.75041308, 0.75173204, 0.75304404, 0.7543491 ,\n",
       "       0.75564726, 0.75693857, 0.75822305, 0.75950074, 0.76077168,\n",
       "       0.7620359 , 0.76329345, 0.76454434, 0.76578863, 0.76702634,\n",
       "       0.76825751, 0.76948218, 0.77070037, 0.77191212, 0.77311747,\n",
       "       0.77431645, 0.7755091 , 0.77669544, 0.77787552, 0.77904935,\n",
       "       0.78021699, 0.78137845, 0.78253377, 0.78368299, 0.78482614,\n",
       "       0.78596325, 0.78709434, 0.78821946, 0.78933864, 0.7904519 ,\n",
       "       0.79155927, 0.7926608 , 0.7937565 , 0.79484641, 0.79593056,\n",
       "       0.79700899, 0.79808171, 0.79914877, 0.80021018, 0.80126599,\n",
       "       0.80231622, 0.8033609 , 0.80440005, 0.80543372, 0.80646192,\n",
       "       0.80748469, 0.80850206, 0.80951404, 0.81052068, 0.81152201,\n",
       "       0.81251803, 0.8135088 , 0.81449433, 0.81547465, 0.81644979,\n",
       "       0.81741978, 0.81838464, 0.8193444 , 0.8202991 , 0.82124874,\n",
       "       0.82219337, 0.823133  , 0.82406767, 0.8249974 , 0.82592222,\n",
       "       0.82684215, 0.82775722, 0.82866745, 0.82957287, 0.83047351,\n",
       "       0.83136939, 0.83226053, 0.83314697, 0.83402872, 0.83490581,\n",
       "       0.83577826, 0.83664611, 0.83750937, 0.83836806, 0.83922222,\n",
       "       0.84007187, 0.84091702, 0.84175771, 0.84259395, 0.84342578,\n",
       "       0.84425321, 0.84507627, 0.84589498, 0.84670936, 0.84751944,\n",
       "       0.84832524, 0.84912677, 0.84992408, 0.85071717, 0.85150607,\n",
       "       0.8522908 , 0.85307138, 0.85384784, 0.85462019, 0.85538846,\n",
       "       0.85615268, 0.85691285, 0.85766901, 0.85842117, 0.85916935,\n",
       "       0.85991359, 0.86065389, 0.86139027, 0.86212277, 0.86285139,\n",
       "       0.86357617, 0.86429711, 0.86501425, 0.86572759, 0.86643717,\n",
       "       0.86714299, 0.86784509, 0.86854347, 0.86923816, 0.86992919,\n",
       "       0.87061656, 0.8713003 , 0.87198042, 0.87265695, 0.87332991,\n",
       "       0.87399931, 0.87466517, 0.87532751, 0.87598636, 0.87664172,\n",
       "       0.87729362, 0.87794207, 0.87858709, 0.87922871, 0.87986694,\n",
       "       0.88050179, 0.88113329, 0.88176145, 0.8823863 , 0.88300784,\n",
       "       0.88362609, 0.88424108, 0.88485282, 0.88546133, 0.88606662,\n",
       "       0.88666871, 0.88726762, 0.88786336, 0.88845596, 0.88904542,\n",
       "       0.88963177, 0.89021502, 0.89079519, 0.89137229, 0.89194635,\n",
       "       0.89251737, 0.89308537, 0.89365037, 0.89421238, 0.89477143,\n",
       "       0.89532752, 0.89588067, 0.89643089, 0.89697822, 0.89752264,\n",
       "       0.89806419, 0.89860288, 0.89913873, 0.89967174, 0.90020193,\n",
       "       0.90072932, 0.90125393, 0.90177576, 0.90229483, 0.90281117,\n",
       "       0.90332477, 0.90383566, 0.90434385, 0.90484935, 0.90535218,\n",
       "       0.90585236, 0.90634989, 0.90684479, 0.90733708, 0.90782676,\n",
       "       0.90831386, 0.90879839, 0.90928035, 0.90975977, 0.91023665,\n",
       "       0.91071101, 0.91118287, 0.91165223, 0.91211911, 0.91258353,\n",
       "       0.91304549, 0.913505  , 0.9139621 , 0.91441677, 0.91486904,\n",
       "       0.91531892, 0.91576643, 0.91621157, 0.91665436, 0.9170948 ,\n",
       "       0.91753292, 0.91796873, 0.91840223, 0.91883344, 0.91926237,\n",
       "       0.91968904, 0.92011345, 0.92053562, 0.92095555, 0.92137327,\n",
       "       0.92178878, 0.9222021 , 0.92261323, 0.92302218, 0.92342898,\n",
       "       0.92383363, 0.92423613, 0.92463652, 0.92503478, 0.92543094,\n",
       "       0.92582501, 0.92621699, 0.92660691, 0.92699476, 0.92738056,\n",
       "       0.92776432, 0.92814606, 0.92852578, 0.92890349, 0.92927921,\n",
       "       0.92965294, 0.93002469, 0.93039448, 0.93076232, 0.93112821,\n",
       "       0.93149217, 0.93185421, 0.93221433, 0.93257255, 0.93292888,\n",
       "       0.93328332, 0.93363589, 0.9339866 , 0.93433545, 0.93468246,\n",
       "       0.93502764, 0.93537099, 0.93571253, 0.93605226, 0.9363902 ,\n",
       "       0.93672635, 0.93706073, 0.93739333, 0.93772419, 0.93805329,\n",
       "       0.93838065, 0.93870628, 0.9390302 , 0.9393524 , 0.93967289,\n",
       "       0.9399917 , 0.94030882, 0.94062426, 0.94093804, 0.94125016,\n",
       "       0.94156062, 0.94186945, 0.94217665, 0.94248222, 0.94278618,\n",
       "       0.94308853, 0.94338928, 0.94368845, 0.94398603, 0.94428204,\n",
       "       0.94457649, 0.94486938, 0.94516072, 0.94545053, 0.9457388 ,\n",
       "       0.94602555, 0.94631078, 0.9465945 , 0.94687673, 0.94715747,\n",
       "       0.94743672, 0.94771449, 0.9479908 , 0.94826565, 0.94853904,\n",
       "       0.94881099, 0.94908151, 0.94935059, 0.94961825, 0.9498845 ,\n",
       "       0.95014934, 0.95041278, 0.95067483, 0.95093549, 0.95119477,\n",
       "       0.95145269, 0.95170924, 0.95196444, 0.95221829, 0.95247079,\n",
       "       0.95272197, 0.95297181, 0.95322034, 0.95346755, 0.95371345,\n",
       "       0.95395806, 0.95420137, 0.9544434 , 0.95468415, 0.95492362,\n",
       "       0.95516183, 0.95539878, 0.95563448, 0.95586894, 0.95610215,\n",
       "       0.95633413, 0.95656489, 0.95679443, 0.95702275, 0.95724987,\n",
       "       0.95747578, 0.95770051, 0.95792404, 0.9581464 , 0.95836758,\n",
       "       0.95858759, 0.95880643, 0.95902413, 0.95924067, 0.95945606,\n",
       "       0.95967032, 0.95988345, 0.96009545, 0.96030633, 0.96051609,\n",
       "       0.96072475, 0.9609323 , 0.96113876, 0.96134412, 0.9615484 ,\n",
       "       0.9617516 , 0.96195373, 0.96215479, 0.96235479, 0.96255373,\n",
       "       0.96275161, 0.96294846, 0.96314426, 0.96333903, 0.96353276,\n",
       "       0.96372548, 0.96391717, 0.96410786, 0.96429753, 0.96448621,\n",
       "       0.96467388, 0.96486057, 0.96504626, 0.96523098, 0.96541472,\n",
       "       0.96559749, 0.96577929, 0.96596013, 0.96614002, 0.96631896,\n",
       "       0.96649695, 0.966674  , 0.96685011, 0.9670253 , 0.96719955,\n",
       "       0.96737289, 0.96754531, 0.96771682, 0.96788742, 0.96805713,\n",
       "       0.96822593, 0.96839384, 0.96856087, 0.96872701, 0.96889228,\n",
       "       0.96905667, 0.96922019, 0.96938285, 0.96954465, 0.96970559,\n",
       "       0.96986569, 0.97002493, 0.97018334, 0.97034091, 0.97049765,\n",
       "       0.97065355, 0.97080864, 0.9709629 , 0.97111635, 0.97126899,\n",
       "       0.97142082, 0.97157185, 0.97172208, 0.97187152, 0.97202017,\n",
       "       0.97216803, 0.97231511, 0.97246141, 0.97260694, 0.9727517 ,\n",
       "       0.9728957 , 0.97303893, 0.97318141, 0.97332314, 0.97346411,\n",
       "       0.97360435, 0.97374384, 0.97388259, 0.97402061, 0.9741579 ,\n",
       "       0.97429446, 0.97443031, 0.97456543, 0.97469984, 0.97483354,\n",
       "       0.97496654, 0.97509883, 0.97523042, 0.97536132, 0.97549153,\n",
       "       0.97562104, 0.97574988, 0.97587803, 0.9760055 , 0.9761323 ,\n",
       "       0.97625843, 0.9763839 , 0.9765087 , 0.97663284, 0.97675633,\n",
       "       0.97687916, 0.97700135, 0.97712288, 0.97724378, 0.97736404,\n",
       "       0.97748366, 0.97760265, 0.97772101, 0.97783875, 0.97795586,\n",
       "       0.97807235, 0.97818823, 0.9783035 , 0.97841815, 0.97853221,\n",
       "       0.97864565, 0.9787585 , 0.97887076, 0.97898242, 0.97909348,\n",
       "       0.97920397, 0.97931387, 0.97942318, 0.97953192, 0.97964009,\n",
       "       0.97974768, 0.97985471, 0.97996117, 0.98006706, 0.9801724 ,\n",
       "       0.98027718, 0.98038141, 0.98048509, 0.98058821, 0.9806908 ,\n",
       "       0.98079284, 0.98089434, 0.98099531, 0.98109574, 0.98119564,\n",
       "       0.98129501, 0.98139386, 0.98149219, 0.98158999, 0.98168728,\n",
       "       0.98178406, 0.98188032, 0.98197608, 0.98207133, 0.98216607,\n",
       "       0.98226032, 0.98235406, 0.98244732, 0.98254007, 0.98263234,\n",
       "       0.98272412, 0.98281542, 0.98290623, 0.98299657, 0.98308642,\n",
       "       0.9831758 , 0.98326471, 0.98335315, 0.98344112, 0.98352863,\n",
       "       0.98361568, 0.98370226, 0.98378839, 0.98387406, 0.98395928,\n",
       "       0.98404405, 0.98412837, 0.98421224, 0.98429567, 0.98437866,\n",
       "       0.98446122, 0.98454333, 0.98462501, 0.98470627, 0.98478709,\n",
       "       0.98486748, 0.98494745, 0.985027  , 0.98510612, 0.98518483,\n",
       "       0.98526312, 0.985341  , 0.98541847, 0.98549553, 0.98557218,\n",
       "       0.98564842, 0.98572426, 0.9857997 , 0.98587475, 0.98594939,\n",
       "       0.98602364, 0.9860975 , 0.98617097, 0.98624405, 0.98631675,\n",
       "       0.98638906, 0.98646099, 0.98653254, 0.98660371, 0.9866745 ,\n",
       "       0.98674492, 0.98681497, 0.98688464, 0.98695395, 0.9870229 ,\n",
       "       0.98709148, 0.98715969, 0.98722755, 0.98729504, 0.98736218,\n",
       "       0.98742897, 0.9874954 , 0.98756149, 0.98762722, 0.9876926 ,\n",
       "       0.98775764, 0.98782234, 0.98788669, 0.98795071, 0.98801438,\n",
       "       0.98807772, 0.98814072, 0.9882034 , 0.98826574, 0.98832775,\n",
       "       0.98838943, 0.98845079, 0.98851182, 0.98857253, 0.98863292,\n",
       "       0.98869299, 0.98875274, 0.98881218, 0.9888713 , 0.98893011,\n",
       "       0.98898861, 0.9890468 , 0.98910469, 0.98916227, 0.98921954,\n",
       "       0.98927651, 0.98933318, 0.98938955, 0.98944562, 0.98950139,\n",
       "       0.98955688, 0.98961206, 0.98966696, 0.98972157, 0.98977588,\n",
       "       0.98982991, 0.98988366, 0.98993712, 0.9899903 , 0.99004319,\n",
       "       0.99009581, 0.99014815, 0.99020021, 0.990252  , 0.99030352,\n",
       "       0.99035476, 0.99040573, 0.99045643, 0.99050686, 0.99055703,\n",
       "       0.99060693, 0.99065657, 0.99070595, 0.99075506, 0.99080392,\n",
       "       0.99085252, 0.99090086, 0.99094894, 0.99099677, 0.99104435,\n",
       "       0.99109168, 0.99113876, 0.99118558, 0.99123217, 0.9912785 ,\n",
       "       0.99132459, 0.99137044, 0.99141604, 0.9914614 , 0.99150652,\n",
       "       0.99155141, 0.99159606, 0.99164047, 0.99168464, 0.99172859,\n",
       "       0.9917723 , 0.99181578, 0.99185903, 0.99190205, 0.99194485,\n",
       "       0.99198741, 0.99202976, 0.99207188, 0.99211377, 0.99215545,\n",
       "       0.9921969 , 0.99223814, 0.99227916, 0.99231996, 0.99236055,\n",
       "       0.99240092, 0.99244108, 0.99248102, 0.99252076, 0.99256028,\n",
       "       0.9925996 , 0.9926387 , 0.99267761, 0.9927163 , 0.99275479,\n",
       "       0.99279308, 0.99283117, 0.99286905, 0.99290674, 0.99294422,\n",
       "       0.99298151, 0.9930186 , 0.99305549, 0.99309219, 0.99312869,\n",
       "       0.99316501, 0.99320113, 0.99323706, 0.9932728 , 0.99330835,\n",
       "       0.99334371, 0.99337888, 0.99341387, 0.99344868, 0.9934833 ,\n",
       "       0.99351774, 0.99355199, 0.99358607, 0.99361996, 0.99365368,\n",
       "       0.99368722, 0.99372058, 0.99375376, 0.99378677, 0.99381961,\n",
       "       0.99385227, 0.99388475, 0.99391707, 0.99394922, 0.99398119,\n",
       "       0.994013  , 0.99404464, 0.99407611, 0.99410742, 0.99413856,\n",
       "       0.99416953, 0.99420034, 0.99423099, 0.99426148, 0.9942918 ,\n",
       "       0.99432197, 0.99435198, 0.99438182, 0.99441151, 0.99444105,\n",
       "       0.99447042, 0.99449964, 0.99452871, 0.99455762, 0.99458639,\n",
       "       0.99461499, 0.99464345, 0.99467176, 0.99469992, 0.99472793,\n",
       "       0.99475579, 0.9947835 , 0.99481107, 0.99483849, 0.99486576,\n",
       "       0.9948929 , 0.99491989, 0.99494673, 0.99497344, 0.995     ])"
      ]
     },
     "execution_count": 129,
     "metadata": {},
     "output_type": "execute_result"
    },
    {
     "data": {
      "text/plain": [
       "[<matplotlib.lines.Line2D at 0x2a3775f00>]"
      ]
     },
     "execution_count": 129,
     "metadata": {},
     "output_type": "execute_result"
    },
    {
     "data": {
      "image/png": "[encoded data removed]",
      "text/plain": [
       "<Figure size 432x288 with 1 Axes>"
      ]
     },
     "metadata": {},
     "output_type": "display_data"
    }
   ],
   "source": [
    "# remember: to do exponential \\lambda * e^{-\\lambda x}, we need to set loc=1/lambda, since loc is the mean!\n",
    "\n",
    "y = stats.expon(10) # mean is 10\n",
    "\n",
    "\n",
    "n = 100_000\n",
    "# plt.hist(y.rvs(n), density=True, bins=50)\n",
    "# plt.plot(, y.pdf(x))\n",
    "# plt.xlabel('val')\n",
    "# plt.ylabel('density')\n",
    "\n",
    "\n",
    "# x=np.linspace(y.ppf(0.01), y.ppf(0.99), 1000)\n",
    "# x=np.linspace(*y.interval(0.99), 1000)\n",
    "# sns.lineplot(x=x, y=y.pdf(x))\n",
    "# sns.histplot(y.rvs(n), stat='density', bins=40).set(xlabel='val')\n",
    "\n",
    "# sns.lineplot(y.cdf())\n",
    "\n",
    "# y.cdf(2)\n",
    "\n",
    "x = np.linspace(*y.interval(0.99), 1000)\n",
    "y.cdf(np.linspace(*y.interval(0.99), 1000))\n",
    "\n",
    "plt.plot(x, y.cdf(np.linspace(*y.interval(0.99), 1000)))\n"
   ]
  }
 ],
 "metadata": {
  "kernelspec": {
   "display_name": "Python 3.10.4 ('data_science')",
   "language": "python",
   "name": "python3"
  },
  "language_info": {
   "codemirror_mode": {
    "name": "ipython",
    "version": 3
   },
   "file_extension": ".py",
   "mimetype": "text/x-python",
   "name": "python",
   "nbconvert_exporter": "python",
   "pygments_lexer": "ipython3",
   "version": "3.10.4"
  },
  "orig_nbformat": 4,
  "vscode": {
   "interpreter": {
    "hash": "ae74f9feb07f97b665e59d852dca9947bf3c6be9bdf551f43d711a8fd00af3ab"
   }
  }
 },
 "nbformat": 4,
 "nbformat_minor": 2
}
