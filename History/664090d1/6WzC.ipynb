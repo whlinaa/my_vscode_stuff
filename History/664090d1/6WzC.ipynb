{
 "cells": [
  {
   "cell_type": "code",
   "execution_count": 1,
   "metadata": {},
   "outputs": [
    {
     "name": "stdout",
     "output_type": "stream",
     "text": [
      "calling ds_preamble..\n",
      "calling ds_helper...\n"
     ]
    }
   ],
   "source": [
    "%load_ext autoreload\n",
    "%autoreload 2\n",
    "from ds_utils.ds_preamble import *\n",
    "from ds_utils.ds_helper import *\n",
    "from ds_utils.ds_plotting import *\n",
    "# from glob import glob\n",
    "# import re\n",
    "# import datetime\n",
    "# import duckdb\n",
    "# import pathlib\n",
    "# from ds_utils.ds_preamble import *  # # self-defined module\n",
    "# from ds_utils.ds_helper import *  # self-defined module\n",
    "# from ds_utils.ds_plotting import *  # # self-defined module\n",
    "\n",
    "tips = sns.load_dataset('tips')\n",
    "tips_tiny = tips.sample(20)\n",
    "\n",
    "df = tips \n",
    "\n",
    "titanic = sns.load_dataset('titanic')\n",
    "\n",
    "np.random.seed(123)\n",
    "tips['decile'] = np.random.randint(1,4, size=len(tips))\n",
    "\n",
    "train = tips.sample(frac=0.7, random_state=30).reset_index(drop=True)\n",
    "test = tips.drop(train.index).reset_index(drop=True)\n",
    "survey = pd.read_csv(\"/Users/whlin/Library/CloudStorage/OneDrive-HKUSTConnect/Documents/python/data/stack-overflow-developer-survey-2019/survey_results_public.csv\").sample(10_000)\n",
    "\n",
    "# import importlib\n",
    "# importlib.reload(ds_preamble)\n"
   ]
  },
  {
   "cell_type": "code",
   "execution_count": 42,
   "metadata": {},
   "outputs": [
    {
     "data": {
      "text/plain": [
       "array([0.39894228, 0.24197072])"
      ]
     },
     "execution_count": 42,
     "metadata": {},
     "output_type": "execute_result"
    },
    {
     "data": {
      "text/plain": [
       "array([0.04998491, 0.5       ])"
      ]
     },
     "execution_count": 42,
     "metadata": {},
     "output_type": "execute_result"
    },
    {
     "data": {
      "text/plain": [
       "array([-1.64485363,  0.        ])"
      ]
     },
     "execution_count": 42,
     "metadata": {},
     "output_type": "execute_result"
    },
    {
     "data": {
      "text/plain": [
       "array([0.95001509, 0.5       ])"
      ]
     },
     "execution_count": 42,
     "metadata": {},
     "output_type": "execute_result"
    },
    {
     "data": {
      "text/plain": [
       "array([1.64485363, 0.        ])"
      ]
     },
     "execution_count": 42,
     "metadata": {},
     "output_type": "execute_result"
    },
    {
     "data": {
      "text/plain": [
       "(array(0.), array(1.))"
      ]
     },
     "execution_count": 42,
     "metadata": {},
     "output_type": "execute_result"
    },
    {
     "data": {
      "text/plain": [
       "1.0"
      ]
     },
     "execution_count": 42,
     "metadata": {},
     "output_type": "execute_result"
    },
    {
     "data": {
      "text/plain": [
       "0.25"
      ]
     },
     "execution_count": 42,
     "metadata": {},
     "output_type": "execute_result"
    },
    {
     "data": {
      "text/plain": [
       "0.5"
      ]
     },
     "execution_count": 42,
     "metadata": {},
     "output_type": "execute_result"
    },
    {
     "data": {
      "text/plain": [
       "1.0"
      ]
     },
     "execution_count": 42,
     "metadata": {},
     "output_type": "execute_result"
    },
    {
     "data": {
      "text/plain": [
       "[1.0, 1.0, 1.25, 1.75, 2.6875]"
      ]
     },
     "execution_count": 42,
     "metadata": {},
     "output_type": "execute_result"
    },
    {
     "data": {
      "text/plain": [
       "(-1.959963984540054, 1.959963984540054)"
      ]
     },
     "execution_count": 42,
     "metadata": {},
     "output_type": "execute_result"
    },
    {
     "data": {
      "text/plain": [
       "array([-1.95996398,  1.95996398])"
      ]
     },
     "execution_count": 42,
     "metadata": {},
     "output_type": "execute_result"
    }
   ],
   "source": [
    "# dir(stats.norm)\n",
    "\n",
    "stats.norm.pdf([0,1])\n",
    "\n",
    "stats.norm.cdf([-1.645, 0])\n",
    "stats.norm.ppf([0.05,0.5]) # 0.05 quantile\n",
    "\n",
    "stats.norm.sf([-1.645, 0])\n",
    "stats.norm.isf([0.05, 0.5]) # 0.05 quantile\n",
    "\n",
    "stats.norm.stats()\n",
    "X = stats.norm(1, 0.5)\n",
    "X.mean()\n",
    "X.var()\n",
    "X.std()\n",
    "X.median()\n",
    "\n",
    "[X.moment(n) for n in range(5)]\n",
    "\n",
    "\n",
    "stats.norm.interval(0.95)\n",
    "stats.norm.ppf([0.025,0.975]) # same as above"
   ]
  },
  {
   "cell_type": "code",
   "execution_count": 84,
   "metadata": {},
   "outputs": [
    {
     "data": {
      "text/plain": [
       "3.0"
      ]
     },
     "execution_count": 84,
     "metadata": {},
     "output_type": "execute_result"
    },
    {
     "data": {
      "text/plain": [
       "array([ 3.,  4.,  5.,  6.,  7.,  8.,  9., 10., 11., 12., 13., 14., 15.,\n",
       "       16., 17., 18.])"
      ]
     },
     "execution_count": 84,
     "metadata": {},
     "output_type": "execute_result"
    },
    {
     "data": {
      "text/plain": [
       "[<matplotlib.lines.Line2D at 0x283163100>]"
      ]
     },
     "execution_count": 84,
     "metadata": {},
     "output_type": "execute_result"
    },
    {
     "data": {
      "text/plain": [
       "<matplotlib.collections.LineCollection at 0x28314e680>"
      ]
     },
     "execution_count": 84,
     "metadata": {},
     "output_type": "execute_result"
    },
    {
     "data": {
      "image/png": "[encoded data removed]",
      "text/plain": [
       "<Figure size 432x288 with 1 Axes>"
      ]
     },
     "metadata": {},
     "output_type": "display_data"
    }
   ],
   "source": [
    "from scipy.stats import poisson\n",
    "poi = stats.poisson(mu=10)\n",
    "\n",
    "mu=10\n",
    "fig, ax = plt.subplots(1, 1)\n",
    "poisson.ppf(0.01, mu)\n",
    "# x = np.arange(poisson.ppf(0.01, mu), poisson.ppf(0.99, mu))\n",
    "x = np.arange(*poisson.interval(0.99, mu))\n",
    "x\n",
    "ax.plot(x, poisson.pmf(x, mu), 'bo', ms=8, label='poisson pmf')\n",
    "ax.vlines(x, 0, poisson.pmf(x, mu), colors='b', lw=5, alpha=0.5)"
   ]
  },
  {
   "cell_type": "code",
   "execution_count": 113,
   "metadata": {},
   "outputs": [
    {
     "data": {
      "text/plain": [
       "<AxesSubplot:>"
      ]
     },
     "execution_count": 113,
     "metadata": {},
     "output_type": "execute_result"
    },
    {
     "data": {
      "text/plain": [
       "[Text(0.5, 0, 'val')]"
      ]
     },
     "execution_count": 113,
     "metadata": {},
     "output_type": "execute_result"
    },
    {
     "data": {
      "image/png": "[encoded data removed]",
      "text/plain": [
       "<Figure size 432x288 with 1 Axes>"
      ]
     },
     "metadata": {},
     "output_type": "display_data"
    }
   ],
   "source": [
    "# remember: to do exponential \\lambda * e^{-\\lambda x}, we need to set loc=1/lambda, since loc is the mean!\n",
    "\n",
    "y = stats.expon(10) # mean is 10\n",
    "\n",
    "\n",
    "n = 100_000\n",
    "# plt.hist(y.rvs(n), density=True, bins=50)\n",
    "# plt.plot(, y.pdf(x))\n",
    "# plt.xlabel('val')\n",
    "# plt.ylabel('density')\n",
    "\n",
    "\n",
    "# x=np.linspace(y.ppf(0.01), y.ppf(0.99), 1000)\n",
    "x=np.linspace(*y.interval(0.99), 1000)\n",
    "sns.lineplot(x=x, y=y.pdf(x))\n",
    "sns.histplot(y.rvs(n), stat='density', bins=40).set(xlabel='val')"
   ]
  }
 ],
 "metadata": {
  "kernelspec": {
   "display_name": "Python 3.10.4 ('data_science')",
   "language": "python",
   "name": "python3"
  },
  "language_info": {
   "codemirror_mode": {
    "name": "ipython",
    "version": 3
   },
   "file_extension": ".py",
   "mimetype": "text/x-python",
   "name": "python",
   "nbconvert_exporter": "python",
   "pygments_lexer": "ipython3",
   "version": "3.10.4"
  },
  "orig_nbformat": 4,
  "vscode": {
   "interpreter": {
    "hash": "ae74f9feb07f97b665e59d852dca9947bf3c6be9bdf551f43d711a8fd00af3ab"
   }
  }
 },
 "nbformat": 4,
 "nbformat_minor": 2
}
