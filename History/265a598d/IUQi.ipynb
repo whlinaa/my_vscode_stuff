{
 "cells": [
  {
   "cell_type": "code",
   "execution_count": 1,
   "metadata": {},
   "outputs": [
    {
     "name": "stdout",
     "output_type": "stream",
     "text": [
      "calling ds_preamble..\n",
      "calling ds_helper...\n"
     ]
    }
   ],
   "source": [
    "from ds_utils.ds_preamble import *\n",
    "from ds_utils.ds_plotting import *\n",
    "from ds_utils.ds_helper import *\n",
    "import datetime\n",
    "from re import sub\n",
    "tips = sns.load_dataset('tips')\n",
    "from pathlib import Path"
   ]
  },
  {
   "cell_type": "markdown",
   "metadata": {},
   "source": [
    "# f-string\n",
    "- remember that for {x = }, `__repr__` will be used, instead of `__str__` !\n",
    "    - to use `__str__`, do `{x = !s}`"
   ]
  },
  {
   "cell_type": "code",
   "execution_count": 280,
   "metadata": {},
   "outputs": [
    {
     "name": "stdout",
     "output_type": "stream",
     "text": [
      "hello world\n",
      "'hello world'\n",
      "'hello world'\n",
      "'hello world'\n"
     ]
    }
   ],
   "source": [
    "s = \"hello world\"\n",
    "print(f\"{s}\")\n",
    "print(f\"{s!r}\")\n",
    "print(f\"{s!a}\")\n",
    "print(f\"{repr(s)}\")\n"
   ]
  },
  {
   "cell_type": "markdown",
   "metadata": {},
   "source": [
    "# Walrus Operator (assignment expression operator, for py>3.8)\n",
    "- https://realpython.com/python-walrus-operator/\n",
    "- `=`: assignment operator: will not return a value\n",
    "- `:=`: assignment expression: will return a value\n",
    "- `:=` is like `=` in C++! In C++, `=` will return a value => assignment expression\n",
    "- One design principle underpinning the walrus operator is that there are no identical code contexts where both an assignment statement using the = operator and an assignment expression using the := operator would be valid. For example, you can’t do a plain assignment with the walrus operator:\n",
    "- remember to operator precedence problem of `:=` ! \n",
    "    - if x:=3 > 10 => if (x:=3>10) => x becomes False!\n",
    "    - if x:=y => ok\n",
    "- can use assignment expression inside f-string!\n",
    "```python\n",
    "# a := 3 # error\n",
    "(a := 3) # ok\n",
    "# (a=3) # error\n",
    "```\n",
    "\n",
    "```python\n",
    "# pitfall\n",
    "if x:= 3:\n",
    "    print(\"enter if\")\n",
    "print(x) # 3, since x = 3\n",
    "\n",
    "if x:= 3 != 0:\n",
    "    print(\"enter if\")\n",
    "print(x) # True, since x = (3!=0)\n",
    "```"
   ]
  },
  {
   "cell_type": "code",
   "execution_count": 255,
   "metadata": {},
   "outputs": [
    {
     "data": {
      "text/plain": [
       "'Diameter 7.6 gives circumference 23.88'"
      ]
     },
     "execution_count": 255,
     "metadata": {},
     "output_type": "execute_result"
    }
   ],
   "source": [
    "# can use assignment expression inside f-string\n",
    "r = 3.8\n",
    "f\"Diameter {(diam := 2 * r)} gives circumference {np.pi * diam:.2f}\""
   ]
  },
  {
   "cell_type": "code",
   "execution_count": 137,
   "metadata": {},
   "outputs": [
    {
     "name": "stdout",
     "output_type": "stream",
     "text": [
      "['hello', 'world', '!', 'xxx']\n"
     ]
    }
   ],
   "source": [
    "# use assignment expression to avoid reading an input before while loop\n",
    "inputs = []\n",
    "while (current := input(\"write something; write 'quit' to exit: \")) != 'quit':\n",
    "    inputs.append(current)\n",
    "print(inputs)"
   ]
  },
  {
   "cell_type": "code",
   "execution_count": 276,
   "metadata": {},
   "outputs": [
    {
     "name": "stdout",
     "output_type": "stream",
     "text": [
      "Calling __repr__.\n"
     ]
    },
    {
     "data": {
      "text/plain": [
       "Calling __repr__."
      ]
     },
     "execution_count": 276,
     "metadata": {},
     "output_type": "execute_result"
    },
    {
     "data": {
      "text/plain": [
       "'Calling __repr__.'"
      ]
     },
     "execution_count": 276,
     "metadata": {},
     "output_type": "execute_result"
    },
    {
     "data": {
      "text/plain": [
       "'Calling __repr__.'"
      ]
     },
     "execution_count": 276,
     "metadata": {},
     "output_type": "execute_result"
    },
    {
     "name": "stdout",
     "output_type": "stream",
     "text": [
      "Calling __repr__.\n",
      "Calling __str__.\n"
     ]
    },
    {
     "data": {
      "text/plain": [
       "'Calling __str__.'"
      ]
     },
     "execution_count": 276,
     "metadata": {},
     "output_type": "execute_result"
    },
    {
     "name": "stdout",
     "output_type": "stream",
     "text": [
      "Calling __str__.\n"
     ]
    },
    {
     "data": {
      "text/plain": [
       "'Calling __str__.'"
      ]
     },
     "execution_count": 276,
     "metadata": {},
     "output_type": "execute_result"
    },
    {
     "name": "stdout",
     "output_type": "stream",
     "text": [
      "me = Calling __repr__.\n"
     ]
    },
    {
     "data": {
      "text/plain": [
       "'me = Calling __str__.'"
      ]
     },
     "execution_count": 276,
     "metadata": {},
     "output_type": "execute_result"
    },
    {
     "name": "stdout",
     "output_type": "stream",
     "text": [
      "me = Calling __str__.\n"
     ]
    }
   ],
   "source": [
    "class dummy:\n",
    "    def __str__(self):\n",
    "        return f\"Calling __str__.\"\n",
    "    def __repr__(self):\n",
    "        return f\"Calling __repr__.\"\n",
    "me = dummy()\n",
    "print(repr(me)) # Calling __repr__.\n",
    "me # Calling __repr__.\n",
    "f\"{me!r}\" # 'Calling __repr__.'\n",
    "repr(me) # 'Calling __repr__.'\n",
    "print(f\"{me!r}\") # Calling __repr__.\n",
    "\n",
    "print(me) # Calling __str__.\n",
    "f\"{me}\" # 'Calling __str__.'\n",
    "print(f\"{me}\") # Calling __str__.\n",
    "str(me)# 'Calling __str__.'\n",
    "\n",
    "print(f\"{me = }\") # me = Calling __repr__.\n",
    "f\"{me = !s}\" # 'me = Calling __str__.'\n",
    "print(f\"{me = !s}\") # me = Calling __str__.\n",
    "\n",
    "\n",
    "# a = ['a','b','c']\n",
    "\n",
    "# f\"{a}\"\n",
    "# f\"{a = }\"\n",
    "# f\"{a = !s}\"\n"
   ]
  },
  {
   "cell_type": "code",
   "execution_count": 93,
   "metadata": {},
   "outputs": [
    {
     "name": "stdout",
     "output_type": "stream",
     "text": [
      "list too long, with 99 elements, expected <= 10!\n"
     ]
    }
   ],
   "source": [
    "# avoid defining len(a) explicitly \n",
    "a = range(1,100)\n",
    "if (n := len(a)) > 10:\n",
    "    print(f\"list too long, with {n} elements, expected <= 10!\")"
   ]
  },
  {
   "cell_type": "code",
   "execution_count": 257,
   "metadata": {},
   "outputs": [
    {
     "data": {
      "text/plain": [
       "8"
      ]
     },
     "execution_count": 257,
     "metadata": {},
     "output_type": "execute_result"
    },
    {
     "data": {
      "text/plain": [
       "4"
      ]
     },
     "execution_count": 257,
     "metadata": {},
     "output_type": "execute_result"
    },
    {
     "data": {
      "text/plain": [
       "4"
      ]
     },
     "execution_count": 257,
     "metadata": {},
     "output_type": "execute_result"
    },
    {
     "data": {
      "text/plain": [
       "8"
      ]
     },
     "execution_count": 257,
     "metadata": {},
     "output_type": "execute_result"
    }
   ],
   "source": [
    "# debugging long expression by storing each components\n",
    "p1, p2 = [1,2], [3,4]\n",
    "(c0 := (p1[0]-p2[0])**2) + (c1 := (p1[1]-p2[1])**2)\n",
    "c0\n",
    "c1\n",
    "\n",
    "# same as \n",
    "# c0 = (p1[0]-p2[0])**2\n",
    "# c1 = (p1[1]-p2[1])**2\n",
    "# c0+c1"
   ]
  },
  {
   "cell_type": "code",
   "execution_count": 259,
   "metadata": {},
   "outputs": [
    {
     "name": "stdout",
     "output_type": "stream",
     "text": [
      "description = {'length': 8, 'sum': 35, 'mean': 4.375}\n",
      "n = 8\n",
      "tot = 35\n"
     ]
    }
   ],
   "source": [
    "# avoid recalculation when making a sequence, whose later element depends on previous elements\n",
    "numbers = [2, 8, 0, 1, 1, 9, 7, 7]\n",
    "\n",
    "description = {\n",
    "    \"length\": (n := len(numbers)),\n",
    "    \"sum\": (tot := sum(numbers)),\n",
    "    \"mean\": tot / n, # avoid calculating tot and n again \n",
    "}\n",
    "print(f\"{description = }\")\n",
    "print(f\"{n = }\")\n",
    "print(f\"{tot = }\")\n",
    "\n"
   ]
  },
  {
   "cell_type": "code",
   "execution_count": 279,
   "metadata": {},
   "outputs": [
    {
     "data": {
      "text/plain": [
       "\"user='eric_idle' member_since=datetime.date(1975, 7, 31)\""
      ]
     },
     "execution_count": 279,
     "metadata": {},
     "output_type": "execute_result"
    },
    {
     "data": {
      "text/plain": [
       "datetime.date(1975, 7, 31)"
      ]
     },
     "execution_count": 279,
     "metadata": {},
     "output_type": "execute_result"
    },
    {
     "data": {
      "text/plain": [
       "'1975-07-31'"
      ]
     },
     "execution_count": 279,
     "metadata": {},
     "output_type": "execute_result"
    },
    {
     "data": {
      "text/plain": [
       "'member_since = 1975-07-31'"
      ]
     },
     "execution_count": 279,
     "metadata": {},
     "output_type": "execute_result"
    }
   ],
   "source": [
    "user = 'eric_idle'\n",
    "member_since = datetime.date(1975, 7, 31)\n",
    "f'{user=} {member_since=}'\n",
    "member_since\n",
    "str(member_since)\n",
    "\n",
    "f\"{member_since = !s}\""
   ]
  },
  {
   "cell_type": "code",
   "execution_count": 46,
   "metadata": {},
   "outputs": [
    {
     "data": {
      "text/plain": [
       "[3, 3]"
      ]
     },
     "execution_count": 46,
     "metadata": {},
     "output_type": "execute_result"
    }
   ],
   "source": [
    "t = ['abc', 'def', 'g']\n",
    "\n",
    "[length for s in t if (length := len(s)) > 2]\n"
   ]
  },
  {
   "cell_type": "code",
   "execution_count": 52,
   "metadata": {},
   "outputs": [
    {
     "name": "stdout",
     "output_type": "stream",
     "text": [
      "your answer is ABC\n",
      "Please answer one of y, n, yes, no\n"
     ]
    }
   ],
   "source": [
    "question = \"Will you use the walrus operator?\"\n",
    "valid_answers = {'yes', 'y','n','no'}\n",
    "    \n",
    "while (user_answer := input(f\"\\n{question} \")).lower() not in valid_answers:\n",
    "    print(f\"your answer is {user_answer}\")\n",
    "    print(f\"Please answer one of {', '.join(valid_answers)}\")\n",
    "\n",
    "    \n",
    "    \n"
   ]
  },
  {
   "cell_type": "code",
   "execution_count": 66,
   "metadata": {},
   "outputs": [
    {
     "name": "stdout",
     "output_type": "stream",
     "text": [
      "True Houston\n",
      "True ['Houston', 'Holguín']\n",
      "True Houston\n"
     ]
    }
   ],
   "source": [
    "cities = [\"Vancouver\", \"Oslo\", \"Houston\", \"Warsaw\", \"Graz\", \"Holguín\"]\n",
    "# Does ANY city name start with \"H\"?\n",
    "\n",
    "# can't show witness\n",
    "# any(city.startswith(\"H\") for city in cities)\n",
    "\n",
    "# M0: for loop. Verbose \n",
    "for city in cities:\n",
    "    witness = city\n",
    "    if witness.startswith('H'):\n",
    "        print(True, witness)\n",
    "        break\n",
    "else:\n",
    "    print(False)\n",
    "\n",
    "# M1: find all witness. Slow\n",
    "if (res := [city for city in cities if city.startswith('H')]):\n",
    "    print(True, res)\n",
    "else:\n",
    "    print(False)\n",
    "\n",
    "# M2: find one witness only\n",
    "if any((witness := city).startswith('H') for city in cities):\n",
    "    print(True, witness)\n",
    "else:\n",
    "    print(False)\n",
    "\n",
    "# # Does ANY city name have at least 10 characters?\n",
    "# any(len(city) >= 10 for city in cities)\n",
    "\n",
    "# # Do ALL city names contain \"a\" or \"o\"?\n",
    "# # all(set(city) & set(\"ao\") for city in cities)\n",
    "# all('a' in city or 'o' in city for city in cities)\n",
    "\n",
    "# # Do ALL city names start with \"H\"?\n",
    "# all(city.startswith(\"H\") for city in cities)\n"
   ]
  },
  {
   "cell_type": "code",
   "execution_count": 76,
   "metadata": {},
   "outputs": [
    {
     "name": "stdout",
     "output_type": "stream",
     "text": [
      "False\n"
     ]
    }
   ],
   "source": [
    "if x:=3 >12:\n",
    "    print(\"hello\")\n",
    "print(x)"
   ]
  },
  {
   "cell_type": "code",
   "execution_count": 72,
   "metadata": {},
   "outputs": [
    {
     "name": "stdout",
     "output_type": "stream",
     "text": [
      "True\n"
     ]
    },
    {
     "data": {
      "text/plain": [
       "True"
      ]
     },
     "execution_count": 72,
     "metadata": {},
     "output_type": "execute_result"
    }
   ],
   "source": [
    "number = 3\n",
    "if square := number ** 2 > 5:\n",
    "    print(square)\n",
    "square"
   ]
  },
  {
   "cell_type": "code",
   "execution_count": 97,
   "metadata": {},
   "outputs": [
    {
     "name": "stdout",
     "output_type": "stream",
     "text": [
      "deleting files: ['abc.txt', 'aa.pdf']\n",
      "didn't match\n",
      "else\n"
     ]
    }
   ],
   "source": [
    "def command_split(command):\n",
    "    match command.split():\n",
    "        case ['make']:\n",
    "            print(\"default make\")\n",
    "        case ['make',cmd]:\n",
    "            print(f\"make command found: {cmd}\")\n",
    "        case ['restart']:\n",
    "            print('restarting...')\n",
    "        case ['rm', *files]:\n",
    "            print(f'deleting files: {files}')\n",
    "        case x:\n",
    "        # case _:\n",
    "            print(\"didn't match\")\n",
    "\n",
    "command_split(\"rm abc.txt aa.pdf\")\n",
    "command_split(\"xxxx\")\n",
    "\n",
    "x = 6\n",
    "match x:\n",
    "    case 5:\n",
    "        print('ok')\n",
    "    case 10:\n",
    "        print('gd')\n",
    "    case _:\n",
    "        print('else')\n",
    "\n"
   ]
  },
  {
   "cell_type": "markdown",
   "metadata": {},
   "source": [
    "# Ipython magic commands"
   ]
  },
  {
   "cell_type": "markdown",
   "metadata": {},
   "source": [
    "## how to export the content of a cell, without the output\n",
    "- case 1: only export, do not run => use `%%writefile <file_name>`\n",
    "- case 2: export + run => need to define a function to do it"
   ]
  },
  {
   "cell_type": "code",
   "execution_count": 2,
   "metadata": {},
   "outputs": [
    {
     "name": "stdout",
     "output_type": "stream",
     "text": [
      "Overwriting code_in_cell.py\n"
     ]
    }
   ],
   "source": [
    "%%writefile code_in_cell.py\n",
    "# this will output the code in this cell to a file\n",
    "d={chr(i):i for i in range(60, 65)} # hello\n",
    "print(d)"
   ]
  },
  {
   "cell_type": "code",
   "execution_count": 3,
   "metadata": {},
   "outputs": [
    {
     "name": "stdout",
     "output_type": "stream",
     "text": [
      "{'<': 60, '=': 61, '>': 62, '?': 63, '@': 64}\n"
     ]
    }
   ],
   "source": [
    "%%write_and_run cell_code_.py\n",
    "# this will do two things: (1) execute this cell, (2) output the code to a file \n",
    "d={chr(i):i for i in range(60, 65)} # hello\n",
    "print(d)"
   ]
  },
  {
   "cell_type": "code",
   "execution_count": 4,
   "metadata": {},
   "outputs": [],
   "source": [
    "# output = !python cell_code.py\n",
    "# print(output)"
   ]
  },
  {
   "cell_type": "markdown",
   "metadata": {},
   "source": [
    "## how to redirect output of a file to a file"
   ]
  },
  {
   "cell_type": "code",
   "execution_count": 5,
   "metadata": {},
   "outputs": [],
   "source": [
    "%%capture cap\n",
    "d={chr(i):i for i in range(60, 65)}\n",
    "print(\"hello world\")\n",
    "# print(\"again\")\n",
    "print(tips[:1])\n",
    "\"should be ignored\"\n",
    "d"
   ]
  },
  {
   "cell_type": "code",
   "execution_count": 6,
   "metadata": {},
   "outputs": [
    {
     "name": "stdout",
     "output_type": "stream",
     "text": [
      "hello world\n",
      "   total_bill   tip     sex smoker  day    time  size\n",
      "0       16.99  1.01  Female     No  Sun  Dinner     2\n"
     ]
    },
    {
     "data": {
      "text/plain": [
       "'should be ignored'"
      ]
     },
     "metadata": {},
     "output_type": "display_data"
    },
    {
     "data": {
      "text/plain": [
       "{'<': 60, '=': 61, '>': 62, '?': 63, '@': 64}"
      ]
     },
     "metadata": {},
     "output_type": "display_data"
    },
    {
     "name": "stdout",
     "output_type": "stream",
     "text": [
      "hello world\n",
      "   total_bill   tip     sex smoker  day    time  size\n",
      "0       16.99  1.01  Female     No  Sun  Dinner     2\n",
      "\n"
     ]
    }
   ],
   "source": [
    "cap.show() # show everything, including those without `print`\n",
    "print(cap.stdout) # show only `print`. this is a string\n",
    "\n",
    "# %store cap.stdout >out.txt # this will save what is in `cap.stdout` to the file\n",
    "\n",
    "# this is same as above\n",
    "# with open('temp.txt', 'w') as f:\n",
    "# with Path('temp.txt').open('w') as f:\n",
    "    # print(cap.stdout, file=f)"
   ]
  },
  {
   "cell_type": "markdown",
   "metadata": {},
   "source": [
    "# I/O\n",
    "- https://pynative.com/python-file-objects/#h-file-object-methods\n",
    "- IMPORTANT: \n",
    "    - Path.read_text() == as f.read()\n",
    "    - Path.write_text() == as f.write()\n",
    "- read a file:\n",
    "    - `with open('file_name', 'r') as f:`\n",
    "    - `with Path('file_name').open('r') as f:`\n",
    "    - `Path('file_name').read_text()` # if only want to read the whole file\n",
    "    - then, use for loop to read each line\n",
    "- write file:\n",
    "    - `with open('file_name', 'w') as f:`\n",
    "    - `with Path('file_name').open('w') as f:`\n",
    "    - `Path('file_name').write_text()` # if only want to write a string to the file\n",
    "    - then, use for loop to write everything we want"
   ]
  },
  {
   "cell_type": "markdown",
   "metadata": {},
   "source": [
    "## input (read file; file instream)"
   ]
  },
  {
   "cell_type": "code",
   "execution_count": 7,
   "metadata": {},
   "outputs": [
    {
     "data": {
      "text/plain": [
       "16"
      ]
     },
     "execution_count": 7,
     "metadata": {},
     "output_type": "execute_result"
    },
    {
     "name": "stdout",
     "output_type": "stream",
     "text": [
      "=============\n"
     ]
    },
    {
     "data": {
      "text/plain": [
       "'for_read.txt'"
      ]
     },
     "execution_count": 7,
     "metadata": {},
     "output_type": "execute_result"
    },
    {
     "data": {
      "text/plain": [
       "'r'"
      ]
     },
     "execution_count": 7,
     "metadata": {},
     "output_type": "execute_result"
    },
    {
     "data": {
      "text/plain": [
       "'a 1\\nb 2\\nc 3\\nd 4\\n'"
      ]
     },
     "execution_count": 7,
     "metadata": {},
     "output_type": "execute_result"
    },
    {
     "data": {
      "text/plain": [
       "True"
      ]
     },
     "execution_count": 7,
     "metadata": {},
     "output_type": "execute_result"
    },
    {
     "data": {
      "text/plain": [
       "''"
      ]
     },
     "execution_count": 7,
     "metadata": {},
     "output_type": "execute_result"
    },
    {
     "data": {
      "text/plain": [
       "[]"
      ]
     },
     "execution_count": 7,
     "metadata": {},
     "output_type": "execute_result"
    },
    {
     "name": "stdout",
     "output_type": "stream",
     "text": [
      "=============\n",
      "a 1\n",
      "\n",
      "b 2\n",
      "\n",
      "c 3\n",
      "\n",
      "d 4\n",
      "\n",
      "=============\n",
      "a\n",
      " \n",
      "1\n",
      "\n",
      "\n",
      "b\n",
      " \n",
      "2\n",
      "\n",
      "\n",
      "c\n",
      " \n",
      "3\n",
      "\n",
      "\n",
      "d\n",
      " \n",
      "4\n",
      "\n",
      "\n"
     ]
    },
    {
     "data": {
      "text/plain": [
       "'a 1\\nb 2\\nc 3\\nd 4\\n'"
      ]
     },
     "execution_count": 7,
     "metadata": {},
     "output_type": "execute_result"
    }
   ],
   "source": [
    "# first, create a text file\n",
    "s = \"\"\"a 1\n",
    "b 2\n",
    "c 3\n",
    "d 4\n",
    "\"\"\"\n",
    "path = Path('for_read.txt')\n",
    "path.write_text(s)\n",
    "\n",
    "print('=============')\n",
    "# M1: use readline\n",
    "with open(path, 'r') as f:\n",
    "    f.name\n",
    "    f.mode\n",
    "    f.read() # read everything\n",
    "    f.readable()\n",
    "    f.readline() # it's an iterator => no more things to read after `f.read` !\n",
    "    f.readlines(3)\n",
    "    \n",
    "print('=============')\n",
    "with open(path, 'r') as f:\n",
    "    for line in f: # each iteration is a line.\n",
    "        print(line)\n",
    "        \n",
    "print('=============')\n",
    "with open(path, 'r') as f:\n",
    "    for line in f.read(): # each iteration is a character in the \n",
    "        print(line)\n",
    "\n",
    "# # M2: use Path.read_text. This can read the whole file as string only\n",
    "path.read_text() # same as f.read()"
   ]
  },
  {
   "cell_type": "markdown",
   "metadata": {},
   "source": [
    "## output (write file; file outstream)"
   ]
  },
  {
   "cell_type": "code",
   "execution_count": 8,
   "metadata": {},
   "outputs": [
    {
     "data": {
      "text/plain": [
       "45"
      ]
     },
     "execution_count": 8,
     "metadata": {},
     "output_type": "execute_result"
    },
    {
     "data": {
      "text/plain": [
       "45"
      ]
     },
     "execution_count": 8,
     "metadata": {},
     "output_type": "execute_result"
    }
   ],
   "source": [
    "path = Path('my_output.txt')\n",
    "\n",
    "a = ['a', 'b', 'c']\n",
    "d = {chr(i): i for i in range(65, 70)}\n",
    "s = \\\n",
    "\"\"\"hello world!\n",
    "another line\n",
    "third line\"\"\"\n",
    "vars = [a,d,s]\n",
    "\n",
    "# M1 and M2: use Path.open('w') or open(Path, 'w')\n",
    "with path.open('w') as f:\n",
    "# with open(path, 'w') as f:\n",
    "    # M1: use print function, with file parameter. Bad. Need to use for loop\n",
    "    for var in vars:\n",
    "        print(var, file=f)\n",
    "\n",
    "# M3: use tuple unpacking\n",
    "# pros: \n",
    "#   - (1) no need for loop\n",
    "#   - (1) can disable the final final line easily \n",
    "with path.open('w') as f:\n",
    "    print(*vars, sep='\\n', file=f, end='') \n",
    "    \n",
    "\n",
    "# M4: use f.write\n",
    "with path.open('w') as f:\n",
    "    f.write(str(d)) # can write a single string only\n",
    "    \n",
    "# M5: use f.writelines to writes a list of strings to the file.\n",
    "# need to deal with the newline issue..\n",
    "with path.open('w') as f:\n",
    "    f.writelines([str(var) for var in vars]) # can write a single string only\n",
    "    \n",
    "    \n",
    "# # M6: use Path.write_text(), if we only have a string to write to \n",
    "# this is the same as `with path.write('w') as f: f.write(std(d))``\n",
    "path.write_text(str(d)) # convert to string first. \n",
    "\n",
    "# # M7: use %store magic command. this doesn't allow using python variable as file name\n",
    "# %store d >my_output.txt "
   ]
  },
  {
   "cell_type": "markdown",
   "metadata": {},
   "source": [
    "# file naming"
   ]
  },
  {
   "cell_type": "code",
   "execution_count": 9,
   "metadata": {},
   "outputs": [],
   "source": [
    "def remove_quotes(seq, to_camel_case=True):\n",
    "    # seq = list(str)\n",
    "    # remove the quotes of the strings in the given sequence \n",
    "    # return f\"[{','.join(seq)}]\"\n",
    "    if to_camel_case:\n",
    "        seq = [camel_case(s) for s in seq]\n",
    "    return f\"{'&'.join(seq)}\"\n",
    "def get_first_letter(bool_var):\n",
    "    return str(bool_var)[0]\n",
    "def camel_case(s):\n",
    "    # https://www.w3resource.com/python-exercises/string/python-data-type-string-exercise-96.php\n",
    "    s = sub(r\"(_|-)+\", \" \", s).title().replace(\" \", \"\")\n",
    "    return ''.join([s[0].lower(), s[1:]])\n",
    "def get_acronym(s, to_upper=True):\n",
    "    if '_' in s:\n",
    "        return ''.join( [ component[0].upper() \n",
    "                        if to_upper else component[0] \n",
    "                        for component in s.split('_') if component]\n",
    "                        )\n",
    "    else:\n",
    "        return s\n",
    "def get_time():\n",
    "    return datetime.datetime.now().strftime(\"%y%m%d-%H%M%S\")\n",
    "\n",
    "\n",
    "# model_names = ['xgb', 'freq_severity', 'cla_reg'] # models used \n",
    "# remove_quotes(model_names)"
   ]
  },
  {
   "cell_type": "code",
   "execution_count": 10,
   "metadata": {},
   "outputs": [
    {
     "data": {
      "text/plain": [
       "'monotone'"
      ]
     },
     "execution_count": 10,
     "metadata": {},
     "output_type": "execute_result"
    },
    {
     "data": {
      "text/plain": [
       "'hkOnly'"
      ]
     },
     "execution_count": 10,
     "metadata": {},
     "output_type": "execute_result"
    },
    {
     "data": {
      "text/plain": [
       "'adjPrem'"
      ]
     },
     "execution_count": 10,
     "metadata": {},
     "output_type": "execute_result"
    },
    {
     "data": {
      "text/plain": [
       "'vhisOnly'"
      ]
     },
     "execution_count": 10,
     "metadata": {},
     "output_type": "execute_result"
    },
    {
     "data": {
      "text/plain": [
       "'hello+monotone+hkOnly+adjPrem+vhisOnly'"
      ]
     },
     "execution_count": 10,
     "metadata": {},
     "output_type": "execute_result"
    },
    {
     "data": {
      "text/plain": [
       "'220529-111717+lr+comb+allyr+monotone+hkOnly+adjPrem+!stdOnly+vhisOnly+!inflate+modelNames=xgb&freqSeverity&claReg+CFKY=5+FKYS=upto'"
      ]
     },
     "execution_count": 10,
     "metadata": {},
     "output_type": "execute_result"
    }
   ],
   "source": [
    "# %%write_and_run testing_.py\n",
    "# --------- the following defines the different variations we can try -------- #\n",
    "# ------------------- settings affecting the dataset size ------------------ #\n",
    "std_only = False # use standard class data only or not \n",
    "vhis_only = True # use VHIS-compatible records only\n",
    "filter_low = False # filter records with very low claim amount/loss ratio/premium etc or not\n",
    "filter_high = False # filter records with very high claim amount/loss ratio/premium etc or not\n",
    "years = 'allyr' # Use the latest 5 yrs of records only or all data. If use all years, give `allyr`; else, give an integer (e.g., years = 5)\n",
    "hk_only = True # use Hong kong records only or not (i.e., plan_region == 'HK')\n",
    "age_lim = False # get records of app_age between a specific range or not. If not, give False; else, give a 2-tuple (low_lim, upper_lim) (e.g., (18,65))\n",
    "# ---------------------------------------------------------------------------- #\n",
    "\n",
    "# --------------------- settings for combined formulation -------------------- #\n",
    "comb_first_k_years = 5 # if formulation=='comb', then evaluate on the first k years only or not (give None to indicate no). Note that train set still uses records of any duration (i.e., records shorter than k years are still used for training).\n",
    "train_first_k_years = True # if formulation=='comb' and comb_first_k_years!=None, then for the train set, whether to use the first k years only or not.\n",
    "first_k_years_strategy = 'upto' # if formulation=='comb' and comb_first_k_years!=None, then how to select the first k years. possibles values: ['exact', 'exact_strict', 'upto']\n",
    "# ---------------------------------------------------------------------------- #\n",
    "\n",
    "# ------------------------------- misc settings ------------------------------ #\n",
    "inflate = False # use inflate_* features (e.g., inflate_tot_clm_amt, inflate_tot_pay_amt, and inflate_tot_cnt ) or not \n",
    "adj_prem = True # use adjusted annual premium (i.e., standard premium) or not\n",
    "common_split_no = 1 # common train-test split with other models. Use an integer to indicate which split number to use. Use `None` to indicate \"NOT USE\" common split.\n",
    "formulation = 'comb' # formulation => ['comb', 'indi']. Combine all contract years of a policy into one single record or not\n",
    "census = False # use census data or not\n",
    "predict_decline = True # predict the declined cases as well or not. If True and if inflate == True, then treat decline records as normal records (i.e., used in both train and test phases). If inflate == False, treat decline records as testing records only.\n",
    "model_names = ['xgb', 'freq_severity', 'cla_reg'] # models used \n",
    "y_name = 'loss_ratio' # what to predict\n",
    "monotone = True # impose monotone constraints on some features (e.g., disease, occupation risk) or not \n",
    "\n",
    "# variation = f'{formulation}_{years}_{y_name}_{first_k_years_strategy}' # this is used as part of figure names, etc\n",
    "# variation = f'{formulation}_{years}_{first_k_years_strategy}' # this is used as part of figure names, etc\n",
    "\n",
    "\n",
    "# name_to_var = dict( for var in [])\n",
    "\n",
    "bool_vars = 'monotone', 'hk_only', 'adj_prem', 'std_only', 'vhis_only', 'inflate',\n",
    "\n",
    "for bool_var in bool_vars:\n",
    "    if eval(bool_var):\n",
    "        camel_case(bool_var)\n",
    "        \n",
    "'+'.join(['hello', *[camel_case(bool_var) for bool_var in bool_vars if eval(bool_var)]])\n",
    "\n",
    "\n",
    "\n",
    "'+'.join([\n",
    "            get_time(),\n",
    "            # ----------------------- variable without showing name ---------------------- #\n",
    "            get_acronym(y_name, to_upper=False),\n",
    "            formulation,\n",
    "            years,\n",
    "            # f\"{remove_quotes(model_names)}\",\n",
    "            \n",
    "            # ----------------------------- boolean variables ---------------------------- #\n",
    "            *[('' if eval(bool_var) else '!') + camel_case(bool_var) for bool_var in bool_vars],\n",
    "            \n",
    "            # --------------------------------- sequence --------------------------------- #\n",
    "            f\"{camel_case('model_names')}={remove_quotes(model_names)}\",\n",
    "            \n",
    "            # ------------------------------ string variable ----------------------------- #\n",
    "            # f\"{camel_case('perf')}={perf}\",\n",
    "            # f\"{camel_case('strategy')}={strategy}\",\n",
    "            # f\"var={var}\",\n",
    "            f\"{get_acronym('comb_first_k_years')}={comb_first_k_years}\",\n",
    "            f\"{get_acronym('first_k_years_strategy')}={first_k_years_strategy}\",\n",
    "            \n",
    "            # f\"{camel_case('monotone')}={get_first_letter(monotone)}\",\n",
    "            # f\"{camel_case('hk_only')}={get_first_letter(hk_only)}\",            \n",
    "            # f\"inflate={get_first_letter(inflate)}\",            \n",
    "            # f\"{camel_case('adj_prem')}={get_first_letter(adj_prem)}\",\n",
    "            # f\"{camel_case('std_only')}={get_first_letter(std_only)}\",\n",
    "            # f\"{camel_case('vhis_only')}={get_first_letter(vhis_only)}\"\n",
    "            \n",
    "            # f\"{camel_case('y_name')}={get_acronym(y_name, to_upper=False)}\",\n",
    "            \n",
    "        ])\n",
    "\n",
    "# \"\" if eval(bool_var) else \"~\" + camel_case(bool_var)\n",
    "\n",
    "\n",
    "\n",
    "    # camel_case(bool_var) if eval(bool_var) else f\"~{camel_case(bool_var)}\" for bool_var in bool_vars]"
   ]
  },
  {
   "cell_type": "code",
   "execution_count": 11,
   "metadata": {},
   "outputs": [
    {
     "data": {
      "text/plain": [
       "'220529-111717|lr|algos=algo1&algo2|perf=Bad|strategy=None|var=123|monotone=T|hkOnly=F|inflate=T|UAAP=T'"
      ]
     },
     "execution_count": 11,
     "metadata": {},
     "output_type": "execute_result"
    }
   ],
   "source": [
    "monotone = True\n",
    "hk_only = False\n",
    "perf = 'Bad'\n",
    "algos = ['algo_1','algo_2']\n",
    "var = 123\n",
    "use_adj_annual_prem = True\n",
    "y_name = 'loss_ratio'\n",
    "strategy = None\n",
    "inflate=True\n",
    "formulation='comb'\n",
    "\n",
    "'|'.join([\n",
    "            get_time(),\n",
    "            # ----------------------- variable without showing name ---------------------- #\n",
    "            f\"{get_acronym(y_name, to_upper=False)}\",\n",
    "            \n",
    "            # --------------------------------- sequence --------------------------------- #\n",
    "            f\"{camel_case('algos')}={remove_quotes(algos)}\",\n",
    "            \n",
    "            # ------------------------------ string variable ----------------------------- #\n",
    "            f\"{camel_case('perf')}={perf}\",\n",
    "            f\"{camel_case('strategy')}={strategy}\",\n",
    "            f\"var={var}\",\n",
    "            \n",
    "            # ----------------------------- boolean variables ---------------------------- #\n",
    "            f\"{camel_case('monotone')}={get_first_letter(monotone)}\",\n",
    "            f\"{camel_case('hk_only')}={get_first_letter(hk_only)}\",            \n",
    "            f\"inflate={get_first_letter(inflate)}\",            \n",
    "            f\"{get_acronym('use_adj_annual_prem')}={get_first_letter(use_adj_annual_prem)}\",\n",
    "            \n",
    "            # f\"{camel_case('y_name')}={get_acronym(y_name, to_upper=False)}\",\n",
    "            \n",
    "        ])\n",
    "# 'useA=T|useB=F|isGood=Bad|algos=[algo_1,algo_2]|UAAP=True|yName=lr|strategy=None'\n",
    "\n"
   ]
  },
  {
   "cell_type": "markdown",
   "metadata": {},
   "source": [
    "# regular expression"
   ]
  },
  {
   "cell_type": "code",
   "execution_count": 12,
   "metadata": {},
   "outputs": [
    {
     "name": "stdout",
     "output_type": "stream",
     "text": [
      "<re.Match object; span=(0, 5), match='Hello'>\n",
      "None\n",
      "<re.Match object; span=(25, 30), match='color'>\n",
      "<re.Match object; span=(0, 5), match='Hello'>\n",
      "['hello', 'hello_32423', 'hello_']\n"
     ]
    },
    {
     "data": {
      "text/plain": [
       "['color', 'colour']"
      ]
     },
     "execution_count": 12,
     "metadata": {},
     "output_type": "execute_result"
    },
    {
     "name": "stdout",
     "output_type": "stream",
     "text": [
      "<re.Match object; span=(25, 30), match='color'>\n",
      "<re.Match object; span=(59, 65), match='colour'>\n"
     ]
    },
    {
     "data": {
      "text/plain": [
       "'Hello, hello, my name is _REPLACE_. I am very good at math. my _REPLACE_ is red'"
      ]
     },
     "execution_count": 12,
     "metadata": {},
     "output_type": "execute_result"
    },
    {
     "name": "stdout",
     "output_type": "stream",
     "text": [
      "Hello, hello, my name is \n",
      ". I am very good at math. my \n",
      " is red\n"
     ]
    },
    {
     "data": {
      "text/plain": [
       "<re.Match object; span=(0, 12), match='Isaac Newton'>"
      ]
     },
     "execution_count": 12,
     "metadata": {},
     "output_type": "execute_result"
    },
    {
     "data": {
      "text/plain": [
       "'Isaac Newton'"
      ]
     },
     "execution_count": 12,
     "metadata": {},
     "output_type": "execute_result"
    },
    {
     "data": {
      "text/plain": [
       "'Isaac'"
      ]
     },
     "execution_count": 12,
     "metadata": {},
     "output_type": "execute_result"
    },
    {
     "data": {
      "text/plain": [
       "'Newton'"
      ]
     },
     "execution_count": 12,
     "metadata": {},
     "output_type": "execute_result"
    },
    {
     "data": {
      "text/plain": [
       "('Isaac', 'Newton')"
      ]
     },
     "execution_count": 12,
     "metadata": {},
     "output_type": "execute_result"
    },
    {
     "data": {
      "text/plain": [
       "('Isaac', 'Newton')"
      ]
     },
     "execution_count": 12,
     "metadata": {},
     "output_type": "execute_result"
    },
    {
     "data": {
      "text/plain": [
       "('24', '1632')"
      ]
     },
     "execution_count": 12,
     "metadata": {},
     "output_type": "execute_result"
    }
   ],
   "source": [
    "import re\n",
    "s = \"Hello, hello, my name is color. I am very good at math. my colour is red\"\n",
    "t = ['hello', 'hello_32423', 'hello_', 'eef_']\n",
    "pat_color = \"colo[u]?r\"\n",
    "\n",
    "# --------------------------------- re.match --------------------------------- #\n",
    "print(re.match(\"hell[oa]\", s, re.IGNORECASE)) # find the first match, and the match must start at the beginning!!\n",
    "# <re.Match object; span=(0, 5), match='Hello'>\n",
    "print(re.match(pat_color, s, re.IGNORECASE)) \n",
    "# None\n",
    "\n",
    "# --------------------------------- re.search -------------------------------- #\n",
    "print(re.search(pat_color, s, re.IGNORECASE)) # find the first match only\n",
    "# <re.Match object; span=(25, 30), match='color'>\n",
    "print(re.search(\"^Hell[oa]\", s, re.IGNORECASE)) # find the first match only\n",
    "# <re.Match object; span=(0, 5), match='Hello'>\n",
    "print([x for x in t if re.search('he', x)]) \n",
    "# ['hello', 'hello_32423', 'hello_']\n",
    "\n",
    "# -------------------------------- re.findall -------------------------------- #\n",
    "re.findall(pat_color, s, re.IGNORECASE)\n",
    "# ['color', 'colour']\n",
    "\n",
    "# -------------------------------- re.finditer ------------------------------- #\n",
    "for x in re.finditer(pat_color, s, re.IGNORECASE):\n",
    "    print(x) # x is a match object \n",
    "# <re.Match object; span=(25, 30), match='color'>\n",
    "# <re.Match object; span=(59, 65), match='colour'>\n",
    "\n",
    "# ---------------------------------- re.sub ---------------------------------- #\n",
    "re.sub(pat_color, \"_REPLACE_\", s, flags=re.I )\n",
    "# 'Hello, hello, my name is _REPLACE_. I am very good at math. my _REPLACE_ is red'\n",
    "\n",
    "for x in re.split(pat_color, s, re.IGNORECASE):\n",
    "    print(x)\n",
    "# Hello, hello, my name is \n",
    "# . I am very good at math. my \n",
    "#  is red\n",
    "\n",
    "# ------------------------------- match object ------------------------------- #\n",
    "m = re.match(r\"(\\w+) (\\w+)\", \"Isaac Newton, physicist\")\n",
    "m\n",
    "# <re.Match object; span=(0, 12), match='Isaac Newton'>\n",
    "\n",
    "m[0] # The entire match. # same as m.group(0)\n",
    "# 'Isaac Newton'\n",
    "m[1] # The first parenthesized subgroup. # same as m.group(1)\n",
    "# 'Isaac'\n",
    "m[2] # The second parenthesized subgroup. # same as m.group(2)\n",
    "# 'Newton'\n",
    "m.group(1, 2) # Multiple arguments give us a tuple.  # same as m.group(1, 2)\n",
    "# ('Isaac', 'Newton')\n",
    "\n",
    "m.groups() # return all groups \n",
    "# ('Isaac', 'Newton')\n",
    "\n",
    "m = re.match(r\"(\\d+)\\.(\\d+)\", \"24.1632\")\n",
    "m.groups() \n",
    "# ('24', '1632')"
   ]
  },
  {
   "cell_type": "markdown",
   "metadata": {},
   "source": [
    "# decorator "
   ]
  },
  {
   "cell_type": "code",
   "execution_count": 13,
   "metadata": {},
   "outputs": [],
   "source": [
    "import time\n",
    "def my_decorator(func):\n",
    "    def wrapper(*args, **kwargs):\n",
    "        print(\"Something is happening before the function is called.\")\n",
    "        print(f\"calling {func.__name__}\")\n",
    "        res = func(*args, **kwargs)\n",
    "        print(\"Something is happening after the function is called.\")\n",
    "        return res\n",
    "    return wrapper\n",
    "\n",
    "def time_func(f):\n",
    "    def wrapper(*args, **kwargs):\n",
    "        begin =time.time()\n",
    "        result=f(*args, **kwargs)\n",
    "        end=time.time()\n",
    "        print(f'function {f.__name__} with arguments {args} and {kwargs} takes {end-begin} seconds to execute. ')\n",
    "        return result\n",
    "    return wrapper\n",
    "\n",
    "def divide_decorator(f):\n",
    "    def wrapper(a,b):\n",
    "        if b==0: \n",
    "            print(f\"divisor can't be zero! Program terminating...\")\n",
    "            return None\n",
    "        print(f\"dividing {a} by {b}:\")\n",
    "        return f(a,b)\n",
    "    return wrapper"
   ]
  },
  {
   "cell_type": "code",
   "execution_count": 14,
   "metadata": {},
   "outputs": [
    {
     "name": "stdout",
     "output_type": "stream",
     "text": [
      "dividing 1 by 3:\n",
      "0.3333333333333333\n",
      "divisor can't be zero! Program terminating...\n",
      "None\n"
     ]
    }
   ],
   "source": [
    "@divide_decorator\n",
    "def divide(a,b):\n",
    "    return a/b\n",
    "# divide = divide_decorator(divide) # same as above\n",
    "\n",
    "print(divide(1,3)) \n",
    "print(divide(1,0))\n",
    "\n",
    "# @my_decorator\n",
    "# def hello(name, age):\n",
    "#     print(f\"Hello {name}! Your age is {age}\")\n",
    "\n",
    "# hello(\"joe\", 22)"
   ]
  },
  {
   "cell_type": "code",
   "execution_count": 15,
   "metadata": {},
   "outputs": [
    {
     "name": "stdout",
     "output_type": "stream",
     "text": [
      "function play with arguments () and {} takes 0.010008811950683594 seconds to execute. \n"
     ]
    }
   ],
   "source": [
    "# @my_decorator\n",
    "# def test():\n",
    "#     # print(\"calling test\")\n",
    "#     print(\"fff\")\n",
    "# test()\n",
    "\n",
    "\n",
    "@time_func\n",
    "def play():\n",
    "    for i in range(10**6):\n",
    "        pass\n",
    "\n",
    "play()"
   ]
  },
  {
   "cell_type": "markdown",
   "metadata": {},
   "source": [
    "## class decorator"
   ]
  },
  {
   "cell_type": "code",
   "execution_count": 16,
   "metadata": {},
   "outputs": [
    {
     "name": "stdout",
     "output_type": "stream",
     "text": [
      "<class 'method'>\n",
      "<class 'function'>\n",
      "<class 'method'>\n",
      "<class 'method'>\n",
      "<class '__main__.Dog'>\n",
      "Hello, I am <class '__main__.Dog'>!\n",
      "None\n",
      "<class '__main__.Dog'>\n",
      "Hello, I am <class '__main__.Dog'>!\n",
      "None\n"
     ]
    }
   ],
   "source": [
    "class Dog:\n",
    "    def play(self, name):\n",
    "        print(f'{self}! {name}')\n",
    "\n",
    "    @classmethod\n",
    "    def my_test(cls):\n",
    "        print(cls)\n",
    "        print(f\"Hello, I am {cls}!\")\n",
    "\n",
    "\n",
    "x = Dog()\n",
    "print(type(x.play))\n",
    "print(type(Dog.play))\n",
    "\n",
    "print(type(x.my_test))\n",
    "print(type(Dog.my_test))\n",
    "\n",
    "print(x.my_test())\n",
    "print(Dog.my_test())"
   ]
  },
  {
   "cell_type": "markdown",
   "metadata": {},
   "source": [
    "# datetime \n",
    "- for isoweekday: mon = 1, Sun = 7\n",
    "- for weekday: mon = 0, Sun = 6\n",
    "\n",
    "- timedelta: difference between two dates or times\n",
    "- date + timedelta => date\n",
    "- datetime + timedelta => datetime\n",
    "- date - date => timedelta\n",
    "- date + date => error\n",
    "- Remember, we have 4 main classes:\n",
    "    - datetime.date\n",
    "        - remember not to pass month as `04`. Just pass as `4`!\n",
    "    - datetime.time\n",
    "    - datetime.datetime\n",
    "    - datetime.timedelta\n",
    "- day of the week != day (in the month)\n",
    "- "
   ]
  },
  {
   "cell_type": "code",
   "execution_count": 17,
   "metadata": {},
   "outputs": [
    {
     "data": {
      "text/plain": [
       "datetime.datetime(2022, 5, 29, 11, 17, 18, 7493)"
      ]
     },
     "execution_count": 17,
     "metadata": {},
     "output_type": "execute_result"
    },
    {
     "data": {
      "text/plain": [
       "datetime.date(2022, 5, 29)"
      ]
     },
     "execution_count": 17,
     "metadata": {},
     "output_type": "execute_result"
    },
    {
     "data": {
      "text/plain": [
       "datetime.datetime(2022, 5, 29, 11, 17, 18)"
      ]
     },
     "execution_count": 17,
     "metadata": {},
     "output_type": "execute_result"
    },
    {
     "data": {
      "text/plain": [
       "datetime.date(2020, 1, 31)"
      ]
     },
     "execution_count": 17,
     "metadata": {},
     "output_type": "execute_result"
    },
    {
     "data": {
      "text/plain": [
       "datetime.datetime(2020, 1, 31, 0, 0)"
      ]
     },
     "execution_count": 17,
     "metadata": {},
     "output_type": "execute_result"
    },
    {
     "data": {
      "text/plain": [
       "datetime.datetime(2020, 1, 31, 14, 45, 37)"
      ]
     },
     "execution_count": 17,
     "metadata": {},
     "output_type": "execute_result"
    }
   ],
   "source": [
    "# Also if you want to append to file you must use -a parameter\n",
    "# alternative initializers\n",
    "now = datetime.datetime.now()\n",
    "today = datetime.date.today()\n",
    "now\n",
    "today\n",
    "cur_time = datetime.time(now.hour, now.minute, now.second)\n",
    "datetime.datetime.combine(today, cur_time)\n",
    "\n",
    "\n",
    "# alternatively, use `fromisoformat`\n",
    "datetime.date.fromisoformat(\"2020-01-31\")\n",
    "datetime.datetime.fromisoformat(\"2020-01-31\")\n",
    "\n",
    "date_string = \"01-31-2020 14:45:37\"\n",
    "format_string = \"%m-%d-%Y %H:%M:%S\"\n",
    "datetime.datetime.strptime(date_string, format_string)"
   ]
  },
  {
   "cell_type": "code",
   "execution_count": 18,
   "metadata": {},
   "outputs": [
    {
     "data": {
      "text/plain": [
       "datetime.date(2022, 5, 29)"
      ]
     },
     "execution_count": 18,
     "metadata": {},
     "output_type": "execute_result"
    },
    {
     "data": {
      "text/plain": [
       "datetime.date(2022, 11, 11)"
      ]
     },
     "execution_count": 18,
     "metadata": {},
     "output_type": "execute_result"
    },
    {
     "name": "stdout",
     "output_type": "stream",
     "text": [
      "d = datetime.date(2022, 2, 3)\n",
      "d.year = 2022\n",
      "d.month = 2\n",
      "d.day = 3\n",
      "d.isoformat() = '2022-02-03'\n",
      "d.weekday() = 3\n",
      "d.isoweekday() = 4\n",
      "d.isocalendar() = datetime.IsoCalendarDate(year=2022, week=5, weekday=4)\n",
      "d.strftime(\"%A\") = 'Thursday'\n"
     ]
    },
    {
     "data": {
      "text/plain": [
       "datetime.date(2022, 2, 10)"
      ]
     },
     "execution_count": 18,
     "metadata": {},
     "output_type": "execute_result"
    },
    {
     "data": {
      "text/plain": [
       "datetime.date(2022, 1, 27)"
      ]
     },
     "execution_count": 18,
     "metadata": {},
     "output_type": "execute_result"
    },
    {
     "name": "stdout",
     "output_type": "stream",
     "text": [
      "290 days, 0:00:00\n"
     ]
    },
    {
     "data": {
      "text/plain": [
       "290"
      ]
     },
     "execution_count": 18,
     "metadata": {},
     "output_type": "execute_result"
    },
    {
     "data": {
      "text/plain": [
       "datetime.timedelta(days=95)"
      ]
     },
     "execution_count": 18,
     "metadata": {},
     "output_type": "execute_result"
    }
   ],
   "source": [
    "# -------------------------------- date object ------------------------------- #\n",
    "# top-level functions \n",
    "datetime.date.today()\n",
    "datetime.date.fromisoformat(\"2022-11-11\")\n",
    "\n",
    "# constructor to create `date` object\n",
    "d = datetime.date(2022,2,3)\n",
    "print(f\"{d = }\")\n",
    "\n",
    "# date attributes\n",
    "print(f\"{d.year = }\")\n",
    "print(f\"{d.month = }\")\n",
    "print(f\"{d.day = }\")\n",
    "\n",
    "# date method\n",
    "print(f\"{d.isoformat() = }\")\n",
    "print(f\"{d.weekday() = }\")\n",
    "print(f\"{d.isoweekday() = }\")\n",
    "print(f\"{d.isocalendar() = }\")\n",
    "print(f'{d.strftime(\"%A\") = }') # get day name \n",
    "\n",
    "# d + 7 # error\n",
    "# d\n",
    "d + datetime.timedelta(7) # result is still a date object\n",
    "d - datetime.timedelta(7) # result is still a date object\n",
    "\n",
    "# how many dates from my birthday:\n",
    "til_bday = datetime.date(2023, 3, 15) - datetime.date.today()\n",
    "print(til_bday)\n",
    "til_bday.days # get the day component only of the timedelta object\n",
    "# how many days from 2022-09-01\n",
    "datetime.date(2022, 9, 1) - datetime.date.today()"
   ]
  },
  {
   "cell_type": "code",
   "execution_count": 19,
   "metadata": {},
   "outputs": [
    {
     "name": "stdout",
     "output_type": "stream",
     "text": [
      "dt.isoformat() = '2012-02-03T04:05:06.000007'\n",
      "dt.year = 2012\n",
      "dt.month = 2\n",
      "dt.day = 3\n",
      "dt.hour = 4\n",
      "dt.minute = 5\n",
      "dt.second = 6\n",
      "dt.microsecond = 7\n",
      "4\n",
      "5\n",
      "datetime.IsoCalendarDate(year=2012, week=5, weekday=5)\n",
      "Friday\n"
     ]
    },
    {
     "data": {
      "text/plain": [
       "datetime.datetime(2022, 5, 29, 11, 17, 18, 259217)"
      ]
     },
     "execution_count": 19,
     "metadata": {},
     "output_type": "execute_result"
    },
    {
     "data": {
      "text/plain": [
       "datetime.datetime(2022, 11, 11, 0, 0)"
      ]
     },
     "execution_count": 19,
     "metadata": {},
     "output_type": "execute_result"
    }
   ],
   "source": [
    "# -------------------------------- datetime object ------------------------------- #\n",
    "dt = datetime.datetime(2012,2,3,4,5,6,7)\n",
    "print(f\"{dt.isoformat() = }\")\n",
    "print(f\"{dt.year = }\")\n",
    "print(f\"{dt.month = }\")\n",
    "print(f\"{dt.day = }\")\n",
    "print(f\"{dt.hour = }\")\n",
    "print(f\"{dt.minute = }\")\n",
    "print(f\"{dt.second = }\")\n",
    "print(f\"{dt.microsecond = }\")\n",
    "\n",
    "print(dt.weekday())\n",
    "print(dt.isoweekday())\n",
    "print(dt.isocalendar())\n",
    "\n",
    "print(dt.strftime(\"%A\"))\n",
    "\n",
    "datetime.datetime.today()\n",
    "datetime.datetime.fromisoformat(\"2022-11-11\")"
   ]
  },
  {
   "cell_type": "code",
   "execution_count": 20,
   "metadata": {},
   "outputs": [
    {
     "data": {
      "text/plain": [
       "datetime.timedelta(days=64, seconds=29156, microseconds=10)"
      ]
     },
     "execution_count": 20,
     "metadata": {},
     "output_type": "execute_result"
    },
    {
     "data": {
      "text/plain": [
       "64"
      ]
     },
     "execution_count": 20,
     "metadata": {},
     "output_type": "execute_result"
    },
    {
     "data": {
      "text/plain": [
       "29156"
      ]
     },
     "execution_count": 20,
     "metadata": {},
     "output_type": "execute_result"
    },
    {
     "data": {
      "text/plain": [
       "10"
      ]
     },
     "execution_count": 20,
     "metadata": {},
     "output_type": "execute_result"
    },
    {
     "data": {
      "text/plain": [
       "5558756.00001"
      ]
     },
     "execution_count": 20,
     "metadata": {},
     "output_type": "execute_result"
    }
   ],
   "source": [
    "# --------------------------------- timedelta -------------------------------- #\n",
    "delta = datetime.timedelta(\n",
    "    days=50,\n",
    "    seconds=27,\n",
    "    microseconds=10,\n",
    "    milliseconds=29000,\n",
    "    minutes=5,\n",
    "    hours=8,\n",
    "    weeks=2\n",
    ")\n",
    "\n",
    "# the milliseconds etc will be converted to microseconds, etc\n",
    "delta # datetime.timedelta(days=64, seconds=29156, microseconds=10)\n",
    "delta.days\n",
    "delta.seconds\n",
    "delta.microseconds\n",
    "delta.total_seconds()"
   ]
  },
  {
   "cell_type": "code",
   "execution_count": 21,
   "metadata": {},
   "outputs": [
    {
     "data": {
      "text/plain": [
       "datetime.timedelta(days=64, seconds=29156, microseconds=10)"
      ]
     },
     "execution_count": 21,
     "metadata": {},
     "output_type": "execute_result"
    },
    {
     "data": {
      "text/plain": [
       "datetime.date(2022, 2, 3)"
      ]
     },
     "execution_count": 21,
     "metadata": {},
     "output_type": "execute_result"
    },
    {
     "data": {
      "text/plain": [
       "datetime.datetime(2012, 2, 3, 4, 5, 6, 7)"
      ]
     },
     "execution_count": 21,
     "metadata": {},
     "output_type": "execute_result"
    },
    {
     "data": {
      "text/plain": [
       "datetime.date"
      ]
     },
     "execution_count": 21,
     "metadata": {},
     "output_type": "execute_result"
    },
    {
     "data": {
      "text/plain": [
       "datetime.datetime"
      ]
     },
     "execution_count": 21,
     "metadata": {},
     "output_type": "execute_result"
    },
    {
     "data": {
      "text/plain": [
       "datetime.timedelta"
      ]
     },
     "execution_count": 21,
     "metadata": {},
     "output_type": "execute_result"
    },
    {
     "data": {
      "text/plain": [
       "datetime.timedelta"
      ]
     },
     "execution_count": 21,
     "metadata": {},
     "output_type": "execute_result"
    },
    {
     "data": {
      "text/plain": [
       "datetime.timedelta"
      ]
     },
     "execution_count": 21,
     "metadata": {},
     "output_type": "execute_result"
    },
    {
     "data": {
      "text/plain": [
       "datetime.timedelta(days=290)"
      ]
     },
     "execution_count": 21,
     "metadata": {},
     "output_type": "execute_result"
    }
   ],
   "source": [
    "# ----------------------------- timedelta object ----------------------------- #\n",
    "delta # datetime.timedelta(days=64, seconds=29156, microseconds=10)\n",
    "d # datetime.date(2022, 2, 3)\n",
    "dt # datetime.datetime(2012, 2, 3, 4, 5, 6, 7)\n",
    "type(delta + d) # datetime.date\n",
    "type(delta + dt) # datetime.datetime\n",
    "type(delta+delta) # datetime.timedelta\n",
    "type(d-d) # datetime.timedelta\n",
    "type(dt-dt) # datetime.timedelta\n",
    "\n",
    "bday = datetime.date(2023, 3, 15)\n",
    "bday - datetime.date.today() # datetime.timedelta(days=317)"
   ]
  },
  {
   "cell_type": "code",
   "execution_count": 22,
   "metadata": {},
   "outputs": [
    {
     "data": {
      "text/plain": [
       "'May 29, 2022'"
      ]
     },
     "execution_count": 22,
     "metadata": {},
     "output_type": "execute_result"
    },
    {
     "data": {
      "text/plain": [
       "datetime.datetime(2022, 5, 29, 0, 0)"
      ]
     },
     "execution_count": 22,
     "metadata": {},
     "output_type": "execute_result"
    }
   ],
   "source": [
    "# --------------------------- strftime and strptime -------------------------- #\n",
    "# strftime => f means format. Datetime to String\n",
    "# strptime => p means parse. String to Datetime\n",
    "t = datetime.datetime.now()\n",
    "ftime = t.strftime('%B %d, %Y') # format a time\n",
    "ftime\n",
    "datetime.datetime.strptime(ftime, '%B %d, %Y') # parse a time"
   ]
  },
  {
   "cell_type": "markdown",
   "metadata": {},
   "source": [
    "# function annotation"
   ]
  },
  {
   "cell_type": "code",
   "execution_count": 23,
   "metadata": {},
   "outputs": [
    {
     "name": "stdout",
     "output_type": "stream",
     "text": [
      "{'a': 'b'}\n"
     ]
    }
   ],
   "source": [
    "from typing import List, Dict, Optional, Any, Sequence # note the capital letter!!\n",
    "# y: list[list[int]] = []\n",
    "\n",
    "dataframe = pd.DataFrame\n",
    "array = np.ndarray\n",
    "\n",
    "\n",
    "# y: np.ndarray[int] =[1,2,3]\n",
    "\n",
    "# [[1,2,3],[4,5,6]]\n",
    "y: List[List[int]] = [] # version <3.9\n",
    "y: list[list[int]] = [] # version >=3.9\n",
    "y: dict[str,str] = {'a':'b'}\n",
    "y: Dict[str,str] = {'a':'b'}\n",
    "\n",
    "\n",
    "\n",
    "\n",
    "\n",
    "print(y)\n",
    "\n",
    "\n",
    "y: pd.DataFrame = [1,2,3]\n",
    "y: pd.Series = [1,2,3]\n",
    "y: list =[1,2,3]\n",
    "y:list[dataframe]=[5.6]\n",
    " \n",
    "\n",
    "\n",
    "\n",
    "def f1(y: Optional[dataframe] = None) -> int:\n",
    "    \"\"\"_summary_\n",
    "\n",
    "    Args:\n",
    "        y (Optional[dataframe], optional): _description_. Defaults to None.\n",
    "\n",
    "    Returns:\n",
    "        int: _description_\n",
    "    \"\"\"\n",
    "    pass\n",
    "\n",
    "def f2(y: dataframe = None) -> int:\n",
    "    \"\"\"_summary_\n",
    "\n",
    "    Args:\n",
    "        y (dataframe, optional): _description_. Defaults to None.\n",
    "\n",
    "    Returns:\n",
    "        int: _description_\n",
    "    \"\"\"\n",
    "    pass\n",
    "\n",
    "\n",
    "def f3(y: tuple[int]=(1,2,3,4,5)):\n",
    "    pass\n",
    "\n",
    "\n",
    "\n",
    "\n"
   ]
  }
 ],
 "metadata": {
  "interpreter": {
   "hash": "ae74f9feb07f97b665e59d852dca9947bf3c6be9bdf551f43d711a8fd00af3ab"
  },
  "kernelspec": {
   "display_name": "Python 3.9.7 ('data_science')",
   "language": "python",
   "name": "python3"
  },
  "language_info": {
   "codemirror_mode": {
    "name": "ipython",
    "version": 3
   },
   "file_extension": ".py",
   "mimetype": "text/x-python",
   "name": "python",
   "nbconvert_exporter": "python",
   "pygments_lexer": "ipython3",
   "version": "3.10.4"
  },
  "orig_nbformat": 4
 },
 "nbformat": 4,
 "nbformat_minor": 2
}
