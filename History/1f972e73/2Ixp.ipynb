{
 "cells": [
  {
   "cell_type": "markdown",
   "metadata": {},
   "source": [
    "# comments\n",
    "- the imputation has problem: impute by `age_group` and `gender`, but some entries of these two are NA...\n",
    "- "
   ]
  },
  {
   "cell_type": "code",
   "execution_count": 43,
   "metadata": {},
   "outputs": [],
   "source": [
    "import numpy as np\n",
    "import pandas as pd\n",
    "pd.set_option('display.max_rows',85)\n",
    "pd.set_option('display.max_columns',85)\n",
    "from sklearn.linear_model import LinearRegression\n",
    "import matplotlib.pyplot as plt\n",
    "from IPython.core.interactiveshell import InteractiveShell; InteractiveShell.ast_node_interactivity = \"all\"\n",
    "from ds_utils.ds_preamble import *\n",
    "from ds_utils.ds_plotting import *\n",
    "from ds_utils.ds_helper import *"
   ]
  },
  {
   "cell_type": "code",
   "execution_count": 44,
   "metadata": {},
   "outputs": [
    {
     "data": {
      "text/plain": [
       "'1.4.0'"
      ]
     },
     "execution_count": 44,
     "metadata": {},
     "output_type": "execute_result"
    }
   ],
   "source": [
    "pd.__version__"
   ]
  },
  {
   "cell_type": "code",
   "execution_count": 45,
   "metadata": {},
   "outputs": [
    {
     "name": "stdout",
     "output_type": "stream",
     "text": [
      "<class 'pandas.core.frame.DataFrame'>\n",
      "RangeIndex: 41188 entries, 0 to 41187\n",
      "Data columns (total 25 columns):\n",
      " #   Column          Non-Null Count  Dtype  \n",
      "---  ------          --------------  -----  \n",
      " 0   age             41188 non-null  int64  \n",
      " 1   job             40858 non-null  object \n",
      " 2   marital         41188 non-null  object \n",
      " 3   education       39457 non-null  object \n",
      " 4   default         32591 non-null  object \n",
      " 5   housing         40198 non-null  object \n",
      " 6   loan            41188 non-null  object \n",
      " 7   contact         41188 non-null  object \n",
      " 8   month           41188 non-null  object \n",
      " 9   day_of_week     41188 non-null  object \n",
      " 10  campaign        41188 non-null  int64  \n",
      " 11  pdays           41188 non-null  int64  \n",
      " 12  previous        41188 non-null  int64  \n",
      " 13  poutcome        41188 non-null  object \n",
      " 14  emp.var.rate    41188 non-null  float64\n",
      " 15  cons.price.idx  41188 non-null  float64\n",
      " 16  cons.conf.idx   41188 non-null  float64\n",
      " 17  euribor3m       41188 non-null  float64\n",
      " 18  nr.employed     41188 non-null  float64\n",
      " 19  y               41188 non-null  object \n",
      " 20  gender          41188 non-null  object \n",
      " 21  balance         40037 non-null  object \n",
      " 22  income_yr1      41188 non-null  float64\n",
      " 23  income_yr2      39911 non-null  float64\n",
      " 24  income_yr3      38684 non-null  float64\n",
      "dtypes: float64(8), int64(4), object(13)\n",
      "memory usage: 7.9+ MB\n"
     ]
    },
    {
     "data": {
      "text/plain": [
       "age                 int64\n",
       "job                object\n",
       "marital            object\n",
       "education          object\n",
       "default            object\n",
       "housing            object\n",
       "loan               object\n",
       "contact            object\n",
       "month              object\n",
       "day_of_week        object\n",
       "campaign            int64\n",
       "pdays               int64\n",
       "previous            int64\n",
       "poutcome           object\n",
       "emp.var.rate      float64\n",
       "cons.price.idx    float64\n",
       "cons.conf.idx     float64\n",
       "euribor3m         float64\n",
       "nr.employed       float64\n",
       "y                  object\n",
       "gender             object\n",
       "balance            object\n",
       "income_yr1        float64\n",
       "income_yr2        float64\n",
       "income_yr3        float64\n",
       "dtype: object"
      ]
     },
     "execution_count": 45,
     "metadata": {},
     "output_type": "execute_result"
    }
   ],
   "source": [
    "df= pd.read_csv(\"bank_data.csv\")\n",
    "df.info()\n",
    "df.dtypes\n",
    "\n"
   ]
  },
  {
   "cell_type": "code",
   "execution_count": 46,
   "metadata": {},
   "outputs": [
    {
     "data": {
      "text/plain": [
       "0        [51.0, 61.0)\n",
       "1        [51.0, 61.0)\n",
       "2        [31.0, 41.0)\n",
       "3        [31.0, 41.0)\n",
       "4        [51.0, 61.0)\n",
       "             ...     \n",
       "41183     [61.0, inf)\n",
       "41184    [41.0, 51.0)\n",
       "41185    [51.0, 61.0)\n",
       "41186    [41.0, 51.0)\n",
       "41187     [61.0, inf)\n",
       "Name: age, Length: 41188, dtype: category\n",
       "Categories (5, interval[float64, left]): [[18.0, 31.0) < [31.0, 41.0) < [41.0, 51.0) < [51.0, 61.0) < [61.0, inf)]"
      ]
     },
     "execution_count": 46,
     "metadata": {},
     "output_type": "execute_result"
    }
   ],
   "source": [
    "pd.cut(df.age, [18,31,41,51,61,np.inf], right=False)\n",
    "df['age_group'] = pd.cut(df.age, [18,31,41,51,61,np.inf], right=False)"
   ]
  },
  {
   "cell_type": "code",
   "execution_count": 47,
   "metadata": {},
   "outputs": [],
   "source": [
    "df['income'] = df.filter(regex=r'income_yr[1-3]').mean(axis=1)"
   ]
  },
  {
   "cell_type": "code",
   "execution_count": 48,
   "metadata": {},
   "outputs": [
    {
     "data": {
      "text/plain": [
       "0      2143 USD\n",
       "1          29US\n",
       "2       2.0 HKD\n",
       "3           NaN\n",
       "4          1 US\n",
       "5         231HK\n",
       "6       447 HKD\n",
       "7           NaN\n",
       "8        121 US\n",
       "9        593 HK\n",
       "10       270HKD\n",
       "11       390 US\n",
       "12        6 Usd\n",
       "13         HK71\n",
       "14        162US\n",
       "15      229 HKD\n",
       "16     13.0 USD\n",
       "17        HK 52\n",
       "18         HK60\n",
       "19         0 HK\n",
       "20      723 HKD\n",
       "21       779 HK\n",
       "22       23 HKD\n",
       "23        50Usd\n",
       "24         0USD\n",
       "25       HK-372\n",
       "26       HKD255\n",
       "27      Usd 113\n",
       "28      HK -246\n",
       "29      265 HKD\n",
       "30      839 USD\n",
       "31        378US\n",
       "32        39Usd\n",
       "33          0US\n",
       "34    USD 10635\n",
       "35       Usd 63\n",
       "36        -7 US\n",
       "37        -3Usd\n",
       "38       HKD506\n",
       "39         0 HK\n",
       "40      2586 US\n",
       "41        49USD\n",
       "42        104US\n",
       "43       529 US\n",
       "44         HK96\n",
       "45      -171 HK\n",
       "46     -364 USD\n",
       "47        0 Usd\n",
       "48         0Usd\n",
       "49        0 HKD\n",
       "Name: balance, dtype: object"
      ]
     },
     "execution_count": 48,
     "metadata": {},
     "output_type": "execute_result"
    }
   ],
   "source": [
    "df.balance[:50]"
   ]
  },
  {
   "cell_type": "code",
   "execution_count": 49,
   "metadata": {},
   "outputs": [],
   "source": [
    "# df.balance.str.upper().str.extract('([A-Z]+)?\\s*(-?\\d+\\.?\\d*)\\s*([A-Z]+)?')"
   ]
  },
  {
   "cell_type": "code",
   "execution_count": 50,
   "metadata": {},
   "outputs": [
    {
     "name": "stderr",
     "output_type": "stream",
     "text": [
      "/var/folders/c2/yj8ksjmn34v5f9csr1s82d8r0000gn/T/ipykernel_71647/2263547399.py:4: UserWarning: This pattern is interpreted as a regular expression, and has match groups. To actually get the groups, use str.extract.\n",
      "  t2.str.contains(\"(US)|(HK)|(nan)\").all()\n"
     ]
    },
    {
     "data": {
      "text/plain": [
       "True"
      ]
     },
     "execution_count": 50,
     "metadata": {},
     "output_type": "execute_result"
    },
    {
     "name": "stderr",
     "output_type": "stream",
     "text": [
      "/var/folders/c2/yj8ksjmn34v5f9csr1s82d8r0000gn/T/ipykernel_71647/2263547399.py:9: UserWarning: This pattern is interpreted as a regular expression, and has match groups. To actually get the groups, use str.extract.\n",
      "  df['balance'] = t1.where(~t2.str.contains(\"(US)\"), t1*7.8)\n"
     ]
    }
   ],
   "source": [
    "# temp = pd.concat([df.balance.str.extract('(-?\\d+\\.?\\d*)').astype(float), df.balance.str.upper().str.extract('([a-zA-Z]+)').astype(str)], axis=1)\n",
    "t1 = df.balance.str.extract('(-?\\d+\\.?\\d*)').astype(float)[0]\n",
    "t2 = df.balance.str.upper().str.extract('([a-zA-Z]+)').astype(str)[0]\n",
    "t2.str.contains(\"(US)|(HK)|(nan)\").all()\n",
    "\n",
    "# t1\n",
    "# t2\n",
    "# t1.where(~t2.str.contains(\"(US)\"), t1*7.8)\n",
    "df['balance'] = t1.where(~t2.str.contains(\"(US)\"), t1*7.8)\n",
    "# (t1*7.8).where(t2.str.contains(\"(US)\"), t1)\n",
    "# np.where(t2.str.contains(\"(US)\"), t1*7.8, t1)\n",
    "\n",
    "\n",
    "# df['balance'] = np.where(t2.str.contains(\"(US)\"), t1*7.8, t1)\n",
    "\n",
    "\n",
    "\n",
    "# pd.Series(np.where(t2.str.contains(\"(US)\"), t1*7.8, t1))\n",
    "\n",
    "\n",
    "# t1[:30]\n",
    "# t1\n",
    "\n",
    "# t1 * 7.8\n",
    "\n",
    "# t3\n",
    "\n",
    "\n",
    "# t1[t3] = t1[t3]*7.8\n"
   ]
  },
  {
   "cell_type": "code",
   "execution_count": 51,
   "metadata": {},
   "outputs": [
    {
     "data": {
      "text/plain": [
       "0"
      ]
     },
     "execution_count": 51,
     "metadata": {},
     "output_type": "execute_result"
    },
    {
     "data": {
      "text/plain": [
       "5"
      ]
     },
     "execution_count": 51,
     "metadata": {},
     "output_type": "execute_result"
    }
   ],
   "source": [
    "t1 = df.groupby(['age_group','gender']).balance.transform('median')\n",
    "t2 = df.groupby(['age_group','gender']).balance.transform(lambda s: s.fillna(s.median()))\n",
    "df.balance.fillna(t1).isna().sum()\n",
    "df['balance'] = t2\n",
    "df.balance.isna().sum() # still have some NA..."
   ]
  },
  {
   "cell_type": "code",
   "execution_count": 52,
   "metadata": {},
   "outputs": [],
   "source": [
    "# df.shape\n",
    "df['income'] = df.groupby('education').income.transform(lambda s: s.fillna(s.median))"
   ]
  },
  {
   "cell_type": "code",
   "execution_count": 67,
   "metadata": {},
   "outputs": [
    {
     "data": {
      "text/plain": [
       "0         no\n",
       "2         no\n",
       "3         no\n",
       "4         no\n",
       "6         no\n",
       "        ... \n",
       "41182     no\n",
       "41183    yes\n",
       "41184     no\n",
       "41185     no\n",
       "41186    yes\n",
       "Name: y, Length: 28692, dtype: object"
      ]
     },
     "execution_count": 67,
     "metadata": {},
     "output_type": "execute_result"
    }
   ],
   "source": [
    "df=df.dropna()"
   ]
  },
  {
   "cell_type": "code",
   "execution_count": 68,
   "metadata": {},
   "outputs": [
    {
     "data": {
      "text/plain": [
       "0         no\n",
       "2         no\n",
       "3         no\n",
       "4         no\n",
       "6         no\n",
       "        ... \n",
       "41182     no\n",
       "41183    yes\n",
       "41184     no\n",
       "41185     no\n",
       "41186    yes\n",
       "Name: y, Length: 28692, dtype: object"
      ]
     },
     "execution_count": 68,
     "metadata": {},
     "output_type": "execute_result"
    },
    {
     "data": {
      "text/plain": [
       "0.8847839075881299"
      ]
     },
     "execution_count": 68,
     "metadata": {},
     "output_type": "execute_result"
    },
    {
     "data": {
      "text/plain": [
       "0.8866171003717472"
      ]
     },
     "execution_count": 68,
     "metadata": {},
     "output_type": "execute_result"
    },
    {
     "data": {
      "text/plain": [
       "0.34759358288770054"
      ]
     },
     "execution_count": 68,
     "metadata": {},
     "output_type": "execute_result"
    },
    {
     "data": {
      "text/plain": [
       "0.23701002734731086"
      ]
     },
     "execution_count": 68,
     "metadata": {},
     "output_type": "execute_result"
    },
    {
     "data": {
      "text/plain": [
       "0.6516290726817042"
      ]
     },
     "execution_count": 68,
     "metadata": {},
     "output_type": "execute_result"
    }
   ],
   "source": [
    "X=df.drop(columns='y')\n",
    "y=df.y\n",
    "y\n",
    "y = y.replace({'yes':1, 'no':0})\n",
    "# # df.info()\n",
    "X = pd.get_dummies(X)\n",
    "\n",
    "\n",
    "X_train, X_test, y_train, y_test = train_test_split(X,y, test_size=0.3, random_state=123)\n",
    "\n",
    "model = LogisticRegression().fit(X_train,y_train)\n",
    "model.score(X_train,y_train)\n",
    "model.score(X_test,y_test)\n",
    "y_pred = model.predict(X_test)\n",
    "\n",
    "f1_score(y_test, y_pred)\n",
    "recall_score(y_test, y_pred)\n",
    "precision_score(y_test, y_pred)\n",
    "\n",
    "\n",
    "# sns.relplot(x=y_test, y=y_pred, kind='scatter').set(ylabel='predicted', xlabel='true')\n",
    "# sns.relplot(x=y_train, y=model.predict(X_train), kind='scatter').set(ylabel='predicted', xlabel='true')"
   ]
  },
  {
   "cell_type": "markdown",
   "metadata": {},
   "source": [
    "# temp code"
   ]
  },
  {
   "cell_type": "code",
   "execution_count": 15,
   "metadata": {},
   "outputs": [
    {
     "data": {
      "text/plain": [
       "(41188, 27)"
      ]
     },
     "execution_count": 15,
     "metadata": {},
     "output_type": "execute_result"
    },
    {
     "data": {
      "text/plain": [
       "(41188,)"
      ]
     },
     "execution_count": 15,
     "metadata": {},
     "output_type": "execute_result"
    },
    {
     "data": {
      "text/plain": [
       "(41188,)"
      ]
     },
     "execution_count": 15,
     "metadata": {},
     "output_type": "execute_result"
    },
    {
     "data": {
      "text/plain": [
       "Int64Index([37140, 37539, 37558, 37579, 38274], dtype='int64')"
      ]
     },
     "execution_count": 15,
     "metadata": {},
     "output_type": "execute_result"
    }
   ],
   "source": [
    "s1 = df.balance.fillna(df.groupby(['age_group','gender']).balance.transform('median'))\n",
    "\n",
    "\n",
    "df.shape\n",
    "df.balance.shape\n",
    "df.balance.fillna(df.groupby(['age_group','gender']).balance.transform('median')).shape\n",
    "\n",
    "\n",
    "pd.Index(range(41188)).difference(df.groupby(['age_group','gender']).balance.transform(lambda s: s.fillna(s.median())).index)\n",
    "\n",
    "# df.balance[37140]\n",
    "\n",
    "\n",
    "# s2 = df.groupby(['age_group','gender']).balance.transform(lambda s: s.fillna(s.median()))\n",
    "\n",
    "# s1.equals(s2)\n",
    "# np.allclose(s1,s2)"
   ]
  }
 ],
 "metadata": {
  "interpreter": {
   "hash": "ae74f9feb07f97b665e59d852dca9947bf3c6be9bdf551f43d711a8fd00af3ab"
  },
  "kernelspec": {
   "display_name": "Python 3.9.7 64-bit ('data_science': conda)",
   "language": "python",
   "name": "python3"
  },
  "language_info": {
   "codemirror_mode": {
    "name": "ipython",
    "version": 3
   },
   "file_extension": ".py",
   "mimetype": "text/x-python",
   "name": "python",
   "nbconvert_exporter": "python",
   "pygments_lexer": "ipython3",
   "version": "3.9.7"
  },
  "orig_nbformat": 4
 },
 "nbformat": 4,
 "nbformat_minor": 2
}
