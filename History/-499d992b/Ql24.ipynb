{
 "cells": [
  {
   "cell_type": "code",
   "execution_count": 252,
   "metadata": {},
   "outputs": [],
   "source": [
    "from ds_utils.ds_preamble import *\n",
    "from ds_utils.ds_plotting import *\n",
    "from ds_utils.ds_helper import *\n",
    "import re"
   ]
  },
  {
   "cell_type": "code",
   "execution_count": 253,
   "metadata": {},
   "outputs": [
    {
     "name": "stdout",
     "output_type": "stream",
     "text": [
      "<class 'pandas.core.frame.DataFrame'>\n",
      "RangeIndex: 66836 entries, 0 to 66835\n",
      "Data columns (total 31 columns):\n",
      " #   Column          Non-Null Count  Dtype  \n",
      "---  ------          --------------  -----  \n",
      " 0   contract_no     66836 non-null  int64  \n",
      " 1   ins_idn         66836 non-null  int64  \n",
      " 2   age_5           66836 non-null  int64  \n",
      " 3   gender          66836 non-null  object \n",
      " 4   is_smoker       66836 non-null  int64  \n",
      " 5   weight          64237 non-null  object \n",
      " 6   height          64813 non-null  object \n",
      " 7   occ_life_cover  65910 non-null  object \n",
      " 8   g_self_v1       66135 non-null  float64\n",
      " 9   g_self_v2       66130 non-null  float64\n",
      " 10  g_self_v3       66068 non-null  float64\n",
      " 11  g_self_v4       66085 non-null  float64\n",
      " 12  g_self_v5       66135 non-null  float64\n",
      " 13  g_self_v6       66102 non-null  float64\n",
      " 14  g_self_v7       66130 non-null  float64\n",
      " 15  g_self_v8       66150 non-null  float64\n",
      " 16  m_exam_v1_i     9249 non-null   float64\n",
      " 17  m_exam_v2_i     9238 non-null   float64\n",
      " 18  m_exam_v3_i     9243 non-null   float64\n",
      " 19  m_exam_v4_i     9266 non-null   float64\n",
      " 20  m_exam_v5_i     9239 non-null   float64\n",
      " 21  m_exam_v6_i     9254 non-null   float64\n",
      " 22  m_exam_v9_cm    9248 non-null   float64\n",
      " 23  m_exam_v10_cm   9237 non-null   float64\n",
      " 24  m_exam_v7_1     9236 non-null   float64\n",
      " 25  m_exam_v7_2     4627 non-null   float64\n",
      " 26  m_exam_v7_3     2357 non-null   float64\n",
      " 27  m_exam_v8_1     9249 non-null   float64\n",
      " 28  m_exam_v8_2     4628 non-null   float64\n",
      " 29  m_exam_v8_3     2362 non-null   float64\n",
      " 30  decision        66836 non-null  object \n",
      "dtypes: float64(22), int64(4), object(5)\n",
      "memory usage: 15.8+ MB\n"
     ]
    }
   ],
   "source": [
    "df = pd.read_csv('mdata.csv')\n",
    "df.info()"
   ]
  },
  {
   "cell_type": "code",
   "execution_count": null,
   "metadata": {},
   "outputs": [],
   "source": [
    "df.query(weight.notna())"
   ]
  },
  {
   "cell_type": "code",
   "execution_count": 177,
   "metadata": {},
   "outputs": [
    {
     "data": {
      "text/plain": [
       "std        57479\n",
       "substd      6015\n",
       "decline     3342\n",
       "Name: decision, dtype: int64"
      ]
     },
     "execution_count": 177,
     "metadata": {},
     "output_type": "execute_result"
    }
   ],
   "source": [
    "df.decision.value_counts()"
   ]
  },
  {
   "cell_type": "code",
   "execution_count": null,
   "metadata": {},
   "outputs": [],
   "source": []
  },
  {
   "cell_type": "code",
   "execution_count": 178,
   "metadata": {},
   "outputs": [
    {
     "data": {
      "text/plain": [
       "g_self_v1         float64\n",
       "age_5               int64\n",
       "occ_life_cover     object\n",
       "dtype: object"
      ]
     },
     "execution_count": 178,
     "metadata": {},
     "output_type": "execute_result"
    }
   ],
   "source": [
    "df[['g_self_v1','age_5','occ_life_cover']].dtypes"
   ]
  },
  {
   "cell_type": "code",
   "execution_count": 179,
   "metadata": {},
   "outputs": [
    {
     "data": {
      "text/plain": [
       "[None]"
      ]
     },
     "execution_count": 179,
     "metadata": {},
     "output_type": "execute_result"
    },
    {
     "data": {
      "image/png": "[encoded data removed]",
      "text/plain": [
       "<Figure size 576x360 with 1 Axes>"
      ]
     },
     "metadata": {},
     "output_type": "display_data"
    }
   ],
   "source": [
    "# sns.countplot(data=df, x='decision').set(yscale='log')\n",
    "sns.countplot(data=df, hue='decision', x='age_5').set(yscale='log')\n",
    "# sns.countplot(data=df, x='decision', hue='age_5')"
   ]
  },
  {
   "cell_type": "code",
   "execution_count": 180,
   "metadata": {},
   "outputs": [
    {
     "data": {
      "text/plain": [
       "21       NaN\n",
       "35       NaN\n",
       "39       NaN\n",
       "45       NaN\n",
       "57       NaN\n",
       "        ... \n",
       "66764    NaN\n",
       "66780    NaN\n",
       "66812    NaN\n",
       "66823    NaN\n",
       "66830    NaN\n",
       "Name: weight, Length: 2599, dtype: object"
      ]
     },
     "execution_count": 180,
     "metadata": {},
     "output_type": "execute_result"
    },
    {
     "data": {
      "text/plain": [
       "0       160.6 lbs\n",
       "1          64.4KG\n",
       "2         58.1 kg\n",
       "3          56.6Kg\n",
       "4        69.9 kg \n",
       "5         54.7 KG\n",
       "6       140.36Lbs\n",
       "7      162.58 Lbs\n",
       "8      141.02 Lbs\n",
       "9      148.28lbs \n",
       "10        74.8KG \n",
       "11        51.7 kg\n",
       "12      150.04Lbs\n",
       "13         176lbs\n",
       "14       65.2 kg \n",
       "15        64.9 Kg\n",
       "16        56.6kg \n",
       "17        64.4kg \n",
       "18      147.18lbs\n",
       "19    148.94 lbs \n",
       "20         65 kg \n",
       "21            NaN\n",
       "22      166.54lbs\n",
       "23      135.08LBS\n",
       "24     110.66LBS \n",
       "25        165Lbs \n",
       "26        51.4kg \n",
       "27      108.9 lbs\n",
       "28       61.9 kg \n",
       "29     101.86 Lbs\n",
       "Name: weight, dtype: object"
      ]
     },
     "execution_count": 180,
     "metadata": {},
     "output_type": "execute_result"
    }
   ],
   "source": [
    "df.weight[df.weight.isna()]\n",
    "df.weight[:30]"
   ]
  },
  {
   "cell_type": "code",
   "execution_count": 181,
   "metadata": {},
   "outputs": [
    {
     "data": {
      "text/plain": [
       "0          160.6 lbs\n",
       "1             64.4KG\n",
       "2            58.1 kg\n",
       "3             56.6Kg\n",
       "4           69.9 kg \n",
       "            ...     \n",
       "66831     139.48 lbs\n",
       "66832     147.84LBS \n",
       "66833       119.9LBS\n",
       "66834    143.22 lbs \n",
       "66835     132.66 Lbs\n",
       "Name: weight, Length: 66836, dtype: object"
      ]
     },
     "execution_count": 181,
     "metadata": {},
     "output_type": "execute_result"
    },
    {
     "data": {
      "text/plain": [
       "2599"
      ]
     },
     "execution_count": 181,
     "metadata": {},
     "output_type": "execute_result"
    }
   ],
   "source": [
    "# df.weight.sample(50)\n",
    "df.weight\n",
    "t1 = df.weight.str.extract(r'(\\d+\\.?\\d*)')[0].astype(float)\n",
    "# t1[:30]\n",
    "# t1[t1.isna()]\n",
    "\n",
    "t2 = df.weight.str.contains(r'lb', case=False)\n",
    "# t2\n",
    "\n",
    "df['weight'] = np.where(t2, t1*0.453592, t1)\n",
    "df.weight.isna().sum()"
   ]
  },
  {
   "cell_type": "code",
   "execution_count": 182,
   "metadata": {},
   "outputs": [
    {
     "data": {
      "text/plain": [
       "0        170.20\n",
       "1        168.10\n",
       "2           NaN\n",
       "3        158.10\n",
       "4         64.09\n",
       "          ...  \n",
       "66831     65.43\n",
       "66832    174.60\n",
       "66833     70.00\n",
       "66834     65.71\n",
       "66835     63.31\n",
       "Name: 0, Length: 66836, dtype: float64"
      ]
     },
     "execution_count": 182,
     "metadata": {},
     "output_type": "execute_result"
    },
    {
     "data": {
      "text/html": [
       "<div>\n",
       "<style scoped>\n",
       "    .dataframe tbody tr th:only-of-type {\n",
       "        vertical-align: middle;\n",
       "    }\n",
       "\n",
       "    .dataframe tbody tr th {\n",
       "        vertical-align: top;\n",
       "    }\n",
       "\n",
       "    .dataframe thead th {\n",
       "        text-align: right;\n",
       "    }\n",
       "</style>\n",
       "<table border=\"1\" class=\"dataframe\">\n",
       "  <thead>\n",
       "    <tr style=\"text-align: right;\">\n",
       "      <th></th>\n",
       "      <th>m</th>\n",
       "      <th>cm</th>\n",
       "      <th>in</th>\n",
       "    </tr>\n",
       "  </thead>\n",
       "  <tbody>\n",
       "    <tr>\n",
       "      <th>0</th>\n",
       "      <td>NaN</td>\n",
       "      <td>Cm</td>\n",
       "      <td>NaN</td>\n",
       "    </tr>\n",
       "    <tr>\n",
       "      <th>1</th>\n",
       "      <td>NaN</td>\n",
       "      <td>cm</td>\n",
       "      <td>NaN</td>\n",
       "    </tr>\n",
       "    <tr>\n",
       "      <th>2</th>\n",
       "      <td>NaN</td>\n",
       "      <td>NaN</td>\n",
       "      <td>NaN</td>\n",
       "    </tr>\n",
       "    <tr>\n",
       "      <th>3</th>\n",
       "      <td>NaN</td>\n",
       "      <td>Cm</td>\n",
       "      <td>NaN</td>\n",
       "    </tr>\n",
       "    <tr>\n",
       "      <th>4</th>\n",
       "      <td>NaN</td>\n",
       "      <td>NaN</td>\n",
       "      <td>In</td>\n",
       "    </tr>\n",
       "    <tr>\n",
       "      <th>...</th>\n",
       "      <td>...</td>\n",
       "      <td>...</td>\n",
       "      <td>...</td>\n",
       "    </tr>\n",
       "    <tr>\n",
       "      <th>66831</th>\n",
       "      <td>NaN</td>\n",
       "      <td>NaN</td>\n",
       "      <td>IN</td>\n",
       "    </tr>\n",
       "    <tr>\n",
       "      <th>66832</th>\n",
       "      <td>NaN</td>\n",
       "      <td>cm</td>\n",
       "      <td>NaN</td>\n",
       "    </tr>\n",
       "    <tr>\n",
       "      <th>66833</th>\n",
       "      <td>NaN</td>\n",
       "      <td>NaN</td>\n",
       "      <td>IN</td>\n",
       "    </tr>\n",
       "    <tr>\n",
       "      <th>66834</th>\n",
       "      <td>NaN</td>\n",
       "      <td>NaN</td>\n",
       "      <td>In</td>\n",
       "    </tr>\n",
       "    <tr>\n",
       "      <th>66835</th>\n",
       "      <td>NaN</td>\n",
       "      <td>NaN</td>\n",
       "      <td>In</td>\n",
       "    </tr>\n",
       "  </tbody>\n",
       "</table>\n",
       "<p>66836 rows × 3 columns</p>\n",
       "</div>"
      ],
      "text/plain": [
       "         m   cm   in\n",
       "0      NaN   Cm  NaN\n",
       "1      NaN   cm  NaN\n",
       "2      NaN  NaN  NaN\n",
       "3      NaN   Cm  NaN\n",
       "4      NaN  NaN   In\n",
       "...    ...  ...  ...\n",
       "66831  NaN  NaN   IN\n",
       "66832  NaN   cm  NaN\n",
       "66833  NaN  NaN   IN\n",
       "66834  NaN  NaN   In\n",
       "66835  NaN  NaN   In\n",
       "\n",
       "[66836 rows x 3 columns]"
      ]
     },
     "execution_count": 182,
     "metadata": {},
     "output_type": "execute_result"
    }
   ],
   "source": [
    "# df.height.isna().sum()\n",
    "t1 = df.height.str.extract(r'(\\d+\\.?\\d*)')[0].astype(float)\n",
    "\n",
    "# df.height.str.extract(r'((?i)(?<!c)m)|((?i)cm)|((?i)in)', expand=False)[:30]\n",
    "t2 = df.height.str.extract(r'((?<!c)m)|(cm)|(in)',  re.IGNORECASE, expand=False)\n",
    "t2.columns = ['m','cm','in']\n",
    "\n",
    "t1\n",
    "t2\n",
    "\n",
    "\n",
    "# M1 to change to cm\n",
    "# t1 = np.where(t2['m'].notna(), t1*100, t1)\n",
    "# t1\n",
    "# t1 = np.where(t2['in'].notna(), t1*2.54, t1)"
   ]
  },
  {
   "cell_type": "code",
   "execution_count": 183,
   "metadata": {},
   "outputs": [
    {
     "name": "stderr",
     "output_type": "stream",
     "text": [
      "/var/folders/c2/yj8ksjmn34v5f9csr1s82d8r0000gn/T/ipykernel_79405/2633932207.py:1: UserWarning: This pattern is interpreted as a regular expression, and has match groups. To actually get the groups, use str.extract.\n",
      "  t1 = np.where(df.height.str.contains('((?<!c)m)', flags=re.IGNORECASE).replace({np.nan: False}), t1*100, t1)\n"
     ]
    }
   ],
   "source": [
    "t1 = np.where(df.height.str.contains('((?<!c)m)', flags=re.IGNORECASE).replace({np.nan: False}), t1*100, t1)\n",
    "t1 = np.where(df.height.str.contains('in', flags=re.IGNORECASE).replace({np.nan: False}), t1*2.54, t1)\n",
    "df.height = t1\n",
    "# df.height.str.contains('(?<!c)m')\n",
    "# df.height.str.contains('(?<!c)m').notna()\n",
    "# np.where(df.height.str.contains('(?<!c)m').notna(), 1, -1)[:10]"
   ]
  },
  {
   "cell_type": "code",
   "execution_count": 172,
   "metadata": {},
   "outputs": [],
   "source": [
    "# M1. best\n",
    "# df_small = df.filter(regex='^g_self_.*$')\n",
    "\n",
    "# df.filter(regex='^g_self_.*$') \n",
    "\n",
    "# df.loc[:, df.columns.str.contains('^g_self_.*$')] = df_small.fillna(0)\n",
    "\n",
    "cols_needed = df.columns[df.columns.str.contains('^g_self_.*$')]"
   ]
  },
  {
   "cell_type": "code",
   "execution_count": 184,
   "metadata": {},
   "outputs": [],
   "source": [
    "df = df.fillna(pd.Series(0, index=cols_needed))"
   ]
  },
  {
   "cell_type": "code",
   "execution_count": 188,
   "metadata": {},
   "outputs": [],
   "source": [
    "cols_needed = df.columns[df.columns.str.contains('^m_exam_.*_i$')]\n",
    "df = df.fillna(pd.Series('unk', index=cols_needed))"
   ]
  },
  {
   "cell_type": "code",
   "execution_count": 192,
   "metadata": {},
   "outputs": [],
   "source": [
    "df = df.fillna({'occ_life_cover':'STD'})"
   ]
  },
  {
   "cell_type": "code",
   "execution_count": 208,
   "metadata": {},
   "outputs": [],
   "source": [
    "df['m_exam_v7'] = df.filter(regex='m_exam_v7_[123]').mean(axis=1)\n",
    "df['m_exam_v8'] = df.filter(regex='m_exam_v8_[123]').mean(axis=1)\n"
   ]
  },
  {
   "cell_type": "code",
   "execution_count": 210,
   "metadata": {},
   "outputs": [],
   "source": [
    "df.rename(columns={'height':'height_cm', 'weight':'weight_kg'}, inplace=True)"
   ]
  },
  {
   "cell_type": "code",
   "execution_count": 219,
   "metadata": {},
   "outputs": [],
   "source": [
    "cols = ['weight_kg', 'height_cm', 'm_exam_v9_cm', 'm_exam_v10_cm', 'm_exam_v7', 'm_exam_v8']\n",
    "\n",
    "df[cols] = df.groupby(['gender','age_5'])[cols].transform(lambda s: s.median())\n",
    "# df[['gender','age_5']].isna().sum()\n"
   ]
  },
  {
   "cell_type": "code",
   "execution_count": 247,
   "metadata": {},
   "outputs": [],
   "source": [
    "df = df.drop(df.filter(regex='m_exam_v[78]_[123]').columns, axis=1)\n"
   ]
  }
 ],
 "metadata": {
  "interpreter": {
   "hash": "ae74f9feb07f97b665e59d852dca9947bf3c6be9bdf551f43d711a8fd00af3ab"
  },
  "kernelspec": {
   "display_name": "Python 3.9.7 ('data_science')",
   "language": "python",
   "name": "python3"
  },
  "language_info": {
   "codemirror_mode": {
    "name": "ipython",
    "version": 3
   },
   "file_extension": ".py",
   "mimetype": "text/x-python",
   "name": "python",
   "nbconvert_exporter": "python",
   "pygments_lexer": "ipython3",
   "version": "3.9.7"
  },
  "orig_nbformat": 4
 },
 "nbformat": 4,
 "nbformat_minor": 2
}
