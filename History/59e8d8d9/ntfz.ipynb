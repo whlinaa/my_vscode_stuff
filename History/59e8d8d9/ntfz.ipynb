{
 "cells": [
  {
   "cell_type": "markdown",
   "metadata": {},
   "source": [
    "# Auto insurance. Interview questions\n",
    "- hello"
   ]
  },
  {
   "cell_type": "code",
   "execution_count": 1,
   "metadata": {},
   "outputs": [],
   "source": [
    "import numpy as np\n",
    "import pandas as pd\n",
    "pd.set_option('display.max_rows',85)\n",
    "pd.set_option('display.max_columns',85)\n",
    "from sklearn.linear_model import LinearRegression\n",
    "import matplotlib.pyplot as plt\n",
    "from IPython.core.interactiveshell import InteractiveShell; InteractiveShell.ast_node_interactivity = \"all\""
   ]
  },
  {
   "cell_type": "code",
   "execution_count": 2,
   "metadata": {},
   "outputs": [],
   "source": [
    "df = pd.read_csv(\"data.csv\")"
   ]
  },
  {
   "cell_type": "code",
   "execution_count": 3,
   "metadata": {},
   "outputs": [
    {
     "data": {
      "text/html": [
       "<div>\n",
       "<style scoped>\n",
       "    .dataframe tbody tr th:only-of-type {\n",
       "        vertical-align: middle;\n",
       "    }\n",
       "\n",
       "    .dataframe tbody tr th {\n",
       "        vertical-align: top;\n",
       "    }\n",
       "\n",
       "    .dataframe thead th {\n",
       "        text-align: right;\n",
       "    }\n",
       "</style>\n",
       "<table border=\"1\" class=\"dataframe\">\n",
       "  <thead>\n",
       "    <tr style=\"text-align: right;\">\n",
       "      <th></th>\n",
       "      <th>vehicle_value</th>\n",
       "      <th>exposure</th>\n",
       "      <th>claim</th>\n",
       "      <th>claim_count</th>\n",
       "      <th>claim_cost</th>\n",
       "      <th>vehicle_age</th>\n",
       "      <th>owner_age</th>\n",
       "    </tr>\n",
       "  </thead>\n",
       "  <tbody>\n",
       "    <tr>\n",
       "      <th>count</th>\n",
       "      <td>67062.000000</td>\n",
       "      <td>67856.000000</td>\n",
       "      <td>67856.000000</td>\n",
       "      <td>67856.000000</td>\n",
       "      <td>67856.000000</td>\n",
       "      <td>67185.000000</td>\n",
       "      <td>66289.000000</td>\n",
       "    </tr>\n",
       "    <tr>\n",
       "      <th>mean</th>\n",
       "      <td>17774.338657</td>\n",
       "      <td>0.468652</td>\n",
       "      <td>0.068144</td>\n",
       "      <td>0.072757</td>\n",
       "      <td>137.270167</td>\n",
       "      <td>2.674347</td>\n",
       "      <td>3.486355</td>\n",
       "    </tr>\n",
       "    <tr>\n",
       "      <th>std</th>\n",
       "      <td>12057.355897</td>\n",
       "      <td>0.290025</td>\n",
       "      <td>0.251995</td>\n",
       "      <td>0.278204</td>\n",
       "      <td>1056.297768</td>\n",
       "      <td>1.067584</td>\n",
       "      <td>1.425221</td>\n",
       "    </tr>\n",
       "    <tr>\n",
       "      <th>min</th>\n",
       "      <td>0.000000</td>\n",
       "      <td>0.002738</td>\n",
       "      <td>0.000000</td>\n",
       "      <td>0.000000</td>\n",
       "      <td>0.000000</td>\n",
       "      <td>1.000000</td>\n",
       "      <td>1.000000</td>\n",
       "    </tr>\n",
       "    <tr>\n",
       "      <th>25%</th>\n",
       "      <td>10100.000000</td>\n",
       "      <td>0.219028</td>\n",
       "      <td>0.000000</td>\n",
       "      <td>0.000000</td>\n",
       "      <td>0.000000</td>\n",
       "      <td>2.000000</td>\n",
       "      <td>2.000000</td>\n",
       "    </tr>\n",
       "    <tr>\n",
       "      <th>50%</th>\n",
       "      <td>15000.000000</td>\n",
       "      <td>0.446270</td>\n",
       "      <td>0.000000</td>\n",
       "      <td>0.000000</td>\n",
       "      <td>0.000000</td>\n",
       "      <td>3.000000</td>\n",
       "      <td>3.000000</td>\n",
       "    </tr>\n",
       "    <tr>\n",
       "      <th>75%</th>\n",
       "      <td>21500.000000</td>\n",
       "      <td>0.709103</td>\n",
       "      <td>0.000000</td>\n",
       "      <td>0.000000</td>\n",
       "      <td>0.000000</td>\n",
       "      <td>4.000000</td>\n",
       "      <td>5.000000</td>\n",
       "    </tr>\n",
       "    <tr>\n",
       "      <th>max</th>\n",
       "      <td>345600.000000</td>\n",
       "      <td>0.999316</td>\n",
       "      <td>1.000000</td>\n",
       "      <td>4.000000</td>\n",
       "      <td>55922.129883</td>\n",
       "      <td>4.000000</td>\n",
       "      <td>6.000000</td>\n",
       "    </tr>\n",
       "  </tbody>\n",
       "</table>\n",
       "</div>"
      ],
      "text/plain": [
       "       vehicle_value      exposure         claim   claim_count    claim_cost  \\\n",
       "count   67062.000000  67856.000000  67856.000000  67856.000000  67856.000000   \n",
       "mean    17774.338657      0.468652      0.068144      0.072757    137.270167   \n",
       "std     12057.355897      0.290025      0.251995      0.278204   1056.297768   \n",
       "min         0.000000      0.002738      0.000000      0.000000      0.000000   \n",
       "25%     10100.000000      0.219028      0.000000      0.000000      0.000000   \n",
       "50%     15000.000000      0.446270      0.000000      0.000000      0.000000   \n",
       "75%     21500.000000      0.709103      0.000000      0.000000      0.000000   \n",
       "max    345600.000000      0.999316      1.000000      4.000000  55922.129883   \n",
       "\n",
       "        vehicle_age     owner_age  \n",
       "count  67185.000000  66289.000000  \n",
       "mean       2.674347      3.486355  \n",
       "std        1.067584      1.425221  \n",
       "min        1.000000      1.000000  \n",
       "25%        2.000000      2.000000  \n",
       "50%        3.000000      3.000000  \n",
       "75%        4.000000      5.000000  \n",
       "max        4.000000      6.000000  "
      ]
     },
     "execution_count": 3,
     "metadata": {},
     "output_type": "execute_result"
    },
    {
     "name": "stdout",
     "output_type": "stream",
     "text": [
      "<class 'pandas.core.frame.DataFrame'>\n",
      "RangeIndex: 67856 entries, 0 to 67855\n",
      "Data columns (total 10 columns):\n",
      " #   Column         Non-Null Count  Dtype  \n",
      "---  ------         --------------  -----  \n",
      " 0   vehicle_value  67062 non-null  float64\n",
      " 1   exposure       67856 non-null  float64\n",
      " 2   claim          67856 non-null  int64  \n",
      " 3   claim_count    67856 non-null  int64  \n",
      " 4   claim_cost     67856 non-null  float64\n",
      " 5   vehicle_type   67856 non-null  object \n",
      " 6   vehicle_age    67185 non-null  float64\n",
      " 7   owner_gender   67856 non-null  object \n",
      " 8   owner_area     67856 non-null  object \n",
      " 9   owner_age      66289 non-null  float64\n",
      "dtypes: float64(5), int64(2), object(3)\n",
      "memory usage: 5.2+ MB\n"
     ]
    },
    {
     "data": {
      "text/plain": [
       "Index(['vehicle_type', 'owner_gender', 'owner_area'], dtype='object')"
      ]
     },
     "execution_count": 3,
     "metadata": {},
     "output_type": "execute_result"
    }
   ],
   "source": [
    "df.describe()\n",
    "df.info()\n",
    "df.select_dtypes(include='object').columns # 3 columns are str\n"
   ]
  },
  {
   "cell_type": "code",
   "execution_count": 4,
   "metadata": {},
   "outputs": [
    {
     "data": {
      "text/plain": [
       "vehicle_value    0.011701\n",
       "vehicle_age      0.009889\n",
       "owner_age        0.023093\n",
       "dtype: float64"
      ]
     },
     "execution_count": 4,
     "metadata": {},
     "output_type": "execute_result"
    }
   ],
   "source": [
    "# checking missing value percentage\n",
    "pct = df.isna().mean()\n",
    "pct[pct>0]\n"
   ]
  },
  {
   "cell_type": "code",
   "execution_count": 5,
   "metadata": {},
   "outputs": [
    {
     "data": {
      "text/plain": [
       "owner_area\n",
       "F    202.131412\n",
       "Name: claim_cost, dtype: float64"
      ]
     },
     "execution_count": 5,
     "metadata": {},
     "output_type": "execute_result"
    }
   ],
   "source": [
    "# Which area has the highest average claim cost for the top 3 vehicle type?\n",
    "top_3 = df['vehicle_type'].value_counts()[:3].index # get the top 3 vehicle types\n",
    "\n",
    "filt = df['vehicle_type'].isin(top_3) # get only the records of the top 3 vehicle types\n",
    "\n",
    "df[filt].groupby('owner_area')['claim_cost'].mean().sort_values(ascending=False)[[0]]"
   ]
  },
  {
   "cell_type": "code",
   "execution_count": 6,
   "metadata": {},
   "outputs": [
    {
     "name": "stderr",
     "output_type": "stream",
     "text": [
      "/var/folders/c2/yj8ksjmn34v5f9csr1s82d8r0000gn/T/ipykernel_94807/4059612040.py:2: FutureWarning: Dropping of nuisance columns in DataFrame reductions (with 'numeric_only=None') is deprecated; in a future version this will raise TypeError.  Select only valid columns before calling the reduction.\n",
      "  df = df.fillna(value=df.median())\n"
     ]
    }
   ],
   "source": [
    "# For each missing value, impute with median.\n",
    "df = df.fillna(value=df.median())"
   ]
  },
  {
   "cell_type": "code",
   "execution_count": 7,
   "metadata": {},
   "outputs": [
    {
     "name": "stdout",
     "output_type": "stream",
     "text": [
      "(array(['HBACK', 'HDTOP', 'OTHER', 'SEDAN', 'STNWG', 'TRUCK', 'UTE'],\n",
      "      dtype=object), array([18915,  1579,  2532, 22233, 16261,  1750,  4586]))\n"
     ]
    },
    {
     "data": {
      "text/plain": [
       "array(['HBACK', 'UTE', 'STNWG', 'HDTOP', 'OTHER', 'SEDAN', 'TRUCK'],\n",
       "      dtype=object)"
      ]
     },
     "execution_count": 7,
     "metadata": {},
     "output_type": "execute_result"
    },
    {
     "data": {
      "text/plain": [
       "{'HBACK': 'HBACK',\n",
       " 'UTE': 'UTE',\n",
       " 'STNWG': 'STNWG',\n",
       " 'HDTOP': 'HDTOP',\n",
       " 'OTHER': 'OTHER',\n",
       " 'SEDAN': 'SEDAN',\n",
       " 'TRUCK': 'TRUCK'}"
      ]
     },
     "execution_count": 7,
     "metadata": {},
     "output_type": "execute_result"
    },
    {
     "name": "stdout",
     "output_type": "stream",
     "text": [
      "SEDAN    22233\n",
      "HBACK    18915\n",
      "STNWG    16261\n",
      "UTE       4586\n",
      "OTHER     2532\n",
      "TRUCK     1750\n",
      "HDTOP     1579\n",
      "Name: vehicle_type, dtype: int64\n",
      "SEDAN    22233\n",
      "HBACK    18915\n",
      "STNWG    16261\n",
      "UTE       4586\n",
      "OTHER     2532\n",
      "TRUCK     1750\n",
      "HDTOP     1579\n",
      "Name: vehicle_type, dtype: int64\n"
     ]
    },
    {
     "name": "stderr",
     "output_type": "stream",
     "text": [
      "/var/folders/c2/yj8ksjmn34v5f9csr1s82d8r0000gn/T/ipykernel_94807/4162052612.py:22: FutureWarning: The default value of regex will change from True to False in a future version.\n",
      "  print(df.vehicle_type.str.replace('[^a-zA-Z]', '').str.upper().value_counts())\n",
      "/var/folders/c2/yj8ksjmn34v5f9csr1s82d8r0000gn/T/ipykernel_94807/4162052612.py:24: FutureWarning: The default value of regex will change from True to False in a future version.\n",
      "  df['vehicle_type'] = df.vehicle_type.str.replace('[^a-zA-Z]', '').str.upper()\n"
     ]
    }
   ],
   "source": [
    "# Clean vehicle_type to fix entry typos so that it contains only the following 7 unique values: HBACK , HDTOP , SEDAN , STNWG , TRUCK , UTE , OTHER .\n",
    "\n",
    "# M1: slow\n",
    "res = df['vehicle_type'].values\n",
    "for i, s in enumerate(res):\n",
    "    res[i] = ''.join(c.upper() for c in s if c.isalpha())\n",
    "\n",
    "print(np.unique(res,return_counts=True))\n",
    "\n",
    "# M2: change the unique type only\n",
    "col = df['vehicle_type'].unique()\n",
    "col\n",
    "d = dict()\n",
    "\n",
    "for s in col:\n",
    "    d[s] = ''.join(c.upper() for c in s if c.isalpha())\n",
    "d\n",
    "\n",
    "print(df['vehicle_type'].map(d).value_counts())\n",
    "\n",
    "# M3: regex\n",
    "print(df.vehicle_type.str.replace('[^a-zA-Z]', '').str.upper().value_counts())\n",
    "\n",
    "df['vehicle_type'] = df.vehicle_type.str.replace('[^a-zA-Z]', '').str.upper()\n",
    "\n"
   ]
  },
  {
   "cell_type": "code",
   "execution_count": 11,
   "metadata": {},
   "outputs": [
    {
     "data": {
      "text/html": [
       "<div>\n",
       "<style scoped>\n",
       "    .dataframe tbody tr th:only-of-type {\n",
       "        vertical-align: middle;\n",
       "    }\n",
       "\n",
       "    .dataframe tbody tr th {\n",
       "        vertical-align: top;\n",
       "    }\n",
       "\n",
       "    .dataframe thead th {\n",
       "        text-align: right;\n",
       "    }\n",
       "</style>\n",
       "<table border=\"1\" class=\"dataframe\">\n",
       "  <thead>\n",
       "    <tr style=\"text-align: right;\">\n",
       "      <th></th>\n",
       "      <th>vehicle_value</th>\n",
       "      <th>exposure</th>\n",
       "      <th>claim</th>\n",
       "      <th>claim_count</th>\n",
       "      <th>claim_cost</th>\n",
       "      <th>vehicle_type</th>\n",
       "      <th>vehicle_age</th>\n",
       "      <th>owner_gender</th>\n",
       "      <th>owner_area</th>\n",
       "      <th>owner_age</th>\n",
       "      <th>vehicle_value_cat</th>\n",
       "    </tr>\n",
       "  </thead>\n",
       "  <tbody>\n",
       "    <tr>\n",
       "      <th>0</th>\n",
       "      <td>10600.0</td>\n",
       "      <td>0.303901</td>\n",
       "      <td>0</td>\n",
       "      <td>0</td>\n",
       "      <td>0.000000</td>\n",
       "      <td>HBACK</td>\n",
       "      <td>3.0</td>\n",
       "      <td>F</td>\n",
       "      <td>C</td>\n",
       "      <td>2.0</td>\n",
       "      <td>LOW</td>\n",
       "    </tr>\n",
       "    <tr>\n",
       "      <th>1</th>\n",
       "      <td>10300.0</td>\n",
       "      <td>0.648871</td>\n",
       "      <td>0</td>\n",
       "      <td>0</td>\n",
       "      <td>0.000000</td>\n",
       "      <td>HBACK</td>\n",
       "      <td>2.0</td>\n",
       "      <td>F</td>\n",
       "      <td>A</td>\n",
       "      <td>4.0</td>\n",
       "      <td>LOW</td>\n",
       "    </tr>\n",
       "    <tr>\n",
       "      <th>2</th>\n",
       "      <td>32600.0</td>\n",
       "      <td>0.569473</td>\n",
       "      <td>0</td>\n",
       "      <td>0</td>\n",
       "      <td>0.000000</td>\n",
       "      <td>UTE</td>\n",
       "      <td>2.0</td>\n",
       "      <td>F</td>\n",
       "      <td>E</td>\n",
       "      <td>2.0</td>\n",
       "      <td>MIDDLE</td>\n",
       "    </tr>\n",
       "    <tr>\n",
       "      <th>3</th>\n",
       "      <td>41400.0</td>\n",
       "      <td>0.317591</td>\n",
       "      <td>0</td>\n",
       "      <td>0</td>\n",
       "      <td>0.000000</td>\n",
       "      <td>STNWG</td>\n",
       "      <td>2.0</td>\n",
       "      <td>F</td>\n",
       "      <td>D</td>\n",
       "      <td>2.0</td>\n",
       "      <td>MIDDLE</td>\n",
       "    </tr>\n",
       "    <tr>\n",
       "      <th>4</th>\n",
       "      <td>7200.0</td>\n",
       "      <td>0.648871</td>\n",
       "      <td>0</td>\n",
       "      <td>0</td>\n",
       "      <td>0.000000</td>\n",
       "      <td>HBACK</td>\n",
       "      <td>4.0</td>\n",
       "      <td>F</td>\n",
       "      <td>C</td>\n",
       "      <td>2.0</td>\n",
       "      <td>LOW</td>\n",
       "    </tr>\n",
       "    <tr>\n",
       "      <th>...</th>\n",
       "      <td>...</td>\n",
       "      <td>...</td>\n",
       "      <td>...</td>\n",
       "      <td>...</td>\n",
       "      <td>...</td>\n",
       "      <td>...</td>\n",
       "      <td>...</td>\n",
       "      <td>...</td>\n",
       "      <td>...</td>\n",
       "      <td>...</td>\n",
       "      <td>...</td>\n",
       "    </tr>\n",
       "    <tr>\n",
       "      <th>67851</th>\n",
       "      <td>10700.0</td>\n",
       "      <td>0.654346</td>\n",
       "      <td>0</td>\n",
       "      <td>0</td>\n",
       "      <td>0.000000</td>\n",
       "      <td>SEDAN</td>\n",
       "      <td>2.0</td>\n",
       "      <td>M</td>\n",
       "      <td>A</td>\n",
       "      <td>6.0</td>\n",
       "      <td>LOW</td>\n",
       "    </tr>\n",
       "    <tr>\n",
       "      <th>67852</th>\n",
       "      <td>12300.0</td>\n",
       "      <td>0.908966</td>\n",
       "      <td>0</td>\n",
       "      <td>0</td>\n",
       "      <td>0.000000</td>\n",
       "      <td>SEDAN</td>\n",
       "      <td>4.0</td>\n",
       "      <td>M</td>\n",
       "      <td>C</td>\n",
       "      <td>3.0</td>\n",
       "      <td>LOW</td>\n",
       "    </tr>\n",
       "    <tr>\n",
       "      <th>67853</th>\n",
       "      <td>19300.0</td>\n",
       "      <td>0.312115</td>\n",
       "      <td>0</td>\n",
       "      <td>0</td>\n",
       "      <td>0.000000</td>\n",
       "      <td>STNWG</td>\n",
       "      <td>4.0</td>\n",
       "      <td>M</td>\n",
       "      <td>C</td>\n",
       "      <td>3.0</td>\n",
       "      <td>LOW</td>\n",
       "    </tr>\n",
       "    <tr>\n",
       "      <th>67854</th>\n",
       "      <td>9700.0</td>\n",
       "      <td>0.320329</td>\n",
       "      <td>1</td>\n",
       "      <td>1</td>\n",
       "      <td>7646.769989</td>\n",
       "      <td>HBACK</td>\n",
       "      <td>3.0</td>\n",
       "      <td>F</td>\n",
       "      <td>C</td>\n",
       "      <td>2.0</td>\n",
       "      <td>LOW</td>\n",
       "    </tr>\n",
       "    <tr>\n",
       "      <th>67855</th>\n",
       "      <td>10200.0</td>\n",
       "      <td>0.246407</td>\n",
       "      <td>0</td>\n",
       "      <td>0</td>\n",
       "      <td>0.000000</td>\n",
       "      <td>HBACK</td>\n",
       "      <td>3.0</td>\n",
       "      <td>M</td>\n",
       "      <td>A</td>\n",
       "      <td>1.0</td>\n",
       "      <td>LOW</td>\n",
       "    </tr>\n",
       "  </tbody>\n",
       "</table>\n",
       "<p>67856 rows × 11 columns</p>\n",
       "</div>"
      ],
      "text/plain": [
       "       vehicle_value  exposure  claim  claim_count   claim_cost vehicle_type  \\\n",
       "0            10600.0  0.303901      0            0     0.000000        HBACK   \n",
       "1            10300.0  0.648871      0            0     0.000000        HBACK   \n",
       "2            32600.0  0.569473      0            0     0.000000          UTE   \n",
       "3            41400.0  0.317591      0            0     0.000000        STNWG   \n",
       "4             7200.0  0.648871      0            0     0.000000        HBACK   \n",
       "...              ...       ...    ...          ...          ...          ...   \n",
       "67851        10700.0  0.654346      0            0     0.000000        SEDAN   \n",
       "67852        12300.0  0.908966      0            0     0.000000        SEDAN   \n",
       "67853        19300.0  0.312115      0            0     0.000000        STNWG   \n",
       "67854         9700.0  0.320329      1            1  7646.769989        HBACK   \n",
       "67855        10200.0  0.246407      0            0     0.000000        HBACK   \n",
       "\n",
       "       vehicle_age owner_gender owner_area  owner_age vehicle_value_cat  \n",
       "0              3.0            F          C        2.0               LOW  \n",
       "1              2.0            F          A        4.0               LOW  \n",
       "2              2.0            F          E        2.0            MIDDLE  \n",
       "3              2.0            F          D        2.0            MIDDLE  \n",
       "4              4.0            F          C        2.0               LOW  \n",
       "...            ...          ...        ...        ...               ...  \n",
       "67851          2.0            M          A        6.0               LOW  \n",
       "67852          4.0            M          C        3.0               LOW  \n",
       "67853          4.0            M          C        3.0               LOW  \n",
       "67854          3.0            F          C        2.0               LOW  \n",
       "67855          3.0            M          A        1.0               LOW  \n",
       "\n",
       "[67856 rows x 11 columns]"
      ]
     },
     "execution_count": 11,
     "metadata": {},
     "output_type": "execute_result"
    }
   ],
   "source": [
    "# discretization\n",
    "df['vehicle_value_cat'] = pd.cut(\n",
    "    df.vehicle_value, \n",
    "    bins = [0, 2e4, 6e4, 1e5, np.inf], \n",
    "    labels=['LOW','MIDDLE','HIGH','VERY_HIGH'],\n",
    "    right = False\n",
    ")  \n",
    "df"
   ]
  },
  {
   "cell_type": "code",
   "execution_count": 204,
   "metadata": {},
   "outputs": [],
   "source": [
    "# Standardize each numerical variable with 0 mean and 1 standard deviation, except claim and claim_count and exposure\n",
    "\n",
    "cols = df.select_dtypes(include = np.number).columns.drop(['claim', 'claim_count','exposure']) # or, include='number'\n",
    "data = df[cols]\n",
    "\n",
    "data = (data-data.mean())/data.std()\n",
    "\n",
    "df[cols] = data\n",
    "\n",
    "# df[cols].mean()\n",
    "# df[cols].std()\n",
    "\n",
    "# mean_ = df.mean(numeric_only=True).drop(index=['claim', 'claim_count','exposure'])\n",
    "# sd_ = df.std(numeric_only=True).drop(index=['claim', 'claim_count','exposure'])\n",
    "# index_ = df.std(numeric_only=True).drop(index=['claim', 'claim_count','exposure']).index\n",
    "\n",
    "# (df[index_]-mean_)/sd_\n"
   ]
  },
  {
   "cell_type": "code",
   "execution_count": 215,
   "metadata": {},
   "outputs": [
    {
     "data": {
      "text/plain": [
       "<matplotlib.collections.PathCollection at 0x162109160>"
      ]
     },
     "execution_count": 215,
     "metadata": {},
     "output_type": "execute_result"
    },
    {
     "data": {
      "image/png": "[encoded data removed]",
      "text/plain": [
       "<Figure size 432x288 with 1 Axes>"
      ]
     },
     "metadata": {
      "needs_background": "light"
     },
     "output_type": "display_data"
    }
   ],
   "source": [
    "df = pd.get_dummies(df)\n",
    "y = df['claim_cost']\n",
    "X = df.drop(columns='claim_cost')\n",
    "model = LinearRegression().fit(X,y)\n",
    "\n",
    "plt.scatter(y, model.predict(X))\n",
    "\n",
    "# y-model.predict(X)\n",
    "\n"
   ]
  },
  {
   "cell_type": "code",
   "execution_count": null,
   "metadata": {},
   "outputs": [],
   "source": []
  }
 ],
 "metadata": {
  "interpreter": {
   "hash": "ae74f9feb07f97b665e59d852dca9947bf3c6be9bdf551f43d711a8fd00af3ab"
  },
  "kernelspec": {
   "display_name": "Python 3.9.7 64-bit ('data_science': conda)",
   "language": "python",
   "name": "python3"
  },
  "language_info": {
   "codemirror_mode": {
    "name": "ipython",
    "version": 3
   },
   "file_extension": ".py",
   "mimetype": "text/x-python",
   "name": "python",
   "nbconvert_exporter": "python",
   "pygments_lexer": "ipython3",
   "version": "3.9.7"
  },
  "orig_nbformat": 4
 },
 "nbformat": 4,
 "nbformat_minor": 2
}
