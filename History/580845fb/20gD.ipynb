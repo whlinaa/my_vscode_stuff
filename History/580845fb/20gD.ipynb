{
 "cells": [
  {
   "cell_type": "code",
   "execution_count": 114,
   "metadata": {},
   "outputs": [],
   "source": [
    "from ds_utils.ds_preamble import *\n",
    "from ds_utils.ds_plotting import *\n",
    "from ds_utils.ds_helper import *\n"
   ]
  },
  {
   "cell_type": "code",
   "execution_count": 115,
   "metadata": {},
   "outputs": [
    {
     "name": "stdout",
     "output_type": "stream",
     "text": [
      "<class 'pandas.core.frame.DataFrame'>\n",
      "RangeIndex: 1274 entries, 0 to 1273\n",
      "Data columns (total 12 columns):\n",
      " #   Column           Non-Null Count  Dtype  \n",
      "---  ------           --------------  -----  \n",
      " 0   occur_date       1274 non-null   object \n",
      " 1   ship_categ       1274 non-null   object \n",
      " 2   ship_brand       1066 non-null   object \n",
      " 3   ship_power       1066 non-null   float64\n",
      " 4   ship_eng_nb      1066 non-null   float64\n",
      " 5   ship_eng_year    1066 non-null   float64\n",
      " 6   ship_build_year  1066 non-null   float64\n",
      " 7   ship_hull        1066 non-null   object \n",
      " 8   ship_length      1066 non-null   float64\n",
      " 9   ship_tonnage     1066 non-null   float64\n",
      " 10  claim_cost       1274 non-null   float64\n",
      " 11  head_quarter     1045 non-null   object \n",
      "dtypes: float64(7), object(5)\n",
      "memory usage: 119.6+ KB\n"
     ]
    },
    {
     "data": {
      "text/html": [
       "<div>\n",
       "<style scoped>\n",
       "    .dataframe tbody tr th:only-of-type {\n",
       "        vertical-align: middle;\n",
       "    }\n",
       "\n",
       "    .dataframe tbody tr th {\n",
       "        vertical-align: top;\n",
       "    }\n",
       "\n",
       "    .dataframe thead th {\n",
       "        text-align: right;\n",
       "    }\n",
       "</style>\n",
       "<table border=\"1\" class=\"dataframe\">\n",
       "  <thead>\n",
       "    <tr style=\"text-align: right;\">\n",
       "      <th></th>\n",
       "      <th>ship_power</th>\n",
       "      <th>ship_eng_nb</th>\n",
       "      <th>ship_eng_year</th>\n",
       "      <th>ship_build_year</th>\n",
       "      <th>ship_length</th>\n",
       "      <th>ship_tonnage</th>\n",
       "      <th>claim_cost</th>\n",
       "    </tr>\n",
       "  </thead>\n",
       "  <tbody>\n",
       "    <tr>\n",
       "      <th>count</th>\n",
       "      <td>1066.000000</td>\n",
       "      <td>1066.000000</td>\n",
       "      <td>1066.000000</td>\n",
       "      <td>1066.000000</td>\n",
       "      <td>1066.000000</td>\n",
       "      <td>1066.000000</td>\n",
       "      <td>1274.000000</td>\n",
       "    </tr>\n",
       "    <tr>\n",
       "      <th>mean</th>\n",
       "      <td>434.957786</td>\n",
       "      <td>1.070356</td>\n",
       "      <td>1996.525328</td>\n",
       "      <td>1979.853659</td>\n",
       "      <td>7.918668</td>\n",
       "      <td>30.898218</td>\n",
       "      <td>25.563658</td>\n",
       "    </tr>\n",
       "    <tr>\n",
       "      <th>std</th>\n",
       "      <td>294.940807</td>\n",
       "      <td>0.255867</td>\n",
       "      <td>6.206298</td>\n",
       "      <td>11.096130</td>\n",
       "      <td>2.997789</td>\n",
       "      <td>48.347233</td>\n",
       "      <td>159.226597</td>\n",
       "    </tr>\n",
       "    <tr>\n",
       "      <th>min</th>\n",
       "      <td>9.000000</td>\n",
       "      <td>1.000000</td>\n",
       "      <td>1967.000000</td>\n",
       "      <td>1932.000000</td>\n",
       "      <td>3.100000</td>\n",
       "      <td>0.600000</td>\n",
       "      <td>-109.900000</td>\n",
       "    </tr>\n",
       "    <tr>\n",
       "      <th>25%</th>\n",
       "      <td>239.000000</td>\n",
       "      <td>1.000000</td>\n",
       "      <td>1993.000000</td>\n",
       "      <td>1973.250000</td>\n",
       "      <td>5.900000</td>\n",
       "      <td>5.200000</td>\n",
       "      <td>1.200000</td>\n",
       "    </tr>\n",
       "    <tr>\n",
       "      <th>50%</th>\n",
       "      <td>367.000000</td>\n",
       "      <td>1.000000</td>\n",
       "      <td>1997.000000</td>\n",
       "      <td>1978.000000</td>\n",
       "      <td>7.200000</td>\n",
       "      <td>10.600000</td>\n",
       "      <td>4.100000</td>\n",
       "    </tr>\n",
       "    <tr>\n",
       "      <th>75%</th>\n",
       "      <td>567.000000</td>\n",
       "      <td>1.000000</td>\n",
       "      <td>2001.000000</td>\n",
       "      <td>1987.000000</td>\n",
       "      <td>9.350000</td>\n",
       "      <td>33.275000</td>\n",
       "      <td>10.975000</td>\n",
       "    </tr>\n",
       "    <tr>\n",
       "      <th>max</th>\n",
       "      <td>2517.000000</td>\n",
       "      <td>2.000000</td>\n",
       "      <td>2006.000000</td>\n",
       "      <td>2005.000000</td>\n",
       "      <td>21.000000</td>\n",
       "      <td>349.800000</td>\n",
       "      <td>3765.400000</td>\n",
       "    </tr>\n",
       "  </tbody>\n",
       "</table>\n",
       "</div>"
      ],
      "text/plain": [
       "        ship_power  ship_eng_nb  ship_eng_year  ship_build_year  ship_length  \\\n",
       "count  1066.000000  1066.000000    1066.000000      1066.000000  1066.000000   \n",
       "mean    434.957786     1.070356    1996.525328      1979.853659     7.918668   \n",
       "std     294.940807     0.255867       6.206298        11.096130     2.997789   \n",
       "min       9.000000     1.000000    1967.000000      1932.000000     3.100000   \n",
       "25%     239.000000     1.000000    1993.000000      1973.250000     5.900000   \n",
       "50%     367.000000     1.000000    1997.000000      1978.000000     7.200000   \n",
       "75%     567.000000     1.000000    2001.000000      1987.000000     9.350000   \n",
       "max    2517.000000     2.000000    2006.000000      2005.000000    21.000000   \n",
       "\n",
       "       ship_tonnage   claim_cost  \n",
       "count   1066.000000  1274.000000  \n",
       "mean      30.898218    25.563658  \n",
       "std       48.347233   159.226597  \n",
       "min        0.600000  -109.900000  \n",
       "25%        5.200000     1.200000  \n",
       "50%       10.600000     4.100000  \n",
       "75%       33.275000    10.975000  \n",
       "max      349.800000  3765.400000  "
      ]
     },
     "execution_count": 115,
     "metadata": {},
     "output_type": "execute_result"
    },
    {
     "data": {
      "text/plain": [
       "head_quarter       17.974882\n",
       "ship_brand         16.326531\n",
       "ship_power         16.326531\n",
       "ship_eng_nb        16.326531\n",
       "ship_eng_year      16.326531\n",
       "ship_build_year    16.326531\n",
       "ship_hull          16.326531\n",
       "ship_length        16.326531\n",
       "ship_tonnage       16.326531\n",
       "dtype: float64"
      ]
     },
     "execution_count": 115,
     "metadata": {},
     "output_type": "execute_result"
    },
    {
     "data": {
      "text/html": [
       "<div>\n",
       "<style scoped>\n",
       "    .dataframe tbody tr th:only-of-type {\n",
       "        vertical-align: middle;\n",
       "    }\n",
       "\n",
       "    .dataframe tbody tr th {\n",
       "        vertical-align: top;\n",
       "    }\n",
       "\n",
       "    .dataframe thead th {\n",
       "        text-align: right;\n",
       "    }\n",
       "</style>\n",
       "<table border=\"1\" class=\"dataframe\">\n",
       "  <thead>\n",
       "    <tr style=\"text-align: right;\">\n",
       "      <th></th>\n",
       "      <th>occur_date</th>\n",
       "      <th>ship_categ</th>\n",
       "      <th>ship_brand</th>\n",
       "      <th>ship_power</th>\n",
       "      <th>ship_eng_nb</th>\n",
       "      <th>ship_eng_year</th>\n",
       "      <th>ship_build_year</th>\n",
       "      <th>ship_hull</th>\n",
       "      <th>ship_length</th>\n",
       "      <th>ship_tonnage</th>\n",
       "      <th>claim_cost</th>\n",
       "      <th>head_quarter</th>\n",
       "    </tr>\n",
       "  </thead>\n",
       "  <tbody>\n",
       "    <tr>\n",
       "      <th>0</th>\n",
       "      <td>2003-01-03</td>\n",
       "      <td>Filer</td>\n",
       "      <td>PERKINS</td>\n",
       "      <td>133.0</td>\n",
       "      <td>2.0</td>\n",
       "      <td>1998.0</td>\n",
       "      <td>1998.0</td>\n",
       "      <td>Alluminium Alloy</td>\n",
       "      <td>6.3</td>\n",
       "      <td>6.6</td>\n",
       "      <td>1.4</td>\n",
       "      <td>Arcachon</td>\n",
       "    </tr>\n",
       "    <tr>\n",
       "      <th>1</th>\n",
       "      <td>2003-01-03</td>\n",
       "      <td>Filer</td>\n",
       "      <td>NaN</td>\n",
       "      <td>372.0</td>\n",
       "      <td>2.0</td>\n",
       "      <td>2005.0</td>\n",
       "      <td>1981.0</td>\n",
       "      <td>Alluminium Alloy</td>\n",
       "      <td>13.7</td>\n",
       "      <td>186.6</td>\n",
       "      <td>3.9</td>\n",
       "      <td>La Cotiniere</td>\n",
       "    </tr>\n",
       "    <tr>\n",
       "      <th>2</th>\n",
       "      <td>2003-01-03</td>\n",
       "      <td>Troller</td>\n",
       "      <td>DEUTZ</td>\n",
       "      <td>443.0</td>\n",
       "      <td>1.0</td>\n",
       "      <td>1995.0</td>\n",
       "      <td>1979.0</td>\n",
       "      <td>polyester</td>\n",
       "      <td>6.7</td>\n",
       "      <td>14.2</td>\n",
       "      <td>0.6</td>\n",
       "      <td>Saint-Quay-Portrieux</td>\n",
       "    </tr>\n",
       "    <tr>\n",
       "      <th>3</th>\n",
       "      <td>2003-01-04</td>\n",
       "      <td>Trawler</td>\n",
       "      <td>Cummins</td>\n",
       "      <td>266.0</td>\n",
       "      <td>1.0</td>\n",
       "      <td>1994.0</td>\n",
       "      <td>1965.0</td>\n",
       "      <td>~Wood</td>\n",
       "      <td>6.4</td>\n",
       "      <td>10.1</td>\n",
       "      <td>2.7</td>\n",
       "      <td>Audierne</td>\n",
       "    </tr>\n",
       "    <tr>\n",
       "      <th>4</th>\n",
       "      <td>2003-01-04</td>\n",
       "      <td>Crab boat</td>\n",
       "      <td>BONI VALMET</td>\n",
       "      <td>145.0</td>\n",
       "      <td>1.0</td>\n",
       "      <td>1994.0</td>\n",
       "      <td>1969.0</td>\n",
       "      <td>Wood</td>\n",
       "      <td>5.2</td>\n",
       "      <td>4.2</td>\n",
       "      <td>1.5</td>\n",
       "      <td>Concarneau</td>\n",
       "    </tr>\n",
       "    <tr>\n",
       "      <th>...</th>\n",
       "      <td>...</td>\n",
       "      <td>...</td>\n",
       "      <td>...</td>\n",
       "      <td>...</td>\n",
       "      <td>...</td>\n",
       "      <td>...</td>\n",
       "      <td>...</td>\n",
       "      <td>...</td>\n",
       "      <td>...</td>\n",
       "      <td>...</td>\n",
       "      <td>...</td>\n",
       "      <td>...</td>\n",
       "    </tr>\n",
       "    <tr>\n",
       "      <th>1269</th>\n",
       "      <td>2006-05-27</td>\n",
       "      <td>Filer</td>\n",
       "      <td>Cummins</td>\n",
       "      <td>222.0</td>\n",
       "      <td>1.0</td>\n",
       "      <td>1976.0</td>\n",
       "      <td>1973.0</td>\n",
       "      <td>~Polyester</td>\n",
       "      <td>4.9</td>\n",
       "      <td>3.1</td>\n",
       "      <td>0.4</td>\n",
       "      <td>Grandcamp Maisy</td>\n",
       "    </tr>\n",
       "    <tr>\n",
       "      <th>1270</th>\n",
       "      <td>2006-05-27</td>\n",
       "      <td>Fishing vessel</td>\n",
       "      <td>YAMAHA</td>\n",
       "      <td>124.0</td>\n",
       "      <td>1.0</td>\n",
       "      <td>2005.0</td>\n",
       "      <td>1972.0</td>\n",
       "      <td>~Polyester</td>\n",
       "      <td>3.8</td>\n",
       "      <td>2.2</td>\n",
       "      <td>1.4</td>\n",
       "      <td>La Rochelle</td>\n",
       "    </tr>\n",
       "    <tr>\n",
       "      <th>1271</th>\n",
       "      <td>2006-05-29</td>\n",
       "      <td>Other</td>\n",
       "      <td>Iveco</td>\n",
       "      <td>NaN</td>\n",
       "      <td>NaN</td>\n",
       "      <td>NaN</td>\n",
       "      <td>NaN</td>\n",
       "      <td>NaN</td>\n",
       "      <td>NaN</td>\n",
       "      <td>NaN</td>\n",
       "      <td>3.5</td>\n",
       "      <td>Granville</td>\n",
       "    </tr>\n",
       "    <tr>\n",
       "      <th>1272</th>\n",
       "      <td>2006-05-31</td>\n",
       "      <td>Filer</td>\n",
       "      <td>BAUDOUIN</td>\n",
       "      <td>354.0</td>\n",
       "      <td>1.0</td>\n",
       "      <td>1991.0</td>\n",
       "      <td>1981.0</td>\n",
       "      <td>Polyester</td>\n",
       "      <td>7.7</td>\n",
       "      <td>15.5</td>\n",
       "      <td>8.9</td>\n",
       "      <td>La Cotiniere</td>\n",
       "    </tr>\n",
       "    <tr>\n",
       "      <th>1273</th>\n",
       "      <td>2006-06-01</td>\n",
       "      <td>Other</td>\n",
       "      <td>BONI VALMET</td>\n",
       "      <td>NaN</td>\n",
       "      <td>NaN</td>\n",
       "      <td>NaN</td>\n",
       "      <td>NaN</td>\n",
       "      <td>NaN</td>\n",
       "      <td>NaN</td>\n",
       "      <td>NaN</td>\n",
       "      <td>133.7</td>\n",
       "      <td>Saint-Barthelemy</td>\n",
       "    </tr>\n",
       "  </tbody>\n",
       "</table>\n",
       "<p>1274 rows × 12 columns</p>\n",
       "</div>"
      ],
      "text/plain": [
       "      occur_date      ship_categ   ship_brand  ship_power  ship_eng_nb  \\\n",
       "0     2003-01-03           Filer      PERKINS       133.0          2.0   \n",
       "1     2003-01-03           Filer          NaN       372.0          2.0   \n",
       "2     2003-01-03         Troller        DEUTZ       443.0          1.0   \n",
       "3     2003-01-04         Trawler      Cummins       266.0          1.0   \n",
       "4     2003-01-04       Crab boat  BONI VALMET       145.0          1.0   \n",
       "...          ...             ...          ...         ...          ...   \n",
       "1269  2006-05-27           Filer      Cummins       222.0          1.0   \n",
       "1270  2006-05-27  Fishing vessel       YAMAHA       124.0          1.0   \n",
       "1271  2006-05-29           Other        Iveco         NaN          NaN   \n",
       "1272  2006-05-31           Filer     BAUDOUIN       354.0          1.0   \n",
       "1273  2006-06-01           Other  BONI VALMET         NaN          NaN   \n",
       "\n",
       "      ship_eng_year  ship_build_year         ship_hull  ship_length  \\\n",
       "0            1998.0           1998.0  Alluminium Alloy          6.3   \n",
       "1            2005.0           1981.0  Alluminium Alloy         13.7   \n",
       "2            1995.0           1979.0         polyester          6.7   \n",
       "3            1994.0           1965.0             ~Wood          6.4   \n",
       "4            1994.0           1969.0              Wood          5.2   \n",
       "...             ...              ...               ...          ...   \n",
       "1269         1976.0           1973.0        ~Polyester          4.9   \n",
       "1270         2005.0           1972.0        ~Polyester          3.8   \n",
       "1271            NaN              NaN               NaN          NaN   \n",
       "1272         1991.0           1981.0         Polyester          7.7   \n",
       "1273            NaN              NaN               NaN          NaN   \n",
       "\n",
       "      ship_tonnage  claim_cost          head_quarter  \n",
       "0              6.6         1.4              Arcachon  \n",
       "1            186.6         3.9          La Cotiniere  \n",
       "2             14.2         0.6  Saint-Quay-Portrieux  \n",
       "3             10.1         2.7              Audierne  \n",
       "4              4.2         1.5            Concarneau  \n",
       "...            ...         ...                   ...  \n",
       "1269           3.1         0.4       Grandcamp Maisy  \n",
       "1270           2.2         1.4           La Rochelle  \n",
       "1271           NaN         3.5             Granville  \n",
       "1272          15.5         8.9          La Cotiniere  \n",
       "1273           NaN       133.7      Saint-Barthelemy  \n",
       "\n",
       "[1274 rows x 12 columns]"
      ]
     },
     "execution_count": 115,
     "metadata": {},
     "output_type": "execute_result"
    }
   ],
   "source": [
    "df = pd.read_csv('data.csv')\n",
    "df.info()\n",
    "df.describe()\n",
    "df.isna().mean().sort_values(ascending=False).multiply(100)[lambda x: x>0]\n",
    "df"
   ]
  },
  {
   "cell_type": "code",
   "execution_count": 116,
   "metadata": {},
   "outputs": [
    {
     "data": {
      "text/plain": [
       "head_quarter       17.974882\n",
       "ship_brand         16.326531\n",
       "ship_power         16.326531\n",
       "ship_eng_nb        16.326531\n",
       "ship_eng_year      16.326531\n",
       "ship_build_year    16.326531\n",
       "ship_hull          16.326531\n",
       "ship_length        16.326531\n",
       "ship_tonnage       16.326531\n",
       "dtype: float64"
      ]
     },
     "execution_count": 116,
     "metadata": {},
     "output_type": "execute_result"
    }
   ],
   "source": [
    "col_has_na = df.columns[df.isna().any()]\n",
    "df[col_has_na].isna().mean().multiply(100).sort_values(ascending=False)"
   ]
  },
  {
   "cell_type": "code",
   "execution_count": 117,
   "metadata": {},
   "outputs": [
    {
     "data": {
      "text/plain": [
       "occur_date\n",
       "5    77.467347\n",
       "Name: claim_cost, dtype: float64"
      ]
     },
     "execution_count": 117,
     "metadata": {},
     "output_type": "execute_result"
    }
   ],
   "source": [
    "k = 3\n",
    "top_k = df.ship_brand.value_counts().nlargest(k).index\n",
    "\n",
    "# df.occur_date.dt.month()\n",
    "\n",
    "months = pd.to_datetime(df.occur_date).dt.month\n",
    "\n",
    "df.query(\"ship_brand in @top_k\").groupby(months).claim_cost.mean().nlargest(1)\n",
    "# df[df.ship_brand.isin(top_k)].groupby(months).claim_cost.mean().nlargest(1) # same as above\n"
   ]
  },
  {
   "cell_type": "code",
   "execution_count": 118,
   "metadata": {},
   "outputs": [
    {
     "name": "stderr",
     "output_type": "stream",
     "text": [
      "/var/folders/c2/yj8ksjmn34v5f9csr1s82d8r0000gn/T/ipykernel_67326/1428688823.py:2: SettingWithCopyWarning: \n",
      "A value is trying to be set on a copy of a slice from a DataFrame\n",
      "\n",
      "See the caveats in the documentation: https://pandas.pydata.org/pandas-docs/stable/user_guide/indexing.html#returning-a-view-versus-a-copy\n",
      "  df.ship_categ[df.ship_categ.isin(names)] = 'Other'\n"
     ]
    }
   ],
   "source": [
    "names = df.ship_categ.value_counts()[lambda s: s.lt(10)].index\n",
    "df.ship_categ[df.ship_categ.isin(names)] = 'Other' \n",
    "\n",
    "df.ship_categ.replace(names, 'Other', inplace=True) # M2. good way \n",
    "\n",
    "\n",
    "\n"
   ]
  },
  {
   "cell_type": "code",
   "execution_count": 122,
   "metadata": {},
   "outputs": [
    {
     "data": {
      "text/plain": [
       "ship_power         208\n",
       "ship_eng_nb        208\n",
       "ship_eng_year      208\n",
       "ship_build_year    208\n",
       "ship_length        208\n",
       "ship_tonnage       208\n",
       "claim_cost           0\n",
       "dtype: int64"
      ]
     },
     "execution_count": 122,
     "metadata": {},
     "output_type": "execute_result"
    }
   ],
   "source": [
    "temp = df.select_dtypes('number')\n",
    "temp = temp.fillna(temp.median())\n",
    "\n",
    "df.select_dtypes('number').isna().sum()"
   ]
  },
  {
   "cell_type": "code",
   "execution_count": 126,
   "metadata": {},
   "outputs": [],
   "source": [
    "# M1 \n",
    "df_num = df.select_dtypes('number')\n",
    "df[df_num.columns] = df_num.fillna(df_num.median()) \n",
    "\n",
    "# M2\n",
    "cols_num = df.select_dtypes('number').columns \n",
    "df[cols_num] = df[cols_num].fillna(df[cols_num].median())\n",
    "\n",
    "# M3 \n",
    "df = df.fillna(df.select_dtypes('number').median())"
   ]
  },
  {
   "cell_type": "code",
   "execution_count": 147,
   "metadata": {},
   "outputs": [
    {
     "data": {
      "text/plain": [
       "Polyester              511\n",
       "Wood                   249\n",
       "Steel                  165\n",
       "Alluminium Alloy       135\n",
       "Wood Epoxy               4\n",
       "Reinforced Plastic       1\n",
       "Plasticized Plywood      1\n",
       "Name: ship_hull, dtype: int64"
      ]
     },
     "execution_count": 147,
     "metadata": {},
     "output_type": "execute_result"
    }
   ],
   "source": [
    "# df\n",
    "# df.ship_hull.value_counts()\n",
    "# df.ship_hull.value_counts()\n",
    "# df.ship_hull.str.title().value_counts()\n",
    "df['ship_hull'] = df.ship_hull.str.title().str.replace(r'[^a-zA-Z\\s]', '', regex=True)\n",
    "# df.ship_hull.value_counts()"
   ]
  },
  {
   "cell_type": "code",
   "execution_count": 156,
   "metadata": {},
   "outputs": [],
   "source": [
    "df = df.fillna(df.select_dtypes(object).mode().loc[0])"
   ]
  },
  {
   "cell_type": "code",
   "execution_count": 159,
   "metadata": {},
   "outputs": [],
   "source": [
    "df_num = df.select_dtypes('number')\n",
    "\n",
    "df[df_num.columns] = (df_num - df_num.mean())/df_num.std()"
   ]
  },
  {
   "cell_type": "code",
   "execution_count": 170,
   "metadata": {},
   "outputs": [],
   "source": [
    "X = df.drop(['claim_cost', 'occur_date', 'ship_brand', 'head_quarter'], axis=1)\n",
    "y = df.claim_cost"
   ]
  },
  {
   "cell_type": "code",
   "execution_count": 171,
   "metadata": {},
   "outputs": [
    {
     "data": {
      "text/plain": [
       "Trawler             380\n",
       "Filer               318\n",
       "Other               226\n",
       "Crab boat           137\n",
       "Troller              85\n",
       "Fishing vessel       45\n",
       "Speedboat            29\n",
       "Shellfish boat       16\n",
       "Passenger vessel     14\n",
       "Coast catamaran      13\n",
       "Dredger              11\n",
       "Name: ship_categ, dtype: int64"
      ]
     },
     "execution_count": 171,
     "metadata": {},
     "output_type": "execute_result"
    },
    {
     "data": {
      "text/plain": [
       "Polyester              719\n",
       "Wood                   249\n",
       "Steel                  165\n",
       "Alluminium Alloy       135\n",
       "Wood Epoxy               4\n",
       "Reinforced Plastic       1\n",
       "Plasticized Plywood      1\n",
       "Name: ship_hull, dtype: int64"
      ]
     },
     "execution_count": 171,
     "metadata": {},
     "output_type": "execute_result"
    }
   ],
   "source": [
    "for x in X.select_dtypes(object).columns:\n",
    "    X[x].value_counts()"
   ]
  },
  {
   "cell_type": "code",
   "execution_count": 174,
   "metadata": {},
   "outputs": [
    {
     "data": {
      "text/plain": [
       "(1274, 24)"
      ]
     },
     "execution_count": 174,
     "metadata": {},
     "output_type": "execute_result"
    }
   ],
   "source": [
    "X = pd.get_dummies(X)\n",
    "X.shape"
   ]
  },
  {
   "cell_type": "code",
   "execution_count": 177,
   "metadata": {},
   "outputs": [
    {
     "data": {
      "text/plain": [
       "0.7487958372244915"
      ]
     },
     "execution_count": 177,
     "metadata": {},
     "output_type": "execute_result"
    },
    {
     "data": {
      "text/plain": [
       "0.6903334809538881"
      ]
     },
     "execution_count": 177,
     "metadata": {},
     "output_type": "execute_result"
    },
    {
     "data": {
      "text/plain": [
       "<seaborn.axisgrid.FacetGrid at 0x1481c8340>"
      ]
     },
     "execution_count": 177,
     "metadata": {},
     "output_type": "execute_result"
    },
    {
     "data": {
      "text/plain": [
       "<seaborn.axisgrid.FacetGrid at 0x1482293a0>"
      ]
     },
     "execution_count": 177,
     "metadata": {},
     "output_type": "execute_result"
    },
    {
     "data": {
      "image/png": "[encoded data removed]",
      "text/plain": [
       "<Figure size 360x360 with 1 Axes>"
      ]
     },
     "metadata": {},
     "output_type": "display_data"
    },
    {
     "data": {
      "image/png": "[encoded data removed]",
      "text/plain": [
       "<Figure size 360x360 with 1 Axes>"
      ]
     },
     "metadata": {},
     "output_type": "display_data"
    }
   ],
   "source": [
    "X_train, X_test, y_train, y_test = train_test_split(X,y, test_size=0.3, random_state=123)\n",
    "\n",
    "\n",
    "\n",
    "model = DecisionTreeRegressor(max_depth=8).fit(X_train,y_train)\n",
    "model.score(X_train,y_train)\n",
    "model.score(X_test,y_test)\n",
    "\n",
    "y_pred = model.predict(X_test)\n",
    "sns.relplot(x=y_test, y=y_pred, kind='scatter').set(ylabel='predicted', xlabel='true')\n",
    "sns.relplot(x=y_train, y=model.predict(X_train), kind='scatter').set(ylabel='predicted', xlabel='true')"
   ]
  },
  {
   "cell_type": "code",
   "execution_count": null,
   "metadata": {},
   "outputs": [],
   "source": [
    "\n"
   ]
  },
  {
   "cell_type": "code",
   "execution_count": 144,
   "metadata": {},
   "outputs": [
    {
     "data": {
      "text/plain": [
       "'Heewk Few Few'"
      ]
     },
     "execution_count": 144,
     "metadata": {},
     "output_type": "execute_result"
    }
   ],
   "source": [
    "\"heewk few few\".title()"
   ]
  },
  {
   "cell_type": "code",
   "execution_count": null,
   "metadata": {},
   "outputs": [],
   "source": []
  },
  {
   "cell_type": "code",
   "execution_count": null,
   "metadata": {},
   "outputs": [],
   "source": []
  },
  {
   "cell_type": "code",
   "execution_count": null,
   "metadata": {},
   "outputs": [],
   "source": []
  }
 ],
 "metadata": {
  "interpreter": {
   "hash": "ae74f9feb07f97b665e59d852dca9947bf3c6be9bdf551f43d711a8fd00af3ab"
  },
  "kernelspec": {
   "display_name": "Python 3.9.7 ('data_science')",
   "language": "python",
   "name": "python3"
  },
  "language_info": {
   "codemirror_mode": {
    "name": "ipython",
    "version": 3
   },
   "file_extension": ".py",
   "mimetype": "text/x-python",
   "name": "python",
   "nbconvert_exporter": "python",
   "pygments_lexer": "ipython3",
   "version": "3.9.7"
  },
  "orig_nbformat": 4
 },
 "nbformat": 4,
 "nbformat_minor": 2
}
