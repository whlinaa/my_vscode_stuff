{
 "cells": [
  {
   "cell_type": "markdown",
   "metadata": {},
   "source": [
    "- rotate sorted array: https://www.youtube.com/watch?v=nIVW4P8b1VA&list=PL4BNnTqnsOLdwk_5UUOv3FN57fMtfBo6c&index=13&t=542s\n",
    "- schedule CPU tasks: https://www.youtube.com/watch?v=RR1n-d4oYqE&list=PL4BNnTqnsOLdwk_5UUOv3FN57fMtfBo6c&index=5\n",
    "- Decode String: https://www.youtube.com/watch?v=qB0zZpBJlh8&list=PL4BNnTqnsOLdwk_5UUOv3FN57fMtfBo6c&index=18&t=542s\n"
   ]
  },
  {
   "cell_type": "code",
   "execution_count": 1,
   "metadata": {},
   "outputs": [],
   "source": [
    "from ds_preamble import *"
   ]
  },
  {
   "cell_type": "markdown",
   "metadata": {},
   "source": [
    "# stack problems"
   ]
  },
  {
   "cell_type": "code",
   "execution_count": 18,
   "metadata": {},
   "outputs": [
    {
     "data": {
      "text/plain": [
       "True"
      ]
     },
     "execution_count": 18,
     "metadata": {},
     "output_type": "execute_result"
    },
    {
     "data": {
      "text/plain": [
       "False"
      ]
     },
     "execution_count": 18,
     "metadata": {},
     "output_type": "execute_result"
    },
    {
     "data": {
      "text/plain": [
       "True"
      ]
     },
     "execution_count": 18,
     "metadata": {},
     "output_type": "execute_result"
    },
    {
     "data": {
      "text/plain": [
       "False"
      ]
     },
     "execution_count": 18,
     "metadata": {},
     "output_type": "execute_result"
    },
    {
     "data": {
      "text/plain": [
       "False"
      ]
     },
     "execution_count": 18,
     "metadata": {},
     "output_type": "execute_result"
    },
    {
     "data": {
      "text/plain": [
       "True"
      ]
     },
     "execution_count": 18,
     "metadata": {},
     "output_type": "execute_result"
    },
    {
     "data": {
      "text/plain": [
       "True"
      ]
     },
     "execution_count": 18,
     "metadata": {},
     "output_type": "execute_result"
    }
   ],
   "source": [
    "def is_matched(s):\n",
    "    stack = []\n",
    "    left= '([{'\n",
    "    right= ')]}'\n",
    "    for c in s:\n",
    "        if c in left:\n",
    "            stack.append(c)\n",
    "        elif c in right:\n",
    "            if len(stack)==0 or left.index(stack.pop()) != right.index(c):\n",
    "                return False\n",
    "    return len(stack)==0\n",
    "\n",
    "# is_well_formed('({*5*(4+3))}]')\n",
    "is_matched('[(5+x)-(y+z)]') # True\n",
    "is_matched('[') # False\n",
    "is_matched('') # True\n",
    "is_matched('[[') # False\n",
    "is_matched(']') # False\n",
    "is_matched('([{}])') # True\n",
    "is_matched('([{[\"]}])') # True"
   ]
  },
  {
   "cell_type": "code",
   "execution_count": 36,
   "metadata": {},
   "outputs": [
    {
     "data": {
      "text/plain": [
       "[-13]"
      ]
     },
     "execution_count": 36,
     "metadata": {},
     "output_type": "execute_result"
    }
   ],
   "source": [
    "def postfix_eval(s):\n",
    "    stack = []\n",
    "    for c in s:\n",
    "        if c.isdigit():\n",
    "            stack.append(int(c))\n",
    "        elif c in ['+','-','*','/']:\n",
    "            right = stack.pop()\n",
    "            left = stack.pop()\n",
    "            # print(f'{left}{c}{right}')\n",
    "            stack.append(eval(f'{left}{c}{right}'))\n",
    "            # print(stack)\n",
    "    return stack\n",
    "\n",
    "s='1234*+-'\n",
    "postfix_eval(s)"
   ]
  },
  {
   "cell_type": "code",
   "execution_count": 57,
   "metadata": {},
   "outputs": [
    {
     "name": "stdout",
     "output_type": "stream",
     "text": [
      "True\n",
      "True\n",
      "True\n",
      "True\n",
      "True\n",
      "False\n"
     ]
    }
   ],
   "source": [
    "def is_palindrome(s):\n",
    "    n = len(s)\n",
    "    mid = n//2\n",
    "    stack = list(s[:mid])\n",
    "    for c in s[mid if n%2==0 else mid+1:]:\n",
    "        if stack.pop() != c:\n",
    "            return False\n",
    "    return True\n",
    "\n",
    "t = ['refer', 'eye','racecar','ff','fxf','fxa']\n",
    "for s in t:\n",
    "    print(is_palindrome(s))"
   ]
  },
  {
   "cell_type": "markdown",
   "metadata": {},
   "source": [
    "# backtracking problems"
   ]
  },
  {
   "cell_type": "code",
   "execution_count": null,
   "metadata": {},
   "outputs": [],
   "source": []
  }
 ],
 "metadata": {
  "interpreter": {
   "hash": "ae74f9feb07f97b665e59d852dca9947bf3c6be9bdf551f43d711a8fd00af3ab"
  },
  "kernelspec": {
   "display_name": "Python 3.9.7 ('data_science')",
   "language": "python",
   "name": "python3"
  },
  "language_info": {
   "codemirror_mode": {
    "name": "ipython",
    "version": 3
   },
   "file_extension": ".py",
   "mimetype": "text/x-python",
   "name": "python",
   "nbconvert_exporter": "python",
   "pygments_lexer": "ipython3",
   "version": "3.10.4"
  },
  "orig_nbformat": 4
 },
 "nbformat": 4,
 "nbformat_minor": 2
}
