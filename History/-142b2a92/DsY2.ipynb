{
 "cells": [
  {
   "cell_type": "code",
   "execution_count": 1,
   "metadata": {},
   "outputs": [
    {
     "name": "stdout",
     "output_type": "stream",
     "text": [
      "calling ds_preamble..\n",
      "calling ds_helper...\n"
     ]
    }
   ],
   "source": [
    "from ds_utils.ds_preamble import *\n",
    "from ds_utils.ds_plotting import *\n",
    "from ds_utils.ds_helper import *"
   ]
  },
  {
   "cell_type": "code",
   "execution_count": 2,
   "metadata": {},
   "outputs": [
    {
     "name": "stdout",
     "output_type": "stream",
     "text": [
      "15.txt\n",
      "14.txt\n",
      "16.txt\n",
      "17.txt\n",
      "13.txt\n",
      ".DS_Store\n",
      "12.txt\n",
      "10.txt\n",
      "11.txt\n",
      "9.txt\n",
      "8.txt\n",
      "5.txt\n",
      "4.txt\n",
      "6.txt\n",
      "7.txt\n",
      "3.txt\n",
      "2.txt\n",
      "1.txt\n",
      "add_id.txt\n",
      "20.txt\n",
      "21.txt\n",
      "23.txt\n",
      "22.txt\n",
      "19.txt\n",
      "18.txt\n"
     ]
    }
   ],
   "source": [
    "home = \"/Users/whlin/Library/CloudStorage/OneDrive-HKUSTConnect/Documents/python/data/raymond_attendance_count/processed\"\n",
    "os.chdir(home)\n",
    "for file in os.listdir():\n",
    "    print(file)"
   ]
  },
  {
   "cell_type": "code",
   "execution_count": 4,
   "metadata": {},
   "outputs": [
    {
     "data": {
      "text/plain": [
       "{0: array([4, 5, 6]),\n",
       " 1: array([5, 2, 6]),\n",
       " 2: array([1, 4, 6]),\n",
       " 3: array([5, 6]),\n",
       " 4: array([4]),\n",
       " 5: array([4, 2, 1]),\n",
       " 6: array([1, 3, 6, 5, 4]),\n",
       " 7: array([5, 3, 1, 2]),\n",
       " 8: array([1, 5, 6, 2]),\n",
       " 9: array([4]),\n",
       " 10: array([6, 1, 5, 3, 2, 4]),\n",
       " 11: array([5, 6, 3, 2]),\n",
       " 12: array([4, 6, 1]),\n",
       " 13: array([5, 1, 3]),\n",
       " 14: array([2, 5])}"
      ]
     },
     "execution_count": 4,
     "metadata": {},
     "output_type": "execute_result"
    }
   ],
   "source": [
    "id = pd.Index([1,2,3,4,5,6])\n",
    "\n",
    "df = pd.DataFrame(np.zeros((6,15)), index=id)\n",
    "\n",
    "attend = {}\n",
    "for i in range(15):\n",
    "    attend[i] = np.random.choice(id, size=np.random.randint(1,len(id)+1), replace=False)\n",
    "\n",
    "\n",
    "\n",
    "attend\n",
    "\n",
    "# id.isin(attend[1])"
   ]
  },
  {
   "cell_type": "code",
   "execution_count": null,
   "metadata": {},
   "outputs": [],
   "source": []
  }
 ],
 "metadata": {
  "interpreter": {
   "hash": "ae74f9feb07f97b665e59d852dca9947bf3c6be9bdf551f43d711a8fd00af3ab"
  },
  "kernelspec": {
   "display_name": "Python 3.9.7 ('data_science')",
   "language": "python",
   "name": "python3"
  },
  "language_info": {
   "codemirror_mode": {
    "name": "ipython",
    "version": 3
   },
   "file_extension": ".py",
   "mimetype": "text/x-python",
   "name": "python",
   "nbconvert_exporter": "python",
   "pygments_lexer": "ipython3",
   "version": "3.9.7"
  },
  "orig_nbformat": 4
 },
 "nbformat": 4,
 "nbformat_minor": 2
}
