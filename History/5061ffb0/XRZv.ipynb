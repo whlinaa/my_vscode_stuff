{
 "cells": [
  {
   "cell_type": "code",
   "execution_count": 4,
   "metadata": {},
   "outputs": [
    {
     "name": "stdout",
     "output_type": "stream",
     "text": [
      "calling ds_preamble..\n",
      "calling ds_helper...\n"
     ]
    }
   ],
   "source": [
    "from ds_utils.ds_preamble import *\n",
    "from ds_utils.ds_plotting import *\n",
    "from ds_utils.ds_helper import *"
   ]
  },
  {
   "cell_type": "code",
   "execution_count": 97,
   "metadata": {},
   "outputs": [],
   "source": [
    "tips = sns.load_dataset(\"tips\")\n",
    "tips_tiny = tips[:4]\n"
   ]
  },
  {
   "cell_type": "markdown",
   "metadata": {},
   "source": [
    "# aggregation for DataFrame and GroupBy\n",
    "- df: \n",
    "    - applymap, agg, transform, apply\n",
    "- groupby:\n",
    "    - apply, agg, transform "
   ]
  },
  {
   "cell_type": "code",
   "execution_count": 90,
   "metadata": {},
   "outputs": [
    {
     "name": "stdout",
     "output_type": "stream",
     "text": [
      "16.99\n",
      "ind\n",
      "0    16.99\n",
      "1    10.34\n",
      "Name: total_bill, dtype: float64\n",
      "1.01\n",
      "ind\n",
      "0    1.01\n",
      "1    1.66\n",
      "Name: tip, dtype: float64\n"
     ]
    },
    {
     "data": {
      "text/html": [
       "<div>\n",
       "<style scoped>\n",
       "    .dataframe tbody tr th:only-of-type {\n",
       "        vertical-align: middle;\n",
       "    }\n",
       "\n",
       "    .dataframe tbody tr th {\n",
       "        vertical-align: top;\n",
       "    }\n",
       "\n",
       "    .dataframe thead th {\n",
       "        text-align: right;\n",
       "    }\n",
       "</style>\n",
       "<table border=\"1\" class=\"dataframe\">\n",
       "  <thead>\n",
       "    <tr style=\"text-align: right;\">\n",
       "      <th>cols</th>\n",
       "      <th>total_bill</th>\n",
       "      <th>tip</th>\n",
       "    </tr>\n",
       "  </thead>\n",
       "  <tbody>\n",
       "    <tr>\n",
       "      <th>find_mean</th>\n",
       "      <td>13.665</td>\n",
       "      <td>1.335</td>\n",
       "    </tr>\n",
       "    <tr>\n",
       "      <th>mean</th>\n",
       "      <td>13.665</td>\n",
       "      <td>1.335</td>\n",
       "    </tr>\n",
       "  </tbody>\n",
       "</table>\n",
       "</div>"
      ],
      "text/plain": [
       "cols       total_bill    tip\n",
       "find_mean      13.665  1.335\n",
       "mean           13.665  1.335"
      ]
     },
     "execution_count": 90,
     "metadata": {},
     "output_type": "execute_result"
    }
   ],
   "source": [
    "def find_abs(s):\n",
    "    print(s)\n",
    "    return s.abs()\n",
    "\n",
    "def add_(e):\n",
    "    print(e)\n",
    "    return e+1\n",
    "\n",
    "def find_mean(s):\n",
    "    print(s)\n",
    "    return s.mean()\n",
    "\n",
    "tips_tiny = tips[['total_bill','tip']][:2]\n",
    "tips_tiny.apply([find_mean,'mean']) # can accept list of functions\n",
    "tips_tiny.transform([find_abs, add_]) # can accept list of functions\n",
    "tips_tiny.applymap(add_) # accept a single function only.."
   ]
  },
  {
   "cell_type": "code",
   "execution_count": 92,
   "metadata": {},
   "outputs": [
    {
     "name": "stdout",
     "output_type": "stream",
     "text": [
      "cols  total_bill   tip\n",
      "ind                   \n",
      "0          16.99  1.01\n",
      "1          10.34  1.66\n",
      "cols\n",
      "total_bill    16.665\n",
      "tip            4.335\n",
      "dtype: float64\n",
      "cols total_bill    tip\n",
      "ind                   \n",
      "0           big  small\n",
      "1           big  small\n"
     ]
    }
   ],
   "source": [
    "print(tips_tiny.select_dtypes('number'))\n",
    "print(tips_tiny.select_dtypes('number').apply(lambda x: x.mean()+3))\n",
    "print(tips_tiny.select_dtypes('number').applymap(lambda x: 'big' if x >5 else 'small'))"
   ]
  },
  {
   "cell_type": "code",
   "execution_count": 89,
   "metadata": {},
   "outputs": [
    {
     "name": "stdout",
     "output_type": "stream",
     "text": [
      "ind\n",
      "1    10.34\n",
      "2    21.01\n",
      "Name: total_bill, dtype: float64\n",
      "ind\n",
      "0    16.99\n",
      "Name: total_bill, dtype: float64\n",
      "ind\n",
      "1    1.66\n",
      "2    3.50\n",
      "Name: tip, dtype: float64\n",
      "ind\n",
      "0    1.01\n",
      "Name: tip, dtype: float64\n"
     ]
    },
    {
     "data": {
      "text/html": [
       "<div>\n",
       "<style scoped>\n",
       "    .dataframe tbody tr th:only-of-type {\n",
       "        vertical-align: middle;\n",
       "    }\n",
       "\n",
       "    .dataframe tbody tr th {\n",
       "        vertical-align: top;\n",
       "    }\n",
       "\n",
       "    .dataframe thead th {\n",
       "        text-align: right;\n",
       "    }\n",
       "</style>\n",
       "<table border=\"1\" class=\"dataframe\">\n",
       "  <thead>\n",
       "    <tr style=\"text-align: right;\">\n",
       "      <th>cols</th>\n",
       "      <th>total_bill</th>\n",
       "      <th>tip</th>\n",
       "    </tr>\n",
       "    <tr>\n",
       "      <th>sex</th>\n",
       "      <th></th>\n",
       "      <th></th>\n",
       "    </tr>\n",
       "  </thead>\n",
       "  <tbody>\n",
       "    <tr>\n",
       "      <th>Male</th>\n",
       "      <td>15.675</td>\n",
       "      <td>2.58</td>\n",
       "    </tr>\n",
       "    <tr>\n",
       "      <th>Female</th>\n",
       "      <td>16.990</td>\n",
       "      <td>1.01</td>\n",
       "    </tr>\n",
       "  </tbody>\n",
       "</table>\n",
       "</div>"
      ],
      "text/plain": [
       "cols    total_bill   tip\n",
       "sex                     \n",
       "Male        15.675  2.58\n",
       "Female      16.990  1.01"
      ]
     },
     "execution_count": 89,
     "metadata": {},
     "output_type": "execute_result"
    }
   ],
   "source": [
    "tips_gp = tips[:3].groupby('sex')[['total_bill','tip']]\n",
    "\n",
    "tips_gp.apply(find_mean) # pass each subframe (i.e. group). accept a function only. Can't accept a list of functions\n",
    "tips_gp.agg(find_mean) # for each group, pass each column one by one\n",
    "tips_gp.transform(find_mean) # like agg, for each group, pass each column one by one"
   ]
  }
 ],
 "metadata": {
  "interpreter": {
   "hash": "ae74f9feb07f97b665e59d852dca9947bf3c6be9bdf551f43d711a8fd00af3ab"
  },
  "kernelspec": {
   "display_name": "Python 3.9.7 ('data_science')",
   "language": "python",
   "name": "python3"
  },
  "language_info": {
   "codemirror_mode": {
    "name": "ipython",
    "version": 3
   },
   "file_extension": ".py",
   "mimetype": "text/x-python",
   "name": "python",
   "nbconvert_exporter": "python",
   "pygments_lexer": "ipython3",
   "version": "3.9.7"
  },
  "orig_nbformat": 4
 },
 "nbformat": 4,
 "nbformat_minor": 2
}
