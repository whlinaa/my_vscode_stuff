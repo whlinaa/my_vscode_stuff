{
 "cells": [
  {
   "cell_type": "code",
   "execution_count": 5,
   "metadata": {},
   "outputs": [],
   "source": [
    "### To change directory: ###\n",
    "#import os\n",
    "#os.getcwd()\n",
    "#os.chdir()"
   ]
  },
  {
   "cell_type": "markdown",
   "metadata": {},
   "source": [
    "## Loading packages\n",
    "In this section we point out differences between Python and $LaTeX$. We first import the useful libraries. \n",
    "Remember that we can use\n",
    "```python\n",
    "from numpy import *\n",
    "```\n",
    "to avoid writing the package name. \n",
    "Or, we can use the namesapce\n",
    "```python\n",
    "from pylab import *\n",
    "```\n",
    "which incldes Numpy, Scipy, and Matplotlib\n",
    "\n"
   ]
  },
  {
   "cell_type": "code",
   "execution_count": 6,
   "metadata": {},
   "outputs": [],
   "source": [
    "import numpy as np\n",
    "\n",
    "#from numpy import *\n",
    "#from sympy import *"
   ]
  },
  {
   "cell_type": "code",
   "execution_count": 4,
   "metadata": {},
   "outputs": [
    {
     "name": "stdout",
     "output_type": "stream",
     "text": [
      "This is a string with single quotes\n",
      "This is a string with double quotes\n"
     ]
    }
   ],
   "source": [
    "### Note that string can be enclosed with either single quotes or double quotes. For example, both of the below are valid.\n",
    "my_string = 'This is a string with single quotes'\n",
    "print (my_string)\n",
    "my_string = \"This is a string with double quotes\"\n",
    "print (my_string)"
   ]
  },
  {
   "cell_type": "markdown",
   "metadata": {},
   "source": [
    "### Techniques of print function\n",
    "- Note that if we see statements like `print x`, then the code is written in Python 2! This is syntax of Python 2 and we use Python 3. \n",
    "- In print(), we can use `sep=''` and `end=''` to control the seperator and end of line procedure!"
   ]
  },
  {
   "cell_type": "code",
   "execution_count": 5,
   "metadata": {},
   "outputs": [
    {
     "name": "stdout",
     "output_type": "stream",
     "text": [
      "arr = [0 1 2 3 4 5 6 7 8 9]\n",
      "arr = [0 1 2 3 4 5 6 7 8 9]\n",
      "Hello xxx world xxx 123 0 1 1 2 3 5 8 13 21 34 55 89 144 233 377 610 987 1597 \n"
     ]
    }
   ],
   "source": [
    "arr=np.arange(10)\n",
    "# ways to print both string and numbers\n",
    "print(\"arr =\", arr) #1st method\n",
    "print(\"arr = \" + str(arr))\n",
    "print(\"Hello\",\"world\", 123, sep=' xxx ', end=' ')\n",
    "\n",
    "## The following is a good print() example\n",
    "def fib(n):    # write Fibonacci series up to n\n",
    "    \"\"\"Print a Fibonacci series up to n.\"\"\"\n",
    "    a, b = 0, 1\n",
    "    while a < n:\n",
    "        print(a, end=' ')\n",
    "        a, b = b, a+b\n",
    "    print()    # used to add a new line\n",
    "\n",
    "# Now call the function we just defined:\n",
    "fib(2000)"
   ]
  },
  {
   "cell_type": "markdown",
   "metadata": {},
   "source": [
    "### Difference between range and np.arange\n",
    "- their functions are the same: create numbers from $[a,b)$, with `range(a,b)`. However, `range(a,b)` returns a list (since it is a built-in python function!), whereas `np.arange(a,b)` returns an n-d array.\n",
    "- note: `range(0,20,2)` means that {0,2,4,6,...,18}"
   ]
  },
  {
   "cell_type": "code",
   "execution_count": 9,
   "metadata": {},
   "outputs": [
    {
     "name": "stdout",
     "output_type": "stream",
     "text": [
      "<class 'range'>\n",
      "(9,)\n",
      "0\n",
      "2\n",
      "4\n",
      "6\n",
      "8\n",
      "10\n",
      "12\n",
      "14\n",
      "16\n",
      "18\n"
     ]
    }
   ],
   "source": [
    "A=range(1,10)\n",
    "#print(type(A))\n",
    "B=np.arange(1,10)\n",
    "#print(A.shape) #error! since A is not an array\n",
    "print(B.shape)\n",
    "for i in range (0,20,2):\n",
    "    print(i)"
   ]
  },
  {
   "cell_type": "markdown",
   "metadata": {},
   "source": [
    "### Misc. \n",
    "- to do block comments, use \"\"\" comment \"\"\"\n",
    "- remember that to use exp, we should use np.exp, not math.exp, since np.exp supports vector input\n",
    "- to check the documentation of a function, use `np.FUNCTION_NAME?`\n"
   ]
  },
  {
   "cell_type": "code",
   "execution_count": 7,
   "metadata": {},
   "outputs": [
    {
     "name": "stdout",
     "output_type": "stream",
     "text": [
      "3\n"
     ]
    }
   ],
   "source": [
    "\"\"\"\n",
    "This is a block comment\n",
    "\"\"\"\n",
    "print(3)"
   ]
  },
  {
   "cell_type": "markdown",
   "metadata": {},
   "source": [
    "### Iteration constructs\n",
    "- the `for` loop syntax is `for i in []'"
   ]
  },
  {
   "cell_type": "code",
   "execution_count": 8,
   "metadata": {},
   "outputs": [
    {
     "name": "stdout",
     "output_type": "stream",
     "text": [
      "1\n",
      "2\n"
     ]
    }
   ],
   "source": [
    "for i in range(1,3):\n",
    "    print(i)"
   ]
  },
  {
   "cell_type": "markdown",
   "metadata": {},
   "source": [
    "### Matrix Creation functions\n",
    "- `arange(20,30)` create a *rank-1* array $[20,21,\\dots,29]$. Note that there are 10 elements in the array and the last element (i.e., 30) is not included. \n",
    "    - Note that python has a built-in function (`range()`) that achieves the same purpose, but the result of `range()` is a list in Python 2 (or iterator object in Python 3). \n",
    "- `eye(3)` creates the 3-by-3 identity matrix, just like in Matlab\n",
    "- `ones((3,4))` creates a 3-by-4 matrix with all elements being 1, just like in Matlab\n",
    "    - Note that we need the argument to be (3,4), with paranthesis.\n",
    "- `zeros((3,4))`  creates a 3-by-4 zero matrix\n",
    "- Creating matrices by random function:\n",
    "    - `random.rand(3,4)` creates a 3-by-4 matrix whose entries are in $U(0,1)$.\n",
    "    - `random.uniform(1,10,(3,4))` creates a 3-by-4 matrix whose entries are in $U(1,10)$.\n",
    "    - `random.randn(3,4)` creates a 3-by-4 matrix whose entries are drawn from standard Normal $N(0,1)$.\n",
    "    - `random.randint(1,10,(3,4))` creates a 3-by-4 matrix whose entries are drawn from Discrete Uniform distribution $\\{1,\\dots,9\\}$.\n",
    "    \n",
    "- We can use `\\n` in `print()` for a new line"
   ]
  },
  {
   "cell_type": "code",
   "execution_count": 9,
   "metadata": {},
   "outputs": [
    {
     "name": "stdout",
     "output_type": "stream",
     "text": [
      "np.zeros((3,4)) returns \n",
      "[[0. 0. 0. 0.]\n",
      " [0. 0. 0. 0.]\n",
      " [0. 0. 0. 0.]]\n",
      "\n",
      "np.arange(10) returns \n",
      "[0 1 2 3 4 5 6 7 8 9]\n",
      "\n",
      "shape(np.arange(10)) = (10,)\n",
      "\n",
      "eye(3) returns \n",
      "[[1. 0. 0.]\n",
      " [0. 1. 0.]\n",
      " [0. 0. 1.]]\n",
      "\n",
      "ones((3,4)) returns \n",
      "[[1. 1. 1. 1.]\n",
      " [1. 1. 1. 1.]\n",
      " [1. 1. 1. 1.]]\n",
      "\n",
      "random.rand(3,4) returns \n",
      "[[0.14862346 0.80438158 0.08791702 0.7236038 ]\n",
      " [0.27552509 0.19905673 0.73760053 0.90821586]\n",
      " [0.58192593 0.27136067 0.15051898 0.9431438 ]]\n",
      "\n",
      "random.uniform(1,10,(3,4)) returns \n",
      "[[5.32999853 4.827613   3.10504532 3.53231154]\n",
      " [3.18431716 8.72580436 9.38079856 5.718419  ]\n",
      " [2.48197535 5.97301999 7.12230282 5.43824373]]\n",
      "\n",
      "random.randn(3,4) returns \n",
      "[[ 0.75716927  0.33907039 -1.4881188   1.59380233]\n",
      " [-1.12923778  2.35653533  0.41908924  0.04853989]\n",
      " [ 0.14963697  0.00601954  0.69408535  0.02394667]]\n",
      "\n",
      "random.randint(1,10,(3,4)) returns \n",
      "[[6 2 6 3]\n",
      " [2 4 9 6]\n",
      " [1 9 1 4]]\n",
      "\n",
      "[[2 3 4]\n",
      " [4 5 6]\n",
      " [6 7 8]]\n",
      "(3, 3)\n"
     ]
    }
   ],
   "source": [
    "print(\"np.zeros((3,4)) returns \\n\" + str(np.zeros((3,4))) +'\\n'  )\n",
    "print(\"np.arange(10) returns \\n\" + str(np.arange(10))+'\\n')\n",
    "print(\"shape(np.arange(10)) = \" + str(np.shape(np.arange(10)))+'\\n')\n",
    "print(\"eye(3) returns \\n\" + str(np.eye(3))+'\\n')\n",
    "print(\"ones((3,4)) returns \\n\" + str(np.ones((3,4)))+'\\n')\n",
    "#np.ones(3,4)\n",
    "print(\"random.rand(3,4) returns \\n\" + str(np.random.rand(3,4))+'\\n')\n",
    "print(\"random.uniform(1,10,(3,4)) returns \\n\" + str(np.random.uniform(1,10,(3,4)))+'\\n')\n",
    "print(\"random.randn(3,4) returns \\n\" + str(np.random.randn(3,4))+'\\n')\n",
    "print(\"random.randint(1,10,(3,4)) returns \\n\" + str(np.random.randint(1,10,(3,4)))+'\\n')\n",
    "#fancy way to use a for loop\n",
    "A=np.array([ range(i, i+3) for i in [2,4,6] ]) # nested lists result in multidimensional arrays\n",
    "print(A)\n",
    "print (A.shape)\n",
    "\n",
    "#Note that \n",
    "#y=np.arange(11,20)\n",
    "#print(\"content of y:\" + str(y))\n",
    "#print(x*y)"
   ]
  },
  {
   "cell_type": "markdown",
   "metadata": {},
   "source": [
    "## Shape of Arrays\n",
    "- `np.array([ [1,2], [3,4]  ])` creates a matrix with shape (2,2). \n",
    "- `np.array([ [1,2,2]  ])` creates a row vector with shape (1,3). \n",
    "- **Important**: if we see two pairs of brackets, then the resulting array is 2d. Similar, if there are n pairs, then nd array.\n",
    "    - Note that 1d array is called *rank-1 array*, 2d array is a matrix, 3d or above are tensor.\n",
    "    - Even when we're going to create a vector, we should create a 2d array, eg: np.array([ [1,2,2] ]). \n",
    "- `shape(A)` or `A.shape` returns the dimensions of the array. \n",
    "  - In fact, `A.shape` is preferred because we usually have too many paranthesis. \n",
    "  - However, sometimes we cannot use A.shape! EG: `shape(array([ [1,2,2]  ]))` would requires us to create a temp array first!\n",
    "- To get the # of rows of a matrix, do `A.shape[0]`\n",
    "- `A.reshape(A.shape[0]*A.shape[1],1)` reshapes A to a column vector of shape (A.shape[0]*A.shape[1],1)"
   ]
  },
  {
   "cell_type": "code",
   "execution_count": 10,
   "metadata": {},
   "outputs": [
    {
     "name": "stdout",
     "output_type": "stream",
     "text": [
      "shape of array([ [1,2], [3,4]  ]) ) is: (2, 2)\n",
      "shape of array([ [1,2,2] ])) is: (1, 3)\n",
      "[[1]\n",
      " [2]\n",
      " [3]\n",
      " [4]]\n"
     ]
    }
   ],
   "source": [
    "myMat=np.array([ [1,2], [3,4]  ])\n",
    "print(\"shape of array([ [1,2], [3,4]  ]) ) is: \" + str(myMat.shape) )\n",
    "myVec=np.array([ [1,2,2] ])\n",
    "print(\"shape of array([ [1,2,2] ])) is: \" + str(myVec.shape))\n",
    "print(myMat.reshape(myMat.shape[0]*myMat.shape[1],1))\n"
   ]
  },
  {
   "cell_type": "markdown",
   "metadata": {},
   "source": [
    "### Math Stuff\n",
    "- The constants are stored in `math` module, which is always available without any import\n",
    "    - More info: https://docs.python.org/2/library/math.html\n",
    "    - However, we should always use the math functions available in the `numpy` library, because they allow for array input!\n",
    "    - In fact, we should avoid using the math library, because functions definied there can deal with real numbers as input only.\n",
    "- Constants:\n",
    "    - `pi` and `exp(1)`\n",
    "- logic operators:\n",
    "    - `a and b` and `a or b`\n",
    "- `a**b` or `pow(a,b)` for $a^b$\n",
    "- `a%b` or `remainder(a,b)` for $a\\mod b $\n",
    "- `exp(3)` for $e^3$\n",
    "- `log(20)` for $\\ln 20$\n",
    "- `log(20,2)` for $\\log_2 20$\n",
    "   "
   ]
  },
  {
   "cell_type": "code",
   "execution_count": 11,
   "metadata": {},
   "outputs": [
    {
     "name": "stdout",
     "output_type": "stream",
     "text": [
      "[[ 2.71828183  7.3890561  20.08553692]]\n",
      "2.5\n",
      "2\n"
     ]
    }
   ],
   "source": [
    "arr=np.array([[1,2,3]])\n",
    "print(np.exp(arr)) # don't use exp(arr), which is the built-in exp function and accepts only real-valued input\n",
    "print(5/2) #floating point division\n",
    "print(5//2) #integer division"
   ]
  },
  {
   "cell_type": "markdown",
   "metadata": {},
   "source": [
    "### Matrix opertion\n",
    "- Remember that in Python, +,-,*, ** , / are all elementwise!\n",
    "    - Note that ** here is to elementwise exponentiation\n",
    "- Also, `axis=0` is the columns, `axis=1` is rows!\n",
    "- Ways to do matrix multiplication:\n",
    "    - `dot(A,B)`\n",
    "    - `A.dot(B)`\n",
    "    - `matmul(A,B)`\n",
    "- Transpose of $A$: A.T\n",
    "- Trace: `trace(A)`\n",
    "- Sum of each column or row: `A.sum(axis=0)` or `A.sum(axis=1)`\n",
    "- Sum of all elements: `A.sum()`\n",
    "- Frobenius Norm of matrix: `norm(A)`, where $A$ can be vector. \n",
    "- Inverse: `linalg.inv(A)`\n",
    "- Determinant: `linalg.det(A)`\n",
    "- Rank: `linalg.matrix_rank(A)`\n",
    "- Matrix power: `linalg.matrix_power(A)`\n",
    "- Solve $Ax=b$: `linalg.solve(A,b)`\n",
    "- Eigen-decomposition: `D,V=linalg.eig(A)`"
   ]
  },
  {
   "cell_type": "code",
   "execution_count": 12,
   "metadata": {},
   "outputs": [
    {
     "name": "stdout",
     "output_type": "stream",
     "text": [
      "[[1 2 3]\n",
      " [4 5 6]]\n",
      "[5 7 9]\n",
      "[ 6 15]\n",
      "shape of A = (2, 3)\n",
      "shape of A[0] = 2\n",
      "shape of A[1] = 3\n",
      "[[ 1.77777778 -0.77777778]\n",
      " [-1.36111111  0.61111111]]\n"
     ]
    }
   ],
   "source": [
    "A=np.array([[1,2,3],[4,5,6]])\n",
    "print(A)\n",
    "print(A.sum(axis=0)) #along each row\n",
    "print(A.sum(axis=1)) #along each row\n",
    "print(\"shape of A = \" + str(np.shape(A)))\n",
    "print(\"shape of A[0] = \" + str(A.shape[0]))\n",
    "print(\"shape of A[1] = \" + str(A.shape[1]))\n",
    "B=np.array([[1,2],[3,4],[5,6]])\n",
    "C=np.dot(A,B)\n",
    "print(np.linalg.inv(C)) # linalg is part of numpy!"
   ]
  },
  {
   "cell_type": "markdown",
   "metadata": {},
   "source": [
    "### 1.4 - Normalizing rows\n",
    "\n",
    "Another common technique we use in Machine Learning and Deep Learning is to normalize our data. It often leads to a better performance because gradient descent converges faster after normalization. Here, by normalization we mean changing x to $ \\frac{x}{\\| x\\|} $ (dividing each row vector of x by its norm).\n",
    "\n",
    "For example, if $$x = \n",
    "\\begin{bmatrix}\n",
    "    0 & 3 & 4 \\\\\n",
    "    2 & 6 & 4 \\\\\n",
    "\\end{bmatrix}\\tag{3}$$ then $$\\| x\\| = np.linalg.norm(x, axis = 1, keepdims = True) = \\begin{bmatrix}\n",
    "    5 \\\\\n",
    "    \\sqrt{56} \\\\\n",
    "\\end{bmatrix}\\tag{4} $$and        $$ x\\_normalized = \\frac{x}{\\| x\\|} = \\begin{bmatrix}\n",
    "    0 & \\frac{3}{5} & \\frac{4}{5} \\\\\n",
    "    \\frac{2}{\\sqrt{56}} & \\frac{6}{\\sqrt{56}} & \\frac{4}{\\sqrt{56}} \\\\\n",
    "\\end{bmatrix}\\tag{5}$$ Note that you can divide matrices of different sizes and it works fine: this is called broadcasting and you're going to learn about it in part 5.\n",
    "\n",
    "\n",
    "**Exercise**: Implement normalizeRows() to normalize the rows of a matrix. After applying this function to an input matrix x, each row of x should be a vector of unit length (meaning length 1)."
   ]
  },
  {
   "cell_type": "code",
   "execution_count": 13,
   "metadata": {},
   "outputs": [],
   "source": [
    "def normalizeRows(X):\n",
    "    \"\"\"\n",
    "    Implement a function that normalizes each row of the matrix x (to have unit length).\n",
    "    \n",
    "    Argument:\n",
    "    x -- A numpy matrix of shape (n, m)\n",
    "    \n",
    "    Returns:\n",
    "    x -- The normalized (by row) numpy matrix. You are allowed to modify x.\n",
    "    \"\"\"\n",
    "    X_norm = np.linalg.norm(X, ord=2, axis=1, keepdims=True)\n",
    "    # here, `ord=2` means $L_2$ norm, `axis=1` means across columns, `keepdims=True` means \n",
    "    \n",
    "    #print(X_norm.shape)\n",
    "    X=X/X_norm\n",
    "    \n",
    "    return X "
   ]
  },
  {
   "cell_type": "code",
   "execution_count": 14,
   "metadata": {},
   "outputs": [
    {
     "name": "stdout",
     "output_type": "stream",
     "text": [
      "original X = [[0 3 4]\n",
      " [1 6 4]]\n",
      "normalizeRows(X) = [[0.         0.6        0.8       ]\n",
      " [0.13736056 0.82416338 0.54944226]]\n"
     ]
    }
   ],
   "source": [
    "X = np.array([\n",
    "    [0, 3, 4],\n",
    "    [1, 6, 4]])\n",
    "print(\"original X = \" +str(X))\n",
    "print(\"normalizeRows(X) = \" + str(normalizeRows(X)))"
   ]
  },
  {
   "cell_type": "markdown",
   "metadata": {},
   "source": [
    "### 2.1 Implement the L1 and L2 loss functions\n",
    "\n",
    "**Exercise**: Implement the numpy vectorized version of the L1 loss. You may find the function abs(x) (absolute value of x) useful.\n",
    "\n",
    "**Reminder**:\n",
    "- The loss is used to evaluate the performance of your model. The bigger your loss is, the more different your predictions ($ \\hat{y} $) are from the true values ($y$). In deep learning, you use optimization algorithms like Gradient Descent to train your model and to minimize the cost.\n",
    "- L1 loss is defined as:\n",
    "$$\\begin{align*} & L_1(\\hat{y}, y) = \\sum_{i=0}^m|y^{(i)} - \\hat{y}^{(i)}| \\end{align*}\\tag{6}$$\n",
    "\n",
    "**Exercise**: Implement the numpy vectorized version of the L2 loss. There are several way of implementing the L2 loss but you may find the function np.dot() useful. As a reminder, if $x = [x_1, x_2, ..., x_n]$, then `np.dot(x,x)` = $\\sum_{j=0}^n x_j^{2}$. \n",
    "\n",
    "- L2 loss is defined as $$\\begin{align*} & L_2(\\hat{y},y) = \\sum_{i=0}^m(y^{(i)} - \\hat{y}^{(i)})^2 \\end{align*}\\tag{7}$$"
   ]
  },
  {
   "cell_type": "code",
   "execution_count": 15,
   "metadata": {},
   "outputs": [],
   "source": [
    "def L1(yhat, y):\n",
    "    \"\"\"\n",
    "    Arguments:\n",
    "    yhat -- vector of size m (predicted labels)\n",
    "    y -- vector of size m (true labels)\n",
    "    \n",
    "    Returns:\n",
    "    loss -- the value of the L1 loss function defined above\n",
    "    \"\"\"\n",
    "    loss=np.abs(y-yhat)\n",
    "    loss=np.sum(loss)\n",
    "    return loss\n",
    "\n",
    "\n",
    "def L2(yhat, y):\n",
    "    \"\"\"\n",
    "    Arguments:\n",
    "    yhat -- vector of size m (predicted labels)\n",
    "    y -- vector of size m (true labels)\n",
    "    \n",
    "    Returns:\n",
    "    loss -- the value of the L2 loss function defined above\n",
    "    \"\"\"\n",
    "    loss=np.dot(y-yhat,y-yhat)\n",
    "    loss=np.sum(loss)\n",
    "    return loss"
   ]
  },
  {
   "cell_type": "code",
   "execution_count": 16,
   "metadata": {},
   "outputs": [
    {
     "name": "stdout",
     "output_type": "stream",
     "text": [
      "L1 = 1.1\n",
      "L2 = 0.43\n"
     ]
    }
   ],
   "source": [
    "yhat = np.array([.9, 0.2, 0.1, .4, .9])\n",
    "y = np.array([1, 0, 0, 1, 1])\n",
    "print(\"L1 = \" + str(L1(yhat,y)))\n",
    "\n",
    "print(\"L2 = \" + str(L2(yhat,y)))"
   ]
  },
  {
   "cell_type": "markdown",
   "metadata": {},
   "source": [
    "### sigmoid function, np.exp(), and sigmoid gradient ###\n",
    "\n",
    "**Reminder**:\n",
    "$sigmoid(x) = \\frac{1}{1+e^{-x}}$ is sometimes also known as the logistic function. It is a non-linear function used not only in Machine Learning (Logistic Regression), but also in Deep Learning.\n",
    "\n",
    "**Exercise**: Implement the sigmoid function using numpy. \n",
    "\n",
    "**Instructions**: x could now be either a real number, a vector, or a matrix. The data structures we use in numpy to represent these shapes (vectors, matrices...) are called numpy arrays. You don't need to know more for now.\n",
    "$$ \\text{For } x \\in \\mathbb{R}^n \\text{,     } sigmoid(x) = sigmoid\\begin{pmatrix}\n",
    "    x_1  \\\\\n",
    "    x_2  \\\\\n",
    "    ...  \\\\\n",
    "    x_n  \\\\\n",
    "\\end{pmatrix} = \\begin{pmatrix}\n",
    "    \\frac{1}{1+e^{-x_1}}  \\\\\n",
    "    \\frac{1}{1+e^{-x_2}}  \\\\\n",
    "    ...  \\\\\n",
    "    \\frac{1}{1+e^{-x_n}}  \\\\\n",
    "\\end{pmatrix}\\tag{1} $$\n",
    "\n",
    "**Exercise**: Implement the function sigmoid_grad() to compute the gradient of the sigmoid function with respect to its input x. The formula is: $$sigmoid\\_derivative(x) = \\sigma'(x) = \\sigma(x) (1 - \\sigma(x))\\tag{2}$$\n",
    "You often code this function in two steps:\n",
    "1. Set s to be the sigmoid of x. You might find your sigmoid(x) function useful.\n",
    "2. Compute $\\sigma'(x) = s(1-s)$"
   ]
  },
  {
   "cell_type": "code",
   "execution_count": 17,
   "metadata": {},
   "outputs": [],
   "source": [
    "def sigmoid(x):\n",
    "    \"\"\"\n",
    "    Compute the sigmoid of x\n",
    "\n",
    "    Arguments:\n",
    "    x -- A scalar or numpy array of any size\n",
    "\n",
    "    Return:\n",
    "    s -- sigmoid(x)\n",
    "    \"\"\"\n",
    "    s=1/(1+np.exp(-x))\n",
    "    return s\n",
    "\n",
    "def sigmoid_derivative(x):\n",
    "    \"\"\"\n",
    "    Compute the gradient (also called the slope or derivative) of the sigmoid function with respect to its input x.\n",
    "    You can store the output of the sigmoid function into variables and then use it to calculate the gradient.\n",
    "    \n",
    "    Arguments:\n",
    "    x -- A scalar or numpy array\n",
    "\n",
    "    Return:\n",
    "    ds -- Your computed gradient.\n",
    "    \"\"\"\n",
    "    s=sigmoid(x)\n",
    "    return s*(1-s) #elemenwise multipliaction, if s is matrix \n",
    "    "
   ]
  },
  {
   "cell_type": "code",
   "execution_count": 18,
   "metadata": {},
   "outputs": [
    {
     "name": "stdout",
     "output_type": "stream",
     "text": [
      "original x = [1 2 3]\n",
      "sigmoid(x) = [0.73105858 0.88079708 0.95257413]\n",
      "sigmoid_derivative(x) = [0.19661193 0.10499359 0.04517666]\n",
      "\n",
      "original y = [[1 2 3]\n",
      " [4 5 6]]\n",
      "sigmoid(y) = [[0.73105858 0.88079708 0.95257413]\n",
      " [0.98201379 0.99330715 0.99752738]]\n",
      "sigmoid_derivative(y) = [[0.19661193 0.10499359 0.04517666]\n",
      " [0.01766271 0.00664806 0.00246651]]\n"
     ]
    }
   ],
   "source": [
    "x = np.array([1, 2, 3])\n",
    "print(\"original x = \" +str(x))\n",
    "print(\"sigmoid(x) = \" +str(sigmoid(x)))\n",
    "print (\"sigmoid_derivative(x) = \" + str(sigmoid_derivative(x)) +\"\\n\")\n",
    "\n",
    "y=np.array([[1,2,3],[4,5,6]])\n",
    "print(\"original y = \" +str(y))\n",
    "print(\"sigmoid(y) = \" +str(sigmoid(y)))\n",
    "print (\"sigmoid_derivative(y) = \" + str(sigmoid_derivative(y)))"
   ]
  },
  {
   "cell_type": "code",
   "execution_count": null,
   "metadata": {},
   "outputs": [],
   "source": []
  },
  {
   "cell_type": "markdown",
   "metadata": {},
   "source": [
    "### Symbolic Math\n",
    "- More info: http://www.scipy-lectures.org/advanced/sympy.html\n",
    "- Rational number: `a=Rational(1,2)`\n",
    "- Note that after using `Rational`, some constants (eg pi & exp(1)) will become symbols.\n",
    "- Variable declaration: `x=Symbol('x')` and `y=Symbol('y')`\n",
    "    -Then we can do standard algebric manipulation. EG: `x+y+x-y` and `(x+y)**2`\n",
    "- Expansion: `expand((x+y)**5)`\n",
    "- Simplication: `simplify((x+x*y)/x)` \n",
    "- Evaluating limit: The form is `limit(function, variable, point)`\n",
    "    - EG: `limit(sin(x)/x, x, 0)`\n",
    "    - EG: `limit(x, x, oo)`\n",
    "    - EG: `limit(1/x, x, oo)`\n",
    "- Taylor Series expension: The form is `series(expression, var)`\n",
    "    - EG: `series(cos(x), x)`\n",
    "    - EG: `series(1/cos(x), x)`\n",
    "    - EG: `series(exp(x), x)`\n",
    "- Equation solving: The form is `solve(expression, variable to be solve)\n",
    "    - EG: `solve(x**4 - 1, x)`\n",
    "    - EG: `solve([x + 5*y - 2, -3*x + 6*y - 15], [x, y])`\n",
    "\n",
    "    \n",
    "    \n",
    "    "
   ]
  },
  {
   "cell_type": "code",
   "execution_count": 19,
   "metadata": {},
   "outputs": [
    {
     "ename": "NameError",
     "evalue": "name 'Rational' is not defined",
     "output_type": "error",
     "traceback": [
      "\u001b[1;31m---------------------------------------------------------------------------\u001b[0m",
      "\u001b[1;31mNameError\u001b[0m                                 Traceback (most recent call last)",
      "\u001b[1;32m<ipython-input-19-c6be84b9905b>\u001b[0m in \u001b[0;36m<module>\u001b[1;34m\u001b[0m\n\u001b[1;32m----> 1\u001b[1;33m \u001b[0ma\u001b[0m\u001b[1;33m=\u001b[0m\u001b[0mRational\u001b[0m\u001b[1;33m(\u001b[0m\u001b[1;36m1\u001b[0m\u001b[1;33m,\u001b[0m\u001b[1;36m2\u001b[0m\u001b[1;33m)\u001b[0m\u001b[1;33m\u001b[0m\u001b[1;33m\u001b[0m\u001b[0m\n\u001b[0m\u001b[0;32m      2\u001b[0m \u001b[0mprint\u001b[0m \u001b[1;33m(\u001b[0m\u001b[0ma\u001b[0m\u001b[1;33m)\u001b[0m\u001b[1;33m\u001b[0m\u001b[1;33m\u001b[0m\u001b[0m\n\u001b[0;32m      3\u001b[0m \u001b[0mprint\u001b[0m \u001b[1;33m(\u001b[0m\u001b[0ma\u001b[0m\u001b[1;33m+\u001b[0m\u001b[1;36m3\u001b[0m\u001b[1;33m)\u001b[0m\u001b[1;33m\u001b[0m\u001b[1;33m\u001b[0m\u001b[0m\n\u001b[0;32m      4\u001b[0m \u001b[0mprint\u001b[0m\u001b[1;33m(\u001b[0m\u001b[0mpi\u001b[0m\u001b[1;33m*\u001b[0m\u001b[1;36m2\u001b[0m\u001b[1;33m)\u001b[0m\u001b[1;33m\u001b[0m\u001b[1;33m\u001b[0m\u001b[0m\n\u001b[0;32m      5\u001b[0m \u001b[1;33m(\u001b[0m\u001b[0mpi\u001b[0m\u001b[1;33m*\u001b[0m\u001b[1;36m2\u001b[0m\u001b[1;33m)\u001b[0m\u001b[1;33m.\u001b[0m\u001b[0mevalf\u001b[0m\u001b[1;33m(\u001b[0m\u001b[1;33m)\u001b[0m\u001b[1;33m\u001b[0m\u001b[1;33m\u001b[0m\u001b[0m\n",
      "\u001b[1;31mNameError\u001b[0m: name 'Rational' is not defined"
     ]
    }
   ],
   "source": [
    "a=Rational(1,2)\n",
    "print (a)\n",
    "print (a+3)\n",
    "print(pi*2)\n",
    "(pi*2).evalf()\n",
    "x=Symbol('x')\n",
    "y=Symbol('y')\n",
    "expand((x+y)**5)\n",
    "simplify((x+x*y)/x)\n",
    "limit(sin(x)/x, x, 0)\n",
    "limit(1/x, x, oo)\n",
    "series(cos(x), x)\n",
    "#help Expr.series?\n",
    "series(exp(x), x, 2)\n"
   ]
  },
  {
   "cell_type": "markdown",
   "metadata": {},
   "source": [
    "### Symbolic Linear Algebra\n",
    "- Symbolic matrix: We use `Matrix()` from sympy \n",
    "    - `A= matrix([[1,x],[y,1]])`\n",
    "    - Note, however, that `array([[1,x],[y,1]])` will result in error!!! That is, we cannot create a symbolic matrix with `array`!\n",
    "    - **Important** `Matrix([[1,x],[y,1]])` (with capital) from sympy is different from `matrix([[1,x],[y,1]])`  from numpy\n",
    "- Matrix inverse: Use `A.inv()` from sympy\n",
    "    \n",
    "    \n",
    "    \n"
   ]
  },
  {
   "cell_type": "code",
   "execution_count": null,
   "metadata": {},
   "outputs": [],
   "source": [
    "A= Matrix([[1,x],[y,1]])\n",
    "B= matrix([[1,x],[y,1]])\n",
    "print (A) \n",
    "print (B)\n",
    "print(A==B)\n",
    "A**2\n",
    "#B**2\n",
    "print(A.inv())"
   ]
  },
  {
   "cell_type": "code",
   "execution_count": null,
   "metadata": {},
   "outputs": [],
   "source": [
    "A=np.arange(12).reshape(3,4)\n",
    "print(A)\n",
    "x=np.array([[1,2,3]])\n",
    "#x_norm = np.linalg.norm(x,ord=2,axis=1, keepdims=True)\n",
    "x_norm = np.linalg.norm(x,ord=2,axis=1)\n",
    "print(x_norm)\n",
    "A/x_norm\n"
   ]
  },
  {
   "cell_type": "markdown",
   "metadata": {},
   "source": [
    "### Comparison of time: for loop vs vectorization"
   ]
  },
  {
   "cell_type": "code",
   "execution_count": 21,
   "metadata": {},
   "outputs": [
    {
     "name": "stdout",
     "output_type": "stream",
     "text": [
      "0.0ms\n",
      "0.0ms\n",
      "elementwise multiplication = [ 0.  1.  4.  9. 16. 25. 36. 49. 64. 81.]\n",
      " ----- Computation time = 0.0ms\n",
      "gdot = [21.98442052 16.28586694 23.97585151]\n",
      " ----- Computation time = 0.0ms\n",
      "dot = 285\n",
      " ----- Computation time = 0.0ms\n",
      "outer = [[ 0  0  0  0  0  0  0  0  0  0]\n",
      " [ 0  1  2  3  4  5  6  7  8  9]\n",
      " [ 0  2  4  6  8 10 12 14 16 18]\n",
      " [ 0  3  6  9 12 15 18 21 24 27]\n",
      " [ 0  4  8 12 16 20 24 28 32 36]\n",
      " [ 0  5 10 15 20 25 30 35 40 45]\n",
      " [ 0  6 12 18 24 30 36 42 48 54]\n",
      " [ 0  7 14 21 28 35 42 49 56 63]\n",
      " [ 0  8 16 24 32 40 48 56 64 72]\n",
      " [ 0  9 18 27 36 45 54 63 72 81]]\n",
      " ----- Computation time = 0.0ms\n",
      "elementwise multiplication = [ 0  1  4  9 16 25 36 49 64 81]\n",
      " ----- Computation time = 0.0ms\n",
      "gdot = [21.98442052 16.28586694 23.97585151]\n",
      " ----- Computation time = 0.0ms\n"
     ]
    }
   ],
   "source": [
    "import time\n",
    "\n",
    "size_of_vec = 10\n",
    "x1=range(size_of_vec)\n",
    "x2=range(size_of_vec)\n",
    "\n",
    "#x1 = [9, 2, 5, 0, 0, 7, 5, 0, 0, 0, 9, 2, 5, 0, 0]\n",
    "#x2 = [9, 2, 2, 9, 0, 9, 2, 5, 0, 0, 9, 2, 5, 0, 0]\n",
    "\n",
    "\n",
    "### CLASSIC DOT PRODUCT OF VECTORS IMPLEMENTATION ###\n",
    "tic = time.process_time()\n",
    "dot = 0\n",
    "for i in range(len(x1)):\n",
    "    dot+= x1[i]*x2[i]\n",
    "toc = time.process_time()\n",
    "#print (\"dot = \" + str(dot) + \"\\n ----- Computation time = \" + str(1000*(toc - tic)) + \"ms\")\n",
    "print (str(1000*(toc - tic)) + \"ms\")\n",
    "\n",
    "### CLASSIC OUTER PRODUCT IMPLEMENTATION ###\n",
    "tic = time.process_time()\n",
    "outer = np.zeros((len(x1),len(x2))) # we create a len(x1)*len(x2) matrix with only zeros\n",
    "for i in range(len(x1)):\n",
    "    for j in range(len(x2)):\n",
    "        outer[i,j] = x1[i]*x2[j]\n",
    "toc = time.process_time()\n",
    "#print (\"outer = \" + str(outer) + \"\\n ----- Computation time = \" + str(1000*(toc - tic)) + \"ms\")\n",
    "print (str(1000*(toc - tic)) + \"ms\")\n",
    "\n",
    "### CLASSIC ELEMENTWISE IMPLEMENTATION ###\n",
    "tic = time.process_time()\n",
    "mul = np.zeros(len(x1))\n",
    "for i in range(len(x1)):\n",
    "    mul[i] = x1[i]*x2[i]\n",
    "toc = time.process_time()\n",
    "print (\"elementwise multiplication = \" + str(mul) + \"\\n ----- Computation time = \" + str(1000*(toc - tic)) + \"ms\")\n",
    "\n",
    "\n",
    "### CLASSIC GENERAL DOT PRODUCT IMPLEMENTATION ###\n",
    "W = np.random.rand(3,len(x1)) # Random 3*len(x1) numpy array\n",
    "tic = time.process_time()\n",
    "gdot = np.zeros(W.shape[0])\n",
    "for i in range(W.shape[0]):\n",
    "    for j in range(len(x1)):\n",
    "        gdot[i] += W[i,j]*x1[j]\n",
    "toc = time.process_time()\n",
    "print (\"gdot = \" + str(gdot) + \"\\n ----- Computation time = \" + str(1000*(toc - tic)) + \"ms\")\n",
    "\n",
    "\n",
    "\n",
    "\n",
    "\n",
    "\n",
    "#x1 = [9, 2, 5, 0, 0, 7, 5, 0, 0, 0, 9, 2, 5, 0, 0]\n",
    "#x2 = [9, 2, 2, 9, 0, 9, 2, 5, 0, 0, 9, 2, 5, 0, 0]\n",
    "\n",
    "### VECTORIZED DOT PRODUCT OF VECTORS ###\n",
    "tic = time.process_time()\n",
    "dot = np.dot(x1,x2)\n",
    "toc = time.process_time()\n",
    "print (\"dot = \" + str(dot) + \"\\n ----- Computation time = \" + str(1000*(toc - tic)) + \"ms\")\n",
    "\n",
    "### VECTORIZED OUTER PRODUCT ###\n",
    "tic = time.process_time()\n",
    "outer = np.outer(x1,x2)\n",
    "toc = time.process_time()\n",
    "print (\"outer = \" + str(outer) + \"\\n ----- Computation time = \" + str(1000*(toc - tic)) + \"ms\")\n",
    "\n",
    "### VECTORIZED ELEMENTWISE MULTIPLICATION ###\n",
    "tic = time.process_time()\n",
    "mul = np.multiply(x1,x2)\n",
    "toc = time.process_time()\n",
    "print (\"elementwise multiplication = \" + str(mul) + \"\\n ----- Computation time = \" + str(1000*(toc - tic)) + \"ms\")\n",
    "\n",
    "### VECTORIZED GENERAL DOT PRODUCT ###\n",
    "tic = time.process_time()\n",
    "dot = np.dot(W,x1)\n",
    "toc = time.process_time()\n",
    "print (\"gdot = \" + str(dot) + \"\\n ----- Computation time = \" + str(1000*(toc - tic)) + \"ms\")\n"
   ]
  },
  {
   "cell_type": "code",
   "execution_count": 22,
   "metadata": {},
   "outputs": [
    {
     "name": "stdout",
     "output_type": "stream",
     "text": [
      "result of for loop version: (249904.62668922104, 250.1688003540039)\n",
      "result of vectorization version: (249904.62668922194, 45.84956169128418)\n"
     ]
    }
   ],
   "source": [
    "# Good implementation for comparing the time difference \n",
    "\n",
    "size_of_vec = 1000000\n",
    "\n",
    "def forloop_version(a,b):\n",
    "    result=0\n",
    "    tic=time.time()\n",
    "    for i in range(size_of_vec):\n",
    "        result+=a[i]*b[i]\n",
    "    toc=time.time()\n",
    "    return result, 1000*(toc-tic)\n",
    "\n",
    "def vectorization_version(a,b):\n",
    "    result=0\n",
    "    tic=time.time()\n",
    "    result=np.dot(a,b)\n",
    "    toc=time.time()\n",
    "    return result, 1000*(toc-tic)\n",
    "\n",
    "a=np.random.rand(size_of_vec)\n",
    "b=np.random.rand(size_of_vec)\n",
    "print(\"result of for loop version: \" + str(forloop_version(a,b)))\n",
    "print(\"result of vectorization version: \" + str(vectorization_version(a,b)))\n"
   ]
  },
  {
   "cell_type": "markdown",
   "metadata": {},
   "source": [
    "### Pass by reference\n",
    "- Note that np.array in Python is pass by reference!\n",
    "- To avoid this issue, use `.copy` attribute\n"
   ]
  },
  {
   "cell_type": "code",
   "execution_count": null,
   "metadata": {},
   "outputs": [],
   "source": [
    "x=3\n",
    "x_copy=x\n",
    "x_copy=4\n",
    "print(\"x_copy = \" + str(x_copy) + '\\n')\n",
    "print(\"x = \" + str(x) + '\\n')\n",
    "\n",
    "A=np.zeros((3,3))\n",
    "A_copy=A\n",
    "A_copy[0,0]=10\n",
    "print(\"A_copy = \" + str(A_copy) + '\\n')\n",
    "print(\"A = \" + str(A) + '\\n')\n",
    "\n",
    "B=np.zeros((3,3))\n",
    "B_copy=B.copy()\n",
    "B_copy[0,0]=20\n",
    "print(\"B_copy = \" + str(B_copy) + '\\n')\n",
    "print(\"B = \" + str(B) + '\\n')\n"
   ]
  },
  {
   "cell_type": "markdown",
   "metadata": {},
   "source": [
    "# ETL"
   ]
  },
  {
   "cell_type": "code",
   "execution_count": null,
   "metadata": {},
   "outputs": [],
   "source": [
    "# https://medium.com/analytics-vidhya/building-a-etl-pipeline-226656a22f6d\n",
    "# %%\n",
    "import requests\n",
    "import pandas as pd\n",
    "import numpy as np\n",
    "import os\n",
    "import sqlite3\n",
    "from tqdm.auto import tqdm\n",
    "\n",
    "# CONSTANT VALUES\n",
    "OWNER = 'CSSEGISandData'\n",
    "REPO = 'COVID-19'\n",
    "PATH = 'csse_covid_19_data/csse_covid_19_daily_reports'\n",
    "URL = f'https://api.github.com/repos/{OWNER}/{REPO}/contents/{PATH}'\n",
    "print(f'Downloading paths from {URL}')\n",
    "\n",
    "\n",
    "download_urls = []\n",
    "response = requests.get(URL)\n",
    "for data in tqdm(response.json()):\n",
    "    if data['name'].endswith('.csv'):\n",
    "        download_urls.append(data['download_url'])\n",
    "\n",
    "\n",
    "# List of labels to be renamed\n",
    "relabel = {\n",
    "    # 'Last Update': 'Last_Update',\n",
    "    'Country/Region': 'Country_Region',\n",
    "    'Lat': 'Latitude',\n",
    "    'Long_': 'Longitude',\n",
    "    'Province/State': 'Province_State',\n",
    "}\n",
    "\n",
    "\n",
    "def factor_dataframe(dat, filename):\n",
    "    \"\"\" Refactor the dataframe to be uploaded into a SQL database\n",
    "    as a pandas DataFrame\n",
    "    \"\"\"\n",
    "    # rename labels\n",
    "    for label in dat:\n",
    "        if label in relabel:\n",
    "            dat = dat.rename(columns = {label: relabel[label]})\n",
    "    \n",
    "    # return a dataframe with these parameters\n",
    "    labels = ['Province_State', 'Country_Region', 'Last_Update', 'Confirmed', 'Deaths', 'Recovered']\n",
    "    # filename is datetime\n",
    "    if 'Last_Update' not in dat:\n",
    "        dat['Last_Update'] = pd.to_datetime(filename)\n",
    "\n",
    "    # replace columns not in dataframe with nan\n",
    "    for label in labels:\n",
    "        if label not in dat:\n",
    "            dat[label] = np.nan\n",
    "\n",
    "    return dat[labels]\n",
    "\n",
    "def upload_to_sql(filenames, db_name, debug=False):\n",
    "    \"\"\" Given a list of paths, upload to a database\n",
    "    \"\"\"\n",
    "    conn = sqlite3.connect(f\"{db_name}.db\")\n",
    "    \n",
    "    if debug:\n",
    "        print(\"Uploading into database\")\n",
    "    for i, file_path in tqdm(list(enumerate(filenames))):\n",
    "        \n",
    "        dat = pd.read_csv(file_path)\n",
    "\n",
    "        # rename labels\n",
    "        filename = os.path.basename(file_path).split('.')[0]\n",
    "        dat = factor_dataframe(dat, filename)\n",
    "\n",
    "        # write records to sql database\n",
    "        if i == 0: # if first entry, and table name already exist, replace\n",
    "            dat.to_sql(db_name, con=conn, index = False, if_exists='replace')\n",
    "        else: # otherwise append to current table given db_name\n",
    "            dat.to_sql(db_name, con=conn, index = False, if_exists='append')\n",
    "\n",
    "\n",
    "# upload into sql database\n",
    "upload_to_sql(download_urls, 'example', debug=True)\n",
    "# %%\n",
    "download_urls\n",
    "URL\n",
    "# %%\n",
    "import mysql.connector\n",
    "mydb = mysql.connector.connect(\n",
    "  host=\"localhost\",\n",
    "  user=\"yourusername\",\n",
    "  password=\"yourpassword\"\n",
    ")\n",
    "\n",
    "mycursor = mydb.cursor()\n",
    "\n",
    "mycursor.execute(\"CREATE DATABASE mydatabase\")\n",
    "# %%\n",
    "conn = mysql.connector.connect(user='root', password='password', host='127.0.0.1')\n",
    "\n",
    "\n",
    "# %%\n",
    "import requests\n",
    "import pandas as pd\n",
    "import numpy as np\n",
    "import os\n",
    "import sqlite3\n",
    "# %%\n",
    "URL = r'https://api.github.com/repos/CSSEGISandData/COVID-19/contents/csse_covid_19_data/csse_covid_19_daily_reports'\n",
    "print(f'Downloading covid-19 data from {URL}...')\n",
    "\n",
    "response = requests.get(URL)\n",
    "urls_csv = [file['download_url'] for file in response.json() if file['name'].endswith('.csv')]\n",
    "# %%\n"
   ]
  }
 ],
 "metadata": {
  "kernelspec": {
   "display_name": "Python 3",
   "language": "python",
   "name": "python3"
  },
  "language_info": {
   "codemirror_mode": {
    "name": "ipython",
    "version": 3
   },
   "file_extension": ".py",
   "mimetype": "text/x-python",
   "name": "python",
   "nbconvert_exporter": "python",
   "pygments_lexer": "ipython3",
   "version": "3.7.4"
  }
 },
 "nbformat": 4,
 "nbformat_minor": 2
}
