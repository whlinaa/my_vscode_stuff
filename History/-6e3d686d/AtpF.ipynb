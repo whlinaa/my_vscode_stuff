{
 "cells": [
  {
   "cell_type": "code",
   "execution_count": null,
   "id": "dc1a1245",
   "metadata": {},
   "outputs": [],
   "source": [
    "import pandas as pd\n",
    "import numpy as np\n",
    "import dsar\n",
    "from itertools import product\n",
    "pd.set_option('display.max_columns', None)"
   ]
  },
  {
   "cell_type": "code",
   "execution_count": null,
   "id": "2c8665d2",
   "metadata": {},
   "outputs": [],
   "source": [
    "basic_col = ['app_age',\n",
    "             'sex_male',\n",
    "#             'ins_sex',\n",
    "            'occ_wp_pb',\n",
    "            'occ_tpd',\n",
    "            'occ_adb',\n",
    "            'occ_add',\n",
    "            'occ_cab_cabp_iab',\n",
    "            'occ_mdi',\n",
    "            'g_height_cm',\n",
    "            'g_weight_kg',\n",
    "             'diff_low',\n",
    "            'diff_high',\n",
    "            'bmi_clip',\n",
    "            ]\n",
    "\n",
    "smoke_alcohol_col = ['smoker',\n",
    "                    'g_smoke_daily_pcs',\n",
    "                    'g_alcohol',\n",
    "                    'g_alcohol_daily_ml',\n",
    "                    ]\n",
    "\n",
    "generic_med_col = [\n",
    "'g_self_cancer',\n",
    "'g_self_digestive_condition',\n",
    "'g_self_endocrine_disorder',\n",
    "'g_self_heart_condition',\n",
    "'g_self_mental_condition',\n",
    "'g_self_muscular_disorder',\n",
    "'g_self_nervous_system_disorder',\n",
    "'g_self_reproductive_disorder',\n",
    "'g_self_respiratory_disorder',\n",
    "'g_self_urinary_tract_disorder']\n",
    "\n",
    "cancer_sub_col = ['g_self_cancer_tumor']\n",
    "\n",
    "digest_sub_col = ['g_self_digestive_hepatitis',\n",
    "'g_self_digestive_other_gastrointestinal_disorder',\n",
    "'g_self_digestive_other_liver_disorder'\n",
    "]\n",
    "\n",
    "respiratory_sub_col = ['g_self_respiratory_asthma' ,\n",
    "'g_self_respiratory_other_respiratory_disorder']\n",
    "\n",
    "family_med_col = ['g_fam_cancer',\n",
    "                    'g_fam_digestive_condition',\n",
    "                    'g_fam_endocrine_disorder',\n",
    "                    'g_fam_other_disorder']\n",
    "\n",
    "cols = basic_col+smoke_alcohol_col + generic_med_col + cancer_sub_col + digest_sub_col+ respiratory_sub_col + family_med_col\n",
    "# cols = ', '.join(cols) if cols else '*'\n",
    "\n",
    "col_rename = {col: 'v_'+ col for col in cols}"
   ]
  },
  {
   "cell_type": "code",
   "execution_count": null,
   "id": "dac3d440",
   "metadata": {},
   "outputs": [],
   "source": [
    "uw_sim_models = pd.DataFrame(list(product([0,1],repeat=len(generic_med_col))), columns=generic_med_col)\n",
    "uw_sim_models = uw_sim_models[uw_sim_models.sum(axis=1)>=len(generic_med_col)-3]"
   ]
  },
  {
   "cell_type": "code",
   "execution_count": null,
   "id": "9c8d20ee",
   "metadata": {},
   "outputs": [],
   "source": [
    "for col in cancer_sub_col:\n",
    "    uw_sim_models[col] = uw_sim_models.g_self_cancer\n",
    "for col in digest_sub_col:\n",
    "    uw_sim_models[col] = uw_sim_models.g_self_digestive_condition\n",
    "for col in respiratory_sub_col:\n",
    "    uw_sim_models[col] = uw_sim_models.g_self_respiratory_disorder\n",
    "uw_sim_models = uw_sim_models.reset_index(drop=True)\n",
    "uw_sim_models[family_med_col] = 0\n",
    "uw_sim_models[basic_col + smoke_alcohol_col] = 1\n",
    "uw_sim_models.rename(columns=col_rename, inplace=True)\n",
    "full_feat = pd.DataFrame(np.ones_like(uw_sim_models.columns).reshape(1,-1), columns=uw_sim_models.columns)\n",
    "uw_sim_models = pd.concat([full_feat,uw_sim_models], axis=0).reset_index(drop=True)"
   ]
  },
  {
   "cell_type": "code",
   "execution_count": null,
   "id": "23ba0fca",
   "metadata": {},
   "outputs": [],
   "source": [
    "len(col)"
   ]
  },
  {
   "cell_type": "code",
   "execution_count": null,
   "id": "0aa7e9fd",
   "metadata": {},
   "outputs": [],
   "source": [
    "uw_sim_models"
   ]
  },
  {
   "cell_type": "code",
   "execution_count": null,
   "id": "fa381dcc",
   "metadata": {},
   "outputs": [],
   "source": [
    "# with dsar.psql_con('HB') as con:\n",
    "#     sql = f\"\"\"select {columns} from hb.hb_poc_premiums_rv3\n",
    "#                             where plan_region='HK' and vhis_compatible=1 and year_seq<=5\n",
    "#                             ORDER BY contract_no, year_seq\n",
    "#                             limit 100\n",
    "#                                 \"\"\"\n",
    "#     df_sample = pd.read_sql(sql=sql, con=con)\n",
    "\n",
    "    "
   ]
  },
  {
   "cell_type": "code",
   "execution_count": null,
   "id": "d78bc44c",
   "metadata": {},
   "outputs": [],
   "source": [
    "# cols = ['g_alcohol',\n",
    "# 'g_self_digestive_condition',\n",
    "# 'g_self_endocrine_disorder',\n",
    "# 'g_self_heart_condition',\n",
    "# 'g_self_muscular_disorder',\n",
    "# 'g_self_other_disorder',\n",
    "# 'g_self_respiratory_disorder',\n",
    "# 'g_self_urinary_tract_disorder',\n",
    "# 'g_self_cancer_tumor',\n",
    "# 'g_self_digestive_hepatitis',\n",
    "# 'g_self_digestive_other_gastrointestinal_disorder',\n",
    "# 'g_self_digestive_other_liver_disorder',\n",
    "# 'g_self_respiratory_asthma',\n",
    "# 'g_self_respiratory_other_respiratory_disorder',\n",
    "# 'g_fam_cancer',\n",
    "# 'g_fam_digestive_condition',\n",
    "# 'g_fam_endocrine_disorder',\n",
    "# 'g_fam_other_disorder',\n",
    "# 'app_age',\n",
    "# 'smoker',\n",
    "# 'g_height_cm',\n",
    "# 'g_weight_kg',\n",
    "# 'g_smoke_daily_pcs',\n",
    "# 'g_alcohol_daily_ml',\n",
    "# 'occ_wp_pb',\n",
    "# 'occ_tpd',\n",
    "# 'occ_adb',\n",
    "# 'occ_add',\n",
    "# 'occ_cab_cabp_iab',\n",
    "# 'occ_mdi',\n",
    "# 'sex_male',\n",
    "# 'bmi',\n",
    "# 'clean_record']\n",
    "\n",
    "# cols = ['v_'+ col for col in cols]"
   ]
  },
  {
   "cell_type": "code",
   "execution_count": null,
   "id": "5c6b8e43",
   "metadata": {},
   "outputs": [],
   "source": [
    "# uw_sim_models = pd.DataFrame.from_records(data = np.ones_like(cols).reshape(1,-1), columns = cols)\n",
    "uw_sim_models[['fit_status','tune_status']]='W'\n",
    "uw_sim_models[['fit_s3_loc','fit_last_update_time', 'fit_start_time', 'fitting_machine',\n",
    "               'tune_last_update_time','tuning_machine']]= \"\"\n",
    "uw_sim_models.insert(0, 'model_id', uw_sim_models.index)"
   ]
  },
  {
   "cell_type": "code",
   "execution_count": null,
   "id": "3698a7c4",
   "metadata": {},
   "outputs": [],
   "source": [
    "uw_sim_preds = pd.DataFrame(data = {\"model_id\": int(), \"contract_no\": str(), \"pred\": float(),\n",
    "                                  \"train\": int()}, index=[])"
   ]
  },
  {
   "cell_type": "code",
   "execution_count": null,
   "id": "5bd40013",
   "metadata": {},
   "outputs": [],
   "source": [
    "uw_sim_preds"
   ]
  },
  {
   "cell_type": "code",
   "execution_count": null,
   "id": "3919fc6d",
   "metadata": {},
   "outputs": [],
   "source": [
    "uw_sim_models.dtypes"
   ]
  },
  {
   "cell_type": "code",
   "execution_count": null,
   "id": "1656dbbc",
   "metadata": {},
   "outputs": [],
   "source": [
    "# with dsar.psql_con('HB') as con:\n",
    "#     uw_sim_preds.to_sql(name=f'uw_sim_preds_v1', con=con, schema='hb',index=False, if_exists='replace')"
   ]
  },
  {
   "cell_type": "code",
   "execution_count": null,
   "id": "a457c7dd",
   "metadata": {},
   "outputs": [],
   "source": [
    "out_col = ['model_id', 'pref_percentile', 'std_percentile', 'pref_prop', 'std_prop','substd_prop',\n",
    "           'pref_loss', 'std_loss',\n",
    "           'substd_loss','S_P_loss','agreement_rate', 'nstd_agreement_rate',\n",
    "        'pref_decline_prop', 'std_decline_prop', 'substd_decline_prop',\n",
    "        'pref_size', 'std_size','substd_size',\n",
    "       'pref_decline', 'pref_exclusion', 'pref_loading',\n",
    "      'std_decline', 'std_exclusion', 'std_loading',\n",
    "    'substd_decline', 'substd_exclusion', 'substd_loading',\n",
    "    'pref_std', 'std_std', 'substd_std'\n",
    "]\n",
    "int_col = ['model_id', 'pref_percentile', 'std_percentile','pref_size', 'std_size','substd_size',\n",
    "       'pref_decline', 'pref_exclusion', 'pref_loading',\n",
    "      'std_decline', 'std_exclusion', 'std_loading',\n",
    "    'substd_decline', 'substd_exclusion', 'substd_loading',\n",
    "    'pref_std', 'std_std', 'substd_std']\n",
    "uw_sim_tune = pd.DataFrame(columns = out_col)\n",
    "uw_sim_tune = uw_sim_tune.astype(float)\n",
    "uw_sim_tune[int_col] = uw_sim_tune[int_col].astype(int)"
   ]
  },
  {
   "cell_type": "code",
   "execution_count": null,
   "id": "fa55a27f",
   "metadata": {},
   "outputs": [],
   "source": [
    "uw_sim_tune"
   ]
  },
  {
   "cell_type": "code",
   "execution_count": null,
   "id": "65323c1a",
   "metadata": {},
   "outputs": [],
   "source": [
    "# with dsar.psql_con('HB') as con:\n",
    "#     uw_sim_tune.to_sql(name=f'uw_sim_tune', con=con, schema='hb',index=False, if_exists='replace')"
   ]
  },
  {
   "cell_type": "code",
   "execution_count": null,
   "id": "f97fe96c",
   "metadata": {},
   "outputs": [],
   "source": [
    "# uw_sim_models.to_csv('queue_table_v2.csv', index=False)"
   ]
  },
  {
   "cell_type": "code",
   "execution_count": null,
   "id": "9029120a",
   "metadata": {},
   "outputs": [],
   "source": [
    "# uw_sim_models = pd.read_csv('./queue_table_v2.csv',)"
   ]
  },
  {
   "cell_type": "code",
   "execution_count": null,
   "id": "f26fd2e4",
   "metadata": {},
   "outputs": [],
   "source": [
    "with dsar.psql_con('HB') as con:\n",
    "    uw_sim_models = pd.read_sql('select * from hb.uw_sim_models', con=con)"
   ]
  },
  {
   "cell_type": "code",
   "execution_count": null,
   "id": "0f8775c4",
   "metadata": {},
   "outputs": [],
   "source": [
    "uw_sim_models[uw_sim_models.drop('model_id', axis=1).sum(axis=1)==47]"
   ]
  },
  {
   "cell_type": "code",
   "execution_count": null,
   "id": "a4fad3f0",
   "metadata": {},
   "outputs": [],
   "source": [
    "uw_sim_models_append = uw_sim_models.drop(uw_sim_models.index, axis=0)"
   ]
  },
  {
   "cell_type": "code",
   "execution_count": null,
   "id": "f8a3f258",
   "metadata": {},
   "outputs": [],
   "source": [
    "# bootstrap\n",
    "uw_sim_models_bootstrap = uw_sim_models[uw_sim_models.model_id.isin([178,229,233,236])]\n",
    "uw_sim_models_bootstrap = uw_sim_models_bootstrap.rename(columns={'model_id': 'original_model_id'})\n",
    "uw_sim_models_bootstrap['bootstrap_id'] = 0\n",
    "uw_sim_models_bootstrap_temp = uw_sim_models_bootstrap.copy()\n",
    "for i in range(1,20):\n",
    "    uw_sim_models_bootstrap_temp['bootstrap_id'] = i\n",
    "    uw_sim_models_bootstrap = pd.concat([uw_sim_models_bootstrap,uw_sim_models_bootstrap_temp], axis=0)\n",
    "uw_sim_models_bootstrap = uw_sim_models_bootstrap.sort_values(by=['original_model_id', 'bootstrap_id']).reset_index(drop=True)\n",
    "uw_sim_models_bootstrap = uw_sim_models_bootstrap.reset_index().rename(columns={'index':'model_id'})\n",
    "uw_sim_models_bootstrap[['fit_status','tune_status', 'adj_tune_status']]='W'\n",
    "uw_sim_models_bootstrap[['fit_s3_loc','fit_last_update_time', 'fit_start_time', 'fitting_machine',\n",
    "               'tune_last_update_time','tuning_machine']]= \"\"\n",
    "uw_sim_models_bootstrap"
   ]
  },
  {
   "cell_type": "code",
   "execution_count": null,
   "id": "0c0e11d1",
   "metadata": {},
   "outputs": [],
   "source": [
    "# with dsar.psql_con('HB') as con:\n",
    "#     uw_sim_models_bootstrap.to_sql(name=f'uw_sim_models_bootstrap', con=con, schema='hb',index=False, if_exists='append')"
   ]
  },
  {
   "cell_type": "code",
   "execution_count": null,
   "id": "455e87cc",
   "metadata": {},
   "outputs": [],
   "source": [
    "# uw_sim_models_append[['v_' + col for col in generic_med_col]] = list(product([0,1],repeat=len(generic_med_col)))"
   ]
  },
  {
   "cell_type": "code",
   "execution_count": null,
   "id": "0a3d7e56",
   "metadata": {},
   "outputs": [],
   "source": [
    "# uw_sim_models.query('model_id==150').to_csv('extra_condition.csv', index=False)"
   ]
  },
  {
   "cell_type": "code",
   "execution_count": null,
   "id": "58dfa60a",
   "metadata": {},
   "outputs": [],
   "source": [
    "# uw_sim_models_append = uw_sim_models_append[uw_sim_models_append.sum(axis=1)==2].reset_index(drop=True)\n",
    "extra_condition = pd.read_csv('extra_condition.csv', dtype=uw_sim_models_append.dtypes.values)"
   ]
  },
  {
   "cell_type": "code",
   "execution_count": null,
   "id": "e708d5a5",
   "metadata": {},
   "outputs": [],
   "source": [
    "extra_condition"
   ]
  },
  {
   "cell_type": "code",
   "execution_count": null,
   "id": "198f29d2",
   "metadata": {},
   "outputs": [],
   "source": [
    "uw_sim_models_append = pd.concat([extra_condition,uw_sim_models_append],axis=0, ignore_index=True)\n",
    "uw_sim_models_append[['fit_status','tune_status']]='W'\n",
    "uw_sim_models_append[['fit_s3_loc','fit_last_update_time', 'fit_start_time', 'fitting_machine',\n",
    "               'tune_last_update_time','tuning_machine']]= \"\"\n",
    "# uw_sim_models_append[['v_' + col for col in cancer_sub_col + digest_sub_col + respiratory_sub_col + family_med_col]] = 0\n",
    "# uw_sim_models_append[['v_' + col for col in basic_col + smoke_alcohol_col]] = 1\n",
    "uw_sim_models_append = uw_sim_models_append.reset_index(drop=True)\n",
    "uw_sim_models_append['model_id'] = uw_sim_models_append.index + uw_sim_models.model_id.max() +1"
   ]
  },
  {
   "cell_type": "code",
   "execution_count": null,
   "id": "f85ec414",
   "metadata": {},
   "outputs": [],
   "source": [
    "uw_sim_models_append"
   ]
  },
  {
   "cell_type": "code",
   "execution_count": null,
   "id": "de4acd97",
   "metadata": {},
   "outputs": [],
   "source": [
    "# with dsar.psql_con('HB') as con:\n",
    "#     uw_sim_models_append.to_sql(name=f'uw_sim_models', con=con, schema='hb',index=False, if_exists='append')"
   ]
  },
  {
   "cell_type": "code",
   "execution_count": null,
   "id": "59444807",
   "metadata": {},
   "outputs": [],
   "source": [
    "# with dsar.psql_con('HB') as con:\n",
    "# #     con.execute(\"\"\"ALTER TABLE hb.uw_sim_models \n",
    "# #                 ADD adj_tune_status CHAR(1)\"\"\") \n",
    "#     con.execute(\"\"\"UPDATE hb.uw_sim_models \n",
    "#                 SET adj_tune_status ='W' \"\"\")\n"
   ]
  },
  {
   "cell_type": "code",
   "execution_count": null,
   "id": "55e783ee",
   "metadata": {},
   "outputs": [],
   "source": [
    "# with dsar.psql_con('HB') as con:\n",
    "#     con.execute(\"\"\"DELETE from hb.uw_sim_tune_adj\n",
    "#          ;\"\"\")  "
   ]
  },
  {
   "cell_type": "code",
   "execution_count": null,
   "id": "0bc6e869",
   "metadata": {},
   "outputs": [],
   "source": [
    "# with dsar.psql_con('HB') as con:\n",
    "#     con.execute(\"\"\"ALTER TABLE hb.uw_sim_models \n",
    "#                 ADD a_g_self_cancer INT, \n",
    "#                 ADD a_g_self_digestive_condition INT,\n",
    "#                 ADD a_g_self_endocrine_disorder INT,\n",
    "#                 ADD a_g_self_heart_condition INT,\n",
    "#                 ADD a_g_self_mental_condition INT,\n",
    "#                 ADD a_g_self_muscular_disorder INT,\n",
    "#                 ADD a_g_self_nervous_system_disorder INT,\n",
    "#                 ADD a_g_self_reproductive_disorder INT,\n",
    "#                 ADD a_g_self_respiratory_disorder INT,\n",
    "#                 ADD a_g_self_urinary_tract_disorder INT\n",
    "#                 \"\"\")   \n"
   ]
  },
  {
   "cell_type": "code",
   "execution_count": null,
   "id": "a2aa9da8",
   "metadata": {},
   "outputs": [],
   "source": [
    "# with dsar.psql_con('HB') as con:\n",
    "#     con.execute(\"\"\"UPDATE hb.uw_sim_models\n",
    "#     SET \n",
    "#     a_g_self_cancer = 0,\n",
    "#     a_g_self_digestive_condition = 0,\n",
    "#     a_g_self_endocrine_disorder = 0,\n",
    "#     a_g_self_heart_condition = 0,\n",
    "#     a_g_self_mental_condition = 0,\n",
    "#     a_g_self_muscular_disorder = 0,\n",
    "#     a_g_self_nervous_system_disorder = 0,\n",
    "#     a_g_self_reproductive_disorder = 0,\n",
    "#     a_g_self_respiratory_disorder = 0,\n",
    "#     a_g_self_urinary_tract_disorder = 0\n",
    "#     \"\"\")"
   ]
  },
  {
   "cell_type": "code",
   "execution_count": null,
   "id": "0cb3d6f3",
   "metadata": {},
   "outputs": [],
   "source": [
    "# uw_sim_models[uw_sim_models[['v_g_self_cancer', 'v_g_self_digestive_condition',\n",
    "#        'v_g_self_endocrine_disorder', 'v_g_self_heart_condition',\n",
    "#        'v_g_self_mental_condition', 'v_g_self_muscular_disorder',\n",
    "#        'v_g_self_nervous_system_disorder', 'v_g_self_reproductive_disorder',\n",
    "#        'v_g_self_respiratory_disorder', 'v_g_self_urinary_tract_disorder',\n",
    "#        'v_g_self_cancer_tumor', 'v_g_self_digestive_hepatitis']].sum(axis=1)==len(['v_g_self_cancer', 'v_g_self_digestive_condition',\n",
    "#        'v_g_self_endocrine_disorder', 'v_g_self_heart_condition',\n",
    "#        'v_g_self_mental_condition', 'v_g_self_muscular_disorder',\n",
    "#        'v_g_self_nervous_system_disorder', 'v_g_self_reproductive_disorder',\n",
    "#        'v_g_self_respiratory_disorder', 'v_g_self_urinary_tract_disorder',\n",
    "#        'v_g_self_cancer_tumor', 'v_g_self_digestive_hepatitis'])].to_csv('extra_condition.csv')"
   ]
  },
  {
   "cell_type": "code",
   "execution_count": null,
   "id": "2051d24a",
   "metadata": {},
   "outputs": [],
   "source": [
    "# with dsar.psql_con('HB') as con:\n",
    "#     con.execute(\"\"\"ALTER TABLE hb.uw_sim_models\n",
    "#         ADD PRIMARY KEY (model_id);\"\"\")   "
   ]
  },
  {
   "cell_type": "code",
   "execution_count": null,
   "id": "d64c0ea1",
   "metadata": {},
   "outputs": [],
   "source": [
    "# with dsar.psql_con('HB') as con:\n",
    "#     con.execute(\"\"\"ALTER TABLE hb.uw_sim_preds_v1\n",
    "#         ADD UNIQUE (contract_no, model_id);\"\"\")   "
   ]
  },
  {
   "cell_type": "code",
   "execution_count": null,
   "id": "de02e306",
   "metadata": {},
   "outputs": [],
   "source": [
    "# with dsar.psql_con('HB') as con:\n",
    "#     uw_sim_models.to_sql(name=f'uw_sim_models_test', con=con, schema='hb',index=False, if_exists='replace')"
   ]
  },
  {
   "cell_type": "code",
   "execution_count": null,
   "id": "cfb9e84d",
   "metadata": {},
   "outputs": [],
   "source": [
    "# with dsar.psql_con('HB') as con:\n",
    "#     con.execute(\"\"\"ALTER TABLE hb.uw_sim_models_test\n",
    "#         ADD PRIMARY KEY (model_id);\"\"\")   "
   ]
  },
  {
   "cell_type": "code",
   "execution_count": null,
   "id": "6d82b204",
   "metadata": {},
   "outputs": [],
   "source": [
    "# uw_sim_models[['fit_s3_loc','fit_last_update_time', 'fit_start_time', 'fitting_machine',\n",
    "#                'tune_last_update_time','tune_last_update_time','tuning_machine']] = \"\""
   ]
  },
  {
   "cell_type": "code",
   "execution_count": null,
   "id": "837c7bfa",
   "metadata": {},
   "outputs": [],
   "source": [
    "# uw_sim_models = uw_sim_models.head()"
   ]
  },
  {
   "cell_type": "code",
   "execution_count": null,
   "id": "7185b69b",
   "metadata": {},
   "outputs": [],
   "source": [
    "# with dsar.psql_con('HB') as con:\n",
    "#     uw_sim_models.to_sql(name=f'uw_sim_models', con=con, schema='hb',index=False, if_exists='replace')"
   ]
  },
  {
   "cell_type": "code",
   "execution_count": null,
   "id": "36ce4e8d",
   "metadata": {},
   "outputs": [],
   "source": [
    "# with dsar.psql_con('HB') as con:\n",
    "#     con.execute(\"\"\"UPDATE hb.uw_sim_models\n",
    "#     SET fit_status = 'W', tune_status = 'W'\n",
    "#     Where fit_status = 'D' and model_id>=229\"\"\")"
   ]
  },
  {
   "cell_type": "code",
   "execution_count": null,
   "id": "bbbf62e3",
   "metadata": {},
   "outputs": [],
   "source": [
    "# with dsar.psql_con('HB') as con:\n",
    "#     con.execute(\"\"\"DELETE from hb.uw_sim_models\n",
    "#         where model_id <=175 and model_id>=1 ;\"\"\")  "
   ]
  },
  {
   "cell_type": "code",
   "execution_count": null,
   "id": "7515a1cd",
   "metadata": {},
   "outputs": [],
   "source": [
    "# with dsar.psql_con('HB') as con:\n",
    "#     con.execute(\"\"\"DELETE from hb.uw_sim_tune\n",
    "#         where model_id <=175 and model_id>=1 ;\"\"\")   "
   ]
  },
  {
   "cell_type": "code",
   "execution_count": null,
   "id": "04eb6dab",
   "metadata": {},
   "outputs": [],
   "source": [
    "# with dsar.psql_con('HB') as con:\n",
    "#     con.execute(\"\"\"DELETE from hb.uw_sim_preds_v1\n",
    "#         where model_id <=175 and model_id>=1 ;\"\"\")   "
   ]
  },
  {
   "cell_type": "code",
   "execution_count": null,
   "id": "3269fd0c",
   "metadata": {},
   "outputs": [],
   "source": [
    "# with dsar.psql_con('HB') as con:\n",
    "#     con.execute(\"\"\"UPDATE hb.uw_sim_models\n",
    "#     SET tune_status = 'W'\n",
    "#     \"\"\")"
   ]
  },
  {
   "cell_type": "code",
   "execution_count": null,
   "id": "2e496f52",
   "metadata": {},
   "outputs": [],
   "source": [
    "# with dsar.psql_con('HB') as con:\n",
    "#     con.execute(\"\"\"DROP TABLE hb.uw_sim_preds_bootstrap\n",
    "#     \"\"\")\n",
    "\n",
    "# with dsar.psql_con('HB') as con:\n",
    "#     con.execute(\"\"\"DROP TABLE hb.uw_sim_tune_adj_bootstrap\n",
    "#     \"\"\")"
   ]
  }
 ],
 "metadata": {
  "kernelspec": {
   "display_name": "data_science",
   "language": "python",
   "name": "python3"
  },
  "language_info": {
   "codemirror_mode": {
    "name": "ipython",
    "version": 3
   },
   "file_extension": ".py",
   "mimetype": "text/x-python",
   "name": "python",
   "nbconvert_exporter": "python",
   "pygments_lexer": "ipython3",
   "version": "3.10.4 | packaged by conda-forge | (main, Mar 24 2022, 17:42:03) [Clang 12.0.1 ]"
  },
  "vscode": {
   "interpreter": {
    "hash": "ae74f9feb07f97b665e59d852dca9947bf3c6be9bdf551f43d711a8fd00af3ab"
   }
  }
 },
 "nbformat": 4,
 "nbformat_minor": 5
}
