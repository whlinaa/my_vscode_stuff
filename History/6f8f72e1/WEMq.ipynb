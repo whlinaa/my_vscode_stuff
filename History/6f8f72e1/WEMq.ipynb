{
 "cells": [
  {
   "cell_type": "code",
   "execution_count": 3,
   "metadata": {},
   "outputs": [
    {
     "name": "stdout",
     "output_type": "stream",
     "text": [
      "calling ds_helper...\n",
      "calling self ds_preamble..\n"
     ]
    }
   ],
   "source": [
    "%load_ext autoreload\n",
    "%autoreload 2\n",
    "from ds_utils.ds_helper import *\n",
    "from ds_utils.ds_plotting import *\n",
    "# from glob import glob\n",
    "# import re\n",
    "# import datetime\n",
    "# import duckdb\n",
    "# import pathlib\n",
    "# from ds_utils.ds_preamble import *  # # self-defined moduleb\n",
    "# from ds_utils.ds_helper import *  # self-defined module\n",
    "# from ds_utils.ds_plotting import *  # # self-defined module\n",
    "\n",
    "tips = sns.load_dataset('tips')\n",
    "tips_tiny = tips.sample(20)\n",
    "\n",
    "df = tips\n",
    "np.random.seed(123)\n",
    "tips['decile'] = np.random.randint(1,4, size=len(tips))\n",
    "\n",
    "# import importlib\n",
    "# importlib.reload(ds_preamble)\n",
    "import math\n",
    "from math import ceil, floor\n",
    "from collections import Counter \n",
    "from functools import cache\n",
    "# itertools: combinations, product\n",
    "import itertools\n",
    "\n",
    "\n",
    "import scipy as sp\n",
    "from math import comb\n",
    "\n",
    "sys.setrecursionlimit(100000)\n",
    "import statsmodels.api as sm\n",
    "from itertools import combinations\n"
   ]
  },
  {
   "attachments": {},
   "cell_type": "markdown",
   "metadata": {},
   "source": [
    "# todo\n",
    "- how to determine if the numbers repeat itself?\n",
    "- implement the distribution given support and probability distribution\n",
    "\t- pmf, cdf, sf, isf"
   ]
  },
  {
   "attachments": {},
   "cell_type": "markdown",
   "metadata": {},
   "source": [
    "# classic algorithms"
   ]
  },
  {
   "attachments": {},
   "cell_type": "markdown",
   "metadata": {},
   "source": [
    "## implement hasing (hash table)"
   ]
  },
  {
   "cell_type": "code",
   "execution_count": 48,
   "metadata": {},
   "outputs": [
    {
     "data": {
      "text/plain": [
       "[[(2, 3)], [(1, 2)]]"
      ]
     },
     "execution_count": 48,
     "metadata": {},
     "output_type": "execute_result"
    },
    {
     "name": "stdout",
     "output_type": "stream",
     "text": [
      "resizing to 4...\n",
      "resizing to 8...\n"
     ]
    },
    {
     "data": {
      "text/plain": [
       "[[], [(1, 2)], [(2, 3)], [(3, 4)], [(4, 4)], [(5, 5)], [], []]"
      ]
     },
     "execution_count": 48,
     "metadata": {},
     "output_type": "execute_result"
    }
   ],
   "source": [
    "# M1: constant size implementation\n",
    "# class HashMap:\n",
    "#     def __init__(self, n=100):\n",
    "#         # just a list of n lists\n",
    "#         self.maps = [[] for i in range(n)]\n",
    "#     def find_map(self, k):\n",
    "#         # find the map that value k maps to \n",
    "#         index = hash(k)% len(self.maps)\n",
    "#         return self.maps[index] # return a list\n",
    "#     def add(self, k, v):\n",
    "#         # add a k,v pair to maps\n",
    "#         m = self.find_map(k)\n",
    "#         m.append((k,v))\n",
    "#     def get(self, k):\n",
    "#         m = self.find_map(k)\n",
    "#         for key, val in m:\n",
    "#             if key == k:\n",
    "#                 return val\n",
    "#         raise KeyError\n",
    "\n",
    "class HashMap:\n",
    "    def __init__(self, n=2):\n",
    "        # just a list of n lists\n",
    "        self.maps = [[] for i in range(n)]\n",
    "        self.n_elements = 0\n",
    "    def find_index(self, k):\n",
    "        return hash(k)% len(self.maps)\n",
    "    def find_map(self, k):\n",
    "        # find the map that value k maps to \n",
    "        return self.maps[self.find_index(k)] # return a list\n",
    "    def add(self, k, v):\n",
    "        # add a k,v pair to maps\n",
    "        if self.n_elements == len(self.maps):\n",
    "            self.resize()\n",
    "        m = self.find_map(k)\n",
    "        m.append((k,v))\n",
    "        self.n_elements += 1\n",
    "    def get(self, k):\n",
    "        m = self.find_map(k)\n",
    "        for key, val in m:\n",
    "            if key == k:\n",
    "                return val\n",
    "        raise KeyError\n",
    "    def resize(self):\n",
    "        print(f\"resizing to {self.n_elements*2}...\")\n",
    "        new_size = self.n_elements*2\n",
    "        new_maps = [[] for i in range(new_size)]\n",
    "        for map in self.maps:\n",
    "            for k, v in map:\n",
    "                new_maps[hash(k)%new_size].append((k,v))\n",
    "        self.maps = new_maps\n",
    "\n",
    "map = HashMap()\n",
    "map.add(1,2)\n",
    "map.add(2,3)\n",
    "map.maps\n",
    "map.add(3,4)\n",
    "map.add(4,4)\n",
    "map.add(5,5)\n",
    "\n",
    "map.maps\n",
    "\n",
    "# map.add(1,2)\n",
    "# map.add(2,3)\n",
    "# map.add(3,4)\n",
    "# map.get(3)\n",
    "# map.add(101,2)\n",
    "# map.maps\n",
    "# map.get(101)"
   ]
  },
  {
   "attachments": {},
   "cell_type": "markdown",
   "metadata": {},
   "source": [
    "## insertion sort\n",
    "- idea: start from looking at `a[:1]`. It's already sorted. Then. look at `a[:2]`. We need to put `a[1]` into the correct position relative to `a[:2]`. Basically, we need to insert `a[i]` into the correct position of `a[:i+1]`, where `a[:i]` is already sorted."
   ]
  },
  {
   "cell_type": "code",
   "execution_count": 16,
   "metadata": {},
   "outputs": [
    {
     "name": "stdout",
     "output_type": "stream",
     "text": [
      "1\n",
      "[1, 2]\n"
     ]
    }
   ],
   "source": [
    "def insertion_sort(a):\n",
    "    for i in range(1, len(a)):\n",
    "        # find correct insertion location\n",
    "        j = i - 1\n",
    "        candidate = a[i]\n",
    "        while j>=0 and a[j] > candidate:\n",
    "            a[j+1] = a[j]\n",
    "            j -= 1\n",
    "        a[j+1] = candidate \n",
    "\n",
    "# a=[2,4,5,7,1,2,3,6]\n",
    "# a=[1,3,7,2]\n",
    "a = [2,1]\n",
    "insertion_sort(a)\n",
    "print(a)\n",
    "\n",
    "\n",
    "# insertion_sort()\n",
    "\n"
   ]
  },
  {
   "attachments": {},
   "cell_type": "markdown",
   "metadata": {},
   "source": [
    "## bubble sort"
   ]
  },
  {
   "cell_type": "code",
   "execution_count": 21,
   "metadata": {},
   "outputs": [
    {
     "name": "stdout",
     "output_type": "stream",
     "text": [
      "[1, 2, 3, 7]\n"
     ]
    }
   ],
   "source": [
    "def bubble_sort(a):\n",
    "    n = len(a)\n",
    "    for i in range(n):\n",
    "        for j in range(n-1-i):\n",
    "            if a[j] > a[j+1]: # swap\n",
    "                a[j], a[j+1] = a[j+1], a[j]\n",
    "                \n",
    "a=[2,4,5,7,1,2,3,6]\n",
    "a=[1,3,7,2]\n",
    "# a = [2,1]\n",
    "bubble_sort(a)\n",
    "print(a)\n",
    "                \n",
    "            \n"
   ]
  },
  {
   "attachments": {},
   "cell_type": "markdown",
   "metadata": {},
   "source": [
    "## mergesort"
   ]
  },
  {
   "cell_type": "code",
   "execution_count": 33,
   "metadata": {},
   "outputs": [
    {
     "data": {
      "text/plain": [
       "[-1, -2, 1, 2, 3]"
      ]
     },
     "execution_count": 33,
     "metadata": {},
     "output_type": "execute_result"
    }
   ],
   "source": [
    "def merge(s1,s2, s=None):\n",
    "    # if s is None, then create a new array to store the result\n",
    "    m, n = len(s1), len(s2)\n",
    "    if s is None:\n",
    "        s = [0] * (m+n)\n",
    "    i=j =0\n",
    "    \n",
    "    # -------------------------- M1: clever if condition ------------------------- #\n",
    "    # for k in range(m+n):\n",
    "    #     # think: when should we put the elements of s1 to array?\n",
    "    #     if (j>=n) or (i < m and s1[i] < s2[j]):\n",
    "    #         s[k] = s1[i]\n",
    "    #         i+=1\n",
    "    #     else:\n",
    "    #         s[k] = s2[j]\n",
    "    #         j+=1\n",
    "    # return s \n",
    "    \n",
    "    # --------------------------- M2: standard solution -------------------------- #\n",
    "    # while i < m and j < n:\n",
    "    #     if s1[i] < s2[j]:\n",
    "    #         s[i+j] = s1[i]\n",
    "    #         i += 1\n",
    "    #     else:\n",
    "    #         s[i+j] = s2[j]\n",
    "    #         j += 1\n",
    "    # while i < m:\n",
    "    #     s[i+j] = s1[i]\n",
    "    #     i+=1\n",
    "        \n",
    "    # while j < n:\n",
    "    #     s[i+j] = s2[j]\n",
    "    #     j+=1\n",
    "    # return s \n",
    "    \n",
    "    # ------------------------------- M3: sentinel ------------------------------- #\n",
    "    s1.append(float('inf'))\n",
    "    s2.append(float('inf'))\n",
    "    for k in range(m+n):\n",
    "        if s1[i] < s2[j]:\n",
    "            s[k] = s1[i]\n",
    "            i+=1\n",
    "        else:\n",
    "            s[k] = s2[j]\n",
    "            j+=1\n",
    "    s1.pop()\n",
    "    s2.pop()\n",
    "    return s \n",
    "\n",
    "def merge_sort(a):\n",
    "    # TODO\n",
    "    # def helper(l, r):\n",
    "    #     if l >= r: return \n",
    "    #     mid = (l+r)//2\n",
    "    #     helper(l, mid)\n",
    "    #     helper(mid+1, r)\n",
    "    #     merge(a[l:mid+1], a[mid+1:r+1])\n",
    "\n",
    "s1=[1,2,3]\n",
    "s2=[-1,-2]\n",
    "merge(s1,s2)\n"
   ]
  },
  {
   "attachments": {},
   "cell_type": "markdown",
   "metadata": {},
   "source": [
    "## partition (in-place)"
   ]
  },
  {
   "cell_type": "code",
   "execution_count": 4,
   "metadata": {},
   "outputs": [
    {
     "name": "stdout",
     "output_type": "stream",
     "text": [
      "[2 4 3 1 0]\n"
     ]
    },
    {
     "data": {
      "text/plain": [
       "0"
      ]
     },
     "execution_count": 4,
     "metadata": {},
     "output_type": "execute_result"
    },
    {
     "data": {
      "text/plain": [
       "1"
      ]
     },
     "execution_count": 4,
     "metadata": {},
     "output_type": "execute_result"
    }
   ],
   "source": [
    "def partition(a, l, r, random_pivot=False):\n",
    "    # l and r are inclusive\n",
    "    i= l-1\n",
    "    if random_pivot:\n",
    "        rand_int = np.random.randint(l, r+1, None)\n",
    "        a[rand_int], a[r] = a[r], a[rand_int]\n",
    "        \n",
    "    pivot = a[r]\n",
    "    for j in range(l, r): # not including a[r], since it's pivot\n",
    "        if a[j] <= pivot:\n",
    "            i+=1\n",
    "            a[i], a[j] = a[j], a[i]\n",
    "    a[i+1], a[r] = a[r], a[i+1]\n",
    "    return i+1\n",
    "\n",
    "def quick_sort(a):\n",
    "    def helper(l, r):\n",
    "        if l >= r:\n",
    "            return\n",
    "        mid = partition(a, l, r)\n",
    "        helper(l, mid-1)\n",
    "        helper(mid+1, r)\n",
    "    helper(0, len(a)-1)\n",
    "\n",
    "\n",
    "def quick_select(a, k):\n",
    "    # select the kth smallest\n",
    "    k = k-1\n",
    "    a = a.copy()\n",
    "    def helper(l, r):\n",
    "        mid = partition(a, l, r)\n",
    "        if mid == k:\n",
    "            return a[k]\n",
    "        elif mid < k:\n",
    "            return helper(mid+1, r)\n",
    "        else:\n",
    "            return helper(l, mid-1)\n",
    "    return helper(0, len(a)-1)\n",
    "\n",
    "            \n",
    "# a=[2,1,3]\n",
    "# a=[2, 8, 7, 1, 3, 5, 6, 4]\n",
    "# a=[2, 2, 3, 3, 3, 3, 2, 1]\n",
    "# partition(a, 0, len(a)-1)\n",
    "\n",
    "# print(a)\n",
    "# quick_sort(a)\n",
    "# print(a)\n",
    "\n",
    "# a = [1,2,3,4,5,6,7,8]\n",
    "# a = [4,3,2,2,1]\n",
    "a = np.random.permutation(5)\n",
    "# a = [1,1,1,1,4,5,-1]\n",
    "print(a)\n",
    "quick_select(a, 1)\n",
    "quick_select(a, 2)\n",
    "# quick_select(a, 4)\n",
    "# quick_select(a, 5)\n",
    "# quick_select(a, 6)\n",
    "# quick_select(a, 7)\n",
    "# print(a)\n",
    "\n"
   ]
  },
  {
   "attachments": {},
   "cell_type": "markdown",
   "metadata": {},
   "source": [
    "# numerical algorithms"
   ]
  },
  {
   "attachments": {},
   "cell_type": "markdown",
   "metadata": {},
   "source": [
    "## newton's method for root finding"
   ]
  },
  {
   "cell_type": "code",
   "execution_count": null,
   "metadata": {},
   "outputs": [
    {
     "name": "stderr",
     "output_type": "stream",
     "text": [
      "/var/folders/c2/yj8ksjmn34v5f9csr1s82d8r0000gn/T/ipykernel_53516/529298773.py:9: DeprecationWarning: scipy.misc.derivative is deprecated in SciPy v1.10.0; and will be completely removed in SciPy v1.12.0. You may consider using findiff: https://github.com/maroba/findiff or numdifftools: https://github.com/pbrod/numdifftools\n",
      "  df_xn = sp.misc.derivative(f, xn)\n"
     ]
    },
    {
     "data": {
      "text/plain": [
       "-1.0000102400262145"
      ]
     },
     "metadata": {},
     "output_type": "display_data"
    },
    {
     "data": {
      "text/plain": [
       "1.6195045111351039"
      ]
     },
     "metadata": {},
     "output_type": "display_data"
    }
   ],
   "source": [
    "# no need to supply\n",
    "def newton(f, x0, epsilon=0.01, max_iter=100):\n",
    "    xn = x0\n",
    "    for _ in range(max_iter):\n",
    "        f_xn = f(xn)\n",
    "        if abs(f_xn) < epsilon:\n",
    "            return xn\n",
    "        # df_xn = df(xn)\n",
    "        df_xn = sp.misc.derivative(f, xn)\n",
    "        if df_xn == 0:\n",
    "            print(\"derivative is zero... exiting\")\n",
    "            return None\n",
    "        xn -= f_xn / df_xn\n",
    "\n",
    "newton(lambda x: (x-3)*(x+1), x0=-2)\n",
    "        \n",
    "        \n",
    "        \n",
    "# need to supply derivative        \n",
    "def newton(f, df, x0, epsilon=0.01, max_iter=100):\n",
    "    xn = x0\n",
    "    for _ in range(max_iter):\n",
    "        f_xn = f(xn)\n",
    "        if abs(f_xn) < epsilon:\n",
    "            return xn\n",
    "        df_xn = df(xn)\n",
    "        if df_xn == 0:\n",
    "            print(\"derivative is zero... exiting\")\n",
    "            return None\n",
    "        xn -= f_xn / df_xn\n",
    "\n",
    "newton(lambda x: x**2 - x - 1, lambda x: 2*x - 1, x0=10000)\n",
    "        "
   ]
  },
  {
   "cell_type": "code",
   "execution_count": null,
   "metadata": {},
   "outputs": [
    {
     "name": "stdout",
     "output_type": "stream",
     "text": [
      "Found solution after 2 iterations.\n"
     ]
    },
    {
     "data": {
      "text/plain": [
       "1.619047619047619"
      ]
     },
     "metadata": {},
     "output_type": "display_data"
    }
   ],
   "source": [
    "def newton(f,Df,x0,epsilon,max_iter):\n",
    "\n",
    "    '''Approximate solution of f(x)=0 by Newton's method.\n",
    "\n",
    "    Parameters\n",
    "    ----------\n",
    "    f : function\n",
    "        Function for which we are searching for a solution f(x)=0.\n",
    "    Df : function\n",
    "        Derivative of f(x).\n",
    "    x0 : number\n",
    "        Initial guess for a solution f(x)=0.\n",
    "    epsilon : number\n",
    "        Stopping criteria is abs(f(x)) < epsilon.\n",
    "    max_iter : integer\n",
    "        Maximum number of iterations of Newton's method.\n",
    "\n",
    "    Returns\n",
    "    -------\n",
    "    xn : number\n",
    "        Implement Newton's method: compute the linear approximation\n",
    "        of f(x) at xn and find x intercept by the formula\n",
    "            x = xn - f(xn)/Df(xn)\n",
    "        Continue until abs(f(xn)) < epsilon and return xn.\n",
    "        If Df(xn) == 0, return None. If the number of iterations\n",
    "        exceeds max_iter, then return None.\n",
    "\n",
    "    Examples\n",
    "    --------\n",
    "    >>> f = lambda x: x**2 - x - 1\n",
    "    >>> Df = lambda x: 2*x - 1\n",
    "    >>> newton(f,Df,1,1e-8,10)\n",
    "    Found solution after 5 iterations.\n",
    "    1.618033988749989\n",
    "    '''\n",
    "\n",
    "    xn = x0\n",
    "    for n in range(0,max_iter):\n",
    "        fxn = f(xn)\n",
    "        if abs(fxn) < epsilon:\n",
    "            print('Found solution after',n,'iterations.')\n",
    "            return xn\n",
    "        Dfxn = Df(xn)\n",
    "        if Dfxn == 0:\n",
    "            print('Zero derivative. No solution found.')\n",
    "            return None\n",
    "\n",
    "        xn = xn - fxn/Dfxn\n",
    "    print('Exceeded maximum iterations. No solution found.')\n",
    "    return None\n",
    "\n",
    "newton(lambda x: x**2 - x - 1, lambda x: 2*x - 1, x0=2, epsilon=0.1, max_iter=100)"
   ]
  },
  {
   "attachments": {},
   "cell_type": "markdown",
   "metadata": {},
   "source": [
    "# statistics"
   ]
  },
  {
   "attachments": {},
   "cell_type": "markdown",
   "metadata": {},
   "source": [
    "## implement ma, expanding, ewm\n",
    "- https://en.wikipedia.org/wiki/Exponential_smoothing\n",
    "- in pandas, we use `alpha` instead of `beta` for smoothing factor\n",
    "- the higher the smoothing factor, the less smooth\n",
    "- remember: let `y_t` and `x_t` be the smoothed value and observed value at time t. Then,\n",
    "- $y_t = \\alpha x_{t} + (1-\\alpha) y_{t-1} $\n",
    "\t- if `alpha = 1`, then `y_t` the same as `x_t` => the higher `\\alpha`, the less smooth"
   ]
  },
  {
   "cell_type": "code",
   "execution_count": 33,
   "metadata": {},
   "outputs": [
    {
     "name": "stdout",
     "output_type": "stream",
     "text": [
      "0\n",
      "0\n",
      "1\n",
      "1\n",
      "2\n",
      "3\n"
     ]
    },
    {
     "data": {
      "text/html": [
       "<div>\n",
       "<style scoped>\n",
       "    .dataframe tbody tr th:only-of-type {\n",
       "        vertical-align: middle;\n",
       "    }\n",
       "\n",
       "    .dataframe tbody tr th {\n",
       "        vertical-align: top;\n",
       "    }\n",
       "\n",
       "    .dataframe thead th {\n",
       "        text-align: right;\n",
       "    }\n",
       "</style>\n",
       "<table border=\"1\" class=\"dataframe\">\n",
       "  <thead>\n",
       "    <tr style=\"text-align: right;\">\n",
       "      <th></th>\n",
       "      <th>data</th>\n",
       "      <th>expanding_mean</th>\n",
       "    </tr>\n",
       "  </thead>\n",
       "  <tbody>\n",
       "    <tr>\n",
       "      <th>0</th>\n",
       "      <td>0</td>\n",
       "      <td>0</td>\n",
       "    </tr>\n",
       "    <tr>\n",
       "      <th>1</th>\n",
       "      <td>1</td>\n",
       "      <td>0</td>\n",
       "    </tr>\n",
       "    <tr>\n",
       "      <th>2</th>\n",
       "      <td>2</td>\n",
       "      <td>1</td>\n",
       "    </tr>\n",
       "  </tbody>\n",
       "</table>\n",
       "</div>"
      ],
      "text/plain": [
       "   data  expanding_mean\n",
       "0     0               0\n",
       "1     1               0\n",
       "2     2               1"
      ]
     },
     "execution_count": 33,
     "metadata": {},
     "output_type": "execute_result"
    }
   ],
   "source": [
    "def ewm(a, alpha=0.1):\n",
    "    # assume data is a ndarray\n",
    "    res = [0] * len(a)\n",
    "    \n",
    "    for i in range(len(a)):\n",
    "        res[i] = a[0] if i == 0 else alpha * a[i] + (1-alpha) * res[i-1]\n",
    "        \n",
    "    return pd.DataFrame({\n",
    "        'data': a,\n",
    "        'ewm': res \n",
    "    })\n",
    "\n",
    "def moving_average(a, window=3):\n",
    "    # res[window-1] = average of first `window` entries \n",
    "    res = [np.nan] * len(a)\n",
    "    # M1: naive\n",
    "    # for i in range(window - 1, len(a)):\n",
    "    #     res[i] = a[i-window+1:i+1].mean()\n",
    "        \n",
    "    # M2: fast\n",
    "    cur_sum = a[:window].sum()\n",
    "    res[window-1] = cur_sum/window\n",
    "    for i in range(window, len(a)):\n",
    "        cur_sum += - a[i-window] + a[i]\n",
    "        res[i] = cur_sum/window\n",
    "    \n",
    "    return pd.DataFrame({\n",
    "        'data': a,\n",
    "        'ma': res \n",
    "    })\n",
    "\n",
    "def expanding_average(a):\n",
    "    cur_sum = 0\n",
    "    res = a.copy()\n",
    "    for i in range(len(a)):\n",
    "        cur_sum += a[i]\n",
    "        print(cur_sum)\n",
    "        res[i] = cur_sum / (i+1)\n",
    "        \n",
    "    return pd.DataFrame({\n",
    "        'data': a,\n",
    "        'expanding_mean': res \n",
    "    })\n",
    "\n",
    "\n",
    "\n",
    "# a = np.arange(100)\n",
    "a = np.arange(3)\n",
    "# ewm(data, alpha=0.1)\n",
    "\n",
    "# moving_average(a)\n",
    "expanding_average(a)"
   ]
  },
  {
   "cell_type": "code",
   "execution_count": null,
   "metadata": {},
   "outputs": [
    {
     "data": {
      "text/plain": [
       "0.48587792760014564"
      ]
     },
     "metadata": {},
     "output_type": "display_data"
    },
    {
     "data": {
      "text/plain": [
       "0.5234505224663181"
      ]
     },
     "metadata": {},
     "output_type": "display_data"
    },
    {
     "data": {
      "text/plain": [
       "0.5234644264137515"
      ]
     },
     "metadata": {},
     "output_type": "display_data"
    }
   ],
   "source": [
    "# # old\n",
    "# def ewm(data, beta=0.9, correct=False):\n",
    "#     res = 0\n",
    "#     for x in data:\n",
    "#         # res *= beta\n",
    "#         # res += (1-beta) * x\n",
    "#         res = res*beta + (1-beta) * x\n",
    "#     if correct:\n",
    "#         res /= 1-(beta)**len(data)\n",
    "#     return res\n",
    "# np.random.seed(1)\n",
    "# data = np.random.random(size=100)\n",
    "# data.mean()\n",
    "# ewm(data)\n",
    "# ewm(data, correct=True)\n",
    "    "
   ]
  },
  {
   "attachments": {},
   "cell_type": "markdown",
   "metadata": {},
   "source": [
    "## moving average\n",
    "- calculate\n",
    "\t- moving window average\n",
    "\t- expanding window average"
   ]
  },
  {
   "cell_type": "code",
   "execution_count": null,
   "metadata": {},
   "outputs": [
    {
     "data": {
      "text/plain": [
       "[1, 1.5, 2.25, 3.125, 4.0625, 5.03125, 6.015625, 7.0078125]"
      ]
     },
     "metadata": {},
     "output_type": "display_data"
    }
   ],
   "source": [
    "def exponential_moving_average(a, alpha=0.1, correct=False):\n",
    "    res = [0] * len(a) \n",
    "    res[0] = a[0]\n",
    "    for i in range(1, len(a)):\n",
    "        res[i] = (1-alpha) * res[i-1] + alpha * a[i]\n",
    "    return res \n",
    "\n",
    "def moving_average(a, s=3):\n",
    "    # res[s-1] = average of first s entries \n",
    "    n = len(a)\n",
    "    res = [np.nan] * n\n",
    "    \n",
    "    # ---------------------------------------------------------------------------- #\n",
    "    cur_mean = sum(a[:s])/s\n",
    "    res[s-1] = cur_mean\n",
    "    # ---------------------------------------------------------------------------- #\n",
    "    \n",
    "    for i in range(s, n):\n",
    "        cur_mean += (-a[i-s] + a[i])/s\n",
    "        res[i] = cur_mean\n",
    "    return res \n",
    "\n",
    "def weighted_moving_average(a, n=3):\n",
    "    n = len(a)\n",
    "    res = [np.nan] * n\n",
    "\n",
    "def expanding_average(a):\n",
    "    n = len(a)\n",
    "    res = [0] * n\n",
    "    cur_sum = 0\n",
    "    for i in range(n):\n",
    "        cur_sum += a[i]\n",
    "        res[i] = cur_sum / (i+1)\n",
    "    return res\n",
    "\n",
    "a = [1,2,3,4,5,6,7,8]\n",
    "# moving_average(a, s=3)\n",
    "# expanding_average(a)\n",
    "exponential_moving_average(a, alpha=0.5)"
   ]
  },
  {
   "cell_type": "code",
   "execution_count": null,
   "metadata": {},
   "outputs": [
    {
     "data": {
      "text/plain": [
       "[nan, nan, nan, nan, nan, 3.5, 4.5, 5.5]"
      ]
     },
     "metadata": {},
     "output_type": "display_data"
    },
    {
     "data": {
      "text/plain": [
       "[1.0, 1.5, 2.0, 2.5, 3.0, 3.5, 4.0, 4.5]"
      ]
     },
     "metadata": {},
     "output_type": "display_data"
    }
   ],
   "source": [
    "def moving_average(a, s=3):\n",
    "    n = len(a)\n",
    "    # good. Avoid re-calculating the mean over and over\n",
    "    res = [np.nan]*n\n",
    "    \n",
    "    # --------------------------------- base case -------------------------------- #\n",
    "    cur_sum = sum(a[:s])\n",
    "    res[s-1] = cur_sum / s\n",
    "    # ---------------------------------------------------------------------------- #\n",
    "    \n",
    "    for i in range(s, n):\n",
    "        cur_sum = cur_sum - a[i-s] + a[i]\n",
    "        res[i] = cur_sum / s\n",
    "    return res\n",
    "    pass\n",
    "\n",
    "def expanding_average(a):\n",
    "    n = len(a)\n",
    "    res = [0]*n\n",
    "    cur_sum = 0\n",
    "    for i in range(n):\n",
    "        cur_sum += a[i]\n",
    "        res[i] = cur_sum / (i+1)\n",
    "    return res\n",
    "\n",
    "def ema(a, alpha=0.8, correct=False):\n",
    "    pass \n",
    "\n",
    "a = [1,2,3,4,5,6,7,8]\n",
    "moving_average(a, s=6)\n",
    "expanding_average(a)"
   ]
  },
  {
   "attachments": {},
   "cell_type": "markdown",
   "metadata": {},
   "source": [
    "## find expected frequency of a table"
   ]
  },
  {
   "cell_type": "code",
   "execution_count": null,
   "metadata": {},
   "outputs": [
    {
     "data": {
      "text/plain": [
       "[array([[60],\n",
       "        [40]]),\n",
       " array([[23, 77]])]"
      ]
     },
     "metadata": {},
     "output_type": "display_data"
    },
    {
     "data": {
      "text/plain": [
       "array([[13.8, 46.2],\n",
       "       [ 9.2, 30.8]])"
      ]
     },
     "metadata": {},
     "output_type": "display_data"
    }
   ],
   "source": [
    "obs = np.array([[15, 45], [8, 32]])\n",
    "margsums = stats.contingency.margins(obs)\n",
    "margsums\n",
    "(margsums[0] * margsums[1])/obs.sum() # broadcasting\n",
    "# n = len(obs)\n",
    "\n",
    "# [margsums[0][i] * margsums[1][j] for i in range(n) for j in range(n)]\n",
    "\n",
    "\n",
    "# M2 \n",
    "obs = np.array([[15, 45], [8, 32]])\n",
    "expected = np.full_like(obs, 0)\n",
    "\n",
    "row_sum = obs.sum(axis=0)\n",
    "col_sum = obs.sum(axis=1)\n",
    "\n",
    "n = len(obs)\n",
    "for i in range(n):\n",
    "    for j in range(n):\n",
    "        expected[i,j] = row_sum[i] * col_sum[j]\n",
    "        \n",
    "expected/obs.sum()"
   ]
  },
  {
   "attachments": {},
   "cell_type": "markdown",
   "metadata": {},
   "source": [
    "## implement anova test for one-way classification"
   ]
  },
  {
   "cell_type": "code",
   "execution_count": null,
   "metadata": {},
   "outputs": [
    {
     "data": {
      "text/html": [
       "<div>\n",
       "<style scoped>\n",
       "    .dataframe tbody tr th:only-of-type {\n",
       "        vertical-align: middle;\n",
       "    }\n",
       "\n",
       "    .dataframe tbody tr th {\n",
       "        vertical-align: top;\n",
       "    }\n",
       "\n",
       "    .dataframe thead th {\n",
       "        text-align: right;\n",
       "    }\n",
       "</style>\n",
       "<table border=\"1\" class=\"dataframe\">\n",
       "  <thead>\n",
       "    <tr style=\"text-align: right;\">\n",
       "      <th></th>\n",
       "      <th>SS</th>\n",
       "      <th>df</th>\n",
       "      <th>mean_square</th>\n",
       "      <th>computed_F</th>\n",
       "      <th>critical_value</th>\n",
       "      <th>p_value</th>\n",
       "    </tr>\n",
       "    <tr>\n",
       "      <th>variation</th>\n",
       "      <th></th>\n",
       "      <th></th>\n",
       "      <th></th>\n",
       "      <th></th>\n",
       "      <th></th>\n",
       "      <th></th>\n",
       "    </tr>\n",
       "  </thead>\n",
       "  <tbody>\n",
       "    <tr>\n",
       "      <th>Treatments</th>\n",
       "      <td>476.5</td>\n",
       "      <td>3.0</td>\n",
       "      <td>158.833333</td>\n",
       "      <td>19.505848</td>\n",
       "      <td>5.563886</td>\n",
       "      <td>0.000029</td>\n",
       "    </tr>\n",
       "    <tr>\n",
       "      <th>error</th>\n",
       "      <td>114.0</td>\n",
       "      <td>14.0</td>\n",
       "      <td>8.142857</td>\n",
       "      <td>NaN</td>\n",
       "      <td>NaN</td>\n",
       "      <td>NaN</td>\n",
       "    </tr>\n",
       "    <tr>\n",
       "      <th>Total</th>\n",
       "      <td>590.5</td>\n",
       "      <td>17.0</td>\n",
       "      <td>NaN</td>\n",
       "      <td>NaN</td>\n",
       "      <td>NaN</td>\n",
       "      <td>NaN</td>\n",
       "    </tr>\n",
       "  </tbody>\n",
       "</table>\n",
       "</div>"
      ],
      "text/plain": [
       "               SS    df  mean_square  computed_F  critical_value   p_value\n",
       "variation                                                                 \n",
       "Treatments  476.5   3.0   158.833333   19.505848        5.563886  0.000029\n",
       "error       114.0  14.0     8.142857         NaN             NaN       NaN\n",
       "Total       590.5  17.0          NaN         NaN             NaN       NaN"
      ]
     },
     "metadata": {},
     "output_type": "display_data"
    },
    {
     "data": {
      "text/plain": [
       "(array([24.25541229, 25.25541229, 26.45073893, 37.05073893]),\n",
       " array([31.74458771, 32.74458771, 33.14926107, 43.74926107]))"
      ]
     },
     "metadata": {},
     "output_type": "display_data"
    }
   ],
   "source": [
    "class f_oneway():\n",
    "    def __init__(self):\n",
    "        pass\n",
    "    def anova(self, *samples, alpha=0.05):\n",
    "        self.samples = [np.array(sample) for sample in samples]\n",
    "        self.n_gps = len(self.samples)\n",
    "        self.n_samples, self.sums, self.sums_sqaured = np.zeros(self.n_gps), np.zeros(self.n_gps), np.zeros(self.n_gps)\n",
    "        for i, sample in enumerate(self.samples):\n",
    "            self.n_samples[i] =  len(sample)\n",
    "            self.sums[i] =  sample.sum()\n",
    "            self.sums_sqaured[i] =  (sample**2).sum()\n",
    "        self.sst = sum(self.sums_sqaured) - sum(self.sums)**2 / sum(self.n_samples)\n",
    "        self.sse = sum(self.sums_sqaured) - (self.sums**2 / self.n_samples).sum()\n",
    "        self.ssa = self.sst-self.sse\n",
    "        \n",
    "        dfn, dfd = self.n_gps - 1, sum(self.n_samples) - self.n_gps\n",
    "        f_dist = stats.f(dfn=dfn, dfd=dfd)\n",
    "        self.msa = self.ssa/dfn\n",
    "        self.mse = self.sse/dfd\n",
    "        ts = self.msa/self.mse\n",
    "        cv = f_dist.isf(alpha)\n",
    "        p_value = f_dist.sf(ts)\n",
    "        \n",
    "        res = pd.DataFrame(\n",
    "            {\n",
    "            'SS': [self.ssa, self.sse],\n",
    "            'df': [dfn, dfd],\n",
    "            'mean_square': [self.msa, self.mse],\n",
    "            'computed_F': [ts, None],\n",
    "            'critical_value': [cv, None],\n",
    "            'p_value': [p_value, None]\n",
    "            },\n",
    "            index=pd.Index(['Treatments', 'error'], name='variation')\n",
    "        )\n",
    "        \n",
    "        res.loc['Total',['SS','df']]= res.sum(numeric_only=True, axis=0)\n",
    "        return res\n",
    "    def ci_means(self, alpha=0.02):\n",
    "        pt_est = self.sums/self.n_samples\n",
    "        se = (self.mse/self.n_samples)**0.5\n",
    "        t = stats.t(df=self.n_samples.sum()-len(self.samples)).isf(alpha/2)\n",
    "        me = t*se\n",
    "        return pt_est - me, pt_est + me\n",
    "    \n",
    "        # print(f\"{self.mse = }\")\n",
    "        # print(f\"{self.n_samples = }\")\n",
    "        # print(f\"{pt_est = }\")\n",
    "        # print(f\"{se = }\")\n",
    "        # print(f\"{t = }\")\n",
    "        # print(f\"{self.n_samples.sum()-len(self.samples) = }\")\n",
    "        \n",
    "        # print(self.sums)\n",
    "        \n",
    "        \n",
    "\n",
    "\n",
    "# def f_oneway(*samples, alpha=0.05):\n",
    "#     # this implementation uses numpy \n",
    "#     samples = [np.array(sample) for sample in samples]\n",
    "#     n_gps = len(samples)\n",
    "#     n_samples, sums, sums_sqaured = np.zeros(n_gps), np.zeros(n_gps), np.zeros(n_gps)\n",
    "#     for i, sample in enumerate(samples):\n",
    "#         n_samples[i] =  len(sample)\n",
    "#         sums[i] =  sample.sum()\n",
    "#         sums_sqaured[i] =  (sample**2).sum()\n",
    "#     sst = sum(sums_sqaured) - sum(sums)**2 / sum(n_samples)\n",
    "#     sse = sum(sums_sqaured) - (sums**2 / n_samples).sum()\n",
    "#     ssa = sst-sse\n",
    "    \n",
    "#     dfn, dfd = n_gps - 1, sum(n_samples) - n_gps\n",
    "#     f_dist = stats.f(dfn=dfn, dfd=dfd)\n",
    "#     msa = ssa/(dfn)\n",
    "#     mse = sse/(dfd)\n",
    "#     ts = msa/mse\n",
    "#     cv = f_dist.isf(alpha)\n",
    "#     p_value = f_dist.sf(ts)\n",
    "    \n",
    "#     # res = {\n",
    "#     #     'ts': ts,\n",
    "#     #     'cv': cv,\n",
    "#     #     'p_value': p_value\n",
    "#     # }\n",
    "    \n",
    "    \n",
    "#     res = pd.DataFrame(\n",
    "#         {\n",
    "#         'SS': [ssa, sse],\n",
    "#         'df': [dfn, dfd],\n",
    "#         'mean_square': [msa, mse],\n",
    "#         'computed_F': [ts, None],\n",
    "#         'critical_value': [cv, None],\n",
    "#         'p_value': [p_value, None]\n",
    "#         },\n",
    "#         index=pd.Index(['Treatments', 'error'], name='variation')\n",
    "#     )\n",
    "    \n",
    "#     res.loc['Total',['SS','df']]= res.sum(numeric_only=True, axis=0)\n",
    "#     return res\n",
    "    \n",
    "# tillamook = [0.0571, 0.0813, 0.0831, 0.0976, 0.0817, 0.0859, 0.0735,\n",
    "#              0.0659, 0.0923, 0.0836]\n",
    "# newport = [0.0873, 0.0662, 0.0672, 0.0819, 0.0749, 0.0649, 0.0835,\n",
    "#            0.0725]\n",
    "# petersburg = [0.0974, 0.1352, 0.0817, 0.1016, 0.0968, 0.1064, 0.105]\n",
    "# magadan = [0.1033, 0.0915, 0.0781, 0.0685, 0.0677, 0.0697, 0.0764,\n",
    "#            0.0689]\n",
    "# tvarminne = [0.0703, 0.1026, 0.0956, 0.0973, 0.1039, 0.1045]\n",
    "# f_oneway(tillamook, newport, petersburg, magadan, tvarminne) # F_onewayResult(statistic=7.121019471642447, pvalue=0.0002812242314534544)\n",
    "\n",
    "A = [30, 26, 27, 29]\n",
    "B = [28, 29, 28, 31]\n",
    "C = [29, 32, 27, 31, 30]\n",
    "D = [45, 35, 45, 37, 40]\n",
    "# f_oneway(A,B,C,D, alpha=0.01)\n",
    "\n",
    "test = f_oneway()\n",
    "test.anova(A,B,C,D, alpha=0.01)\n",
    "test.ci_means()\n",
    "\n",
    "\n",
    "\n"
   ]
  },
  {
   "attachments": {},
   "cell_type": "markdown",
   "metadata": {},
   "source": [
    "## self-implementation of multiple linear regression\n",
    "- find parameter estimates\n",
    "- SE of estimates\n",
    "- CI for parameters\n",
    "- CI and PI for Y"
   ]
  },
  {
   "cell_type": "code",
   "execution_count": null,
   "metadata": {},
   "outputs": [
    {
     "data": {
      "text/plain": [
       "1.4464085156031823"
      ]
     },
     "metadata": {},
     "output_type": "display_data"
    },
    {
     "data": {
      "text/plain": [
       "array([0.01001084])"
      ]
     },
     "metadata": {},
     "output_type": "display_data"
    },
    {
     "data": {
      "text/plain": [
       "1.4464085156031823"
      ]
     },
     "metadata": {},
     "output_type": "display_data"
    },
    {
     "data": {
      "text/plain": [
       "array([0.00100108])"
      ]
     },
     "metadata": {},
     "output_type": "display_data"
    },
    {
     "data": {
      "text/plain": [
       "14.464085156031828"
      ]
     },
     "metadata": {},
     "output_type": "display_data"
    },
    {
     "data": {
      "text/plain": [
       "array([0.10010839])"
      ]
     },
     "metadata": {},
     "output_type": "display_data"
    }
   ],
   "source": [
    "path = '/Users/whlin/Library/CloudStorage/OneDrive-HKUSTConnect/Documents/python/SEHH3164_Python/lecture notes/data/regression_1.csv'\n",
    "df = pd.read_csv(path, index_col=0)\n",
    "X, y = df.iloc[:, [0]], df.iloc[:, 1]\n",
    "model = LinearRegression().fit(X,y)\n",
    "model.intercept_\n",
    "model.coef_\n",
    "\n",
    "\n",
    "model = LinearRegression().fit(X*10,y)\n",
    "model.intercept_\n",
    "model.coef_\n",
    "\n",
    "model = LinearRegression().fit(X,y*10)\n",
    "model.intercept_\n",
    "model.coef_\n"
   ]
  },
  {
   "cell_type": "code",
   "execution_count": null,
   "metadata": {},
   "outputs": [],
   "source": [
    "def prepare_data(data, add_const=True, y_name='y', to_numpy=False):\n",
    "    # assume the given data (both X and y) is in dataframe\n",
    "    # need to provide y_name\n",
    "    if add_const:\n",
    "        data.insert(0, 'const', 1)\n",
    "    X, y = data.drop(y_name, axis=1), data[y_name]\n",
    "    return (X.to_numpy(), y.to_numpy) if to_numpy else (X, y)\n",
    "    \n",
    "    # X = np.hstack([\n",
    "    #     np.ones((data.shape[0],1)),\n",
    "    #     data.drop('y', axis=1).to_numpy()\n",
    "    #     ])\n",
    "    # y = data[y_name].to_numpy()\n",
    "    # # y = data.y.to_numpy()\n",
    "    # return X, y\n",
    "\n",
    "class Regression():\n",
    "    def __init__(self):\n",
    "        pass\n",
    "    def find_coef(self):\n",
    "        return np.linalg.inv(self.X.T@self.X)@self.X.T@y\n",
    "    def find_error(self):\n",
    "        # SST, SSR, SSE\n",
    "        # MST, MSR, MSE\n",
    "        res = {}\n",
    "        n = self.n_samples\n",
    "        res['sse'] = self.y.T@self.y - (self.X.T@self.y).T@self.coef\n",
    "        # res['sst'] = self.y.T@(np.eye(n) - 1/n * np.ones((n,n)))@self.y\n",
    "        res['sst'] = self.y.T@y - n*(self.y.mean()**2)\n",
    "        res['ssr'] = res['sst'] - res['sse']\n",
    "        \n",
    "        res['mse'] = res['sse'] / self.df\n",
    "        res['mst'] = res['sst'] / (n - 1)\n",
    "        res['msr'] = res['ssr'] / (self.n_coef - 1)\n",
    "        \n",
    "        res['r_2'] = 1 - res['sse'] / res['sst']\n",
    "        res['r_2_adjust'] = 1 - res['mse'] / res['mst']\n",
    "        res['r'] = res['r_2']**0.5\n",
    "        \n",
    "        return res\n",
    "        pass \n",
    "    \n",
    "    def find_coef_se(self):\n",
    "        # return pd.Series((self.mse * np.linalg.inv(self.X.T@self.X).diagonal())**0.5, index=self.feat_names)\n",
    "        return (self.mse * np.linalg.inv(self.X.T@self.X).diagonal())**0.5\n",
    "    \n",
    "    def find_coef_ci(self, alpha=0.05, side='two', dp=None):\n",
    "        t = stats.t(df=self.df).ppf(1-alpha/2)\n",
    "        if dp:\n",
    "            t = round(t, dp)\n",
    "        me = t * self.coef_se\n",
    "        return pd.DataFrame({\n",
    "            'val': self.coef,\n",
    "            'se': self.coef_se,\n",
    "            'ci_l': self.coef - me,\n",
    "            'ci_u': self.coef + me,\n",
    "            't-statistic': (t_stats:=self.coef/self.coef_se),\n",
    "            'p_value': (p_value:=2* stats.t(df=self.df).sf(np.abs(t_stats))),\n",
    "            f'sig (at {alpha})': p_value <= alpha,\n",
    "        }).set_axis(self.feat_names, axis=0)\n",
    "\n",
    "    def predict(self, X):\n",
    "        return X@self.coef\n",
    "\n",
    "    def find_ci_pi_y(self, X_val, alpha=0.05, dp=None):\n",
    "        pt_est = self.predict(X_val)\n",
    "        X_inv = np.linalg.inv(self.X.T@self.X)\n",
    "        t = stats.t(df=self.df).ppf(1-alpha/2)\n",
    "        if dp:\n",
    "            t = round(t, dp)\n",
    "        var = self.mse * np.array([row.T @ X_inv @ row for row in X_val])\n",
    "        se_ci, se_pi = var**0.5, (self.mse + var)**0.5\n",
    "        me_ci, me_pi = t * se_ci, t * se_pi\n",
    "        res = {\n",
    "            'pred_E(Y)': pt_est,\n",
    "            'se_ci': se_ci,\n",
    "            'se_pi': se_pi,\n",
    "            'ci_l': pt_est - me_ci,\n",
    "            'ci_u': pt_est + me_ci,\n",
    "            'pi_l': pt_est - me_pi,\n",
    "            'pi_u': pt_est + me_pi,\n",
    "        }\n",
    "        return pd.DataFrame(res)\n",
    "        \n",
    "    def fit(self, X, y):\n",
    "        # self.feat_names = X.columns\n",
    "        if isinstance(X, pd.DataFrame):\n",
    "            self.feat_names = X.columns\n",
    "            self.X_df = X.copy()\n",
    "            X = X.to_numpy()\n",
    "        if isinstance(y, pd.Series):\n",
    "            self.y_name = y.name\n",
    "            y = y.to_numpy()\n",
    "        \n",
    "        self.X, self.y = X, y\n",
    "        self.n_samples, self.n_coef = X.shape\n",
    "        # print(self.n_samples, self.n_coef)\n",
    "        self.df = self.n_samples - self.n_coef\n",
    "        self.coef = self.find_coef()\n",
    "        # self.sse = self.find_error()\n",
    "        errors = self.find_error()\n",
    "        for key, value in errors.items():\n",
    "            # print(key, value)\n",
    "            exec(f\"self.{key} = {value}\")\n",
    "        # self.coef_se = (self.mse * np.linalg.inv(self.X.T@self.X).diagonal())**0.5\n",
    "        self.coef_se = self.find_coef_se()\n",
    "        self.coef_ci = self.find_coef_ci()\n",
    "        return self\n",
    "    \n",
    "    def anova(self, alpha=0.05, dp=None):\n",
    "        f_dist = stats.f(dfn=self.n_coef-1, dfd=self.df)\n",
    "        ts = self.msr/self.mse\n",
    "        cv = f_dist.isf(alpha)\n",
    "        p_value = f_dist.sf(ts)\n",
    "        # print(cv)\n",
    "        res = pd.DataFrame(\n",
    "            {\n",
    "            # 'variation': ['regression', 'error'],\n",
    "            'SS': [self.ssr, self.sse],\n",
    "            'df': [self.n_coef-1, self.df],\n",
    "            'mean_square': [self.msr, self.mse],\n",
    "            'computed_F': [ts, None],\n",
    "            'critical_value': [cv, None],\n",
    "            'p_value': [p_value, None]\n",
    "            },\n",
    "            index=pd.Index(['regression', 'error'], name='variation')\n",
    "        )\n",
    "        \n",
    "        res.loc['Total',['SS','df']]= res.sum(numeric_only=True, axis=0)\n",
    "        # print(res)\n",
    "        return res\n",
    "    \n",
    "    def show_stats_all_comb(self):\n",
    "        res = {}\n",
    "        for i in range(1, X.shape[1]):\n",
    "            for comb in combinations(range(1, X.shape[1]), i):\n",
    "                # print(\"hi\")\n",
    "                new_obj = Regression()\n",
    "                # self.X_df.iloc[:, list(comb)].shape\n",
    "                new_obj.fit(self.X_df.iloc[:, [0]+list(comb)],self.y)\n",
    "                new_obj.find_error()\n",
    "                res[comb] = new_obj.sse\n",
    "        print(res)\n",
    "    \n",
    "    \n",
    "    # def partial_anova(self, drop, alpha=0.05, ):\n",
    "    #     partial = Regression().fit(X.drop())\n",
    "        \n",
    "    \n",
    "path = '/Users/whlin/Library/CloudStorage/OneDrive-HKUSTConnect/Documents/python/SEHH3164_Python/lecture notes/data/regression_2.csv'\n",
    "data = pd.read_csv(path).set_axis(['x_1','x_2','y'], axis=1)\n",
    "\n",
    "X, y = prepare_data(data)\n",
    "reg = Regression().fit(X, y)\n",
    "reg.coef\n",
    "reg.df\n",
    "reg.sse\n",
    "\n",
    "# x_val = np.array([[1,35,250],[2,35,250]])\n",
    "\n",
    "# reg.find_coef_ci(alpha=0.01)\n",
    "# reg.find_ci_pi_y(x_val)\n",
    "\n",
    "# reg.anova()\n",
    "\n",
    "\n",
    "reg.show_stats_all_comb()\n",
    "\n",
    "# dir(reg)\n",
    "# reg.y\n",
    "# reg.coef_se\n",
    "# reg.coef_ci\n",
    "\n",
    "\n"
   ]
  },
  {
   "cell_type": "code",
   "execution_count": null,
   "metadata": {},
   "outputs": [
    {
     "data": {
      "text/html": [
       "<div>\n",
       "<style scoped>\n",
       "    .dataframe tbody tr th:only-of-type {\n",
       "        vertical-align: middle;\n",
       "    }\n",
       "\n",
       "    .dataframe tbody tr th {\n",
       "        vertical-align: top;\n",
       "    }\n",
       "\n",
       "    .dataframe thead th {\n",
       "        text-align: right;\n",
       "    }\n",
       "</style>\n",
       "<table border=\"1\" class=\"dataframe\">\n",
       "  <thead>\n",
       "    <tr style=\"text-align: right;\">\n",
       "      <th></th>\n",
       "      <th>const</th>\n",
       "      <th>x_1</th>\n",
       "    </tr>\n",
       "  </thead>\n",
       "  <tbody>\n",
       "    <tr>\n",
       "      <th>0</th>\n",
       "      <td>1</td>\n",
       "      <td>-0.416758</td>\n",
       "    </tr>\n",
       "    <tr>\n",
       "      <th>1</th>\n",
       "      <td>1</td>\n",
       "      <td>-1.793436</td>\n",
       "    </tr>\n",
       "  </tbody>\n",
       "</table>\n",
       "</div>"
      ],
      "text/plain": [
       "   const       x_1\n",
       "0      1 -0.416758\n",
       "1      1 -1.793436"
      ]
     },
     "metadata": {},
     "output_type": "display_data"
    },
    {
     "data": {
      "text/html": [
       "<div>\n",
       "<style scoped>\n",
       "    .dataframe tbody tr th:only-of-type {\n",
       "        vertical-align: middle;\n",
       "    }\n",
       "\n",
       "    .dataframe tbody tr th {\n",
       "        vertical-align: top;\n",
       "    }\n",
       "\n",
       "    .dataframe thead th {\n",
       "        text-align: right;\n",
       "    }\n",
       "</style>\n",
       "<table border=\"1\" class=\"dataframe\">\n",
       "  <thead>\n",
       "    <tr style=\"text-align: right;\">\n",
       "      <th></th>\n",
       "      <th>const</th>\n",
       "      <th>x_2</th>\n",
       "    </tr>\n",
       "  </thead>\n",
       "  <tbody>\n",
       "    <tr>\n",
       "      <th>0</th>\n",
       "      <td>1</td>\n",
       "      <td>-0.056267</td>\n",
       "    </tr>\n",
       "    <tr>\n",
       "      <th>1</th>\n",
       "      <td>1</td>\n",
       "      <td>-0.841747</td>\n",
       "    </tr>\n",
       "  </tbody>\n",
       "</table>\n",
       "</div>"
      ],
      "text/plain": [
       "   const       x_2\n",
       "0      1 -0.056267\n",
       "1      1 -0.841747"
      ]
     },
     "metadata": {},
     "output_type": "display_data"
    },
    {
     "data": {
      "text/html": [
       "<div>\n",
       "<style scoped>\n",
       "    .dataframe tbody tr th:only-of-type {\n",
       "        vertical-align: middle;\n",
       "    }\n",
       "\n",
       "    .dataframe tbody tr th {\n",
       "        vertical-align: top;\n",
       "    }\n",
       "\n",
       "    .dataframe thead th {\n",
       "        text-align: right;\n",
       "    }\n",
       "</style>\n",
       "<table border=\"1\" class=\"dataframe\">\n",
       "  <thead>\n",
       "    <tr style=\"text-align: right;\">\n",
       "      <th></th>\n",
       "      <th>const</th>\n",
       "      <th>x_3</th>\n",
       "    </tr>\n",
       "  </thead>\n",
       "  <tbody>\n",
       "    <tr>\n",
       "      <th>0</th>\n",
       "      <td>1</td>\n",
       "      <td>-2.136196</td>\n",
       "    </tr>\n",
       "    <tr>\n",
       "      <th>1</th>\n",
       "      <td>1</td>\n",
       "      <td>0.502881</td>\n",
       "    </tr>\n",
       "  </tbody>\n",
       "</table>\n",
       "</div>"
      ],
      "text/plain": [
       "   const       x_3\n",
       "0      1 -2.136196\n",
       "1      1  0.502881"
      ]
     },
     "metadata": {},
     "output_type": "display_data"
    },
    {
     "data": {
      "text/html": [
       "<div>\n",
       "<style scoped>\n",
       "    .dataframe tbody tr th:only-of-type {\n",
       "        vertical-align: middle;\n",
       "    }\n",
       "\n",
       "    .dataframe tbody tr th {\n",
       "        vertical-align: top;\n",
       "    }\n",
       "\n",
       "    .dataframe thead th {\n",
       "        text-align: right;\n",
       "    }\n",
       "</style>\n",
       "<table border=\"1\" class=\"dataframe\">\n",
       "  <thead>\n",
       "    <tr style=\"text-align: right;\">\n",
       "      <th></th>\n",
       "      <th>const</th>\n",
       "      <th>x_4</th>\n",
       "    </tr>\n",
       "  </thead>\n",
       "  <tbody>\n",
       "    <tr>\n",
       "      <th>0</th>\n",
       "      <td>1</td>\n",
       "      <td>1.640271</td>\n",
       "    </tr>\n",
       "    <tr>\n",
       "      <th>1</th>\n",
       "      <td>1</td>\n",
       "      <td>-1.245288</td>\n",
       "    </tr>\n",
       "  </tbody>\n",
       "</table>\n",
       "</div>"
      ],
      "text/plain": [
       "   const       x_4\n",
       "0      1  1.640271\n",
       "1      1 -1.245288"
      ]
     },
     "metadata": {},
     "output_type": "display_data"
    },
    {
     "data": {
      "text/html": [
       "<div>\n",
       "<style scoped>\n",
       "    .dataframe tbody tr th:only-of-type {\n",
       "        vertical-align: middle;\n",
       "    }\n",
       "\n",
       "    .dataframe tbody tr th {\n",
       "        vertical-align: top;\n",
       "    }\n",
       "\n",
       "    .dataframe thead th {\n",
       "        text-align: right;\n",
       "    }\n",
       "</style>\n",
       "<table border=\"1\" class=\"dataframe\">\n",
       "  <thead>\n",
       "    <tr style=\"text-align: right;\">\n",
       "      <th></th>\n",
       "      <th>const</th>\n",
       "      <th>x_1</th>\n",
       "      <th>x_2</th>\n",
       "    </tr>\n",
       "  </thead>\n",
       "  <tbody>\n",
       "    <tr>\n",
       "      <th>0</th>\n",
       "      <td>1</td>\n",
       "      <td>-0.416758</td>\n",
       "      <td>-0.056267</td>\n",
       "    </tr>\n",
       "    <tr>\n",
       "      <th>1</th>\n",
       "      <td>1</td>\n",
       "      <td>-1.793436</td>\n",
       "      <td>-0.841747</td>\n",
       "    </tr>\n",
       "  </tbody>\n",
       "</table>\n",
       "</div>"
      ],
      "text/plain": [
       "   const       x_1       x_2\n",
       "0      1 -0.416758 -0.056267\n",
       "1      1 -1.793436 -0.841747"
      ]
     },
     "metadata": {},
     "output_type": "display_data"
    },
    {
     "data": {
      "text/html": [
       "<div>\n",
       "<style scoped>\n",
       "    .dataframe tbody tr th:only-of-type {\n",
       "        vertical-align: middle;\n",
       "    }\n",
       "\n",
       "    .dataframe tbody tr th {\n",
       "        vertical-align: top;\n",
       "    }\n",
       "\n",
       "    .dataframe thead th {\n",
       "        text-align: right;\n",
       "    }\n",
       "</style>\n",
       "<table border=\"1\" class=\"dataframe\">\n",
       "  <thead>\n",
       "    <tr style=\"text-align: right;\">\n",
       "      <th></th>\n",
       "      <th>const</th>\n",
       "      <th>x_1</th>\n",
       "      <th>x_3</th>\n",
       "    </tr>\n",
       "  </thead>\n",
       "  <tbody>\n",
       "    <tr>\n",
       "      <th>0</th>\n",
       "      <td>1</td>\n",
       "      <td>-0.416758</td>\n",
       "      <td>-2.136196</td>\n",
       "    </tr>\n",
       "    <tr>\n",
       "      <th>1</th>\n",
       "      <td>1</td>\n",
       "      <td>-1.793436</td>\n",
       "      <td>0.502881</td>\n",
       "    </tr>\n",
       "  </tbody>\n",
       "</table>\n",
       "</div>"
      ],
      "text/plain": [
       "   const       x_1       x_3\n",
       "0      1 -0.416758 -2.136196\n",
       "1      1 -1.793436  0.502881"
      ]
     },
     "metadata": {},
     "output_type": "display_data"
    },
    {
     "data": {
      "text/html": [
       "<div>\n",
       "<style scoped>\n",
       "    .dataframe tbody tr th:only-of-type {\n",
       "        vertical-align: middle;\n",
       "    }\n",
       "\n",
       "    .dataframe tbody tr th {\n",
       "        vertical-align: top;\n",
       "    }\n",
       "\n",
       "    .dataframe thead th {\n",
       "        text-align: right;\n",
       "    }\n",
       "</style>\n",
       "<table border=\"1\" class=\"dataframe\">\n",
       "  <thead>\n",
       "    <tr style=\"text-align: right;\">\n",
       "      <th></th>\n",
       "      <th>const</th>\n",
       "      <th>x_1</th>\n",
       "      <th>x_4</th>\n",
       "    </tr>\n",
       "  </thead>\n",
       "  <tbody>\n",
       "    <tr>\n",
       "      <th>0</th>\n",
       "      <td>1</td>\n",
       "      <td>-0.416758</td>\n",
       "      <td>1.640271</td>\n",
       "    </tr>\n",
       "    <tr>\n",
       "      <th>1</th>\n",
       "      <td>1</td>\n",
       "      <td>-1.793436</td>\n",
       "      <td>-1.245288</td>\n",
       "    </tr>\n",
       "  </tbody>\n",
       "</table>\n",
       "</div>"
      ],
      "text/plain": [
       "   const       x_1       x_4\n",
       "0      1 -0.416758  1.640271\n",
       "1      1 -1.793436 -1.245288"
      ]
     },
     "metadata": {},
     "output_type": "display_data"
    },
    {
     "data": {
      "text/html": [
       "<div>\n",
       "<style scoped>\n",
       "    .dataframe tbody tr th:only-of-type {\n",
       "        vertical-align: middle;\n",
       "    }\n",
       "\n",
       "    .dataframe tbody tr th {\n",
       "        vertical-align: top;\n",
       "    }\n",
       "\n",
       "    .dataframe thead th {\n",
       "        text-align: right;\n",
       "    }\n",
       "</style>\n",
       "<table border=\"1\" class=\"dataframe\">\n",
       "  <thead>\n",
       "    <tr style=\"text-align: right;\">\n",
       "      <th></th>\n",
       "      <th>const</th>\n",
       "      <th>x_2</th>\n",
       "      <th>x_3</th>\n",
       "    </tr>\n",
       "  </thead>\n",
       "  <tbody>\n",
       "    <tr>\n",
       "      <th>0</th>\n",
       "      <td>1</td>\n",
       "      <td>-0.056267</td>\n",
       "      <td>-2.136196</td>\n",
       "    </tr>\n",
       "    <tr>\n",
       "      <th>1</th>\n",
       "      <td>1</td>\n",
       "      <td>-0.841747</td>\n",
       "      <td>0.502881</td>\n",
       "    </tr>\n",
       "  </tbody>\n",
       "</table>\n",
       "</div>"
      ],
      "text/plain": [
       "   const       x_2       x_3\n",
       "0      1 -0.056267 -2.136196\n",
       "1      1 -0.841747  0.502881"
      ]
     },
     "metadata": {},
     "output_type": "display_data"
    },
    {
     "data": {
      "text/html": [
       "<div>\n",
       "<style scoped>\n",
       "    .dataframe tbody tr th:only-of-type {\n",
       "        vertical-align: middle;\n",
       "    }\n",
       "\n",
       "    .dataframe tbody tr th {\n",
       "        vertical-align: top;\n",
       "    }\n",
       "\n",
       "    .dataframe thead th {\n",
       "        text-align: right;\n",
       "    }\n",
       "</style>\n",
       "<table border=\"1\" class=\"dataframe\">\n",
       "  <thead>\n",
       "    <tr style=\"text-align: right;\">\n",
       "      <th></th>\n",
       "      <th>const</th>\n",
       "      <th>x_2</th>\n",
       "      <th>x_4</th>\n",
       "    </tr>\n",
       "  </thead>\n",
       "  <tbody>\n",
       "    <tr>\n",
       "      <th>0</th>\n",
       "      <td>1</td>\n",
       "      <td>-0.056267</td>\n",
       "      <td>1.640271</td>\n",
       "    </tr>\n",
       "    <tr>\n",
       "      <th>1</th>\n",
       "      <td>1</td>\n",
       "      <td>-0.841747</td>\n",
       "      <td>-1.245288</td>\n",
       "    </tr>\n",
       "  </tbody>\n",
       "</table>\n",
       "</div>"
      ],
      "text/plain": [
       "   const       x_2       x_4\n",
       "0      1 -0.056267  1.640271\n",
       "1      1 -0.841747 -1.245288"
      ]
     },
     "metadata": {},
     "output_type": "display_data"
    },
    {
     "data": {
      "text/html": [
       "<div>\n",
       "<style scoped>\n",
       "    .dataframe tbody tr th:only-of-type {\n",
       "        vertical-align: middle;\n",
       "    }\n",
       "\n",
       "    .dataframe tbody tr th {\n",
       "        vertical-align: top;\n",
       "    }\n",
       "\n",
       "    .dataframe thead th {\n",
       "        text-align: right;\n",
       "    }\n",
       "</style>\n",
       "<table border=\"1\" class=\"dataframe\">\n",
       "  <thead>\n",
       "    <tr style=\"text-align: right;\">\n",
       "      <th></th>\n",
       "      <th>const</th>\n",
       "      <th>x_3</th>\n",
       "      <th>x_4</th>\n",
       "    </tr>\n",
       "  </thead>\n",
       "  <tbody>\n",
       "    <tr>\n",
       "      <th>0</th>\n",
       "      <td>1</td>\n",
       "      <td>-2.136196</td>\n",
       "      <td>1.640271</td>\n",
       "    </tr>\n",
       "    <tr>\n",
       "      <th>1</th>\n",
       "      <td>1</td>\n",
       "      <td>0.502881</td>\n",
       "      <td>-1.245288</td>\n",
       "    </tr>\n",
       "  </tbody>\n",
       "</table>\n",
       "</div>"
      ],
      "text/plain": [
       "   const       x_3       x_4\n",
       "0      1 -2.136196  1.640271\n",
       "1      1  0.502881 -1.245288"
      ]
     },
     "metadata": {},
     "output_type": "display_data"
    },
    {
     "data": {
      "text/html": [
       "<div>\n",
       "<style scoped>\n",
       "    .dataframe tbody tr th:only-of-type {\n",
       "        vertical-align: middle;\n",
       "    }\n",
       "\n",
       "    .dataframe tbody tr th {\n",
       "        vertical-align: top;\n",
       "    }\n",
       "\n",
       "    .dataframe thead th {\n",
       "        text-align: right;\n",
       "    }\n",
       "</style>\n",
       "<table border=\"1\" class=\"dataframe\">\n",
       "  <thead>\n",
       "    <tr style=\"text-align: right;\">\n",
       "      <th></th>\n",
       "      <th>const</th>\n",
       "      <th>x_1</th>\n",
       "      <th>x_2</th>\n",
       "      <th>x_3</th>\n",
       "    </tr>\n",
       "  </thead>\n",
       "  <tbody>\n",
       "    <tr>\n",
       "      <th>0</th>\n",
       "      <td>1</td>\n",
       "      <td>-0.416758</td>\n",
       "      <td>-0.056267</td>\n",
       "      <td>-2.136196</td>\n",
       "    </tr>\n",
       "    <tr>\n",
       "      <th>1</th>\n",
       "      <td>1</td>\n",
       "      <td>-1.793436</td>\n",
       "      <td>-0.841747</td>\n",
       "      <td>0.502881</td>\n",
       "    </tr>\n",
       "  </tbody>\n",
       "</table>\n",
       "</div>"
      ],
      "text/plain": [
       "   const       x_1       x_2       x_3\n",
       "0      1 -0.416758 -0.056267 -2.136196\n",
       "1      1 -1.793436 -0.841747  0.502881"
      ]
     },
     "metadata": {},
     "output_type": "display_data"
    },
    {
     "data": {
      "text/html": [
       "<div>\n",
       "<style scoped>\n",
       "    .dataframe tbody tr th:only-of-type {\n",
       "        vertical-align: middle;\n",
       "    }\n",
       "\n",
       "    .dataframe tbody tr th {\n",
       "        vertical-align: top;\n",
       "    }\n",
       "\n",
       "    .dataframe thead th {\n",
       "        text-align: right;\n",
       "    }\n",
       "</style>\n",
       "<table border=\"1\" class=\"dataframe\">\n",
       "  <thead>\n",
       "    <tr style=\"text-align: right;\">\n",
       "      <th></th>\n",
       "      <th>const</th>\n",
       "      <th>x_1</th>\n",
       "      <th>x_2</th>\n",
       "      <th>x_4</th>\n",
       "    </tr>\n",
       "  </thead>\n",
       "  <tbody>\n",
       "    <tr>\n",
       "      <th>0</th>\n",
       "      <td>1</td>\n",
       "      <td>-0.416758</td>\n",
       "      <td>-0.056267</td>\n",
       "      <td>1.640271</td>\n",
       "    </tr>\n",
       "    <tr>\n",
       "      <th>1</th>\n",
       "      <td>1</td>\n",
       "      <td>-1.793436</td>\n",
       "      <td>-0.841747</td>\n",
       "      <td>-1.245288</td>\n",
       "    </tr>\n",
       "  </tbody>\n",
       "</table>\n",
       "</div>"
      ],
      "text/plain": [
       "   const       x_1       x_2       x_4\n",
       "0      1 -0.416758 -0.056267  1.640271\n",
       "1      1 -1.793436 -0.841747 -1.245288"
      ]
     },
     "metadata": {},
     "output_type": "display_data"
    },
    {
     "data": {
      "text/html": [
       "<div>\n",
       "<style scoped>\n",
       "    .dataframe tbody tr th:only-of-type {\n",
       "        vertical-align: middle;\n",
       "    }\n",
       "\n",
       "    .dataframe tbody tr th {\n",
       "        vertical-align: top;\n",
       "    }\n",
       "\n",
       "    .dataframe thead th {\n",
       "        text-align: right;\n",
       "    }\n",
       "</style>\n",
       "<table border=\"1\" class=\"dataframe\">\n",
       "  <thead>\n",
       "    <tr style=\"text-align: right;\">\n",
       "      <th></th>\n",
       "      <th>const</th>\n",
       "      <th>x_1</th>\n",
       "      <th>x_3</th>\n",
       "      <th>x_4</th>\n",
       "    </tr>\n",
       "  </thead>\n",
       "  <tbody>\n",
       "    <tr>\n",
       "      <th>0</th>\n",
       "      <td>1</td>\n",
       "      <td>-0.416758</td>\n",
       "      <td>-2.136196</td>\n",
       "      <td>1.640271</td>\n",
       "    </tr>\n",
       "    <tr>\n",
       "      <th>1</th>\n",
       "      <td>1</td>\n",
       "      <td>-1.793436</td>\n",
       "      <td>0.502881</td>\n",
       "      <td>-1.245288</td>\n",
       "    </tr>\n",
       "  </tbody>\n",
       "</table>\n",
       "</div>"
      ],
      "text/plain": [
       "   const       x_1       x_3       x_4\n",
       "0      1 -0.416758 -2.136196  1.640271\n",
       "1      1 -1.793436  0.502881 -1.245288"
      ]
     },
     "metadata": {},
     "output_type": "display_data"
    },
    {
     "data": {
      "text/html": [
       "<div>\n",
       "<style scoped>\n",
       "    .dataframe tbody tr th:only-of-type {\n",
       "        vertical-align: middle;\n",
       "    }\n",
       "\n",
       "    .dataframe tbody tr th {\n",
       "        vertical-align: top;\n",
       "    }\n",
       "\n",
       "    .dataframe thead th {\n",
       "        text-align: right;\n",
       "    }\n",
       "</style>\n",
       "<table border=\"1\" class=\"dataframe\">\n",
       "  <thead>\n",
       "    <tr style=\"text-align: right;\">\n",
       "      <th></th>\n",
       "      <th>const</th>\n",
       "      <th>x_2</th>\n",
       "      <th>x_3</th>\n",
       "      <th>x_4</th>\n",
       "    </tr>\n",
       "  </thead>\n",
       "  <tbody>\n",
       "    <tr>\n",
       "      <th>0</th>\n",
       "      <td>1</td>\n",
       "      <td>-0.056267</td>\n",
       "      <td>-2.136196</td>\n",
       "      <td>1.640271</td>\n",
       "    </tr>\n",
       "    <tr>\n",
       "      <th>1</th>\n",
       "      <td>1</td>\n",
       "      <td>-0.841747</td>\n",
       "      <td>0.502881</td>\n",
       "      <td>-1.245288</td>\n",
       "    </tr>\n",
       "  </tbody>\n",
       "</table>\n",
       "</div>"
      ],
      "text/plain": [
       "   const       x_2       x_3       x_4\n",
       "0      1 -0.056267 -2.136196  1.640271\n",
       "1      1 -0.841747  0.502881 -1.245288"
      ]
     },
     "metadata": {},
     "output_type": "display_data"
    },
    {
     "data": {
      "text/html": [
       "<div>\n",
       "<style scoped>\n",
       "    .dataframe tbody tr th:only-of-type {\n",
       "        vertical-align: middle;\n",
       "    }\n",
       "\n",
       "    .dataframe tbody tr th {\n",
       "        vertical-align: top;\n",
       "    }\n",
       "\n",
       "    .dataframe thead th {\n",
       "        text-align: right;\n",
       "    }\n",
       "</style>\n",
       "<table border=\"1\" class=\"dataframe\">\n",
       "  <thead>\n",
       "    <tr style=\"text-align: right;\">\n",
       "      <th></th>\n",
       "      <th>const</th>\n",
       "      <th>x_1</th>\n",
       "      <th>x_2</th>\n",
       "      <th>x_3</th>\n",
       "      <th>x_4</th>\n",
       "    </tr>\n",
       "  </thead>\n",
       "  <tbody>\n",
       "    <tr>\n",
       "      <th>0</th>\n",
       "      <td>1</td>\n",
       "      <td>-0.416758</td>\n",
       "      <td>-0.056267</td>\n",
       "      <td>-2.136196</td>\n",
       "      <td>1.640271</td>\n",
       "    </tr>\n",
       "    <tr>\n",
       "      <th>1</th>\n",
       "      <td>1</td>\n",
       "      <td>-1.793436</td>\n",
       "      <td>-0.841747</td>\n",
       "      <td>0.502881</td>\n",
       "      <td>-1.245288</td>\n",
       "    </tr>\n",
       "  </tbody>\n",
       "</table>\n",
       "</div>"
      ],
      "text/plain": [
       "   const       x_1       x_2       x_3       x_4\n",
       "0      1 -0.416758 -0.056267 -2.136196  1.640271\n",
       "1      1 -1.793436 -0.841747  0.502881 -1.245288"
      ]
     },
     "metadata": {},
     "output_type": "display_data"
    }
   ],
   "source": [
    "np.random.seed(2)\n",
    "n_samples = 2\n",
    "n_coef = 4\n",
    "X = pd.DataFrame(np.random.normal(size=(n_samples,n_coef)), columns=[f\"x_{i+1}\" for i in range(n_coef)])\n",
    "y = X.sum(axis=1) + np.random.normal(loc=2, scale=4, size=n_samples)\n",
    "X.insert(0, 'const', 1)\n",
    "\n",
    "for i in range(1, X.shape[1]):\n",
    "    for comb in combinations(range(1, X.shape[1]), i):\n",
    "        X.iloc[:, [0] + list(comb)]"
   ]
  },
  {
   "cell_type": "code",
   "execution_count": null,
   "metadata": {},
   "outputs": [
    {
     "data": {
      "text/plain": [
       "256.2843019978609"
      ]
     },
     "metadata": {},
     "output_type": "display_data"
    },
    {
     "data": {
      "text/plain": [
       "2020.499999999997"
      ]
     },
     "metadata": {},
     "output_type": "display_data"
    },
    {
     "data": {
      "text/plain": [
       "1764.2156980021362"
      ]
     },
     "metadata": {},
     "output_type": "display_data"
    }
   ],
   "source": [
    "def prepare_data(data, y_name='y'):\n",
    "    # assume the given data (both X and y) is in dataframe\n",
    "    # need to provide y_name\n",
    "    X = np.hstack([\n",
    "        np.ones((data.shape[0],1)),\n",
    "        data.drop('y', axis=1).to_numpy()\n",
    "        ])\n",
    "    y = data[y_name].to_numpy()\n",
    "    # y = data.y.to_numpy()\n",
    "    return X, y\n",
    "\n",
    "def find_estimates(X, y):\n",
    "    return np.linalg.inv(X.T@X)@X.T@y\n",
    "\n",
    "def find_SSE(X, y, beta, mse=False):\n",
    "    sse = y.T@y - (X.T@y).T@beta\n",
    "    return sse/(X.shape[0] - X.shape[1]) if mse else sse\n",
    "\n",
    "def find_SST(y):\n",
    "    n = len(y)\n",
    "    return y.T@(np.eye(n) - 1/n * np.ones((n,n)))@y\n",
    "\n",
    "def find_SSR(X, y, beta, mse=False):\n",
    "    return find_SST(y) - find_SSE(X, y, beta, mse=False)\n",
    "\n",
    "def ci_coeff(X, beta, mse, alpha=0.05):\n",
    "    df = X.shape[0] - X.shape[1]\n",
    "    t = stats.t(df=df).ppf(1-alpha/2)\n",
    "    se = (mse * np.linalg.inv(X.T@X).diagonal())**0.5\n",
    "    me = t*se\n",
    "    \n",
    "    return (\n",
    "        pd.DataFrame([\n",
    "            beta - me, \n",
    "            beta + me, \n",
    "            beta/se\n",
    "            ])\n",
    "        .T\n",
    "        .set_axis(['ci_l', 'ci_u', 't-statistic'], axis=1)\n",
    "        .set_axis([f'b_{i}' for i in range(X.shape[1])])\n",
    "    )\n",
    "\n",
    "def predict(X, beta):\n",
    "    return X@beta\n",
    "\n",
    "def ci_mean(x_val, X, beta, mse, alpha=0.05):\n",
    "    # TODO: generalize x_val to matrix\n",
    "    df = X.shape[0] - X.shape[1]\n",
    "    pt_est = predict(x_val,beta)\n",
    "    print(pt_est)\n",
    "    se_ci = (mse * x_val.T@np.linalg.inv(X.T@X)@x_val)**0.5\n",
    "    se_pi = (mse * (1+x_val.T@np.linalg.inv(X.T@X)@x_val))**0.5\n",
    "    t = stats.t(df=df).ppf(1-alpha/2)\n",
    "    me_ci = t*se_ci\n",
    "    me_pi = t*se_pi\n",
    "    return pd.DataFrame(\n",
    "        [[pt_est - me_ci, pt_est + me_ci, pt_est - me_pi, pt_est + me_pi]], \n",
    "        columns=['ci_l','ci_u','pi_l','pi_u']\n",
    "        )\n",
    "    \n",
    "\n",
    "# path = '/Users/whlin/Library/CloudStorage/OneDrive-HKUSTConnect/Documents/python/SEHH3164_Python/lecture notes/data/regression_1.csv'\n",
    "# data = pd.read_csv(path).drop('Store',axis=1).set_axis(['x_1','y'], axis=1)\n",
    "# data\n",
    "\n",
    "path = '/Users/whlin/Library/CloudStorage/OneDrive-HKUSTConnect/Documents/python/SEHH3164_Python/lecture notes/data/regression_2.csv'\n",
    "data = pd.read_csv(path).set_axis(['x_1','x_2','y'], axis=1)\n",
    "\n",
    "X, y = prepare_data(data)\n",
    "\n",
    "beta = find_estimates(X,y)\n",
    "find_SSE(X, y, beta, mse=False)\n",
    "find_SST(y)\n",
    "find_SSR(X, y, beta, mse=False)\n",
    "\n",
    "# beta\n",
    "# print(X.shape[0] - X.shape[1])\n",
    "# mse = find_SSE(X,y,beta, mse=True)\n",
    "# y@y\n",
    "# y.T@y\n",
    "# ci_coeff(X, beta, mse, alpha=0.1)\n",
    "\n",
    "# predict(X, beta)\n",
    "\n",
    "# x_val = np.array([1,35,250])\n",
    "# ci_mean(x_val, X, beta, mse, alpha=0.02)\n",
    "# ci_mean(X, X, beta, mse)"
   ]
  },
  {
   "attachments": {},
   "cell_type": "markdown",
   "metadata": {},
   "source": [
    "# machine learning"
   ]
  },
  {
   "attachments": {},
   "cell_type": "markdown",
   "metadata": {},
   "source": [
    "## leave-one-out method to do prediction (intact interview)\n",
    "- Given a list L of values generated independently by some unknown process, we will use the mean of L to predict unseen values generated by the same process.\n",
    "- Use leave-one-out cross-validation to estimate the mean absolute error of this process.\n",
    "- Input: An array of floats arr\n",
    "- Output: A float score\n",
    "Example:\n",
    "- arr = [1 2 3]\n",
    "- score = 1.0\n",
    "- mean = 3\n",
    "- for 1:\n",
    "\t- |2.5 - 1| = 1.5\n",
    "- for 2:\n",
    "\t- |2 - 2| = 0\n",
    "- for 3:\n",
    "\t- |1.5 - 3| = 1.5\n",
    "- so, score = (1.5+0+1.5)/3 = 1"
   ]
  },
  {
   "cell_type": "code",
   "execution_count": null,
   "metadata": {},
   "outputs": [
    {
     "data": {
      "text/plain": [
       "1.0"
      ]
     },
     "metadata": {},
     "output_type": "display_data"
    }
   ],
   "source": [
    "def k_fold(a, metric='mae'):\n",
    "    n = len(a)\n",
    "    tot = sum(a)\n",
    "    \n",
    "    # M1\n",
    "    # error = 0 \n",
    "    # for x in a:\n",
    "    #     error += abs((tot-x)/(n-1) - x)\n",
    "    # return error/n\n",
    "    \n",
    "    # M2:\n",
    "    errors = [abs((tot-x)/(n-1) - x) for x in a]\n",
    "    return sum(errors)/len(errors)\n",
    "\n",
    "    # sum_ = sum(a)\n",
    "    # n = len(a)\n",
    "    \n",
    "    # pred = np.array([(sum_ - x) / (n-1) for x in a])\n",
    "    \n",
    "    # # pred = [0]*n\n",
    "    # # for i, x in enumerate(a):\n",
    "    # #     pred[i] = (sum_ - x) / (n-1)\n",
    "    \n",
    "    # return np.abs(np.array(pred) - np.array(a)).mean()\n",
    "\n",
    "a = [1,2,3]\n",
    "k_fold(a)"
   ]
  },
  {
   "attachments": {},
   "cell_type": "markdown",
   "metadata": {},
   "source": [
    "## create bag-of-word matrix\n",
    "Write a function to obtain bag-of-word feature matrix to train a text classification model. The input is a list of strings texts, where each string represents one training item (one text). The function should return a matrix where each row represents one training item, and each column represents one word. Words are ordered alphabetically, i.e., the first column corresponds to the first word in alphabetic order.\n",
    "\n",
    "Specifications:\n",
    "- Tokenize on whitespace (assume that only alphabetical characters are included)\n",
    "- Convert all tokens to lowercase\n",
    "- Use simple word counts\n",
    "Example:\n",
    "- Input: texts = [\"This is an example\", \"that\", \"an example\", \"This is that that\"]\n",
    "- Output: bow_matrix =[[1, 1, 1,0, 1],[0,0, 0, 1,0], [1, 1,0,0,0],[0,0, 1, 2, 1 ]]\n",
    "\n",
    "- idea: first find all the unique words first\n",
    "- then, sort the list, and then create a dict whose item is (word, index)"
   ]
  },
  {
   "cell_type": "code",
   "execution_count": null,
   "metadata": {},
   "outputs": [
    {
     "data": {
      "text/plain": [
       "[[1, 1, 1, 0, 1], [0, 0, 0, 1, 0], [1, 1, 0, 0, 0], [0, 0, 1, 2, 1]]"
      ]
     },
     "metadata": {},
     "output_type": "display_data"
    }
   ],
   "source": [
    "def bow(texts):\n",
    "    # M1:\n",
    "    # words = {word for text in texts for word in text.lower().split(' ')}\n",
    "    # words_to_order = dict(zip(sorted(words), range(len(words))))\n",
    "    # res = [[0]*len(words)for i in range(len(texts))]\n",
    "    \n",
    "    # for i, text in enumerate(texts):\n",
    "    #     for word in text.lower().split(' '):\n",
    "    #         res[i][words_to_order[word]] += 1\n",
    "    # return res \n",
    "\n",
    "    # M2:\n",
    "    texts_formatted = [text.lower().split(' ') for text in texts]\n",
    "    words = sorted({s for text in texts_formatted for s in text})\n",
    "    n_words = len(words)\n",
    "    words = dict(zip(words, range(n_words)))\n",
    "    \n",
    "    # ---------------------- create the required array first --------------------- #\n",
    "    # res = [ [0]*n_words for i in range(len(texts)) ] \n",
    "    # for i, text in enumerate(texts_formatted):\n",
    "    #     for word in text:\n",
    "    #         res[i][words[word]] += 1\n",
    "    # ---------------------------------------------------------------------------- #\n",
    "    \n",
    "    # ----------------------- create each row sequentially ----------------------- #\n",
    "    res = []\n",
    "    for text in texts_formatted:\n",
    "        arr = [0] * n_words\n",
    "        for word in text:\n",
    "            arr[words[word]] += 1\n",
    "        res.append(arr)\n",
    "    # ---------------------------------------------------------------------------- #\n",
    "    \n",
    "    return res\n",
    "texts = [\"This is an Example\", \"that\", \"an example\", \"This is that that\"]\n",
    "bow(texts)"
   ]
  },
  {
   "attachments": {},
   "cell_type": "markdown",
   "metadata": {},
   "source": [
    "## svd (singular value decomposition)"
   ]
  },
  {
   "cell_type": "code",
   "execution_count": null,
   "metadata": {},
   "outputs": [
    {
     "data": {
      "text/plain": [
       "(array([[-0.70710678, -0.70710678,  0.        ],\n",
       "        [-0.70710678,  0.70710678,  0.        ],\n",
       "        [ 0.        ,  0.        ,  1.        ]]),\n",
       " array([2.00000000e+00, 3.35470445e-17]),\n",
       " array([[-0.70710678, -0.70710678],\n",
       "        [ 0.70710678, -0.70710678]]))"
      ]
     },
     "metadata": {},
     "output_type": "display_data"
    },
    {
     "data": {
      "text/plain": [
       "(3, 3)"
      ]
     },
     "metadata": {},
     "output_type": "display_data"
    },
    {
     "data": {
      "text/plain": [
       "(3, 2)"
      ]
     },
     "metadata": {},
     "output_type": "display_data"
    },
    {
     "data": {
      "text/plain": [
       "(2, 2)"
      ]
     },
     "metadata": {},
     "output_type": "display_data"
    },
    {
     "data": {
      "text/plain": [
       "array([[1., 1.],\n",
       "       [1., 1.],\n",
       "       [0., 0.]])"
      ]
     },
     "metadata": {},
     "output_type": "display_data"
    }
   ],
   "source": [
    "# X = np.array([[1,1,1],[2,2,2],[3,3,3]])\n",
    "# X = np.array([[1,0],[1,1]])\n",
    "X = np.array([[1,1],[1,1],[0,0]])\n",
    "U, sigma, V = np.linalg.svd(X)\n",
    "U, sigma, V\n",
    "\n",
    "sig = np.zeros_like(X)\n",
    "sig[:X.shape[1], :X.shape[1]] = np.diag(sigma)\n",
    "\n",
    "U.shape\n",
    "sig.shape\n",
    "V.shape\n",
    "\n",
    "\n",
    "U @ sig @ V\n",
    "\n",
    "\n",
    "# U, sigma, V\n",
    "# U@sigma"
   ]
  },
  {
   "attachments": {},
   "cell_type": "markdown",
   "metadata": {},
   "source": [
    "## distance matrix"
   ]
  },
  {
   "cell_type": "code",
   "execution_count": 188,
   "metadata": {},
   "outputs": [
    {
     "name": "stdout",
     "output_type": "stream",
     "text": [
      "[[0 1]\n",
      " [2 3]\n",
      " [4 5]\n",
      " [6 7]\n",
      " [8 9]]\n",
      "[[ 0.          2.82842712  5.65685425  8.48528137 11.3137085 ]\n",
      " [ 0.          0.          2.82842712  5.65685425  8.48528137]\n",
      " [ 0.          0.          0.          2.82842712  5.65685425]\n",
      " [ 0.          0.          0.          0.          2.82842712]\n",
      " [ 0.          0.          0.          0.          0.        ]]\n",
      "None\n"
     ]
    }
   ],
   "source": [
    "np.random.seed(1)\n",
    "def distance_matrix(X):\n",
    "    m,n=X.shape\n",
    "    dist = np.zeros((m,m))\n",
    "    for i in range(m):\n",
    "        for j in range(i, m):\n",
    "        # for j in range(m):\n",
    "            dist[i,j] = np.linalg.norm(X[i] - X[j])\n",
    "    print(dist)\n",
    "\n",
    "\n",
    "m,n = 5,2\n",
    "X = np.arange(5*2).reshape(5, 2)\n",
    "print(X)\n",
    "# [[0 1]\n",
    "#  [2 3]\n",
    "#  [4 5]\n",
    "#  [6 7]\n",
    "#  [8 9]]\n",
    "print(distance_matrix(X))\n",
    "# [[ 0.          2.82842712  5.65685425  8.48528137 11.3137085 ]\n",
    "#  [ 2.82842712  0.          2.82842712  5.65685425  8.48528137]\n",
    "#  [ 5.65685425  2.82842712  0.          2.82842712  5.65685425]\n",
    "#  [ 8.48528137  5.65685425  2.82842712  0.          2.82842712]\n",
    "#  [11.3137085   8.48528137  5.65685425  2.82842712  0.        ]]"
   ]
  },
  {
   "attachments": {},
   "cell_type": "markdown",
   "metadata": {},
   "source": [
    "## K-means"
   ]
  },
  {
   "cell_type": "code",
   "execution_count": 97,
   "metadata": {},
   "outputs": [
    {
     "name": "stdout",
     "output_type": "stream",
     "text": [
      "converged at iteration 69\n"
     ]
    }
   ],
   "source": [
    "np.random.seed(1)\n",
    "def k_means(data, n_clusters=8, max_iter=100, tol=0.0001):\n",
    "    m,n = data.shape\n",
    "    rand_nums = np.random.randint(0, m, n_clusters)\n",
    "    # print(rand_nums)\n",
    "    centroids = data[rand_nums]\n",
    "    # print(centroids)\n",
    "    assignments = np.full(m, -1)\n",
    "    dist = np.zeros((m,n_clusters))\n",
    "    \n",
    "    # print(data)\n",
    "    \n",
    "    # print((202-61)**2 + (300+765)**2 + (278-932)**2)\n",
    "    # dist[:, 0] = ((data-centroids[0])**2).sum(axis=1)\n",
    "    \n",
    "    # cluster assignment step \n",
    "    for j in range(max_iter):\n",
    "        for i in range(n_clusters):\n",
    "            dist[:, i] = ((data - centroids[i])**2).sum(axis=1)\n",
    "        new_assignments = dist.argmin(axis=1)\n",
    "        # print(f\"{new_assignments = }\")\n",
    "        # print(f\"{assignments = }\")\n",
    "        if (assignments == new_assignments).all():\n",
    "            print(f\"converged at iteration {j}\")\n",
    "            # print(assignments)\n",
    "            break\n",
    "        assignments = new_assignments\n",
    "        \n",
    "        # print(f\"{centroids = }\")\n",
    "        # cluster recalculation step \n",
    "        for i in range(n_clusters):\n",
    "            centroids[i] = data[assignments==i].mean(axis=0)\n",
    "    \n",
    "        # print(f\"{centroids = }\")\n",
    "    \n",
    "    \n",
    "    # print(dist)\n",
    "    # print(dist.shape)\n",
    "    \n",
    "    pass\n",
    "\n",
    "m = 10000\n",
    "n = 30\n",
    "n_clusters=2\n",
    "data=np.random.randint(-1000,1000, size=(m,n))\n",
    "# data\n",
    "k_means(data, n_clusters=n_clusters)\n",
    "\n",
    "# ptr = np.array([1,2,3,4])\n",
    "\n",
    "# ((data-ptr)**2).sum(axis=1)\n",
    "\n",
    "# data[np.random.randint(0, n, n_clusters)]"
   ]
  },
  {
   "cell_type": "code",
   "execution_count": 87,
   "metadata": {},
   "outputs": [
    {
     "data": {
      "text/plain": [
       "array([-54.4 , 136.9 ,  87.95])"
      ]
     },
     "execution_count": 87,
     "metadata": {},
     "output_type": "execute_result"
    }
   ],
   "source": [
    "m = 20\n",
    "n = 3\n",
    "data=np.random.randint(-1000,1000, size=(m,n))\n",
    "data.mean(axis=0)\n",
    "# data.mean(axis=0)"
   ]
  },
  {
   "attachments": {},
   "cell_type": "markdown",
   "metadata": {},
   "source": [
    "## PCA"
   ]
  },
  {
   "cell_type": "code",
   "execution_count": null,
   "metadata": {},
   "outputs": [
    {
     "data": {
      "text/plain": [
       "array([[ 3,  3],\n",
       "       [ 0,  2],\n",
       "       [-1, -1],\n",
       "       [ 2,  0]])"
      ]
     },
     "metadata": {},
     "output_type": "display_data"
    },
    {
     "data": {
      "text/plain": [
       "(array([[ 4.24264069, -0.        ],\n",
       "        [ 1.41421356,  1.41421356],\n",
       "        [-1.41421356,  0.        ],\n",
       "        [ 1.41421356, -1.41421356]]),\n",
       " array([[ 3.,  3.],\n",
       "        [ 0.,  2.],\n",
       "        [-1., -1.],\n",
       "        [ 2.,  0.]]))"
      ]
     },
     "metadata": {},
     "output_type": "display_data"
    }
   ],
   "source": [
    "def pca(X, n_components=1, rowvar=True):\n",
    "    # - find covariance matrix\n",
    "    # - find the eignvalues and eigenvectors of the covariance matrix \n",
    "    # - do X @ eig_vec to find the scalar projection of each vector onto the space spanned by the eigenvectors\n",
    "    # - if want to decide the dimension of the reduced vector by the \"variance explained way\", we need to find the eigenvalaues too \n",
    "\n",
    "    cov = np.cov(X, rowvar=False, ddof=0) # this will do the mean centering \n",
    "    eig_val, eig_vec = np.linalg.eig(cov) \n",
    "\n",
    "    # ------------------------- covariance matrix by hand ------------------------ #\n",
    "    # Y = X - X.mean(axis=0, keepdims=1)\n",
    "    # cov = Y.T@Y/4\n",
    "    # ---------------------------------------------------------------------------- #\n",
    "    \n",
    "    eig_vec = eig_vec[:, :n_components]\n",
    "    \n",
    "    X_reduce = X @ eig_vec\n",
    "    X_approx = X_reduce @ eig_vec.T\n",
    "    \n",
    "    # print(X_reduce)\n",
    "    # print(X_approx)\n",
    "    \n",
    "    # print(np.trace(eig_val))\n",
    "    # print(np.sum(eig_val))\n",
    "    # print(np.trace(cov))\n",
    "    \n",
    "    \n",
    "    # print(eig_val)\n",
    "    # eig_vec @ X_reduce.T\n",
    "    # X_reduce @ eig_vec.T\n",
    "    # X_demean = X - np.mean(axis=0)\n",
    "    # print(pd.Series(eig_val).expanding().mean())\n",
    "    \n",
    "    # print(pd.Series(eig_val).expanding().sum())\n",
    "    \n",
    "    # pd.Series(eig_val)\n",
    "    # print(pd.Series((eig_val/eig_val.sum()).cumsum()), axis=)\n",
    "    \n",
    "    return X_reduce, X_approx\n",
    "\n",
    "X = np.array([[3,3],[0,2], [-1,-1], [2,0]])\n",
    "X\n",
    "pca(X, n_components=2)"
   ]
  },
  {
   "attachments": {},
   "cell_type": "markdown",
   "metadata": {},
   "source": [
    "## covariance matrix\n",
    "- case 1: given a matrix, want to find the covariance of each columns\n",
    "- NOTE: `cor[i,j] = cov[i,j]/( cov[i,i] * cov[j,j] )`"
   ]
  },
  {
   "cell_type": "code",
   "execution_count": null,
   "metadata": {},
   "outputs": [
    {
     "data": {
      "text/plain": [
       "array([[ 1.        ,  0.32321673,  0.45383935, -0.14576703],\n",
       "       [ 0.32321673,  1.        , -0.32483296,  0.23901403],\n",
       "       [ 0.45383935, -0.32483296,  1.        ,  0.03381041],\n",
       "       [-0.14576703,  0.23901403,  0.03381041,  1.        ]])"
      ]
     },
     "metadata": {},
     "output_type": "display_data"
    }
   ],
   "source": [
    "def cov(x, y=None, corr=False, row_wise=False):\n",
    "    if row_wise:\n",
    "        return cov(x.T, y=y, corr=corr, row_wise=False)\n",
    "    \n",
    "    if y is not None:\n",
    "        return cov(np.column_stack((x,y)), corr=corr)\n",
    "    \n",
    "    n_cols = x.shape[1]\n",
    "    x_demean = x - x.mean(axis=0)\n",
    "    # covar = (x_demean.T @ x_demean) / len(x_demean)\n",
    "    covar = (x_demean.T @ x_demean) / x_demean.shape[0]\n",
    "    \n",
    "    if not corr:\n",
    "        return covar\n",
    "    \n",
    "    corr = np.array(\n",
    "        [\n",
    "            [covar[i,j]/np.sqrt(covar[i,i] * covar[j,j] ) for j in range(n_cols)] \n",
    "            for i in range(n_cols)\n",
    "        ]\n",
    "        )\n",
    "    \n",
    "    return corr\n",
    "\n",
    "np.random.seed(1)\n",
    "n_rows = 10\n",
    "n_cols = 4\n",
    "\n",
    "data = np.random.random((n_rows, n_cols))\n",
    "# data\n",
    "# x = np.linspace(-10, 10, 10)\n",
    "# y = x**2\n",
    "# y = -10*x + 100\n",
    "# cov(x,y, corr=True)\n",
    "\n",
    "np.corrcoef(data, rowvar=False)\n",
    "\n",
    "# cov(data)\n",
    "# np.cov(data, rowvar=False, ddof=0)\n",
    "# np.corrcoef(x,y)\n",
    "\n",
    "\n",
    "# data = np.arange(10*4).reshape(10,4)\n",
    "# cov(data, corr=True)\n",
    "# cov([1,2,3],[4,5,6])\n",
    "\n",
    "\n",
    "# # data = np.random.random((n_rows, n_cols))\n",
    "# data_demean = data-data.mean(axis=0)\n",
    "\n",
    "# cov = (data_demean.T @ data_demean) / len(data_demean)\n",
    "# print(cov)\n",
    "# cor = np.full((n_cols, n_cols), 0.0)\n",
    "# for i in range(n_cols):\n",
    "#     for j in range(n_cols):\n",
    "#         cor[i,j] = cov[i,j]/np.sqrt(cov[i,i] * cov[j,j] )\n",
    "# cor\n",
    "\n",
    "# base = np.random.random(n_rows)\n",
    "# data = np.array([base + stats.norm(scale=0.01).rvs(n_rows) for _ in range(n_cols)]).T\n",
    "# data_demean = data - data.mean(axis=0)\n",
    "\n",
    "# data_demean.T @ data_demean / data_demean.shape[0]\n",
    "\n",
    "# np.cov(data.T, ddof=0)\n",
    "\n",
    "# a1 = np.array([0, 1, 1])\n",
    "# a2 = np.array([2, 2, 1])\n",
    "\n",
    "# np.cov(a1, a2, ddof=0)\n",
    "\n",
    "# data = np.array([a1,a2]).T\n",
    "# data_demean = data-data.mean(axis=0)\n",
    "# data_demean.T @ data_demean / 3\n"
   ]
  },
  {
   "attachments": {},
   "cell_type": "markdown",
   "metadata": {},
   "source": [
    "## standardization/normalization etc\n",
    "- StandardScaler, Normalizer (i,e, the norm of each feature is 1), MinMaxScaler, proportion scaling\n",
    "- in general, normalization by column is much easier..."
   ]
  },
  {
   "attachments": {},
   "cell_type": "markdown",
   "metadata": {},
   "source": [
    "### summary of all scaling methods"
   ]
  },
  {
   "cell_type": "code",
   "execution_count": null,
   "metadata": {},
   "outputs": [],
   "source": [
    "# df = tips.select_dtypes('number')\n",
    "a,b = 10, 15\n",
    "df = pd.DataFrame(\n",
    "     [[ 1., -1.,  2.],\n",
    "     [ 2.,  0.,  0.],\n",
    "     [ 0.,  1., -1.]]\n",
    ")\n",
    "\n",
    "mean_ = df.mean()\n",
    "min_ = df.min()\n",
    "max_ = df.max()\n",
    "std_ = df.std(ddof=0)\n",
    "sum_ = df.sum()\n",
    "median_ = df.median()\n",
    "q1 = df.quantile(0.25)\n",
    "q3 = df.quantile(0.75)\n",
    "\n",
    "# standard scaler\n",
    "df.subtract(mean_).div(std_).head(2)\n",
    "\n",
    "# minmax scaler\n",
    "df.subtract(min_).div(max_ - min_) .head(2)\n",
    "\n",
    "# maxabs scaler\n",
    "df.div(max_.abs()) \n",
    "\n",
    "# length normalizer, so that the norm of each column is one unit \n",
    "# df.div(df.pow(2).sum().pow(0.5))\n",
    "df.div(np.linalg.norm(df, axis=0))\n",
    "\n",
    "# proportion scaler\n",
    "df.div(sum_)\n",
    "\n",
    "# AB scaler (i.e., all entries are from a to b)\n",
    "a + df.subtract(min_).div(max_ - min_) * (b - a)\n",
    "\n",
    "# robust scaler: remove median and then scale the result by IQR\n",
    "df.subtract(median_).div(q3-q1)"
   ]
  },
  {
   "attachments": {},
   "cell_type": "markdown",
   "metadata": {},
   "source": [
    "### normalize each row of a df"
   ]
  },
  {
   "cell_type": "code",
   "execution_count": null,
   "metadata": {},
   "outputs": [
    {
     "data": {
      "text/html": [
       "<div>\n",
       "<style scoped>\n",
       "    .dataframe tbody tr th:only-of-type {\n",
       "        vertical-align: middle;\n",
       "    }\n",
       "\n",
       "    .dataframe tbody tr th {\n",
       "        vertical-align: top;\n",
       "    }\n",
       "\n",
       "    .dataframe thead th {\n",
       "        text-align: right;\n",
       "    }\n",
       "</style>\n",
       "<table border=\"1\" class=\"dataframe\">\n",
       "  <thead>\n",
       "    <tr style=\"text-align: right;\">\n",
       "      <th></th>\n",
       "      <th>0</th>\n",
       "      <th>1</th>\n",
       "      <th>2</th>\n",
       "      <th>3</th>\n",
       "    </tr>\n",
       "  </thead>\n",
       "  <tbody>\n",
       "    <tr>\n",
       "      <th>0</th>\n",
       "      <td>0</td>\n",
       "      <td>1</td>\n",
       "      <td>2</td>\n",
       "      <td>3</td>\n",
       "    </tr>\n",
       "    <tr>\n",
       "      <th>1</th>\n",
       "      <td>4</td>\n",
       "      <td>5</td>\n",
       "      <td>6</td>\n",
       "      <td>7</td>\n",
       "    </tr>\n",
       "    <tr>\n",
       "      <th>2</th>\n",
       "      <td>8</td>\n",
       "      <td>9</td>\n",
       "      <td>10</td>\n",
       "      <td>11</td>\n",
       "    </tr>\n",
       "  </tbody>\n",
       "</table>\n",
       "</div>"
      ],
      "text/plain": [
       "   0  1   2   3\n",
       "0  0  1   2   3\n",
       "1  4  5   6   7\n",
       "2  8  9  10  11"
      ]
     },
     "metadata": {},
     "output_type": "display_data"
    },
    {
     "data": {
      "text/plain": [
       "0     6\n",
       "1    22\n",
       "2    38\n",
       "dtype: int64"
      ]
     },
     "metadata": {},
     "output_type": "display_data"
    },
    {
     "data": {
      "text/plain": [
       "0    1.0\n",
       "1    1.0\n",
       "2    1.0\n",
       "dtype: float64"
      ]
     },
     "metadata": {},
     "output_type": "display_data"
    },
    {
     "data": {
      "text/plain": [
       "0    1.0\n",
       "1    1.0\n",
       "2    1.0\n",
       "dtype: float64"
      ]
     },
     "metadata": {},
     "output_type": "display_data"
    },
    {
     "data": {
      "text/html": [
       "<div>\n",
       "<style scoped>\n",
       "    .dataframe tbody tr th:only-of-type {\n",
       "        vertical-align: middle;\n",
       "    }\n",
       "\n",
       "    .dataframe tbody tr th {\n",
       "        vertical-align: top;\n",
       "    }\n",
       "\n",
       "    .dataframe thead th {\n",
       "        text-align: right;\n",
       "    }\n",
       "</style>\n",
       "<table border=\"1\" class=\"dataframe\">\n",
       "  <thead>\n",
       "    <tr style=\"text-align: right;\">\n",
       "      <th></th>\n",
       "      <th>0</th>\n",
       "      <th>1</th>\n",
       "      <th>2</th>\n",
       "      <th>3</th>\n",
       "    </tr>\n",
       "  </thead>\n",
       "  <tbody>\n",
       "    <tr>\n",
       "      <th>0</th>\n",
       "      <td>6</td>\n",
       "      <td>6</td>\n",
       "      <td>6</td>\n",
       "      <td>6</td>\n",
       "    </tr>\n",
       "    <tr>\n",
       "      <th>1</th>\n",
       "      <td>22</td>\n",
       "      <td>22</td>\n",
       "      <td>22</td>\n",
       "      <td>22</td>\n",
       "    </tr>\n",
       "    <tr>\n",
       "      <th>2</th>\n",
       "      <td>38</td>\n",
       "      <td>38</td>\n",
       "      <td>38</td>\n",
       "      <td>38</td>\n",
       "    </tr>\n",
       "  </tbody>\n",
       "</table>\n",
       "</div>"
      ],
      "text/plain": [
       "    0   1   2   3\n",
       "0   6   6   6   6\n",
       "1  22  22  22  22\n",
       "2  38  38  38  38"
      ]
     },
     "metadata": {},
     "output_type": "display_data"
    },
    {
     "data": {
      "text/plain": [
       "0    1.0\n",
       "1    1.0\n",
       "2    1.0\n",
       "dtype: float64"
      ]
     },
     "metadata": {},
     "output_type": "display_data"
    }
   ],
   "source": [
    "# idea: first find the sum of each row, then divide each entry by this row sum\n",
    "df = pd.DataFrame(np.arange(3*4).reshape(3,4))\n",
    "row_sums = df.sum(axis=1)\n",
    "df\n",
    "row_sums\n",
    "\n",
    "# M1: use div\n",
    "df.div(row_sums, axis=0).sum(axis=1)\n",
    "\n",
    "# M2: use apply\n",
    "df.apply(lambda s: s/row_sums).sum(axis=1)\n",
    "\n",
    "# M3: bad...\n",
    "temp = pd.concat([row_sums.to_frame()]*4, axis=1)\n",
    "temp.columns = [0,1,2,3]\n",
    "temp\n",
    "(df/temp).sum(axis=1)"
   ]
  },
  {
   "attachments": {},
   "cell_type": "markdown",
   "metadata": {},
   "source": [
    "# evaluation metrics"
   ]
  },
  {
   "attachments": {},
   "cell_type": "markdown",
   "metadata": {},
   "source": [
    "## entropy, cross entropy, KL divergence\n",
    "\n",
    "- $\\mathrm{H}(X):=-\\sum_{x \\in \\mathcal{X}} p(x) \\log p(x)=\\mathbb{E}[-\\log p(X)]$\n",
    "\t- entropy of a signle distribution\n",
    "- $D(P || Q) = \\sum_i p_i \\log\\frac{p_i}{q_i}$\n",
    "\t- relative entropy / KL divergence\n",
    "\t- remember, relative entropy the same as KL divergence!!!\n",
    "- $CE(P, Q) = -\\sum_i p_i \\log q_i$ \n",
    "\t- cross entropy\n",
    "\n"
   ]
  },
  {
   "cell_type": "code",
   "execution_count": 7,
   "metadata": {},
   "outputs": [
    {
     "data": {
      "text/plain": [
       "2.1709505944546685"
      ]
     },
     "execution_count": 7,
     "metadata": {},
     "output_type": "execute_result"
    },
    {
     "data": {
      "text/plain": [
       "0.2543990719664849"
      ]
     },
     "execution_count": 7,
     "metadata": {},
     "output_type": "execute_result"
    },
    {
     "data": {
      "text/plain": [
       "2.4253496664211536"
      ]
     },
     "execution_count": 7,
     "metadata": {},
     "output_type": "execute_result"
    },
    {
     "data": {
      "text/plain": [
       "2.1709505944546685"
      ]
     },
     "execution_count": 7,
     "metadata": {},
     "output_type": "execute_result"
    },
    {
     "data": {
      "text/plain": [
       "0.2543990719664849"
      ]
     },
     "execution_count": 7,
     "metadata": {},
     "output_type": "execute_result"
    },
    {
     "data": {
      "text/plain": [
       "2.425349666421154"
      ]
     },
     "execution_count": 7,
     "metadata": {},
     "output_type": "execute_result"
    }
   ],
   "source": [
    "# M1: self-defined function\n",
    "def entropy(x, y=None, type='relative', base=2):\n",
    "    if y is None: # do entropy on one single distrbution only\n",
    "        return -np.sum(x*np.log2(x))\n",
    "    else:\n",
    "        if type == 'relative':\n",
    "            return np.sum(x * np.log2(x/y))\n",
    "        elif type == 'cross':\n",
    "            return -np.sum(x * np.log2(y))\n",
    "\n",
    "x = np.array([0.1,0.3,0.3,0.1,0.2])\n",
    "y = np.array([0.1,0.1,0.5,0.1,0.2])\n",
    "\n",
    "stats.entropy(x, base=2)\n",
    "entropy(x,y, base=2) # same as stats.entropy(x,y, base=2)\n",
    "entropy(x,y, base=2, type='cross')\n",
    "\n",
    "\n",
    "# M2: use stats.entropy function\n",
    "stats.entropy(x, base=2) # entropy of single distribution\n",
    "stats.entropy(x,y, base=2) # relative entropy\n",
    "entropy(x, base=2) + entropy(x,y, base=2) # cross entropy"
   ]
  },
  {
   "cell_type": "code",
   "execution_count": 8,
   "metadata": {},
   "outputs": [
    {
     "data": {
      "text/plain": [
       "1.7790787840900633"
      ]
     },
     "execution_count": 8,
     "metadata": {},
     "output_type": "execute_result"
    },
    {
     "data": {
      "text/plain": [
       "1.779078784090063"
      ]
     },
     "execution_count": 8,
     "metadata": {},
     "output_type": "execute_result"
    },
    {
     "data": {
      "text/plain": [
       "0.2816755759528351"
      ]
     },
     "execution_count": 8,
     "metadata": {},
     "output_type": "execute_result"
    },
    {
     "data": {
      "text/plain": [
       "0.257320924779852"
      ]
     },
     "execution_count": 8,
     "metadata": {},
     "output_type": "execute_result"
    }
   ],
   "source": [
    "# ------------------------------ further example ----------------------------- #\n",
    "n = 10\n",
    "rv = stats.binom(p=0.3, n =10) \n",
    "stats.entropy(rv.pmf(range(n+1)), base=np.exp(1))\n",
    "rv.entropy()\n",
    "\n",
    "rv2 = stats.binom(p=0.2, n =10) \n",
    "stats.entropy(rv.pmf(range(n+1)), rv2.pmf(range(n+1)), base=np.exp(1)) # D(P || Q)\n",
    "stats.entropy(rv2.pmf(range(n+1)), rv.pmf(range(n+1)), base=np.exp(1)) # D(Q || P)"
   ]
  },
  {
   "attachments": {},
   "cell_type": "markdown",
   "metadata": {},
   "source": [
    "## similarity measure\n",
    "- cosine\n",
    "- covariance\n",
    "- correlation"
   ]
  },
  {
   "cell_type": "code",
   "execution_count": null,
   "metadata": {},
   "outputs": [
    {
     "data": {
      "text/plain": [
       "0.9746318461970762"
      ]
     },
     "metadata": {},
     "output_type": "display_data"
    },
    {
     "data": {
      "text/plain": [
       "0.6666666666666666"
      ]
     },
     "metadata": {},
     "output_type": "display_data"
    },
    {
     "data": {
      "text/plain": [
       "1.0"
      ]
     },
     "metadata": {},
     "output_type": "display_data"
    }
   ],
   "source": [
    "def cosine_similarity(x,y):\n",
    "    return x@y/(np.linalg.norm(x) * np.linalg.norm(y))\n",
    "\n",
    "def covariance(x,y):\n",
    "    return (x-x.mean())@(y-y.mean()) / len(x)\n",
    "\n",
    "def correlation(x,y):\n",
    "    # return covariance(x,y)/(x.std(ddof=0) * y.std(ddof=0))\n",
    "    \n",
    "    # M2\n",
    "    x_demean = x-x.mean()\n",
    "    y_demean = y-y.mean()\n",
    "    return (x_demean @ y_demean) / np.sqrt(np.power(x_demean, 2).sum() * np.power(y_demean, 2).sum())\n",
    "\n",
    "x = np.array([1,2,3])\n",
    "y = np.array([4,5,6])\n",
    "cosine_similarity(x,y)\n",
    "covariance(x,y)\n",
    "correlation(x,y)"
   ]
  },
  {
   "attachments": {},
   "cell_type": "markdown",
   "metadata": {},
   "source": [
    "## metrics for regression"
   ]
  },
  {
   "cell_type": "code",
   "execution_count": 111,
   "metadata": {},
   "outputs": [
    {
     "data": {
      "text/plain": [
       "0.6666666666666666"
      ]
     },
     "execution_count": 111,
     "metadata": {},
     "output_type": "execute_result"
    },
    {
     "data": {
      "text/plain": [
       "0.6666666666666666"
      ]
     },
     "execution_count": 111,
     "metadata": {},
     "output_type": "execute_result"
    },
    {
     "data": {
      "text/plain": [
       "1.0"
      ]
     },
     "execution_count": 111,
     "metadata": {},
     "output_type": "execute_result"
    },
    {
     "data": {
      "text/plain": [
       "0.4444444444444444"
      ]
     },
     "execution_count": 111,
     "metadata": {},
     "output_type": "execute_result"
    },
    {
     "data": {
      "text/plain": [
       "1.0"
      ]
     },
     "execution_count": 111,
     "metadata": {},
     "output_type": "execute_result"
    },
    {
     "data": {
      "text/plain": [
       "0.0"
      ]
     },
     "execution_count": 111,
     "metadata": {},
     "output_type": "execute_result"
    }
   ],
   "source": [
    "# regression\n",
    "def mean_squared_error(y_true, y_pred):\n",
    "    # related to L2 norm\n",
    "    # return ((y_true-y_pred)**2).mean()\n",
    "    return np.power(y_true-y_pred, 2).mean()\n",
    "    # return np.linalg.norm(y_true-y_pred)**2/len(y_true)\n",
    "    pass\n",
    "def mean_absolute_error(y_true, y_pred):\n",
    "    # related to L1 norm\n",
    "    return np.abs(y_true-y_pred).mean()\n",
    "    # return np.linalg.norm(y_true-y_pred, ord=1)/len(y_true)\n",
    "    pass\n",
    "def max_error(y_true, y_pred):\n",
    "    # same as L_inf norm\n",
    "    return np.abs(y_true-y_pred).max()\n",
    "    # return np.linalg.norm(y_true-y_pred, ord=np.inf)\n",
    "def median_absolute_error(y_true, y_pred):\n",
    "    return np.median(np.abs(y_true-y_pred))\n",
    "    pass\n",
    "def r2_score(y_true, y_pred):\n",
    "    # remember: SST = SSE + SSR\n",
    "    SSE = np.power(y_true - y_pred, 2).sum()\n",
    "    SST = np.power(y_true - y_true.mean(), 2).sum()\n",
    "    return 1 - SSE/SST\n",
    "    pass\n",
    "def mean_absolute_percentage_error(y_true, y_pred):\n",
    "    return (np.abs(y_true-y_pred) / np.abs(y_true)).mean()\n",
    "    pass\n",
    "def mean_squared_log_error(y_true, y_pred):\n",
    "    pass\n",
    "\n",
    "\n",
    "y_true = np.array([1,2,3])\n",
    "# y_pred = np.array([1,2,100])\n",
    "y_pred = np.array([2,2,2])\n",
    "\n",
    "mean_squared_error(y_true, y_pred)\n",
    "mean_absolute_error(y_true, y_pred)\n",
    "median_absolute_error(y_true, y_pred)\n",
    "mean_absolute_percentage_error(y_true, y_pred)\n",
    "max_error(y_true, y_pred)\n",
    "r2_score(y_true, y_pred)\n",
    "# classification"
   ]
  },
  {
   "attachments": {},
   "cell_type": "markdown",
   "metadata": {},
   "source": [
    "## metrics for classification "
   ]
  },
  {
   "cell_type": "code",
   "execution_count": 42,
   "metadata": {},
   "outputs": [
    {
     "data": {
      "text/plain": [
       "0.5"
      ]
     },
     "execution_count": 42,
     "metadata": {},
     "output_type": "execute_result"
    }
   ],
   "source": [
    "def accuracy(cm):\n",
    "    (tn, fp), (fn, tp) = cm\n",
    "    return (tn + tp) / cm.sum()\n",
    "    # return (cm[0,0] + cm[1,1]) / cm.sum()\n",
    "def error_rate(cm):\n",
    "    return 1 - accuracy(cm)\n",
    "def precision(cm):\n",
    "    (tn, fp), (fn, tp) = cm\n",
    "    return tp / (tp + fp)\n",
    "    # return cm[1,1] / cm[:, 1].sum()\n",
    "def recall(cm):\n",
    "    # same as tpr \n",
    "    (tn, fp), (fn, tp) = cm\n",
    "    return tp / (tp + fn)\n",
    "    # return cm[1,1] / (cm[1,1] + cm[1,0])\n",
    "def f_score(cm):\n",
    "    return 2 / (1/recall() + 1/precision())\n",
    "def tnr(cm):\n",
    "    # same as specificity\n",
    "    (tn, fp), (fn, tp) = cm\n",
    "    return tn / (tn + fp)\n",
    "    # return cm[0,0] / (cm[0,0] + cm[0,1])\n",
    "def tpr(cm):\n",
    "    # same as recall\n",
    "    (tn, fp), (fn, tp) = cm\n",
    "    return tp / (tp + fn)\n",
    "    # return cm[1,1] / (cm[1,1] + cm[1,0])\n",
    "def fnr(cm):\n",
    "    (tn, fp), (fn, tp) = cm\n",
    "    return fn / (fn + tp)\n",
    "    # return cm[1,0] / (cm[1,0] + cm[1,1])\n",
    "def fpr(cm):\n",
    "    (tn, fp), (fn, tp) = cm\n",
    "    return fp / (fp + tn)\n",
    "    # return cm[0,1] / (cm[0,1] + cm[1,0])\n",
    "\n",
    "# def confusion_matrix_word(y_true, y_pred):\n",
    "#     cm = confusion_matrix(y_true, y_pred)\n",
    "#     return {\n",
    "#     'tn': cm[0,0],\n",
    "#     'fp': cm[0,1],\n",
    "#     'fn': cm[1,0],\n",
    "#     'tp': cm[1,1],\n",
    "#     }\n",
    "\n",
    "def confusion_matrix(y_true, y_pred):\n",
    "    cm = np.full((2,2),0)\n",
    "    for true, pred in zip(y_true, y_pred):\n",
    "        cm[true, pred] += 1\n",
    "    return cm\n",
    "\n",
    "y_true = [1]*4 + [0]*8\n",
    "y_pred = [0,1,1,0,1,0,0,1,1,0,0,1]\n",
    "cm = confusion_matrix(y_true, y_pred)\n",
    "# print(cm)\n",
    "# accuracy(cm)\n",
    "# error_rate(cm)\n",
    "# precision(cm)\n",
    "tnr(cm)\n",
    "\n",
    "# cm\n",
    "# for x, y in cm:\n",
    "#     print(x, y)"
   ]
  },
  {
   "cell_type": "code",
   "execution_count": 43,
   "metadata": {},
   "outputs": [],
   "source": [
    "# # y_true = [0, 0, 1, 0, 1, 1]\n",
    "# # y_pred = [0, 1, 1, 0, 0, 0]\n",
    "# y_true = [1]*4 + [0]*8\n",
    "# y_pred = [0,1,1,0,1,0,0,1,1,0,0,1]\n",
    "# cm = np.full((2,2), 0)\n",
    "# for true, pred in zip(y_true, y_pred):\n",
    "#     # if true == pred == 0:\n",
    "#     cm[true, pred] += 1\n",
    "\n",
    "# p = cm[1,1] / cm[:,1].sum()\n",
    "# r = cm[1,1] / cm[1,:].sum()\n",
    "# # tpr = \n",
    "\n",
    "# cm\n",
    "# cm_rate = cm/cm.sum(axis=1, keepdims=True)\n",
    "# cm_rate\n",
    "\n",
    "# tnr = specificity = cm_rate[0,0]\n",
    "# fpr = cm_rate[0,1]\n",
    "# fnr = cm_rate[1,0]\n",
    "# tpr = recall = cm_rate[1,1]\n",
    "# accuracy = cm.trace() / cm.sum()\n",
    "# error_rate = 1 - accuracy\n",
    "# precision = cm[1,1] / cm[:,1].sum()"
   ]
  },
  {
   "attachments": {},
   "cell_type": "markdown",
   "metadata": {},
   "source": [
    "## balanced_accuracy_score\n",
    "In the binary case, balanced accuracy is equal to the arithmetic mean of sensitivity (true positive rate) and specificity (true negative rate), or the area under the ROC curve with binary predictions rather than scores:\n",
    "- can be used for both multiclass and binary class"
   ]
  },
  {
   "cell_type": "code",
   "execution_count": 169,
   "metadata": {},
   "outputs": [
    {
     "data": {
      "text/plain": [
       "0.4623397435897436"
      ]
     },
     "execution_count": 169,
     "metadata": {},
     "output_type": "execute_result"
    },
    {
     "data": {
      "text/plain": [
       "0.4623397435897436"
      ]
     },
     "execution_count": 169,
     "metadata": {},
     "output_type": "execute_result"
    },
    {
     "data": {
      "text/plain": [
       "0.4623397435897436"
      ]
     },
     "execution_count": 169,
     "metadata": {},
     "output_type": "execute_result"
    }
   ],
   "source": [
    "from sklearn.metrics import balanced_accuracy_score\n",
    "y_true = [0, 1, 0, 0, 1, 0]\n",
    "y_pred = [0, 1, 0, 0, 0, 1]\n",
    "\n",
    "y_true = np.random.randint(2, size=100)\n",
    "y_pred = np.random.randint(2, size=100)\n",
    "\n",
    "# y_true\n",
    "# y_pred\n",
    "\n",
    "balanced_accuracy_score(y_true, y_pred)\n",
    "roc_auc_score(y_true, y_pred)\n",
    "\n",
    "# (recall_score(y_true, y_pred) + precision_score(y_true, y_pred))/2\n",
    "(recall_score(y_true, y_pred) + recall_score(y_true, y_pred, pos_label=0))/2"
   ]
  },
  {
   "attachments": {},
   "cell_type": "markdown",
   "metadata": {},
   "source": [
    "## top-k metrics"
   ]
  },
  {
   "cell_type": "code",
   "execution_count": 139,
   "metadata": {},
   "outputs": [
    {
     "data": {
      "text/plain": [
       "0.75"
      ]
     },
     "execution_count": 139,
     "metadata": {},
     "output_type": "execute_result"
    },
    {
     "data": {
      "text/plain": [
       "3"
      ]
     },
     "execution_count": 139,
     "metadata": {},
     "output_type": "execute_result"
    }
   ],
   "source": [
    "import numpy as np\n",
    "from sklearn.metrics import top_k_accuracy_score\n",
    "y_true = np.array([0, 1, 2, 2])\n",
    "y_score = np.array([[0.5, 0.2, 0.2],  # 0 is in top 2\n",
    "                    [0.3, 0.4, 0.2],  # 1 is in top 2\n",
    "                    [0.2, 0.4, 0.3],  # 2 is in top 2\n",
    "                    [0.7, 0.2, 0.1]]) # 2 isn't in top 2\n",
    "top_k_accuracy_score(y_true, y_score, k=2)\n",
    "\n",
    "# Not normalizing gives the number of \"correctly\" classified samples\n",
    "top_k_accuracy_score(y_true, y_score, k=2, normalize=False)"
   ]
  },
  {
   "attachments": {},
   "cell_type": "markdown",
   "metadata": {},
   "source": [
    "# array problem"
   ]
  },
  {
   "attachments": {},
   "cell_type": "markdown",
   "metadata": {},
   "source": [
    "## compression of vector (intact interview)\n",
    "You want to compress an array that often contains consecutive appearances of the same integer.\n",
    "The task is to reduce the array into a compressed array that contains, one after the other, the integer seen and the number of consecutive repetitions of that integer.\n",
    "Example:\n",
    "Input: arr = [1, 1, 1, 5, 3, 3, 9, 3, 3, 3, 3, 3]\n",
    "Output: [1, 3, 5, 1, 3, 2, 9, 1, 3, 5]\n",
    "\n",
    "- Input: `[1,1,1,5,3,3,9,3,3,3,3,3]`\n",
    "- Output: `[1,3,5,1,3,2,9,1,3,5]`\n",
    "- explaination: in `output`: \n",
    "\t- 1 appears 3 times in a row\n",
    "\t- 5 appears 1 time in a row\n",
    "\t- 3 appears 2 times in a row\n",
    "\t- 9 appears 1 time in a row\n",
    "\t- 3 appears 5 times in a row\n",
    "- should be solved with 2 pointers\n",
    "\n",
    "\n"
   ]
  },
  {
   "cell_type": "code",
   "execution_count": null,
   "metadata": {},
   "outputs": [
    {
     "data": {
      "text/plain": [
       "[1, 3, 5, 1, 3, 2, 9, 1, 3, 5, 4, 1]"
      ]
     },
     "metadata": {},
     "output_type": "display_data"
    }
   ],
   "source": [
    "def compress(a):\n",
    "    # bad method \n",
    "    # res, n, i = [], len(a), 0\n",
    "    # while i < n:\n",
    "    #     val = a[i]\n",
    "    #     cnt = 1\n",
    "    #     j = i+1\n",
    "    #     while j< n:\n",
    "    #     # for j in range(i+1, n):\n",
    "    #         if a[j] == val:\n",
    "    #             cnt+=1\n",
    "    #             j+=1\n",
    "    #         else:\n",
    "    #             break \n",
    "    #     i=j\n",
    "    #     res.append(val)\n",
    "    #     res.append(cnt)\n",
    "    # return res \n",
    "    \n",
    "    try:\n",
    "        cur = a[0]\n",
    "    except IndexError: # the array may be empty\n",
    "        return []\n",
    "    count, res = 1, []\n",
    "    \n",
    "    for x in a[1:]:\n",
    "        if cur == x: # the next number is the same, so move forward\n",
    "            count+=1 \n",
    "        else:\n",
    "            res.extend([cur, count])\n",
    "            count = 1\n",
    "            cur = x\n",
    "    res.extend([cur, count])\n",
    "    return res\n",
    "\n",
    "def de_compress(a):\n",
    "    res = []\n",
    "    for i in range(0, len(a), 2): # good way to loop two elements in each step\n",
    "        res.extend([a[i]]*a[i+1])\n",
    "    return res\n",
    "    \n",
    "    # M2: doesn't work, since the result will be a list of lists\n",
    "    # res = [[a[i]]*a[i+1] for i in range(0, len(a), 2)]\n",
    "    # return res\n",
    "\n",
    "\n",
    "# from gpt\n",
    "def compress_array(arr):\n",
    "\n",
    "    if not arr:\n",
    "        return []\n",
    "\n",
    "    result = [arr[0], 1]\n",
    "\n",
    "    current = arr[0]\n",
    "\n",
    "    count = 1\n",
    "\n",
    "    for i in range(1, len(arr)):\n",
    "\n",
    "        if arr[i] == current:\n",
    "\n",
    "            count += 1\n",
    "\n",
    "        else:\n",
    "\n",
    "            result.append(count)\n",
    "\n",
    "            current = arr[i]\n",
    "\n",
    "            result.append(current)\n",
    "\n",
    "            count = 1\n",
    "\n",
    "    result.append(count)\n",
    "\n",
    "    return result\n",
    "\n",
    "# a = [1,1,1,5,3,3,9,3,3,3,3,3]\n",
    "# a = [1,1,1,5,3,3,9,3,3,3,3,3,4]\n",
    "# a = []\n",
    "# [1,3,5,1,3,2,9,1,3,5]\n",
    "# compress(a)\n",
    "# a = [1,3,5,1,3,2,9,1,3,5]\n",
    "# de_compress([1,3,5,1,3,2,9,1,3,5])\n",
    "compress(a)\n",
    "# a = [1,10]\n",
    "# de_compress(a)\n",
    "\n",
    "# compress_array(a)\n"
   ]
  },
  {
   "attachments": {},
   "cell_type": "markdown",
   "metadata": {},
   "source": [
    "## compression of vector 2: `a[i] = number of times value i appears in total`\n",
    "- a = [1,1,1,2,3,1,2,4,1]\n",
    "- output: [0, 5, 2, 1, 1], since 0 appears 0 times, 1 appears 5 times, and so on."
   ]
  },
  {
   "cell_type": "code",
   "execution_count": null,
   "metadata": {},
   "outputs": [
    {
     "data": {
      "text/plain": [
       "[0, 0, 0, 0, 0, 1, 2, 2, 3]"
      ]
     },
     "metadata": {},
     "output_type": "display_data"
    }
   ],
   "source": [
    "def compress_by_max(a):\n",
    "    # M1: need to find max(a) first. Slow\n",
    "    res = [0]* (max(a)+1)\n",
    "    for x in a:\n",
    "        res[x] += 1\n",
    "    return res\n",
    "\n",
    "    # M2: doesn't work. only return a dict\n",
    "    # res = {}\n",
    "    # for x in a:\n",
    "    #     res[x] = res.get(x,0) + 1\n",
    "    # return res\n",
    "    \n",
    "def decompress_by_max(a):\n",
    "    # M1:\n",
    "    res = []\n",
    "    for i, x in enumerate(a):\n",
    "        res.extend([i]*x)\n",
    "    return res\n",
    "\n",
    "    # M2:\n",
    "    # cur = 0 \n",
    "    # res = [0]*sum(a)\n",
    "    # for i in range(len(a)):\n",
    "    #     res[cur:cur+a[i]] = [i] * a[i]\n",
    "    #     cur += a[i]\n",
    "    # return res\n",
    "\n",
    "\n",
    "# a = [1,1,1,2,3,1,2,4,1]\n",
    "# compress_by_max(a)\n",
    "decompress_by_max([5,1,2,1])"
   ]
  },
  {
   "attachments": {},
   "cell_type": "markdown",
   "metadata": {},
   "source": [
    "## implement combination(a,k)"
   ]
  },
  {
   "cell_type": "code",
   "execution_count": null,
   "metadata": {},
   "outputs": [],
   "source": []
  },
  {
   "attachments": {},
   "cell_type": "markdown",
   "metadata": {},
   "source": [
    "## 392. Is Subsequence\n",
    "Given two strings s and t, return true if s is a subsequence of t, or false otherwise.\n",
    "\n",
    "A subsequence of a string is a new string that is formed from the original string by deleting some (can be none) of the characters without disturbing the relative positions of the remaining characters. (i.e., \"ace\" is a subsequence of \"abcde\" while \"aec\" is not).\n",
    "\n",
    "idea: let a pointer point to the current character of s, then iterate t.\n",
    "- if the current of t == current of s, move the pointer of s\n",
    "- if the pointer of s move to len(s), then True"
   ]
  },
  {
   "cell_type": "code",
   "execution_count": 6,
   "metadata": {},
   "outputs": [
    {
     "data": {
      "text/plain": [
       "False"
      ]
     },
     "execution_count": 6,
     "metadata": {},
     "output_type": "execute_result"
    }
   ],
   "source": [
    "def is_valid_subsequence(s, t):\n",
    "    # check if s is a subsequence of t\n",
    "    i = 0 \n",
    "    for x in t:\n",
    "        if s[i] == x:\n",
    "            i+=1\n",
    "            if i == len(s):\n",
    "                return True\n",
    "    return False \n",
    "\n",
    "    # M2\n",
    "    # arr_idx = seq_idx = 0\n",
    "    # while arr_idx < len(array) and seq_idx < len(sequence):\n",
    "    #     if array[arr_idx] == sequence[seq_idx]:\n",
    "    #         seq_idx+=1\n",
    "    #     arr_idx+=1\n",
    "    # return seq_idx == len(sequence)\n",
    "    \n",
    "s, t = \"abc\", \"ahbgdc\"\n",
    "s, t = \"axc\", \"ahbgdc\"\n",
    "is_valid_subsequence(s,t)"
   ]
  },
  {
   "attachments": {},
   "cell_type": "markdown",
   "metadata": {},
   "source": [
    "## 5. Longest Palindromic Substring\n"
   ]
  },
  {
   "cell_type": "code",
   "execution_count": 383,
   "metadata": {},
   "outputs": [
    {
     "data": {
      "text/plain": [
       "('a', 1)"
      ]
     },
     "execution_count": 383,
     "metadata": {},
     "output_type": "execute_result"
    }
   ],
   "source": [
    "def longest_palindrome(s) -> str:\n",
    "    n = len(s)\n",
    "    n_res = 0\n",
    "    res = []\n",
    "    for i in range(n):\n",
    "        for j in range(i, n):\n",
    "            candidate = s[i:j+1]\n",
    "            if all(x==y for x,y in zip(candidate, reversed(candidate))) and j-i+1 > n_res:\n",
    "                n_res = j-i+1\n",
    "                res = candidate\n",
    "    return res, n_res\n",
    "\n",
    "s = \"abc\"\n",
    "longest_palindrome(s)"
   ]
  },
  {
   "attachments": {},
   "cell_type": "markdown",
   "metadata": {},
   "source": [
    "## array rotation\n",
    "- notes:\n",
    "\t- should do inplace\n",
    "\t- if d > len(a), then we don't need to repeat again, it's like 370 degree => 10 degree\n",
    "\t- so, do d % len(a)\n",
    "\t- for left rotate, the final position of a[i] = a[(i+d)%n]\n",
    "\t- smart way: divide the array into two halves, then use `+`"
   ]
  },
  {
   "cell_type": "code",
   "execution_count": 229,
   "metadata": {},
   "outputs": [
    {
     "data": {
      "text/plain": [
       "[8, 9, 10, 1, 2, 3, 4, 5, 6, 7]"
      ]
     },
     "execution_count": 229,
     "metadata": {},
     "output_type": "execute_result"
    },
    {
     "data": {
      "text/plain": [
       "[2, 3, 4, 5, 6, 7, 8, 9, 10, 1]"
      ]
     },
     "execution_count": 229,
     "metadata": {},
     "output_type": "execute_result"
    }
   ],
   "source": [
    "def rotate_left(a, d):\n",
    "    # naive\n",
    "    # n = len(a)\n",
    "    # for i in range(d%n):\n",
    "    #     temp = a[0]\n",
    "    #     for j in range(n-1):\n",
    "    #         a[j] = a[j+1]\n",
    "    #     a[n-1] = temp \n",
    "    # return a\n",
    "\n",
    "    # M2\n",
    "    # n = len(a)\n",
    "    # temp = a.copy()\n",
    "    # for i in range(n):\n",
    "    #     a[i] = temp[(i + d)%n]\n",
    "    # return a\n",
    "\n",
    "    # M3: smartest way\n",
    "    n = len(a)\n",
    "    d = d%n\n",
    "    return a[d:] + a[:d]\n",
    "\n",
    "def rotate_right(a, d):\n",
    "    n = len(a)\n",
    "    d = d%n\n",
    "    return a[-d:] + a[:-d]\n",
    "    pass\n",
    "\n",
    "a = list(range(1, 11))\n",
    "rotate_right(a, 3)\n",
    "\n",
    "# a = [1,2,3,4,5]\n",
    "rotate_left(a, 1001)"
   ]
  },
  {
   "attachments": {},
   "cell_type": "markdown",
   "metadata": {},
   "source": [
    "## hackerrank: table of content"
   ]
  },
  {
   "cell_type": "code",
   "execution_count": 233,
   "metadata": {},
   "outputs": [
    {
     "data": {
      "text/plain": [
       "['1. Algorithms',\n",
       " '1.1. Sorting',\n",
       " '1.2. Searching',\n",
       " '2. Data Structures',\n",
       " '3. Binary Search Trees']"
      ]
     },
     "execution_count": 233,
     "metadata": {},
     "output_type": "execute_result"
    }
   ],
   "source": [
    "def table_of_contents(text):\n",
    "    # Write your code here\n",
    "    cur_chapter = 0\n",
    "    cur_section = 0\n",
    "    res = []\n",
    "    for s in text:\n",
    "        if s.startswith('#'):\n",
    "            sec, content = s.split(' ',1)\n",
    "            if len(sec) == 1: # new chapter\n",
    "                cur_chapter += 1\n",
    "                cur_section = 0 \n",
    "                res.append(f\"{cur_chapter}. {content}\")\n",
    "            elif len(sec) == 2: # new section\n",
    "                cur_section+=1\n",
    "                res.append(f\"{cur_chapter}.{cur_section}. {content}\")\n",
    "    return res \n",
    "\n",
    "text = ['# Algorithms',\n",
    "'This chapter covers the most basic algorithms.',\n",
    "'## Sorting',\n",
    "'Quicksort is fast and widely used in practice',\n",
    "'Merge sort is a deterministic algorithm',\n",
    "'## Searching',\n",
    "'DFS and BFS are widely used graph searching algorithms',\n",
    "'Some variants of DFS are also used in game theory applications',\n",
    "'# Data Structures',\n",
    "'This chapter is all about data structures',\n",
    "\"It's a draft for now and will contain more sections in the future\",\n",
    "'# Binary Search Trees',]\n",
    "\n",
    "table_of_contents(text)"
   ]
  },
  {
   "attachments": {},
   "cell_type": "markdown",
   "metadata": {},
   "source": [
    "## hackerrank: find smallest divisor\n",
    "Given two strings, s and t, create a function that operates per the following rules:\n",
    "\n",
    "Find whether string s is divisible by string t.  String s divisible by string t if string t can be concatenated some number of times to obtain the string s.\n",
    "If s is divisible, find the smallest string, u, such that it can be concatenated some number of times to obtain both s and t.\n",
    "If it is not divisible, set the return value to -1.\n",
    "Return the length of the string u or -1.\n",
    "\n",
    "Example 1\n",
    "\n",
    "s = 'bcdbcdbcdbcd'\n",
    "\n",
    "t = 'bcdbcd'\n",
    "\n",
    "\n",
    "If string t is concatenated twice, the result is 'bcdbcdbcdbcd' which is equal to the string s.  The string s is divisible by string t. \n",
    "\n",
    "Since it passes the first test, look for the smallest string, u, that can be concatenated to create both strings s and t.\n",
    "\n",
    "The string 'bcd' is the smallest string that can be concatenated to create both strings s and t. \n",
    "\n",
    "The length of the string u is 3, which is the integer value to return.\n",
    "\n",
    "\n",
    "Example 2\n",
    "\n",
    "s = \"bcdbcdbcd\"\n",
    "\n",
    "t = \"bcdbcd\"\n",
    "\n",
    "\n",
    "If string t is concatenated twice, the result is \"bcdbcdbcdbcd\" which is greater than string s.  There is an extra \"bcd\" in the concatenated string.\n",
    "\n",
    "The string s is not divisible by string t, so return -1.\n",
    "\n",
    "\n",
    "- idea: check if len(s) is divisible by len(t) or not first\n",
    "- if so, repeat t len(s)//len(t) that many times, to make it the same length as s\n",
    "- then compare if they are equal"
   ]
  },
  {
   "cell_type": "code",
   "execution_count": 265,
   "metadata": {},
   "outputs": [
    {
     "name": "stdout",
     "output_type": "stream",
     "text": [
      "2\n"
     ]
    },
    {
     "data": {
      "text/plain": [
       "'bcd'"
      ]
     },
     "execution_count": 265,
     "metadata": {},
     "output_type": "execute_result"
    }
   ],
   "source": [
    "def find_repeat(s):\n",
    "    n = len(s)\n",
    "    for i in range(1, n+1):\n",
    "        if n % i == 0 and s[:i] * (n//i) == s:\n",
    "            return s[:i]\n",
    "\n",
    "# bad: use loop\n",
    "# def find_smallest_divisor(s, t):\n",
    "#     n = len(t)\n",
    "#     test_string = t\n",
    "#     i = 1\n",
    "#     while len(test_string) <= len(s):\n",
    "#         if s == test_string:\n",
    "#             return i\n",
    "#         else:\n",
    "#             i+=1\n",
    "#             test_string = t*i\n",
    "#     return -1\n",
    "\n",
    "def find_smallest_divisor(s, t):\n",
    "    len_s = len(s)\n",
    "    len_t = len(t)\n",
    "    if len_s % len_t == 0 and t*(len_s//len_t) == s:\n",
    "        print(len_s//len_t)\n",
    "        return find_repeat(t)\n",
    "    else:\n",
    "        return False \n",
    "    \n",
    "\n",
    "s = 'bcdbcdbcdbcd'\n",
    "t = 'bcdbcd'\n",
    "\n",
    "find_smallest_divisor(s, t)\n",
    "\n",
    "# find_repeat(t)\n",
    "# find_repeat(s)\n"
   ]
  },
  {
   "attachments": {},
   "cell_type": "markdown",
   "metadata": {},
   "source": [
    "## hackerrank: Moving Zeros to start/end\n",
    "- important: moving to start is more difficult than moving to end!\n",
    "- think 3,1,2,0,3\n",
    "\t- if we swap 3 and 0, then the ordering is changed\n",
    "\n",
    "Given a list of integers, moving all the zeros to the beginning of the list while keeping the order of all the non-zeros elements unchanged.\n",
    "\n",
    " \n",
    "\n",
    "Requirement:\n",
    "\n",
    "- In-place implementation (Implement your solution over the original array, don't create new memory to solve this).\n",
    "- Time Complexity：O(n)\n",
    "\n",
    " \n",
    "\n",
    "Notes:\n",
    "\n",
    "- Languages: Please use your preferred coding language.\n",
    "\n",
    " \n",
    "\n",
    "Custom Test:\n",
    "\n",
    "If you would like to define your custom input in the test, please follow the instruction below:\n",
    "\n",
    "- Saying your input is [1, 2, 3, 0]\n",
    "\n",
    "- When you define your input in the input box, the first line should be the number of items in your list\n",
    "\n",
    "- Your input list start from the second line, below is an example:\n",
    "\n",
    "\n",
    "\n",
    " \n",
    "\n",
    "Example:\n",
    "\n",
    "- [0, 2, 3, 0, 0, 1, 0, 5]  ====> [0, 0, 0, 0, 2, 3, 1, 5]\n",
    "\n",
    "- [1, 0, 0, 2, 0, 3] ===> [0, 0, 0, 1, 2, 3]\n",
    "\n",
    "- [0, 0, 0, 0, 0] ==> [0, 0, 0, 0, 0]\n",
    "\n",
    "- [1, 2, 4, 3] ===> [1, 2, 4, 3]\n",
    "\n",
    "- [0, 2, 3, 0, 0, 1, 0, 5, 0] ====>[0, 0, 0, 0, 0, 2, 3, 1, 5]"
   ]
  },
  {
   "cell_type": "code",
   "execution_count": 282,
   "metadata": {},
   "outputs": [
    {
     "name": "stdout",
     "output_type": "stream",
     "text": [
      "[2, 3, 1, 5, 0, 1, 0, 5]\n"
     ]
    }
   ],
   "source": [
    "def move_zeros(a):\n",
    "    # easy way:\n",
    "    # b = np.array(a)\n",
    "    # a[a!=0]\n",
    "    # print([0]*a.count(0) + list(b[b!=0]))\n",
    "    # [0]*a.count(0) + a[a!=0]\n",
    "    cnt = 0\n",
    "    for i, x in enumerate(a):\n",
    "        if x == 0:\n",
    "            cnt +=1\n",
    "        else:\n",
    "            a[i-cnt] = x\n",
    "    print(a)\n",
    "\n",
    "a = [0, 2, 3, 0, 0, 1, 0, 5]\n",
    "move_zeros(a)"
   ]
  },
  {
   "attachments": {},
   "cell_type": "markdown",
   "metadata": {},
   "source": [
    "## moving zero to the end\n",
    "- idea: two points. left pointer points to the first nonzero entry, and let right pointer match forward. Swap left and right pointers if right points to nonzero entry"
   ]
  },
  {
   "cell_type": "code",
   "execution_count": 375,
   "metadata": {},
   "outputs": [
    {
     "data": {
      "text/plain": [
       "[1, 2, 3, 0, 0]"
      ]
     },
     "execution_count": 375,
     "metadata": {},
     "output_type": "execute_result"
    }
   ],
   "source": [
    "def move_zeros_end(a):\n",
    "    # M1: bad. Ensure one pointer always point to a zero location\n",
    "    # zero_loc = -1\n",
    "    # for i, x in enumerate(a):\n",
    "    #     if x == 0 and zero_loc == -1:\n",
    "    #         zero_loc = i\n",
    "    #     elif x != 0 and zero_loc != -1:\n",
    "    #         a[i], a[zero_loc] = a[zero_loc], a[i]\n",
    "    #         zero_loc += 1\n",
    "    # return a\n",
    "\n",
    "    # M2: let left and right pointer points to the same location at the beginning\n",
    "    l = r = 0\n",
    "    for x in a:\n",
    "        if x != 0:\n",
    "            a[l], a[r] = a[r], a[l]\n",
    "            l += 1\n",
    "        r += 1\n",
    "    return a \n",
    "\n",
    "# a=[0,1,0,3,9]\n",
    "# a=[0,1,0,2]\n",
    "# a = [0,1,0,2,1]\n",
    "a = [0,1,2,0,3]\n",
    "move_zeros_end(a)"
   ]
  },
  {
   "attachments": {},
   "cell_type": "markdown",
   "metadata": {},
   "source": [
    "## hourglasses problem\n",
    "- NOTE: the input is python list of lists, it's difficult to get a submatrix with it!\n",
    "\t- if really want, need to do list comprehension...\n",
    "- so, we can just find the value using indexing!"
   ]
  },
  {
   "cell_type": "code",
   "execution_count": 316,
   "metadata": {},
   "outputs": [
    {
     "data": {
      "text/plain": [
       "28"
      ]
     },
     "execution_count": 316,
     "metadata": {},
     "output_type": "execute_result"
    }
   ],
   "source": [
    "# M1: without numpy\n",
    "def cal_sum(a, i, j):\n",
    "    total = 0\n",
    "    for row in range(i, i+3):\n",
    "        for col in range(j, j+3):\n",
    "            if not (row == i+1 and (col == j or col == j+2)):\n",
    "                total += a[row][col]\n",
    "    return total\n",
    "\n",
    "def hourglass_sum(a):\n",
    "    return max(cal_sum(a, i, j) for i in range(4) for j in range(4))\n",
    "\n",
    "# M2: with numpy\n",
    "# def hourglass_sum(a):\n",
    "#     a = np.array(a)\n",
    "#     return max(\n",
    "#         a[i:i+3, j:j+3].sum() - a[i+1,j+0] - a[i+1, j+2] \n",
    "#         for i in range(4) \n",
    "#         for j in range(4)\n",
    "#         )\n",
    "\n",
    "arr=[\n",
    "[-9, -9, -9,  1, 1, 1],\n",
    "[ 0, -9,  0,  4, 3, 2],\n",
    "[-9, -9, -9,  1, 2, 3],\n",
    "[ 0,  0,  8,  6, 6, 0],\n",
    "[ 0,  0,  0, -2, 0, 0],\n",
    "[ 0,  0,  1,  2, 4, 0],\n",
    "]\n",
    "\n",
    "# print(arr)\n",
    "\n",
    "# cal_sum(arr, 1,1)\n",
    "hourglass_sum(arr)"
   ]
  },
  {
   "attachments": {},
   "cell_type": "markdown",
   "metadata": {},
   "source": [
    "## hackerrank: encryption\n",
    "- https://www.hackerrank.com/challenges/encryption/problem"
   ]
  },
  {
   "cell_type": "code",
   "execution_count": 345,
   "metadata": {},
   "outputs": [
    {
     "name": "stdout",
     "output_type": "stream",
     "text": [
      "5\n"
     ]
    },
    {
     "data": {
      "text/plain": [
       "'hel\\nlo'"
      ]
     },
     "execution_count": 345,
     "metadata": {},
     "output_type": "execute_result"
    }
   ],
   "source": [
    "def encryption(s):\n",
    "    s = s.replace(' ', '')\n",
    "    n = len(s)\n",
    "    print(n)\n",
    "    # temp = n**0.5\n",
    "    col = math.ceil(n**0.5)\n",
    "    # if isinstance(temp, int):\n",
    "    #     row = col = temp \n",
    "    # else:\n",
    "    #     row, col = int(temp), int(temp)+1\n",
    "    # print(row, col)\n",
    "    res = []\n",
    "    for i in range(0, len(s), col):\n",
    "        res.append(s[i:col+i])\n",
    "        # res.append('\\n')\n",
    "        # print(s[i:col+i])\n",
    "    # print(res)\n",
    "    return '\\n'.join(res)\n",
    "\n",
    "# s= 'hello world! I love you so much!!'\n",
    "# s='if man was meant to stay on the ground god would have given us roots'\n",
    "s = 'hello'\n",
    "encryption(s)"
   ]
  },
  {
   "cell_type": "code",
   "execution_count": 339,
   "metadata": {},
   "outputs": [
    {
     "name": "stdout",
     "output_type": "stream",
     "text": [
      "27\n"
     ]
    },
    {
     "data": {
      "text/plain": [
       "'holuh eros! llvo! ldem o!yu wIoc'"
      ]
     },
     "execution_count": 339,
     "metadata": {},
     "output_type": "execute_result"
    }
   ],
   "source": [
    "def encryption(s):\n",
    "    s = s.replace(' ','') # remove space\n",
    "    n = len(s) # string length after removing space\n",
    "    print(n)\n",
    "    # rows = int(n**0.5)\n",
    "    n_columns = math.ceil(n**0.5)\n",
    "    \n",
    "    i = 0\n",
    "    res=[]\n",
    "    while i*n_columns <= n:\n",
    "        res.append(s[i*n_columns:(i+1)*n_columns])\n",
    "        i+=1\n",
    "    \n",
    "\n",
    "    output = []\n",
    "    for i in range(n_columns):\n",
    "        for row in res:\n",
    "            try:\n",
    "                output.append(row[i])\n",
    "            except:\n",
    "                pass\n",
    "        output.append(' ')\n",
    "\n",
    "    return ''.join(output[:-1])\n",
    "\n",
    "s= 'hello world! I love you so much!!'\n",
    "encryption(s)"
   ]
  },
  {
   "attachments": {},
   "cell_type": "markdown",
   "metadata": {},
   "source": [
    "# interval problem"
   ]
  },
  {
   "attachments": {},
   "cell_type": "markdown",
   "metadata": {},
   "source": [
    "## disjoint interval\n",
    "- given two intervals `(x1,y1)` and `(x2,y2)`, write a function called `is_overlap` that returns True if the two intervals overlap"
   ]
  },
  {
   "cell_type": "code",
   "execution_count": 66,
   "metadata": {},
   "outputs": [
    {
     "data": {
      "text/plain": [
       "False"
      ]
     },
     "execution_count": 66,
     "metadata": {},
     "output_type": "execute_result"
    },
    {
     "data": {
      "text/plain": [
       "True"
      ]
     },
     "execution_count": 66,
     "metadata": {},
     "output_type": "execute_result"
    },
    {
     "data": {
      "text/plain": [
       "3"
      ]
     },
     "execution_count": 66,
     "metadata": {},
     "output_type": "execute_result"
    }
   ],
   "source": [
    "def is_overlap_helper(i1, i2):\n",
    "    s1, e1 = i1\n",
    "    s2, e2 = i2\n",
    "    # return i1[0] > i2[1] or i2[0] > i1[1]\n",
    "    return not (s2 > e1 or s1 > e2)\n",
    "\n",
    "def overlap(intervals):\n",
    "    # intervals: list of 2-tuples\n",
    "    # for i1 in intervals:\n",
    "    count = 0 \n",
    "    for i in range(len(intervals)):\n",
    "        for j in range(i+1, len(intervals)):\n",
    "            # print(i, j)\n",
    "            count += is_overlap_helper(intervals[i], intervals[j])\n",
    "            \n",
    "    return count\n",
    "\n",
    "i1 = [3,4]\n",
    "i2 = [5, 6]\n",
    "is_overlap_helper(i1, i2)\n",
    "is_overlap_helper(i1, [4,5])\n",
    "overlap((i1, [4,5], [4,6]))"
   ]
  },
  {
   "attachments": {},
   "cell_type": "markdown",
   "metadata": {},
   "source": [
    "# recursion"
   ]
  },
  {
   "attachments": {},
   "cell_type": "markdown",
   "metadata": {},
   "source": [
    "## Fibonacci sequence\n",
    "- f(0) = 0, f(1) = 1"
   ]
  },
  {
   "cell_type": "code",
   "execution_count": 140,
   "metadata": {},
   "outputs": [
    {
     "data": {
      "text/plain": [
       "55"
      ]
     },
     "execution_count": 140,
     "metadata": {},
     "output_type": "execute_result"
    },
    {
     "data": {
      "text/plain": [
       "CacheInfo(hits=8, misses=11, maxsize=None, currsize=11)"
      ]
     },
     "execution_count": 140,
     "metadata": {},
     "output_type": "execute_result"
    }
   ],
   "source": [
    "def fib(n):\n",
    "    # naive\n",
    "    # if n<=1: return n\n",
    "    # return fib(n-2)+fib(n-1)\n",
    "\n",
    "    # M: dynamic programming (aka bottom-up method). Best method. Also, we can retrieve all fib(n), for n=0,1,...\n",
    "    # res=[-1]*(n+1)\n",
    "    # for i in range(0,2): res[i]=i # base case\n",
    "    # for i in range(2, n+1):\n",
    "    #     res[i]=res[i-2]+res[i-1]\n",
    "    # return res, res[n]\n",
    "    \n",
    "    # memoization\n",
    "    memo = [-1]*(n+1)\n",
    "    def fib_helper(n):\n",
    "        if memo[n] == -1: # not yet calculated\n",
    "            memo[n] = fib_helper(n-2) + fib_helper(n-1)\n",
    "        return memo[n]\n",
    "\n",
    "@cache\n",
    "def fib_cache(n):\n",
    "    return n if n <= 1 else fib_cache(n-1) + fib_cache(n-2)\n",
    "    \n",
    "# fibon(10)\n",
    "fib_cache(10)\n",
    "fib_cache.cache_info()\n"
   ]
  },
  {
   "attachments": {},
   "cell_type": "markdown",
   "metadata": {},
   "source": [
    "## tower of Hanoi\n",
    "- given three poles. Move all disks in one pole to another. \n",
    "- Begin with n disks on peg 1. We can transfer the top n − 1 disks, following the rules of the puzzle, to peg 3 using Hn−1 moves (see Figure 3 for an illustration of the pegs and disks at this point).We keep the largest disk fixed during these moves. Then, we use one move to transfer the largest disk to the second peg. Finally, we transfer the n − 1 disks on peg 3 to peg 2 using Hn−1 moves, placing them on top of the largest disk, which always stays fixed on the bottom of peg 2. This shows that we can solve the Tower of Hano puzzle for n disks using 2Hn−1 + 1 moves."
   ]
  },
  {
   "cell_type": "code",
   "execution_count": null,
   "metadata": {},
   "outputs": [],
   "source": [
    "def move(n, source, target, auxiliary):\n",
    "    # move (top) n disks from source to target, using auxiliary\n",
    "    # return the number of steps needed. In fact, we need 2^n -1 steps\n",
    "    if n<=0: return 0\n",
    "    # Move the top n - 1 disks from source to auxiliary, so they are out of the way\n",
    "    step_1=move(n - 1, source, auxiliary, target)\n",
    "\n",
    "    # Move the bottom (the bottom one has index n) disk from source to target\n",
    "    # print(f\"move disk {n} from {source} to {target}\")\n",
    "    target.append(source.pop()) # before pop, source only has the bottom one remaining\n",
    "\n",
    "    # Display our progress\n",
    "    print(f'A = {A}', f'B = {B}', f'C = {C}', '##############', sep='\\n')\n",
    "\n",
    "    # Move the n - 1 disks that we left on auxiliary onto target\n",
    "    step_2=move(n - 1, auxiliary, target, source)\n",
    "\n",
    "    return step_1+1+step_2\n",
    "\n",
    "\n",
    "def move_count(n, source, target, auxiliary):\n",
    "    # count steps only\n",
    "    if n<=0: return 0\n",
    "    return move_count(n - 1, source, auxiliary, target) + 1 + move_count(n - 1, auxiliary, target, source)\n",
    "\n",
    "\n",
    "# Initiate call from source A to target C with auxiliary B\n",
    "n=3\n",
    "A=list(range(n,0, -1)) # A[0] is the bottom, A[-1] is the top\n",
    "B=[]\n",
    "C=[]\n",
    "move(n, A, C, B)\n",
    "# move_count(n, A, C, B)"
   ]
  },
  {
   "attachments": {},
   "cell_type": "markdown",
   "metadata": {},
   "source": [
    "## binary search"
   ]
  },
  {
   "cell_type": "code",
   "execution_count": 30,
   "metadata": {},
   "outputs": [
    {
     "name": "stdout",
     "output_type": "stream",
     "text": [
      "using binary_search...\n",
      "9\n",
      "NOT FOUND\n",
      "NOT FOUND\n",
      "0\n",
      "NOT FOUND\n",
      "using binary_search_iterative...\n",
      "9\n",
      "NOT FOUND\n",
      "NOT FOUND\n",
      "0\n",
      "NOT FOUND\n"
     ]
    }
   ],
   "source": [
    "def binary_search(a, key):\n",
    "    def binary_search_auxiliary(a, key, low, high):\n",
    "        \"\"\"return the index of `key` if found; return \"Not Found\" otherwise\n",
    "            assumes the sequence `a` is sorted.\n",
    "            Search for a[lo] to a[hi] inclusive. \n",
    "\n",
    "        Args:\n",
    "            a (sequence): sequence of numbers\n",
    "            key (int/float): key to search for\n",
    "            low (int): lower index\n",
    "            high (int): upper index\n",
    "\n",
    "        Returns:\n",
    "            int/string: the index of `key`, or `Not Found`\n",
    "        \"\"\"    \n",
    "        if low > high or not a: # not a to deal with empty a \n",
    "            return 'NOT FOUND'\n",
    "        mid = (low + high)//2\n",
    "        if key < a[mid]:\n",
    "            return binary_search_auxiliary(a, key, low, mid-1)\n",
    "        elif key == a[mid]:\n",
    "            return mid\n",
    "        else:\n",
    "            return binary_search_auxiliary(a, key, mid+1, high)\n",
    "    return binary_search_auxiliary(a, key, 0, len(a)-1)\n",
    "\n",
    "def binary_search_iterative(a, key):\n",
    "    low, high = 0, len(a)-1\n",
    "    while low <= high:\n",
    "        mid = (low + high)//2\n",
    "        if key < a[mid]:\n",
    "            high = mid - 1\n",
    "        elif key == a[mid]:\n",
    "            return mid\n",
    "        else: \n",
    "            low = mid + 1\n",
    "    return \"NOT FOUND\"\n",
    "\n",
    "a=[1,2,3,4,5,6,7,8,9,10]\n",
    "for fun in [binary_search, binary_search_iterative]:\n",
    "    print(f\"using {fun.__name__}...\")\n",
    "    print(fun(a, 10))\n",
    "    print(fun(a, 12))\n",
    "    print(fun(a, -1))\n",
    "    print(fun([7], 7))\n",
    "    print(fun([7], 0))"
   ]
  },
  {
   "attachments": {},
   "cell_type": "markdown",
   "metadata": {},
   "source": [
    "## tower of Hanoi"
   ]
  },
  {
   "attachments": {},
   "cell_type": "markdown",
   "metadata": {},
   "source": [
    "## sum by recursion"
   ]
  },
  {
   "cell_type": "code",
   "execution_count": 49,
   "metadata": {},
   "outputs": [
    {
     "name": "stdout",
     "output_type": "stream",
     "text": [
      "10\n",
      "6\n",
      "3\n",
      "1\n"
     ]
    }
   ],
   "source": [
    "def sum_rec(a,n):\n",
    "    \"\"\" n is the number of elements in the array\"\"\"\n",
    "    if n == 0:\n",
    "        return 0\n",
    "    return a[n-1] + sum_rec(a, n-1) # do not return a[-1]! it will always return the last element of the array! \n",
    "sum_rec([1,2,3,4],4)\n",
    "\n",
    "\n",
    "def sum_rec_binary(a, low, high):\n",
    "    # use a binary-search-like algorithm\n",
    "    # seems there is no way to turn it into iterative\n",
    "    # assume input a nonempty\n",
    "    if low > high:\n",
    "        return 0 \n",
    "    mid = (low+high)//2\n",
    "    return sum_rec_binary(a, low, mid-1) + a[mid] + sum_rec_binary(a, mid+1, high)\n",
    "    \n",
    "print(sum_rec_binary([1,2,3,4],0,3))\n",
    "print(sum_rec_binary([1,2,3],0,2))\n",
    "print(sum_rec_binary([1,2],0,1))\n",
    "print(sum_rec_binary([1],0,0))"
   ]
  },
  {
   "attachments": {},
   "cell_type": "markdown",
   "metadata": {},
   "source": [
    "## calculate pow(a,n) by recursion, assuming n is integer\n",
    "fast way to compute power: `a^n = (a^n//2)**2` if `n` is even \n",
    "- 10^9 = (10^4)**2 * 10\n",
    "    - so, when `n` is odd, we do `a**(n//2)**2 * a`\n",
    "- 10^8 = (10^4)**2 \n",
    "    - so, when `n` is even, we do `a**(n//2)`"
   ]
  },
  {
   "cell_type": "code",
   "execution_count": 20,
   "metadata": {},
   "outputs": [
    {
     "name": "stdout",
     "output_type": "stream",
     "text": [
      "1\n",
      "10\n",
      "100\n",
      "1000\n"
     ]
    }
   ],
   "source": [
    "def power(a, n: int):\n",
    "    if n == 0:\n",
    "        return 1 \n",
    "    return a * power(a, n-1)\n",
    "    \n",
    "# print(power(10,0))\n",
    "# print(power(10,1))\n",
    "# print(power(10,2))\n",
    "# print(power(10,3))\n",
    "\n",
    "def power_rec_fast(a,n):\n",
    "    if n == 0:\n",
    "        return 1\n",
    "\n",
    "    # M1\n",
    "    # return (power_rec_fast(a, n//2)**2)*(a**(n%2))\n",
    "\n",
    "    # M2\n",
    "    return power_rec_fast(a, n//2)**2 *(1 if n%2==0 else a)\n",
    "    \n",
    "print(power_rec_fast(10,0))\n",
    "print(power_rec_fast(10,1))\n",
    "print(power_rec_fast(10,2))\n",
    "print(power_rec_fast(10,3))"
   ]
  },
  {
   "attachments": {},
   "cell_type": "markdown",
   "metadata": {},
   "source": [
    "## reverse an array in-place\n",
    "- important: we should use two pointers to control left and right, rather than one, to simplify our code!\n",
    "- note that we have `reversed` function for sequence, but it's non-inplace!"
   ]
  },
  {
   "cell_type": "code",
   "execution_count": 37,
   "metadata": {},
   "outputs": [
    {
     "data": {
      "text/plain": [
       "[3, 2, 1]"
      ]
     },
     "execution_count": 37,
     "metadata": {},
     "output_type": "execute_result"
    },
    {
     "data": {
      "text/plain": [
       "[3, 2, 1]"
      ]
     },
     "execution_count": 37,
     "metadata": {},
     "output_type": "execute_result"
    }
   ],
   "source": [
    "def reverse_array(a, low, high):\n",
    "    # inplace\n",
    "    if low > high:\n",
    "        return \n",
    "    a[low], a[high] = a[high], a[low]\n",
    "    return reverse_array(a, low+1, high-1)\n",
    "\n",
    "    # non-inplace too!\n",
    "    # only need one base case\n",
    "    # if low > high:\n",
    "    #     return []\n",
    "    # return [a[high]] + reverse(a, low, high-1)\n",
    "\n",
    "    # need two base cases...\n",
    "    # if low == high:\n",
    "    #     return [a[high]]\n",
    "    # elif low > high:\n",
    "    #     return []\n",
    "    # return [a[high]] + reverse(a, low+1, high-1) + [a[low]]\n",
    "\n",
    "def reverse_iterative(a):\n",
    "    # M1: consider mid-point. More complicated, because using one pointer only, and so need to calculate index directly!\n",
    "    mid=len(a)//2\n",
    "    for i in range(mid):\n",
    "        # for array index i, its counterpart counting from tail is `-i-1` or `len(n)-1-i`\n",
    "        a[i],a[-i-1]=a[-i-1],a[i]\n",
    "        # a[i],a[n-1-i]=a[n-1-i],a[i]\n",
    "\n",
    "    # M2: Use two points. Much simpler! Good!\n",
    "    i, j = 0, len(a)-1\n",
    "    while i <= j:\n",
    "        a[i], a[j] = a[j], a[i]\n",
    "        i+=1\n",
    "        j-=1\n",
    "    \n",
    "    \n",
    "# a=[1,2,3,4,5,6]\n",
    "a=[1,2,3]\n",
    "# a=[1,2]\n",
    "reverse_iterative(a)\n",
    "a\n",
    "# reverse(a, 0, len(a)-1)\n",
    "\n",
    "a"
   ]
  },
  {
   "attachments": {},
   "cell_type": "markdown",
   "metadata": {},
   "source": [
    "# number theory"
   ]
  },
  {
   "attachments": {},
   "cell_type": "markdown",
   "metadata": {},
   "source": [
    "## check if a is a power of b\n",
    "- check if a=b^k, for some integer k \n",
    "- for this problem, we have two choices: \n",
    "    - start from b, and multiply itself to get close to a\n",
    "    - start from a, and divide it by b \n",
    "- for the second method, it's faster, since we don't need to wait until b grows to a before we can reject it. \n",
    "-  EX: check if a is a power of 2 => check if a=2^k"
   ]
  },
  {
   "cell_type": "code",
   "execution_count": 37,
   "metadata": {},
   "outputs": [
    {
     "data": {
      "text/plain": [
       "2"
      ]
     },
     "execution_count": 37,
     "metadata": {},
     "output_type": "execute_result"
    }
   ],
   "source": [
    "def is_power(a, b):\n",
    "    # check if a is a power of b, i.e., a=b^k, for some integer k \n",
    "    # return k if it is. return -1 if not\n",
    "    # a/b => remove a factor of b from a\n",
    "    # a%b => check if a contains b as a factor \n",
    "    count = 0\n",
    "    while a>1:\n",
    "        if a%b!=0: return False # b is not a factor of a\n",
    "        a/=b\n",
    "        count+=1\n",
    "    return count\n",
    "\n",
    "    # M2: bad. need to wait until b is larger than a...\n",
    "    # check if a = b^k\n",
    "    idx = 0\n",
    "    while b**idx <= a:\n",
    "        if b**idx == a:\n",
    "            return idx\n",
    "        idx+=1\n",
    "    return False \n",
    "is_power(4, 2)"
   ]
  },
  {
   "attachments": {},
   "cell_type": "markdown",
   "metadata": {},
   "source": [
    "## count the number of times a given digit appears in a given integer"
   ]
  },
  {
   "cell_type": "code",
   "execution_count": 110,
   "metadata": {},
   "outputs": [
    {
     "name": "stdout",
     "output_type": "stream",
     "text": [
      "0\n",
      "4\n",
      "1\n"
     ]
    }
   ],
   "source": [
    "def count_digit(x, digit=0):\n",
    "    \"\"\"\n",
    "    count the number of times the digit appears in a number.\n",
    "    Note: if base case is num==0, then we can't deal with count_digit(0,0)!\n",
    "    \"\"\"\n",
    "    \n",
    "    # M1: recursion\n",
    "    # this base case can't deal with count_digit(0,0)!\n",
    "    # if x==0: return 0\n",
    "    \n",
    "    # if x<0: x=-x\n",
    "    # # this base case can deal with count_digit(0,0)!\n",
    "    # if x<10: return int(x==digit)\n",
    "    # return count_digit(x//10, digit) + (x%10==digit)\n",
    "\n",
    "    # M2:\n",
    "    # if x == 0: return int(x == digit)\n",
    "    # res = 0\n",
    "    # while x:\n",
    "    #     res+= (x%10==digit)\n",
    "    #     x//=10\n",
    "    # return res\n",
    "\n",
    "    # M3\n",
    "    return sum(1 for d in str(x) if int(d) == digit)\n",
    "\n",
    "    # M4: use str.count()\n",
    "    # return str(x).count(str(digit))\n",
    "    \n",
    "\n",
    "print(count_digit(123, 4))\n",
    "print(count_digit(123333, 3))\n",
    "print(count_digit(0, 0))"
   ]
  },
  {
   "attachments": {},
   "cell_type": "markdown",
   "metadata": {},
   "source": [
    "## print all perfect n from a to b, inclusive, where n can be any integer "
   ]
  },
  {
   "cell_type": "code",
   "execution_count": 48,
   "metadata": {},
   "outputs": [
    {
     "data": {
      "text/plain": [
       "[1, 4, 9, 16, 25, 36, 49, 64, 81, 100]"
      ]
     },
     "execution_count": 48,
     "metadata": {},
     "output_type": "execute_result"
    }
   ],
   "source": [
    "def print_perfect_n(a, b, n=3):\n",
    "    # M1: use int(x) == x. might experience round-off error!\n",
    "    # return [x for x in range(a, b+1) if int(temp := x**(1/n)) == temp]\n",
    "\n",
    "    # M2: use float().is_integer() method\n",
    "    # return [x for x in range(a, b+1) if pow(x, 1/n).is_integer()]\n",
    "\n",
    "    # M3: recursion\n",
    "    if a>b:\n",
    "        return []\n",
    "    return ([a] if pow(a,1/n).is_integer() else []) + print_perfect_n(a+1,b,n)\n",
    "\n",
    "print_perfect_n(1,100,2)"
   ]
  },
  {
   "attachments": {},
   "cell_type": "markdown",
   "metadata": {},
   "source": [
    "## return the largest digit"
   ]
  },
  {
   "cell_type": "code",
   "execution_count": 71,
   "metadata": {},
   "outputs": [
    {
     "data": {
      "text/plain": [
       "5"
      ]
     },
     "execution_count": 71,
     "metadata": {},
     "output_type": "execute_result"
    }
   ],
   "source": [
    "def largest_digit(x):\n",
    "    # M0\n",
    "    # largest = 0\n",
    "    # while x:\n",
    "    #     if (digit:=x%10) > largest:\n",
    "    #         largest = digit\n",
    "    #     x//=10\n",
    "    # return largest\n",
    "    \n",
    "    # M1: best. find the digits as a list first. then find maximum\n",
    "    # return max(map(int, str(x)))\n",
    "\n",
    "    # M1.5: list comprehension\n",
    "    return max(int(x) for x in str(x))\n",
    "\n",
    "    # M2: recursion\n",
    "    # return 0 if x == 0 else max(x%10, largest_digit(x//10))\n",
    "\n",
    "    # M3: recursion without max function; compatible with C++\n",
    "    # return (\n",
    "    #     0 if x == 0 else \n",
    "    #     temp if (temp:=largest_digit(x//10)) > (last_digit:=x%10) else \n",
    "    #     last_digit\n",
    "    # )\n",
    "\n",
    "largest_digit(12345)"
   ]
  },
  {
   "attachments": {},
   "cell_type": "markdown",
   "metadata": {},
   "source": [
    "## sum of digit to power\n",
    "<!-- find d1^1 + d2^2 + d3^3 +...+dk^k, where n = (d1d2d3...dk) -->\n",
    "find d1^1 + d2^2 +... dk^k, where n = (dk...d1)"
   ]
  },
  {
   "cell_type": "code",
   "execution_count": 83,
   "metadata": {},
   "outputs": [
    {
     "data": {
      "text/plain": [
       "22"
      ]
     },
     "execution_count": 83,
     "metadata": {},
     "output_type": "execute_result"
    }
   ],
   "source": [
    "def sum_digit_to_power(n):\n",
    "    # i, res = 1, 0 \n",
    "    # while n:\n",
    "    #     res += (n%10)**i\n",
    "    #     i+=1\n",
    "    #     n//=10\n",
    "    # return res \n",
    "    \n",
    "    # M2\n",
    "    n_digits = len(str(n))\n",
    "    res = 0 \n",
    "    for i in range(1, n_digits+1):\n",
    "        res += (n%10)**i\n",
    "        n//=10\n",
    "    return res \n",
    "\n",
    "sum_digit_to_power(1234)"
   ]
  },
  {
   "attachments": {},
   "cell_type": "markdown",
   "metadata": {},
   "source": [
    "## find gcd\n",
    "- `gcd(a, b) = gcd(b, a%b)` => need to have b > a to take effect \n",
    "- NOTE: `if a > b, then gcd(a,b) = gcd(b, b%a) = gcd(b,a)`!\n",
    "- gcd(a, 0) = a"
   ]
  },
  {
   "cell_type": "code",
   "execution_count": 28,
   "metadata": {},
   "outputs": [
    {
     "data": {
      "text/plain": [
       "1"
      ]
     },
     "execution_count": 28,
     "metadata": {},
     "output_type": "execute_result"
    }
   ],
   "source": [
    "def gcd(a,b):\n",
    "    # naive method\n",
    "    # cur = 1\n",
    "    # for i in range(2, min(a,b)+1):\n",
    "    #     if a % i == b % i == 0:\n",
    "    #         cur = i\n",
    "    # return cur \n",
    "    \n",
    "    # print(a, b)\n",
    "    # works even for a > b!\n",
    "    \n",
    "    # we need to check `b` because after one function call, b will decrease!\n",
    "    # if gcd(0, 12) => gcd(12, 0) => 12\n",
    "    if b == 0: # no need for a == 0!\n",
    "        return a\n",
    "    return gcd(b, a%b) # need a >= b to take effect\n",
    "\n",
    "gcd(3,5)"
   ]
  },
  {
   "attachments": {},
   "cell_type": "markdown",
   "metadata": {},
   "source": [
    "## sum of odd digits - sum of even digits\n",
    "compute the difference between the sum of values of all odd digits and the sum of values of all even digits. Assume that input x is nonnegative integer"
   ]
  },
  {
   "cell_type": "code",
   "execution_count": 7,
   "metadata": {},
   "outputs": [
    {
     "data": {
      "text/plain": [
       "3"
      ]
     },
     "execution_count": 7,
     "metadata": {},
     "output_type": "execute_result"
    }
   ],
   "source": [
    "def diff_odd_and_even(x):\n",
    "    # M1: calculate sum_odd and sum_even first. Bad, since we don't need to know their respective sum in order to solve this problem\n",
    "    # sum_odd = 0\n",
    "    # sum_even = 0\n",
    "    # while x:\n",
    "    #     digit = x%10\n",
    "    #     if digit%2 == 0:\n",
    "    #         sum_even += digit\n",
    "    #     else:\n",
    "    #         sum_odd += digit\n",
    "    #     x //= 10\n",
    "    # return sum_odd, sum_even\n",
    "\n",
    "    # M2: recursion\n",
    "    if x == 0:\n",
    "        return 0\n",
    "    digit = x%10\n",
    "    return diff_odd_and_even(x//10) + (digit if digit%2!=0 else -digit)\n",
    "\n",
    "    # M3: while loop\n",
    "    # res = 0\n",
    "    # while x:\n",
    "    #     digit = x%10\n",
    "    #     res += (-digit if digit%2==0 else digit)\n",
    "    #     x//=10\n",
    "    # return res\n",
    "\n",
    "    # M4: recursive one-liner\n",
    "    # return 0 if x==0 else diff_odd_and_even(x//10) + (last_digit if (last_digit:=x%10)%2 else -last_digit )\n",
    "\n",
    "x = 12345\n",
    "diff_odd_and_even(x)\n"
   ]
  },
  {
   "attachments": {},
   "cell_type": "markdown",
   "metadata": {},
   "source": [
    "## prime number problems\n",
    "- a number $n\\ge 2$ is prime if n is divisible by 1 and itself only\n",
    "- to do the checking, we can check first all numbers x for $x\\le \\sqrt{n}$, and if none are factor of $n$, then $n$ is prime   \n",
    "    - since otherwise, if $n$ only has factor $\\gt \\sqrt{n}$, then the product of the two prime $ > n$"
   ]
  },
  {
   "cell_type": "code",
   "execution_count": 119,
   "metadata": {},
   "outputs": [
    {
     "data": {
      "text/plain": [
       "[True, True, True, False, True, False, False]"
      ]
     },
     "execution_count": 119,
     "metadata": {},
     "output_type": "execute_result"
    },
    {
     "name": "stdout",
     "output_type": "stream",
     "text": [
      "True True True\n",
      "False\n",
      "[3, 7]\n"
     ]
    }
   ],
   "source": [
    "def is_prime(n: int):\n",
    "    # M1: by def\n",
    "    # return all(n%i !=0 for i in range(2, n-2))\n",
    "    \n",
    "    # M2: by shortcut\n",
    "    # if n in [2,3]: return True\n",
    "    return all(n%i !=0 for i in range(2, floor(n**0.5)+1))\n",
    "    \n",
    "\n",
    "def exist_prime(t: list):\n",
    "    return any(map(is_prime, t)) # use maps\n",
    "    # return any(is_prime(x) for x in t) # use list comprehension\n",
    "\n",
    "\n",
    "def list_of_prime(n):\n",
    "    return [i for i in range(2, n+1) if is_prime(i)]\n",
    "\n",
    "def return_prime(t: list):\n",
    "    return [x for x in t if is_prime(x)]\n",
    "\n",
    "list(map(is_prime, [5,2,1,10, 13, 77, 4])) \n",
    "print(is_prime(5),is_prime(2),is_prime(1)) # True True True\n",
    "print(exist_prime([10,12,14])) # False\n",
    "print(return_prime([10,12,14,3,7])) # [3,7]"
   ]
  },
  {
   "attachments": {},
   "cell_type": "markdown",
   "metadata": {},
   "source": [
    "## prime factorization"
   ]
  },
  {
   "cell_type": "code",
   "execution_count": 120,
   "metadata": {},
   "outputs": [
    {
     "data": {
      "text/plain": [
       "[2, 3, 5, 7, 11]"
      ]
     },
     "execution_count": 120,
     "metadata": {},
     "output_type": "execute_result"
    }
   ],
   "source": [
    "list_of_prime(12)\n",
    "\n",
    "# is_prime(2)\n",
    "# n = 2\n",
    "# ceil(n**0.5)+1"
   ]
  },
  {
   "cell_type": "code",
   "execution_count": 129,
   "metadata": {},
   "outputs": [
    {
     "data": {
      "text/plain": [
       "[3, 3, 3, 37]"
      ]
     },
     "execution_count": 129,
     "metadata": {},
     "output_type": "execute_result"
    }
   ],
   "source": [
    "def prime_factorize(n):\n",
    "    factors = []\n",
    "    all_primes = list_of_prime(n)\n",
    "    i = 0\n",
    "    while n!=1:\n",
    "        prime = all_primes[i]\n",
    "        # print(prime)\n",
    "        while n%prime == 0:\n",
    "            factors.append(prime)\n",
    "            n//=prime\n",
    "        i+=1\n",
    "    return factors\n",
    "\n",
    "prime_factorize(999)\n",
    "    "
   ]
  },
  {
   "attachments": {},
   "cell_type": "markdown",
   "metadata": {},
   "source": [
    "## find all factors of an integer\n",
    "notice that if q is a factor of n, then n=qk, and k = n/q. So, when we have found the factor q, we can find another factor k too! Since when we write n=qk, either q or k must be less than or equal to sqrt(n), we can just use a for loop from 1 to sqrt(n)"
   ]
  },
  {
   "cell_type": "code",
   "execution_count": 273,
   "metadata": {},
   "outputs": [
    {
     "name": "stdout",
     "output_type": "stream",
     "text": [
      "[1, 3, 9]\n"
     ]
    },
    {
     "data": {
      "text/plain": [
       "[1, 2, 617, 1234]"
      ]
     },
     "execution_count": 273,
     "metadata": {},
     "output_type": "execute_result"
    }
   ],
   "source": [
    "def factors(n):\n",
    "    # Important: we need to take care of the case when n is perfect square! Then n = a**2 => added `a` twice to our result!\n",
    "    \n",
    "    # M1: use set\n",
    "    # res = set()\n",
    "    # for i in range(1, int(n**0.5)+1):\n",
    "    #     if n % i == 0: # i is a factor\n",
    "    #         res = res.union([i, n//i]) # can use n/i, but this will return a float, not an int!\n",
    "    # return sorted(res)\n",
    "\n",
    "    # M2: use list\n",
    "    res=[]\n",
    "    for i in range(1,int(n**0.5)+1):\n",
    "        if n%i==0: # in each step, return two factors, because n = i*q, where q=n//i. Be careful: if n is perfect square, we have the pair (i,i)! \n",
    "            res.append(i)\n",
    "            if n//i != i: res.append(n//i) # the if case is to deal with perfect squares\n",
    "    return sorted(res)\n",
    "    \n",
    "def factors_gen(n):\n",
    "  for i in range(1,int(n**0.5)+1):\n",
    "    if n%i==0:\n",
    "      yield i\n",
    "      if n//i != i: yield n//i # the if case is to deal with factors(1)\n",
    "      \n",
    "print(factors(9)) # [1, 3, 9]\n",
    "factors(1234)"
   ]
  },
  {
   "attachments": {},
   "cell_type": "markdown",
   "metadata": {},
   "source": [
    "## number base conversion"
   ]
  },
  {
   "cell_type": "code",
   "execution_count": 99,
   "metadata": {},
   "outputs": [
    {
     "data": {
      "text/plain": [
       "'7B'"
      ]
     },
     "execution_count": 99,
     "metadata": {},
     "output_type": "execute_result"
    }
   ],
   "source": [
    "def convert_to_binary(n):\n",
    "    # if n==0: return ''\n",
    "    # return convert_to_binary(n//2) + str(n%2)\n",
    "    if n<=1: return str(n)\n",
    "    return convert_to_binary(n//2) + str(n%2)\n",
    "\n",
    "def convert_to_hex(n):\n",
    "    mapping = '0123456789ABCDEF'\n",
    "    # print(len(mapping))\n",
    "    if n<=15: return mapping[n]\n",
    "    return convert_to_hex(n//16) + mapping[n%16]\n",
    "\n",
    "def convert_to_10(n, a):\n",
    "    pass \n",
    "\n",
    "convert_to_binary(4)\n",
    "convert_to_hex(123)\n",
    "    \n",
    "    "
   ]
  },
  {
   "cell_type": "code",
   "execution_count": 162,
   "metadata": {},
   "outputs": [
    {
     "data": {
      "text/plain": [
       "61"
      ]
     },
     "execution_count": 162,
     "metadata": {},
     "output_type": "execute_result"
    },
    {
     "data": {
      "text/plain": [
       "10001100001"
      ]
     },
     "execution_count": 162,
     "metadata": {},
     "output_type": "execute_result"
    },
    {
     "data": {
      "text/plain": [
       "155"
      ]
     },
     "execution_count": 162,
     "metadata": {},
     "output_type": "execute_result"
    }
   ],
   "source": [
    "def convert_to_10(n, a):\n",
    "    # `a` is the base that `n` is in\n",
    "    # e.g., n = 110011, a = 2, then => 51\n",
    "    assert n%10<=a-1 and n>=0\n",
    "    if n==0: return 0\n",
    "    return convert_to_10(n//10, a)*a+ n%10\n",
    "\n",
    "def ten_to_other_base(n,a):\n",
    "    # convert to base a\n",
    "    if n==0: return ''\n",
    "    return int(str(ten_to_other_base(n//a, a)) + str(n%a)) # we need int because for base case, it expects n to be int!\n",
    "    # print(n%a, end='')\n",
    "\n",
    "def convert(n,a,b):\n",
    "    return ten_to_other_base(convert_to_10(n, a), b)\n",
    "\n",
    "convert_to_10(111101,2)\n",
    "ten_to_other_base(1121, 2)\n",
    "convert(1101101, 2, 8)"
   ]
  },
  {
   "attachments": {},
   "cell_type": "markdown",
   "metadata": {},
   "source": [
    "## digit distribution"
   ]
  },
  {
   "cell_type": "code",
   "execution_count": 90,
   "metadata": {},
   "outputs": [
    {
     "data": {
      "text/plain": [
       "{5: 1, 4: 1, 3: 1, 2: 1, 1: 1}"
      ]
     },
     "execution_count": 90,
     "metadata": {},
     "output_type": "execute_result"
    }
   ],
   "source": [
    "def digit_dist(x):\n",
    "    # M1: convert to string, then use Counter\n",
    "    # return Counter(str(x))\n",
    "    \n",
    "    # M2: this method will show digits with 0 frequency!\n",
    "    # res = [0]*10\n",
    "    # while x:\n",
    "    #     res[x%10]+=1\n",
    "    #     x//=10\n",
    "    # return dict(zip(range(10), res)) \n",
    "    \n",
    "    # M3: traditional\n",
    "    res = {}\n",
    "    while x:\n",
    "        res[last] = res.get(last:= x%10, 0) + 1\n",
    "        x//=10\n",
    "    return res\n",
    "\n",
    "digit_dist(12345)"
   ]
  },
  {
   "attachments": {},
   "cell_type": "markdown",
   "metadata": {},
   "source": [
    "## count number of unique digits in an integer"
   ]
  },
  {
   "cell_type": "code",
   "execution_count": 21,
   "metadata": {},
   "outputs": [
    {
     "data": {
      "text/plain": [
       "3"
      ]
     },
     "execution_count": 21,
     "metadata": {},
     "output_type": "execute_result"
    },
    {
     "data": {
      "text/plain": [
       "5"
      ]
     },
     "execution_count": 21,
     "metadata": {},
     "output_type": "execute_result"
    }
   ],
   "source": [
    "def count_unique_digits(n):\n",
    "    # M1: convert to string\n",
    "    # return len(set(str(n)))\n",
    "    \n",
    "    # M2: use set\n",
    "    # deal with base case where n = 0 \n",
    "    # remember, if n=0, we should return 1, instead of 0!\n",
    "    # res = set() if n != 0 else {0}\n",
    "    # while n:\n",
    "    #     res.add(n%10)\n",
    "    #     n//=10\n",
    "    # return len(res)\n",
    "\n",
    "    # M3: use list, and check whether a digit is already in the list before append\n",
    "    res = [] if n != 0 else [0]\n",
    "    while n:\n",
    "        if (d:=n%10) not in res:\n",
    "            res.append(d)\n",
    "        n//=10\n",
    "    return len(res)\n",
    "\n",
    "n = 123112\n",
    "# n = 0\n",
    "count_unique_digits(n)\n",
    "count_unique_digits(123451122131) # 5"
   ]
  },
  {
   "attachments": {},
   "cell_type": "markdown",
   "metadata": {},
   "source": [
    "## number of digits"
   ]
  },
  {
   "cell_type": "code",
   "execution_count": 207,
   "metadata": {},
   "outputs": [
    {
     "name": "stdout",
     "output_type": "stream",
     "text": [
      "n_digits(12345) = 5\n",
      "n_digits(100) = 3\n",
      "n_digits(10) = 2\n",
      "n_digits(1) = 1\n",
      "n_digits(0) = 1\n"
     ]
    }
   ],
   "source": [
    "def n_digits(x):\n",
    "    # M1: recursion\n",
    "    # if x<0: return n_digits(-x)\n",
    "    # if x < 10: return 1\n",
    "    # return 1 + n_digits(x//10)\n",
    "\n",
    "    # M2: log.\n",
    "    # log(10^3) = 3 => log(x) = 3, if 10^3<=x<10^4 => x is a 4 digit number\n",
    "    return int(np.log10(abs(x))+1) if x !=0 else 1 # or, int(np.log10(abs(x)))+1\n",
    "    \n",
    "    # M3: while loop\n",
    "    # ans = 1\n",
    "    # x = abs(x)\n",
    "    # while x > 9:\n",
    "    #     ans += 1\n",
    "    #     x//=10\n",
    "    # return ans\n",
    "    \n",
    "    # M4: convert to string first\n",
    "    return len(str(abs(x)))\n",
    "\n",
    "for x in [12345, 100, 10, 1, 0]:\n",
    "    print(f\"n_digits({x}) = {n_digits(x)}\")"
   ]
  },
  {
   "attachments": {},
   "cell_type": "markdown",
   "metadata": {},
   "source": [
    "## find nth digit\n",
    "- Note that the rightmost digit is defined to be the first digit\n",
    "- def: we are treating the rightmost digit as the first digit.\n",
    "- logic: we know `n%10` => 1st digit. So, n//10%10 => 2th digit. So, in general, `n//10**(i-1)%10 to get ith digit`"
   ]
  },
  {
   "cell_type": "code",
   "execution_count": 69,
   "metadata": {},
   "outputs": [
    {
     "data": {
      "text/plain": [
       "6"
      ]
     },
     "execution_count": 69,
     "metadata": {},
     "output_type": "execute_result"
    },
    {
     "data": {
      "text/plain": [
       "5"
      ]
     },
     "execution_count": 69,
     "metadata": {},
     "output_type": "execute_result"
    },
    {
     "data": {
      "text/plain": [
       "4"
      ]
     },
     "execution_count": 69,
     "metadata": {},
     "output_type": "execute_result"
    },
    {
     "data": {
      "text/plain": [
       "3"
      ]
     },
     "execution_count": 69,
     "metadata": {},
     "output_type": "execute_result"
    },
    {
     "data": {
      "text/plain": [
       "2"
      ]
     },
     "execution_count": 69,
     "metadata": {},
     "output_type": "execute_result"
    },
    {
     "data": {
      "text/plain": [
       "1"
      ]
     },
     "execution_count": 69,
     "metadata": {},
     "output_type": "execute_result"
    }
   ],
   "source": [
    "def nth_digit(n, i):\n",
    "    # recursion\n",
    "    # if i == 1:\n",
    "    #     return n%10\n",
    "    # return nth_digit(n//10, i-1)\n",
    "\n",
    "    # while loop\n",
    "    # while i != 1:\n",
    "    #     n //= 10\n",
    "    #     i -= 1\n",
    "    # return n%10\n",
    "\n",
    "    # convert to string\n",
    "    # return int(str(n)[-i])\n",
    "\n",
    "    # direct formula. fastest\n",
    "    # the rightmost digit is with index 1\n",
    "    # think: \n",
    "        # n%10 get 1st digit\n",
    "        # (n//10)%10 get 2nd digit\n",
    "        # (n//10**2)%10 get 3nd digit\n",
    "    return (n // (10**(i-1))) % 10\n",
    "\n",
    "x = 123456\n",
    "for i in range(1, n_digits(x)+1):\n",
    "    nth_digit(x, i)"
   ]
  },
  {
   "attachments": {},
   "cell_type": "markdown",
   "metadata": {},
   "source": [
    "## remove leftmost digit"
   ]
  },
  {
   "cell_type": "code",
   "execution_count": null,
   "metadata": {},
   "outputs": [],
   "source": [
    "def remove_leftmost_digit(n):\n",
    "    # this strategy can't generalize to \"remove k_th digit\"\n",
    "    # EG: 1234 => 1234-200= 1034 =/= 134\n",
    "    n_digits=int(np.log10(n))+1\n",
    "    leftmost_digit = n//10**(n_digits-1)%10\n",
    "    return n - leftmost_digit*10**(n_digits-1)\n",
    "\n",
    "remove_leftmost_digit(9234) # 234\n",
    "remove_leftmost_digit(1234) # 234"
   ]
  },
  {
   "attachments": {},
   "cell_type": "markdown",
   "metadata": {},
   "source": [
    "## remove nth digit"
   ]
  },
  {
   "cell_type": "code",
   "execution_count": 79,
   "metadata": {},
   "outputs": [
    {
     "data": {
      "text/plain": [
       "124"
      ]
     },
     "execution_count": 79,
     "metadata": {},
     "output_type": "execute_result"
    }
   ],
   "source": [
    "def remove_nth_digit(n, i):\n",
    "    # M1: convert to string, then using slicing to exclude the given digit index\n",
    "    # s = str(n)\n",
    "    # i_reverse = len(s) - i \n",
    "    # return s[:i_reverse] + s[i_reverse+1:]\n",
    "\n",
    "    # M2: convert to string, then to list to use pop methdod\n",
    "    res = list(str(n))\n",
    "    res.pop(-i)\n",
    "    return int(''.join(res))\n",
    "\n",
    "remove_nth_digit(1234, 2)"
   ]
  },
  {
   "attachments": {},
   "cell_type": "markdown",
   "metadata": {},
   "source": [
    "## Armstrong number\n",
    "- 1634 is Armstrong, since `1634=1^4+6^4+3^4+4^4`, where `4` is # digits\n",
    "- in `res+=(n%10)**n_digits`, remember the parenthesis is necessary!!"
   ]
  },
  {
   "cell_type": "code",
   "execution_count": 133,
   "metadata": {},
   "outputs": [
    {
     "data": {
      "text/plain": [
       "[1, 2, 3, 4, 5, 6, 7, 8, 9, 153, 370, 371, 407, 1634, 8208, 9474]"
      ]
     },
     "execution_count": 133,
     "metadata": {},
     "output_type": "execute_result"
    }
   ],
   "source": [
    "def is_armstrong(n):\n",
    "    # M1: standard\n",
    "    # n_cpy = n\n",
    "    # n_digits = len(str(n))\n",
    "    # res = 0\n",
    "    # while n:\n",
    "    #     res += (n%10)**n_digits\n",
    "    #     n//=10\n",
    "    # return res == n_cpy\n",
    "    \n",
    "    # M2: convert the digits as a list first\n",
    "    # digits = np.array([int(digit) for digit in str(n)])\n",
    "    # return np.sum(digits**len(digits)) == n \n",
    "\n",
    "    # M3: without np\n",
    "    digits = [int(digit) for digit in str(n)]\n",
    "    return sum(digit**len(digits) for digit in digits) == n\n",
    "\n",
    "def armstrong(lower=0,upper=100):\n",
    "    if lower>upper: lower,upper=upper,lower\n",
    "    return [i for i in range(lower, upper+1) if is_armstrong(i)]\n",
    "\n",
    "# is_armstrong(1634)\n",
    "armstrong(1, 10000)\n"
   ]
  },
  {
   "attachments": {},
   "cell_type": "markdown",
   "metadata": {},
   "source": [
    "## reverse of an integer\n",
    "- note that we don't need to use power! we can multiply the result by 10 each time we iterate!\n",
    "- this is different from reversing a string, since the input is integer!\n",
    "\n",
    "- M1 (bad):  \n",
    "`12345 = 5*10^0 + 4*10^1 + 3*10^2 + 2*10^3 + 1*10^4`  \n",
    "`54321 = 1*10^0 + ....`\n",
    "\n",
    "- M2 (good):\n",
    "`res = res*10 + x%10`"
   ]
  },
  {
   "cell_type": "code",
   "execution_count": 6,
   "metadata": {},
   "outputs": [
    {
     "data": {
      "text/plain": [
       "4321"
      ]
     },
     "execution_count": 6,
     "metadata": {},
     "output_type": "execute_result"
    }
   ],
   "source": [
    "def reverse_num(x):\n",
    "    n_digits = int(np.log10(abs(x))) + 1 if x !=0 else 1\n",
    "    res = 0\n",
    "    \n",
    "    # M1: bad. use complicated method to find power index \n",
    "    # for i in range(1, n_digits+1):\n",
    "    #     res += (x%10) * (10**(n_digits-i))\n",
    "    #     x //= 10 \n",
    "    \n",
    "    # M2: choose a more understandable range to iterate\n",
    "    # for i in range(n_digits-1, -1, -1):\n",
    "    #     res += (x%10) * (10**i)\n",
    "    #     x //= 10 \n",
    "    \n",
    "    # M3: improved M2, with while. We should remember this strategy by heart! very often we don't need to know the number of digits of a number to begin with!!!\n",
    "    # while x != 0:\n",
    "    #     res = res*10 + x%10\n",
    "    #     x //= 10\n",
    "    # return res\n",
    "    \n",
    "    # M4: change to string first, then get the reverse by [::-1], and finally change the string to int by int() constructor \n",
    "    return int(str(x)[::-1])\n",
    "\n",
    "reverse_num(1234)\n",
    "# reverse_num(1)\n",
    "# reverse_num(12)\n",
    "# reverse_num(3)"
   ]
  },
  {
   "attachments": {},
   "cell_type": "markdown",
   "metadata": {},
   "source": [
    "# dynamic programming"
   ]
  },
  {
   "attachments": {},
   "cell_type": "markdown",
   "metadata": {},
   "source": [
    "## dynamic programming to compute probability mass function\n",
    "<!-- - $P(X=k+1) = \\frac{p}{1-p}\\frac{n-k}{k+1}P(X=k)$ -->\n",
    "- $P_k = \\frac{p}{1-p}\\frac{n-k+1}{k}P_{k-1}$, for $X\\sim B(np)$\n",
    "- $P_k = \\frac{\\lambda}{k}P_{k-1}$, for $X\\sim poi(\\lambda)$\n",
    "- $P_k = qP_{k-1}$, for $X\\sim geo(p)$\n",
    "- $P_k = \\frac{k-1}{k-r}qP_{k-1}$, for $X\\sim \\text{negbinom}(p, r)$"
   ]
  },
  {
   "cell_type": "code",
   "execution_count": null,
   "metadata": {},
   "outputs": [
    {
     "data": {
      "text/plain": [
       "0.9999999999999988"
      ]
     },
     "metadata": {},
     "output_type": "display_data"
    },
    {
     "data": {
      "text/plain": [
       "0.9997076630493527"
      ]
     },
     "metadata": {},
     "output_type": "display_data"
    },
    {
     "data": {
      "text/plain": [
       "0.9999999820153496"
      ]
     },
     "metadata": {},
     "output_type": "display_data"
    },
    {
     "data": {
      "text/plain": [
       "0.9999900954301846"
      ]
     },
     "metadata": {},
     "output_type": "display_data"
    }
   ],
   "source": [
    "# --------------------------------- binomial --------------------------------- #\n",
    "n = 30\n",
    "p = 0.3\n",
    "q = 1-p\n",
    "prob = [0]*(n+1)\n",
    "prob[0] = q**n\n",
    "for i in range(1, n+1):\n",
    "    # prob[i] = p/q * (n-(i-1))/((i-1)+1) * prob[i-1]\n",
    "    prob[i] = p/q * (n-i+1)/i * prob[i-1]\n",
    "# prob    \n",
    "sum(prob)\n",
    "\n",
    "# ---------------------------------- poisson --------------------------------- #\n",
    "n = 10\n",
    "lam = 3\n",
    "prob = [0]*(n+1)\n",
    "prob[0] = np.exp(-lam)\n",
    "for i in range(1, n+1):\n",
    "    prob[i] = lam/i * prob[i-1]\n",
    "# prob    \n",
    "sum(prob)\n",
    "\n",
    "# --------------------------------- geometric -------------------------------- #\n",
    "n = 50\n",
    "p = 0.3\n",
    "prob = [0]*(n+1)\n",
    "prob[1] = 0.3\n",
    "for i in range(2, n+1):\n",
    "    prob[i] = (1-p)* prob[i-1]\n",
    "sum(prob)\n",
    "\n",
    "# ---------------------------- negative binominal ---------------------------- #\n",
    "n = 60\n",
    "p = 0.3\n",
    "r = 5\n",
    "prob = [0]*(n+1)\n",
    "prob[r] = p**r\n",
    "for i in range(r+1, n+1):\n",
    "    prob[i] = (i-1)/(i-r)*(1-p)* prob[i-1]\n",
    "sum(prob)"
   ]
  },
  {
   "attachments": {},
   "cell_type": "markdown",
   "metadata": {},
   "source": [
    "## binomial coefficient calculation\n",
    "- if we use the formula $\\binom{n}{r} = \\binom{n-1}{r-1} + \\binom{n-1}{r}$, then we have overlapping subproblems, and so need to use dynamic programming\n",
    "- if we use the formula $\\binom{n}{r} = \\frac{n}{r} \\binom{n-1}{r-1}$, then there is no overlapping subproblems!"
   ]
  },
  {
   "cell_type": "code",
   "execution_count": 2,
   "metadata": {},
   "outputs": [
    {
     "data": {
      "text/plain": [
       "2429608192173745103270389838576750719302222606198631438800"
      ]
     },
     "execution_count": 2,
     "metadata": {},
     "output_type": "execute_result"
    },
    {
     "data": {
      "text/plain": [
       "CacheInfo(hits=28101, misses=30100, maxsize=None, currsize=30100)"
      ]
     },
     "execution_count": 2,
     "metadata": {},
     "output_type": "execute_result"
    }
   ],
   "source": [
    "@cache\n",
    "def binomial(n,r):\n",
    "    if r == 0 or r == n:\n",
    "        return 1\n",
    "    assert n >= r\n",
    "    return binomial(n-1, r-1) + binomial(n-1, r)\n",
    "    \n",
    "    # in fact, no need to use dynamic programming, since we have another formula\n",
    "    # return n/r* binomial(n-1, r-1)\n",
    "\n",
    "binomial(1000, 30)\n",
    "binomial.cache_info()"
   ]
  },
  {
   "attachments": {},
   "cell_type": "markdown",
   "metadata": {},
   "source": [
    "## rod cutting"
   ]
  },
  {
   "cell_type": "code",
   "execution_count": 31,
   "metadata": {},
   "outputs": [
    {
     "data": {
      "text/plain": [
       "30"
      ]
     },
     "execution_count": 31,
     "metadata": {},
     "output_type": "execute_result"
    },
    {
     "data": {
      "text/plain": [
       "CacheInfo(hits=45, misses=11, maxsize=None, currsize=11)"
      ]
     },
     "execution_count": 31,
     "metadata": {},
     "output_type": "execute_result"
    }
   ],
   "source": [
    "@cache\n",
    "def rod_cut(price):\n",
    "    # print(price)\n",
    "    \n",
    "    n = len(price)\n",
    "    \n",
    "    # ------------------------ this base case not needed! ------------------------ #\n",
    "    # if (n:=len(price)) == 1:\n",
    "    #     return price[0]\n",
    "    # ---------------------------------------------------------------------------- #\n",
    "    if n == 0:\n",
    "        return 0 \n",
    "    \n",
    "    return max(price[i] + rod_cut(price[:-(i+1)]) for i in range(0, n))\n",
    "\n",
    "    # ----------------- another version that requires n as input ----------------- #\n",
    "    # print(price)\n",
    "    # if n == 0:\n",
    "    #     return 0\n",
    "    \n",
    "    # return max(price[i] + rod_cut(n-(i+1), price) for i in range(0, n))\n",
    "# ---------------------------------------------------------------------------- #\n",
    "\n",
    "# price = np.random.random(1000)\n",
    "price = [1,5,8,9,10,17,17,20,24,30]\n",
    "# price = [1]\n",
    "\n",
    "rod_cut(tuple(price))\n",
    "rod_cut.cache_info()\n",
    "    \n",
    "    "
   ]
  },
  {
   "attachments": {},
   "cell_type": "markdown",
   "metadata": {},
   "source": [
    "## change making\n",
    "- idea: res[i,j] = using coins[:i], minimum # coins summing to j\n",
    "    - optimal solution either use coins[i-1] or not\n",
    "- `res[i,j] = min(res[i-1, j], res[i, j-w[i-1]]+1)`"
   ]
  },
  {
   "cell_type": "code",
   "execution_count": 19,
   "metadata": {},
   "outputs": [
    {
     "data": {
      "text/plain": [
       "2"
      ]
     },
     "execution_count": 19,
     "metadata": {},
     "output_type": "execute_result"
    },
    {
     "data": {
      "text/plain": [
       "CacheInfo(hits=49963, misses=99099, maxsize=None, currsize=99099)"
      ]
     },
     "execution_count": 19,
     "metadata": {},
     "output_type": "execute_result"
    }
   ],
   "source": [
    "@cache\n",
    "def change_making(c,w):\n",
    "    # print(c, w)\n",
    "    if len(c) == 0 and w != 0:\n",
    "        return np.inf\n",
    "    elif w == 0:\n",
    "        return 0\n",
    "    \n",
    "    if w >= c[-1]:\n",
    "        return min(\n",
    "            change_making(c[:-1], w),\n",
    "            change_making(c, w-c[-1]) + 1\n",
    "            )\n",
    "    else:\n",
    "        return change_making(c[:-1], w)\n",
    "\n",
    "# c=[6,4,1,3,2,7]\n",
    "c=np.random.randint(1, 100, 1000)\n",
    "# c=[6,4,1]\n",
    "w=100\n",
    "change_making(tuple(c), w)\n",
    "change_making.cache_info()"
   ]
  },
  {
   "attachments": {},
   "cell_type": "markdown",
   "metadata": {},
   "source": [
    "## matrix chain\n",
    "- d[0,1] = matrix size of matrix 0\n",
    "- d[1,2] = matrix size of matrix 1\n",
    "- d[i,i+1] = matrix size of matrix i "
   ]
  },
  {
   "cell_type": "code",
   "execution_count": null,
   "metadata": {},
   "outputs": [],
   "source": [
    "def matrix_chain(d):\n",
    "    min(matrix_chain(d[:k]) + matrix_chain(d[k+1:]) + d[0] for k in range(0, len(d)))\n",
    "    "
   ]
  },
  {
   "attachments": {},
   "cell_type": "markdown",
   "metadata": {},
   "source": [
    "## maximum subarray"
   ]
  },
  {
   "cell_type": "code",
   "execution_count": 66,
   "metadata": {},
   "outputs": [
    {
     "data": {
      "text/plain": [
       "23"
      ]
     },
     "execution_count": 66,
     "metadata": {},
     "output_type": "execute_result"
    }
   ],
   "source": [
    "def max_subarray(a):\n",
    "    # if len(a) == 1:\n",
    "    #     return max(0, a[0])\n",
    "    # return max(max_subarray(a[:-1]), max_subarray(a[:-1]) + a[-1])\n",
    "    \n",
    "    # if len(a) == 0:\n",
    "    #     return 0 \n",
    "    # elif len(a) == 1:\n",
    "    #     return a[0]\n",
    "    # n = len(a)\n",
    "    # return max(max(max_subarray(a[:i])+a[i], a[i]) for i in range(n))\n",
    "    \n",
    "    # b = [np.inf]*len(a)\n",
    "    # b[0] = a[0]\n",
    "    # for i in range(1, len(a)):\n",
    "    #     b[i] = max(b[i-1] + a[i], a[i])\n",
    "    # print(b)\n",
    "    # return max(b)\n",
    "\n",
    "    cur = a[0]\n",
    "    for i in range(1, len(a)):\n",
    "        temp = max(cur + a[i], a[i])\n",
    "        cur = max(cur, temp)\n",
    "    return cur\n",
    "        \n",
    "\n",
    "# data=[13, -3, -25, 20, -3, -16, -23, 18, 20, -7, 12, -5,  -22,  15,  -4,7]\n",
    "data=[13, -3, -25, 10]\n",
    "# data=[-1,2,3]\n",
    "# data=[-1]\n",
    "# data=[-1,-2,-3]\n",
    "# data=[1,1,-10,-2,-1]\n",
    "\n",
    "max_subarray(data)"
   ]
  },
  {
   "attachments": {},
   "cell_type": "markdown",
   "metadata": {},
   "source": [
    " ## house robber\n",
    " - given price for each house\n",
    " - can't rob adjacent houses\n",
    " - res[i] = optimal val for robbing first i houses\n",
    " - consider whether the last house is robbed or not"
   ]
  },
  {
   "cell_type": "code",
   "execution_count": 33,
   "metadata": {},
   "outputs": [
    {
     "data": {
      "text/plain": [
       "4"
      ]
     },
     "execution_count": 33,
     "metadata": {},
     "output_type": "execute_result"
    },
    {
     "data": {
      "text/plain": [
       "CacheInfo(hits=4, misses=5, maxsize=None, currsize=5)"
      ]
     },
     "execution_count": 33,
     "metadata": {},
     "output_type": "execute_result"
    }
   ],
   "source": [
    "@cache\n",
    "def rob(vals):\n",
    "    # vals[i] = house value of ith house, starting from 0\n",
    "    if (n:=len(vals))==0:\n",
    "        return 0\n",
    "    \n",
    "    # elif n == 1:\n",
    "    #     return vals[0]\n",
    "    \n",
    "    # if len(vals) <= 1, then vals[:-2] will still give us empty list\n",
    "    return max(rob(vals[:-1]), vals[-1] + rob(vals[:-2]))\n",
    "\n",
    "vals = (1,2,3,1)\n",
    "# vals = np.random.random(size=10**4)\n",
    "rob(tuple(vals))\n",
    "rob.cache_info()"
   ]
  },
  {
   "attachments": {},
   "cell_type": "markdown",
   "metadata": {},
   "source": [
    "## subset sum"
   ]
  },
  {
   "attachments": {},
   "cell_type": "markdown",
   "metadata": {},
   "source": [
    "## dynamic probability problem"
   ]
  },
  {
   "attachments": {},
   "cell_type": "markdown",
   "metadata": {},
   "source": [
    "### 688. Knight Probability in Chessboard\n",
    "- it's like a tree diagram. We're exploring all the possibilities"
   ]
  },
  {
   "cell_type": "code",
   "execution_count": null,
   "metadata": {},
   "outputs": [
    {
     "data": {
      "text/plain": [
       "0.022654876508337453"
      ]
     },
     "metadata": {},
     "output_type": "display_data"
    }
   ],
   "source": [
    "# class Solution:\n",
    "#     def knightProbability(self, n: int, k: int, row: int, column: int) -> float:\n",
    "#         pass\n",
    "\n",
    "from itertools import product\n",
    "\n",
    "def knightProbability(n: int, k: int, row: int, column: int) -> float:\n",
    "    \n",
    "    # if row>=n or row < 0 or column >=n or column <0:\n",
    "    #     return 0 \n",
    "    # if k==0:\n",
    "    #     return 1\n",
    "    \n",
    "    # combs = list(product([2,-2],[1,-1])) + list(product([1,-1],[2,-2]))\n",
    "    # # M1\n",
    "    # res = []\n",
    "    # for row_val, col_val in combs:\n",
    "    #     res.append(knightProbability(n, k-1, row+row_val, column+col_val))\n",
    "    # return sum(res)/len(res)\n",
    "    \n",
    "    # M2:\n",
    "    # return sum(knightProbability(n, k-1, row+row_val, column+col_val) for row_val, col_val in combs)/len(combs)\n",
    "\n",
    "    # M3: dynamic. memoization\n",
    "    res = {}\n",
    "    combs = list(product([2,-2],[1,-1])) + list(product([1,-1],[2,-2]))\n",
    "    def helper(k, row, column):\n",
    "        if row>=n or row < 0 or column >=n or column <0:\n",
    "            return 0 \n",
    "        if k==0:\n",
    "            return 1        \n",
    "        if (k,row,column) not in res:\n",
    "            res[(k,row,column)] = 1/8*sum(helper(k-1, row-i, column-j) for i, j in combs)\n",
    "        return res[(k,row,column)]\n",
    "    return helper(k, row, column)\n",
    "    \n",
    "\n",
    "knightProbability(n = 100, k = 20, row = 0, column = 0)\n",
    "# knightProbability(n = 1, k = 0, row = 0, column = 0)\n",
    "    "
   ]
  },
  {
   "attachments": {},
   "cell_type": "markdown",
   "metadata": {},
   "source": [
    "### 808. Soup Servings"
   ]
  },
  {
   "cell_type": "code",
   "execution_count": null,
   "metadata": {},
   "outputs": [
    {
     "data": {
      "text/plain": [
       "0.9999959599566788"
      ]
     },
     "metadata": {},
     "output_type": "display_data"
    }
   ],
   "source": [
    "from functools import cache\n",
    "# sys.setrecursionlimit(100000)\n",
    "def soupServings(n: int) -> float:\n",
    "    res = {}\n",
    "    def helper(n_A, n_B):\n",
    "        if n_A==0 and n_B!=0:\n",
    "            return 1\n",
    "        if n_A==n_B==0:\n",
    "            return 0.5\n",
    "        if n_A !=0 and n_B==0:\n",
    "            return 0 \n",
    "        if (n_A, n_B) not in res:\n",
    "            res[(n_A, n_B)] = 1/4*sum(helper(max(0, n_A-i), max(0,n_B-j)) for i,j in [(100,0), (75,25), (50,50), (25, 75)])\n",
    "        return res[(n_A, n_B)]\n",
    "    \n",
    "    # @cache\n",
    "    # def helper(n_A, n_B):\n",
    "    #     if n_A==0 and n_B!=0:\n",
    "    #         return 1\n",
    "    #     if n_A==n_B==0:\n",
    "    #         return 0.5\n",
    "    #     if n_A !=0 and n_B==0:\n",
    "    #         return 0 \n",
    "    #     return 1/4*sum(helper(max(0, n_A-i), max(0,n_B-j)) for i,j in [(100,0), (75,25), (50,50), (25, 75)])\n",
    "    return helper(n, n)\n",
    "    # pass\n",
    "    \n",
    "soupServings(n=4900)"
   ]
  },
  {
   "attachments": {},
   "cell_type": "markdown",
   "metadata": {},
   "source": [
    "### 837. New 21 Game"
   ]
  },
  {
   "cell_type": "code",
   "execution_count": null,
   "metadata": {},
   "outputs": [
    {
     "data": {
      "text/plain": [
       "0.7327777870686081"
      ]
     },
     "metadata": {},
     "output_type": "display_data"
    }
   ],
   "source": [
    "import functools\n",
    "\n",
    "# @functools.cache\n",
    "def new21Game(n: int, k: int, maxPts: int) -> float:\n",
    "    res = {}\n",
    "    def helper(n, k):\n",
    "        if k <= 0:\n",
    "            return 1 if n >= 0 else 0 \n",
    "        if (n,k) not in res:\n",
    "            res[(n,k)] = 1/maxPts * sum(helper(n-i, k-i) for i in range(1, maxPts+1))\n",
    "        return res[(n,k)]\n",
    "    return helper(n,k)\n",
    "\n",
    "\n",
    "\n",
    "# new21Game(n = 10, k = 1, maxPts = 10)\n",
    "# new21Game(n = 100, k = 90, maxPts = 30)\n",
    "# new21Game(n = 6, k = 1, maxPts = 10)\n",
    "# new21Game(n = 21, k = 17, maxPts = 10)"
   ]
  },
  {
   "attachments": {},
   "cell_type": "markdown",
   "metadata": {},
   "source": [
    "### 1230. Toss Strange Coins (Medium)\n",
    "- let ans[i,j] = P(getting j heads in first i flips)\n",
    "- $ans[i,j] = ans[i-1, j]*(1-prob[i]) + ans[i-1, j-1]*prob[i]$,"
   ]
  },
  {
   "cell_type": "code",
   "execution_count": null,
   "metadata": {},
   "outputs": [
    {
     "name": "stdout",
     "output_type": "stream",
     "text": [
      "3 2\n",
      "2 1\n",
      "1 0\n",
      "1 1\n",
      "0 0\n",
      "0 1\n",
      "2 2\n",
      "1 1\n",
      "1 2\n"
     ]
    },
    {
     "data": {
      "text/plain": [
       "0.28800000000000003"
      ]
     },
     "metadata": {},
     "output_type": "display_data"
    }
   ],
   "source": [
    "def toss_coins(prob, target):\n",
    "    # M1: naive \n",
    "    # prob = np.array(prob)\n",
    "    # res = []\n",
    "    # for comb in itertools.combinations(range(len(prob)), target):\n",
    "    #     comb = list(comb)\n",
    "    #     res.append(prob[list(comb)].prod() * (1-np.delete(prob, comb)).prod())\n",
    "    # return sum(res)\n",
    "\n",
    "    # M2: dp\n",
    "    # np.zeros(shape=(len(prob), ))\n",
    "    res = {}\n",
    "    def helper(n, target):\n",
    "        print(n, target)\n",
    "        # if target == n == 1:\n",
    "        #     return prob[0]\n",
    "        if target == 0:\n",
    "            # print(1-np.array(prob[:n]))\n",
    "            return (1-np.array(prob[:n])).prod()\n",
    "            # return helper(n-1,target)*(1-prob[n-1])\n",
    "        if target > n:\n",
    "            return 0\n",
    "        if (n, target) not in res:\n",
    "            res[(n, target)] = helper(n-1, target-1) * prob[n-1] + helper(n-1, target) * (1-prob[n-1])\n",
    "        return res[(n, target)]\n",
    "    \n",
    "    return helper( len(prob), target)\n",
    "    \n",
    "    \n",
    "prob = [0.4]*3\n",
    "# prob = [0.4]*1\n",
    "target = 2\n",
    "toss_coins(prob, target)"
   ]
  },
  {
   "attachments": {},
   "cell_type": "markdown",
   "metadata": {},
   "source": [
    "# stack problem\n",
    "- rotate sorted array: https://www.youtube.com/watch?v=nIVW4P8b1VA&list=PL4BNnTqnsOLdwk_5UUOv3FN57fMtfBo6c&index=13&t=542s\n",
    "- schedule CPU tasks: https://www.youtube.com/watch?v=RR1n-d4oYqE&list=PL4BNnTqnsOLdwk_5UUOv3FN57fMtfBo6c&index=5\n",
    "- Decode String: https://www.youtube.com/watch?v=qB0zZpBJlh8&list=PL4BNnTqnsOLdwk_5UUOv3FN57fMtfBo6c&index=18&t=542s\n"
   ]
  },
  {
   "attachments": {},
   "cell_type": "markdown",
   "metadata": {},
   "source": [
    "## 735. Asteroid Collision\n",
    "We are given an array asteroids of integers representing asteroids in a row.\n",
    "\n",
    "For each asteroid, the absolute value represents its size, and the sign represents its direction (positive meaning right, negative meaning left). Each asteroid moves at the same speed.\n",
    "\n",
    "Find out the state of the asteroids after all collisions. If two asteroids meet, the smaller one will explode. If both are the same size, both will explode. Two asteroids moving in the same direction will never meet."
   ]
  },
  {
   "cell_type": "code",
   "execution_count": null,
   "metadata": {},
   "outputs": [],
   "source": [
    "def collision(asteroids):\n",
    "    stack = []\n",
    "    for a in asteroids:\n",
    "        if len(stack) == 0:\n",
    "            stack.append(a)\n",
    "        while stack[-1] > 0 and a < 0:\n",
    "            if stack[-1] < abs(a):\n",
    "                stack.pop()\n",
    "                stack.append(a)\n",
    "        else:\n",
    "            \n",
    "                \n",
    "            "
   ]
  },
  {
   "cell_type": "code",
   "execution_count": null,
   "metadata": {},
   "outputs": [],
   "source": [
    "class Stack:\n",
    "    def __init__(self):\n",
    "        self.data = []\n",
    "    def push(self, val):\n",
    "        self.data.append(val)\n",
    "    def pop(self):\n",
    "        return self.data.pop()\n",
    "    def is_empty(self):\n",
    "        return len(self.data) == 0 \n",
    "    def peek(self):\n",
    "        return self.data[-1]\n",
    "    def get_data(self):\n",
    "        return self.data\n",
    "\n",
    "\n",
    "def collision(cars):\n",
    "    # https://www.youtube.com/watch?v=LN7KjRszjk4&list=PLot-Xpze53lfxD6l5pAGvCD4nPvWKU8Qo&index=7\n",
    "    # stack = []\n",
    "    # for c in cars:\n",
    "    #     push_to_stack = True\n",
    "    #     while stack and stack[-1]>0 and c<0:\n",
    "    #         # diff = c + stack[-1]\n",
    "    #         if stack[-1] < abs(c): # need to destroy stack[-1], and push c\n",
    "    #             stack.pop()\n",
    "    #         elif stack[-1] == abs(c): # need to destroy stack[-1], but no need to push c\n",
    "    #             stack.pop()\n",
    "    #             push_to_stack = False\n",
    "    #             break\n",
    "    #         else: # no need to destroy stack[-1]\n",
    "    #             push_to_stack = False\n",
    "    #     if push_to_stack:\n",
    "    #         stack.append(c)\n",
    "    #     print(stack)\n",
    "    # return stack\n",
    "\n",
    "    # stack = Stack()\n",
    "    # for c in cars:\n",
    "    #     push_to_stack = True\n",
    "    #     while not stack.is_empty() and stack.peek()>0 and c<0:\n",
    "    #         # diff = c + stack.peek()\n",
    "    #         if stack.peek() < abs(c): # need to destroy stack.peek(), and push c\n",
    "    #             stack.pop()\n",
    "    #         elif stack.peek() == abs(c): # need to destroy stack.peek(), but no need to push c\n",
    "    #             stack.pop()\n",
    "    #             push_to_stack = False\n",
    "    #             break\n",
    "    #         else: # no need to destroy stack.peek()\n",
    "    #             push_to_stack = False\n",
    "    #     if push_to_stack:\n",
    "    #         stack.push(c)\n",
    "    # return stack.data\n",
    "\n",
    "    # simplified version: all weights are distinct\n",
    "    stack = Stack()\n",
    "    for c in cars:\n",
    "        push_to_stack = True\n",
    "        while not stack.is_empty() and stack.peek()>0 and c<0:\n",
    "            if stack.peek() < -c: # need to destroy stack.peek()\n",
    "                stack.pop()\n",
    "            else: # no need to destroy stack.peek()\n",
    "                push_to_stack = False\n",
    "                break\n",
    "        if push_to_stack:\n",
    "            stack.push(c)\n",
    "    return stack.get_data()\n",
    "    \n",
    "# cars = [3,4,-1]\n",
    "# cars = [5,5,-5]\n",
    "# cars = [3,4,-6]\n",
    "cars=[1,3,4,-6, -3, -1]\n",
    "collision(cars)"
   ]
  },
  {
   "cell_type": "code",
   "execution_count": null,
   "metadata": {},
   "outputs": [],
   "source": [
    "# def explode(cars):\n",
    "#     stack = Stack()\n",
    "#     for c in cars:\n",
    "#         push_to_stack = True\n",
    "#         while not stack.is_empty() and stack.peek()>0 and c<0:\n",
    "#             if stack.peek() < -c: # need to destroy stack.peek()\n",
    "#                 stack.pop()\n",
    "#             else: # no need to destroy stack.peek()\n",
    "#                 push_to_stack = False\n",
    "#                 break\n",
    "#         if push_to_stack:\n",
    "#             stack.push(c)\n",
    "#     return stack.get_data()\n",
    "\n",
    "def explode(cars):\n",
    "    stack = Stack()\n",
    "    for c in cars:\n",
    "        push_to_stack = True\n",
    "        while not stack.is_empty() and stack.peek()>0 and c<0:\n",
    "            if stack.peek() < -c:\n",
    "                stack.pop()\n",
    "            else:\n",
    "                push_to_stack= False\n",
    "                # break\n",
    "        if push_to_stack:\n",
    "            stack.push(c)\n",
    "    return stack.get_data()        \n",
    "\n",
    "# give 10 marks for this\n",
    "# def explode(cars) :\n",
    "#     # wrong: when cars=[-3,4]\n",
    "#     stack = Stack() # you must use this stack variable\n",
    "#     # Your code for part (c) should be put here\n",
    "#     for x in cars[::-1]:\n",
    "#         if stack.is_empty():\n",
    "#             stack.push(x)\n",
    "#         else:\n",
    "#             if (stack.peek() > 0 and x > 0) or (stack.peek() < 0 and x < 0):\n",
    "#                 stack.push(x)\n",
    "#             elif (stack.peek() < 0 and x > 0):\n",
    "#                 if abs(stack.peek()) < abs(x):\n",
    "#                     stack.pop()\n",
    "#                     stack.push(x)\n",
    "#             elif (stack.peek() > 0 and x < 0):\n",
    "#                 if abs(stack.peek()) < abs(x):\n",
    "#                     stack.pop()\n",
    "#                     stack.push(x)\n",
    "#     return stack.get_data()[::-1]\n",
    "\n",
    "\n",
    "explode([1,2,3,-5,-6,-7,10])\n",
    "# explode([1,2,3,-5])\n",
    "# explode([10,2,-3])\n",
    "# explode([4,10,-3])\n",
    "# explode([4,10,-3])\n",
    "# explode([-1,-2,-3])\n",
    "# explode([-4, 1, 2, 3])\n",
    "# explode([])\n"
   ]
  },
  {
   "attachments": {},
   "cell_type": "markdown",
   "metadata": {},
   "source": [
    "## 20. Valid Parentheses\n",
    "Given a string s containing just the characters '(', ')', '{', '}', '[' and ']', determine if the input string is valid.\n",
    "\n",
    "An input string is valid if:\n",
    "\n",
    "Open brackets must be closed by the same type of brackets.\n",
    "Open brackets must be closed in the correct order.\n",
    "Every close bracket has a corresponding open bracket of the same type.\n",
    "\n",
    "\n",
    "- idea: for left brackets, put to stack. For right brackets, check if it matches the top bracket in stack\n",
    "- important: need to create a string to check whether the close backet matches the corresponding open bracket, by `.index` method\n",
    "- whenever we use `stack[-1]`, remember to make sure the stack is nonempty!"
   ]
  },
  {
   "cell_type": "code",
   "execution_count": 7,
   "metadata": {},
   "outputs": [
    {
     "name": "stdout",
     "output_type": "stream",
     "text": [
      "is_matched('[(5+x)-(y+z)]') = True\n",
      "is_matched('[') = False\n",
      "is_matched('') = True\n",
      "is_matched('[[') = False\n",
      "is_matched(']') = False\n",
      "is_matched('([{}])') = True\n",
      "is_matched('([{[r]}])') = True\n"
     ]
    }
   ],
   "source": [
    "def is_matched(s):\n",
    "    stack = []\n",
    "    left= '([{' #     left = ['(', '[', '{']\n",
    "    right= ')]}' #     right = [')', ']', '}']\n",
    "    for c in s:\n",
    "        if c in left:\n",
    "            stack.append(c)\n",
    "        elif c in right:\n",
    "            if len(stack)==0 or left.index(stack.pop()) != right.index(c):\n",
    "                return False\n",
    "    return len(stack)==0\n",
    "\n",
    "# is_well_formed('({*5*(4+3))}]')\n",
    "print(f\"{is_matched('[(5+x)-(y+z)]') = }\") # True\n",
    "print(f\"{is_matched('[') = }\") # False\n",
    "print(f\"{is_matched('') = }\") # True\n",
    "print(f\"{is_matched('[[') = }\") # False\n",
    "print(f\"{is_matched(']') = }\") # False\n",
    "print(f\"{is_matched('([{}])') = }\") # True\n",
    "print(f\"{is_matched('([{[r]}])') = }\") # True"
   ]
  },
  {
   "attachments": {},
   "cell_type": "markdown",
   "metadata": {},
   "source": [
    "## postfix evaluation"
   ]
  },
  {
   "cell_type": "code",
   "execution_count": 3,
   "metadata": {},
   "outputs": [
    {
     "data": {
      "text/plain": [
       "13"
      ]
     },
     "execution_count": 3,
     "metadata": {},
     "output_type": "execute_result"
    }
   ],
   "source": [
    "def postfix_eval(s):\n",
    "    stack = []\n",
    "    for c in s:\n",
    "        if c.isdigit():\n",
    "            stack.append(int(c))\n",
    "        # elif c in ['+','-','*','/']:\n",
    "        elif c in \"+-*/\":\n",
    "            assert len(stack) >= 2\n",
    "            # print(f'{left}{c}{right}')\n",
    "            # stack.append(eval(f'{left}{c}{right}'))\n",
    "            stack.append(eval(f'{stack.pop()}{c}{stack.pop()}'))\n",
    "        else:\n",
    "            raise TypeError(\"error character type!\")\n",
    "    assert len(stack) == 1\n",
    "    return stack[-1]\n",
    "\n",
    "s='1234*+-'\n",
    "postfix_eval(s)"
   ]
  },
  {
   "attachments": {},
   "cell_type": "markdown",
   "metadata": {},
   "source": [
    "# ad-hoc technique"
   ]
  },
  {
   "attachments": {},
   "cell_type": "markdown",
   "metadata": {},
   "source": [
    "## 1093. Statistics from a Large Sample"
   ]
  },
  {
   "cell_type": "code",
   "execution_count": 57,
   "metadata": {},
   "outputs": [
    {
     "data": {
      "text/plain": [
       "{'min': 1,\n",
       " 'max': 4,\n",
       " 'mode': 1,\n",
       " 'max_freq': 5,\n",
       " 'sum': 9,\n",
       " 'n_elements': 6,\n",
       " 'mean': 1.5}"
      ]
     },
     "execution_count": 57,
     "metadata": {},
     "output_type": "execute_result"
    }
   ],
   "source": [
    "# def sampleStats(count: List[int]) -> List[float]:\n",
    "def sampleStats(count: list[int]) -> list[float]:\n",
    "    # min, max, mean, median, mode\n",
    "    # min: find the first entry in count being > 0 \n",
    "    # max: find the last entry in count being > 0 \n",
    "    # mean: find the total first, then divided by sum(count)\n",
    "    # median: \n",
    "    \n",
    "    res = {\n",
    "        'min': float('+inf'),\n",
    "        'max': float('-inf'),\n",
    "        'mode': 0,\n",
    "        'max_freq': 0,\n",
    "        'sum': 0,\n",
    "        'n_elements': 0,\n",
    "        'mean': 0\n",
    "        }\n",
    "    for val, cnt in enumerate(count):\n",
    "        # can use `continue` instead\n",
    "        if cnt > 0:\n",
    "            if res['max'] < val:\n",
    "                res['max'] = val\n",
    "            if res['min'] > val:\n",
    "                res['min'] = val\n",
    "            # res['max'] = max(res['max'], val)\n",
    "            # res['min'] = min(res['min'], val)\n",
    "            res['sum'] += val*cnt\n",
    "            res['n_elements'] += cnt\n",
    "            \n",
    "            if cnt > res['max_freq']:\n",
    "                res['max_freq'] = cnt\n",
    "                res['mode'] = val\n",
    "    \n",
    "    res['mean'] = res['sum'] / res['n_elements']\n",
    "    return res\n",
    "    pass\n",
    "\n",
    "\n",
    "# count = [0,1,3,4,1,0,0,0,0,0,0,0,0,0,0,0,0,0,0,0,0,0,0,0,0,0,0,0,0,0,0,0,0,0,0,0,0,0,0,0,0,0,0,0,0,0,0,0,0,0,0,0,0,0,0,0,0,0,0,0,0,0,0,0,0,0,0,0,0,0,0,0,0,0,0,0,0,0,0,0,0,0,0,0,0,0,0,0,0,0,0,0,0,0,0,0,0,0,0,0,0,0,0,0,0,0,0,0,0,0,0,0,0,0,0,0,0,0,0,0,0,0,0,0,0,0,0,0,0,0,0,0,0,0,0,0,0,0,0,0,0,0,0,0,0,0,0,0,0,0,0,0,0,0,0,0,0,0,0,0,0,0,0,0,0,0,0,0,0,0,0,0,0,0,0,0,0,0,0,0,0,0,0,0,0,0,0,0,0,0,0,0,0,0,0,0,0,0,0,0,0,0,0,0,0,0,0,0,0,0,0,0,0,0,0,0,0,0,0,0,0,0,0,0,0,0,0,0,0,0,0,0,0,0,0,0,0,0,0,0,0,0,0,0,0,0,0,0,0,0,0,0,0,0,0,0]\n",
    "count = [0,5,0,0,1,0,0,0,0,0,0,0,0,0,0,0,0,0,0,0,0,0,0,0,0,0,0,0,0,0,0,0,0,0,0,0,0,0,0,0,0,0,0,0,0,0,0,0,0,0,0,0,0,0,0,0,0,0,0,0,0,0,0,0,0,0,0,0,0,0,0,0,0,0,0,0,0,0,0,0,0,0,0,0,0,0,0,0,0,0,0,0,0,0,0,0,0,0,0,0,0,0,0,0,0,0,0,0,0,0,0,0,0,0,0,0,0,0,0,0,0,0,0,0,0,0,0,0,0,0,0,0,0,0,0,0,0,0,0,0,0,0,0,0,0,0,0,0,0,0,0,0,0,0,0,0,0,0,0,0,0,0,0,0,0,0,0,0,0,0,0,0,0,0,0,0,0,0,0,0,0,0,0,0,0,0,0,0,0,0,0,0,0,0,0,0,0,0,0,0,0,0,0,0,0,0,0,0,0,0,0,0,0,0,0,0,0,0,0,0,0,0,0,0,0,0,0,0,0,0,0,0,0,0,0,0,0,0,0,0,0,0,0,0,0,0,0,0,0,0,0,0,0,0,0,0]\n",
    "\n",
    "sampleStats(count)\n",
    "\n",
    "\n",
    "# from typing import List\n",
    "# def sampleStats(count: List[int]) -> List[float]:\n",
    "#     # min, max, mean, median, mode\n",
    "#     res = [np.inf, -1, -1, -1, -1]\n",
    "#     total_cnt = 0\n",
    "#     tot = 0\n",
    "#     # total_cnt = sum(x for x in enumerate(count))\n",
    "#     total_cnt = sum(count)\n",
    "#     cur_cnt = 0\n",
    "#     median_pos = total_cnt//2+1 if total_cnt%2 == 1 else (total_cnt//2, total_cnt//2+1)\n",
    "        \n",
    "#     for i, cnt in enumerate(count):\n",
    "#         if cnt == 0:\n",
    "#             continue\n",
    "#         # total_cnt += cnt\n",
    "#         cur_cnt += cnt\n",
    "#         tot += i*cnt\n",
    "#         if i < res[0]: # update min\n",
    "#             res[0] = i\n",
    "#         if i > res[1]: # update max\n",
    "#             res[1] = i \n",
    "#         if cnt > res[-1]: # update mode\n",
    "#             res[-1] = cnt\n",
    "\n",
    "\n",
    "# count = [0,1,3,4,0,0,0,0,0,0,0,0,0,0,0,0,0,0,0,0,0,0,0,0,0,0,0,0,0,0,0,0,0,0,0,0,0,0,0,0,0,0,0,0,0,0,0,0,0,0,0,0,0,0,0,0,0,0,0,0,0,0,0,0,0,0,0,0,0,0,0,0,0,0,0,0,0,0,0,0,0,0,0,0,0,0,0,0,0,0,0,0,0,0,0,0,0,0,0,0,0,0,0,0,0,0,0,0,0,0,0,0,0,0,0,0,0,0,0,0,0,0,0,0,0,0,0,0,0,0,0,0,0,0,0,0,0,0,0,0,0,0,0,0,0,0,0,0,0,0,0,0,0,0,0,0,0,0,0,0,0,0,0,0,0,0,0,0,0,0,0,0,0,0,0,0,0,0,0,0,0,0,0,0,0,0,0,0,0,0,0,0,0,0,0,0,0,0,0,0,0,0,0,0,0,0,0,0,0,0,0,0,0,0,0,0,0,0,0,0,0,0,0,0,0,0,0,0,0,0,0,0,0,0,0,0,0,0,0,0,0,0,0,0,0,0,0,0,0,0,0,0,0,0,0,0]\n",
    "\n",
    "\n",
    "# sampleStats(count)"
   ]
  },
  {
   "attachments": {},
   "cell_type": "markdown",
   "metadata": {},
   "source": [
    "## 1467. Probability of a Two Boxes Having The Same Number of Distinct Balls"
   ]
  },
  {
   "cell_type": "code",
   "execution_count": null,
   "metadata": {},
   "outputs": [],
   "source": [
    "def getProbability(self, balls: List[int]) -> float:\n",
    "    pass"
   ]
  },
  {
   "attachments": {},
   "cell_type": "markdown",
   "metadata": {},
   "source": [
    "# backtracking problem"
   ]
  },
  {
   "attachments": {},
   "cell_type": "markdown",
   "metadata": {},
   "source": [
    "## powerset generation"
   ]
  },
  {
   "cell_type": "code",
   "execution_count": null,
   "metadata": {},
   "outputs": [
    {
     "name": "stdout",
     "output_type": "stream",
     "text": [
      "[1, 2, 3]\n",
      "[1, 2]\n",
      "[1, 3]\n",
      "[1]\n",
      "[2, 3]\n",
      "[2]\n",
      "[3]\n"
     ]
    },
    {
     "data": {
      "text/plain": [
       "[[1, 2, 3], [1, 2], [1, 3], [1], [2, 3], [2], [3], []]"
      ]
     },
     "metadata": {},
     "output_type": "display_data"
    }
   ],
   "source": [
    "# backtracking: https://www.youtube.com/watch?v=REOH22Xwdkk\n",
    "def powerset(a):\n",
    "    res = []\n",
    "    subset = []\n",
    "    def dfs(i): # consider \n",
    "        if i>=len(a): # out of bound \n",
    "            res.append(subset.copy())\n",
    "            return\n",
    "\n",
    "        subset.append(a[i]) \n",
    "        dfs(i+1) # all solutions with a[i]\n",
    "\n",
    "        print(subset)\n",
    "\n",
    "        subset.pop()\n",
    "        dfs(i+1)\n",
    "    dfs(0)\n",
    "    return res\n",
    "\n",
    "a=[1,2,3]\n",
    "powerset(a)"
   ]
  },
  {
   "attachments": {},
   "cell_type": "markdown",
   "metadata": {},
   "source": [
    "## parenthesis generation"
   ]
  },
  {
   "cell_type": "code",
   "execution_count": null,
   "metadata": {},
   "outputs": [
    {
     "name": "stdout",
     "output_type": "stream",
     "text": [
      "['(', '(']\n",
      "['(', '(', ')']\n",
      "['(', '(', ')', ')']\n",
      "['(']\n",
      "['(', ')', '(']\n",
      "['(', ')', '(', ')']\n",
      "['(', ')']\n",
      "[]\n"
     ]
    },
    {
     "data": {
      "text/plain": [
       "['((()))', '(()())', '(())()', '()(())', '()()()']"
      ]
     },
     "metadata": {},
     "output_type": "display_data"
    }
   ],
   "source": [
    "def generate_parenthesis(n: int) -> list:\n",
    "    # To understand\n",
    "    stack = []\n",
    "    res = []\n",
    "\n",
    "    def backtrack(openN, closedN):\n",
    "        if openN == closedN == n:\n",
    "            res.append( \"\".join(stack) )\n",
    "            # print(res)\n",
    "            return\n",
    "        \n",
    "        if openN < n:\n",
    "            stack.append(\"(\")\n",
    "            backtrack(openN+1, closedN)\n",
    "            stack.pop()\n",
    "\n",
    "            print(stack)\n",
    "        \n",
    "        if closedN < openN:\n",
    "            stack.append(\")\")\n",
    "            backtrack(openN, closedN+1)\n",
    "            stack.pop()\n",
    "\n",
    "\n",
    "    backtrack(0,0)\n",
    "    return res\n",
    "        \n",
    "generate_parenthesis(3)\n",
    "# print(\"hello\")"
   ]
  },
  {
   "attachments": {},
   "cell_type": "markdown",
   "metadata": {},
   "source": [
    "# hashing"
   ]
  },
  {
   "cell_type": "code",
   "execution_count": null,
   "metadata": {},
   "outputs": [
    {
     "name": "stdout",
     "output_type": "stream",
     "text": [
      "4 hashes to 4\n",
      "6 hashes to 1\n",
      "20 hashes to 0\n",
      "14 hashes to 4\n",
      "31 hashes to 1\n",
      "29 hashes to 4\n"
     ]
    }
   ],
   "source": [
    "# data = [2341, 4234, 2839, 22, 397, 3920]\n",
    "# data = [5, 28, 19, 15, 20, 33, 12, 17, 10]\n",
    "data = [4,6,20,14,31,29]\n",
    "n = 5\n",
    "for x in data:\n",
    "    print(f'{x} hashes to {x%n}')"
   ]
  },
  {
   "cell_type": "code",
   "execution_count": null,
   "metadata": {},
   "outputs": [
    {
     "data": {
      "text/plain": [
       "{0: 3920, 1: 22, 2: 'unfilled', 3: 2341, 4: 2839, 5: 397, 6: 4234}"
      ]
     },
     "metadata": {},
     "output_type": "display_data"
    }
   ],
   "source": [
    "def find_hash(data, n=7):\n",
    "    table = dict(zip(range(n), ['unfilled']*n  ))\n",
    "    for x in data:\n",
    "        counter = 0 \n",
    "        while counter <n and table[(x+counter)%n]!='unfilled':\n",
    "            counter+=1\n",
    "        if counter == n:\n",
    "            print(f\"can't insert {x}\")\n",
    "        else:\n",
    "            table[(x+counter)%n] = x\n",
    "    return table\n",
    "\n",
    "data = [2341, 4234, 2839, 22, 397, 3920]\n",
    "find_hash(data)\n"
   ]
  },
  {
   "cell_type": "code",
   "execution_count": null,
   "metadata": {},
   "outputs": [
    {
     "data": {
      "text/plain": [
       "{0: 3920, 1: 22, 2: 'unfilled', 3: 2341, 4: 2839, 5: 397, 6: 4234}"
      ]
     },
     "metadata": {},
     "output_type": "display_data"
    }
   ],
   "source": [
    "data = [2341, 4234, 2839, 22, 397, 3920]\n",
    "# data = [5, 28, 19, 15, 20, 33, 12, 17, 10]\n",
    "# data = [10,22,31,4,17]\n",
    "n = 7   \n",
    "# table = ['unfilled']*n\n",
    "table = dict(zip(range(7), ['unfilled']*7  ))\n",
    "# table\n",
    "for x in data:\n",
    "    counter = 0 \n",
    "    while counter <n and table[(x+counter)%n]!='unfilled':\n",
    "        counter+=1\n",
    "    if counter == n:\n",
    "        print(f\"can't insert {x}\")\n",
    "    else:\n",
    "        table[(x+counter)%n] = x\n",
    "    # print(table)\n",
    "\n",
    "\n",
    "    # while pos < n and table[pos] != 'unfilled':\n",
    "    #     pos+=1\n",
    "    # if pos < n: \n",
    "    #     table[pos] = x\n",
    "    # else:\n",
    "    #     print(f\"can't insert {x}\")  \n",
    "table"
   ]
  },
  {
   "attachments": {},
   "cell_type": "markdown",
   "metadata": {},
   "source": [
    "# misc technique"
   ]
  },
  {
   "attachments": {},
   "cell_type": "markdown",
   "metadata": {},
   "source": [
    "## loop over powerset using built-in itertools.combinations"
   ]
  },
  {
   "cell_type": "code",
   "execution_count": 203,
   "metadata": {},
   "outputs": [
    {
     "name": "stdout",
     "output_type": "stream",
     "text": [
      "()\n",
      "(0,)\n",
      "(1,)\n",
      "(2,)\n",
      "(3,)\n",
      "(0, 1)\n",
      "(0, 2)\n",
      "(0, 3)\n",
      "(1, 2)\n",
      "(1, 3)\n",
      "(2, 3)\n",
      "(0, 1, 2)\n",
      "(0, 1, 3)\n",
      "(0, 2, 3)\n",
      "(1, 2, 3)\n",
      "(0, 1, 2, 3)\n",
      "16\n"
     ]
    }
   ],
   "source": [
    "n = 4\n",
    "cnt = 0 \n",
    "for i in range(n+1):\n",
    "    for comb in combinations(range(n), i):\n",
    "        cnt+=1\n",
    "        print(comb)\n",
    "print(cnt)\n",
    "\n",
    "# ------------------- for getting subarray from a 2d array ------------------- #\n",
    "# np.random.seed(2)\n",
    "# n_samples = 2\n",
    "# n_coef = 4\n",
    "# X = pd.DataFrame(np.random.normal(size=(n_samples,n_coef)), columns=[f\"x_{i+1}\" for i in range(n_coef)])\n",
    "# y = X.sum(axis=1) + np.random.normal(loc=2, scale=4, size=n_samples)\n",
    "# X.insert(0, 'const', 1)\n",
    "\n",
    "# for i in range(1, X.shape[1]):\n",
    "#     for comb in combinations(range(1, X.shape[1]), i):\n",
    "#         X.iloc[:, [0] + list(comb)]"
   ]
  },
  {
   "attachments": {},
   "cell_type": "markdown",
   "metadata": {},
   "source": [
    "## find all elements in list b that in list a\n",
    "- useful for finding no submission\n",
    "- basically, find b intersection a"
   ]
  },
  {
   "cell_type": "code",
   "execution_count": null,
   "metadata": {},
   "outputs": [
    {
     "data": {
      "text/plain": [
       "array([1, 2, 3, 4])"
      ]
     },
     "metadata": {},
     "output_type": "display_data"
    }
   ],
   "source": [
    "def find_intersect(a,b):\n",
    "    # M1: list comprehension\n",
    "    # return [x for x in a if x in b]\n",
    "    \n",
    "    # M2: np\n",
    "    return np.array(a)[np.isin(a,b)] # remember that np.isin() is a static method taking two arrays as input!\n",
    "\n",
    "a = [1,1,1,2,3,4]\n",
    "b = [1,2,3,4,5,6,7]\n",
    "# find_intersect(a,b)\n",
    "find_intersect(b,a)"
   ]
  },
  {
   "attachments": {},
   "cell_type": "markdown",
   "metadata": {},
   "source": [
    "## find common elements among several lists\n",
    "- that is, return an element if it appears in ALL lists \n",
    "- if we want to find elements that appear in ANY list, a slick strategy is to convert everything to set and then use union\n",
    "- if we want to find elements that appear in ALL lists, a slick strategy is to convert everything to set and then use intersection\n",
    "- for anything in between, a good method is to build a frequency distribution first. "
   ]
  },
  {
   "cell_type": "code",
   "execution_count": 84,
   "metadata": {},
   "outputs": [
    {
     "data": {
      "text/plain": [
       "{5: 3, 28: 3, 18: 3, 11: 3}"
      ]
     },
     "execution_count": 84,
     "metadata": {},
     "output_type": "execute_result"
    }
   ],
   "source": [
    "from itertools import chain\n",
    "def appear_all(*t):\n",
    "    return set(t[0]).intersection(*t[1:])\n",
    "\n",
    "def appear_any(*t):\n",
    "    return set(t[0]).union(*t[1:])\n",
    "\n",
    "def appear_at_least_k(k,*lists, remove_duplicates_in_list=False):\n",
    "    if remove_duplicates_in_list:\n",
    "        lists = [set(lis) for lis in lists]\n",
    "    \n",
    "    # # M1: use Counter\n",
    "    # # MM1: convert to one single lists using `itertools.chain`\n",
    "    # counter = Counter(chain(*lists))\n",
    "    \n",
    "    # # MM2: use list comprehension instead\n",
    "    # counter = Counter([ele for lis in lists for ele in lis])\n",
    "    \n",
    "    # # MM3: use Counter.update\n",
    "    # counter = Counter()\n",
    "    # for lis in lists:\n",
    "    #     counter.update(lis)\n",
    "\n",
    "    \n",
    "    # M2: use dict, without Counter\n",
    "    # counter = dict()\n",
    "    # for lis in lists:\n",
    "    #     for ele in lis:\n",
    "    #         counter[ele] = counter.get(ele, 0) + 1\n",
    "    \n",
    "    # return sorted((key, val) for key, val in counter.items() if val>=k)\n",
    "\n",
    "    # -------------------------------- M3: use np -------------------------------- #\n",
    "    lists_flatten=np.hstack(lists) # best method\n",
    "    # lists_flatten=np.hstack([*lists]) # same as np.hstack([lis for lis in lists])\n",
    "    # lists_flatten=np.hstack([np.unique(lis) for lis in t]) if need to remove duplicates. We cannot use np.hstack(*t) here because we need to eliminate the duplicate values of each list\n",
    "    unique, counts = np.unique(lists_flatten, return_counts=True)\n",
    "\n",
    "    index=counts>=k\n",
    "    # return np.vstack((unique[index], counts[index])).T\n",
    "    # return index.sum()  # return only the total number of elements with freq>=k. Or, use np.count_nonzero(index) \n",
    "    # return [pair for pair in zip(unique, counts) if pair[1]>=k] # return as a list\n",
    "    return list(zip(unique[index], counts[index])) # return as a list\n",
    "    # ---------------------------------------------------------------------------- #\n",
    "    \n",
    "    # ------------------------------ M4: use pandas ------------------------------ #\n",
    "    # lists_flatten = np.hstack(lists) # same as np.hstack([lis for lis in lists])\n",
    "    # return pd.Series(lists_flatten).value_counts()[lambda x: x >= k].to_dict()\n",
    "    # ---------------------------------------------------------------------------- #\n",
    "    \n",
    "    \n",
    "    \n",
    "\n",
    "\n",
    "np.random.seed(1)\n",
    "a1=list(np.random.randint(30, size=10**1))\n",
    "a2=list(np.random.randint(30, size=10**1))\n",
    "a3=list(np.random.randint(30, size=10**1))\n",
    "# appear_all(a1,a2,a3)\n",
    "\n",
    "# appear_any(a1,a2,a3)\n",
    "appear_at_least_k(3, a1,a2,a3)"
   ]
  },
  {
   "attachments": {},
   "cell_type": "markdown",
   "metadata": {},
   "source": [
    "## special case: find the intersection of three sequences"
   ]
  },
  {
   "cell_type": "code",
   "execution_count": null,
   "metadata": {},
   "outputs": [],
   "source": [
    "def intersection_three(s1,s2,s3):\n",
    "    # Naive:\n",
    "    # res=[]\n",
    "    # for a in set(s1):\n",
    "    #     for b in s2:\n",
    "    #         for c in s3:\n",
    "    #             if a==b==c:\n",
    "    #                 res.append(a)\n",
    "    # return res\n",
    "\n",
    "\n",
    "    # fast method\n",
    "    res=[]\n",
    "    # changing s1 to set is necessary. THink about: [1,1,2], [1,1,1], [1,1,1] => 1 will be counted multiple times.\n",
    "    # we just need to change s1 to set; no need for s2 and s3\n",
    "    for a in set(s1):\n",
    "        for b in s2:\n",
    "            if a==b:\n",
    "                for c in s3:\n",
    "                    if a==c:\n",
    "                        res.append(a)\n",
    "                        break\n",
    "                break\n",
    "    return res\n",
    "\n",
    "    # method 2. slower\n",
    "    # res=[]\n",
    "    # s2_unique=set(s2)\n",
    "    # s3_unique=set(s3)\n",
    "    # for x in set(s1):\n",
    "    #     if x in s2_unique and x in s3_unique:\n",
    "    #         res.append(a)\n",
    "    # return res\n",
    "\n",
    "# s1=[1,2,3,1,1,3]\n",
    "# s2=[1,1,4,6,4,1,1,3]\n",
    "# s3=[1,1,3,1,7,8]\n",
    "s1=np.random.randint(1000,size=10**7)\n",
    "s2=np.random.randint(1000,size=10**7)\n",
    "s3=np.random.randint(1000,size=10**7)\n",
    "%time intersection_three(s1,s2,s3)"
   ]
  },
  {
   "attachments": {},
   "cell_type": "markdown",
   "metadata": {},
   "source": [
    "## print numbers from a to b, but exclude some given numbers"
   ]
  },
  {
   "cell_type": "code",
   "execution_count": 14,
   "metadata": {},
   "outputs": [
    {
     "name": "stdout",
     "output_type": "stream",
     "text": [
      "2 4 5 6 7 8 9 12 14 15 16 17 18 19 22 24 25 26 27 28 29 "
     ]
    }
   ],
   "source": [
    "def print_nums(a, b, exclude_digits = [0,1,3]):\n",
    "    # version 1: exclude those numbers in exclude_digits\n",
    "    # print(*[i for i in range(a,b+1) if i not in exclude_digits])\n",
    "    \n",
    "    # print all numbers from a to b, inclusive. Exclude those numbers whose last digit is in `exclude`\n",
    "    \n",
    "    # return the numbers as list only\n",
    "    # return [x for x in range(a,b+1) if x%10 not in exclude_digits]\n",
    "    \n",
    "    # print \n",
    "    # print (*[x for x in range(a,b+1) if x%10 not in exclude_digits], sep=' ')\n",
    "    \n",
    "    # recursion\n",
    "    if a>b: return \n",
    "    if a%10 not in exclude_digits:\n",
    "        print(a, end=' ')\n",
    "    print_nums(a+1, b, exclude_digits)\n",
    "    \n",
    "\n",
    "a = 1\n",
    "b = 30\n",
    "print_nums(a, b)"
   ]
  },
  {
   "attachments": {},
   "cell_type": "markdown",
   "metadata": {},
   "source": [
    "## generate a list with some excluded elements"
   ]
  },
  {
   "cell_type": "code",
   "execution_count": 114,
   "metadata": {},
   "outputs": [
    {
     "data": {
      "text/plain": [
       "[0, 5, 6, 7, 8]"
      ]
     },
     "execution_count": 114,
     "metadata": {},
     "output_type": "execute_result"
    }
   ],
   "source": [
    "def range_exclude(n, exclude: list):\n",
    "    # M1: convert to set, then set difference, then convert back to list\n",
    "    return list(set(range(n)).difference(exclude))\n",
    "    # return list(set(range(n))- set(exclude))\n",
    "    \n",
    "    # M2: slow\n",
    "    return [i for i in range(n) if i not in exclude]\n",
    "    \n",
    "range_exclude(10,[2,3,1,4,9])\n"
   ]
  },
  {
   "attachments": {},
   "cell_type": "markdown",
   "metadata": {},
   "source": [
    "## argmax implementation"
   ]
  },
  {
   "cell_type": "code",
   "execution_count": null,
   "metadata": {},
   "outputs": [
    {
     "data": {
      "text/plain": [
       "[1, 3, 4]"
      ]
     },
     "metadata": {},
     "output_type": "display_data"
    }
   ],
   "source": [
    "def argmax(t):\n",
    "    # t can be any sequence\n",
    "    # all methods except the last can return one max index only\n",
    "    \n",
    "    # M0\n",
    "    # max_index = 0\n",
    "    # for i in range(1, len(t)):\n",
    "    #     if t[i] > t[max_index]:\n",
    "    #         max_index = i\n",
    "    # return max_index\n",
    "\n",
    "    # M1: use index method. Works only if t is list or tuple\n",
    "    # return t.index(max(t))\n",
    "\n",
    "    # M2: Very good technique!\n",
    "    # return max((x, i) for i, x in enumerate(t))[1]\n",
    "\n",
    "    # M3: use the `key` parameter of `max`. very good\n",
    "    # return max(range(len(t)), key=lambda i: t[i])\n",
    "    \n",
    "    # M4: return all max indices\n",
    "    max_val = max(t)\n",
    "    return [i for i in range(len(t)) if t[i] == max_val]\n",
    "\n",
    "t=[2,4,5,7,1,2,3,6]\n",
    "t=[1,2,1,2,2]\n",
    "argmax(t)"
   ]
  },
  {
   "attachments": {},
   "cell_type": "markdown",
   "metadata": {},
   "source": [
    "## find max and argmax at the same time\n",
    "if just want to find a single pair, then the fastest is to first find the max index, then retrieve the max val"
   ]
  },
  {
   "cell_type": "code",
   "execution_count": null,
   "metadata": {},
   "outputs": [
    {
     "data": {
      "text/plain": [
       "(2, 1)"
      ]
     },
     "metadata": {},
     "output_type": "display_data"
    }
   ],
   "source": [
    "def max_and_arg(t):\n",
    "    # M0:\n",
    "    # return (max_val, [index1, index2,...])\n",
    "    # max_val = max(t)\n",
    "    # return (max_val, [i for i in range(len(t)) if t[i] == max_val])\n",
    "\n",
    "    # M1\n",
    "    # return a tuple (max, argmax) of t\n",
    "    # M1: argmax is the maximum index\n",
    "    # return max( (x,i)  for i,x in enumerate(t) ) # x is the value, i is the index!\n",
    "\n",
    "    # M2: use index method of tuple\n",
    "    # max_=max(t)\n",
    "    # return max_, t.index(max_)\n",
    "\n",
    "    # M3: use np.argmax\n",
    "    max_index=np.argmax(t)\n",
    "    return t[max_index], max_index\n",
    "    \n",
    "\n",
    "\n",
    "t=[1,2,1,2,2]\n",
    "max_and_arg(t)\n"
   ]
  },
  {
   "attachments": {},
   "cell_type": "markdown",
   "metadata": {},
   "source": [
    "## loop over a range that is the union of two ranges\n",
    "- EX: (1,10,5,20) => range(1,20)\n",
    "- the two ranges may have overlaps\n",
    "- we need to sort the final output"
   ]
  },
  {
   "cell_type": "code",
   "execution_count": 190,
   "metadata": {},
   "outputs": [
    {
     "data": {
      "text/plain": [
       "[4, 5, 6, 7, 8, 9, 22, 23, 24, 25]"
      ]
     },
     "execution_count": 190,
     "metadata": {},
     "output_type": "execute_result"
    },
    {
     "data": {
      "text/plain": [
       "[4, 5, 6, 7, 8, 9]"
      ]
     },
     "execution_count": 190,
     "metadata": {},
     "output_type": "execute_result"
    },
    {
     "data": {
      "text/plain": [
       "[-2, -1, 0, 1, 2, 3, 4, 5, 6, 7, 8, 9, 10]"
      ]
     },
     "execution_count": 190,
     "metadata": {},
     "output_type": "execute_result"
    }
   ],
   "source": [
    "def two_range(i,j,k,w):\n",
    "    # return a list that contains the union of all the numbers in range(i,j) and range(k,w).\n",
    "    # M0: wrong method, because the two ranges may have overlaps: e.g., (1,10,5,8)\n",
    "    # return sorted([i for i in [*range(i,j), *range(k,w)]])\n",
    "\n",
    "    # M1: \n",
    "    # correct, but slow\n",
    "    # return sorted([i for i in {*range(i,j), *range(k,w)}])\n",
    "\n",
    "    # M2:\n",
    "    # form a set first, then sort it \n",
    "    # return sorted({*range(i,j), *range(k,w)})\n",
    "    \n",
    "    # M3:\n",
    "    return sorted(set(range(i,j)).union(range(k,w)))\n",
    "\n",
    "two_range(4,10,22,26) # [4, 5, 6, 7, 8, 9, 22, 23, 24, 25]\n",
    "two_range(4,10,5,9) # [4, 5, 6, 7, 8, 9]\n",
    "two_range(1,10,-2,11) # [-2, -1, 0, 1, 2, 3, 4, 5, 6, 7, 8, 9, 10]"
   ]
  },
  {
   "attachments": {},
   "cell_type": "markdown",
   "metadata": {},
   "source": [
    "## sort two given lists, according to the first\n",
    "- useful when doing line plots, where we need to sort both x and y arrays, according to x"
   ]
  },
  {
   "cell_type": "code",
   "execution_count": 140,
   "metadata": {},
   "outputs": [
    {
     "data": {
      "text/plain": [
       "(-2.3015386968802827, -2.060140709497654)"
      ]
     },
     "execution_count": 140,
     "metadata": {},
     "output_type": "execute_result"
    },
    {
     "data": {
      "text/plain": [
       "(-1.2846004535744158, -1.0286247702934248)"
      ]
     },
     "execution_count": 140,
     "metadata": {},
     "output_type": "execute_result"
    }
   ],
   "source": [
    "np.random.seed(1)\n",
    "x = np.random.normal(size=(100))\n",
    "y = x + 1+np.random.normal(size=(100))/10\n",
    "res = sorted(zip(x,y))\n",
    "\n",
    "x, y = zip(*res)\n",
    "x[:2]\n",
    "y[:2]"
   ]
  },
  {
   "attachments": {},
   "cell_type": "markdown",
   "metadata": {},
   "source": [
    "## convert list of lists into single list"
   ]
  },
  {
   "cell_type": "code",
   "execution_count": 101,
   "metadata": {},
   "outputs": [
    {
     "data": {
      "text/plain": [
       "[1, 2, 3, 4, 5, 6]"
      ]
     },
     "execution_count": 101,
     "metadata": {},
     "output_type": "execute_result"
    }
   ],
   "source": [
    "def to_single_list(t):\n",
    "    # M1: use itertools.chain.from_iterable\n",
    "    # return list(itertools.chain.from_iterable(t)) \n",
    "    \n",
    "    # M2: \n",
    "    return [x for lis in t for x in lis]\n",
    "\n",
    "    # M3: use list.extend or `+`\n",
    "    # res = []\n",
    "    # for lis in t:\n",
    "    #     # res.extend(lis)\n",
    "    #     res += lis\n",
    "    # return res\n",
    "\n",
    "t = [[1, 2], [3, 4], [5, 6]] \n",
    "to_single_list(t)"
   ]
  },
  {
   "attachments": {},
   "cell_type": "markdown",
   "metadata": {},
   "source": [
    "## arithmetic series: sum to a particular number"
   ]
  },
  {
   "cell_type": "code",
   "execution_count": null,
   "metadata": {},
   "outputs": [],
   "source": [
    "def sum_to_end(start=2, end=1000, step=3):\n",
    "    \"\"\"calculate the sum from `start` to `end`, with step size = `step`\n",
    "\n",
    "    Args:\n",
    "        start (int, optional):  Defaults to 2.\n",
    "        end (int, optional):  Defaults to 1000.\n",
    "        step (int, optional):  Defaults to 3.\n",
    "\n",
    "    Returns:\n",
    "        int: the required sum\n",
    "    \"\"\"    \n",
    "    # Method 1: C++-like solution using for loop\n",
    "    ans=0\n",
    "    for i in range(start,end,step):\n",
    "        ans+=i\n",
    "    return ans\n",
    "\n",
    "    # Method 2: pythonic solution\n",
    "    return sum(range(2, 1000, 3))\n",
    "\n",
    "    # Method 3: by the formula for sum of arthemetic series. Fastest.\n",
    "    n_terms=(end-start)//step + 1\n",
    "    return n_terms/2 * (2*start+step*(n_terms-1))\n",
    "\n",
    "# test code\n",
    "sum_to_end() "
   ]
  },
  {
   "attachments": {},
   "cell_type": "markdown",
   "metadata": {},
   "source": [
    "## build frequency distribution"
   ]
  },
  {
   "cell_type": "code",
   "execution_count": 3,
   "metadata": {},
   "outputs": [
    {
     "name": "stdout",
     "output_type": "stream",
     "text": [
      "c: 1\n",
      "d: 1\n",
      "e: 1\n",
      "f: 1\n",
      "v: 1\n"
     ]
    },
    {
     "data": {
      "text/plain": [
       "{1: 3, 2: 3, 'abc': 1, 'b': 1}"
      ]
     },
     "execution_count": 3,
     "metadata": {},
     "output_type": "execute_result"
    }
   ],
   "source": [
    "def freq_dist(s):\n",
    "    # input `s` can be any sequence, not only string!\n",
    "\n",
    "    # M0. Naive\n",
    "    # res={}\n",
    "    # for c in s: \n",
    "    #     if c in res:\n",
    "    #         res[c]+=1\n",
    "    #     else:\n",
    "    #         res[c]=1\n",
    "    # return res\n",
    "\n",
    "    # M2: use dict.get or dict.setdefault\n",
    "    res={}\n",
    "    for c in s:\n",
    "        res[c]=res.get(c,0)+1\n",
    "        # res[c]=res.setdefault(c,0)+1\n",
    "    return res\n",
    "\n",
    "    # M3: use Counter\n",
    "    # from collections import Counter \n",
    "    # return Counter(s)\n",
    "\n",
    "    # M4: comprehension, and set + {str, list}.count. Set is used to make code faster \n",
    "    # NOTE: it requires the data structure has implemented `.count` method!\n",
    "    # return {c: s.count(c) for c in set(s)}\n",
    "\n",
    "def print_freq_dist(d):\n",
    "    for key, val in sorted(d.items()):\n",
    "        print(f'{key}: {val}')\n",
    "\n",
    "    # alternatively\n",
    "    # for key in sorted(d):\n",
    "    #     print(f'{key}: {d[key]}')\n",
    "    \n",
    "    \n",
    "\n",
    "s='defvc'\n",
    "freq_dist(s)\n",
    "print_freq_dist(freq_dist(s))\n",
    "t=[1,2,2,1,2,1,'b',\"abc\"]\n",
    "freq_dist(t)\n",
    "        "
   ]
  },
  {
   "attachments": {},
   "cell_type": "markdown",
   "metadata": {},
   "source": [
    "## given a dict, find the key that corresponds to the largest value \n",
    "- if value is frequency, then find the one with max frequency\n",
    "- better to convert the dict to Counter, then use `.most_common(1)[0]`"
   ]
  },
  {
   "cell_type": "code",
   "execution_count": 37,
   "metadata": {},
   "outputs": [
    {
     "data": {
      "text/plain": [
       "(0, 4)"
      ]
     },
     "execution_count": 37,
     "metadata": {},
     "output_type": "execute_result"
    }
   ],
   "source": [
    "def largest_value(d):\n",
    "    # return the entire (key,value) pair\n",
    "    # return max(d.items(), key=lambda t: t[1])\n",
    "    \n",
    "    # return the key only\n",
    "    return max(d.keys(), key=lambda x: d[x])\n",
    "    # return max(d.items(), key=lambda t: t[1])[0]\n",
    "    \n",
    "    # use Counter\n",
    "    return Counter(d).most_common(1)[0]\n",
    "\n",
    "d={0: 4, 1: 3, 2: 3, -1: 2}\n",
    "largest_value(d)"
   ]
  },
  {
   "attachments": {},
   "cell_type": "markdown",
   "metadata": {},
   "source": [
    "## given a dict, reverse the mapping\n",
    "- `d = {1:2, 2:2, 3:4} `\n",
    "- `output = {2:[1,2], 4:3}`"
   ]
  },
  {
   "cell_type": "code",
   "execution_count": 140,
   "metadata": {},
   "outputs": [
    {
     "data": {
      "text/plain": [
       "{2: [1, 2], 4: 3}"
      ]
     },
     "execution_count": 140,
     "metadata": {},
     "output_type": "execute_result"
    }
   ],
   "source": [
    "def reverse_dict(d):\n",
    "    # res = dict()\n",
    "    # for key, val in d.items():\n",
    "    #     res[val] = res.get(val, []) + [key] \n",
    "    # return res\n",
    "\n",
    "    # M2: can give single value as a scalar, not list\n",
    "    res = dict()\n",
    "    for key, val in d.items():\n",
    "        if val in res:\n",
    "            if isinstance(res[val], int):\n",
    "                # print(\"helo\")\n",
    "                res[val] = [res[val], key]\n",
    "            else:\n",
    "                res[val].append(key)\n",
    "        else:\n",
    "            res[val] = key\n",
    "    return res\n",
    "\n",
    "d = {1:2, 2:2, 3:4}\n",
    "reverse_dict(d)"
   ]
  },
  {
   "attachments": {},
   "cell_type": "markdown",
   "metadata": {},
   "source": [
    "## reverse lookup: given a dict and a value, find all the keys that map to it\n",
    "- originally, given a key, find its value\n",
    "- now, given a value, find the keys"
   ]
  },
  {
   "cell_type": "code",
   "execution_count": 144,
   "metadata": {},
   "outputs": [
    {
     "name": "stdout",
     "output_type": "stream",
     "text": [
      "['c', 'd']\n",
      "[]\n"
     ]
    }
   ],
   "source": [
    "def reverse_lookup(d, lookup_val):\n",
    "    return [key for key, val in d.items() if val == lookup_val]\n",
    "    # res = []\n",
    "    # for key, val in d.items():\n",
    "    #     if val == lookup_val:\n",
    "    #         res.append(key)\n",
    "    # return res \n",
    "\n",
    "d=dict(a=1,b=2,c=3,d=3)\n",
    "print(reverse_lookup(d,3)) # ['c', 'd']\n",
    "# print(reverse_lookup(d,4, default=-2)) # -2\n",
    "print(reverse_lookup(d,4)) # -2"
   ]
  },
  {
   "attachments": {},
   "cell_type": "markdown",
   "metadata": {},
   "source": [
    "## find most frequent value in a list"
   ]
  },
  {
   "cell_type": "code",
   "execution_count": 163,
   "metadata": {},
   "outputs": [
    {
     "data": {
      "text/plain": [
       "[1, 2]"
      ]
     },
     "execution_count": 163,
     "metadata": {},
     "output_type": "execute_result"
    }
   ],
   "source": [
    "def most_frequent(t):\n",
    "    # M0: use t.count (https://bit.ly/2QHgL7q)\n",
    "    # in 0th iteration: t[0] will be pass to t.count => find t.count(t[0])\n",
    "    # return max(t, key = t.count)\n",
    "\n",
    "    # M1: M0, with set() to improve efficiencys\n",
    "    # return max(set(t), key = t.count)\n",
    "\n",
    "    # M2: Counter\n",
    "    # freq_count=Counter(t)\n",
    "    # return max(freq_count, key= lambda key: freq_count[key])\n",
    "\n",
    "    # M3: use the most_common method of Counter\n",
    "    # return Counter(t).most_common(1)[0][0]\n",
    "\n",
    "    # M3.5: return all most frequent values. First find the maximum occurrence\n",
    "    freq_count=Counter(t)\n",
    "    max_val =  max(freq_count.values())\n",
    "    return [key for key, val in freq_count.items() if val == max_val]\n",
    "    # res=[]\n",
    "    # for key in freq_count.keys():\n",
    "    #     if freq_count[key] == max(freq_count.values()):\n",
    "    #         res.append(key)\n",
    "    # return res\n",
    "\n",
    "    # M4: use np.unique\n",
    "    val, count = np.unique(t, return_counts=True)\n",
    "    return val[count==np.max(count)] # return all most frequent\n",
    "\n",
    "    return val[np.argmax(count)] # return only one of the most frequent\n",
    "\n",
    "    # Naive: build a list first\n",
    "    res={}\n",
    "    for x in set(t):\n",
    "        res[x]=t.count(x)\n",
    "    print(res)\n",
    "    return max(res.keys(), key=lambda x: res[x])\n",
    "\n",
    "t=[1,1,1,2,2,2,-1,-1,0]\n",
    "most_frequent(t)"
   ]
  },
  {
   "attachments": {},
   "cell_type": "markdown",
   "metadata": {},
   "source": [
    "## palindrome\n",
    "- a word, phrase, or sequence that reads the same backwards as forwards, e.g. madam or nurses run\n",
    "- stack method: the middle+1 element should be the same as middle-1 elements"
   ]
  },
  {
   "cell_type": "code",
   "execution_count": 166,
   "metadata": {},
   "outputs": [
    {
     "data": {
      "text/plain": [
       "[True, False, True, False]"
      ]
     },
     "execution_count": 166,
     "metadata": {},
     "output_type": "execute_result"
    }
   ],
   "source": [
    "def is_palindrome(x):\n",
    "    # slow\n",
    "    # return list(reversed(x)) == list(x)\n",
    "    \n",
    "    return all(x==y for x,y in zip(reversed(x), x))\n",
    "\n",
    "    return x[::-1]\n",
    "\n",
    "\n",
    "\n",
    "[is_palindrome(x) for x in ['refer', '112', [1,3,1], np.arange(4)]]"
   ]
  },
  {
   "cell_type": "code",
   "execution_count": null,
   "metadata": {},
   "outputs": [
    {
     "data": {
      "text/plain": [
       "[True, False, True, False]"
      ]
     },
     "metadata": {},
     "output_type": "display_data"
    }
   ],
   "source": [
    "def is_palindrome(x):\n",
    "    # x is a sequence, not necessarily a string!\n",
    "    # M1: Most efficient method. Also works only for sequence, since reversed requires a sequence\n",
    "    return all(x == y for x, y in zip(x, reversed(x)))\n",
    "    # return not any(x!=y for x,y in zip(seq, reversed(seq))) # another way; derived by logic rules\n",
    "    \n",
    "    # M2:\n",
    "    return list(x) == list(reversed(x))\n",
    "\n",
    "    # M3: Less efficient, because we need to generate the whole t[::-1] first. Also, it works only when t is sequence. In particular, this method does not work for ndarray, since == is meant to be element-wise comparison.\n",
    "    return x == x[::-1]\n",
    "\n",
    "    # M4: use a stack. This method is needed when we find the longest palindrome of a string!\n",
    "    # e.g., s = 'abba'\n",
    "    # mid = 2, stack = [ab]\n",
    "    # c should go from 2 til end\n",
    "    # x = 'abc' => stack =[a]\n",
    "    # x = 'abcd' => stack =[ab]\n",
    "    mid = (n:=len(s))//2\n",
    "    stack = list(s[:mid])\n",
    "    # if n is odd, we should ignore the middle char!\n",
    "    for c in s[mid if n%2==0 else mid+1:]: \n",
    "        if stack.pop() != c:\n",
    "            return False\n",
    "    return True\n",
    "\n",
    "    # M5: (bad)\n",
    "    # for i in range(len(seq)):\n",
    "    #     if(seq[i]!=seq[-i-1]): return False\n",
    "    # return True\n",
    "    \n",
    "    # wrong method\n",
    "    # return seq==reversed(seq) # we cannot do the following, because comparison must be of the same type. If not, then the comparison must be false!!!\n",
    "\n",
    "[is_palindrome(x) for x in ['refer', '112', [1,3,1], np.arange(4)]]"
   ]
  },
  {
   "cell_type": "code",
   "execution_count": null,
   "metadata": {},
   "outputs": [
    {
     "data": {
      "text/plain": [
       "False"
      ]
     },
     "metadata": {},
     "output_type": "display_data"
    },
    {
     "data": {
      "text/plain": [
       "True"
      ]
     },
     "metadata": {},
     "output_type": "display_data"
    }
   ],
   "source": [
    "def is_palindrome_num(x):\n",
    "    # non-recursive solution\n",
    "    if x<0: return False # by def, negative numbers are not panlindrome\n",
    "    return reverse_num(x) == x # using a function is better. Otherwise, we need to create a clone of input x, since we would have modified its value!\n",
    "\n",
    "    # M2\n",
    "    \"\"\" palindrome for integer \"\"\"\n",
    "    if x<=9: return True   \n",
    "    n_digit=n_digit_rec(x)\n",
    "    \n",
    "    leftmost_digit=x//(10**(n_digit-1))\n",
    "    rightmost_digit=x%10\n",
    "    x_reduced= x - leftmost_digit*10**(n_digit-1)\n",
    "    x_reduced//=10\n",
    "    # print(x_reduced, leftmost_digit, rightmost_digit)\n",
    "    return leftmost_digit==rightmost_digit and palindrome(x_reduced)\n",
    "\n",
    "is_palindrome_num(122121)\n",
    "is_palindrome_num(1221)"
   ]
  },
  {
   "attachments": {},
   "cell_type": "markdown",
   "metadata": {},
   "source": [
    "## check whether all elements of a sequence are distinct (i.e., unique)"
   ]
  },
  {
   "cell_type": "code",
   "execution_count": null,
   "metadata": {},
   "outputs": [
    {
     "data": {
      "text/plain": [
       "False"
      ]
     },
     "metadata": {},
     "output_type": "display_data"
    },
    {
     "data": {
      "text/plain": [
       "True"
      ]
     },
     "metadata": {},
     "output_type": "display_data"
    },
    {
     "data": {
      "text/plain": [
       "True"
      ]
     },
     "metadata": {},
     "output_type": "display_data"
    },
    {
     "data": {
      "text/plain": [
       "True"
      ]
     },
     "metadata": {},
     "output_type": "display_data"
    },
    {
     "data": {
      "text/plain": [
       "False"
      ]
     },
     "metadata": {},
     "output_type": "display_data"
    }
   ],
   "source": [
    "def all_unique(s):\n",
    "    # check whether the elements in s (a sequence) are unique\n",
    "    # M1. Faster\n",
    "    # return len(set(s)) == len(s)\n",
    "\n",
    "    # M2. Use sorting as subroutine. O(nlogn). This method is interesting\n",
    "    temp = sorted(s)\n",
    "    return all(s[cur] != s[cur+1] for cur in range(len(temp)-1))\n",
    "\n",
    "all_unique([2,2,1,3])\n",
    "all_unique([2,1,3])\n",
    "all_unique([2,1,3,4])\n",
    "all_unique([2,1,3,4,5])\n",
    "all_unique([2,1,3,4,5,5])"
   ]
  },
  {
   "attachments": {},
   "cell_type": "markdown",
   "metadata": {},
   "source": [
    "## count the number of unique (distinct) elements of an iterable"
   ]
  },
  {
   "cell_type": "code",
   "execution_count": null,
   "metadata": {},
   "outputs": [
    {
     "data": {
      "text/plain": [
       "4"
      ]
     },
     "metadata": {},
     "output_type": "display_data"
    },
    {
     "data": {
      "text/plain": [
       "4"
      ]
     },
     "metadata": {},
     "output_type": "display_data"
    }
   ],
   "source": [
    "def count_unique(t):\n",
    "    # # M1: always works, even when t contains unhashable elements\n",
    "    # t_unique = []\n",
    "    # for x in t:\n",
    "    #     if x not in t_unique:\n",
    "    #         t_unique.append(x)\n",
    "    # return len(t_unique)\n",
    "\n",
    "    # # M2: this method doesn't work when t contains unhashable items, such as a list\n",
    "    # return len(set(t))\n",
    "\n",
    "    # M3: only works if container contain hashable items only\n",
    "    return len(Counter(t))\n",
    "    \n",
    "    # M4: use np.unique then return the size attribute\n",
    "    # Works with ndarray, since unique method can be used when ndim>1. Doesn't work with string\n",
    "    # return np.unique(t).size\n",
    "    \n",
    "t=[1,2,3,4,3,3,3]\n",
    "# t2=[1,2,3,4,[1,2,3]]\n",
    "s=\"AAaaBb\"\n",
    "a_3d=np.random.randint(20,size=(3,4,5)) \n",
    "\n",
    "count_unique(t)\n",
    "# count_unique(t2)\n",
    "count_unique(s)\n"
   ]
  },
  {
   "attachments": {},
   "cell_type": "markdown",
   "metadata": {},
   "source": [
    "# combination problems"
   ]
  },
  {
   "attachments": {},
   "cell_type": "markdown",
   "metadata": {},
   "source": [
    "## find r-combinations"
   ]
  },
  {
   "cell_type": "code",
   "execution_count": 62,
   "metadata": {},
   "outputs": [
    {
     "name": "stdout",
     "output_type": "stream",
     "text": [
      "len(res) = 3\n"
     ]
    },
    {
     "data": {
      "text/plain": [
       "[(1, 2), (1, 3), (2, 3)]"
      ]
     },
     "execution_count": 62,
     "metadata": {},
     "output_type": "execute_result"
    }
   ],
   "source": [
    "def comb_2(t):\n",
    "    res = [(t[i],t[j]) for i in range(len(t)) for j in range(i+1, len(t))]\n",
    "    print(f\"{len(res) = }\")\n",
    "    return res \n",
    "\n",
    "comb_2([1,2,3])"
   ]
  },
  {
   "cell_type": "code",
   "execution_count": 81,
   "metadata": {},
   "outputs": [
    {
     "name": "stdout",
     "output_type": "stream",
     "text": [
      "5 2\n",
      "4 1\n",
      "3 0\n",
      "3 1\n",
      "2 0\n",
      "2 1\n",
      "1 0\n",
      "1 1\n",
      "4 2\n",
      "3 1\n",
      "2 0\n",
      "2 1\n",
      "1 0\n",
      "1 1\n",
      "3 2\n",
      "2 1\n",
      "1 0\n",
      "1 1\n",
      "2 2\n"
     ]
    },
    {
     "data": {
      "text/plain": [
       "[[1, 2],\n",
       " [1, 3],\n",
       " [1, 4],\n",
       " [1, 5],\n",
       " [2, 3],\n",
       " [2, 4],\n",
       " [2, 5],\n",
       " [3, 4],\n",
       " [3, 5],\n",
       " [4, 5]]"
      ]
     },
     "execution_count": 81,
     "metadata": {},
     "output_type": "execute_result"
    }
   ],
   "source": [
    "def combs(t, r):\n",
    "    # M1: use combinations function in itertools\n",
    "    from itertools import combinations \n",
    "    return list(combinations(t,r)) # the function returns an iterator. If returning a list is required, use list()\n",
    "    \n",
    "    # M2: use Pascal identity. That is, the last element is either chosen or not chosen. \n",
    "    # choose last element or not?\n",
    "    # nCr = (n-1)C(r-1) + (n-1)Cr\n",
    "    return combs_aux(t,len(t), r)\n",
    "\n",
    "def combs_aux(t, n, r):\n",
    "    if r ==0: return [[]]\n",
    "    if r==n: return [t[:n]]\n",
    "    return sorted([s + [t[n-1]] for s in combs_aux(t, n-1, r-1) ] + combs_aux(t, n-1, r))\n",
    "s=[1,2,3,4,5]\n",
    "print(combs(s,3))\n",
    "# [(1, 2, 3), (1, 2, 4), (1, 2, 5), (1, 3, 4), (1, 3, 5), (1, 4, 5), (2, 3, 4), (2, 3, 5), (2, 4, 5), (3, 4, 5)]"
   ]
  },
  {
   "attachments": {},
   "cell_type": "markdown",
   "metadata": {},
   "source": [
    "## find powerset"
   ]
  },
  {
   "attachments": {},
   "cell_type": "markdown",
   "metadata": {},
   "source": [
    "# string manipulation\n",
    "- remember that to change to upper/lower letter for a given x, first express x in terms of 'a'. I.e., x = 'a'+ ?, for some ?. Then X = 'A'+?  (X represents the upper letter). So, \n",
    "X='A'+x-'a'\n",
    "- `str.join` is to convert the given sequence to a list"
   ]
  },
  {
   "cell_type": "code",
   "execution_count": 9,
   "metadata": {},
   "outputs": [
    {
     "data": {
      "text/plain": [
       "'eriwofjiorejKLKLM FEKFKEM E#$%^'"
      ]
     },
     "execution_count": 9,
     "metadata": {},
     "output_type": "execute_result"
    }
   ],
   "source": [
    "s = 'ERIWOFJIOREJklklm fekfkem e#$%^'\n",
    "s.swapcase()\n",
    "''.join(\n",
    "    chr(ord(c) - ord('a') + ord('A')) if c.islower() else chr(ord(c) - ord('A') + ord('a')) if c.isupper() else c for c in s\n",
    "    )\n",
    "        "
   ]
  },
  {
   "attachments": {},
   "cell_type": "markdown",
   "metadata": {},
   "source": [
    "## make a dict with {1:'a', ..., 26:'z'}"
   ]
  },
  {
   "cell_type": "code",
   "execution_count": 15,
   "metadata": {},
   "outputs": [
    {
     "name": "stdout",
     "output_type": "stream",
     "text": [
      "{1: 'a', 2: 'b', 3: 'c', 4: 'd', 5: 'e', 6: 'f', 7: 'g', 8: 'h', 9: 'i', 10: 'j', 11: 'k', 12: 'l', 13: 'm', 14: 'n', 15: 'o', 16: 'p', 17: 'q', 18: 'r', 19: 's', 20: 't', 21: 'u', 22: 'v', 23: 'w', 24: 'x', 25: 'y', 26: 'z'}\n"
     ]
    }
   ],
   "source": [
    "print(dict(zip(range(1,27), ''.join(chr(ord('a') + i) for i in range(26)))))"
   ]
  },
  {
   "attachments": {},
   "cell_type": "markdown",
   "metadata": {},
   "source": [
    "## swap cases for alphabets"
   ]
  },
  {
   "cell_type": "code",
   "execution_count": 12,
   "metadata": {},
   "outputs": [
    {
     "data": {
      "text/plain": [
       "'eriwofjiorejKLKLM FEKFKEM E#$%^'"
      ]
     },
     "execution_count": 12,
     "metadata": {},
     "output_type": "execute_result"
    }
   ],
   "source": [
    "s = 'ERIWOFJIOREJklklm fekfkem e#$%^'\n",
    "\n",
    "# M1: use existing method\n",
    "s.swapcase()\n",
    "\n",
    "# M2: self-defined function\n",
    "# alternatively, use `s.upper()` and `s.lower()`\n",
    "def swapcase_(c):\n",
    "    low_to_up = - ord('a') + ord('A')\n",
    "    return (\n",
    "        chr(ord(c) + low_to_up) if c.islower() \n",
    "        else chr(ord(c) - low_to_up) if c.isupper()\n",
    "        else c\n",
    "        )\n",
    "    # return (\n",
    "    #     chr(ord(c) - ord('a') + ord('A')) if 'a'<=c<='z' \n",
    "    #     else chr(ord(c) - ord('A') + ord('a')) if 'A'<=c<='Z' \n",
    "    #     else c\n",
    "    #     )\n",
    "''.join(swapcase_(c) for c in s)"
   ]
  },
  {
   "attachments": {},
   "cell_type": "markdown",
   "metadata": {},
   "source": [
    "## count how many lower and upper english letters"
   ]
  },
  {
   "cell_type": "code",
   "execution_count": 90,
   "metadata": {},
   "outputs": [
    {
     "data": {
      "text/plain": [
       "(22, 15)"
      ]
     },
     "execution_count": 90,
     "metadata": {},
     "output_type": "execute_result"
    }
   ],
   "source": [
    "def string_summary(s):\n",
    "    # M1: use a list such that res[0] = # low letter, res[1] = # up letter, res[2] = others\n",
    "    # res = [0,0,0]\n",
    "    # for c in s:\n",
    "    #     res[0 if c.islower() else 1 if c.isupper() else 2] +=1\n",
    "    # return res[0], res[1]\n",
    "\n",
    "    # M2:\n",
    "    n_up = n_low = 0\n",
    "    for c in s:\n",
    "        if 'a'<=c<='z': # DON'T use ord() to convert to integer!!!!!!\n",
    "            n_low += 1\n",
    "        elif 'A'<=c<='Z':\n",
    "            n_up += 1\n",
    "    return n_low, n_up\n",
    "\n",
    "    # best: use dict\n",
    "    \n",
    "    # res = dict.fromkeys(['up', 'low', 'non_alpha'], 0)\n",
    "    # for c in s:\n",
    "    #     # bad method:\n",
    "    #     # if c.isupper():\n",
    "    #     #     res['up'] += 1\n",
    "    #     # elif c.islower():\n",
    "    #     #     res['low'] += 1\n",
    "    #     # else:\n",
    "    #     #     res['non_alpha'] += 1\n",
    "        \n",
    "    #     # good method\n",
    "    #     res['up' if c.isupper() else 'low' if c.islower() else 'non_alpha'] += 1\n",
    "    # return res\n",
    "\n",
    "string_summary('frnekfneEWKKNEWIONFIONKdaa23456789#$%^&*dfghjkcvbnm')"
   ]
  },
  {
   "attachments": {},
   "cell_type": "markdown",
   "metadata": {},
   "source": [
    "## use `join` to create a string with all English letters"
   ]
  },
  {
   "cell_type": "code",
   "execution_count": 111,
   "metadata": {},
   "outputs": [
    {
     "data": {
      "text/plain": [
       "'abcdefghijklmnopqrstuvwxyz'"
      ]
     },
     "execution_count": 111,
     "metadata": {},
     "output_type": "execute_result"
    },
    {
     "data": {
      "text/plain": [
       "'aAbBcCdDeEfFgGhHiIjJkKlLmMnNoOpPqQrRsStTuUvVwWxXyYzZ'"
      ]
     },
     "execution_count": 111,
     "metadata": {},
     "output_type": "execute_result"
    },
    {
     "data": {
      "text/plain": [
       "'abcdefghijklmnopqrstuvwxyzABCDEFGHIJKLMNOPQRSTUVWXYZ'"
      ]
     },
     "execution_count": 111,
     "metadata": {},
     "output_type": "execute_result"
    },
    {
     "data": {
      "text/plain": [
       "'aAbBcCdDeEfFgGhHiIjJkKlLmMnNoOpPqQrRsStTuUvVwWxXyYzZ'"
      ]
     },
     "execution_count": 111,
     "metadata": {},
     "output_type": "execute_result"
    }
   ],
   "source": [
    "# low\n",
    "low = [chr(i) for i in range(ord('a'), ord('z')+1)]\n",
    "\n",
    "# up\n",
    "up = [chr(ord('A')+i) for i in range(26)]\n",
    "\n",
    "# all english letters, up and low\n",
    "all = [chr(i) for i in list(range(ord('a'), ord('z')+1)) + list(range(ord('A'), ord('Z')+1))]\n",
    "all = [x for i in range(26) for x in [chr(ord('a')+i), chr(ord('A')+i)]] # good method. This allows us to create two characters in each iteration!\n",
    "\n",
    "# convert to string\n",
    "''.join(low)\n",
    "\n",
    "# generate aAbBcC...\n",
    "''.join(x+X for x, X in zip(low, up))\n",
    "\n",
    "# M2: use map \n",
    "low_letter=''.join(map(chr, range(ord('a'),ord('z')+1)))\n",
    "up_letter=''.join(map(chr, range(ord('A'),ord('Z')+1)))\n",
    "low_letter+up_letter\n",
    "''.join(map(lambda t: t[0]+t[1],zip(low_letter, up_letter)))\n"
   ]
  },
  {
   "attachments": {},
   "cell_type": "markdown",
   "metadata": {},
   "source": [
    "## generate alphabet string with offset (i.e., start not from 'a') and output size\n",
    "- if exceed output size, then print characters circularly!"
   ]
  },
  {
   "cell_type": "code",
   "execution_count": 6,
   "metadata": {},
   "outputs": [
    {
     "data": {
      "text/plain": [
       "'cdefghijkl'"
      ]
     },
     "execution_count": 6,
     "metadata": {},
     "output_type": "execute_result"
    },
    {
     "data": {
      "text/plain": [
       "'klmnopqrstuvwxyzabcdefghijklmn'"
      ]
     },
     "execution_count": 6,
     "metadata": {},
     "output_type": "execute_result"
    },
    {
     "data": {
      "text/plain": [
       "'KLMNOPQRSTUVWXYZABCDEFGHIJKLMN'"
      ]
     },
     "execution_count": 6,
     "metadata": {},
     "output_type": "execute_result"
    }
   ],
   "source": [
    "def gen_alphabet(offset , n_char, upper=False, circular=True):\n",
    "    # offset = 0 => start from 'a'/'A'\n",
    "    \n",
    "    start = 'A' if upper else 'a'\n",
    "    return ''.join(chr((ord(start) + i%26)) for i in range(offset, offset+n_char))\n",
    "\n",
    "gen_alphabet(2, 10)  # 'cdefghijkl'\n",
    "gen_alphabet(10, 30)  # 'cdefghijkl'\n",
    "gen_alphabet(10, 30, upper=True)  # 'cdefghijkl'\n",
    "        "
   ]
  },
  {
   "attachments": {},
   "cell_type": "markdown",
   "metadata": {},
   "source": [
    "## anagram\n",
    "- Two strings are anagram if they contain the same characters but the order of the characters may be different. For example, 'abcde' and 'deabc' are anagram. \n",
    "- remember in the anagram problem, we don't need to create two frequency distribution! Just deduct frequency of 2nd one from the 1st one!!"
   ]
  },
  {
   "cell_type": "code",
   "execution_count": 7,
   "metadata": {},
   "outputs": [
    {
     "name": "stdout",
     "output_type": "stream",
     "text": [
      "Counter({'b': 0, 'a': 0})\n"
     ]
    },
    {
     "data": {
      "text/plain": [
       "True"
      ]
     },
     "execution_count": 7,
     "metadata": {},
     "output_type": "execute_result"
    },
    {
     "name": "stdout",
     "output_type": "stream",
     "text": [
      "Counter({'a': 0, 'b': 0, 'c': 0, 'd': 0, 'e': 0})\n"
     ]
    },
    {
     "data": {
      "text/plain": [
       "True"
      ]
     },
     "execution_count": 7,
     "metadata": {},
     "output_type": "execute_result"
    },
    {
     "name": "stdout",
     "output_type": "stream",
     "text": [
      "Counter({'a': 0, 'b': 0, 'c': 0, 'e': 0, 'd': -1})\n"
     ]
    },
    {
     "data": {
      "text/plain": [
       "False"
      ]
     },
     "execution_count": 7,
     "metadata": {},
     "output_type": "execute_result"
    },
    {
     "name": "stdout",
     "output_type": "stream",
     "text": [
      "Counter({'d': 1, 'e': 0, 'a': 0, 'b': 0, 'c': 0})\n"
     ]
    },
    {
     "data": {
      "text/plain": [
       "False"
      ]
     },
     "execution_count": 7,
     "metadata": {},
     "output_type": "execute_result"
    }
   ],
   "source": [
    "def freq_dist(s):\n",
    "    res={}\n",
    "    for c in s:\n",
    "        res[c]=res.get(c, 0)+1\n",
    "    return res\n",
    "\n",
    "def is_anagram(a,b):\n",
    "    # check if strings a and b are anagram\n",
    "\n",
    "    # wrong method: change them to sets, then check whether the two sets are the same. Recall that set eliminates duplicates. if a='aaa', b='aa', it will still return True..\n",
    "    # return set(a)==set(b)\n",
    "\n",
    "    # M1: easiest: use Counter\n",
    "    # return Counter(a)==Counter(b)\n",
    "\n",
    "    # M2: build freq distribution ourselves\n",
    "    # return freq_dist(a)==freq_dist(b)\n",
    "\n",
    "    # M3: sorting first\n",
    "    # return sorted(a)==sorted(b)\n",
    "    \n",
    "    # M4: optimization: build one freq distribution only. Then decrease the count for each char in another string, and check if char has frequency 0\n",
    "    # freq=freq_dist(a)\n",
    "    freq=Counter(a)\n",
    "    for c in b:\n",
    "        freq[c]=freq.get(c,0)-1\n",
    "    print(freq)\n",
    "    return all(val==0 for val in freq.values())\n",
    "\n",
    "    # M5: M4, but with further optimization\n",
    "    # freq=freq_dist(a)\n",
    "    # for c in b:\n",
    "    #     freq[c]=freq.get(c,0)-1\n",
    "    #     if freq[c]<0: return False\n",
    "\n",
    "    # we've ensured that no entries with value<0\n",
    "    # for c in a:\n",
    "    #     if freq[c]!=0: return False\n",
    "    # return True\n",
    "    \n",
    "a='bab'\n",
    "b='bab'\n",
    "is_anagram(a,b)\n",
    "is_anagram('abcde', 'deabc')\n",
    "is_anagram('abce', 'deabc')\n",
    "is_anagram('deabc', 'abce')"
   ]
  },
  {
   "attachments": {},
   "cell_type": "markdown",
   "metadata": {},
   "source": [
    "## check if a string contains all the characters of another test string\n",
    "- basically, check whether a set is a subset of another"
   ]
  },
  {
   "cell_type": "code",
   "execution_count": 99,
   "metadata": {},
   "outputs": [
    {
     "name": "stdout",
     "output_type": "stream",
     "text": [
      "True\n",
      "True\n",
      "True\n",
      "True\n",
      "False\n",
      "True\n",
      "True\n"
     ]
    }
   ],
   "source": [
    "def contain(s, test):\n",
    "    # M1\n",
    "    # for c in test:\n",
    "    #     if c not in s:\n",
    "    #         return False\n",
    "    # return True \n",
    "    \n",
    "    # M2\n",
    "    return (set(s) >= set(test))\n",
    "\n",
    "\n",
    "print(contain('abc','ab')) # True\n",
    "print(contain(\"abc\",'a')) # True\n",
    "print(contain(\"abc\",'bc')) # True\n",
    "print(contain(\"abc\",'abc')) # True\n",
    "print(contain(\"abc\",'axc')) # False\n",
    "print(contain(\"abc\",'cab')) # True\n",
    "print(contain(\"abc\",'cabbbbb')) # True"
   ]
  },
  {
   "cell_type": "code",
   "execution_count": 173,
   "metadata": {},
   "outputs": [
    {
     "name": "stdout",
     "output_type": "stream",
     "text": [
      "True\n",
      "True\n",
      "True\n",
      "True\n",
      "False\n",
      "True\n",
      "True\n"
     ]
    }
   ],
   "source": [
    "def contain(s, test):\n",
    "    # check if s >= test\n",
    "    # check if s contains all the characters of `test`\n",
    "        # if so, then `test` is a subset of `s`\n",
    "    # check if c in s, for all c in test\n",
    "    \n",
    "    # M1: use `>=`\n",
    "    # return set(s) >= set(test)\n",
    "    \n",
    "    # M2: use `issubset`\n",
    "    return set(test).issubset(s)\n",
    "\n",
    "    # M3: naive\n",
    "    # for c in test:\n",
    "    #     if c not in s:\n",
    "    #         return False\n",
    "    # return True \n",
    "\n",
    "print(contain('abc','ab')) # True\n",
    "print(contain(\"abc\",'a')) # True\n",
    "print(contain(\"abc\",'bc')) # True\n",
    "print(contain(\"abc\",'abc')) # True\n",
    "print(contain(\"abc\",'axc')) # False\n",
    "print(contain(\"abc\",'cab')) # True\n",
    "print(contain(\"abc\",'cabbbbb')) # True"
   ]
  }
 ],
 "metadata": {
  "kernelspec": {
   "display_name": "Python 3.10.4 ('data_science')",
   "language": "python",
   "name": "python3"
  },
  "language_info": {
   "codemirror_mode": {
    "name": "ipython",
    "version": 3
   },
   "file_extension": ".py",
   "mimetype": "text/x-python",
   "name": "python",
   "nbconvert_exporter": "python",
   "pygments_lexer": "ipython3",
   "version": "3.10.4"
  },
  "orig_nbformat": 4,
  "vscode": {
   "interpreter": {
    "hash": "ae74f9feb07f97b665e59d852dca9947bf3c6be9bdf551f43d711a8fd00af3ab"
   }
  }
 },
 "nbformat": 4,
 "nbformat_minor": 2
}
