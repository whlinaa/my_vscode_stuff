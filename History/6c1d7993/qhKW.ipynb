{
 "cells": [
  {
   "cell_type": "markdown",
   "metadata": {},
   "source": [
    "# Auto insurance. Interview questions"
   ]
  },
  {
   "cell_type": "code",
   "execution_count": 1,
   "metadata": {},
   "outputs": [
    {
     "name": "stdout",
     "output_type": "stream",
     "text": [
      "calling ds_preamble..\n",
      "calling ds_helper...\n"
     ]
    }
   ],
   "source": [
    "# from ds_preamble import *\n",
    "# import numpy as np\n",
    "# import pandas as pd\n",
    "# pd.set_option('display.max_rows',85)\n",
    "# pd.set_option('display.max_columns',85)\n",
    "# from sklearn.linear_model import LinearRegression\n",
    "# import matplotlib.pyplot as plt\n",
    "# from IPython.core.interactiveshell import InteractiveShell; InteractiveShell.ast_node_interactivity = \"all\"\n",
    "\n",
    "from ds_utils.ds_preamble import *\n",
    "from ds_utils.ds_plotting import *\n",
    "from ds_utils.ds_helper import *"
   ]
  },
  {
   "cell_type": "code",
   "execution_count": 2,
   "metadata": {},
   "outputs": [
    {
     "name": "stdout",
     "output_type": "stream",
     "text": [
      "<class 'pandas.core.frame.DataFrame'>\n",
      "RangeIndex: 67856 entries, 0 to 67855\n",
      "Data columns (total 10 columns):\n",
      " #   Column         Non-Null Count  Dtype  \n",
      "---  ------         --------------  -----  \n",
      " 0   vehicle_value  67062 non-null  float64\n",
      " 1   exposure       67856 non-null  float64\n",
      " 2   claim          67856 non-null  int64  \n",
      " 3   claim_count    67856 non-null  int64  \n",
      " 4   claim_cost     67856 non-null  float64\n",
      " 5   vehicle_type   67856 non-null  object \n",
      " 6   vehicle_age    67185 non-null  float64\n",
      " 7   owner_gender   67856 non-null  object \n",
      " 8   owner_area     67856 non-null  object \n",
      " 9   owner_age      66289 non-null  float64\n",
      "dtypes: float64(5), int64(2), object(3)\n",
      "memory usage: 5.2+ MB\n"
     ]
    },
    {
     "data": {
      "text/html": [
       "<div>\n",
       "<style scoped>\n",
       "    .dataframe tbody tr th:only-of-type {\n",
       "        vertical-align: middle;\n",
       "    }\n",
       "\n",
       "    .dataframe tbody tr th {\n",
       "        vertical-align: top;\n",
       "    }\n",
       "\n",
       "    .dataframe thead th {\n",
       "        text-align: right;\n",
       "    }\n",
       "</style>\n",
       "<table border=\"1\" class=\"dataframe\">\n",
       "  <thead>\n",
       "    <tr style=\"text-align: right;\">\n",
       "      <th></th>\n",
       "      <th>vehicle_value</th>\n",
       "      <th>exposure</th>\n",
       "      <th>claim</th>\n",
       "      <th>claim_count</th>\n",
       "      <th>claim_cost</th>\n",
       "      <th>vehicle_type</th>\n",
       "      <th>vehicle_age</th>\n",
       "      <th>owner_gender</th>\n",
       "      <th>owner_area</th>\n",
       "      <th>owner_age</th>\n",
       "    </tr>\n",
       "  </thead>\n",
       "  <tbody>\n",
       "    <tr>\n",
       "      <th>0</th>\n",
       "      <td>10600.0</td>\n",
       "      <td>0.303901</td>\n",
       "      <td>0</td>\n",
       "      <td>0</td>\n",
       "      <td>0.000000</td>\n",
       "      <td>HBACK</td>\n",
       "      <td>3.0</td>\n",
       "      <td>F</td>\n",
       "      <td>C</td>\n",
       "      <td>2.0</td>\n",
       "    </tr>\n",
       "    <tr>\n",
       "      <th>1</th>\n",
       "      <td>10300.0</td>\n",
       "      <td>0.648871</td>\n",
       "      <td>0</td>\n",
       "      <td>0</td>\n",
       "      <td>0.000000</td>\n",
       "      <td>HBACK</td>\n",
       "      <td>2.0</td>\n",
       "      <td>F</td>\n",
       "      <td>A</td>\n",
       "      <td>4.0</td>\n",
       "    </tr>\n",
       "    <tr>\n",
       "      <th>2</th>\n",
       "      <td>32600.0</td>\n",
       "      <td>0.569473</td>\n",
       "      <td>0</td>\n",
       "      <td>0</td>\n",
       "      <td>0.000000</td>\n",
       "      <td>UTE</td>\n",
       "      <td>2.0</td>\n",
       "      <td>F</td>\n",
       "      <td>E</td>\n",
       "      <td>2.0</td>\n",
       "    </tr>\n",
       "    <tr>\n",
       "      <th>3</th>\n",
       "      <td>41400.0</td>\n",
       "      <td>0.317591</td>\n",
       "      <td>0</td>\n",
       "      <td>0</td>\n",
       "      <td>0.000000</td>\n",
       "      <td>STNWG</td>\n",
       "      <td>2.0</td>\n",
       "      <td>F</td>\n",
       "      <td>D</td>\n",
       "      <td>2.0</td>\n",
       "    </tr>\n",
       "    <tr>\n",
       "      <th>4</th>\n",
       "      <td>7200.0</td>\n",
       "      <td>0.648871</td>\n",
       "      <td>0</td>\n",
       "      <td>0</td>\n",
       "      <td>0.000000</td>\n",
       "      <td>HBACK</td>\n",
       "      <td>4.0</td>\n",
       "      <td>F</td>\n",
       "      <td>C</td>\n",
       "      <td>2.0</td>\n",
       "    </tr>\n",
       "    <tr>\n",
       "      <th>...</th>\n",
       "      <td>...</td>\n",
       "      <td>...</td>\n",
       "      <td>...</td>\n",
       "      <td>...</td>\n",
       "      <td>...</td>\n",
       "      <td>...</td>\n",
       "      <td>...</td>\n",
       "      <td>...</td>\n",
       "      <td>...</td>\n",
       "      <td>...</td>\n",
       "    </tr>\n",
       "    <tr>\n",
       "      <th>67851</th>\n",
       "      <td>10700.0</td>\n",
       "      <td>0.654346</td>\n",
       "      <td>0</td>\n",
       "      <td>0</td>\n",
       "      <td>0.000000</td>\n",
       "      <td>SEDAN</td>\n",
       "      <td>2.0</td>\n",
       "      <td>M</td>\n",
       "      <td>A</td>\n",
       "      <td>6.0</td>\n",
       "    </tr>\n",
       "    <tr>\n",
       "      <th>67852</th>\n",
       "      <td>12300.0</td>\n",
       "      <td>0.908966</td>\n",
       "      <td>0</td>\n",
       "      <td>0</td>\n",
       "      <td>0.000000</td>\n",
       "      <td>SEDAN</td>\n",
       "      <td>4.0</td>\n",
       "      <td>M</td>\n",
       "      <td>C</td>\n",
       "      <td>3.0</td>\n",
       "    </tr>\n",
       "    <tr>\n",
       "      <th>67853</th>\n",
       "      <td>19300.0</td>\n",
       "      <td>0.312115</td>\n",
       "      <td>0</td>\n",
       "      <td>0</td>\n",
       "      <td>0.000000</td>\n",
       "      <td>STNWG</td>\n",
       "      <td>4.0</td>\n",
       "      <td>M</td>\n",
       "      <td>C</td>\n",
       "      <td>3.0</td>\n",
       "    </tr>\n",
       "    <tr>\n",
       "      <th>67854</th>\n",
       "      <td>9700.0</td>\n",
       "      <td>0.320329</td>\n",
       "      <td>1</td>\n",
       "      <td>1</td>\n",
       "      <td>7646.769989</td>\n",
       "      <td>HBACK</td>\n",
       "      <td>3.0</td>\n",
       "      <td>F</td>\n",
       "      <td>C</td>\n",
       "      <td>2.0</td>\n",
       "    </tr>\n",
       "    <tr>\n",
       "      <th>67855</th>\n",
       "      <td>10200.0</td>\n",
       "      <td>0.246407</td>\n",
       "      <td>0</td>\n",
       "      <td>0</td>\n",
       "      <td>0.000000</td>\n",
       "      <td>HBACK</td>\n",
       "      <td>3.0</td>\n",
       "      <td>M</td>\n",
       "      <td>A</td>\n",
       "      <td>1.0</td>\n",
       "    </tr>\n",
       "  </tbody>\n",
       "</table>\n",
       "<p>67856 rows × 10 columns</p>\n",
       "</div>"
      ],
      "text/plain": [
       "       vehicle_value  exposure  claim  claim_count   claim_cost vehicle_type  \\\n",
       "0            10600.0  0.303901      0            0     0.000000        HBACK   \n",
       "1            10300.0  0.648871      0            0     0.000000        HBACK   \n",
       "2            32600.0  0.569473      0            0     0.000000          UTE   \n",
       "3            41400.0  0.317591      0            0     0.000000        STNWG   \n",
       "4             7200.0  0.648871      0            0     0.000000        HBACK   \n",
       "...              ...       ...    ...          ...          ...          ...   \n",
       "67851        10700.0  0.654346      0            0     0.000000        SEDAN   \n",
       "67852        12300.0  0.908966      0            0     0.000000        SEDAN   \n",
       "67853        19300.0  0.312115      0            0     0.000000        STNWG   \n",
       "67854         9700.0  0.320329      1            1  7646.769989        HBACK   \n",
       "67855        10200.0  0.246407      0            0     0.000000        HBACK   \n",
       "\n",
       "       vehicle_age owner_gender owner_area  owner_age  \n",
       "0              3.0            F          C        2.0  \n",
       "1              2.0            F          A        4.0  \n",
       "2              2.0            F          E        2.0  \n",
       "3              2.0            F          D        2.0  \n",
       "4              4.0            F          C        2.0  \n",
       "...            ...          ...        ...        ...  \n",
       "67851          2.0            M          A        6.0  \n",
       "67852          4.0            M          C        3.0  \n",
       "67853          4.0            M          C        3.0  \n",
       "67854          3.0            F          C        2.0  \n",
       "67855          3.0            M          A        1.0  \n",
       "\n",
       "[67856 rows x 10 columns]"
      ]
     },
     "execution_count": 2,
     "metadata": {},
     "output_type": "execute_result"
    }
   ],
   "source": [
    "df = pd.read_csv('data.csv')\n",
    "df.info()\n",
    "\n",
    "df\n"
   ]
  },
  {
   "cell_type": "code",
   "execution_count": 3,
   "metadata": {},
   "outputs": [
    {
     "data": {
      "text/plain": [
       "owner_age        0.023093\n",
       "vehicle_value    0.011701\n",
       "vehicle_age      0.009889\n",
       "dtype: float64"
      ]
     },
     "execution_count": 3,
     "metadata": {},
     "output_type": "execute_result"
    },
    {
     "data": {
      "text/plain": [
       "owner_age        0.023093\n",
       "vehicle_value    0.011701\n",
       "vehicle_age      0.009889\n",
       "dtype: float64"
      ]
     },
     "execution_count": 3,
     "metadata": {},
     "output_type": "execute_result"
    }
   ],
   "source": [
    "# M1: find columns with na first\n",
    "cols_na = df.columns[df.isna().any()]\n",
    "df.loc[:, cols_na].isna().mean().sort_values(ascending=False)\n",
    "\n",
    "# M2:\n",
    "df.isna().mean().sort_values(ascending=False)[lambda x: x>0]"
   ]
  },
  {
   "cell_type": "code",
   "execution_count": 4,
   "metadata": {},
   "outputs": [
    {
     "data": {
      "text/plain": [
       "vehicle_value    float64\n",
       "exposure         float64\n",
       "claim              int64\n",
       "claim_count        int64\n",
       "claim_cost       float64\n",
       "vehicle_type      object\n",
       "vehicle_age      float64\n",
       "owner_gender      object\n",
       "owner_area        object\n",
       "owner_age        float64\n",
       "dtype: object"
      ]
     },
     "execution_count": 4,
     "metadata": {},
     "output_type": "execute_result"
    }
   ],
   "source": [
    "df.dtypes"
   ]
  },
  {
   "cell_type": "code",
   "execution_count": 5,
   "metadata": {},
   "outputs": [
    {
     "data": {
      "text/plain": [
       "owner_area\n",
       "F    202.131412\n",
       "Name: claim_cost, dtype: float64"
      ]
     },
     "execution_count": 5,
     "metadata": {},
     "output_type": "execute_result"
    }
   ],
   "source": [
    "k = 3\n",
    "top_k_vehicle_types = df.vehicle_type.value_counts().nlargest(k).index\n",
    "# top_k_vehicle_types\n",
    "# df.query(\"vehicle_type in @top_k_vehicle_types\").vehicle_type.unique() # sanity check \n",
    "# df.query(\"vehicle_type in @top_k_vehicle_types\").groupby('owner_area').claim_cost.mean()\n",
    "df.query(\"vehicle_type in @top_k_vehicle_types\").groupby('owner_area').claim_cost.mean().nlargest(1)"
   ]
  },
  {
   "cell_type": "code",
   "execution_count": 6,
   "metadata": {},
   "outputs": [],
   "source": [
    "# df.fillna('median').dtypes\n",
    "# df.fillna(df.median()).dtypes"
   ]
  },
  {
   "cell_type": "code",
   "execution_count": 7,
   "metadata": {},
   "outputs": [
    {
     "data": {
      "text/plain": [
       "vehicle_value    float64\n",
       "exposure         float64\n",
       "claim              int64\n",
       "claim_count        int64\n",
       "claim_cost       float64\n",
       "vehicle_type      object\n",
       "vehicle_age      float64\n",
       "owner_gender      object\n",
       "owner_area        object\n",
       "owner_age        float64\n",
       "dtype: object"
      ]
     },
     "execution_count": 7,
     "metadata": {},
     "output_type": "execute_result"
    },
    {
     "name": "stderr",
     "output_type": "stream",
     "text": [
      "/var/folders/c2/yj8ksjmn34v5f9csr1s82d8r0000gn/T/ipykernel_1244/123711194.py:2: FutureWarning: Dropping of nuisance columns in DataFrame reductions (with 'numeric_only=None') is deprecated; in a future version this will raise TypeError.  Select only valid columns before calling the reduction.\n",
      "  df = df.fillna(df.median())\n"
     ]
    }
   ],
   "source": [
    "df.dtypes\n",
    "df = df.fillna(df.median())\n",
    "# (df.vehicle_value == 'median').sum()"
   ]
  },
  {
   "cell_type": "code",
   "execution_count": 8,
   "metadata": {},
   "outputs": [
    {
     "data": {
      "text/plain": [
       "SEDAN       22200\n",
       "HBACK       18892\n",
       "STNWG       16244\n",
       "UTE          4580\n",
       "OTHER        2532\n",
       "TRUCK        1749\n",
       "HDTOP        1577\n",
       "sedan          27\n",
       "hback          20\n",
       "stnwg          12\n",
       "ute             6\n",
       "STNWG/          2\n",
       "hdtop           2\n",
       "SEDAN&&         2\n",
       "SEDAN@          2\n",
       "STNWG^          1\n",
       "SEDAN#.         1\n",
       "truck           1\n",
       "STNWG.49        1\n",
       "STNWG@          1\n",
       "HBACK#.         1\n",
       "SEDAN.49        1\n",
       "HBACK.49        1\n",
       "HBACK@          1\n",
       "Name: vehicle_type, dtype: int64"
      ]
     },
     "execution_count": 8,
     "metadata": {},
     "output_type": "execute_result"
    },
    {
     "name": "stderr",
     "output_type": "stream",
     "text": [
      "/var/folders/c2/yj8ksjmn34v5f9csr1s82d8r0000gn/T/ipykernel_1244/2196178579.py:2: FutureWarning: The default value of regex will change from True to False in a future version.\n",
      "  corrected = df.vehicle_type.str.upper().str.replace('[^A-Z]', '')\n"
     ]
    },
    {
     "data": {
      "text/plain": [
       "SEDAN    22233\n",
       "HBACK    18915\n",
       "STNWG    16261\n",
       "UTE       4586\n",
       "OTHER     2532\n",
       "TRUCK     1750\n",
       "HDTOP     1579\n",
       "Name: vehicle_type, dtype: int64"
      ]
     },
     "execution_count": 8,
     "metadata": {},
     "output_type": "execute_result"
    }
   ],
   "source": [
    "df.vehicle_type.value_counts()\n",
    "corrected = df.vehicle_type.str.upper().str.replace('[^A-Z]', '')\n",
    "df['vehicle_type'] = corrected\n",
    "df.vehicle_type.value_counts()"
   ]
  },
  {
   "cell_type": "code",
   "execution_count": 9,
   "metadata": {},
   "outputs": [
    {
     "data": {
      "text/plain": [
       "vehicle_value    float64\n",
       "exposure         float64\n",
       "claim              int64\n",
       "claim_count        int64\n",
       "claim_cost       float64\n",
       "vehicle_type      object\n",
       "vehicle_age      float64\n",
       "owner_gender      object\n",
       "owner_area        object\n",
       "owner_age        float64\n",
       "dtype: object"
      ]
     },
     "execution_count": 9,
     "metadata": {},
     "output_type": "execute_result"
    }
   ],
   "source": [
    "df.dtypes"
   ]
  },
  {
   "cell_type": "code",
   "execution_count": 10,
   "metadata": {},
   "outputs": [],
   "source": [
    "df['vehicle_value_cat'] = pd.cut(df.vehicle_value, [0,20_000, 60_000, 100_000, np.inf], right=False, labels=['LOW', 'MIDDLE', 'HIGH', 'VHIGH'])"
   ]
  },
  {
   "cell_type": "code",
   "execution_count": 39,
   "metadata": {},
   "outputs": [],
   "source": [
    "cols_unwanted = ['claim','exposure','claim_count']\n",
    "cols_to_use = df.select_dtypes('number').columns.drop(cols_unwanted) # use use difference\n",
    "df_to_use = df[cols_to_use]\n",
    "df[cols_to_use] = (df_to_use - df_to_use.mean())/df_to_use.std()\n"
   ]
  },
  {
   "cell_type": "code",
   "execution_count": 74,
   "metadata": {},
   "outputs": [
    {
     "name": "stdout",
     "output_type": "stream",
     "text": [
      "<class 'pandas.core.frame.DataFrame'>\n",
      "RangeIndex: 67856 entries, 0 to 67855\n",
      "Data columns (total 26 columns):\n",
      " #   Column                    Non-Null Count  Dtype  \n",
      "---  ------                    --------------  -----  \n",
      " 0   vehicle_value             67856 non-null  float64\n",
      " 1   exposure                  67856 non-null  float64\n",
      " 2   claim                     67856 non-null  int64  \n",
      " 3   claim_count               67856 non-null  int64  \n",
      " 4   claim_cost                67856 non-null  float64\n",
      " 5   vehicle_age               67856 non-null  float64\n",
      " 6   owner_age                 67856 non-null  float64\n",
      " 7   vehicle_type_HBACK        67856 non-null  uint8  \n",
      " 8   vehicle_type_HDTOP        67856 non-null  uint8  \n",
      " 9   vehicle_type_OTHER        67856 non-null  uint8  \n",
      " 10  vehicle_type_SEDAN        67856 non-null  uint8  \n",
      " 11  vehicle_type_STNWG        67856 non-null  uint8  \n",
      " 12  vehicle_type_TRUCK        67856 non-null  uint8  \n",
      " 13  vehicle_type_UTE          67856 non-null  uint8  \n",
      " 14  owner_gender_F            67856 non-null  uint8  \n",
      " 15  owner_gender_M            67856 non-null  uint8  \n",
      " 16  owner_area_A              67856 non-null  uint8  \n",
      " 17  owner_area_B              67856 non-null  uint8  \n",
      " 18  owner_area_C              67856 non-null  uint8  \n",
      " 19  owner_area_D              67856 non-null  uint8  \n",
      " 20  owner_area_E              67856 non-null  uint8  \n",
      " 21  owner_area_F              67856 non-null  uint8  \n",
      " 22  vehicle_value_cat_LOW     67856 non-null  uint8  \n",
      " 23  vehicle_value_cat_MIDDLE  67856 non-null  uint8  \n",
      " 24  vehicle_value_cat_HIGH    67856 non-null  uint8  \n",
      " 25  vehicle_value_cat_VHIGH   67856 non-null  uint8  \n",
      "dtypes: float64(5), int64(2), uint8(19)\n",
      "memory usage: 4.9 MB\n"
     ]
    },
    {
     "data": {
      "text/plain": [
       "0.2612698578366076"
      ]
     },
     "execution_count": 74,
     "metadata": {},
     "output_type": "execute_result"
    },
    {
     "data": {
      "text/plain": [
       "0.19634795994380794"
      ]
     },
     "execution_count": 74,
     "metadata": {},
     "output_type": "execute_result"
    },
    {
     "data": {
      "text/plain": [
       "<seaborn.axisgrid.FacetGrid at 0x13ed9e940>"
      ]
     },
     "execution_count": 74,
     "metadata": {},
     "output_type": "execute_result"
    },
    {
     "data": {
      "image/png": "[encoded data removed]",
      "text/plain": [
       "<Figure size 360x360 with 1 Axes>"
      ]
     },
     "metadata": {},
     "output_type": "display_data"
    }
   ],
   "source": [
    "df.info()\n",
    "df = pd.get_dummies(df)\n",
    "\n",
    "X=df.drop(columns='claim_cost')\n",
    "y=df.claim_cost\n",
    "\n",
    "X_train, X_test, y_train, y_test = train_test_split(X,y, test_size=0.3, random_state=123)\n",
    "\n",
    "model = DecisionTreeRegressor().fit(X_train,y_train)\n",
    "model.score(X_train,y_train)\n",
    "model.score(X_test,y_test)\n",
    "\n",
    "y_pred = model.predict(X_test)\n",
    "sns.relplot(x=y_test, y=y_pred, kind='scatter').set(ylabel='predicted', xlabel='true')"
   ]
  }
 ],
 "metadata": {
  "interpreter": {
   "hash": "ae74f9feb07f97b665e59d852dca9947bf3c6be9bdf551f43d711a8fd00af3ab"
  },
  "kernelspec": {
   "display_name": "Python 3.9.7 64-bit ('data_science': conda)",
   "language": "python",
   "name": "python3"
  },
  "language_info": {
   "codemirror_mode": {
    "name": "ipython",
    "version": 3
   },
   "file_extension": ".py",
   "mimetype": "text/x-python",
   "name": "python",
   "nbconvert_exporter": "python",
   "pygments_lexer": "ipython3",
   "version": "3.9.7"
  },
  "orig_nbformat": 4
 },
 "nbformat": 4,
 "nbformat_minor": 2
}
